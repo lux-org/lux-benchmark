{
 "cells": [
  {
   "cell_type": "code",
   "execution_count": 1,
   "metadata": {},
   "outputs": [
    {
     "name": "stdout",
     "output_type": "stream",
     "text": [
      "/Users/dorislee/Desktop/Research/lux/lux\n"
     ]
    },
    {
     "data": {
      "text/plain": [
       "['~/Desktop/Research/lux/lux-benchmark/accuracy']"
      ]
     },
     "execution_count": 1,
     "metadata": {},
     "output_type": "execute_result"
    }
   ],
   "source": [
    "pushd  ../../lux"
   ]
  },
  {
   "cell_type": "code",
   "execution_count": 2,
   "metadata": {},
   "outputs": [],
   "source": [
    "import lux\n",
    "import pandas as pd"
   ]
  },
  {
   "cell_type": "code",
   "execution_count": 3,
   "metadata": {},
   "outputs": [
    {
     "name": "stdout",
     "output_type": "stream",
     "text": [
      "/Users/dorislee/Desktop/Research/lux/lux-benchmark/accuracy\n",
      "popd -> ~/Desktop/Research/lux/lux-benchmark/accuracy\n"
     ]
    }
   ],
   "source": [
    "popd"
   ]
  },
  {
   "cell_type": "code",
   "execution_count": 4,
   "metadata": {},
   "outputs": [],
   "source": [
    "df = pd.read_csv(\"../../lux-datasets/data/airbnb_nyc.csv\")"
   ]
  },
  {
   "cell_type": "code",
   "execution_count": 5,
   "metadata": {},
   "outputs": [
    {
     "name": "stderr",
     "output_type": "stream",
     "text": [
      "/Users/dorislee/Desktop/Research/lux/lux/lux/executor/PandasExecutor.py:396: UserWarning:\n",
      "Lux detects that the attribute 'last_review' may be temporal.\n",
      "To display visualizations for these attributes accurately, please convert temporal attributes to Pandas Datetime objects using the pd.to_datetime function and provide a 'format' parameter to specify the datetime format of the attribute.\n",
      "For example, you can convert a year-only attribute (e.g., 1998, 1971, 1982) to Datetime type by specifying the `format` as '%Y'.\n",
      "\n",
      "Here is a starter template that you can use for converting the temporal fields:\n",
      "\tdf['last_review'] = pd.to_datetime(df['last_review'], format='<replace-with-datetime-format>')\n",
      "\n",
      "See more at: https://pandas.pydata.org/pandas-docs/stable/reference/api/pandas.to_datetime.html\n"
     ]
    }
   ],
   "source": [
    "all_recs1 = df.recommendation\n",
    "l1 = all_recs1[\"Correlation\"]\n",
    "l1_scores= [vis.score for vis in l1] "
   ]
  },
  {
   "cell_type": "code",
   "execution_count": 31,
   "metadata": {},
   "outputs": [],
   "source": [
    "def get_hash(vis:lux.vis.Vis)-> str:\n",
    "    # Get the visualization hash for a Vis object\n",
    "    # Vis(...) --> 'Vis  (x: reviews_per_month, y: number_of_reviews)'\n",
    "    vis_hash = vis.__repr__()\n",
    "    return vis_hash.split(\"mark\")[0][1:-1]"
   ]
  },
  {
   "cell_type": "code",
   "execution_count": 7,
   "metadata": {},
   "outputs": [],
   "source": [
    "def convert_vlist_to_hashmap(vlist):\n",
    "    # Convert VisList to dictionary representation\n",
    "    # {'Vis  (x: ..., y: ...)': 0.55,\n",
    "    #  'Vis  (x: ..., y: ...)': 0.22,\n",
    "    #   ...}\n",
    "    vdict = {}\n",
    "    for vis in vlist:\n",
    "        vdict[get_hash(vis)]=vis.score\n",
    "    return vdict"
   ]
  },
  {
   "cell_type": "code",
   "execution_count": 8,
   "metadata": {},
   "outputs": [],
   "source": [
    "map1 = convert_vlist_to_hashmap(l1)"
   ]
  },
  {
   "cell_type": "code",
   "execution_count": 12,
   "metadata": {},
   "outputs": [],
   "source": [
    "lux.config.sampling_start=1000\n",
    "lux.config.sampling_cap=1000"
   ]
  },
  {
   "cell_type": "code",
   "execution_count": 13,
   "metadata": {},
   "outputs": [],
   "source": [
    "df = pd.read_csv(\"../../lux-datasets/data/airbnb_nyc.csv\")"
   ]
  },
  {
   "cell_type": "code",
   "execution_count": 14,
   "metadata": {},
   "outputs": [
    {
     "name": "stderr",
     "output_type": "stream",
     "text": [
      "/Users/dorislee/Desktop/Research/lux/lux/lux/executor/PandasExecutor.py:396: UserWarning:\n",
      "Lux detects that the attribute 'last_review' may be temporal.\n",
      "To display visualizations for these attributes accurately, please convert temporal attributes to Pandas Datetime objects using the pd.to_datetime function and provide a 'format' parameter to specify the datetime format of the attribute.\n",
      "For example, you can convert a year-only attribute (e.g., 1998, 1971, 1982) to Datetime type by specifying the `format` as '%Y'.\n",
      "\n",
      "Here is a starter template that you can use for converting the temporal fields:\n",
      "\tdf['last_review'] = pd.to_datetime(df['last_review'], format='<replace-with-datetime-format>')\n",
      "\n",
      "See more at: https://pandas.pydata.org/pandas-docs/stable/reference/api/pandas.to_datetime.html\n"
     ]
    }
   ],
   "source": [
    "all_recs2 = df.recommendation\n",
    "l2 = all_recs2[\"Correlation\"]\n",
    "l2_scores= [vis.score for vis in l2] "
   ]
  },
  {
   "cell_type": "code",
   "execution_count": 15,
   "metadata": {},
   "outputs": [],
   "source": [
    "map2 = convert_vlist_to_hashmap(l2)"
   ]
  },
  {
   "cell_type": "code",
   "execution_count": 16,
   "metadata": {},
   "outputs": [],
   "source": [
    "# Combine two dictionaries map1,map2 into a single global_map\n",
    "global_map = set(map1.keys())\n",
    "global_map.update(set(map2.keys()))\n",
    "global_map = list(global_map)"
   ]
  },
  {
   "cell_type": "code",
   "execution_count": 17,
   "metadata": {},
   "outputs": [],
   "source": [
    "def get_aligned_dict(vdict,global_map):\n",
    "    # Align each vdict based on global map\n",
    "    aligned_dict = {}\n",
    "    for vis in global_map: \n",
    "        if vis in vdict:\n",
    "            aligned_dict[vis] = vdict[vis]\n",
    "        else:\n",
    "            aligned_dict[vis] = 0\n",
    "    return aligned_dict"
   ]
  },
  {
   "cell_type": "code",
   "execution_count": 18,
   "metadata": {},
   "outputs": [],
   "source": [
    "aligned_score1 = list(get_aligned_dict(map1,global_map).values())\n",
    "aligned_score2 = list(get_aligned_dict(map2,global_map).values())"
   ]
  },
  {
   "cell_type": "code",
   "execution_count": 19,
   "metadata": {},
   "outputs": [
    {
     "name": "stdout",
     "output_type": "stream",
     "text": [
      "[0.1549660456513047, 0.22353268112451927, 0.18529648835900278, 0, 0.07353391911130251, 0, 0.14948361961918694, 0.08001873902011758, 0.5523251276922889, 0.13909879991644414, 0.07646134642069562, 0.12384225515403763, 0.11485253583270018, 0.08100472040464925, 0, 0.17183135618414175, 0.08438800885276339, 0.11436329320441341]\n",
      "[0.09451102052982349, 0.20082318605690364, 0.19016713526380277, 0.17815544514759957, 0, 0.09136079805796612, 0.2249326664201778, 0.08638548507827103, 0.5418055143452527, 0.1847275230884106, 0.1454363645849904, 0.2053266446950923, 0.09656250622578202, 0, 0.10682804392248306, 0.1452131486772297, 0, 0.18404539359844904]\n"
     ]
    }
   ],
   "source": [
    "print(aligned_score1)\n",
    "print(aligned_score2)"
   ]
  },
  {
   "cell_type": "code",
   "execution_count": 20,
   "metadata": {},
   "outputs": [],
   "source": [
    "from scipy.stats import stats"
   ]
  },
  {
   "cell_type": "code",
   "execution_count": 21,
   "metadata": {},
   "outputs": [],
   "source": [
    "rank1 = stats.rankdata(aligned_score1)\n",
    "rank2 =stats.rankdata(aligned_score2)"
   ]
  },
  {
   "cell_type": "code",
   "execution_count": 22,
   "metadata": {},
   "outputs": [],
   "source": [
    "# from lux.utils.utils import get_filter_specs\n",
    "# def equals(self,other):\n",
    "#     x_equals = clause_equals(self.get_attr_by_channel(\"x\")[0],other.get_attr_by_channel(\"x\")[0])\n",
    "#     y_equals = clause_equals(self.get_attr_by_channel(\"y\")[0],other.get_attr_by_channel(\"y\")[0])\n",
    "#     if (len(self.get_attr_by_channel(\"color\"))>0):\n",
    "#         color_equals = clause_equals(self.get_attr_by_channel(\"color\")[0],other.get_attr_by_channel(\"color\")[0])\n",
    "#     else:\n",
    "#         color_equals = True\n",
    "#     filter_equals = get_filter_specs(self.intent) == get_filter_specs(other.intent)\n",
    "#     mark_equals = self.mark == other.mark\n",
    "#     #print (x_equals,y_equals,color_equals,filter_equals)\n",
    "#     return x_equals and y_equals and color_equals and filter_equals and mark_equals\n",
    "\n",
    "# def clause_equals(self, other):\n",
    "#     props = ['aggregation', 'attribute', 'bin_size', 'channel', 'description', 'exclude', 'filter_op', 'sort', 'value', 'weight']\n",
    "#     flag = True\n",
    "#     for prop in props:\n",
    "#         eq = getattr(self,prop) == getattr(other,prop)\n",
    "#         flag=flag and eq\n",
    "#     return flag\n",
    "\n",
    "# equals(l1[0],l2[0])"
   ]
  },
  {
   "cell_type": "code",
   "execution_count": 25,
   "metadata": {},
   "outputs": [],
   "source": [
    "import numpy as np\n",
    "def dcg(r, k, method=0,debug=False):\n",
    "    # alternative formulation of DCG places stronger emphasis on retrieving relevant documents\n",
    "    r = np.asfarray(r)[:k]\n",
    "    val = 0\n",
    "    for i in range(1,len(r)+1):\n",
    "        val+= (r[i-1]) / np.log2(i+1)\n",
    "        if debug:\n",
    "            print (\"i=\",i,\":\",(r[i-1]) ,\"/\", np.log2(i+1))\n",
    "            print ((r[i-1]) / np.log2(i+1))\n",
    "    return val\n",
    "\n",
    "def ndcg(ground_truth_r,r, k,debug=False):\n",
    "    return dcg(r, k,debug=debug) / dcg(ground_truth_r,k,debug=debug)"
   ]
  },
  {
   "cell_type": "code",
   "execution_count": 28,
   "metadata": {},
   "outputs": [
    {
     "data": {
      "text/plain": [
       "0.8138473582262048"
      ]
     },
     "execution_count": 28,
     "metadata": {},
     "output_type": "execute_result"
    }
   ],
   "source": [
    "ndcg(aligned_score1,aligned_score2,3) "
   ]
  },
  {
   "cell_type": "code",
   "execution_count": 30,
   "metadata": {},
   "outputs": [
    {
     "data": {
      "text/plain": [
       "0.6864291267112796"
      ]
     },
     "execution_count": 30,
     "metadata": {},
     "output_type": "execute_result"
    }
   ],
   "source": [
    "# if we only care about ranks`\n",
    "ndcg(rank1,rank2,3) "
   ]
  },
  {
   "cell_type": "code",
   "execution_count": 66,
   "metadata": {},
   "outputs": [],
   "source": [
    "ground_truth_ratings = [1,2,3,4,5,6]\n",
    "example_ratings = [3,2,3,0,1,2]\n",
    "ideal_ordering = [3,3,3,2,2,2,1,0]\n",
    "assert np.isclose(dcg(example_ratings,6),6.861,1e-2) #check DCG calculation (Based on Wikipedia example)\n",
    "assert np.isclose(ndcg(ideal_ordering,[3,2,3,0,1,2],6),0.785,1e-2) #check NDCG calculation (Based on Wikipedia example)\n",
    "assert np.isclose(ndcg([3,1,2],[3, 1, 2],3),1) #sanity check"
   ]
  }
 ],
 "metadata": {
  "kernelspec": {
   "display_name": "Python 3",
   "language": "python",
   "name": "python3"
  },
  "language_info": {
   "codemirror_mode": {
    "name": "ipython",
    "version": 3
   },
   "file_extension": ".py",
   "mimetype": "text/x-python",
   "name": "python",
   "nbconvert_exporter": "python",
   "pygments_lexer": "ipython3",
   "version": "3.7.7"
  }
 },
 "nbformat": 4,
 "nbformat_minor": 4
}
