{
 "cells": [
  {
   "cell_type": "code",
   "execution_count": 1,
   "metadata": {},
   "outputs": [
    {
     "name": "stdout",
     "output_type": "stream",
     "text": [
      "/Users/dorislee/Desktop/Research/lux/lux\n"
     ]
    },
    {
     "data": {
      "text/plain": [
       "['~/Desktop/Research/lux/lux-benchmark/accuracy']"
      ]
     },
     "execution_count": 1,
     "metadata": {},
     "output_type": "execute_result"
    }
   ],
   "source": [
    "pushd  ../../lux"
   ]
  },
  {
   "cell_type": "code",
   "execution_count": 2,
   "metadata": {},
   "outputs": [],
   "source": [
    "import lux\n",
    "import pandas as pd"
   ]
  },
  {
   "cell_type": "code",
   "execution_count": 3,
   "metadata": {},
   "outputs": [
    {
     "name": "stdout",
     "output_type": "stream",
     "text": [
      "/Users/dorislee/Desktop/Research/lux/lux-benchmark/accuracy\n",
      "popd -> ~/Desktop/Research/lux/lux-benchmark/accuracy\n"
     ]
    }
   ],
   "source": [
    "popd"
   ]
  },
  {
   "cell_type": "code",
   "execution_count": 7,
   "metadata": {},
   "outputs": [
    {
     "data": {
      "text/html": [
       "\n",
       "<div id=\"altair-viz-09b141b1b2f34958bf8056518ef51b48\"></div>\n",
       "<script type=\"text/javascript\">\n",
       "  (function(spec, embedOpt){\n",
       "    let outputDiv = document.currentScript.previousElementSibling;\n",
       "    if (outputDiv.id !== \"altair-viz-09b141b1b2f34958bf8056518ef51b48\") {\n",
       "      outputDiv = document.getElementById(\"altair-viz-09b141b1b2f34958bf8056518ef51b48\");\n",
       "    }\n",
       "    const paths = {\n",
       "      \"vega\": \"https://cdn.jsdelivr.net/npm//vega@5?noext\",\n",
       "      \"vega-lib\": \"https://cdn.jsdelivr.net/npm//vega-lib?noext\",\n",
       "      \"vega-lite\": \"https://cdn.jsdelivr.net/npm//vega-lite@4.8.1?noext\",\n",
       "      \"vega-embed\": \"https://cdn.jsdelivr.net/npm//vega-embed@6?noext\",\n",
       "    };\n",
       "\n",
       "    function loadScript(lib) {\n",
       "      return new Promise(function(resolve, reject) {\n",
       "        var s = document.createElement('script');\n",
       "        s.src = paths[lib];\n",
       "        s.async = true;\n",
       "        s.onload = () => resolve(paths[lib]);\n",
       "        s.onerror = () => reject(`Error loading script: ${paths[lib]}`);\n",
       "        document.getElementsByTagName(\"head\")[0].appendChild(s);\n",
       "      });\n",
       "    }\n",
       "\n",
       "    function showError(err) {\n",
       "      outputDiv.innerHTML = `<div class=\"error\" style=\"color:red;\">${err}</div>`;\n",
       "      throw err;\n",
       "    }\n",
       "\n",
       "    function displayChart(vegaEmbed) {\n",
       "      vegaEmbed(outputDiv, spec, embedOpt)\n",
       "        .catch(err => showError(`Javascript Error: ${err.message}<br>This usually means there's a typo in your chart specification. See the javascript console for the full traceback.`));\n",
       "    }\n",
       "\n",
       "    if(typeof define === \"function\" && define.amd) {\n",
       "      requirejs.config({paths});\n",
       "      require([\"vega-embed\"], displayChart, err => showError(`Error loading script: ${err.message}`));\n",
       "    } else if (typeof vegaEmbed === \"function\") {\n",
       "      displayChart(vegaEmbed);\n",
       "    } else {\n",
       "      loadScript(\"vega\")\n",
       "        .then(() => loadScript(\"vega-lite\"))\n",
       "        .then(() => loadScript(\"vega-embed\"))\n",
       "        .catch(showError)\n",
       "        .then(() => displayChart(vegaEmbed));\n",
       "    }\n",
       "  })({\"config\": {\"view\": {\"continuousWidth\": 400, \"continuousHeight\": 300}}, \"data\": {\"name\": \"data-0c787b936b93db41cc4974a0e97f788a\"}, \"mark\": {\"type\": \"line\", \"clip\": true}, \"encoding\": {\"color\": {\"type\": \"nominal\", \"field\": \"sampling_error\"}, \"x\": {\"type\": \"quantitative\", \"field\": \"nPts\", \"scale\": {\"type\": \"log\"}}, \"y\": {\"type\": \"quantitative\", \"field\": \"NDCG\", \"scale\": {\"domain\": [0, 1.01]}}}, \"$schema\": \"https://vega.github.io/schema/vega-lite/v4.8.1.json\", \"datasets\": {\"data-0c787b936b93db41cc4974a0e97f788a\": [{\"nPts\": 100, \"sampling_error\": \"Correlation\", \"NDCG\": 0.12443500744751085}, {\"nPts\": 100, \"sampling_error\": \"Distribution\", \"NDCG\": 0.799861931179872}, {\"nPts\": 100, \"sampling_error\": \"Occurrence\", \"NDCG\": 0.999999999998004}, {\"nPts\": 283, \"sampling_error\": \"Correlation\", \"NDCG\": 0.2556066324074198}, {\"nPts\": 283, \"sampling_error\": \"Distribution\", \"NDCG\": 0.9431555851966366}, {\"nPts\": 283, \"sampling_error\": \"Occurrence\", \"NDCG\": 1.0}, {\"nPts\": 806, \"sampling_error\": \"Correlation\", \"NDCG\": 0.8543803463453259}, {\"nPts\": 806, \"sampling_error\": \"Distribution\", \"NDCG\": 0.9999969907465937}, {\"nPts\": 806, \"sampling_error\": \"Occurrence\", \"NDCG\": 1.0}, {\"nPts\": 2289, \"sampling_error\": \"Correlation\", \"NDCG\": 0.9627353029824812}, {\"nPts\": 2289, \"sampling_error\": \"Distribution\", \"NDCG\": 1.0}, {\"nPts\": 2289, \"sampling_error\": \"Occurrence\", \"NDCG\": 1.0}, {\"nPts\": 6500, \"sampling_error\": \"Correlation\", \"NDCG\": 0.9853145113306502}, {\"nPts\": 6500, \"sampling_error\": \"Distribution\", \"NDCG\": 1.0}, {\"nPts\": 6500, \"sampling_error\": \"Occurrence\", \"NDCG\": 1.0}, {\"nPts\": 18459, \"sampling_error\": \"Correlation\", \"NDCG\": 0.9979153931959328}, {\"nPts\": 18459, \"sampling_error\": \"Distribution\", \"NDCG\": 1.0}, {\"nPts\": 18459, \"sampling_error\": \"Occurrence\", \"NDCG\": 1.0}, {\"nPts\": 52414, \"sampling_error\": \"Correlation\", \"NDCG\": 0.9973698945990778}, {\"nPts\": 52414, \"sampling_error\": \"Distribution\", \"NDCG\": 1.0}, {\"nPts\": 52414, \"sampling_error\": \"Occurrence\", \"NDCG\": 1.0}, {\"nPts\": 148832, \"sampling_error\": \"Correlation\", \"NDCG\": 0.9994545014031451}, {\"nPts\": 148832, \"sampling_error\": \"Distribution\", \"NDCG\": 1.0}, {\"nPts\": 148832, \"sampling_error\": \"Occurrence\", \"NDCG\": 1.0}, {\"nPts\": 422609, \"sampling_error\": \"Correlation\", \"NDCG\": 0.9999999999999998}, {\"nPts\": 422609, \"sampling_error\": \"Distribution\", \"NDCG\": 1.0}, {\"nPts\": 422609, \"sampling_error\": \"Occurrence\", \"NDCG\": 1.0}, {\"nPts\": 1200000, \"sampling_error\": \"Correlation\", \"NDCG\": 0.9999999999999998}, {\"nPts\": 1200000, \"sampling_error\": \"Distribution\", \"NDCG\": 1.0}, {\"nPts\": 1200000, \"sampling_error\": \"Occurrence\", \"NDCG\": 1.0}]}}, {\"mode\": \"vega-lite\"});\n",
       "</script>"
      ],
      "text/plain": [
       "alt.Chart(...)"
      ]
     },
     "execution_count": 7,
     "metadata": {},
     "output_type": "execute_result"
    }
   ],
   "source": [
    "import altair as alt\n",
    "df=pd.read_csv(\"../result/sampling_error.csv\")\n",
    "alt.Chart(df).mark_line(clip=True).encode(\n",
    "    x = alt.X(\"nPts\",scale=alt.Scale(type=\"log\")),\n",
    "    y = alt.Y(\"NDCG\",scale=alt.Scale(domain=(0,1.01))),\n",
    "    color = \"sampling_error\"\n",
    ")"
   ]
  },
  {
   "cell_type": "code",
   "execution_count": 8,
   "metadata": {},
   "outputs": [
    {
     "data": {
      "text/html": [
       "\n",
       "<div id=\"altair-viz-7114c637f8b147878e713bdfbe433307\"></div>\n",
       "<script type=\"text/javascript\">\n",
       "  (function(spec, embedOpt){\n",
       "    let outputDiv = document.currentScript.previousElementSibling;\n",
       "    if (outputDiv.id !== \"altair-viz-7114c637f8b147878e713bdfbe433307\") {\n",
       "      outputDiv = document.getElementById(\"altair-viz-7114c637f8b147878e713bdfbe433307\");\n",
       "    }\n",
       "    const paths = {\n",
       "      \"vega\": \"https://cdn.jsdelivr.net/npm//vega@5?noext\",\n",
       "      \"vega-lib\": \"https://cdn.jsdelivr.net/npm//vega-lib?noext\",\n",
       "      \"vega-lite\": \"https://cdn.jsdelivr.net/npm//vega-lite@4.8.1?noext\",\n",
       "      \"vega-embed\": \"https://cdn.jsdelivr.net/npm//vega-embed@6?noext\",\n",
       "    };\n",
       "\n",
       "    function loadScript(lib) {\n",
       "      return new Promise(function(resolve, reject) {\n",
       "        var s = document.createElement('script');\n",
       "        s.src = paths[lib];\n",
       "        s.async = true;\n",
       "        s.onload = () => resolve(paths[lib]);\n",
       "        s.onerror = () => reject(`Error loading script: ${paths[lib]}`);\n",
       "        document.getElementsByTagName(\"head\")[0].appendChild(s);\n",
       "      });\n",
       "    }\n",
       "\n",
       "    function showError(err) {\n",
       "      outputDiv.innerHTML = `<div class=\"error\" style=\"color:red;\">${err}</div>`;\n",
       "      throw err;\n",
       "    }\n",
       "\n",
       "    function displayChart(vegaEmbed) {\n",
       "      vegaEmbed(outputDiv, spec, embedOpt)\n",
       "        .catch(err => showError(`Javascript Error: ${err.message}<br>This usually means there's a typo in your chart specification. See the javascript console for the full traceback.`));\n",
       "    }\n",
       "\n",
       "    if(typeof define === \"function\" && define.amd) {\n",
       "      requirejs.config({paths});\n",
       "      require([\"vega-embed\"], displayChart, err => showError(`Error loading script: ${err.message}`));\n",
       "    } else if (typeof vegaEmbed === \"function\") {\n",
       "      displayChart(vegaEmbed);\n",
       "    } else {\n",
       "      loadScript(\"vega\")\n",
       "        .then(() => loadScript(\"vega-lite\"))\n",
       "        .then(() => loadScript(\"vega-embed\"))\n",
       "        .catch(showError)\n",
       "        .then(() => displayChart(vegaEmbed));\n",
       "    }\n",
       "  })({\"config\": {\"view\": {\"continuousWidth\": 400, \"continuousHeight\": 300}}, \"data\": {\"name\": \"data-4221c880b709df3d9b6a10c0fe938fcd\"}, \"mark\": {\"type\": \"line\", \"clip\": true}, \"encoding\": {\"color\": {\"type\": \"nominal\", \"field\": \"sampling_error2\"}, \"x\": {\"type\": \"quantitative\", \"field\": \"nPts\", \"scale\": {\"type\": \"log\"}}, \"y\": {\"type\": \"quantitative\", \"field\": \"NDCG\", \"scale\": {\"domain\": [0, 1.01]}}}, \"$schema\": \"https://vega.github.io/schema/vega-lite/v4.8.1.json\", \"datasets\": {\"data-4221c880b709df3d9b6a10c0fe938fcd\": [{\"nPts\": 100, \"sampling_error2\": \"Enhance\", \"NDCG\": 0.9375003787997436}, {\"nPts\": 100, \"sampling_error2\": \"Filter\", \"NDCG\": 0.5331410251583544}, {\"nPts\": 163, \"sampling_error2\": \"Enhance\", \"NDCG\": 0.8800077402080047}, {\"nPts\": 163, \"sampling_error2\": \"Filter\", \"NDCG\": 0.8482654523333951}, {\"nPts\": 268, \"sampling_error2\": \"Enhance\", \"NDCG\": 0.8381237288155559}, {\"nPts\": 268, \"sampling_error2\": \"Filter\", \"NDCG\": 0.8976233309802054}, {\"nPts\": 440, \"sampling_error2\": \"Enhance\", \"NDCG\": 0.9765836123416516}, {\"nPts\": 440, \"sampling_error2\": \"Filter\", \"NDCG\": 0.2842474755276102}, {\"nPts\": 722, \"sampling_error2\": \"Enhance\", \"NDCG\": 0.98950925673483}, {\"nPts\": 722, \"sampling_error2\": \"Filter\", \"NDCG\": 0.8447647736974762}, {\"nPts\": 1184, \"sampling_error2\": \"Enhance\", \"NDCG\": 0.9293008070054124}, {\"nPts\": 1184, \"sampling_error2\": \"Filter\", \"NDCG\": 0.9235232206072458}, {\"nPts\": 1941, \"sampling_error2\": \"Enhance\", \"NDCG\": 0.9911034141664125}, {\"nPts\": 1941, \"sampling_error2\": \"Filter\", \"NDCG\": 0.7847046266814408}, {\"nPts\": 3183, \"sampling_error2\": \"Enhance\", \"NDCG\": 1.0}, {\"nPts\": 3183, \"sampling_error2\": \"Filter\", \"NDCG\": 0.6813383114118149}, {\"nPts\": 5218, \"sampling_error2\": \"Enhance\", \"NDCG\": 1.0}, {\"nPts\": 5218, \"sampling_error2\": \"Filter\", \"NDCG\": 0.4311126143100167}, {\"nPts\": 8555, \"sampling_error2\": \"Enhance\", \"NDCG\": 0.9911034141664125}, {\"nPts\": 8555, \"sampling_error2\": \"Filter\", \"NDCG\": 0.5676906265649843}, {\"nPts\": 14026, \"sampling_error2\": \"Enhance\", \"NDCG\": 1.0}, {\"nPts\": 14026, \"sampling_error2\": \"Filter\", \"NDCG\": 0.6674351934548621}, {\"nPts\": 22994, \"sampling_error2\": \"Enhance\", \"NDCG\": 1.0}, {\"nPts\": 22994, \"sampling_error2\": \"Filter\", \"NDCG\": 0.6564951938925221}, {\"nPts\": 37698, \"sampling_error2\": \"Enhance\", \"NDCG\": 1.0}, {\"nPts\": 37698, \"sampling_error2\": \"Filter\", \"NDCG\": 0.9898622106279248}, {\"nPts\": 61804, \"sampling_error2\": \"Enhance\", \"NDCG\": 0.9911034141664125}, {\"nPts\": 61804, \"sampling_error2\": \"Filter\", \"NDCG\": 0.9628640956103726}, {\"nPts\": 101324, \"sampling_error2\": \"Enhance\", \"NDCG\": 0.9911034141664125}, {\"nPts\": 101324, \"sampling_error2\": \"Filter\", \"NDCG\": 0.9999999999999998}, {\"nPts\": 166114, \"sampling_error2\": \"Enhance\", \"NDCG\": 1.0}, {\"nPts\": 166114, \"sampling_error2\": \"Filter\", \"NDCG\": 0.9999999999999998}, {\"nPts\": 272332, \"sampling_error2\": \"Enhance\", \"NDCG\": 1.0}, {\"nPts\": 272332, \"sampling_error2\": \"Filter\", \"NDCG\": 0.9999999999999998}, {\"nPts\": 446471, \"sampling_error2\": \"Enhance\", \"NDCG\": 1.0}, {\"nPts\": 446471, \"sampling_error2\": \"Filter\", \"NDCG\": 0.9999999999999998}, {\"nPts\": 731960, \"sampling_error2\": \"Enhance\", \"NDCG\": 1.0}, {\"nPts\": 731960, \"sampling_error2\": \"Filter\", \"NDCG\": 0.9999999999999998}, {\"nPts\": 1200000, \"sampling_error2\": \"Enhance\", \"NDCG\": 1.0}, {\"nPts\": 1200000, \"sampling_error2\": \"Filter\", \"NDCG\": 0.9999999999999998}]}}, {\"mode\": \"vega-lite\"});\n",
       "</script>"
      ],
      "text/plain": [
       "alt.Chart(...)"
      ]
     },
     "execution_count": 8,
     "metadata": {},
     "output_type": "execute_result"
    }
   ],
   "source": [
    "### Not entirely monotonic because there are mixed objectives used for Enhance and Filter\n",
    "df=pd.read_csv(\"../result/sampling_error2.csv\")\n",
    "alt.Chart(df).mark_line(clip=True).encode(\n",
    "    x = alt.X(\"nPts\",scale=alt.Scale(type=\"log\")),\n",
    "    y = alt.Y(\"NDCG\",scale=alt.Scale(domain=(0,1.01))),\n",
    "    color = \"sampling_error2\"\n",
    ")"
   ]
  },
  {
   "cell_type": "code",
   "execution_count": 12,
   "metadata": {},
   "outputs": [
    {
     "data": {
      "text/html": [
       "\n",
       "<div id=\"altair-viz-f3119e96aec34e56a03c95b7671be0da\"></div>\n",
       "<script type=\"text/javascript\">\n",
       "  (function(spec, embedOpt){\n",
       "    let outputDiv = document.currentScript.previousElementSibling;\n",
       "    if (outputDiv.id !== \"altair-viz-f3119e96aec34e56a03c95b7671be0da\") {\n",
       "      outputDiv = document.getElementById(\"altair-viz-f3119e96aec34e56a03c95b7671be0da\");\n",
       "    }\n",
       "    const paths = {\n",
       "      \"vega\": \"https://cdn.jsdelivr.net/npm//vega@5?noext\",\n",
       "      \"vega-lib\": \"https://cdn.jsdelivr.net/npm//vega-lib?noext\",\n",
       "      \"vega-lite\": \"https://cdn.jsdelivr.net/npm//vega-lite@4.8.1?noext\",\n",
       "      \"vega-embed\": \"https://cdn.jsdelivr.net/npm//vega-embed@6?noext\",\n",
       "    };\n",
       "\n",
       "    function loadScript(lib) {\n",
       "      return new Promise(function(resolve, reject) {\n",
       "        var s = document.createElement('script');\n",
       "        s.src = paths[lib];\n",
       "        s.async = true;\n",
       "        s.onload = () => resolve(paths[lib]);\n",
       "        s.onerror = () => reject(`Error loading script: ${paths[lib]}`);\n",
       "        document.getElementsByTagName(\"head\")[0].appendChild(s);\n",
       "      });\n",
       "    }\n",
       "\n",
       "    function showError(err) {\n",
       "      outputDiv.innerHTML = `<div class=\"error\" style=\"color:red;\">${err}</div>`;\n",
       "      throw err;\n",
       "    }\n",
       "\n",
       "    function displayChart(vegaEmbed) {\n",
       "      vegaEmbed(outputDiv, spec, embedOpt)\n",
       "        .catch(err => showError(`Javascript Error: ${err.message}<br>This usually means there's a typo in your chart specification. See the javascript console for the full traceback.`));\n",
       "    }\n",
       "\n",
       "    if(typeof define === \"function\" && define.amd) {\n",
       "      requirejs.config({paths});\n",
       "      require([\"vega-embed\"], displayChart, err => showError(`Error loading script: ${err.message}`));\n",
       "    } else if (typeof vegaEmbed === \"function\") {\n",
       "      displayChart(vegaEmbed);\n",
       "    } else {\n",
       "      loadScript(\"vega\")\n",
       "        .then(() => loadScript(\"vega-lite\"))\n",
       "        .then(() => loadScript(\"vega-embed\"))\n",
       "        .catch(showError)\n",
       "        .then(() => displayChart(vegaEmbed));\n",
       "    }\n",
       "  })({\"config\": {\"view\": {\"continuousWidth\": 400, \"continuousHeight\": 300}}, \"data\": {\"name\": \"data-7220fd76c9efb27d2a1e8372674cfeed\"}, \"mark\": {\"type\": \"line\", \"clip\": true}, \"encoding\": {\"color\": {\"type\": \"nominal\", \"field\": \"sampling_error\"}, \"x\": {\"type\": \"quantitative\", \"field\": \"nPts\", \"scale\": {\"type\": \"log\"}}, \"y\": {\"type\": \"quantitative\", \"field\": \"NDCG\", \"scale\": {\"domain\": [0, 1.01]}}}, \"$schema\": \"https://vega.github.io/schema/vega-lite/v4.8.1.json\", \"datasets\": {\"data-7220fd76c9efb27d2a1e8372674cfeed\": [{\"nPts\": 100, \"sampling_error\": \"Correlation\", \"NDCG\": 0.7475924158550409}, {\"nPts\": 100, \"sampling_error\": \"Distribution\", \"NDCG\": 0.8538285761616542}, {\"nPts\": 100, \"sampling_error\": \"Occurrence\", \"NDCG\": 0.3895394733226579}, {\"nPts\": 135, \"sampling_error\": \"Correlation\", \"NDCG\": 0.7609687037367383}, {\"nPts\": 135, \"sampling_error\": \"Distribution\", \"NDCG\": 0.8857336036310093}, {\"nPts\": 135, \"sampling_error\": \"Occurrence\", \"NDCG\": 0.5727636200728721}, {\"nPts\": 183, \"sampling_error\": \"Correlation\", \"NDCG\": 0.7609687037367383}, {\"nPts\": 183, \"sampling_error\": \"Distribution\", \"NDCG\": 0.9362836496069802}, {\"nPts\": 183, \"sampling_error\": \"Occurrence\", \"NDCG\": 0.7186983387356801}, {\"nPts\": 249, \"sampling_error\": \"Correlation\", \"NDCG\": 0.7127837053470545}, {\"nPts\": 249, \"sampling_error\": \"Distribution\", \"NDCG\": 0.8857336036310093}, {\"nPts\": 249, \"sampling_error\": \"Occurrence\", \"NDCG\": 0.8460129832017178}, {\"nPts\": 338, \"sampling_error\": \"Correlation\", \"NDCG\": 0.7475924158550409}, {\"nPts\": 338, \"sampling_error\": \"Distribution\", \"NDCG\": 0.9362836496069802}, {\"nPts\": 338, \"sampling_error\": \"Occurrence\", \"NDCG\": 0.8381472530509175}, {\"nPts\": 458, \"sampling_error\": \"Correlation\", \"NDCG\": 0.5565067659022985}, {\"nPts\": 458, \"sampling_error\": \"Distribution\", \"NDCG\": 0.9603695841083766}, {\"nPts\": 458, \"sampling_error\": \"Occurrence\", \"NDCG\": 0.9096715459667888}, {\"nPts\": 621, \"sampling_error\": \"Correlation\", \"NDCG\": 0.7546690841208731}, {\"nPts\": 621, \"sampling_error\": \"Distribution\", \"NDCG\": 1.0}, {\"nPts\": 621, \"sampling_error\": \"Occurrence\", \"NDCG\": 0.9921624475329252}, {\"nPts\": 842, \"sampling_error\": \"Correlation\", \"NDCG\": 0.7319401806451488}, {\"nPts\": 842, \"sampling_error\": \"Distribution\", \"NDCG\": 1.0}, {\"nPts\": 842, \"sampling_error\": \"Occurrence\", \"NDCG\": 1.0}, {\"nPts\": 1142, \"sampling_error\": \"Correlation\", \"NDCG\": 0.8909799365844933}, {\"nPts\": 1142, \"sampling_error\": \"Distribution\", \"NDCG\": 1.0}, {\"nPts\": 1142, \"sampling_error\": \"Occurrence\", \"NDCG\": 0.9894639788635866}, {\"nPts\": 1549, \"sampling_error\": \"Correlation\", \"NDCG\": 0.977146804645974}, {\"nPts\": 1549, \"sampling_error\": \"Distribution\", \"NDCG\": 1.0}, {\"nPts\": 1549, \"sampling_error\": \"Occurrence\", \"NDCG\": 1.0}, {\"nPts\": 2101, \"sampling_error\": \"Correlation\", \"NDCG\": 0.9875136590241094}, {\"nPts\": 2101, \"sampling_error\": \"Distribution\", \"NDCG\": 0.9998650785910226}, {\"nPts\": 2101, \"sampling_error\": \"Occurrence\", \"NDCG\": 1.0}, {\"nPts\": 2849, \"sampling_error\": \"Correlation\", \"NDCG\": 0.9272277039989182}, {\"nPts\": 2849, \"sampling_error\": \"Distribution\", \"NDCG\": 1.0}, {\"nPts\": 2849, \"sampling_error\": \"Occurrence\", \"NDCG\": 1.0}, {\"nPts\": 3863, \"sampling_error\": \"Correlation\", \"NDCG\": 0.9706023099481441}, {\"nPts\": 3863, \"sampling_error\": \"Distribution\", \"NDCG\": 1.0}, {\"nPts\": 3863, \"sampling_error\": \"Occurrence\", \"NDCG\": 1.0}, {\"nPts\": 5238, \"sampling_error\": \"Correlation\", \"NDCG\": 0.9936886410436888}, {\"nPts\": 5238, \"sampling_error\": \"Distribution\", \"NDCG\": 1.0}, {\"nPts\": 5238, \"sampling_error\": \"Occurrence\", \"NDCG\": 1.0}, {\"nPts\": 7103, \"sampling_error\": \"Correlation\", \"NDCG\": 0.9895848924283009}, {\"nPts\": 7103, \"sampling_error\": \"Distribution\", \"NDCG\": 1.0}, {\"nPts\": 7103, \"sampling_error\": \"Occurrence\", \"NDCG\": 1.0}, {\"nPts\": 9631, \"sampling_error\": \"Correlation\", \"NDCG\": 0.9993813594238375}, {\"nPts\": 9631, \"sampling_error\": \"Distribution\", \"NDCG\": 1.0}, {\"nPts\": 9631, \"sampling_error\": \"Occurrence\", \"NDCG\": 1.0}, {\"nPts\": 13060, \"sampling_error\": \"Correlation\", \"NDCG\": 0.9873011084614955}, {\"nPts\": 13060, \"sampling_error\": \"Distribution\", \"NDCG\": 1.0}, {\"nPts\": 13060, \"sampling_error\": \"Occurrence\", \"NDCG\": 1.0}, {\"nPts\": 17709, \"sampling_error\": \"Correlation\", \"NDCG\": 0.9976952872538216}, {\"nPts\": 17709, \"sampling_error\": \"Distribution\", \"NDCG\": 1.0}, {\"nPts\": 17709, \"sampling_error\": \"Occurrence\", \"NDCG\": 1.0}, {\"nPts\": 24013, \"sampling_error\": \"Correlation\", \"NDCG\": 1.0}, {\"nPts\": 24013, \"sampling_error\": \"Distribution\", \"NDCG\": 1.0}, {\"nPts\": 24013, \"sampling_error\": \"Occurrence\", \"NDCG\": 1.0}, {\"nPts\": 32561, \"sampling_error\": \"Correlation\", \"NDCG\": 1.0}, {\"nPts\": 32561, \"sampling_error\": \"Distribution\", \"NDCG\": 1.0}, {\"nPts\": 32561, \"sampling_error\": \"Occurrence\", \"NDCG\": 1.0}]}}, {\"mode\": \"vega-lite\"});\n",
       "</script>"
      ],
      "text/plain": [
       "alt.Chart(...)"
      ]
     },
     "execution_count": 12,
     "metadata": {},
     "output_type": "execute_result"
    }
   ],
   "source": [
    "df=pd.read_csv(\"../result/sampling_error_census.csv\")\n",
    "alt.Chart(df).mark_line(clip=True).encode(\n",
    "    x = alt.X(\"nPts\",scale=alt.Scale(type=\"log\")),\n",
    "    y = alt.Y(\"NDCG\",scale=alt.Scale(domain=(0,1.01))),\n",
    "    color = \"sampling_error\"\n",
    ")"
   ]
  },
  {
   "cell_type": "code",
   "execution_count": 35,
   "metadata": {},
   "outputs": [],
   "source": [
    "# from lux.utils.utils import get_filter_specs\n",
    "# def equals(self,other):\n",
    "#     x_equals = clause_equals(self.get_attr_by_channel(\"x\")[0],other.get_attr_by_channel(\"x\")[0])\n",
    "#     y_equals = clause_equals(self.get_attr_by_channel(\"y\")[0],other.get_attr_by_channel(\"y\")[0])\n",
    "#     if (len(self.get_attr_by_channel(\"color\"))>0):\n",
    "#         color_equals = clause_equals(self.get_attr_by_channel(\"color\")[0],other.get_attr_by_channel(\"color\")[0])\n",
    "#     else:\n",
    "#         color_equals = True\n",
    "#     filter_equals = get_filter_specs(self.intent) == get_filter_specs(other.intent)\n",
    "#     mark_equals = self.mark == other.mark\n",
    "#     #print (x_equals,y_equals,color_equals,filter_equals)\n",
    "#     return x_equals and y_equals and color_equals and filter_equals and mark_equals\n",
    "\n",
    "# def clause_equals(self, other):\n",
    "#     props = ['aggregation', 'attribute', 'bin_size', 'channel', 'description', 'exclude', 'filter_op', 'sort', 'value', 'weight']\n",
    "#     flag = True\n",
    "#     for prop in props:\n",
    "#         eq = getattr(self,prop) == getattr(other,prop)\n",
    "#         flag=flag and eq\n",
    "#     return flag\n",
    "\n",
    "# equals(l1[0],l2[0])"
   ]
  }
 ],
 "metadata": {
  "kernelspec": {
   "display_name": "Python 3",
   "language": "python",
   "name": "python3"
  },
  "language_info": {
   "codemirror_mode": {
    "name": "ipython",
    "version": 3
   },
   "file_extension": ".py",
   "mimetype": "text/x-python",
   "name": "python",
   "nbconvert_exporter": "python",
   "pygments_lexer": "ipython3",
   "version": "3.7.7"
  }
 },
 "nbformat": 4,
 "nbformat_minor": 4
}
