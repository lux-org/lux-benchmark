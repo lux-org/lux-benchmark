{
 "cells": [
  {
   "cell_type": "code",
   "execution_count": 13,
   "metadata": {},
   "outputs": [],
   "source": [
    "import numpy as np\n",
    "import pandas as pd\n",
    "from multiprocessing import Pool, Process\n",
    "import time"
   ]
  },
  {
   "cell_type": "code",
   "execution_count": 16,
   "metadata": {},
   "outputs": [],
   "source": [
    "def function(lst):\n",
    "    print (lst)\n",
    "    time.sleep(5)\n",
    "    return lst\n"
   ]
  },
  {
   "cell_type": "code",
   "execution_count": 21,
   "metadata": {},
   "outputs": [
    {
     "name": "stdout",
     "output_type": "stream",
     "text": [
      "1\n",
      "2\n",
      "3\n",
      "5\n",
      "4\n",
      "CPU times: user 17.5 ms, sys: 24.1 ms, total: 41.6 ms\n",
      "Wall time: 5.12 s\n"
     ]
    }
   ],
   "source": [
    "%%time\n",
    "with Pool(processes=8) as p:\n",
    "    res = p.map(function,[1,2,3,4,5])\n",
    "    p.close()\n",
    "    p.join()"
   ]
  },
  {
   "cell_type": "code",
   "execution_count": 4,
   "metadata": {},
   "outputs": [],
   "source": [
    "import pandas as pd\n",
    "import lux\n",
    "from lux.vis.Vis import Vis\n",
    "from lux.vis.VisList import VisList"
   ]
  },
  {
   "cell_type": "code",
   "execution_count": 73,
   "metadata": {},
   "outputs": [],
   "source": [
    "# df = pd.read_csv(\"../../lux-datasets/data/communities.csv\")"
   ]
  },
  {
   "cell_type": "code",
   "execution_count": 74,
   "metadata": {},
   "outputs": [],
   "source": [
    "df = pd.read_csv(\"../data/airbnb_250x.csv\")\n",
    "df.maintain_metadata()"
   ]
  },
  {
   "cell_type": "code",
   "execution_count": 39,
   "metadata": {
    "scrolled": true
   },
   "outputs": [
    {
     "data": {
      "text/plain": [
       "12223750"
      ]
     },
     "execution_count": 39,
     "metadata": {},
     "output_type": "execute_result"
    }
   ],
   "source": [
    "len(df)"
   ]
  },
  {
   "cell_type": "code",
   "execution_count": 40,
   "metadata": {},
   "outputs": [],
   "source": [
    "self = VisList([lux.Clause(\"?\",data_type=\"quantitative\"),lux.Clause(\"?\",data_type=\"quantitative\")])"
   ]
  },
  {
   "cell_type": "code",
   "execution_count": 41,
   "metadata": {},
   "outputs": [],
   "source": [
    "from lux.processor.Parser import Parser\n",
    "from lux.processor.Validator import Validator\n",
    "from lux.processor.Compiler import Compiler\n",
    "self._inferred_intent = Parser.parse(self._intent)\n",
    "Validator.validate_intent(self._inferred_intent, df)\n",
    "self._collection = Compiler.compile_intent(df, self._inferred_intent)"
   ]
  },
  {
   "cell_type": "code",
   "execution_count": 42,
   "metadata": {},
   "outputs": [
    {
     "data": {
      "text/plain": [
       "20"
      ]
     },
     "execution_count": 42,
     "metadata": {},
     "output_type": "execute_result"
    }
   ],
   "source": [
    "len(self._collection)"
   ]
  },
  {
   "cell_type": "code",
   "execution_count": 50,
   "metadata": {},
   "outputs": [
    {
     "name": "stdout",
     "output_type": "stream",
     "text": [
      "CPU times: user 17.6 ms, sys: 1.62 ms, total: 19.2 ms\n",
      "Wall time: 18.8 ms\n"
     ]
    }
   ],
   "source": [
    "%%time \n",
    "lux.config.executor.execute(self._collection, df)"
   ]
  },
  {
   "cell_type": "code",
   "execution_count": 44,
   "metadata": {},
   "outputs": [],
   "source": [
    "def execute_vis(vis):\n",
    "    lux.config.executor.execute([vis],df)"
   ]
  },
  {
   "cell_type": "code",
   "execution_count": 45,
   "metadata": {},
   "outputs": [],
   "source": [
    "from multiprocessing import Pool, Process"
   ]
  },
  {
   "cell_type": "code",
   "execution_count": 51,
   "metadata": {},
   "outputs": [
    {
     "name": "stdout",
     "output_type": "stream",
     "text": [
      "CPU times: user 6.63 s, sys: 261 ms, total: 6.9 s\n",
      "Wall time: 7.17 s\n"
     ]
    }
   ],
   "source": [
    "%%time\n",
    "with Pool(processes=8) as p:\n",
    "    res = p.map(execute_vis,self._collection)\n",
    "    p.close()\n",
    "    p.join()"
   ]
  },
  {
   "cell_type": "code",
   "execution_count": 52,
   "metadata": {},
   "outputs": [
    {
     "name": "stdout",
     "output_type": "stream",
     "text": [
      "CPU times: user 6.71 s, sys: 262 ms, total: 6.97 s\n",
      "Wall time: 7.25 s\n"
     ]
    }
   ],
   "source": [
    "%%time\n",
    "with Pool(processes=5) as p:\n",
    "    res = p.map(execute_vis,self._collection)\n",
    "    p.close()\n",
    "    p.join()"
   ]
  },
  {
   "cell_type": "markdown",
   "metadata": {},
   "source": [
    "As expected, simple parallelization is much slower because of the overhead due to serializing/deserializing a big dataframe"
   ]
  },
  {
   "cell_type": "code",
   "execution_count": 70,
   "metadata": {},
   "outputs": [],
   "source": [
    "# print (self._collection)"
   ]
  },
  {
   "cell_type": "code",
   "execution_count": 3,
   "metadata": {},
   "outputs": [],
   "source": [
    "import pandas as pd\n",
    "df = pd.read_csv(\"../data/airbnb_250x.csv\")"
   ]
  },
  {
   "cell_type": "code",
   "execution_count": 9,
   "metadata": {},
   "outputs": [],
   "source": [
    "def example_heatmap(visdf):\n",
    "    x_attr = \"price\"\n",
    "    y_attr = \"minimum_nights\"\n",
    "    visdf[\"xBin\"] = pd.cut(visdf[x_attr], bins=40)\n",
    "    visdf[\"yBin\"] = pd.cut(visdf[y_attr], bins=40)\n",
    "    groups = visdf.groupby([\"xBin\", \"yBin\"])[x_attr]\n",
    "    result = groups.count().reset_index(name=x_attr)\n",
    "\n",
    "    result = result.rename(columns={x_attr: \"count\"})\n",
    "    result = result[result[\"count\"] != 0]\n",
    "\n",
    "    # convert type to facilitate weighted correlation interestingess calculation\n",
    "    result[\"xBinStart\"] = result[\"xBin\"].apply(lambda x: x.left).astype(\"float\")\n",
    "    result[\"xBinEnd\"] = result[\"xBin\"].apply(lambda x: x.right)\n",
    "\n",
    "    result[\"yBinStart\"] = result[\"yBin\"].apply(lambda x: x.left).astype(\"float\")\n",
    "    result[\"yBinEnd\"] = result[\"yBin\"].apply(lambda x: x.right)\n",
    "\n",
    "    visdf = result.drop(columns=[\"xBin\", \"yBin\"])\n",
    "    return visdf"
   ]
  },
  {
   "cell_type": "code",
   "execution_count": 10,
   "metadata": {},
   "outputs": [],
   "source": [
    "from multiprocessing import Pool, Process"
   ]
  },
  {
   "cell_type": "code",
   "execution_count": null,
   "metadata": {},
   "outputs": [],
   "source": [
    "%%time\n",
    "with Pool(processes=8) as p:\n",
    "    res = p.map(example_heatmap,[df for _ in range(16)])\n",
    "    p.close()\n",
    "    p.join()"
   ]
  },
  {
   "cell_type": "code",
   "execution_count": 8,
   "metadata": {},
   "outputs": [
    {
     "name": "stdout",
     "output_type": "stream",
     "text": [
      "CPU times: user 773 ms, sys: 119 ms, total: 892 ms\n",
      "Wall time: 893 ms\n"
     ]
    },
    {
     "data": {
      "text/html": [
       "<div>\n",
       "<style scoped>\n",
       "    .dataframe tbody tr th:only-of-type {\n",
       "        vertical-align: middle;\n",
       "    }\n",
       "\n",
       "    .dataframe tbody tr th {\n",
       "        vertical-align: top;\n",
       "    }\n",
       "\n",
       "    .dataframe thead th {\n",
       "        text-align: right;\n",
       "    }\n",
       "</style>\n",
       "<table border=\"1\" class=\"dataframe\">\n",
       "  <thead>\n",
       "    <tr style=\"text-align: right;\">\n",
       "      <th></th>\n",
       "      <th>count</th>\n",
       "      <th>xBinStart</th>\n",
       "      <th>xBinEnd</th>\n",
       "      <th>yBinStart</th>\n",
       "      <th>yBinEnd</th>\n",
       "    </tr>\n",
       "  </thead>\n",
       "  <tbody>\n",
       "    <tr>\n",
       "      <th>0</th>\n",
       "      <td>10803250</td>\n",
       "      <td>-10.0</td>\n",
       "      <td>250.0</td>\n",
       "      <td>-0.249</td>\n",
       "      <td>32.225</td>\n",
       "    </tr>\n",
       "    <tr>\n",
       "      <th>1</th>\n",
       "      <td>48250</td>\n",
       "      <td>-10.0</td>\n",
       "      <td>250.0</td>\n",
       "      <td>32.225</td>\n",
       "      <td>63.450</td>\n",
       "    </tr>\n",
       "    <tr>\n",
       "      <th>2</th>\n",
       "      <td>30000</td>\n",
       "      <td>-10.0</td>\n",
       "      <td>250.0</td>\n",
       "      <td>63.450</td>\n",
       "      <td>94.675</td>\n",
       "    </tr>\n",
       "    <tr>\n",
       "      <th>3</th>\n",
       "      <td>11500</td>\n",
       "      <td>-10.0</td>\n",
       "      <td>250.0</td>\n",
       "      <td>94.675</td>\n",
       "      <td>125.900</td>\n",
       "    </tr>\n",
       "    <tr>\n",
       "      <th>4</th>\n",
       "      <td>2500</td>\n",
       "      <td>-10.0</td>\n",
       "      <td>250.0</td>\n",
       "      <td>125.900</td>\n",
       "      <td>157.125</td>\n",
       "    </tr>\n",
       "    <tr>\n",
       "      <th>...</th>\n",
       "      <td>...</td>\n",
       "      <td>...</td>\n",
       "      <td>...</td>\n",
       "      <td>...</td>\n",
       "      <td>...</td>\n",
       "    </tr>\n",
       "    <tr>\n",
       "      <th>1200</th>\n",
       "      <td>250</td>\n",
       "      <td>7500.0</td>\n",
       "      <td>7750.0</td>\n",
       "      <td>-0.249</td>\n",
       "      <td>32.225</td>\n",
       "    </tr>\n",
       "    <tr>\n",
       "      <th>1240</th>\n",
       "      <td>250</td>\n",
       "      <td>7750.0</td>\n",
       "      <td>8000.0</td>\n",
       "      <td>-0.249</td>\n",
       "      <td>32.225</td>\n",
       "    </tr>\n",
       "    <tr>\n",
       "      <th>1320</th>\n",
       "      <td>250</td>\n",
       "      <td>8250.0</td>\n",
       "      <td>8500.0</td>\n",
       "      <td>-0.249</td>\n",
       "      <td>32.225</td>\n",
       "    </tr>\n",
       "    <tr>\n",
       "      <th>1560</th>\n",
       "      <td>1000</td>\n",
       "      <td>9750.0</td>\n",
       "      <td>10000.0</td>\n",
       "      <td>-0.249</td>\n",
       "      <td>32.225</td>\n",
       "    </tr>\n",
       "    <tr>\n",
       "      <th>1563</th>\n",
       "      <td>500</td>\n",
       "      <td>9750.0</td>\n",
       "      <td>10000.0</td>\n",
       "      <td>94.675</td>\n",
       "      <td>125.900</td>\n",
       "    </tr>\n",
       "  </tbody>\n",
       "</table>\n",
       "<p>71 rows × 5 columns</p>\n",
       "</div>"
      ],
      "text/plain": [
       "         count  xBinStart  xBinEnd  yBinStart  yBinEnd\n",
       "0     10803250      -10.0    250.0     -0.249   32.225\n",
       "1        48250      -10.0    250.0     32.225   63.450\n",
       "2        30000      -10.0    250.0     63.450   94.675\n",
       "3        11500      -10.0    250.0     94.675  125.900\n",
       "4         2500      -10.0    250.0    125.900  157.125\n",
       "...        ...        ...      ...        ...      ...\n",
       "1200       250     7500.0   7750.0     -0.249   32.225\n",
       "1240       250     7750.0   8000.0     -0.249   32.225\n",
       "1320       250     8250.0   8500.0     -0.249   32.225\n",
       "1560      1000     9750.0  10000.0     -0.249   32.225\n",
       "1563       500     9750.0  10000.0     94.675  125.900\n",
       "\n",
       "[71 rows x 5 columns]"
      ]
     },
     "execution_count": 8,
     "metadata": {},
     "output_type": "execute_result"
    }
   ],
   "source": [
    "%%time \n",
    "for _ in range(16): example_heatmap(\"price\",\"minimum_nights\",df) "
   ]
  },
  {
   "cell_type": "markdown",
   "metadata": {},
   "source": [
    "----------------------------------------------------------------------------------------"
   ]
  },
  {
   "cell_type": "code",
   "execution_count": 1,
   "metadata": {},
   "outputs": [],
   "source": [
    "import pandas as pd"
   ]
  },
  {
   "cell_type": "code",
   "execution_count": 3,
   "metadata": {},
   "outputs": [],
   "source": [
    "df = pd.read_csv(\"../data/airbnb_100x.csv\")"
   ]
  },
  {
   "cell_type": "code",
   "execution_count": 4,
   "metadata": {},
   "outputs": [],
   "source": [
    "def example_heatmap(visdf):\n",
    "    x_attr = \"price\"\n",
    "    y_attr = \"minimum_nights\"\n",
    "    visdf[\"xBin\"] = pd.cut(visdf[x_attr], bins=40)\n",
    "    visdf[\"yBin\"] = pd.cut(visdf[y_attr], bins=40)\n",
    "    groups = visdf.groupby([\"xBin\", \"yBin\"])[x_attr]\n",
    "    result = groups.count().reset_index(name=x_attr)\n",
    "\n",
    "    result = result.rename(columns={x_attr: \"count\"})\n",
    "    result = result[result[\"count\"] != 0]\n",
    "\n",
    "    # convert type to facilitate weighted correlation interestingess calculation\n",
    "    result[\"xBinStart\"] = result[\"xBin\"].apply(lambda x: x.left).astype(\"float\")\n",
    "    result[\"xBinEnd\"] = result[\"xBin\"].apply(lambda x: x.right)\n",
    "\n",
    "    result[\"yBinStart\"] = result[\"yBin\"].apply(lambda x: x.left).astype(\"float\")\n",
    "    result[\"yBinEnd\"] = result[\"yBin\"].apply(lambda x: x.right)\n",
    "\n",
    "    visdf = result.drop(columns=[\"xBin\", \"yBin\"])\n",
    "    return visdf"
   ]
  },
  {
   "cell_type": "code",
   "execution_count": 5,
   "metadata": {},
   "outputs": [
    {
     "name": "stdout",
     "output_type": "stream",
     "text": [
      "CPU times: user 318 ms, sys: 35.3 ms, total: 354 ms\n",
      "Wall time: 353 ms\n"
     ]
    }
   ],
   "source": [
    "%%time\n",
    "visdf = example_heatmap(df) "
   ]
  },
  {
   "cell_type": "code",
   "execution_count": 7,
   "metadata": {},
   "outputs": [],
   "source": [
    "import modin.pandas as pd"
   ]
  },
  {
   "cell_type": "code",
   "execution_count": 8,
   "metadata": {},
   "outputs": [],
   "source": [
    "df = pd.read_csv(\"../data/airbnb_100x.csv\")"
   ]
  },
  {
   "cell_type": "code",
   "execution_count": 10,
   "metadata": {},
   "outputs": [
    {
     "name": "stdout",
     "output_type": "stream",
     "text": [
      "CPU times: user 2min 7s, sys: 6.05 s, total: 2min 13s\n",
      "Wall time: 5min 57s\n"
     ]
    },
    {
     "name": "stderr",
     "output_type": "stream",
     "text": [
      "UserWarning: reset_index defaulting to pandas implementation.\n",
      "To request implementation, send an email to feature_requests@modin.org.\n"
     ]
    }
   ],
   "source": [
    "%%time\n",
    "visdf = example_heatmap(df) "
   ]
  },
  {
   "cell_type": "code",
   "execution_count": null,
   "metadata": {},
   "outputs": [],
   "source": []
  }
 ],
 "metadata": {
  "kernelspec": {
   "display_name": "Python 3",
   "language": "python",
   "name": "python3"
  },
  "language_info": {
   "codemirror_mode": {
    "name": "ipython",
    "version": 3
   },
   "file_extension": ".py",
   "mimetype": "text/x-python",
   "name": "python",
   "nbconvert_exporter": "python",
   "pygments_lexer": "ipython3",
   "version": "3.7.7"
  }
 },
 "nbformat": 4,
 "nbformat_minor": 4
}
