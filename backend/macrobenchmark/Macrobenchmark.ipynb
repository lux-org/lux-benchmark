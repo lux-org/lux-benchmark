{
 "cells": [
  {
   "cell_type": "code",
   "execution_count": 93,
   "metadata": {},
   "outputs": [],
   "source": [
    "import nbformat as nbf"
   ]
  },
  {
   "cell_type": "code",
   "execution_count": 94,
   "metadata": {},
   "outputs": [],
   "source": [
    "nb_id = \"airbnb/airbnb\"\n",
    "nb = nbf.read(f\"{nb_id}.ipynb\",as_version=4) #the toy original is the pandas-only control\n",
    "code = \"import lux\"\n",
    "nb[\"cells\"].insert(0,nbf.v4.new_code_cell(code))\n",
    "nbf.write(nb, f'{nb_id}_baseline.ipynb')"
   ]
  },
  {
   "cell_type": "code",
   "execution_count": 95,
   "metadata": {},
   "outputs": [],
   "source": [
    "nb = nbf.read(f\"{nb_id}.ipynb\",as_version=4) \n",
    "code = \"import lux\\nlux.config.lazy_maintain = True\"\n",
    "nb[\"cells\"].insert(0,nbf.v4.new_code_cell(code))\n",
    "nbf.write(nb, f'{nb_id}_o1.ipynb')"
   ]
  },
  {
   "cell_type": "code",
   "execution_count": 96,
   "metadata": {},
   "outputs": [],
   "source": [
    "nb = nbf.read(f\"{nb_id}.ipynb\",as_version=4) \n",
    "code = \"import lux\\nlux.config.lazy_maintain = True\\nlux.config.early_pruning = True\"\n",
    "nb[\"cells\"].insert(0,nbf.v4.new_code_cell(code))\n",
    "nbf.write(nb, f'{nb_id}_o1o2.ipynb')"
   ]
  },
  {
   "cell_type": "code",
   "execution_count": 97,
   "metadata": {},
   "outputs": [],
   "source": [
    "nb = nbf.read(f\"{nb_id}.ipynb\",as_version=4) \n",
    "code = \"import lux\\nlux.config.lazy_maintain = True\\nlux.config.early_pruning = True\\nlux.config.streaming = True\"\n",
    "nb[\"cells\"].insert(0,nbf.v4.new_code_cell(code))\n",
    "nbf.write(nb, f'{nb_id}_o1o2o3.ipynb')"
   ]
  },
  {
   "cell_type": "markdown",
   "metadata": {},
   "source": [
    "------------------------------------------------------------------------------------------"
   ]
  },
  {
   "cell_type": "code",
   "execution_count": 111,
   "metadata": {},
   "outputs": [],
   "source": [
    "import glob\n",
    "import time\n",
    "import papermill as pm\n",
    "import pandas as pd\n",
    "import numpy as np\n",
    "import json\n",
    "trial = []\n",
    "\n",
    "for nb_name in glob.glob(\"airbnb/airbnb_*_*_output.ipynb\"):\n",
    "# for nb_name in glob.glob(\"airbnb/airbnb_*_*_output.ipynb\"):\n",
    "    _, condition, nPts, _ = nb_name.split(\"_\")\n",
    "    with open(nb_name) as json_file:\n",
    "        data = json.load(json_file)\n",
    "        for cell in data['cells']:\n",
    "            label = cell[\"source\"][0]\n",
    "            if \"# {{NO LUX}}\" in label:\n",
    "                cell_type = \"python\"\n",
    "            elif \"# {{PRINT SERIES}}\" in label:\n",
    "                cell_type = \"print_series\"\n",
    "            elif \"# {{PRINT DF}}\" in label:\n",
    "                cell_type = \"print_dataframe\"\n",
    "            duration = cell[\"metadata\"][\"papermill\"][\"duration\"]\n",
    "#             print(nb_name, cell_type, duration)\n",
    "            trial.append([condition, nPts,cell_type, duration])"
   ]
  },
  {
   "cell_type": "code",
   "execution_count": 113,
   "metadata": {},
   "outputs": [],
   "source": [
    "trial = pd.DataFrame(trial,columns=[\"condition\",\"nPts\",\"cell_type\",\"time\"])"
   ]
  },
  {
   "cell_type": "code",
   "execution_count": 114,
   "metadata": {},
   "outputs": [
    {
     "data": {
      "text/html": [
       "<div>\n",
       "<style scoped>\n",
       "    .dataframe tbody tr th:only-of-type {\n",
       "        vertical-align: middle;\n",
       "    }\n",
       "\n",
       "    .dataframe tbody tr th {\n",
       "        vertical-align: top;\n",
       "    }\n",
       "\n",
       "    .dataframe thead th {\n",
       "        text-align: right;\n",
       "    }\n",
       "</style>\n",
       "<table border=\"1\" class=\"dataframe\">\n",
       "  <thead>\n",
       "    <tr style=\"text-align: right;\">\n",
       "      <th></th>\n",
       "      <th>condition</th>\n",
       "      <th>nPts</th>\n",
       "      <th>time</th>\n",
       "    </tr>\n",
       "    <tr>\n",
       "      <th>cell_type</th>\n",
       "      <th></th>\n",
       "      <th></th>\n",
       "      <th></th>\n",
       "    </tr>\n",
       "  </thead>\n",
       "  <tbody>\n",
       "    <tr>\n",
       "      <th>print_dataframe</th>\n",
       "      <td>196</td>\n",
       "      <td>196</td>\n",
       "      <td>177</td>\n",
       "    </tr>\n",
       "    <tr>\n",
       "      <th>print_series</th>\n",
       "      <td>98</td>\n",
       "      <td>98</td>\n",
       "      <td>88</td>\n",
       "    </tr>\n",
       "    <tr>\n",
       "      <th>python</th>\n",
       "      <td>294</td>\n",
       "      <td>294</td>\n",
       "      <td>274</td>\n",
       "    </tr>\n",
       "  </tbody>\n",
       "</table>\n",
       "</div>"
      ],
      "text/plain": [
       "                 condition  nPts  time\n",
       "cell_type                             \n",
       "print_dataframe        196   196   177\n",
       "print_series            98    98    88\n",
       "python                 294   294   274"
      ]
     },
     "execution_count": 114,
     "metadata": {},
     "output_type": "execute_result"
    }
   ],
   "source": [
    "trial.groupby(\"cell_type\").count()"
   ]
  },
  {
   "cell_type": "markdown",
   "metadata": {},
   "source": [
    "--------------"
   ]
  },
  {
   "cell_type": "code",
   "execution_count": 121,
   "metadata": {},
   "outputs": [],
   "source": [
    "import pandas as pd\n",
    "import altair as alt"
   ]
  },
  {
   "cell_type": "code",
   "execution_count": 125,
   "metadata": {},
   "outputs": [],
   "source": [
    "overall = trial.groupby(\"condition\").sum().reset_index()"
   ]
  },
  {
   "cell_type": "code",
   "execution_count": 126,
   "metadata": {},
   "outputs": [
    {
     "data": {
      "text/html": [
       "<div>\n",
       "<style scoped>\n",
       "    .dataframe tbody tr th:only-of-type {\n",
       "        vertical-align: middle;\n",
       "    }\n",
       "\n",
       "    .dataframe tbody tr th {\n",
       "        vertical-align: top;\n",
       "    }\n",
       "\n",
       "    .dataframe thead th {\n",
       "        text-align: right;\n",
       "    }\n",
       "</style>\n",
       "<table border=\"1\" class=\"dataframe\">\n",
       "  <thead>\n",
       "    <tr style=\"text-align: right;\">\n",
       "      <th></th>\n",
       "      <th>condition</th>\n",
       "      <th>time</th>\n",
       "    </tr>\n",
       "  </thead>\n",
       "  <tbody>\n",
       "    <tr>\n",
       "      <th>0</th>\n",
       "      <td>baseline</td>\n",
       "      <td>1699.424212</td>\n",
       "    </tr>\n",
       "    <tr>\n",
       "      <th>1</th>\n",
       "      <td>o1</td>\n",
       "      <td>266.640720</td>\n",
       "    </tr>\n",
       "    <tr>\n",
       "      <th>2</th>\n",
       "      <td>o1o2</td>\n",
       "      <td>167.146463</td>\n",
       "    </tr>\n",
       "    <tr>\n",
       "      <th>3</th>\n",
       "      <td>o1o2o3</td>\n",
       "      <td>127.370984</td>\n",
       "    </tr>\n",
       "  </tbody>\n",
       "</table>\n",
       "</div>"
      ],
      "text/plain": [
       "  condition         time\n",
       "0  baseline  1699.424212\n",
       "1        o1   266.640720\n",
       "2      o1o2   167.146463\n",
       "3    o1o2o3   127.370984"
      ]
     },
     "execution_count": 126,
     "metadata": {},
     "output_type": "execute_result"
    }
   ],
   "source": [
    "overall"
   ]
  },
  {
   "cell_type": "code",
   "execution_count": 128,
   "metadata": {},
   "outputs": [
    {
     "data": {
      "text/html": [
       "\n",
       "<div id=\"altair-viz-86ee0e2262324a3e8132acbfa842c4ce\"></div>\n",
       "<script type=\"text/javascript\">\n",
       "  (function(spec, embedOpt){\n",
       "    let outputDiv = document.currentScript.previousElementSibling;\n",
       "    if (outputDiv.id !== \"altair-viz-86ee0e2262324a3e8132acbfa842c4ce\") {\n",
       "      outputDiv = document.getElementById(\"altair-viz-86ee0e2262324a3e8132acbfa842c4ce\");\n",
       "    }\n",
       "    const paths = {\n",
       "      \"vega\": \"https://cdn.jsdelivr.net/npm//vega@5?noext\",\n",
       "      \"vega-lib\": \"https://cdn.jsdelivr.net/npm//vega-lib?noext\",\n",
       "      \"vega-lite\": \"https://cdn.jsdelivr.net/npm//vega-lite@4.8.1?noext\",\n",
       "      \"vega-embed\": \"https://cdn.jsdelivr.net/npm//vega-embed@6?noext\",\n",
       "    };\n",
       "\n",
       "    function loadScript(lib) {\n",
       "      return new Promise(function(resolve, reject) {\n",
       "        var s = document.createElement('script');\n",
       "        s.src = paths[lib];\n",
       "        s.async = true;\n",
       "        s.onload = () => resolve(paths[lib]);\n",
       "        s.onerror = () => reject(`Error loading script: ${paths[lib]}`);\n",
       "        document.getElementsByTagName(\"head\")[0].appendChild(s);\n",
       "      });\n",
       "    }\n",
       "\n",
       "    function showError(err) {\n",
       "      outputDiv.innerHTML = `<div class=\"error\" style=\"color:red;\">${err}</div>`;\n",
       "      throw err;\n",
       "    }\n",
       "\n",
       "    function displayChart(vegaEmbed) {\n",
       "      vegaEmbed(outputDiv, spec, embedOpt)\n",
       "        .catch(err => showError(`Javascript Error: ${err.message}<br>This usually means there's a typo in your chart specification. See the javascript console for the full traceback.`));\n",
       "    }\n",
       "\n",
       "    if(typeof define === \"function\" && define.amd) {\n",
       "      requirejs.config({paths});\n",
       "      require([\"vega-embed\"], displayChart, err => showError(`Error loading script: ${err.message}`));\n",
       "    } else if (typeof vegaEmbed === \"function\") {\n",
       "      displayChart(vegaEmbed);\n",
       "    } else {\n",
       "      loadScript(\"vega\")\n",
       "        .then(() => loadScript(\"vega-lite\"))\n",
       "        .then(() => loadScript(\"vega-embed\"))\n",
       "        .catch(showError)\n",
       "        .then(() => displayChart(vegaEmbed));\n",
       "    }\n",
       "  })({\"config\": {\"view\": {\"continuousWidth\": 400, \"continuousHeight\": 300}}, \"data\": {\"name\": \"data-8f7c5c64f52b6a0f26b22ebbe2aec5ac\"}, \"mark\": \"bar\", \"encoding\": {\"x\": {\"type\": \"nominal\", \"field\": \"condition\"}, \"y\": {\"type\": \"quantitative\", \"field\": \"time\", \"scale\": {\"type\": \"log\"}, \"title\": \"log(total time)\"}}, \"$schema\": \"https://vega.github.io/schema/vega-lite/v4.8.1.json\", \"datasets\": {\"data-8f7c5c64f52b6a0f26b22ebbe2aec5ac\": [{\"condition\": \"baseline\", \"time\": 1699.424212}, {\"condition\": \"o1\", \"time\": 266.6407200000001}, {\"condition\": \"o1o2\", \"time\": 167.14646299999995}, {\"condition\": \"o1o2o3\", \"time\": 127.37098399999999}]}}, {\"mode\": \"vega-lite\"});\n",
       "</script>"
      ],
      "text/plain": [
       "alt.Chart(...)"
      ]
     },
     "execution_count": 128,
     "metadata": {},
     "output_type": "execute_result"
    }
   ],
   "source": [
    "alt.Chart(overall).mark_bar().encode(\n",
    "    x = \"condition\",\n",
    "    y = alt.Y(\"time\",scale=alt.Scale(type='log'),title=\"log(total time)\"),\n",
    ")"
   ]
  },
  {
   "cell_type": "code",
   "execution_count": 6,
   "metadata": {},
   "outputs": [],
   "source": [
    "df = pd.read_csv(\"macrobenchmark.csv\")"
   ]
  },
  {
   "cell_type": "code",
   "execution_count": 7,
   "metadata": {},
   "outputs": [],
   "source": [
    "df.nPts = df.nPts.astype(int)"
   ]
  },
  {
   "cell_type": "code",
   "execution_count": 8,
   "metadata": {},
   "outputs": [],
   "source": [
    "df[\"condition\"] = df.nb_name.replace({\"toy_o1.ipynb\":\"o1\",\n",
    "                    \"toy_o1o2o3.ipynb\":\"o1o2o3\",\n",
    "                    \"toy_o1o2.ipynb\":\"o1o2\",\n",
    "                    \"toy.ipynb\":\"pandas\",\n",
    "                    \"toy_baseline.ipynb\":\"no opt\"})"
   ]
  },
  {
   "cell_type": "code",
   "execution_count": 9,
   "metadata": {},
   "outputs": [
    {
     "data": {
      "text/html": [
       "\n",
       "<div id=\"altair-viz-cc958c9396ab41c7a3fa6d9daeba3695\"></div>\n",
       "<script type=\"text/javascript\">\n",
       "  (function(spec, embedOpt){\n",
       "    let outputDiv = document.currentScript.previousElementSibling;\n",
       "    if (outputDiv.id !== \"altair-viz-cc958c9396ab41c7a3fa6d9daeba3695\") {\n",
       "      outputDiv = document.getElementById(\"altair-viz-cc958c9396ab41c7a3fa6d9daeba3695\");\n",
       "    }\n",
       "    const paths = {\n",
       "      \"vega\": \"https://cdn.jsdelivr.net/npm//vega@5?noext\",\n",
       "      \"vega-lib\": \"https://cdn.jsdelivr.net/npm//vega-lib?noext\",\n",
       "      \"vega-lite\": \"https://cdn.jsdelivr.net/npm//vega-lite@4.8.1?noext\",\n",
       "      \"vega-embed\": \"https://cdn.jsdelivr.net/npm//vega-embed@6?noext\",\n",
       "    };\n",
       "\n",
       "    function loadScript(lib) {\n",
       "      return new Promise(function(resolve, reject) {\n",
       "        var s = document.createElement('script');\n",
       "        s.src = paths[lib];\n",
       "        s.async = true;\n",
       "        s.onload = () => resolve(paths[lib]);\n",
       "        s.onerror = () => reject(`Error loading script: ${paths[lib]}`);\n",
       "        document.getElementsByTagName(\"head\")[0].appendChild(s);\n",
       "      });\n",
       "    }\n",
       "\n",
       "    function showError(err) {\n",
       "      outputDiv.innerHTML = `<div class=\"error\" style=\"color:red;\">${err}</div>`;\n",
       "      throw err;\n",
       "    }\n",
       "\n",
       "    function displayChart(vegaEmbed) {\n",
       "      vegaEmbed(outputDiv, spec, embedOpt)\n",
       "        .catch(err => showError(`Javascript Error: ${err.message}<br>This usually means there's a typo in your chart specification. See the javascript console for the full traceback.`));\n",
       "    }\n",
       "\n",
       "    if(typeof define === \"function\" && define.amd) {\n",
       "      requirejs.config({paths});\n",
       "      require([\"vega-embed\"], displayChart, err => showError(`Error loading script: ${err.message}`));\n",
       "    } else if (typeof vegaEmbed === \"function\") {\n",
       "      displayChart(vegaEmbed);\n",
       "    } else {\n",
       "      loadScript(\"vega\")\n",
       "        .then(() => loadScript(\"vega-lite\"))\n",
       "        .then(() => loadScript(\"vega-embed\"))\n",
       "        .catch(showError)\n",
       "        .then(() => displayChart(vegaEmbed));\n",
       "    }\n",
       "  })({\"config\": {\"view\": {\"continuousWidth\": 400, \"continuousHeight\": 300}}, \"data\": {\"name\": \"data-e2c05423156d20ff5c6717c2bce96f36\"}, \"mark\": \"bar\", \"encoding\": {\"color\": {\"type\": \"nominal\", \"field\": \"condition\"}, \"column\": {\"type\": \"quantitative\", \"field\": \"nPts\"}, \"x\": {\"type\": \"nominal\", \"field\": \"condition\"}, \"y\": {\"type\": \"quantitative\", \"field\": \"time\", \"scale\": {\"type\": \"log\"}, \"title\": \"log(total time)\"}}, \"$schema\": \"https://vega.github.io/schema/vega-lite/v4.8.1.json\", \"datasets\": {\"data-e2c05423156d20ff5c6717c2bce96f36\": [{\"nb_name\": \"toy_o1o2.ipynb\", \"time\": 46.536996293, \"nPts\": 10000, \"condition\": \"o1o2\"}, {\"nb_name\": \"toy.ipynb\", \"time\": 21.622648375999997, \"nPts\": 10000, \"condition\": \"pandas\"}, {\"nb_name\": \"toy_o1.ipynb\", \"time\": 50.335453305, \"nPts\": 10000, \"condition\": \"o1\"}, {\"nb_name\": \"toy_o1o2o3.ipynb\", \"time\": 33.05194930500001, \"nPts\": 10000, \"condition\": \"o1o2o3\"}, {\"nb_name\": \"toy_baseline.ipynb\", \"time\": 103.218829366, \"nPts\": 10000, \"condition\": \"no opt\"}, {\"nb_name\": \"toy_o1o2.ipynb\", \"time\": 41.00393189999997, \"nPts\": 100000, \"condition\": \"o1o2\"}, {\"nb_name\": \"toy.ipynb\", \"time\": 21.21497848300004, \"nPts\": 100000, \"condition\": \"pandas\"}, {\"nb_name\": \"toy_o1.ipynb\", \"time\": 50.503305091000016, \"nPts\": 100000, \"condition\": \"o1\"}, {\"nb_name\": \"toy_o1o2o3.ipynb\", \"time\": 24.73619107999997, \"nPts\": 100000, \"condition\": \"o1o2o3\"}, {\"nb_name\": \"toy_baseline.ipynb\", \"time\": 122.73027056600006, \"nPts\": 100000, \"condition\": \"no opt\"}, {\"nb_name\": \"toy_o1o2.ipynb\", \"time\": 62.10186884999996, \"nPts\": 1000000, \"condition\": \"o1o2\"}, {\"nb_name\": \"toy.ipynb\", \"time\": 24.20217427299997, \"nPts\": 1000000, \"condition\": \"pandas\"}, {\"nb_name\": \"toy_o1.ipynb\", \"time\": 106.01156210199996, \"nPts\": 1000000, \"condition\": \"o1\"}, {\"nb_name\": \"toy_o1o2o3.ipynb\", \"time\": 42.343533011999966, \"nPts\": 1000000, \"condition\": \"o1o2o3\"}, {\"nb_name\": \"toy_baseline.ipynb\", \"time\": 409.563452047, \"nPts\": 1000000, \"condition\": \"no opt\"}, {\"nb_name\": \"toy_o1o2.ipynb\", \"time\": 320.55005981, \"nPts\": 10000000, \"condition\": \"o1o2\"}, {\"nb_name\": \"toy.ipynb\", \"time\": 51.96934168100006, \"nPts\": 10000000, \"condition\": \"pandas\"}, {\"nb_name\": \"toy_o1.ipynb\", \"time\": 550.7182161980002, \"nPts\": 10000000, \"condition\": \"o1\"}, {\"nb_name\": \"toy_o1o2o3.ipynb\", \"time\": 197.560366535, \"nPts\": 10000000, \"condition\": \"o1o2o3\"}, {\"nb_name\": \"toy_baseline.ipynb\", \"time\": 2841.4637312690006, \"nPts\": 10000000, \"condition\": \"no opt\"}]}}, {\"mode\": \"vega-lite\"});\n",
       "</script>"
      ],
      "text/plain": [
       "alt.Chart(...)"
      ]
     },
     "execution_count": 9,
     "metadata": {},
     "output_type": "execute_result"
    }
   ],
   "source": [
    "alt.Chart(df).mark_bar().encode(\n",
    "    x = \"condition\",\n",
    "    y = alt.Y(\"time\",scale=alt.Scale(type='log'),title=\"log(total time)\"),\n",
    "    column=\"nPts\",\n",
    "    color=\"condition\"\n",
    ")"
   ]
  },
  {
   "cell_type": "code",
   "execution_count": 10,
   "metadata": {},
   "outputs": [],
   "source": [
    "# # VegaLite can not do logarithmic stacked bar since it is misleading\n",
    "# alt.Chart(df).mark_bar().encode(\n",
    "#     x = alt.X(\"nPts\",type=\"ordinal\"),\n",
    "#     y = alt.Y(\"time\"),#,scale=alt.Scale(type='log'),title=\"log(total time)\"),\n",
    "#     color=\"condition\"\n",
    "# )"
   ]
  },
  {
   "cell_type": "code",
   "execution_count": 26,
   "metadata": {},
   "outputs": [],
   "source": [
    "df = df.drop(columns=\"nb_name\")"
   ]
  },
  {
   "cell_type": "code",
   "execution_count": 53,
   "metadata": {},
   "outputs": [],
   "source": [
    "pdonly = df[df[\"condition\"]==\"pandas\"]\n",
    "best = df[df[\"condition\"]==\"o1o2o3\"]\n",
    "worst = df[df[\"condition\"]==\"no opt\"]"
   ]
  },
  {
   "cell_type": "code",
   "execution_count": null,
   "metadata": {},
   "outputs": [],
   "source": [
    "import numpy as np"
   ]
  },
  {
   "cell_type": "code",
   "execution_count": 68,
   "metadata": {},
   "outputs": [],
   "source": [
    "def pctChange(s1,s2):\n",
    "    return (np.array(s1[\"time\"])-np.array(s2[\"time\"]))/np.array(s2[\"time\"])"
   ]
  },
  {
   "cell_type": "code",
   "execution_count": 69,
   "metadata": {},
   "outputs": [
    {
     "data": {
      "text/plain": [
       "3      33.051949\n",
       "8      24.736191\n",
       "13     42.343533\n",
       "18    197.560367\n",
       "Name: time, dtype: float64"
      ]
     },
     "execution_count": 69,
     "metadata": {},
     "output_type": "execute_result"
    }
   ],
   "source": [
    "best[\"time\"]"
   ]
  },
  {
   "cell_type": "code",
   "execution_count": 70,
   "metadata": {},
   "outputs": [
    {
     "data": {
      "text/plain": [
       "array([0.52858007, 0.16597767, 0.74957558, 2.80147911])"
      ]
     },
     "execution_count": 70,
     "metadata": {},
     "output_type": "execute_result"
    }
   ],
   "source": [
    "pctChange(best,pdonly)"
   ]
  },
  {
   "cell_type": "code",
   "execution_count": 71,
   "metadata": {},
   "outputs": [
    {
     "data": {
      "text/plain": [
       "array([ 3.77364417,  4.78507636, 15.92258916, 53.6757692 ])"
      ]
     },
     "execution_count": 71,
     "metadata": {},
     "output_type": "execute_result"
    }
   ],
   "source": [
    "pctChange(worst,pdonly)"
   ]
  },
  {
   "cell_type": "code",
   "execution_count": 73,
   "metadata": {},
   "outputs": [
    {
     "data": {
      "text/plain": [
       "array([ 2.12292714,  3.96156705,  8.67239677, 13.38276199])"
      ]
     },
     "execution_count": 73,
     "metadata": {},
     "output_type": "execute_result"
    }
   ],
   "source": [
    "pctChange(worst,best)"
   ]
  },
  {
   "cell_type": "code",
   "execution_count": null,
   "metadata": {},
   "outputs": [],
   "source": []
  },
  {
   "cell_type": "code",
   "execution_count": null,
   "metadata": {},
   "outputs": [],
   "source": []
  }
 ],
 "metadata": {
  "kernelspec": {
   "display_name": "Python 3",
   "language": "python",
   "name": "python3"
  },
  "language_info": {
   "codemirror_mode": {
    "name": "ipython",
    "version": 3
   },
   "file_extension": ".py",
   "mimetype": "text/x-python",
   "name": "python",
   "nbconvert_exporter": "python",
   "pygments_lexer": "ipython3",
   "version": "3.7.7"
  }
 },
 "nbformat": 4,
 "nbformat_minor": 4
}
