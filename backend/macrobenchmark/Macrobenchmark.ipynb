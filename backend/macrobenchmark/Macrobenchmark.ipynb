{
 "cells": [
  {
   "cell_type": "code",
   "execution_count": 8,
   "metadata": {},
   "outputs": [],
   "source": [
    "import nbformat as nbf"
   ]
  },
  {
   "cell_type": "code",
   "execution_count": 9,
   "metadata": {},
   "outputs": [],
   "source": [
    "nb_id = \"airbnb/airbnb\"\n",
    "nb = nbf.read(f\"{nb_id}.ipynb\",as_version=4) #the toy original is the pandas-only control\n",
    "code = \"import lux\"\n",
    "nb[\"cells\"].insert(0,nbf.v4.new_code_cell(code))\n",
    "\n",
    "# Explicit compute_meta_recs at every non-print cell\n",
    "i=0\n",
    "for cell in nb[\"cells\"]:\n",
    "    if i>2:\n",
    "        if (\"# {{NO LUX}}\"in cell[\"source\"]):\n",
    "            cell[\"source\"] = cell[\"source\"]+\"\\nairbnb.compute_meta_recs()\"        \n",
    "    i+=1\n",
    "\n",
    "nbf.write(nb, f'{nb_id}_baseline.ipynb')"
   ]
  },
  {
   "cell_type": "code",
   "execution_count": 12,
   "metadata": {},
   "outputs": [],
   "source": [
    "nb = nbf.read(f\"{nb_id}.ipynb\",as_version=4) \n",
    "code = \"import lux\\nlux.config.lazy_maintain = True\"\n",
    "nb[\"cells\"].insert(0,nbf.v4.new_code_cell(code))\n",
    "nbf.write(nb, f'{nb_id}_o1.ipynb')"
   ]
  },
  {
   "cell_type": "code",
   "execution_count": 13,
   "metadata": {},
   "outputs": [],
   "source": [
    "nb = nbf.read(f\"{nb_id}.ipynb\",as_version=4) \n",
    "code = \"import lux\\nlux.config.lazy_maintain = True\\nlux.config.early_pruning = True\"\n",
    "nb[\"cells\"].insert(0,nbf.v4.new_code_cell(code))\n",
    "nbf.write(nb, f'{nb_id}_o1o2.ipynb')"
   ]
  },
  {
   "cell_type": "code",
   "execution_count": 14,
   "metadata": {},
   "outputs": [],
   "source": [
    "nb = nbf.read(f\"{nb_id}.ipynb\",as_version=4) \n",
    "code = \"import lux\\nlux.config.lazy_maintain = True\\nlux.config.early_pruning = True\\nlux.config.streaming = True\"\n",
    "nb[\"cells\"].insert(0,nbf.v4.new_code_cell(code))\n",
    "nbf.write(nb, f'{nb_id}_o1o2o3.ipynb')"
   ]
  },
  {
   "cell_type": "markdown",
   "metadata": {},
   "source": [
    "------------------------------------------------------------------------------------------"
   ]
  },
  {
   "cell_type": "code",
   "execution_count": 35,
   "metadata": {},
   "outputs": [],
   "source": [
    "import glob\n",
    "import time\n",
    "import papermill as pm\n",
    "import pandas as pd\n",
    "import numpy as np\n",
    "import json\n",
    "trial = []\n",
    "\n",
    "for nb_name in glob.glob(\"airbnb/airbnb_*_output.ipynb\"):\n",
    "# for nb_name in glob.glob(\"airbnb/airbnb_*_*_output.ipynb\"):\n",
    "    snb = nb_name.split(\"_\")\n",
    "    if len(snb)==4:\n",
    "        _, condition, nPts, _ = nb_name.split(\"_\")\n",
    "    elif len(snb)==3:\n",
    "        condition = \"pandas\"\n",
    "        _,  nPts, _ = nb_name.split(\"_\")\n",
    "    with open(nb_name) as json_file:\n",
    "        data = json.load(json_file)\n",
    "        for cell in data['cells']:\n",
    "            label = cell[\"source\"][0]\n",
    "            cell_type = None\n",
    "            if \"# {{NO LUX}}\" in label:\n",
    "                cell_type = \"python\"\n",
    "            elif \"# {{PRINT SERIES}}\" in label:\n",
    "                cell_type = \"print_series\"\n",
    "            elif \"# {{PRINT DF}}\" in label:\n",
    "                cell_type = \"print_dataframe\"\n",
    "            duration = cell[\"metadata\"][\"papermill\"][\"duration\"]\n",
    "#             print(nb_name, cell_type, duration)\n",
    "            trial.append([condition, nPts,cell_type, duration])"
   ]
  },
  {
   "cell_type": "code",
   "execution_count": 36,
   "metadata": {},
   "outputs": [],
   "source": [
    "trial = pd.DataFrame(trial,columns=[\"condition\",\"nPts\",\"cell_type\",\"time\"])"
   ]
  },
  {
   "cell_type": "code",
   "execution_count": 37,
   "metadata": {},
   "outputs": [
    {
     "data": {
      "text/html": [
       "<div>\n",
       "<style scoped>\n",
       "    .dataframe tbody tr th:only-of-type {\n",
       "        vertical-align: middle;\n",
       "    }\n",
       "\n",
       "    .dataframe tbody tr th {\n",
       "        vertical-align: top;\n",
       "    }\n",
       "\n",
       "    .dataframe thead th {\n",
       "        text-align: right;\n",
       "    }\n",
       "</style>\n",
       "<table border=\"1\" class=\"dataframe\">\n",
       "  <thead>\n",
       "    <tr style=\"text-align: right;\">\n",
       "      <th></th>\n",
       "      <th>condition</th>\n",
       "      <th>nPts</th>\n",
       "      <th>time</th>\n",
       "    </tr>\n",
       "    <tr>\n",
       "      <th>cell_type</th>\n",
       "      <th></th>\n",
       "      <th></th>\n",
       "      <th></th>\n",
       "    </tr>\n",
       "  </thead>\n",
       "  <tbody>\n",
       "    <tr>\n",
       "      <th>print_dataframe</th>\n",
       "      <td>280</td>\n",
       "      <td>280</td>\n",
       "      <td>271</td>\n",
       "    </tr>\n",
       "    <tr>\n",
       "      <th>print_series</th>\n",
       "      <td>140</td>\n",
       "      <td>140</td>\n",
       "      <td>136</td>\n",
       "    </tr>\n",
       "    <tr>\n",
       "      <th>python</th>\n",
       "      <td>340</td>\n",
       "      <td>340</td>\n",
       "      <td>334</td>\n",
       "    </tr>\n",
       "  </tbody>\n",
       "</table>\n",
       "</div>"
      ],
      "text/plain": [
       "                 condition  nPts  time\n",
       "cell_type                             \n",
       "print_dataframe        280   280   271\n",
       "print_series           140   140   136\n",
       "python                 340   340   334"
      ]
     },
     "execution_count": 37,
     "metadata": {},
     "output_type": "execute_result"
    }
   ],
   "source": [
    "trial.groupby(\"cell_type\").count()"
   ]
  },
  {
   "cell_type": "markdown",
   "metadata": {},
   "source": [
    "--------------"
   ]
  },
  {
   "cell_type": "code",
   "execution_count": 38,
   "metadata": {},
   "outputs": [],
   "source": [
    "import pandas as pd\n",
    "import altair as alt"
   ]
  },
  {
   "cell_type": "code",
   "execution_count": 39,
   "metadata": {},
   "outputs": [],
   "source": [
    "overall = trial.groupby(\"condition\").sum().reset_index()"
   ]
  },
  {
   "cell_type": "code",
   "execution_count": 41,
   "metadata": {},
   "outputs": [
    {
     "data": {
      "text/html": [
       "<div>\n",
       "<style scoped>\n",
       "    .dataframe tbody tr th:only-of-type {\n",
       "        vertical-align: middle;\n",
       "    }\n",
       "\n",
       "    .dataframe tbody tr th {\n",
       "        vertical-align: top;\n",
       "    }\n",
       "\n",
       "    .dataframe thead th {\n",
       "        text-align: right;\n",
       "    }\n",
       "</style>\n",
       "<table border=\"1\" class=\"dataframe\">\n",
       "  <thead>\n",
       "    <tr style=\"text-align: right;\">\n",
       "      <th></th>\n",
       "      <th>condition</th>\n",
       "      <th>time</th>\n",
       "    </tr>\n",
       "  </thead>\n",
       "  <tbody>\n",
       "    <tr>\n",
       "      <th>0</th>\n",
       "      <td>baseline</td>\n",
       "      <td>5363.754085</td>\n",
       "    </tr>\n",
       "    <tr>\n",
       "      <th>1</th>\n",
       "      <td>o1</td>\n",
       "      <td>1198.268738</td>\n",
       "    </tr>\n",
       "    <tr>\n",
       "      <th>2</th>\n",
       "      <td>o1o2</td>\n",
       "      <td>692.022234</td>\n",
       "    </tr>\n",
       "    <tr>\n",
       "      <th>3</th>\n",
       "      <td>o1o2o3</td>\n",
       "      <td>510.325552</td>\n",
       "    </tr>\n",
       "    <tr>\n",
       "      <th>4</th>\n",
       "      <td>pandas</td>\n",
       "      <td>172.361008</td>\n",
       "    </tr>\n",
       "  </tbody>\n",
       "</table>\n",
       "</div>"
      ],
      "text/plain": [
       "  condition         time\n",
       "0  baseline  5363.754085\n",
       "1        o1  1198.268738\n",
       "2      o1o2   692.022234\n",
       "3    o1o2o3   510.325552\n",
       "4    pandas   172.361008"
      ]
     },
     "execution_count": 41,
     "metadata": {},
     "output_type": "execute_result"
    }
   ],
   "source": [
    "overall"
   ]
  },
  {
   "cell_type": "code",
   "execution_count": 42,
   "metadata": {},
   "outputs": [
    {
     "data": {
      "text/html": [
       "\n",
       "<div id=\"altair-viz-f07feba2764442e3ad44a5468caeedeb\"></div>\n",
       "<script type=\"text/javascript\">\n",
       "  (function(spec, embedOpt){\n",
       "    let outputDiv = document.currentScript.previousElementSibling;\n",
       "    if (outputDiv.id !== \"altair-viz-f07feba2764442e3ad44a5468caeedeb\") {\n",
       "      outputDiv = document.getElementById(\"altair-viz-f07feba2764442e3ad44a5468caeedeb\");\n",
       "    }\n",
       "    const paths = {\n",
       "      \"vega\": \"https://cdn.jsdelivr.net/npm//vega@5?noext\",\n",
       "      \"vega-lib\": \"https://cdn.jsdelivr.net/npm//vega-lib?noext\",\n",
       "      \"vega-lite\": \"https://cdn.jsdelivr.net/npm//vega-lite@4.8.1?noext\",\n",
       "      \"vega-embed\": \"https://cdn.jsdelivr.net/npm//vega-embed@6?noext\",\n",
       "    };\n",
       "\n",
       "    function loadScript(lib) {\n",
       "      return new Promise(function(resolve, reject) {\n",
       "        var s = document.createElement('script');\n",
       "        s.src = paths[lib];\n",
       "        s.async = true;\n",
       "        s.onload = () => resolve(paths[lib]);\n",
       "        s.onerror = () => reject(`Error loading script: ${paths[lib]}`);\n",
       "        document.getElementsByTagName(\"head\")[0].appendChild(s);\n",
       "      });\n",
       "    }\n",
       "\n",
       "    function showError(err) {\n",
       "      outputDiv.innerHTML = `<div class=\"error\" style=\"color:red;\">${err}</div>`;\n",
       "      throw err;\n",
       "    }\n",
       "\n",
       "    function displayChart(vegaEmbed) {\n",
       "      vegaEmbed(outputDiv, spec, embedOpt)\n",
       "        .catch(err => showError(`Javascript Error: ${err.message}<br>This usually means there's a typo in your chart specification. See the javascript console for the full traceback.`));\n",
       "    }\n",
       "\n",
       "    if(typeof define === \"function\" && define.amd) {\n",
       "      requirejs.config({paths});\n",
       "      require([\"vega-embed\"], displayChart, err => showError(`Error loading script: ${err.message}`));\n",
       "    } else if (typeof vegaEmbed === \"function\") {\n",
       "      displayChart(vegaEmbed);\n",
       "    } else {\n",
       "      loadScript(\"vega\")\n",
       "        .then(() => loadScript(\"vega-lite\"))\n",
       "        .then(() => loadScript(\"vega-embed\"))\n",
       "        .catch(showError)\n",
       "        .then(() => displayChart(vegaEmbed));\n",
       "    }\n",
       "  })({\"config\": {\"view\": {\"continuousWidth\": 400, \"continuousHeight\": 300}}, \"data\": {\"name\": \"data-51625b7a70e83814ed693eb440e99bb4\"}, \"mark\": \"bar\", \"encoding\": {\"x\": {\"type\": \"nominal\", \"field\": \"condition\"}, \"y\": {\"type\": \"quantitative\", \"field\": \"time\", \"scale\": {\"type\": \"log\"}, \"title\": \"log(total time)\"}}, \"$schema\": \"https://vega.github.io/schema/vega-lite/v4.8.1.json\", \"datasets\": {\"data-51625b7a70e83814ed693eb440e99bb4\": [{\"condition\": \"baseline\", \"time\": 5363.754084999993}, {\"condition\": \"o1\", \"time\": 1198.2687379999998}, {\"condition\": \"o1o2\", \"time\": 692.0222339999997}, {\"condition\": \"o1o2o3\", \"time\": 510.32555200000024}, {\"condition\": \"pandas\", \"time\": 172.36100800000003}]}}, {\"mode\": \"vega-lite\"});\n",
       "</script>"
      ],
      "text/plain": [
       "alt.Chart(...)"
      ]
     },
     "execution_count": 42,
     "metadata": {},
     "output_type": "execute_result"
    }
   ],
   "source": [
    "alt.Chart(overall).mark_bar().encode(\n",
    "    x = \"condition\",\n",
    "    y = alt.Y(\"time\",scale=alt.Scale(type='log'),title=\"log(total time)\"),\n",
    ")"
   ]
  },
  {
   "cell_type": "code",
   "execution_count": 47,
   "metadata": {},
   "outputs": [
    {
     "data": {
      "text/html": [
       "\n",
       "<div id=\"altair-viz-5e99955f782a4f27b06903bab7b8cfd4\"></div>\n",
       "<script type=\"text/javascript\">\n",
       "  (function(spec, embedOpt){\n",
       "    let outputDiv = document.currentScript.previousElementSibling;\n",
       "    if (outputDiv.id !== \"altair-viz-5e99955f782a4f27b06903bab7b8cfd4\") {\n",
       "      outputDiv = document.getElementById(\"altair-viz-5e99955f782a4f27b06903bab7b8cfd4\");\n",
       "    }\n",
       "    const paths = {\n",
       "      \"vega\": \"https://cdn.jsdelivr.net/npm//vega@5?noext\",\n",
       "      \"vega-lib\": \"https://cdn.jsdelivr.net/npm//vega-lib?noext\",\n",
       "      \"vega-lite\": \"https://cdn.jsdelivr.net/npm//vega-lite@4.8.1?noext\",\n",
       "      \"vega-embed\": \"https://cdn.jsdelivr.net/npm//vega-embed@6?noext\",\n",
       "    };\n",
       "\n",
       "    function loadScript(lib) {\n",
       "      return new Promise(function(resolve, reject) {\n",
       "        var s = document.createElement('script');\n",
       "        s.src = paths[lib];\n",
       "        s.async = true;\n",
       "        s.onload = () => resolve(paths[lib]);\n",
       "        s.onerror = () => reject(`Error loading script: ${paths[lib]}`);\n",
       "        document.getElementsByTagName(\"head\")[0].appendChild(s);\n",
       "      });\n",
       "    }\n",
       "\n",
       "    function showError(err) {\n",
       "      outputDiv.innerHTML = `<div class=\"error\" style=\"color:red;\">${err}</div>`;\n",
       "      throw err;\n",
       "    }\n",
       "\n",
       "    function displayChart(vegaEmbed) {\n",
       "      vegaEmbed(outputDiv, spec, embedOpt)\n",
       "        .catch(err => showError(`Javascript Error: ${err.message}<br>This usually means there's a typo in your chart specification. See the javascript console for the full traceback.`));\n",
       "    }\n",
       "\n",
       "    if(typeof define === \"function\" && define.amd) {\n",
       "      requirejs.config({paths});\n",
       "      require([\"vega-embed\"], displayChart, err => showError(`Error loading script: ${err.message}`));\n",
       "    } else if (typeof vegaEmbed === \"function\") {\n",
       "      displayChart(vegaEmbed);\n",
       "    } else {\n",
       "      loadScript(\"vega\")\n",
       "        .then(() => loadScript(\"vega-lite\"))\n",
       "        .then(() => loadScript(\"vega-embed\"))\n",
       "        .catch(showError)\n",
       "        .then(() => displayChart(vegaEmbed));\n",
       "    }\n",
       "  })({\"config\": {\"view\": {\"continuousWidth\": 400, \"continuousHeight\": 300}, \"title\": {\"anchor\": \"middle\", \"fontSize\": 16, \"offset\": 5, \"orient\": \"top\"}}, \"data\": {\"name\": \"data-953603a317f0c8ab9b1e949e0105fadb\"}, \"mark\": \"bar\", \"encoding\": {\"color\": {\"type\": \"nominal\", \"field\": \"condition\"}, \"column\": {\"type\": \"nominal\", \"field\": \"nPts\"}, \"x\": {\"type\": \"nominal\", \"field\": \"condition\"}, \"y\": {\"type\": \"quantitative\", \"field\": \"time\", \"scale\": {\"type\": \"log\"}, \"title\": \"log(total time)\"}}, \"title\": \"Overall\", \"$schema\": \"https://vega.github.io/schema/vega-lite/v4.8.1.json\", \"datasets\": {\"data-953603a317f0c8ab9b1e949e0105fadb\": [{\"condition\": \"baseline\", \"nPts\": \"10000\", \"time\": 113.39623900000001}, {\"condition\": \"baseline\", \"nPts\": \"100000\", \"time\": 215.325051}, {\"condition\": \"baseline\", \"nPts\": \"1000000\", \"time\": 869.526752}, {\"condition\": \"baseline\", \"nPts\": \"10000000\", \"time\": 4165.506043}, {\"condition\": \"o1\", \"nPts\": \"10000\", \"time\": 51.46148999999997}, {\"condition\": \"o1\", \"nPts\": \"100000\", \"time\": 69.048892}, {\"condition\": \"o1\", \"nPts\": \"1000000\", \"time\": 167.22527199999996}, {\"condition\": \"o1\", \"nPts\": \"10000000\", \"time\": 910.5330840000001}, {\"condition\": \"o1o2\", \"nPts\": \"10000\", \"time\": 41.414653}, {\"condition\": \"o1o2\", \"nPts\": \"100000\", \"time\": 53.697071000000015}, {\"condition\": \"o1o2\", \"nPts\": \"1000000\", \"time\": 94.84728300000003}, {\"condition\": \"o1o2\", \"nPts\": \"10000000\", \"time\": 502.0632269999999}, {\"condition\": \"o1o2o3\", \"nPts\": \"10000\", \"time\": 31.335468000000006}, {\"condition\": \"o1o2o3\", \"nPts\": \"100000\", \"time\": 35.069112999999994}, {\"condition\": \"o1o2o3\", \"nPts\": \"1000000\", \"time\": 70.15771200000003}, {\"condition\": \"o1o2o3\", \"nPts\": \"10000000\", \"time\": 373.7632590000001}, {\"condition\": \"pandas\", \"nPts\": \"10000\", \"time\": 29.55361800000001}, {\"condition\": \"pandas\", \"nPts\": \"100000\", \"time\": 29.751648000000014}, {\"condition\": \"pandas\", \"nPts\": \"1000000\", \"time\": 33.211530999999994}, {\"condition\": \"pandas\", \"nPts\": \"10000000\", \"time\": 79.84421099999997}]}}, {\"mode\": \"vega-lite\"});\n",
       "</script>"
      ],
      "text/plain": [
       "alt.Chart(...)"
      ]
     },
     "execution_count": 47,
     "metadata": {},
     "output_type": "execute_result"
    }
   ],
   "source": [
    "overall = trial.groupby([\"condition\",\"nPts\"]).sum().reset_index()\n",
    "chart = alt.Chart(overall,title = \"Overall\").mark_bar().encode(\n",
    "    x = \"condition\",\n",
    "    y = alt.Y(\"time\",scale=alt.Scale(type='log'),title=\"log(total time)\"),\n",
    "    column=\"nPts\",\n",
    "    color=\"condition\"\n",
    ")\n",
    "chart = chart.configure_title(fontSize=16, offset=5, orient='top', anchor='middle')\n",
    "chart"
   ]
  },
  {
   "cell_type": "code",
   "execution_count": 45,
   "metadata": {},
   "outputs": [
    {
     "data": {
      "text/html": [
       "\n",
       "<div id=\"altair-viz-074b0884f33d44b09744591e73fbfbc9\"></div>\n",
       "<script type=\"text/javascript\">\n",
       "  (function(spec, embedOpt){\n",
       "    let outputDiv = document.currentScript.previousElementSibling;\n",
       "    if (outputDiv.id !== \"altair-viz-074b0884f33d44b09744591e73fbfbc9\") {\n",
       "      outputDiv = document.getElementById(\"altair-viz-074b0884f33d44b09744591e73fbfbc9\");\n",
       "    }\n",
       "    const paths = {\n",
       "      \"vega\": \"https://cdn.jsdelivr.net/npm//vega@5?noext\",\n",
       "      \"vega-lib\": \"https://cdn.jsdelivr.net/npm//vega-lib?noext\",\n",
       "      \"vega-lite\": \"https://cdn.jsdelivr.net/npm//vega-lite@4.8.1?noext\",\n",
       "      \"vega-embed\": \"https://cdn.jsdelivr.net/npm//vega-embed@6?noext\",\n",
       "    };\n",
       "\n",
       "    function loadScript(lib) {\n",
       "      return new Promise(function(resolve, reject) {\n",
       "        var s = document.createElement('script');\n",
       "        s.src = paths[lib];\n",
       "        s.async = true;\n",
       "        s.onload = () => resolve(paths[lib]);\n",
       "        s.onerror = () => reject(`Error loading script: ${paths[lib]}`);\n",
       "        document.getElementsByTagName(\"head\")[0].appendChild(s);\n",
       "      });\n",
       "    }\n",
       "\n",
       "    function showError(err) {\n",
       "      outputDiv.innerHTML = `<div class=\"error\" style=\"color:red;\">${err}</div>`;\n",
       "      throw err;\n",
       "    }\n",
       "\n",
       "    function displayChart(vegaEmbed) {\n",
       "      vegaEmbed(outputDiv, spec, embedOpt)\n",
       "        .catch(err => showError(`Javascript Error: ${err.message}<br>This usually means there's a typo in your chart specification. See the javascript console for the full traceback.`));\n",
       "    }\n",
       "\n",
       "    if(typeof define === \"function\" && define.amd) {\n",
       "      requirejs.config({paths});\n",
       "      require([\"vega-embed\"], displayChart, err => showError(`Error loading script: ${err.message}`));\n",
       "    } else if (typeof vegaEmbed === \"function\") {\n",
       "      displayChart(vegaEmbed);\n",
       "    } else {\n",
       "      loadScript(\"vega\")\n",
       "        .then(() => loadScript(\"vega-lite\"))\n",
       "        .then(() => loadScript(\"vega-embed\"))\n",
       "        .catch(showError)\n",
       "        .then(() => displayChart(vegaEmbed));\n",
       "    }\n",
       "  })({\"config\": {\"view\": {\"continuousWidth\": 400, \"continuousHeight\": 300}, \"title\": {\"anchor\": \"middle\", \"fontSize\": 16, \"offset\": 5, \"orient\": \"top\"}}, \"data\": {\"name\": \"data-b8ce753c742f746f0e645b7eb17b8dfc\"}, \"mark\": \"bar\", \"encoding\": {\"color\": {\"type\": \"nominal\", \"field\": \"condition\"}, \"column\": {\"type\": \"nominal\", \"field\": \"nPts\"}, \"x\": {\"type\": \"nominal\", \"field\": \"condition\"}, \"y\": {\"type\": \"quantitative\", \"field\": \"time\", \"scale\": {\"type\": \"log\"}, \"title\": \"log(total time)\"}}, \"title\": \"Non-Lux Python Operations\", \"$schema\": \"https://vega.github.io/schema/vega-lite/v4.8.1.json\", \"datasets\": {\"data-b8ce753c742f746f0e645b7eb17b8dfc\": [{\"condition\": \"baseline\", \"nPts\": \"10000\", \"cell_type\": \"python\", \"time\": 4.837800647058824}, {\"condition\": \"baseline\", \"nPts\": \"100000\", \"cell_type\": \"python\", \"time\": 8.761272235294118}, {\"condition\": \"baseline\", \"nPts\": \"1000000\", \"cell_type\": \"python\", \"time\": 34.633733294117654}, {\"condition\": \"baseline\", \"nPts\": \"10000000\", \"cell_type\": \"python\", \"time\": 293.4142815454545}, {\"condition\": \"o1\", \"nPts\": \"10000\", \"cell_type\": \"python\", \"time\": 1.5597128235294118}, {\"condition\": \"o1\", \"nPts\": \"100000\", \"cell_type\": \"python\", \"time\": 1.5920723529411769}, {\"condition\": \"o1\", \"nPts\": \"1000000\", \"cell_type\": \"python\", \"time\": 1.8205540588235298}, {\"condition\": \"o1\", \"nPts\": \"10000000\", \"cell_type\": \"python\", \"time\": 2.7813182352941177}, {\"condition\": \"o1o2\", \"nPts\": \"10000\", \"cell_type\": \"python\", \"time\": 1.5654418823529412}, {\"condition\": \"o1o2\", \"nPts\": \"100000\", \"cell_type\": \"python\", \"time\": 1.8851274705882355}, {\"condition\": \"o1o2\", \"nPts\": \"1000000\", \"cell_type\": \"python\", \"time\": 1.7804292941176474}, {\"condition\": \"o1o2\", \"nPts\": \"10000000\", \"cell_type\": \"python\", \"time\": 2.775449000000001}, {\"condition\": \"o1o2o3\", \"nPts\": \"10000\", \"cell_type\": \"python\", \"time\": 1.5560285882352944}, {\"condition\": \"o1o2o3\", \"nPts\": \"100000\", \"cell_type\": \"python\", \"time\": 1.5622338235294118}, {\"condition\": \"o1o2o3\", \"nPts\": \"1000000\", \"cell_type\": \"python\", \"time\": 1.703494058823529}, {\"condition\": \"o1o2o3\", \"nPts\": \"10000000\", \"cell_type\": \"python\", \"time\": 2.680308823529411}, {\"condition\": \"pandas\", \"nPts\": \"10000\", \"cell_type\": \"python\", \"time\": 1.6731158823529417}, {\"condition\": \"pandas\", \"nPts\": \"100000\", \"cell_type\": \"python\", \"time\": 1.6752127058823536}, {\"condition\": \"pandas\", \"nPts\": \"1000000\", \"cell_type\": \"python\", \"time\": 1.717952882352941}, {\"condition\": \"pandas\", \"nPts\": \"10000000\", \"cell_type\": \"python\", \"time\": 2.965725352941176}]}}, {\"mode\": \"vega-lite\"});\n",
       "</script>"
      ],
      "text/plain": [
       "alt.Chart(...)"
      ]
     },
     "execution_count": 45,
     "metadata": {},
     "output_type": "execute_result"
    }
   ],
   "source": [
    "overall = trial.groupby([\"condition\",\"nPts\",\"cell_type\"]).mean().reset_index()\n",
    "pdf = overall[overall[\"cell_type\"] ==\"python\"]\n",
    "chart = alt.Chart(pdf,title = \"Non-Lux Python Operations\").mark_bar().encode(\n",
    "    x = \"condition\",\n",
    "    y = alt.Y(\"time\",scale=alt.Scale(type='log'),title=\"log(total time)\"),\n",
    "    column=\"nPts\",\n",
    "    color=\"condition\"\n",
    ")\n",
    "chart = chart.configure_title(fontSize=16, offset=5, orient='top', anchor='middle')\n",
    "chart"
   ]
  },
  {
   "cell_type": "code",
   "execution_count": 28,
   "metadata": {},
   "outputs": [
    {
     "data": {
      "text/html": [
       "\n",
       "<div id=\"altair-viz-74a0e64288d146139b9b49f884fcc36b\"></div>\n",
       "<script type=\"text/javascript\">\n",
       "  (function(spec, embedOpt){\n",
       "    let outputDiv = document.currentScript.previousElementSibling;\n",
       "    if (outputDiv.id !== \"altair-viz-74a0e64288d146139b9b49f884fcc36b\") {\n",
       "      outputDiv = document.getElementById(\"altair-viz-74a0e64288d146139b9b49f884fcc36b\");\n",
       "    }\n",
       "    const paths = {\n",
       "      \"vega\": \"https://cdn.jsdelivr.net/npm//vega@5?noext\",\n",
       "      \"vega-lib\": \"https://cdn.jsdelivr.net/npm//vega-lib?noext\",\n",
       "      \"vega-lite\": \"https://cdn.jsdelivr.net/npm//vega-lite@4.8.1?noext\",\n",
       "      \"vega-embed\": \"https://cdn.jsdelivr.net/npm//vega-embed@6?noext\",\n",
       "    };\n",
       "\n",
       "    function loadScript(lib) {\n",
       "      return new Promise(function(resolve, reject) {\n",
       "        var s = document.createElement('script');\n",
       "        s.src = paths[lib];\n",
       "        s.async = true;\n",
       "        s.onload = () => resolve(paths[lib]);\n",
       "        s.onerror = () => reject(`Error loading script: ${paths[lib]}`);\n",
       "        document.getElementsByTagName(\"head\")[0].appendChild(s);\n",
       "      });\n",
       "    }\n",
       "\n",
       "    function showError(err) {\n",
       "      outputDiv.innerHTML = `<div class=\"error\" style=\"color:red;\">${err}</div>`;\n",
       "      throw err;\n",
       "    }\n",
       "\n",
       "    function displayChart(vegaEmbed) {\n",
       "      vegaEmbed(outputDiv, spec, embedOpt)\n",
       "        .catch(err => showError(`Javascript Error: ${err.message}<br>This usually means there's a typo in your chart specification. See the javascript console for the full traceback.`));\n",
       "    }\n",
       "\n",
       "    if(typeof define === \"function\" && define.amd) {\n",
       "      requirejs.config({paths});\n",
       "      require([\"vega-embed\"], displayChart, err => showError(`Error loading script: ${err.message}`));\n",
       "    } else if (typeof vegaEmbed === \"function\") {\n",
       "      displayChart(vegaEmbed);\n",
       "    } else {\n",
       "      loadScript(\"vega\")\n",
       "        .then(() => loadScript(\"vega-lite\"))\n",
       "        .then(() => loadScript(\"vega-embed\"))\n",
       "        .catch(showError)\n",
       "        .then(() => displayChart(vegaEmbed));\n",
       "    }\n",
       "  })({\"config\": {\"view\": {\"continuousWidth\": 400, \"continuousHeight\": 300}, \"title\": {\"anchor\": \"middle\", \"fontSize\": 16, \"offset\": 5, \"orient\": \"top\"}}, \"data\": {\"name\": \"data-064387adead450f1b57fdbfa03626341\"}, \"mark\": \"bar\", \"encoding\": {\"color\": {\"type\": \"nominal\", \"field\": \"condition\"}, \"column\": {\"type\": \"nominal\", \"field\": \"nPts\"}, \"x\": {\"type\": \"nominal\", \"field\": \"condition\"}, \"y\": {\"type\": \"quantitative\", \"field\": \"time\", \"scale\": {\"type\": \"log\"}, \"title\": \"log(total time)\"}}, \"title\": \"Print Series\", \"$schema\": \"https://vega.github.io/schema/vega-lite/v4.8.1.json\", \"datasets\": {\"data-064387adead450f1b57fdbfa03626341\": [{\"condition\": \"baseline\", \"nPts\": \"10000\", \"cell_type\": \"print_series\", \"time\": 0.114121}, {\"condition\": \"baseline\", \"nPts\": \"100000\", \"cell_type\": \"print_series\", \"time\": 0.21239557142857143}, {\"condition\": \"baseline\", \"nPts\": \"1000000\", \"cell_type\": \"print_series\", \"time\": 1.0430601428571429}, {\"condition\": \"baseline\", \"nPts\": \"10000000\", \"cell_type\": \"print_series\", \"time\": 1.5034433333333335}, {\"condition\": \"o1\", \"nPts\": \"10000\", \"cell_type\": \"print_series\", \"time\": 0.10305914285714286}, {\"condition\": \"o1\", \"nPts\": \"100000\", \"cell_type\": \"print_series\", \"time\": 0.14730342857142859}, {\"condition\": \"o1\", \"nPts\": \"1000000\", \"cell_type\": \"print_series\", \"time\": 0.6867958571428571}, {\"condition\": \"o1\", \"nPts\": \"10000000\", \"cell_type\": \"print_series\", \"time\": 5.570416714285714}, {\"condition\": \"o1o2\", \"nPts\": \"10000\", \"cell_type\": \"print_series\", \"time\": 0.101768}, {\"condition\": \"o1o2\", \"nPts\": \"100000\", \"cell_type\": \"print_series\", \"time\": 0.14369285714285712}, {\"condition\": \"o1o2\", \"nPts\": \"1000000\", \"cell_type\": \"print_series\", \"time\": 0.6439940000000001}, {\"condition\": \"o1o2\", \"nPts\": \"10000000\", \"cell_type\": \"print_series\", \"time\": 5.464911142857143}, {\"condition\": \"o1o2o3\", \"nPts\": \"10000\", \"cell_type\": \"print_series\", \"time\": 0.09305242857142858}, {\"condition\": \"o1o2o3\", \"nPts\": \"100000\", \"cell_type\": \"print_series\", \"time\": 0.13223285714285712}, {\"condition\": \"o1o2o3\", \"nPts\": \"1000000\", \"cell_type\": \"print_series\", \"time\": 0.6712628571428573}, {\"condition\": \"o1o2o3\", \"nPts\": \"10000000\", \"cell_type\": \"print_series\", \"time\": 5.051100571428571}, {\"condition\": \"pandas\", \"nPts\": \"10000\", \"cell_type\": \"print_series\", \"time\": 0.05949828571428572}, {\"condition\": \"pandas\", \"nPts\": \"100000\", \"cell_type\": \"print_series\", \"time\": 0.08230914285714286}, {\"condition\": \"pandas\", \"nPts\": \"1000000\", \"cell_type\": \"print_series\", \"time\": 0.47156642857142855}, {\"condition\": \"pandas\", \"nPts\": \"10000000\", \"cell_type\": \"print_series\", \"time\": 4.086945}]}}, {\"mode\": \"vega-lite\"});\n",
       "</script>"
      ],
      "text/plain": [
       "alt.Chart(...)"
      ]
     },
     "execution_count": 28,
     "metadata": {},
     "output_type": "execute_result"
    }
   ],
   "source": [
    "overall = trial.groupby([\"condition\",\"nPts\",\"cell_type\"]).mean().reset_index()\n",
    "pdf = overall[overall[\"cell_type\"] ==\"print_series\"]\n",
    "chart = alt.Chart(pdf,title = \"Print Series\").mark_bar().encode(\n",
    "    x = \"condition\",\n",
    "    y = alt.Y(\"time\",scale=alt.Scale(type='log'),title=\"log(total time)\"),\n",
    "    column=\"nPts\",\n",
    "    color=\"condition\"\n",
    ")\n",
    "chart = chart.configure_title(fontSize=16, offset=5, orient='top', anchor='middle')\n",
    "chart"
   ]
  },
  {
   "cell_type": "code",
   "execution_count": 30,
   "metadata": {},
   "outputs": [
    {
     "data": {
      "text/html": [
       "\n",
       "<div id=\"altair-viz-1edee894b7814a9cab8bc559082acf59\"></div>\n",
       "<script type=\"text/javascript\">\n",
       "  (function(spec, embedOpt){\n",
       "    let outputDiv = document.currentScript.previousElementSibling;\n",
       "    if (outputDiv.id !== \"altair-viz-1edee894b7814a9cab8bc559082acf59\") {\n",
       "      outputDiv = document.getElementById(\"altair-viz-1edee894b7814a9cab8bc559082acf59\");\n",
       "    }\n",
       "    const paths = {\n",
       "      \"vega\": \"https://cdn.jsdelivr.net/npm//vega@5?noext\",\n",
       "      \"vega-lib\": \"https://cdn.jsdelivr.net/npm//vega-lib?noext\",\n",
       "      \"vega-lite\": \"https://cdn.jsdelivr.net/npm//vega-lite@4.8.1?noext\",\n",
       "      \"vega-embed\": \"https://cdn.jsdelivr.net/npm//vega-embed@6?noext\",\n",
       "    };\n",
       "\n",
       "    function loadScript(lib) {\n",
       "      return new Promise(function(resolve, reject) {\n",
       "        var s = document.createElement('script');\n",
       "        s.src = paths[lib];\n",
       "        s.async = true;\n",
       "        s.onload = () => resolve(paths[lib]);\n",
       "        s.onerror = () => reject(`Error loading script: ${paths[lib]}`);\n",
       "        document.getElementsByTagName(\"head\")[0].appendChild(s);\n",
       "      });\n",
       "    }\n",
       "\n",
       "    function showError(err) {\n",
       "      outputDiv.innerHTML = `<div class=\"error\" style=\"color:red;\">${err}</div>`;\n",
       "      throw err;\n",
       "    }\n",
       "\n",
       "    function displayChart(vegaEmbed) {\n",
       "      vegaEmbed(outputDiv, spec, embedOpt)\n",
       "        .catch(err => showError(`Javascript Error: ${err.message}<br>This usually means there's a typo in your chart specification. See the javascript console for the full traceback.`));\n",
       "    }\n",
       "\n",
       "    if(typeof define === \"function\" && define.amd) {\n",
       "      requirejs.config({paths});\n",
       "      require([\"vega-embed\"], displayChart, err => showError(`Error loading script: ${err.message}`));\n",
       "    } else if (typeof vegaEmbed === \"function\") {\n",
       "      displayChart(vegaEmbed);\n",
       "    } else {\n",
       "      loadScript(\"vega\")\n",
       "        .then(() => loadScript(\"vega-lite\"))\n",
       "        .then(() => loadScript(\"vega-embed\"))\n",
       "        .catch(showError)\n",
       "        .then(() => displayChart(vegaEmbed));\n",
       "    }\n",
       "  })({\"config\": {\"view\": {\"continuousWidth\": 400, \"continuousHeight\": 300}, \"title\": {\"anchor\": \"middle\", \"fontSize\": 16, \"offset\": 5, \"orient\": \"top\"}}, \"data\": {\"name\": \"data-b8505893c18e13c27313ae4ad9438e17\"}, \"mark\": \"bar\", \"encoding\": {\"color\": {\"type\": \"nominal\", \"field\": \"condition\"}, \"column\": {\"type\": \"nominal\", \"field\": \"nPts\"}, \"x\": {\"type\": \"nominal\", \"field\": \"condition\"}, \"y\": {\"type\": \"quantitative\", \"field\": \"time\", \"scale\": {\"type\": \"log\"}, \"title\": \"log(total time)\"}}, \"title\": \"Print Dataframe\", \"$schema\": \"https://vega.github.io/schema/vega-lite/v4.8.1.json\", \"datasets\": {\"data-b8505893c18e13c27313ae4ad9438e17\": [{\"condition\": \"baseline\", \"nPts\": \"10000\", \"cell_type\": \"print_dataframe\", \"time\": 2.0925775714285715}, {\"condition\": \"baseline\", \"nPts\": \"100000\", \"cell_type\": \"print_dataframe\", \"time\": 4.560398214285715}, {\"condition\": \"baseline\", \"nPts\": \"1000000\", \"cell_type\": \"print_dataframe\", \"time\": 19.46029342857143}, {\"condition\": \"baseline\", \"nPts\": \"10000000\", \"cell_type\": \"print_dataframe\", \"time\": 186.494997}, {\"condition\": \"o1\", \"nPts\": \"10000\", \"cell_type\": \"print_dataframe\", \"time\": 1.6487685714285718}, {\"condition\": \"o1\", \"nPts\": \"100000\", \"cell_type\": \"print_dataframe\", \"time\": 2.8713929285714284}, {\"condition\": \"o1\", \"nPts\": \"1000000\", \"cell_type\": \"print_dataframe\", \"time\": 9.334235428571427}, {\"condition\": \"o1\", \"nPts\": \"10000000\", \"cell_type\": \"print_dataframe\", \"time\": 58.794633357142864}, {\"condition\": \"o1o2\", \"nPts\": \"10000\", \"cell_type\": \"print_dataframe\", \"time\": 0.9314949285714285}, {\"condition\": \"o1o2\", \"nPts\": \"100000\", \"cell_type\": \"print_dataframe\", \"time\": 1.3732372142857145}, {\"condition\": \"o1o2\", \"nPts\": \"1000000\", \"cell_type\": \"print_dataframe\", \"time\": 4.2205451428571426}, {\"condition\": \"o1o2\", \"nPts\": \"10000000\", \"cell_type\": \"print_dataframe\", \"time\": 29.678744499999997}, {\"condition\": \"o1o2o3\", \"nPts\": \"10000\", \"cell_type\": \"print_dataframe\", \"time\": 0.22921721428571426}, {\"condition\": \"o1o2o3\", \"nPts\": \"100000\", \"cell_type\": \"print_dataframe\", \"time\": 0.464724}, {\"condition\": \"o1o2o3\", \"nPts\": \"1000000\", \"cell_type\": \"print_dataframe\", \"time\": 2.5530188571428574}, {\"condition\": \"o1o2o3\", \"nPts\": \"10000000\", \"cell_type\": \"print_dataframe\", \"time\": 20.840152214285713}, {\"condition\": \"pandas\", \"nPts\": \"10000\", \"cell_type\": \"print_dataframe\", \"time\": 0.044312928571428566}, {\"condition\": \"pandas\", \"nPts\": \"100000\", \"cell_type\": \"print_dataframe\", \"time\": 0.044166642857142856}, {\"condition\": \"pandas\", \"nPts\": \"1000000\", \"cell_type\": \"print_dataframe\", \"time\": 0.0450655}, {\"condition\": \"pandas\", \"nPts\": \"10000000\", \"cell_type\": \"print_dataframe\", \"time\": 0.05315000000000001}]}}, {\"mode\": \"vega-lite\"});\n",
       "</script>"
      ],
      "text/plain": [
       "alt.Chart(...)"
      ]
     },
     "execution_count": 30,
     "metadata": {},
     "output_type": "execute_result"
    }
   ],
   "source": [
    "overall = trial.groupby([\"condition\",\"nPts\",\"cell_type\"]).mean().reset_index()\n",
    "pdf = overall[overall[\"cell_type\"] ==\"print_dataframe\"]\n",
    "chart = alt.Chart(pdf,title = \"Print Dataframe\").mark_bar().encode(\n",
    "    x = \"condition\",\n",
    "    y = alt.Y(\"time\",scale=alt.Scale(type='log'),title=\"log(total time)\"),\n",
    "    column=\"nPts\",\n",
    "    color=\"condition\"\n",
    ")\n",
    "chart = chart.configure_title(fontSize=16, offset=5, orient='top', anchor='middle')\n",
    "chart"
   ]
  },
  {
   "cell_type": "markdown",
   "metadata": {},
   "source": [
    "------------"
   ]
  },
  {
   "cell_type": "markdown",
   "metadata": {},
   "source": [
    "### Communities post processing"
   ]
  },
  {
   "cell_type": "code",
   "execution_count": 49,
   "metadata": {},
   "outputs": [],
   "source": [
    "import glob\n",
    "import time\n",
    "import papermill as pm\n",
    "import pandas as pd\n",
    "import numpy as np\n",
    "import json\n",
    "trial = []\n",
    "\n",
    "for nb_name in glob.glob(\"communities/communities_*_output.ipynb\"):\n",
    "# for nb_name in glob.glob(\"airbnb/airbnb_*_*_output.ipynb\"):\n",
    "    snb = nb_name.split(\"_\")\n",
    "    if len(snb)==4:\n",
    "        _, condition, nPts, _ = nb_name.split(\"_\")\n",
    "    elif len(snb)==3:\n",
    "        condition = \"pandas\"\n",
    "        _,  nPts, _ = nb_name.split(\"_\")\n",
    "    with open(nb_name) as json_file:\n",
    "        data = json.load(json_file)\n",
    "        for cell in data['cells']:\n",
    "            label = cell[\"source\"][0]\n",
    "            cell_type = None\n",
    "            if \"# {{NO LUX}}\" in label:\n",
    "                cell_type = \"python\"\n",
    "            elif \"# {{PRINT SERIES}}\" in label:\n",
    "                cell_type = \"print_series\"\n",
    "            elif \"# {{PRINT DF}}\" in label:\n",
    "                cell_type = \"print_dataframe\"\n",
    "            duration = cell[\"metadata\"][\"papermill\"][\"duration\"]\n",
    "#             print(nb_name, cell_type, duration)\n",
    "            trial.append([condition, nPts,cell_type, duration])\n",
    "\n",
    "trial = pd.DataFrame(trial,columns=[\"condition\",\"nPts\",\"cell_type\",\"time\"])"
   ]
  },
  {
   "cell_type": "code",
   "execution_count": 50,
   "metadata": {},
   "outputs": [
    {
     "data": {
      "text/html": [
       "\n",
       "<div id=\"altair-viz-9414e2dd723f4fb9a9010f53b7d3158d\"></div>\n",
       "<script type=\"text/javascript\">\n",
       "  (function(spec, embedOpt){\n",
       "    let outputDiv = document.currentScript.previousElementSibling;\n",
       "    if (outputDiv.id !== \"altair-viz-9414e2dd723f4fb9a9010f53b7d3158d\") {\n",
       "      outputDiv = document.getElementById(\"altair-viz-9414e2dd723f4fb9a9010f53b7d3158d\");\n",
       "    }\n",
       "    const paths = {\n",
       "      \"vega\": \"https://cdn.jsdelivr.net/npm//vega@5?noext\",\n",
       "      \"vega-lib\": \"https://cdn.jsdelivr.net/npm//vega-lib?noext\",\n",
       "      \"vega-lite\": \"https://cdn.jsdelivr.net/npm//vega-lite@4.8.1?noext\",\n",
       "      \"vega-embed\": \"https://cdn.jsdelivr.net/npm//vega-embed@6?noext\",\n",
       "    };\n",
       "\n",
       "    function loadScript(lib) {\n",
       "      return new Promise(function(resolve, reject) {\n",
       "        var s = document.createElement('script');\n",
       "        s.src = paths[lib];\n",
       "        s.async = true;\n",
       "        s.onload = () => resolve(paths[lib]);\n",
       "        s.onerror = () => reject(`Error loading script: ${paths[lib]}`);\n",
       "        document.getElementsByTagName(\"head\")[0].appendChild(s);\n",
       "      });\n",
       "    }\n",
       "\n",
       "    function showError(err) {\n",
       "      outputDiv.innerHTML = `<div class=\"error\" style=\"color:red;\">${err}</div>`;\n",
       "      throw err;\n",
       "    }\n",
       "\n",
       "    function displayChart(vegaEmbed) {\n",
       "      vegaEmbed(outputDiv, spec, embedOpt)\n",
       "        .catch(err => showError(`Javascript Error: ${err.message}<br>This usually means there's a typo in your chart specification. See the javascript console for the full traceback.`));\n",
       "    }\n",
       "\n",
       "    if(typeof define === \"function\" && define.amd) {\n",
       "      requirejs.config({paths});\n",
       "      require([\"vega-embed\"], displayChart, err => showError(`Error loading script: ${err.message}`));\n",
       "    } else if (typeof vegaEmbed === \"function\") {\n",
       "      displayChart(vegaEmbed);\n",
       "    } else {\n",
       "      loadScript(\"vega\")\n",
       "        .then(() => loadScript(\"vega-lite\"))\n",
       "        .then(() => loadScript(\"vega-embed\"))\n",
       "        .catch(showError)\n",
       "        .then(() => displayChart(vegaEmbed));\n",
       "    }\n",
       "  })({\"config\": {\"view\": {\"continuousWidth\": 400, \"continuousHeight\": 300}, \"title\": {\"anchor\": \"middle\", \"fontSize\": 16, \"offset\": 5, \"orient\": \"top\"}}, \"data\": {\"name\": \"data-ceba17fc9ef99bc953159be07b929db9\"}, \"mark\": \"bar\", \"encoding\": {\"color\": {\"type\": \"nominal\", \"field\": \"condition\"}, \"column\": {\"type\": \"nominal\", \"field\": \"nPts\"}, \"x\": {\"type\": \"nominal\", \"field\": \"condition\"}, \"y\": {\"type\": \"quantitative\", \"field\": \"time\", \"scale\": {\"type\": \"log\"}, \"title\": \"log(total time)\"}}, \"title\": \"Overall\", \"$schema\": \"https://vega.github.io/schema/vega-lite/v4.8.1.json\", \"datasets\": {\"data-ceba17fc9ef99bc953159be07b929db9\": [{\"condition\": \"baseline\", \"nPts\": \"100\", \"time\": 4471.811935999998}, {\"condition\": \"o1o2o3\", \"nPts\": \"100\", \"time\": 22.641682999999997}, {\"condition\": \"pandas\", \"nPts\": \"100\", \"time\": 8.128834999999999}]}}, {\"mode\": \"vega-lite\"});\n",
       "</script>"
      ],
      "text/plain": [
       "alt.Chart(...)"
      ]
     },
     "execution_count": 50,
     "metadata": {},
     "output_type": "execute_result"
    }
   ],
   "source": [
    "overall = trial.groupby([\"condition\",\"nPts\"]).sum().reset_index()\n",
    "chart = alt.Chart(overall,title = \"Overall\").mark_bar().encode(\n",
    "    x = \"condition\",\n",
    "    y = alt.Y(\"time\",scale=alt.Scale(type='log'),title=\"log(total time)\"),\n",
    "    column=\"nPts\",\n",
    "    color=\"condition\"\n",
    ")\n",
    "chart = chart.configure_title(fontSize=16, offset=5, orient='top', anchor='middle')\n",
    "chart"
   ]
  },
  {
   "cell_type": "code",
   "execution_count": 51,
   "metadata": {},
   "outputs": [
    {
     "data": {
      "text/html": [
       "\n",
       "<div id=\"altair-viz-2f6c6ca1154a4ab2927358f830c95284\"></div>\n",
       "<script type=\"text/javascript\">\n",
       "  (function(spec, embedOpt){\n",
       "    let outputDiv = document.currentScript.previousElementSibling;\n",
       "    if (outputDiv.id !== \"altair-viz-2f6c6ca1154a4ab2927358f830c95284\") {\n",
       "      outputDiv = document.getElementById(\"altair-viz-2f6c6ca1154a4ab2927358f830c95284\");\n",
       "    }\n",
       "    const paths = {\n",
       "      \"vega\": \"https://cdn.jsdelivr.net/npm//vega@5?noext\",\n",
       "      \"vega-lib\": \"https://cdn.jsdelivr.net/npm//vega-lib?noext\",\n",
       "      \"vega-lite\": \"https://cdn.jsdelivr.net/npm//vega-lite@4.8.1?noext\",\n",
       "      \"vega-embed\": \"https://cdn.jsdelivr.net/npm//vega-embed@6?noext\",\n",
       "    };\n",
       "\n",
       "    function loadScript(lib) {\n",
       "      return new Promise(function(resolve, reject) {\n",
       "        var s = document.createElement('script');\n",
       "        s.src = paths[lib];\n",
       "        s.async = true;\n",
       "        s.onload = () => resolve(paths[lib]);\n",
       "        s.onerror = () => reject(`Error loading script: ${paths[lib]}`);\n",
       "        document.getElementsByTagName(\"head\")[0].appendChild(s);\n",
       "      });\n",
       "    }\n",
       "\n",
       "    function showError(err) {\n",
       "      outputDiv.innerHTML = `<div class=\"error\" style=\"color:red;\">${err}</div>`;\n",
       "      throw err;\n",
       "    }\n",
       "\n",
       "    function displayChart(vegaEmbed) {\n",
       "      vegaEmbed(outputDiv, spec, embedOpt)\n",
       "        .catch(err => showError(`Javascript Error: ${err.message}<br>This usually means there's a typo in your chart specification. See the javascript console for the full traceback.`));\n",
       "    }\n",
       "\n",
       "    if(typeof define === \"function\" && define.amd) {\n",
       "      requirejs.config({paths});\n",
       "      require([\"vega-embed\"], displayChart, err => showError(`Error loading script: ${err.message}`));\n",
       "    } else if (typeof vegaEmbed === \"function\") {\n",
       "      displayChart(vegaEmbed);\n",
       "    } else {\n",
       "      loadScript(\"vega\")\n",
       "        .then(() => loadScript(\"vega-lite\"))\n",
       "        .then(() => loadScript(\"vega-embed\"))\n",
       "        .catch(showError)\n",
       "        .then(() => displayChart(vegaEmbed));\n",
       "    }\n",
       "  })({\"config\": {\"view\": {\"continuousWidth\": 400, \"continuousHeight\": 300}, \"title\": {\"anchor\": \"middle\", \"fontSize\": 16, \"offset\": 5, \"orient\": \"top\"}}, \"data\": {\"name\": \"data-6469c03e314d3a553d563ca66aaceaba\"}, \"mark\": \"bar\", \"encoding\": {\"color\": {\"type\": \"nominal\", \"field\": \"condition\"}, \"column\": {\"type\": \"nominal\", \"field\": \"nPts\"}, \"x\": {\"type\": \"nominal\", \"field\": \"condition\"}, \"y\": {\"type\": \"quantitative\", \"field\": \"time\", \"scale\": {\"type\": \"log\"}, \"title\": \"log(total time)\"}}, \"title\": \"Non-Lux Python Operations\", \"$schema\": \"https://vega.github.io/schema/vega-lite/v4.8.1.json\", \"datasets\": {\"data-6469c03e314d3a553d563ca66aaceaba\": [{\"condition\": \"baseline\", \"nPts\": \"100\", \"cell_type\": \"python\", \"time\": 115.59861707142859}, {\"condition\": \"o1o2o3\", \"nPts\": \"100\", \"cell_type\": \"python\", \"time\": 0.20610926666666662}, {\"condition\": \"pandas\", \"nPts\": \"100\", \"cell_type\": \"python\", \"time\": 0.2260101333333333}]}}, {\"mode\": \"vega-lite\"});\n",
       "</script>"
      ],
      "text/plain": [
       "alt.Chart(...)"
      ]
     },
     "execution_count": 51,
     "metadata": {},
     "output_type": "execute_result"
    }
   ],
   "source": [
    "overall = trial.groupby([\"condition\",\"nPts\",\"cell_type\"]).mean().reset_index()\n",
    "pdf = overall[overall[\"cell_type\"] ==\"python\"]\n",
    "chart = alt.Chart(pdf,title = \"Non-Lux Python Operations\").mark_bar().encode(\n",
    "    x = \"condition\",\n",
    "    y = alt.Y(\"time\",scale=alt.Scale(type='log'),title=\"log(total time)\"),\n",
    "    column=\"nPts\",\n",
    "    color=\"condition\"\n",
    ")\n",
    "chart = chart.configure_title(fontSize=16, offset=5, orient='top', anchor='middle')\n",
    "chart"
   ]
  },
  {
   "cell_type": "code",
   "execution_count": 52,
   "metadata": {},
   "outputs": [
    {
     "data": {
      "text/html": [
       "\n",
       "<div id=\"altair-viz-8ae22988ccf846fe8573420195ae0e81\"></div>\n",
       "<script type=\"text/javascript\">\n",
       "  (function(spec, embedOpt){\n",
       "    let outputDiv = document.currentScript.previousElementSibling;\n",
       "    if (outputDiv.id !== \"altair-viz-8ae22988ccf846fe8573420195ae0e81\") {\n",
       "      outputDiv = document.getElementById(\"altair-viz-8ae22988ccf846fe8573420195ae0e81\");\n",
       "    }\n",
       "    const paths = {\n",
       "      \"vega\": \"https://cdn.jsdelivr.net/npm//vega@5?noext\",\n",
       "      \"vega-lib\": \"https://cdn.jsdelivr.net/npm//vega-lib?noext\",\n",
       "      \"vega-lite\": \"https://cdn.jsdelivr.net/npm//vega-lite@4.8.1?noext\",\n",
       "      \"vega-embed\": \"https://cdn.jsdelivr.net/npm//vega-embed@6?noext\",\n",
       "    };\n",
       "\n",
       "    function loadScript(lib) {\n",
       "      return new Promise(function(resolve, reject) {\n",
       "        var s = document.createElement('script');\n",
       "        s.src = paths[lib];\n",
       "        s.async = true;\n",
       "        s.onload = () => resolve(paths[lib]);\n",
       "        s.onerror = () => reject(`Error loading script: ${paths[lib]}`);\n",
       "        document.getElementsByTagName(\"head\")[0].appendChild(s);\n",
       "      });\n",
       "    }\n",
       "\n",
       "    function showError(err) {\n",
       "      outputDiv.innerHTML = `<div class=\"error\" style=\"color:red;\">${err}</div>`;\n",
       "      throw err;\n",
       "    }\n",
       "\n",
       "    function displayChart(vegaEmbed) {\n",
       "      vegaEmbed(outputDiv, spec, embedOpt)\n",
       "        .catch(err => showError(`Javascript Error: ${err.message}<br>This usually means there's a typo in your chart specification. See the javascript console for the full traceback.`));\n",
       "    }\n",
       "\n",
       "    if(typeof define === \"function\" && define.amd) {\n",
       "      requirejs.config({paths});\n",
       "      require([\"vega-embed\"], displayChart, err => showError(`Error loading script: ${err.message}`));\n",
       "    } else if (typeof vegaEmbed === \"function\") {\n",
       "      displayChart(vegaEmbed);\n",
       "    } else {\n",
       "      loadScript(\"vega\")\n",
       "        .then(() => loadScript(\"vega-lite\"))\n",
       "        .then(() => loadScript(\"vega-embed\"))\n",
       "        .catch(showError)\n",
       "        .then(() => displayChart(vegaEmbed));\n",
       "    }\n",
       "  })({\"config\": {\"view\": {\"continuousWidth\": 400, \"continuousHeight\": 300}, \"title\": {\"anchor\": \"middle\", \"fontSize\": 16, \"offset\": 5, \"orient\": \"top\"}}, \"data\": {\"name\": \"data-967cd420fc6b6bda16333d89d5dfdacd\"}, \"mark\": \"bar\", \"encoding\": {\"color\": {\"type\": \"nominal\", \"field\": \"condition\"}, \"column\": {\"type\": \"nominal\", \"field\": \"nPts\"}, \"x\": {\"type\": \"nominal\", \"field\": \"condition\"}, \"y\": {\"type\": \"quantitative\", \"field\": \"time\", \"scale\": {\"type\": \"log\"}, \"title\": \"log(total time)\"}}, \"title\": \"Print Series\", \"$schema\": \"https://vega.github.io/schema/vega-lite/v4.8.1.json\", \"datasets\": {\"data-967cd420fc6b6bda16333d89d5dfdacd\": [{\"condition\": \"baseline\", \"nPts\": \"100\", \"cell_type\": \"print_series\", \"time\": 0.094542}, {\"condition\": \"o1o2o3\", \"nPts\": \"100\", \"cell_type\": \"print_series\", \"time\": 0.07405475}, {\"condition\": \"pandas\", \"nPts\": \"100\", \"cell_type\": \"print_series\", \"time\": 0.04280075}]}}, {\"mode\": \"vega-lite\"});\n",
       "</script>"
      ],
      "text/plain": [
       "alt.Chart(...)"
      ]
     },
     "execution_count": 52,
     "metadata": {},
     "output_type": "execute_result"
    }
   ],
   "source": [
    "overall = trial.groupby([\"condition\",\"nPts\",\"cell_type\"]).mean().reset_index()\n",
    "pdf = overall[overall[\"cell_type\"] ==\"print_series\"]\n",
    "chart = alt.Chart(pdf,title = \"Print Series\").mark_bar().encode(\n",
    "    x = \"condition\",\n",
    "    y = alt.Y(\"time\",scale=alt.Scale(type='log'),title=\"log(total time)\"),\n",
    "    column=\"nPts\",\n",
    "    color=\"condition\"\n",
    ")\n",
    "chart = chart.configure_title(fontSize=16, offset=5, orient='top', anchor='middle')\n",
    "chart"
   ]
  },
  {
   "cell_type": "code",
   "execution_count": 53,
   "metadata": {},
   "outputs": [
    {
     "data": {
      "text/html": [
       "\n",
       "<div id=\"altair-viz-1252d0b9507742edb486ccb4e3c52d79\"></div>\n",
       "<script type=\"text/javascript\">\n",
       "  (function(spec, embedOpt){\n",
       "    let outputDiv = document.currentScript.previousElementSibling;\n",
       "    if (outputDiv.id !== \"altair-viz-1252d0b9507742edb486ccb4e3c52d79\") {\n",
       "      outputDiv = document.getElementById(\"altair-viz-1252d0b9507742edb486ccb4e3c52d79\");\n",
       "    }\n",
       "    const paths = {\n",
       "      \"vega\": \"https://cdn.jsdelivr.net/npm//vega@5?noext\",\n",
       "      \"vega-lib\": \"https://cdn.jsdelivr.net/npm//vega-lib?noext\",\n",
       "      \"vega-lite\": \"https://cdn.jsdelivr.net/npm//vega-lite@4.8.1?noext\",\n",
       "      \"vega-embed\": \"https://cdn.jsdelivr.net/npm//vega-embed@6?noext\",\n",
       "    };\n",
       "\n",
       "    function loadScript(lib) {\n",
       "      return new Promise(function(resolve, reject) {\n",
       "        var s = document.createElement('script');\n",
       "        s.src = paths[lib];\n",
       "        s.async = true;\n",
       "        s.onload = () => resolve(paths[lib]);\n",
       "        s.onerror = () => reject(`Error loading script: ${paths[lib]}`);\n",
       "        document.getElementsByTagName(\"head\")[0].appendChild(s);\n",
       "      });\n",
       "    }\n",
       "\n",
       "    function showError(err) {\n",
       "      outputDiv.innerHTML = `<div class=\"error\" style=\"color:red;\">${err}</div>`;\n",
       "      throw err;\n",
       "    }\n",
       "\n",
       "    function displayChart(vegaEmbed) {\n",
       "      vegaEmbed(outputDiv, spec, embedOpt)\n",
       "        .catch(err => showError(`Javascript Error: ${err.message}<br>This usually means there's a typo in your chart specification. See the javascript console for the full traceback.`));\n",
       "    }\n",
       "\n",
       "    if(typeof define === \"function\" && define.amd) {\n",
       "      requirejs.config({paths});\n",
       "      require([\"vega-embed\"], displayChart, err => showError(`Error loading script: ${err.message}`));\n",
       "    } else if (typeof vegaEmbed === \"function\") {\n",
       "      displayChart(vegaEmbed);\n",
       "    } else {\n",
       "      loadScript(\"vega\")\n",
       "        .then(() => loadScript(\"vega-lite\"))\n",
       "        .then(() => loadScript(\"vega-embed\"))\n",
       "        .catch(showError)\n",
       "        .then(() => displayChart(vegaEmbed));\n",
       "    }\n",
       "  })({\"config\": {\"view\": {\"continuousWidth\": 400, \"continuousHeight\": 300}, \"title\": {\"anchor\": \"middle\", \"fontSize\": 16, \"offset\": 5, \"orient\": \"top\"}}, \"data\": {\"name\": \"data-a190f0981779aa7726ae85369435ffb6\"}, \"mark\": \"bar\", \"encoding\": {\"color\": {\"type\": \"nominal\", \"field\": \"condition\"}, \"column\": {\"type\": \"nominal\", \"field\": \"nPts\"}, \"x\": {\"type\": \"nominal\", \"field\": \"condition\"}, \"y\": {\"type\": \"quantitative\", \"field\": \"time\", \"scale\": {\"type\": \"log\"}, \"title\": \"log(total time)\"}}, \"title\": \"Print Dataframe\", \"$schema\": \"https://vega.github.io/schema/vega-lite/v4.8.1.json\", \"datasets\": {\"data-a190f0981779aa7726ae85369435ffb6\": [{\"condition\": \"baseline\", \"nPts\": \"100\", \"cell_type\": \"print_dataframe\", \"time\": 88.13075435714286}, {\"condition\": \"o1o2o3\", \"nPts\": \"100\", \"cell_type\": \"print_dataframe\", \"time\": 1.0926152142857144}, {\"condition\": \"pandas\", \"nPts\": \"100\", \"cell_type\": \"print_dataframe\", \"time\": 0.075691}]}}, {\"mode\": \"vega-lite\"});\n",
       "</script>"
      ],
      "text/plain": [
       "alt.Chart(...)"
      ]
     },
     "execution_count": 53,
     "metadata": {},
     "output_type": "execute_result"
    }
   ],
   "source": [
    "overall = trial.groupby([\"condition\",\"nPts\",\"cell_type\"]).mean().reset_index()\n",
    "pdf = overall[overall[\"cell_type\"] ==\"print_dataframe\"]\n",
    "chart = alt.Chart(pdf,title = \"Print Dataframe\").mark_bar().encode(\n",
    "    x = \"condition\",\n",
    "    y = alt.Y(\"time\",scale=alt.Scale(type='log'),title=\"log(total time)\"),\n",
    "    column=\"nPts\",\n",
    "    color=\"condition\"\n",
    ")\n",
    "chart = chart.configure_title(fontSize=16, offset=5, orient='top', anchor='middle')\n",
    "chart"
   ]
  },
  {
   "cell_type": "markdown",
   "metadata": {},
   "source": [
    "----------------"
   ]
  },
  {
   "cell_type": "code",
   "execution_count": 6,
   "metadata": {},
   "outputs": [],
   "source": [
    "df = pd.read_csv(\"macrobenchmark.csv\")"
   ]
  },
  {
   "cell_type": "code",
   "execution_count": 7,
   "metadata": {},
   "outputs": [],
   "source": [
    "df.nPts = df.nPts.astype(int)"
   ]
  },
  {
   "cell_type": "code",
   "execution_count": 8,
   "metadata": {},
   "outputs": [],
   "source": [
    "df[\"condition\"] = df.nb_name.replace({\"toy_o1.ipynb\":\"o1\",\n",
    "                    \"toy_o1o2o3.ipynb\":\"o1o2o3\",\n",
    "                    \"toy_o1o2.ipynb\":\"o1o2\",\n",
    "                    \"toy.ipynb\":\"pandas\",\n",
    "                    \"toy_baseline.ipynb\":\"no opt\"})"
   ]
  },
  {
   "cell_type": "code",
   "execution_count": 9,
   "metadata": {},
   "outputs": [
    {
     "data": {
      "text/html": [
       "\n",
       "<div id=\"altair-viz-cc958c9396ab41c7a3fa6d9daeba3695\"></div>\n",
       "<script type=\"text/javascript\">\n",
       "  (function(spec, embedOpt){\n",
       "    let outputDiv = document.currentScript.previousElementSibling;\n",
       "    if (outputDiv.id !== \"altair-viz-cc958c9396ab41c7a3fa6d9daeba3695\") {\n",
       "      outputDiv = document.getElementById(\"altair-viz-cc958c9396ab41c7a3fa6d9daeba3695\");\n",
       "    }\n",
       "    const paths = {\n",
       "      \"vega\": \"https://cdn.jsdelivr.net/npm//vega@5?noext\",\n",
       "      \"vega-lib\": \"https://cdn.jsdelivr.net/npm//vega-lib?noext\",\n",
       "      \"vega-lite\": \"https://cdn.jsdelivr.net/npm//vega-lite@4.8.1?noext\",\n",
       "      \"vega-embed\": \"https://cdn.jsdelivr.net/npm//vega-embed@6?noext\",\n",
       "    };\n",
       "\n",
       "    function loadScript(lib) {\n",
       "      return new Promise(function(resolve, reject) {\n",
       "        var s = document.createElement('script');\n",
       "        s.src = paths[lib];\n",
       "        s.async = true;\n",
       "        s.onload = () => resolve(paths[lib]);\n",
       "        s.onerror = () => reject(`Error loading script: ${paths[lib]}`);\n",
       "        document.getElementsByTagName(\"head\")[0].appendChild(s);\n",
       "      });\n",
       "    }\n",
       "\n",
       "    function showError(err) {\n",
       "      outputDiv.innerHTML = `<div class=\"error\" style=\"color:red;\">${err}</div>`;\n",
       "      throw err;\n",
       "    }\n",
       "\n",
       "    function displayChart(vegaEmbed) {\n",
       "      vegaEmbed(outputDiv, spec, embedOpt)\n",
       "        .catch(err => showError(`Javascript Error: ${err.message}<br>This usually means there's a typo in your chart specification. See the javascript console for the full traceback.`));\n",
       "    }\n",
       "\n",
       "    if(typeof define === \"function\" && define.amd) {\n",
       "      requirejs.config({paths});\n",
       "      require([\"vega-embed\"], displayChart, err => showError(`Error loading script: ${err.message}`));\n",
       "    } else if (typeof vegaEmbed === \"function\") {\n",
       "      displayChart(vegaEmbed);\n",
       "    } else {\n",
       "      loadScript(\"vega\")\n",
       "        .then(() => loadScript(\"vega-lite\"))\n",
       "        .then(() => loadScript(\"vega-embed\"))\n",
       "        .catch(showError)\n",
       "        .then(() => displayChart(vegaEmbed));\n",
       "    }\n",
       "  })({\"config\": {\"view\": {\"continuousWidth\": 400, \"continuousHeight\": 300}}, \"data\": {\"name\": \"data-e2c05423156d20ff5c6717c2bce96f36\"}, \"mark\": \"bar\", \"encoding\": {\"color\": {\"type\": \"nominal\", \"field\": \"condition\"}, \"column\": {\"type\": \"quantitative\", \"field\": \"nPts\"}, \"x\": {\"type\": \"nominal\", \"field\": \"condition\"}, \"y\": {\"type\": \"quantitative\", \"field\": \"time\", \"scale\": {\"type\": \"log\"}, \"title\": \"log(total time)\"}}, \"$schema\": \"https://vega.github.io/schema/vega-lite/v4.8.1.json\", \"datasets\": {\"data-e2c05423156d20ff5c6717c2bce96f36\": [{\"nb_name\": \"toy_o1o2.ipynb\", \"time\": 46.536996293, \"nPts\": 10000, \"condition\": \"o1o2\"}, {\"nb_name\": \"toy.ipynb\", \"time\": 21.622648375999997, \"nPts\": 10000, \"condition\": \"pandas\"}, {\"nb_name\": \"toy_o1.ipynb\", \"time\": 50.335453305, \"nPts\": 10000, \"condition\": \"o1\"}, {\"nb_name\": \"toy_o1o2o3.ipynb\", \"time\": 33.05194930500001, \"nPts\": 10000, \"condition\": \"o1o2o3\"}, {\"nb_name\": \"toy_baseline.ipynb\", \"time\": 103.218829366, \"nPts\": 10000, \"condition\": \"no opt\"}, {\"nb_name\": \"toy_o1o2.ipynb\", \"time\": 41.00393189999997, \"nPts\": 100000, \"condition\": \"o1o2\"}, {\"nb_name\": \"toy.ipynb\", \"time\": 21.21497848300004, \"nPts\": 100000, \"condition\": \"pandas\"}, {\"nb_name\": \"toy_o1.ipynb\", \"time\": 50.503305091000016, \"nPts\": 100000, \"condition\": \"o1\"}, {\"nb_name\": \"toy_o1o2o3.ipynb\", \"time\": 24.73619107999997, \"nPts\": 100000, \"condition\": \"o1o2o3\"}, {\"nb_name\": \"toy_baseline.ipynb\", \"time\": 122.73027056600006, \"nPts\": 100000, \"condition\": \"no opt\"}, {\"nb_name\": \"toy_o1o2.ipynb\", \"time\": 62.10186884999996, \"nPts\": 1000000, \"condition\": \"o1o2\"}, {\"nb_name\": \"toy.ipynb\", \"time\": 24.20217427299997, \"nPts\": 1000000, \"condition\": \"pandas\"}, {\"nb_name\": \"toy_o1.ipynb\", \"time\": 106.01156210199996, \"nPts\": 1000000, \"condition\": \"o1\"}, {\"nb_name\": \"toy_o1o2o3.ipynb\", \"time\": 42.343533011999966, \"nPts\": 1000000, \"condition\": \"o1o2o3\"}, {\"nb_name\": \"toy_baseline.ipynb\", \"time\": 409.563452047, \"nPts\": 1000000, \"condition\": \"no opt\"}, {\"nb_name\": \"toy_o1o2.ipynb\", \"time\": 320.55005981, \"nPts\": 10000000, \"condition\": \"o1o2\"}, {\"nb_name\": \"toy.ipynb\", \"time\": 51.96934168100006, \"nPts\": 10000000, \"condition\": \"pandas\"}, {\"nb_name\": \"toy_o1.ipynb\", \"time\": 550.7182161980002, \"nPts\": 10000000, \"condition\": \"o1\"}, {\"nb_name\": \"toy_o1o2o3.ipynb\", \"time\": 197.560366535, \"nPts\": 10000000, \"condition\": \"o1o2o3\"}, {\"nb_name\": \"toy_baseline.ipynb\", \"time\": 2841.4637312690006, \"nPts\": 10000000, \"condition\": \"no opt\"}]}}, {\"mode\": \"vega-lite\"});\n",
       "</script>"
      ],
      "text/plain": [
       "alt.Chart(...)"
      ]
     },
     "execution_count": 9,
     "metadata": {},
     "output_type": "execute_result"
    }
   ],
   "source": [
    "alt.Chart(df).mark_bar().encode(\n",
    "    x = \"condition\",\n",
    "    y = alt.Y(\"time\",scale=alt.Scale(type='log'),title=\"log(total time)\"),\n",
    "    column=\"nPts\",\n",
    "    color=\"condition\"\n",
    ")"
   ]
  },
  {
   "cell_type": "code",
   "execution_count": 10,
   "metadata": {},
   "outputs": [],
   "source": [
    "# # VegaLite can not do logarithmic stacked bar since it is misleading\n",
    "# alt.Chart(df).mark_bar().encode(\n",
    "#     x = alt.X(\"nPts\",type=\"ordinal\"),\n",
    "#     y = alt.Y(\"time\"),#,scale=alt.Scale(type='log'),title=\"log(total time)\"),\n",
    "#     color=\"condition\"\n",
    "# )"
   ]
  },
  {
   "cell_type": "code",
   "execution_count": 26,
   "metadata": {},
   "outputs": [],
   "source": [
    "df = df.drop(columns=\"nb_name\")"
   ]
  },
  {
   "cell_type": "code",
   "execution_count": 53,
   "metadata": {},
   "outputs": [],
   "source": [
    "pdonly = df[df[\"condition\"]==\"pandas\"]\n",
    "best = df[df[\"condition\"]==\"o1o2o3\"]\n",
    "worst = df[df[\"condition\"]==\"no opt\"]"
   ]
  },
  {
   "cell_type": "code",
   "execution_count": null,
   "metadata": {},
   "outputs": [],
   "source": [
    "import numpy as np"
   ]
  },
  {
   "cell_type": "code",
   "execution_count": 68,
   "metadata": {},
   "outputs": [],
   "source": [
    "def pctChange(s1,s2):\n",
    "    return (np.array(s1[\"time\"])-np.array(s2[\"time\"]))/np.array(s2[\"time\"])"
   ]
  },
  {
   "cell_type": "code",
   "execution_count": 69,
   "metadata": {},
   "outputs": [
    {
     "data": {
      "text/plain": [
       "3      33.051949\n",
       "8      24.736191\n",
       "13     42.343533\n",
       "18    197.560367\n",
       "Name: time, dtype: float64"
      ]
     },
     "execution_count": 69,
     "metadata": {},
     "output_type": "execute_result"
    }
   ],
   "source": [
    "best[\"time\"]"
   ]
  },
  {
   "cell_type": "code",
   "execution_count": 70,
   "metadata": {},
   "outputs": [
    {
     "data": {
      "text/plain": [
       "array([0.52858007, 0.16597767, 0.74957558, 2.80147911])"
      ]
     },
     "execution_count": 70,
     "metadata": {},
     "output_type": "execute_result"
    }
   ],
   "source": [
    "pctChange(best,pdonly)"
   ]
  },
  {
   "cell_type": "code",
   "execution_count": 71,
   "metadata": {},
   "outputs": [
    {
     "data": {
      "text/plain": [
       "array([ 3.77364417,  4.78507636, 15.92258916, 53.6757692 ])"
      ]
     },
     "execution_count": 71,
     "metadata": {},
     "output_type": "execute_result"
    }
   ],
   "source": [
    "pctChange(worst,pdonly)"
   ]
  },
  {
   "cell_type": "code",
   "execution_count": 73,
   "metadata": {},
   "outputs": [
    {
     "data": {
      "text/plain": [
       "array([ 2.12292714,  3.96156705,  8.67239677, 13.38276199])"
      ]
     },
     "execution_count": 73,
     "metadata": {},
     "output_type": "execute_result"
    }
   ],
   "source": [
    "pctChange(worst,best)"
   ]
  },
  {
   "cell_type": "code",
   "execution_count": null,
   "metadata": {},
   "outputs": [],
   "source": []
  },
  {
   "cell_type": "code",
   "execution_count": null,
   "metadata": {},
   "outputs": [],
   "source": []
  }
 ],
 "metadata": {
  "kernelspec": {
   "display_name": "Python 3",
   "language": "python",
   "name": "python3"
  },
  "language_info": {
   "codemirror_mode": {
    "name": "ipython",
    "version": 3
   },
   "file_extension": ".py",
   "mimetype": "text/x-python",
   "name": "python",
   "nbconvert_exporter": "python",
   "pygments_lexer": "ipython3",
   "version": "3.7.7"
  }
 },
 "nbformat": 4,
 "nbformat_minor": 4
}
