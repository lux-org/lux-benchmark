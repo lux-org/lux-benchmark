{
 "cells": [
  {
   "cell_type": "code",
   "execution_count": 38,
   "metadata": {},
   "outputs": [],
   "source": [
    "import nbformat as nbf"
   ]
  },
  {
   "cell_type": "code",
   "execution_count": 43,
   "metadata": {},
   "outputs": [],
   "source": [
    "nb_id = \"toy\"\n",
    "nb = nbf.read(f\"{nb_id}.ipynb\",as_version=4) #the toy original is the pandas-only control\n",
    "code = \"import lux\"\n",
    "nb[\"cells\"].insert(0,nbf.v4.new_code_cell(code))\n",
    "nbf.write(nb, f'{nb_id}_baseline.ipynb')"
   ]
  },
  {
   "cell_type": "code",
   "execution_count": 44,
   "metadata": {},
   "outputs": [],
   "source": [
    "nb = nbf.read(f\"{nb_id}.ipynb\",as_version=4) \n",
    "code = \"import lux\\nlux.config.lazy_maintain = True\"\n",
    "nb[\"cells\"].insert(0,nbf.v4.new_code_cell(code))\n",
    "nbf.write(nb, f'{nb_id}_o1.ipynb')"
   ]
  },
  {
   "cell_type": "code",
   "execution_count": 45,
   "metadata": {},
   "outputs": [],
   "source": [
    "nb = nbf.read(f\"{nb_id}.ipynb\",as_version=4) \n",
    "code = \"import lux\\nlux.config.lazy_maintain = True\\nlux.config.early_pruning = True\"\n",
    "nb[\"cells\"].insert(0,nbf.v4.new_code_cell(code))\n",
    "nbf.write(nb, f'{nb_id}_o1o2.ipynb')"
   ]
  },
  {
   "cell_type": "code",
   "execution_count": 46,
   "metadata": {},
   "outputs": [],
   "source": [
    "nb = nbf.read(f\"{nb_id}.ipynb\",as_version=4) \n",
    "code = \"import lux\\nlux.config.lazy_maintain = True\\nlux.config.early_pruning = True\\nlux.config.streaming = True\"\n",
    "nb[\"cells\"].insert(0,nbf.v4.new_code_cell(code))\n",
    "nbf.write(nb, f'{nb_id}_o1o2o3.ipynb')"
   ]
  },
  {
   "cell_type": "code",
   "execution_count": null,
   "metadata": {},
   "outputs": [],
   "source": []
  },
  {
   "cell_type": "code",
   "execution_count": 6,
   "metadata": {},
   "outputs": [
    {
     "data": {
      "application/vnd.jupyter.widget-view+json": {
       "model_id": "0477fe137572413789d0b660ed7f2e4e",
       "version_major": 2,
       "version_minor": 0
      },
      "text/plain": [
       "HBox(children=(FloatProgress(value=0.0, description='Executing', max=43.0, style=ProgressStyle(description_wid…"
      ]
     },
     "metadata": {},
     "output_type": "display_data"
    },
    {
     "name": "stdout",
     "output_type": "stream",
     "text": [
      "\n",
      "toy_o1o2.ipynb 27.39405893\n"
     ]
    },
    {
     "data": {
      "application/vnd.jupyter.widget-view+json": {
       "model_id": "1b5cfb66400f4b0b814b8570fd4a47c7",
       "version_major": 2,
       "version_minor": 0
      },
      "text/plain": [
       "HBox(children=(FloatProgress(value=0.0, description='Executing', max=42.0, style=ProgressStyle(description_wid…"
      ]
     },
     "metadata": {},
     "output_type": "display_data"
    },
    {
     "name": "stdout",
     "output_type": "stream",
     "text": [
      "\n",
      "toy.ipynb 8.979917790999998\n"
     ]
    },
    {
     "data": {
      "application/vnd.jupyter.widget-view+json": {
       "model_id": "2070d9e2472d48b38e9acb34489de1e5",
       "version_major": 2,
       "version_minor": 0
      },
      "text/plain": [
       "HBox(children=(FloatProgress(value=0.0, description='Executing', max=43.0, style=ProgressStyle(description_wid…"
      ]
     },
     "metadata": {},
     "output_type": "display_data"
    },
    {
     "name": "stdout",
     "output_type": "stream",
     "text": [
      "\n",
      "toy_o1.ipynb 36.383189906\n"
     ]
    },
    {
     "data": {
      "application/vnd.jupyter.widget-view+json": {
       "model_id": "2271412a96184c1383a6bd042cc524ea",
       "version_major": 2,
       "version_minor": 0
      },
      "text/plain": [
       "HBox(children=(FloatProgress(value=0.0, description='Executing', max=43.0, style=ProgressStyle(description_wid…"
      ]
     },
     "metadata": {},
     "output_type": "display_data"
    },
    {
     "name": "stdout",
     "output_type": "stream",
     "text": [
      "\n",
      "toy_o1o2o3.ipynb 12.123425564999991\n"
     ]
    },
    {
     "data": {
      "application/vnd.jupyter.widget-view+json": {
       "model_id": "a2041e02e8a04fa9b3d7da915414005a",
       "version_major": 2,
       "version_minor": 0
      },
      "text/plain": [
       "HBox(children=(FloatProgress(value=0.0, description='Executing', max=43.0, style=ProgressStyle(description_wid…"
      ]
     },
     "metadata": {},
     "output_type": "display_data"
    },
    {
     "name": "stdout",
     "output_type": "stream",
     "text": [
      "\n",
      "toy_baseline.ipynb 39.192437846000004\n"
     ]
    }
   ],
   "source": [
    "import glob\n",
    "import time\n",
    "import papermill as pm\n",
    "import pandas as pd\n",
    "import numpy as np\n",
    "import json\n",
    "trial = []\n",
    "for nb_name in glob.glob(\"toy*\"):\n",
    "    output_filename = \"output.ipynb\"\n",
    "    # papermill basic_scatter.ipynb output.ipynb -p numPoints 1000000 --execute-timeout 1000\n",
    "    # TODO: High variance in overall time, might have to repeat experiment or measure using papermill nb info\n",
    "    start = time.perf_counter()\n",
    "    pm.execute_notebook(\n",
    "        f\"{nb_name}\", output_filename, \n",
    "    )\n",
    "    end = time.perf_counter()\n",
    "    duration = end-start\n",
    "    print(nb_name, duration)\n",
    "    trial.append([nb_name, duration])"
   ]
  },
  {
   "cell_type": "code",
   "execution_count": 9,
   "metadata": {},
   "outputs": [],
   "source": [
    "trial = pd.DataFrame(trial,columns=[\"nb_name\",\"time\"])"
   ]
  },
  {
   "cell_type": "code",
   "execution_count": 13,
   "metadata": {},
   "outputs": [],
   "source": [
    "trial.to_csv(\"macrobenchmark_1e5.csv\",index=None)"
   ]
  },
  {
   "cell_type": "code",
   "execution_count": 1,
   "metadata": {},
   "outputs": [],
   "source": [
    "import pandas as pd\n",
    "import altair as alt"
   ]
  },
  {
   "cell_type": "code",
   "execution_count": 4,
   "metadata": {},
   "outputs": [],
   "source": [
    "trial = pd.read_csv(\"macrobenchmark_1e6.csv\")"
   ]
  },
  {
   "cell_type": "code",
   "execution_count": 5,
   "metadata": {},
   "outputs": [
    {
     "data": {
      "text/html": [
       "\n",
       "<div id=\"altair-viz-13e7642801d444e6b1fb346ccfe30c27\"></div>\n",
       "<script type=\"text/javascript\">\n",
       "  (function(spec, embedOpt){\n",
       "    let outputDiv = document.currentScript.previousElementSibling;\n",
       "    if (outputDiv.id !== \"altair-viz-13e7642801d444e6b1fb346ccfe30c27\") {\n",
       "      outputDiv = document.getElementById(\"altair-viz-13e7642801d444e6b1fb346ccfe30c27\");\n",
       "    }\n",
       "    const paths = {\n",
       "      \"vega\": \"https://cdn.jsdelivr.net/npm//vega@5?noext\",\n",
       "      \"vega-lib\": \"https://cdn.jsdelivr.net/npm//vega-lib?noext\",\n",
       "      \"vega-lite\": \"https://cdn.jsdelivr.net/npm//vega-lite@4.8.1?noext\",\n",
       "      \"vega-embed\": \"https://cdn.jsdelivr.net/npm//vega-embed@6?noext\",\n",
       "    };\n",
       "\n",
       "    function loadScript(lib) {\n",
       "      return new Promise(function(resolve, reject) {\n",
       "        var s = document.createElement('script');\n",
       "        s.src = paths[lib];\n",
       "        s.async = true;\n",
       "        s.onload = () => resolve(paths[lib]);\n",
       "        s.onerror = () => reject(`Error loading script: ${paths[lib]}`);\n",
       "        document.getElementsByTagName(\"head\")[0].appendChild(s);\n",
       "      });\n",
       "    }\n",
       "\n",
       "    function showError(err) {\n",
       "      outputDiv.innerHTML = `<div class=\"error\" style=\"color:red;\">${err}</div>`;\n",
       "      throw err;\n",
       "    }\n",
       "\n",
       "    function displayChart(vegaEmbed) {\n",
       "      vegaEmbed(outputDiv, spec, embedOpt)\n",
       "        .catch(err => showError(`Javascript Error: ${err.message}<br>This usually means there's a typo in your chart specification. See the javascript console for the full traceback.`));\n",
       "    }\n",
       "\n",
       "    if(typeof define === \"function\" && define.amd) {\n",
       "      requirejs.config({paths});\n",
       "      require([\"vega-embed\"], displayChart, err => showError(`Error loading script: ${err.message}`));\n",
       "    } else if (typeof vegaEmbed === \"function\") {\n",
       "      displayChart(vegaEmbed);\n",
       "    } else {\n",
       "      loadScript(\"vega\")\n",
       "        .then(() => loadScript(\"vega-lite\"))\n",
       "        .then(() => loadScript(\"vega-embed\"))\n",
       "        .catch(showError)\n",
       "        .then(() => displayChart(vegaEmbed));\n",
       "    }\n",
       "  })({\"config\": {\"view\": {\"continuousWidth\": 400, \"continuousHeight\": 300}}, \"data\": {\"name\": \"data-a57781585c1d32cac87394e4ba5e5943\"}, \"mark\": \"bar\", \"encoding\": {\"x\": {\"type\": \"nominal\", \"field\": \"nb_name\"}, \"y\": {\"type\": \"quantitative\", \"field\": \"time\"}}, \"$schema\": \"https://vega.github.io/schema/vega-lite/v4.8.1.json\", \"datasets\": {\"data-a57781585c1d32cac87394e4ba5e5943\": [{\"nb_name\": \"toy_o1o2.ipynb\", \"time\": 45.363871134}, {\"nb_name\": \"toy.ipynb\", \"time\": 6.979947033999999}, {\"nb_name\": \"toy_o1.ipynb\", \"time\": 82.493078596}, {\"nb_name\": \"toy_o1o2o3.ipynb\", \"time\": 21.77600514400001}, {\"nb_name\": \"toy_baseline.ipynb\", \"time\": 90.649061662}]}}, {\"mode\": \"vega-lite\"});\n",
       "</script>"
      ],
      "text/plain": [
       "alt.Chart(...)"
      ]
     },
     "execution_count": 5,
     "metadata": {},
     "output_type": "execute_result"
    }
   ],
   "source": [
    "alt.Chart(trial).mark_bar().encode(\n",
    "    x = \"nb_name\",\n",
    "    y = \"time\",\n",
    "    \n",
    ")"
   ]
  },
  {
   "cell_type": "code",
   "execution_count": 6,
   "metadata": {},
   "outputs": [],
   "source": [
    "df = pd.read_csv(\"macrobenchmark.csv\")"
   ]
  },
  {
   "cell_type": "code",
   "execution_count": 7,
   "metadata": {},
   "outputs": [],
   "source": [
    "df.nPts = df.nPts.astype(int)"
   ]
  },
  {
   "cell_type": "code",
   "execution_count": 8,
   "metadata": {},
   "outputs": [],
   "source": [
    "df[\"condition\"] = df.nb_name.replace({\"toy_o1.ipynb\":\"o1\",\n",
    "                    \"toy_o1o2o3.ipynb\":\"o1o2o3\",\n",
    "                    \"toy_o1o2.ipynb\":\"o1o2\",\n",
    "                    \"toy.ipynb\":\"pandas\",\n",
    "                    \"toy_baseline.ipynb\":\"no opt\"})"
   ]
  },
  {
   "cell_type": "code",
   "execution_count": 9,
   "metadata": {},
   "outputs": [
    {
     "data": {
      "text/html": [
       "\n",
       "<div id=\"altair-viz-cc958c9396ab41c7a3fa6d9daeba3695\"></div>\n",
       "<script type=\"text/javascript\">\n",
       "  (function(spec, embedOpt){\n",
       "    let outputDiv = document.currentScript.previousElementSibling;\n",
       "    if (outputDiv.id !== \"altair-viz-cc958c9396ab41c7a3fa6d9daeba3695\") {\n",
       "      outputDiv = document.getElementById(\"altair-viz-cc958c9396ab41c7a3fa6d9daeba3695\");\n",
       "    }\n",
       "    const paths = {\n",
       "      \"vega\": \"https://cdn.jsdelivr.net/npm//vega@5?noext\",\n",
       "      \"vega-lib\": \"https://cdn.jsdelivr.net/npm//vega-lib?noext\",\n",
       "      \"vega-lite\": \"https://cdn.jsdelivr.net/npm//vega-lite@4.8.1?noext\",\n",
       "      \"vega-embed\": \"https://cdn.jsdelivr.net/npm//vega-embed@6?noext\",\n",
       "    };\n",
       "\n",
       "    function loadScript(lib) {\n",
       "      return new Promise(function(resolve, reject) {\n",
       "        var s = document.createElement('script');\n",
       "        s.src = paths[lib];\n",
       "        s.async = true;\n",
       "        s.onload = () => resolve(paths[lib]);\n",
       "        s.onerror = () => reject(`Error loading script: ${paths[lib]}`);\n",
       "        document.getElementsByTagName(\"head\")[0].appendChild(s);\n",
       "      });\n",
       "    }\n",
       "\n",
       "    function showError(err) {\n",
       "      outputDiv.innerHTML = `<div class=\"error\" style=\"color:red;\">${err}</div>`;\n",
       "      throw err;\n",
       "    }\n",
       "\n",
       "    function displayChart(vegaEmbed) {\n",
       "      vegaEmbed(outputDiv, spec, embedOpt)\n",
       "        .catch(err => showError(`Javascript Error: ${err.message}<br>This usually means there's a typo in your chart specification. See the javascript console for the full traceback.`));\n",
       "    }\n",
       "\n",
       "    if(typeof define === \"function\" && define.amd) {\n",
       "      requirejs.config({paths});\n",
       "      require([\"vega-embed\"], displayChart, err => showError(`Error loading script: ${err.message}`));\n",
       "    } else if (typeof vegaEmbed === \"function\") {\n",
       "      displayChart(vegaEmbed);\n",
       "    } else {\n",
       "      loadScript(\"vega\")\n",
       "        .then(() => loadScript(\"vega-lite\"))\n",
       "        .then(() => loadScript(\"vega-embed\"))\n",
       "        .catch(showError)\n",
       "        .then(() => displayChart(vegaEmbed));\n",
       "    }\n",
       "  })({\"config\": {\"view\": {\"continuousWidth\": 400, \"continuousHeight\": 300}}, \"data\": {\"name\": \"data-e2c05423156d20ff5c6717c2bce96f36\"}, \"mark\": \"bar\", \"encoding\": {\"color\": {\"type\": \"nominal\", \"field\": \"condition\"}, \"column\": {\"type\": \"quantitative\", \"field\": \"nPts\"}, \"x\": {\"type\": \"nominal\", \"field\": \"condition\"}, \"y\": {\"type\": \"quantitative\", \"field\": \"time\", \"scale\": {\"type\": \"log\"}, \"title\": \"log(total time)\"}}, \"$schema\": \"https://vega.github.io/schema/vega-lite/v4.8.1.json\", \"datasets\": {\"data-e2c05423156d20ff5c6717c2bce96f36\": [{\"nb_name\": \"toy_o1o2.ipynb\", \"time\": 46.536996293, \"nPts\": 10000, \"condition\": \"o1o2\"}, {\"nb_name\": \"toy.ipynb\", \"time\": 21.622648375999997, \"nPts\": 10000, \"condition\": \"pandas\"}, {\"nb_name\": \"toy_o1.ipynb\", \"time\": 50.335453305, \"nPts\": 10000, \"condition\": \"o1\"}, {\"nb_name\": \"toy_o1o2o3.ipynb\", \"time\": 33.05194930500001, \"nPts\": 10000, \"condition\": \"o1o2o3\"}, {\"nb_name\": \"toy_baseline.ipynb\", \"time\": 103.218829366, \"nPts\": 10000, \"condition\": \"no opt\"}, {\"nb_name\": \"toy_o1o2.ipynb\", \"time\": 41.00393189999997, \"nPts\": 100000, \"condition\": \"o1o2\"}, {\"nb_name\": \"toy.ipynb\", \"time\": 21.21497848300004, \"nPts\": 100000, \"condition\": \"pandas\"}, {\"nb_name\": \"toy_o1.ipynb\", \"time\": 50.503305091000016, \"nPts\": 100000, \"condition\": \"o1\"}, {\"nb_name\": \"toy_o1o2o3.ipynb\", \"time\": 24.73619107999997, \"nPts\": 100000, \"condition\": \"o1o2o3\"}, {\"nb_name\": \"toy_baseline.ipynb\", \"time\": 122.73027056600006, \"nPts\": 100000, \"condition\": \"no opt\"}, {\"nb_name\": \"toy_o1o2.ipynb\", \"time\": 62.10186884999996, \"nPts\": 1000000, \"condition\": \"o1o2\"}, {\"nb_name\": \"toy.ipynb\", \"time\": 24.20217427299997, \"nPts\": 1000000, \"condition\": \"pandas\"}, {\"nb_name\": \"toy_o1.ipynb\", \"time\": 106.01156210199996, \"nPts\": 1000000, \"condition\": \"o1\"}, {\"nb_name\": \"toy_o1o2o3.ipynb\", \"time\": 42.343533011999966, \"nPts\": 1000000, \"condition\": \"o1o2o3\"}, {\"nb_name\": \"toy_baseline.ipynb\", \"time\": 409.563452047, \"nPts\": 1000000, \"condition\": \"no opt\"}, {\"nb_name\": \"toy_o1o2.ipynb\", \"time\": 320.55005981, \"nPts\": 10000000, \"condition\": \"o1o2\"}, {\"nb_name\": \"toy.ipynb\", \"time\": 51.96934168100006, \"nPts\": 10000000, \"condition\": \"pandas\"}, {\"nb_name\": \"toy_o1.ipynb\", \"time\": 550.7182161980002, \"nPts\": 10000000, \"condition\": \"o1\"}, {\"nb_name\": \"toy_o1o2o3.ipynb\", \"time\": 197.560366535, \"nPts\": 10000000, \"condition\": \"o1o2o3\"}, {\"nb_name\": \"toy_baseline.ipynb\", \"time\": 2841.4637312690006, \"nPts\": 10000000, \"condition\": \"no opt\"}]}}, {\"mode\": \"vega-lite\"});\n",
       "</script>"
      ],
      "text/plain": [
       "alt.Chart(...)"
      ]
     },
     "execution_count": 9,
     "metadata": {},
     "output_type": "execute_result"
    }
   ],
   "source": [
    "alt.Chart(df).mark_bar().encode(\n",
    "    x = \"condition\",\n",
    "    y = alt.Y(\"time\",scale=alt.Scale(type='log'),title=\"log(total time)\"),\n",
    "    column=\"nPts\",\n",
    "    color=\"condition\"\n",
    ")"
   ]
  },
  {
   "cell_type": "code",
   "execution_count": 10,
   "metadata": {},
   "outputs": [],
   "source": [
    "# # VegaLite can not do logarithmic stacked bar since it is misleading\n",
    "# alt.Chart(df).mark_bar().encode(\n",
    "#     x = alt.X(\"nPts\",type=\"ordinal\"),\n",
    "#     y = alt.Y(\"time\"),#,scale=alt.Scale(type='log'),title=\"log(total time)\"),\n",
    "#     color=\"condition\"\n",
    "# )"
   ]
  },
  {
   "cell_type": "code",
   "execution_count": 26,
   "metadata": {},
   "outputs": [],
   "source": [
    "df = df.drop(columns=\"nb_name\")"
   ]
  },
  {
   "cell_type": "code",
   "execution_count": 53,
   "metadata": {},
   "outputs": [],
   "source": [
    "pdonly = df[df[\"condition\"]==\"pandas\"]\n",
    "best = df[df[\"condition\"]==\"o1o2o3\"]\n",
    "worst = df[df[\"condition\"]==\"no opt\"]"
   ]
  },
  {
   "cell_type": "code",
   "execution_count": null,
   "metadata": {},
   "outputs": [],
   "source": [
    "import numpy as np"
   ]
  },
  {
   "cell_type": "code",
   "execution_count": 68,
   "metadata": {},
   "outputs": [],
   "source": [
    "def pctChange(s1,s2):\n",
    "    return (np.array(s1[\"time\"])-np.array(s2[\"time\"]))/np.array(s2[\"time\"])"
   ]
  },
  {
   "cell_type": "code",
   "execution_count": 69,
   "metadata": {},
   "outputs": [
    {
     "data": {
      "text/plain": [
       "3      33.051949\n",
       "8      24.736191\n",
       "13     42.343533\n",
       "18    197.560367\n",
       "Name: time, dtype: float64"
      ]
     },
     "execution_count": 69,
     "metadata": {},
     "output_type": "execute_result"
    }
   ],
   "source": [
    "best[\"time\"]"
   ]
  },
  {
   "cell_type": "code",
   "execution_count": 70,
   "metadata": {},
   "outputs": [
    {
     "data": {
      "text/plain": [
       "array([0.52858007, 0.16597767, 0.74957558, 2.80147911])"
      ]
     },
     "execution_count": 70,
     "metadata": {},
     "output_type": "execute_result"
    }
   ],
   "source": [
    "pctChange(best,pdonly)"
   ]
  },
  {
   "cell_type": "code",
   "execution_count": 71,
   "metadata": {},
   "outputs": [
    {
     "data": {
      "text/plain": [
       "array([ 3.77364417,  4.78507636, 15.92258916, 53.6757692 ])"
      ]
     },
     "execution_count": 71,
     "metadata": {},
     "output_type": "execute_result"
    }
   ],
   "source": [
    "pctChange(worst,pdonly)"
   ]
  },
  {
   "cell_type": "code",
   "execution_count": 73,
   "metadata": {},
   "outputs": [
    {
     "data": {
      "text/plain": [
       "array([ 2.12292714,  3.96156705,  8.67239677, 13.38276199])"
      ]
     },
     "execution_count": 73,
     "metadata": {},
     "output_type": "execute_result"
    }
   ],
   "source": [
    "pctChange(worst,best)"
   ]
  },
  {
   "cell_type": "code",
   "execution_count": 19,
   "metadata": {},
   "outputs": [
    {
     "data": {
      "text/html": [
       "<div>\n",
       "<style scoped>\n",
       "    .dataframe tbody tr th:only-of-type {\n",
       "        vertical-align: middle;\n",
       "    }\n",
       "\n",
       "    .dataframe tbody tr th {\n",
       "        vertical-align: top;\n",
       "    }\n",
       "\n",
       "    .dataframe thead th {\n",
       "        text-align: right;\n",
       "    }\n",
       "</style>\n",
       "<table border=\"1\" class=\"dataframe\">\n",
       "  <thead>\n",
       "    <tr style=\"text-align: right;\">\n",
       "      <th></th>\n",
       "      <th>nb_name</th>\n",
       "      <th>time</th>\n",
       "    </tr>\n",
       "  </thead>\n",
       "  <tbody>\n",
       "    <tr>\n",
       "      <th>0</th>\n",
       "      <td>NaN</td>\n",
       "      <td>NaN</td>\n",
       "    </tr>\n",
       "    <tr>\n",
       "      <th>1</th>\n",
       "      <td>NaN</td>\n",
       "      <td>NaN</td>\n",
       "    </tr>\n",
       "    <tr>\n",
       "      <th>2</th>\n",
       "      <td>NaN</td>\n",
       "      <td>NaN</td>\n",
       "    </tr>\n",
       "    <tr>\n",
       "      <th>3</th>\n",
       "      <td>NaN</td>\n",
       "      <td>NaN</td>\n",
       "    </tr>\n",
       "    <tr>\n",
       "      <th>4</th>\n",
       "      <td>NaN</td>\n",
       "      <td>NaN</td>\n",
       "    </tr>\n",
       "    <tr>\n",
       "      <th>5</th>\n",
       "      <td>NaN</td>\n",
       "      <td>NaN</td>\n",
       "    </tr>\n",
       "    <tr>\n",
       "      <th>6</th>\n",
       "      <td>NaN</td>\n",
       "      <td>NaN</td>\n",
       "    </tr>\n",
       "    <tr>\n",
       "      <th>7</th>\n",
       "      <td>NaN</td>\n",
       "      <td>NaN</td>\n",
       "    </tr>\n",
       "    <tr>\n",
       "      <th>8</th>\n",
       "      <td>NaN</td>\n",
       "      <td>NaN</td>\n",
       "    </tr>\n",
       "    <tr>\n",
       "      <th>9</th>\n",
       "      <td>NaN</td>\n",
       "      <td>NaN</td>\n",
       "    </tr>\n",
       "    <tr>\n",
       "      <th>10</th>\n",
       "      <td>NaN</td>\n",
       "      <td>NaN</td>\n",
       "    </tr>\n",
       "    <tr>\n",
       "      <th>11</th>\n",
       "      <td>NaN</td>\n",
       "      <td>NaN</td>\n",
       "    </tr>\n",
       "    <tr>\n",
       "      <th>12</th>\n",
       "      <td>NaN</td>\n",
       "      <td>NaN</td>\n",
       "    </tr>\n",
       "    <tr>\n",
       "      <th>13</th>\n",
       "      <td>NaN</td>\n",
       "      <td>NaN</td>\n",
       "    </tr>\n",
       "    <tr>\n",
       "      <th>14</th>\n",
       "      <td>NaN</td>\n",
       "      <td>NaN</td>\n",
       "    </tr>\n",
       "    <tr>\n",
       "      <th>15</th>\n",
       "      <td>NaN</td>\n",
       "      <td>NaN</td>\n",
       "    </tr>\n",
       "    <tr>\n",
       "      <th>16</th>\n",
       "      <td>NaN</td>\n",
       "      <td>NaN</td>\n",
       "    </tr>\n",
       "    <tr>\n",
       "      <th>17</th>\n",
       "      <td>NaN</td>\n",
       "      <td>NaN</td>\n",
       "    </tr>\n",
       "    <tr>\n",
       "      <th>18</th>\n",
       "      <td>NaN</td>\n",
       "      <td>NaN</td>\n",
       "    </tr>\n",
       "    <tr>\n",
       "      <th>19</th>\n",
       "      <td>NaN</td>\n",
       "      <td>NaN</td>\n",
       "    </tr>\n",
       "  </tbody>\n",
       "</table>\n",
       "</div>"
      ],
      "text/plain": [
       "   nb_name  time\n",
       "0      NaN   NaN\n",
       "1      NaN   NaN\n",
       "2      NaN   NaN\n",
       "3      NaN   NaN\n",
       "4      NaN   NaN\n",
       "5      NaN   NaN\n",
       "6      NaN   NaN\n",
       "7      NaN   NaN\n",
       "8      NaN   NaN\n",
       "9      NaN   NaN\n",
       "10     NaN   NaN\n",
       "11     NaN   NaN\n",
       "12     NaN   NaN\n",
       "13     NaN   NaN\n",
       "14     NaN   NaN\n",
       "15     NaN   NaN\n",
       "16     NaN   NaN\n",
       "17     NaN   NaN\n",
       "18     NaN   NaN\n",
       "19     NaN   NaN"
      ]
     },
     "execution_count": 19,
     "metadata": {},
     "output_type": "execute_result"
    }
   ],
   "source": [
    "\n",
    "df.groupby([\"condition\",\"nPts\"])[\"time\"].diff()"
   ]
  },
  {
   "cell_type": "code",
   "execution_count": null,
   "metadata": {},
   "outputs": [],
   "source": []
  },
  {
   "cell_type": "code",
   "execution_count": null,
   "metadata": {},
   "outputs": [],
   "source": []
  }
 ],
 "metadata": {
  "kernelspec": {
   "display_name": "Python 3",
   "language": "python",
   "name": "python3"
  },
  "language_info": {
   "codemirror_mode": {
    "name": "ipython",
    "version": 3
   },
   "file_extension": ".py",
   "mimetype": "text/x-python",
   "name": "python",
   "nbconvert_exporter": "python",
   "pygments_lexer": "ipython3",
   "version": "3.7.7"
  }
 },
 "nbformat": 4,
 "nbformat_minor": 4
}
