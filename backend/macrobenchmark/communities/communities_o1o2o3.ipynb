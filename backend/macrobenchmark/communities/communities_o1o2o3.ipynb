{
 "cells": [
  {
   "cell_type": "code",
   "execution_count": null,
   "id": "foster-variety",
   "metadata": {},
   "outputs": [],
   "source": [
    "import lux\n",
    "lux.config.lazy_maintain = True\n",
    "lux.config.early_pruning = True\n",
    "lux.config.streaming = True"
   ]
  },
  {
   "cell_type": "markdown",
   "metadata": {},
   "source": [
    "This notebook is originally derived from [this notebook on Kaggle](https://www.kaggle.com/kkanda/analyzing-uci-crime-and-communities-dfset)."
   ]
  },
  {
   "cell_type": "code",
   "execution_count": null,
   "metadata": {
    "_cell_guid": "b1076dfc-b9ad-4769-8c92-a6c4dae69d19",
    "_kg_hide-input": true,
    "_uuid": "8f2839f25d086af736a60e9eeb907d3b93b6e0e5",
    "scrolled": true
   },
   "outputs": [],
   "source": [
    "# {{NO LUX}}\n",
    "import numpy as np \n",
    "import pandas as pd \n",
    "%matplotlib inline\n",
    "import matplotlib.pyplot as plt\n",
    "import seaborn as sns\n",
    "from sklearn import linear_model\n",
    "from sklearn.model_selection import train_test_split,KFold,cross_val_score\n",
    "import re\n",
    "import json\n",
    "from pandas.io.json import json_normalize"
   ]
  },
  {
   "cell_type": "code",
   "execution_count": null,
   "metadata": {
    "tags": [
     "parameters"
    ]
   },
   "outputs": [],
   "source": [
    "numPoints=100"
   ]
  },
  {
   "cell_type": "code",
   "execution_count": null,
   "metadata": {},
   "outputs": [],
   "source": [
    "# {{NO LUX}}\n",
    "df = pd.read_csv(\"../../data/communities_100k.csv\",na_values=[\"?\"]) \n",
    "df = df.sample(n=int(numPoints),random_state=111)"
   ]
  },
  {
   "cell_type": "code",
   "execution_count": null,
   "metadata": {},
   "outputs": [],
   "source": [
    "# {{NO LUX}}\n",
    "df.columns"
   ]
  },
  {
   "cell_type": "code",
   "execution_count": null,
   "metadata": {},
   "outputs": [],
   "source": [
    "# {{PRINT SERIES}}\n",
    "df.ViolentCrimesPerPo"
   ]
  },
  {
   "cell_type": "code",
   "execution_count": null,
   "metadata": {},
   "outputs": [],
   "source": [
    "# {{PRINT DF}}\n",
    "df"
   ]
  },
  {
   "cell_type": "code",
   "execution_count": null,
   "metadata": {},
   "outputs": [],
   "source": [
    "# {{NO LUX}}\n",
    "df = df.rename(columns={'Êcommunityname':'communityName'})"
   ]
  },
  {
   "cell_type": "code",
   "execution_count": null,
   "metadata": {},
   "outputs": [],
   "source": [
    "# {{PRINT DF}}\n",
    "df"
   ]
  },
  {
   "cell_type": "code",
   "execution_count": null,
   "metadata": {},
   "outputs": [],
   "source": [
    "# {{PRINT SERIES}}\n",
    "df.communityname"
   ]
  },
  {
   "cell_type": "code",
   "execution_count": null,
   "metadata": {},
   "outputs": [],
   "source": [
    "# {{NO LUX}}\n",
    "print (list(df.columns))"
   ]
  },
  {
   "cell_type": "code",
   "execution_count": null,
   "metadata": {},
   "outputs": [],
   "source": [
    "# {{NO LUX}}\n",
    "df.info()"
   ]
  },
  {
   "cell_type": "code",
   "execution_count": null,
   "metadata": {
    "_cell_guid": "79c7e3d0-c299-4dcb-8224-4455121ee9b0",
    "_kg_hide-input": true,
    "_uuid": "d629ff2d2480ee46fbb7e2d37f6b5fab8052498a"
   },
   "outputs": [],
   "source": [
    "# {{NO LUX}}\n",
    "cols = ['HousVacant','PctHousOccup','PctHousOwnOcc','PctVacantBoarded','PctVacMore6Mos','PctUnemployed','PctEmploy','ViolentCrimesPerPo']\n",
    "df.fillna(df[cols].median(),inplace=True)"
   ]
  },
  {
   "cell_type": "code",
   "execution_count": null,
   "metadata": {},
   "outputs": [],
   "source": [
    "# {{PRINT DF}}\n",
    "df"
   ]
  },
  {
   "cell_type": "code",
   "execution_count": null,
   "metadata": {
    "_cell_guid": "d5d2f4ad-63ee-4af5-8eb1-e429dc7b5c50",
    "_uuid": "c9e07c1427a630200527366f417c2e2e6fec153e"
   },
   "outputs": [],
   "source": [
    "# {{NO LUX}}\n",
    "df_state = df.groupby('state').agg({'ViolentCrimesPerPo':'mean'})[['ViolentCrimesPerPo']].reset_index()"
   ]
  },
  {
   "cell_type": "code",
   "execution_count": null,
   "metadata": {},
   "outputs": [],
   "source": [
    "# {{PRINT DF}}\n",
    "df_state"
   ]
  },
  {
   "cell_type": "code",
   "execution_count": null,
   "metadata": {
    "_cell_guid": "3f2299a7-6be5-456a-bc25-4fc95901feba",
    "_uuid": "df36d9f477160c330a27e60822077858d0163e85"
   },
   "outputs": [],
   "source": [
    "# {{NO LUX}}\n",
    "cols = ['HousVacant','PctHousOccup','PctHousOwnOcc','PctVacantBoarded','PctVacMore6Mos','PctUnemployed','PctEmploy','murdPerPop','rapesPerPop','robbbPerPop','assaultPerPop','ViolentCrimesPerPo','burglPerPop','larcPerPop','autoTheftPerPop','arsonsPerPop','nonViolPerPop']\n",
    "df_study = df.filter(cols, axis=1)"
   ]
  },
  {
   "cell_type": "code",
   "execution_count": null,
   "metadata": {},
   "outputs": [],
   "source": [
    "# {{PRINT DF}}\n",
    "df_study"
   ]
  },
  {
   "cell_type": "code",
   "execution_count": null,
   "metadata": {},
   "outputs": [],
   "source": [
    "# {{NO LUX}}\n",
    "corr_df_study = df_study.corr()"
   ]
  },
  {
   "cell_type": "code",
   "execution_count": null,
   "metadata": {},
   "outputs": [],
   "source": [
    "# {{PRINT DF}}\n",
    "corr_df_study"
   ]
  },
  {
   "cell_type": "markdown",
   "metadata": {},
   "source": [
    "The latter half of this notebook is originally derived from [this notebook](https://github.com/vbordalo/Communities-Crime/blob/master/Crime_v1.ipynb)."
   ]
  },
  {
   "cell_type": "code",
   "execution_count": null,
   "metadata": {},
   "outputs": [],
   "source": [
    "# {{NO LUX}}\n",
    "df = df.drop(columns=['state','county',\n",
    "                          'community','communityname',\n",
    "                          'fold'], axis=1)"
   ]
  },
  {
   "cell_type": "code",
   "execution_count": null,
   "metadata": {},
   "outputs": [],
   "source": [
    "# {{PRINT DF}}\n",
    "df"
   ]
  },
  {
   "cell_type": "code",
   "execution_count": null,
   "metadata": {},
   "outputs": [],
   "source": [
    "# {{NO LUX}}\n",
    "df = df.replace('?', np.nan)\n",
    "feat_miss = df.columns[df.isnull().any()]"
   ]
  },
  {
   "cell_type": "code",
   "execution_count": null,
   "metadata": {},
   "outputs": [],
   "source": [
    "# {{NO LUX}}\n",
    "print(feat_miss)\n",
    "feat_miss.shape"
   ]
  },
  {
   "cell_type": "code",
   "execution_count": null,
   "metadata": {},
   "outputs": [],
   "source": [
    "# {{PRINT DF}}\n",
    "df"
   ]
  },
  {
   "cell_type": "code",
   "execution_count": null,
   "metadata": {},
   "outputs": [],
   "source": [
    "# {{PRINT DF}}\n",
    "df[feat_miss[13:23]].describe()"
   ]
  },
  {
   "cell_type": "code",
   "execution_count": null,
   "metadata": {},
   "outputs": [],
   "source": [
    "# {{NO LUX}}\n",
    "df = df.dropna(axis=1)"
   ]
  },
  {
   "cell_type": "code",
   "execution_count": null,
   "metadata": {},
   "outputs": [],
   "source": [
    "# {{PRINT DF}}\n",
    "df"
   ]
  },
  {
   "cell_type": "code",
   "execution_count": null,
   "metadata": {},
   "outputs": [],
   "source": [
    "# {{PRINT DF}}\n",
    "df.describe()"
   ]
  },
  {
   "cell_type": "code",
   "execution_count": null,
   "metadata": {},
   "outputs": [],
   "source": [
    "# {{NO LUX}}\n",
    "df.hist(column = ['ViolentCrimesPerPo'], bins = 30, color = 'red', alpha = 0.8)\n",
    "plt.show()"
   ]
  },
  {
   "cell_type": "code",
   "execution_count": null,
   "metadata": {},
   "outputs": [],
   "source": [
    "# {{NO LUX}}\n",
    "import seaborn as sns\n",
    "\n",
    "corrmat = df.corr()\n",
    "fig = plt.figure(figsize = (16, 12))\n",
    "\n",
    "sns.heatmap(corrmat, vmax = 0.8)\n",
    "plt.show()"
   ]
  },
  {
   "cell_type": "code",
   "execution_count": null,
   "metadata": {},
   "outputs": [],
   "source": [
    "# {{NO LUX}}\n",
    "corrT = df.corr(method = 'pearson').round(4)"
   ]
  },
  {
   "cell_type": "code",
   "execution_count": null,
   "metadata": {},
   "outputs": [],
   "source": [
    "# {{PRINT DF}}\n",
    "corrT"
   ]
  },
  {
   "cell_type": "code",
   "execution_count": null,
   "metadata": {},
   "outputs": [],
   "source": [
    "# {{NO LUX}}\n",
    "corrT = corrT.sort_values(by=['ViolentCrimesPerPo'])"
   ]
  },
  {
   "cell_type": "code",
   "execution_count": null,
   "metadata": {},
   "outputs": [],
   "source": [
    "# {{PRINT DF}}\n",
    "corrT"
   ]
  },
  {
   "cell_type": "code",
   "execution_count": null,
   "metadata": {},
   "outputs": [],
   "source": [
    "# {{PRINT SERIES}}\n",
    "corrT['ViolentCrimesPerPo']"
   ]
  },
  {
   "cell_type": "code",
   "execution_count": null,
   "metadata": {},
   "outputs": [],
   "source": [
    "# {{NO LUX}}\n",
    "X = df.iloc[:, 0:100].values\n",
    "y = df[\"ViolentCrimesPerPo\"]"
   ]
  },
  {
   "cell_type": "code",
   "execution_count": null,
   "metadata": {},
   "outputs": [],
   "source": [
    "# {{PRINT SERIES}}\n",
    "y"
   ]
  },
  {
   "cell_type": "code",
   "execution_count": null,
   "metadata": {},
   "outputs": [],
   "source": [
    "# {{NO LUX}}\n",
    "from sklearn.model_selection import train_test_split\n",
    "seed = 0\n",
    "X_train, X_test, y_train, y_test = train_test_split(X, y, test_size = 0.3, random_state = seed)\n",
    "X_train"
   ]
  },
  {
   "cell_type": "code",
   "execution_count": null,
   "metadata": {},
   "outputs": [],
   "source": [
    "# {{NO LUX}}\n",
    "from sklearn.preprocessing import StandardScaler\n",
    "sc = StandardScaler()\n",
    "X_train = sc.fit_transform(X_train)\n",
    "X_test = sc.transform(X_test)"
   ]
  },
  {
   "cell_type": "code",
   "execution_count": null,
   "metadata": {},
   "outputs": [],
   "source": [
    "# {{PRINT DF}}\n",
    "df"
   ]
  },
  {
   "cell_type": "code",
   "execution_count": null,
   "metadata": {},
   "outputs": [],
   "source": [
    "# {{NO LUX}}\n",
    "from sklearn.decomposition import PCA\n",
    "\n",
    "c = 14\n",
    "pca = PCA(n_components = c)\n",
    "X_train = pca.fit_transform(X_train)\n",
    "X_test = pca.transform(X_test)\n",
    "\n",
    "print(\"Amount of variance: %s\" % pca.explained_variance_)\n",
    "print(\"Sum of the variance: %s\" % sum(pca.explained_variance_).round(2))\n",
    "\n",
    "print(\"Percentage of variance: %s\" % pca.explained_variance_ratio_)\n",
    "print(\"Sum of the percentage of variance: %s\" % sum(pca.explained_variance_ratio_).round(2))\n",
    "\n",
    "\n",
    "plt.scatter(np.arange(1,(c+1)),pca.explained_variance_, c = 'red')\n",
    "plt.plot((0,15), (1,1), color = 'black', linestyle = 'dashed')\n",
    "plt.xlabel('PC')\n",
    "plt.ylabel('Amount of variance explained')\n",
    "plt.show()\n",
    "print(X_train.shape)"
   ]
  },
  {
   "cell_type": "code",
   "execution_count": null,
   "metadata": {
    "scrolled": false
   },
   "outputs": [],
   "source": [
    "# {{NO LUX}}\n",
    "def myplot(XX, yy):\n",
    "    from sklearn.model_selection import ShuffleSplit\n",
    "    from sklearn.model_selection import cross_val_score\n",
    "    from sklearn.metrics import make_scorer\n",
    "    from sklearn.metrics import mean_squared_error, r2_score, mean_absolute_error\n",
    "\n",
    "    cv = ShuffleSplit(n_splits=10, test_size=0.3, random_state=seed)\n",
    "\n",
    "    results = []\n",
    "    names = []\n",
    "\n",
    "    for name, model in models:\n",
    "        cv_results = cross_val_score(model, XX, yy, cv = cv, scoring = make_scorer(r2_score))\n",
    "        results.append(cv_results)\n",
    "        names.append(name)\n",
    "        msg = \"%s: %.3f (+/- %.3f)\" % (name, cv_results.mean(), cv_results.std())\n",
    "        print(msg)\n",
    "\n",
    "    fig = plt.figure()\n",
    "    fig.suptitle('R2')\n",
    "    ax = fig.add_subplot(111)\n",
    "    plt.boxplot(results)\n",
    "    ax.set_xticklabels(names)\n",
    "    plt.show()"
   ]
  },
  {
   "cell_type": "code",
   "execution_count": null,
   "metadata": {},
   "outputs": [],
   "source": [
    "# {{NO LUX}}\n",
    "from sklearn.linear_model import LinearRegression\n",
    "from sklearn.svm import SVR\n",
    "from sklearn.tree import DecisionTreeRegressor\n",
    "from sklearn.ensemble import RandomForestRegressor\n",
    "\n",
    "models = []\n",
    "models.append(('LR', LinearRegression()))\n",
    "models.append(('SVR', SVR()))\n",
    "models.append(('DTR', DecisionTreeRegressor(random_state=seed)))\n",
    "models.append(('RFR (100 Trees)', RandomForestRegressor(n_estimators=100, random_state=seed)))"
   ]
  },
  {
   "cell_type": "code",
   "execution_count": null,
   "metadata": {},
   "outputs": [],
   "source": [
    "# {{NO LUX}}\n",
    "myplot(X_train, y_train)"
   ]
  },
  {
   "cell_type": "code",
   "execution_count": null,
   "metadata": {},
   "outputs": [],
   "source": [
    "# {{NO LUX}}\n",
    "from sklearn.linear_model import LinearRegression\n",
    "from sklearn.linear_model import RANSACRegressor\n",
    "\n",
    "#model = LinearRegression(fit_intercept=True)\n",
    "model = RANSACRegressor(LinearRegression(),\n",
    "                         max_trials=100,\n",
    "                         min_samples=50,\n",
    "                         loss='absolute_loss',\n",
    "                         residual_threshold=0.55,\n",
    "                         random_state=seed)\n",
    "\n",
    "\n",
    "model.fit(X_train, y_train)\n",
    "\n",
    "y_pred = model.predict(X_train)\n",
    "# Correction: y_pred (per capita violent crimes) can not assume negative values\n",
    "y_pred[y_pred < 0] = 0\n",
    "\n",
    "K = X_train.shape[1]+1\n",
    "rms = np.sqrt(sum((y_train-y_pred)**2)/(len(y_train)-K))"
   ]
  },
  {
   "cell_type": "code",
   "execution_count": null,
   "metadata": {},
   "outputs": [],
   "source": [
    "# {{NO LUX}}\n",
    "from sklearn.metrics import r2_score\n",
    "from sklearn.metrics import mean_squared_error\n",
    "from sklearn.metrics import mean_absolute_error\n",
    "\n",
    "print('R^2: %.4f' % r2_score(y_train,y_pred))\n",
    "print('MSE: %.4f' % mean_squared_error(y_train,y_pred))\n",
    "print('MAE: %.4f' % mean_absolute_error(y_train,y_pred))\n",
    "print('rms: %.4f' % rms)\n",
    "\n",
    "inlier_mask = model.inlier_mask_\n",
    "outlier_mask = np.logical_not(inlier_mask)\n",
    "\n",
    "plt.figure(figsize=(15, 10))\n",
    "ax1 = plt.subplot(121)\n",
    "ax1.scatter(y_pred[inlier_mask], y_train[inlier_mask], c = 'blue', alpha = 0.5)\n",
    "ax1.scatter(y_pred[outlier_mask], y_train[outlier_mask], c = 'red', alpha = 0.5)\n",
    "ax1.plot((-0.1,1.2),(-0.1,1.2), c = 'black', linestyle = 'dashed')\n",
    "ax1.set_title('Training Set')\n",
    "ax1.set_xlabel('y_pred_train')\n",
    "ax1.set_ylabel('y_train')\n",
    "\n",
    "ax2 = plt.subplot(122)\n",
    "ax2.scatter(y_pred[inlier_mask], y_pred[inlier_mask] - y_train[inlier_mask], c = 'blue', alpha = 0.5)\n",
    "ax2.scatter(y_pred[outlier_mask], y_pred[outlier_mask] - y_train[outlier_mask], c = 'red', alpha = 0.5)\n",
    "ax2.plot((0,1.2),(0,0), c = 'black', linestyle = 'dashed')\n",
    "ax2.set_title('Training Set')\n",
    "ax2.set_xlabel('y_pred_train')\n",
    "ax2.set_ylabel('Residuals')\n",
    "\n",
    "plt.subplots_adjust(wspace=0.4, top=0.5)\n",
    "plt.show()"
   ]
  },
  {
   "cell_type": "code",
   "execution_count": null,
   "metadata": {
    "scrolled": false
   },
   "outputs": [],
   "source": [
    "# {{NO LUX}}\n",
    "y_pred_test = model.predict(X_test)\n",
    "y_pred_test[y_pred_test < 0] = 0\n",
    "\n",
    "nrp = X_test.shape[1]+1\n",
    "rms = np.sqrt(sum((y_test-y_pred_test)**2)/(len(y_test)-nrp))\n",
    "\n",
    "print('R^2: %.4f' % r2_score(y_test,y_pred_test))\n",
    "print('MSE: %.4f' % mean_squared_error(y_test,y_pred_test))\n",
    "print('MAE: %.4f' % mean_absolute_error(y_test,y_pred_test))\n",
    "print('rms: %.4f' % rms)\n",
    "\n",
    "plt.figure(figsize=(15, 10))\n",
    "ax1 = plt.subplot(121)\n",
    "ax1.scatter(y_pred_test, y_test, c = 'green', alpha = 0.5)\n",
    "ax1.plot((-0.1,1.2),(-0.1,1.2), c = 'black', linestyle = 'dashed')\n",
    "ax1.set_title('Test Set')\n",
    "ax1.set_xlabel('y_pred_test')\n",
    "ax1.set_ylabel('y_test')\n",
    "\n",
    "ax2 = plt.subplot(122)\n",
    "ax2.scatter(y_pred_test, y_pred_test - y_test, c = 'green', alpha = 0.5)\n",
    "ax2.plot((0,1.2),(0,0), c = 'black', linestyle = 'dashed')\n",
    "ax2.set_title('Test Set')\n",
    "ax2.set_xlabel('y_pred_test')\n",
    "ax2.set_ylabel('Residuals')\n",
    "\n",
    "plt.subplots_adjust(wspace=0.4, top=0.5)\n",
    "plt.show()"
   ]
  },
  {
   "cell_type": "code",
   "execution_count": null,
   "metadata": {},
   "outputs": [],
   "source": [
    "# {{NO LUX}}\n",
    "from sklearn.linear_model import LinearRegression\n",
    "from sklearn.linear_model import RANSACRegressor\n",
    "\n",
    "model = RANSACRegressor(LinearRegression(),\n",
    "                         max_trials=100,\n",
    "                         min_samples=50,\n",
    "                         loss='absolute_loss',\n",
    "                         residual_threshold=0.55,\n",
    "                         random_state=seed)\n",
    "\n",
    "\n",
    "model.fit(X_train, y_train)\n",
    "\n",
    "y_pred = model.predict(X_train)\n",
    "# Correction: y_pred (per capita violent crimes) can not assume negative values\n",
    "y_pred[y_pred < 0] = 0\n",
    "\n",
    "K = X_train.shape[1]+1\n",
    "rms = np.sqrt(sum((y_train-y_pred)**2)/(len(y_train)-K))"
   ]
  },
  {
   "cell_type": "code",
   "execution_count": null,
   "metadata": {},
   "outputs": [],
   "source": [
    "# {{NO LUX}}\n",
    "from sklearn.metrics import r2_score\n",
    "from sklearn.metrics import mean_squared_error\n",
    "from sklearn.metrics import mean_absolute_error\n",
    "\n",
    "print('R^2: %.4f' % r2_score(y_train,y_pred))\n",
    "print('MSE: %.4f' % mean_squared_error(y_train,y_pred))\n",
    "print('MAE: %.4f' % mean_absolute_error(y_train,y_pred))\n",
    "print('rms: %.4f' % rms)\n",
    "\n",
    "inlier_mask = model.inlier_mask_\n",
    "outlier_mask = np.logical_not(inlier_mask)\n",
    "\n",
    "plt.figure(figsize=(15, 10))\n",
    "ax1 = plt.subplot(121)\n",
    "ax1.scatter(y_pred[inlier_mask], y_train[inlier_mask], c = 'blue', alpha = 0.5)\n",
    "ax1.scatter(y_pred[outlier_mask], y_train[outlier_mask], c = 'red', alpha = 0.5)\n",
    "ax1.plot((-0.1,1.2),(-0.1,1.2), c = 'black', linestyle = 'dashed')\n",
    "ax1.set_title('Training Set')\n",
    "ax1.set_xlabel('y_pred_train')\n",
    "ax1.set_ylabel('y_train')\n",
    "\n",
    "ax2 = plt.subplot(122)\n",
    "ax2.scatter(y_pred[inlier_mask], y_pred[inlier_mask] - y_train[inlier_mask], c = 'blue', alpha = 0.5)\n",
    "ax2.scatter(y_pred[outlier_mask], y_pred[outlier_mask] - y_train[outlier_mask], c = 'red', alpha = 0.5)\n",
    "ax2.plot((0,1.2),(0,0), c = 'black', linestyle = 'dashed')\n",
    "ax2.set_title('Training Set')\n",
    "ax2.set_xlabel('y_pred_train')\n",
    "ax2.set_ylabel('Residuals')\n",
    "\n",
    "plt.subplots_adjust(wspace=0.4, top=0.5)\n",
    "plt.show()"
   ]
  }
 ],
 "metadata": {
  "celltoolbar": "Tags",
  "kernelspec": {
   "display_name": "Python 3",
   "language": "python",
   "name": "python3"
  },
  "language_info": {
   "codemirror_mode": {
    "name": "ipython",
    "version": 3
   },
   "file_extension": ".py",
   "mimetype": "text/x-python",
   "name": "python",
   "nbconvert_exporter": "python",
   "pygments_lexer": "ipython3",
   "version": "3.7.7"
  }
 },
 "nbformat": 4,
 "nbformat_minor": 1
}
