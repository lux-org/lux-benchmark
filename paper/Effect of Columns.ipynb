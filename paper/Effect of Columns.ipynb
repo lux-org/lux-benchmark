{
 "cells": [
  {
   "cell_type": "code",
   "execution_count": 1,
   "metadata": {},
   "outputs": [],
   "source": [
    "import glob\n",
    "import time\n",
    "import pandas as pd\n",
    "import numpy as np\n",
    "import json"
   ]
  },
  {
   "cell_type": "code",
   "execution_count": 2,
   "metadata": {},
   "outputs": [
    {
     "name": "stdout",
     "output_type": "stream",
     "text": [
      "/Users/dorislee/Desktop/Research/lux/lux-benchmark/backend/vary_data\n"
     ]
    },
    {
     "data": {
      "text/plain": [
       "['~/Desktop/Research/lux/lux-benchmark/paper']"
      ]
     },
     "execution_count": 2,
     "metadata": {},
     "output_type": "execute_result"
    }
   ],
   "source": [
    "pushd ../backend/vary_data/"
   ]
  },
  {
   "cell_type": "code",
   "execution_count": 3,
   "metadata": {},
   "outputs": [],
   "source": [
    "df = pd.read_csv(\"print_macrobenchmark.csv\")"
   ]
  },
  {
   "cell_type": "code",
   "execution_count": 4,
   "metadata": {},
   "outputs": [],
   "source": [
    "trial = []\n",
    "\n",
    "for nb_name in glob.glob(\"print/print_*_*_*_output.ipynb\"):\n",
    "    snb = nb_name.split(\"_\")\n",
    "    if len(snb)==5:\n",
    "        _, condition, nCols, _,_ = nb_name.split(\"_\")\n",
    "    with open(nb_name) as json_file:\n",
    "        data = json.load(json_file)\n",
    "        for cell in data['cells']:\n",
    "            if (len(cell[\"source\"])>0 and cell[\"source\"][0]==\"df\"):\n",
    "                duration = cell[\"metadata\"][\"papermill\"][\"duration\"]\n",
    "                #print(nb_name,nCols,condition, duration)\n",
    "                trial.append([condition, int(nCols),duration])\n",
    "\n",
    "trial = pd.DataFrame(trial,columns=[\"condition\",\"nCols\",\"time\"])"
   ]
  },
  {
   "cell_type": "code",
   "execution_count": 5,
   "metadata": {},
   "outputs": [
    {
     "name": "stdout",
     "output_type": "stream",
     "text": [
      "/Users/dorislee/Desktop/Research/lux/lux-benchmark/paper\n",
      "popd -> ~/Desktop/Research/lux/lux-benchmark/paper\n"
     ]
    }
   ],
   "source": [
    "popd"
   ]
  },
  {
   "cell_type": "code",
   "execution_count": 6,
   "metadata": {},
   "outputs": [],
   "source": [
    "trial.to_csv(\"plot_data/synthetic_ncols.csv\")"
   ]
  },
  {
   "cell_type": "code",
   "execution_count": 7,
   "metadata": {},
   "outputs": [],
   "source": [
    "import pandas as pd\n",
    "import altair as alt"
   ]
  },
  {
   "cell_type": "code",
   "execution_count": 8,
   "metadata": {},
   "outputs": [],
   "source": [
    "# trial.groupby([\"condition\",\"nCols\"]).mean()"
   ]
  },
  {
   "cell_type": "code",
   "execution_count": 9,
   "metadata": {},
   "outputs": [],
   "source": [
    "# df = pd.read_csv(\"print_macrobenchmark.csv\")"
   ]
  },
  {
   "cell_type": "code",
   "execution_count": 12,
   "metadata": {},
   "outputs": [
    {
     "data": {
      "text/html": [
       "\n",
       "<div id=\"altair-viz-20a35de04afc41f69b030aee4a3058c2\"></div>\n",
       "<script type=\"text/javascript\">\n",
       "  (function(spec, embedOpt){\n",
       "    let outputDiv = document.currentScript.previousElementSibling;\n",
       "    if (outputDiv.id !== \"altair-viz-20a35de04afc41f69b030aee4a3058c2\") {\n",
       "      outputDiv = document.getElementById(\"altair-viz-20a35de04afc41f69b030aee4a3058c2\");\n",
       "    }\n",
       "    const paths = {\n",
       "      \"vega\": \"https://cdn.jsdelivr.net/npm//vega@5?noext\",\n",
       "      \"vega-lib\": \"https://cdn.jsdelivr.net/npm//vega-lib?noext\",\n",
       "      \"vega-lite\": \"https://cdn.jsdelivr.net/npm//vega-lite@4.8.1?noext\",\n",
       "      \"vega-embed\": \"https://cdn.jsdelivr.net/npm//vega-embed@6?noext\",\n",
       "    };\n",
       "\n",
       "    function loadScript(lib) {\n",
       "      return new Promise(function(resolve, reject) {\n",
       "        var s = document.createElement('script');\n",
       "        s.src = paths[lib];\n",
       "        s.async = true;\n",
       "        s.onload = () => resolve(paths[lib]);\n",
       "        s.onerror = () => reject(`Error loading script: ${paths[lib]}`);\n",
       "        document.getElementsByTagName(\"head\")[0].appendChild(s);\n",
       "      });\n",
       "    }\n",
       "\n",
       "    function showError(err) {\n",
       "      outputDiv.innerHTML = `<div class=\"error\" style=\"color:red;\">${err}</div>`;\n",
       "      throw err;\n",
       "    }\n",
       "\n",
       "    function displayChart(vegaEmbed) {\n",
       "      vegaEmbed(outputDiv, spec, embedOpt)\n",
       "        .catch(err => showError(`Javascript Error: ${err.message}<br>This usually means there's a typo in your chart specification. See the javascript console for the full traceback.`));\n",
       "    }\n",
       "\n",
       "    if(typeof define === \"function\" && define.amd) {\n",
       "      requirejs.config({paths});\n",
       "      require([\"vega-embed\"], displayChart, err => showError(`Error loading script: ${err.message}`));\n",
       "    } else if (typeof vegaEmbed === \"function\") {\n",
       "      displayChart(vegaEmbed);\n",
       "    } else {\n",
       "      loadScript(\"vega\")\n",
       "        .then(() => loadScript(\"vega-lite\"))\n",
       "        .then(() => loadScript(\"vega-embed\"))\n",
       "        .catch(showError)\n",
       "        .then(() => displayChart(vegaEmbed));\n",
       "    }\n",
       "  })({\"config\": {\"view\": {\"continuousWidth\": 400, \"continuousHeight\": 300}}, \"data\": {\"name\": \"data-bacc077cd07260b293e7991f9fbfc353\"}, \"mark\": \"bar\", \"encoding\": {\"color\": {\"type\": \"nominal\", \"field\": \"condition\"}, \"column\": {\"type\": \"ordinal\", \"field\": \"nCols\"}, \"x\": {\"type\": \"nominal\", \"field\": \"condition\"}, \"y\": {\"type\": \"quantitative\", \"field\": \"time\", \"scale\": {\"type\": \"log\"}, \"title\": \"log(total time)\"}}, \"$schema\": \"https://vega.github.io/schema/vega-lite/v4.8.1.json\", \"datasets\": {\"data-bacc077cd07260b293e7991f9fbfc353\": [{\"condition\": \"o1\", \"nCols\": 10, \"time\": 2.548582}, {\"condition\": \"o1\", \"nCols\": 11, \"time\": 2.139161}, {\"condition\": \"o1\", \"nCols\": 14, \"time\": 3.223207}, {\"condition\": \"o1\", \"nCols\": 16, \"time\": 3.359714}, {\"condition\": \"o1\", \"nCols\": 19, \"time\": 4.443362}, {\"condition\": \"o1\", \"nCols\": 23, \"time\": 5.917444}, {\"condition\": \"o1\", \"nCols\": 27, \"time\": 6.091226}, {\"condition\": \"o1\", \"nCols\": 33, \"time\": 8.442273}, {\"condition\": \"o1\", \"nCols\": 39, \"time\": 9.8654}, {\"condition\": \"o1\", \"nCols\": 46, \"time\": 13.011628}, {\"condition\": \"o1\", \"nCols\": 55, \"time\": 16.730019}, {\"condition\": \"o1\", \"nCols\": 65, \"time\": 22.779906}, {\"condition\": \"o1\", \"nCols\": 77, \"time\": 30.664536}, {\"condition\": \"o1\", \"nCols\": 91, \"time\": 42.216232}, {\"condition\": \"o1\", \"nCols\": 108, \"time\": 58.032224}, {\"condition\": \"o1\", \"nCols\": 129, \"time\": 83.376123}, {\"condition\": \"o1\", \"nCols\": 153, \"time\": 113.905903}, {\"condition\": \"o1\", \"nCols\": 181, \"time\": 149.826185}, {\"condition\": \"o1\", \"nCols\": 215, \"time\": 209.255243}, {\"condition\": \"o1\", \"nCols\": 255, \"time\": 307.24252}, {\"condition\": \"o1\", \"nCols\": 303, \"time\": 467.102547}, {\"condition\": \"o1\", \"nCols\": 359, \"time\": 717.095981}, {\"condition\": \"o1\", \"nCols\": 426, \"time\": 1065.825402}, {\"condition\": \"o1\", \"nCols\": 505, \"time\": 1503.93737}, {\"condition\": \"o1\", \"nCols\": 600, \"time\": 2538.92778}, {\"condition\": \"o1o2\", \"nCols\": 10, \"time\": 2.705945}, {\"condition\": \"o1o2\", \"nCols\": 11, \"time\": 2.203107}, {\"condition\": \"o1o2\", \"nCols\": 14, \"time\": 3.216178}, {\"condition\": \"o1o2\", \"nCols\": 16, \"time\": 2.964548}, {\"condition\": \"o1o2\", \"nCols\": 19, \"time\": 3.911538}, {\"condition\": \"o1o2\", \"nCols\": 23, \"time\": 4.80108}, {\"condition\": \"o1o2\", \"nCols\": 27, \"time\": 4.682587}, {\"condition\": \"o1o2\", \"nCols\": 33, \"time\": 5.597494}, {\"condition\": \"o1o2\", \"nCols\": 39, \"time\": 5.148929}, {\"condition\": \"o1o2\", \"nCols\": 46, \"time\": 6.721944}, {\"condition\": \"o1o2\", \"nCols\": 55, \"time\": 6.853352}, {\"condition\": \"o1o2\", \"nCols\": 65, \"time\": 7.51461}, {\"condition\": \"o1o2\", \"nCols\": 77, \"time\": 8.285314}, {\"condition\": \"o1o2\", \"nCols\": 91, \"time\": 10.668474}, {\"condition\": \"o1o2\", \"nCols\": 108, \"time\": 13.672768}, {\"condition\": \"o1o2\", \"nCols\": 129, \"time\": 17.000182}, {\"condition\": \"o1o2\", \"nCols\": 153, \"time\": 23.722986}, {\"condition\": \"o1o2\", \"nCols\": 181, \"time\": 33.679293}, {\"condition\": \"o1o2\", \"nCols\": 215, \"time\": 49.777787}, {\"condition\": \"o1o2\", \"nCols\": 255, \"time\": 80.977443}, {\"condition\": \"o1o2\", \"nCols\": 303, \"time\": 125.817151}, {\"condition\": \"o1o2\", \"nCols\": 359, \"time\": 233.080471}, {\"condition\": \"o1o2\", \"nCols\": 426, \"time\": 431.12771}, {\"condition\": \"o1o2\", \"nCols\": 505, \"time\": 789.176693}, {\"condition\": \"o1o2\", \"nCols\": 600, \"time\": 1536.406177}, {\"condition\": \"o1o2o3\", \"nCols\": 10, \"time\": 0.514909}, {\"condition\": \"o1o2o3\", \"nCols\": 11, \"time\": 0.6416}, {\"condition\": \"o1o2o3\", \"nCols\": 14, \"time\": 0.723303}, {\"condition\": \"o1o2o3\", \"nCols\": 16, \"time\": 0.911429}, {\"condition\": \"o1o2o3\", \"nCols\": 19, \"time\": 0.955162}, {\"condition\": \"o1o2o3\", \"nCols\": 23, \"time\": 1.05757}, {\"condition\": \"o1o2o3\", \"nCols\": 27, \"time\": 1.228695}, {\"condition\": \"o1o2o3\", \"nCols\": 33, \"time\": 1.447015}, {\"condition\": \"o1o2o3\", \"nCols\": 39, \"time\": 1.766816}, {\"condition\": \"o1o2o3\", \"nCols\": 46, \"time\": 2.042909}, {\"condition\": \"o1o2o3\", \"nCols\": 55, \"time\": 2.370053}, {\"condition\": \"o1o2o3\", \"nCols\": 65, \"time\": 2.720656}, {\"condition\": \"o1o2o3\", \"nCols\": 77, \"time\": 3.187366}, {\"condition\": \"o1o2o3\", \"nCols\": 91, \"time\": 3.621685}, {\"condition\": \"o1o2o3\", \"nCols\": 108, \"time\": 4.666042}, {\"condition\": \"o1o2o3\", \"nCols\": 129, \"time\": 5.513793}, {\"condition\": \"o1o2o3\", \"nCols\": 153, \"time\": 6.318049}, {\"condition\": \"o1o2o3\", \"nCols\": 181, \"time\": 6.766403}, {\"condition\": \"o1o2o3\", \"nCols\": 215, \"time\": 8.26608}, {\"condition\": \"o1o2o3\", \"nCols\": 255, \"time\": 9.756741}, {\"condition\": \"o1o2o3\", \"nCols\": 303, \"time\": 12.432627}, {\"condition\": \"o1o2o3\", \"nCols\": 359, \"time\": 16.399874}, {\"condition\": \"o1o2o3\", \"nCols\": 426, \"time\": 17.049307}, {\"condition\": \"o1o2o3\", \"nCols\": 505, \"time\": 20.662968}, {\"condition\": \"o1o2o3\", \"nCols\": 600, \"time\": 25.899002}]}}, {\"mode\": \"vega-lite\"});\n",
       "</script>"
      ],
      "text/plain": [
       "alt.Chart(...)"
      ]
     },
     "execution_count": 12,
     "metadata": {},
     "output_type": "execute_result"
    }
   ],
   "source": [
    "overall = trial.groupby([\"condition\",\"nCols\"]).sum().reset_index()\n",
    "overall = overall[overall[\"time\"]!=0]\n",
    "alt.Chart(overall).mark_bar().encode(\n",
    "    x = \"condition\",\n",
    "    y = alt.Y(\"time\",scale=alt.Scale(type='log'),title=\"log(total time)\"),\n",
    "    column=alt.Column(\"nCols\",type=\"ordinal\"),\n",
    "    color=\"condition\"\n",
    ")"
   ]
  },
  {
   "cell_type": "code",
   "execution_count": 45,
   "metadata": {},
   "outputs": [],
   "source": [
    "trial = trial.replace({\"o1\":\"wflow\",\"o1o2\":\"wflow+prune\",\"o1o2o3\":\"all\"})"
   ]
  },
  {
   "cell_type": "code",
   "execution_count": 46,
   "metadata": {},
   "outputs": [
    {
     "data": {
      "text/html": [
       "\n",
       "<div id=\"altair-viz-1d66d42b289540b38794eb04226dbe24\"></div>\n",
       "<script type=\"text/javascript\">\n",
       "  (function(spec, embedOpt){\n",
       "    let outputDiv = document.currentScript.previousElementSibling;\n",
       "    if (outputDiv.id !== \"altair-viz-1d66d42b289540b38794eb04226dbe24\") {\n",
       "      outputDiv = document.getElementById(\"altair-viz-1d66d42b289540b38794eb04226dbe24\");\n",
       "    }\n",
       "    const paths = {\n",
       "      \"vega\": \"https://cdn.jsdelivr.net/npm//vega@5?noext\",\n",
       "      \"vega-lib\": \"https://cdn.jsdelivr.net/npm//vega-lib?noext\",\n",
       "      \"vega-lite\": \"https://cdn.jsdelivr.net/npm//vega-lite@4.8.1?noext\",\n",
       "      \"vega-embed\": \"https://cdn.jsdelivr.net/npm//vega-embed@6?noext\",\n",
       "    };\n",
       "\n",
       "    function loadScript(lib) {\n",
       "      return new Promise(function(resolve, reject) {\n",
       "        var s = document.createElement('script');\n",
       "        s.src = paths[lib];\n",
       "        s.async = true;\n",
       "        s.onload = () => resolve(paths[lib]);\n",
       "        s.onerror = () => reject(`Error loading script: ${paths[lib]}`);\n",
       "        document.getElementsByTagName(\"head\")[0].appendChild(s);\n",
       "      });\n",
       "    }\n",
       "\n",
       "    function showError(err) {\n",
       "      outputDiv.innerHTML = `<div class=\"error\" style=\"color:red;\">${err}</div>`;\n",
       "      throw err;\n",
       "    }\n",
       "\n",
       "    function displayChart(vegaEmbed) {\n",
       "      vegaEmbed(outputDiv, spec, embedOpt)\n",
       "        .catch(err => showError(`Javascript Error: ${err.message}<br>This usually means there's a typo in your chart specification. See the javascript console for the full traceback.`));\n",
       "    }\n",
       "\n",
       "    if(typeof define === \"function\" && define.amd) {\n",
       "      requirejs.config({paths});\n",
       "      require([\"vega-embed\"], displayChart, err => showError(`Error loading script: ${err.message}`));\n",
       "    } else if (typeof vegaEmbed === \"function\") {\n",
       "      displayChart(vegaEmbed);\n",
       "    } else {\n",
       "      loadScript(\"vega\")\n",
       "        .then(() => loadScript(\"vega-lite\"))\n",
       "        .then(() => loadScript(\"vega-embed\"))\n",
       "        .catch(showError)\n",
       "        .then(() => displayChart(vegaEmbed));\n",
       "    }\n",
       "  })({\"config\": {\"view\": {\"continuousWidth\": 400, \"continuousHeight\": 300}}, \"data\": {\"name\": \"data-a5348d706192d14cfb70ac2ee7dcf01c\"}, \"mark\": \"line\", \"encoding\": {\"color\": {\"type\": \"nominal\", \"field\": \"condition\", \"legend\": {\"orient\": \"top-left\", \"padding\": -10}}, \"tooltip\": [{\"type\": \"quantitative\", \"field\": \"time\"}], \"x\": {\"type\": \"quantitative\", \"field\": \"nCols\", \"title\": \"Number of Columns\"}, \"y\": {\"type\": \"quantitative\", \"field\": \"time\", \"scale\": {\"domain\": [0.5, 3000], \"type\": \"log\"}, \"title\": \"log(single print df runtime) [s]\"}}, \"height\": 200, \"selection\": {\"selector006\": {\"type\": \"interval\", \"bind\": \"scales\", \"encodings\": [\"x\", \"y\"]}}, \"width\": 200, \"$schema\": \"https://vega.github.io/schema/vega-lite/v4.8.1.json\", \"datasets\": {\"data-a5348d706192d14cfb70ac2ee7dcf01c\": [{\"condition\": \"all\", \"nCols\": 10, \"time\": 0.514909}, {\"condition\": \"all\", \"nCols\": 11, \"time\": 0.6416}, {\"condition\": \"all\", \"nCols\": 14, \"time\": 0.723303}, {\"condition\": \"all\", \"nCols\": 16, \"time\": 0.911429}, {\"condition\": \"all\", \"nCols\": 19, \"time\": 0.955162}, {\"condition\": \"all\", \"nCols\": 23, \"time\": 1.05757}, {\"condition\": \"all\", \"nCols\": 27, \"time\": 1.228695}, {\"condition\": \"all\", \"nCols\": 33, \"time\": 1.447015}, {\"condition\": \"all\", \"nCols\": 39, \"time\": 1.766816}, {\"condition\": \"all\", \"nCols\": 46, \"time\": 2.042909}, {\"condition\": \"all\", \"nCols\": 55, \"time\": 2.370053}, {\"condition\": \"all\", \"nCols\": 65, \"time\": 2.720656}, {\"condition\": \"all\", \"nCols\": 77, \"time\": 3.187366}, {\"condition\": \"all\", \"nCols\": 91, \"time\": 3.621685}, {\"condition\": \"all\", \"nCols\": 108, \"time\": 4.666042}, {\"condition\": \"all\", \"nCols\": 129, \"time\": 5.513793}, {\"condition\": \"all\", \"nCols\": 153, \"time\": 6.318049}, {\"condition\": \"all\", \"nCols\": 181, \"time\": 6.766403}, {\"condition\": \"all\", \"nCols\": 215, \"time\": 8.26608}, {\"condition\": \"all\", \"nCols\": 255, \"time\": 9.756741}, {\"condition\": \"all\", \"nCols\": 303, \"time\": 12.432627}, {\"condition\": \"all\", \"nCols\": 359, \"time\": 16.399874}, {\"condition\": \"all\", \"nCols\": 426, \"time\": 17.049307}, {\"condition\": \"all\", \"nCols\": 505, \"time\": 20.662968}, {\"condition\": \"all\", \"nCols\": 600, \"time\": 25.899002}, {\"condition\": \"wflow\", \"nCols\": 10, \"time\": 2.548582}, {\"condition\": \"wflow\", \"nCols\": 11, \"time\": 2.139161}, {\"condition\": \"wflow\", \"nCols\": 14, \"time\": 3.223207}, {\"condition\": \"wflow\", \"nCols\": 16, \"time\": 3.359714}, {\"condition\": \"wflow\", \"nCols\": 19, \"time\": 4.443362}, {\"condition\": \"wflow\", \"nCols\": 23, \"time\": 5.917444}, {\"condition\": \"wflow\", \"nCols\": 27, \"time\": 6.091226}, {\"condition\": \"wflow\", \"nCols\": 33, \"time\": 8.442273}, {\"condition\": \"wflow\", \"nCols\": 39, \"time\": 9.8654}, {\"condition\": \"wflow\", \"nCols\": 46, \"time\": 13.011628}, {\"condition\": \"wflow\", \"nCols\": 55, \"time\": 16.730019}, {\"condition\": \"wflow\", \"nCols\": 65, \"time\": 22.779906}, {\"condition\": \"wflow\", \"nCols\": 77, \"time\": 30.664536}, {\"condition\": \"wflow\", \"nCols\": 91, \"time\": 42.216232}, {\"condition\": \"wflow\", \"nCols\": 108, \"time\": 58.032224}, {\"condition\": \"wflow\", \"nCols\": 129, \"time\": 83.376123}, {\"condition\": \"wflow\", \"nCols\": 153, \"time\": 113.905903}, {\"condition\": \"wflow\", \"nCols\": 181, \"time\": 149.826185}, {\"condition\": \"wflow\", \"nCols\": 215, \"time\": 209.255243}, {\"condition\": \"wflow\", \"nCols\": 255, \"time\": 307.24252}, {\"condition\": \"wflow\", \"nCols\": 303, \"time\": 467.102547}, {\"condition\": \"wflow\", \"nCols\": 359, \"time\": 717.095981}, {\"condition\": \"wflow\", \"nCols\": 426, \"time\": 1065.825402}, {\"condition\": \"wflow\", \"nCols\": 505, \"time\": 1503.93737}, {\"condition\": \"wflow\", \"nCols\": 600, \"time\": 2538.92778}, {\"condition\": \"wflow+prune\", \"nCols\": 10, \"time\": 2.705945}, {\"condition\": \"wflow+prune\", \"nCols\": 11, \"time\": 2.203107}, {\"condition\": \"wflow+prune\", \"nCols\": 14, \"time\": 3.216178}, {\"condition\": \"wflow+prune\", \"nCols\": 16, \"time\": 2.964548}, {\"condition\": \"wflow+prune\", \"nCols\": 19, \"time\": 3.911538}, {\"condition\": \"wflow+prune\", \"nCols\": 23, \"time\": 4.80108}, {\"condition\": \"wflow+prune\", \"nCols\": 27, \"time\": 4.682587}, {\"condition\": \"wflow+prune\", \"nCols\": 33, \"time\": 5.597494}, {\"condition\": \"wflow+prune\", \"nCols\": 39, \"time\": 5.148929}, {\"condition\": \"wflow+prune\", \"nCols\": 46, \"time\": 6.721944}, {\"condition\": \"wflow+prune\", \"nCols\": 55, \"time\": 6.853352}, {\"condition\": \"wflow+prune\", \"nCols\": 65, \"time\": 7.51461}, {\"condition\": \"wflow+prune\", \"nCols\": 77, \"time\": 8.285314}, {\"condition\": \"wflow+prune\", \"nCols\": 91, \"time\": 10.668474}, {\"condition\": \"wflow+prune\", \"nCols\": 108, \"time\": 13.672768}, {\"condition\": \"wflow+prune\", \"nCols\": 129, \"time\": 17.000182}, {\"condition\": \"wflow+prune\", \"nCols\": 153, \"time\": 23.722986}, {\"condition\": \"wflow+prune\", \"nCols\": 181, \"time\": 33.679293}, {\"condition\": \"wflow+prune\", \"nCols\": 215, \"time\": 49.777787}, {\"condition\": \"wflow+prune\", \"nCols\": 255, \"time\": 80.977443}, {\"condition\": \"wflow+prune\", \"nCols\": 303, \"time\": 125.817151}, {\"condition\": \"wflow+prune\", \"nCols\": 359, \"time\": 233.080471}, {\"condition\": \"wflow+prune\", \"nCols\": 426, \"time\": 431.12771}, {\"condition\": \"wflow+prune\", \"nCols\": 505, \"time\": 789.176693}, {\"condition\": \"wflow+prune\", \"nCols\": 600, \"time\": 1536.406177}]}}, {\"mode\": \"vega-lite\"});\n",
       "</script>"
      ],
      "text/plain": [
       "alt.Chart(...)"
      ]
     },
     "execution_count": 46,
     "metadata": {},
     "output_type": "execute_result"
    }
   ],
   "source": [
    "overall = trial.groupby([\"condition\",\"nCols\"]).sum().reset_index()\n",
    "overall = overall[overall[\"time\"]!=0]\n",
    "chart = alt.Chart(overall).mark_line().encode(\n",
    "    x=alt.Column(\"nCols\",type=\"quantitative\",title=\"Number of Columns\"),\n",
    "    y = alt.Y(\"time\",scale=alt.Scale(type='log',domain=(0.5,3000)),title=\"log(single print df runtime) [s]\"),\n",
    "    color=alt.X(\"condition\",legend=alt.Legend(orient=\"top-left\",padding=-10)),\n",
    "    tooltip=[\"time\"]\n",
    ")\n",
    "chart.properties(width=200,height=200).interactive()"
   ]
  },
  {
   "cell_type": "code",
   "execution_count": 22,
   "metadata": {},
   "outputs": [],
   "source": [
    "# trial.to_csv(\"effect_of_columns.csv\",index=None)"
   ]
  },
  {
   "cell_type": "code",
   "execution_count": 47,
   "metadata": {},
   "outputs": [],
   "source": [
    "exp = df[df[\"condition\"]==\"all\"]\n",
    "exp = exp.dropna()"
   ]
  },
  {
   "cell_type": "code",
   "execution_count": 48,
   "metadata": {},
   "outputs": [],
   "source": [
    "y = exp[\"time\"]\n",
    "X = np.array(exp[\"nCols\"])"
   ]
  },
  {
   "cell_type": "code",
   "execution_count": 49,
   "metadata": {},
   "outputs": [
    {
     "data": {
      "text/plain": [
       "array([0.37261278, 0.02530412, 1.07885586])"
      ]
     },
     "execution_count": 49,
     "metadata": {},
     "output_type": "execute_result"
    }
   ],
   "source": [
    "from scipy.optimize import curve_fit\n",
    "def func(x, a,b,c):\n",
    "    return a +b *x**c\n",
    "\n",
    "popt, pcov = curve_fit(func, X,y)\n",
    "popt"
   ]
  },
  {
   "cell_type": "code",
   "execution_count": 50,
   "metadata": {},
   "outputs": [
    {
     "name": "stdout",
     "output_type": "stream",
     "text": [
      "error: 0.23638439796420985\n"
     ]
    }
   ],
   "source": [
    "y_pred = func(X,*popt)\n",
    "perr = np.sqrt(np.diag(pcov))\n",
    "print (\"error:\", sum(perr))"
   ]
  },
  {
   "cell_type": "code",
   "execution_count": 51,
   "metadata": {},
   "outputs": [],
   "source": [
    "from matplotlib.pylab import plt"
   ]
  },
  {
   "cell_type": "code",
   "execution_count": 52,
   "metadata": {},
   "outputs": [
    {
     "data": {
      "text/plain": [
       "[<matplotlib.lines.Line2D at 0x123189df0>]"
      ]
     },
     "execution_count": 52,
     "metadata": {},
     "output_type": "execute_result"
    },
    {
     "data": {
      "image/png": "[encoded data removed]",
      "text/plain": [
       "<Figure size 432x288 with 1 Axes>"
      ]
     },
     "metadata": {
      "needs_background": "light"
     },
     "output_type": "display_data"
    }
   ],
   "source": [
    "plt.plot(exp[\"nCols\"],exp[\"time\"],'o')\n",
    "plt.plot(exp[\"nCols\"],y_pred,'.')"
   ]
  },
  {
   "cell_type": "code",
   "execution_count": 33,
   "metadata": {},
   "outputs": [],
   "source": [
    "exp = df[df[\"condition\"]==\"wflow\"]"
   ]
  },
  {
   "cell_type": "code",
   "execution_count": 34,
   "metadata": {},
   "outputs": [],
   "source": [
    "y = exp[\"time\"]\n",
    "X = np.array(exp[\"nCols\"])"
   ]
  },
  {
   "cell_type": "code",
   "execution_count": 36,
   "metadata": {},
   "outputs": [
    {
     "data": {
      "text/plain": [
       "array([1.42160957e+01, 2.28273372e-04, 2.53222834e+00])"
      ]
     },
     "execution_count": 36,
     "metadata": {},
     "output_type": "execute_result"
    }
   ],
   "source": [
    "from scipy.optimize import curve_fit\n",
    "def func(x, a,b,c):\n",
    "    return a +b *x**c\n",
    "\n",
    "popt, pcov = curve_fit(func, X,y)\n",
    "popt"
   ]
  },
  {
   "cell_type": "code",
   "execution_count": 37,
   "metadata": {},
   "outputs": [
    {
     "name": "stdout",
     "output_type": "stream",
     "text": [
      "error: 7.318707799499036\n"
     ]
    }
   ],
   "source": [
    "y_pred = func(X,*popt)\n",
    "perr = np.sqrt(np.diag(pcov))\n",
    "print (\"error:\", sum(perr))"
   ]
  },
  {
   "cell_type": "code",
   "execution_count": 38,
   "metadata": {},
   "outputs": [
    {
     "data": {
      "text/plain": [
       "[<matplotlib.lines.Line2D at 0x1230aa550>]"
      ]
     },
     "execution_count": 38,
     "metadata": {},
     "output_type": "execute_result"
    },
    {
     "data": {
      "image/png": "[encoded data removed]",
      "text/plain": [
       "<Figure size 432x288 with 1 Axes>"
      ]
     },
     "metadata": {
      "needs_background": "light"
     },
     "output_type": "display_data"
    }
   ],
   "source": [
    "plt.plot(exp[\"nCols\"],exp[\"time\"],'o')\n",
    "plt.plot(exp[\"nCols\"],y_pred,'.')"
   ]
  },
  {
   "cell_type": "code",
   "execution_count": 53,
   "metadata": {},
   "outputs": [],
   "source": [
    "exp = df[df[\"condition\"]==\"wflow+prune\"]\n",
    "# exp = exp.dropna()\n",
    "# exp = exp[exp[\"nCols\"]>15]\n",
    "y = exp[\"time\"]\n",
    "X = np.array(exp[\"nCols\"])"
   ]
  },
  {
   "cell_type": "code",
   "execution_count": 54,
   "metadata": {},
   "outputs": [
    {
     "data": {
      "text/plain": [
       "array([8.15399075e+00, 5.52659076e-08, 3.75791516e+00])"
      ]
     },
     "execution_count": 54,
     "metadata": {},
     "output_type": "execute_result"
    }
   ],
   "source": [
    "from scipy.optimize import curve_fit\n",
    "def func(x, a,b,c):\n",
    "    return a +b *x**c\n",
    "\n",
    "popt, pcov = curve_fit(func, X,y)\n",
    "popt"
   ]
  },
  {
   "cell_type": "code",
   "execution_count": 55,
   "metadata": {},
   "outputs": [
    {
     "name": "stdout",
     "output_type": "stream",
     "text": [
      "error: 1.4748862407580348\n"
     ]
    }
   ],
   "source": [
    "y_pred = func(X,*popt)\n",
    "perr = np.sqrt(np.diag(pcov))\n",
    "print (\"error:\", sum(perr))"
   ]
  },
  {
   "cell_type": "code",
   "execution_count": 56,
   "metadata": {},
   "outputs": [
    {
     "data": {
      "text/plain": [
       "[<matplotlib.lines.Line2D at 0x123271dc0>]"
      ]
     },
     "execution_count": 56,
     "metadata": {},
     "output_type": "execute_result"
    },
    {
     "data": {
      "image/png": "[encoded data removed]",
      "text/plain": [
       "<Figure size 432x288 with 1 Axes>"
      ]
     },
     "metadata": {
      "needs_background": "light"
     },
     "output_type": "display_data"
    }
   ],
   "source": [
    "plt.plot(exp[\"nCols\"],exp[\"time\"],'o')\n",
    "plt.plot(exp[\"nCols\"],y_pred,'.')"
   ]
  },
  {
   "cell_type": "code",
   "execution_count": null,
   "metadata": {},
   "outputs": [],
   "source": []
  }
 ],
 "metadata": {
  "kernelspec": {
   "display_name": "Python 3",
   "language": "python",
   "name": "python3"
  },
  "language_info": {
   "codemirror_mode": {
    "name": "ipython",
    "version": 3
   },
   "file_extension": ".py",
   "mimetype": "text/x-python",
   "name": "python",
   "nbconvert_exporter": "python",
   "pygments_lexer": "ipython3",
   "version": "3.9.2"
  }
 },
 "nbformat": 4,
 "nbformat_minor": 4
}
