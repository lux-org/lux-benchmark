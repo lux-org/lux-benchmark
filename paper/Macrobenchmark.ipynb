{
 "cells": [
  {
   "cell_type": "code",
   "execution_count": 1,
   "metadata": {},
   "outputs": [
    {
     "name": "stdout",
     "output_type": "stream",
     "text": [
      "/Users/dorislee/Desktop/Research/lux/lux-benchmark/backend/macrobenchmark\n"
     ]
    }
   ],
   "source": [
    "cd ../backend/macrobenchmark/"
   ]
  },
  {
   "cell_type": "code",
   "execution_count": 2,
   "metadata": {},
   "outputs": [
    {
     "name": "stdout",
     "output_type": "stream",
     "text": [
      "python             17\n",
      "print_dataframe    14\n",
      "print_series        7\n",
      "dtype: int64\n"
     ]
    }
   ],
   "source": [
    "import glob\n",
    "import time\n",
    "import papermill as pm\n",
    "import pandas as pd\n",
    "import numpy as np\n",
    "import json\n",
    "count = []\n",
    "with open(\"airbnb/airbnb.ipynb\") as json_file:\n",
    "    data = json.load(json_file)\n",
    "    for cell in data['cells']:\n",
    "        label = cell[\"source\"][0]\n",
    "        cell_type = None\n",
    "        if \"# {{NO LUX}}\" in label:\n",
    "            cell_type = \"python\"\n",
    "        elif \"# {{PRINT SERIES}}\" in label:\n",
    "            cell_type = \"print_series\"\n",
    "        elif \"# {{PRINT DF}}\" in label:\n",
    "            cell_type = \"print_dataframe\"\n",
    "        count.append(cell_type)\n",
    "count = pd.Series(count)\n",
    "print(count.value_counts())"
   ]
  },
  {
   "cell_type": "code",
   "execution_count": 3,
   "metadata": {},
   "outputs": [],
   "source": [
    "trial = []\n",
    "\n",
    "for nb_name in glob.glob(\"airbnb/airbnb_*_output.ipynb\"):\n",
    "# for nb_name in glob.glob(\"airbnb/airbnb_*_*_output.ipynb\"):\n",
    "    snb = nb_name.split(\"_\")\n",
    "    if len(snb)==4:\n",
    "        _, condition, nPts, _ = nb_name.split(\"_\")\n",
    "    elif len(snb)==3:\n",
    "        condition = \"pandas\"\n",
    "        _,  nPts, _ = nb_name.split(\"_\")\n",
    "    with open(nb_name) as json_file:\n",
    "        data = json.load(json_file)\n",
    "        for cell in data['cells']:\n",
    "            label = cell[\"source\"][0]\n",
    "            cell_type = None\n",
    "            if \"# {{NO LUX}}\" in label:\n",
    "                cell_type = \"python\"\n",
    "            elif \"# {{PRINT SERIES}}\" in label:\n",
    "                cell_type = \"print_series\"\n",
    "            elif \"# {{PRINT DF}}\" in label:\n",
    "                cell_type = \"print_dataframe\"\n",
    "            duration = cell[\"metadata\"][\"papermill\"][\"duration\"]\n",
    "            trial.append([condition, nPts,cell_type, duration])\n",
    "#             from datetime import datetime\n",
    "#             if (\"execution\" in cell[\"metadata\"]):\n",
    "#                 starttime = datetime.strptime(cell[\"metadata\"][\"execution\"][\"iopub.execute_input\"],\"%Y-%m-%dT%H:%M:%S.%fZ\")\n",
    "#                 endtime = datetime.strptime(cell[\"metadata\"][\"execution\"][\"shell.execute_reply\"],\"%Y-%m-%dT%H:%M:%S.%fZ\")\n",
    "#                 duration = (endtime-starttime).total_seconds()\n",
    "#     #             print(nb_name, cell_type, duration)\n",
    "#                 trial.append([condition, nPts,cell_type, duration])\n",
    "# #             else:\n",
    "#                 print (\"skip:\",cell)"
   ]
  },
  {
   "cell_type": "code",
   "execution_count": 4,
   "metadata": {},
   "outputs": [],
   "source": [
    "trial = pd.DataFrame(trial,columns=[\"condition\",\"nPts\",\"cell_type\",\"time\"])"
   ]
  },
  {
   "cell_type": "code",
   "execution_count": 5,
   "metadata": {},
   "outputs": [],
   "source": [
    "trial=trial[trial[\"time\"]!=0]"
   ]
  },
  {
   "cell_type": "code",
   "execution_count": 6,
   "metadata": {},
   "outputs": [],
   "source": [
    "trial.to_csv(\"../../paper/airbnb_macrobenchmark.csv\",index=None)"
   ]
  },
  {
   "cell_type": "code",
   "execution_count": 7,
   "metadata": {},
   "outputs": [],
   "source": [
    "# trial.groupby(\"cell_type\").count()"
   ]
  },
  {
   "cell_type": "markdown",
   "metadata": {},
   "source": [
    "--------------"
   ]
  },
  {
   "cell_type": "code",
   "execution_count": 8,
   "metadata": {},
   "outputs": [],
   "source": [
    "import pandas as pd\n",
    "import altair as alt"
   ]
  },
  {
   "cell_type": "code",
   "execution_count": 9,
   "metadata": {},
   "outputs": [],
   "source": [
    "overall = trial.groupby(\"condition\").sum().reset_index()"
   ]
  },
  {
   "cell_type": "code",
   "execution_count": 10,
   "metadata": {},
   "outputs": [
    {
     "data": {
      "text/html": [
       "\n",
       "<div id=\"altair-viz-bfa9cf52a78a446181d40b7e73a56962\"></div>\n",
       "<script type=\"text/javascript\">\n",
       "  (function(spec, embedOpt){\n",
       "    let outputDiv = document.currentScript.previousElementSibling;\n",
       "    if (outputDiv.id !== \"altair-viz-bfa9cf52a78a446181d40b7e73a56962\") {\n",
       "      outputDiv = document.getElementById(\"altair-viz-bfa9cf52a78a446181d40b7e73a56962\");\n",
       "    }\n",
       "    const paths = {\n",
       "      \"vega\": \"https://cdn.jsdelivr.net/npm//vega@5?noext\",\n",
       "      \"vega-lib\": \"https://cdn.jsdelivr.net/npm//vega-lib?noext\",\n",
       "      \"vega-lite\": \"https://cdn.jsdelivr.net/npm//vega-lite@4.8.1?noext\",\n",
       "      \"vega-embed\": \"https://cdn.jsdelivr.net/npm//vega-embed@6?noext\",\n",
       "    };\n",
       "\n",
       "    function loadScript(lib) {\n",
       "      return new Promise(function(resolve, reject) {\n",
       "        var s = document.createElement('script');\n",
       "        s.src = paths[lib];\n",
       "        s.async = true;\n",
       "        s.onload = () => resolve(paths[lib]);\n",
       "        s.onerror = () => reject(`Error loading script: ${paths[lib]}`);\n",
       "        document.getElementsByTagName(\"head\")[0].appendChild(s);\n",
       "      });\n",
       "    }\n",
       "\n",
       "    function showError(err) {\n",
       "      outputDiv.innerHTML = `<div class=\"error\" style=\"color:red;\">${err}</div>`;\n",
       "      throw err;\n",
       "    }\n",
       "\n",
       "    function displayChart(vegaEmbed) {\n",
       "      vegaEmbed(outputDiv, spec, embedOpt)\n",
       "        .catch(err => showError(`Javascript Error: ${err.message}<br>This usually means there's a typo in your chart specification. See the javascript console for the full traceback.`));\n",
       "    }\n",
       "\n",
       "    if(typeof define === \"function\" && define.amd) {\n",
       "      requirejs.config({paths});\n",
       "      require([\"vega-embed\"], displayChart, err => showError(`Error loading script: ${err.message}`));\n",
       "    } else if (typeof vegaEmbed === \"function\") {\n",
       "      displayChart(vegaEmbed);\n",
       "    } else {\n",
       "      loadScript(\"vega\")\n",
       "        .then(() => loadScript(\"vega-lite\"))\n",
       "        .then(() => loadScript(\"vega-embed\"))\n",
       "        .catch(showError)\n",
       "        .then(() => displayChart(vegaEmbed));\n",
       "    }\n",
       "  })({\"config\": {\"view\": {\"continuousWidth\": 400, \"continuousHeight\": 300}}, \"data\": {\"name\": \"data-60386811e46a2b773ecd499f07ad5b01\"}, \"mark\": \"bar\", \"encoding\": {\"x\": {\"type\": \"nominal\", \"field\": \"condition\"}, \"y\": {\"type\": \"quantitative\", \"field\": \"time\", \"scale\": {\"type\": \"log\"}, \"title\": \"log(total time)\"}}, \"$schema\": \"https://vega.github.io/schema/vega-lite/v4.8.1.json\", \"datasets\": {\"data-60386811e46a2b773ecd499f07ad5b01\": [{\"condition\": \"baseline\", \"time\": 8651.52252700001}, {\"condition\": \"o1\", \"time\": 1178.1183670000003}, {\"condition\": \"o1o2\", \"time\": 596.8546290000002}, {\"condition\": \"o1o2o3\", \"time\": 499.94009599999976}, {\"condition\": \"pandas\", \"time\": 172.36100800000003}]}}, {\"mode\": \"vega-lite\"});\n",
       "</script>"
      ],
      "text/plain": [
       "alt.Chart(...)"
      ]
     },
     "execution_count": 10,
     "metadata": {},
     "output_type": "execute_result"
    }
   ],
   "source": [
    "alt.Chart(overall).mark_bar().encode(\n",
    "    x = \"condition\",\n",
    "    y = alt.Y(\"time\",scale=alt.Scale(type='log'),title=\"log(total time)\"),\n",
    ")"
   ]
  },
  {
   "cell_type": "code",
   "execution_count": 11,
   "metadata": {},
   "outputs": [],
   "source": [
    "overall = trial.groupby([\"condition\",\"nPts\"]).sum().reset_index()"
   ]
  },
  {
   "cell_type": "code",
   "execution_count": 12,
   "metadata": {},
   "outputs": [],
   "source": [
    "overall=overall[overall[\"time\"]!=0]"
   ]
  },
  {
   "cell_type": "code",
   "execution_count": 13,
   "metadata": {},
   "outputs": [
    {
     "data": {
      "text/html": [
       "\n",
       "<div id=\"altair-viz-7643fc5ef52d4582b28cce6fc32b8c30\"></div>\n",
       "<script type=\"text/javascript\">\n",
       "  (function(spec, embedOpt){\n",
       "    let outputDiv = document.currentScript.previousElementSibling;\n",
       "    if (outputDiv.id !== \"altair-viz-7643fc5ef52d4582b28cce6fc32b8c30\") {\n",
       "      outputDiv = document.getElementById(\"altair-viz-7643fc5ef52d4582b28cce6fc32b8c30\");\n",
       "    }\n",
       "    const paths = {\n",
       "      \"vega\": \"https://cdn.jsdelivr.net/npm//vega@5?noext\",\n",
       "      \"vega-lib\": \"https://cdn.jsdelivr.net/npm//vega-lib?noext\",\n",
       "      \"vega-lite\": \"https://cdn.jsdelivr.net/npm//vega-lite@4.8.1?noext\",\n",
       "      \"vega-embed\": \"https://cdn.jsdelivr.net/npm//vega-embed@6?noext\",\n",
       "    };\n",
       "\n",
       "    function loadScript(lib) {\n",
       "      return new Promise(function(resolve, reject) {\n",
       "        var s = document.createElement('script');\n",
       "        s.src = paths[lib];\n",
       "        s.async = true;\n",
       "        s.onload = () => resolve(paths[lib]);\n",
       "        s.onerror = () => reject(`Error loading script: ${paths[lib]}`);\n",
       "        document.getElementsByTagName(\"head\")[0].appendChild(s);\n",
       "      });\n",
       "    }\n",
       "\n",
       "    function showError(err) {\n",
       "      outputDiv.innerHTML = `<div class=\"error\" style=\"color:red;\">${err}</div>`;\n",
       "      throw err;\n",
       "    }\n",
       "\n",
       "    function displayChart(vegaEmbed) {\n",
       "      vegaEmbed(outputDiv, spec, embedOpt)\n",
       "        .catch(err => showError(`Javascript Error: ${err.message}<br>This usually means there's a typo in your chart specification. See the javascript console for the full traceback.`));\n",
       "    }\n",
       "\n",
       "    if(typeof define === \"function\" && define.amd) {\n",
       "      requirejs.config({paths});\n",
       "      require([\"vega-embed\"], displayChart, err => showError(`Error loading script: ${err.message}`));\n",
       "    } else if (typeof vegaEmbed === \"function\") {\n",
       "      displayChart(vegaEmbed);\n",
       "    } else {\n",
       "      loadScript(\"vega\")\n",
       "        .then(() => loadScript(\"vega-lite\"))\n",
       "        .then(() => loadScript(\"vega-embed\"))\n",
       "        .catch(showError)\n",
       "        .then(() => displayChart(vegaEmbed));\n",
       "    }\n",
       "  })({\"config\": {\"view\": {\"continuousWidth\": 400, \"continuousHeight\": 300}, \"title\": {\"anchor\": \"middle\", \"fontSize\": 16, \"offset\": 5, \"orient\": \"top\"}}, \"data\": {\"name\": \"data-e5b0401948aa40d06ce9ea97cab8a093\"}, \"mark\": \"bar\", \"encoding\": {\"color\": {\"type\": \"nominal\", \"field\": \"condition\"}, \"column\": {\"type\": \"nominal\", \"field\": \"nPts\"}, \"tooltip\": [{\"type\": \"quantitative\", \"field\": \"time\"}], \"x\": {\"type\": \"nominal\", \"field\": \"condition\"}, \"y\": {\"type\": \"quantitative\", \"field\": \"time\", \"scale\": {\"type\": \"log\"}, \"title\": \"log(total time)\"}}, \"title\": \"Overall\", \"$schema\": \"https://vega.github.io/schema/vega-lite/v4.8.1.json\", \"datasets\": {\"data-e5b0401948aa40d06ce9ea97cab8a093\": [{\"condition\": \"baseline\", \"nPts\": \"10000\", \"time\": 113.39623900000001}, {\"condition\": \"baseline\", \"nPts\": \"100000\", \"time\": 215.325051}, {\"condition\": \"baseline\", \"nPts\": \"1000000\", \"time\": 869.526752}, {\"condition\": \"baseline\", \"nPts\": \"10000000\", \"time\": 7453.274485}, {\"condition\": \"o1\", \"nPts\": \"10000\", \"time\": 49.63202899999999}, {\"condition\": \"o1\", \"nPts\": \"100000\", \"time\": 69.048892}, {\"condition\": \"o1\", \"nPts\": \"1000000\", \"time\": 167.22527199999996}, {\"condition\": \"o1\", \"nPts\": \"10000000\", \"time\": 892.2121740000002}, {\"condition\": \"o1o2\", \"nPts\": \"10000\", \"time\": 37.154979}, {\"condition\": \"o1o2\", \"nPts\": \"100000\", \"time\": 47.350559999999994}, {\"condition\": \"o1o2\", \"nPts\": \"1000000\", \"time\": 84.71119400000002}, {\"condition\": \"o1o2\", \"nPts\": \"10000000\", \"time\": 427.6378960000002}, {\"condition\": \"o1o2o3\", \"nPts\": \"10000\", \"time\": 27.67938099999999}, {\"condition\": \"o1o2o3\", \"nPts\": \"100000\", \"time\": 34.147537}, {\"condition\": \"o1o2o3\", \"nPts\": \"1000000\", \"time\": 60.75109800000001}, {\"condition\": \"o1o2o3\", \"nPts\": \"10000000\", \"time\": 377.3620799999998}, {\"condition\": \"pandas\", \"nPts\": \"10000\", \"time\": 29.55361800000001}, {\"condition\": \"pandas\", \"nPts\": \"100000\", \"time\": 29.751648000000014}, {\"condition\": \"pandas\", \"nPts\": \"1000000\", \"time\": 33.211530999999994}, {\"condition\": \"pandas\", \"nPts\": \"10000000\", \"time\": 79.84421099999997}]}}, {\"mode\": \"vega-lite\"});\n",
       "</script>"
      ],
      "text/plain": [
       "alt.Chart(...)"
      ]
     },
     "execution_count": 13,
     "metadata": {},
     "output_type": "execute_result"
    }
   ],
   "source": [
    "chart = alt.Chart(overall,title = \"Overall\").mark_bar().encode(\n",
    "    x = \"condition\",\n",
    "    y = alt.Y(\"time\",scale=alt.Scale(type='log'),title=\"log(total time)\"),\n",
    "    column=\"nPts\",\n",
    "    color=\"condition\",\n",
    "    tooltip=[\"time\"]\n",
    ")\n",
    "chart = chart.configure_title(fontSize=16, offset=5, orient='top', anchor='middle')\n",
    "chart"
   ]
  },
  {
   "cell_type": "code",
   "execution_count": 14,
   "metadata": {},
   "outputs": [
    {
     "data": {
      "text/html": [
       "\n",
       "<div id=\"altair-viz-cc3f5ebfa7824d93a266f8a5a4c96476\"></div>\n",
       "<script type=\"text/javascript\">\n",
       "  (function(spec, embedOpt){\n",
       "    let outputDiv = document.currentScript.previousElementSibling;\n",
       "    if (outputDiv.id !== \"altair-viz-cc3f5ebfa7824d93a266f8a5a4c96476\") {\n",
       "      outputDiv = document.getElementById(\"altair-viz-cc3f5ebfa7824d93a266f8a5a4c96476\");\n",
       "    }\n",
       "    const paths = {\n",
       "      \"vega\": \"https://cdn.jsdelivr.net/npm//vega@5?noext\",\n",
       "      \"vega-lib\": \"https://cdn.jsdelivr.net/npm//vega-lib?noext\",\n",
       "      \"vega-lite\": \"https://cdn.jsdelivr.net/npm//vega-lite@4.8.1?noext\",\n",
       "      \"vega-embed\": \"https://cdn.jsdelivr.net/npm//vega-embed@6?noext\",\n",
       "    };\n",
       "\n",
       "    function loadScript(lib) {\n",
       "      return new Promise(function(resolve, reject) {\n",
       "        var s = document.createElement('script');\n",
       "        s.src = paths[lib];\n",
       "        s.async = true;\n",
       "        s.onload = () => resolve(paths[lib]);\n",
       "        s.onerror = () => reject(`Error loading script: ${paths[lib]}`);\n",
       "        document.getElementsByTagName(\"head\")[0].appendChild(s);\n",
       "      });\n",
       "    }\n",
       "\n",
       "    function showError(err) {\n",
       "      outputDiv.innerHTML = `<div class=\"error\" style=\"color:red;\">${err}</div>`;\n",
       "      throw err;\n",
       "    }\n",
       "\n",
       "    function displayChart(vegaEmbed) {\n",
       "      vegaEmbed(outputDiv, spec, embedOpt)\n",
       "        .catch(err => showError(`Javascript Error: ${err.message}<br>This usually means there's a typo in your chart specification. See the javascript console for the full traceback.`));\n",
       "    }\n",
       "\n",
       "    if(typeof define === \"function\" && define.amd) {\n",
       "      requirejs.config({paths});\n",
       "      require([\"vega-embed\"], displayChart, err => showError(`Error loading script: ${err.message}`));\n",
       "    } else if (typeof vegaEmbed === \"function\") {\n",
       "      displayChart(vegaEmbed);\n",
       "    } else {\n",
       "      loadScript(\"vega\")\n",
       "        .then(() => loadScript(\"vega-lite\"))\n",
       "        .then(() => loadScript(\"vega-embed\"))\n",
       "        .catch(showError)\n",
       "        .then(() => displayChart(vegaEmbed));\n",
       "    }\n",
       "  })({\"config\": {\"view\": {\"continuousWidth\": 400, \"continuousHeight\": 300}, \"title\": {\"anchor\": \"middle\", \"fontSize\": 16, \"offset\": 5, \"orient\": \"top\"}}, \"data\": {\"name\": \"data-f39fb56aecfb8bde3bc3afec0aae29a9\"}, \"mark\": \"bar\", \"encoding\": {\"color\": {\"type\": \"nominal\", \"field\": \"condition\"}, \"column\": {\"type\": \"nominal\", \"field\": \"nPts\"}, \"x\": {\"type\": \"nominal\", \"field\": \"condition\"}, \"y\": {\"type\": \"quantitative\", \"field\": \"time\", \"scale\": {\"type\": \"log\"}, \"title\": \"log(total time)\"}}, \"title\": \"Non-Lux Python Operations\", \"$schema\": \"https://vega.github.io/schema/vega-lite/v4.8.1.json\", \"datasets\": {\"data-f39fb56aecfb8bde3bc3afec0aae29a9\": [{\"condition\": \"baseline\", \"nPts\": \"10000\", \"cell_type\": \"python\", \"time\": 4.837800647058824}, {\"condition\": \"baseline\", \"nPts\": \"100000\", \"cell_type\": \"python\", \"time\": 8.761272235294118}, {\"condition\": \"baseline\", \"nPts\": \"1000000\", \"cell_type\": \"python\", \"time\": 34.633733294117654}, {\"condition\": \"baseline\", \"nPts\": \"10000000\", \"cell_type\": \"python\", \"time\": 293.2197144117647}, {\"condition\": \"o1\", \"nPts\": \"10000\", \"cell_type\": \"python\", \"time\": 1.628335}, {\"condition\": \"o1\", \"nPts\": \"100000\", \"cell_type\": \"python\", \"time\": 1.5920723529411769}, {\"condition\": \"o1\", \"nPts\": \"1000000\", \"cell_type\": \"python\", \"time\": 1.8205540588235298}, {\"condition\": \"o1\", \"nPts\": \"10000000\", \"cell_type\": \"python\", \"time\": 2.690156941176472}, {\"condition\": \"o1o2\", \"nPts\": \"10000\", \"cell_type\": \"python\", \"time\": 1.4469332352941175}, {\"condition\": \"o1o2\", \"nPts\": \"100000\", \"cell_type\": \"python\", \"time\": 1.5973997058823532}, {\"condition\": \"o1o2\", \"nPts\": \"1000000\", \"cell_type\": \"python\", \"time\": 1.68703194117647}, {\"condition\": \"o1o2\", \"nPts\": \"10000000\", \"cell_type\": \"python\", \"time\": 2.7412542352941176}, {\"condition\": \"o1o2o3\", \"nPts\": \"10000\", \"cell_type\": \"python\", \"time\": 1.4122668823529407}, {\"condition\": \"o1o2o3\", \"nPts\": \"100000\", \"cell_type\": \"python\", \"time\": 1.5609058235294118}, {\"condition\": \"o1o2o3\", \"nPts\": \"1000000\", \"cell_type\": \"python\", \"time\": 1.6351510588235296}, {\"condition\": \"o1o2o3\", \"nPts\": \"10000000\", \"cell_type\": \"python\", \"time\": 2.7438887058823536}, {\"condition\": \"pandas\", \"nPts\": \"10000\", \"cell_type\": \"python\", \"time\": 1.6731158823529417}, {\"condition\": \"pandas\", \"nPts\": \"100000\", \"cell_type\": \"python\", \"time\": 1.6752127058823536}, {\"condition\": \"pandas\", \"nPts\": \"1000000\", \"cell_type\": \"python\", \"time\": 1.717952882352941}, {\"condition\": \"pandas\", \"nPts\": \"10000000\", \"cell_type\": \"python\", \"time\": 2.965725352941176}]}}, {\"mode\": \"vega-lite\"});\n",
       "</script>"
      ],
      "text/plain": [
       "alt.Chart(...)"
      ]
     },
     "execution_count": 14,
     "metadata": {},
     "output_type": "execute_result"
    }
   ],
   "source": [
    "overall = trial.groupby([\"condition\",\"nPts\",\"cell_type\"]).mean().reset_index()\n",
    "pdf = overall[overall[\"cell_type\"] ==\"python\"]\n",
    "chart = alt.Chart(pdf,title = \"Non-Lux Python Operations\").mark_bar().encode(\n",
    "    x = \"condition\",\n",
    "    y = alt.Y(\"time\",scale=alt.Scale(type='log'),title=\"log(total time)\"),\n",
    "    column=\"nPts\",\n",
    "    color=\"condition\"\n",
    ")\n",
    "chart = chart.configure_title(fontSize=16, offset=5, orient='top', anchor='middle')\n",
    "chart"
   ]
  },
  {
   "cell_type": "code",
   "execution_count": 15,
   "metadata": {},
   "outputs": [
    {
     "data": {
      "text/html": [
       "\n",
       "<div id=\"altair-viz-434d1be8f30846de86fc4be641f0bc80\"></div>\n",
       "<script type=\"text/javascript\">\n",
       "  (function(spec, embedOpt){\n",
       "    let outputDiv = document.currentScript.previousElementSibling;\n",
       "    if (outputDiv.id !== \"altair-viz-434d1be8f30846de86fc4be641f0bc80\") {\n",
       "      outputDiv = document.getElementById(\"altair-viz-434d1be8f30846de86fc4be641f0bc80\");\n",
       "    }\n",
       "    const paths = {\n",
       "      \"vega\": \"https://cdn.jsdelivr.net/npm//vega@5?noext\",\n",
       "      \"vega-lib\": \"https://cdn.jsdelivr.net/npm//vega-lib?noext\",\n",
       "      \"vega-lite\": \"https://cdn.jsdelivr.net/npm//vega-lite@4.8.1?noext\",\n",
       "      \"vega-embed\": \"https://cdn.jsdelivr.net/npm//vega-embed@6?noext\",\n",
       "    };\n",
       "\n",
       "    function loadScript(lib) {\n",
       "      return new Promise(function(resolve, reject) {\n",
       "        var s = document.createElement('script');\n",
       "        s.src = paths[lib];\n",
       "        s.async = true;\n",
       "        s.onload = () => resolve(paths[lib]);\n",
       "        s.onerror = () => reject(`Error loading script: ${paths[lib]}`);\n",
       "        document.getElementsByTagName(\"head\")[0].appendChild(s);\n",
       "      });\n",
       "    }\n",
       "\n",
       "    function showError(err) {\n",
       "      outputDiv.innerHTML = `<div class=\"error\" style=\"color:red;\">${err}</div>`;\n",
       "      throw err;\n",
       "    }\n",
       "\n",
       "    function displayChart(vegaEmbed) {\n",
       "      vegaEmbed(outputDiv, spec, embedOpt)\n",
       "        .catch(err => showError(`Javascript Error: ${err.message}<br>This usually means there's a typo in your chart specification. See the javascript console for the full traceback.`));\n",
       "    }\n",
       "\n",
       "    if(typeof define === \"function\" && define.amd) {\n",
       "      requirejs.config({paths});\n",
       "      require([\"vega-embed\"], displayChart, err => showError(`Error loading script: ${err.message}`));\n",
       "    } else if (typeof vegaEmbed === \"function\") {\n",
       "      displayChart(vegaEmbed);\n",
       "    } else {\n",
       "      loadScript(\"vega\")\n",
       "        .then(() => loadScript(\"vega-lite\"))\n",
       "        .then(() => loadScript(\"vega-embed\"))\n",
       "        .catch(showError)\n",
       "        .then(() => displayChart(vegaEmbed));\n",
       "    }\n",
       "  })({\"config\": {\"view\": {\"continuousWidth\": 400, \"continuousHeight\": 300}, \"title\": {\"anchor\": \"middle\", \"fontSize\": 16, \"offset\": 5, \"orient\": \"top\"}}, \"data\": {\"name\": \"data-f413dd4397347a26978e63b61c54920f\"}, \"mark\": \"bar\", \"encoding\": {\"color\": {\"type\": \"nominal\", \"field\": \"condition\"}, \"column\": {\"type\": \"nominal\", \"field\": \"nPts\"}, \"tooltip\": [{\"type\": \"quantitative\", \"field\": \"time\"}], \"x\": {\"type\": \"nominal\", \"field\": \"condition\"}, \"y\": {\"type\": \"quantitative\", \"field\": \"time\", \"scale\": {\"type\": \"log\"}, \"title\": \"log(total time)\"}}, \"title\": \"Print Series\", \"$schema\": \"https://vega.github.io/schema/vega-lite/v4.8.1.json\", \"datasets\": {\"data-f413dd4397347a26978e63b61c54920f\": [{\"condition\": \"baseline\", \"nPts\": \"10000\", \"cell_type\": \"print_series\", \"time\": 0.114121}, {\"condition\": \"baseline\", \"nPts\": \"100000\", \"cell_type\": \"print_series\", \"time\": 0.21239557142857143}, {\"condition\": \"baseline\", \"nPts\": \"1000000\", \"cell_type\": \"print_series\", \"time\": 1.0430601428571429}, {\"condition\": \"baseline\", \"nPts\": \"10000000\", \"cell_type\": \"print_series\", \"time\": 10.385119571428573}, {\"condition\": \"o1\", \"nPts\": \"10000\", \"cell_type\": \"print_series\", \"time\": 0.09459114285714286}, {\"condition\": \"o1\", \"nPts\": \"100000\", \"cell_type\": \"print_series\", \"time\": 0.14730342857142859}, {\"condition\": \"o1\", \"nPts\": \"1000000\", \"cell_type\": \"print_series\", \"time\": 0.6867958571428571}, {\"condition\": \"o1\", \"nPts\": \"10000000\", \"cell_type\": \"print_series\", \"time\": 5.398452857142857}, {\"condition\": \"o1o2\", \"nPts\": \"10000\", \"cell_type\": \"print_series\", \"time\": 0.0931}, {\"condition\": \"o1o2\", \"nPts\": \"100000\", \"cell_type\": \"print_series\", \"time\": 0.15301085714285714}, {\"condition\": \"o1o2\", \"nPts\": \"1000000\", \"cell_type\": \"print_series\", \"time\": 0.5526537142857143}, {\"condition\": \"o1o2\", \"nPts\": \"10000000\", \"cell_type\": \"print_series\", \"time\": 4.139834857142857}, {\"condition\": \"o1o2o3\", \"nPts\": \"10000\", \"cell_type\": \"print_series\", \"time\": 0.08480757142857143}, {\"condition\": \"o1o2o3\", \"nPts\": \"100000\", \"cell_type\": \"print_series\", \"time\": 0.13196185714285716}, {\"condition\": \"o1o2o3\", \"nPts\": \"1000000\", \"cell_type\": \"print_series\", \"time\": 0.5101487142857143}, {\"condition\": \"o1o2o3\", \"nPts\": \"10000000\", \"cell_type\": \"print_series\", \"time\": 4.694372714285714}, {\"condition\": \"pandas\", \"nPts\": \"10000\", \"cell_type\": \"print_series\", \"time\": 0.05949828571428572}, {\"condition\": \"pandas\", \"nPts\": \"100000\", \"cell_type\": \"print_series\", \"time\": 0.08230914285714286}, {\"condition\": \"pandas\", \"nPts\": \"1000000\", \"cell_type\": \"print_series\", \"time\": 0.47156642857142855}, {\"condition\": \"pandas\", \"nPts\": \"10000000\", \"cell_type\": \"print_series\", \"time\": 4.086945}]}}, {\"mode\": \"vega-lite\"});\n",
       "</script>"
      ],
      "text/plain": [
       "alt.Chart(...)"
      ]
     },
     "execution_count": 15,
     "metadata": {},
     "output_type": "execute_result"
    }
   ],
   "source": [
    "overall = trial.groupby([\"condition\",\"nPts\",\"cell_type\"]).mean().reset_index()\n",
    "pdf = overall[overall[\"cell_type\"] ==\"print_series\"]\n",
    "chart = alt.Chart(pdf,title = \"Print Series\").mark_bar().encode(\n",
    "    x = \"condition\",\n",
    "    y = alt.Y(\"time\",scale=alt.Scale(type='log'),title=\"log(total time)\"),\n",
    "    column=\"nPts\",\n",
    "    color=\"condition\",\n",
    "    tooltip=[\"time\"]\n",
    ")\n",
    "chart = chart.configure_title(fontSize=16, offset=5, orient='top', anchor='middle')\n",
    "chart"
   ]
  },
  {
   "cell_type": "code",
   "execution_count": 16,
   "metadata": {},
   "outputs": [
    {
     "data": {
      "text/html": [
       "\n",
       "<div id=\"altair-viz-64c8a5ed1d4249a0a4ba35cafc13f575\"></div>\n",
       "<script type=\"text/javascript\">\n",
       "  (function(spec, embedOpt){\n",
       "    let outputDiv = document.currentScript.previousElementSibling;\n",
       "    if (outputDiv.id !== \"altair-viz-64c8a5ed1d4249a0a4ba35cafc13f575\") {\n",
       "      outputDiv = document.getElementById(\"altair-viz-64c8a5ed1d4249a0a4ba35cafc13f575\");\n",
       "    }\n",
       "    const paths = {\n",
       "      \"vega\": \"https://cdn.jsdelivr.net/npm//vega@5?noext\",\n",
       "      \"vega-lib\": \"https://cdn.jsdelivr.net/npm//vega-lib?noext\",\n",
       "      \"vega-lite\": \"https://cdn.jsdelivr.net/npm//vega-lite@4.8.1?noext\",\n",
       "      \"vega-embed\": \"https://cdn.jsdelivr.net/npm//vega-embed@6?noext\",\n",
       "    };\n",
       "\n",
       "    function loadScript(lib) {\n",
       "      return new Promise(function(resolve, reject) {\n",
       "        var s = document.createElement('script');\n",
       "        s.src = paths[lib];\n",
       "        s.async = true;\n",
       "        s.onload = () => resolve(paths[lib]);\n",
       "        s.onerror = () => reject(`Error loading script: ${paths[lib]}`);\n",
       "        document.getElementsByTagName(\"head\")[0].appendChild(s);\n",
       "      });\n",
       "    }\n",
       "\n",
       "    function showError(err) {\n",
       "      outputDiv.innerHTML = `<div class=\"error\" style=\"color:red;\">${err}</div>`;\n",
       "      throw err;\n",
       "    }\n",
       "\n",
       "    function displayChart(vegaEmbed) {\n",
       "      vegaEmbed(outputDiv, spec, embedOpt)\n",
       "        .catch(err => showError(`Javascript Error: ${err.message}<br>This usually means there's a typo in your chart specification. See the javascript console for the full traceback.`));\n",
       "    }\n",
       "\n",
       "    if(typeof define === \"function\" && define.amd) {\n",
       "      requirejs.config({paths});\n",
       "      require([\"vega-embed\"], displayChart, err => showError(`Error loading script: ${err.message}`));\n",
       "    } else if (typeof vegaEmbed === \"function\") {\n",
       "      displayChart(vegaEmbed);\n",
       "    } else {\n",
       "      loadScript(\"vega\")\n",
       "        .then(() => loadScript(\"vega-lite\"))\n",
       "        .then(() => loadScript(\"vega-embed\"))\n",
       "        .catch(showError)\n",
       "        .then(() => displayChart(vegaEmbed));\n",
       "    }\n",
       "  })({\"config\": {\"view\": {\"continuousWidth\": 400, \"continuousHeight\": 300}, \"title\": {\"anchor\": \"middle\", \"fontSize\": 16, \"offset\": 5, \"orient\": \"top\"}}, \"data\": {\"name\": \"data-d9ae8f6339cd34d89ead5f9ed8a0f623\"}, \"mark\": \"bar\", \"encoding\": {\"color\": {\"type\": \"nominal\", \"field\": \"condition\"}, \"column\": {\"type\": \"nominal\", \"field\": \"nPts\"}, \"tooltip\": [{\"type\": \"quantitative\", \"field\": \"time\"}], \"x\": {\"type\": \"nominal\", \"field\": \"condition\"}, \"y\": {\"type\": \"quantitative\", \"field\": \"time\", \"scale\": {\"type\": \"log\"}, \"title\": \"log(total time)\"}}, \"title\": \"Print Dataframe\", \"$schema\": \"https://vega.github.io/schema/vega-lite/v4.8.1.json\", \"datasets\": {\"data-d9ae8f6339cd34d89ead5f9ed8a0f623\": [{\"condition\": \"baseline\", \"nPts\": \"10000\", \"cell_type\": \"print_dataframe\", \"time\": 2.0925775714285715}, {\"condition\": \"baseline\", \"nPts\": \"100000\", \"cell_type\": \"print_dataframe\", \"time\": 4.560398214285715}, {\"condition\": \"baseline\", \"nPts\": \"1000000\", \"cell_type\": \"print_dataframe\", \"time\": 19.46029342857143}, {\"condition\": \"baseline\", \"nPts\": \"10000000\", \"cell_type\": \"print_dataframe\", \"time\": 171.062848}, {\"condition\": \"o1\", \"nPts\": \"10000\", \"cell_type\": \"print_dataframe\", \"time\": 1.4765992142857145}, {\"condition\": \"o1\", \"nPts\": \"100000\", \"cell_type\": \"print_dataframe\", \"time\": 2.8713929285714284}, {\"condition\": \"o1\", \"nPts\": \"1000000\", \"cell_type\": \"print_dataframe\", \"time\": 9.334235428571427}, {\"condition\": \"o1\", \"nPts\": \"10000000\", \"cell_type\": \"print_dataframe\", \"time\": 57.71680714285715}, {\"condition\": \"o1o2\", \"nPts\": \"10000\", \"cell_type\": \"print_dataframe\", \"time\": 0.7929892142857142}, {\"condition\": \"o1o2\", \"nPts\": \"100000\", \"cell_type\": \"print_dataframe\", \"time\": 1.3033900714285716}, {\"condition\": \"o1o2\", \"nPts\": \"1000000\", \"cell_type\": \"print_dataframe\", \"time\": 3.6627721428571434}, {\"condition\": \"o1o2\", \"nPts\": \"10000000\", \"cell_type\": \"print_dataframe\", \"time\": 25.08527385714286}, {\"condition\": \"o1o2o3\", \"nPts\": \"10000\", \"cell_type\": \"print_dataframe\", \"time\": 0.17640785714285712}, {\"condition\": \"o1o2o3\", \"nPts\": \"100000\", \"cell_type\": \"print_dataframe\", \"time\": 0.41460092857142855}, {\"condition\": \"o1o2o3\", \"nPts\": \"1000000\", \"cell_type\": \"print_dataframe\", \"time\": 2.0357030714285718}, {\"condition\": \"o1o2o3\", \"nPts\": \"10000000\", \"cell_type\": \"print_dataframe\", \"time\": 21.23503142857143}, {\"condition\": \"pandas\", \"nPts\": \"10000\", \"cell_type\": \"print_dataframe\", \"time\": 0.044312928571428566}, {\"condition\": \"pandas\", \"nPts\": \"100000\", \"cell_type\": \"print_dataframe\", \"time\": 0.044166642857142856}, {\"condition\": \"pandas\", \"nPts\": \"1000000\", \"cell_type\": \"print_dataframe\", \"time\": 0.0450655}, {\"condition\": \"pandas\", \"nPts\": \"10000000\", \"cell_type\": \"print_dataframe\", \"time\": 0.05315000000000001}]}}, {\"mode\": \"vega-lite\"});\n",
       "</script>"
      ],
      "text/plain": [
       "alt.Chart(...)"
      ]
     },
     "execution_count": 16,
     "metadata": {},
     "output_type": "execute_result"
    }
   ],
   "source": [
    "overall = trial.groupby([\"condition\",\"nPts\",\"cell_type\"]).mean().reset_index()\n",
    "pdf = overall[overall[\"cell_type\"] ==\"print_dataframe\"]\n",
    "chart = alt.Chart(pdf,title = \"Print Dataframe\").mark_bar().encode(\n",
    "    x = \"condition\",\n",
    "    y = alt.Y(\"time\",scale=alt.Scale(type='log'),title=\"log(total time)\"),\n",
    "    column=\"nPts\",\n",
    "    color=\"condition\",\n",
    "    tooltip=[\"time\"]\n",
    ")\n",
    "chart = chart.configure_title(fontSize=16, offset=5, orient='top', anchor='middle')\n",
    "chart"
   ]
  },
  {
   "cell_type": "markdown",
   "metadata": {},
   "source": [
    "------------"
   ]
  },
  {
   "cell_type": "markdown",
   "metadata": {},
   "source": [
    "### Communities post processing"
   ]
  },
  {
   "cell_type": "code",
   "execution_count": 17,
   "metadata": {},
   "outputs": [
    {
     "name": "stdout",
     "output_type": "stream",
     "text": [
      "python             30\n",
      "print_dataframe    14\n",
      "print_series        4\n",
      "dtype: int64\n"
     ]
    }
   ],
   "source": [
    "count = []\n",
    "with open(\"latest_final_30kcap/communities/communities.ipynb\") as json_file:\n",
    "    data = json.load(json_file)\n",
    "    for cell in data['cells']:\n",
    "        label = cell[\"source\"][0]\n",
    "        cell_type = None\n",
    "        if \"# {{NO LUX}}\" in label:\n",
    "            cell_type = \"python\"\n",
    "        elif \"# {{PRINT SERIES}}\" in label:\n",
    "            cell_type = \"print_series\"\n",
    "        elif \"# {{PRINT DF}}\" in label:\n",
    "            cell_type = \"print_dataframe\"\n",
    "        count.append(cell_type)\n",
    "count = pd.Series(count)\n",
    "print(count.value_counts())"
   ]
  },
  {
   "cell_type": "code",
   "execution_count": 18,
   "metadata": {},
   "outputs": [],
   "source": [
    "import glob\n",
    "import time\n",
    "import papermill as pm\n",
    "import pandas as pd\n",
    "import numpy as np\n",
    "import json\n",
    "trial = []\n",
    "\n",
    "for nb_name in glob.glob(\"communities/communities_*_output.ipynb\"):\n",
    "# for nb_name in glob.glob(\"airbnb/airbnb_*_*_output.ipynb\"):\n",
    "    snb = nb_name.split(\"_\")\n",
    "    if len(snb)==4:\n",
    "        _, condition, nPts, _ = nb_name.split(\"_\")\n",
    "    elif len(snb)==3:\n",
    "        condition = \"pandas\"\n",
    "        _,  nPts, _ = nb_name.split(\"_\")\n",
    "    with open(nb_name) as json_file:\n",
    "        data = json.load(json_file)\n",
    "        for cell in data['cells']:\n",
    "            label = cell[\"source\"][0]\n",
    "            cell_type = None\n",
    "            if \"# {{NO LUX}}\" in label:\n",
    "                cell_type = \"python\"\n",
    "            elif \"# {{PRINT SERIES}}\" in label:\n",
    "                cell_type = \"print_series\"\n",
    "            elif \"# {{PRINT DF}}\" in label:\n",
    "                cell_type = \"print_dataframe\"\n",
    "            duration = cell[\"metadata\"][\"papermill\"][\"duration\"]\n",
    "#             print(nb_name, cell_type, duration)\n",
    "            trial.append([condition, nPts,cell_type, duration])\n",
    "#             duration = cell[\"metadata\"][\"papermill\"][\"duration\"]\n",
    "#             from datetime import datetime\n",
    "#             if (\"execution\" in cell[\"metadata\"]):\n",
    "#                 starttime = datetime.strptime(cell[\"metadata\"][\"execution\"][\"iopub.execute_input\"],\"%Y-%m-%dT%H:%M:%S.%fZ\")\n",
    "#                 endtime = datetime.strptime(cell[\"metadata\"][\"execution\"][\"shell.execute_reply\"],\"%Y-%m-%dT%H:%M:%S.%fZ\")\n",
    "#                 duration = (endtime-starttime).total_seconds()\n",
    "#     #             print(nb_name, cell_type, duration)\n",
    "#                 trial.append([condition, nPts,cell_type, duration])\n",
    "# #             else:\n",
    "#                 print (\"skip:\",cell)\n",
    "\n",
    "trial = pd.DataFrame(trial,columns=[\"condition\",\"nPts\",\"cell_type\",\"time\"])"
   ]
  },
  {
   "cell_type": "code",
   "execution_count": 19,
   "metadata": {},
   "outputs": [],
   "source": [
    "trial.to_csv(\"../../paper/communities_macrobenchmark.csv\",index=None)"
   ]
  },
  {
   "cell_type": "code",
   "execution_count": 20,
   "metadata": {},
   "outputs": [
    {
     "data": {
      "text/html": [
       "\n",
       "<div id=\"altair-viz-7c6522f543574b34a41ee6b43ee6df1b\"></div>\n",
       "<script type=\"text/javascript\">\n",
       "  (function(spec, embedOpt){\n",
       "    let outputDiv = document.currentScript.previousElementSibling;\n",
       "    if (outputDiv.id !== \"altair-viz-7c6522f543574b34a41ee6b43ee6df1b\") {\n",
       "      outputDiv = document.getElementById(\"altair-viz-7c6522f543574b34a41ee6b43ee6df1b\");\n",
       "    }\n",
       "    const paths = {\n",
       "      \"vega\": \"https://cdn.jsdelivr.net/npm//vega@5?noext\",\n",
       "      \"vega-lib\": \"https://cdn.jsdelivr.net/npm//vega-lib?noext\",\n",
       "      \"vega-lite\": \"https://cdn.jsdelivr.net/npm//vega-lite@4.8.1?noext\",\n",
       "      \"vega-embed\": \"https://cdn.jsdelivr.net/npm//vega-embed@6?noext\",\n",
       "    };\n",
       "\n",
       "    function loadScript(lib) {\n",
       "      return new Promise(function(resolve, reject) {\n",
       "        var s = document.createElement('script');\n",
       "        s.src = paths[lib];\n",
       "        s.async = true;\n",
       "        s.onload = () => resolve(paths[lib]);\n",
       "        s.onerror = () => reject(`Error loading script: ${paths[lib]}`);\n",
       "        document.getElementsByTagName(\"head\")[0].appendChild(s);\n",
       "      });\n",
       "    }\n",
       "\n",
       "    function showError(err) {\n",
       "      outputDiv.innerHTML = `<div class=\"error\" style=\"color:red;\">${err}</div>`;\n",
       "      throw err;\n",
       "    }\n",
       "\n",
       "    function displayChart(vegaEmbed) {\n",
       "      vegaEmbed(outputDiv, spec, embedOpt)\n",
       "        .catch(err => showError(`Javascript Error: ${err.message}<br>This usually means there's a typo in your chart specification. See the javascript console for the full traceback.`));\n",
       "    }\n",
       "\n",
       "    if(typeof define === \"function\" && define.amd) {\n",
       "      requirejs.config({paths});\n",
       "      require([\"vega-embed\"], displayChart, err => showError(`Error loading script: ${err.message}`));\n",
       "    } else if (typeof vegaEmbed === \"function\") {\n",
       "      displayChart(vegaEmbed);\n",
       "    } else {\n",
       "      loadScript(\"vega\")\n",
       "        .then(() => loadScript(\"vega-lite\"))\n",
       "        .then(() => loadScript(\"vega-embed\"))\n",
       "        .catch(showError)\n",
       "        .then(() => displayChart(vegaEmbed));\n",
       "    }\n",
       "  })({\"config\": {\"view\": {\"continuousWidth\": 400, \"continuousHeight\": 300}, \"title\": {\"anchor\": \"middle\", \"fontSize\": 16, \"offset\": 5, \"orient\": \"top\"}}, \"data\": {\"name\": \"data-c627be85b5907eb8e69409a8b2566e80\"}, \"mark\": \"bar\", \"encoding\": {\"color\": {\"type\": \"nominal\", \"field\": \"condition\"}, \"column\": {\"type\": \"nominal\", \"field\": \"nPts\"}, \"tooltip\": [{\"type\": \"quantitative\", \"field\": \"time\"}], \"x\": {\"type\": \"nominal\", \"field\": \"condition\"}, \"y\": {\"type\": \"quantitative\", \"field\": \"time\", \"scale\": {\"type\": \"log\"}, \"title\": \"log(total time)\"}}, \"title\": \"Overall\", \"$schema\": \"https://vega.github.io/schema/vega-lite/v4.8.1.json\", \"datasets\": {\"data-c627be85b5907eb8e69409a8b2566e80\": [{\"condition\": \"baseline\", \"nPts\": \"100\", \"time\": 1801.629874}, {\"condition\": \"baseline\", \"nPts\": \"1000\", \"time\": 1747.3697960000002}, {\"condition\": \"baseline\", \"nPts\": \"10000\", \"time\": 10159.226374999995}, {\"condition\": \"baseline\", \"nPts\": \"100000\", \"time\": 18356.488123999992}, {\"condition\": \"o1\", \"nPts\": \"100\", \"time\": 689.6728519999997}, {\"condition\": \"o1\", \"nPts\": \"1000\", \"time\": 698.1737699999999}, {\"condition\": \"o1\", \"nPts\": \"10000\", \"time\": 3808.1939270000003}, {\"condition\": \"o1\", \"nPts\": \"100000\", \"time\": 6932.437011}, {\"condition\": \"o1o2\", \"nPts\": \"100\", \"time\": 1042.2026520000006}, {\"condition\": \"o1o2\", \"nPts\": \"1000\", \"time\": 934.6349879999999}, {\"condition\": \"o1o2\", \"nPts\": \"10000\", \"time\": 866.9843060000002}, {\"condition\": \"o1o2\", \"nPts\": \"100000\", \"time\": 4388.888227}, {\"condition\": \"o1o2o3\", \"nPts\": \"100\", \"time\": 22.830042}, {\"condition\": \"o1o2o3\", \"nPts\": \"1000\", \"time\": 23.850692}, {\"condition\": \"o1o2o3\", \"nPts\": \"10000\", \"time\": 55.906279}, {\"condition\": \"o1o2o3\", \"nPts\": \"100000\", \"time\": 3228.515234}, {\"condition\": \"pandas\", \"nPts\": \"100\", \"time\": 8.573481000000001}, {\"condition\": \"pandas\", \"nPts\": \"1000\", \"time\": 10.336834000000001}, {\"condition\": \"pandas\", \"nPts\": \"10000\", \"time\": 34.551187}, {\"condition\": \"pandas\", \"nPts\": \"100000\", \"time\": 2513.18872}]}}, {\"mode\": \"vega-lite\"});\n",
       "</script>"
      ],
      "text/plain": [
       "alt.Chart(...)"
      ]
     },
     "execution_count": 20,
     "metadata": {},
     "output_type": "execute_result"
    }
   ],
   "source": [
    "overall = trial.groupby([\"condition\",\"nPts\"]).sum().reset_index()\n",
    "overall=overall[overall[\"time\"]!=0]\n",
    "chart = alt.Chart(overall,title = \"Overall\").mark_bar().encode(\n",
    "    x = \"condition\",\n",
    "    y = alt.Y(\"time\",scale=alt.Scale(type='log'),title=\"log(total time)\"),\n",
    "    column=\"nPts\",\n",
    "    color=\"condition\",\n",
    "    tooltip=[\"time\"]\n",
    ")\n",
    "chart = chart.configure_title(fontSize=16, offset=5, orient='top', anchor='middle')\n",
    "chart"
   ]
  },
  {
   "cell_type": "code",
   "execution_count": 21,
   "metadata": {},
   "outputs": [
    {
     "data": {
      "text/html": [
       "\n",
       "<div id=\"altair-viz-417646861e0b417dabdc20af1e1cffc0\"></div>\n",
       "<script type=\"text/javascript\">\n",
       "  (function(spec, embedOpt){\n",
       "    let outputDiv = document.currentScript.previousElementSibling;\n",
       "    if (outputDiv.id !== \"altair-viz-417646861e0b417dabdc20af1e1cffc0\") {\n",
       "      outputDiv = document.getElementById(\"altair-viz-417646861e0b417dabdc20af1e1cffc0\");\n",
       "    }\n",
       "    const paths = {\n",
       "      \"vega\": \"https://cdn.jsdelivr.net/npm//vega@5?noext\",\n",
       "      \"vega-lib\": \"https://cdn.jsdelivr.net/npm//vega-lib?noext\",\n",
       "      \"vega-lite\": \"https://cdn.jsdelivr.net/npm//vega-lite@4.8.1?noext\",\n",
       "      \"vega-embed\": \"https://cdn.jsdelivr.net/npm//vega-embed@6?noext\",\n",
       "    };\n",
       "\n",
       "    function loadScript(lib) {\n",
       "      return new Promise(function(resolve, reject) {\n",
       "        var s = document.createElement('script');\n",
       "        s.src = paths[lib];\n",
       "        s.async = true;\n",
       "        s.onload = () => resolve(paths[lib]);\n",
       "        s.onerror = () => reject(`Error loading script: ${paths[lib]}`);\n",
       "        document.getElementsByTagName(\"head\")[0].appendChild(s);\n",
       "      });\n",
       "    }\n",
       "\n",
       "    function showError(err) {\n",
       "      outputDiv.innerHTML = `<div class=\"error\" style=\"color:red;\">${err}</div>`;\n",
       "      throw err;\n",
       "    }\n",
       "\n",
       "    function displayChart(vegaEmbed) {\n",
       "      vegaEmbed(outputDiv, spec, embedOpt)\n",
       "        .catch(err => showError(`Javascript Error: ${err.message}<br>This usually means there's a typo in your chart specification. See the javascript console for the full traceback.`));\n",
       "    }\n",
       "\n",
       "    if(typeof define === \"function\" && define.amd) {\n",
       "      requirejs.config({paths});\n",
       "      require([\"vega-embed\"], displayChart, err => showError(`Error loading script: ${err.message}`));\n",
       "    } else if (typeof vegaEmbed === \"function\") {\n",
       "      displayChart(vegaEmbed);\n",
       "    } else {\n",
       "      loadScript(\"vega\")\n",
       "        .then(() => loadScript(\"vega-lite\"))\n",
       "        .then(() => loadScript(\"vega-embed\"))\n",
       "        .catch(showError)\n",
       "        .then(() => displayChart(vegaEmbed));\n",
       "    }\n",
       "  })({\"config\": {\"view\": {\"continuousWidth\": 400, \"continuousHeight\": 300}, \"title\": {\"anchor\": \"middle\", \"fontSize\": 16, \"offset\": 5, \"orient\": \"top\"}}, \"data\": {\"name\": \"data-3448565151bab05e3fd3851981f24658\"}, \"mark\": \"bar\", \"encoding\": {\"color\": {\"type\": \"nominal\", \"field\": \"condition\"}, \"column\": {\"type\": \"nominal\", \"field\": \"nPts\"}, \"tooltip\": [{\"type\": \"quantitative\", \"field\": \"time\"}], \"x\": {\"type\": \"nominal\", \"field\": \"condition\"}, \"y\": {\"type\": \"quantitative\", \"field\": \"time\", \"scale\": {\"type\": \"log\"}, \"title\": \"log(total time)\"}}, \"title\": \"Non-Lux Python Operations\", \"$schema\": \"https://vega.github.io/schema/vega-lite/v4.8.1.json\", \"datasets\": {\"data-3448565151bab05e3fd3851981f24658\": [{\"condition\": \"baseline\", \"nPts\": \"100\", \"cell_type\": \"python\", \"time\": 33.5522511}, {\"condition\": \"baseline\", \"nPts\": \"1000\", \"cell_type\": \"python\", \"time\": 32.9673989}, {\"condition\": \"baseline\", \"nPts\": \"10000\", \"cell_type\": \"python\", \"time\": 196.62173493333339}, {\"condition\": \"baseline\", \"nPts\": \"100000\", \"cell_type\": \"python\", \"time\": 443.9315400666667}, {\"condition\": \"o1\", \"nPts\": \"100\", \"cell_type\": \"python\", \"time\": 0.20173470000000002}, {\"condition\": \"o1\", \"nPts\": \"1000\", \"cell_type\": \"python\", \"time\": 0.286799}, {\"condition\": \"o1\", \"nPts\": \"10000\", \"cell_type\": \"python\", \"time\": 1.2668423666666668}, {\"condition\": \"o1\", \"nPts\": \"100000\", \"cell_type\": \"python\", \"time\": 73.15493386666665}, {\"condition\": \"o1o2\", \"nPts\": \"100\", \"cell_type\": \"python\", \"time\": 0.2283490333333333}, {\"condition\": \"o1o2\", \"nPts\": \"1000\", \"cell_type\": \"python\", \"time\": 0.28597963333333337}, {\"condition\": \"o1o2\", \"nPts\": \"10000\", \"cell_type\": \"python\", \"time\": 1.6119344333333332}, {\"condition\": \"o1o2\", \"nPts\": \"100000\", \"cell_type\": \"python\", \"time\": 118.62872159999999}, {\"condition\": \"o1o2o3\", \"nPts\": \"100\", \"cell_type\": \"python\", \"time\": 0.23738219999999996}, {\"condition\": \"o1o2o3\", \"nPts\": \"1000\", \"cell_type\": \"python\", \"time\": 0.2926970333333333}, {\"condition\": \"o1o2o3\", \"nPts\": \"10000\", \"cell_type\": \"python\", \"time\": 1.4150878}, {\"condition\": \"o1o2o3\", \"nPts\": \"100000\", \"cell_type\": \"python\", \"time\": 107.07553983333334}, {\"condition\": \"pandas\", \"nPts\": \"100\", \"cell_type\": \"python\", \"time\": 0.24410050000000005}, {\"condition\": \"pandas\", \"nPts\": \"1000\", \"cell_type\": \"python\", \"time\": 0.3050648}, {\"condition\": \"pandas\", \"nPts\": \"10000\", \"cell_type\": \"python\", \"time\": 1.1121905}, {\"condition\": \"pandas\", \"nPts\": \"100000\", \"cell_type\": \"python\", \"time\": 83.71184553333335}]}}, {\"mode\": \"vega-lite\"});\n",
       "</script>"
      ],
      "text/plain": [
       "alt.Chart(...)"
      ]
     },
     "execution_count": 21,
     "metadata": {},
     "output_type": "execute_result"
    }
   ],
   "source": [
    "overall = trial.groupby([\"condition\",\"nPts\",\"cell_type\"]).mean().reset_index()\n",
    "pdf = overall[overall[\"cell_type\"] ==\"python\"]\n",
    "chart = alt.Chart(pdf,title = \"Non-Lux Python Operations\").mark_bar().encode(\n",
    "    x = \"condition\",\n",
    "    y = alt.Y(\"time\",scale=alt.Scale(type='log'),title=\"log(total time)\"),\n",
    "    column=\"nPts\",\n",
    "    color=\"condition\",\n",
    "    tooltip=[\"time\"]\n",
    ")\n",
    "chart = chart.configure_title(fontSize=16, offset=5, orient='top', anchor='middle')\n",
    "chart"
   ]
  },
  {
   "cell_type": "code",
   "execution_count": 22,
   "metadata": {},
   "outputs": [
    {
     "data": {
      "text/html": [
       "\n",
       "<div id=\"altair-viz-ff95b0f144b94a6cb1612525d13a73fb\"></div>\n",
       "<script type=\"text/javascript\">\n",
       "  (function(spec, embedOpt){\n",
       "    let outputDiv = document.currentScript.previousElementSibling;\n",
       "    if (outputDiv.id !== \"altair-viz-ff95b0f144b94a6cb1612525d13a73fb\") {\n",
       "      outputDiv = document.getElementById(\"altair-viz-ff95b0f144b94a6cb1612525d13a73fb\");\n",
       "    }\n",
       "    const paths = {\n",
       "      \"vega\": \"https://cdn.jsdelivr.net/npm//vega@5?noext\",\n",
       "      \"vega-lib\": \"https://cdn.jsdelivr.net/npm//vega-lib?noext\",\n",
       "      \"vega-lite\": \"https://cdn.jsdelivr.net/npm//vega-lite@4.8.1?noext\",\n",
       "      \"vega-embed\": \"https://cdn.jsdelivr.net/npm//vega-embed@6?noext\",\n",
       "    };\n",
       "\n",
       "    function loadScript(lib) {\n",
       "      return new Promise(function(resolve, reject) {\n",
       "        var s = document.createElement('script');\n",
       "        s.src = paths[lib];\n",
       "        s.async = true;\n",
       "        s.onload = () => resolve(paths[lib]);\n",
       "        s.onerror = () => reject(`Error loading script: ${paths[lib]}`);\n",
       "        document.getElementsByTagName(\"head\")[0].appendChild(s);\n",
       "      });\n",
       "    }\n",
       "\n",
       "    function showError(err) {\n",
       "      outputDiv.innerHTML = `<div class=\"error\" style=\"color:red;\">${err}</div>`;\n",
       "      throw err;\n",
       "    }\n",
       "\n",
       "    function displayChart(vegaEmbed) {\n",
       "      vegaEmbed(outputDiv, spec, embedOpt)\n",
       "        .catch(err => showError(`Javascript Error: ${err.message}<br>This usually means there's a typo in your chart specification. See the javascript console for the full traceback.`));\n",
       "    }\n",
       "\n",
       "    if(typeof define === \"function\" && define.amd) {\n",
       "      requirejs.config({paths});\n",
       "      require([\"vega-embed\"], displayChart, err => showError(`Error loading script: ${err.message}`));\n",
       "    } else if (typeof vegaEmbed === \"function\") {\n",
       "      displayChart(vegaEmbed);\n",
       "    } else {\n",
       "      loadScript(\"vega\")\n",
       "        .then(() => loadScript(\"vega-lite\"))\n",
       "        .then(() => loadScript(\"vega-embed\"))\n",
       "        .catch(showError)\n",
       "        .then(() => displayChart(vegaEmbed));\n",
       "    }\n",
       "  })({\"config\": {\"view\": {\"continuousWidth\": 400, \"continuousHeight\": 300}, \"title\": {\"anchor\": \"middle\", \"fontSize\": 16, \"offset\": 5, \"orient\": \"top\"}}, \"data\": {\"name\": \"data-24f1dc57e54e5a6c9bc54191801e6b3b\"}, \"mark\": \"bar\", \"encoding\": {\"color\": {\"type\": \"nominal\", \"field\": \"condition\"}, \"column\": {\"type\": \"nominal\", \"field\": \"nPts\"}, \"tooltip\": [{\"type\": \"quantitative\", \"field\": \"time\"}], \"x\": {\"type\": \"nominal\", \"field\": \"condition\"}, \"y\": {\"type\": \"quantitative\", \"field\": \"time\", \"scale\": {\"type\": \"log\"}, \"title\": \"log(total time)\"}}, \"selection\": {\"selector001\": {\"type\": \"interval\", \"bind\": \"scales\", \"encodings\": [\"x\", \"y\"]}}, \"title\": \"Print Series\", \"$schema\": \"https://vega.github.io/schema/vega-lite/v4.8.1.json\", \"datasets\": {\"data-24f1dc57e54e5a6c9bc54191801e6b3b\": [{\"condition\": \"baseline\", \"nPts\": \"100\", \"cell_type\": \"print_series\", \"time\": 0.07633575}, {\"condition\": \"baseline\", \"nPts\": \"1000\", \"cell_type\": \"print_series\", \"time\": 0.07617075}, {\"condition\": \"baseline\", \"nPts\": \"10000\", \"cell_type\": \"print_series\", \"time\": 0.07955375}, {\"condition\": \"baseline\", \"nPts\": \"100000\", \"cell_type\": \"print_series\", \"time\": 0.0966615}, {\"condition\": \"o1\", \"nPts\": \"100\", \"cell_type\": \"print_series\", \"time\": 0.07575675000000001}, {\"condition\": \"o1\", \"nPts\": \"1000\", \"cell_type\": \"print_series\", \"time\": 0.07481875}, {\"condition\": \"o1\", \"nPts\": \"10000\", \"cell_type\": \"print_series\", \"time\": 0.0792885}, {\"condition\": \"o1\", \"nPts\": \"100000\", \"cell_type\": \"print_series\", \"time\": 0.10278600000000002}, {\"condition\": \"o1o2\", \"nPts\": \"100\", \"cell_type\": \"print_series\", \"time\": 0.08835875000000001}, {\"condition\": \"o1o2\", \"nPts\": \"1000\", \"cell_type\": \"print_series\", \"time\": 0.08797525}, {\"condition\": \"o1o2\", \"nPts\": \"10000\", \"cell_type\": \"print_series\", \"time\": 0.14873725}, {\"condition\": \"o1o2\", \"nPts\": \"100000\", \"cell_type\": \"print_series\", \"time\": 0.18255849999999998}, {\"condition\": \"o1o2o3\", \"nPts\": \"100\", \"cell_type\": \"print_series\", \"time\": 0.07346275}, {\"condition\": \"o1o2o3\", \"nPts\": \"1000\", \"cell_type\": \"print_series\", \"time\": 0.07464225000000001}, {\"condition\": \"o1o2o3\", \"nPts\": \"10000\", \"cell_type\": \"print_series\", \"time\": 0.061937000000000006}, {\"condition\": \"o1o2o3\", \"nPts\": \"100000\", \"cell_type\": \"print_series\", \"time\": 0.0723225}, {\"condition\": \"pandas\", \"nPts\": \"100\", \"cell_type\": \"print_series\", \"time\": 0.03967325}, {\"condition\": \"pandas\", \"nPts\": \"1000\", \"cell_type\": \"print_series\", \"time\": 0.039003}, {\"condition\": \"pandas\", \"nPts\": \"10000\", \"cell_type\": \"print_series\", \"time\": 0.037902000000000005}, {\"condition\": \"pandas\", \"nPts\": \"100000\", \"cell_type\": \"print_series\", \"time\": 0.04182125}]}}, {\"mode\": \"vega-lite\"});\n",
       "</script>"
      ],
      "text/plain": [
       "alt.Chart(...)"
      ]
     },
     "execution_count": 22,
     "metadata": {},
     "output_type": "execute_result"
    }
   ],
   "source": [
    "overall = trial.groupby([\"condition\",\"nPts\",\"cell_type\"]).mean().reset_index()\n",
    "pdf = overall[overall[\"cell_type\"] ==\"print_series\"]\n",
    "chart = alt.Chart(pdf,title = \"Print Series\").mark_bar().encode(\n",
    "    x = \"condition\",\n",
    "    y = alt.Y(\"time\",scale=alt.Scale(type='log'),title=\"log(total time)\"),\n",
    "    column=\"nPts\",\n",
    "    color=\"condition\",\n",
    "    tooltip=[\"time\"]\n",
    ")\n",
    "chart = chart.configure_title(fontSize=16, offset=5, orient='top', anchor='middle')\n",
    "chart.interactive()"
   ]
  },
  {
   "cell_type": "code",
   "execution_count": 23,
   "metadata": {},
   "outputs": [],
   "source": [
    "# trial[(trial[\"cell_type\"] ==\"print_series\")&(trial[\"condition\"] ==\"o1o2\")&((trial[\"nPts\"] ==\"10000\")|(trial[\"nPts\"] ==\"100000\"))]"
   ]
  },
  {
   "cell_type": "code",
   "execution_count": 54,
   "metadata": {},
   "outputs": [],
   "source": [
    "# trial[(trial[\"cell_type\"] ==\"print_series\")&(trial[\"condition\"] ==\"o1o2\")&((trial[\"nPts\"] ==\"10000\")|(trial[\"nPts\"] ==\"100000\"))]"
   ]
  },
  {
   "cell_type": "markdown",
   "metadata": {},
   "source": [
    "There are only 4 print series cells, which means that there is high variance in the execution time. If we do a rerun of experiments, we should add in more series cells. Esp since the metadata is recomputed for some of the series cells. Otherwise, the runtime is more or less the same. If we use papermill's \"duration\" v.s. subtract \"execution\" time (IPython messaging statrt/end), we get different results. So the conditions are more or less the same, but require reruns for the numbers to stable down."
   ]
  },
  {
   "cell_type": "code",
   "execution_count": 55,
   "metadata": {},
   "outputs": [
    {
     "data": {
      "text/html": [
       "<div>\n",
       "<style scoped>\n",
       "    .dataframe tbody tr th:only-of-type {\n",
       "        vertical-align: middle;\n",
       "    }\n",
       "\n",
       "    .dataframe tbody tr th {\n",
       "        vertical-align: top;\n",
       "    }\n",
       "\n",
       "    .dataframe thead th {\n",
       "        text-align: right;\n",
       "    }\n",
       "</style>\n",
       "<table border=\"1\" class=\"dataframe\">\n",
       "  <thead>\n",
       "    <tr style=\"text-align: right;\">\n",
       "      <th></th>\n",
       "      <th>condition</th>\n",
       "      <th>nPts</th>\n",
       "      <th>cell_type</th>\n",
       "      <th>time</th>\n",
       "    </tr>\n",
       "  </thead>\n",
       "  <tbody>\n",
       "    <tr>\n",
       "      <th>114</th>\n",
       "      <td>o1o2</td>\n",
       "      <td>10000</td>\n",
       "      <td>print_dataframe</td>\n",
       "      <td>113.509745</td>\n",
       "    </tr>\n",
       "    <tr>\n",
       "      <th>116</th>\n",
       "      <td>o1o2</td>\n",
       "      <td>10000</td>\n",
       "      <td>print_dataframe</td>\n",
       "      <td>139.958483</td>\n",
       "    </tr>\n",
       "    <tr>\n",
       "      <th>121</th>\n",
       "      <td>o1o2</td>\n",
       "      <td>10000</td>\n",
       "      <td>print_dataframe</td>\n",
       "      <td>138.769197</td>\n",
       "    </tr>\n",
       "    <tr>\n",
       "      <th>123</th>\n",
       "      <td>o1o2</td>\n",
       "      <td>10000</td>\n",
       "      <td>print_dataframe</td>\n",
       "      <td>0.151162</td>\n",
       "    </tr>\n",
       "    <tr>\n",
       "      <th>125</th>\n",
       "      <td>o1o2</td>\n",
       "      <td>10000</td>\n",
       "      <td>print_dataframe</td>\n",
       "      <td>1.249980</td>\n",
       "    </tr>\n",
       "    <tr>\n",
       "      <th>127</th>\n",
       "      <td>o1o2</td>\n",
       "      <td>10000</td>\n",
       "      <td>print_dataframe</td>\n",
       "      <td>0.285488</td>\n",
       "    </tr>\n",
       "    <tr>\n",
       "      <th>130</th>\n",
       "      <td>o1o2</td>\n",
       "      <td>10000</td>\n",
       "      <td>print_dataframe</td>\n",
       "      <td>125.798173</td>\n",
       "    </tr>\n",
       "    <tr>\n",
       "      <th>133</th>\n",
       "      <td>o1o2</td>\n",
       "      <td>10000</td>\n",
       "      <td>print_dataframe</td>\n",
       "      <td>111.726947</td>\n",
       "    </tr>\n",
       "    <tr>\n",
       "      <th>134</th>\n",
       "      <td>o1o2</td>\n",
       "      <td>10000</td>\n",
       "      <td>print_dataframe</td>\n",
       "      <td>0.401725</td>\n",
       "    </tr>\n",
       "    <tr>\n",
       "      <th>136</th>\n",
       "      <td>o1o2</td>\n",
       "      <td>10000</td>\n",
       "      <td>print_dataframe</td>\n",
       "      <td>51.866253</td>\n",
       "    </tr>\n",
       "    <tr>\n",
       "      <th>137</th>\n",
       "      <td>o1o2</td>\n",
       "      <td>10000</td>\n",
       "      <td>print_dataframe</td>\n",
       "      <td>40.801248</td>\n",
       "    </tr>\n",
       "    <tr>\n",
       "      <th>141</th>\n",
       "      <td>o1o2</td>\n",
       "      <td>10000</td>\n",
       "      <td>print_dataframe</td>\n",
       "      <td>46.909456</td>\n",
       "    </tr>\n",
       "    <tr>\n",
       "      <th>143</th>\n",
       "      <td>o1o2</td>\n",
       "      <td>10000</td>\n",
       "      <td>print_dataframe</td>\n",
       "      <td>45.405020</td>\n",
       "    </tr>\n",
       "    <tr>\n",
       "      <th>149</th>\n",
       "      <td>o1o2</td>\n",
       "      <td>10000</td>\n",
       "      <td>print_dataframe</td>\n",
       "      <td>0.231727</td>\n",
       "    </tr>\n",
       "  </tbody>\n",
       "</table>\n",
       "</div>"
      ],
      "text/plain": [
       "    condition   nPts        cell_type        time\n",
       "114      o1o2  10000  print_dataframe  113.509745\n",
       "116      o1o2  10000  print_dataframe  139.958483\n",
       "121      o1o2  10000  print_dataframe  138.769197\n",
       "123      o1o2  10000  print_dataframe    0.151162\n",
       "125      o1o2  10000  print_dataframe    1.249980\n",
       "127      o1o2  10000  print_dataframe    0.285488\n",
       "130      o1o2  10000  print_dataframe  125.798173\n",
       "133      o1o2  10000  print_dataframe  111.726947\n",
       "134      o1o2  10000  print_dataframe    0.401725\n",
       "136      o1o2  10000  print_dataframe   51.866253\n",
       "137      o1o2  10000  print_dataframe   40.801248\n",
       "141      o1o2  10000  print_dataframe   46.909456\n",
       "143      o1o2  10000  print_dataframe   45.405020\n",
       "149      o1o2  10000  print_dataframe    0.231727"
      ]
     },
     "execution_count": 55,
     "metadata": {},
     "output_type": "execute_result"
    }
   ],
   "source": [
    "trial[(trial[\"cell_type\"] ==\"print_dataframe\")&(trial[\"condition\"] ==\"o1o2\")&(trial[\"nPts\"] ==\"10000\")]"
   ]
  },
  {
   "cell_type": "code",
   "execution_count": 24,
   "metadata": {},
   "outputs": [
    {
     "data": {
      "text/html": [
       "\n",
       "<div id=\"altair-viz-978ed42976354409963d3b60f428c0cc\"></div>\n",
       "<script type=\"text/javascript\">\n",
       "  (function(spec, embedOpt){\n",
       "    let outputDiv = document.currentScript.previousElementSibling;\n",
       "    if (outputDiv.id !== \"altair-viz-978ed42976354409963d3b60f428c0cc\") {\n",
       "      outputDiv = document.getElementById(\"altair-viz-978ed42976354409963d3b60f428c0cc\");\n",
       "    }\n",
       "    const paths = {\n",
       "      \"vega\": \"https://cdn.jsdelivr.net/npm//vega@5?noext\",\n",
       "      \"vega-lib\": \"https://cdn.jsdelivr.net/npm//vega-lib?noext\",\n",
       "      \"vega-lite\": \"https://cdn.jsdelivr.net/npm//vega-lite@4.8.1?noext\",\n",
       "      \"vega-embed\": \"https://cdn.jsdelivr.net/npm//vega-embed@6?noext\",\n",
       "    };\n",
       "\n",
       "    function loadScript(lib) {\n",
       "      return new Promise(function(resolve, reject) {\n",
       "        var s = document.createElement('script');\n",
       "        s.src = paths[lib];\n",
       "        s.async = true;\n",
       "        s.onload = () => resolve(paths[lib]);\n",
       "        s.onerror = () => reject(`Error loading script: ${paths[lib]}`);\n",
       "        document.getElementsByTagName(\"head\")[0].appendChild(s);\n",
       "      });\n",
       "    }\n",
       "\n",
       "    function showError(err) {\n",
       "      outputDiv.innerHTML = `<div class=\"error\" style=\"color:red;\">${err}</div>`;\n",
       "      throw err;\n",
       "    }\n",
       "\n",
       "    function displayChart(vegaEmbed) {\n",
       "      vegaEmbed(outputDiv, spec, embedOpt)\n",
       "        .catch(err => showError(`Javascript Error: ${err.message}<br>This usually means there's a typo in your chart specification. See the javascript console for the full traceback.`));\n",
       "    }\n",
       "\n",
       "    if(typeof define === \"function\" && define.amd) {\n",
       "      requirejs.config({paths});\n",
       "      require([\"vega-embed\"], displayChart, err => showError(`Error loading script: ${err.message}`));\n",
       "    } else if (typeof vegaEmbed === \"function\") {\n",
       "      displayChart(vegaEmbed);\n",
       "    } else {\n",
       "      loadScript(\"vega\")\n",
       "        .then(() => loadScript(\"vega-lite\"))\n",
       "        .then(() => loadScript(\"vega-embed\"))\n",
       "        .catch(showError)\n",
       "        .then(() => displayChart(vegaEmbed));\n",
       "    }\n",
       "  })({\"config\": {\"view\": {\"continuousWidth\": 400, \"continuousHeight\": 300}, \"title\": {\"anchor\": \"middle\", \"fontSize\": 16, \"offset\": 5, \"orient\": \"top\"}}, \"data\": {\"name\": \"data-4803bd6178463cf67e4ee0e8dfc2591b\"}, \"mark\": \"bar\", \"encoding\": {\"color\": {\"type\": \"nominal\", \"field\": \"condition\"}, \"column\": {\"type\": \"nominal\", \"field\": \"nPts\"}, \"tooltip\": [{\"type\": \"quantitative\", \"field\": \"time\"}], \"x\": {\"type\": \"nominal\", \"field\": \"condition\"}, \"y\": {\"type\": \"quantitative\", \"field\": \"time\", \"scale\": {\"type\": \"log\"}, \"title\": \"log(total time)\"}}, \"title\": \"Print Dataframe\", \"$schema\": \"https://vega.github.io/schema/vega-lite/v4.8.1.json\", \"datasets\": {\"data-4803bd6178463cf67e4ee0e8dfc2591b\": [{\"condition\": \"baseline\", \"nPts\": \"100\", \"cell_type\": \"print_dataframe\", \"time\": 56.71788650000001}, {\"condition\": \"baseline\", \"nPts\": \"1000\", \"cell_type\": \"print_dataframe\", \"time\": 54.10068557142856}, {\"condition\": \"baseline\", \"nPts\": \"10000\", \"cell_type\": \"print_dataframe\", \"time\": 304.25674892857154}, {\"condition\": \"baseline\", \"nPts\": \"100000\", \"cell_type\": \"print_dataframe\", \"time\": 359.81565278571435}, {\"condition\": \"o1\", \"nPts\": \"100\", \"cell_type\": \"print_dataframe\", \"time\": 48.76428107142856}, {\"condition\": \"o1\", \"nPts\": \"1000\", \"cell_type\": \"print_dataframe\", \"time\": 49.19063757142857}, {\"condition\": \"o1\", \"nPts\": \"10000\", \"cell_type\": \"print_dataframe\", \"time\": 269.20953049999997}, {\"condition\": \"o1\", \"nPts\": \"100000\", \"cell_type\": \"print_dataframe\", \"time\": 338.33382892857145}, {\"condition\": \"o1o2\", \"nPts\": \"100\", \"cell_type\": \"print_dataframe\", \"time\": 73.85540957142858}, {\"condition\": \"o1o2\", \"nPts\": \"1000\", \"cell_type\": \"print_dataframe\", \"time\": 66.060728}, {\"condition\": \"o1o2\", \"nPts\": \"10000\", \"cell_type\": \"print_dataframe\", \"time\": 58.36175742857143}, {\"condition\": \"o1o2\", \"nPts\": \"100000\", \"cell_type\": \"print_dataframe\", \"time\": 59.18845142857143}, {\"condition\": \"o1o2o3\", \"nPts\": \"100\", \"cell_type\": \"print_dataframe\", \"time\": 1.0389601428571429}, {\"condition\": \"o1o2o3\", \"nPts\": \"1000\", \"cell_type\": \"print_dataframe\", \"time\": 0.9879574285714285}, {\"condition\": \"o1o2o3\", \"nPts\": \"10000\", \"cell_type\": \"print_dataframe\", \"time\": 0.8773408571428573}, {\"condition\": \"o1o2o3\", \"nPts\": \"100000\", \"cell_type\": \"print_dataframe\", \"time\": 1.0845622857142858}, {\"condition\": \"pandas\", \"nPts\": \"100\", \"cell_type\": \"print_dataframe\", \"time\": 0.06955235714285715}, {\"condition\": \"pandas\", \"nPts\": \"1000\", \"cell_type\": \"print_dataframe\", \"time\": 0.06597385714285714}, {\"condition\": \"pandas\", \"nPts\": \"10000\", \"cell_type\": \"print_dataframe\", \"time\": 0.06551171428571427}, {\"condition\": \"pandas\", \"nPts\": \"100000\", \"cell_type\": \"print_dataframe\", \"time\": 0.11042492857142858}]}}, {\"mode\": \"vega-lite\"});\n",
       "</script>"
      ],
      "text/plain": [
       "alt.Chart(...)"
      ]
     },
     "execution_count": 24,
     "metadata": {},
     "output_type": "execute_result"
    }
   ],
   "source": [
    "overall = trial.groupby([\"condition\",\"nPts\",\"cell_type\"]).mean().reset_index()\n",
    "pdf = overall[overall[\"cell_type\"] ==\"print_dataframe\"]\n",
    "chart = alt.Chart(pdf,title = \"Print Dataframe\").mark_bar().encode(\n",
    "    x = \"condition\",\n",
    "    y = alt.Y(\"time\",scale=alt.Scale(type='log'),title=\"log(total time)\"),\n",
    "    column=\"nPts\",\n",
    "    color=\"condition\",\n",
    "    tooltip=[\"time\"]\n",
    ")\n",
    "chart = chart.configure_title(fontSize=16, offset=5, orient='top', anchor='middle')\n",
    "chart"
   ]
  },
  {
   "cell_type": "markdown",
   "metadata": {},
   "source": [
    "----------------"
   ]
  },
  {
   "cell_type": "code",
   "execution_count": 10,
   "metadata": {},
   "outputs": [],
   "source": [
    "# # VegaLite can not do logarithmic stacked bar since it is misleading\n",
    "# alt.Chart(df).mark_bar().encode(\n",
    "#     x = alt.X(\"nPts\",type=\"ordinal\"),\n",
    "#     y = alt.Y(\"time\"),#,scale=alt.Scale(type='log'),title=\"log(total time)\"),\n",
    "#     color=\"condition\"\n",
    "# )"
   ]
  },
  {
   "cell_type": "code",
   "execution_count": 59,
   "metadata": {},
   "outputs": [],
   "source": [
    "import numpy as np"
   ]
  },
  {
   "cell_type": "code",
   "execution_count": 15,
   "metadata": {},
   "outputs": [],
   "source": [
    "def pctChange(s1,s2):\n",
    "    return (np.array(s1[\"time\"])-np.array(s2[\"time\"]))/np.array(s2[\"time\"])\n",
    "def rawChange(s1,s2):\n",
    "    return (np.array(s1[\"time\"])-np.array(s2[\"time\"]))"
   ]
  },
  {
   "cell_type": "code",
   "execution_count": 16,
   "metadata": {},
   "outputs": [],
   "source": [
    "df = pd.read_csv(\"../../paper/airbnb_macrobenchmark.csv\")"
   ]
  },
  {
   "cell_type": "code",
   "execution_count": 17,
   "metadata": {},
   "outputs": [],
   "source": [
    "df = df[df[\"cell_type\"]==\"print_dataframe\"]\n",
    "df = df.groupby([\"nPts\",\"condition\"]).mean().reset_index()"
   ]
  },
  {
   "cell_type": "code",
   "execution_count": 18,
   "metadata": {},
   "outputs": [],
   "source": [
    "# df = df.groupby([\"nPts\",\"condition\"]).sum().reset_index()\n",
    "pdonly = df[df[\"condition\"]==\"pandas\"]\n",
    "best = df[df[\"condition\"]==\"o1o2o3\"]\n",
    "worst = df[df[\"condition\"]==\"baseline\"]"
   ]
  },
  {
   "cell_type": "code",
   "execution_count": 24,
   "metadata": {},
   "outputs": [
    {
     "data": {
      "text/plain": [
       "array([ 0.15564243,  0.37043429,  1.99063757, 21.18188143])"
      ]
     },
     "execution_count": 24,
     "metadata": {},
     "output_type": "execute_result"
    }
   ],
   "source": [
    "# pctChange(best,pdonly)\n",
    "\n",
    "# pctChange(worst,pdonly)\n",
    "\n",
    "# pctChange(worst,best)\n",
    "rawChange(best,pdonly)"
   ]
  },
  {
   "cell_type": "markdown",
   "metadata": {},
   "source": [
    "When the dataframe contains fewer than 1M rows for Airbnb, each print incurs no more than 2 seconds for each print in addition to \\pandas (in the 10M case, each print incurred an overhead of 21 seconds)."
   ]
  },
  {
   "cell_type": "code",
   "execution_count": 30,
   "metadata": {},
   "outputs": [],
   "source": [
    "def singlePctChange(v1,v2):\n",
    "    return (v1-v2)/v2"
   ]
  },
  {
   "cell_type": "code",
   "execution_count": 31,
   "metadata": {},
   "outputs": [
    {
     "data": {
      "text/plain": [
       "16.732150079703075"
      ]
     },
     "execution_count": 31,
     "metadata": {},
     "output_type": "execute_result"
    }
   ],
   "source": [
    "singlePctChange(7453,420.31)"
   ]
  },
  {
   "cell_type": "code",
   "execution_count": 112,
   "metadata": {},
   "outputs": [],
   "source": [
    "df = pd.read_csv(\"../../paper/communities_macrobenchmark.csv\")"
   ]
  },
  {
   "cell_type": "code",
   "execution_count": 113,
   "metadata": {},
   "outputs": [],
   "source": [
    "df = df[df[\"cell_type\"]==\"print_dataframe\"]\n",
    "df = df.groupby([\"nPts\",\"condition\"]).mean().reset_index()"
   ]
  },
  {
   "cell_type": "code",
   "execution_count": 114,
   "metadata": {},
   "outputs": [],
   "source": [
    "pdonly = df[df[\"condition\"]==\"pandas\"]\n",
    "best = df[df[\"condition\"]==\"o1o2o3\"]\n",
    "worst = df[df[\"condition\"]==\"baseline\"]"
   ]
  },
  {
   "cell_type": "code",
   "execution_count": 115,
   "metadata": {},
   "outputs": [
    {
     "data": {
      "text/plain": [
       "array([13.93781355, 13.9749836 , 16.26765115, 10.17918056])"
      ]
     },
     "execution_count": 115,
     "metadata": {},
     "output_type": "execute_result"
    }
   ],
   "source": [
    "pctChange(best,pdonly)"
   ]
  },
  {
   "cell_type": "code",
   "execution_count": 116,
   "metadata": {},
   "outputs": [
    {
     "data": {
      "text/plain": [
       "array([1359.19225188, 1390.9491227 , 6356.02771696, 4328.17054767])"
      ]
     },
     "execution_count": 116,
     "metadata": {},
     "output_type": "execute_result"
    }
   ],
   "source": [
    "pctChange(worst,pdonly)"
   ]
  },
  {
   "cell_type": "code",
   "execution_count": 117,
   "metadata": {},
   "outputs": [
    {
     "data": {
      "text/plain": [
       "array([ 90.05698417,  91.95162921, 367.14663798, 386.25294098])"
      ]
     },
     "execution_count": 117,
     "metadata": {},
     "output_type": "execute_result"
    }
   ],
   "source": [
    "pctChange(worst,best)"
   ]
  },
  {
   "cell_type": "code",
   "execution_count": 118,
   "metadata": {},
   "outputs": [
    {
     "data": {
      "text/plain": [
       "array([0.96940779, 0.92198357, 1.06572171, 1.12403529])"
      ]
     },
     "execution_count": 118,
     "metadata": {},
     "output_type": "execute_result"
    }
   ],
   "source": [
    "rawChange(best,pdonly)"
   ]
  },
  {
   "cell_type": "markdown",
   "metadata": {},
   "source": [
    " Likewise, for Communities, the overhead was no more than 1.2 seconds. "
   ]
  },
  {
   "cell_type": "code",
   "execution_count": 133,
   "metadata": {},
   "outputs": [
    {
     "data": {
      "text/plain": [
       "array([  2.10172525,   4.5030616 ,  18.02373243, 107.99725214])"
      ]
     },
     "execution_count": 133,
     "metadata": {},
     "output_type": "execute_result"
    }
   ],
   "source": [
    "df = pd.read_csv(\"../../paper/airbnb_macrobenchmark.csv\")\n",
    "df = df[df[\"cell_type\"]==\"python\"]\n",
    "df = df.groupby([\"nPts\",\"condition\"]).mean().reset_index()\n",
    "\n",
    "pdonly = df[df[\"condition\"]==\"pandas\"]\n",
    "o1 = df[df[\"condition\"]==\"o1\"]\n",
    "o1o2 = df[df[\"condition\"]==\"o1o2\"]\n",
    "best = df[df[\"condition\"]==\"o1o2o3\"]\n",
    "worst = df[df[\"condition\"]==\"baseline\"]\n",
    "\n",
    "# rawChange(best,pdonly)\n",
    "# pctChange(worst,best)\n",
    "pctChange(worst,o1)"
   ]
  },
  {
   "cell_type": "code",
   "execution_count": 134,
   "metadata": {},
   "outputs": [
    {
     "data": {
      "text/plain": [
       "array([224.64270666, 190.06018366, 251.27066912,   4.3513446 ])"
      ]
     },
     "execution_count": 134,
     "metadata": {},
     "output_type": "execute_result"
    }
   ],
   "source": [
    "df = pd.read_csv(\"../../paper/communities_macrobenchmark.csv\")\n",
    "df = df[df[\"cell_type\"]==\"python\"]\n",
    "df = df.groupby([\"nPts\",\"condition\"]).mean().reset_index()\n",
    "\n",
    "pdonly = df[df[\"condition\"]==\"pandas\"]\n",
    "o1 = df[df[\"condition\"]==\"o1\"]\n",
    "o1o2 = df[df[\"condition\"]==\"o1o2\"]\n",
    "best = df[df[\"condition\"]==\"o1o2o3\"]\n",
    "worst = df[df[\"condition\"]==\"baseline\"]\n",
    "\n",
    "# rawChange(best,pdonly)\n",
    "# pctChange(worst,best)\n",
    "pctChange(worst,o1)"
   ]
  }
 ],
 "metadata": {
  "kernelspec": {
   "display_name": "Python 3",
   "language": "python",
   "name": "python3"
  },
  "language_info": {
   "codemirror_mode": {
    "name": "ipython",
    "version": 3
   },
   "file_extension": ".py",
   "mimetype": "text/x-python",
   "name": "python",
   "nbconvert_exporter": "python",
   "pygments_lexer": "ipython3",
   "version": "3.9.2"
  }
 },
 "nbformat": 4,
 "nbformat_minor": 4
}
