{
 "cells": [
  {
   "cell_type": "code",
   "execution_count": 1,
   "metadata": {},
   "outputs": [
    {
     "name": "stdout",
     "output_type": "stream",
     "text": [
      "/Users/dorislee/Desktop/Research/lux/lux-benchmark/backend/macrobenchmark\n"
     ]
    }
   ],
   "source": [
    "cd ../backend/macrobenchmark/"
   ]
  },
  {
   "cell_type": "code",
   "execution_count": 32,
   "metadata": {},
   "outputs": [
    {
     "name": "stdout",
     "output_type": "stream",
     "text": [
      "python             17\n",
      "print_dataframe    14\n",
      "print_series        7\n",
      "dtype: int64\n"
     ]
    }
   ],
   "source": [
    "import glob\n",
    "import time\n",
    "import papermill as pm\n",
    "import pandas as pd\n",
    "import numpy as np\n",
    "import json\n",
    "count = []\n",
    "with open(\"airbnb/airbnb.ipynb\") as json_file:\n",
    "    data = json.load(json_file)\n",
    "    for cell in data['cells']:\n",
    "        label = cell[\"source\"][0]\n",
    "        cell_type = None\n",
    "        if \"# {{NO LUX}}\" in label:\n",
    "            cell_type = \"python\"\n",
    "        elif \"# {{PRINT SERIES}}\" in label:\n",
    "            cell_type = \"print_series\"\n",
    "        elif \"# {{PRINT DF}}\" in label:\n",
    "            cell_type = \"print_dataframe\"\n",
    "        count.append(cell_type)\n",
    "count = pd.Series(count)\n",
    "print(count.value_counts())"
   ]
  },
  {
   "cell_type": "code",
   "execution_count": 33,
   "metadata": {},
   "outputs": [],
   "source": [
    "trial = []\n",
    "\n",
    "for nb_name in glob.glob(\"airbnb/airbnb_*_output.ipynb\"):\n",
    "# for nb_name in glob.glob(\"airbnb/airbnb_*_*_output.ipynb\"):\n",
    "    snb = nb_name.split(\"_\")\n",
    "    if len(snb)==4:\n",
    "        _, condition, nPts, _ = nb_name.split(\"_\")\n",
    "    elif len(snb)==3:\n",
    "        condition = \"pandas\"\n",
    "        _,  nPts, _ = nb_name.split(\"_\")\n",
    "    with open(nb_name) as json_file:\n",
    "        data = json.load(json_file)\n",
    "        for cell in data['cells']:\n",
    "            label = cell[\"source\"][0]\n",
    "            cell_type = None\n",
    "            if \"# {{NO LUX}}\" in label:\n",
    "                cell_type = \"python\"\n",
    "            elif \"# {{PRINT SERIES}}\" in label:\n",
    "                cell_type = \"print_series\"\n",
    "            elif \"# {{PRINT DF}}\" in label:\n",
    "                cell_type = \"print_dataframe\"\n",
    "            duration = cell[\"metadata\"][\"papermill\"][\"duration\"]\n",
    "#             print(nb_name, cell_type, duration)\n",
    "            trial.append([condition, nPts,cell_type, duration])"
   ]
  },
  {
   "cell_type": "code",
   "execution_count": 34,
   "metadata": {},
   "outputs": [],
   "source": [
    "trial = pd.DataFrame(trial,columns=[\"condition\",\"nPts\",\"cell_type\",\"time\"])"
   ]
  },
  {
   "cell_type": "code",
   "execution_count": 35,
   "metadata": {},
   "outputs": [],
   "source": [
    "trial.to_csv(\"../../paper/airbnb_macrobenchmark.csv\",index=None)"
   ]
  },
  {
   "cell_type": "code",
   "execution_count": 5,
   "metadata": {},
   "outputs": [],
   "source": [
    "# trial.groupby(\"cell_type\").count()"
   ]
  },
  {
   "cell_type": "markdown",
   "metadata": {},
   "source": [
    "--------------"
   ]
  },
  {
   "cell_type": "code",
   "execution_count": 6,
   "metadata": {},
   "outputs": [],
   "source": [
    "import pandas as pd\n",
    "import altair as alt"
   ]
  },
  {
   "cell_type": "code",
   "execution_count": 7,
   "metadata": {},
   "outputs": [],
   "source": [
    "overall = trial.groupby(\"condition\").sum().reset_index()"
   ]
  },
  {
   "cell_type": "code",
   "execution_count": 8,
   "metadata": {},
   "outputs": [
    {
     "data": {
      "text/html": [
       "<div>\n",
       "<style scoped>\n",
       "    .dataframe tbody tr th:only-of-type {\n",
       "        vertical-align: middle;\n",
       "    }\n",
       "\n",
       "    .dataframe tbody tr th {\n",
       "        vertical-align: top;\n",
       "    }\n",
       "\n",
       "    .dataframe thead th {\n",
       "        text-align: right;\n",
       "    }\n",
       "</style>\n",
       "<table border=\"1\" class=\"dataframe\">\n",
       "  <thead>\n",
       "    <tr style=\"text-align: right;\">\n",
       "      <th></th>\n",
       "      <th>condition</th>\n",
       "      <th>time</th>\n",
       "    </tr>\n",
       "  </thead>\n",
       "  <tbody>\n",
       "    <tr>\n",
       "      <th>0</th>\n",
       "      <td>baseline</td>\n",
       "      <td>8651.522527</td>\n",
       "    </tr>\n",
       "    <tr>\n",
       "      <th>1</th>\n",
       "      <td>o1</td>\n",
       "      <td>1179.947828</td>\n",
       "    </tr>\n",
       "    <tr>\n",
       "      <th>2</th>\n",
       "      <td>o1o2</td>\n",
       "      <td>711.051617</td>\n",
       "    </tr>\n",
       "    <tr>\n",
       "      <th>3</th>\n",
       "      <td>o1o2o3</td>\n",
       "      <td>568.308264</td>\n",
       "    </tr>\n",
       "    <tr>\n",
       "      <th>4</th>\n",
       "      <td>pandas</td>\n",
       "      <td>172.361008</td>\n",
       "    </tr>\n",
       "  </tbody>\n",
       "</table>\n",
       "</div>"
      ],
      "text/plain": [
       "  condition         time\n",
       "0  baseline  8651.522527\n",
       "1        o1  1179.947828\n",
       "2      o1o2   711.051617\n",
       "3    o1o2o3   568.308264\n",
       "4    pandas   172.361008"
      ]
     },
     "execution_count": 8,
     "metadata": {},
     "output_type": "execute_result"
    }
   ],
   "source": [
    "overall"
   ]
  },
  {
   "cell_type": "code",
   "execution_count": 9,
   "metadata": {},
   "outputs": [
    {
     "data": {
      "text/html": [
       "\n",
       "<div id=\"altair-viz-4f9b3fe074f246bc93867c5f98278b42\"></div>\n",
       "<script type=\"text/javascript\">\n",
       "  (function(spec, embedOpt){\n",
       "    let outputDiv = document.currentScript.previousElementSibling;\n",
       "    if (outputDiv.id !== \"altair-viz-4f9b3fe074f246bc93867c5f98278b42\") {\n",
       "      outputDiv = document.getElementById(\"altair-viz-4f9b3fe074f246bc93867c5f98278b42\");\n",
       "    }\n",
       "    const paths = {\n",
       "      \"vega\": \"https://cdn.jsdelivr.net/npm//vega@5?noext\",\n",
       "      \"vega-lib\": \"https://cdn.jsdelivr.net/npm//vega-lib?noext\",\n",
       "      \"vega-lite\": \"https://cdn.jsdelivr.net/npm//vega-lite@4.8.1?noext\",\n",
       "      \"vega-embed\": \"https://cdn.jsdelivr.net/npm//vega-embed@6?noext\",\n",
       "    };\n",
       "\n",
       "    function loadScript(lib) {\n",
       "      return new Promise(function(resolve, reject) {\n",
       "        var s = document.createElement('script');\n",
       "        s.src = paths[lib];\n",
       "        s.async = true;\n",
       "        s.onload = () => resolve(paths[lib]);\n",
       "        s.onerror = () => reject(`Error loading script: ${paths[lib]}`);\n",
       "        document.getElementsByTagName(\"head\")[0].appendChild(s);\n",
       "      });\n",
       "    }\n",
       "\n",
       "    function showError(err) {\n",
       "      outputDiv.innerHTML = `<div class=\"error\" style=\"color:red;\">${err}</div>`;\n",
       "      throw err;\n",
       "    }\n",
       "\n",
       "    function displayChart(vegaEmbed) {\n",
       "      vegaEmbed(outputDiv, spec, embedOpt)\n",
       "        .catch(err => showError(`Javascript Error: ${err.message}<br>This usually means there's a typo in your chart specification. See the javascript console for the full traceback.`));\n",
       "    }\n",
       "\n",
       "    if(typeof define === \"function\" && define.amd) {\n",
       "      requirejs.config({paths});\n",
       "      require([\"vega-embed\"], displayChart, err => showError(`Error loading script: ${err.message}`));\n",
       "    } else if (typeof vegaEmbed === \"function\") {\n",
       "      displayChart(vegaEmbed);\n",
       "    } else {\n",
       "      loadScript(\"vega\")\n",
       "        .then(() => loadScript(\"vega-lite\"))\n",
       "        .then(() => loadScript(\"vega-embed\"))\n",
       "        .catch(showError)\n",
       "        .then(() => displayChart(vegaEmbed));\n",
       "    }\n",
       "  })({\"config\": {\"view\": {\"continuousWidth\": 400, \"continuousHeight\": 300}}, \"data\": {\"name\": \"data-358143d8cecaaa27ab2cf8c4655d35f9\"}, \"mark\": \"bar\", \"encoding\": {\"x\": {\"type\": \"nominal\", \"field\": \"condition\"}, \"y\": {\"type\": \"quantitative\", \"field\": \"time\", \"scale\": {\"type\": \"log\"}, \"title\": \"log(total time)\"}}, \"$schema\": \"https://vega.github.io/schema/vega-lite/v4.8.1.json\", \"datasets\": {\"data-358143d8cecaaa27ab2cf8c4655d35f9\": [{\"condition\": \"baseline\", \"time\": 8651.52252700001}, {\"condition\": \"o1\", \"time\": 1179.9478279999996}, {\"condition\": \"o1o2\", \"time\": 711.0516169999996}, {\"condition\": \"o1o2o3\", \"time\": 568.3082640000001}, {\"condition\": \"pandas\", \"time\": 172.36100800000003}]}}, {\"mode\": \"vega-lite\"});\n",
       "</script>"
      ],
      "text/plain": [
       "alt.Chart(...)"
      ]
     },
     "execution_count": 9,
     "metadata": {},
     "output_type": "execute_result"
    }
   ],
   "source": [
    "alt.Chart(overall).mark_bar().encode(\n",
    "    x = \"condition\",\n",
    "    y = alt.Y(\"time\",scale=alt.Scale(type='log'),title=\"log(total time)\"),\n",
    ")"
   ]
  },
  {
   "cell_type": "code",
   "execution_count": 10,
   "metadata": {},
   "outputs": [
    {
     "data": {
      "text/html": [
       "\n",
       "<div id=\"altair-viz-ed72fa4b1e9649bdbf1b63dd4a09d96e\"></div>\n",
       "<script type=\"text/javascript\">\n",
       "  (function(spec, embedOpt){\n",
       "    let outputDiv = document.currentScript.previousElementSibling;\n",
       "    if (outputDiv.id !== \"altair-viz-ed72fa4b1e9649bdbf1b63dd4a09d96e\") {\n",
       "      outputDiv = document.getElementById(\"altair-viz-ed72fa4b1e9649bdbf1b63dd4a09d96e\");\n",
       "    }\n",
       "    const paths = {\n",
       "      \"vega\": \"https://cdn.jsdelivr.net/npm//vega@5?noext\",\n",
       "      \"vega-lib\": \"https://cdn.jsdelivr.net/npm//vega-lib?noext\",\n",
       "      \"vega-lite\": \"https://cdn.jsdelivr.net/npm//vega-lite@4.8.1?noext\",\n",
       "      \"vega-embed\": \"https://cdn.jsdelivr.net/npm//vega-embed@6?noext\",\n",
       "    };\n",
       "\n",
       "    function loadScript(lib) {\n",
       "      return new Promise(function(resolve, reject) {\n",
       "        var s = document.createElement('script');\n",
       "        s.src = paths[lib];\n",
       "        s.async = true;\n",
       "        s.onload = () => resolve(paths[lib]);\n",
       "        s.onerror = () => reject(`Error loading script: ${paths[lib]}`);\n",
       "        document.getElementsByTagName(\"head\")[0].appendChild(s);\n",
       "      });\n",
       "    }\n",
       "\n",
       "    function showError(err) {\n",
       "      outputDiv.innerHTML = `<div class=\"error\" style=\"color:red;\">${err}</div>`;\n",
       "      throw err;\n",
       "    }\n",
       "\n",
       "    function displayChart(vegaEmbed) {\n",
       "      vegaEmbed(outputDiv, spec, embedOpt)\n",
       "        .catch(err => showError(`Javascript Error: ${err.message}<br>This usually means there's a typo in your chart specification. See the javascript console for the full traceback.`));\n",
       "    }\n",
       "\n",
       "    if(typeof define === \"function\" && define.amd) {\n",
       "      requirejs.config({paths});\n",
       "      require([\"vega-embed\"], displayChart, err => showError(`Error loading script: ${err.message}`));\n",
       "    } else if (typeof vegaEmbed === \"function\") {\n",
       "      displayChart(vegaEmbed);\n",
       "    } else {\n",
       "      loadScript(\"vega\")\n",
       "        .then(() => loadScript(\"vega-lite\"))\n",
       "        .then(() => loadScript(\"vega-embed\"))\n",
       "        .catch(showError)\n",
       "        .then(() => displayChart(vegaEmbed));\n",
       "    }\n",
       "  })({\"config\": {\"view\": {\"continuousWidth\": 400, \"continuousHeight\": 300}, \"title\": {\"anchor\": \"middle\", \"fontSize\": 16, \"offset\": 5, \"orient\": \"top\"}}, \"data\": {\"name\": \"data-a3690de203b0d8a1f0c18aa0c6da6ac6\"}, \"mark\": \"bar\", \"encoding\": {\"color\": {\"type\": \"nominal\", \"field\": \"condition\"}, \"column\": {\"type\": \"nominal\", \"field\": \"nPts\"}, \"tooltip\": [{\"type\": \"quantitative\", \"field\": \"time\"}], \"x\": {\"type\": \"nominal\", \"field\": \"condition\"}, \"y\": {\"type\": \"quantitative\", \"field\": \"time\", \"scale\": {\"type\": \"log\"}, \"title\": \"log(total time)\"}}, \"title\": \"Overall\", \"$schema\": \"https://vega.github.io/schema/vega-lite/v4.8.1.json\", \"datasets\": {\"data-a3690de203b0d8a1f0c18aa0c6da6ac6\": [{\"condition\": \"baseline\", \"nPts\": \"10000\", \"time\": 113.39623900000001}, {\"condition\": \"baseline\", \"nPts\": \"100000\", \"time\": 215.325051}, {\"condition\": \"baseline\", \"nPts\": \"1000000\", \"time\": 869.526752}, {\"condition\": \"baseline\", \"nPts\": \"10000000\", \"time\": 7453.274485}, {\"condition\": \"o1\", \"nPts\": \"10000\", \"time\": 51.46148999999997}, {\"condition\": \"o1\", \"nPts\": \"100000\", \"time\": 69.048892}, {\"condition\": \"o1\", \"nPts\": \"1000000\", \"time\": 167.22527199999996}, {\"condition\": \"o1\", \"nPts\": \"10000000\", \"time\": 892.2121740000002}, {\"condition\": \"o1o2\", \"nPts\": \"10000\", \"time\": 44.35601600000002}, {\"condition\": \"o1o2\", \"nPts\": \"100000\", \"time\": 72.09607799999999}, {\"condition\": \"o1o2\", \"nPts\": \"1000000\", \"time\": 97.54251499999998}, {\"condition\": \"o1o2\", \"nPts\": \"10000000\", \"time\": 497.05700800000005}, {\"condition\": \"o1o2o3\", \"nPts\": \"10000\", \"time\": 38.70266500000001}, {\"condition\": \"o1o2o3\", \"nPts\": \"100000\", \"time\": 37.71990499999998}, {\"condition\": \"o1o2o3\", \"nPts\": \"1000000\", \"time\": 71.56586600000001}, {\"condition\": \"o1o2o3\", \"nPts\": \"10000000\", \"time\": 420.3198279999999}, {\"condition\": \"pandas\", \"nPts\": \"10000\", \"time\": 29.55361800000001}, {\"condition\": \"pandas\", \"nPts\": \"100000\", \"time\": 29.751648000000014}, {\"condition\": \"pandas\", \"nPts\": \"1000000\", \"time\": 33.211530999999994}, {\"condition\": \"pandas\", \"nPts\": \"10000000\", \"time\": 79.84421099999997}]}}, {\"mode\": \"vega-lite\"});\n",
       "</script>"
      ],
      "text/plain": [
       "alt.Chart(...)"
      ]
     },
     "execution_count": 10,
     "metadata": {},
     "output_type": "execute_result"
    }
   ],
   "source": [
    "overall = trial.groupby([\"condition\",\"nPts\"]).sum().reset_index()\n",
    "chart = alt.Chart(overall,title = \"Overall\").mark_bar().encode(\n",
    "    x = \"condition\",\n",
    "    y = alt.Y(\"time\",scale=alt.Scale(type='log'),title=\"log(total time)\"),\n",
    "    column=\"nPts\",\n",
    "    color=\"condition\",\n",
    "    tooltip=[\"time\"]\n",
    ")\n",
    "chart = chart.configure_title(fontSize=16, offset=5, orient='top', anchor='middle')\n",
    "chart"
   ]
  },
  {
   "cell_type": "code",
   "execution_count": 12,
   "metadata": {},
   "outputs": [
    {
     "data": {
      "text/html": [
       "\n",
       "<div id=\"altair-viz-4c1646f597714aa9870645d1303ed2fc\"></div>\n",
       "<script type=\"text/javascript\">\n",
       "  (function(spec, embedOpt){\n",
       "    let outputDiv = document.currentScript.previousElementSibling;\n",
       "    if (outputDiv.id !== \"altair-viz-4c1646f597714aa9870645d1303ed2fc\") {\n",
       "      outputDiv = document.getElementById(\"altair-viz-4c1646f597714aa9870645d1303ed2fc\");\n",
       "    }\n",
       "    const paths = {\n",
       "      \"vega\": \"https://cdn.jsdelivr.net/npm//vega@5?noext\",\n",
       "      \"vega-lib\": \"https://cdn.jsdelivr.net/npm//vega-lib?noext\",\n",
       "      \"vega-lite\": \"https://cdn.jsdelivr.net/npm//vega-lite@4.8.1?noext\",\n",
       "      \"vega-embed\": \"https://cdn.jsdelivr.net/npm//vega-embed@6?noext\",\n",
       "    };\n",
       "\n",
       "    function loadScript(lib) {\n",
       "      return new Promise(function(resolve, reject) {\n",
       "        var s = document.createElement('script');\n",
       "        s.src = paths[lib];\n",
       "        s.async = true;\n",
       "        s.onload = () => resolve(paths[lib]);\n",
       "        s.onerror = () => reject(`Error loading script: ${paths[lib]}`);\n",
       "        document.getElementsByTagName(\"head\")[0].appendChild(s);\n",
       "      });\n",
       "    }\n",
       "\n",
       "    function showError(err) {\n",
       "      outputDiv.innerHTML = `<div class=\"error\" style=\"color:red;\">${err}</div>`;\n",
       "      throw err;\n",
       "    }\n",
       "\n",
       "    function displayChart(vegaEmbed) {\n",
       "      vegaEmbed(outputDiv, spec, embedOpt)\n",
       "        .catch(err => showError(`Javascript Error: ${err.message}<br>This usually means there's a typo in your chart specification. See the javascript console for the full traceback.`));\n",
       "    }\n",
       "\n",
       "    if(typeof define === \"function\" && define.amd) {\n",
       "      requirejs.config({paths});\n",
       "      require([\"vega-embed\"], displayChart, err => showError(`Error loading script: ${err.message}`));\n",
       "    } else if (typeof vegaEmbed === \"function\") {\n",
       "      displayChart(vegaEmbed);\n",
       "    } else {\n",
       "      loadScript(\"vega\")\n",
       "        .then(() => loadScript(\"vega-lite\"))\n",
       "        .then(() => loadScript(\"vega-embed\"))\n",
       "        .catch(showError)\n",
       "        .then(() => displayChart(vegaEmbed));\n",
       "    }\n",
       "  })({\"config\": {\"view\": {\"continuousWidth\": 400, \"continuousHeight\": 300}, \"title\": {\"anchor\": \"middle\", \"fontSize\": 16, \"offset\": 5, \"orient\": \"top\"}}, \"data\": {\"name\": \"data-69a272636d9fc8c0a7b7dfbf905c4693\"}, \"mark\": \"bar\", \"encoding\": {\"color\": {\"type\": \"nominal\", \"field\": \"condition\"}, \"column\": {\"type\": \"nominal\", \"field\": \"nPts\"}, \"x\": {\"type\": \"nominal\", \"field\": \"condition\"}, \"y\": {\"type\": \"quantitative\", \"field\": \"time\", \"scale\": {\"type\": \"log\"}, \"title\": \"log(total time)\"}}, \"title\": \"Non-Lux Python Operations\", \"$schema\": \"https://vega.github.io/schema/vega-lite/v4.8.1.json\", \"datasets\": {\"data-69a272636d9fc8c0a7b7dfbf905c4693\": [{\"condition\": \"baseline\", \"nPts\": \"10000\", \"cell_type\": \"python\", \"time\": 4.837800647058824}, {\"condition\": \"baseline\", \"nPts\": \"100000\", \"cell_type\": \"python\", \"time\": 8.761272235294118}, {\"condition\": \"baseline\", \"nPts\": \"1000000\", \"cell_type\": \"python\", \"time\": 34.633733294117654}, {\"condition\": \"baseline\", \"nPts\": \"10000000\", \"cell_type\": \"python\", \"time\": 293.2197144117647}, {\"condition\": \"o1\", \"nPts\": \"10000\", \"cell_type\": \"python\", \"time\": 1.5597128235294118}, {\"condition\": \"o1\", \"nPts\": \"100000\", \"cell_type\": \"python\", \"time\": 1.5920723529411769}, {\"condition\": \"o1\", \"nPts\": \"1000000\", \"cell_type\": \"python\", \"time\": 1.8205540588235298}, {\"condition\": \"o1\", \"nPts\": \"10000000\", \"cell_type\": \"python\", \"time\": 2.690156941176472}, {\"condition\": \"o1o2\", \"nPts\": \"10000\", \"cell_type\": \"python\", \"time\": 1.7015992352941172}, {\"condition\": \"o1o2\", \"nPts\": \"100000\", \"cell_type\": \"python\", \"time\": 2.6737501176470584}, {\"condition\": \"o1o2\", \"nPts\": \"1000000\", \"cell_type\": \"python\", \"time\": 1.788139882352941}, {\"condition\": \"o1o2\", \"nPts\": \"10000000\", \"cell_type\": \"python\", \"time\": 2.7897700000000003}, {\"condition\": \"o1o2o3\", \"nPts\": \"10000\", \"cell_type\": \"python\", \"time\": 1.893626470588235}, {\"condition\": \"o1o2o3\", \"nPts\": \"100000\", \"cell_type\": \"python\", \"time\": 1.6782235294117644}, {\"condition\": \"o1o2o3\", \"nPts\": \"1000000\", \"cell_type\": \"python\", \"time\": 1.7856803529411762}, {\"condition\": \"o1o2o3\", \"nPts\": \"10000000\", \"cell_type\": \"python\", \"time\": 2.832755529411765}, {\"condition\": \"pandas\", \"nPts\": \"10000\", \"cell_type\": \"python\", \"time\": 1.6731158823529417}, {\"condition\": \"pandas\", \"nPts\": \"100000\", \"cell_type\": \"python\", \"time\": 1.6752127058823536}, {\"condition\": \"pandas\", \"nPts\": \"1000000\", \"cell_type\": \"python\", \"time\": 1.717952882352941}, {\"condition\": \"pandas\", \"nPts\": \"10000000\", \"cell_type\": \"python\", \"time\": 2.965725352941176}]}}, {\"mode\": \"vega-lite\"});\n",
       "</script>"
      ],
      "text/plain": [
       "alt.Chart(...)"
      ]
     },
     "execution_count": 12,
     "metadata": {},
     "output_type": "execute_result"
    }
   ],
   "source": [
    "overall = trial.groupby([\"condition\",\"nPts\",\"cell_type\"]).mean().reset_index()\n",
    "pdf = overall[overall[\"cell_type\"] ==\"python\"]\n",
    "chart = alt.Chart(pdf,title = \"Non-Lux Python Operations\").mark_bar().encode(\n",
    "    x = \"condition\",\n",
    "    y = alt.Y(\"time\",scale=alt.Scale(type='log'),title=\"log(total time)\"),\n",
    "    column=\"nPts\",\n",
    "    color=\"condition\"\n",
    ")\n",
    "chart = chart.configure_title(fontSize=16, offset=5, orient='top', anchor='middle')\n",
    "chart"
   ]
  },
  {
   "cell_type": "code",
   "execution_count": 13,
   "metadata": {},
   "outputs": [
    {
     "data": {
      "text/html": [
       "\n",
       "<div id=\"altair-viz-3f2d2fe099ff42eeafd52e80bd8bc0d2\"></div>\n",
       "<script type=\"text/javascript\">\n",
       "  (function(spec, embedOpt){\n",
       "    let outputDiv = document.currentScript.previousElementSibling;\n",
       "    if (outputDiv.id !== \"altair-viz-3f2d2fe099ff42eeafd52e80bd8bc0d2\") {\n",
       "      outputDiv = document.getElementById(\"altair-viz-3f2d2fe099ff42eeafd52e80bd8bc0d2\");\n",
       "    }\n",
       "    const paths = {\n",
       "      \"vega\": \"https://cdn.jsdelivr.net/npm//vega@5?noext\",\n",
       "      \"vega-lib\": \"https://cdn.jsdelivr.net/npm//vega-lib?noext\",\n",
       "      \"vega-lite\": \"https://cdn.jsdelivr.net/npm//vega-lite@4.8.1?noext\",\n",
       "      \"vega-embed\": \"https://cdn.jsdelivr.net/npm//vega-embed@6?noext\",\n",
       "    };\n",
       "\n",
       "    function loadScript(lib) {\n",
       "      return new Promise(function(resolve, reject) {\n",
       "        var s = document.createElement('script');\n",
       "        s.src = paths[lib];\n",
       "        s.async = true;\n",
       "        s.onload = () => resolve(paths[lib]);\n",
       "        s.onerror = () => reject(`Error loading script: ${paths[lib]}`);\n",
       "        document.getElementsByTagName(\"head\")[0].appendChild(s);\n",
       "      });\n",
       "    }\n",
       "\n",
       "    function showError(err) {\n",
       "      outputDiv.innerHTML = `<div class=\"error\" style=\"color:red;\">${err}</div>`;\n",
       "      throw err;\n",
       "    }\n",
       "\n",
       "    function displayChart(vegaEmbed) {\n",
       "      vegaEmbed(outputDiv, spec, embedOpt)\n",
       "        .catch(err => showError(`Javascript Error: ${err.message}<br>This usually means there's a typo in your chart specification. See the javascript console for the full traceback.`));\n",
       "    }\n",
       "\n",
       "    if(typeof define === \"function\" && define.amd) {\n",
       "      requirejs.config({paths});\n",
       "      require([\"vega-embed\"], displayChart, err => showError(`Error loading script: ${err.message}`));\n",
       "    } else if (typeof vegaEmbed === \"function\") {\n",
       "      displayChart(vegaEmbed);\n",
       "    } else {\n",
       "      loadScript(\"vega\")\n",
       "        .then(() => loadScript(\"vega-lite\"))\n",
       "        .then(() => loadScript(\"vega-embed\"))\n",
       "        .catch(showError)\n",
       "        .then(() => displayChart(vegaEmbed));\n",
       "    }\n",
       "  })({\"config\": {\"view\": {\"continuousWidth\": 400, \"continuousHeight\": 300}, \"title\": {\"anchor\": \"middle\", \"fontSize\": 16, \"offset\": 5, \"orient\": \"top\"}}, \"data\": {\"name\": \"data-83c7cba3d2ec2245ebce3efa4cc8aeeb\"}, \"mark\": \"bar\", \"encoding\": {\"color\": {\"type\": \"nominal\", \"field\": \"condition\"}, \"column\": {\"type\": \"nominal\", \"field\": \"nPts\"}, \"tooltip\": [{\"type\": \"quantitative\", \"field\": \"time\"}], \"x\": {\"type\": \"nominal\", \"field\": \"condition\"}, \"y\": {\"type\": \"quantitative\", \"field\": \"time\", \"scale\": {\"type\": \"log\"}, \"title\": \"log(total time)\"}}, \"title\": \"Print Series\", \"$schema\": \"https://vega.github.io/schema/vega-lite/v4.8.1.json\", \"datasets\": {\"data-83c7cba3d2ec2245ebce3efa4cc8aeeb\": [{\"condition\": \"baseline\", \"nPts\": \"10000\", \"cell_type\": \"print_series\", \"time\": 0.114121}, {\"condition\": \"baseline\", \"nPts\": \"100000\", \"cell_type\": \"print_series\", \"time\": 0.21239557142857143}, {\"condition\": \"baseline\", \"nPts\": \"1000000\", \"cell_type\": \"print_series\", \"time\": 1.0430601428571429}, {\"condition\": \"baseline\", \"nPts\": \"10000000\", \"cell_type\": \"print_series\", \"time\": 10.385119571428573}, {\"condition\": \"o1\", \"nPts\": \"10000\", \"cell_type\": \"print_series\", \"time\": 0.10305914285714286}, {\"condition\": \"o1\", \"nPts\": \"100000\", \"cell_type\": \"print_series\", \"time\": 0.14730342857142859}, {\"condition\": \"o1\", \"nPts\": \"1000000\", \"cell_type\": \"print_series\", \"time\": 0.6867958571428571}, {\"condition\": \"o1\", \"nPts\": \"10000000\", \"cell_type\": \"print_series\", \"time\": 5.398452857142857}, {\"condition\": \"o1o2\", \"nPts\": \"10000\", \"cell_type\": \"print_series\", \"time\": 0.11051257142857143}, {\"condition\": \"o1o2\", \"nPts\": \"100000\", \"cell_type\": \"print_series\", \"time\": 0.16787228571428572}, {\"condition\": \"o1o2\", \"nPts\": \"1000000\", \"cell_type\": \"print_series\", \"time\": 0.7382727142857143}, {\"condition\": \"o1o2\", \"nPts\": \"10000000\", \"cell_type\": \"print_series\", \"time\": 5.6534577142857145}, {\"condition\": \"o1o2o3\", \"nPts\": \"10000\", \"cell_type\": \"print_series\", \"time\": 0.139026}, {\"condition\": \"o1o2o3\", \"nPts\": \"100000\", \"cell_type\": \"print_series\", \"time\": 0.143157}, {\"condition\": \"o1o2o3\", \"nPts\": \"1000000\", \"cell_type\": \"print_series\", \"time\": 0.6538965714285715}, {\"condition\": \"o1o2o3\", \"nPts\": \"10000000\", \"cell_type\": \"print_series\", \"time\": 5.455682714285714}, {\"condition\": \"pandas\", \"nPts\": \"10000\", \"cell_type\": \"print_series\", \"time\": 0.05949828571428572}, {\"condition\": \"pandas\", \"nPts\": \"100000\", \"cell_type\": \"print_series\", \"time\": 0.08230914285714286}, {\"condition\": \"pandas\", \"nPts\": \"1000000\", \"cell_type\": \"print_series\", \"time\": 0.47156642857142855}, {\"condition\": \"pandas\", \"nPts\": \"10000000\", \"cell_type\": \"print_series\", \"time\": 4.086945}]}}, {\"mode\": \"vega-lite\"});\n",
       "</script>"
      ],
      "text/plain": [
       "alt.Chart(...)"
      ]
     },
     "execution_count": 13,
     "metadata": {},
     "output_type": "execute_result"
    }
   ],
   "source": [
    "overall = trial.groupby([\"condition\",\"nPts\",\"cell_type\"]).mean().reset_index()\n",
    "pdf = overall[overall[\"cell_type\"] ==\"print_series\"]\n",
    "chart = alt.Chart(pdf,title = \"Print Series\").mark_bar().encode(\n",
    "    x = \"condition\",\n",
    "    y = alt.Y(\"time\",scale=alt.Scale(type='log'),title=\"log(total time)\"),\n",
    "    column=\"nPts\",\n",
    "    color=\"condition\",\n",
    "    tooltip=[\"time\"]\n",
    ")\n",
    "chart = chart.configure_title(fontSize=16, offset=5, orient='top', anchor='middle')\n",
    "chart"
   ]
  },
  {
   "cell_type": "code",
   "execution_count": 14,
   "metadata": {},
   "outputs": [
    {
     "data": {
      "text/html": [
       "\n",
       "<div id=\"altair-viz-167026cab082417580e7eb94bf19a1fa\"></div>\n",
       "<script type=\"text/javascript\">\n",
       "  (function(spec, embedOpt){\n",
       "    let outputDiv = document.currentScript.previousElementSibling;\n",
       "    if (outputDiv.id !== \"altair-viz-167026cab082417580e7eb94bf19a1fa\") {\n",
       "      outputDiv = document.getElementById(\"altair-viz-167026cab082417580e7eb94bf19a1fa\");\n",
       "    }\n",
       "    const paths = {\n",
       "      \"vega\": \"https://cdn.jsdelivr.net/npm//vega@5?noext\",\n",
       "      \"vega-lib\": \"https://cdn.jsdelivr.net/npm//vega-lib?noext\",\n",
       "      \"vega-lite\": \"https://cdn.jsdelivr.net/npm//vega-lite@4.8.1?noext\",\n",
       "      \"vega-embed\": \"https://cdn.jsdelivr.net/npm//vega-embed@6?noext\",\n",
       "    };\n",
       "\n",
       "    function loadScript(lib) {\n",
       "      return new Promise(function(resolve, reject) {\n",
       "        var s = document.createElement('script');\n",
       "        s.src = paths[lib];\n",
       "        s.async = true;\n",
       "        s.onload = () => resolve(paths[lib]);\n",
       "        s.onerror = () => reject(`Error loading script: ${paths[lib]}`);\n",
       "        document.getElementsByTagName(\"head\")[0].appendChild(s);\n",
       "      });\n",
       "    }\n",
       "\n",
       "    function showError(err) {\n",
       "      outputDiv.innerHTML = `<div class=\"error\" style=\"color:red;\">${err}</div>`;\n",
       "      throw err;\n",
       "    }\n",
       "\n",
       "    function displayChart(vegaEmbed) {\n",
       "      vegaEmbed(outputDiv, spec, embedOpt)\n",
       "        .catch(err => showError(`Javascript Error: ${err.message}<br>This usually means there's a typo in your chart specification. See the javascript console for the full traceback.`));\n",
       "    }\n",
       "\n",
       "    if(typeof define === \"function\" && define.amd) {\n",
       "      requirejs.config({paths});\n",
       "      require([\"vega-embed\"], displayChart, err => showError(`Error loading script: ${err.message}`));\n",
       "    } else if (typeof vegaEmbed === \"function\") {\n",
       "      displayChart(vegaEmbed);\n",
       "    } else {\n",
       "      loadScript(\"vega\")\n",
       "        .then(() => loadScript(\"vega-lite\"))\n",
       "        .then(() => loadScript(\"vega-embed\"))\n",
       "        .catch(showError)\n",
       "        .then(() => displayChart(vegaEmbed));\n",
       "    }\n",
       "  })({\"config\": {\"view\": {\"continuousWidth\": 400, \"continuousHeight\": 300}, \"title\": {\"anchor\": \"middle\", \"fontSize\": 16, \"offset\": 5, \"orient\": \"top\"}}, \"data\": {\"name\": \"data-4e37ad352928da52b146cc0fe5dd04cb\"}, \"mark\": \"bar\", \"encoding\": {\"color\": {\"type\": \"nominal\", \"field\": \"condition\"}, \"column\": {\"type\": \"nominal\", \"field\": \"nPts\"}, \"tooltip\": [{\"type\": \"quantitative\", \"field\": \"time\"}], \"x\": {\"type\": \"nominal\", \"field\": \"condition\"}, \"y\": {\"type\": \"quantitative\", \"field\": \"time\", \"scale\": {\"type\": \"log\"}, \"title\": \"log(total time)\"}}, \"title\": \"Print Dataframe\", \"$schema\": \"https://vega.github.io/schema/vega-lite/v4.8.1.json\", \"datasets\": {\"data-4e37ad352928da52b146cc0fe5dd04cb\": [{\"condition\": \"baseline\", \"nPts\": \"10000\", \"cell_type\": \"print_dataframe\", \"time\": 2.0925775714285715}, {\"condition\": \"baseline\", \"nPts\": \"100000\", \"cell_type\": \"print_dataframe\", \"time\": 4.560398214285715}, {\"condition\": \"baseline\", \"nPts\": \"1000000\", \"cell_type\": \"print_dataframe\", \"time\": 19.46029342857143}, {\"condition\": \"baseline\", \"nPts\": \"10000000\", \"cell_type\": \"print_dataframe\", \"time\": 171.062848}, {\"condition\": \"o1\", \"nPts\": \"10000\", \"cell_type\": \"print_dataframe\", \"time\": 1.6487685714285718}, {\"condition\": \"o1\", \"nPts\": \"100000\", \"cell_type\": \"print_dataframe\", \"time\": 2.8713929285714284}, {\"condition\": \"o1\", \"nPts\": \"1000000\", \"cell_type\": \"print_dataframe\", \"time\": 9.334235428571427}, {\"condition\": \"o1\", \"nPts\": \"10000000\", \"cell_type\": \"print_dataframe\", \"time\": 57.71680714285715}, {\"condition\": \"o1o2\", \"nPts\": \"10000\", \"cell_type\": \"print_dataframe\", \"time\": 0.9915747857142857}, {\"condition\": \"o1o2\", \"nPts\": \"100000\", \"cell_type\": \"print_dataframe\", \"time\": 1.719431714285714}, {\"condition\": \"o1o2\", \"nPts\": \"1000000\", \"cell_type\": \"print_dataframe\", \"time\": 4.354637214285715}, {\"condition\": \"o1o2\", \"nPts\": \"10000000\", \"cell_type\": \"print_dataframe\", \"time\": 29.217394785714287}, {\"condition\": \"o1o2o3\", \"nPts\": \"10000\", \"cell_type\": \"print_dataframe\", \"time\": 0.34396185714285715}, {\"condition\": \"o1o2o3\", \"nPts\": \"100000\", \"cell_type\": \"print_dataframe\", \"time\": 0.5111593571428571}, {\"condition\": \"o1o2o3\", \"nPts\": \"1000000\", \"cell_type\": \"print_dataframe\", \"time\": 2.5391247142857147}, {\"condition\": \"o1o2o3\", \"nPts\": \"10000000\", \"cell_type\": \"print_dataframe\", \"time\": 23.78347678571428}, {\"condition\": \"pandas\", \"nPts\": \"10000\", \"cell_type\": \"print_dataframe\", \"time\": 0.044312928571428566}, {\"condition\": \"pandas\", \"nPts\": \"100000\", \"cell_type\": \"print_dataframe\", \"time\": 0.044166642857142856}, {\"condition\": \"pandas\", \"nPts\": \"1000000\", \"cell_type\": \"print_dataframe\", \"time\": 0.0450655}, {\"condition\": \"pandas\", \"nPts\": \"10000000\", \"cell_type\": \"print_dataframe\", \"time\": 0.05315000000000001}]}}, {\"mode\": \"vega-lite\"});\n",
       "</script>"
      ],
      "text/plain": [
       "alt.Chart(...)"
      ]
     },
     "execution_count": 14,
     "metadata": {},
     "output_type": "execute_result"
    }
   ],
   "source": [
    "overall = trial.groupby([\"condition\",\"nPts\",\"cell_type\"]).mean().reset_index()\n",
    "pdf = overall[overall[\"cell_type\"] ==\"print_dataframe\"]\n",
    "chart = alt.Chart(pdf,title = \"Print Dataframe\").mark_bar().encode(\n",
    "    x = \"condition\",\n",
    "    y = alt.Y(\"time\",scale=alt.Scale(type='log'),title=\"log(total time)\"),\n",
    "    column=\"nPts\",\n",
    "    color=\"condition\",\n",
    "    tooltip=[\"time\"]\n",
    ")\n",
    "chart = chart.configure_title(fontSize=16, offset=5, orient='top', anchor='middle')\n",
    "chart"
   ]
  },
  {
   "cell_type": "markdown",
   "metadata": {},
   "source": [
    "------------"
   ]
  },
  {
   "cell_type": "markdown",
   "metadata": {},
   "source": [
    "### Communities post processing"
   ]
  },
  {
   "cell_type": "code",
   "execution_count": 65,
   "metadata": {},
   "outputs": [
    {
     "name": "stdout",
     "output_type": "stream",
     "text": [
      "python             30\n",
      "print_dataframe    14\n",
      "print_series        4\n",
      "dtype: int64\n"
     ]
    }
   ],
   "source": [
    "count = []\n",
    "with open(\"communities/communities.ipynb\") as json_file:\n",
    "    data = json.load(json_file)\n",
    "    for cell in data['cells']:\n",
    "        label = cell[\"source\"][0]\n",
    "        cell_type = None\n",
    "        if \"# {{NO LUX}}\" in label:\n",
    "            cell_type = \"python\"\n",
    "        elif \"# {{PRINT SERIES}}\" in label:\n",
    "            cell_type = \"print_series\"\n",
    "        elif \"# {{PRINT DF}}\" in label:\n",
    "            cell_type = \"print_dataframe\"\n",
    "        count.append(cell_type)\n",
    "count = pd.Series(count)\n",
    "print(count.value_counts())"
   ]
  },
  {
   "cell_type": "code",
   "execution_count": 66,
   "metadata": {},
   "outputs": [],
   "source": [
    "import glob\n",
    "import time\n",
    "import papermill as pm\n",
    "import pandas as pd\n",
    "import numpy as np\n",
    "import json\n",
    "trial = []\n",
    "\n",
    "for nb_name in glob.glob(\"communities/communities_*_output.ipynb\"):\n",
    "# for nb_name in glob.glob(\"airbnb/airbnb_*_*_output.ipynb\"):\n",
    "    snb = nb_name.split(\"_\")\n",
    "    if len(snb)==4:\n",
    "        _, condition, nPts, _ = nb_name.split(\"_\")\n",
    "    elif len(snb)==3:\n",
    "        condition = \"pandas\"\n",
    "        _,  nPts, _ = nb_name.split(\"_\")\n",
    "    with open(nb_name) as json_file:\n",
    "        data = json.load(json_file)\n",
    "        for cell in data['cells']:\n",
    "            label = cell[\"source\"][0]\n",
    "            cell_type = None\n",
    "            if \"# {{NO LUX}}\" in label:\n",
    "                cell_type = \"python\"\n",
    "            elif \"# {{PRINT SERIES}}\" in label:\n",
    "                cell_type = \"print_series\"\n",
    "            elif \"# {{PRINT DF}}\" in label:\n",
    "                cell_type = \"print_dataframe\"\n",
    "            duration = cell[\"metadata\"][\"papermill\"][\"duration\"]\n",
    "#             print(nb_name, cell_type, duration)\n",
    "            trial.append([condition, nPts,cell_type, duration])\n",
    "\n",
    "trial = pd.DataFrame(trial,columns=[\"condition\",\"nPts\",\"cell_type\",\"time\"])"
   ]
  },
  {
   "cell_type": "code",
   "execution_count": 67,
   "metadata": {},
   "outputs": [],
   "source": [
    "trial.to_csv(\"../../paper/communities_macrobenchmark.csv\",index=None)"
   ]
  },
  {
   "cell_type": "code",
   "execution_count": 22,
   "metadata": {},
   "outputs": [
    {
     "data": {
      "text/html": [
       "\n",
       "<div id=\"altair-viz-b5aa03da94094236b5461d3a8c1e8ba8\"></div>\n",
       "<script type=\"text/javascript\">\n",
       "  (function(spec, embedOpt){\n",
       "    let outputDiv = document.currentScript.previousElementSibling;\n",
       "    if (outputDiv.id !== \"altair-viz-b5aa03da94094236b5461d3a8c1e8ba8\") {\n",
       "      outputDiv = document.getElementById(\"altair-viz-b5aa03da94094236b5461d3a8c1e8ba8\");\n",
       "    }\n",
       "    const paths = {\n",
       "      \"vega\": \"https://cdn.jsdelivr.net/npm//vega@5?noext\",\n",
       "      \"vega-lib\": \"https://cdn.jsdelivr.net/npm//vega-lib?noext\",\n",
       "      \"vega-lite\": \"https://cdn.jsdelivr.net/npm//vega-lite@4.8.1?noext\",\n",
       "      \"vega-embed\": \"https://cdn.jsdelivr.net/npm//vega-embed@6?noext\",\n",
       "    };\n",
       "\n",
       "    function loadScript(lib) {\n",
       "      return new Promise(function(resolve, reject) {\n",
       "        var s = document.createElement('script');\n",
       "        s.src = paths[lib];\n",
       "        s.async = true;\n",
       "        s.onload = () => resolve(paths[lib]);\n",
       "        s.onerror = () => reject(`Error loading script: ${paths[lib]}`);\n",
       "        document.getElementsByTagName(\"head\")[0].appendChild(s);\n",
       "      });\n",
       "    }\n",
       "\n",
       "    function showError(err) {\n",
       "      outputDiv.innerHTML = `<div class=\"error\" style=\"color:red;\">${err}</div>`;\n",
       "      throw err;\n",
       "    }\n",
       "\n",
       "    function displayChart(vegaEmbed) {\n",
       "      vegaEmbed(outputDiv, spec, embedOpt)\n",
       "        .catch(err => showError(`Javascript Error: ${err.message}<br>This usually means there's a typo in your chart specification. See the javascript console for the full traceback.`));\n",
       "    }\n",
       "\n",
       "    if(typeof define === \"function\" && define.amd) {\n",
       "      requirejs.config({paths});\n",
       "      require([\"vega-embed\"], displayChart, err => showError(`Error loading script: ${err.message}`));\n",
       "    } else if (typeof vegaEmbed === \"function\") {\n",
       "      displayChart(vegaEmbed);\n",
       "    } else {\n",
       "      loadScript(\"vega\")\n",
       "        .then(() => loadScript(\"vega-lite\"))\n",
       "        .then(() => loadScript(\"vega-embed\"))\n",
       "        .catch(showError)\n",
       "        .then(() => displayChart(vegaEmbed));\n",
       "    }\n",
       "  })({\"config\": {\"view\": {\"continuousWidth\": 400, \"continuousHeight\": 300}, \"title\": {\"anchor\": \"middle\", \"fontSize\": 16, \"offset\": 5, \"orient\": \"top\"}}, \"data\": {\"name\": \"data-a03c36ebcd11de33f56804f3e64fdd29\"}, \"mark\": \"bar\", \"encoding\": {\"color\": {\"type\": \"nominal\", \"field\": \"condition\"}, \"column\": {\"type\": \"nominal\", \"field\": \"nPts\"}, \"tooltip\": [{\"type\": \"quantitative\", \"field\": \"time\"}], \"x\": {\"type\": \"nominal\", \"field\": \"condition\"}, \"y\": {\"type\": \"quantitative\", \"field\": \"time\", \"scale\": {\"type\": \"log\"}, \"title\": \"log(total time)\"}}, \"title\": \"Overall\", \"$schema\": \"https://vega.github.io/schema/vega-lite/v4.8.1.json\", \"datasets\": {\"data-a03c36ebcd11de33f56804f3e64fdd29\": [{\"condition\": \"baseline\", \"nPts\": \"100\", \"time\": 3051.7312560000005}, {\"condition\": \"baseline\", \"nPts\": \"1000\", \"time\": 2912.189566}, {\"condition\": \"baseline\", \"nPts\": \"10000\", \"time\": 13939.085929000006}, {\"condition\": \"baseline\", \"nPts\": \"100000\", \"time\": 18438.295636000003}, {\"condition\": \"o1\", \"nPts\": \"100\", \"time\": 1150.3307900000002}, {\"condition\": \"o1\", \"nPts\": \"1000\", \"time\": 1052.11275}, {\"condition\": \"o1\", \"nPts\": \"10000\", \"time\": 4108.380406000001}, {\"condition\": \"o1\", \"nPts\": \"100000\", \"time\": 6932.437011}, {\"condition\": \"o1o2\", \"nPts\": \"100\", \"time\": 1042.2026520000006}, {\"condition\": \"o1o2\", \"nPts\": \"1000\", \"time\": 934.6349879999999}, {\"condition\": \"o1o2\", \"nPts\": \"10000\", \"time\": 1186.0351819999998}, {\"condition\": \"o1o2\", \"nPts\": \"100000\", \"time\": 3147.307025}, {\"condition\": \"o1o2o3\", \"nPts\": \"100\", \"time\": 22.830042}, {\"condition\": \"o1o2o3\", \"nPts\": \"1000\", \"time\": 23.850692}, {\"condition\": \"o1o2o3\", \"nPts\": \"10000\", \"time\": 52.245727}, {\"condition\": \"o1o2o3\", \"nPts\": \"100000\", \"time\": 2342.5809990000002}, {\"condition\": \"pandas\", \"nPts\": \"100\", \"time\": 8.573481000000001}, {\"condition\": \"pandas\", \"nPts\": \"1000\", \"time\": 10.336834000000001}, {\"condition\": \"pandas\", \"nPts\": \"10000\", \"time\": 34.551187}, {\"condition\": \"pandas\", \"nPts\": \"100000\", \"time\": 2513.18872}]}}, {\"mode\": \"vega-lite\"});\n",
       "</script>"
      ],
      "text/plain": [
       "alt.Chart(...)"
      ]
     },
     "execution_count": 22,
     "metadata": {},
     "output_type": "execute_result"
    }
   ],
   "source": [
    "overall = trial.groupby([\"condition\",\"nPts\"]).sum().reset_index()\n",
    "overall=overall[overall[\"time\"]!=0]\n",
    "chart = alt.Chart(overall,title = \"Overall\").mark_bar().encode(\n",
    "    x = \"condition\",\n",
    "    y = alt.Y(\"time\",scale=alt.Scale(type='log'),title=\"log(total time)\"),\n",
    "    column=\"nPts\",\n",
    "    color=\"condition\",\n",
    "    tooltip=[\"time\"]\n",
    ")\n",
    "chart = chart.configure_title(fontSize=16, offset=5, orient='top', anchor='middle')\n",
    "chart"
   ]
  },
  {
   "cell_type": "code",
   "execution_count": 23,
   "metadata": {},
   "outputs": [
    {
     "data": {
      "text/html": [
       "\n",
       "<div id=\"altair-viz-0274573c3e2d4ee6b609757cd765bb3a\"></div>\n",
       "<script type=\"text/javascript\">\n",
       "  (function(spec, embedOpt){\n",
       "    let outputDiv = document.currentScript.previousElementSibling;\n",
       "    if (outputDiv.id !== \"altair-viz-0274573c3e2d4ee6b609757cd765bb3a\") {\n",
       "      outputDiv = document.getElementById(\"altair-viz-0274573c3e2d4ee6b609757cd765bb3a\");\n",
       "    }\n",
       "    const paths = {\n",
       "      \"vega\": \"https://cdn.jsdelivr.net/npm//vega@5?noext\",\n",
       "      \"vega-lib\": \"https://cdn.jsdelivr.net/npm//vega-lib?noext\",\n",
       "      \"vega-lite\": \"https://cdn.jsdelivr.net/npm//vega-lite@4.8.1?noext\",\n",
       "      \"vega-embed\": \"https://cdn.jsdelivr.net/npm//vega-embed@6?noext\",\n",
       "    };\n",
       "\n",
       "    function loadScript(lib) {\n",
       "      return new Promise(function(resolve, reject) {\n",
       "        var s = document.createElement('script');\n",
       "        s.src = paths[lib];\n",
       "        s.async = true;\n",
       "        s.onload = () => resolve(paths[lib]);\n",
       "        s.onerror = () => reject(`Error loading script: ${paths[lib]}`);\n",
       "        document.getElementsByTagName(\"head\")[0].appendChild(s);\n",
       "      });\n",
       "    }\n",
       "\n",
       "    function showError(err) {\n",
       "      outputDiv.innerHTML = `<div class=\"error\" style=\"color:red;\">${err}</div>`;\n",
       "      throw err;\n",
       "    }\n",
       "\n",
       "    function displayChart(vegaEmbed) {\n",
       "      vegaEmbed(outputDiv, spec, embedOpt)\n",
       "        .catch(err => showError(`Javascript Error: ${err.message}<br>This usually means there's a typo in your chart specification. See the javascript console for the full traceback.`));\n",
       "    }\n",
       "\n",
       "    if(typeof define === \"function\" && define.amd) {\n",
       "      requirejs.config({paths});\n",
       "      require([\"vega-embed\"], displayChart, err => showError(`Error loading script: ${err.message}`));\n",
       "    } else if (typeof vegaEmbed === \"function\") {\n",
       "      displayChart(vegaEmbed);\n",
       "    } else {\n",
       "      loadScript(\"vega\")\n",
       "        .then(() => loadScript(\"vega-lite\"))\n",
       "        .then(() => loadScript(\"vega-embed\"))\n",
       "        .catch(showError)\n",
       "        .then(() => displayChart(vegaEmbed));\n",
       "    }\n",
       "  })({\"config\": {\"view\": {\"continuousWidth\": 400, \"continuousHeight\": 300}, \"title\": {\"anchor\": \"middle\", \"fontSize\": 16, \"offset\": 5, \"orient\": \"top\"}}, \"data\": {\"name\": \"data-63389072d5f9460a448cce1d3a2895de\"}, \"mark\": \"bar\", \"encoding\": {\"color\": {\"type\": \"nominal\", \"field\": \"condition\"}, \"column\": {\"type\": \"nominal\", \"field\": \"nPts\"}, \"x\": {\"type\": \"nominal\", \"field\": \"condition\"}, \"y\": {\"type\": \"quantitative\", \"field\": \"time\", \"scale\": {\"type\": \"log\"}, \"title\": \"log(total time)\"}}, \"title\": \"Non-Lux Python Operations\", \"$schema\": \"https://vega.github.io/schema/vega-lite/v4.8.1.json\", \"datasets\": {\"data-63389072d5f9460a448cce1d3a2895de\": [{\"condition\": \"baseline\", \"nPts\": \"100\", \"cell_type\": \"python\", \"time\": 57.5379425}, {\"condition\": \"baseline\", \"nPts\": \"1000\", \"cell_type\": \"python\", \"time\": 54.178789800000004}, {\"condition\": \"baseline\", \"nPts\": \"10000\", \"cell_type\": \"python\", \"time\": 270.24098523333333}, {\"condition\": \"baseline\", \"nPts\": \"100000\", \"cell_type\": \"python\", \"time\": 391.47726006666676}, {\"condition\": \"o1\", \"nPts\": \"100\", \"cell_type\": \"python\", \"time\": 0.2549958}, {\"condition\": \"o1\", \"nPts\": \"1000\", \"cell_type\": \"python\", \"time\": 0.28356923333333334}, {\"condition\": \"o1\", \"nPts\": \"10000\", \"cell_type\": \"python\", \"time\": 1.0712342666666665}, {\"condition\": \"o1\", \"nPts\": \"100000\", \"cell_type\": \"python\", \"time\": 73.15493386666665}, {\"condition\": \"o1o2\", \"nPts\": \"100\", \"cell_type\": \"python\", \"time\": 0.2283490333333333}, {\"condition\": \"o1o2\", \"nPts\": \"1000\", \"cell_type\": \"python\", \"time\": 0.28597963333333337}, {\"condition\": \"o1o2\", \"nPts\": \"10000\", \"cell_type\": \"python\", \"time\": 1.3360588666666666}, {\"condition\": \"o1o2\", \"nPts\": \"100000\", \"cell_type\": \"python\", \"time\": 70.41857479999999}, {\"condition\": \"o1o2o3\", \"nPts\": \"100\", \"cell_type\": \"python\", \"time\": 0.23738219999999996}, {\"condition\": \"o1o2o3\", \"nPts\": \"1000\", \"cell_type\": \"python\", \"time\": 0.2926970333333333}, {\"condition\": \"o1o2o3\", \"nPts\": \"10000\", \"cell_type\": \"python\", \"time\": 1.1765441999999997}, {\"condition\": \"o1o2o3\", \"nPts\": \"100000\", \"cell_type\": \"python\", \"time\": 77.45756753333333}, {\"condition\": \"pandas\", \"nPts\": \"100\", \"cell_type\": \"python\", \"time\": 0.24410050000000005}, {\"condition\": \"pandas\", \"nPts\": \"1000\", \"cell_type\": \"python\", \"time\": 0.3050648}, {\"condition\": \"pandas\", \"nPts\": \"10000\", \"cell_type\": \"python\", \"time\": 1.1121905}, {\"condition\": \"pandas\", \"nPts\": \"100000\", \"cell_type\": \"python\", \"time\": 83.71184553333335}]}}, {\"mode\": \"vega-lite\"});\n",
       "</script>"
      ],
      "text/plain": [
       "alt.Chart(...)"
      ]
     },
     "execution_count": 23,
     "metadata": {},
     "output_type": "execute_result"
    }
   ],
   "source": [
    "overall = trial.groupby([\"condition\",\"nPts\",\"cell_type\"]).mean().reset_index()\n",
    "pdf = overall[overall[\"cell_type\"] ==\"python\"]\n",
    "chart = alt.Chart(pdf,title = \"Non-Lux Python Operations\").mark_bar().encode(\n",
    "    x = \"condition\",\n",
    "    y = alt.Y(\"time\",scale=alt.Scale(type='log'),title=\"log(total time)\"),\n",
    "    column=\"nPts\",\n",
    "    color=\"condition\"\n",
    ")\n",
    "chart = chart.configure_title(fontSize=16, offset=5, orient='top', anchor='middle')\n",
    "chart"
   ]
  },
  {
   "cell_type": "code",
   "execution_count": 24,
   "metadata": {},
   "outputs": [
    {
     "data": {
      "text/html": [
       "\n",
       "<div id=\"altair-viz-bc5a1b0fe9004c7094d0d6df60945c48\"></div>\n",
       "<script type=\"text/javascript\">\n",
       "  (function(spec, embedOpt){\n",
       "    let outputDiv = document.currentScript.previousElementSibling;\n",
       "    if (outputDiv.id !== \"altair-viz-bc5a1b0fe9004c7094d0d6df60945c48\") {\n",
       "      outputDiv = document.getElementById(\"altair-viz-bc5a1b0fe9004c7094d0d6df60945c48\");\n",
       "    }\n",
       "    const paths = {\n",
       "      \"vega\": \"https://cdn.jsdelivr.net/npm//vega@5?noext\",\n",
       "      \"vega-lib\": \"https://cdn.jsdelivr.net/npm//vega-lib?noext\",\n",
       "      \"vega-lite\": \"https://cdn.jsdelivr.net/npm//vega-lite@4.8.1?noext\",\n",
       "      \"vega-embed\": \"https://cdn.jsdelivr.net/npm//vega-embed@6?noext\",\n",
       "    };\n",
       "\n",
       "    function loadScript(lib) {\n",
       "      return new Promise(function(resolve, reject) {\n",
       "        var s = document.createElement('script');\n",
       "        s.src = paths[lib];\n",
       "        s.async = true;\n",
       "        s.onload = () => resolve(paths[lib]);\n",
       "        s.onerror = () => reject(`Error loading script: ${paths[lib]}`);\n",
       "        document.getElementsByTagName(\"head\")[0].appendChild(s);\n",
       "      });\n",
       "    }\n",
       "\n",
       "    function showError(err) {\n",
       "      outputDiv.innerHTML = `<div class=\"error\" style=\"color:red;\">${err}</div>`;\n",
       "      throw err;\n",
       "    }\n",
       "\n",
       "    function displayChart(vegaEmbed) {\n",
       "      vegaEmbed(outputDiv, spec, embedOpt)\n",
       "        .catch(err => showError(`Javascript Error: ${err.message}<br>This usually means there's a typo in your chart specification. See the javascript console for the full traceback.`));\n",
       "    }\n",
       "\n",
       "    if(typeof define === \"function\" && define.amd) {\n",
       "      requirejs.config({paths});\n",
       "      require([\"vega-embed\"], displayChart, err => showError(`Error loading script: ${err.message}`));\n",
       "    } else if (typeof vegaEmbed === \"function\") {\n",
       "      displayChart(vegaEmbed);\n",
       "    } else {\n",
       "      loadScript(\"vega\")\n",
       "        .then(() => loadScript(\"vega-lite\"))\n",
       "        .then(() => loadScript(\"vega-embed\"))\n",
       "        .catch(showError)\n",
       "        .then(() => displayChart(vegaEmbed));\n",
       "    }\n",
       "  })({\"config\": {\"view\": {\"continuousWidth\": 400, \"continuousHeight\": 300}, \"title\": {\"anchor\": \"middle\", \"fontSize\": 16, \"offset\": 5, \"orient\": \"top\"}}, \"data\": {\"name\": \"data-c4a94242db696f49094b2378be4c5d5d\"}, \"mark\": \"bar\", \"encoding\": {\"color\": {\"type\": \"nominal\", \"field\": \"condition\"}, \"column\": {\"type\": \"nominal\", \"field\": \"nPts\"}, \"tooltip\": [{\"type\": \"quantitative\", \"field\": \"time\"}], \"x\": {\"type\": \"nominal\", \"field\": \"condition\"}, \"y\": {\"type\": \"quantitative\", \"field\": \"time\", \"scale\": {\"type\": \"log\"}, \"title\": \"log(total time)\"}}, \"selection\": {\"selector001\": {\"type\": \"interval\", \"bind\": \"scales\", \"encodings\": [\"x\", \"y\"]}}, \"title\": \"Print Series\", \"$schema\": \"https://vega.github.io/schema/vega-lite/v4.8.1.json\", \"datasets\": {\"data-c4a94242db696f49094b2378be4c5d5d\": [{\"condition\": \"baseline\", \"nPts\": \"100\", \"cell_type\": \"print_series\", \"time\": 0.08809149999999999}, {\"condition\": \"baseline\", \"nPts\": \"1000\", \"cell_type\": \"print_series\", \"time\": 0.09665175000000001}, {\"condition\": \"baseline\", \"nPts\": \"10000\", \"cell_type\": \"print_series\", \"time\": 0.09548275}, {\"condition\": \"baseline\", \"nPts\": \"100000\", \"cell_type\": \"print_series\", \"time\": 0.12680275}, {\"condition\": \"o1\", \"nPts\": \"100\", \"cell_type\": \"print_series\", \"time\": 0.097861}, {\"condition\": \"o1\", \"nPts\": \"1000\", \"cell_type\": \"print_series\", \"time\": 0.08776125}, {\"condition\": \"o1\", \"nPts\": \"10000\", \"cell_type\": \"print_series\", \"time\": 0.08603975}, {\"condition\": \"o1\", \"nPts\": \"100000\", \"cell_type\": \"print_series\", \"time\": 0.10278600000000002}, {\"condition\": \"o1o2\", \"nPts\": \"100\", \"cell_type\": \"print_series\", \"time\": 0.08835875000000001}, {\"condition\": \"o1o2\", \"nPts\": \"1000\", \"cell_type\": \"print_series\", \"time\": 0.08797525}, {\"condition\": \"o1o2\", \"nPts\": \"10000\", \"cell_type\": \"print_series\", \"time\": 0.1903625}, {\"condition\": \"o1o2\", \"nPts\": \"100000\", \"cell_type\": \"print_series\", \"time\": 0.2025045}, {\"condition\": \"o1o2o3\", \"nPts\": \"100\", \"cell_type\": \"print_series\", \"time\": 0.07346275}, {\"condition\": \"o1o2o3\", \"nPts\": \"1000\", \"cell_type\": \"print_series\", \"time\": 0.07464225000000001}, {\"condition\": \"o1o2o3\", \"nPts\": \"10000\", \"cell_type\": \"print_series\", \"time\": 0.07564325}, {\"condition\": \"o1o2o3\", \"nPts\": \"100000\", \"cell_type\": \"print_series\", \"time\": 0.08560925}, {\"condition\": \"pandas\", \"nPts\": \"100\", \"cell_type\": \"print_series\", \"time\": 0.03967325}, {\"condition\": \"pandas\", \"nPts\": \"1000\", \"cell_type\": \"print_series\", \"time\": 0.039003}, {\"condition\": \"pandas\", \"nPts\": \"10000\", \"cell_type\": \"print_series\", \"time\": 0.037902000000000005}, {\"condition\": \"pandas\", \"nPts\": \"100000\", \"cell_type\": \"print_series\", \"time\": 0.04182125}]}}, {\"mode\": \"vega-lite\"});\n",
       "</script>"
      ],
      "text/plain": [
       "alt.Chart(...)"
      ]
     },
     "execution_count": 24,
     "metadata": {},
     "output_type": "execute_result"
    }
   ],
   "source": [
    "overall = trial.groupby([\"condition\",\"nPts\",\"cell_type\"]).mean().reset_index()\n",
    "pdf = overall[overall[\"cell_type\"] ==\"print_series\"]\n",
    "chart = alt.Chart(pdf,title = \"Print Series\").mark_bar().encode(\n",
    "    x = \"condition\",\n",
    "    y = alt.Y(\"time\",scale=alt.Scale(type='log'),title=\"log(total time)\"),\n",
    "    column=\"nPts\",\n",
    "    color=\"condition\",\n",
    "    tooltip=[\"time\"]\n",
    ")\n",
    "chart = chart.configure_title(fontSize=16, offset=5, orient='top', anchor='middle')\n",
    "chart.interactive()"
   ]
  },
  {
   "cell_type": "code",
   "execution_count": 25,
   "metadata": {},
   "outputs": [
    {
     "data": {
      "text/html": [
       "\n",
       "<div id=\"altair-viz-8a0fbde12cb44064bac1ea8d40d21f93\"></div>\n",
       "<script type=\"text/javascript\">\n",
       "  (function(spec, embedOpt){\n",
       "    let outputDiv = document.currentScript.previousElementSibling;\n",
       "    if (outputDiv.id !== \"altair-viz-8a0fbde12cb44064bac1ea8d40d21f93\") {\n",
       "      outputDiv = document.getElementById(\"altair-viz-8a0fbde12cb44064bac1ea8d40d21f93\");\n",
       "    }\n",
       "    const paths = {\n",
       "      \"vega\": \"https://cdn.jsdelivr.net/npm//vega@5?noext\",\n",
       "      \"vega-lib\": \"https://cdn.jsdelivr.net/npm//vega-lib?noext\",\n",
       "      \"vega-lite\": \"https://cdn.jsdelivr.net/npm//vega-lite@4.8.1?noext\",\n",
       "      \"vega-embed\": \"https://cdn.jsdelivr.net/npm//vega-embed@6?noext\",\n",
       "    };\n",
       "\n",
       "    function loadScript(lib) {\n",
       "      return new Promise(function(resolve, reject) {\n",
       "        var s = document.createElement('script');\n",
       "        s.src = paths[lib];\n",
       "        s.async = true;\n",
       "        s.onload = () => resolve(paths[lib]);\n",
       "        s.onerror = () => reject(`Error loading script: ${paths[lib]}`);\n",
       "        document.getElementsByTagName(\"head\")[0].appendChild(s);\n",
       "      });\n",
       "    }\n",
       "\n",
       "    function showError(err) {\n",
       "      outputDiv.innerHTML = `<div class=\"error\" style=\"color:red;\">${err}</div>`;\n",
       "      throw err;\n",
       "    }\n",
       "\n",
       "    function displayChart(vegaEmbed) {\n",
       "      vegaEmbed(outputDiv, spec, embedOpt)\n",
       "        .catch(err => showError(`Javascript Error: ${err.message}<br>This usually means there's a typo in your chart specification. See the javascript console for the full traceback.`));\n",
       "    }\n",
       "\n",
       "    if(typeof define === \"function\" && define.amd) {\n",
       "      requirejs.config({paths});\n",
       "      require([\"vega-embed\"], displayChart, err => showError(`Error loading script: ${err.message}`));\n",
       "    } else if (typeof vegaEmbed === \"function\") {\n",
       "      displayChart(vegaEmbed);\n",
       "    } else {\n",
       "      loadScript(\"vega\")\n",
       "        .then(() => loadScript(\"vega-lite\"))\n",
       "        .then(() => loadScript(\"vega-embed\"))\n",
       "        .catch(showError)\n",
       "        .then(() => displayChart(vegaEmbed));\n",
       "    }\n",
       "  })({\"config\": {\"view\": {\"continuousWidth\": 400, \"continuousHeight\": 300}, \"title\": {\"anchor\": \"middle\", \"fontSize\": 16, \"offset\": 5, \"orient\": \"top\"}}, \"data\": {\"name\": \"data-136f4ff0305d27ba464992fabc3a8a8b\"}, \"mark\": \"bar\", \"encoding\": {\"color\": {\"type\": \"nominal\", \"field\": \"condition\"}, \"column\": {\"type\": \"nominal\", \"field\": \"nPts\"}, \"tooltip\": [{\"type\": \"quantitative\", \"field\": \"time\"}], \"x\": {\"type\": \"nominal\", \"field\": \"condition\"}, \"y\": {\"type\": \"quantitative\", \"field\": \"time\", \"scale\": {\"type\": \"log\"}, \"title\": \"log(total time)\"}}, \"title\": \"Print Dataframe\", \"$schema\": \"https://vega.github.io/schema/vega-lite/v4.8.1.json\", \"datasets\": {\"data-136f4ff0305d27ba464992fabc3a8a8b\": [{\"condition\": \"baseline\", \"nPts\": \"100\", \"cell_type\": \"print_dataframe\", \"time\": 94.60457728571427}, {\"condition\": \"baseline\", \"nPts\": \"1000\", \"cell_type\": \"print_dataframe\", \"time\": 91.8322525714286}, {\"condition\": \"baseline\", \"nPts\": \"10000\", \"cell_type\": \"print_dataframe\", \"time\": 416.45978350000007}, {\"condition\": \"baseline\", \"nPts\": \"100000\", \"cell_type\": \"print_dataframe\", \"time\": 478.04834850000003}, {\"condition\": \"o1\", \"nPts\": \"100\", \"cell_type\": \"print_dataframe\", \"time\": 81.51049671428572}, {\"condition\": \"o1\", \"nPts\": \"1000\", \"cell_type\": \"print_dataframe\", \"time\": 74.46724449999999}, {\"condition\": \"o1\", \"nPts\": \"10000\", \"cell_type\": \"print_dataframe\", \"time\": 291.0843593571429}, {\"condition\": \"o1\", \"nPts\": \"100000\", \"cell_type\": \"print_dataframe\", \"time\": 338.33382892857145}, {\"condition\": \"o1o2\", \"nPts\": \"100\", \"cell_type\": \"print_dataframe\", \"time\": 73.85540957142858}, {\"condition\": \"o1o2\", \"nPts\": \"1000\", \"cell_type\": \"print_dataframe\", \"time\": 66.060728}, {\"condition\": \"o1o2\", \"nPts\": \"10000\", \"cell_type\": \"print_dataframe\", \"time\": 81.72692199999999}, {\"condition\": \"o1o2\", \"nPts\": \"100000\", \"cell_type\": \"print_dataframe\", \"time\": 73.77915257142857}, {\"condition\": \"o1o2o3\", \"nPts\": \"100\", \"cell_type\": \"print_dataframe\", \"time\": 1.0389601428571429}, {\"condition\": \"o1o2o3\", \"nPts\": \"1000\", \"cell_type\": \"print_dataframe\", \"time\": 0.9879574285714285}, {\"condition\": \"o1o2o3\", \"nPts\": \"10000\", \"cell_type\": \"print_dataframe\", \"time\": 1.1312334285714285}, {\"condition\": \"o1o2o3\", \"nPts\": \"100000\", \"cell_type\": \"print_dataframe\", \"time\": 1.2344602142857144}, {\"condition\": \"pandas\", \"nPts\": \"100\", \"cell_type\": \"print_dataframe\", \"time\": 0.06955235714285715}, {\"condition\": \"pandas\", \"nPts\": \"1000\", \"cell_type\": \"print_dataframe\", \"time\": 0.06597385714285714}, {\"condition\": \"pandas\", \"nPts\": \"10000\", \"cell_type\": \"print_dataframe\", \"time\": 0.06551171428571427}, {\"condition\": \"pandas\", \"nPts\": \"100000\", \"cell_type\": \"print_dataframe\", \"time\": 0.11042492857142858}]}}, {\"mode\": \"vega-lite\"});\n",
       "</script>"
      ],
      "text/plain": [
       "alt.Chart(...)"
      ]
     },
     "execution_count": 25,
     "metadata": {},
     "output_type": "execute_result"
    }
   ],
   "source": [
    "overall = trial.groupby([\"condition\",\"nPts\",\"cell_type\"]).mean().reset_index()\n",
    "pdf = overall[overall[\"cell_type\"] ==\"print_dataframe\"]\n",
    "chart = alt.Chart(pdf,title = \"Print Dataframe\").mark_bar().encode(\n",
    "    x = \"condition\",\n",
    "    y = alt.Y(\"time\",scale=alt.Scale(type='log'),title=\"log(total time)\"),\n",
    "    column=\"nPts\",\n",
    "    color=\"condition\",\n",
    "    tooltip=[\"time\"]\n",
    ")\n",
    "chart = chart.configure_title(fontSize=16, offset=5, orient='top', anchor='middle')\n",
    "chart"
   ]
  },
  {
   "cell_type": "markdown",
   "metadata": {},
   "source": [
    "----------------"
   ]
  },
  {
   "cell_type": "code",
   "execution_count": 10,
   "metadata": {},
   "outputs": [],
   "source": [
    "# # VegaLite can not do logarithmic stacked bar since it is misleading\n",
    "# alt.Chart(df).mark_bar().encode(\n",
    "#     x = alt.X(\"nPts\",type=\"ordinal\"),\n",
    "#     y = alt.Y(\"time\"),#,scale=alt.Scale(type='log'),title=\"log(total time)\"),\n",
    "#     color=\"condition\"\n",
    "# )"
   ]
  },
  {
   "cell_type": "code",
   "execution_count": 59,
   "metadata": {},
   "outputs": [],
   "source": [
    "import numpy as np"
   ]
  },
  {
   "cell_type": "code",
   "execution_count": 73,
   "metadata": {},
   "outputs": [],
   "source": [
    "def pctChange(s1,s2):\n",
    "    return (np.array(s1[\"time\"])-np.array(s2[\"time\"]))/np.array(s2[\"time\"])\n",
    "def rawChange(s1,s2):\n",
    "    return (np.array(s1[\"time\"])-np.array(s2[\"time\"]))"
   ]
  },
  {
   "cell_type": "code",
   "execution_count": 105,
   "metadata": {},
   "outputs": [],
   "source": [
    "df = pd.read_csv(\"../../paper/airbnb_macrobenchmark.csv\")"
   ]
  },
  {
   "cell_type": "code",
   "execution_count": 106,
   "metadata": {},
   "outputs": [],
   "source": [
    "df = df[df[\"cell_type\"]==\"print_dataframe\"]\n",
    "df = df.groupby([\"nPts\",\"condition\"]).mean().reset_index()"
   ]
  },
  {
   "cell_type": "code",
   "execution_count": 107,
   "metadata": {},
   "outputs": [],
   "source": [
    "# df = df.groupby([\"nPts\",\"condition\"]).sum().reset_index()\n",
    "pdonly = df[df[\"condition\"]==\"pandas\"]\n",
    "best = df[df[\"condition\"]==\"o1o2o3\"]\n",
    "worst = df[df[\"condition\"]==\"baseline\"]"
   ]
  },
  {
   "cell_type": "code",
   "execution_count": 108,
   "metadata": {},
   "outputs": [
    {
     "data": {
      "text/plain": [
       "array([  6.7621107 ,  10.57342565,  55.34298331, 446.47839672])"
      ]
     },
     "execution_count": 108,
     "metadata": {},
     "output_type": "execute_result"
    }
   ],
   "source": [
    "pctChange(best,pdonly)"
   ]
  },
  {
   "cell_type": "code",
   "execution_count": 109,
   "metadata": {},
   "outputs": [
    {
     "data": {
      "text/plain": [
       "array([  46.22273248,  102.25435485,  430.82242355, 3217.49196613])"
      ]
     },
     "execution_count": 109,
     "metadata": {},
     "output_type": "execute_result"
    }
   ],
   "source": [
    "pctChange(worst,pdonly)"
   ]
  },
  {
   "cell_type": "code",
   "execution_count": 110,
   "metadata": {},
   "outputs": [
    {
     "data": {
      "text/plain": [
       "array([5.0837489 , 7.92167609, 6.66417393, 6.19250804])"
      ]
     },
     "execution_count": 110,
     "metadata": {},
     "output_type": "execute_result"
    }
   ],
   "source": [
    "pctChange(worst,best)"
   ]
  },
  {
   "cell_type": "code",
   "execution_count": 111,
   "metadata": {},
   "outputs": [
    {
     "data": {
      "text/plain": [
       "array([ 0.29964893,  0.46699271,  2.49405921, 23.73032679])"
      ]
     },
     "execution_count": 111,
     "metadata": {},
     "output_type": "execute_result"
    }
   ],
   "source": [
    "rawChange(best,pdonly)"
   ]
  },
  {
   "cell_type": "code",
   "execution_count": 30,
   "metadata": {},
   "outputs": [],
   "source": [
    "def singlePctChange(v1,v2):\n",
    "    return (v1-v2)/v2"
   ]
  },
  {
   "cell_type": "code",
   "execution_count": 31,
   "metadata": {},
   "outputs": [
    {
     "data": {
      "text/plain": [
       "16.732150079703075"
      ]
     },
     "execution_count": 31,
     "metadata": {},
     "output_type": "execute_result"
    }
   ],
   "source": [
    "singlePctChange(7453,420.31)"
   ]
  },
  {
   "cell_type": "code",
   "execution_count": 112,
   "metadata": {},
   "outputs": [],
   "source": [
    "df = pd.read_csv(\"../../paper/communities_macrobenchmark.csv\")"
   ]
  },
  {
   "cell_type": "code",
   "execution_count": 113,
   "metadata": {},
   "outputs": [],
   "source": [
    "df = df[df[\"cell_type\"]==\"print_dataframe\"]\n",
    "df = df.groupby([\"nPts\",\"condition\"]).mean().reset_index()"
   ]
  },
  {
   "cell_type": "code",
   "execution_count": 114,
   "metadata": {},
   "outputs": [],
   "source": [
    "# df = df.groupby([\"nPts\",\"condition\"]).sum().reset_index()\n",
    "pdonly = df[df[\"condition\"]==\"pandas\"]\n",
    "best = df[df[\"condition\"]==\"o1o2o3\"]\n",
    "worst = df[df[\"condition\"]==\"baseline\"]"
   ]
  },
  {
   "cell_type": "code",
   "execution_count": 115,
   "metadata": {},
   "outputs": [
    {
     "data": {
      "text/plain": [
       "array([13.93781355, 13.9749836 , 16.26765115, 10.17918056])"
      ]
     },
     "execution_count": 115,
     "metadata": {},
     "output_type": "execute_result"
    }
   ],
   "source": [
    "pctChange(best,pdonly)"
   ]
  },
  {
   "cell_type": "code",
   "execution_count": 116,
   "metadata": {},
   "outputs": [
    {
     "data": {
      "text/plain": [
       "array([1359.19225188, 1390.9491227 , 6356.02771696, 4328.17054767])"
      ]
     },
     "execution_count": 116,
     "metadata": {},
     "output_type": "execute_result"
    }
   ],
   "source": [
    "pctChange(worst,pdonly)"
   ]
  },
  {
   "cell_type": "code",
   "execution_count": 117,
   "metadata": {},
   "outputs": [
    {
     "data": {
      "text/plain": [
       "array([ 90.05698417,  91.95162921, 367.14663798, 386.25294098])"
      ]
     },
     "execution_count": 117,
     "metadata": {},
     "output_type": "execute_result"
    }
   ],
   "source": [
    "pctChange(worst,best)"
   ]
  },
  {
   "cell_type": "code",
   "execution_count": 118,
   "metadata": {},
   "outputs": [
    {
     "data": {
      "text/plain": [
       "array([0.96940779, 0.92198357, 1.06572171, 1.12403529])"
      ]
     },
     "execution_count": 118,
     "metadata": {},
     "output_type": "execute_result"
    }
   ],
   "source": [
    "rawChange(best,pdonly)"
   ]
  },
  {
   "cell_type": "code",
   "execution_count": 133,
   "metadata": {},
   "outputs": [
    {
     "data": {
      "text/plain": [
       "array([  2.10172525,   4.5030616 ,  18.02373243, 107.99725214])"
      ]
     },
     "execution_count": 133,
     "metadata": {},
     "output_type": "execute_result"
    }
   ],
   "source": [
    "df = pd.read_csv(\"../../paper/airbnb_macrobenchmark.csv\")\n",
    "df = df[df[\"cell_type\"]==\"python\"]\n",
    "df = df.groupby([\"nPts\",\"condition\"]).mean().reset_index()\n",
    "\n",
    "pdonly = df[df[\"condition\"]==\"pandas\"]\n",
    "o1 = df[df[\"condition\"]==\"o1\"]\n",
    "o1o2 = df[df[\"condition\"]==\"o1o2\"]\n",
    "best = df[df[\"condition\"]==\"o1o2o3\"]\n",
    "worst = df[df[\"condition\"]==\"baseline\"]\n",
    "\n",
    "# rawChange(best,pdonly)\n",
    "# pctChange(worst,best)\n",
    "pctChange(worst,o1)"
   ]
  },
  {
   "cell_type": "code",
   "execution_count": 134,
   "metadata": {},
   "outputs": [
    {
     "data": {
      "text/plain": [
       "array([224.64270666, 190.06018366, 251.27066912,   4.3513446 ])"
      ]
     },
     "execution_count": 134,
     "metadata": {},
     "output_type": "execute_result"
    }
   ],
   "source": [
    "df = pd.read_csv(\"../../paper/communities_macrobenchmark.csv\")\n",
    "df = df[df[\"cell_type\"]==\"python\"]\n",
    "df = df.groupby([\"nPts\",\"condition\"]).mean().reset_index()\n",
    "\n",
    "pdonly = df[df[\"condition\"]==\"pandas\"]\n",
    "o1 = df[df[\"condition\"]==\"o1\"]\n",
    "o1o2 = df[df[\"condition\"]==\"o1o2\"]\n",
    "best = df[df[\"condition\"]==\"o1o2o3\"]\n",
    "worst = df[df[\"condition\"]==\"baseline\"]\n",
    "\n",
    "# rawChange(best,pdonly)\n",
    "# pctChange(worst,best)\n",
    "pctChange(worst,o1)"
   ]
  },
  {
   "cell_type": "code",
   "execution_count": null,
   "metadata": {},
   "outputs": [],
   "source": []
  }
 ],
 "metadata": {
  "kernelspec": {
   "display_name": "Python 3",
   "language": "python",
   "name": "python3"
  },
  "language_info": {
   "codemirror_mode": {
    "name": "ipython",
    "version": 3
   },
   "file_extension": ".py",
   "mimetype": "text/x-python",
   "name": "python",
   "nbconvert_exporter": "python",
   "pygments_lexer": "ipython3",
   "version": "3.7.7"
  }
 },
 "nbformat": 4,
 "nbformat_minor": 4
}
