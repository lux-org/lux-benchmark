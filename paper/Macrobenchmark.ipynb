{
 "cells": [
  {
   "cell_type": "code",
   "execution_count": 1,
   "metadata": {},
   "outputs": [
    {
     "name": "stdout",
     "output_type": "stream",
     "text": [
      "/Users/dorislee/Desktop/Research/lux/lux-benchmark/backend/macrobenchmark\n"
     ]
    }
   ],
   "source": [
    "cd ../backend/macrobenchmark/"
   ]
  },
  {
   "cell_type": "code",
   "execution_count": 29,
   "metadata": {},
   "outputs": [
    {
     "name": "stdout",
     "output_type": "stream",
     "text": [
      "python             17\n",
      "print_dataframe    14\n",
      "print_series        7\n",
      "dtype: int64\n"
     ]
    }
   ],
   "source": [
    "import glob\n",
    "import time\n",
    "import papermill as pm\n",
    "import pandas as pd\n",
    "import numpy as np\n",
    "import json\n",
    "count = []\n",
    "with open(\"airbnb/airbnb.ipynb\") as json_file:\n",
    "    data = json.load(json_file)\n",
    "    for cell in data['cells']:\n",
    "        label = cell[\"source\"][0]\n",
    "        cell_type = None\n",
    "        if \"# {{NO LUX}}\" in label:\n",
    "            cell_type = \"python\"\n",
    "        elif \"# {{PRINT SERIES}}\" in label:\n",
    "            cell_type = \"print_series\"\n",
    "        elif \"# {{PRINT DF}}\" in label:\n",
    "            cell_type = \"print_dataframe\"\n",
    "        count.append(cell_type)\n",
    "count = pd.Series(count)\n",
    "print(count.value_counts())"
   ]
  },
  {
   "cell_type": "code",
   "execution_count": 30,
   "metadata": {},
   "outputs": [],
   "source": [
    "trial = []\n",
    "\n",
    "for nb_name in glob.glob(\"airbnb/airbnb_*_output.ipynb\"):\n",
    "# for nb_name in glob.glob(\"airbnb/airbnb_*_*_output.ipynb\"):\n",
    "    snb = nb_name.split(\"_\")\n",
    "    if len(snb)==4:\n",
    "        _, condition, nPts, _ = nb_name.split(\"_\")\n",
    "    elif len(snb)==3:\n",
    "        condition = \"pandas\"\n",
    "        _,  nPts, _ = nb_name.split(\"_\")\n",
    "    with open(nb_name) as json_file:\n",
    "        data = json.load(json_file)\n",
    "        for cell in data['cells']:\n",
    "            label = cell[\"source\"][0]\n",
    "            cell_type = None\n",
    "            if \"# {{NO LUX}}\" in label:\n",
    "                cell_type = \"python\"\n",
    "            elif \"# {{PRINT SERIES}}\" in label:\n",
    "                cell_type = \"print_series\"\n",
    "            elif \"# {{PRINT DF}}\" in label:\n",
    "                cell_type = \"print_dataframe\"\n",
    "            duration = cell[\"metadata\"][\"papermill\"][\"duration\"]\n",
    "#             print(nb_name, cell_type, duration)\n",
    "            trial.append([condition, nPts,cell_type, duration])"
   ]
  },
  {
   "cell_type": "code",
   "execution_count": 31,
   "metadata": {},
   "outputs": [],
   "source": [
    "trial = pd.DataFrame(trial,columns=[\"condition\",\"nPts\",\"cell_type\",\"time\"])"
   ]
  },
  {
   "cell_type": "code",
   "execution_count": 32,
   "metadata": {},
   "outputs": [],
   "source": [
    "trial.to_csv(\"../../paper/airbnb_macrobenchmark.csv\",index=None)"
   ]
  },
  {
   "cell_type": "code",
   "execution_count": 33,
   "metadata": {},
   "outputs": [],
   "source": [
    "# trial.groupby(\"cell_type\").count()"
   ]
  },
  {
   "cell_type": "markdown",
   "metadata": {},
   "source": [
    "--------------"
   ]
  },
  {
   "cell_type": "code",
   "execution_count": 34,
   "metadata": {},
   "outputs": [],
   "source": [
    "import pandas as pd\n",
    "import altair as alt"
   ]
  },
  {
   "cell_type": "code",
   "execution_count": 35,
   "metadata": {},
   "outputs": [],
   "source": [
    "overall = trial.groupby(\"condition\").sum().reset_index()"
   ]
  },
  {
   "cell_type": "code",
   "execution_count": 36,
   "metadata": {},
   "outputs": [
    {
     "data": {
      "text/html": [
       "<div>\n",
       "<style scoped>\n",
       "    .dataframe tbody tr th:only-of-type {\n",
       "        vertical-align: middle;\n",
       "    }\n",
       "\n",
       "    .dataframe tbody tr th {\n",
       "        vertical-align: top;\n",
       "    }\n",
       "\n",
       "    .dataframe thead th {\n",
       "        text-align: right;\n",
       "    }\n",
       "</style>\n",
       "<table border=\"1\" class=\"dataframe\">\n",
       "  <thead>\n",
       "    <tr style=\"text-align: right;\">\n",
       "      <th></th>\n",
       "      <th>condition</th>\n",
       "      <th>time</th>\n",
       "    </tr>\n",
       "  </thead>\n",
       "  <tbody>\n",
       "    <tr>\n",
       "      <th>0</th>\n",
       "      <td>baseline</td>\n",
       "      <td>8651.522527</td>\n",
       "    </tr>\n",
       "    <tr>\n",
       "      <th>1</th>\n",
       "      <td>o1</td>\n",
       "      <td>1179.947828</td>\n",
       "    </tr>\n",
       "    <tr>\n",
       "      <th>2</th>\n",
       "      <td>o1o2</td>\n",
       "      <td>699.275587</td>\n",
       "    </tr>\n",
       "    <tr>\n",
       "      <th>3</th>\n",
       "      <td>o1o2o3</td>\n",
       "      <td>520.966565</td>\n",
       "    </tr>\n",
       "    <tr>\n",
       "      <th>4</th>\n",
       "      <td>pandas</td>\n",
       "      <td>172.361008</td>\n",
       "    </tr>\n",
       "  </tbody>\n",
       "</table>\n",
       "</div>"
      ],
      "text/plain": [
       "  condition         time\n",
       "0  baseline  8651.522527\n",
       "1        o1  1179.947828\n",
       "2      o1o2   699.275587\n",
       "3    o1o2o3   520.966565\n",
       "4    pandas   172.361008"
      ]
     },
     "execution_count": 36,
     "metadata": {},
     "output_type": "execute_result"
    }
   ],
   "source": [
    "overall"
   ]
  },
  {
   "cell_type": "code",
   "execution_count": 37,
   "metadata": {},
   "outputs": [
    {
     "data": {
      "text/html": [
       "\n",
       "<div id=\"altair-viz-8c2a6ea168474eada1e01325c3caf092\"></div>\n",
       "<script type=\"text/javascript\">\n",
       "  (function(spec, embedOpt){\n",
       "    let outputDiv = document.currentScript.previousElementSibling;\n",
       "    if (outputDiv.id !== \"altair-viz-8c2a6ea168474eada1e01325c3caf092\") {\n",
       "      outputDiv = document.getElementById(\"altair-viz-8c2a6ea168474eada1e01325c3caf092\");\n",
       "    }\n",
       "    const paths = {\n",
       "      \"vega\": \"https://cdn.jsdelivr.net/npm//vega@5?noext\",\n",
       "      \"vega-lib\": \"https://cdn.jsdelivr.net/npm//vega-lib?noext\",\n",
       "      \"vega-lite\": \"https://cdn.jsdelivr.net/npm//vega-lite@4.8.1?noext\",\n",
       "      \"vega-embed\": \"https://cdn.jsdelivr.net/npm//vega-embed@6?noext\",\n",
       "    };\n",
       "\n",
       "    function loadScript(lib) {\n",
       "      return new Promise(function(resolve, reject) {\n",
       "        var s = document.createElement('script');\n",
       "        s.src = paths[lib];\n",
       "        s.async = true;\n",
       "        s.onload = () => resolve(paths[lib]);\n",
       "        s.onerror = () => reject(`Error loading script: ${paths[lib]}`);\n",
       "        document.getElementsByTagName(\"head\")[0].appendChild(s);\n",
       "      });\n",
       "    }\n",
       "\n",
       "    function showError(err) {\n",
       "      outputDiv.innerHTML = `<div class=\"error\" style=\"color:red;\">${err}</div>`;\n",
       "      throw err;\n",
       "    }\n",
       "\n",
       "    function displayChart(vegaEmbed) {\n",
       "      vegaEmbed(outputDiv, spec, embedOpt)\n",
       "        .catch(err => showError(`Javascript Error: ${err.message}<br>This usually means there's a typo in your chart specification. See the javascript console for the full traceback.`));\n",
       "    }\n",
       "\n",
       "    if(typeof define === \"function\" && define.amd) {\n",
       "      requirejs.config({paths});\n",
       "      require([\"vega-embed\"], displayChart, err => showError(`Error loading script: ${err.message}`));\n",
       "    } else if (typeof vegaEmbed === \"function\") {\n",
       "      displayChart(vegaEmbed);\n",
       "    } else {\n",
       "      loadScript(\"vega\")\n",
       "        .then(() => loadScript(\"vega-lite\"))\n",
       "        .then(() => loadScript(\"vega-embed\"))\n",
       "        .catch(showError)\n",
       "        .then(() => displayChart(vegaEmbed));\n",
       "    }\n",
       "  })({\"config\": {\"view\": {\"continuousWidth\": 400, \"continuousHeight\": 300}}, \"data\": {\"name\": \"data-658db7ecb40fe7f5dbcd5fe84a984f4f\"}, \"mark\": \"bar\", \"encoding\": {\"x\": {\"type\": \"nominal\", \"field\": \"condition\"}, \"y\": {\"type\": \"quantitative\", \"field\": \"time\", \"scale\": {\"type\": \"log\"}, \"title\": \"log(total time)\"}}, \"$schema\": \"https://vega.github.io/schema/vega-lite/v4.8.1.json\", \"datasets\": {\"data-658db7ecb40fe7f5dbcd5fe84a984f4f\": [{\"condition\": \"baseline\", \"time\": 8651.52252700001}, {\"condition\": \"o1\", \"time\": 1179.9478279999996}, {\"condition\": \"o1o2\", \"time\": 699.2755869999996}, {\"condition\": \"o1o2o3\", \"time\": 520.966565}, {\"condition\": \"pandas\", \"time\": 172.36100800000003}]}}, {\"mode\": \"vega-lite\"});\n",
       "</script>"
      ],
      "text/plain": [
       "alt.Chart(...)"
      ]
     },
     "execution_count": 37,
     "metadata": {},
     "output_type": "execute_result"
    }
   ],
   "source": [
    "alt.Chart(overall).mark_bar().encode(\n",
    "    x = \"condition\",\n",
    "    y = alt.Y(\"time\",scale=alt.Scale(type='log'),title=\"log(total time)\"),\n",
    ")"
   ]
  },
  {
   "cell_type": "code",
   "execution_count": 38,
   "metadata": {},
   "outputs": [
    {
     "data": {
      "text/html": [
       "\n",
       "<div id=\"altair-viz-60bb21e571b742899a65193647f2f2fa\"></div>\n",
       "<script type=\"text/javascript\">\n",
       "  (function(spec, embedOpt){\n",
       "    let outputDiv = document.currentScript.previousElementSibling;\n",
       "    if (outputDiv.id !== \"altair-viz-60bb21e571b742899a65193647f2f2fa\") {\n",
       "      outputDiv = document.getElementById(\"altair-viz-60bb21e571b742899a65193647f2f2fa\");\n",
       "    }\n",
       "    const paths = {\n",
       "      \"vega\": \"https://cdn.jsdelivr.net/npm//vega@5?noext\",\n",
       "      \"vega-lib\": \"https://cdn.jsdelivr.net/npm//vega-lib?noext\",\n",
       "      \"vega-lite\": \"https://cdn.jsdelivr.net/npm//vega-lite@4.8.1?noext\",\n",
       "      \"vega-embed\": \"https://cdn.jsdelivr.net/npm//vega-embed@6?noext\",\n",
       "    };\n",
       "\n",
       "    function loadScript(lib) {\n",
       "      return new Promise(function(resolve, reject) {\n",
       "        var s = document.createElement('script');\n",
       "        s.src = paths[lib];\n",
       "        s.async = true;\n",
       "        s.onload = () => resolve(paths[lib]);\n",
       "        s.onerror = () => reject(`Error loading script: ${paths[lib]}`);\n",
       "        document.getElementsByTagName(\"head\")[0].appendChild(s);\n",
       "      });\n",
       "    }\n",
       "\n",
       "    function showError(err) {\n",
       "      outputDiv.innerHTML = `<div class=\"error\" style=\"color:red;\">${err}</div>`;\n",
       "      throw err;\n",
       "    }\n",
       "\n",
       "    function displayChart(vegaEmbed) {\n",
       "      vegaEmbed(outputDiv, spec, embedOpt)\n",
       "        .catch(err => showError(`Javascript Error: ${err.message}<br>This usually means there's a typo in your chart specification. See the javascript console for the full traceback.`));\n",
       "    }\n",
       "\n",
       "    if(typeof define === \"function\" && define.amd) {\n",
       "      requirejs.config({paths});\n",
       "      require([\"vega-embed\"], displayChart, err => showError(`Error loading script: ${err.message}`));\n",
       "    } else if (typeof vegaEmbed === \"function\") {\n",
       "      displayChart(vegaEmbed);\n",
       "    } else {\n",
       "      loadScript(\"vega\")\n",
       "        .then(() => loadScript(\"vega-lite\"))\n",
       "        .then(() => loadScript(\"vega-embed\"))\n",
       "        .catch(showError)\n",
       "        .then(() => displayChart(vegaEmbed));\n",
       "    }\n",
       "  })({\"config\": {\"view\": {\"continuousWidth\": 400, \"continuousHeight\": 300}, \"title\": {\"anchor\": \"middle\", \"fontSize\": 16, \"offset\": 5, \"orient\": \"top\"}}, \"data\": {\"name\": \"data-206cdced1bf77253df25bc84b3f70471\"}, \"mark\": \"bar\", \"encoding\": {\"color\": {\"type\": \"nominal\", \"field\": \"condition\"}, \"column\": {\"type\": \"nominal\", \"field\": \"nPts\"}, \"tooltip\": [{\"type\": \"quantitative\", \"field\": \"time\"}], \"x\": {\"type\": \"nominal\", \"field\": \"condition\"}, \"y\": {\"type\": \"quantitative\", \"field\": \"time\", \"scale\": {\"type\": \"log\"}, \"title\": \"log(total time)\"}}, \"title\": \"Overall\", \"$schema\": \"https://vega.github.io/schema/vega-lite/v4.8.1.json\", \"datasets\": {\"data-206cdced1bf77253df25bc84b3f70471\": [{\"condition\": \"baseline\", \"nPts\": \"10000\", \"time\": 113.39623900000001}, {\"condition\": \"baseline\", \"nPts\": \"100000\", \"time\": 215.325051}, {\"condition\": \"baseline\", \"nPts\": \"1000000\", \"time\": 869.526752}, {\"condition\": \"baseline\", \"nPts\": \"10000000\", \"time\": 7453.274485}, {\"condition\": \"o1\", \"nPts\": \"10000\", \"time\": 51.46148999999997}, {\"condition\": \"o1\", \"nPts\": \"100000\", \"time\": 69.048892}, {\"condition\": \"o1\", \"nPts\": \"1000000\", \"time\": 167.22527199999996}, {\"condition\": \"o1\", \"nPts\": \"10000000\", \"time\": 892.2121740000002}, {\"condition\": \"o1o2\", \"nPts\": \"10000\", \"time\": 41.414653}, {\"condition\": \"o1o2\", \"nPts\": \"100000\", \"time\": 53.697071000000015}, {\"condition\": \"o1o2\", \"nPts\": \"1000000\", \"time\": 94.84728300000003}, {\"condition\": \"o1o2\", \"nPts\": \"10000000\", \"time\": 509.3165799999999}, {\"condition\": \"o1o2o3\", \"nPts\": \"10000\", \"time\": 31.335468000000006}, {\"condition\": \"o1o2o3\", \"nPts\": \"100000\", \"time\": 35.069112999999994}, {\"condition\": \"o1o2o3\", \"nPts\": \"1000000\", \"time\": 70.15771200000003}, {\"condition\": \"o1o2o3\", \"nPts\": \"10000000\", \"time\": 384.40427200000005}, {\"condition\": \"pandas\", \"nPts\": \"10000\", \"time\": 29.55361800000001}, {\"condition\": \"pandas\", \"nPts\": \"100000\", \"time\": 29.751648000000014}, {\"condition\": \"pandas\", \"nPts\": \"1000000\", \"time\": 33.211530999999994}, {\"condition\": \"pandas\", \"nPts\": \"10000000\", \"time\": 79.84421099999997}]}}, {\"mode\": \"vega-lite\"});\n",
       "</script>"
      ],
      "text/plain": [
       "alt.Chart(...)"
      ]
     },
     "execution_count": 38,
     "metadata": {},
     "output_type": "execute_result"
    }
   ],
   "source": [
    "overall = trial.groupby([\"condition\",\"nPts\"]).sum().reset_index()\n",
    "chart = alt.Chart(overall,title = \"Overall\").mark_bar().encode(\n",
    "    x = \"condition\",\n",
    "    y = alt.Y(\"time\",scale=alt.Scale(type='log'),title=\"log(total time)\"),\n",
    "    column=\"nPts\",\n",
    "    color=\"condition\",\n",
    "    tooltip=[\"time\"]\n",
    ")\n",
    "chart = chart.configure_title(fontSize=16, offset=5, orient='top', anchor='middle')\n",
    "chart"
   ]
  },
  {
   "cell_type": "code",
   "execution_count": 39,
   "metadata": {},
   "outputs": [
    {
     "data": {
      "text/html": [
       "\n",
       "<div id=\"altair-viz-53b4da0d314043cbaed6805ce3680147\"></div>\n",
       "<script type=\"text/javascript\">\n",
       "  (function(spec, embedOpt){\n",
       "    let outputDiv = document.currentScript.previousElementSibling;\n",
       "    if (outputDiv.id !== \"altair-viz-53b4da0d314043cbaed6805ce3680147\") {\n",
       "      outputDiv = document.getElementById(\"altair-viz-53b4da0d314043cbaed6805ce3680147\");\n",
       "    }\n",
       "    const paths = {\n",
       "      \"vega\": \"https://cdn.jsdelivr.net/npm//vega@5?noext\",\n",
       "      \"vega-lib\": \"https://cdn.jsdelivr.net/npm//vega-lib?noext\",\n",
       "      \"vega-lite\": \"https://cdn.jsdelivr.net/npm//vega-lite@4.8.1?noext\",\n",
       "      \"vega-embed\": \"https://cdn.jsdelivr.net/npm//vega-embed@6?noext\",\n",
       "    };\n",
       "\n",
       "    function loadScript(lib) {\n",
       "      return new Promise(function(resolve, reject) {\n",
       "        var s = document.createElement('script');\n",
       "        s.src = paths[lib];\n",
       "        s.async = true;\n",
       "        s.onload = () => resolve(paths[lib]);\n",
       "        s.onerror = () => reject(`Error loading script: ${paths[lib]}`);\n",
       "        document.getElementsByTagName(\"head\")[0].appendChild(s);\n",
       "      });\n",
       "    }\n",
       "\n",
       "    function showError(err) {\n",
       "      outputDiv.innerHTML = `<div class=\"error\" style=\"color:red;\">${err}</div>`;\n",
       "      throw err;\n",
       "    }\n",
       "\n",
       "    function displayChart(vegaEmbed) {\n",
       "      vegaEmbed(outputDiv, spec, embedOpt)\n",
       "        .catch(err => showError(`Javascript Error: ${err.message}<br>This usually means there's a typo in your chart specification. See the javascript console for the full traceback.`));\n",
       "    }\n",
       "\n",
       "    if(typeof define === \"function\" && define.amd) {\n",
       "      requirejs.config({paths});\n",
       "      require([\"vega-embed\"], displayChart, err => showError(`Error loading script: ${err.message}`));\n",
       "    } else if (typeof vegaEmbed === \"function\") {\n",
       "      displayChart(vegaEmbed);\n",
       "    } else {\n",
       "      loadScript(\"vega\")\n",
       "        .then(() => loadScript(\"vega-lite\"))\n",
       "        .then(() => loadScript(\"vega-embed\"))\n",
       "        .catch(showError)\n",
       "        .then(() => displayChart(vegaEmbed));\n",
       "    }\n",
       "  })({\"config\": {\"view\": {\"continuousWidth\": 400, \"continuousHeight\": 300}, \"title\": {\"anchor\": \"middle\", \"fontSize\": 16, \"offset\": 5, \"orient\": \"top\"}}, \"data\": {\"name\": \"data-3b58e1c87904f9a270af6bf17567f457\"}, \"mark\": \"bar\", \"encoding\": {\"color\": {\"type\": \"nominal\", \"field\": \"condition\"}, \"column\": {\"type\": \"nominal\", \"field\": \"nPts\"}, \"x\": {\"type\": \"nominal\", \"field\": \"condition\"}, \"y\": {\"type\": \"quantitative\", \"field\": \"time\", \"scale\": {\"type\": \"log\"}, \"title\": \"log(total time)\"}}, \"title\": \"Non-Lux Python Operations\", \"$schema\": \"https://vega.github.io/schema/vega-lite/v4.8.1.json\", \"datasets\": {\"data-3b58e1c87904f9a270af6bf17567f457\": [{\"condition\": \"baseline\", \"nPts\": \"10000\", \"cell_type\": \"python\", \"time\": 4.837800647058824}, {\"condition\": \"baseline\", \"nPts\": \"100000\", \"cell_type\": \"python\", \"time\": 8.761272235294118}, {\"condition\": \"baseline\", \"nPts\": \"1000000\", \"cell_type\": \"python\", \"time\": 34.633733294117654}, {\"condition\": \"baseline\", \"nPts\": \"10000000\", \"cell_type\": \"python\", \"time\": 293.2197144117647}, {\"condition\": \"o1\", \"nPts\": \"10000\", \"cell_type\": \"python\", \"time\": 1.5597128235294118}, {\"condition\": \"o1\", \"nPts\": \"100000\", \"cell_type\": \"python\", \"time\": 1.5920723529411769}, {\"condition\": \"o1\", \"nPts\": \"1000000\", \"cell_type\": \"python\", \"time\": 1.8205540588235298}, {\"condition\": \"o1\", \"nPts\": \"10000000\", \"cell_type\": \"python\", \"time\": 2.690156941176472}, {\"condition\": \"o1o2\", \"nPts\": \"10000\", \"cell_type\": \"python\", \"time\": 1.5654418823529412}, {\"condition\": \"o1o2\", \"nPts\": \"100000\", \"cell_type\": \"python\", \"time\": 1.8851274705882355}, {\"condition\": \"o1o2\", \"nPts\": \"1000000\", \"cell_type\": \"python\", \"time\": 1.7804292941176474}, {\"condition\": \"o1o2\", \"nPts\": \"10000000\", \"cell_type\": \"python\", \"time\": 2.705009529411764}, {\"condition\": \"o1o2o3\", \"nPts\": \"10000\", \"cell_type\": \"python\", \"time\": 1.5560285882352944}, {\"condition\": \"o1o2o3\", \"nPts\": \"100000\", \"cell_type\": \"python\", \"time\": 1.5622338235294118}, {\"condition\": \"o1o2o3\", \"nPts\": \"1000000\", \"cell_type\": \"python\", \"time\": 1.703494058823529}, {\"condition\": \"o1o2o3\", \"nPts\": \"10000000\", \"cell_type\": \"python\", \"time\": 2.745140352941176}, {\"condition\": \"pandas\", \"nPts\": \"10000\", \"cell_type\": \"python\", \"time\": 1.6731158823529417}, {\"condition\": \"pandas\", \"nPts\": \"100000\", \"cell_type\": \"python\", \"time\": 1.6752127058823536}, {\"condition\": \"pandas\", \"nPts\": \"1000000\", \"cell_type\": \"python\", \"time\": 1.717952882352941}, {\"condition\": \"pandas\", \"nPts\": \"10000000\", \"cell_type\": \"python\", \"time\": 2.965725352941176}]}}, {\"mode\": \"vega-lite\"});\n",
       "</script>"
      ],
      "text/plain": [
       "alt.Chart(...)"
      ]
     },
     "execution_count": 39,
     "metadata": {},
     "output_type": "execute_result"
    }
   ],
   "source": [
    "overall = trial.groupby([\"condition\",\"nPts\",\"cell_type\"]).mean().reset_index()\n",
    "pdf = overall[overall[\"cell_type\"] ==\"python\"]\n",
    "chart = alt.Chart(pdf,title = \"Non-Lux Python Operations\").mark_bar().encode(\n",
    "    x = \"condition\",\n",
    "    y = alt.Y(\"time\",scale=alt.Scale(type='log'),title=\"log(total time)\"),\n",
    "    column=\"nPts\",\n",
    "    color=\"condition\"\n",
    ")\n",
    "chart = chart.configure_title(fontSize=16, offset=5, orient='top', anchor='middle')\n",
    "chart"
   ]
  },
  {
   "cell_type": "code",
   "execution_count": 40,
   "metadata": {},
   "outputs": [
    {
     "data": {
      "text/html": [
       "\n",
       "<div id=\"altair-viz-e64a62184caf43edb0c0e77eae86f063\"></div>\n",
       "<script type=\"text/javascript\">\n",
       "  (function(spec, embedOpt){\n",
       "    let outputDiv = document.currentScript.previousElementSibling;\n",
       "    if (outputDiv.id !== \"altair-viz-e64a62184caf43edb0c0e77eae86f063\") {\n",
       "      outputDiv = document.getElementById(\"altair-viz-e64a62184caf43edb0c0e77eae86f063\");\n",
       "    }\n",
       "    const paths = {\n",
       "      \"vega\": \"https://cdn.jsdelivr.net/npm//vega@5?noext\",\n",
       "      \"vega-lib\": \"https://cdn.jsdelivr.net/npm//vega-lib?noext\",\n",
       "      \"vega-lite\": \"https://cdn.jsdelivr.net/npm//vega-lite@4.8.1?noext\",\n",
       "      \"vega-embed\": \"https://cdn.jsdelivr.net/npm//vega-embed@6?noext\",\n",
       "    };\n",
       "\n",
       "    function loadScript(lib) {\n",
       "      return new Promise(function(resolve, reject) {\n",
       "        var s = document.createElement('script');\n",
       "        s.src = paths[lib];\n",
       "        s.async = true;\n",
       "        s.onload = () => resolve(paths[lib]);\n",
       "        s.onerror = () => reject(`Error loading script: ${paths[lib]}`);\n",
       "        document.getElementsByTagName(\"head\")[0].appendChild(s);\n",
       "      });\n",
       "    }\n",
       "\n",
       "    function showError(err) {\n",
       "      outputDiv.innerHTML = `<div class=\"error\" style=\"color:red;\">${err}</div>`;\n",
       "      throw err;\n",
       "    }\n",
       "\n",
       "    function displayChart(vegaEmbed) {\n",
       "      vegaEmbed(outputDiv, spec, embedOpt)\n",
       "        .catch(err => showError(`Javascript Error: ${err.message}<br>This usually means there's a typo in your chart specification. See the javascript console for the full traceback.`));\n",
       "    }\n",
       "\n",
       "    if(typeof define === \"function\" && define.amd) {\n",
       "      requirejs.config({paths});\n",
       "      require([\"vega-embed\"], displayChart, err => showError(`Error loading script: ${err.message}`));\n",
       "    } else if (typeof vegaEmbed === \"function\") {\n",
       "      displayChart(vegaEmbed);\n",
       "    } else {\n",
       "      loadScript(\"vega\")\n",
       "        .then(() => loadScript(\"vega-lite\"))\n",
       "        .then(() => loadScript(\"vega-embed\"))\n",
       "        .catch(showError)\n",
       "        .then(() => displayChart(vegaEmbed));\n",
       "    }\n",
       "  })({\"config\": {\"view\": {\"continuousWidth\": 400, \"continuousHeight\": 300}, \"title\": {\"anchor\": \"middle\", \"fontSize\": 16, \"offset\": 5, \"orient\": \"top\"}}, \"data\": {\"name\": \"data-7590f966c4b219e0c406255ba7766612\"}, \"mark\": \"bar\", \"encoding\": {\"color\": {\"type\": \"nominal\", \"field\": \"condition\"}, \"column\": {\"type\": \"nominal\", \"field\": \"nPts\"}, \"tooltip\": [{\"type\": \"quantitative\", \"field\": \"time\"}], \"x\": {\"type\": \"nominal\", \"field\": \"condition\"}, \"y\": {\"type\": \"quantitative\", \"field\": \"time\", \"scale\": {\"type\": \"log\"}, \"title\": \"log(total time)\"}}, \"title\": \"Print Series\", \"$schema\": \"https://vega.github.io/schema/vega-lite/v4.8.1.json\", \"datasets\": {\"data-7590f966c4b219e0c406255ba7766612\": [{\"condition\": \"baseline\", \"nPts\": \"10000\", \"cell_type\": \"print_series\", \"time\": 0.114121}, {\"condition\": \"baseline\", \"nPts\": \"100000\", \"cell_type\": \"print_series\", \"time\": 0.21239557142857143}, {\"condition\": \"baseline\", \"nPts\": \"1000000\", \"cell_type\": \"print_series\", \"time\": 1.0430601428571429}, {\"condition\": \"baseline\", \"nPts\": \"10000000\", \"cell_type\": \"print_series\", \"time\": 10.385119571428573}, {\"condition\": \"o1\", \"nPts\": \"10000\", \"cell_type\": \"print_series\", \"time\": 0.10305914285714286}, {\"condition\": \"o1\", \"nPts\": \"100000\", \"cell_type\": \"print_series\", \"time\": 0.14730342857142859}, {\"condition\": \"o1\", \"nPts\": \"1000000\", \"cell_type\": \"print_series\", \"time\": 0.6867958571428571}, {\"condition\": \"o1\", \"nPts\": \"10000000\", \"cell_type\": \"print_series\", \"time\": 5.398452857142857}, {\"condition\": \"o1o2\", \"nPts\": \"10000\", \"cell_type\": \"print_series\", \"time\": 0.101768}, {\"condition\": \"o1o2\", \"nPts\": \"100000\", \"cell_type\": \"print_series\", \"time\": 0.14369285714285712}, {\"condition\": \"o1o2\", \"nPts\": \"1000000\", \"cell_type\": \"print_series\", \"time\": 0.6439940000000001}, {\"condition\": \"o1o2\", \"nPts\": \"10000000\", \"cell_type\": \"print_series\", \"time\": 5.510346428571428}, {\"condition\": \"o1o2o3\", \"nPts\": \"10000\", \"cell_type\": \"print_series\", \"time\": 0.09305242857142858}, {\"condition\": \"o1o2o3\", \"nPts\": \"100000\", \"cell_type\": \"print_series\", \"time\": 0.13223285714285712}, {\"condition\": \"o1o2o3\", \"nPts\": \"1000000\", \"cell_type\": \"print_series\", \"time\": 0.6712628571428573}, {\"condition\": \"o1o2o3\", \"nPts\": \"10000000\", \"cell_type\": \"print_series\", \"time\": 5.231934428571428}, {\"condition\": \"pandas\", \"nPts\": \"10000\", \"cell_type\": \"print_series\", \"time\": 0.05949828571428572}, {\"condition\": \"pandas\", \"nPts\": \"100000\", \"cell_type\": \"print_series\", \"time\": 0.08230914285714286}, {\"condition\": \"pandas\", \"nPts\": \"1000000\", \"cell_type\": \"print_series\", \"time\": 0.47156642857142855}, {\"condition\": \"pandas\", \"nPts\": \"10000000\", \"cell_type\": \"print_series\", \"time\": 4.086945}]}}, {\"mode\": \"vega-lite\"});\n",
       "</script>"
      ],
      "text/plain": [
       "alt.Chart(...)"
      ]
     },
     "execution_count": 40,
     "metadata": {},
     "output_type": "execute_result"
    }
   ],
   "source": [
    "overall = trial.groupby([\"condition\",\"nPts\",\"cell_type\"]).mean().reset_index()\n",
    "pdf = overall[overall[\"cell_type\"] ==\"print_series\"]\n",
    "chart = alt.Chart(pdf,title = \"Print Series\").mark_bar().encode(\n",
    "    x = \"condition\",\n",
    "    y = alt.Y(\"time\",scale=alt.Scale(type='log'),title=\"log(total time)\"),\n",
    "    column=\"nPts\",\n",
    "    color=\"condition\",\n",
    "    tooltip=[\"time\"]\n",
    ")\n",
    "chart = chart.configure_title(fontSize=16, offset=5, orient='top', anchor='middle')\n",
    "chart"
   ]
  },
  {
   "cell_type": "code",
   "execution_count": 41,
   "metadata": {},
   "outputs": [
    {
     "data": {
      "text/html": [
       "\n",
       "<div id=\"altair-viz-617c252577504b5c8ac25e9d047d1d2f\"></div>\n",
       "<script type=\"text/javascript\">\n",
       "  (function(spec, embedOpt){\n",
       "    let outputDiv = document.currentScript.previousElementSibling;\n",
       "    if (outputDiv.id !== \"altair-viz-617c252577504b5c8ac25e9d047d1d2f\") {\n",
       "      outputDiv = document.getElementById(\"altair-viz-617c252577504b5c8ac25e9d047d1d2f\");\n",
       "    }\n",
       "    const paths = {\n",
       "      \"vega\": \"https://cdn.jsdelivr.net/npm//vega@5?noext\",\n",
       "      \"vega-lib\": \"https://cdn.jsdelivr.net/npm//vega-lib?noext\",\n",
       "      \"vega-lite\": \"https://cdn.jsdelivr.net/npm//vega-lite@4.8.1?noext\",\n",
       "      \"vega-embed\": \"https://cdn.jsdelivr.net/npm//vega-embed@6?noext\",\n",
       "    };\n",
       "\n",
       "    function loadScript(lib) {\n",
       "      return new Promise(function(resolve, reject) {\n",
       "        var s = document.createElement('script');\n",
       "        s.src = paths[lib];\n",
       "        s.async = true;\n",
       "        s.onload = () => resolve(paths[lib]);\n",
       "        s.onerror = () => reject(`Error loading script: ${paths[lib]}`);\n",
       "        document.getElementsByTagName(\"head\")[0].appendChild(s);\n",
       "      });\n",
       "    }\n",
       "\n",
       "    function showError(err) {\n",
       "      outputDiv.innerHTML = `<div class=\"error\" style=\"color:red;\">${err}</div>`;\n",
       "      throw err;\n",
       "    }\n",
       "\n",
       "    function displayChart(vegaEmbed) {\n",
       "      vegaEmbed(outputDiv, spec, embedOpt)\n",
       "        .catch(err => showError(`Javascript Error: ${err.message}<br>This usually means there's a typo in your chart specification. See the javascript console for the full traceback.`));\n",
       "    }\n",
       "\n",
       "    if(typeof define === \"function\" && define.amd) {\n",
       "      requirejs.config({paths});\n",
       "      require([\"vega-embed\"], displayChart, err => showError(`Error loading script: ${err.message}`));\n",
       "    } else if (typeof vegaEmbed === \"function\") {\n",
       "      displayChart(vegaEmbed);\n",
       "    } else {\n",
       "      loadScript(\"vega\")\n",
       "        .then(() => loadScript(\"vega-lite\"))\n",
       "        .then(() => loadScript(\"vega-embed\"))\n",
       "        .catch(showError)\n",
       "        .then(() => displayChart(vegaEmbed));\n",
       "    }\n",
       "  })({\"config\": {\"view\": {\"continuousWidth\": 400, \"continuousHeight\": 300}, \"title\": {\"anchor\": \"middle\", \"fontSize\": 16, \"offset\": 5, \"orient\": \"top\"}}, \"data\": {\"name\": \"data-362a9edb4c69c1bea9b1d0a5d2a79b7c\"}, \"mark\": \"bar\", \"encoding\": {\"color\": {\"type\": \"nominal\", \"field\": \"condition\"}, \"column\": {\"type\": \"nominal\", \"field\": \"nPts\"}, \"tooltip\": [{\"type\": \"quantitative\", \"field\": \"time\"}], \"x\": {\"type\": \"nominal\", \"field\": \"condition\"}, \"y\": {\"type\": \"quantitative\", \"field\": \"time\", \"scale\": {\"type\": \"log\"}, \"title\": \"log(total time)\"}}, \"title\": \"Print Dataframe\", \"$schema\": \"https://vega.github.io/schema/vega-lite/v4.8.1.json\", \"datasets\": {\"data-362a9edb4c69c1bea9b1d0a5d2a79b7c\": [{\"condition\": \"baseline\", \"nPts\": \"10000\", \"cell_type\": \"print_dataframe\", \"time\": 2.0925775714285715}, {\"condition\": \"baseline\", \"nPts\": \"100000\", \"cell_type\": \"print_dataframe\", \"time\": 4.560398214285715}, {\"condition\": \"baseline\", \"nPts\": \"1000000\", \"cell_type\": \"print_dataframe\", \"time\": 19.46029342857143}, {\"condition\": \"baseline\", \"nPts\": \"10000000\", \"cell_type\": \"print_dataframe\", \"time\": 171.062848}, {\"condition\": \"o1\", \"nPts\": \"10000\", \"cell_type\": \"print_dataframe\", \"time\": 1.6487685714285718}, {\"condition\": \"o1\", \"nPts\": \"100000\", \"cell_type\": \"print_dataframe\", \"time\": 2.8713929285714284}, {\"condition\": \"o1\", \"nPts\": \"1000000\", \"cell_type\": \"print_dataframe\", \"time\": 9.334235428571427}, {\"condition\": \"o1\", \"nPts\": \"10000000\", \"cell_type\": \"print_dataframe\", \"time\": 57.71680714285715}, {\"condition\": \"o1o2\", \"nPts\": \"10000\", \"cell_type\": \"print_dataframe\", \"time\": 0.9314949285714285}, {\"condition\": \"o1o2\", \"nPts\": \"100000\", \"cell_type\": \"print_dataframe\", \"time\": 1.3732372142857145}, {\"condition\": \"o1o2\", \"nPts\": \"1000000\", \"cell_type\": \"print_dataframe\", \"time\": 4.2205451428571426}, {\"condition\": \"o1o2\", \"nPts\": \"10000000\", \"cell_type\": \"print_dataframe\", \"time\": 30.272449428571427}, {\"condition\": \"o1o2o3\", \"nPts\": \"10000\", \"cell_type\": \"print_dataframe\", \"time\": 0.22921721428571426}, {\"condition\": \"o1o2o3\", \"nPts\": \"100000\", \"cell_type\": \"print_dataframe\", \"time\": 0.464724}, {\"condition\": \"o1o2o3\", \"nPts\": \"1000000\", \"cell_type\": \"print_dataframe\", \"time\": 2.5530188571428574}, {\"condition\": \"o1o2o3\", \"nPts\": \"10000000\", \"cell_type\": \"print_dataframe\", \"time\": 21.44198485714286}, {\"condition\": \"pandas\", \"nPts\": \"10000\", \"cell_type\": \"print_dataframe\", \"time\": 0.044312928571428566}, {\"condition\": \"pandas\", \"nPts\": \"100000\", \"cell_type\": \"print_dataframe\", \"time\": 0.044166642857142856}, {\"condition\": \"pandas\", \"nPts\": \"1000000\", \"cell_type\": \"print_dataframe\", \"time\": 0.0450655}, {\"condition\": \"pandas\", \"nPts\": \"10000000\", \"cell_type\": \"print_dataframe\", \"time\": 0.05315000000000001}]}}, {\"mode\": \"vega-lite\"});\n",
       "</script>"
      ],
      "text/plain": [
       "alt.Chart(...)"
      ]
     },
     "execution_count": 41,
     "metadata": {},
     "output_type": "execute_result"
    }
   ],
   "source": [
    "overall = trial.groupby([\"condition\",\"nPts\",\"cell_type\"]).mean().reset_index()\n",
    "pdf = overall[overall[\"cell_type\"] ==\"print_dataframe\"]\n",
    "chart = alt.Chart(pdf,title = \"Print Dataframe\").mark_bar().encode(\n",
    "    x = \"condition\",\n",
    "    y = alt.Y(\"time\",scale=alt.Scale(type='log'),title=\"log(total time)\"),\n",
    "    column=\"nPts\",\n",
    "    color=\"condition\",\n",
    "    tooltip=[\"time\"]\n",
    ")\n",
    "chart = chart.configure_title(fontSize=16, offset=5, orient='top', anchor='middle')\n",
    "chart"
   ]
  },
  {
   "cell_type": "markdown",
   "metadata": {},
   "source": [
    "------------"
   ]
  },
  {
   "cell_type": "markdown",
   "metadata": {},
   "source": [
    "### Communities post processing"
   ]
  },
  {
   "cell_type": "code",
   "execution_count": 42,
   "metadata": {},
   "outputs": [
    {
     "name": "stdout",
     "output_type": "stream",
     "text": [
      "python             30\n",
      "print_dataframe    14\n",
      "print_series        4\n",
      "dtype: int64\n"
     ]
    }
   ],
   "source": [
    "count = []\n",
    "with open(\"communities/communities.ipynb\") as json_file:\n",
    "    data = json.load(json_file)\n",
    "    for cell in data['cells']:\n",
    "        label = cell[\"source\"][0]\n",
    "        cell_type = None\n",
    "        if \"# {{NO LUX}}\" in label:\n",
    "            cell_type = \"python\"\n",
    "        elif \"# {{PRINT SERIES}}\" in label:\n",
    "            cell_type = \"print_series\"\n",
    "        elif \"# {{PRINT DF}}\" in label:\n",
    "            cell_type = \"print_dataframe\"\n",
    "        count.append(cell_type)\n",
    "count = pd.Series(count)\n",
    "print(count.value_counts())"
   ]
  },
  {
   "cell_type": "code",
   "execution_count": 43,
   "metadata": {},
   "outputs": [],
   "source": [
    "import glob\n",
    "import time\n",
    "import papermill as pm\n",
    "import pandas as pd\n",
    "import numpy as np\n",
    "import json\n",
    "trial = []\n",
    "\n",
    "for nb_name in glob.glob(\"communities/communities_*_output.ipynb\"):\n",
    "# for nb_name in glob.glob(\"airbnb/airbnb_*_*_output.ipynb\"):\n",
    "    snb = nb_name.split(\"_\")\n",
    "    if len(snb)==4:\n",
    "        _, condition, nPts, _ = nb_name.split(\"_\")\n",
    "    elif len(snb)==3:\n",
    "        condition = \"pandas\"\n",
    "        _,  nPts, _ = nb_name.split(\"_\")\n",
    "    with open(nb_name) as json_file:\n",
    "        data = json.load(json_file)\n",
    "        for cell in data['cells']:\n",
    "            label = cell[\"source\"][0]\n",
    "            cell_type = None\n",
    "            if \"# {{NO LUX}}\" in label:\n",
    "                cell_type = \"python\"\n",
    "            elif \"# {{PRINT SERIES}}\" in label:\n",
    "                cell_type = \"print_series\"\n",
    "            elif \"# {{PRINT DF}}\" in label:\n",
    "                cell_type = \"print_dataframe\"\n",
    "            duration = cell[\"metadata\"][\"papermill\"][\"duration\"]\n",
    "#             print(nb_name, cell_type, duration)\n",
    "            trial.append([condition, nPts,cell_type, duration])\n",
    "\n",
    "trial = pd.DataFrame(trial,columns=[\"condition\",\"nPts\",\"cell_type\",\"time\"])"
   ]
  },
  {
   "cell_type": "code",
   "execution_count": 44,
   "metadata": {},
   "outputs": [],
   "source": [
    "trial.to_csv(\"../../paper/communities_macrobenchmark.csv\",index=None)"
   ]
  },
  {
   "cell_type": "code",
   "execution_count": 45,
   "metadata": {},
   "outputs": [
    {
     "data": {
      "text/html": [
       "\n",
       "<div id=\"altair-viz-3961e03a465743faaa413a65464ab6c7\"></div>\n",
       "<script type=\"text/javascript\">\n",
       "  (function(spec, embedOpt){\n",
       "    let outputDiv = document.currentScript.previousElementSibling;\n",
       "    if (outputDiv.id !== \"altair-viz-3961e03a465743faaa413a65464ab6c7\") {\n",
       "      outputDiv = document.getElementById(\"altair-viz-3961e03a465743faaa413a65464ab6c7\");\n",
       "    }\n",
       "    const paths = {\n",
       "      \"vega\": \"https://cdn.jsdelivr.net/npm//vega@5?noext\",\n",
       "      \"vega-lib\": \"https://cdn.jsdelivr.net/npm//vega-lib?noext\",\n",
       "      \"vega-lite\": \"https://cdn.jsdelivr.net/npm//vega-lite@4.8.1?noext\",\n",
       "      \"vega-embed\": \"https://cdn.jsdelivr.net/npm//vega-embed@6?noext\",\n",
       "    };\n",
       "\n",
       "    function loadScript(lib) {\n",
       "      return new Promise(function(resolve, reject) {\n",
       "        var s = document.createElement('script');\n",
       "        s.src = paths[lib];\n",
       "        s.async = true;\n",
       "        s.onload = () => resolve(paths[lib]);\n",
       "        s.onerror = () => reject(`Error loading script: ${paths[lib]}`);\n",
       "        document.getElementsByTagName(\"head\")[0].appendChild(s);\n",
       "      });\n",
       "    }\n",
       "\n",
       "    function showError(err) {\n",
       "      outputDiv.innerHTML = `<div class=\"error\" style=\"color:red;\">${err}</div>`;\n",
       "      throw err;\n",
       "    }\n",
       "\n",
       "    function displayChart(vegaEmbed) {\n",
       "      vegaEmbed(outputDiv, spec, embedOpt)\n",
       "        .catch(err => showError(`Javascript Error: ${err.message}<br>This usually means there's a typo in your chart specification. See the javascript console for the full traceback.`));\n",
       "    }\n",
       "\n",
       "    if(typeof define === \"function\" && define.amd) {\n",
       "      requirejs.config({paths});\n",
       "      require([\"vega-embed\"], displayChart, err => showError(`Error loading script: ${err.message}`));\n",
       "    } else if (typeof vegaEmbed === \"function\") {\n",
       "      displayChart(vegaEmbed);\n",
       "    } else {\n",
       "      loadScript(\"vega\")\n",
       "        .then(() => loadScript(\"vega-lite\"))\n",
       "        .then(() => loadScript(\"vega-embed\"))\n",
       "        .catch(showError)\n",
       "        .then(() => displayChart(vegaEmbed));\n",
       "    }\n",
       "  })({\"config\": {\"view\": {\"continuousWidth\": 400, \"continuousHeight\": 300}, \"title\": {\"anchor\": \"middle\", \"fontSize\": 16, \"offset\": 5, \"orient\": \"top\"}}, \"data\": {\"name\": \"data-2f4535820c87a6c5410366daa75b0aa2\"}, \"mark\": \"bar\", \"encoding\": {\"color\": {\"type\": \"nominal\", \"field\": \"condition\"}, \"column\": {\"type\": \"nominal\", \"field\": \"nPts\"}, \"tooltip\": [{\"type\": \"quantitative\", \"field\": \"time\"}], \"x\": {\"type\": \"nominal\", \"field\": \"condition\"}, \"y\": {\"type\": \"quantitative\", \"field\": \"time\", \"scale\": {\"type\": \"log\"}, \"title\": \"log(total time)\"}}, \"title\": \"Overall\", \"$schema\": \"https://vega.github.io/schema/vega-lite/v4.8.1.json\", \"datasets\": {\"data-2f4535820c87a6c5410366daa75b0aa2\": [{\"condition\": \"baseline\", \"nPts\": \"100\", \"time\": 3051.7312560000005}, {\"condition\": \"baseline\", \"nPts\": \"1000\", \"time\": 2912.189566}, {\"condition\": \"baseline\", \"nPts\": \"10000\", \"time\": 13939.085929000006}, {\"condition\": \"baseline\", \"nPts\": \"100000\", \"time\": 18438.295636000003}, {\"condition\": \"o1\", \"nPts\": \"100\", \"time\": 1150.3307900000002}, {\"condition\": \"o1\", \"nPts\": \"1000\", \"time\": 1052.11275}, {\"condition\": \"o1\", \"nPts\": \"10000\", \"time\": 4108.380406000001}, {\"condition\": \"o1\", \"nPts\": \"100000\", \"time\": 6932.437011}, {\"condition\": \"o1o2\", \"nPts\": \"100\", \"time\": 1042.2026520000006}, {\"condition\": \"o1o2\", \"nPts\": \"1000\", \"time\": 934.6349879999999}, {\"condition\": \"o1o2\", \"nPts\": \"10000\", \"time\": 910.6850569999999}, {\"condition\": \"o1o2\", \"nPts\": \"100000\", \"time\": 3027.906459}, {\"condition\": \"o1o2o3\", \"nPts\": \"100\", \"time\": 22.830042}, {\"condition\": \"o1o2o3\", \"nPts\": \"1000\", \"time\": 23.850692}, {\"condition\": \"o1o2o3\", \"nPts\": \"10000\", \"time\": 47.258613999999994}, {\"condition\": \"o1o2o3\", \"nPts\": \"100000\", \"time\": 2435.6240199999997}, {\"condition\": \"pandas\", \"nPts\": \"100\", \"time\": 8.573481000000001}, {\"condition\": \"pandas\", \"nPts\": \"1000\", \"time\": 10.336834000000001}, {\"condition\": \"pandas\", \"nPts\": \"10000\", \"time\": 34.551187}, {\"condition\": \"pandas\", \"nPts\": \"100000\", \"time\": 2504.1317020000006}]}}, {\"mode\": \"vega-lite\"});\n",
       "</script>"
      ],
      "text/plain": [
       "alt.Chart(...)"
      ]
     },
     "execution_count": 45,
     "metadata": {},
     "output_type": "execute_result"
    }
   ],
   "source": [
    "overall = trial.groupby([\"condition\",\"nPts\"]).sum().reset_index()\n",
    "chart = alt.Chart(overall,title = \"Overall\").mark_bar().encode(\n",
    "    x = \"condition\",\n",
    "    y = alt.Y(\"time\",scale=alt.Scale(type='log'),title=\"log(total time)\"),\n",
    "    column=\"nPts\",\n",
    "    color=\"condition\",\n",
    "    tooltip=[\"time\"]\n",
    ")\n",
    "chart = chart.configure_title(fontSize=16, offset=5, orient='top', anchor='middle')\n",
    "chart"
   ]
  },
  {
   "cell_type": "code",
   "execution_count": 46,
   "metadata": {},
   "outputs": [
    {
     "data": {
      "text/html": [
       "\n",
       "<div id=\"altair-viz-40636208569e42d18f643120e7984ba3\"></div>\n",
       "<script type=\"text/javascript\">\n",
       "  (function(spec, embedOpt){\n",
       "    let outputDiv = document.currentScript.previousElementSibling;\n",
       "    if (outputDiv.id !== \"altair-viz-40636208569e42d18f643120e7984ba3\") {\n",
       "      outputDiv = document.getElementById(\"altair-viz-40636208569e42d18f643120e7984ba3\");\n",
       "    }\n",
       "    const paths = {\n",
       "      \"vega\": \"https://cdn.jsdelivr.net/npm//vega@5?noext\",\n",
       "      \"vega-lib\": \"https://cdn.jsdelivr.net/npm//vega-lib?noext\",\n",
       "      \"vega-lite\": \"https://cdn.jsdelivr.net/npm//vega-lite@4.8.1?noext\",\n",
       "      \"vega-embed\": \"https://cdn.jsdelivr.net/npm//vega-embed@6?noext\",\n",
       "    };\n",
       "\n",
       "    function loadScript(lib) {\n",
       "      return new Promise(function(resolve, reject) {\n",
       "        var s = document.createElement('script');\n",
       "        s.src = paths[lib];\n",
       "        s.async = true;\n",
       "        s.onload = () => resolve(paths[lib]);\n",
       "        s.onerror = () => reject(`Error loading script: ${paths[lib]}`);\n",
       "        document.getElementsByTagName(\"head\")[0].appendChild(s);\n",
       "      });\n",
       "    }\n",
       "\n",
       "    function showError(err) {\n",
       "      outputDiv.innerHTML = `<div class=\"error\" style=\"color:red;\">${err}</div>`;\n",
       "      throw err;\n",
       "    }\n",
       "\n",
       "    function displayChart(vegaEmbed) {\n",
       "      vegaEmbed(outputDiv, spec, embedOpt)\n",
       "        .catch(err => showError(`Javascript Error: ${err.message}<br>This usually means there's a typo in your chart specification. See the javascript console for the full traceback.`));\n",
       "    }\n",
       "\n",
       "    if(typeof define === \"function\" && define.amd) {\n",
       "      requirejs.config({paths});\n",
       "      require([\"vega-embed\"], displayChart, err => showError(`Error loading script: ${err.message}`));\n",
       "    } else if (typeof vegaEmbed === \"function\") {\n",
       "      displayChart(vegaEmbed);\n",
       "    } else {\n",
       "      loadScript(\"vega\")\n",
       "        .then(() => loadScript(\"vega-lite\"))\n",
       "        .then(() => loadScript(\"vega-embed\"))\n",
       "        .catch(showError)\n",
       "        .then(() => displayChart(vegaEmbed));\n",
       "    }\n",
       "  })({\"config\": {\"view\": {\"continuousWidth\": 400, \"continuousHeight\": 300}, \"title\": {\"anchor\": \"middle\", \"fontSize\": 16, \"offset\": 5, \"orient\": \"top\"}}, \"data\": {\"name\": \"data-850aa56dcef443dc6419ec0bc44b2aa1\"}, \"mark\": \"bar\", \"encoding\": {\"color\": {\"type\": \"nominal\", \"field\": \"condition\"}, \"column\": {\"type\": \"nominal\", \"field\": \"nPts\"}, \"x\": {\"type\": \"nominal\", \"field\": \"condition\"}, \"y\": {\"type\": \"quantitative\", \"field\": \"time\", \"scale\": {\"type\": \"log\"}, \"title\": \"log(total time)\"}}, \"title\": \"Non-Lux Python Operations\", \"$schema\": \"https://vega.github.io/schema/vega-lite/v4.8.1.json\", \"datasets\": {\"data-850aa56dcef443dc6419ec0bc44b2aa1\": [{\"condition\": \"baseline\", \"nPts\": \"100\", \"cell_type\": \"python\", \"time\": 57.5379425}, {\"condition\": \"baseline\", \"nPts\": \"1000\", \"cell_type\": \"python\", \"time\": 54.178789800000004}, {\"condition\": \"baseline\", \"nPts\": \"10000\", \"cell_type\": \"python\", \"time\": 270.24098523333333}, {\"condition\": \"baseline\", \"nPts\": \"100000\", \"cell_type\": \"python\", \"time\": 391.47726006666676}, {\"condition\": \"o1\", \"nPts\": \"100\", \"cell_type\": \"python\", \"time\": 0.2549958}, {\"condition\": \"o1\", \"nPts\": \"1000\", \"cell_type\": \"python\", \"time\": 0.28356923333333334}, {\"condition\": \"o1\", \"nPts\": \"10000\", \"cell_type\": \"python\", \"time\": 1.0712342666666665}, {\"condition\": \"o1\", \"nPts\": \"100000\", \"cell_type\": \"python\", \"time\": 73.15493386666665}, {\"condition\": \"o1o2\", \"nPts\": \"100\", \"cell_type\": \"python\", \"time\": 0.2283490333333333}, {\"condition\": \"o1o2\", \"nPts\": \"1000\", \"cell_type\": \"python\", \"time\": 0.28597963333333337}, {\"condition\": \"o1o2\", \"nPts\": \"10000\", \"cell_type\": \"python\", \"time\": 1.0898314999999998}, {\"condition\": \"o1o2\", \"nPts\": \"100000\", \"cell_type\": \"python\", \"time\": 71.71211863333333}, {\"condition\": \"o1o2o3\", \"nPts\": \"100\", \"cell_type\": \"python\", \"time\": 0.23738219999999996}, {\"condition\": \"o1o2o3\", \"nPts\": \"1000\", \"cell_type\": \"python\", \"time\": 0.2926970333333333}, {\"condition\": \"o1o2o3\", \"nPts\": \"10000\", \"cell_type\": \"python\", \"time\": 1.0736996}, {\"condition\": \"o1o2o3\", \"nPts\": \"100000\", \"cell_type\": \"python\", \"time\": 80.616937}, {\"condition\": \"pandas\", \"nPts\": \"100\", \"cell_type\": \"python\", \"time\": 0.24410050000000005}, {\"condition\": \"pandas\", \"nPts\": \"1000\", \"cell_type\": \"python\", \"time\": 0.3050648}, {\"condition\": \"pandas\", \"nPts\": \"10000\", \"cell_type\": \"python\", \"time\": 1.1121905}, {\"condition\": \"pandas\", \"nPts\": \"100000\", \"cell_type\": \"python\", \"time\": 83.41755243333336}]}}, {\"mode\": \"vega-lite\"});\n",
       "</script>"
      ],
      "text/plain": [
       "alt.Chart(...)"
      ]
     },
     "execution_count": 46,
     "metadata": {},
     "output_type": "execute_result"
    }
   ],
   "source": [
    "overall = trial.groupby([\"condition\",\"nPts\",\"cell_type\"]).mean().reset_index()\n",
    "pdf = overall[overall[\"cell_type\"] ==\"python\"]\n",
    "chart = alt.Chart(pdf,title = \"Non-Lux Python Operations\").mark_bar().encode(\n",
    "    x = \"condition\",\n",
    "    y = alt.Y(\"time\",scale=alt.Scale(type='log'),title=\"log(total time)\"),\n",
    "    column=\"nPts\",\n",
    "    color=\"condition\"\n",
    ")\n",
    "chart = chart.configure_title(fontSize=16, offset=5, orient='top', anchor='middle')\n",
    "chart"
   ]
  },
  {
   "cell_type": "code",
   "execution_count": 47,
   "metadata": {},
   "outputs": [
    {
     "data": {
      "text/html": [
       "\n",
       "<div id=\"altair-viz-ddf0fd63fc3b44bf923a2caad2340025\"></div>\n",
       "<script type=\"text/javascript\">\n",
       "  (function(spec, embedOpt){\n",
       "    let outputDiv = document.currentScript.previousElementSibling;\n",
       "    if (outputDiv.id !== \"altair-viz-ddf0fd63fc3b44bf923a2caad2340025\") {\n",
       "      outputDiv = document.getElementById(\"altair-viz-ddf0fd63fc3b44bf923a2caad2340025\");\n",
       "    }\n",
       "    const paths = {\n",
       "      \"vega\": \"https://cdn.jsdelivr.net/npm//vega@5?noext\",\n",
       "      \"vega-lib\": \"https://cdn.jsdelivr.net/npm//vega-lib?noext\",\n",
       "      \"vega-lite\": \"https://cdn.jsdelivr.net/npm//vega-lite@4.8.1?noext\",\n",
       "      \"vega-embed\": \"https://cdn.jsdelivr.net/npm//vega-embed@6?noext\",\n",
       "    };\n",
       "\n",
       "    function loadScript(lib) {\n",
       "      return new Promise(function(resolve, reject) {\n",
       "        var s = document.createElement('script');\n",
       "        s.src = paths[lib];\n",
       "        s.async = true;\n",
       "        s.onload = () => resolve(paths[lib]);\n",
       "        s.onerror = () => reject(`Error loading script: ${paths[lib]}`);\n",
       "        document.getElementsByTagName(\"head\")[0].appendChild(s);\n",
       "      });\n",
       "    }\n",
       "\n",
       "    function showError(err) {\n",
       "      outputDiv.innerHTML = `<div class=\"error\" style=\"color:red;\">${err}</div>`;\n",
       "      throw err;\n",
       "    }\n",
       "\n",
       "    function displayChart(vegaEmbed) {\n",
       "      vegaEmbed(outputDiv, spec, embedOpt)\n",
       "        .catch(err => showError(`Javascript Error: ${err.message}<br>This usually means there's a typo in your chart specification. See the javascript console for the full traceback.`));\n",
       "    }\n",
       "\n",
       "    if(typeof define === \"function\" && define.amd) {\n",
       "      requirejs.config({paths});\n",
       "      require([\"vega-embed\"], displayChart, err => showError(`Error loading script: ${err.message}`));\n",
       "    } else if (typeof vegaEmbed === \"function\") {\n",
       "      displayChart(vegaEmbed);\n",
       "    } else {\n",
       "      loadScript(\"vega\")\n",
       "        .then(() => loadScript(\"vega-lite\"))\n",
       "        .then(() => loadScript(\"vega-embed\"))\n",
       "        .catch(showError)\n",
       "        .then(() => displayChart(vegaEmbed));\n",
       "    }\n",
       "  })({\"config\": {\"view\": {\"continuousWidth\": 400, \"continuousHeight\": 300}, \"title\": {\"anchor\": \"middle\", \"fontSize\": 16, \"offset\": 5, \"orient\": \"top\"}}, \"data\": {\"name\": \"data-a054eff474470404cbc18609c1bec85d\"}, \"mark\": \"bar\", \"encoding\": {\"color\": {\"type\": \"nominal\", \"field\": \"condition\"}, \"column\": {\"type\": \"nominal\", \"field\": \"nPts\"}, \"tooltip\": [{\"type\": \"quantitative\", \"field\": \"time\"}], \"x\": {\"type\": \"nominal\", \"field\": \"condition\"}, \"y\": {\"type\": \"quantitative\", \"field\": \"time\", \"scale\": {\"type\": \"log\"}, \"title\": \"log(total time)\"}}, \"selection\": {\"selector002\": {\"type\": \"interval\", \"bind\": \"scales\", \"encodings\": [\"x\", \"y\"]}}, \"title\": \"Print Series\", \"$schema\": \"https://vega.github.io/schema/vega-lite/v4.8.1.json\", \"datasets\": {\"data-a054eff474470404cbc18609c1bec85d\": [{\"condition\": \"baseline\", \"nPts\": \"100\", \"cell_type\": \"print_series\", \"time\": 0.08809149999999999}, {\"condition\": \"baseline\", \"nPts\": \"1000\", \"cell_type\": \"print_series\", \"time\": 0.09665175000000001}, {\"condition\": \"baseline\", \"nPts\": \"10000\", \"cell_type\": \"print_series\", \"time\": 0.09548275}, {\"condition\": \"baseline\", \"nPts\": \"100000\", \"cell_type\": \"print_series\", \"time\": 0.12680275}, {\"condition\": \"o1\", \"nPts\": \"100\", \"cell_type\": \"print_series\", \"time\": 0.097861}, {\"condition\": \"o1\", \"nPts\": \"1000\", \"cell_type\": \"print_series\", \"time\": 0.08776125}, {\"condition\": \"o1\", \"nPts\": \"10000\", \"cell_type\": \"print_series\", \"time\": 0.08603975}, {\"condition\": \"o1\", \"nPts\": \"100000\", \"cell_type\": \"print_series\", \"time\": 0.10278600000000002}, {\"condition\": \"o1o2\", \"nPts\": \"100\", \"cell_type\": \"print_series\", \"time\": 0.08835875000000001}, {\"condition\": \"o1o2\", \"nPts\": \"1000\", \"cell_type\": \"print_series\", \"time\": 0.08797525}, {\"condition\": \"o1o2\", \"nPts\": \"10000\", \"cell_type\": \"print_series\", \"time\": 0.08817025}, {\"condition\": \"o1o2\", \"nPts\": \"100000\", \"cell_type\": \"print_series\", \"time\": 0.11004}, {\"condition\": \"o1o2o3\", \"nPts\": \"100\", \"cell_type\": \"print_series\", \"time\": 0.07346275}, {\"condition\": \"o1o2o3\", \"nPts\": \"1000\", \"cell_type\": \"print_series\", \"time\": 0.07464225000000001}, {\"condition\": \"o1o2o3\", \"nPts\": \"10000\", \"cell_type\": \"print_series\", \"time\": 0.07169350000000001}, {\"condition\": \"o1o2o3\", \"nPts\": \"100000\", \"cell_type\": \"print_series\", \"time\": 0.08207975}, {\"condition\": \"pandas\", \"nPts\": \"100\", \"cell_type\": \"print_series\", \"time\": 0.03967325}, {\"condition\": \"pandas\", \"nPts\": \"1000\", \"cell_type\": \"print_series\", \"time\": 0.039003}, {\"condition\": \"pandas\", \"nPts\": \"10000\", \"cell_type\": \"print_series\", \"time\": 0.037902000000000005}, {\"condition\": \"pandas\", \"nPts\": \"100000\", \"cell_type\": \"print_series\", \"time\": 0.036655}]}}, {\"mode\": \"vega-lite\"});\n",
       "</script>"
      ],
      "text/plain": [
       "alt.Chart(...)"
      ]
     },
     "execution_count": 47,
     "metadata": {},
     "output_type": "execute_result"
    }
   ],
   "source": [
    "overall = trial.groupby([\"condition\",\"nPts\",\"cell_type\"]).mean().reset_index()\n",
    "pdf = overall[overall[\"cell_type\"] ==\"print_series\"]\n",
    "chart = alt.Chart(pdf,title = \"Print Series\").mark_bar().encode(\n",
    "    x = \"condition\",\n",
    "    y = alt.Y(\"time\",scale=alt.Scale(type='log'),title=\"log(total time)\"),\n",
    "    column=\"nPts\",\n",
    "    color=\"condition\",\n",
    "    tooltip=[\"time\"]\n",
    ")\n",
    "chart = chart.configure_title(fontSize=16, offset=5, orient='top', anchor='middle')\n",
    "chart.interactive()"
   ]
  },
  {
   "cell_type": "code",
   "execution_count": 48,
   "metadata": {},
   "outputs": [
    {
     "data": {
      "text/html": [
       "\n",
       "<div id=\"altair-viz-3c88d5ec7ab648ba90f60eaf37b890e4\"></div>\n",
       "<script type=\"text/javascript\">\n",
       "  (function(spec, embedOpt){\n",
       "    let outputDiv = document.currentScript.previousElementSibling;\n",
       "    if (outputDiv.id !== \"altair-viz-3c88d5ec7ab648ba90f60eaf37b890e4\") {\n",
       "      outputDiv = document.getElementById(\"altair-viz-3c88d5ec7ab648ba90f60eaf37b890e4\");\n",
       "    }\n",
       "    const paths = {\n",
       "      \"vega\": \"https://cdn.jsdelivr.net/npm//vega@5?noext\",\n",
       "      \"vega-lib\": \"https://cdn.jsdelivr.net/npm//vega-lib?noext\",\n",
       "      \"vega-lite\": \"https://cdn.jsdelivr.net/npm//vega-lite@4.8.1?noext\",\n",
       "      \"vega-embed\": \"https://cdn.jsdelivr.net/npm//vega-embed@6?noext\",\n",
       "    };\n",
       "\n",
       "    function loadScript(lib) {\n",
       "      return new Promise(function(resolve, reject) {\n",
       "        var s = document.createElement('script');\n",
       "        s.src = paths[lib];\n",
       "        s.async = true;\n",
       "        s.onload = () => resolve(paths[lib]);\n",
       "        s.onerror = () => reject(`Error loading script: ${paths[lib]}`);\n",
       "        document.getElementsByTagName(\"head\")[0].appendChild(s);\n",
       "      });\n",
       "    }\n",
       "\n",
       "    function showError(err) {\n",
       "      outputDiv.innerHTML = `<div class=\"error\" style=\"color:red;\">${err}</div>`;\n",
       "      throw err;\n",
       "    }\n",
       "\n",
       "    function displayChart(vegaEmbed) {\n",
       "      vegaEmbed(outputDiv, spec, embedOpt)\n",
       "        .catch(err => showError(`Javascript Error: ${err.message}<br>This usually means there's a typo in your chart specification. See the javascript console for the full traceback.`));\n",
       "    }\n",
       "\n",
       "    if(typeof define === \"function\" && define.amd) {\n",
       "      requirejs.config({paths});\n",
       "      require([\"vega-embed\"], displayChart, err => showError(`Error loading script: ${err.message}`));\n",
       "    } else if (typeof vegaEmbed === \"function\") {\n",
       "      displayChart(vegaEmbed);\n",
       "    } else {\n",
       "      loadScript(\"vega\")\n",
       "        .then(() => loadScript(\"vega-lite\"))\n",
       "        .then(() => loadScript(\"vega-embed\"))\n",
       "        .catch(showError)\n",
       "        .then(() => displayChart(vegaEmbed));\n",
       "    }\n",
       "  })({\"config\": {\"view\": {\"continuousWidth\": 400, \"continuousHeight\": 300}, \"title\": {\"anchor\": \"middle\", \"fontSize\": 16, \"offset\": 5, \"orient\": \"top\"}}, \"data\": {\"name\": \"data-3169a273f1bcc456302442368bac00dd\"}, \"mark\": \"bar\", \"encoding\": {\"color\": {\"type\": \"nominal\", \"field\": \"condition\"}, \"column\": {\"type\": \"nominal\", \"field\": \"nPts\"}, \"tooltip\": [{\"type\": \"quantitative\", \"field\": \"time\"}], \"x\": {\"type\": \"nominal\", \"field\": \"condition\"}, \"y\": {\"type\": \"quantitative\", \"field\": \"time\", \"scale\": {\"type\": \"log\"}, \"title\": \"log(total time)\"}}, \"title\": \"Print Dataframe\", \"$schema\": \"https://vega.github.io/schema/vega-lite/v4.8.1.json\", \"datasets\": {\"data-3169a273f1bcc456302442368bac00dd\": [{\"condition\": \"baseline\", \"nPts\": \"100\", \"cell_type\": \"print_dataframe\", \"time\": 94.60457728571427}, {\"condition\": \"baseline\", \"nPts\": \"1000\", \"cell_type\": \"print_dataframe\", \"time\": 91.8322525714286}, {\"condition\": \"baseline\", \"nPts\": \"10000\", \"cell_type\": \"print_dataframe\", \"time\": 416.45978350000007}, {\"condition\": \"baseline\", \"nPts\": \"100000\", \"cell_type\": \"print_dataframe\", \"time\": 478.04834850000003}, {\"condition\": \"o1\", \"nPts\": \"100\", \"cell_type\": \"print_dataframe\", \"time\": 81.51049671428572}, {\"condition\": \"o1\", \"nPts\": \"1000\", \"cell_type\": \"print_dataframe\", \"time\": 74.46724449999999}, {\"condition\": \"o1\", \"nPts\": \"10000\", \"cell_type\": \"print_dataframe\", \"time\": 291.0843593571429}, {\"condition\": \"o1\", \"nPts\": \"100000\", \"cell_type\": \"print_dataframe\", \"time\": 338.33382892857145}, {\"condition\": \"o1o2\", \"nPts\": \"100\", \"cell_type\": \"print_dataframe\", \"time\": 73.85540957142858}, {\"condition\": \"o1o2\", \"nPts\": \"1000\", \"cell_type\": \"print_dataframe\", \"time\": 66.060728}, {\"condition\": \"o1o2\", \"nPts\": \"10000\", \"cell_type\": \"print_dataframe\", \"time\": 62.63097149999999}, {\"condition\": \"o1o2\", \"nPts\": \"100000\", \"cell_type\": \"print_dataframe\", \"time\": 62.51888442857143}, {\"condition\": \"o1o2o3\", \"nPts\": \"100\", \"cell_type\": \"print_dataframe\", \"time\": 1.0389601428571429}, {\"condition\": \"o1o2o3\", \"nPts\": \"1000\", \"cell_type\": \"print_dataframe\", \"time\": 0.9879574285714285}, {\"condition\": \"o1o2o3\", \"nPts\": \"10000\", \"cell_type\": \"print_dataframe\", \"time\": 0.9939160714285714}, {\"condition\": \"o1o2o3\", \"nPts\": \"100000\", \"cell_type\": \"print_dataframe\", \"time\": 1.148356}, {\"condition\": \"pandas\", \"nPts\": \"100\", \"cell_type\": \"print_dataframe\", \"time\": 0.06955235714285715}, {\"condition\": \"pandas\", \"nPts\": \"1000\", \"cell_type\": \"print_dataframe\", \"time\": 0.06597385714285714}, {\"condition\": \"pandas\", \"nPts\": \"10000\", \"cell_type\": \"print_dataframe\", \"time\": 0.06551171428571427}, {\"condition\": \"pandas\", \"nPts\": \"100000\", \"cell_type\": \"print_dataframe\", \"time\": 0.09572107142857142}]}}, {\"mode\": \"vega-lite\"});\n",
       "</script>"
      ],
      "text/plain": [
       "alt.Chart(...)"
      ]
     },
     "execution_count": 48,
     "metadata": {},
     "output_type": "execute_result"
    }
   ],
   "source": [
    "overall = trial.groupby([\"condition\",\"nPts\",\"cell_type\"]).mean().reset_index()\n",
    "pdf = overall[overall[\"cell_type\"] ==\"print_dataframe\"]\n",
    "chart = alt.Chart(pdf,title = \"Print Dataframe\").mark_bar().encode(\n",
    "    x = \"condition\",\n",
    "    y = alt.Y(\"time\",scale=alt.Scale(type='log'),title=\"log(total time)\"),\n",
    "    column=\"nPts\",\n",
    "    color=\"condition\",\n",
    "    tooltip=[\"time\"]\n",
    ")\n",
    "chart = chart.configure_title(fontSize=16, offset=5, orient='top', anchor='middle')\n",
    "chart"
   ]
  },
  {
   "cell_type": "markdown",
   "metadata": {},
   "source": [
    "----------------"
   ]
  },
  {
   "cell_type": "code",
   "execution_count": 28,
   "metadata": {},
   "outputs": [],
   "source": [
    "df = pd.read_csv(\"macrobenchmark.csv\")"
   ]
  },
  {
   "cell_type": "code",
   "execution_count": 7,
   "metadata": {},
   "outputs": [],
   "source": [
    "df.nPts = df.nPts.astype(int)"
   ]
  },
  {
   "cell_type": "code",
   "execution_count": 8,
   "metadata": {},
   "outputs": [],
   "source": [
    "df[\"condition\"] = df.nb_name.replace({\"toy_o1.ipynb\":\"o1\",\n",
    "                    \"toy_o1o2o3.ipynb\":\"o1o2o3\",\n",
    "                    \"toy_o1o2.ipynb\":\"o1o2\",\n",
    "                    \"toy.ipynb\":\"pandas\",\n",
    "                    \"toy_baseline.ipynb\":\"no opt\"})"
   ]
  },
  {
   "cell_type": "code",
   "execution_count": 9,
   "metadata": {},
   "outputs": [
    {
     "data": {
      "text/html": [
       "\n",
       "<div id=\"altair-viz-cc958c9396ab41c7a3fa6d9daeba3695\"></div>\n",
       "<script type=\"text/javascript\">\n",
       "  (function(spec, embedOpt){\n",
       "    let outputDiv = document.currentScript.previousElementSibling;\n",
       "    if (outputDiv.id !== \"altair-viz-cc958c9396ab41c7a3fa6d9daeba3695\") {\n",
       "      outputDiv = document.getElementById(\"altair-viz-cc958c9396ab41c7a3fa6d9daeba3695\");\n",
       "    }\n",
       "    const paths = {\n",
       "      \"vega\": \"https://cdn.jsdelivr.net/npm//vega@5?noext\",\n",
       "      \"vega-lib\": \"https://cdn.jsdelivr.net/npm//vega-lib?noext\",\n",
       "      \"vega-lite\": \"https://cdn.jsdelivr.net/npm//vega-lite@4.8.1?noext\",\n",
       "      \"vega-embed\": \"https://cdn.jsdelivr.net/npm//vega-embed@6?noext\",\n",
       "    };\n",
       "\n",
       "    function loadScript(lib) {\n",
       "      return new Promise(function(resolve, reject) {\n",
       "        var s = document.createElement('script');\n",
       "        s.src = paths[lib];\n",
       "        s.async = true;\n",
       "        s.onload = () => resolve(paths[lib]);\n",
       "        s.onerror = () => reject(`Error loading script: ${paths[lib]}`);\n",
       "        document.getElementsByTagName(\"head\")[0].appendChild(s);\n",
       "      });\n",
       "    }\n",
       "\n",
       "    function showError(err) {\n",
       "      outputDiv.innerHTML = `<div class=\"error\" style=\"color:red;\">${err}</div>`;\n",
       "      throw err;\n",
       "    }\n",
       "\n",
       "    function displayChart(vegaEmbed) {\n",
       "      vegaEmbed(outputDiv, spec, embedOpt)\n",
       "        .catch(err => showError(`Javascript Error: ${err.message}<br>This usually means there's a typo in your chart specification. See the javascript console for the full traceback.`));\n",
       "    }\n",
       "\n",
       "    if(typeof define === \"function\" && define.amd) {\n",
       "      requirejs.config({paths});\n",
       "      require([\"vega-embed\"], displayChart, err => showError(`Error loading script: ${err.message}`));\n",
       "    } else if (typeof vegaEmbed === \"function\") {\n",
       "      displayChart(vegaEmbed);\n",
       "    } else {\n",
       "      loadScript(\"vega\")\n",
       "        .then(() => loadScript(\"vega-lite\"))\n",
       "        .then(() => loadScript(\"vega-embed\"))\n",
       "        .catch(showError)\n",
       "        .then(() => displayChart(vegaEmbed));\n",
       "    }\n",
       "  })({\"config\": {\"view\": {\"continuousWidth\": 400, \"continuousHeight\": 300}}, \"data\": {\"name\": \"data-e2c05423156d20ff5c6717c2bce96f36\"}, \"mark\": \"bar\", \"encoding\": {\"color\": {\"type\": \"nominal\", \"field\": \"condition\"}, \"column\": {\"type\": \"quantitative\", \"field\": \"nPts\"}, \"x\": {\"type\": \"nominal\", \"field\": \"condition\"}, \"y\": {\"type\": \"quantitative\", \"field\": \"time\", \"scale\": {\"type\": \"log\"}, \"title\": \"log(total time)\"}}, \"$schema\": \"https://vega.github.io/schema/vega-lite/v4.8.1.json\", \"datasets\": {\"data-e2c05423156d20ff5c6717c2bce96f36\": [{\"nb_name\": \"toy_o1o2.ipynb\", \"time\": 46.536996293, \"nPts\": 10000, \"condition\": \"o1o2\"}, {\"nb_name\": \"toy.ipynb\", \"time\": 21.622648375999997, \"nPts\": 10000, \"condition\": \"pandas\"}, {\"nb_name\": \"toy_o1.ipynb\", \"time\": 50.335453305, \"nPts\": 10000, \"condition\": \"o1\"}, {\"nb_name\": \"toy_o1o2o3.ipynb\", \"time\": 33.05194930500001, \"nPts\": 10000, \"condition\": \"o1o2o3\"}, {\"nb_name\": \"toy_baseline.ipynb\", \"time\": 103.218829366, \"nPts\": 10000, \"condition\": \"no opt\"}, {\"nb_name\": \"toy_o1o2.ipynb\", \"time\": 41.00393189999997, \"nPts\": 100000, \"condition\": \"o1o2\"}, {\"nb_name\": \"toy.ipynb\", \"time\": 21.21497848300004, \"nPts\": 100000, \"condition\": \"pandas\"}, {\"nb_name\": \"toy_o1.ipynb\", \"time\": 50.503305091000016, \"nPts\": 100000, \"condition\": \"o1\"}, {\"nb_name\": \"toy_o1o2o3.ipynb\", \"time\": 24.73619107999997, \"nPts\": 100000, \"condition\": \"o1o2o3\"}, {\"nb_name\": \"toy_baseline.ipynb\", \"time\": 122.73027056600006, \"nPts\": 100000, \"condition\": \"no opt\"}, {\"nb_name\": \"toy_o1o2.ipynb\", \"time\": 62.10186884999996, \"nPts\": 1000000, \"condition\": \"o1o2\"}, {\"nb_name\": \"toy.ipynb\", \"time\": 24.20217427299997, \"nPts\": 1000000, \"condition\": \"pandas\"}, {\"nb_name\": \"toy_o1.ipynb\", \"time\": 106.01156210199996, \"nPts\": 1000000, \"condition\": \"o1\"}, {\"nb_name\": \"toy_o1o2o3.ipynb\", \"time\": 42.343533011999966, \"nPts\": 1000000, \"condition\": \"o1o2o3\"}, {\"nb_name\": \"toy_baseline.ipynb\", \"time\": 409.563452047, \"nPts\": 1000000, \"condition\": \"no opt\"}, {\"nb_name\": \"toy_o1o2.ipynb\", \"time\": 320.55005981, \"nPts\": 10000000, \"condition\": \"o1o2\"}, {\"nb_name\": \"toy.ipynb\", \"time\": 51.96934168100006, \"nPts\": 10000000, \"condition\": \"pandas\"}, {\"nb_name\": \"toy_o1.ipynb\", \"time\": 550.7182161980002, \"nPts\": 10000000, \"condition\": \"o1\"}, {\"nb_name\": \"toy_o1o2o3.ipynb\", \"time\": 197.560366535, \"nPts\": 10000000, \"condition\": \"o1o2o3\"}, {\"nb_name\": \"toy_baseline.ipynb\", \"time\": 2841.4637312690006, \"nPts\": 10000000, \"condition\": \"no opt\"}]}}, {\"mode\": \"vega-lite\"});\n",
       "</script>"
      ],
      "text/plain": [
       "alt.Chart(...)"
      ]
     },
     "execution_count": 9,
     "metadata": {},
     "output_type": "execute_result"
    }
   ],
   "source": [
    "alt.Chart(df).mark_bar().encode(\n",
    "    x = \"condition\",\n",
    "    y = alt.Y(\"time\",scale=alt.Scale(type='log'),title=\"log(total time)\"),\n",
    "    column=\"nPts\",\n",
    "    color=\"condition\"\n",
    ")"
   ]
  },
  {
   "cell_type": "code",
   "execution_count": 10,
   "metadata": {},
   "outputs": [],
   "source": [
    "# # VegaLite can not do logarithmic stacked bar since it is misleading\n",
    "# alt.Chart(df).mark_bar().encode(\n",
    "#     x = alt.X(\"nPts\",type=\"ordinal\"),\n",
    "#     y = alt.Y(\"time\"),#,scale=alt.Scale(type='log'),title=\"log(total time)\"),\n",
    "#     color=\"condition\"\n",
    "# )"
   ]
  },
  {
   "cell_type": "code",
   "execution_count": 26,
   "metadata": {},
   "outputs": [],
   "source": [
    "df = df.drop(columns=\"nb_name\")"
   ]
  },
  {
   "cell_type": "code",
   "execution_count": 53,
   "metadata": {},
   "outputs": [],
   "source": [
    "pdonly = df[df[\"condition\"]==\"pandas\"]\n",
    "best = df[df[\"condition\"]==\"o1o2o3\"]\n",
    "worst = df[df[\"condition\"]==\"no opt\"]"
   ]
  },
  {
   "cell_type": "code",
   "execution_count": null,
   "metadata": {},
   "outputs": [],
   "source": [
    "import numpy as np"
   ]
  },
  {
   "cell_type": "code",
   "execution_count": 68,
   "metadata": {},
   "outputs": [],
   "source": [
    "def pctChange(s1,s2):\n",
    "    return (np.array(s1[\"time\"])-np.array(s2[\"time\"]))/np.array(s2[\"time\"])"
   ]
  },
  {
   "cell_type": "code",
   "execution_count": 69,
   "metadata": {},
   "outputs": [
    {
     "data": {
      "text/plain": [
       "3      33.051949\n",
       "8      24.736191\n",
       "13     42.343533\n",
       "18    197.560367\n",
       "Name: time, dtype: float64"
      ]
     },
     "execution_count": 69,
     "metadata": {},
     "output_type": "execute_result"
    }
   ],
   "source": [
    "best[\"time\"]"
   ]
  },
  {
   "cell_type": "code",
   "execution_count": 70,
   "metadata": {},
   "outputs": [
    {
     "data": {
      "text/plain": [
       "array([0.52858007, 0.16597767, 0.74957558, 2.80147911])"
      ]
     },
     "execution_count": 70,
     "metadata": {},
     "output_type": "execute_result"
    }
   ],
   "source": [
    "pctChange(best,pdonly)"
   ]
  },
  {
   "cell_type": "code",
   "execution_count": 71,
   "metadata": {},
   "outputs": [
    {
     "data": {
      "text/plain": [
       "array([ 3.77364417,  4.78507636, 15.92258916, 53.6757692 ])"
      ]
     },
     "execution_count": 71,
     "metadata": {},
     "output_type": "execute_result"
    }
   ],
   "source": [
    "pctChange(worst,pdonly)"
   ]
  },
  {
   "cell_type": "code",
   "execution_count": 73,
   "metadata": {},
   "outputs": [
    {
     "data": {
      "text/plain": [
       "array([ 2.12292714,  3.96156705,  8.67239677, 13.38276199])"
      ]
     },
     "execution_count": 73,
     "metadata": {},
     "output_type": "execute_result"
    }
   ],
   "source": [
    "pctChange(worst,best)"
   ]
  },
  {
   "cell_type": "code",
   "execution_count": null,
   "metadata": {},
   "outputs": [],
   "source": []
  },
  {
   "cell_type": "code",
   "execution_count": null,
   "metadata": {},
   "outputs": [],
   "source": []
  }
 ],
 "metadata": {
  "kernelspec": {
   "display_name": "Python 3",
   "language": "python",
   "name": "python3"
  },
  "language_info": {
   "codemirror_mode": {
    "name": "ipython",
    "version": 3
   },
   "file_extension": ".py",
   "mimetype": "text/x-python",
   "name": "python",
   "nbconvert_exporter": "python",
   "pygments_lexer": "ipython3",
   "version": "3.7.7"
  }
 },
 "nbformat": 4,
 "nbformat_minor": 4
}
