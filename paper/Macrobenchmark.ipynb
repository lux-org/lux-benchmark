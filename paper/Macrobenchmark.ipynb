{
 "cells": [
  {
   "cell_type": "code",
   "execution_count": 1,
   "metadata": {},
   "outputs": [
    {
     "name": "stdout",
     "output_type": "stream",
     "text": [
      "/Users/dorislee/Desktop/Research/lux/lux-benchmark/backend/macrobenchmark\n"
     ]
    }
   ],
   "source": [
    "cd ../backend/macrobenchmark/"
   ]
  },
  {
   "cell_type": "code",
   "execution_count": 177,
   "metadata": {},
   "outputs": [
    {
     "name": "stdout",
     "output_type": "stream",
     "text": [
      "python             17\n",
      "print_dataframe    14\n",
      "print_series        7\n",
      "dtype: int64\n"
     ]
    }
   ],
   "source": [
    "import glob\n",
    "import time\n",
    "import papermill as pm\n",
    "import pandas as pd\n",
    "import numpy as np\n",
    "import json\n",
    "count = []\n",
    "with open(\"airbnb/airbnb.ipynb\") as json_file:\n",
    "    data = json.load(json_file)\n",
    "    for cell in data['cells']:\n",
    "        label = cell[\"source\"][0]\n",
    "        cell_type = None\n",
    "        if \"# {{NO LUX}}\" in label:\n",
    "            # Exclude the first two non-lux cell (all imports or read csv)\n",
    "            # code = ''.join(cell[\"source\"])\n",
    "            # if \"pd.read_csv\" not in code and \"import pandas as pd\" not in code:\n",
    "            cell_type = \"python\"\n",
    "        elif \"# {{PRINT SERIES}}\" in label:\n",
    "            cell_type = \"print_series\"\n",
    "        elif \"# {{PRINT DF}}\" in label:\n",
    "            cell_type = \"print_dataframe\"\n",
    "        count.append(cell_type)\n",
    "count = pd.Series(count)\n",
    "print(count.value_counts())"
   ]
  },
  {
   "cell_type": "code",
   "execution_count": 178,
   "metadata": {},
   "outputs": [],
   "source": [
    "trial = []\n",
    "\n",
    "for nb_name in glob.glob(\"airbnb/airbnb_*_output.ipynb\"):\n",
    "# for nb_name in glob.glob(\"airbnb/airbnb_*_*_output.ipynb\"):\n",
    "    snb = nb_name.split(\"_\")\n",
    "    if len(snb)==4:\n",
    "        _, condition, nPts, _ = nb_name.split(\"_\")\n",
    "    elif len(snb)==3:\n",
    "        condition = \"pandas\"\n",
    "        _,  nPts, _ = nb_name.split(\"_\")\n",
    "    with open(nb_name) as json_file:\n",
    "        data = json.load(json_file)\n",
    "        for cell in data['cells']:\n",
    "            label = cell[\"source\"][0]\n",
    "            cell_type = None\n",
    "            if \"# {{NO LUX}}\" in label:\n",
    "                cell_type = \"python\"\n",
    "            elif \"# {{PRINT SERIES}}\" in label:\n",
    "                cell_type = \"print_series\"\n",
    "            elif \"# {{PRINT DF}}\" in label:\n",
    "                cell_type = \"print_dataframe\"\n",
    "            duration = cell[\"metadata\"][\"papermill\"][\"duration\"]\n",
    "            trial.append([condition, nPts,cell_type, duration])\n",
    "#             from datetime import datetime\n",
    "#             if (\"execution\" in cell[\"metadata\"]):\n",
    "#                 starttime = datetime.strptime(cell[\"metadata\"][\"execution\"][\"iopub.execute_input\"],\"%Y-%m-%dT%H:%M:%S.%fZ\")\n",
    "#                 endtime = datetime.strptime(cell[\"metadata\"][\"execution\"][\"shell.execute_reply\"],\"%Y-%m-%dT%H:%M:%S.%fZ\")\n",
    "#                 duration = (endtime-starttime).total_seconds()\n",
    "#     #             print(nb_name, cell_type, duration)\n",
    "#                 trial.append([condition, nPts,cell_type, duration])\n",
    "# #             else:\n",
    "#                 print (\"skip:\",cell)"
   ]
  },
  {
   "cell_type": "code",
   "execution_count": 179,
   "metadata": {},
   "outputs": [],
   "source": [
    "trial = pd.DataFrame(trial,columns=[\"condition\",\"nPts\",\"cell_type\",\"time\"])"
   ]
  },
  {
   "cell_type": "code",
   "execution_count": 180,
   "metadata": {},
   "outputs": [],
   "source": [
    "trial.to_csv(\"../../paper/airbnb_macrobenchmark.csv\",index=None)"
   ]
  },
  {
   "cell_type": "code",
   "execution_count": 181,
   "metadata": {},
   "outputs": [],
   "source": [
    "# trial.groupby(\"cell_type\").count()"
   ]
  },
  {
   "cell_type": "markdown",
   "metadata": {},
   "source": [
    "--------------"
   ]
  },
  {
   "cell_type": "code",
   "execution_count": 182,
   "metadata": {},
   "outputs": [],
   "source": [
    "import pandas as pd\n",
    "import altair as alt"
   ]
  },
  {
   "cell_type": "code",
   "execution_count": 183,
   "metadata": {},
   "outputs": [],
   "source": [
    "overall = trial.groupby(\"condition\").sum().reset_index()"
   ]
  },
  {
   "cell_type": "code",
   "execution_count": 184,
   "metadata": {},
   "outputs": [
    {
     "data": {
      "text/html": [
       "\n",
       "<div id=\"altair-viz-fb6e2239425949a185e5ca235d141dbd\"></div>\n",
       "<script type=\"text/javascript\">\n",
       "  (function(spec, embedOpt){\n",
       "    let outputDiv = document.currentScript.previousElementSibling;\n",
       "    if (outputDiv.id !== \"altair-viz-fb6e2239425949a185e5ca235d141dbd\") {\n",
       "      outputDiv = document.getElementById(\"altair-viz-fb6e2239425949a185e5ca235d141dbd\");\n",
       "    }\n",
       "    const paths = {\n",
       "      \"vega\": \"https://cdn.jsdelivr.net/npm//vega@5?noext\",\n",
       "      \"vega-lib\": \"https://cdn.jsdelivr.net/npm//vega-lib?noext\",\n",
       "      \"vega-lite\": \"https://cdn.jsdelivr.net/npm//vega-lite@4.8.1?noext\",\n",
       "      \"vega-embed\": \"https://cdn.jsdelivr.net/npm//vega-embed@6?noext\",\n",
       "    };\n",
       "\n",
       "    function loadScript(lib) {\n",
       "      return new Promise(function(resolve, reject) {\n",
       "        var s = document.createElement('script');\n",
       "        s.src = paths[lib];\n",
       "        s.async = true;\n",
       "        s.onload = () => resolve(paths[lib]);\n",
       "        s.onerror = () => reject(`Error loading script: ${paths[lib]}`);\n",
       "        document.getElementsByTagName(\"head\")[0].appendChild(s);\n",
       "      });\n",
       "    }\n",
       "\n",
       "    function showError(err) {\n",
       "      outputDiv.innerHTML = `<div class=\"error\" style=\"color:red;\">${err}</div>`;\n",
       "      throw err;\n",
       "    }\n",
       "\n",
       "    function displayChart(vegaEmbed) {\n",
       "      vegaEmbed(outputDiv, spec, embedOpt)\n",
       "        .catch(err => showError(`Javascript Error: ${err.message}<br>This usually means there's a typo in your chart specification. See the javascript console for the full traceback.`));\n",
       "    }\n",
       "\n",
       "    if(typeof define === \"function\" && define.amd) {\n",
       "      requirejs.config({paths});\n",
       "      require([\"vega-embed\"], displayChart, err => showError(`Error loading script: ${err.message}`));\n",
       "    } else if (typeof vegaEmbed === \"function\") {\n",
       "      displayChart(vegaEmbed);\n",
       "    } else {\n",
       "      loadScript(\"vega\")\n",
       "        .then(() => loadScript(\"vega-lite\"))\n",
       "        .then(() => loadScript(\"vega-embed\"))\n",
       "        .catch(showError)\n",
       "        .then(() => displayChart(vegaEmbed));\n",
       "    }\n",
       "  })({\"config\": {\"view\": {\"continuousWidth\": 400, \"continuousHeight\": 300}}, \"data\": {\"name\": \"data-56f4be148eb5fbba35b8b04bae50b8e8\"}, \"mark\": \"bar\", \"encoding\": {\"x\": {\"type\": \"nominal\", \"field\": \"condition\"}, \"y\": {\"type\": \"quantitative\", \"field\": \"time\", \"scale\": {\"type\": \"log\"}, \"title\": \"log(total time)\"}}, \"$schema\": \"https://vega.github.io/schema/vega-lite/v4.8.1.json\", \"datasets\": {\"data-56f4be148eb5fbba35b8b04bae50b8e8\": [{\"condition\": \"baseline\", \"time\": 8651.52252700001}, {\"condition\": \"o1\", \"time\": 1179.9781389999996}, {\"condition\": \"o1o2\", \"time\": 607.3445920000001}, {\"condition\": \"o1o2o3\", \"time\": 499.94009599999976}, {\"condition\": \"pandas\", \"time\": 172.36100800000003}]}}, {\"mode\": \"vega-lite\"});\n",
       "</script>"
      ],
      "text/plain": [
       "alt.Chart(...)"
      ]
     },
     "execution_count": 184,
     "metadata": {},
     "output_type": "execute_result"
    }
   ],
   "source": [
    "alt.Chart(overall).mark_bar().encode(\n",
    "    x = \"condition\",\n",
    "    y = alt.Y(\"time\",scale=alt.Scale(type='log'),title=\"log(total time)\"),\n",
    ")"
   ]
  },
  {
   "cell_type": "code",
   "execution_count": 185,
   "metadata": {},
   "outputs": [],
   "source": [
    "overall = trial.groupby([\"condition\",\"nPts\"]).sum().reset_index()"
   ]
  },
  {
   "cell_type": "code",
   "execution_count": 186,
   "metadata": {},
   "outputs": [],
   "source": [
    "# overall=overall[overall[\"time\"]!=0]"
   ]
  },
  {
   "cell_type": "code",
   "execution_count": 187,
   "metadata": {},
   "outputs": [
    {
     "data": {
      "text/html": [
       "\n",
       "<div id=\"altair-viz-9210c2cbd2ec4222b2979e95f3e44d67\"></div>\n",
       "<script type=\"text/javascript\">\n",
       "  (function(spec, embedOpt){\n",
       "    let outputDiv = document.currentScript.previousElementSibling;\n",
       "    if (outputDiv.id !== \"altair-viz-9210c2cbd2ec4222b2979e95f3e44d67\") {\n",
       "      outputDiv = document.getElementById(\"altair-viz-9210c2cbd2ec4222b2979e95f3e44d67\");\n",
       "    }\n",
       "    const paths = {\n",
       "      \"vega\": \"https://cdn.jsdelivr.net/npm//vega@5?noext\",\n",
       "      \"vega-lib\": \"https://cdn.jsdelivr.net/npm//vega-lib?noext\",\n",
       "      \"vega-lite\": \"https://cdn.jsdelivr.net/npm//vega-lite@4.8.1?noext\",\n",
       "      \"vega-embed\": \"https://cdn.jsdelivr.net/npm//vega-embed@6?noext\",\n",
       "    };\n",
       "\n",
       "    function loadScript(lib) {\n",
       "      return new Promise(function(resolve, reject) {\n",
       "        var s = document.createElement('script');\n",
       "        s.src = paths[lib];\n",
       "        s.async = true;\n",
       "        s.onload = () => resolve(paths[lib]);\n",
       "        s.onerror = () => reject(`Error loading script: ${paths[lib]}`);\n",
       "        document.getElementsByTagName(\"head\")[0].appendChild(s);\n",
       "      });\n",
       "    }\n",
       "\n",
       "    function showError(err) {\n",
       "      outputDiv.innerHTML = `<div class=\"error\" style=\"color:red;\">${err}</div>`;\n",
       "      throw err;\n",
       "    }\n",
       "\n",
       "    function displayChart(vegaEmbed) {\n",
       "      vegaEmbed(outputDiv, spec, embedOpt)\n",
       "        .catch(err => showError(`Javascript Error: ${err.message}<br>This usually means there's a typo in your chart specification. See the javascript console for the full traceback.`));\n",
       "    }\n",
       "\n",
       "    if(typeof define === \"function\" && define.amd) {\n",
       "      requirejs.config({paths});\n",
       "      require([\"vega-embed\"], displayChart, err => showError(`Error loading script: ${err.message}`));\n",
       "    } else if (typeof vegaEmbed === \"function\") {\n",
       "      displayChart(vegaEmbed);\n",
       "    } else {\n",
       "      loadScript(\"vega\")\n",
       "        .then(() => loadScript(\"vega-lite\"))\n",
       "        .then(() => loadScript(\"vega-embed\"))\n",
       "        .catch(showError)\n",
       "        .then(() => displayChart(vegaEmbed));\n",
       "    }\n",
       "  })({\"config\": {\"view\": {\"continuousWidth\": 400, \"continuousHeight\": 300}, \"title\": {\"anchor\": \"middle\", \"fontSize\": 16, \"offset\": 5, \"orient\": \"top\"}}, \"data\": {\"name\": \"data-30eb512b35ada11f4bcfa8c4a75ee579\"}, \"mark\": \"bar\", \"encoding\": {\"color\": {\"type\": \"nominal\", \"field\": \"condition\"}, \"column\": {\"type\": \"nominal\", \"field\": \"nPts\"}, \"tooltip\": [{\"type\": \"quantitative\", \"field\": \"time\"}], \"x\": {\"type\": \"nominal\", \"field\": \"condition\"}, \"y\": {\"type\": \"quantitative\", \"field\": \"time\", \"scale\": {\"type\": \"log\"}, \"title\": \"log(total time)\"}}, \"title\": \"Overall\", \"$schema\": \"https://vega.github.io/schema/vega-lite/v4.8.1.json\", \"datasets\": {\"data-30eb512b35ada11f4bcfa8c4a75ee579\": [{\"condition\": \"baseline\", \"nPts\": \"10000\", \"time\": 113.39623900000001}, {\"condition\": \"baseline\", \"nPts\": \"100000\", \"time\": 215.325051}, {\"condition\": \"baseline\", \"nPts\": \"1000000\", \"time\": 869.526752}, {\"condition\": \"baseline\", \"nPts\": \"10000000\", \"time\": 7453.274485}, {\"condition\": \"o1\", \"nPts\": \"10000\", \"time\": 51.49180100000002}, {\"condition\": \"o1\", \"nPts\": \"100000\", \"time\": 69.048892}, {\"condition\": \"o1\", \"nPts\": \"1000000\", \"time\": 167.22527199999996}, {\"condition\": \"o1\", \"nPts\": \"10000000\", \"time\": 892.2121740000002}, {\"condition\": \"o1o2\", \"nPts\": \"10000\", \"time\": 47.64494199999999}, {\"condition\": \"o1o2\", \"nPts\": \"100000\", \"time\": 47.350559999999994}, {\"condition\": \"o1o2\", \"nPts\": \"1000000\", \"time\": 84.71119400000002}, {\"condition\": \"o1o2\", \"nPts\": \"10000000\", \"time\": 427.6378960000002}, {\"condition\": \"o1o2o3\", \"nPts\": \"10000\", \"time\": 27.67938099999999}, {\"condition\": \"o1o2o3\", \"nPts\": \"100000\", \"time\": 34.147537}, {\"condition\": \"o1o2o3\", \"nPts\": \"1000000\", \"time\": 60.75109800000001}, {\"condition\": \"o1o2o3\", \"nPts\": \"10000000\", \"time\": 377.3620799999998}, {\"condition\": \"pandas\", \"nPts\": \"10000\", \"time\": 29.55361800000001}, {\"condition\": \"pandas\", \"nPts\": \"100000\", \"time\": 29.751648000000014}, {\"condition\": \"pandas\", \"nPts\": \"1000000\", \"time\": 33.211530999999994}, {\"condition\": \"pandas\", \"nPts\": \"10000000\", \"time\": 79.84421099999997}]}}, {\"mode\": \"vega-lite\"});\n",
       "</script>"
      ],
      "text/plain": [
       "alt.Chart(...)"
      ]
     },
     "execution_count": 187,
     "metadata": {},
     "output_type": "execute_result"
    }
   ],
   "source": [
    "chart = alt.Chart(overall,title = \"Overall\").mark_bar().encode(\n",
    "    x = \"condition\",\n",
    "    y = alt.Y(\"time\",scale=alt.Scale(type='log'),title=\"log(total time)\"),\n",
    "    column=\"nPts\",\n",
    "    color=\"condition\",\n",
    "    tooltip=[\"time\"]\n",
    ")\n",
    "chart = chart.configure_title(fontSize=16, offset=5, orient='top', anchor='middle')\n",
    "chart"
   ]
  },
  {
   "cell_type": "code",
   "execution_count": 188,
   "metadata": {},
   "outputs": [],
   "source": [
    "overall = trial.groupby([\"condition\",\"nPts\",\"cell_type\"]).mean().reset_index()\n",
    "pdf = overall[overall[\"cell_type\"] ==\"python\"]"
   ]
  },
  {
   "cell_type": "code",
   "execution_count": 189,
   "metadata": {},
   "outputs": [],
   "source": [
    "a = trial[(trial[\"nPts\"]==\"10000\")&(trial[\"condition\"]==\"o1o2\")&(trial[\"cell_type\"]==\"print_dataframe\")][[\"nPts\",\"cell_type\",\"time\"]]"
   ]
  },
  {
   "cell_type": "code",
   "execution_count": 190,
   "metadata": {},
   "outputs": [],
   "source": [
    "b = trial[(trial[\"nPts\"]==\"10000\")&(trial[\"condition\"]==\"o1\")&(trial[\"cell_type\"]==\"print_dataframe\")][[\"nPts\",\"cell_type\",\"time\"]].rename(columns={\"time\":\"o1time\"})"
   ]
  },
  {
   "cell_type": "code",
   "execution_count": 191,
   "metadata": {},
   "outputs": [],
   "source": [
    "# ab = a.merge(b,on=[\"nPts\",\"cell_type\"])\n",
    "\n",
    "# ab[\"diff\"] = ab[\"o1time\"]-ab[\"time\"]"
   ]
  },
  {
   "cell_type": "code",
   "execution_count": 192,
   "metadata": {},
   "outputs": [
    {
     "data": {
      "text/html": [
       "\n",
       "<div id=\"altair-viz-1c267e1641ea4f87b2ea79490fec5738\"></div>\n",
       "<script type=\"text/javascript\">\n",
       "  (function(spec, embedOpt){\n",
       "    let outputDiv = document.currentScript.previousElementSibling;\n",
       "    if (outputDiv.id !== \"altair-viz-1c267e1641ea4f87b2ea79490fec5738\") {\n",
       "      outputDiv = document.getElementById(\"altair-viz-1c267e1641ea4f87b2ea79490fec5738\");\n",
       "    }\n",
       "    const paths = {\n",
       "      \"vega\": \"https://cdn.jsdelivr.net/npm//vega@5?noext\",\n",
       "      \"vega-lib\": \"https://cdn.jsdelivr.net/npm//vega-lib?noext\",\n",
       "      \"vega-lite\": \"https://cdn.jsdelivr.net/npm//vega-lite@4.8.1?noext\",\n",
       "      \"vega-embed\": \"https://cdn.jsdelivr.net/npm//vega-embed@6?noext\",\n",
       "    };\n",
       "\n",
       "    function loadScript(lib) {\n",
       "      return new Promise(function(resolve, reject) {\n",
       "        var s = document.createElement('script');\n",
       "        s.src = paths[lib];\n",
       "        s.async = true;\n",
       "        s.onload = () => resolve(paths[lib]);\n",
       "        s.onerror = () => reject(`Error loading script: ${paths[lib]}`);\n",
       "        document.getElementsByTagName(\"head\")[0].appendChild(s);\n",
       "      });\n",
       "    }\n",
       "\n",
       "    function showError(err) {\n",
       "      outputDiv.innerHTML = `<div class=\"error\" style=\"color:red;\">${err}</div>`;\n",
       "      throw err;\n",
       "    }\n",
       "\n",
       "    function displayChart(vegaEmbed) {\n",
       "      vegaEmbed(outputDiv, spec, embedOpt)\n",
       "        .catch(err => showError(`Javascript Error: ${err.message}<br>This usually means there's a typo in your chart specification. See the javascript console for the full traceback.`));\n",
       "    }\n",
       "\n",
       "    if(typeof define === \"function\" && define.amd) {\n",
       "      requirejs.config({paths});\n",
       "      require([\"vega-embed\"], displayChart, err => showError(`Error loading script: ${err.message}`));\n",
       "    } else if (typeof vegaEmbed === \"function\") {\n",
       "      displayChart(vegaEmbed);\n",
       "    } else {\n",
       "      loadScript(\"vega\")\n",
       "        .then(() => loadScript(\"vega-lite\"))\n",
       "        .then(() => loadScript(\"vega-embed\"))\n",
       "        .catch(showError)\n",
       "        .then(() => displayChart(vegaEmbed));\n",
       "    }\n",
       "  })({\"config\": {\"view\": {\"continuousWidth\": 400, \"continuousHeight\": 300}, \"title\": {\"anchor\": \"middle\", \"fontSize\": 16, \"offset\": 5, \"orient\": \"top\"}}, \"data\": {\"name\": \"data-895c307366ded695cb0303e33ed463cb\"}, \"mark\": \"bar\", \"encoding\": {\"color\": {\"type\": \"nominal\", \"field\": \"condition\"}, \"column\": {\"type\": \"nominal\", \"field\": \"nPts\"}, \"tooltip\": [{\"type\": \"quantitative\", \"field\": \"time\"}], \"x\": {\"type\": \"nominal\", \"field\": \"condition\"}, \"y\": {\"type\": \"quantitative\", \"field\": \"time\", \"scale\": {\"type\": \"log\"}, \"title\": \"log(total time)\"}}, \"title\": \"Non-Lux Python Operations\", \"$schema\": \"https://vega.github.io/schema/vega-lite/v4.8.1.json\", \"datasets\": {\"data-895c307366ded695cb0303e33ed463cb\": [{\"condition\": \"baseline\", \"nPts\": \"10000\", \"cell_type\": \"python\", \"time\": 4.837800647058824}, {\"condition\": \"baseline\", \"nPts\": \"100000\", \"cell_type\": \"python\", \"time\": 8.761272235294118}, {\"condition\": \"baseline\", \"nPts\": \"1000000\", \"cell_type\": \"python\", \"time\": 34.633733294117654}, {\"condition\": \"baseline\", \"nPts\": \"10000000\", \"cell_type\": \"python\", \"time\": 293.2197144117647}, {\"condition\": \"o1\", \"nPts\": \"10000\", \"cell_type\": \"python\", \"time\": 1.6412092941176468}, {\"condition\": \"o1\", \"nPts\": \"100000\", \"cell_type\": \"python\", \"time\": 1.5920723529411769}, {\"condition\": \"o1\", \"nPts\": \"1000000\", \"cell_type\": \"python\", \"time\": 1.8205540588235298}, {\"condition\": \"o1\", \"nPts\": \"10000000\", \"cell_type\": \"python\", \"time\": 2.690156941176472}, {\"condition\": \"o1o2\", \"nPts\": \"10000\", \"cell_type\": \"python\", \"time\": 1.5294241176470587}, {\"condition\": \"o1o2\", \"nPts\": \"100000\", \"cell_type\": \"python\", \"time\": 1.5973997058823532}, {\"condition\": \"o1o2\", \"nPts\": \"1000000\", \"cell_type\": \"python\", \"time\": 1.68703194117647}, {\"condition\": \"o1o2\", \"nPts\": \"10000000\", \"cell_type\": \"python\", \"time\": 2.7412542352941176}, {\"condition\": \"o1o2o3\", \"nPts\": \"10000\", \"cell_type\": \"python\", \"time\": 1.4122668823529407}, {\"condition\": \"o1o2o3\", \"nPts\": \"100000\", \"cell_type\": \"python\", \"time\": 1.5609058235294118}, {\"condition\": \"o1o2o3\", \"nPts\": \"1000000\", \"cell_type\": \"python\", \"time\": 1.6351510588235296}, {\"condition\": \"o1o2o3\", \"nPts\": \"10000000\", \"cell_type\": \"python\", \"time\": 2.7438887058823536}, {\"condition\": \"pandas\", \"nPts\": \"10000\", \"cell_type\": \"python\", \"time\": 1.6731158823529417}, {\"condition\": \"pandas\", \"nPts\": \"100000\", \"cell_type\": \"python\", \"time\": 1.6752127058823536}, {\"condition\": \"pandas\", \"nPts\": \"1000000\", \"cell_type\": \"python\", \"time\": 1.717952882352941}, {\"condition\": \"pandas\", \"nPts\": \"10000000\", \"cell_type\": \"python\", \"time\": 2.965725352941176}]}}, {\"mode\": \"vega-lite\"});\n",
       "</script>"
      ],
      "text/plain": [
       "alt.Chart(...)"
      ]
     },
     "execution_count": 192,
     "metadata": {},
     "output_type": "execute_result"
    }
   ],
   "source": [
    "overall = trial.groupby([\"condition\",\"nPts\",\"cell_type\"]).mean().reset_index()\n",
    "pdf = overall[overall[\"cell_type\"] ==\"python\"]\n",
    "chart = alt.Chart(pdf,title = \"Non-Lux Python Operations\").mark_bar().encode(\n",
    "    x = \"condition\",\n",
    "    y = alt.Y(\"time\",scale=alt.Scale(type='log'),title=\"log(total time)\"),\n",
    "    column=\"nPts\",\n",
    "    color=\"condition\",\n",
    "    tooltip=[\"time\"]\n",
    ")\n",
    "chart = chart.configure_title(fontSize=16, offset=5, orient='top', anchor='middle')\n",
    "chart\n"
   ]
  },
  {
   "cell_type": "code",
   "execution_count": 206,
   "metadata": {},
   "outputs": [
    {
     "data": {
      "text/html": [
       "<div>\n",
       "<style scoped>\n",
       "    .dataframe tbody tr th:only-of-type {\n",
       "        vertical-align: middle;\n",
       "    }\n",
       "\n",
       "    .dataframe tbody tr th {\n",
       "        vertical-align: top;\n",
       "    }\n",
       "\n",
       "    .dataframe thead th {\n",
       "        text-align: right;\n",
       "    }\n",
       "</style>\n",
       "<table border=\"1\" class=\"dataframe\">\n",
       "  <thead>\n",
       "    <tr style=\"text-align: right;\">\n",
       "      <th></th>\n",
       "      <th>condition</th>\n",
       "      <th>nPts</th>\n",
       "      <th>cell_type</th>\n",
       "      <th>time</th>\n",
       "    </tr>\n",
       "  </thead>\n",
       "  <tbody>\n",
       "    <tr>\n",
       "      <th>44</th>\n",
       "      <td>o1o2o3</td>\n",
       "      <td>1000000</td>\n",
       "      <td>python</td>\n",
       "      <td>0.345245</td>\n",
       "    </tr>\n",
       "    <tr>\n",
       "      <th>47</th>\n",
       "      <td>o1o2o3</td>\n",
       "      <td>1000000</td>\n",
       "      <td>python</td>\n",
       "      <td>25.980364</td>\n",
       "    </tr>\n",
       "    <tr>\n",
       "      <th>48</th>\n",
       "      <td>o1o2o3</td>\n",
       "      <td>1000000</td>\n",
       "      <td>python</td>\n",
       "      <td>0.026671</td>\n",
       "    </tr>\n",
       "    <tr>\n",
       "      <th>50</th>\n",
       "      <td>o1o2o3</td>\n",
       "      <td>1000000</td>\n",
       "      <td>python</td>\n",
       "      <td>0.203193</td>\n",
       "    </tr>\n",
       "    <tr>\n",
       "      <th>54</th>\n",
       "      <td>o1o2o3</td>\n",
       "      <td>1000000</td>\n",
       "      <td>python</td>\n",
       "      <td>0.029457</td>\n",
       "    </tr>\n",
       "    <tr>\n",
       "      <th>...</th>\n",
       "      <td>...</td>\n",
       "      <td>...</td>\n",
       "      <td>...</td>\n",
       "      <td>...</td>\n",
       "    </tr>\n",
       "    <tr>\n",
       "      <th>822</th>\n",
       "      <td>o1</td>\n",
       "      <td>10000</td>\n",
       "      <td>python</td>\n",
       "      <td>0.036500</td>\n",
       "    </tr>\n",
       "    <tr>\n",
       "      <th>826</th>\n",
       "      <td>o1</td>\n",
       "      <td>10000</td>\n",
       "      <td>python</td>\n",
       "      <td>0.036173</td>\n",
       "    </tr>\n",
       "    <tr>\n",
       "      <th>831</th>\n",
       "      <td>o1</td>\n",
       "      <td>10000</td>\n",
       "      <td>python</td>\n",
       "      <td>0.039830</td>\n",
       "    </tr>\n",
       "    <tr>\n",
       "      <th>833</th>\n",
       "      <td>o1</td>\n",
       "      <td>10000</td>\n",
       "      <td>python</td>\n",
       "      <td>0.049041</td>\n",
       "    </tr>\n",
       "    <tr>\n",
       "      <th>835</th>\n",
       "      <td>o1</td>\n",
       "      <td>10000</td>\n",
       "      <td>python</td>\n",
       "      <td>0.043571</td>\n",
       "    </tr>\n",
       "  </tbody>\n",
       "</table>\n",
       "<p>272 rows × 4 columns</p>\n",
       "</div>"
      ],
      "text/plain": [
       "    condition     nPts cell_type       time\n",
       "44     o1o2o3  1000000    python   0.345245\n",
       "47     o1o2o3  1000000    python  25.980364\n",
       "48     o1o2o3  1000000    python   0.026671\n",
       "50     o1o2o3  1000000    python   0.203193\n",
       "54     o1o2o3  1000000    python   0.029457\n",
       "..        ...      ...       ...        ...\n",
       "822        o1    10000    python   0.036500\n",
       "826        o1    10000    python   0.036173\n",
       "831        o1    10000    python   0.039830\n",
       "833        o1    10000    python   0.049041\n",
       "835        o1    10000    python   0.043571\n",
       "\n",
       "[272 rows x 4 columns]"
      ]
     },
     "execution_count": 206,
     "metadata": {},
     "output_type": "execute_result"
    }
   ],
   "source": [
    "trial[(trial[\"cell_type\"] ==\"python\")&(trial[\"condition\"]!=\"baseline\")].groupby(\"nPts\")"
   ]
  },
  {
   "cell_type": "code",
   "execution_count": 15,
   "metadata": {},
   "outputs": [
    {
     "data": {
      "text/html": [
       "\n",
       "<div id=\"altair-viz-445dc19f495944acbd31ca4682168900\"></div>\n",
       "<script type=\"text/javascript\">\n",
       "  (function(spec, embedOpt){\n",
       "    let outputDiv = document.currentScript.previousElementSibling;\n",
       "    if (outputDiv.id !== \"altair-viz-445dc19f495944acbd31ca4682168900\") {\n",
       "      outputDiv = document.getElementById(\"altair-viz-445dc19f495944acbd31ca4682168900\");\n",
       "    }\n",
       "    const paths = {\n",
       "      \"vega\": \"https://cdn.jsdelivr.net/npm//vega@5?noext\",\n",
       "      \"vega-lib\": \"https://cdn.jsdelivr.net/npm//vega-lib?noext\",\n",
       "      \"vega-lite\": \"https://cdn.jsdelivr.net/npm//vega-lite@4.8.1?noext\",\n",
       "      \"vega-embed\": \"https://cdn.jsdelivr.net/npm//vega-embed@6?noext\",\n",
       "    };\n",
       "\n",
       "    function loadScript(lib) {\n",
       "      return new Promise(function(resolve, reject) {\n",
       "        var s = document.createElement('script');\n",
       "        s.src = paths[lib];\n",
       "        s.async = true;\n",
       "        s.onload = () => resolve(paths[lib]);\n",
       "        s.onerror = () => reject(`Error loading script: ${paths[lib]}`);\n",
       "        document.getElementsByTagName(\"head\")[0].appendChild(s);\n",
       "      });\n",
       "    }\n",
       "\n",
       "    function showError(err) {\n",
       "      outputDiv.innerHTML = `<div class=\"error\" style=\"color:red;\">${err}</div>`;\n",
       "      throw err;\n",
       "    }\n",
       "\n",
       "    function displayChart(vegaEmbed) {\n",
       "      vegaEmbed(outputDiv, spec, embedOpt)\n",
       "        .catch(err => showError(`Javascript Error: ${err.message}<br>This usually means there's a typo in your chart specification. See the javascript console for the full traceback.`));\n",
       "    }\n",
       "\n",
       "    if(typeof define === \"function\" && define.amd) {\n",
       "      requirejs.config({paths});\n",
       "      require([\"vega-embed\"], displayChart, err => showError(`Error loading script: ${err.message}`));\n",
       "    } else if (typeof vegaEmbed === \"function\") {\n",
       "      displayChart(vegaEmbed);\n",
       "    } else {\n",
       "      loadScript(\"vega\")\n",
       "        .then(() => loadScript(\"vega-lite\"))\n",
       "        .then(() => loadScript(\"vega-embed\"))\n",
       "        .catch(showError)\n",
       "        .then(() => displayChart(vegaEmbed));\n",
       "    }\n",
       "  })({\"config\": {\"view\": {\"continuousWidth\": 400, \"continuousHeight\": 300}, \"title\": {\"anchor\": \"middle\", \"fontSize\": 16, \"offset\": 5, \"orient\": \"top\"}}, \"data\": {\"name\": \"data-693238f103a07e7ec74b259eb19d0857\"}, \"mark\": \"bar\", \"encoding\": {\"color\": {\"type\": \"nominal\", \"field\": \"condition\"}, \"column\": {\"type\": \"nominal\", \"field\": \"nPts\"}, \"tooltip\": [{\"type\": \"quantitative\", \"field\": \"time\"}], \"x\": {\"type\": \"nominal\", \"field\": \"condition\"}, \"y\": {\"type\": \"quantitative\", \"field\": \"time\", \"scale\": {\"type\": \"log\"}, \"title\": \"log(total time)\"}}, \"title\": \"Print Series\", \"$schema\": \"https://vega.github.io/schema/vega-lite/v4.8.1.json\", \"datasets\": {\"data-693238f103a07e7ec74b259eb19d0857\": [{\"condition\": \"baseline\", \"nPts\": \"10000\", \"cell_type\": \"print_series\", \"time\": 0.114121}, {\"condition\": \"baseline\", \"nPts\": \"100000\", \"cell_type\": \"print_series\", \"time\": 0.21239557142857143}, {\"condition\": \"baseline\", \"nPts\": \"1000000\", \"cell_type\": \"print_series\", \"time\": 1.0430601428571429}, {\"condition\": \"baseline\", \"nPts\": \"10000000\", \"cell_type\": \"print_series\", \"time\": 10.385119571428573}, {\"condition\": \"o1\", \"nPts\": \"10000\", \"cell_type\": \"print_series\", \"time\": 0.1005912857142857}, {\"condition\": \"o1\", \"nPts\": \"100000\", \"cell_type\": \"print_series\", \"time\": 0.14730342857142859}, {\"condition\": \"o1\", \"nPts\": \"1000000\", \"cell_type\": \"print_series\", \"time\": 0.6867958571428571}, {\"condition\": \"o1\", \"nPts\": \"10000000\", \"cell_type\": \"print_series\", \"time\": 5.398452857142857}, {\"condition\": \"o1o2\", \"nPts\": \"10000\", \"cell_type\": \"print_series\", \"time\": 0.09247428571428572}, {\"condition\": \"o1o2\", \"nPts\": \"100000\", \"cell_type\": \"print_series\", \"time\": 0.15301085714285714}, {\"condition\": \"o1o2\", \"nPts\": \"1000000\", \"cell_type\": \"print_series\", \"time\": 0.5526537142857143}, {\"condition\": \"o1o2\", \"nPts\": \"10000000\", \"cell_type\": \"print_series\", \"time\": 4.139834857142857}, {\"condition\": \"o1o2o3\", \"nPts\": \"10000\", \"cell_type\": \"print_series\", \"time\": 0.08480757142857143}, {\"condition\": \"o1o2o3\", \"nPts\": \"100000\", \"cell_type\": \"print_series\", \"time\": 0.13196185714285716}, {\"condition\": \"o1o2o3\", \"nPts\": \"1000000\", \"cell_type\": \"print_series\", \"time\": 0.5101487142857143}, {\"condition\": \"o1o2o3\", \"nPts\": \"10000000\", \"cell_type\": \"print_series\", \"time\": 4.694372714285714}, {\"condition\": \"pandas\", \"nPts\": \"10000\", \"cell_type\": \"print_series\", \"time\": 0.05949828571428572}, {\"condition\": \"pandas\", \"nPts\": \"100000\", \"cell_type\": \"print_series\", \"time\": 0.08230914285714286}, {\"condition\": \"pandas\", \"nPts\": \"1000000\", \"cell_type\": \"print_series\", \"time\": 0.47156642857142855}, {\"condition\": \"pandas\", \"nPts\": \"10000000\", \"cell_type\": \"print_series\", \"time\": 4.086945}]}}, {\"mode\": \"vega-lite\"});\n",
       "</script>"
      ],
      "text/plain": [
       "alt.Chart(...)"
      ]
     },
     "execution_count": 15,
     "metadata": {},
     "output_type": "execute_result"
    }
   ],
   "source": [
    "overall = trial.groupby([\"condition\",\"nPts\",\"cell_type\"]).mean().reset_index()\n",
    "pdf = overall[overall[\"cell_type\"] ==\"print_series\"]\n",
    "chart = alt.Chart(pdf,title = \"Print Series\").mark_bar().encode(\n",
    "    x = \"condition\",\n",
    "    y = alt.Y(\"time\",scale=alt.Scale(type='log'),title=\"log(total time)\"),\n",
    "    column=\"nPts\",\n",
    "    color=\"condition\",\n",
    "    tooltip=[\"time\"]\n",
    ")\n",
    "chart = chart.configure_title(fontSize=16, offset=5, orient='top', anchor='middle')\n",
    "chart"
   ]
  },
  {
   "cell_type": "code",
   "execution_count": 16,
   "metadata": {},
   "outputs": [
    {
     "data": {
      "text/html": [
       "\n",
       "<div id=\"altair-viz-f7a4f634e9b2476793959b0573e1aa12\"></div>\n",
       "<script type=\"text/javascript\">\n",
       "  (function(spec, embedOpt){\n",
       "    let outputDiv = document.currentScript.previousElementSibling;\n",
       "    if (outputDiv.id !== \"altair-viz-f7a4f634e9b2476793959b0573e1aa12\") {\n",
       "      outputDiv = document.getElementById(\"altair-viz-f7a4f634e9b2476793959b0573e1aa12\");\n",
       "    }\n",
       "    const paths = {\n",
       "      \"vega\": \"https://cdn.jsdelivr.net/npm//vega@5?noext\",\n",
       "      \"vega-lib\": \"https://cdn.jsdelivr.net/npm//vega-lib?noext\",\n",
       "      \"vega-lite\": \"https://cdn.jsdelivr.net/npm//vega-lite@4.8.1?noext\",\n",
       "      \"vega-embed\": \"https://cdn.jsdelivr.net/npm//vega-embed@6?noext\",\n",
       "    };\n",
       "\n",
       "    function loadScript(lib) {\n",
       "      return new Promise(function(resolve, reject) {\n",
       "        var s = document.createElement('script');\n",
       "        s.src = paths[lib];\n",
       "        s.async = true;\n",
       "        s.onload = () => resolve(paths[lib]);\n",
       "        s.onerror = () => reject(`Error loading script: ${paths[lib]}`);\n",
       "        document.getElementsByTagName(\"head\")[0].appendChild(s);\n",
       "      });\n",
       "    }\n",
       "\n",
       "    function showError(err) {\n",
       "      outputDiv.innerHTML = `<div class=\"error\" style=\"color:red;\">${err}</div>`;\n",
       "      throw err;\n",
       "    }\n",
       "\n",
       "    function displayChart(vegaEmbed) {\n",
       "      vegaEmbed(outputDiv, spec, embedOpt)\n",
       "        .catch(err => showError(`Javascript Error: ${err.message}<br>This usually means there's a typo in your chart specification. See the javascript console for the full traceback.`));\n",
       "    }\n",
       "\n",
       "    if(typeof define === \"function\" && define.amd) {\n",
       "      requirejs.config({paths});\n",
       "      require([\"vega-embed\"], displayChart, err => showError(`Error loading script: ${err.message}`));\n",
       "    } else if (typeof vegaEmbed === \"function\") {\n",
       "      displayChart(vegaEmbed);\n",
       "    } else {\n",
       "      loadScript(\"vega\")\n",
       "        .then(() => loadScript(\"vega-lite\"))\n",
       "        .then(() => loadScript(\"vega-embed\"))\n",
       "        .catch(showError)\n",
       "        .then(() => displayChart(vegaEmbed));\n",
       "    }\n",
       "  })({\"config\": {\"view\": {\"continuousWidth\": 400, \"continuousHeight\": 300}, \"title\": {\"anchor\": \"middle\", \"fontSize\": 16, \"offset\": 5, \"orient\": \"top\"}}, \"data\": {\"name\": \"data-ad2727495c62a86d2596ddb2cc786ed4\"}, \"mark\": \"bar\", \"encoding\": {\"color\": {\"type\": \"nominal\", \"field\": \"condition\"}, \"column\": {\"type\": \"nominal\", \"field\": \"nPts\"}, \"tooltip\": [{\"type\": \"quantitative\", \"field\": \"time\"}], \"x\": {\"type\": \"nominal\", \"field\": \"condition\"}, \"y\": {\"type\": \"quantitative\", \"field\": \"time\", \"scale\": {\"type\": \"log\"}, \"title\": \"log(total time)\"}}, \"title\": \"Print Dataframe\", \"$schema\": \"https://vega.github.io/schema/vega-lite/v4.8.1.json\", \"datasets\": {\"data-ad2727495c62a86d2596ddb2cc786ed4\": [{\"condition\": \"baseline\", \"nPts\": \"10000\", \"cell_type\": \"print_dataframe\", \"time\": 2.0925775714285715}, {\"condition\": \"baseline\", \"nPts\": \"100000\", \"cell_type\": \"print_dataframe\", \"time\": 4.560398214285715}, {\"condition\": \"baseline\", \"nPts\": \"1000000\", \"cell_type\": \"print_dataframe\", \"time\": 19.46029342857143}, {\"condition\": \"baseline\", \"nPts\": \"10000000\", \"cell_type\": \"print_dataframe\", \"time\": 171.062848}, {\"condition\": \"o1\", \"nPts\": \"10000\", \"cell_type\": \"print_dataframe\", \"time\": 1.5760435714285712}, {\"condition\": \"o1\", \"nPts\": \"100000\", \"cell_type\": \"print_dataframe\", \"time\": 2.8713929285714284}, {\"condition\": \"o1\", \"nPts\": \"1000000\", \"cell_type\": \"print_dataframe\", \"time\": 9.334235428571427}, {\"condition\": \"o1\", \"nPts\": \"10000000\", \"cell_type\": \"print_dataframe\", \"time\": 57.71680714285715}, {\"condition\": \"o1o2\", \"nPts\": \"10000\", \"cell_type\": \"print_dataframe\", \"time\": 1.4485854999999999}, {\"condition\": \"o1o2\", \"nPts\": \"100000\", \"cell_type\": \"print_dataframe\", \"time\": 1.3033900714285716}, {\"condition\": \"o1o2\", \"nPts\": \"1000000\", \"cell_type\": \"print_dataframe\", \"time\": 3.6627721428571434}, {\"condition\": \"o1o2\", \"nPts\": \"10000000\", \"cell_type\": \"print_dataframe\", \"time\": 25.08527385714286}, {\"condition\": \"o1o2o3\", \"nPts\": \"10000\", \"cell_type\": \"print_dataframe\", \"time\": 0.17640785714285712}, {\"condition\": \"o1o2o3\", \"nPts\": \"100000\", \"cell_type\": \"print_dataframe\", \"time\": 0.41460092857142855}, {\"condition\": \"o1o2o3\", \"nPts\": \"1000000\", \"cell_type\": \"print_dataframe\", \"time\": 2.0357030714285718}, {\"condition\": \"o1o2o3\", \"nPts\": \"10000000\", \"cell_type\": \"print_dataframe\", \"time\": 21.23503142857143}, {\"condition\": \"pandas\", \"nPts\": \"10000\", \"cell_type\": \"print_dataframe\", \"time\": 0.044312928571428566}, {\"condition\": \"pandas\", \"nPts\": \"100000\", \"cell_type\": \"print_dataframe\", \"time\": 0.044166642857142856}, {\"condition\": \"pandas\", \"nPts\": \"1000000\", \"cell_type\": \"print_dataframe\", \"time\": 0.0450655}, {\"condition\": \"pandas\", \"nPts\": \"10000000\", \"cell_type\": \"print_dataframe\", \"time\": 0.05315000000000001}]}}, {\"mode\": \"vega-lite\"});\n",
       "</script>"
      ],
      "text/plain": [
       "alt.Chart(...)"
      ]
     },
     "execution_count": 16,
     "metadata": {},
     "output_type": "execute_result"
    }
   ],
   "source": [
    "overall = trial.groupby([\"condition\",\"nPts\",\"cell_type\"]).mean().reset_index()\n",
    "pdf = overall[overall[\"cell_type\"] ==\"print_dataframe\"]\n",
    "chart = alt.Chart(pdf,title = \"Print Dataframe\").mark_bar().encode(\n",
    "    x = \"condition\",\n",
    "    y = alt.Y(\"time\",scale=alt.Scale(type='log'),title=\"log(total time)\"),\n",
    "    column=\"nPts\",\n",
    "    color=\"condition\",\n",
    "    tooltip=[\"time\"]\n",
    ")\n",
    "chart = chart.configure_title(fontSize=16, offset=5, orient='top', anchor='middle')\n",
    "chart"
   ]
  },
  {
   "cell_type": "markdown",
   "metadata": {},
   "source": [
    "------------"
   ]
  },
  {
   "cell_type": "markdown",
   "metadata": {},
   "source": [
    "### Communities post processing"
   ]
  },
  {
   "cell_type": "code",
   "execution_count": 217,
   "metadata": {},
   "outputs": [
    {
     "name": "stdout",
     "output_type": "stream",
     "text": [
      "python             25\n",
      "print_dataframe    14\n",
      "print_series        4\n",
      "dtype: int64\n"
     ]
    }
   ],
   "source": [
    "count = []\n",
    "with open(\"communities/communities.ipynb\") as json_file:\n",
    "    data = json.load(json_file)\n",
    "    for cell in data['cells']:\n",
    "        label = cell[\"source\"][0]\n",
    "        cell_type = None\n",
    "        CELL_STOP = 45\n",
    "        if (\"execution_count\" in cell and cell[\"execution_count\"] and int(cell[\"execution_count\"])<CELL_STOP):\n",
    "            if \"# {{NO LUX}}\" in label:\n",
    "                cell_type = \"python\"\n",
    "            elif \"# {{PRINT SERIES}}\" in label:\n",
    "                cell_type = \"print_series\"\n",
    "            elif \"# {{PRINT DF}}\" in label:\n",
    "                cell_type = \"print_dataframe\"\n",
    "        count.append(cell_type)\n",
    "count = pd.Series(count)\n",
    "print(count.value_counts())"
   ]
  },
  {
   "cell_type": "code",
   "execution_count": 139,
   "metadata": {},
   "outputs": [],
   "source": [
    "import glob\n",
    "import time\n",
    "import papermill as pm\n",
    "import pandas as pd\n",
    "import numpy as np\n",
    "import json\n",
    "trial = []\n",
    "\n",
    "for nb_name in glob.glob(\"communities/communities_*_output.ipynb\"):\n",
    "# for nb_name in glob.glob(\"airbnb/airbnb_*_*_output.ipynb\"):\n",
    "    snb = nb_name.split(\"_\")\n",
    "    if len(snb)==4:\n",
    "        _, condition, nPts, _ = nb_name.split(\"_\")\n",
    "        CELL_STOP = 46\n",
    "    elif len(snb)==3:\n",
    "        condition = \"pandas\"\n",
    "        _,  nPts, _ = nb_name.split(\"_\")\n",
    "        CELL_STOP = 45\n",
    "    with open(nb_name) as json_file:\n",
    "        data = json.load(json_file)\n",
    "        for cell in data['cells']:\n",
    "            # Keep only cell count <46 (last few cells long runnning)\n",
    "            if (\"execution_count\" in cell and cell[\"execution_count\"] and int(cell[\"execution_count\"])<CELL_STOP):\n",
    "                label = cell[\"source\"][0]\n",
    "                cell_type = None\n",
    "                if \"# {{NO LUX}}\" in label:\n",
    "                    cell_type = \"python\"\n",
    "                elif \"# {{PRINT SERIES}}\" in label:\n",
    "                    cell_type = \"print_series\"\n",
    "                elif \"# {{PRINT DF}}\" in label:\n",
    "                    cell_type = \"print_dataframe\"\n",
    "                duration = cell[\"metadata\"][\"papermill\"][\"duration\"]\n",
    "    #             print(nb_name, cell_type, duration)\n",
    "                trial.append([condition, nPts,cell_type, duration])\n",
    "    #             duration = cell[\"metadata\"][\"papermill\"][\"duration\"]\n",
    "    #             from datetime import datetime\n",
    "    #             if (\"execution\" in cell[\"metadata\"]):\n",
    "    #                 starttime = datetime.strptime(cell[\"metadata\"][\"execution\"][\"iopub.execute_input\"],\"%Y-%m-%dT%H:%M:%S.%fZ\")\n",
    "    #                 endtime = datetime.strptime(cell[\"metadata\"][\"execution\"][\"shell.execute_reply\"],\"%Y-%m-%dT%H:%M:%S.%fZ\")\n",
    "    #                 duration = (endtime-starttime).total_seconds()\n",
    "    #     #             print(nb_name, cell_type, duration)\n",
    "    #                 trial.append([condition, nPts,cell_type, duration])\n",
    "    # #             else:\n",
    "    #                 print (\"skip:\",cell)\n",
    "\n",
    "trial = pd.DataFrame(trial,columns=[\"condition\",\"nPts\",\"cell_type\",\"time\"])"
   ]
  },
  {
   "cell_type": "code",
   "execution_count": 140,
   "metadata": {},
   "outputs": [],
   "source": [
    "trial.to_csv(\"../../paper/communities_macrobenchmark.csv\",index=None)"
   ]
  },
  {
   "cell_type": "code",
   "execution_count": 142,
   "metadata": {},
   "outputs": [
    {
     "data": {
      "text/html": [
       "\n",
       "<div id=\"altair-viz-7ee05c4b08dd4e0db1ec48eee0194040\"></div>\n",
       "<script type=\"text/javascript\">\n",
       "  (function(spec, embedOpt){\n",
       "    let outputDiv = document.currentScript.previousElementSibling;\n",
       "    if (outputDiv.id !== \"altair-viz-7ee05c4b08dd4e0db1ec48eee0194040\") {\n",
       "      outputDiv = document.getElementById(\"altair-viz-7ee05c4b08dd4e0db1ec48eee0194040\");\n",
       "    }\n",
       "    const paths = {\n",
       "      \"vega\": \"https://cdn.jsdelivr.net/npm//vega@5?noext\",\n",
       "      \"vega-lib\": \"https://cdn.jsdelivr.net/npm//vega-lib?noext\",\n",
       "      \"vega-lite\": \"https://cdn.jsdelivr.net/npm//vega-lite@4.8.1?noext\",\n",
       "      \"vega-embed\": \"https://cdn.jsdelivr.net/npm//vega-embed@6?noext\",\n",
       "    };\n",
       "\n",
       "    function loadScript(lib) {\n",
       "      return new Promise(function(resolve, reject) {\n",
       "        var s = document.createElement('script');\n",
       "        s.src = paths[lib];\n",
       "        s.async = true;\n",
       "        s.onload = () => resolve(paths[lib]);\n",
       "        s.onerror = () => reject(`Error loading script: ${paths[lib]}`);\n",
       "        document.getElementsByTagName(\"head\")[0].appendChild(s);\n",
       "      });\n",
       "    }\n",
       "\n",
       "    function showError(err) {\n",
       "      outputDiv.innerHTML = `<div class=\"error\" style=\"color:red;\">${err}</div>`;\n",
       "      throw err;\n",
       "    }\n",
       "\n",
       "    function displayChart(vegaEmbed) {\n",
       "      vegaEmbed(outputDiv, spec, embedOpt)\n",
       "        .catch(err => showError(`Javascript Error: ${err.message}<br>This usually means there's a typo in your chart specification. See the javascript console for the full traceback.`));\n",
       "    }\n",
       "\n",
       "    if(typeof define === \"function\" && define.amd) {\n",
       "      requirejs.config({paths});\n",
       "      require([\"vega-embed\"], displayChart, err => showError(`Error loading script: ${err.message}`));\n",
       "    } else if (typeof vegaEmbed === \"function\") {\n",
       "      displayChart(vegaEmbed);\n",
       "    } else {\n",
       "      loadScript(\"vega\")\n",
       "        .then(() => loadScript(\"vega-lite\"))\n",
       "        .then(() => loadScript(\"vega-embed\"))\n",
       "        .catch(showError)\n",
       "        .then(() => displayChart(vegaEmbed));\n",
       "    }\n",
       "  })({\"config\": {\"view\": {\"continuousWidth\": 400, \"continuousHeight\": 300}, \"title\": {\"anchor\": \"middle\", \"fontSize\": 16, \"offset\": 5, \"orient\": \"top\"}}, \"data\": {\"name\": \"data-a27d7aac6f3136214213d865ce8c3d61\"}, \"mark\": \"bar\", \"encoding\": {\"color\": {\"type\": \"nominal\", \"field\": \"condition\"}, \"column\": {\"type\": \"nominal\", \"field\": \"nPts\"}, \"tooltip\": [{\"type\": \"quantitative\", \"field\": \"time\"}], \"x\": {\"type\": \"nominal\", \"field\": \"condition\"}, \"y\": {\"type\": \"quantitative\", \"field\": \"time\", \"scale\": {\"type\": \"log\"}, \"title\": \"log(total time)\"}}, \"title\": \"Overall\", \"$schema\": \"https://vega.github.io/schema/vega-lite/v4.8.1.json\", \"datasets\": {\"data-a27d7aac6f3136214213d865ce8c3d61\": [{\"condition\": \"baseline\", \"nPts\": \"100\", \"time\": 1799.648734}, {\"condition\": \"baseline\", \"nPts\": \"1000\", \"time\": 1743.3171990000003}, {\"condition\": \"baseline\", \"nPts\": \"10000\", \"time\": 10128.590576999997}, {\"condition\": \"baseline\", \"nPts\": \"100000\", \"time\": 14391.902846999996}, {\"condition\": \"o1\", \"nPts\": \"100\", \"time\": 687.6648499999998}, {\"condition\": \"o1\", \"nPts\": \"1000\", \"time\": 694.0789019999999}, {\"condition\": \"o1\", \"nPts\": \"10000\", \"time\": 3774.316034000001}, {\"condition\": \"o1\", \"nPts\": \"100000\", \"time\": 4745.3486760000005}, {\"condition\": \"o1o2\", \"nPts\": \"100\", \"time\": 716.9765899999999}, {\"condition\": \"o1o2\", \"nPts\": \"1000\", \"time\": 791.459712}, {\"condition\": \"o1o2\", \"nPts\": \"10000\", \"time\": 5273.920911999999}, {\"condition\": \"o1o2\", \"nPts\": \"100000\", \"time\": 1293.7039649999997}, {\"condition\": \"o1o2o3\", \"nPts\": \"100\", \"time\": 20.038984000000003}, {\"condition\": \"o1o2o3\", \"nPts\": \"1000\", \"time\": 19.450208}, {\"condition\": \"o1o2o3\", \"nPts\": \"10000\", \"time\": 17.584023000000002}, {\"condition\": \"o1o2o3\", \"nPts\": \"100000\", \"time\": 37.22808200000001}, {\"condition\": \"pandas\", \"nPts\": \"100\", \"time\": 6.153970999999999}, {\"condition\": \"pandas\", \"nPts\": \"1000\", \"time\": 6.051364}, {\"condition\": \"pandas\", \"nPts\": \"10000\", \"time\": 6.144202999999999}, {\"condition\": \"pandas\", \"nPts\": \"100000\", \"time\": 17.117701}]}}, {\"mode\": \"vega-lite\"});\n",
       "</script>"
      ],
      "text/plain": [
       "alt.Chart(...)"
      ]
     },
     "execution_count": 142,
     "metadata": {},
     "output_type": "execute_result"
    }
   ],
   "source": [
    "overall = trial.groupby([\"condition\",\"nPts\"]).sum().reset_index()\n",
    "overall=overall[overall[\"time\"]!=0]\n",
    "chart = alt.Chart(overall,title = \"Overall\").mark_bar().encode(\n",
    "    x = \"condition\",\n",
    "    y = alt.Y(\"time\",scale=alt.Scale(type='log'),title=\"log(total time)\"),\n",
    "    column=\"nPts\",\n",
    "    color=\"condition\",\n",
    "    tooltip=[\"time\"]\n",
    ")\n",
    "chart = chart.configure_title(fontSize=16, offset=5, orient='top', anchor='middle')\n",
    "chart"
   ]
  },
  {
   "cell_type": "code",
   "execution_count": 143,
   "metadata": {},
   "outputs": [
    {
     "data": {
      "text/html": [
       "\n",
       "<div id=\"altair-viz-50a461b085934676af5f09d5290e1659\"></div>\n",
       "<script type=\"text/javascript\">\n",
       "  (function(spec, embedOpt){\n",
       "    let outputDiv = document.currentScript.previousElementSibling;\n",
       "    if (outputDiv.id !== \"altair-viz-50a461b085934676af5f09d5290e1659\") {\n",
       "      outputDiv = document.getElementById(\"altair-viz-50a461b085934676af5f09d5290e1659\");\n",
       "    }\n",
       "    const paths = {\n",
       "      \"vega\": \"https://cdn.jsdelivr.net/npm//vega@5?noext\",\n",
       "      \"vega-lib\": \"https://cdn.jsdelivr.net/npm//vega-lib?noext\",\n",
       "      \"vega-lite\": \"https://cdn.jsdelivr.net/npm//vega-lite@4.8.1?noext\",\n",
       "      \"vega-embed\": \"https://cdn.jsdelivr.net/npm//vega-embed@6?noext\",\n",
       "    };\n",
       "\n",
       "    function loadScript(lib) {\n",
       "      return new Promise(function(resolve, reject) {\n",
       "        var s = document.createElement('script');\n",
       "        s.src = paths[lib];\n",
       "        s.async = true;\n",
       "        s.onload = () => resolve(paths[lib]);\n",
       "        s.onerror = () => reject(`Error loading script: ${paths[lib]}`);\n",
       "        document.getElementsByTagName(\"head\")[0].appendChild(s);\n",
       "      });\n",
       "    }\n",
       "\n",
       "    function showError(err) {\n",
       "      outputDiv.innerHTML = `<div class=\"error\" style=\"color:red;\">${err}</div>`;\n",
       "      throw err;\n",
       "    }\n",
       "\n",
       "    function displayChart(vegaEmbed) {\n",
       "      vegaEmbed(outputDiv, spec, embedOpt)\n",
       "        .catch(err => showError(`Javascript Error: ${err.message}<br>This usually means there's a typo in your chart specification. See the javascript console for the full traceback.`));\n",
       "    }\n",
       "\n",
       "    if(typeof define === \"function\" && define.amd) {\n",
       "      requirejs.config({paths});\n",
       "      require([\"vega-embed\"], displayChart, err => showError(`Error loading script: ${err.message}`));\n",
       "    } else if (typeof vegaEmbed === \"function\") {\n",
       "      displayChart(vegaEmbed);\n",
       "    } else {\n",
       "      loadScript(\"vega\")\n",
       "        .then(() => loadScript(\"vega-lite\"))\n",
       "        .then(() => loadScript(\"vega-embed\"))\n",
       "        .catch(showError)\n",
       "        .then(() => displayChart(vegaEmbed));\n",
       "    }\n",
       "  })({\"config\": {\"view\": {\"continuousWidth\": 400, \"continuousHeight\": 300}, \"title\": {\"anchor\": \"middle\", \"fontSize\": 16, \"offset\": 5, \"orient\": \"top\"}}, \"data\": {\"name\": \"data-aa921bb3ddc90905c200645e91c9f98c\"}, \"mark\": \"bar\", \"encoding\": {\"color\": {\"type\": \"nominal\", \"field\": \"condition\"}, \"column\": {\"type\": \"nominal\", \"field\": \"nPts\"}, \"tooltip\": [{\"type\": \"quantitative\", \"field\": \"time\"}], \"x\": {\"type\": \"nominal\", \"field\": \"condition\"}, \"y\": {\"type\": \"quantitative\", \"field\": \"time\", \"scale\": {\"type\": \"log\"}, \"title\": \"log(total time)\"}}, \"title\": \"Non-Lux Python Operations\", \"$schema\": \"https://vega.github.io/schema/vega-lite/v4.8.1.json\", \"datasets\": {\"data-aa921bb3ddc90905c200645e91c9f98c\": [{\"condition\": \"baseline\", \"nPts\": \"100\", \"cell_type\": \"python\", \"time\": 41.85959016666666}, {\"condition\": \"baseline\", \"nPts\": \"1000\", \"cell_type\": \"python\", \"time\": 41.04226595833334}, {\"condition\": \"baseline\", \"nPts\": \"10000\", \"cell_type\": \"python\", \"time\": 244.5024260833334}, {\"condition\": \"baseline\", \"nPts\": \"100000\", \"cell_type\": \"python\", \"time\": 389.72524125}, {\"condition\": \"o1\", \"nPts\": \"100\", \"cell_type\": \"python\", \"time\": 0.17061220833333335}, {\"condition\": \"o1\", \"nPts\": \"1000\", \"cell_type\": \"python\", \"time\": 0.18968537500000002}, {\"condition\": \"o1\", \"nPts\": \"10000\", \"cell_type\": \"python\", \"time\": 0.17374016666666672}, {\"condition\": \"o1\", \"nPts\": \"100000\", \"cell_type\": \"python\", \"time\": 0.3172419166666667}, {\"condition\": \"o1o2\", \"nPts\": \"100\", \"cell_type\": \"python\", \"time\": 0.19401849999999998}, {\"condition\": \"o1o2\", \"nPts\": \"1000\", \"cell_type\": \"python\", \"time\": 0.20222791666666665}, {\"condition\": \"o1o2\", \"nPts\": \"10000\", \"cell_type\": \"python\", \"time\": 0.19231933333333331}, {\"condition\": \"o1o2\", \"nPts\": \"100000\", \"cell_type\": \"python\", \"time\": 0.42089333333333334}, {\"condition\": \"o1o2o3\", \"nPts\": \"100\", \"cell_type\": \"python\", \"time\": 0.18291320833333327}, {\"condition\": \"o1o2o3\", \"nPts\": \"1000\", \"cell_type\": \"python\", \"time\": 0.184831875}, {\"condition\": \"o1o2o3\", \"nPts\": \"10000\", \"cell_type\": \"python\", \"time\": 0.17395249999999995}, {\"condition\": \"o1o2o3\", \"nPts\": \"100000\", \"cell_type\": \"python\", \"time\": 0.5649576666666667}, {\"condition\": \"pandas\", \"nPts\": \"100\", \"cell_type\": \"python\", \"time\": 0.20694912500000004}, {\"condition\": \"pandas\", \"nPts\": \"1000\", \"cell_type\": \"python\", \"time\": 0.20483166666666663}, {\"condition\": \"pandas\", \"nPts\": \"10000\", \"cell_type\": \"python\", \"time\": 0.2092054166666667}, {\"condition\": \"pandas\", \"nPts\": \"100000\", \"cell_type\": \"python\", \"time\": 0.6031948333333333}]}}, {\"mode\": \"vega-lite\"});\n",
       "</script>"
      ],
      "text/plain": [
       "alt.Chart(...)"
      ]
     },
     "execution_count": 143,
     "metadata": {},
     "output_type": "execute_result"
    }
   ],
   "source": [
    "overall = trial.groupby([\"condition\",\"nPts\",\"cell_type\"]).mean().reset_index()\n",
    "pdf = overall[overall[\"cell_type\"] ==\"python\"]\n",
    "chart = alt.Chart(pdf,title = \"Non-Lux Python Operations\").mark_bar().encode(\n",
    "    x = \"condition\",\n",
    "    y = alt.Y(\"time\",scale=alt.Scale(type='log'),title=\"log(total time)\"),\n",
    "    column=\"nPts\",\n",
    "    color=\"condition\",\n",
    "    tooltip=[\"time\"]\n",
    ")\n",
    "chart = chart.configure_title(fontSize=16, offset=5, orient='top', anchor='middle')\n",
    "chart"
   ]
  },
  {
   "cell_type": "code",
   "execution_count": 145,
   "metadata": {},
   "outputs": [
    {
     "data": {
      "text/html": [
       "\n",
       "<div id=\"altair-viz-acce445f582745648b8b567bb15e3c04\"></div>\n",
       "<script type=\"text/javascript\">\n",
       "  (function(spec, embedOpt){\n",
       "    let outputDiv = document.currentScript.previousElementSibling;\n",
       "    if (outputDiv.id !== \"altair-viz-acce445f582745648b8b567bb15e3c04\") {\n",
       "      outputDiv = document.getElementById(\"altair-viz-acce445f582745648b8b567bb15e3c04\");\n",
       "    }\n",
       "    const paths = {\n",
       "      \"vega\": \"https://cdn.jsdelivr.net/npm//vega@5?noext\",\n",
       "      \"vega-lib\": \"https://cdn.jsdelivr.net/npm//vega-lib?noext\",\n",
       "      \"vega-lite\": \"https://cdn.jsdelivr.net/npm//vega-lite@4.8.1?noext\",\n",
       "      \"vega-embed\": \"https://cdn.jsdelivr.net/npm//vega-embed@6?noext\",\n",
       "    };\n",
       "\n",
       "    function loadScript(lib) {\n",
       "      return new Promise(function(resolve, reject) {\n",
       "        var s = document.createElement('script');\n",
       "        s.src = paths[lib];\n",
       "        s.async = true;\n",
       "        s.onload = () => resolve(paths[lib]);\n",
       "        s.onerror = () => reject(`Error loading script: ${paths[lib]}`);\n",
       "        document.getElementsByTagName(\"head\")[0].appendChild(s);\n",
       "      });\n",
       "    }\n",
       "\n",
       "    function showError(err) {\n",
       "      outputDiv.innerHTML = `<div class=\"error\" style=\"color:red;\">${err}</div>`;\n",
       "      throw err;\n",
       "    }\n",
       "\n",
       "    function displayChart(vegaEmbed) {\n",
       "      vegaEmbed(outputDiv, spec, embedOpt)\n",
       "        .catch(err => showError(`Javascript Error: ${err.message}<br>This usually means there's a typo in your chart specification. See the javascript console for the full traceback.`));\n",
       "    }\n",
       "\n",
       "    if(typeof define === \"function\" && define.amd) {\n",
       "      requirejs.config({paths});\n",
       "      require([\"vega-embed\"], displayChart, err => showError(`Error loading script: ${err.message}`));\n",
       "    } else if (typeof vegaEmbed === \"function\") {\n",
       "      displayChart(vegaEmbed);\n",
       "    } else {\n",
       "      loadScript(\"vega\")\n",
       "        .then(() => loadScript(\"vega-lite\"))\n",
       "        .then(() => loadScript(\"vega-embed\"))\n",
       "        .catch(showError)\n",
       "        .then(() => displayChart(vegaEmbed));\n",
       "    }\n",
       "  })({\"config\": {\"view\": {\"continuousWidth\": 400, \"continuousHeight\": 300}, \"title\": {\"anchor\": \"middle\", \"fontSize\": 16, \"offset\": 5, \"orient\": \"top\"}}, \"data\": {\"name\": \"data-1e6eace7184f0656d10cba83cb2da432\"}, \"mark\": \"bar\", \"encoding\": {\"color\": {\"type\": \"nominal\", \"field\": \"condition\"}, \"column\": {\"type\": \"nominal\", \"field\": \"nPts\"}, \"tooltip\": [{\"type\": \"quantitative\", \"field\": \"time\"}], \"x\": {\"type\": \"nominal\", \"field\": \"condition\"}, \"y\": {\"type\": \"quantitative\", \"field\": \"time\", \"scale\": {\"type\": \"log\"}, \"title\": \"log(total time)\"}}, \"selection\": {\"selector013\": {\"type\": \"interval\", \"bind\": \"scales\", \"encodings\": [\"x\", \"y\"]}}, \"title\": \"Print Series\", \"$schema\": \"https://vega.github.io/schema/vega-lite/v4.8.1.json\", \"datasets\": {\"data-1e6eace7184f0656d10cba83cb2da432\": [{\"condition\": \"baseline\", \"nPts\": \"100\", \"cell_type\": \"print_series\", \"time\": 0.07633575}, {\"condition\": \"baseline\", \"nPts\": \"1000\", \"cell_type\": \"print_series\", \"time\": 0.07617075}, {\"condition\": \"baseline\", \"nPts\": \"10000\", \"cell_type\": \"print_series\", \"time\": 0.07955375}, {\"condition\": \"baseline\", \"nPts\": \"100000\", \"cell_type\": \"print_series\", \"time\": 0.0966615}, {\"condition\": \"o1\", \"nPts\": \"100\", \"cell_type\": \"print_series\", \"time\": 0.07575675000000001}, {\"condition\": \"o1\", \"nPts\": \"1000\", \"cell_type\": \"print_series\", \"time\": 0.07481875}, {\"condition\": \"o1\", \"nPts\": \"10000\", \"cell_type\": \"print_series\", \"time\": 0.0792885}, {\"condition\": \"o1\", \"nPts\": \"100000\", \"cell_type\": \"print_series\", \"time\": 0.10278600000000002}, {\"condition\": \"o1o2\", \"nPts\": \"100\", \"cell_type\": \"print_series\", \"time\": 0.072806}, {\"condition\": \"o1o2\", \"nPts\": \"1000\", \"cell_type\": \"print_series\", \"time\": 0.08244699999999999}, {\"condition\": \"o1o2\", \"nPts\": \"10000\", \"cell_type\": \"print_series\", \"time\": 0.081822}, {\"condition\": \"o1o2\", \"nPts\": \"100000\", \"cell_type\": \"print_series\", \"time\": 0.10532025}, {\"condition\": \"o1o2o3\", \"nPts\": \"100\", \"cell_type\": \"print_series\", \"time\": 0.07346275}, {\"condition\": \"o1o2o3\", \"nPts\": \"1000\", \"cell_type\": \"print_series\", \"time\": 0.07464225000000001}, {\"condition\": \"o1o2o3\", \"nPts\": \"10000\", \"cell_type\": \"print_series\", \"time\": 0.061937000000000006}, {\"condition\": \"o1o2o3\", \"nPts\": \"100000\", \"cell_type\": \"print_series\", \"time\": 0.1225995}, {\"condition\": \"pandas\", \"nPts\": \"100\", \"cell_type\": \"print_series\", \"time\": 0.03967325}, {\"condition\": \"pandas\", \"nPts\": \"1000\", \"cell_type\": \"print_series\", \"time\": 0.039003}, {\"condition\": \"pandas\", \"nPts\": \"10000\", \"cell_type\": \"print_series\", \"time\": 0.037902000000000005}, {\"condition\": \"pandas\", \"nPts\": \"100000\", \"cell_type\": \"print_series\", \"time\": 0.049127}]}}, {\"mode\": \"vega-lite\"});\n",
       "</script>"
      ],
      "text/plain": [
       "alt.Chart(...)"
      ]
     },
     "execution_count": 145,
     "metadata": {},
     "output_type": "execute_result"
    }
   ],
   "source": [
    "overall = trial.groupby([\"condition\",\"nPts\",\"cell_type\"]).mean().reset_index()\n",
    "pdf = overall[overall[\"cell_type\"] ==\"print_series\"]\n",
    "chart = alt.Chart(pdf,title = \"Print Series\").mark_bar().encode(\n",
    "    x = \"condition\",\n",
    "    y = alt.Y(\"time\",scale=alt.Scale(type='log'),title=\"log(total time)\"),\n",
    "    column=\"nPts\",\n",
    "    color=\"condition\",\n",
    "    tooltip=[\"time\"]\n",
    ")\n",
    "chart = chart.configure_title(fontSize=16, offset=5, orient='top', anchor='middle')\n",
    "chart.interactive()"
   ]
  },
  {
   "cell_type": "code",
   "execution_count": 146,
   "metadata": {},
   "outputs": [],
   "source": [
    "# trial[(trial[\"cell_type\"] ==\"print_series\")&(trial[\"condition\"] ==\"o1o2\")&((trial[\"nPts\"] ==\"10000\")|(trial[\"nPts\"] ==\"100000\"))]"
   ]
  },
  {
   "cell_type": "code",
   "execution_count": 147,
   "metadata": {},
   "outputs": [],
   "source": [
    "# trial[(trial[\"cell_type\"] ==\"print_series\")&(trial[\"condition\"] ==\"o1o2\")&((trial[\"nPts\"] ==\"10000\")|(trial[\"nPts\"] ==\"100000\"))]"
   ]
  },
  {
   "cell_type": "markdown",
   "metadata": {},
   "source": [
    "There are only 4 print series cells, which means that there is high variance in the execution time. If we do a rerun of experiments, we should add in more series cells. Esp since the metadata is recomputed for some of the series cells. Otherwise, the runtime is more or less the same. If we use papermill's \"duration\" v.s. subtract \"execution\" time (IPython messaging statrt/end), we get different results. So the conditions are more or less the same, but require reruns for the numbers to stable down."
   ]
  },
  {
   "cell_type": "code",
   "execution_count": 176,
   "metadata": {},
   "outputs": [],
   "source": [
    "# trial[(trial[\"cell_type\"] ==\"print_dataframe\")&(trial[\"condition\"] ==\"o1o2\")&(trial[\"nPts\"] ==\"10000\")]"
   ]
  },
  {
   "cell_type": "code",
   "execution_count": 149,
   "metadata": {},
   "outputs": [
    {
     "data": {
      "text/html": [
       "\n",
       "<div id=\"altair-viz-3bae877d887c40899f9cd568d0d688f8\"></div>\n",
       "<script type=\"text/javascript\">\n",
       "  (function(spec, embedOpt){\n",
       "    let outputDiv = document.currentScript.previousElementSibling;\n",
       "    if (outputDiv.id !== \"altair-viz-3bae877d887c40899f9cd568d0d688f8\") {\n",
       "      outputDiv = document.getElementById(\"altair-viz-3bae877d887c40899f9cd568d0d688f8\");\n",
       "    }\n",
       "    const paths = {\n",
       "      \"vega\": \"https://cdn.jsdelivr.net/npm//vega@5?noext\",\n",
       "      \"vega-lib\": \"https://cdn.jsdelivr.net/npm//vega-lib?noext\",\n",
       "      \"vega-lite\": \"https://cdn.jsdelivr.net/npm//vega-lite@4.8.1?noext\",\n",
       "      \"vega-embed\": \"https://cdn.jsdelivr.net/npm//vega-embed@6?noext\",\n",
       "    };\n",
       "\n",
       "    function loadScript(lib) {\n",
       "      return new Promise(function(resolve, reject) {\n",
       "        var s = document.createElement('script');\n",
       "        s.src = paths[lib];\n",
       "        s.async = true;\n",
       "        s.onload = () => resolve(paths[lib]);\n",
       "        s.onerror = () => reject(`Error loading script: ${paths[lib]}`);\n",
       "        document.getElementsByTagName(\"head\")[0].appendChild(s);\n",
       "      });\n",
       "    }\n",
       "\n",
       "    function showError(err) {\n",
       "      outputDiv.innerHTML = `<div class=\"error\" style=\"color:red;\">${err}</div>`;\n",
       "      throw err;\n",
       "    }\n",
       "\n",
       "    function displayChart(vegaEmbed) {\n",
       "      vegaEmbed(outputDiv, spec, embedOpt)\n",
       "        .catch(err => showError(`Javascript Error: ${err.message}<br>This usually means there's a typo in your chart specification. See the javascript console for the full traceback.`));\n",
       "    }\n",
       "\n",
       "    if(typeof define === \"function\" && define.amd) {\n",
       "      requirejs.config({paths});\n",
       "      require([\"vega-embed\"], displayChart, err => showError(`Error loading script: ${err.message}`));\n",
       "    } else if (typeof vegaEmbed === \"function\") {\n",
       "      displayChart(vegaEmbed);\n",
       "    } else {\n",
       "      loadScript(\"vega\")\n",
       "        .then(() => loadScript(\"vega-lite\"))\n",
       "        .then(() => loadScript(\"vega-embed\"))\n",
       "        .catch(showError)\n",
       "        .then(() => displayChart(vegaEmbed));\n",
       "    }\n",
       "  })({\"config\": {\"view\": {\"continuousWidth\": 400, \"continuousHeight\": 300}, \"title\": {\"anchor\": \"middle\", \"fontSize\": 16, \"offset\": 5, \"orient\": \"top\"}}, \"data\": {\"name\": \"data-bdf7a40229181656d6683eb9b38b1806\"}, \"mark\": \"bar\", \"encoding\": {\"color\": {\"type\": \"nominal\", \"field\": \"condition\"}, \"column\": {\"type\": \"nominal\", \"field\": \"nPts\"}, \"tooltip\": [{\"type\": \"quantitative\", \"field\": \"time\"}], \"x\": {\"type\": \"nominal\", \"field\": \"condition\"}, \"y\": {\"type\": \"quantitative\", \"field\": \"time\", \"scale\": {\"type\": \"log\"}, \"title\": \"log(total time)\"}}, \"title\": \"Print Dataframe\", \"$schema\": \"https://vega.github.io/schema/vega-lite/v4.8.1.json\", \"datasets\": {\"data-bdf7a40229181656d6683eb9b38b1806\": [{\"condition\": \"baseline\", \"nPts\": \"100\", \"cell_type\": \"print_dataframe\", \"time\": 56.71788650000001}, {\"condition\": \"baseline\", \"nPts\": \"1000\", \"cell_type\": \"print_dataframe\", \"time\": 54.10068557142856}, {\"condition\": \"baseline\", \"nPts\": \"10000\", \"cell_type\": \"print_dataframe\", \"time\": 304.25674892857154}, {\"condition\": \"baseline\", \"nPts\": \"100000\", \"cell_type\": \"print_dataframe\", \"time\": 359.81565278571435}, {\"condition\": \"o1\", \"nPts\": \"100\", \"cell_type\": \"print_dataframe\", \"time\": 48.76428107142856}, {\"condition\": \"o1\", \"nPts\": \"1000\", \"cell_type\": \"print_dataframe\", \"time\": 49.19063757142857}, {\"condition\": \"o1\", \"nPts\": \"10000\", \"cell_type\": \"print_dataframe\", \"time\": 269.20953049999997}, {\"condition\": \"o1\", \"nPts\": \"100000\", \"cell_type\": \"print_dataframe\", \"time\": 338.33382892857145}, {\"condition\": \"o1o2\", \"nPts\": \"100\", \"cell_type\": \"print_dataframe\", \"time\": 50.80043614285715}, {\"condition\": \"o1o2\", \"nPts\": \"1000\", \"cell_type\": \"print_dataframe\", \"time\": 56.09865564285714}, {\"condition\": \"o1o2\", \"nPts\": \"10000\", \"cell_type\": \"print_dataframe\", \"time\": 376.3050124285714}, {\"condition\": \"o1o2\", \"nPts\": \"100000\", \"cell_type\": \"print_dataframe\", \"time\": 91.60585278571429}, {\"condition\": \"o1o2o3\", \"nPts\": \"100\", \"cell_type\": \"print_dataframe\", \"time\": 1.0389601428571429}, {\"condition\": \"o1o2o3\", \"nPts\": \"1000\", \"cell_type\": \"print_dataframe\", \"time\": 0.9879574285714285}, {\"condition\": \"o1o2o3\", \"nPts\": \"10000\", \"cell_type\": \"print_dataframe\", \"time\": 0.8773408571428573}, {\"condition\": \"o1o2o3\", \"nPts\": \"100000\", \"cell_type\": \"print_dataframe\", \"time\": 1.5850095714285715}, {\"condition\": \"pandas\", \"nPts\": \"100\", \"cell_type\": \"print_dataframe\", \"time\": 0.06955235714285715}, {\"condition\": \"pandas\", \"nPts\": \"1000\", \"cell_type\": \"print_dataframe\", \"time\": 0.06597385714285714}, {\"condition\": \"pandas\", \"nPts\": \"10000\", \"cell_type\": \"print_dataframe\", \"time\": 0.06551171428571427}, {\"condition\": \"pandas\", \"nPts\": \"100000\", \"cell_type\": \"print_dataframe\", \"time\": 0.1686405}]}}, {\"mode\": \"vega-lite\"});\n",
       "</script>"
      ],
      "text/plain": [
       "alt.Chart(...)"
      ]
     },
     "execution_count": 149,
     "metadata": {},
     "output_type": "execute_result"
    }
   ],
   "source": [
    "overall = trial.groupby([\"condition\",\"nPts\",\"cell_type\"]).mean().reset_index()\n",
    "pdf = overall[overall[\"cell_type\"] ==\"print_dataframe\"]\n",
    "chart = alt.Chart(pdf,title = \"Print Dataframe\").mark_bar().encode(\n",
    "    x = \"condition\",\n",
    "    y = alt.Y(\"time\",scale=alt.Scale(type='log'),title=\"log(total time)\"),\n",
    "    column=\"nPts\",\n",
    "    color=\"condition\",\n",
    "    tooltip=[\"time\"]\n",
    ")\n",
    "chart = chart.configure_title(fontSize=16, offset=5, orient='top', anchor='middle')\n",
    "chart"
   ]
  },
  {
   "cell_type": "markdown",
   "metadata": {},
   "source": [
    "----------------"
   ]
  },
  {
   "cell_type": "code",
   "execution_count": 150,
   "metadata": {},
   "outputs": [],
   "source": [
    "# # VegaLite can not do logarithmic stacked bar since it is misleading\n",
    "# alt.Chart(df).mark_bar().encode(\n",
    "#     x = alt.X(\"nPts\",type=\"ordinal\"),\n",
    "#     y = alt.Y(\"time\"),#,scale=alt.Scale(type='log'),title=\"log(total time)\"),\n",
    "#     color=\"condition\"\n",
    "# )"
   ]
  },
  {
   "cell_type": "code",
   "execution_count": 151,
   "metadata": {},
   "outputs": [],
   "source": [
    "import numpy as np"
   ]
  },
  {
   "cell_type": "code",
   "execution_count": 218,
   "metadata": {},
   "outputs": [],
   "source": [
    "def pctChange(s1,s2):\n",
    "    return (np.array(s1[\"time\"])-np.array(s2[\"time\"]))/np.array(s2[\"time\"])\n",
    "def rawChange(s1,s2):\n",
    "    return (np.array(s1[\"time\"])-np.array(s2[\"time\"]))"
   ]
  },
  {
   "cell_type": "code",
   "execution_count": 248,
   "metadata": {},
   "outputs": [],
   "source": [
    "df = pd.read_csv(\"../../paper/airbnb_macrobenchmark.csv\")"
   ]
  },
  {
   "cell_type": "code",
   "execution_count": 249,
   "metadata": {},
   "outputs": [],
   "source": [
    "df= df.groupby([\"condition\",\"nPts\"]).sum().reset_index()"
   ]
  },
  {
   "cell_type": "code",
   "execution_count": 250,
   "metadata": {},
   "outputs": [],
   "source": [
    "pdonly = df[df[\"condition\"]==\"pandas\"]\n",
    "best = df[df[\"condition\"]==\"o1o2o3\"]\n",
    "worst = df[df[\"condition\"]==\"baseline\"]"
   ]
  },
  {
   "cell_type": "markdown",
   "metadata": {},
   "source": [
    "Intro: Naive implementation of recommendation on top of dataframes can be extremely costly incurring up to X% slowdown"
   ]
  },
  {
   "cell_type": "code",
   "execution_count": 251,
   "metadata": {},
   "outputs": [
    {
     "data": {
      "text/plain": [
       "array([ 3.09677655,  5.30572715, 13.31293887, 18.75098951])"
      ]
     },
     "execution_count": 251,
     "metadata": {},
     "output_type": "execute_result"
    }
   ],
   "source": [
    "pctChange(worst,best)"
   ]
  },
  {
   "cell_type": "markdown",
   "metadata": {},
   "source": [
    "Abstract: We demonstrate that through the use of a careful design and three system optimizations, Lux incurs an overhead of no more than X% more time than pandas for a 10M row dataframe. "
   ]
  },
  {
   "cell_type": "code",
   "execution_count": 228,
   "metadata": {},
   "outputs": [
    {
     "data": {
      "text/plain": [
       "array([-0.06341819,  0.14775279,  0.82921703,  3.72622968])"
      ]
     },
     "execution_count": 228,
     "metadata": {},
     "output_type": "execute_result"
    }
   ],
   "source": [
    "pctChange(best,pdonly)\n",
    "# rawChange(best,pdonly)"
   ]
  },
  {
   "cell_type": "code",
   "execution_count": 220,
   "metadata": {},
   "outputs": [],
   "source": [
    "df = df[df[\"cell_type\"]==\"print_dataframe\"]\n",
    "df = df.groupby([\"nPts\",\"condition\"]).mean().reset_index()"
   ]
  },
  {
   "cell_type": "code",
   "execution_count": 221,
   "metadata": {},
   "outputs": [],
   "source": [
    "# df = df.groupby([\"nPts\",\"condition\"]).sum().reset_index()\n",
    "pdonly = df[df[\"condition\"]==\"pandas\"]\n",
    "best = df[df[\"condition\"]==\"o1o2o3\"]\n",
    "worst = df[df[\"condition\"]==\"baseline\"]"
   ]
  },
  {
   "cell_type": "code",
   "execution_count": 222,
   "metadata": {},
   "outputs": [
    {
     "data": {
      "text/plain": [
       "array([ 0.13209493,  0.37043429,  1.99063757, 21.18188143])"
      ]
     },
     "execution_count": 222,
     "metadata": {},
     "output_type": "execute_result"
    }
   ],
   "source": [
    "# pctChange(best,pdonly)\n",
    "\n",
    "# pctChange(worst,pdonly)\n",
    "\n",
    "rawChange(best,pdonly)"
   ]
  },
  {
   "cell_type": "markdown",
   "metadata": {},
   "source": [
    "When the dataframe contains fewer than 1M rows for Airbnb, each print incurs no more than 2 seconds for each print in addition to \\pandas (in the 10M case, each print incurred an overhead of 21 seconds)."
   ]
  },
  {
   "cell_type": "code",
   "execution_count": 161,
   "metadata": {},
   "outputs": [
    {
     "data": {
      "text/plain": [
       "array([10.86215629,  9.99948866,  8.55949505,  7.05569083])"
      ]
     },
     "execution_count": 161,
     "metadata": {},
     "output_type": "execute_result"
    }
   ],
   "source": [
    "pctChange(worst,best)"
   ]
  },
  {
   "cell_type": "code",
   "execution_count": 157,
   "metadata": {},
   "outputs": [],
   "source": [
    "def singlePctChange(v1,v2):\n",
    "    return (v1-v2)/v2"
   ]
  },
  {
   "cell_type": "code",
   "execution_count": 252,
   "metadata": {},
   "outputs": [],
   "source": [
    "df = pd.read_csv(\"../../paper/communities_macrobenchmark.csv\")"
   ]
  },
  {
   "cell_type": "code",
   "execution_count": 253,
   "metadata": {},
   "outputs": [],
   "source": [
    "df= df.groupby([\"condition\",\"nPts\"]).sum().reset_index()"
   ]
  },
  {
   "cell_type": "code",
   "execution_count": 254,
   "metadata": {},
   "outputs": [],
   "source": [
    "# df = df.groupby([\"nPts\",\"condition\"]).sum().reset_index()\n",
    "pdonly = df[df[\"condition\"]==\"pandas\"]\n",
    "best = df[df[\"condition\"]==\"o1o2o3\"]\n",
    "worst = df[df[\"condition\"]==\"baseline\"]"
   ]
  },
  {
   "cell_type": "code",
   "execution_count": 255,
   "metadata": {},
   "outputs": [
    {
     "data": {
      "text/plain": [
       "array([ 88.80738415,  88.62974581, 575.01099458, 385.58727696])"
      ]
     },
     "execution_count": 255,
     "metadata": {},
     "output_type": "execute_result"
    }
   ],
   "source": [
    "pctChange(worst,best)"
   ]
  },
  {
   "cell_type": "code",
   "execution_count": 165,
   "metadata": {},
   "outputs": [],
   "source": [
    "df = df[df[\"cell_type\"]==\"print_dataframe\"]\n",
    "df = df.groupby([\"nPts\",\"condition\"]).mean().reset_index()"
   ]
  },
  {
   "cell_type": "code",
   "execution_count": 166,
   "metadata": {},
   "outputs": [],
   "source": [
    "pdonly = df[df[\"condition\"]==\"pandas\"]\n",
    "best = df[df[\"condition\"]==\"o1o2o3\"]\n",
    "worst = df[df[\"condition\"]==\"baseline\"]"
   ]
  },
  {
   "cell_type": "code",
   "execution_count": 169,
   "metadata": {},
   "outputs": [
    {
     "data": {
      "text/plain": [
       "array([ 53.59101284,  53.76013845, 345.7942322 , 226.01165928])"
      ]
     },
     "execution_count": 169,
     "metadata": {},
     "output_type": "execute_result"
    }
   ],
   "source": [
    "pctChange(worst,best)"
   ]
  },
  {
   "cell_type": "code",
   "execution_count": 170,
   "metadata": {},
   "outputs": [
    {
     "data": {
      "text/plain": [
       "array([0.96940779, 0.92198357, 0.81182914, 1.41636907])"
      ]
     },
     "execution_count": 170,
     "metadata": {},
     "output_type": "execute_result"
    }
   ],
   "source": [
    "rawChange(best,pdonly)"
   ]
  },
  {
   "cell_type": "markdown",
   "metadata": {},
   "source": [
    " Likewise, for Communities, the overhead was no more than 1.2 seconds. "
   ]
  },
  {
   "cell_type": "code",
   "execution_count": 174,
   "metadata": {},
   "outputs": [
    {
     "data": {
      "text/plain": [
       "array([0.02530929, 0.04965271, 0.03858229, 0.60742771])"
      ]
     },
     "execution_count": 174,
     "metadata": {},
     "output_type": "execute_result"
    }
   ],
   "source": [
    "df = pd.read_csv(\"../../paper/airbnb_macrobenchmark.csv\")\n",
    "df = df[df[\"cell_type\"]==\"print_series\"]\n",
    "df = df.groupby([\"nPts\",\"condition\"]).mean().reset_index()\n",
    "\n",
    "pdonly = df[df[\"condition\"]==\"pandas\"]\n",
    "o1 = df[df[\"condition\"]==\"o1\"]\n",
    "o1o2 = df[df[\"condition\"]==\"o1o2\"]\n",
    "best = df[df[\"condition\"]==\"o1o2o3\"]\n",
    "worst = df[df[\"condition\"]==\"baseline\"]\n",
    "\n",
    "overhead = rawChange(best,pdonly)\n",
    "overhead"
   ]
  },
  {
   "cell_type": "code",
   "execution_count": 175,
   "metadata": {},
   "outputs": [
    {
     "data": {
      "text/plain": [
       "array([0.0337895 , 0.03563925, 0.024035  , 0.0734725 ])"
      ]
     },
     "execution_count": 175,
     "metadata": {},
     "output_type": "execute_result"
    }
   ],
   "source": [
    "df = pd.read_csv(\"../../paper/communities_macrobenchmark.csv\")\n",
    "df = df[df[\"cell_type\"]==\"print_series\"]\n",
    "df = df.groupby([\"nPts\",\"condition\"]).mean().reset_index()\n",
    "\n",
    "pdonly = df[df[\"condition\"]==\"pandas\"]\n",
    "o1 = df[df[\"condition\"]==\"o1\"]\n",
    "o1o2 = df[df[\"condition\"]==\"o1o2\"]\n",
    "best = df[df[\"condition\"]==\"o1o2o3\"]\n",
    "worst = df[df[\"condition\"]==\"baseline\"]\n",
    "\n",
    "overhead = rawChange(best,pdonly)\n",
    "overhead"
   ]
  },
  {
   "cell_type": "markdown",
   "metadata": {},
   "source": [
    "#### Non-Lux Operations"
   ]
  },
  {
   "cell_type": "code",
   "execution_count": 214,
   "metadata": {},
   "outputs": [
    {
     "data": {
      "text/plain": [
       "array([  2.42555696,   4.61294096,  20.18075459, 105.86283076])"
      ]
     },
     "execution_count": 214,
     "metadata": {},
     "output_type": "execute_result"
    }
   ],
   "source": [
    "df = pd.read_csv(\"../../paper/airbnb_macrobenchmark.csv\")\n",
    "df = df[df[\"cell_type\"]==\"python\"]\n",
    "df = df.groupby([\"nPts\",\"condition\"]).mean().reset_index()\n",
    "\n",
    "pdonly = df[df[\"condition\"]==\"pandas\"]\n",
    "o1 = df[df[\"condition\"]==\"o1\"]\n",
    "o1o2 = df[df[\"condition\"]==\"o1o2\"]\n",
    "best = df[df[\"condition\"]==\"o1o2o3\"]\n",
    "worst = df[df[\"condition\"]==\"baseline\"]\n",
    "\n",
    "# rawChange(best,pdonly)\n",
    "# pctChange(worst,best)\n",
    "pctChange(worst,best)"
   ]
  },
  {
   "cell_type": "code",
   "execution_count": 215,
   "metadata": {},
   "outputs": [
    {
     "data": {
      "text/plain": [
       "array([ 227.84946663,  221.05188341, 1404.57006127,  688.8308745 ])"
      ]
     },
     "execution_count": 215,
     "metadata": {},
     "output_type": "execute_result"
    }
   ],
   "source": [
    "df = pd.read_csv(\"../../paper/communities_macrobenchmark.csv\")\n",
    "df = df[df[\"cell_type\"]==\"python\"]\n",
    "df = df.groupby([\"nPts\",\"condition\"]).mean().reset_index()\n",
    "\n",
    "pdonly = df[df[\"condition\"]==\"pandas\"]\n",
    "o1 = df[df[\"condition\"]==\"o1\"]\n",
    "o1o2 = df[df[\"condition\"]==\"o1o2\"]\n",
    "best = df[df[\"condition\"]==\"o1o2o3\"]\n",
    "worst = df[df[\"condition\"]==\"baseline\"]\n",
    "\n",
    "# rawChange(best,pdonly)\n",
    "# pctChange(worst,best)\n",
    "pctChange(worst,best)"
   ]
  },
  {
   "cell_type": "code",
   "execution_count": null,
   "metadata": {},
   "outputs": [],
   "source": []
  }
 ],
 "metadata": {
  "kernelspec": {
   "display_name": "Python 3",
   "language": "python",
   "name": "python3"
  },
  "language_info": {
   "codemirror_mode": {
    "name": "ipython",
    "version": 3
   },
   "file_extension": ".py",
   "mimetype": "text/x-python",
   "name": "python",
   "nbconvert_exporter": "python",
   "pygments_lexer": "ipython3",
   "version": "3.9.2"
  }
 },
 "nbformat": 4,
 "nbformat_minor": 4
}
