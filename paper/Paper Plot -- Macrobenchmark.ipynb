{
 "cells": [
  {
   "cell_type": "code",
   "execution_count": 1,
   "id": "empty-johns",
   "metadata": {},
   "outputs": [],
   "source": [
    "import pandas as pd"
   ]
  },
  {
   "cell_type": "code",
   "execution_count": 2,
   "id": "hidden-mexico",
   "metadata": {},
   "outputs": [],
   "source": [
    "df = pd.read_csv(\"airbnb_macrobenchmark.csv\")"
   ]
  },
  {
   "cell_type": "code",
   "execution_count": 8,
   "id": "average-arabic",
   "metadata": {},
   "outputs": [],
   "source": [
    "airbnb = df.groupby([\"condition\",\"nPts\"]).sum().reset_index()"
   ]
  },
  {
   "cell_type": "code",
   "execution_count": 50,
   "id": "swiss-charleston",
   "metadata": {},
   "outputs": [
    {
     "data": {
      "image/png": "[encoded data removed]",
      "text/plain": [
       "<Figure size 432x288 with 1 Axes>"
      ]
     },
     "metadata": {
      "needs_background": "light"
     },
     "output_type": "display_data"
    }
   ],
   "source": [
    "import numpy as np\n",
    "import matplotlib.pyplot as plt\n",
    "fig,ax = plt.subplots() \n",
    "# set width of bars\n",
    "barWidth = 0.15\n",
    " \n",
    "# set heights of bars\n",
    "bars0 = airbnb[airbnb[\"condition\"]==\"baseline\"][\"time\"]\n",
    "bars1 = airbnb[airbnb[\"condition\"]==\"o1\"][\"time\"]\n",
    "bars2 = airbnb[airbnb[\"condition\"]==\"o1o2\"][\"time\"]\n",
    "bars3 = airbnb[airbnb[\"condition\"]==\"o1o2o3\"][\"time\"]\n",
    "bars4 = airbnb[airbnb[\"condition\"]==\"pandas\"][\"time\"]\n",
    " \n",
    "# Set position of bar on X axis\n",
    "r0 = np.arange(len(bars1))\n",
    "r1 = [x + barWidth for x in r0]\n",
    "r2 = [x + barWidth for x in r1]\n",
    "r3 = [x + barWidth for x in r2]\n",
    "r4 = [x + barWidth for x in r3]\n",
    " \n",
    "# Make the plot\n",
    "plt.bar(r0, bars0, color='#999999', width=barWidth, edgecolor='white', label='baseline')\n",
    "plt.bar(r1, bars1, color='#4c78a8', width=barWidth, edgecolor='white', label='O1')\n",
    "plt.bar(r2, bars2, color='#f58517', width=barWidth, edgecolor='white', label='O1+O2')\n",
    "plt.bar(r3, bars3, color='#e45755', width=barWidth, edgecolor='white', label='O1+O2+O3')\n",
    "plt.bar(r4, bars4, color='#72b7b2', width=barWidth, edgecolor='white', label='pandas')\n",
    " \n",
    "# Add xticks on the middle of the group bars\n",
    "plt.title(\"Airbnb\", fontweight='bold')\n",
    "plt.xlabel('Number of rows', fontweight='bold')\n",
    "plt.ylabel('log (overall time)', fontweight='bold')\n",
    "plt.xticks([r + barWidth for r in range(len(bars1))], airbnb.nPts.unique())\n",
    "ax.set_yscale('log')\n",
    "# Create legend & Show graphic\n",
    "plt.legend()\n",
    "plt.show()"
   ]
  },
  {
   "cell_type": "code",
   "execution_count": null,
   "id": "applied-respondent",
   "metadata": {},
   "outputs": [],
   "source": [
    "import numpy as np\n",
    "import matplotlib.pyplot as plt\n",
    "fig, (ax1,ax2) = plt.subplots(2,1) \n",
    "# set width of bars\n",
    "barWidth = 0.15\n",
    " \n",
    "# set heights of bars\n",
    "bars0 = airbnb[airbnb[\"condition\"]==\"baseline\"][\"time\"]\n",
    "bars1 = airbnb[airbnb[\"condition\"]==\"o1\"][\"time\"]\n",
    "bars2 = airbnb[airbnb[\"condition\"]==\"o1o2\"][\"time\"]\n",
    "bars3 = airbnb[airbnb[\"condition\"]==\"o1o2o3\"][\"time\"]\n",
    "bars4 = airbnb[airbnb[\"condition\"]==\"pandas\"][\"time\"]\n",
    " \n",
    "# Set position of bar on X axis\n",
    "r0 = np.arange(len(bars1))\n",
    "r1 = [x + barWidth for x in r0]\n",
    "r2 = [x + barWidth for x in r1]\n",
    "r3 = [x + barWidth for x in r2]\n",
    "r4 = [x + barWidth for x in r3]\n",
    "\n",
    "ax = ax1\n",
    "# Make the plot\n",
    "ax.bar(r0, bars0, color='#999999', width=barWidth, edgecolor='white', label='baseline')\n",
    "ax.bar(r1, bars1, color='#4c78a8', width=barWidth, edgecolor='white', label='O1')\n",
    "ax.bar(r2, bars2, color='#f58517', width=barWidth, edgecolor='white', label='O1+O2')\n",
    "ax.bar(r3, bars3, color='#e45755', width=barWidth, edgecolor='white', label='O1+O2+O3')\n",
    "ax.bar(r4, bars4, color='#72b7b2', width=barWidth, edgecolor='white', label='pandas')\n",
    " \n",
    "# Add xticks on the middle of the group bars\n",
    "plt.title(\"Airbnb\", fontweight='bold')\n",
    "# ax.set_xlabel('Number of rows', fontweight='bold')\n",
    "# ax.set_ylabel('log (overall time)', fontweight='bold')\n",
    "# ax.set_xticks([r + barWidth for r in range(len(bars1))], airbnb.nPts.unique())\n",
    "ax1.set_yscale('log')\n",
    "# Create legend & Show graphic\n",
    "ax1.legend()\n",
    "plt.show()"
   ]
  }
 ],
 "metadata": {
  "kernelspec": {
   "display_name": "Python 3",
   "language": "python",
   "name": "python3"
  },
  "language_info": {
   "codemirror_mode": {
    "name": "ipython",
    "version": 3
   },
   "file_extension": ".py",
   "mimetype": "text/x-python",
   "name": "python",
   "nbconvert_exporter": "python",
   "pygments_lexer": "ipython3",
   "version": "3.7.7"
  }
 },
 "nbformat": 4,
 "nbformat_minor": 5
}
