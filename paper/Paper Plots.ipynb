{
 "cells": [
  {
   "cell_type": "code",
   "execution_count": 2,
   "id": "periodic-external",
   "metadata": {},
   "outputs": [],
   "source": [
    "import pandas as pd\n",
    "import altair as alt\n",
    "import numpy as np\n",
    "import matplotlib.pyplot as plt"
   ]
  },
  {
   "cell_type": "code",
   "execution_count": 3,
   "id": "dress-nashville",
   "metadata": {},
   "outputs": [],
   "source": [
    "df = pd.read_csv(\"airbnb_macrobenchmark.csv\")\n",
    "df2 = pd.read_csv(\"communities_macrobenchmark.csv\")"
   ]
  },
  {
   "cell_type": "code",
   "execution_count": 4,
   "id": "another-receiver",
   "metadata": {},
   "outputs": [],
   "source": [
    "# Overall \n",
    "airbnb = df.groupby([\"condition\",\"nPts\"]).sum().reset_index()\n",
    "communities = df2.groupby([\"condition\",\"nPts\"]).sum().reset_index()"
   ]
  },
  {
   "cell_type": "code",
   "execution_count": 5,
   "id": "incredible-dinner",
   "metadata": {},
   "outputs": [],
   "source": [
    "# communities = communities[communities[\"nPts\"]!=100]"
   ]
  },
  {
   "cell_type": "code",
   "execution_count": 6,
   "id": "induced-singer",
   "metadata": {},
   "outputs": [
    {
     "data": {
      "text/plain": [
       "Text(0, 0.5, 'log (overall notebook runtime) [s]')"
      ]
     },
     "execution_count": 6,
     "metadata": {},
     "output_type": "execute_result"
    },
    {
     "data": {
      "image/png": "[encoded data removed]",
      "text/plain": [
       "<Figure size 504x288 with 3 Axes>"
      ]
     },
     "metadata": {
      "needs_background": "light"
     },
     "output_type": "display_data"
    }
   ],
   "source": [
    "import numpy as np\n",
    "import matplotlib.pyplot as plt\n",
    "# fig, (ax1,ax2) = plt.subplots(1,2,figsize=(10, 3))#,sharey=True)\n",
    "fig, (ax1,ax2) = plt.subplots(2,1,figsize=(7,4))#,sharey=True)\n",
    "# set width of bars\n",
    "barWidth = 0.15\n",
    "######## AIRBNB ############\n",
    "ax = ax1\n",
    "# set heights of bars\n",
    "bars0 = airbnb[airbnb[\"condition\"]==\"baseline\"][\"time\"]\n",
    "bars1 = airbnb[airbnb[\"condition\"]==\"o1\"][\"time\"]\n",
    "bars2 = airbnb[airbnb[\"condition\"]==\"o1o2\"][\"time\"]\n",
    "bars3 = airbnb[airbnb[\"condition\"]==\"o1o2o3\"][\"time\"]\n",
    "bars4 = airbnb[airbnb[\"condition\"]==\"pandas\"][\"time\"]\n",
    " \n",
    "# Set position of bar on X axis\n",
    "r0 = np.arange(len(bars1))\n",
    "r1 = [x + barWidth for x in r0]\n",
    "r2 = [x + barWidth for x in r1]\n",
    "r3 = [x + barWidth for x in r2]\n",
    "r4 = [x + barWidth for x in r3]\n",
    "\n",
    "ax.bar(r0, bars0, color='#999999', width=barWidth, edgecolor='white', label='no-opt')\n",
    "ax.bar(r1, bars1, color='#4c78a8', width=barWidth, edgecolor='white', label='wflow')\n",
    "ax.bar(r2, bars2, color='#f58517', width=barWidth, edgecolor='white', label='wflow+prune')\n",
    "ax.bar(r3, bars3, color='#e45755', width=barWidth, edgecolor='white', label='all-opt')\n",
    "ax.bar(r4, bars4, color='#72b7b2', width=barWidth, edgecolor='white', label='pandas')\n",
    "  \n",
    "# Add xticks on the middle of the group bars\n",
    "# ax.set_xlabel('Number of rows', fontweight='bold')\n",
    "# ax.set_ylabel('log (overall time) [s]', fontweight='bold')\n",
    "ax.set_xticks([r + barWidth + 0.1 for r in range(len(bars1))])\n",
    "ax.set_xticklabels([\"$10^4$\",\"$10^5$\",\"$10^6$\",\"$10^7$\"])\n",
    "ax.set_yscale('log')\n",
    "ax.text(0.1, 0.9,'Airbnb', fontsize=12,fontweight='bold',horizontalalignment='center',verticalalignment='center',transform = ax.transAxes)\n",
    "ax.set_ylim(10,9000)\n",
    "######## Communities ############\n",
    "ax = ax2\n",
    "bars0 = communities[communities[\"condition\"]==\"baseline\"][\"time\"]\n",
    "bars1 = communities[communities[\"condition\"]==\"o1\"][\"time\"]\n",
    "bars2 = communities[communities[\"condition\"]==\"o1o2\"][\"time\"]\n",
    "bars3 = communities[communities[\"condition\"]==\"o1o2o3\"][\"time\"]\n",
    "bars4 = communities[communities[\"condition\"]==\"pandas\"][\"time\"]\n",
    " \n",
    "# Set position of bar on X axis\n",
    "r0 = np.arange(len(bars1))\n",
    "r1 = [x + barWidth for x in r0]\n",
    "r2 = [x + barWidth for x in r1]\n",
    "r3 = [x + barWidth for x in r2]\n",
    "r4 = [x + barWidth for x in r3]\n",
    "\n",
    "ax.bar(r0, bars0, color='#999999', width=barWidth, edgecolor='white', label='no-opt')\n",
    "ax.bar(r1, bars1, color='#4c78a8', width=barWidth, edgecolor='white', label='wflow')\n",
    "ax.bar(r2, bars2, color='#f58517', width=barWidth, edgecolor='white', label='wflow+prune')\n",
    "ax.bar(r3, bars3, color='#e45755', width=barWidth, edgecolor='white', label='all-opt')\n",
    "ax.bar(r4, bars4, color='#72b7b2', width=barWidth, edgecolor='white', label='pandas')\n",
    "  \n",
    "# Add xticks on the middle of the group bars\n",
    "ax.set_xlabel('Number of rows', fontweight='bold')\n",
    "# ax.set_ylabel('log (overall time) [s]', fontweight='bold')\n",
    "ax.set_xticks([r + barWidth + 0.1 for r in range(len(bars1))])\n",
    "ax.set_xticklabels([\"$10^2$\",\"$10^3$\",\"$10^4$\",\"$10^5$\"])\n",
    "ax.set_yscale('log')\n",
    "ax.text(0.15, 0.9,'Communities', fontsize=12,fontweight='bold',horizontalalignment='center',verticalalignment='center',transform = ax.transAxes)\n",
    "ax.set_ylim(1,20000)\n",
    "##########################\n",
    "\n",
    "# GLOBAL FIGURE SETTINGS\n",
    "\n",
    "# fig = plt.gcf()\n",
    "# fig.suptitle(\"Overall Dataframe\", fontweight=\"bold\", fontsize=14)\n",
    "handles, labels = ax.get_legend_handles_labels()\n",
    "fig.legend(handles, labels, loc=\"upper center\", ncol=5)\n",
    "# plt.tight_layout()\n",
    "ax0 = fig.add_subplot(111, frame_on=False)   # creating a single axes\n",
    "ax0.set_xticks([])\n",
    "ax0.set_yticks([])\n",
    "ax0.set_ylabel('log (overall notebook runtime) [s]', fontweight='bold',labelpad=30)\n",
    "# plt.tight_layout()"
   ]
  },
  {
   "cell_type": "code",
   "execution_count": 7,
   "id": "broken-parameter",
   "metadata": {},
   "outputs": [],
   "source": [
    "airbnb = df[df[\"cell_type\"]==\"print_dataframe\"].groupby([\"condition\",\"nPts\"]).mean().reset_index()\n",
    "communities = df2[df2[\"cell_type\"]==\"print_dataframe\"].groupby([\"condition\",\"nPts\"]).mean().reset_index()"
   ]
  },
  {
   "cell_type": "code",
   "execution_count": 8,
   "id": "sharp-distribution",
   "metadata": {},
   "outputs": [
    {
     "data": {
      "text/plain": [
       "Text(0, 0.5, 'log (single print df runtime) [s]')"
      ]
     },
     "execution_count": 8,
     "metadata": {},
     "output_type": "execute_result"
    },
    {
     "data": {
      "image/png": "[encoded data removed]",
      "text/plain": [
       "<Figure size 504x288 with 3 Axes>"
      ]
     },
     "metadata": {
      "needs_background": "light"
     },
     "output_type": "display_data"
    }
   ],
   "source": [
    "import numpy as np\n",
    "import matplotlib.pyplot as plt\n",
    "# fig, (ax1,ax2) = plt.subplots(1,2,figsize=(10, 3))#,sharey=True)\n",
    "fig, (ax1,ax2) = plt.subplots(2,1,figsize=(7,4))#,sharey=True)\n",
    "# set width of bars\n",
    "barWidth = 0.15\n",
    "######## AIRBNB ############\n",
    "ax = ax1\n",
    "# set heights of bars\n",
    "bars0 = airbnb[airbnb[\"condition\"]==\"baseline\"][\"time\"]\n",
    "bars1 = airbnb[airbnb[\"condition\"]==\"o1\"][\"time\"]\n",
    "bars2 = airbnb[airbnb[\"condition\"]==\"o1o2\"][\"time\"]\n",
    "bars3 = airbnb[airbnb[\"condition\"]==\"o1o2o3\"][\"time\"]\n",
    "bars4 = airbnb[airbnb[\"condition\"]==\"pandas\"][\"time\"]\n",
    " \n",
    "# Set position of bar on X axis\n",
    "r0 = np.arange(len(bars1))\n",
    "r1 = [x + barWidth for x in r0]\n",
    "r2 = [x + barWidth for x in r1]\n",
    "r3 = [x + barWidth for x in r2]\n",
    "r4 = [x + barWidth for x in r3]\n",
    "\n",
    "ax.bar(r0, bars0, color='#999999', width=barWidth, edgecolor='white', label='no-opt')\n",
    "ax.bar(r1, bars1, color='#4c78a8', width=barWidth, edgecolor='white', label='wflow')\n",
    "ax.bar(r2, bars2, color='#f58517', width=barWidth, edgecolor='white', label='wflow+prune')\n",
    "ax.bar(r3, bars3, color='#e45755', width=barWidth, edgecolor='white', label='all-opt')\n",
    "ax.bar(r4, bars4, color='#72b7b2', width=barWidth, edgecolor='white', label='pandas')\n",
    "  \n",
    "# Add xticks on the middle of the group bars\n",
    "# ax.set_xlabel('Number of rows', fontweight='bold')\n",
    "# ax.set_ylabel('log (overall time) [s]', fontweight='bold')\n",
    "ax.set_xticks([r + barWidth + 0.1 for r in range(len(bars1))])\n",
    "ax.set_xticklabels([\"$10^4$\",\"$10^5$\",\"$10^6$\",\"$10^7$\"])\n",
    "ax.set_yscale('log')\n",
    "ax.set_ylim(0.01,2e2)\n",
    "ax.text(0.1, 0.9,'Airbnb', fontsize=12,fontweight='bold',horizontalalignment='center',verticalalignment='center',transform = ax.transAxes)\n",
    "\n",
    "######## Communities ############\n",
    "ax = ax2\n",
    "bars0 = communities[communities[\"condition\"]==\"baseline\"][\"time\"]\n",
    "bars1 = communities[communities[\"condition\"]==\"o1\"][\"time\"]\n",
    "bars2 = communities[communities[\"condition\"]==\"o1o2\"][\"time\"]\n",
    "bars3 = communities[communities[\"condition\"]==\"o1o2o3\"][\"time\"]\n",
    "bars4 = communities[communities[\"condition\"]==\"pandas\"][\"time\"]\n",
    " \n",
    "# Set position of bar on X axis\n",
    "r0 = np.arange(len(bars1))\n",
    "r1 = [x + barWidth for x in r0]\n",
    "r2 = [x + barWidth for x in r1]\n",
    "r3 = [x + barWidth for x in r2]\n",
    "r4 = [x + barWidth for x in r3]\n",
    "\n",
    "ax.bar(r0, bars0, color='#999999', width=barWidth, edgecolor='white', label='no-opt')\n",
    "ax.bar(r1, bars1, color='#4c78a8', width=barWidth, edgecolor='white', label='wflow')\n",
    "ax.bar(r2, bars2, color='#f58517', width=barWidth, edgecolor='white', label='wflow+prune')\n",
    "ax.bar(r3, bars3, color='#e45755', width=barWidth, edgecolor='white', label='all-opt')\n",
    "ax.bar(r4, bars4, color='#72b7b2', width=barWidth, edgecolor='white', label='pandas')\n",
    "  \n",
    "# Add xticks on the middle of the group bars\n",
    "ax.set_xlabel('Number of rows', fontweight='bold')\n",
    "# ax.set_ylabel('log (overall time) [s]', fontweight='bold')\n",
    "ax.set_xticks([r + barWidth + 0.1 for r in range(len(bars1))])\n",
    "ax.set_xticklabels([\"$10^2$\",\"$10^3$\",\"$10^4$\",\"$10^5$\"])\n",
    "ax.set_yscale('log')\n",
    "ax.set_ylim(0.01,1000)\n",
    "ax.text(0.15, 0.9,'Communities', fontsize=12,fontweight='bold',horizontalalignment='center',verticalalignment='center',transform = ax.transAxes)\n",
    "##########################\n",
    "\n",
    "# GLOBAL FIGURE SETTINGS\n",
    "\n",
    "# fig = plt.gcf()\n",
    "# fig.suptitle(\"Overall Dataframe\", fontweight=\"bold\", fontsize=14)\n",
    "handles, labels = ax.get_legend_handles_labels()\n",
    "fig.legend(handles, labels, loc=\"upper center\", ncol=5)\n",
    "# plt.tight_layout()\n",
    "ax0 = fig.add_subplot(111, frame_on=False)   # creating a single axes\n",
    "ax0.set_xticks([])\n",
    "ax0.set_yticks([])\n",
    "ax0.set_ylabel('log (single print df runtime) [s]', fontweight='bold',labelpad=30)"
   ]
  },
  {
   "cell_type": "markdown",
   "id": "alert-garden",
   "metadata": {},
   "source": [
    "### Accuracy Experiment Plot"
   ]
  },
  {
   "cell_type": "code",
   "execution_count": 9,
   "id": "geographic-portland",
   "metadata": {},
   "outputs": [
    {
     "data": {
      "text/html": [
       "\n",
       "<div id=\"altair-viz-138b557db7f24ef3b1476fbe1de7f641\"></div>\n",
       "<script type=\"text/javascript\">\n",
       "  (function(spec, embedOpt){\n",
       "    let outputDiv = document.currentScript.previousElementSibling;\n",
       "    if (outputDiv.id !== \"altair-viz-138b557db7f24ef3b1476fbe1de7f641\") {\n",
       "      outputDiv = document.getElementById(\"altair-viz-138b557db7f24ef3b1476fbe1de7f641\");\n",
       "    }\n",
       "    const paths = {\n",
       "      \"vega\": \"https://cdn.jsdelivr.net/npm//vega@5?noext\",\n",
       "      \"vega-lib\": \"https://cdn.jsdelivr.net/npm//vega-lib?noext\",\n",
       "      \"vega-lite\": \"https://cdn.jsdelivr.net/npm//vega-lite@4.8.1?noext\",\n",
       "      \"vega-embed\": \"https://cdn.jsdelivr.net/npm//vega-embed@6?noext\",\n",
       "    };\n",
       "\n",
       "    function loadScript(lib) {\n",
       "      return new Promise(function(resolve, reject) {\n",
       "        var s = document.createElement('script');\n",
       "        s.src = paths[lib];\n",
       "        s.async = true;\n",
       "        s.onload = () => resolve(paths[lib]);\n",
       "        s.onerror = () => reject(`Error loading script: ${paths[lib]}`);\n",
       "        document.getElementsByTagName(\"head\")[0].appendChild(s);\n",
       "      });\n",
       "    }\n",
       "\n",
       "    function showError(err) {\n",
       "      outputDiv.innerHTML = `<div class=\"error\" style=\"color:red;\">${err}</div>`;\n",
       "      throw err;\n",
       "    }\n",
       "\n",
       "    function displayChart(vegaEmbed) {\n",
       "      vegaEmbed(outputDiv, spec, embedOpt)\n",
       "        .catch(err => showError(`Javascript Error: ${err.message}<br>This usually means there's a typo in your chart specification. See the javascript console for the full traceback.`));\n",
       "    }\n",
       "\n",
       "    if(typeof define === \"function\" && define.amd) {\n",
       "      requirejs.config({paths});\n",
       "      require([\"vega-embed\"], displayChart, err => showError(`Error loading script: ${err.message}`));\n",
       "    } else if (typeof vegaEmbed === \"function\") {\n",
       "      displayChart(vegaEmbed);\n",
       "    } else {\n",
       "      loadScript(\"vega\")\n",
       "        .then(() => loadScript(\"vega-lite\"))\n",
       "        .then(() => loadScript(\"vega-embed\"))\n",
       "        .catch(showError)\n",
       "        .then(() => displayChart(vegaEmbed));\n",
       "    }\n",
       "  })({\"config\": {\"view\": {\"continuousWidth\": 400, \"continuousHeight\": 300}}, \"data\": {\"name\": \"data-27da36437896d37e9a7200f23d4fb4aa\"}, \"mark\": \"line\", \"encoding\": {\"color\": {\"type\": \"nominal\", \"field\": \"action\"}, \"x\": {\"type\": \"quantitative\", \"field\": \"nfrac\", \"title\": \"Fraction of dataset sampled\"}, \"y\": {\"type\": \"quantitative\", \"field\": \"Recall\", \"scale\": {\"domain\": [0, 1.01]}}}, \"height\": 150, \"title\": \"Airbnb (100k rows)\", \"width\": 200, \"$schema\": \"https://vega.github.io/schema/vega-lite/v4.8.1.json\", \"datasets\": {\"data-27da36437896d37e9a7200f23d4fb4aa\": [{\"nfrac\": 0.0, \"action\": \"Correlation\", \"Precision\": 0.0, \"Recall\": 0.0, \"FScore\": 0.0}, {\"nfrac\": 0.0, \"action\": \"Enhance\", \"Precision\": 0.0, \"Recall\": 0.0, \"FScore\": 0.0}, {\"nfrac\": 0.01, \"action\": \"Correlation\", \"Precision\": 1.0, \"Recall\": 0.5333333333333333, \"FScore\": 0.6956521739130436}, {\"nfrac\": 0.01, \"action\": \"Enhance\", \"Precision\": 1.0, \"Recall\": 0.8666666666666667, \"FScore\": 0.9285714285714286}, {\"nfrac\": 0.05, \"action\": \"Correlation\", \"Precision\": 1.0, \"Recall\": 0.5333333333333333, \"FScore\": 0.6956521739130435}, {\"nfrac\": 0.05, \"action\": \"Enhance\", \"Precision\": 1.0, \"Recall\": 0.8666666666666669, \"FScore\": 0.9285714285714285}, {\"nfrac\": 0.07, \"action\": \"Correlation\", \"Precision\": 1.0, \"Recall\": 0.5333333333333333, \"FScore\": 0.6956521739130435}, {\"nfrac\": 0.07, \"action\": \"Enhance\", \"Precision\": 1.0, \"Recall\": 0.8666666666666669, \"FScore\": 0.9285714285714285}, {\"nfrac\": 0.09, \"action\": \"Correlation\", \"Precision\": 1.0, \"Recall\": 0.5333333333333333, \"FScore\": 0.6956521739130435}, {\"nfrac\": 0.09, \"action\": \"Enhance\", \"Precision\": 1.0, \"Recall\": 0.8666666666666669, \"FScore\": 0.9285714285714285}, {\"nfrac\": 0.11, \"action\": \"Correlation\", \"Precision\": 1.0, \"Recall\": 0.5333333333333333, \"FScore\": 0.6956521739130435}, {\"nfrac\": 0.11, \"action\": \"Enhance\", \"Precision\": 1.0, \"Recall\": 0.8666666666666669, \"FScore\": 0.9285714285714285}, {\"nfrac\": 0.13, \"action\": \"Correlation\", \"Precision\": 1.0, \"Recall\": 0.5333333333333333, \"FScore\": 0.6956521739130435}, {\"nfrac\": 0.13, \"action\": \"Enhance\", \"Precision\": 1.0, \"Recall\": 0.8666666666666669, \"FScore\": 0.9285714285714285}, {\"nfrac\": 0.14, \"action\": \"Correlation\", \"Precision\": 1.0, \"Recall\": 0.5333333333333333, \"FScore\": 0.6956521739130435}, {\"nfrac\": 0.14, \"action\": \"Enhance\", \"Precision\": 1.0, \"Recall\": 0.8666666666666669, \"FScore\": 0.9285714285714285}, {\"nfrac\": 0.16, \"action\": \"Correlation\", \"Precision\": 1.0, \"Recall\": 0.8000000000000002, \"FScore\": 0.8888888888888891}, {\"nfrac\": 0.16, \"action\": \"Enhance\", \"Precision\": 1.0, \"Recall\": 0.9333333333333333, \"FScore\": 0.9655172413793099}, {\"nfrac\": 0.18, \"action\": \"Correlation\", \"Precision\": 1.0, \"Recall\": 0.8000000000000002, \"FScore\": 0.8888888888888891}, {\"nfrac\": 0.18, \"action\": \"Enhance\", \"Precision\": 1.0, \"Recall\": 0.9333333333333333, \"FScore\": 0.9655172413793099}, {\"nfrac\": 0.2, \"action\": \"Correlation\", \"Precision\": 1.0, \"Recall\": 0.8000000000000002, \"FScore\": 0.8888888888888891}, {\"nfrac\": 0.2, \"action\": \"Enhance\", \"Precision\": 1.0, \"Recall\": 0.9333333333333333, \"FScore\": 0.9655172413793099}, {\"nfrac\": 0.22, \"action\": \"Correlation\", \"Precision\": 1.0, \"Recall\": 0.8000000000000002, \"FScore\": 0.8888888888888891}, {\"nfrac\": 0.22, \"action\": \"Enhance\", \"Precision\": 1.0, \"Recall\": 0.9333333333333333, \"FScore\": 0.9655172413793099}, {\"nfrac\": 0.24, \"action\": \"Correlation\", \"Precision\": 1.0, \"Recall\": 0.8000000000000002, \"FScore\": 0.8888888888888891}, {\"nfrac\": 0.24, \"action\": \"Enhance\", \"Precision\": 1.0, \"Recall\": 0.9333333333333333, \"FScore\": 0.9655172413793099}, {\"nfrac\": 0.26, \"action\": \"Correlation\", \"Precision\": 1.0, \"Recall\": 0.8000000000000002, \"FScore\": 0.8888888888888891}, {\"nfrac\": 0.26, \"action\": \"Enhance\", \"Precision\": 1.0, \"Recall\": 0.9333333333333333, \"FScore\": 0.9655172413793099}, {\"nfrac\": 0.28, \"action\": \"Correlation\", \"Precision\": 1.0, \"Recall\": 0.8000000000000002, \"FScore\": 0.8888888888888891}, {\"nfrac\": 0.28, \"action\": \"Enhance\", \"Precision\": 1.0, \"Recall\": 0.9333333333333333, \"FScore\": 0.9655172413793099}, {\"nfrac\": 0.3, \"action\": \"Correlation\", \"Precision\": 1.0, \"Recall\": 0.8533333333333335, \"FScore\": 0.9191570881226054}, {\"nfrac\": 0.3, \"action\": \"Enhance\", \"Precision\": 1.0, \"Recall\": 0.9566666666666668, \"FScore\": 0.9775862068965514}, {\"nfrac\": 0.32, \"action\": \"Correlation\", \"Precision\": 1.0, \"Recall\": 0.95, \"FScore\": 0.974014778325123}, {\"nfrac\": 0.32, \"action\": \"Enhance\", \"Precision\": 1.0, \"Recall\": 1.0, \"FScore\": 1.0}, {\"nfrac\": 0.33, \"action\": \"Correlation\", \"Precision\": 1.0, \"Recall\": 0.9566666666666668, \"FScore\": 0.9775862068965514}, {\"nfrac\": 0.33, \"action\": \"Enhance\", \"Precision\": 1.0, \"Recall\": 1.0, \"FScore\": 1.0}, {\"nfrac\": 0.35, \"action\": \"Correlation\", \"Precision\": 1.0, \"Recall\": 0.9433333333333334, \"FScore\": 0.9706896551724136}, {\"nfrac\": 0.35, \"action\": \"Enhance\", \"Precision\": 1.0, \"Recall\": 1.0, \"FScore\": 1.0}, {\"nfrac\": 0.37, \"action\": \"Correlation\", \"Precision\": 1.0, \"Recall\": 0.9566666666666668, \"FScore\": 0.9775862068965516}, {\"nfrac\": 0.37, \"action\": \"Enhance\", \"Precision\": 1.0, \"Recall\": 1.0, \"FScore\": 1.0}, {\"nfrac\": 0.39, \"action\": \"Correlation\", \"Precision\": 1.0, \"Recall\": 0.9533333333333334, \"FScore\": 0.9758620689655171}, {\"nfrac\": 0.39, \"action\": \"Enhance\", \"Precision\": 1.0, \"Recall\": 1.0, \"FScore\": 1.0}, {\"nfrac\": 0.41, \"action\": \"Correlation\", \"Precision\": 1.0, \"Recall\": 0.9500000000000002, \"FScore\": 0.974014778325123}, {\"nfrac\": 0.41, \"action\": \"Enhance\", \"Precision\": 1.0, \"Recall\": 1.0, \"FScore\": 1.0}, {\"nfrac\": 0.43, \"action\": \"Correlation\", \"Precision\": 1.0, \"Recall\": 0.95, \"FScore\": 0.974014778325123}, {\"nfrac\": 0.43, \"action\": \"Enhance\", \"Precision\": 1.0, \"Recall\": 1.0, \"FScore\": 1.0}, {\"nfrac\": 0.45, \"action\": \"Correlation\", \"Precision\": 1.0, \"Recall\": 0.9566666666666668, \"FScore\": 0.9775862068965516}, {\"nfrac\": 0.45, \"action\": \"Enhance\", \"Precision\": 1.0, \"Recall\": 1.0, \"FScore\": 1.0}, {\"nfrac\": 0.47, \"action\": \"Correlation\", \"Precision\": 1.0, \"Recall\": 0.9533333333333335, \"FScore\": 0.9758620689655171}, {\"nfrac\": 0.47, \"action\": \"Enhance\", \"Precision\": 1.0, \"Recall\": 1.0, \"FScore\": 1.0}, {\"nfrac\": 0.49, \"action\": \"Correlation\", \"Precision\": 1.0, \"Recall\": 0.9533333333333334, \"FScore\": 0.9758620689655171}, {\"nfrac\": 0.49, \"action\": \"Enhance\", \"Precision\": 1.0, \"Recall\": 1.0, \"FScore\": 1.0}, {\"nfrac\": 0.51, \"action\": \"Correlation\", \"Precision\": 1.0, \"Recall\": 0.96, \"FScore\": 0.9793103448275859}, {\"nfrac\": 0.51, \"action\": \"Enhance\", \"Precision\": 1.0, \"Recall\": 1.0, \"FScore\": 1.0}, {\"nfrac\": 0.52, \"action\": \"Correlation\", \"Precision\": 1.0, \"Recall\": 0.9633333333333335, \"FScore\": 0.9810344827586205}, {\"nfrac\": 0.52, \"action\": \"Enhance\", \"Precision\": 1.0, \"Recall\": 1.0, \"FScore\": 1.0}, {\"nfrac\": 0.54, \"action\": \"Correlation\", \"Precision\": 1.0, \"Recall\": 0.9666666666666666, \"FScore\": 0.982758620689655}, {\"nfrac\": 0.54, \"action\": \"Enhance\", \"Precision\": 1.0, \"Recall\": 1.0, \"FScore\": 1.0}, {\"nfrac\": 0.56, \"action\": \"Correlation\", \"Precision\": 1.0, \"Recall\": 0.9566666666666667, \"FScore\": 0.9775862068965514}, {\"nfrac\": 0.56, \"action\": \"Enhance\", \"Precision\": 1.0, \"Recall\": 1.0, \"FScore\": 1.0}, {\"nfrac\": 0.58, \"action\": \"Correlation\", \"Precision\": 1.0, \"Recall\": 0.9533333333333334, \"FScore\": 0.9758620689655169}, {\"nfrac\": 0.58, \"action\": \"Enhance\", \"Precision\": 1.0, \"Recall\": 1.0, \"FScore\": 1.0}, {\"nfrac\": 0.6, \"action\": \"Correlation\", \"Precision\": 1.0, \"Recall\": 0.9600000000000002, \"FScore\": 0.9793103448275859}, {\"nfrac\": 0.6, \"action\": \"Enhance\", \"Precision\": 1.0, \"Recall\": 1.0, \"FScore\": 1.0}, {\"nfrac\": 0.62, \"action\": \"Correlation\", \"Precision\": 1.0, \"Recall\": 0.9666666666666666, \"FScore\": 0.9827586206896551}, {\"nfrac\": 0.62, \"action\": \"Enhance\", \"Precision\": 1.0, \"Recall\": 1.0, \"FScore\": 1.0}, {\"nfrac\": 0.64, \"action\": \"Correlation\", \"Precision\": 1.0, \"Recall\": 0.9566666666666667, \"FScore\": 0.9775862068965516}, {\"nfrac\": 0.64, \"action\": \"Enhance\", \"Precision\": 1.0, \"Recall\": 1.0, \"FScore\": 1.0}, {\"nfrac\": 0.66, \"action\": \"Correlation\", \"Precision\": 1.0, \"Recall\": 0.9600000000000002, \"FScore\": 0.9793103448275859}, {\"nfrac\": 0.66, \"action\": \"Enhance\", \"Precision\": 1.0, \"Recall\": 1.0, \"FScore\": 1.0}, {\"nfrac\": 0.68, \"action\": \"Correlation\", \"Precision\": 1.0, \"Recall\": 0.9566666666666668, \"FScore\": 0.9775862068965514}, {\"nfrac\": 0.68, \"action\": \"Enhance\", \"Precision\": 1.0, \"Recall\": 1.0, \"FScore\": 1.0}, {\"nfrac\": 0.7, \"action\": \"Correlation\", \"Precision\": 1.0, \"Recall\": 0.9566666666666667, \"FScore\": 0.9775862068965516}, {\"nfrac\": 0.7, \"action\": \"Enhance\", \"Precision\": 1.0, \"Recall\": 1.0, \"FScore\": 1.0}, {\"nfrac\": 0.71, \"action\": \"Correlation\", \"Precision\": 1.0, \"Recall\": 0.96, \"FScore\": 0.9793103448275862}, {\"nfrac\": 0.71, \"action\": \"Enhance\", \"Precision\": 1.0, \"Recall\": 1.0, \"FScore\": 1.0}, {\"nfrac\": 0.73, \"action\": \"Correlation\", \"Precision\": 1.0, \"Recall\": 0.9566666666666668, \"FScore\": 0.9775862068965514}, {\"nfrac\": 0.73, \"action\": \"Enhance\", \"Precision\": 1.0, \"Recall\": 1.0, \"FScore\": 1.0}, {\"nfrac\": 0.75, \"action\": \"Correlation\", \"Precision\": 1.0, \"Recall\": 0.96, \"FScore\": 0.9793103448275859}, {\"nfrac\": 0.75, \"action\": \"Enhance\", \"Precision\": 1.0, \"Recall\": 1.0, \"FScore\": 1.0}, {\"nfrac\": 0.77, \"action\": \"Correlation\", \"Precision\": 1.0, \"Recall\": 0.9666666666666668, \"FScore\": 0.9827586206896551}, {\"nfrac\": 0.77, \"action\": \"Enhance\", \"Precision\": 1.0, \"Recall\": 1.0, \"FScore\": 1.0}, {\"nfrac\": 0.79, \"action\": \"Correlation\", \"Precision\": 1.0, \"Recall\": 0.9666666666666666, \"FScore\": 0.982758620689655}, {\"nfrac\": 0.79, \"action\": \"Enhance\", \"Precision\": 1.0, \"Recall\": 1.0, \"FScore\": 1.0}, {\"nfrac\": 0.81, \"action\": \"Correlation\", \"Precision\": 1.0, \"Recall\": 0.9633333333333333, \"FScore\": 0.9810344827586205}, {\"nfrac\": 0.81, \"action\": \"Enhance\", \"Precision\": 1.0, \"Recall\": 1.0, \"FScore\": 1.0}, {\"nfrac\": 0.83, \"action\": \"Correlation\", \"Precision\": 1.0, \"Recall\": 0.9666666666666668, \"FScore\": 0.982758620689655}, {\"nfrac\": 0.83, \"action\": \"Enhance\", \"Precision\": 1.0, \"Recall\": 1.0, \"FScore\": 1.0}, {\"nfrac\": 0.85, \"action\": \"Correlation\", \"Precision\": 1.0, \"Recall\": 0.9733333333333334, \"FScore\": 0.986206896551724}, {\"nfrac\": 0.85, \"action\": \"Enhance\", \"Precision\": 1.0, \"Recall\": 1.0, \"FScore\": 1.0}, {\"nfrac\": 0.87, \"action\": \"Correlation\", \"Precision\": 1.0, \"Recall\": 0.9833333333333334, \"FScore\": 0.9913793103448276}, {\"nfrac\": 0.87, \"action\": \"Enhance\", \"Precision\": 1.0, \"Recall\": 1.0, \"FScore\": 1.0}, {\"nfrac\": 0.89, \"action\": \"Correlation\", \"Precision\": 1.0, \"Recall\": 0.9866666666666667, \"FScore\": 0.9931034482758619}, {\"nfrac\": 0.89, \"action\": \"Enhance\", \"Precision\": 1.0, \"Recall\": 1.0, \"FScore\": 1.0}, {\"nfrac\": 0.9, \"action\": \"Correlation\", \"Precision\": 1.0, \"Recall\": 0.99, \"FScore\": 0.9948275862068965}, {\"nfrac\": 0.9, \"action\": \"Enhance\", \"Precision\": 1.0, \"Recall\": 1.0, \"FScore\": 1.0}, {\"nfrac\": 0.92, \"action\": \"Correlation\", \"Precision\": 1.0, \"Recall\": 0.9866666666666667, \"FScore\": 0.9931034482758619}, {\"nfrac\": 0.92, \"action\": \"Enhance\", \"Precision\": 1.0, \"Recall\": 1.0, \"FScore\": 1.0}, {\"nfrac\": 0.94, \"action\": \"Correlation\", \"Precision\": 1.0, \"Recall\": 0.9933333333333334, \"FScore\": 0.9965517241379309}, {\"nfrac\": 0.94, \"action\": \"Enhance\", \"Precision\": 1.0, \"Recall\": 1.0, \"FScore\": 1.0}, {\"nfrac\": 0.96, \"action\": \"Correlation\", \"Precision\": 1.0, \"Recall\": 0.9966666666666667, \"FScore\": 0.9982758620689655}, {\"nfrac\": 0.96, \"action\": \"Enhance\", \"Precision\": 1.0, \"Recall\": 1.0, \"FScore\": 1.0}, {\"nfrac\": 0.98, \"action\": \"Correlation\", \"Precision\": 1.0, \"Recall\": 1.0, \"FScore\": 1.0}, {\"nfrac\": 0.98, \"action\": \"Enhance\", \"Precision\": 1.0, \"Recall\": 1.0, \"FScore\": 1.0}, {\"nfrac\": 1.0, \"action\": \"Correlation\", \"Precision\": 1.0, \"Recall\": 1.0, \"FScore\": 1.0}, {\"nfrac\": 1.0, \"action\": \"Enhance\", \"Precision\": 1.0, \"Recall\": 1.0, \"FScore\": 1.0}]}}, {\"mode\": \"vega-lite\"});\n",
       "</script>"
      ],
      "text/plain": [
       "alt.Chart(...)"
      ]
     },
     "execution_count": 9,
     "metadata": {},
     "output_type": "execute_result"
    }
   ],
   "source": [
    "df = pd.read_csv(\"plot_data/airbnb_100k_accuracy.csv\")\n",
    "df = df.groupby([\"nfrac\",\"action\"]).mean().reset_index()\n",
    "chart = alt.Chart(df,title=\"Airbnb (100k rows)\").mark_line().encode(\n",
    "    x = alt.X(\"nfrac\",title=\"Fraction of dataset sampled\"),#scale=alt.Scale(type=\"log\")),\n",
    "    y = alt.Y(\"Recall\",scale=alt.Scale(domain=(0,1.01))),\n",
    "    color = alt.Color(\"action\")\n",
    ")\n",
    "chart.properties(width=200,height=150)"
   ]
  },
  {
   "cell_type": "code",
   "execution_count": 10,
   "id": "senior-hands",
   "metadata": {},
   "outputs": [
    {
     "data": {
      "text/html": [
       "\n",
       "<div id=\"altair-viz-e0d392083d6f497faf50639ee93a8442\"></div>\n",
       "<script type=\"text/javascript\">\n",
       "  (function(spec, embedOpt){\n",
       "    let outputDiv = document.currentScript.previousElementSibling;\n",
       "    if (outputDiv.id !== \"altair-viz-e0d392083d6f497faf50639ee93a8442\") {\n",
       "      outputDiv = document.getElementById(\"altair-viz-e0d392083d6f497faf50639ee93a8442\");\n",
       "    }\n",
       "    const paths = {\n",
       "      \"vega\": \"https://cdn.jsdelivr.net/npm//vega@5?noext\",\n",
       "      \"vega-lib\": \"https://cdn.jsdelivr.net/npm//vega-lib?noext\",\n",
       "      \"vega-lite\": \"https://cdn.jsdelivr.net/npm//vega-lite@4.8.1?noext\",\n",
       "      \"vega-embed\": \"https://cdn.jsdelivr.net/npm//vega-embed@6?noext\",\n",
       "    };\n",
       "\n",
       "    function loadScript(lib) {\n",
       "      return new Promise(function(resolve, reject) {\n",
       "        var s = document.createElement('script');\n",
       "        s.src = paths[lib];\n",
       "        s.async = true;\n",
       "        s.onload = () => resolve(paths[lib]);\n",
       "        s.onerror = () => reject(`Error loading script: ${paths[lib]}`);\n",
       "        document.getElementsByTagName(\"head\")[0].appendChild(s);\n",
       "      });\n",
       "    }\n",
       "\n",
       "    function showError(err) {\n",
       "      outputDiv.innerHTML = `<div class=\"error\" style=\"color:red;\">${err}</div>`;\n",
       "      throw err;\n",
       "    }\n",
       "\n",
       "    function displayChart(vegaEmbed) {\n",
       "      vegaEmbed(outputDiv, spec, embedOpt)\n",
       "        .catch(err => showError(`Javascript Error: ${err.message}<br>This usually means there's a typo in your chart specification. See the javascript console for the full traceback.`));\n",
       "    }\n",
       "\n",
       "    if(typeof define === \"function\" && define.amd) {\n",
       "      requirejs.config({paths});\n",
       "      require([\"vega-embed\"], displayChart, err => showError(`Error loading script: ${err.message}`));\n",
       "    } else if (typeof vegaEmbed === \"function\") {\n",
       "      displayChart(vegaEmbed);\n",
       "    } else {\n",
       "      loadScript(\"vega\")\n",
       "        .then(() => loadScript(\"vega-lite\"))\n",
       "        .then(() => loadScript(\"vega-embed\"))\n",
       "        .catch(showError)\n",
       "        .then(() => displayChart(vegaEmbed));\n",
       "    }\n",
       "  })({\"config\": {\"view\": {\"continuousWidth\": 400, \"continuousHeight\": 300}}, \"data\": {\"name\": \"data-4448f9d98a21bb048481316fb51e2314\"}, \"mark\": \"line\", \"encoding\": {\"color\": {\"type\": \"nominal\", \"field\": \"action\"}, \"x\": {\"type\": \"quantitative\", \"field\": \"nfrac\", \"title\": \"Fraction of dataset sampled\"}, \"y\": {\"type\": \"quantitative\", \"field\": \"Recall\", \"scale\": {\"domain\": [0, 1.01]}}}, \"height\": 150, \"title\": \"Communities (50k rows)\", \"width\": 200, \"$schema\": \"https://vega.github.io/schema/vega-lite/v4.8.1.json\", \"datasets\": {\"data-4448f9d98a21bb048481316fb51e2314\": [{\"nfrac\": 0.0, \"action\": \"Correlation\", \"Precision\": 0.0, \"Recall\": 0.0, \"FScore\": 0.0}, {\"nfrac\": 0.0, \"action\": \"Distribution\", \"Precision\": 0.0, \"Recall\": 0.0, \"FScore\": 0.0}, {\"nfrac\": 0.0, \"action\": \"Enhance\", \"Precision\": 0.0, \"Recall\": 0.0, \"FScore\": 0.0}, {\"nfrac\": 0.0, \"action\": \"Filter\", \"Precision\": 0.0, \"Recall\": 0.0, \"FScore\": 0.0}, {\"nfrac\": 0.0, \"action\": \"Occurrence\", \"Precision\": 0.0, \"Recall\": 0.0, \"FScore\": 0.0}, {\"nfrac\": 0.01, \"action\": \"Correlation\", \"Precision\": 1.0, \"Recall\": 0.9200000000000002, \"FScore\": 0.9579638752052543}, {\"nfrac\": 0.01, \"action\": \"Distribution\", \"Precision\": 1.0, \"Recall\": 0.9155555555555558, \"FScore\": 0.9548257617223135}, {\"nfrac\": 0.01, \"action\": \"Enhance\", \"Precision\": 1.0, \"Recall\": 0.9333333333333335, \"FScore\": 0.9650246305418718}, {\"nfrac\": 0.01, \"action\": \"Filter\", \"Precision\": 0.7333333333333333, \"Recall\": 0.09333333333333331, \"FScore\": 0.16437908496732026}, {\"nfrac\": 0.01, \"action\": \"Occurrence\", \"Precision\": 1.0, \"Recall\": 0.8977777777777779, \"FScore\": 0.9456303594234627}, {\"nfrac\": 0.02, \"action\": \"Correlation\", \"Precision\": 1.0, \"Recall\": 0.9155555555555558, \"FScore\": 0.9555008210180623}, {\"nfrac\": 0.02, \"action\": \"Distribution\", \"Precision\": 1.0, \"Recall\": 0.9155555555555558, \"FScore\": 0.9555008210180623}, {\"nfrac\": 0.02, \"action\": \"Enhance\", \"Precision\": 1.0, \"Recall\": 0.9866666666666667, \"FScore\": 0.993103448275862}, {\"nfrac\": 0.02, \"action\": \"Filter\", \"Precision\": 1.0, \"Recall\": 0.15111111111111108, \"FScore\": 0.2606209150326798}, {\"nfrac\": 0.02, \"action\": \"Occurrence\", \"Precision\": 1.0, \"Recall\": 0.9244444444444446, \"FScore\": 0.9605911330049258}, {\"nfrac\": 0.03, \"action\": \"Correlation\", \"Precision\": 1.0, \"Recall\": 0.9244444444444446, \"FScore\": 0.9600985221674875}, {\"nfrac\": 0.03, \"action\": \"Distribution\", \"Precision\": 1.0, \"Recall\": 0.9155555555555558, \"FScore\": 0.9556650246305417}, {\"nfrac\": 0.03, \"action\": \"Enhance\", \"Precision\": 1.0, \"Recall\": 0.9822222222222223, \"FScore\": 0.9908045977011493}, {\"nfrac\": 0.03, \"action\": \"Filter\", \"Precision\": 1.0, \"Recall\": 0.29777777777777775, \"FScore\": 0.4514259132680186}, {\"nfrac\": 0.03, \"action\": \"Occurrence\", \"Precision\": 1.0, \"Recall\": 0.9244444444444446, \"FScore\": 0.9605911330049258}, {\"nfrac\": 0.04, \"action\": \"Correlation\", \"Precision\": 1.0, \"Recall\": 0.9333333333333335, \"FScore\": 0.9650246305418719}, {\"nfrac\": 0.04, \"action\": \"Distribution\", \"Precision\": 1.0, \"Recall\": 0.928888888888889, \"FScore\": 0.9627257799671592}, {\"nfrac\": 0.04, \"action\": \"Enhance\", \"Precision\": 1.0, \"Recall\": 0.9955555555555555, \"FScore\": 0.9977011494252873}, {\"nfrac\": 0.04, \"action\": \"Filter\", \"Precision\": 1.0, \"Recall\": 0.3733333333333333, \"FScore\": 0.5391888812941446}, {\"nfrac\": 0.04, \"action\": \"Occurrence\", \"Precision\": 1.0, \"Recall\": 0.9333333333333335, \"FScore\": 0.96551724137931}, {\"nfrac\": 0.05, \"action\": \"Correlation\", \"Precision\": 1.0, \"Recall\": 0.9466666666666669, \"FScore\": 0.9722495894909685}, {\"nfrac\": 0.05, \"action\": \"Distribution\", \"Precision\": 1.0, \"Recall\": 0.9422222222222223, \"FScore\": 0.9696223316912971}, {\"nfrac\": 0.05, \"action\": \"Enhance\", \"Precision\": 1.0, \"Recall\": 1.0, \"FScore\": 1.0}, {\"nfrac\": 0.05, \"action\": \"Filter\", \"Precision\": 1.0, \"Recall\": 0.4133333333333334, \"FScore\": 0.5835497835497835}, {\"nfrac\": 0.05, \"action\": \"Occurrence\", \"Precision\": 1.0, \"Recall\": 0.9466666666666668, \"FScore\": 0.972413793103448}, {\"nfrac\": 0.06, \"action\": \"Correlation\", \"Precision\": 1.0, \"Recall\": 0.9422222222222223, \"FScore\": 0.9697865353037766}, {\"nfrac\": 0.06, \"action\": \"Distribution\", \"Precision\": 1.0, \"Recall\": 0.9377777777777779, \"FScore\": 0.9673234811165844}, {\"nfrac\": 0.06, \"action\": \"Enhance\", \"Precision\": 1.0, \"Recall\": 1.0, \"FScore\": 1.0}, {\"nfrac\": 0.06, \"action\": \"Filter\", \"Precision\": 1.0, \"Recall\": 0.46666666666666673, \"FScore\": 0.6320176924524752}, {\"nfrac\": 0.06, \"action\": \"Occurrence\", \"Precision\": 1.0, \"Recall\": 0.9555555555555557, \"FScore\": 0.9770114942528733}, {\"nfrac\": 0.07, \"action\": \"Correlation\", \"Precision\": 1.0, \"Recall\": 0.9466666666666668, \"FScore\": 0.9722495894909687}, {\"nfrac\": 0.07, \"action\": \"Distribution\", \"Precision\": 1.0, \"Recall\": 0.9511111111111111, \"FScore\": 0.9743842364532018}, {\"nfrac\": 0.07, \"action\": \"Enhance\", \"Precision\": 1.0, \"Recall\": 1.0, \"FScore\": 1.0}, {\"nfrac\": 0.07, \"action\": \"Filter\", \"Precision\": 1.0, \"Recall\": 0.5022222222222222, \"FScore\": 0.6628567085088825}, {\"nfrac\": 0.07, \"action\": \"Occurrence\", \"Precision\": 1.0, \"Recall\": 0.9600000000000002, \"FScore\": 0.9793103448275862}, {\"nfrac\": 0.08, \"action\": \"Correlation\", \"Precision\": 1.0, \"Recall\": 0.9511111111111111, \"FScore\": 0.9745484400656813}, {\"nfrac\": 0.08, \"action\": \"Distribution\", \"Precision\": 1.0, \"Recall\": 0.9555555555555557, \"FScore\": 0.9766830870279146}, {\"nfrac\": 0.08, \"action\": \"Enhance\", \"Precision\": 1.0, \"Recall\": 1.0, \"FScore\": 1.0}, {\"nfrac\": 0.08, \"action\": \"Filter\", \"Precision\": 1.0, \"Recall\": 0.5422222222222222, \"FScore\": 0.6925806077979992}, {\"nfrac\": 0.08, \"action\": \"Occurrence\", \"Precision\": 1.0, \"Recall\": 0.9777777777777779, \"FScore\": 0.9885057471264368}, {\"nfrac\": 0.09, \"action\": \"Correlation\", \"Precision\": 1.0, \"Recall\": 0.9555555555555556, \"FScore\": 0.976847290640394}, {\"nfrac\": 0.09, \"action\": \"Distribution\", \"Precision\": 1.0, \"Recall\": 0.9600000000000002, \"FScore\": 0.9789819376026272}, {\"nfrac\": 0.09, \"action\": \"Enhance\", \"Precision\": 1.0, \"Recall\": 1.0, \"FScore\": 1.0}, {\"nfrac\": 0.09, \"action\": \"Filter\", \"Precision\": 1.0, \"Recall\": 0.6577777777777778, \"FScore\": 0.7848508917924212}, {\"nfrac\": 0.09, \"action\": \"Occurrence\", \"Precision\": 1.0, \"Recall\": 0.9777777777777779, \"FScore\": 0.9885057471264367}, {\"nfrac\": 0.11, \"action\": \"Correlation\", \"Precision\": 1.0, \"Recall\": 0.9511111111111111, \"FScore\": 0.9747126436781609}, {\"nfrac\": 0.11, \"action\": \"Distribution\", \"Precision\": 1.0, \"Recall\": 0.9555555555555557, \"FScore\": 0.9766830870279145}, {\"nfrac\": 0.11, \"action\": \"Enhance\", \"Precision\": 1.0, \"Recall\": 1.0, \"FScore\": 1.0}, {\"nfrac\": 0.11, \"action\": \"Filter\", \"Precision\": 1.0, \"Recall\": 0.7288888888888888, \"FScore\": 0.8380959398200777}, {\"nfrac\": 0.11, \"action\": \"Occurrence\", \"Precision\": 1.0, \"Recall\": 0.9733333333333334, \"FScore\": 0.9862068965517241}, {\"nfrac\": 0.12, \"action\": \"Correlation\", \"Precision\": 1.0, \"Recall\": 0.9422222222222223, \"FScore\": 0.9699507389162559}, {\"nfrac\": 0.12, \"action\": \"Distribution\", \"Precision\": 1.0, \"Recall\": 0.9511111111111111, \"FScore\": 0.9742200328407224}, {\"nfrac\": 0.12, \"action\": \"Enhance\", \"Precision\": 1.0, \"Recall\": 1.0, \"FScore\": 1.0}, {\"nfrac\": 0.12, \"action\": \"Filter\", \"Precision\": 1.0, \"Recall\": 0.7644444444444444, \"FScore\": 0.8611199528440908}, {\"nfrac\": 0.12, \"action\": \"Occurrence\", \"Precision\": 1.0, \"Recall\": 0.9822222222222223, \"FScore\": 0.9908045977011495}, {\"nfrac\": 0.14, \"action\": \"Correlation\", \"Precision\": 1.0, \"Recall\": 0.9511111111111111, \"FScore\": 0.9747126436781607}, {\"nfrac\": 0.14, \"action\": \"Distribution\", \"Precision\": 1.0, \"Recall\": 0.9466666666666669, \"FScore\": 0.9720853858784892}, {\"nfrac\": 0.14, \"action\": \"Enhance\", \"Precision\": 1.0, \"Recall\": 1.0, \"FScore\": 1.0}, {\"nfrac\": 0.14, \"action\": \"Filter\", \"Precision\": 1.0, \"Recall\": 0.7733333333333332, \"FScore\": 0.8678768613251372}, {\"nfrac\": 0.14, \"action\": \"Occurrence\", \"Precision\": 1.0, \"Recall\": 0.9911111111111112, \"FScore\": 0.9954022988505747}, {\"nfrac\": 0.17, \"action\": \"Correlation\", \"Precision\": 1.0, \"Recall\": 0.9555555555555556, \"FScore\": 0.9770114942528733}, {\"nfrac\": 0.17, \"action\": \"Distribution\", \"Precision\": 1.0, \"Recall\": 0.9511111111111111, \"FScore\": 0.9742200328407224}, {\"nfrac\": 0.17, \"action\": \"Enhance\", \"Precision\": 1.0, \"Recall\": 1.0, \"FScore\": 1.0}, {\"nfrac\": 0.17, \"action\": \"Filter\", \"Precision\": 1.0, \"Recall\": 0.8755555555555555, \"FScore\": 0.9307313376278893}, {\"nfrac\": 0.17, \"action\": \"Occurrence\", \"Precision\": 1.0, \"Recall\": 0.9911111111111112, \"FScore\": 0.9954022988505747}, {\"nfrac\": 0.2, \"action\": \"Correlation\", \"Precision\": 1.0, \"Recall\": 0.9511111111111112, \"FScore\": 0.9747126436781607}, {\"nfrac\": 0.2, \"action\": \"Distribution\", \"Precision\": 1.0, \"Recall\": 0.9600000000000001, \"FScore\": 0.9791461412151067}, {\"nfrac\": 0.2, \"action\": \"Enhance\", \"Precision\": 1.0, \"Recall\": 1.0, \"FScore\": 1.0}, {\"nfrac\": 0.2, \"action\": \"Filter\", \"Precision\": 1.0, \"Recall\": 0.8933333333333333, \"FScore\": 0.9411064797271694}, {\"nfrac\": 0.2, \"action\": \"Occurrence\", \"Precision\": 1.0, \"Recall\": 0.9911111111111112, \"FScore\": 0.9954022988505746}, {\"nfrac\": 0.23, \"action\": \"Correlation\", \"Precision\": 1.0, \"Recall\": 0.9555555555555556, \"FScore\": 0.9770114942528735}, {\"nfrac\": 0.23, \"action\": \"Distribution\", \"Precision\": 1.0, \"Recall\": 0.9555555555555557, \"FScore\": 0.9766830870279145}, {\"nfrac\": 0.23, \"action\": \"Enhance\", \"Precision\": 1.0, \"Recall\": 1.0, \"FScore\": 1.0}, {\"nfrac\": 0.23, \"action\": \"Filter\", \"Precision\": 1.0, \"Recall\": 0.9288888888888889, \"FScore\": 0.961828975622079}, {\"nfrac\": 0.23, \"action\": \"Occurrence\", \"Precision\": 1.0, \"Recall\": 0.9955555555555555, \"FScore\": 0.9977011494252873}, {\"nfrac\": 0.27, \"action\": \"Correlation\", \"Precision\": 1.0, \"Recall\": 0.9644444444444445, \"FScore\": 0.9816091954022987}, {\"nfrac\": 0.27, \"action\": \"Distribution\", \"Precision\": 1.0, \"Recall\": 0.9866666666666667, \"FScore\": 0.9931034482758619}, {\"nfrac\": 0.27, \"action\": \"Enhance\", \"Precision\": 1.0, \"Recall\": 1.0, \"FScore\": 1.0}, {\"nfrac\": 0.27, \"action\": \"Filter\", \"Precision\": 1.0, \"Recall\": 0.9288888888888889, \"FScore\": 0.9618289756220791}, {\"nfrac\": 0.27, \"action\": \"Occurrence\", \"Precision\": 1.0, \"Recall\": 1.0, \"FScore\": 1.0}, {\"nfrac\": 0.32, \"action\": \"Correlation\", \"Precision\": 1.0, \"Recall\": 0.9600000000000001, \"FScore\": 0.9793103448275862}, {\"nfrac\": 0.32, \"action\": \"Distribution\", \"Precision\": 1.0, \"Recall\": 0.9911111111111112, \"FScore\": 0.9954022988505747}, {\"nfrac\": 0.32, \"action\": \"Enhance\", \"Precision\": 1.0, \"Recall\": 1.0, \"FScore\": 1.0}, {\"nfrac\": 0.32, \"action\": \"Filter\", \"Precision\": 1.0, \"Recall\": 0.9333333333333335, \"FScore\": 0.9633497536945812}, {\"nfrac\": 0.32, \"action\": \"Occurrence\", \"Precision\": 1.0, \"Recall\": 1.0, \"FScore\": 1.0}, {\"nfrac\": 0.37, \"action\": \"Correlation\", \"Precision\": 1.0, \"Recall\": 0.9733333333333334, \"FScore\": 0.9862068965517241}, {\"nfrac\": 0.37, \"action\": \"Distribution\", \"Precision\": 1.0, \"Recall\": 0.9955555555555555, \"FScore\": 0.9977011494252873}, {\"nfrac\": 0.37, \"action\": \"Enhance\", \"Precision\": 1.0, \"Recall\": 1.0, \"FScore\": 1.0}, {\"nfrac\": 0.37, \"action\": \"Filter\", \"Precision\": 1.0, \"Recall\": 0.9511111111111111, \"FScore\": 0.9743842364532018}, {\"nfrac\": 0.37, \"action\": \"Occurrence\", \"Precision\": 1.0, \"Recall\": 1.0, \"FScore\": 1.0}, {\"nfrac\": 0.43, \"action\": \"Correlation\", \"Precision\": 1.0, \"Recall\": 0.9688888888888889, \"FScore\": 0.9839080459770114}, {\"nfrac\": 0.43, \"action\": \"Distribution\", \"Precision\": 1.0, \"Recall\": 1.0, \"FScore\": 1.0}, {\"nfrac\": 0.43, \"action\": \"Enhance\", \"Precision\": 1.0, \"Recall\": 1.0, \"FScore\": 1.0}, {\"nfrac\": 0.43, \"action\": \"Filter\", \"Precision\": 1.0, \"Recall\": 0.9600000000000001, \"FScore\": 0.9791461412151067}, {\"nfrac\": 0.43, \"action\": \"Occurrence\", \"Precision\": 1.0, \"Recall\": 1.0, \"FScore\": 1.0}, {\"nfrac\": 0.51, \"action\": \"Correlation\", \"Precision\": 1.0, \"Recall\": 0.968888888888889, \"FScore\": 0.9839080459770114}, {\"nfrac\": 0.51, \"action\": \"Distribution\", \"Precision\": 1.0, \"Recall\": 0.9911111111111112, \"FScore\": 0.9954022988505747}, {\"nfrac\": 0.51, \"action\": \"Enhance\", \"Precision\": 1.0, \"Recall\": 1.0, \"FScore\": 1.0}, {\"nfrac\": 0.51, \"action\": \"Filter\", \"Precision\": 1.0, \"Recall\": 0.9600000000000001, \"FScore\": 0.9793103448275862}, {\"nfrac\": 0.51, \"action\": \"Occurrence\", \"Precision\": 1.0, \"Recall\": 1.0, \"FScore\": 1.0}, {\"nfrac\": 0.59, \"action\": \"Correlation\", \"Precision\": 1.0, \"Recall\": 0.9777777777777779, \"FScore\": 0.9885057471264367}, {\"nfrac\": 0.59, \"action\": \"Distribution\", \"Precision\": 1.0, \"Recall\": 1.0, \"FScore\": 1.0}, {\"nfrac\": 0.59, \"action\": \"Enhance\", \"Precision\": 1.0, \"Recall\": 1.0, \"FScore\": 1.0}, {\"nfrac\": 0.59, \"action\": \"Filter\", \"Precision\": 1.0, \"Recall\": 0.9555555555555556, \"FScore\": 0.9770114942528733}, {\"nfrac\": 0.59, \"action\": \"Occurrence\", \"Precision\": 1.0, \"Recall\": 1.0, \"FScore\": 1.0}, {\"nfrac\": 0.69, \"action\": \"Correlation\", \"Precision\": 1.0, \"Recall\": 0.9822222222222223, \"FScore\": 0.9908045977011494}, {\"nfrac\": 0.69, \"action\": \"Distribution\", \"Precision\": 1.0, \"Recall\": 1.0, \"FScore\": 1.0}, {\"nfrac\": 0.69, \"action\": \"Enhance\", \"Precision\": 1.0, \"Recall\": 1.0, \"FScore\": 1.0}, {\"nfrac\": 0.69, \"action\": \"Filter\", \"Precision\": 1.0, \"Recall\": 0.9733333333333334, \"FScore\": 0.986206896551724}, {\"nfrac\": 0.69, \"action\": \"Occurrence\", \"Precision\": 1.0, \"Recall\": 1.0, \"FScore\": 1.0}, {\"nfrac\": 0.81, \"action\": \"Correlation\", \"Precision\": 1.0, \"Recall\": 0.9866666666666667, \"FScore\": 0.9931034482758619}, {\"nfrac\": 0.81, \"action\": \"Distribution\", \"Precision\": 1.0, \"Recall\": 1.0, \"FScore\": 1.0}, {\"nfrac\": 0.81, \"action\": \"Enhance\", \"Precision\": 1.0, \"Recall\": 1.0, \"FScore\": 1.0}, {\"nfrac\": 0.81, \"action\": \"Filter\", \"Precision\": 1.0, \"Recall\": 0.9644444444444444, \"FScore\": 0.9814449917898194}, {\"nfrac\": 0.81, \"action\": \"Occurrence\", \"Precision\": 1.0, \"Recall\": 1.0, \"FScore\": 1.0}, {\"nfrac\": 0.95, \"action\": \"Correlation\", \"Precision\": 1.0, \"Recall\": 0.9955555555555555, \"FScore\": 0.9977011494252873}, {\"nfrac\": 0.95, \"action\": \"Distribution\", \"Precision\": 1.0, \"Recall\": 1.0, \"FScore\": 1.0}, {\"nfrac\": 0.95, \"action\": \"Enhance\", \"Precision\": 1.0, \"Recall\": 1.0, \"FScore\": 1.0}, {\"nfrac\": 0.95, \"action\": \"Filter\", \"Precision\": 1.0, \"Recall\": 0.9822222222222223, \"FScore\": 0.9908045977011495}, {\"nfrac\": 0.95, \"action\": \"Occurrence\", \"Precision\": 1.0, \"Recall\": 1.0, \"FScore\": 1.0}, {\"nfrac\": 1.0, \"action\": \"Correlation\", \"Precision\": 1.0, \"Recall\": 1.0, \"FScore\": 1.0}, {\"nfrac\": 1.0, \"action\": \"Distribution\", \"Precision\": 1.0, \"Recall\": 1.0, \"FScore\": 1.0}, {\"nfrac\": 1.0, \"action\": \"Enhance\", \"Precision\": 1.0, \"Recall\": 1.0, \"FScore\": 1.0}, {\"nfrac\": 1.0, \"action\": \"Filter\", \"Precision\": 1.0, \"Recall\": 1.0, \"FScore\": 1.0}, {\"nfrac\": 1.0, \"action\": \"Occurrence\", \"Precision\": 1.0, \"Recall\": 1.0, \"FScore\": 1.0}]}}, {\"mode\": \"vega-lite\"});\n",
       "</script>"
      ],
      "text/plain": [
       "alt.Chart(...)"
      ]
     },
     "execution_count": 10,
     "metadata": {},
     "output_type": "execute_result"
    }
   ],
   "source": [
    "df = pd.read_csv(\"plot_data/communities_50k_accuracy.csv\")\n",
    "df = df.groupby([\"nfrac\",\"action\"]).mean().reset_index()\n",
    "chart = alt.Chart(df,title=\"Communities (50k rows)\").mark_line().encode(\n",
    "    x = alt.X(\"nfrac\",title=\"Fraction of dataset sampled\"),#scale=alt.Scale(type=\"log\")),\n",
    "    y = alt.Y(\"Recall\",scale=alt.Scale(domain=(0,1.01))),\n",
    "    color = \"action\"\n",
    ")\n",
    "chart.properties(width=200,height=150)"
   ]
  },
  {
   "cell_type": "markdown",
   "id": "colonial-ghost",
   "metadata": {},
   "source": [
    "### Performance Scaling Experiment By Number of Columns"
   ]
  },
  {
   "cell_type": "code",
   "execution_count": 48,
   "id": "impressed-faculty",
   "metadata": {},
   "outputs": [],
   "source": [
    "df = pd.read_csv(\"plot_data/synthetic_ncols.csv\",index_col=0)"
   ]
  },
  {
   "cell_type": "code",
   "execution_count": 49,
   "id": "likely-repository",
   "metadata": {},
   "outputs": [],
   "source": [
    "df = df.replace({\"o1\":\"wflow (no-opt)\",\"o1o2\":\"wflow+prune\",\"o1o2o3\":\"wflow+prune+stream (all)\"})"
   ]
  },
  {
   "cell_type": "code",
   "execution_count": 57,
   "id": "municipal-suspect",
   "metadata": {},
   "outputs": [
    {
     "data": {
      "text/html": [
       "\n",
       "<div id=\"altair-viz-74a46037672444cd8a069e16f2c75107\"></div>\n",
       "<script type=\"text/javascript\">\n",
       "  (function(spec, embedOpt){\n",
       "    let outputDiv = document.currentScript.previousElementSibling;\n",
       "    if (outputDiv.id !== \"altair-viz-74a46037672444cd8a069e16f2c75107\") {\n",
       "      outputDiv = document.getElementById(\"altair-viz-74a46037672444cd8a069e16f2c75107\");\n",
       "    }\n",
       "    const paths = {\n",
       "      \"vega\": \"https://cdn.jsdelivr.net/npm//vega@5?noext\",\n",
       "      \"vega-lib\": \"https://cdn.jsdelivr.net/npm//vega-lib?noext\",\n",
       "      \"vega-lite\": \"https://cdn.jsdelivr.net/npm//vega-lite@4.8.1?noext\",\n",
       "      \"vega-embed\": \"https://cdn.jsdelivr.net/npm//vega-embed@6?noext\",\n",
       "    };\n",
       "\n",
       "    function loadScript(lib) {\n",
       "      return new Promise(function(resolve, reject) {\n",
       "        var s = document.createElement('script');\n",
       "        s.src = paths[lib];\n",
       "        s.async = true;\n",
       "        s.onload = () => resolve(paths[lib]);\n",
       "        s.onerror = () => reject(`Error loading script: ${paths[lib]}`);\n",
       "        document.getElementsByTagName(\"head\")[0].appendChild(s);\n",
       "      });\n",
       "    }\n",
       "\n",
       "    function showError(err) {\n",
       "      outputDiv.innerHTML = `<div class=\"error\" style=\"color:red;\">${err}</div>`;\n",
       "      throw err;\n",
       "    }\n",
       "\n",
       "    function displayChart(vegaEmbed) {\n",
       "      vegaEmbed(outputDiv, spec, embedOpt)\n",
       "        .catch(err => showError(`Javascript Error: ${err.message}<br>This usually means there's a typo in your chart specification. See the javascript console for the full traceback.`));\n",
       "    }\n",
       "\n",
       "    if(typeof define === \"function\" && define.amd) {\n",
       "      requirejs.config({paths});\n",
       "      require([\"vega-embed\"], displayChart, err => showError(`Error loading script: ${err.message}`));\n",
       "    } else if (typeof vegaEmbed === \"function\") {\n",
       "      displayChart(vegaEmbed);\n",
       "    } else {\n",
       "      loadScript(\"vega\")\n",
       "        .then(() => loadScript(\"vega-lite\"))\n",
       "        .then(() => loadScript(\"vega-embed\"))\n",
       "        .catch(showError)\n",
       "        .then(() => displayChart(vegaEmbed));\n",
       "    }\n",
       "  })({\"config\": {\"view\": {\"continuousWidth\": 400, \"continuousHeight\": 300}}, \"layer\": [{\"mark\": \"line\", \"encoding\": {\"color\": {\"type\": \"nominal\", \"field\": \"condition\", \"scale\": {\"domain\": [\"wflow+prune+stream (all)\", \"wflow+prune\", \"wflow (no-opt)\"], \"range\": [\"#e45755\", \"#f58517\", \"#4c78a8\"]}, \"legend\": {\"orient\": \"bottom-right\", \"padding\": -10, \"title\": null}}, \"x\": {\"type\": \"quantitative\", \"field\": \"nCols\", \"title\": \"Number of Columns\"}, \"y\": {\"type\": \"quantitative\", \"field\": \"time\", \"scale\": {\"domain\": [0.4, 10000.0], \"type\": \"log\"}, \"title\": \"log(single print df time) [s]\"}}}, {\"mark\": {\"type\": \"circle\", \"size\": 18}, \"encoding\": {\"color\": {\"type\": \"nominal\", \"field\": \"condition\", \"scale\": {\"domain\": [\"wflow+prune+stream (all)\", \"wflow+prune\", \"wflow (no-opt)\"], \"range\": [\"#e45755\", \"#f58517\", \"#4c78a8\"]}}, \"x\": {\"type\": \"quantitative\", \"field\": \"nCols\", \"title\": \"Number of Columns\"}, \"y\": {\"type\": \"quantitative\", \"field\": \"time\", \"scale\": {\"domain\": [0.4, 10000.0], \"type\": \"log\"}, \"title\": \"log(single print df time) [s]\"}}}], \"data\": {\"name\": \"data-ad544c40e8239891f5eac01a8a1705ab\"}, \"height\": 180, \"width\": 200, \"$schema\": \"https://vega.github.io/schema/vega-lite/v4.8.1.json\", \"datasets\": {\"data-ad544c40e8239891f5eac01a8a1705ab\": [{\"condition\": \"wflow (no-opt)\", \"nCols\": 10, \"time\": 2.548582}, {\"condition\": \"wflow (no-opt)\", \"nCols\": 11, \"time\": 2.139161}, {\"condition\": \"wflow (no-opt)\", \"nCols\": 14, \"time\": 3.223207}, {\"condition\": \"wflow (no-opt)\", \"nCols\": 16, \"time\": 3.359714}, {\"condition\": \"wflow (no-opt)\", \"nCols\": 19, \"time\": 4.443362}, {\"condition\": \"wflow (no-opt)\", \"nCols\": 23, \"time\": 5.917444}, {\"condition\": \"wflow (no-opt)\", \"nCols\": 27, \"time\": 6.091226}, {\"condition\": \"wflow (no-opt)\", \"nCols\": 33, \"time\": 8.442273}, {\"condition\": \"wflow (no-opt)\", \"nCols\": 39, \"time\": 9.8654}, {\"condition\": \"wflow (no-opt)\", \"nCols\": 46, \"time\": 13.011628}, {\"condition\": \"wflow (no-opt)\", \"nCols\": 55, \"time\": 16.730019}, {\"condition\": \"wflow (no-opt)\", \"nCols\": 65, \"time\": 22.779906}, {\"condition\": \"wflow (no-opt)\", \"nCols\": 77, \"time\": 30.664536}, {\"condition\": \"wflow (no-opt)\", \"nCols\": 91, \"time\": 42.216232}, {\"condition\": \"wflow (no-opt)\", \"nCols\": 108, \"time\": 58.032224}, {\"condition\": \"wflow (no-opt)\", \"nCols\": 129, \"time\": 83.376123}, {\"condition\": \"wflow (no-opt)\", \"nCols\": 153, \"time\": 113.905903}, {\"condition\": \"wflow (no-opt)\", \"nCols\": 181, \"time\": 149.826185}, {\"condition\": \"wflow (no-opt)\", \"nCols\": 215, \"time\": 209.255243}, {\"condition\": \"wflow (no-opt)\", \"nCols\": 255, \"time\": 307.24252}, {\"condition\": \"wflow (no-opt)\", \"nCols\": 303, \"time\": 467.102547}, {\"condition\": \"wflow (no-opt)\", \"nCols\": 359, \"time\": 717.095981}, {\"condition\": \"wflow (no-opt)\", \"nCols\": 426, \"time\": 1065.825402}, {\"condition\": \"wflow (no-opt)\", \"nCols\": 505, \"time\": 1503.93737}, {\"condition\": \"wflow (no-opt)\", \"nCols\": 600, \"time\": 2538.92778}, {\"condition\": \"wflow+prune\", \"nCols\": 10, \"time\": 2.705945}, {\"condition\": \"wflow+prune\", \"nCols\": 11, \"time\": 2.203107}, {\"condition\": \"wflow+prune\", \"nCols\": 14, \"time\": 3.216178}, {\"condition\": \"wflow+prune\", \"nCols\": 16, \"time\": 2.964548}, {\"condition\": \"wflow+prune\", \"nCols\": 19, \"time\": 3.911538}, {\"condition\": \"wflow+prune\", \"nCols\": 23, \"time\": 4.80108}, {\"condition\": \"wflow+prune\", \"nCols\": 27, \"time\": 4.682587}, {\"condition\": \"wflow+prune\", \"nCols\": 33, \"time\": 5.597494}, {\"condition\": \"wflow+prune\", \"nCols\": 39, \"time\": 5.148929}, {\"condition\": \"wflow+prune\", \"nCols\": 46, \"time\": 6.721944}, {\"condition\": \"wflow+prune\", \"nCols\": 55, \"time\": 6.853352}, {\"condition\": \"wflow+prune\", \"nCols\": 65, \"time\": 7.51461}, {\"condition\": \"wflow+prune\", \"nCols\": 77, \"time\": 8.285314}, {\"condition\": \"wflow+prune\", \"nCols\": 91, \"time\": 10.668474}, {\"condition\": \"wflow+prune\", \"nCols\": 108, \"time\": 13.672768}, {\"condition\": \"wflow+prune\", \"nCols\": 129, \"time\": 17.000182}, {\"condition\": \"wflow+prune\", \"nCols\": 153, \"time\": 23.722986}, {\"condition\": \"wflow+prune\", \"nCols\": 181, \"time\": 33.679293}, {\"condition\": \"wflow+prune\", \"nCols\": 215, \"time\": 49.777787}, {\"condition\": \"wflow+prune\", \"nCols\": 255, \"time\": 80.977443}, {\"condition\": \"wflow+prune\", \"nCols\": 303, \"time\": 125.817151}, {\"condition\": \"wflow+prune\", \"nCols\": 359, \"time\": 233.080471}, {\"condition\": \"wflow+prune\", \"nCols\": 426, \"time\": 431.12771}, {\"condition\": \"wflow+prune\", \"nCols\": 505, \"time\": 789.176693}, {\"condition\": \"wflow+prune\", \"nCols\": 600, \"time\": 1536.406177}, {\"condition\": \"wflow+prune+stream (all)\", \"nCols\": 10, \"time\": 0.514909}, {\"condition\": \"wflow+prune+stream (all)\", \"nCols\": 11, \"time\": 0.6416}, {\"condition\": \"wflow+prune+stream (all)\", \"nCols\": 14, \"time\": 0.723303}, {\"condition\": \"wflow+prune+stream (all)\", \"nCols\": 16, \"time\": 0.911429}, {\"condition\": \"wflow+prune+stream (all)\", \"nCols\": 19, \"time\": 0.955162}, {\"condition\": \"wflow+prune+stream (all)\", \"nCols\": 23, \"time\": 1.05757}, {\"condition\": \"wflow+prune+stream (all)\", \"nCols\": 27, \"time\": 1.228695}, {\"condition\": \"wflow+prune+stream (all)\", \"nCols\": 33, \"time\": 1.447015}, {\"condition\": \"wflow+prune+stream (all)\", \"nCols\": 39, \"time\": 1.766816}, {\"condition\": \"wflow+prune+stream (all)\", \"nCols\": 46, \"time\": 2.042909}, {\"condition\": \"wflow+prune+stream (all)\", \"nCols\": 55, \"time\": 2.370053}, {\"condition\": \"wflow+prune+stream (all)\", \"nCols\": 65, \"time\": 2.720656}, {\"condition\": \"wflow+prune+stream (all)\", \"nCols\": 77, \"time\": 3.187366}, {\"condition\": \"wflow+prune+stream (all)\", \"nCols\": 91, \"time\": 3.621685}, {\"condition\": \"wflow+prune+stream (all)\", \"nCols\": 108, \"time\": 4.666042}, {\"condition\": \"wflow+prune+stream (all)\", \"nCols\": 129, \"time\": 5.513793}, {\"condition\": \"wflow+prune+stream (all)\", \"nCols\": 153, \"time\": 6.318049}, {\"condition\": \"wflow+prune+stream (all)\", \"nCols\": 181, \"time\": 6.766403}, {\"condition\": \"wflow+prune+stream (all)\", \"nCols\": 215, \"time\": 8.26608}, {\"condition\": \"wflow+prune+stream (all)\", \"nCols\": 255, \"time\": 9.756741}, {\"condition\": \"wflow+prune+stream (all)\", \"nCols\": 303, \"time\": 12.432627}, {\"condition\": \"wflow+prune+stream (all)\", \"nCols\": 359, \"time\": 16.399874}, {\"condition\": \"wflow+prune+stream (all)\", \"nCols\": 426, \"time\": 17.049307}, {\"condition\": \"wflow+prune+stream (all)\", \"nCols\": 505, \"time\": 20.662968}, {\"condition\": \"wflow+prune+stream (all)\", \"nCols\": 600, \"time\": 25.899002}]}}, {\"mode\": \"vega-lite\"});\n",
       "</script>"
      ],
      "text/plain": [
       "alt.LayerChart(...)"
      ]
     },
     "execution_count": 57,
     "metadata": {},
     "output_type": "execute_result"
    }
   ],
   "source": [
    "overall = df.groupby([\"condition\",\"nCols\"]).sum().reset_index()\n",
    "dot = alt.Chart(overall).mark_circle(size=18).encode(\n",
    "    x=alt.Column(\"nCols\",type=\"quantitative\",title=\"Number of Columns\"),\n",
    "    y = alt.Y(\"time\",scale=alt.Scale(domain=(0.4,1e4),type='log'),title=\"log(single print df time) [s]\"),\n",
    "    color=alt.X(\"condition\",\n",
    "                   scale=alt.Scale(\n",
    "                    domain=['wflow+prune+stream (all)','wflow+prune','wflow (no-opt)'],\n",
    "                    range=['#e45755','#f58517','#4c78a8']))\n",
    ")\n",
    "line = alt.Chart(overall).mark_line().encode(\n",
    "    x=alt.Column(\"nCols\",type=\"quantitative\",title=\"Number of Columns\"),\n",
    "    y = alt.Y(\"time\",scale=alt.Scale(domain=(0.4,1e4),type='log'),title=\"log(single print df time) [s]\"),\n",
    "    color=alt.X(\"condition\",legend=alt.Legend(orient=\"bottom-right\",padding=-10,title=None),\n",
    "                   scale=alt.Scale(\n",
    "                    domain=['wflow+prune+stream (all)','wflow+prune','wflow (no-opt)'],\n",
    "                    range=['#e45755','#f58517','#4c78a8']))\n",
    ")\n",
    "chart = line+dot\n",
    "chart.properties(width=200,height=180)"
   ]
  },
  {
   "cell_type": "markdown",
   "id": "matched-canada",
   "metadata": {},
   "source": [
    "### Action Breakdown Plot"
   ]
  },
  {
   "cell_type": "code",
   "execution_count": 9,
   "id": "understanding-music",
   "metadata": {},
   "outputs": [],
   "source": [
    "df=pd.read_csv(f\"../result/action_benchmark_communities.csv\")\n",
    "df = df.set_index(\"nPts\").unstack().reset_index()\n",
    "df.columns = [\"action\",\"nPts\",\"time\"]\n",
    "overall_time = df.groupby([\"nPts\"]).sum()['time'].reset_index().rename({\"time\":\"total\"},axis=1)\n",
    "df = df.merge(overall_time,on=[\"nPts\"])\n",
    "df[\"pct\"]= df[\"time\"]/df[\"total\"]*100\n",
    "df[\"dataset\"]=\"Communities\""
   ]
  },
  {
   "cell_type": "code",
   "execution_count": 10,
   "id": "fiscal-statistics",
   "metadata": {},
   "outputs": [],
   "source": [
    "df2=pd.read_csv(f\"../result/action_benchmark_airbnb.csv\")\n",
    "df2 = df2[df2.nPts.isin([  100000, 1e6, 1e7])]\n",
    "df2 = df2.set_index(\"nPts\").unstack().reset_index()\n",
    "df2.columns = [\"action\",\"nPts\",\"time\"]\n",
    "overall_time = df2.groupby([\"nPts\"]).sum()['time'].reset_index().rename({\"time\":\"total\"},axis=1)\n",
    "df2 = df2.merge(overall_time,on=[\"nPts\"])\n",
    "df2[\"pct\"]= df2[\"time\"]/df2[\"total\"]*100\n",
    "df2[\"dataset\"]=\"Communities\""
   ]
  },
  {
   "cell_type": "code",
   "execution_count": 11,
   "id": "infrared-cross",
   "metadata": {},
   "outputs": [
    {
     "data": {
      "text/plain": [
       "array(['Correlation', 'Distribution', 'Occurrence', 'Temporal', 'Enhance',\n",
       "       'Filter', 'Generalize'], dtype=object)"
      ]
     },
     "execution_count": 11,
     "metadata": {},
     "output_type": "execute_result"
    }
   ],
   "source": [
    "df.action.unique()"
   ]
  },
  {
   "cell_type": "code",
   "execution_count": 12,
   "id": "sunset-bobby",
   "metadata": {},
   "outputs": [],
   "source": [
    "def my_theme():\n",
    "    return {\n",
    "        'config': {\n",
    "            'range': {'category': {'scheme': 'tableau20'}}\n",
    "        }\n",
    "    }"
   ]
  },
  {
   "cell_type": "code",
   "execution_count": 13,
   "id": "light-station",
   "metadata": {},
   "outputs": [
    {
     "data": {
      "text/plain": [
       "ThemeRegistry.enable('my_theme')"
      ]
     },
     "execution_count": 13,
     "metadata": {},
     "output_type": "execute_result"
    }
   ],
   "source": [
    "alt.themes.register('my_theme', my_theme)\n",
    "alt.themes.enable('my_theme')"
   ]
  },
  {
   "cell_type": "code",
   "execution_count": 14,
   "id": "incredible-dietary",
   "metadata": {},
   "outputs": [
    {
     "data": {
      "text/html": [
       "\n",
       "<div id=\"altair-viz-72042195b1f046148ab45676292658c7\"></div>\n",
       "<script type=\"text/javascript\">\n",
       "  (function(spec, embedOpt){\n",
       "    let outputDiv = document.currentScript.previousElementSibling;\n",
       "    if (outputDiv.id !== \"altair-viz-72042195b1f046148ab45676292658c7\") {\n",
       "      outputDiv = document.getElementById(\"altair-viz-72042195b1f046148ab45676292658c7\");\n",
       "    }\n",
       "    const paths = {\n",
       "      \"vega\": \"https://cdn.jsdelivr.net/npm//vega@5?noext\",\n",
       "      \"vega-lib\": \"https://cdn.jsdelivr.net/npm//vega-lib?noext\",\n",
       "      \"vega-lite\": \"https://cdn.jsdelivr.net/npm//vega-lite@4.8.1?noext\",\n",
       "      \"vega-embed\": \"https://cdn.jsdelivr.net/npm//vega-embed@6?noext\",\n",
       "    };\n",
       "\n",
       "    function loadScript(lib) {\n",
       "      return new Promise(function(resolve, reject) {\n",
       "        var s = document.createElement('script');\n",
       "        s.src = paths[lib];\n",
       "        s.async = true;\n",
       "        s.onload = () => resolve(paths[lib]);\n",
       "        s.onerror = () => reject(`Error loading script: ${paths[lib]}`);\n",
       "        document.getElementsByTagName(\"head\")[0].appendChild(s);\n",
       "      });\n",
       "    }\n",
       "\n",
       "    function showError(err) {\n",
       "      outputDiv.innerHTML = `<div class=\"error\" style=\"color:red;\">${err}</div>`;\n",
       "      throw err;\n",
       "    }\n",
       "\n",
       "    function displayChart(vegaEmbed) {\n",
       "      vegaEmbed(outputDiv, spec, embedOpt)\n",
       "        .catch(err => showError(`Javascript Error: ${err.message}<br>This usually means there's a typo in your chart specification. See the javascript console for the full traceback.`));\n",
       "    }\n",
       "\n",
       "    if(typeof define === \"function\" && define.amd) {\n",
       "      requirejs.config({paths});\n",
       "      require([\"vega-embed\"], displayChart, err => showError(`Error loading script: ${err.message}`));\n",
       "    } else if (typeof vegaEmbed === \"function\") {\n",
       "      displayChart(vegaEmbed);\n",
       "    } else {\n",
       "      loadScript(\"vega\")\n",
       "        .then(() => loadScript(\"vega-lite\"))\n",
       "        .then(() => loadScript(\"vega-embed\"))\n",
       "        .catch(showError)\n",
       "        .then(() => displayChart(vegaEmbed));\n",
       "    }\n",
       "  })({\"config\": {\"range\": {\"category\": {\"scheme\": \"tableau20\"}}}, \"data\": {\"name\": \"data-5099529580b5b5d3d6b6f7cd75c33c4a\"}, \"mark\": \"bar\", \"encoding\": {\"color\": {\"type\": \"nominal\", \"field\": \"action\"}, \"x\": {\"type\": \"quantitative\", \"aggregate\": \"sum\", \"field\": \"pct\", \"scale\": {\"domain\": [0, 100]}}, \"y\": {\"type\": \"ordinal\", \"field\": \"nPts\"}}, \"title\": \"Communities\", \"$schema\": \"https://vega.github.io/schema/vega-lite/v4.8.1.json\", \"datasets\": {\"data-5099529580b5b5d3d6b6f7cd75c33c4a\": [{\"action\": \"Correlation\", \"nPts\": 1000, \"time\": 60.0988204, \"total\": 64.73909711700001, \"pct\": 92.83234255087949, \"dataset\": \"Communities\"}, {\"action\": \"Distribution\", \"nPts\": 1000, \"time\": 0.3085705820000015, \"total\": 64.73909711700001, \"pct\": 0.47663714160600046, \"dataset\": \"Communities\"}, {\"action\": \"Occurrence\", \"nPts\": 1000, \"time\": 0.1941817570000008, \"total\": 64.73909711700001, \"pct\": 0.29994511145106795, \"dataset\": \"Communities\"}, {\"action\": \"Temporal\", \"nPts\": 1000, \"time\": 0.0002831469999993, \"total\": 64.73909711700001, \"pct\": 0.0004373663097086161, \"dataset\": \"Communities\"}, {\"action\": \"Enhance\", \"nPts\": 1000, \"time\": 1.1855171429999984, \"total\": 64.73909711700001, \"pct\": 1.8312228557303905, \"dataset\": \"Communities\"}, {\"action\": \"Filter\", \"nPts\": 1000, \"time\": 2.951698113999996, \"total\": 64.73909711700001, \"pct\": 4.559374852981849, \"dataset\": \"Communities\"}, {\"action\": \"Generalize\", \"nPts\": 1000, \"time\": 2.597400001036476e-05, \"total\": 64.73909711700001, \"pct\": 4.012104148351519e-05, \"dataset\": \"Communities\"}, {\"action\": \"Correlation\", \"nPts\": 10000, \"time\": 506.731976423, \"total\": 509.08247864, \"pct\": 99.53828656148622, \"dataset\": \"Communities\"}, {\"action\": \"Distribution\", \"nPts\": 10000, \"time\": 0.1942169569999947, \"total\": 509.08247864, \"pct\": 0.03815039117410601, \"dataset\": \"Communities\"}, {\"action\": \"Occurrence\", \"nPts\": 10000, \"time\": 0.2355053769999955, \"total\": 509.08247864, \"pct\": 0.046260750837298845, \"dataset\": \"Communities\"}, {\"action\": \"Temporal\", \"nPts\": 10000, \"time\": 0.0003494560000092, \"total\": 509.08247864, \"pct\": 6.864427959547189e-05, \"dataset\": \"Communities\"}, {\"action\": \"Enhance\", \"nPts\": 10000, \"time\": 1.3207579850000002, \"total\": 509.08247864, \"pct\": 0.25943890045643864, \"dataset\": \"Communities\"}, {\"action\": \"Filter\", \"nPts\": 10000, \"time\": 0.5996398009999666, \"total\": 509.08247864, \"pct\": 0.11778834003517231, \"dataset\": \"Communities\"}, {\"action\": \"Generalize\", \"nPts\": 10000, \"time\": 3.264100007527304e-05, \"total\": 509.08247864, \"pct\": 6.411731191863563e-06, \"dataset\": \"Communities\"}, {\"action\": \"Correlation\", \"nPts\": 100000, \"time\": 635.5959245630002, \"total\": 639.9583534660002, \"pct\": 99.31832612554032, \"dataset\": \"Communities\"}, {\"action\": \"Distribution\", \"nPts\": 100000, \"time\": 0.392936265000003, \"total\": 639.9583534660002, \"pct\": 0.061400286889274736, \"dataset\": \"Communities\"}, {\"action\": \"Occurrence\", \"nPts\": 100000, \"time\": 0.4022776709999789, \"total\": 639.9583534660002, \"pct\": 0.06285997656273287, \"dataset\": \"Communities\"}, {\"action\": \"Temporal\", \"nPts\": 100000, \"time\": 0.0003089109999336, \"total\": 639.9583534660002, \"pct\": 4.827048483085578e-05, \"dataset\": \"Communities\"}, {\"action\": \"Enhance\", \"nPts\": 100000, \"time\": 2.1576358120000805, \"total\": 639.9583534660002, \"pct\": 0.3371525350539411, \"dataset\": \"Communities\"}, {\"action\": \"Filter\", \"nPts\": 100000, \"time\": 1.4092374360000122, \"total\": 639.9583534660002, \"pct\": 0.22020767888529208, \"dataset\": \"Communities\"}, {\"action\": \"Generalize\", \"nPts\": 100000, \"time\": 3.2808000014483696e-05, \"total\": 639.9583534660002, \"pct\": 5.126583602947957e-06, \"dataset\": \"Communities\"}]}}, {\"mode\": \"vega-lite\"});\n",
       "</script>"
      ],
      "text/plain": [
       "alt.Chart(...)"
      ]
     },
     "execution_count": 14,
     "metadata": {},
     "output_type": "execute_result"
    }
   ],
   "source": [
    "alt.Chart(df,title=\"Communities\").mark_bar().encode(\n",
    "    y = alt.Y(\"nPts\",type=\"ordinal\"),\n",
    "    x = alt.X(\"sum(pct)\",scale=alt.Scale(domain=(0,100))),\n",
    "    color=\"action\"\n",
    ")"
   ]
  },
  {
   "cell_type": "code",
   "execution_count": 15,
   "id": "aerial-presentation",
   "metadata": {},
   "outputs": [
    {
     "data": {
      "text/html": [
       "\n",
       "<div id=\"altair-viz-b96b34ad1913499198bfb02fabae4f01\"></div>\n",
       "<script type=\"text/javascript\">\n",
       "  (function(spec, embedOpt){\n",
       "    let outputDiv = document.currentScript.previousElementSibling;\n",
       "    if (outputDiv.id !== \"altair-viz-b96b34ad1913499198bfb02fabae4f01\") {\n",
       "      outputDiv = document.getElementById(\"altair-viz-b96b34ad1913499198bfb02fabae4f01\");\n",
       "    }\n",
       "    const paths = {\n",
       "      \"vega\": \"https://cdn.jsdelivr.net/npm//vega@5?noext\",\n",
       "      \"vega-lib\": \"https://cdn.jsdelivr.net/npm//vega-lib?noext\",\n",
       "      \"vega-lite\": \"https://cdn.jsdelivr.net/npm//vega-lite@4.8.1?noext\",\n",
       "      \"vega-embed\": \"https://cdn.jsdelivr.net/npm//vega-embed@6?noext\",\n",
       "    };\n",
       "\n",
       "    function loadScript(lib) {\n",
       "      return new Promise(function(resolve, reject) {\n",
       "        var s = document.createElement('script');\n",
       "        s.src = paths[lib];\n",
       "        s.async = true;\n",
       "        s.onload = () => resolve(paths[lib]);\n",
       "        s.onerror = () => reject(`Error loading script: ${paths[lib]}`);\n",
       "        document.getElementsByTagName(\"head\")[0].appendChild(s);\n",
       "      });\n",
       "    }\n",
       "\n",
       "    function showError(err) {\n",
       "      outputDiv.innerHTML = `<div class=\"error\" style=\"color:red;\">${err}</div>`;\n",
       "      throw err;\n",
       "    }\n",
       "\n",
       "    function displayChart(vegaEmbed) {\n",
       "      vegaEmbed(outputDiv, spec, embedOpt)\n",
       "        .catch(err => showError(`Javascript Error: ${err.message}<br>This usually means there's a typo in your chart specification. See the javascript console for the full traceback.`));\n",
       "    }\n",
       "\n",
       "    if(typeof define === \"function\" && define.amd) {\n",
       "      requirejs.config({paths});\n",
       "      require([\"vega-embed\"], displayChart, err => showError(`Error loading script: ${err.message}`));\n",
       "    } else if (typeof vegaEmbed === \"function\") {\n",
       "      displayChart(vegaEmbed);\n",
       "    } else {\n",
       "      loadScript(\"vega\")\n",
       "        .then(() => loadScript(\"vega-lite\"))\n",
       "        .then(() => loadScript(\"vega-embed\"))\n",
       "        .catch(showError)\n",
       "        .then(() => displayChart(vegaEmbed));\n",
       "    }\n",
       "  })({\"config\": {\"range\": {\"category\": {\"scheme\": \"tableau20\"}}}, \"data\": {\"name\": \"data-3cf0ca012c83b441f5780e3de3177ceb\"}, \"mark\": \"bar\", \"encoding\": {\"color\": {\"type\": \"nominal\", \"field\": \"action\"}, \"x\": {\"type\": \"quantitative\", \"aggregate\": \"sum\", \"field\": \"pct\"}, \"y\": {\"type\": \"ordinal\", \"field\": \"nPts\"}}, \"title\": \"Airbnb\", \"$schema\": \"https://vega.github.io/schema/vega-lite/v4.8.1.json\", \"datasets\": {\"data-3cf0ca012c83b441f5780e3de3177ceb\": [{\"action\": \"Correlation\", \"nPts\": 100000, \"time\": 4.8753013460000005, \"total\": 6.364425959999977, \"pct\": 76.60237351555297, \"dataset\": \"Communities\"}, {\"action\": \"Distribution\", \"nPts\": 100000, \"time\": 0.0487023209999932, \"total\": 6.364425959999977, \"pct\": 0.7652272381843118, \"dataset\": \"Communities\"}, {\"action\": \"Occurrence\", \"nPts\": 100000, \"time\": 0.2889634599999908, \"total\": 6.364425959999977, \"pct\": 4.54029101471379, \"dataset\": \"Communities\"}, {\"action\": \"Temporal\", \"nPts\": 100000, \"time\": 0.0262376619999997, \"total\": 6.364425959999977, \"pct\": 0.412254964782398, \"dataset\": \"Communities\"}, {\"action\": \"Enhance\", \"nPts\": 100000, \"time\": 0.8232061690000023, \"total\": 6.364425959999977, \"pct\": 12.934492037047837, \"dataset\": \"Communities\"}, {\"action\": \"Filter\", \"nPts\": 100000, \"time\": 0.3019848709999877, \"total\": 6.364425959999977, \"pct\": 4.744887801318516, \"dataset\": \"Communities\"}, {\"action\": \"Generalize\", \"nPts\": 100000, \"time\": 3.013100000259783e-05, \"total\": 6.364425959999977, \"pct\": 0.00047342840017260466, \"dataset\": \"Communities\"}, {\"action\": \"Correlation\", \"nPts\": 1000000, \"time\": 13.953458862999994, \"total\": 20.999419062, \"pct\": 66.44688037227567, \"dataset\": \"Communities\"}, {\"action\": \"Distribution\", \"nPts\": 1000000, \"time\": 0.2304755279999994, \"total\": 20.999419062, \"pct\": 1.0975328761216157, \"dataset\": \"Communities\"}, {\"action\": \"Occurrence\", \"nPts\": 1000000, \"time\": 1.5330926210000086, \"total\": 20.999419062, \"pct\": 7.30064301528347, \"dataset\": \"Communities\"}, {\"action\": \"Temporal\", \"nPts\": 1000000, \"time\": 0.2389588489999994, \"total\": 20.999419062, \"pct\": 1.1379307603438091, \"dataset\": \"Communities\"}, {\"action\": \"Enhance\", \"nPts\": 1000000, \"time\": 2.9047570719999958, \"total\": 20.999419062, \"pct\": 13.832559193298676, \"dataset\": \"Communities\"}, {\"action\": \"Filter\", \"nPts\": 1000000, \"time\": 2.138645870000005, \"total\": 20.999419062, \"pct\": 10.184309688214386, \"dataset\": \"Communities\"}, {\"action\": \"Generalize\", \"nPts\": 1000000, \"time\": 3.0258999998977743e-05, \"total\": 20.999419062, \"pct\": 0.00014409446237364555, \"dataset\": \"Communities\"}, {\"action\": \"Correlation\", \"nPts\": 10000000, \"time\": 81.34080475299999, \"total\": 135.90442893900004, \"pct\": 59.851474589918894, \"dataset\": \"Communities\"}, {\"action\": \"Distribution\", \"nPts\": 10000000, \"time\": 1.8281936080000207, \"total\": 135.90442893900004, \"pct\": 1.3452053198506102, \"dataset\": \"Communities\"}, {\"action\": \"Occurrence\", \"nPts\": 10000000, \"time\": 11.847268294000004, \"total\": 135.90442893900004, \"pct\": 8.717352617932404, \"dataset\": \"Communities\"}, {\"action\": \"Temporal\", \"nPts\": 10000000, \"time\": 1.916774638999982, \"total\": 135.90442893900004, \"pct\": 1.4103842339533437, \"dataset\": \"Communities\"}, {\"action\": \"Enhance\", \"nPts\": 10000000, \"time\": 20.30636242400004, \"total\": 135.90442893900004, \"pct\": 14.94164876195053, \"dataset\": \"Communities\"}, {\"action\": \"Filter\", \"nPts\": 10000000, \"time\": 18.66499903800002, \"total\": 135.90442893900004, \"pct\": 13.733915210649759, \"dataset\": \"Communities\"}, {\"action\": \"Generalize\", \"nPts\": 10000000, \"time\": 2.618299998857765e-05, \"total\": 135.90442893900004, \"pct\": 1.926574445953468e-05, \"dataset\": \"Communities\"}]}}, {\"mode\": \"vega-lite\"});\n",
       "</script>"
      ],
      "text/plain": [
       "alt.Chart(...)"
      ]
     },
     "execution_count": 15,
     "metadata": {},
     "output_type": "execute_result"
    }
   ],
   "source": [
    "alt.Chart(df2,title=\"Airbnb\").mark_bar().encode(\n",
    "    y = alt.Y(\"nPts\",type=\"ordinal\"),\n",
    "    x = alt.X(\"sum(pct)\"),\n",
    "    color=\"action\"\n",
    ")"
   ]
  }
 ],
 "metadata": {
  "kernelspec": {
   "display_name": "Python 3",
   "language": "python",
   "name": "python3"
  },
  "language_info": {
   "codemirror_mode": {
    "name": "ipython",
    "version": 3
   },
   "file_extension": ".py",
   "mimetype": "text/x-python",
   "name": "python",
   "nbconvert_exporter": "python",
   "pygments_lexer": "ipython3",
   "version": "3.9.2"
  }
 },
 "nbformat": 4,
 "nbformat_minor": 5
}
