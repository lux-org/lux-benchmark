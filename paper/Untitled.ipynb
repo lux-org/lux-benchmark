{
 "cells": [
  {
   "cell_type": "code",
   "execution_count": 1,
   "id": "given-advertiser",
   "metadata": {},
   "outputs": [],
   "source": [
    "import pandas as pd"
   ]
  },
  {
   "cell_type": "code",
   "execution_count": 2,
   "id": "flying-tomorrow",
   "metadata": {},
   "outputs": [
    {
     "data": {
      "text/plain": [
       "'1.2.3'"
      ]
     },
     "execution_count": 2,
     "metadata": {},
     "output_type": "execute_result"
    }
   ],
   "source": [
    "pd.__version__"
   ]
  },
  {
   "cell_type": "code",
   "execution_count": 3,
   "id": "mediterranean-keyboard",
   "metadata": {},
   "outputs": [
    {
     "data": {
      "text/plain": [
       "['~/Desktop/Research/lux/lux-benchmark/paper']"
      ]
     },
     "execution_count": 3,
     "metadata": {},
     "output_type": "execute_result"
    }
   ],
   "source": [
    "pushd ../../lux/"
   ]
  },
  {
   "cell_type": "code",
   "execution_count": 4,
   "id": "frozen-serve",
   "metadata": {},
   "outputs": [],
   "source": [
    "import lux"
   ]
  },
  {
   "cell_type": "code",
   "execution_count": 5,
   "id": "trained-cinema",
   "metadata": {},
   "outputs": [
    {
     "data": {
      "text/plain": [
       "'/Users/dorislee/Desktop/Research/lux/lux/lux/__init__.py'"
      ]
     },
     "execution_count": 5,
     "metadata": {},
     "output_type": "execute_result"
    }
   ],
   "source": [
    "lux.__file__"
   ]
  },
  {
   "cell_type": "code",
   "execution_count": 10,
   "id": "female-dictionary",
   "metadata": {},
   "outputs": [],
   "source": [
    "import pandas as pd\n",
    "import numpy as np\n",
    "import pandas as pd\n",
    "from faker.providers.person.en import Provider\n",
    "import random\n",
    "\n",
    "def get_random_dates(start, end, size):\n",
    "    # Adapted from: https://stackoverflow.com/a/50668285\n",
    "    divide_by = 24 * 60 * 60 * 10**9\n",
    "    start_u = start.value // divide_by\n",
    "    end_u = end.value // divide_by\n",
    "    return pd.to_datetime(np.random.randint(start_u, end_u, size), unit=\"D\")\n",
    "\n",
    "def get_random_names(size,cardinality):\n",
    "    names = getattr(Provider, 'first_names')[:cardinality]\n",
    "    return np.random.choice(names, size=size)\n",
    "\n",
    "def generate_synthetic_dataframe(N_cols, size):\n",
    "    # Fake dataset proportion\n",
    "    # 78% : quantitative = 50% int, 50% float\n",
    "    # 20%: nominal = vary cardinality \n",
    "    # Remaining: temporal\n",
    "    N_ints = int(N_cols*(0.78/2))\n",
    "    N_floats = int(N_cols*(0.78/2))\n",
    "    N_nominal = int(N_cols*0.2)\n",
    "    N_temporal = int(N_cols-N_ints-N_floats-N_nominal)\n",
    "    # print (N_ints,N_floats,N_nominal,N_temporal)\n",
    "\n",
    "    data = []\n",
    "    for _ in range(N_ints):\n",
    "        int_col = np.array(random.sample(range(1, 100000),size))\n",
    "        data.append(int_col)\n",
    "    for _ in range(N_floats):\n",
    "        float_col = np.random.random(size)\n",
    "        data.append(float_col)\n",
    "    for _ in range(N_temporal):\n",
    "        t_col = get_random_dates(start=pd.to_datetime('1900-01-01'), end=pd.to_datetime('2021-01-01'), size=size)\n",
    "        data.append(t_col)\n",
    "    for _ in range(N_nominal):\n",
    "        cardinalities = np.geomspace(1,10000,N_nominal,dtype=int)\n",
    "        cat_col = get_random_names(size=size,cardinality=cardinalities[_])\n",
    "        data.append(cat_col)\n",
    "    df = pd.DataFrame(data).T\n",
    "    # df = df.convert_dtypes()\n",
    "    df = df.infer_objects()\n",
    "    df.columns = df.columns.map(lambda x: f\"col_{x}\")\n",
    "    return df "
   ]
  },
  {
   "cell_type": "code",
   "execution_count": 25,
   "id": "competitive-illustration",
   "metadata": {},
   "outputs": [],
   "source": [
    "df = generate_synthetic_dataframe(50,50000)"
   ]
  },
  {
   "cell_type": "code",
   "execution_count": 26,
   "id": "hundred-group",
   "metadata": {},
   "outputs": [],
   "source": [
    "df.to_csv(\"../lux-benchmark/data/synthetic_50000.csv\",index=None)"
   ]
  },
  {
   "cell_type": "code",
   "execution_count": 20,
   "id": "sonic-yield",
   "metadata": {},
   "outputs": [
    {
     "data": {
      "application/vnd.jupyter.widget-view+json": {
       "model_id": "a5e25b4a1f32497fa3c681e00f451aa7",
       "version_major": 2,
       "version_minor": 0
      },
      "text/plain": [
       "Button(description='Toggle Pandas/Lux', layout=Layout(top='5px', width='140px'), style=ButtonStyle())"
      ]
     },
     "metadata": {},
     "output_type": "display_data"
    },
    {
     "data": {
      "application/vnd.jupyter.widget-view+json": {
       "model_id": "78d39aa4bc364e86ae41407e2f921eb9",
       "version_major": 2,
       "version_minor": 0
      },
      "text/plain": [
       "Output()"
      ]
     },
     "metadata": {},
     "output_type": "display_data"
    },
    {
     "data": {
      "text/plain": []
     },
     "execution_count": 20,
     "metadata": {},
     "output_type": "execute_result"
    }
   ],
   "source": [
    "df"
   ]
  },
  {
   "cell_type": "code",
   "execution_count": 19,
   "id": "marked-rapid",
   "metadata": {},
   "outputs": [
    {
     "data": {
      "text/plain": [
       "{'Correlation': [<Vis  (x: col_35, y: col_46) mark: scatter, score: 0.03 >,\n",
       "  <Vis  (x: col_54, y: col_31) mark: scatter, score: 0.03 >,\n",
       "  <Vis  (x: col_47, y: col_41) mark: scatter, score: 0.03 >,\n",
       "  <Vis  (x: col_50, y: col_34) mark: scatter, score: 0.03 >,\n",
       "  <Vis  (x: col_60, y: col_41) mark: scatter, score: 0.03 >,\n",
       "  <Vis  (x: col_40, y: col_36) mark: scatter, score: 0.02 >,\n",
       "  <Vis  (x: col_37, y: col_31) mark: scatter, score: 0.02 >,\n",
       "  <Vis  (x: col_60, y: col_61) mark: scatter, score: 0.02 >,\n",
       "  <Vis  (x: col_50, y: col_48) mark: scatter, score: 0.02 >,\n",
       "  <Vis  (x: col_59, y: col_44) mark: scatter, score: 0.02 >,\n",
       "  <Vis  (x: col_42, y: col_56) mark: scatter, score: 0.02 >,\n",
       "  <Vis  (x: col_49, y: col_45) mark: scatter, score: 0.02 >,\n",
       "  <Vis  (x: col_45, y: col_39) mark: scatter, score: 0.02 >,\n",
       "  <Vis  (x: col_50, y: col_43) mark: scatter, score: 0.02 >,\n",
       "  <Vis  (x: col_32, y: col_44) mark: scatter, score: 0.02 >],\n",
       " 'Distribution': [<Vis  (x: BIN(col_47), y: COUNT(Record)) mark: histogram, score: 1.19 >,\n",
       "  <Vis  (x: BIN(col_38), y: COUNT(Record)) mark: histogram, score: 1.02 >,\n",
       "  <Vis  (x: BIN(col_58), y: COUNT(Record)) mark: histogram, score: 0.95 >,\n",
       "  <Vis  (x: BIN(col_55), y: COUNT(Record)) mark: histogram, score: 0.90 >,\n",
       "  <Vis  (x: BIN(col_39), y: COUNT(Record)) mark: histogram, score: 0.90 >,\n",
       "  <Vis  (x: BIN(col_50), y: COUNT(Record)) mark: histogram, score: 0.70 >,\n",
       "  <Vis  (x: BIN(col_44), y: COUNT(Record)) mark: histogram, score: 0.57 >,\n",
       "  <Vis  (x: BIN(col_33), y: COUNT(Record)) mark: histogram, score: 0.55 >,\n",
       "  <Vis  (x: BIN(col_49), y: COUNT(Record)) mark: histogram, score: 0.51 >,\n",
       "  <Vis  (x: BIN(col_54), y: COUNT(Record)) mark: histogram, score: 0.43 >,\n",
       "  <Vis  (x: BIN(col_40), y: COUNT(Record)) mark: histogram, score: 0.41 >,\n",
       "  <Vis  (x: BIN(col_56), y: COUNT(Record)) mark: histogram, score: 0.36 >,\n",
       "  <Vis  (x: BIN(col_57), y: COUNT(Record)) mark: histogram, score: 0.26 >,\n",
       "  <Vis  (x: BIN(col_35), y: COUNT(Record)) mark: histogram, score: 0.25 >,\n",
       "  <Vis  (x: BIN(col_51), y: COUNT(Record)) mark: histogram, score: 0.17 >,\n",
       "  <Vis  (x: BIN(col_60), y: COUNT(Record)) mark: histogram, score: 0.17 >,\n",
       "  <Vis  (x: BIN(col_32), y: COUNT(Record)) mark: histogram, score: 0.08 >,\n",
       "  <Vis  (x: BIN(col_53), y: COUNT(Record)) mark: histogram, score: 0.08 >,\n",
       "  <Vis  (x: BIN(col_43), y: COUNT(Record)) mark: histogram, score: 0.06 >,\n",
       "  <Vis  (x: BIN(col_37), y: COUNT(Record)) mark: histogram, score: 0.06 >,\n",
       "  <Vis  (x: BIN(col_31), y: COUNT(Record)) mark: histogram, score: 0.01 >,\n",
       "  <Vis  (x: BIN(col_59), y: COUNT(Record)) mark: histogram, score: 0.00 >,\n",
       "  <Vis  (x: BIN(col_42), y: COUNT(Record)) mark: histogram, score: -0.13 >,\n",
       "  <Vis  (x: BIN(col_45), y: COUNT(Record)) mark: histogram, score: -0.19 >,\n",
       "  <Vis  (x: BIN(col_61), y: COUNT(Record)) mark: histogram, score: -0.29 >,\n",
       "  <Vis  (x: BIN(col_34), y: COUNT(Record)) mark: histogram, score: -0.34 >,\n",
       "  <Vis  (x: BIN(col_48), y: COUNT(Record)) mark: histogram, score: -0.42 >,\n",
       "  <Vis  (x: BIN(col_36), y: COUNT(Record)) mark: histogram, score: -0.49 >,\n",
       "  <Vis  (x: BIN(col_52), y: COUNT(Record)) mark: histogram, score: -0.86 >,\n",
       "  <Vis  (x: BIN(col_41), y: COUNT(Record)) mark: histogram, score: -1.09 >,\n",
       "  <Vis  (x: BIN(col_46), y: COUNT(Record)) mark: histogram, score: -1.16 >],\n",
       " 'Occurrence': [<Vis  (x: COUNT(Record), y: col_66) mark: bar, score: 0.00 >,\n",
       "  <Vis  (x: COUNT(Record), y: col_67) mark: bar, score: 0.00 >,\n",
       "  <Vis  (x: COUNT(Record), y: col_68) mark: bar, score: 0.00 >,\n",
       "  <Vis  (x: COUNT(Record), y: col_69) mark: bar, score: 0.00 >,\n",
       "  <Vis  (x: COUNT(Record), y: col_70) mark: bar, score: 0.00 >,\n",
       "  <Vis  (x: COUNT(Record), y: col_71) mark: bar, score: 0.00 >,\n",
       "  <Vis  (x: COUNT(Record), y: col_72) mark: bar, score: 0.00 >,\n",
       "  <Vis  (x: COUNT(Record), y: col_73) mark: bar, score: 0.00 >,\n",
       "  <Vis  (x: COUNT(Record), y: col_74) mark: bar, score: 0.00 >,\n",
       "  <Vis  (x: COUNT(Record), y: col_75) mark: bar, score: 0.00 >,\n",
       "  <Vis  (x: COUNT(Record), y: col_76) mark: bar, score: 0.00 >,\n",
       "  <Vis  (x: COUNT(Record), y: col_77) mark: bar, score: 0.00 >,\n",
       "  <Vis  (x: COUNT(Record), y: col_78) mark: bar, score: 0.00 >,\n",
       "  <Vis  (x: COUNT(Record), y: col_79) mark: bar, score: 0.00 >],\n",
       " 'Temporal': [<Vis  (x: col_62, y: COUNT(Record)) mark: line, score: 0.00 >,\n",
       "  <Vis  (x: col_63, y: COUNT(Record)) mark: line, score: 0.00 >]}"
      ]
     },
     "execution_count": 19,
     "metadata": {},
     "output_type": "execute_result"
    }
   ],
   "source": [
    "df.recommendation"
   ]
  },
  {
   "cell_type": "code",
   "execution_count": 13,
   "id": "functioning-event",
   "metadata": {},
   "outputs": [
    {
     "name": "stdout",
     "output_type": "stream",
     "text": [
      "col_0             int64\n",
      "col_1             int64\n",
      "col_2             int64\n",
      "col_3           float64\n",
      "col_4           float64\n",
      "col_5           float64\n",
      "col_6    datetime64[ns]\n",
      "col_7    datetime64[ns]\n",
      "col_8            object\n",
      "col_9            object\n",
      "dtype: object\n"
     ]
    },
    {
     "data": {
      "text/plain": []
     },
     "execution_count": 13,
     "metadata": {},
     "output_type": "execute_result"
    }
   ],
   "source": [
    "df.dtypes"
   ]
  },
  {
   "cell_type": "code",
   "execution_count": 14,
   "id": "interracial-violence",
   "metadata": {},
   "outputs": [
    {
     "name": "stderr",
     "output_type": "stream",
     "text": [
      "/Users/dorislee/.virtualenvs/lux/lib/python3.7/site-packages/IPython/core/formatters.py:345: UserWarning:\n",
      "Unexpected error in rendering Lux widget and recommendations. Falling back to Pandas display.\n",
      "Please report the following issue on Github: https://github.com/lux-org/lux/issues \n",
      "\n",
      "/Users/dorislee/Desktop/Research/lux/lux/lux/core/frame.py:684: UserWarning:Traceback (most recent call last):\n",
      "  File \"/Users/dorislee/Desktop/Research/lux/lux/lux/core/frame.py\", line 646, in _repr_html_\n",
      "    self.maintain_recs()\n",
      "  File \"/Users/dorislee/Desktop/Research/lux/lux/lux/core/frame.py\", line 505, in maintain_recs\n",
      "    self._widget = rec_df.render_widget()\n",
      "  File \"/Users/dorislee/Desktop/Research/lux/lux/lux/core/frame.py\", line 733, in render_widget\n",
      "    widgetJSON = self.to_JSON(self._rec_info, input_current_vis=input_current_vis)\n",
      "  File \"/Users/dorislee/Desktop/Research/lux/lux/lux/core/frame.py\", line 772, in to_JSON\n",
      "    recCollection = LuxDataFrame.rec_to_JSON(rec_infolist)\n",
      "  File \"/Users/dorislee/Desktop/Research/lux/lux/lux/core/frame.py\", line 796, in rec_to_JSON\n",
      "    chart = vis.to_code(language=lux.config.plotting_backend, prettyOutput=False)\n",
      "  File \"/Users/dorislee/Desktop/Research/lux/lux/lux/vis/Vis.py\", line 307, in to_code\n",
      "    return self.to_VegaLite(**kwargs)\n",
      "  File \"/Users/dorislee/Desktop/Research/lux/lux/lux/vis/Vis.py\", line 283, in to_VegaLite\n",
      "    self._code = renderer.create_vis(self)\n",
      "  File \"/Users/dorislee/Desktop/Research/lux/lux/lux/vislib/altair/AltairRenderer.py\", line 57, in create_vis\n",
      "    PandasExecutor.execute_2D_binning(vis)\n",
      "  File \"/Users/dorislee/Desktop/Research/lux/lux/lux/executor/PandasExecutor.py\", line 360, in execute_2D_binning\n",
      "    vis._vis_data[\"xBin\"] = pd.cut(vis._vis_data[x_attr], bins=lux.config.heatmap_bin_size)\n",
      "  File \"/Users/dorislee/.virtualenvs/lux/lib/python3.7/site-packages/pandas/core/reshape/tile.py\", line 238, in cut\n",
      "    rng = (nanops.nanmin(x), nanops.nanmax(x))\n",
      "  File \"/Users/dorislee/.virtualenvs/lux/lib/python3.7/site-packages/pandas/core/nanops.py\", line 133, in f\n",
      "    result = alt(values, axis=axis, skipna=skipna, **kwds)\n",
      "  File \"/Users/dorislee/.virtualenvs/lux/lib/python3.7/site-packages/pandas/core/nanops.py\", line 392, in new_func\n",
      "    result = func(values, axis=axis, skipna=skipna, mask=mask, **kwargs)\n",
      "  File \"/Users/dorislee/.virtualenvs/lux/lib/python3.7/site-packages/pandas/core/nanops.py\", line 975, in reduction\n",
      "    result = getattr(values, meth)(axis)\n",
      "TypeError: min() takes 1 positional argument but 2 were given\n",
      "\n"
     ]
    },
    {
     "data": {
      "text/html": [
       "<div>\n",
       "<style scoped>\n",
       "    .dataframe tbody tr th:only-of-type {\n",
       "        vertical-align: middle;\n",
       "    }\n",
       "\n",
       "    .dataframe tbody tr th {\n",
       "        vertical-align: top;\n",
       "    }\n",
       "\n",
       "    .dataframe thead th {\n",
       "        text-align: right;\n",
       "    }\n",
       "</style>\n",
       "<table border=\"1\" class=\"dataframe\">\n",
       "  <thead>\n",
       "    <tr style=\"text-align: right;\">\n",
       "      <th></th>\n",
       "      <th>col_0</th>\n",
       "      <th>col_1</th>\n",
       "      <th>col_2</th>\n",
       "      <th>col_3</th>\n",
       "      <th>col_4</th>\n",
       "      <th>col_5</th>\n",
       "      <th>col_6</th>\n",
       "      <th>col_7</th>\n",
       "      <th>col_8</th>\n",
       "      <th>col_9</th>\n",
       "    </tr>\n",
       "  </thead>\n",
       "  <tbody>\n",
       "    <tr>\n",
       "      <th>0</th>\n",
       "      <td>83702</td>\n",
       "      <td>75779</td>\n",
       "      <td>48806</td>\n",
       "      <td>0.80718</td>\n",
       "      <td>0.336739</td>\n",
       "      <td>0.870545</td>\n",
       "      <td>1938-03-09</td>\n",
       "      <td>1958-11-09</td>\n",
       "      <td>Aaden</td>\n",
       "      <td>Matilda</td>\n",
       "    </tr>\n",
       "    <tr>\n",
       "      <th>1</th>\n",
       "      <td>63573</td>\n",
       "      <td>49790</td>\n",
       "      <td>9869</td>\n",
       "      <td>0.477702</td>\n",
       "      <td>0.273754</td>\n",
       "      <td>0.849214</td>\n",
       "      <td>1951-03-25</td>\n",
       "      <td>1986-04-12</td>\n",
       "      <td>Aaden</td>\n",
       "      <td>Janel</td>\n",
       "    </tr>\n",
       "    <tr>\n",
       "      <th>2</th>\n",
       "      <td>88870</td>\n",
       "      <td>46575</td>\n",
       "      <td>48337</td>\n",
       "      <td>0.85022</td>\n",
       "      <td>0.922943</td>\n",
       "      <td>0.202034</td>\n",
       "      <td>1916-06-08</td>\n",
       "      <td>2015-06-13</td>\n",
       "      <td>Aaden</td>\n",
       "      <td>Gaige</td>\n",
       "    </tr>\n",
       "    <tr>\n",
       "      <th>3</th>\n",
       "      <td>61410</td>\n",
       "      <td>49053</td>\n",
       "      <td>92441</td>\n",
       "      <td>0.06419</td>\n",
       "      <td>0.245577</td>\n",
       "      <td>0.08209</td>\n",
       "      <td>1910-07-27</td>\n",
       "      <td>1944-01-24</td>\n",
       "      <td>Aaden</td>\n",
       "      <td>Clyda</td>\n",
       "    </tr>\n",
       "    <tr>\n",
       "      <th>4</th>\n",
       "      <td>42472</td>\n",
       "      <td>88905</td>\n",
       "      <td>94597</td>\n",
       "      <td>0.316113</td>\n",
       "      <td>0.968076</td>\n",
       "      <td>0.074695</td>\n",
       "      <td>2003-12-26</td>\n",
       "      <td>2014-04-15</td>\n",
       "      <td>Aaden</td>\n",
       "      <td>Saige</td>\n",
       "    </tr>\n",
       "    <tr>\n",
       "      <th>...</th>\n",
       "      <td>...</td>\n",
       "      <td>...</td>\n",
       "      <td>...</td>\n",
       "      <td>...</td>\n",
       "      <td>...</td>\n",
       "      <td>...</td>\n",
       "      <td>...</td>\n",
       "      <td>...</td>\n",
       "      <td>...</td>\n",
       "      <td>...</td>\n",
       "    </tr>\n",
       "    <tr>\n",
       "      <th>9995</th>\n",
       "      <td>11099</td>\n",
       "      <td>82124</td>\n",
       "      <td>82149</td>\n",
       "      <td>0.790697</td>\n",
       "      <td>0.178323</td>\n",
       "      <td>0.086164</td>\n",
       "      <td>2004-12-09</td>\n",
       "      <td>1900-11-23</td>\n",
       "      <td>Aaden</td>\n",
       "      <td>Erna</td>\n",
       "    </tr>\n",
       "    <tr>\n",
       "      <th>9996</th>\n",
       "      <td>14044</td>\n",
       "      <td>45352</td>\n",
       "      <td>9233</td>\n",
       "      <td>0.380528</td>\n",
       "      <td>0.252087</td>\n",
       "      <td>0.697102</td>\n",
       "      <td>2015-05-14</td>\n",
       "      <td>1939-07-24</td>\n",
       "      <td>Aaden</td>\n",
       "      <td>Bonita</td>\n",
       "    </tr>\n",
       "    <tr>\n",
       "      <th>9997</th>\n",
       "      <td>16554</td>\n",
       "      <td>22060</td>\n",
       "      <td>30240</td>\n",
       "      <td>0.187233</td>\n",
       "      <td>0.967493</td>\n",
       "      <td>0.346705</td>\n",
       "      <td>2007-07-16</td>\n",
       "      <td>1970-01-22</td>\n",
       "      <td>Aaden</td>\n",
       "      <td>Whitley</td>\n",
       "    </tr>\n",
       "    <tr>\n",
       "      <th>9998</th>\n",
       "      <td>50922</td>\n",
       "      <td>18491</td>\n",
       "      <td>49200</td>\n",
       "      <td>0.933023</td>\n",
       "      <td>0.751588</td>\n",
       "      <td>0.215439</td>\n",
       "      <td>2003-09-05</td>\n",
       "      <td>1956-10-16</td>\n",
       "      <td>Aaden</td>\n",
       "      <td>Cora</td>\n",
       "    </tr>\n",
       "    <tr>\n",
       "      <th>9999</th>\n",
       "      <td>98476</td>\n",
       "      <td>79263</td>\n",
       "      <td>14894</td>\n",
       "      <td>0.276543</td>\n",
       "      <td>0.679612</td>\n",
       "      <td>0.350529</td>\n",
       "      <td>1914-07-08</td>\n",
       "      <td>1936-08-23</td>\n",
       "      <td>Aaden</td>\n",
       "      <td>Darren</td>\n",
       "    </tr>\n",
       "  </tbody>\n",
       "</table>\n",
       "<p>10000 rows × 10 columns</p>\n",
       "</div>"
      ],
      "text/plain": [
       "      col_0  col_1  col_2     col_3     col_4     col_5      col_6      col_7  \\\n",
       "0     83702  75779  48806   0.80718  0.336739  0.870545 1938-03-09 1958-11-09   \n",
       "1     63573  49790   9869  0.477702  0.273754  0.849214 1951-03-25 1986-04-12   \n",
       "2     88870  46575  48337   0.85022  0.922943  0.202034 1916-06-08 2015-06-13   \n",
       "3     61410  49053  92441   0.06419  0.245577   0.08209 1910-07-27 1944-01-24   \n",
       "4     42472  88905  94597  0.316113  0.968076  0.074695 2003-12-26 2014-04-15   \n",
       "...     ...    ...    ...       ...       ...       ...        ...        ...   \n",
       "9995  11099  82124  82149  0.790697  0.178323  0.086164 2004-12-09 1900-11-23   \n",
       "9996  14044  45352   9233  0.380528  0.252087  0.697102 2015-05-14 1939-07-24   \n",
       "9997  16554  22060  30240  0.187233  0.967493  0.346705 2007-07-16 1970-01-22   \n",
       "9998  50922  18491  49200  0.933023  0.751588  0.215439 2003-09-05 1956-10-16   \n",
       "9999  98476  79263  14894  0.276543  0.679612  0.350529 1914-07-08 1936-08-23   \n",
       "\n",
       "      col_8    col_9  \n",
       "0     Aaden  Matilda  \n",
       "1     Aaden    Janel  \n",
       "2     Aaden    Gaige  \n",
       "3     Aaden    Clyda  \n",
       "4     Aaden    Saige  \n",
       "...     ...      ...  \n",
       "9995  Aaden     Erna  \n",
       "9996  Aaden   Bonita  \n",
       "9997  Aaden  Whitley  \n",
       "9998  Aaden     Cora  \n",
       "9999  Aaden   Darren  \n",
       "\n",
       "[10000 rows x 10 columns]"
      ]
     },
     "metadata": {},
     "output_type": "display_data"
    },
    {
     "data": {
      "text/plain": []
     },
     "execution_count": 14,
     "metadata": {},
     "output_type": "execute_result"
    }
   ],
   "source": [
    "df.convert_dtypes()"
   ]
  },
  {
   "cell_type": "code",
   "execution_count": null,
   "id": "talented-visiting",
   "metadata": {},
   "outputs": [],
   "source": []
  },
  {
   "cell_type": "code",
   "execution_count": null,
   "id": "cleared-chassis",
   "metadata": {},
   "outputs": [],
   "source": []
  }
 ],
 "metadata": {
  "kernelspec": {
   "display_name": "Python 3",
   "language": "python",
   "name": "python3"
  },
  "language_info": {
   "codemirror_mode": {
    "name": "ipython",
    "version": 3
   },
   "file_extension": ".py",
   "mimetype": "text/x-python",
   "name": "python",
   "nbconvert_exporter": "python",
   "pygments_lexer": "ipython3",
   "version": "3.7.7"
  }
 },
 "nbformat": 4,
 "nbformat_minor": 5
}
