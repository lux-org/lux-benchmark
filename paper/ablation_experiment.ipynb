{
 "cells": [
  {
   "cell_type": "code",
   "execution_count": 3,
   "metadata": {},
   "outputs": [],
   "source": [
    "from matplotlib.pylab import plt\n",
    "import pandas as pd\n",
    "import altair as alt"
   ]
  },
  {
   "cell_type": "markdown",
   "metadata": {},
   "source": [
    "# Early Pruning"
   ]
  },
  {
   "cell_type": "code",
   "execution_count": 3,
   "metadata": {},
   "outputs": [
    {
     "name": "stdout",
     "output_type": "stream",
     "text": [
      "pct improvement:\n",
      "     t_recs    t_meta\n",
      "1 -0.712649 -0.098283\n",
      "3 -0.533389 -0.037660\n",
      "5 -0.369202 -0.018510\n",
      "7 -0.221670  0.009976\n",
      "9 -0.188511 -0.019757\n"
     ]
    },
    {
     "data": {
      "text/html": [
       "\n",
       "<div id=\"altair-viz-d09f8601ffbe4e24bf10f9a25b296146\"></div>\n",
       "<script type=\"text/javascript\">\n",
       "  (function(spec, embedOpt){\n",
       "    let outputDiv = document.currentScript.previousElementSibling;\n",
       "    if (outputDiv.id !== \"altair-viz-d09f8601ffbe4e24bf10f9a25b296146\") {\n",
       "      outputDiv = document.getElementById(\"altair-viz-d09f8601ffbe4e24bf10f9a25b296146\");\n",
       "    }\n",
       "    const paths = {\n",
       "      \"vega\": \"https://cdn.jsdelivr.net/npm//vega@5?noext\",\n",
       "      \"vega-lib\": \"https://cdn.jsdelivr.net/npm//vega-lib?noext\",\n",
       "      \"vega-lite\": \"https://cdn.jsdelivr.net/npm//vega-lite@4.8.1?noext\",\n",
       "      \"vega-embed\": \"https://cdn.jsdelivr.net/npm//vega-embed@6?noext\",\n",
       "    };\n",
       "\n",
       "    function loadScript(lib) {\n",
       "      return new Promise(function(resolve, reject) {\n",
       "        var s = document.createElement('script');\n",
       "        s.src = paths[lib];\n",
       "        s.async = true;\n",
       "        s.onload = () => resolve(paths[lib]);\n",
       "        s.onerror = () => reject(`Error loading script: ${paths[lib]}`);\n",
       "        document.getElementsByTagName(\"head\")[0].appendChild(s);\n",
       "      });\n",
       "    }\n",
       "\n",
       "    function showError(err) {\n",
       "      outputDiv.innerHTML = `<div class=\"error\" style=\"color:red;\">${err}</div>`;\n",
       "      throw err;\n",
       "    }\n",
       "\n",
       "    function displayChart(vegaEmbed) {\n",
       "      vegaEmbed(outputDiv, spec, embedOpt)\n",
       "        .catch(err => showError(`Javascript Error: ${err.message}<br>This usually means there's a typo in your chart specification. See the javascript console for the full traceback.`));\n",
       "    }\n",
       "\n",
       "    if(typeof define === \"function\" && define.amd) {\n",
       "      requirejs.config({paths});\n",
       "      require([\"vega-embed\"], displayChart, err => showError(`Error loading script: ${err.message}`));\n",
       "    } else if (typeof vegaEmbed === \"function\") {\n",
       "      displayChart(vegaEmbed);\n",
       "    } else {\n",
       "      loadScript(\"vega\")\n",
       "        .then(() => loadScript(\"vega-lite\"))\n",
       "        .then(() => loadScript(\"vega-embed\"))\n",
       "        .catch(showError)\n",
       "        .then(() => displayChart(vegaEmbed));\n",
       "    }\n",
       "  })({\"config\": {\"view\": {\"continuousWidth\": 400, \"continuousHeight\": 300}}, \"data\": {\"name\": \"data-ab1b6fd19927f7936f1cf5df31c5cf00\"}, \"mark\": \"bar\", \"encoding\": {\"color\": {\"type\": \"nominal\", \"field\": \"early_pruning\"}, \"column\": {\"type\": \"nominal\", \"field\": \"nPts\"}, \"x\": {\"type\": \"nominal\", \"field\": \"early_pruning\"}, \"y\": {\"type\": \"quantitative\", \"field\": \"t_recs\"}}, \"resolve\": {\"scale\": {\"x\": \"independent\"}}, \"$schema\": \"https://vega.github.io/schema/vega-lite/v4.8.1.json\", \"datasets\": {\"data-ab1b6fd19927f7936f1cf5df31c5cf00\": [{\"nPts\": 10000, \"early_pruning\": false, \"t_meta\": 0.081572315999999, \"t_recs\": 1.2741025109999988}, {\"nPts\": 10000, \"early_pruning\": true, \"t_meta\": 0.0735551530000009, \"t_recs\": 0.3661145330000011}, {\"nPts\": 58861, \"early_pruning\": false, \"t_meta\": 0.2941805039999963, \"t_recs\": 3.042024952999995}, {\"nPts\": 58861, \"early_pruning\": true, \"t_meta\": 0.2831018020000044, \"t_recs\": 1.4194408170000088}, {\"nPts\": 346427, \"early_pruning\": false, \"t_meta\": 1.699733131000002, \"t_recs\": 10.300928035999988}, {\"nPts\": 346427, \"early_pruning\": true, \"t_meta\": 1.668271433000001, \"t_recs\": 6.497802917999991}, {\"nPts\": 2038904, \"early_pruning\": false, \"t_meta\": 9.141622114, \"t_recs\": 42.33807268999999}, {\"nPts\": 2038904, \"early_pruning\": true, \"t_meta\": 9.23281833500002, \"t_recs\": 32.9529976}, {\"nPts\": 12000000, \"early_pruning\": false, \"t_meta\": 53.40852189200001, \"t_recs\": 228.30256560900008}, {\"nPts\": 12000000, \"early_pruning\": true, \"t_meta\": 52.35333175899996, \"t_recs\": 185.26491012500003}]}}, {\"mode\": \"vega-lite\"});\n",
       "</script>"
      ],
      "text/plain": [
       "alt.Chart(...)"
      ]
     },
     "execution_count": 3,
     "metadata": {},
     "output_type": "execute_result"
    }
   ],
   "source": [
    "dataset = \"airbnb\"\n",
    "control = \"early_pruning\"\n",
    "df = pd.read_csv(f\"../result/{control}_{dataset}_time.csv\")\n",
    "\n",
    "print(\"pct improvement:\")\n",
    "print(df.groupby([\"nPts\"])[[\"t_recs\",\"t_meta\"]].pct_change().dropna())\n",
    "alt.Chart(df).mark_bar().encode(\n",
    "    x = f\"{control}:N\",\n",
    "    y = \"t_recs\",\n",
    "    column= \"nPts:N\",\n",
    "    color = f\"{control}:N\"\n",
    ").resolve_scale(x='independent')\n"
   ]
  },
  {
   "cell_type": "code",
   "execution_count": 4,
   "metadata": {},
   "outputs": [
    {
     "name": "stdout",
     "output_type": "stream",
     "text": [
      "pct improvement:\n",
      "     t_recs    t_meta\n",
      "1 -0.440458 -0.318607\n",
      "3 -0.395999 -0.023931\n",
      "5 -0.549316  0.080599\n",
      "7 -0.732049 -0.018881\n",
      "9 -0.743567 -0.011481\n"
     ]
    },
    {
     "data": {
      "text/html": [
       "\n",
       "<div id=\"altair-viz-1c4cb56bdcc94944b28b87f47fd5a742\"></div>\n",
       "<script type=\"text/javascript\">\n",
       "  (function(spec, embedOpt){\n",
       "    let outputDiv = document.currentScript.previousElementSibling;\n",
       "    if (outputDiv.id !== \"altair-viz-1c4cb56bdcc94944b28b87f47fd5a742\") {\n",
       "      outputDiv = document.getElementById(\"altair-viz-1c4cb56bdcc94944b28b87f47fd5a742\");\n",
       "    }\n",
       "    const paths = {\n",
       "      \"vega\": \"https://cdn.jsdelivr.net/npm//vega@5?noext\",\n",
       "      \"vega-lib\": \"https://cdn.jsdelivr.net/npm//vega-lib?noext\",\n",
       "      \"vega-lite\": \"https://cdn.jsdelivr.net/npm//vega-lite@4.8.1?noext\",\n",
       "      \"vega-embed\": \"https://cdn.jsdelivr.net/npm//vega-embed@6?noext\",\n",
       "    };\n",
       "\n",
       "    function loadScript(lib) {\n",
       "      return new Promise(function(resolve, reject) {\n",
       "        var s = document.createElement('script');\n",
       "        s.src = paths[lib];\n",
       "        s.async = true;\n",
       "        s.onload = () => resolve(paths[lib]);\n",
       "        s.onerror = () => reject(`Error loading script: ${paths[lib]}`);\n",
       "        document.getElementsByTagName(\"head\")[0].appendChild(s);\n",
       "      });\n",
       "    }\n",
       "\n",
       "    function showError(err) {\n",
       "      outputDiv.innerHTML = `<div class=\"error\" style=\"color:red;\">${err}</div>`;\n",
       "      throw err;\n",
       "    }\n",
       "\n",
       "    function displayChart(vegaEmbed) {\n",
       "      vegaEmbed(outputDiv, spec, embedOpt)\n",
       "        .catch(err => showError(`Javascript Error: ${err.message}<br>This usually means there's a typo in your chart specification. See the javascript console for the full traceback.`));\n",
       "    }\n",
       "\n",
       "    if(typeof define === \"function\" && define.amd) {\n",
       "      requirejs.config({paths});\n",
       "      require([\"vega-embed\"], displayChart, err => showError(`Error loading script: ${err.message}`));\n",
       "    } else if (typeof vegaEmbed === \"function\") {\n",
       "      displayChart(vegaEmbed);\n",
       "    } else {\n",
       "      loadScript(\"vega\")\n",
       "        .then(() => loadScript(\"vega-lite\"))\n",
       "        .then(() => loadScript(\"vega-embed\"))\n",
       "        .catch(showError)\n",
       "        .then(() => displayChart(vegaEmbed));\n",
       "    }\n",
       "  })({\"config\": {\"view\": {\"continuousWidth\": 400, \"continuousHeight\": 300}}, \"data\": {\"name\": \"data-58cdbea59458a00a69ffb94c352cb825\"}, \"mark\": \"bar\", \"encoding\": {\"color\": {\"type\": \"nominal\", \"field\": \"lazy_maintain\"}, \"column\": {\"type\": \"nominal\", \"field\": \"nPts\"}, \"x\": {\"type\": \"nominal\", \"field\": \"lazy_maintain\"}, \"y\": {\"type\": \"quantitative\", \"field\": \"t_recs\"}}, \"resolve\": {\"scale\": {\"x\": \"independent\"}}, \"$schema\": \"https://vega.github.io/schema/vega-lite/v4.8.1.json\", \"datasets\": {\"data-58cdbea59458a00a69ffb94c352cb825\": [{\"nPts\": 10000, \"lazy_maintain\": false, \"t_meta\": 0.110219856999997, \"t_recs\": 1.493571945999996}, {\"nPts\": 10000, \"lazy_maintain\": true, \"t_meta\": 0.0751030360000015, \"t_recs\": 0.8357162089999974}, {\"nPts\": 58861, \"lazy_maintain\": false, \"t_meta\": 0.3044334109999909, \"t_recs\": 3.606093344000002}, {\"nPts\": 58861, \"lazy_maintain\": true, \"t_meta\": 0.2971480639999981, \"t_recs\": 2.178084865999992}, {\"nPts\": 346427, \"lazy_maintain\": false, \"t_meta\": 1.630465061999999, \"t_recs\": 10.17676294799999}, {\"nPts\": 346427, \"lazy_maintain\": true, \"t_meta\": 1.761878883999998, \"t_recs\": 4.586504122000008}, {\"nPts\": 2038904, \"lazy_maintain\": false, \"t_meta\": 10.306625851000009, \"t_recs\": 48.54198191099999}, {\"nPts\": 2038904, \"lazy_maintain\": true, \"t_meta\": 10.11202455700004, \"t_recs\": 13.00687155700001}, {\"nPts\": 12000000, \"lazy_maintain\": false, \"t_meta\": 55.45354778199999, \"t_recs\": 239.440655434}, {\"nPts\": 12000000, \"lazy_maintain\": true, \"t_meta\": 54.81690611700003, \"t_recs\": 61.40053907099991}]}}, {\"mode\": \"vega-lite\"});\n",
       "</script>"
      ],
      "text/plain": [
       "alt.Chart(...)"
      ]
     },
     "execution_count": 4,
     "metadata": {},
     "output_type": "execute_result"
    }
   ],
   "source": [
    "dataset = \"airbnb\"\n",
    "control = \"lazy_maintain\"\n",
    "df = pd.read_csv(f\"../result/{control}_{dataset}_time.csv\")\n",
    "print(\"pct improvement:\")\n",
    "print(df.groupby([\"nPts\"])[[\"t_recs\",\"t_meta\"]].pct_change().dropna())\n",
    "\n",
    "alt.Chart(df).mark_bar().encode(\n",
    "    x = f\"{control}:N\",\n",
    "    y = \"t_recs\",\n",
    "    column= \"nPts:N\",\n",
    "    color = f\"{control}:N\"\n",
    ").resolve_scale(x='independent')"
   ]
  },
  {
   "cell_type": "code",
   "execution_count": 8,
   "metadata": {},
   "outputs": [
    {
     "data": {
      "text/html": [
       "\n",
       "<div id=\"altair-viz-8fa8d081f640499d81425ca335fbec73\"></div>\n",
       "<script type=\"text/javascript\">\n",
       "  (function(spec, embedOpt){\n",
       "    let outputDiv = document.currentScript.previousElementSibling;\n",
       "    if (outputDiv.id !== \"altair-viz-8fa8d081f640499d81425ca335fbec73\") {\n",
       "      outputDiv = document.getElementById(\"altair-viz-8fa8d081f640499d81425ca335fbec73\");\n",
       "    }\n",
       "    const paths = {\n",
       "      \"vega\": \"https://cdn.jsdelivr.net/npm//vega@5?noext\",\n",
       "      \"vega-lib\": \"https://cdn.jsdelivr.net/npm//vega-lib?noext\",\n",
       "      \"vega-lite\": \"https://cdn.jsdelivr.net/npm//vega-lite@4.8.1?noext\",\n",
       "      \"vega-embed\": \"https://cdn.jsdelivr.net/npm//vega-embed@6?noext\",\n",
       "    };\n",
       "\n",
       "    function loadScript(lib) {\n",
       "      return new Promise(function(resolve, reject) {\n",
       "        var s = document.createElement('script');\n",
       "        s.src = paths[lib];\n",
       "        s.async = true;\n",
       "        s.onload = () => resolve(paths[lib]);\n",
       "        s.onerror = () => reject(`Error loading script: ${paths[lib]}`);\n",
       "        document.getElementsByTagName(\"head\")[0].appendChild(s);\n",
       "      });\n",
       "    }\n",
       "\n",
       "    function showError(err) {\n",
       "      outputDiv.innerHTML = `<div class=\"error\" style=\"color:red;\">${err}</div>`;\n",
       "      throw err;\n",
       "    }\n",
       "\n",
       "    function displayChart(vegaEmbed) {\n",
       "      vegaEmbed(outputDiv, spec, embedOpt)\n",
       "        .catch(err => showError(`Javascript Error: ${err.message}<br>This usually means there's a typo in your chart specification. See the javascript console for the full traceback.`));\n",
       "    }\n",
       "\n",
       "    if(typeof define === \"function\" && define.amd) {\n",
       "      requirejs.config({paths});\n",
       "      require([\"vega-embed\"], displayChart, err => showError(`Error loading script: ${err.message}`));\n",
       "    } else if (typeof vegaEmbed === \"function\") {\n",
       "      displayChart(vegaEmbed);\n",
       "    } else {\n",
       "      loadScript(\"vega\")\n",
       "        .then(() => loadScript(\"vega-lite\"))\n",
       "        .then(() => loadScript(\"vega-embed\"))\n",
       "        .catch(showError)\n",
       "        .then(() => displayChart(vegaEmbed));\n",
       "    }\n",
       "  })({\"config\": {\"view\": {\"continuousWidth\": 400, \"continuousHeight\": 300}}, \"data\": {\"name\": \"data-d8639e0829143cecf02cbed88ee627e5\"}, \"mark\": \"bar\", \"encoding\": {\"color\": {\"type\": \"nominal\", \"field\": \"streaming\"}, \"column\": {\"type\": \"nominal\", \"field\": \"nPts\"}, \"x\": {\"type\": \"nominal\", \"field\": \"streaming\"}, \"y\": {\"type\": \"quantitative\", \"field\": \"t_recs\"}}, \"resolve\": {\"scale\": {\"x\": \"independent\"}}, \"$schema\": \"https://vega.github.io/schema/vega-lite/v4.8.1.json\", \"datasets\": {\"data-d8639e0829143cecf02cbed88ee627e5\": [{\"nPts\": 10000, \"streaming\": false, \"t_meta\": 0.0716072639999971, \"t_recs\": 1.3003320950000017}, {\"nPts\": 10000, \"streaming\": true, \"t_meta\": 0.0740167789999972, \"t_recs\": 0.3655496410000012}, {\"nPts\": 58861, \"streaming\": false, \"t_meta\": 0.3287809739999972, \"t_recs\": 3.2000713070000018}, {\"nPts\": 58861, \"streaming\": true, \"t_meta\": 0.2555179610000095, \"t_recs\": 1.3066806159999942}, {\"nPts\": 346427, \"streaming\": false, \"t_meta\": 1.759778475999994, \"t_recs\": 10.422919069999992}, {\"nPts\": 346427, \"streaming\": true, \"t_meta\": 1.6560555920000013, \"t_recs\": 7.0069029}, {\"nPts\": 2038904, \"streaming\": false, \"t_meta\": 8.946958946000024, \"t_recs\": 41.30850757900001}, {\"nPts\": 2038904, \"streaming\": true, \"t_meta\": 8.867854812000019, \"t_recs\": 35.70875950100003}, {\"nPts\": 12000000, \"streaming\": false, \"t_meta\": 50.88767680800004, \"t_recs\": 219.528592152}, {\"nPts\": 12000000, \"streaming\": true, \"t_meta\": 50.95307741900001, \"t_recs\": 207.79941675400005}]}}, {\"mode\": \"vega-lite\"});\n",
       "</script>"
      ],
      "text/plain": [
       "alt.Chart(...)"
      ]
     },
     "execution_count": 8,
     "metadata": {},
     "output_type": "execute_result"
    }
   ],
   "source": [
    "dataset = \"airbnb\"\n",
    "control = \"streaming\"\n",
    "df = pd.read_csv(f\"../result/{control}_{dataset}_time.csv\")\n",
    "\n",
    "alt.Chart(df).mark_bar().encode(\n",
    "    x = f\"{control}:N\",\n",
    "    y = \"t_recs\",\n",
    "    column= \"nPts:N\",\n",
    "    color = f\"{control}:N\"\n",
    ").resolve_scale(x='independent')"
   ]
  },
  {
   "cell_type": "code",
   "execution_count": 1,
   "metadata": {},
   "outputs": [
    {
     "name": "stdout",
     "output_type": "stream",
     "text": [
      "/Users/dorislee/Desktop/Research/lux/lux-benchmark\n"
     ]
    }
   ],
   "source": [
    "cd .."
   ]
  },
  {
   "cell_type": "code",
   "execution_count": 2,
   "metadata": {},
   "outputs": [],
   "source": [
    "import sys, os\n",
    "sys.path.append(os.path.abspath(\".\"))\n",
    "from utils.rank_utils import compute_prf_between_vislists"
   ]
  },
  {
   "cell_type": "code",
   "execution_count": 3,
   "metadata": {},
   "outputs": [],
   "source": [
    "from glob import glob"
   ]
  },
  {
   "cell_type": "code",
   "execution_count": 9,
   "metadata": {},
   "outputs": [],
   "source": [
    "import numpy as np\n",
    "import pickle as pkl\n",
    "import pandas as pd"
   ]
  },
  {
   "cell_type": "code",
   "execution_count": 34,
   "metadata": {},
   "outputs": [],
   "source": [
    "action_lst = [\"Occurrence\",\"Filter\",\"Correlation\",\"Distribution\",\"Enhance\"]\n",
    "trial = []\n",
    "trial_range = np.linspace(0.05,0.95,19)\n",
    "N_repeat = 20\n",
    "for action in action_lst :\n",
    "    map1 = pkl.load(open(f\"tmp/communities_gt_{action}.pkl\",'rb'))\n",
    "    for nfrac in trial_range:\n",
    "        seed_lst = np.arange(N_repeat)\n",
    "        for seed in seed_lst: \n",
    "            map2 = pkl.load(open(f\"tmp/communities_nfrac{nfrac:.2f}_{action}_{seed}.pkl\",'rb'))\n",
    "            prf = compute_prf_between_vislists(map1,map2)\n",
    "            trial.append([nfrac, action, prf[0], prf[1], prf[2]])\n",
    "    # Inserting endpoints \n",
    "    trial.append([0,action, 0,0,0])\n",
    "    trial.append([1,action, 1,1,1])\n",
    "trial_df = pd.DataFrame(\n",
    "    trial,\n",
    "    columns=[\"nfrac\", \"action\", \"Precision\",\"Recall\",\"FScore\"],\n",
    ")\n",
    "# trial_df.to_csv(f\"result/{experiment_name}.csv\", index=None)"
   ]
  },
  {
   "cell_type": "code",
   "execution_count": 38,
   "metadata": {},
   "outputs": [
    {
     "data": {
      "text/html": [
       "\n",
       "<div id=\"altair-viz-2cff8cf8819e4e0f906ee20dde24813b\"></div>\n",
       "<script type=\"text/javascript\">\n",
       "  (function(spec, embedOpt){\n",
       "    let outputDiv = document.currentScript.previousElementSibling;\n",
       "    if (outputDiv.id !== \"altair-viz-2cff8cf8819e4e0f906ee20dde24813b\") {\n",
       "      outputDiv = document.getElementById(\"altair-viz-2cff8cf8819e4e0f906ee20dde24813b\");\n",
       "    }\n",
       "    const paths = {\n",
       "      \"vega\": \"https://cdn.jsdelivr.net/npm//vega@5?noext\",\n",
       "      \"vega-lib\": \"https://cdn.jsdelivr.net/npm//vega-lib?noext\",\n",
       "      \"vega-lite\": \"https://cdn.jsdelivr.net/npm//vega-lite@4.8.1?noext\",\n",
       "      \"vega-embed\": \"https://cdn.jsdelivr.net/npm//vega-embed@6?noext\",\n",
       "    };\n",
       "\n",
       "    function loadScript(lib) {\n",
       "      return new Promise(function(resolve, reject) {\n",
       "        var s = document.createElement('script');\n",
       "        s.src = paths[lib];\n",
       "        s.async = true;\n",
       "        s.onload = () => resolve(paths[lib]);\n",
       "        s.onerror = () => reject(`Error loading script: ${paths[lib]}`);\n",
       "        document.getElementsByTagName(\"head\")[0].appendChild(s);\n",
       "      });\n",
       "    }\n",
       "\n",
       "    function showError(err) {\n",
       "      outputDiv.innerHTML = `<div class=\"error\" style=\"color:red;\">${err}</div>`;\n",
       "      throw err;\n",
       "    }\n",
       "\n",
       "    function displayChart(vegaEmbed) {\n",
       "      vegaEmbed(outputDiv, spec, embedOpt)\n",
       "        .catch(err => showError(`Javascript Error: ${err.message}<br>This usually means there's a typo in your chart specification. See the javascript console for the full traceback.`));\n",
       "    }\n",
       "\n",
       "    if(typeof define === \"function\" && define.amd) {\n",
       "      requirejs.config({paths});\n",
       "      require([\"vega-embed\"], displayChart, err => showError(`Error loading script: ${err.message}`));\n",
       "    } else if (typeof vegaEmbed === \"function\") {\n",
       "      displayChart(vegaEmbed);\n",
       "    } else {\n",
       "      loadScript(\"vega\")\n",
       "        .then(() => loadScript(\"vega-lite\"))\n",
       "        .then(() => loadScript(\"vega-embed\"))\n",
       "        .catch(showError)\n",
       "        .then(() => displayChart(vegaEmbed));\n",
       "    }\n",
       "  })({\"config\": {\"view\": {\"continuousWidth\": 400, \"continuousHeight\": 300}}, \"data\": {\"name\": \"data-56632fb4a23f2765c6ad162aa36a9bea\"}, \"mark\": \"line\", \"encoding\": {\"color\": {\"type\": \"nominal\", \"field\": \"action\"}, \"x\": {\"type\": \"quantitative\", \"field\": \"nfrac\", \"title\": \"Fraction of dataset sampled\"}, \"y\": {\"type\": \"quantitative\", \"field\": \"Recall\", \"scale\": {\"domain\": [0.88, 1.01]}}}, \"selection\": {\"selector020\": {\"type\": \"interval\", \"bind\": \"scales\", \"encodings\": [\"x\", \"y\"]}}, \"title\": \"Communities\", \"$schema\": \"https://vega.github.io/schema/vega-lite/v4.8.1.json\", \"datasets\": {\"data-56632fb4a23f2765c6ad162aa36a9bea\": [{\"nfrac\": 0.0, \"action\": \"Correlation\", \"Precision\": 0.0, \"Recall\": 0.0, \"FScore\": 0.0}, {\"nfrac\": 0.0, \"action\": \"Distribution\", \"Precision\": 0.0, \"Recall\": 0.0, \"FScore\": 0.0}, {\"nfrac\": 0.0, \"action\": \"Enhance\", \"Precision\": 0.0, \"Recall\": 0.0, \"FScore\": 0.0}, {\"nfrac\": 0.0, \"action\": \"Filter\", \"Precision\": 0.0, \"Recall\": 0.0, \"FScore\": 0.0}, {\"nfrac\": 0.0, \"action\": \"Occurrence\", \"Precision\": 0.0, \"Recall\": 0.0, \"FScore\": 0.0}, {\"nfrac\": 0.05, \"action\": \"Correlation\", \"Precision\": 1.0, \"Recall\": 0.9533333333333335, \"FScore\": 0.9758620689655171}, {\"nfrac\": 0.05, \"action\": \"Distribution\", \"Precision\": 1.0, \"Recall\": 1.0, \"FScore\": 1.0}, {\"nfrac\": 0.05, \"action\": \"Enhance\", \"Precision\": 1.0, \"Recall\": 1.0, \"FScore\": 1.0}, {\"nfrac\": 0.05, \"action\": \"Filter\", \"Precision\": 1.0, \"Recall\": 0.9033333333333335, \"FScore\": 0.9461102690413034}, {\"nfrac\": 0.05, \"action\": \"Occurrence\", \"Precision\": 1.0, \"Recall\": 0.9333333333333333, \"FScore\": 0.9655172413793099}, {\"nfrac\": 0.1, \"action\": \"Correlation\", \"Precision\": 1.0, \"Recall\": 0.9633333333333335, \"FScore\": 0.9810344827586205}, {\"nfrac\": 0.1, \"action\": \"Distribution\", \"Precision\": 1.0, \"Recall\": 0.9966666666666667, \"FScore\": 0.9982758620689655}, {\"nfrac\": 0.1, \"action\": \"Enhance\", \"Precision\": 1.0, \"Recall\": 1.0, \"FScore\": 1.0}, {\"nfrac\": 0.1, \"action\": \"Filter\", \"Precision\": 1.0, \"Recall\": 0.95, \"FScore\": 0.9737684729064038}, {\"nfrac\": 0.1, \"action\": \"Occurrence\", \"Precision\": 1.0, \"Recall\": 0.9333333333333333, \"FScore\": 0.9655172413793099}, {\"nfrac\": 0.15, \"action\": \"Correlation\", \"Precision\": 1.0, \"Recall\": 0.9600000000000002, \"FScore\": 0.9793103448275859}, {\"nfrac\": 0.15, \"action\": \"Distribution\", \"Precision\": 1.0, \"Recall\": 1.0, \"FScore\": 1.0}, {\"nfrac\": 0.15, \"action\": \"Enhance\", \"Precision\": 1.0, \"Recall\": 1.0, \"FScore\": 1.0}, {\"nfrac\": 0.15, \"action\": \"Filter\", \"Precision\": 1.0, \"Recall\": 0.9566666666666668, \"FScore\": 0.9772167487684728}, {\"nfrac\": 0.15, \"action\": \"Occurrence\", \"Precision\": 1.0, \"Recall\": 0.9333333333333333, \"FScore\": 0.9655172413793099}, {\"nfrac\": 0.2, \"action\": \"Correlation\", \"Precision\": 1.0, \"Recall\": 0.9733333333333334, \"FScore\": 0.986206896551724}, {\"nfrac\": 0.2, \"action\": \"Distribution\", \"Precision\": 1.0, \"Recall\": 1.0, \"FScore\": 1.0}, {\"nfrac\": 0.2, \"action\": \"Enhance\", \"Precision\": 1.0, \"Recall\": 1.0, \"FScore\": 1.0}, {\"nfrac\": 0.2, \"action\": \"Filter\", \"Precision\": 1.0, \"Recall\": 0.9666666666666668, \"FScore\": 0.982758620689655}, {\"nfrac\": 0.2, \"action\": \"Occurrence\", \"Precision\": 1.0, \"Recall\": 0.9333333333333333, \"FScore\": 0.9655172413793099}, {\"nfrac\": 0.25, \"action\": \"Correlation\", \"Precision\": 1.0, \"Recall\": 0.9833333333333334, \"FScore\": 0.9913793103448274}, {\"nfrac\": 0.25, \"action\": \"Distribution\", \"Precision\": 1.0, \"Recall\": 1.0, \"FScore\": 1.0}, {\"nfrac\": 0.25, \"action\": \"Enhance\", \"Precision\": 1.0, \"Recall\": 1.0, \"FScore\": 1.0}, {\"nfrac\": 0.25, \"action\": \"Filter\", \"Precision\": 1.0, \"Recall\": 0.9600000000000002, \"FScore\": 0.9793103448275862}, {\"nfrac\": 0.25, \"action\": \"Occurrence\", \"Precision\": 1.0, \"Recall\": 0.9333333333333333, \"FScore\": 0.9655172413793099}, {\"nfrac\": 0.3, \"action\": \"Correlation\", \"Precision\": 1.0, \"Recall\": 0.9766666666666668, \"FScore\": 0.9879310344827585}, {\"nfrac\": 0.3, \"action\": \"Distribution\", \"Precision\": 1.0, \"Recall\": 1.0, \"FScore\": 1.0}, {\"nfrac\": 0.3, \"action\": \"Enhance\", \"Precision\": 1.0, \"Recall\": 1.0, \"FScore\": 1.0}, {\"nfrac\": 0.3, \"action\": \"Filter\", \"Precision\": 1.0, \"Recall\": 0.9700000000000001, \"FScore\": 0.9844827586206895}, {\"nfrac\": 0.3, \"action\": \"Occurrence\", \"Precision\": 1.0, \"Recall\": 0.9333333333333333, \"FScore\": 0.9655172413793099}, {\"nfrac\": 0.35, \"action\": \"Correlation\", \"Precision\": 1.0, \"Recall\": 0.9766666666666668, \"FScore\": 0.9879310344827585}, {\"nfrac\": 0.35, \"action\": \"Distribution\", \"Precision\": 1.0, \"Recall\": 1.0, \"FScore\": 1.0}, {\"nfrac\": 0.35, \"action\": \"Enhance\", \"Precision\": 1.0, \"Recall\": 1.0, \"FScore\": 1.0}, {\"nfrac\": 0.35, \"action\": \"Filter\", \"Precision\": 1.0, \"Recall\": 0.9766666666666668, \"FScore\": 0.9879310344827585}, {\"nfrac\": 0.35, \"action\": \"Occurrence\", \"Precision\": 1.0, \"Recall\": 0.9333333333333333, \"FScore\": 0.9655172413793099}, {\"nfrac\": 0.39999999999999997, \"action\": \"Correlation\", \"Precision\": 1.0, \"Recall\": 0.9833333333333334, \"FScore\": 0.9913793103448274}, {\"nfrac\": 0.39999999999999997, \"action\": \"Distribution\", \"Precision\": 1.0, \"Recall\": 1.0, \"FScore\": 1.0}, {\"nfrac\": 0.39999999999999997, \"action\": \"Enhance\", \"Precision\": 1.0, \"Recall\": 1.0, \"FScore\": 1.0}, {\"nfrac\": 0.39999999999999997, \"action\": \"Filter\", \"Precision\": 1.0, \"Recall\": 0.9633333333333335, \"FScore\": 0.9810344827586205}, {\"nfrac\": 0.39999999999999997, \"action\": \"Occurrence\", \"Precision\": 1.0, \"Recall\": 0.9333333333333333, \"FScore\": 0.9655172413793099}, {\"nfrac\": 0.44999999999999996, \"action\": \"Correlation\", \"Precision\": 1.0, \"Recall\": 0.9733333333333334, \"FScore\": 0.986206896551724}, {\"nfrac\": 0.44999999999999996, \"action\": \"Distribution\", \"Precision\": 1.0, \"Recall\": 1.0, \"FScore\": 1.0}, {\"nfrac\": 0.44999999999999996, \"action\": \"Enhance\", \"Precision\": 1.0, \"Recall\": 1.0, \"FScore\": 1.0}, {\"nfrac\": 0.44999999999999996, \"action\": \"Filter\", \"Precision\": 1.0, \"Recall\": 0.9700000000000001, \"FScore\": 0.9844827586206895}, {\"nfrac\": 0.44999999999999996, \"action\": \"Occurrence\", \"Precision\": 1.0, \"Recall\": 0.9366666666666669, \"FScore\": 0.9672413793103445}, {\"nfrac\": 0.49999999999999994, \"action\": \"Correlation\", \"Precision\": 1.0, \"Recall\": 0.9833333333333334, \"FScore\": 0.9913793103448274}, {\"nfrac\": 0.49999999999999994, \"action\": \"Distribution\", \"Precision\": 1.0, \"Recall\": 1.0, \"FScore\": 1.0}, {\"nfrac\": 0.49999999999999994, \"action\": \"Enhance\", \"Precision\": 1.0, \"Recall\": 1.0, \"FScore\": 1.0}, {\"nfrac\": 0.49999999999999994, \"action\": \"Filter\", \"Precision\": 1.0, \"Recall\": 0.9633333333333335, \"FScore\": 0.9810344827586205}, {\"nfrac\": 0.49999999999999994, \"action\": \"Occurrence\", \"Precision\": 1.0, \"Recall\": 0.9333333333333333, \"FScore\": 0.9655172413793099}, {\"nfrac\": 0.5499999999999999, \"action\": \"Correlation\", \"Precision\": 1.0, \"Recall\": 0.9800000000000001, \"FScore\": 0.9896551724137929}, {\"nfrac\": 0.5499999999999999, \"action\": \"Distribution\", \"Precision\": 1.0, \"Recall\": 1.0, \"FScore\": 1.0}, {\"nfrac\": 0.5499999999999999, \"action\": \"Enhance\", \"Precision\": 1.0, \"Recall\": 1.0, \"FScore\": 1.0}, {\"nfrac\": 0.5499999999999999, \"action\": \"Filter\", \"Precision\": 1.0, \"Recall\": 0.9733333333333334, \"FScore\": 0.986206896551724}, {\"nfrac\": 0.5499999999999999, \"action\": \"Occurrence\", \"Precision\": 1.0, \"Recall\": 0.9366666666666668, \"FScore\": 0.9672413793103445}, {\"nfrac\": 0.6, \"action\": \"Correlation\", \"Precision\": 1.0, \"Recall\": 0.9833333333333334, \"FScore\": 0.9913793103448274}, {\"nfrac\": 0.6, \"action\": \"Distribution\", \"Precision\": 1.0, \"Recall\": 1.0, \"FScore\": 1.0}, {\"nfrac\": 0.6, \"action\": \"Enhance\", \"Precision\": 1.0, \"Recall\": 1.0, \"FScore\": 1.0}, {\"nfrac\": 0.6, \"action\": \"Filter\", \"Precision\": 1.0, \"Recall\": 0.9666666666666668, \"FScore\": 0.982758620689655}, {\"nfrac\": 0.6, \"action\": \"Occurrence\", \"Precision\": 1.0, \"Recall\": 0.9400000000000001, \"FScore\": 0.968965517241379}, {\"nfrac\": 0.65, \"action\": \"Correlation\", \"Precision\": 1.0, \"Recall\": 0.99, \"FScore\": 0.9948275862068965}, {\"nfrac\": 0.65, \"action\": \"Distribution\", \"Precision\": 1.0, \"Recall\": 1.0, \"FScore\": 1.0}, {\"nfrac\": 0.65, \"action\": \"Enhance\", \"Precision\": 1.0, \"Recall\": 1.0, \"FScore\": 1.0}, {\"nfrac\": 0.65, \"action\": \"Filter\", \"Precision\": 1.0, \"Recall\": 0.9666666666666668, \"FScore\": 0.9827586206896551}, {\"nfrac\": 0.65, \"action\": \"Occurrence\", \"Precision\": 1.0, \"Recall\": 0.9400000000000001, \"FScore\": 0.968965517241379}, {\"nfrac\": 0.7, \"action\": \"Correlation\", \"Precision\": 1.0, \"Recall\": 0.9933333333333334, \"FScore\": 0.9965517241379309}, {\"nfrac\": 0.7, \"action\": \"Distribution\", \"Precision\": 1.0, \"Recall\": 1.0, \"FScore\": 1.0}, {\"nfrac\": 0.7, \"action\": \"Enhance\", \"Precision\": 1.0, \"Recall\": 1.0, \"FScore\": 1.0}, {\"nfrac\": 0.7, \"action\": \"Filter\", \"Precision\": 1.0, \"Recall\": 0.9700000000000001, \"FScore\": 0.9844827586206895}, {\"nfrac\": 0.7, \"action\": \"Occurrence\", \"Precision\": 1.0, \"Recall\": 0.9400000000000001, \"FScore\": 0.968965517241379}, {\"nfrac\": 0.75, \"action\": \"Correlation\", \"Precision\": 1.0, \"Recall\": 0.9933333333333334, \"FScore\": 0.9965517241379309}, {\"nfrac\": 0.75, \"action\": \"Distribution\", \"Precision\": 1.0, \"Recall\": 1.0, \"FScore\": 1.0}, {\"nfrac\": 0.75, \"action\": \"Enhance\", \"Precision\": 1.0, \"Recall\": 1.0, \"FScore\": 1.0}, {\"nfrac\": 0.75, \"action\": \"Filter\", \"Precision\": 1.0, \"Recall\": 0.9466666666666667, \"FScore\": 0.972413793103448}, {\"nfrac\": 0.75, \"action\": \"Occurrence\", \"Precision\": 1.0, \"Recall\": 0.9400000000000001, \"FScore\": 0.968965517241379}, {\"nfrac\": 0.7999999999999999, \"action\": \"Correlation\", \"Precision\": 1.0, \"Recall\": 0.9966666666666667, \"FScore\": 0.9982758620689655}, {\"nfrac\": 0.7999999999999999, \"action\": \"Distribution\", \"Precision\": 1.0, \"Recall\": 1.0, \"FScore\": 1.0}, {\"nfrac\": 0.7999999999999999, \"action\": \"Enhance\", \"Precision\": 1.0, \"Recall\": 1.0, \"FScore\": 1.0}, {\"nfrac\": 0.7999999999999999, \"action\": \"Filter\", \"Precision\": 1.0, \"Recall\": 0.9666666666666668, \"FScore\": 0.982758620689655}, {\"nfrac\": 0.7999999999999999, \"action\": \"Occurrence\", \"Precision\": 1.0, \"Recall\": 0.9466666666666669, \"FScore\": 0.972413793103448}, {\"nfrac\": 0.85, \"action\": \"Correlation\", \"Precision\": 1.0, \"Recall\": 0.9933333333333334, \"FScore\": 0.9965517241379309}, {\"nfrac\": 0.85, \"action\": \"Distribution\", \"Precision\": 1.0, \"Recall\": 1.0, \"FScore\": 1.0}, {\"nfrac\": 0.85, \"action\": \"Enhance\", \"Precision\": 1.0, \"Recall\": 1.0, \"FScore\": 1.0}, {\"nfrac\": 0.85, \"action\": \"Filter\", \"Precision\": 1.0, \"Recall\": 0.9566666666666667, \"FScore\": 0.9775862068965516}, {\"nfrac\": 0.85, \"action\": \"Occurrence\", \"Precision\": 1.0, \"Recall\": 0.9466666666666669, \"FScore\": 0.972413793103448}, {\"nfrac\": 0.9, \"action\": \"Correlation\", \"Precision\": 1.0, \"Recall\": 0.9966666666666667, \"FScore\": 0.9982758620689655}, {\"nfrac\": 0.9, \"action\": \"Distribution\", \"Precision\": 1.0, \"Recall\": 1.0, \"FScore\": 1.0}, {\"nfrac\": 0.9, \"action\": \"Enhance\", \"Precision\": 1.0, \"Recall\": 1.0, \"FScore\": 1.0}, {\"nfrac\": 0.9, \"action\": \"Filter\", \"Precision\": 1.0, \"Recall\": 0.9766666666666668, \"FScore\": 0.9879310344827585}, {\"nfrac\": 0.9, \"action\": \"Occurrence\", \"Precision\": 1.0, \"Recall\": 0.9533333333333335, \"FScore\": 0.9758620689655171}, {\"nfrac\": 0.95, \"action\": \"Correlation\", \"Precision\": 1.0, \"Recall\": 1.0, \"FScore\": 1.0}, {\"nfrac\": 0.95, \"action\": \"Distribution\", \"Precision\": 1.0, \"Recall\": 1.0, \"FScore\": 1.0}, {\"nfrac\": 0.95, \"action\": \"Enhance\", \"Precision\": 1.0, \"Recall\": 1.0, \"FScore\": 1.0}, {\"nfrac\": 0.95, \"action\": \"Filter\", \"Precision\": 1.0, \"Recall\": 0.9700000000000001, \"FScore\": 0.9844827586206895}, {\"nfrac\": 0.95, \"action\": \"Occurrence\", \"Precision\": 1.0, \"Recall\": 0.9500000000000002, \"FScore\": 0.9741379310344824}, {\"nfrac\": 1.0, \"action\": \"Correlation\", \"Precision\": 1.0, \"Recall\": 1.0, \"FScore\": 1.0}, {\"nfrac\": 1.0, \"action\": \"Distribution\", \"Precision\": 1.0, \"Recall\": 1.0, \"FScore\": 1.0}, {\"nfrac\": 1.0, \"action\": \"Enhance\", \"Precision\": 1.0, \"Recall\": 1.0, \"FScore\": 1.0}, {\"nfrac\": 1.0, \"action\": \"Filter\", \"Precision\": 1.0, \"Recall\": 1.0, \"FScore\": 1.0}, {\"nfrac\": 1.0, \"action\": \"Occurrence\", \"Precision\": 1.0, \"Recall\": 1.0, \"FScore\": 1.0}]}}, {\"mode\": \"vega-lite\"});\n",
       "</script>"
      ],
      "text/plain": [
       "alt.Chart(...)"
      ]
     },
     "execution_count": 38,
     "metadata": {},
     "output_type": "execute_result"
    }
   ],
   "source": [
    "import altair as alt\n",
    "# df=pd.read_csv(f\"result/sampling_error_communities.csv\")\n",
    "df = trial_df \n",
    "df = df.groupby([\"nfrac\",\"action\"]).mean().reset_index()\n",
    "alt.Chart(df,title=\"Communities (100k rows)\").mark_line().encode(\n",
    "    x = alt.X(\"nfrac\",title=\"Fraction of dataset sampled\"),#scale=alt.Scale(type=\"log\")),\n",
    "    y = alt.Y(\"Recall\",scale=alt.Scale(domain=(0.88,1.01))),\n",
    "    color = \"action\"\n",
    ").interactive()"
   ]
  },
  {
   "cell_type": "code",
   "execution_count": null,
   "metadata": {},
   "outputs": [],
   "source": []
  },
  {
   "cell_type": "code",
   "execution_count": 207,
   "metadata": {},
   "outputs": [],
   "source": [
    "df.to_csv(\"result/sampling_error_0_5.csv\")"
   ]
  },
  {
   "cell_type": "code",
   "execution_count": 202,
   "metadata": {},
   "outputs": [],
   "source": [
    "seed_lst = np.arange(5,20)"
   ]
  },
  {
   "cell_type": "code",
   "execution_count": 205,
   "metadata": {},
   "outputs": [
    {
     "data": {
      "text/plain": [
       "array([ 5,  6,  7,  8,  9, 10, 11, 12, 13, 14, 15, 16, 17, 18, 19])"
      ]
     },
     "execution_count": 205,
     "metadata": {},
     "output_type": "execute_result"
    }
   ],
   "source": [
    "seed_lst"
   ]
  },
  {
   "cell_type": "code",
   "execution_count": 195,
   "metadata": {},
   "outputs": [
    {
     "data": {
      "application/vnd.jupyter.widget-view+json": {
       "model_id": "d8f6e758f298411398901a3ae6554264",
       "version_major": 2,
       "version_minor": 0
      },
      "text/plain": [
       "Button(description='Toggle Pandas/Lux', layout=Layout(top='5px', width='140px'), style=ButtonStyle())"
      ]
     },
     "metadata": {},
     "output_type": "display_data"
    },
    {
     "data": {
      "application/vnd.jupyter.widget-view+json": {
       "model_id": "0516dfb01c7a4783864a9533605653bb",
       "version_major": 2,
       "version_minor": 0
      },
      "text/plain": [
       "Output()"
      ]
     },
     "metadata": {},
     "output_type": "display_data"
    },
    {
     "data": {
      "text/plain": []
     },
     "execution_count": 195,
     "metadata": {},
     "output_type": "execute_result"
    }
   ],
   "source": [
    "df"
   ]
  },
  {
   "cell_type": "code",
   "execution_count": 150,
   "metadata": {},
   "outputs": [
    {
     "data": {
      "application/vnd.jupyter.widget-view+json": {
       "model_id": "dbf3ecec0ec2492888b7827038170b97",
       "version_major": 2,
       "version_minor": 0
      },
      "text/plain": [
       "Button(description='Toggle Pandas/Lux', layout=Layout(top='5px', width='140px'), style=ButtonStyle())"
      ]
     },
     "metadata": {},
     "output_type": "display_data"
    },
    {
     "data": {
      "application/vnd.jupyter.widget-view+json": {
       "model_id": "d790ac5ee4f7421ab2d1fb3851a0cc5c",
       "version_major": 2,
       "version_minor": 0
      },
      "text/plain": [
       "Output()"
      ]
     },
     "metadata": {},
     "output_type": "display_data"
    },
    {
     "data": {
      "text/plain": []
     },
     "execution_count": 150,
     "metadata": {},
     "output_type": "execute_result"
    }
   ],
   "source": [
    "df[df[\"action\"]==\"Occurrence\"]"
   ]
  },
  {
   "cell_type": "code",
   "execution_count": null,
   "metadata": {},
   "outputs": [],
   "source": []
  }
 ],
 "metadata": {
  "kernelspec": {
   "display_name": "Python 3",
   "language": "python",
   "name": "python3"
  },
  "language_info": {
   "codemirror_mode": {
    "name": "ipython",
    "version": 3
   },
   "file_extension": ".py",
   "mimetype": "text/x-python",
   "name": "python",
   "nbconvert_exporter": "python",
   "pygments_lexer": "ipython3",
   "version": "3.7.7"
  }
 },
 "nbformat": 4,
 "nbformat_minor": 4
}
