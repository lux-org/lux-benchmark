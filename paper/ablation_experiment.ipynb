{
 "cells": [
  {
   "cell_type": "code",
   "execution_count": 3,
   "metadata": {},
   "outputs": [],
   "source": [
    "from matplotlib.pylab import plt\n",
    "import pandas as pd\n",
    "import altair as alt"
   ]
  },
  {
   "cell_type": "markdown",
   "metadata": {},
   "source": [
    "# Early Pruning"
   ]
  },
  {
   "cell_type": "code",
   "execution_count": 3,
   "metadata": {},
   "outputs": [
    {
     "name": "stdout",
     "output_type": "stream",
     "text": [
      "pct improvement:\n",
      "     t_recs    t_meta\n",
      "1 -0.712649 -0.098283\n",
      "3 -0.533389 -0.037660\n",
      "5 -0.369202 -0.018510\n",
      "7 -0.221670  0.009976\n",
      "9 -0.188511 -0.019757\n"
     ]
    },
    {
     "data": {
      "text/html": [
       "\n",
       "<div id=\"altair-viz-d09f8601ffbe4e24bf10f9a25b296146\"></div>\n",
       "<script type=\"text/javascript\">\n",
       "  (function(spec, embedOpt){\n",
       "    let outputDiv = document.currentScript.previousElementSibling;\n",
       "    if (outputDiv.id !== \"altair-viz-d09f8601ffbe4e24bf10f9a25b296146\") {\n",
       "      outputDiv = document.getElementById(\"altair-viz-d09f8601ffbe4e24bf10f9a25b296146\");\n",
       "    }\n",
       "    const paths = {\n",
       "      \"vega\": \"https://cdn.jsdelivr.net/npm//vega@5?noext\",\n",
       "      \"vega-lib\": \"https://cdn.jsdelivr.net/npm//vega-lib?noext\",\n",
       "      \"vega-lite\": \"https://cdn.jsdelivr.net/npm//vega-lite@4.8.1?noext\",\n",
       "      \"vega-embed\": \"https://cdn.jsdelivr.net/npm//vega-embed@6?noext\",\n",
       "    };\n",
       "\n",
       "    function loadScript(lib) {\n",
       "      return new Promise(function(resolve, reject) {\n",
       "        var s = document.createElement('script');\n",
       "        s.src = paths[lib];\n",
       "        s.async = true;\n",
       "        s.onload = () => resolve(paths[lib]);\n",
       "        s.onerror = () => reject(`Error loading script: ${paths[lib]}`);\n",
       "        document.getElementsByTagName(\"head\")[0].appendChild(s);\n",
       "      });\n",
       "    }\n",
       "\n",
       "    function showError(err) {\n",
       "      outputDiv.innerHTML = `<div class=\"error\" style=\"color:red;\">${err}</div>`;\n",
       "      throw err;\n",
       "    }\n",
       "\n",
       "    function displayChart(vegaEmbed) {\n",
       "      vegaEmbed(outputDiv, spec, embedOpt)\n",
       "        .catch(err => showError(`Javascript Error: ${err.message}<br>This usually means there's a typo in your chart specification. See the javascript console for the full traceback.`));\n",
       "    }\n",
       "\n",
       "    if(typeof define === \"function\" && define.amd) {\n",
       "      requirejs.config({paths});\n",
       "      require([\"vega-embed\"], displayChart, err => showError(`Error loading script: ${err.message}`));\n",
       "    } else if (typeof vegaEmbed === \"function\") {\n",
       "      displayChart(vegaEmbed);\n",
       "    } else {\n",
       "      loadScript(\"vega\")\n",
       "        .then(() => loadScript(\"vega-lite\"))\n",
       "        .then(() => loadScript(\"vega-embed\"))\n",
       "        .catch(showError)\n",
       "        .then(() => displayChart(vegaEmbed));\n",
       "    }\n",
       "  })({\"config\": {\"view\": {\"continuousWidth\": 400, \"continuousHeight\": 300}}, \"data\": {\"name\": \"data-ab1b6fd19927f7936f1cf5df31c5cf00\"}, \"mark\": \"bar\", \"encoding\": {\"color\": {\"type\": \"nominal\", \"field\": \"early_pruning\"}, \"column\": {\"type\": \"nominal\", \"field\": \"nPts\"}, \"x\": {\"type\": \"nominal\", \"field\": \"early_pruning\"}, \"y\": {\"type\": \"quantitative\", \"field\": \"t_recs\"}}, \"resolve\": {\"scale\": {\"x\": \"independent\"}}, \"$schema\": \"https://vega.github.io/schema/vega-lite/v4.8.1.json\", \"datasets\": {\"data-ab1b6fd19927f7936f1cf5df31c5cf00\": [{\"nPts\": 10000, \"early_pruning\": false, \"t_meta\": 0.081572315999999, \"t_recs\": 1.2741025109999988}, {\"nPts\": 10000, \"early_pruning\": true, \"t_meta\": 0.0735551530000009, \"t_recs\": 0.3661145330000011}, {\"nPts\": 58861, \"early_pruning\": false, \"t_meta\": 0.2941805039999963, \"t_recs\": 3.042024952999995}, {\"nPts\": 58861, \"early_pruning\": true, \"t_meta\": 0.2831018020000044, \"t_recs\": 1.4194408170000088}, {\"nPts\": 346427, \"early_pruning\": false, \"t_meta\": 1.699733131000002, \"t_recs\": 10.300928035999988}, {\"nPts\": 346427, \"early_pruning\": true, \"t_meta\": 1.668271433000001, \"t_recs\": 6.497802917999991}, {\"nPts\": 2038904, \"early_pruning\": false, \"t_meta\": 9.141622114, \"t_recs\": 42.33807268999999}, {\"nPts\": 2038904, \"early_pruning\": true, \"t_meta\": 9.23281833500002, \"t_recs\": 32.9529976}, {\"nPts\": 12000000, \"early_pruning\": false, \"t_meta\": 53.40852189200001, \"t_recs\": 228.30256560900008}, {\"nPts\": 12000000, \"early_pruning\": true, \"t_meta\": 52.35333175899996, \"t_recs\": 185.26491012500003}]}}, {\"mode\": \"vega-lite\"});\n",
       "</script>"
      ],
      "text/plain": [
       "alt.Chart(...)"
      ]
     },
     "execution_count": 3,
     "metadata": {},
     "output_type": "execute_result"
    }
   ],
   "source": [
    "dataset = \"airbnb\"\n",
    "control = \"early_pruning\"\n",
    "df = pd.read_csv(f\"../result/{control}_{dataset}_time.csv\")\n",
    "\n",
    "print(\"pct improvement:\")\n",
    "print(df.groupby([\"nPts\"])[[\"t_recs\",\"t_meta\"]].pct_change().dropna())\n",
    "alt.Chart(df).mark_bar().encode(\n",
    "    x = f\"{control}:N\",\n",
    "    y = \"t_recs\",\n",
    "    column= \"nPts:N\",\n",
    "    color = f\"{control}:N\"\n",
    ").resolve_scale(x='independent')\n"
   ]
  },
  {
   "cell_type": "code",
   "execution_count": 4,
   "metadata": {},
   "outputs": [
    {
     "name": "stdout",
     "output_type": "stream",
     "text": [
      "pct improvement:\n",
      "     t_recs    t_meta\n",
      "1 -0.440458 -0.318607\n",
      "3 -0.395999 -0.023931\n",
      "5 -0.549316  0.080599\n",
      "7 -0.732049 -0.018881\n",
      "9 -0.743567 -0.011481\n"
     ]
    },
    {
     "data": {
      "text/html": [
       "\n",
       "<div id=\"altair-viz-1c4cb56bdcc94944b28b87f47fd5a742\"></div>\n",
       "<script type=\"text/javascript\">\n",
       "  (function(spec, embedOpt){\n",
       "    let outputDiv = document.currentScript.previousElementSibling;\n",
       "    if (outputDiv.id !== \"altair-viz-1c4cb56bdcc94944b28b87f47fd5a742\") {\n",
       "      outputDiv = document.getElementById(\"altair-viz-1c4cb56bdcc94944b28b87f47fd5a742\");\n",
       "    }\n",
       "    const paths = {\n",
       "      \"vega\": \"https://cdn.jsdelivr.net/npm//vega@5?noext\",\n",
       "      \"vega-lib\": \"https://cdn.jsdelivr.net/npm//vega-lib?noext\",\n",
       "      \"vega-lite\": \"https://cdn.jsdelivr.net/npm//vega-lite@4.8.1?noext\",\n",
       "      \"vega-embed\": \"https://cdn.jsdelivr.net/npm//vega-embed@6?noext\",\n",
       "    };\n",
       "\n",
       "    function loadScript(lib) {\n",
       "      return new Promise(function(resolve, reject) {\n",
       "        var s = document.createElement('script');\n",
       "        s.src = paths[lib];\n",
       "        s.async = true;\n",
       "        s.onload = () => resolve(paths[lib]);\n",
       "        s.onerror = () => reject(`Error loading script: ${paths[lib]}`);\n",
       "        document.getElementsByTagName(\"head\")[0].appendChild(s);\n",
       "      });\n",
       "    }\n",
       "\n",
       "    function showError(err) {\n",
       "      outputDiv.innerHTML = `<div class=\"error\" style=\"color:red;\">${err}</div>`;\n",
       "      throw err;\n",
       "    }\n",
       "\n",
       "    function displayChart(vegaEmbed) {\n",
       "      vegaEmbed(outputDiv, spec, embedOpt)\n",
       "        .catch(err => showError(`Javascript Error: ${err.message}<br>This usually means there's a typo in your chart specification. See the javascript console for the full traceback.`));\n",
       "    }\n",
       "\n",
       "    if(typeof define === \"function\" && define.amd) {\n",
       "      requirejs.config({paths});\n",
       "      require([\"vega-embed\"], displayChart, err => showError(`Error loading script: ${err.message}`));\n",
       "    } else if (typeof vegaEmbed === \"function\") {\n",
       "      displayChart(vegaEmbed);\n",
       "    } else {\n",
       "      loadScript(\"vega\")\n",
       "        .then(() => loadScript(\"vega-lite\"))\n",
       "        .then(() => loadScript(\"vega-embed\"))\n",
       "        .catch(showError)\n",
       "        .then(() => displayChart(vegaEmbed));\n",
       "    }\n",
       "  })({\"config\": {\"view\": {\"continuousWidth\": 400, \"continuousHeight\": 300}}, \"data\": {\"name\": \"data-58cdbea59458a00a69ffb94c352cb825\"}, \"mark\": \"bar\", \"encoding\": {\"color\": {\"type\": \"nominal\", \"field\": \"lazy_maintain\"}, \"column\": {\"type\": \"nominal\", \"field\": \"nPts\"}, \"x\": {\"type\": \"nominal\", \"field\": \"lazy_maintain\"}, \"y\": {\"type\": \"quantitative\", \"field\": \"t_recs\"}}, \"resolve\": {\"scale\": {\"x\": \"independent\"}}, \"$schema\": \"https://vega.github.io/schema/vega-lite/v4.8.1.json\", \"datasets\": {\"data-58cdbea59458a00a69ffb94c352cb825\": [{\"nPts\": 10000, \"lazy_maintain\": false, \"t_meta\": 0.110219856999997, \"t_recs\": 1.493571945999996}, {\"nPts\": 10000, \"lazy_maintain\": true, \"t_meta\": 0.0751030360000015, \"t_recs\": 0.8357162089999974}, {\"nPts\": 58861, \"lazy_maintain\": false, \"t_meta\": 0.3044334109999909, \"t_recs\": 3.606093344000002}, {\"nPts\": 58861, \"lazy_maintain\": true, \"t_meta\": 0.2971480639999981, \"t_recs\": 2.178084865999992}, {\"nPts\": 346427, \"lazy_maintain\": false, \"t_meta\": 1.630465061999999, \"t_recs\": 10.17676294799999}, {\"nPts\": 346427, \"lazy_maintain\": true, \"t_meta\": 1.761878883999998, \"t_recs\": 4.586504122000008}, {\"nPts\": 2038904, \"lazy_maintain\": false, \"t_meta\": 10.306625851000009, \"t_recs\": 48.54198191099999}, {\"nPts\": 2038904, \"lazy_maintain\": true, \"t_meta\": 10.11202455700004, \"t_recs\": 13.00687155700001}, {\"nPts\": 12000000, \"lazy_maintain\": false, \"t_meta\": 55.45354778199999, \"t_recs\": 239.440655434}, {\"nPts\": 12000000, \"lazy_maintain\": true, \"t_meta\": 54.81690611700003, \"t_recs\": 61.40053907099991}]}}, {\"mode\": \"vega-lite\"});\n",
       "</script>"
      ],
      "text/plain": [
       "alt.Chart(...)"
      ]
     },
     "execution_count": 4,
     "metadata": {},
     "output_type": "execute_result"
    }
   ],
   "source": [
    "dataset = \"airbnb\"\n",
    "control = \"lazy_maintain\"\n",
    "df = pd.read_csv(f\"../result/{control}_{dataset}_time.csv\")\n",
    "print(\"pct improvement:\")\n",
    "print(df.groupby([\"nPts\"])[[\"t_recs\",\"t_meta\"]].pct_change().dropna())\n",
    "\n",
    "alt.Chart(df).mark_bar().encode(\n",
    "    x = f\"{control}:N\",\n",
    "    y = \"t_recs\",\n",
    "    column= \"nPts:N\",\n",
    "    color = f\"{control}:N\"\n",
    ").resolve_scale(x='independent')"
   ]
  },
  {
   "cell_type": "code",
   "execution_count": 8,
   "metadata": {},
   "outputs": [
    {
     "data": {
      "text/html": [
       "\n",
       "<div id=\"altair-viz-8fa8d081f640499d81425ca335fbec73\"></div>\n",
       "<script type=\"text/javascript\">\n",
       "  (function(spec, embedOpt){\n",
       "    let outputDiv = document.currentScript.previousElementSibling;\n",
       "    if (outputDiv.id !== \"altair-viz-8fa8d081f640499d81425ca335fbec73\") {\n",
       "      outputDiv = document.getElementById(\"altair-viz-8fa8d081f640499d81425ca335fbec73\");\n",
       "    }\n",
       "    const paths = {\n",
       "      \"vega\": \"https://cdn.jsdelivr.net/npm//vega@5?noext\",\n",
       "      \"vega-lib\": \"https://cdn.jsdelivr.net/npm//vega-lib?noext\",\n",
       "      \"vega-lite\": \"https://cdn.jsdelivr.net/npm//vega-lite@4.8.1?noext\",\n",
       "      \"vega-embed\": \"https://cdn.jsdelivr.net/npm//vega-embed@6?noext\",\n",
       "    };\n",
       "\n",
       "    function loadScript(lib) {\n",
       "      return new Promise(function(resolve, reject) {\n",
       "        var s = document.createElement('script');\n",
       "        s.src = paths[lib];\n",
       "        s.async = true;\n",
       "        s.onload = () => resolve(paths[lib]);\n",
       "        s.onerror = () => reject(`Error loading script: ${paths[lib]}`);\n",
       "        document.getElementsByTagName(\"head\")[0].appendChild(s);\n",
       "      });\n",
       "    }\n",
       "\n",
       "    function showError(err) {\n",
       "      outputDiv.innerHTML = `<div class=\"error\" style=\"color:red;\">${err}</div>`;\n",
       "      throw err;\n",
       "    }\n",
       "\n",
       "    function displayChart(vegaEmbed) {\n",
       "      vegaEmbed(outputDiv, spec, embedOpt)\n",
       "        .catch(err => showError(`Javascript Error: ${err.message}<br>This usually means there's a typo in your chart specification. See the javascript console for the full traceback.`));\n",
       "    }\n",
       "\n",
       "    if(typeof define === \"function\" && define.amd) {\n",
       "      requirejs.config({paths});\n",
       "      require([\"vega-embed\"], displayChart, err => showError(`Error loading script: ${err.message}`));\n",
       "    } else if (typeof vegaEmbed === \"function\") {\n",
       "      displayChart(vegaEmbed);\n",
       "    } else {\n",
       "      loadScript(\"vega\")\n",
       "        .then(() => loadScript(\"vega-lite\"))\n",
       "        .then(() => loadScript(\"vega-embed\"))\n",
       "        .catch(showError)\n",
       "        .then(() => displayChart(vegaEmbed));\n",
       "    }\n",
       "  })({\"config\": {\"view\": {\"continuousWidth\": 400, \"continuousHeight\": 300}}, \"data\": {\"name\": \"data-d8639e0829143cecf02cbed88ee627e5\"}, \"mark\": \"bar\", \"encoding\": {\"color\": {\"type\": \"nominal\", \"field\": \"streaming\"}, \"column\": {\"type\": \"nominal\", \"field\": \"nPts\"}, \"x\": {\"type\": \"nominal\", \"field\": \"streaming\"}, \"y\": {\"type\": \"quantitative\", \"field\": \"t_recs\"}}, \"resolve\": {\"scale\": {\"x\": \"independent\"}}, \"$schema\": \"https://vega.github.io/schema/vega-lite/v4.8.1.json\", \"datasets\": {\"data-d8639e0829143cecf02cbed88ee627e5\": [{\"nPts\": 10000, \"streaming\": false, \"t_meta\": 0.0716072639999971, \"t_recs\": 1.3003320950000017}, {\"nPts\": 10000, \"streaming\": true, \"t_meta\": 0.0740167789999972, \"t_recs\": 0.3655496410000012}, {\"nPts\": 58861, \"streaming\": false, \"t_meta\": 0.3287809739999972, \"t_recs\": 3.2000713070000018}, {\"nPts\": 58861, \"streaming\": true, \"t_meta\": 0.2555179610000095, \"t_recs\": 1.3066806159999942}, {\"nPts\": 346427, \"streaming\": false, \"t_meta\": 1.759778475999994, \"t_recs\": 10.422919069999992}, {\"nPts\": 346427, \"streaming\": true, \"t_meta\": 1.6560555920000013, \"t_recs\": 7.0069029}, {\"nPts\": 2038904, \"streaming\": false, \"t_meta\": 8.946958946000024, \"t_recs\": 41.30850757900001}, {\"nPts\": 2038904, \"streaming\": true, \"t_meta\": 8.867854812000019, \"t_recs\": 35.70875950100003}, {\"nPts\": 12000000, \"streaming\": false, \"t_meta\": 50.88767680800004, \"t_recs\": 219.528592152}, {\"nPts\": 12000000, \"streaming\": true, \"t_meta\": 50.95307741900001, \"t_recs\": 207.79941675400005}]}}, {\"mode\": \"vega-lite\"});\n",
       "</script>"
      ],
      "text/plain": [
       "alt.Chart(...)"
      ]
     },
     "execution_count": 8,
     "metadata": {},
     "output_type": "execute_result"
    }
   ],
   "source": [
    "dataset = \"airbnb\"\n",
    "control = \"streaming\"\n",
    "df = pd.read_csv(f\"../result/{control}_{dataset}_time.csv\")\n",
    "\n",
    "alt.Chart(df).mark_bar().encode(\n",
    "    x = f\"{control}:N\",\n",
    "    y = \"t_recs\",\n",
    "    column= \"nPts:N\",\n",
    "    color = f\"{control}:N\"\n",
    ").resolve_scale(x='independent')"
   ]
  },
  {
   "cell_type": "code",
   "execution_count": 18,
   "metadata": {},
   "outputs": [],
   "source": [
    "import numpy as np\n",
    "trial_range = np.linspace(0,1,11)"
   ]
  },
  {
   "cell_type": "code",
   "execution_count": 19,
   "metadata": {},
   "outputs": [
    {
     "data": {
      "text/plain": [
       "array([0. , 0.1, 0.2, 0.3, 0.4, 0.5, 0.6, 0.7, 0.8, 0.9, 1. ])"
      ]
     },
     "execution_count": 19,
     "metadata": {},
     "output_type": "execute_result"
    }
   ],
   "source": [
    "trial_range"
   ]
  },
  {
   "cell_type": "code",
   "execution_count": 9,
   "metadata": {},
   "outputs": [
    {
     "data": {
      "text/html": [
       "\n",
       "<div id=\"altair-viz-63860e16dab7495daf76eda24982b911\"></div>\n",
       "<script type=\"text/javascript\">\n",
       "  (function(spec, embedOpt){\n",
       "    let outputDiv = document.currentScript.previousElementSibling;\n",
       "    if (outputDiv.id !== \"altair-viz-63860e16dab7495daf76eda24982b911\") {\n",
       "      outputDiv = document.getElementById(\"altair-viz-63860e16dab7495daf76eda24982b911\");\n",
       "    }\n",
       "    const paths = {\n",
       "      \"vega\": \"https://cdn.jsdelivr.net/npm//vega@5?noext\",\n",
       "      \"vega-lib\": \"https://cdn.jsdelivr.net/npm//vega-lib?noext\",\n",
       "      \"vega-lite\": \"https://cdn.jsdelivr.net/npm//vega-lite@4.8.1?noext\",\n",
       "      \"vega-embed\": \"https://cdn.jsdelivr.net/npm//vega-embed@6?noext\",\n",
       "    };\n",
       "\n",
       "    function loadScript(lib) {\n",
       "      return new Promise(function(resolve, reject) {\n",
       "        var s = document.createElement('script');\n",
       "        s.src = paths[lib];\n",
       "        s.async = true;\n",
       "        s.onload = () => resolve(paths[lib]);\n",
       "        s.onerror = () => reject(`Error loading script: ${paths[lib]}`);\n",
       "        document.getElementsByTagName(\"head\")[0].appendChild(s);\n",
       "      });\n",
       "    }\n",
       "\n",
       "    function showError(err) {\n",
       "      outputDiv.innerHTML = `<div class=\"error\" style=\"color:red;\">${err}</div>`;\n",
       "      throw err;\n",
       "    }\n",
       "\n",
       "    function displayChart(vegaEmbed) {\n",
       "      vegaEmbed(outputDiv, spec, embedOpt)\n",
       "        .catch(err => showError(`Javascript Error: ${err.message}<br>This usually means there's a typo in your chart specification. See the javascript console for the full traceback.`));\n",
       "    }\n",
       "\n",
       "    if(typeof define === \"function\" && define.amd) {\n",
       "      requirejs.config({paths});\n",
       "      require([\"vega-embed\"], displayChart, err => showError(`Error loading script: ${err.message}`));\n",
       "    } else if (typeof vegaEmbed === \"function\") {\n",
       "      displayChart(vegaEmbed);\n",
       "    } else {\n",
       "      loadScript(\"vega\")\n",
       "        .then(() => loadScript(\"vega-lite\"))\n",
       "        .then(() => loadScript(\"vega-embed\"))\n",
       "        .catch(showError)\n",
       "        .then(() => displayChart(vegaEmbed));\n",
       "    }\n",
       "  })({\"config\": {\"view\": {\"continuousWidth\": 400, \"continuousHeight\": 300}}, \"data\": {\"name\": \"data-c6a4f86e0cb1ca126702862438605aab\"}, \"mark\": \"line\", \"encoding\": {\"color\": {\"type\": \"nominal\", \"field\": \"action\"}, \"column\": {\"type\": \"quantitative\", \"field\": \"@k\"}, \"x\": {\"type\": \"quantitative\", \"field\": \"nPts\", \"scale\": {\"type\": \"log\"}}, \"y\": {\"type\": \"quantitative\", \"field\": \"NDCG\"}}, \"$schema\": \"https://vega.github.io/schema/vega-lite/v4.8.1.json\", \"datasets\": {\"data-c6a4f86e0cb1ca126702862438605aab\": [{\"nPts\": 10000, \"action\": \"Correlation\", \"NDCG\": -0.1516402741656269, \"@k\": 3}, {\"nPts\": 10000, \"action\": \"Correlation\", \"NDCG\": -0.4504422420554949, \"@k\": 5}, {\"nPts\": 10000, \"action\": \"Correlation\", \"NDCG\": -1.0440656230007614, \"@k\": 10}, {\"nPts\": 10000, \"action\": \"Correlation\", \"NDCG\": -1.0440656230007614, \"@k\": 15}, {\"nPts\": 10000, \"action\": \"Distribution\", \"NDCG\": 1.0, \"@k\": 3}, {\"nPts\": 10000, \"action\": \"Distribution\", \"NDCG\": 1.0, \"@k\": 5}, {\"nPts\": 10000, \"action\": \"Distribution\", \"NDCG\": 1.0, \"@k\": 10}, {\"nPts\": 10000, \"action\": \"Distribution\", \"NDCG\": 1.0, \"@k\": 15}, {\"nPts\": 10000, \"action\": \"Occurrence\", \"NDCG\": 1.0, \"@k\": 3}, {\"nPts\": 10000, \"action\": \"Occurrence\", \"NDCG\": 1.0, \"@k\": 5}, {\"nPts\": 10000, \"action\": \"Occurrence\", \"NDCG\": 1.0, \"@k\": 10}, {\"nPts\": 10000, \"action\": \"Occurrence\", \"NDCG\": 1.0, \"@k\": 15}, {\"nPts\": 58861, \"action\": \"Correlation\", \"NDCG\": 0.8266290791410218, \"@k\": 3}, {\"nPts\": 58861, \"action\": \"Correlation\", \"NDCG\": 0.8315326556468721, \"@k\": 5}, {\"nPts\": 58861, \"action\": \"Correlation\", \"NDCG\": 0.8764347548550624, \"@k\": 10}, {\"nPts\": 58861, \"action\": \"Correlation\", \"NDCG\": 0.8804931870171087, \"@k\": 15}, {\"nPts\": 58861, \"action\": \"Distribution\", \"NDCG\": 1.0, \"@k\": 3}, {\"nPts\": 58861, \"action\": \"Distribution\", \"NDCG\": 1.0, \"@k\": 5}, {\"nPts\": 58861, \"action\": \"Distribution\", \"NDCG\": 1.0, \"@k\": 10}, {\"nPts\": 58861, \"action\": \"Distribution\", \"NDCG\": 1.0, \"@k\": 15}, {\"nPts\": 58861, \"action\": \"Occurrence\", \"NDCG\": 1.0, \"@k\": 3}, {\"nPts\": 58861, \"action\": \"Occurrence\", \"NDCG\": 1.0, \"@k\": 5}, {\"nPts\": 58861, \"action\": \"Occurrence\", \"NDCG\": 1.0, \"@k\": 10}, {\"nPts\": 58861, \"action\": \"Occurrence\", \"NDCG\": 1.0, \"@k\": 15}, {\"nPts\": 346427, \"action\": \"Correlation\", \"NDCG\": 0.8213102057304673, \"@k\": 3}, {\"nPts\": 346427, \"action\": \"Correlation\", \"NDCG\": 0.826940005586968, \"@k\": 5}, {\"nPts\": 346427, \"action\": \"Correlation\", \"NDCG\": 0.8684592714787499, \"@k\": 10}, {\"nPts\": 346427, \"action\": \"Correlation\", \"NDCG\": 0.8935797388583147, \"@k\": 15}, {\"nPts\": 346427, \"action\": \"Distribution\", \"NDCG\": 1.0, \"@k\": 3}, {\"nPts\": 346427, \"action\": \"Distribution\", \"NDCG\": 1.0, \"@k\": 5}, {\"nPts\": 346427, \"action\": \"Distribution\", \"NDCG\": 1.0000000000000002, \"@k\": 10}, {\"nPts\": 346427, \"action\": \"Distribution\", \"NDCG\": 1.0000000000000002, \"@k\": 15}, {\"nPts\": 346427, \"action\": \"Occurrence\", \"NDCG\": 1.0, \"@k\": 3}, {\"nPts\": 346427, \"action\": \"Occurrence\", \"NDCG\": 1.0, \"@k\": 5}, {\"nPts\": 346427, \"action\": \"Occurrence\", \"NDCG\": 1.0, \"@k\": 10}, {\"nPts\": 346427, \"action\": \"Occurrence\", \"NDCG\": 1.0, \"@k\": 15}, {\"nPts\": 2038904, \"action\": \"Correlation\", \"NDCG\": 0.8245936922360717, \"@k\": 3}, {\"nPts\": 2038904, \"action\": \"Correlation\", \"NDCG\": 0.8278135420060848, \"@k\": 5}, {\"nPts\": 2038904, \"action\": \"Correlation\", \"NDCG\": 0.8717695559065237, \"@k\": 10}, {\"nPts\": 2038904, \"action\": \"Correlation\", \"NDCG\": 0.8838704118924999, \"@k\": 15}, {\"nPts\": 2038904, \"action\": \"Distribution\", \"NDCG\": 1.0, \"@k\": 3}, {\"nPts\": 2038904, \"action\": \"Distribution\", \"NDCG\": 1.0, \"@k\": 5}, {\"nPts\": 2038904, \"action\": \"Distribution\", \"NDCG\": 1.0, \"@k\": 10}, {\"nPts\": 2038904, \"action\": \"Distribution\", \"NDCG\": 1.0, \"@k\": 15}, {\"nPts\": 2038904, \"action\": \"Occurrence\", \"NDCG\": 1.0, \"@k\": 3}, {\"nPts\": 2038904, \"action\": \"Occurrence\", \"NDCG\": 1.0, \"@k\": 5}, {\"nPts\": 2038904, \"action\": \"Occurrence\", \"NDCG\": 1.0, \"@k\": 10}, {\"nPts\": 2038904, \"action\": \"Occurrence\", \"NDCG\": 1.0, \"@k\": 15}, {\"nPts\": 12000000, \"action\": \"Correlation\", \"NDCG\": 0.8245915432761258, \"@k\": 3}, {\"nPts\": 12000000, \"action\": \"Correlation\", \"NDCG\": 0.8269633935256084, \"@k\": 5}, {\"nPts\": 12000000, \"action\": \"Correlation\", \"NDCG\": 0.8710519361820105, \"@k\": 10}, {\"nPts\": 12000000, \"action\": \"Correlation\", \"NDCG\": 0.8945442605281092, \"@k\": 15}, {\"nPts\": 12000000, \"action\": \"Distribution\", \"NDCG\": 1.0, \"@k\": 3}, {\"nPts\": 12000000, \"action\": \"Distribution\", \"NDCG\": 1.0, \"@k\": 5}, {\"nPts\": 12000000, \"action\": \"Distribution\", \"NDCG\": 1.0, \"@k\": 10}, {\"nPts\": 12000000, \"action\": \"Distribution\", \"NDCG\": 1.0, \"@k\": 15}, {\"nPts\": 12000000, \"action\": \"Occurrence\", \"NDCG\": 1.0, \"@k\": 3}, {\"nPts\": 12000000, \"action\": \"Occurrence\", \"NDCG\": 1.0, \"@k\": 5}, {\"nPts\": 12000000, \"action\": \"Occurrence\", \"NDCG\": 1.0, \"@k\": 10}, {\"nPts\": 12000000, \"action\": \"Occurrence\", \"NDCG\": 1.0, \"@k\": 15}]}}, {\"mode\": \"vega-lite\"});\n",
       "</script>"
      ],
      "text/plain": [
       "alt.Chart(...)"
      ]
     },
     "execution_count": 9,
     "metadata": {},
     "output_type": "execute_result"
    }
   ],
   "source": [
    "df=pd.read_csv(f\"../result/early_pruning_airbnb_accuracy.csv\")\n",
    "alt.Chart(df).mark_line().encode(\n",
    "    x = alt.X(\"nPts\",scale=alt.Scale(type=\"log\")),\n",
    "    y = alt.Y(\"NDCG\"),#,scale=alt.Scale(domain=(0.9,1.01))),\n",
    "    column=\"@k\",\n",
    "    color = \"action\"\n",
    ")"
   ]
  },
  {
   "cell_type": "code",
   "execution_count": null,
   "metadata": {},
   "outputs": [],
   "source": []
  }
 ],
 "metadata": {
  "kernelspec": {
   "display_name": "Python 3",
   "language": "python",
   "name": "python3"
  },
  "language_info": {
   "codemirror_mode": {
    "name": "ipython",
    "version": 3
   },
   "file_extension": ".py",
   "mimetype": "text/x-python",
   "name": "python",
   "nbconvert_exporter": "python",
   "pygments_lexer": "ipython3",
   "version": "3.7.7"
  }
 },
 "nbformat": 4,
 "nbformat_minor": 4
}
