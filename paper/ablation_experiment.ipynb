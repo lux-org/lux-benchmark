{
 "cells": [
  {
   "cell_type": "code",
   "execution_count": 1,
   "metadata": {},
   "outputs": [],
   "source": [
    "from matplotlib.pylab import plt\n",
    "import pandas as pd\n",
    "import altair as alt"
   ]
  },
  {
   "cell_type": "markdown",
   "metadata": {},
   "source": [
    "# Early Pruning"
   ]
  },
  {
   "cell_type": "code",
   "execution_count": 3,
   "metadata": {},
   "outputs": [
    {
     "name": "stdout",
     "output_type": "stream",
     "text": [
      "pct improvement:\n",
      "     t_recs    t_meta\n",
      "1 -0.712649 -0.098283\n",
      "3 -0.533389 -0.037660\n",
      "5 -0.369202 -0.018510\n",
      "7 -0.221670  0.009976\n",
      "9 -0.188511 -0.019757\n"
     ]
    },
    {
     "data": {
      "text/html": [
       "\n",
       "<div id=\"altair-viz-d09f8601ffbe4e24bf10f9a25b296146\"></div>\n",
       "<script type=\"text/javascript\">\n",
       "  (function(spec, embedOpt){\n",
       "    let outputDiv = document.currentScript.previousElementSibling;\n",
       "    if (outputDiv.id !== \"altair-viz-d09f8601ffbe4e24bf10f9a25b296146\") {\n",
       "      outputDiv = document.getElementById(\"altair-viz-d09f8601ffbe4e24bf10f9a25b296146\");\n",
       "    }\n",
       "    const paths = {\n",
       "      \"vega\": \"https://cdn.jsdelivr.net/npm//vega@5?noext\",\n",
       "      \"vega-lib\": \"https://cdn.jsdelivr.net/npm//vega-lib?noext\",\n",
       "      \"vega-lite\": \"https://cdn.jsdelivr.net/npm//vega-lite@4.8.1?noext\",\n",
       "      \"vega-embed\": \"https://cdn.jsdelivr.net/npm//vega-embed@6?noext\",\n",
       "    };\n",
       "\n",
       "    function loadScript(lib) {\n",
       "      return new Promise(function(resolve, reject) {\n",
       "        var s = document.createElement('script');\n",
       "        s.src = paths[lib];\n",
       "        s.async = true;\n",
       "        s.onload = () => resolve(paths[lib]);\n",
       "        s.onerror = () => reject(`Error loading script: ${paths[lib]}`);\n",
       "        document.getElementsByTagName(\"head\")[0].appendChild(s);\n",
       "      });\n",
       "    }\n",
       "\n",
       "    function showError(err) {\n",
       "      outputDiv.innerHTML = `<div class=\"error\" style=\"color:red;\">${err}</div>`;\n",
       "      throw err;\n",
       "    }\n",
       "\n",
       "    function displayChart(vegaEmbed) {\n",
       "      vegaEmbed(outputDiv, spec, embedOpt)\n",
       "        .catch(err => showError(`Javascript Error: ${err.message}<br>This usually means there's a typo in your chart specification. See the javascript console for the full traceback.`));\n",
       "    }\n",
       "\n",
       "    if(typeof define === \"function\" && define.amd) {\n",
       "      requirejs.config({paths});\n",
       "      require([\"vega-embed\"], displayChart, err => showError(`Error loading script: ${err.message}`));\n",
       "    } else if (typeof vegaEmbed === \"function\") {\n",
       "      displayChart(vegaEmbed);\n",
       "    } else {\n",
       "      loadScript(\"vega\")\n",
       "        .then(() => loadScript(\"vega-lite\"))\n",
       "        .then(() => loadScript(\"vega-embed\"))\n",
       "        .catch(showError)\n",
       "        .then(() => displayChart(vegaEmbed));\n",
       "    }\n",
       "  })({\"config\": {\"view\": {\"continuousWidth\": 400, \"continuousHeight\": 300}}, \"data\": {\"name\": \"data-ab1b6fd19927f7936f1cf5df31c5cf00\"}, \"mark\": \"bar\", \"encoding\": {\"color\": {\"type\": \"nominal\", \"field\": \"early_pruning\"}, \"column\": {\"type\": \"nominal\", \"field\": \"nPts\"}, \"x\": {\"type\": \"nominal\", \"field\": \"early_pruning\"}, \"y\": {\"type\": \"quantitative\", \"field\": \"t_recs\"}}, \"resolve\": {\"scale\": {\"x\": \"independent\"}}, \"$schema\": \"https://vega.github.io/schema/vega-lite/v4.8.1.json\", \"datasets\": {\"data-ab1b6fd19927f7936f1cf5df31c5cf00\": [{\"nPts\": 10000, \"early_pruning\": false, \"t_meta\": 0.081572315999999, \"t_recs\": 1.2741025109999988}, {\"nPts\": 10000, \"early_pruning\": true, \"t_meta\": 0.0735551530000009, \"t_recs\": 0.3661145330000011}, {\"nPts\": 58861, \"early_pruning\": false, \"t_meta\": 0.2941805039999963, \"t_recs\": 3.042024952999995}, {\"nPts\": 58861, \"early_pruning\": true, \"t_meta\": 0.2831018020000044, \"t_recs\": 1.4194408170000088}, {\"nPts\": 346427, \"early_pruning\": false, \"t_meta\": 1.699733131000002, \"t_recs\": 10.300928035999988}, {\"nPts\": 346427, \"early_pruning\": true, \"t_meta\": 1.668271433000001, \"t_recs\": 6.497802917999991}, {\"nPts\": 2038904, \"early_pruning\": false, \"t_meta\": 9.141622114, \"t_recs\": 42.33807268999999}, {\"nPts\": 2038904, \"early_pruning\": true, \"t_meta\": 9.23281833500002, \"t_recs\": 32.9529976}, {\"nPts\": 12000000, \"early_pruning\": false, \"t_meta\": 53.40852189200001, \"t_recs\": 228.30256560900008}, {\"nPts\": 12000000, \"early_pruning\": true, \"t_meta\": 52.35333175899996, \"t_recs\": 185.26491012500003}]}}, {\"mode\": \"vega-lite\"});\n",
       "</script>"
      ],
      "text/plain": [
       "alt.Chart(...)"
      ]
     },
     "execution_count": 3,
     "metadata": {},
     "output_type": "execute_result"
    }
   ],
   "source": [
    "dataset = \"airbnb\"\n",
    "control = \"early_pruning\"\n",
    "df = pd.read_csv(f\"../result/{control}_{dataset}_time.csv\")\n",
    "\n",
    "print(\"pct improvement:\")\n",
    "print(df.groupby([\"nPts\"])[[\"t_recs\",\"t_meta\"]].pct_change().dropna())\n",
    "alt.Chart(df).mark_bar().encode(\n",
    "    x = f\"{control}:N\",\n",
    "    y = \"t_recs\",\n",
    "    column= \"nPts:N\",\n",
    "    color = f\"{control}:N\"\n",
    ").resolve_scale(x='independent')\n"
   ]
  },
  {
   "cell_type": "code",
   "execution_count": 4,
   "metadata": {},
   "outputs": [
    {
     "name": "stdout",
     "output_type": "stream",
     "text": [
      "pct improvement:\n",
      "     t_recs    t_meta\n",
      "1 -0.440458 -0.318607\n",
      "3 -0.395999 -0.023931\n",
      "5 -0.549316  0.080599\n",
      "7 -0.732049 -0.018881\n",
      "9 -0.743567 -0.011481\n"
     ]
    },
    {
     "data": {
      "text/html": [
       "\n",
       "<div id=\"altair-viz-1c4cb56bdcc94944b28b87f47fd5a742\"></div>\n",
       "<script type=\"text/javascript\">\n",
       "  (function(spec, embedOpt){\n",
       "    let outputDiv = document.currentScript.previousElementSibling;\n",
       "    if (outputDiv.id !== \"altair-viz-1c4cb56bdcc94944b28b87f47fd5a742\") {\n",
       "      outputDiv = document.getElementById(\"altair-viz-1c4cb56bdcc94944b28b87f47fd5a742\");\n",
       "    }\n",
       "    const paths = {\n",
       "      \"vega\": \"https://cdn.jsdelivr.net/npm//vega@5?noext\",\n",
       "      \"vega-lib\": \"https://cdn.jsdelivr.net/npm//vega-lib?noext\",\n",
       "      \"vega-lite\": \"https://cdn.jsdelivr.net/npm//vega-lite@4.8.1?noext\",\n",
       "      \"vega-embed\": \"https://cdn.jsdelivr.net/npm//vega-embed@6?noext\",\n",
       "    };\n",
       "\n",
       "    function loadScript(lib) {\n",
       "      return new Promise(function(resolve, reject) {\n",
       "        var s = document.createElement('script');\n",
       "        s.src = paths[lib];\n",
       "        s.async = true;\n",
       "        s.onload = () => resolve(paths[lib]);\n",
       "        s.onerror = () => reject(`Error loading script: ${paths[lib]}`);\n",
       "        document.getElementsByTagName(\"head\")[0].appendChild(s);\n",
       "      });\n",
       "    }\n",
       "\n",
       "    function showError(err) {\n",
       "      outputDiv.innerHTML = `<div class=\"error\" style=\"color:red;\">${err}</div>`;\n",
       "      throw err;\n",
       "    }\n",
       "\n",
       "    function displayChart(vegaEmbed) {\n",
       "      vegaEmbed(outputDiv, spec, embedOpt)\n",
       "        .catch(err => showError(`Javascript Error: ${err.message}<br>This usually means there's a typo in your chart specification. See the javascript console for the full traceback.`));\n",
       "    }\n",
       "\n",
       "    if(typeof define === \"function\" && define.amd) {\n",
       "      requirejs.config({paths});\n",
       "      require([\"vega-embed\"], displayChart, err => showError(`Error loading script: ${err.message}`));\n",
       "    } else if (typeof vegaEmbed === \"function\") {\n",
       "      displayChart(vegaEmbed);\n",
       "    } else {\n",
       "      loadScript(\"vega\")\n",
       "        .then(() => loadScript(\"vega-lite\"))\n",
       "        .then(() => loadScript(\"vega-embed\"))\n",
       "        .catch(showError)\n",
       "        .then(() => displayChart(vegaEmbed));\n",
       "    }\n",
       "  })({\"config\": {\"view\": {\"continuousWidth\": 400, \"continuousHeight\": 300}}, \"data\": {\"name\": \"data-58cdbea59458a00a69ffb94c352cb825\"}, \"mark\": \"bar\", \"encoding\": {\"color\": {\"type\": \"nominal\", \"field\": \"lazy_maintain\"}, \"column\": {\"type\": \"nominal\", \"field\": \"nPts\"}, \"x\": {\"type\": \"nominal\", \"field\": \"lazy_maintain\"}, \"y\": {\"type\": \"quantitative\", \"field\": \"t_recs\"}}, \"resolve\": {\"scale\": {\"x\": \"independent\"}}, \"$schema\": \"https://vega.github.io/schema/vega-lite/v4.8.1.json\", \"datasets\": {\"data-58cdbea59458a00a69ffb94c352cb825\": [{\"nPts\": 10000, \"lazy_maintain\": false, \"t_meta\": 0.110219856999997, \"t_recs\": 1.493571945999996}, {\"nPts\": 10000, \"lazy_maintain\": true, \"t_meta\": 0.0751030360000015, \"t_recs\": 0.8357162089999974}, {\"nPts\": 58861, \"lazy_maintain\": false, \"t_meta\": 0.3044334109999909, \"t_recs\": 3.606093344000002}, {\"nPts\": 58861, \"lazy_maintain\": true, \"t_meta\": 0.2971480639999981, \"t_recs\": 2.178084865999992}, {\"nPts\": 346427, \"lazy_maintain\": false, \"t_meta\": 1.630465061999999, \"t_recs\": 10.17676294799999}, {\"nPts\": 346427, \"lazy_maintain\": true, \"t_meta\": 1.761878883999998, \"t_recs\": 4.586504122000008}, {\"nPts\": 2038904, \"lazy_maintain\": false, \"t_meta\": 10.306625851000009, \"t_recs\": 48.54198191099999}, {\"nPts\": 2038904, \"lazy_maintain\": true, \"t_meta\": 10.11202455700004, \"t_recs\": 13.00687155700001}, {\"nPts\": 12000000, \"lazy_maintain\": false, \"t_meta\": 55.45354778199999, \"t_recs\": 239.440655434}, {\"nPts\": 12000000, \"lazy_maintain\": true, \"t_meta\": 54.81690611700003, \"t_recs\": 61.40053907099991}]}}, {\"mode\": \"vega-lite\"});\n",
       "</script>"
      ],
      "text/plain": [
       "alt.Chart(...)"
      ]
     },
     "execution_count": 4,
     "metadata": {},
     "output_type": "execute_result"
    }
   ],
   "source": [
    "dataset = \"airbnb\"\n",
    "control = \"lazy_maintain\"\n",
    "df = pd.read_csv(f\"../result/{control}_{dataset}_time.csv\")\n",
    "print(\"pct improvement:\")\n",
    "print(df.groupby([\"nPts\"])[[\"t_recs\",\"t_meta\"]].pct_change().dropna())\n",
    "\n",
    "alt.Chart(df).mark_bar().encode(\n",
    "    x = f\"{control}:N\",\n",
    "    y = \"t_recs\",\n",
    "    column= \"nPts:N\",\n",
    "    color = f\"{control}:N\"\n",
    ").resolve_scale(x='independent')"
   ]
  },
  {
   "cell_type": "code",
   "execution_count": 8,
   "metadata": {},
   "outputs": [
    {
     "data": {
      "text/html": [
       "\n",
       "<div id=\"altair-viz-8fa8d081f640499d81425ca335fbec73\"></div>\n",
       "<script type=\"text/javascript\">\n",
       "  (function(spec, embedOpt){\n",
       "    let outputDiv = document.currentScript.previousElementSibling;\n",
       "    if (outputDiv.id !== \"altair-viz-8fa8d081f640499d81425ca335fbec73\") {\n",
       "      outputDiv = document.getElementById(\"altair-viz-8fa8d081f640499d81425ca335fbec73\");\n",
       "    }\n",
       "    const paths = {\n",
       "      \"vega\": \"https://cdn.jsdelivr.net/npm//vega@5?noext\",\n",
       "      \"vega-lib\": \"https://cdn.jsdelivr.net/npm//vega-lib?noext\",\n",
       "      \"vega-lite\": \"https://cdn.jsdelivr.net/npm//vega-lite@4.8.1?noext\",\n",
       "      \"vega-embed\": \"https://cdn.jsdelivr.net/npm//vega-embed@6?noext\",\n",
       "    };\n",
       "\n",
       "    function loadScript(lib) {\n",
       "      return new Promise(function(resolve, reject) {\n",
       "        var s = document.createElement('script');\n",
       "        s.src = paths[lib];\n",
       "        s.async = true;\n",
       "        s.onload = () => resolve(paths[lib]);\n",
       "        s.onerror = () => reject(`Error loading script: ${paths[lib]}`);\n",
       "        document.getElementsByTagName(\"head\")[0].appendChild(s);\n",
       "      });\n",
       "    }\n",
       "\n",
       "    function showError(err) {\n",
       "      outputDiv.innerHTML = `<div class=\"error\" style=\"color:red;\">${err}</div>`;\n",
       "      throw err;\n",
       "    }\n",
       "\n",
       "    function displayChart(vegaEmbed) {\n",
       "      vegaEmbed(outputDiv, spec, embedOpt)\n",
       "        .catch(err => showError(`Javascript Error: ${err.message}<br>This usually means there's a typo in your chart specification. See the javascript console for the full traceback.`));\n",
       "    }\n",
       "\n",
       "    if(typeof define === \"function\" && define.amd) {\n",
       "      requirejs.config({paths});\n",
       "      require([\"vega-embed\"], displayChart, err => showError(`Error loading script: ${err.message}`));\n",
       "    } else if (typeof vegaEmbed === \"function\") {\n",
       "      displayChart(vegaEmbed);\n",
       "    } else {\n",
       "      loadScript(\"vega\")\n",
       "        .then(() => loadScript(\"vega-lite\"))\n",
       "        .then(() => loadScript(\"vega-embed\"))\n",
       "        .catch(showError)\n",
       "        .then(() => displayChart(vegaEmbed));\n",
       "    }\n",
       "  })({\"config\": {\"view\": {\"continuousWidth\": 400, \"continuousHeight\": 300}}, \"data\": {\"name\": \"data-d8639e0829143cecf02cbed88ee627e5\"}, \"mark\": \"bar\", \"encoding\": {\"color\": {\"type\": \"nominal\", \"field\": \"streaming\"}, \"column\": {\"type\": \"nominal\", \"field\": \"nPts\"}, \"x\": {\"type\": \"nominal\", \"field\": \"streaming\"}, \"y\": {\"type\": \"quantitative\", \"field\": \"t_recs\"}}, \"resolve\": {\"scale\": {\"x\": \"independent\"}}, \"$schema\": \"https://vega.github.io/schema/vega-lite/v4.8.1.json\", \"datasets\": {\"data-d8639e0829143cecf02cbed88ee627e5\": [{\"nPts\": 10000, \"streaming\": false, \"t_meta\": 0.0716072639999971, \"t_recs\": 1.3003320950000017}, {\"nPts\": 10000, \"streaming\": true, \"t_meta\": 0.0740167789999972, \"t_recs\": 0.3655496410000012}, {\"nPts\": 58861, \"streaming\": false, \"t_meta\": 0.3287809739999972, \"t_recs\": 3.2000713070000018}, {\"nPts\": 58861, \"streaming\": true, \"t_meta\": 0.2555179610000095, \"t_recs\": 1.3066806159999942}, {\"nPts\": 346427, \"streaming\": false, \"t_meta\": 1.759778475999994, \"t_recs\": 10.422919069999992}, {\"nPts\": 346427, \"streaming\": true, \"t_meta\": 1.6560555920000013, \"t_recs\": 7.0069029}, {\"nPts\": 2038904, \"streaming\": false, \"t_meta\": 8.946958946000024, \"t_recs\": 41.30850757900001}, {\"nPts\": 2038904, \"streaming\": true, \"t_meta\": 8.867854812000019, \"t_recs\": 35.70875950100003}, {\"nPts\": 12000000, \"streaming\": false, \"t_meta\": 50.88767680800004, \"t_recs\": 219.528592152}, {\"nPts\": 12000000, \"streaming\": true, \"t_meta\": 50.95307741900001, \"t_recs\": 207.79941675400005}]}}, {\"mode\": \"vega-lite\"});\n",
       "</script>"
      ],
      "text/plain": [
       "alt.Chart(...)"
      ]
     },
     "execution_count": 8,
     "metadata": {},
     "output_type": "execute_result"
    }
   ],
   "source": [
    "dataset = \"airbnb\"\n",
    "control = \"streaming\"\n",
    "df = pd.read_csv(f\"../result/{control}_{dataset}_time.csv\")\n",
    "\n",
    "alt.Chart(df).mark_bar().encode(\n",
    "    x = f\"{control}:N\",\n",
    "    y = \"t_recs\",\n",
    "    column= \"nPts:N\",\n",
    "    color = f\"{control}:N\"\n",
    ").resolve_scale(x='independent')"
   ]
  },
  {
   "cell_type": "code",
   "execution_count": 2,
   "metadata": {},
   "outputs": [
    {
     "name": "stdout",
     "output_type": "stream",
     "text": [
      "/Users/dorislee/Desktop/Research/lux/lux-benchmark\n"
     ]
    }
   ],
   "source": [
    "cd .."
   ]
  },
  {
   "cell_type": "code",
   "execution_count": 3,
   "metadata": {},
   "outputs": [],
   "source": [
    "import sys, os\n",
    "sys.path.append(os.path.abspath(\".\"))\n",
    "from utils.rank_utils import compute_prf_between_vislists"
   ]
  },
  {
   "cell_type": "code",
   "execution_count": 4,
   "metadata": {},
   "outputs": [],
   "source": [
    "from glob import glob"
   ]
  },
  {
   "cell_type": "code",
   "execution_count": 5,
   "metadata": {},
   "outputs": [],
   "source": [
    "import numpy as np\n",
    "import pickle as pkl\n",
    "import pandas as pd"
   ]
  },
  {
   "cell_type": "code",
   "execution_count": 48,
   "metadata": {},
   "outputs": [],
   "source": [
    "action_lst = [\"Occurrence\",\"Filter\",\"Correlation\",\"Distribution\",\"Enhance\"]\n",
    "trial = []\n",
    "\n",
    "for action in action_lst :\n",
    "    map1 = pkl.load(open(f\"tmp_communities10k/communities_gt_{action}.pkl\",'rb'))\n",
    "    for file in glob.glob(f\"tmp_communities10k/communities_nfrac*_{action}_*.pkl\"):\n",
    "        map2 = pkl.load(open(file,'rb'))\n",
    "        nfrac = float(file.split(\"/\")[1:][0].split(\"_\")[1][5:])\n",
    "        prf = compute_prf_between_vislists(map1,map2)\n",
    "        trial.append([nfrac, action, prf[0], prf[1], prf[2]])\n",
    "    # Inserting endpoints \n",
    "    trial.append([0,action, 0,0,0])\n",
    "    trial.append([1,action, 1,1,1])\n",
    "trial_df = pd.DataFrame(\n",
    "    trial,\n",
    "    columns=[\"nfrac\", \"action\", \"Precision\",\"Recall\",\"FScore\"],\n",
    ") "
   ]
  },
  {
   "cell_type": "code",
   "execution_count": 52,
   "metadata": {},
   "outputs": [
    {
     "data": {
      "text/html": [
       "\n",
       "<div id=\"altair-viz-1795cc89b4a542dcaccca24a18fa993a\"></div>\n",
       "<script type=\"text/javascript\">\n",
       "  (function(spec, embedOpt){\n",
       "    let outputDiv = document.currentScript.previousElementSibling;\n",
       "    if (outputDiv.id !== \"altair-viz-1795cc89b4a542dcaccca24a18fa993a\") {\n",
       "      outputDiv = document.getElementById(\"altair-viz-1795cc89b4a542dcaccca24a18fa993a\");\n",
       "    }\n",
       "    const paths = {\n",
       "      \"vega\": \"https://cdn.jsdelivr.net/npm//vega@5?noext\",\n",
       "      \"vega-lib\": \"https://cdn.jsdelivr.net/npm//vega-lib?noext\",\n",
       "      \"vega-lite\": \"https://cdn.jsdelivr.net/npm//vega-lite@4.8.1?noext\",\n",
       "      \"vega-embed\": \"https://cdn.jsdelivr.net/npm//vega-embed@6?noext\",\n",
       "    };\n",
       "\n",
       "    function loadScript(lib) {\n",
       "      return new Promise(function(resolve, reject) {\n",
       "        var s = document.createElement('script');\n",
       "        s.src = paths[lib];\n",
       "        s.async = true;\n",
       "        s.onload = () => resolve(paths[lib]);\n",
       "        s.onerror = () => reject(`Error loading script: ${paths[lib]}`);\n",
       "        document.getElementsByTagName(\"head\")[0].appendChild(s);\n",
       "      });\n",
       "    }\n",
       "\n",
       "    function showError(err) {\n",
       "      outputDiv.innerHTML = `<div class=\"error\" style=\"color:red;\">${err}</div>`;\n",
       "      throw err;\n",
       "    }\n",
       "\n",
       "    function displayChart(vegaEmbed) {\n",
       "      vegaEmbed(outputDiv, spec, embedOpt)\n",
       "        .catch(err => showError(`Javascript Error: ${err.message}<br>This usually means there's a typo in your chart specification. See the javascript console for the full traceback.`));\n",
       "    }\n",
       "\n",
       "    if(typeof define === \"function\" && define.amd) {\n",
       "      requirejs.config({paths});\n",
       "      require([\"vega-embed\"], displayChart, err => showError(`Error loading script: ${err.message}`));\n",
       "    } else if (typeof vegaEmbed === \"function\") {\n",
       "      displayChart(vegaEmbed);\n",
       "    } else {\n",
       "      loadScript(\"vega\")\n",
       "        .then(() => loadScript(\"vega-lite\"))\n",
       "        .then(() => loadScript(\"vega-embed\"))\n",
       "        .catch(showError)\n",
       "        .then(() => displayChart(vegaEmbed));\n",
       "    }\n",
       "  })({\"config\": {\"view\": {\"continuousWidth\": 400, \"continuousHeight\": 300}}, \"data\": {\"name\": \"data-c594cf6c00fb2260690ac0f356e80752\"}, \"mark\": \"line\", \"encoding\": {\"color\": {\"type\": \"nominal\", \"field\": \"action\"}, \"x\": {\"type\": \"quantitative\", \"field\": \"nfrac\", \"title\": \"Fraction of dataset sampled\"}, \"y\": {\"type\": \"quantitative\", \"field\": \"Recall\", \"scale\": {\"domain\": [0.2, 1.01]}}}, \"selection\": {\"selector032\": {\"type\": \"interval\", \"bind\": \"scales\", \"encodings\": [\"x\", \"y\"]}}, \"title\": \"Communities (10k rows)\", \"$schema\": \"https://vega.github.io/schema/vega-lite/v4.8.1.json\", \"datasets\": {\"data-c594cf6c00fb2260690ac0f356e80752\": [{\"nfrac\": 0.0, \"action\": \"Correlation\", \"Precision\": 0.0, \"Recall\": 0.0, \"FScore\": 0.0}, {\"nfrac\": 0.0, \"action\": \"Distribution\", \"Precision\": 0.0, \"Recall\": 0.0, \"FScore\": 0.0}, {\"nfrac\": 0.0, \"action\": \"Enhance\", \"Precision\": 0.0, \"Recall\": 0.0, \"FScore\": 0.0}, {\"nfrac\": 0.0, \"action\": \"Filter\", \"Precision\": 0.0, \"Recall\": 0.0, \"FScore\": 0.0}, {\"nfrac\": 0.0, \"action\": \"Occurrence\", \"Precision\": 0.0, \"Recall\": 0.0, \"FScore\": 0.0}, {\"nfrac\": 0.05, \"action\": \"Correlation\", \"Precision\": 1.0, \"Recall\": 0.9200000000000002, \"FScore\": 0.9578817733990148}, {\"nfrac\": 0.05, \"action\": \"Distribution\", \"Precision\": 1.0, \"Recall\": 0.9333333333333333, \"FScore\": 0.9642583470169678}, {\"nfrac\": 0.05, \"action\": \"Enhance\", \"Precision\": 1.0, \"Recall\": 0.9666666666666668, \"FScore\": 0.9827586206896551}, {\"nfrac\": 0.05, \"action\": \"Filter\", \"Precision\": 1.0, \"Recall\": 0.2533333333333333, \"FScore\": 0.39718413681261977}, {\"nfrac\": 0.05, \"action\": \"Occurrence\", \"Precision\": 1.0, \"Recall\": 0.9200000000000002, \"FScore\": 0.958128078817734}, {\"nfrac\": 0.1, \"action\": \"Correlation\", \"Precision\": 1.0, \"Recall\": 0.9400000000000001, \"FScore\": 0.96871921182266}, {\"nfrac\": 0.1, \"action\": \"Distribution\", \"Precision\": 1.0, \"Recall\": 0.9400000000000002, \"FScore\": 0.9682266009852217}, {\"nfrac\": 0.1, \"action\": \"Enhance\", \"Precision\": 1.0, \"Recall\": 1.0, \"FScore\": 1.0}, {\"nfrac\": 0.1, \"action\": \"Filter\", \"Precision\": 1.0, \"Recall\": 0.4333333333333334, \"FScore\": 0.6026821005081875}, {\"nfrac\": 0.1, \"action\": \"Occurrence\", \"Precision\": 1.0, \"Recall\": 0.9400000000000001, \"FScore\": 0.9689655172413794}, {\"nfrac\": 0.15, \"action\": \"Correlation\", \"Precision\": 1.0, \"Recall\": 0.9533333333333334, \"FScore\": 0.9758620689655173}, {\"nfrac\": 0.15, \"action\": \"Distribution\", \"Precision\": 1.0, \"Recall\": 0.9533333333333334, \"FScore\": 0.975615763546798}, {\"nfrac\": 0.15, \"action\": \"Enhance\", \"Precision\": 1.0, \"Recall\": 1.0, \"FScore\": 1.0}, {\"nfrac\": 0.15, \"action\": \"Filter\", \"Precision\": 1.0, \"Recall\": 0.5333333333333333, \"FScore\": 0.6924217087260567}, {\"nfrac\": 0.15, \"action\": \"Occurrence\", \"Precision\": 1.0, \"Recall\": 0.9533333333333335, \"FScore\": 0.9758620689655171}, {\"nfrac\": 0.2, \"action\": \"Correlation\", \"Precision\": 1.0, \"Recall\": 0.9666666666666668, \"FScore\": 0.9827586206896551}, {\"nfrac\": 0.2, \"action\": \"Distribution\", \"Precision\": 1.0, \"Recall\": 0.9666666666666668, \"FScore\": 0.982512315270936}, {\"nfrac\": 0.2, \"action\": \"Enhance\", \"Precision\": 1.0, \"Recall\": 1.0, \"FScore\": 1.0}, {\"nfrac\": 0.2, \"action\": \"Filter\", \"Precision\": 1.0, \"Recall\": 0.6466666666666667, \"FScore\": 0.7821999256781866}, {\"nfrac\": 0.2, \"action\": \"Occurrence\", \"Precision\": 1.0, \"Recall\": 0.9800000000000001, \"FScore\": 0.9896551724137931}, {\"nfrac\": 0.25, \"action\": \"Correlation\", \"Precision\": 1.0, \"Recall\": 0.9666666666666668, \"FScore\": 0.9827586206896551}, {\"nfrac\": 0.25, \"action\": \"Distribution\", \"Precision\": 1.0, \"Recall\": 0.9666666666666668, \"FScore\": 0.982512315270936}, {\"nfrac\": 0.25, \"action\": \"Enhance\", \"Precision\": 1.0, \"Recall\": 1.0, \"FScore\": 1.0}, {\"nfrac\": 0.25, \"action\": \"Filter\", \"Precision\": 1.0, \"Recall\": 0.7066666666666668, \"FScore\": 0.8201072357594097}, {\"nfrac\": 0.25, \"action\": \"Occurrence\", \"Precision\": 1.0, \"Recall\": 0.9800000000000001, \"FScore\": 0.9896551724137931}, {\"nfrac\": 0.3, \"action\": \"Correlation\", \"Precision\": 1.0, \"Recall\": 0.9733333333333334, \"FScore\": 0.986206896551724}, {\"nfrac\": 0.3, \"action\": \"Distribution\", \"Precision\": 1.0, \"Recall\": 0.9933333333333334, \"FScore\": 0.9965517241379309}, {\"nfrac\": 0.3, \"action\": \"Enhance\", \"Precision\": 1.0, \"Recall\": 1.0, \"FScore\": 1.0}, {\"nfrac\": 0.3, \"action\": \"Filter\", \"Precision\": 1.0, \"Recall\": 0.7866666666666667, \"FScore\": 0.8747111700559976}, {\"nfrac\": 0.3, \"action\": \"Occurrence\", \"Precision\": 1.0, \"Recall\": 0.9866666666666667, \"FScore\": 0.993103448275862}, {\"nfrac\": 0.35, \"action\": \"Correlation\", \"Precision\": 1.0, \"Recall\": 0.9733333333333334, \"FScore\": 0.9862068965517242}, {\"nfrac\": 0.35, \"action\": \"Distribution\", \"Precision\": 1.0, \"Recall\": 0.9866666666666667, \"FScore\": 0.993103448275862}, {\"nfrac\": 0.35, \"action\": \"Enhance\", \"Precision\": 1.0, \"Recall\": 1.0, \"FScore\": 1.0}, {\"nfrac\": 0.35, \"action\": \"Filter\", \"Precision\": 1.0, \"Recall\": 0.8133333333333332, \"FScore\": 0.8899848427434633}, {\"nfrac\": 0.35, \"action\": \"Occurrence\", \"Precision\": 1.0, \"Recall\": 0.9866666666666667, \"FScore\": 0.993103448275862}, {\"nfrac\": 0.4, \"action\": \"Correlation\", \"Precision\": 1.0, \"Recall\": 0.9533333333333334, \"FScore\": 0.9758620689655173}, {\"nfrac\": 0.4, \"action\": \"Distribution\", \"Precision\": 1.0, \"Recall\": 0.9866666666666667, \"FScore\": 0.993103448275862}, {\"nfrac\": 0.4, \"action\": \"Enhance\", \"Precision\": 1.0, \"Recall\": 1.0, \"FScore\": 1.0}, {\"nfrac\": 0.4, \"action\": \"Filter\", \"Precision\": 1.0, \"Recall\": 0.8533333333333333, \"FScore\": 0.9152311481621827}, {\"nfrac\": 0.4, \"action\": \"Occurrence\", \"Precision\": 1.0, \"Recall\": 0.9866666666666667, \"FScore\": 0.993103448275862}, {\"nfrac\": 0.45, \"action\": \"Correlation\", \"Precision\": 1.0, \"Recall\": 0.9800000000000001, \"FScore\": 0.9896551724137931}, {\"nfrac\": 0.45, \"action\": \"Distribution\", \"Precision\": 1.0, \"Recall\": 1.0, \"FScore\": 1.0}, {\"nfrac\": 0.45, \"action\": \"Enhance\", \"Precision\": 1.0, \"Recall\": 1.0, \"FScore\": 1.0}, {\"nfrac\": 0.45, \"action\": \"Filter\", \"Precision\": 1.0, \"Recall\": 0.9266666666666667, \"FScore\": 0.9610837438423646}, {\"nfrac\": 0.45, \"action\": \"Occurrence\", \"Precision\": 1.0, \"Recall\": 0.9866666666666667, \"FScore\": 0.993103448275862}, {\"nfrac\": 0.5, \"action\": \"Correlation\", \"Precision\": 1.0, \"Recall\": 0.9800000000000001, \"FScore\": 0.9896551724137931}, {\"nfrac\": 0.5, \"action\": \"Distribution\", \"Precision\": 1.0, \"Recall\": 1.0, \"FScore\": 1.0}, {\"nfrac\": 0.5, \"action\": \"Enhance\", \"Precision\": 1.0, \"Recall\": 1.0, \"FScore\": 1.0}, {\"nfrac\": 0.5, \"action\": \"Filter\", \"Precision\": 1.0, \"Recall\": 0.9200000000000002, \"FScore\": 0.9576354679802955}, {\"nfrac\": 0.5, \"action\": \"Occurrence\", \"Precision\": 1.0, \"Recall\": 1.0, \"FScore\": 1.0}, {\"nfrac\": 0.55, \"action\": \"Correlation\", \"Precision\": 1.0, \"Recall\": 0.9733333333333334, \"FScore\": 0.9862068965517242}, {\"nfrac\": 0.55, \"action\": \"Distribution\", \"Precision\": 1.0, \"Recall\": 1.0, \"FScore\": 1.0}, {\"nfrac\": 0.55, \"action\": \"Enhance\", \"Precision\": 1.0, \"Recall\": 1.0, \"FScore\": 1.0}, {\"nfrac\": 0.55, \"action\": \"Filter\", \"Precision\": 1.0, \"Recall\": 0.9400000000000001, \"FScore\": 0.9684729064039409}, {\"nfrac\": 0.55, \"action\": \"Occurrence\", \"Precision\": 1.0, \"Recall\": 1.0, \"FScore\": 1.0}, {\"nfrac\": 0.6, \"action\": \"Correlation\", \"Precision\": 1.0, \"Recall\": 0.9800000000000001, \"FScore\": 0.9896551724137931}, {\"nfrac\": 0.6, \"action\": \"Distribution\", \"Precision\": 1.0, \"Recall\": 1.0, \"FScore\": 1.0}, {\"nfrac\": 0.6, \"action\": \"Enhance\", \"Precision\": 1.0, \"Recall\": 1.0, \"FScore\": 1.0}, {\"nfrac\": 0.6, \"action\": \"Filter\", \"Precision\": 1.0, \"Recall\": 0.9333333333333333, \"FScore\": 0.9652709359605911}, {\"nfrac\": 0.6, \"action\": \"Occurrence\", \"Precision\": 1.0, \"Recall\": 1.0, \"FScore\": 1.0}, {\"nfrac\": 0.65, \"action\": \"Correlation\", \"Precision\": 1.0, \"Recall\": 0.9800000000000001, \"FScore\": 0.9896551724137931}, {\"nfrac\": 0.65, \"action\": \"Distribution\", \"Precision\": 1.0, \"Recall\": 1.0, \"FScore\": 1.0}, {\"nfrac\": 0.65, \"action\": \"Enhance\", \"Precision\": 1.0, \"Recall\": 1.0, \"FScore\": 1.0}, {\"nfrac\": 0.65, \"action\": \"Filter\", \"Precision\": 1.0, \"Recall\": 0.9400000000000001, \"FScore\": 0.9689655172413791}, {\"nfrac\": 0.65, \"action\": \"Occurrence\", \"Precision\": 1.0, \"Recall\": 1.0, \"FScore\": 1.0}, {\"nfrac\": 0.7, \"action\": \"Correlation\", \"Precision\": 1.0, \"Recall\": 0.9733333333333334, \"FScore\": 0.9862068965517242}, {\"nfrac\": 0.7, \"action\": \"Distribution\", \"Precision\": 1.0, \"Recall\": 1.0, \"FScore\": 1.0}, {\"nfrac\": 0.7, \"action\": \"Enhance\", \"Precision\": 1.0, \"Recall\": 1.0, \"FScore\": 1.0}, {\"nfrac\": 0.7, \"action\": \"Filter\", \"Precision\": 1.0, \"Recall\": 0.9400000000000001, \"FScore\": 0.9689655172413794}, {\"nfrac\": 0.7, \"action\": \"Occurrence\", \"Precision\": 1.0, \"Recall\": 1.0, \"FScore\": 1.0}, {\"nfrac\": 0.75, \"action\": \"Correlation\", \"Precision\": 1.0, \"Recall\": 0.9800000000000001, \"FScore\": 0.9896551724137931}, {\"nfrac\": 0.75, \"action\": \"Distribution\", \"Precision\": 1.0, \"Recall\": 1.0, \"FScore\": 1.0}, {\"nfrac\": 0.75, \"action\": \"Enhance\", \"Precision\": 1.0, \"Recall\": 1.0, \"FScore\": 1.0}, {\"nfrac\": 0.75, \"action\": \"Filter\", \"Precision\": 1.0, \"Recall\": 0.9333333333333333, \"FScore\": 0.9655172413793103}, {\"nfrac\": 0.75, \"action\": \"Occurrence\", \"Precision\": 1.0, \"Recall\": 1.0, \"FScore\": 1.0}, {\"nfrac\": 0.8, \"action\": \"Correlation\", \"Precision\": 1.0, \"Recall\": 0.9933333333333334, \"FScore\": 0.9965517241379309}, {\"nfrac\": 0.8, \"action\": \"Distribution\", \"Precision\": 1.0, \"Recall\": 1.0, \"FScore\": 1.0}, {\"nfrac\": 0.8, \"action\": \"Enhance\", \"Precision\": 1.0, \"Recall\": 1.0, \"FScore\": 1.0}, {\"nfrac\": 0.8, \"action\": \"Filter\", \"Precision\": 1.0, \"Recall\": 0.9400000000000001, \"FScore\": 0.9684729064039409}, {\"nfrac\": 0.8, \"action\": \"Occurrence\", \"Precision\": 1.0, \"Recall\": 1.0, \"FScore\": 1.0}, {\"nfrac\": 0.85, \"action\": \"Correlation\", \"Precision\": 1.0, \"Recall\": 0.9800000000000001, \"FScore\": 0.9896551724137932}, {\"nfrac\": 0.85, \"action\": \"Distribution\", \"Precision\": 1.0, \"Recall\": 1.0, \"FScore\": 1.0}, {\"nfrac\": 0.85, \"action\": \"Enhance\", \"Precision\": 1.0, \"Recall\": 1.0, \"FScore\": 1.0}, {\"nfrac\": 0.85, \"action\": \"Filter\", \"Precision\": 1.0, \"Recall\": 0.9400000000000001, \"FScore\": 0.9689655172413791}, {\"nfrac\": 0.85, \"action\": \"Occurrence\", \"Precision\": 1.0, \"Recall\": 1.0, \"FScore\": 1.0}, {\"nfrac\": 0.9, \"action\": \"Correlation\", \"Precision\": 1.0, \"Recall\": 0.9933333333333334, \"FScore\": 0.9965517241379309}, {\"nfrac\": 0.9, \"action\": \"Distribution\", \"Precision\": 1.0, \"Recall\": 1.0, \"FScore\": 1.0}, {\"nfrac\": 0.9, \"action\": \"Enhance\", \"Precision\": 1.0, \"Recall\": 1.0, \"FScore\": 1.0}, {\"nfrac\": 0.9, \"action\": \"Filter\", \"Precision\": 1.0, \"Recall\": 0.9466666666666667, \"FScore\": 0.9724137931034482}, {\"nfrac\": 0.9, \"action\": \"Occurrence\", \"Precision\": 1.0, \"Recall\": 1.0, \"FScore\": 1.0}, {\"nfrac\": 0.95, \"action\": \"Correlation\", \"Precision\": 1.0, \"Recall\": 1.0, \"FScore\": 1.0}, {\"nfrac\": 0.95, \"action\": \"Distribution\", \"Precision\": 1.0, \"Recall\": 1.0, \"FScore\": 1.0}, {\"nfrac\": 0.95, \"action\": \"Enhance\", \"Precision\": 1.0, \"Recall\": 1.0, \"FScore\": 1.0}, {\"nfrac\": 0.95, \"action\": \"Filter\", \"Precision\": 1.0, \"Recall\": 0.9333333333333333, \"FScore\": 0.9652709359605911}, {\"nfrac\": 0.95, \"action\": \"Occurrence\", \"Precision\": 1.0, \"Recall\": 1.0, \"FScore\": 1.0}, {\"nfrac\": 1.0, \"action\": \"Correlation\", \"Precision\": 1.0, \"Recall\": 1.0, \"FScore\": 1.0}, {\"nfrac\": 1.0, \"action\": \"Distribution\", \"Precision\": 1.0, \"Recall\": 1.0, \"FScore\": 1.0}, {\"nfrac\": 1.0, \"action\": \"Enhance\", \"Precision\": 1.0, \"Recall\": 1.0, \"FScore\": 1.0}, {\"nfrac\": 1.0, \"action\": \"Filter\", \"Precision\": 1.0, \"Recall\": 1.0, \"FScore\": 1.0}, {\"nfrac\": 1.0, \"action\": \"Occurrence\", \"Precision\": 1.0, \"Recall\": 1.0, \"FScore\": 1.0}]}}, {\"mode\": \"vega-lite\"});\n",
       "</script>"
      ],
      "text/plain": [
       "alt.Chart(...)"
      ]
     },
     "execution_count": 52,
     "metadata": {},
     "output_type": "execute_result"
    }
   ],
   "source": [
    "import altair as alt\n",
    "# df=pd.read_csv(f\"result/sampling_error_communities.csv\")\n",
    "df = trial_df \n",
    "df = df.groupby([\"nfrac\",\"action\"]).mean().reset_index()\n",
    "alt.Chart(df,title=\"Communities (10k rows)\").mark_line().encode(\n",
    "    x = alt.X(\"nfrac\",title=\"Fraction of dataset sampled\"),#scale=alt.Scale(type=\"log\")),\n",
    "    y = alt.Y(\"Recall\",scale=alt.Scale(domain=(0.20,1.01))),\n",
    "    color = \"action\"\n",
    ").interactive()"
   ]
  },
  {
   "cell_type": "code",
   "execution_count": 18,
   "metadata": {},
   "outputs": [],
   "source": [
    "action_lst = [\"Occurrence\",\"Filter\",\"Correlation\",\"Distribution\",\"Enhance\"]\n",
    "trial = []\n",
    "\n",
    "for action in action_lst :\n",
    "    map1 = pkl.load(open(f\"tmp_communities100k/communities_gt_{action}.pkl\",'rb'))\n",
    "    for file in glob.glob(f\"tmp_communities100k/communities_nfrac*_{action}_*.pkl\"):\n",
    "        map2 = pkl.load(open(file,'rb'))\n",
    "        nfrac = float(file.split(\"/\")[1:][0].split(\"_\")[1][5:])\n",
    "        prf = compute_prf_between_vislists(map1,map2)\n",
    "        trial.append([nfrac, action, prf[0], prf[1], prf[2]])\n",
    "    # Inserting endpoints \n",
    "    trial.append([0,action, 0,0,0])\n",
    "    trial.append([1,action, 1,1,1])\n",
    "trial_df = pd.DataFrame(\n",
    "    trial,\n",
    "    columns=[\"nfrac\", \"action\", \"Precision\",\"Recall\",\"FScore\"],\n",
    ") "
   ]
  },
  {
   "cell_type": "code",
   "execution_count": 111,
   "metadata": {},
   "outputs": [
    {
     "data": {
      "text/html": [
       "\n",
       "<div id=\"altair-viz-2e95255fb5d0487792088abcb5bfa8a0\"></div>\n",
       "<script type=\"text/javascript\">\n",
       "  (function(spec, embedOpt){\n",
       "    let outputDiv = document.currentScript.previousElementSibling;\n",
       "    if (outputDiv.id !== \"altair-viz-2e95255fb5d0487792088abcb5bfa8a0\") {\n",
       "      outputDiv = document.getElementById(\"altair-viz-2e95255fb5d0487792088abcb5bfa8a0\");\n",
       "    }\n",
       "    const paths = {\n",
       "      \"vega\": \"https://cdn.jsdelivr.net/npm//vega@5?noext\",\n",
       "      \"vega-lib\": \"https://cdn.jsdelivr.net/npm//vega-lib?noext\",\n",
       "      \"vega-lite\": \"https://cdn.jsdelivr.net/npm//vega-lite@4.8.1?noext\",\n",
       "      \"vega-embed\": \"https://cdn.jsdelivr.net/npm//vega-embed@6?noext\",\n",
       "    };\n",
       "\n",
       "    function loadScript(lib) {\n",
       "      return new Promise(function(resolve, reject) {\n",
       "        var s = document.createElement('script');\n",
       "        s.src = paths[lib];\n",
       "        s.async = true;\n",
       "        s.onload = () => resolve(paths[lib]);\n",
       "        s.onerror = () => reject(`Error loading script: ${paths[lib]}`);\n",
       "        document.getElementsByTagName(\"head\")[0].appendChild(s);\n",
       "      });\n",
       "    }\n",
       "\n",
       "    function showError(err) {\n",
       "      outputDiv.innerHTML = `<div class=\"error\" style=\"color:red;\">${err}</div>`;\n",
       "      throw err;\n",
       "    }\n",
       "\n",
       "    function displayChart(vegaEmbed) {\n",
       "      vegaEmbed(outputDiv, spec, embedOpt)\n",
       "        .catch(err => showError(`Javascript Error: ${err.message}<br>This usually means there's a typo in your chart specification. See the javascript console for the full traceback.`));\n",
       "    }\n",
       "\n",
       "    if(typeof define === \"function\" && define.amd) {\n",
       "      requirejs.config({paths});\n",
       "      require([\"vega-embed\"], displayChart, err => showError(`Error loading script: ${err.message}`));\n",
       "    } else if (typeof vegaEmbed === \"function\") {\n",
       "      displayChart(vegaEmbed);\n",
       "    } else {\n",
       "      loadScript(\"vega\")\n",
       "        .then(() => loadScript(\"vega-lite\"))\n",
       "        .then(() => loadScript(\"vega-embed\"))\n",
       "        .catch(showError)\n",
       "        .then(() => displayChart(vegaEmbed));\n",
       "    }\n",
       "  })({\"config\": {\"view\": {\"continuousWidth\": 400, \"continuousHeight\": 300}}, \"data\": {\"name\": \"data-b8762c960bda7b0b7976aecae2b5ae2c\"}, \"mark\": \"line\", \"encoding\": {\"color\": {\"type\": \"nominal\", \"field\": \"action\"}, \"x\": {\"type\": \"quantitative\", \"field\": \"nfrac\", \"title\": \"Fraction of dataset sampled\"}, \"y\": {\"type\": \"quantitative\", \"field\": \"Recall\", \"scale\": {\"domain\": [0, 1.01]}}}, \"selection\": {\"selector031\": {\"type\": \"interval\", \"bind\": \"scales\", \"encodings\": [\"x\", \"y\"]}}, \"title\": \"Communities (100k rows)\", \"$schema\": \"https://vega.github.io/schema/vega-lite/v4.8.1.json\", \"datasets\": {\"data-b8762c960bda7b0b7976aecae2b5ae2c\": [{\"nfrac\": 0.0, \"action\": \"Correlation\", \"Precision\": 0.0, \"Recall\": 0.0, \"FScore\": 0.0}, {\"nfrac\": 0.0, \"action\": \"Distribution\", \"Precision\": 0.0, \"Recall\": 0.0, \"FScore\": 0.0}, {\"nfrac\": 0.0, \"action\": \"Enhance\", \"Precision\": 0.0, \"Recall\": 0.0, \"FScore\": 0.0}, {\"nfrac\": 0.0, \"action\": \"Filter\", \"Precision\": 0.0, \"Recall\": 0.0, \"FScore\": 0.0}, {\"nfrac\": 0.0, \"action\": \"Occurrence\", \"Precision\": 0.0, \"Recall\": 0.0, \"FScore\": 0.0}, {\"nfrac\": 0.05, \"action\": \"Correlation\", \"Precision\": 1.0, \"Recall\": 0.9533333333333335, \"FScore\": 0.9758620689655169}, {\"nfrac\": 0.05, \"action\": \"Distribution\", \"Precision\": 1.0, \"Recall\": 1.0, \"FScore\": 1.0}, {\"nfrac\": 0.05, \"action\": \"Enhance\", \"Precision\": 1.0, \"Recall\": 1.0, \"FScore\": 1.0}, {\"nfrac\": 0.05, \"action\": \"Filter\", \"Precision\": 1.0, \"Recall\": 0.9033333333333333, \"FScore\": 0.9461102690413036}, {\"nfrac\": 0.05, \"action\": \"Occurrence\", \"Precision\": 1.0, \"Recall\": 0.9333333333333333, \"FScore\": 0.9655172413793099}, {\"nfrac\": 0.1, \"action\": \"Correlation\", \"Precision\": 1.0, \"Recall\": 0.965079365079365, \"FScore\": 0.9819376026272576}, {\"nfrac\": 0.1, \"action\": \"Distribution\", \"Precision\": 1.0, \"Recall\": 0.9968253968253968, \"FScore\": 0.9983579638752053}, {\"nfrac\": 0.1, \"action\": \"Enhance\", \"Precision\": 1.0, \"Recall\": 1.0, \"FScore\": 1.0}, {\"nfrac\": 0.1, \"action\": \"Filter\", \"Precision\": 1.0, \"Recall\": 0.9492063492063492, \"FScore\": 0.9733755571193993}, {\"nfrac\": 0.1, \"action\": \"Occurrence\", \"Precision\": 1.0, \"Recall\": 0.9333333333333333, \"FScore\": 0.9655172413793099}, {\"nfrac\": 0.15, \"action\": \"Correlation\", \"Precision\": 1.0, \"Recall\": 0.9600000000000002, \"FScore\": 0.9793103448275862}, {\"nfrac\": 0.15, \"action\": \"Distribution\", \"Precision\": 1.0, \"Recall\": 1.0, \"FScore\": 1.0}, {\"nfrac\": 0.15, \"action\": \"Enhance\", \"Precision\": 1.0, \"Recall\": 1.0, \"FScore\": 1.0}, {\"nfrac\": 0.15, \"action\": \"Filter\", \"Precision\": 1.0, \"Recall\": 0.9566666666666667, \"FScore\": 0.9772167487684728}, {\"nfrac\": 0.15, \"action\": \"Occurrence\", \"Precision\": 1.0, \"Recall\": 0.9333333333333333, \"FScore\": 0.9655172413793099}, {\"nfrac\": 0.2, \"action\": \"Correlation\", \"Precision\": 1.0, \"Recall\": 0.9733333333333334, \"FScore\": 0.9862068965517239}, {\"nfrac\": 0.2, \"action\": \"Distribution\", \"Precision\": 1.0, \"Recall\": 1.0, \"FScore\": 1.0}, {\"nfrac\": 0.2, \"action\": \"Enhance\", \"Precision\": 1.0, \"Recall\": 1.0, \"FScore\": 1.0}, {\"nfrac\": 0.2, \"action\": \"Filter\", \"Precision\": 1.0, \"Recall\": 0.9666666666666668, \"FScore\": 0.982758620689655}, {\"nfrac\": 0.2, \"action\": \"Occurrence\", \"Precision\": 1.0, \"Recall\": 0.9333333333333333, \"FScore\": 0.9655172413793099}, {\"nfrac\": 0.25, \"action\": \"Correlation\", \"Precision\": 1.0, \"Recall\": 0.9833333333333334, \"FScore\": 0.9913793103448276}, {\"nfrac\": 0.25, \"action\": \"Distribution\", \"Precision\": 1.0, \"Recall\": 1.0, \"FScore\": 1.0}, {\"nfrac\": 0.25, \"action\": \"Enhance\", \"Precision\": 1.0, \"Recall\": 1.0, \"FScore\": 1.0}, {\"nfrac\": 0.25, \"action\": \"Filter\", \"Precision\": 1.0, \"Recall\": 0.9600000000000002, \"FScore\": 0.9793103448275859}, {\"nfrac\": 0.25, \"action\": \"Occurrence\", \"Precision\": 1.0, \"Recall\": 0.9333333333333333, \"FScore\": 0.9655172413793099}, {\"nfrac\": 0.3, \"action\": \"Correlation\", \"Precision\": 1.0, \"Recall\": 0.9766666666666668, \"FScore\": 0.9879310344827583}, {\"nfrac\": 0.3, \"action\": \"Distribution\", \"Precision\": 1.0, \"Recall\": 1.0, \"FScore\": 1.0}, {\"nfrac\": 0.3, \"action\": \"Enhance\", \"Precision\": 1.0, \"Recall\": 1.0, \"FScore\": 1.0}, {\"nfrac\": 0.3, \"action\": \"Filter\", \"Precision\": 1.0, \"Recall\": 0.9700000000000001, \"FScore\": 0.9844827586206893}, {\"nfrac\": 0.3, \"action\": \"Occurrence\", \"Precision\": 1.0, \"Recall\": 0.9333333333333333, \"FScore\": 0.9655172413793099}, {\"nfrac\": 0.35, \"action\": \"Correlation\", \"Precision\": 1.0, \"Recall\": 0.9766666666666668, \"FScore\": 0.9879310344827585}, {\"nfrac\": 0.35, \"action\": \"Distribution\", \"Precision\": 1.0, \"Recall\": 1.0, \"FScore\": 1.0}, {\"nfrac\": 0.35, \"action\": \"Enhance\", \"Precision\": 1.0, \"Recall\": 1.0, \"FScore\": 1.0}, {\"nfrac\": 0.35, \"action\": \"Filter\", \"Precision\": 1.0, \"Recall\": 0.9766666666666668, \"FScore\": 0.9879310344827585}, {\"nfrac\": 0.35, \"action\": \"Occurrence\", \"Precision\": 1.0, \"Recall\": 0.9333333333333333, \"FScore\": 0.9655172413793099}, {\"nfrac\": 0.4, \"action\": \"Correlation\", \"Precision\": 1.0, \"Recall\": 0.9833333333333334, \"FScore\": 0.9913793103448274}, {\"nfrac\": 0.4, \"action\": \"Distribution\", \"Precision\": 1.0, \"Recall\": 1.0, \"FScore\": 1.0}, {\"nfrac\": 0.4, \"action\": \"Enhance\", \"Precision\": 1.0, \"Recall\": 1.0, \"FScore\": 1.0}, {\"nfrac\": 0.4, \"action\": \"Filter\", \"Precision\": 1.0, \"Recall\": 0.9633333333333335, \"FScore\": 0.9810344827586205}, {\"nfrac\": 0.4, \"action\": \"Occurrence\", \"Precision\": 1.0, \"Recall\": 0.9333333333333333, \"FScore\": 0.9655172413793099}, {\"nfrac\": 0.45, \"action\": \"Correlation\", \"Precision\": 1.0, \"Recall\": 0.9733333333333334, \"FScore\": 0.986206896551724}, {\"nfrac\": 0.45, \"action\": \"Distribution\", \"Precision\": 1.0, \"Recall\": 1.0, \"FScore\": 1.0}, {\"nfrac\": 0.45, \"action\": \"Enhance\", \"Precision\": 1.0, \"Recall\": 1.0, \"FScore\": 1.0}, {\"nfrac\": 0.45, \"action\": \"Filter\", \"Precision\": 1.0, \"Recall\": 0.9700000000000001, \"FScore\": 0.9844827586206895}, {\"nfrac\": 0.45, \"action\": \"Occurrence\", \"Precision\": 1.0, \"Recall\": 0.9366666666666668, \"FScore\": 0.9672413793103445}, {\"nfrac\": 0.5, \"action\": \"Correlation\", \"Precision\": 1.0, \"Recall\": 0.9833333333333334, \"FScore\": 0.9913793103448276}, {\"nfrac\": 0.5, \"action\": \"Distribution\", \"Precision\": 1.0, \"Recall\": 1.0, \"FScore\": 1.0}, {\"nfrac\": 0.5, \"action\": \"Enhance\", \"Precision\": 1.0, \"Recall\": 1.0, \"FScore\": 1.0}, {\"nfrac\": 0.5, \"action\": \"Filter\", \"Precision\": 1.0, \"Recall\": 0.9633333333333335, \"FScore\": 0.9810344827586205}, {\"nfrac\": 0.5, \"action\": \"Occurrence\", \"Precision\": 1.0, \"Recall\": 0.9333333333333333, \"FScore\": 0.9655172413793099}, {\"nfrac\": 0.55, \"action\": \"Correlation\", \"Precision\": 1.0, \"Recall\": 0.9800000000000001, \"FScore\": 0.9896551724137929}, {\"nfrac\": 0.55, \"action\": \"Distribution\", \"Precision\": 1.0, \"Recall\": 1.0, \"FScore\": 1.0}, {\"nfrac\": 0.55, \"action\": \"Enhance\", \"Precision\": 1.0, \"Recall\": 1.0, \"FScore\": 1.0}, {\"nfrac\": 0.55, \"action\": \"Filter\", \"Precision\": 1.0, \"Recall\": 0.9733333333333334, \"FScore\": 0.986206896551724}, {\"nfrac\": 0.55, \"action\": \"Occurrence\", \"Precision\": 1.0, \"Recall\": 0.9366666666666668, \"FScore\": 0.9672413793103445}, {\"nfrac\": 0.6, \"action\": \"Correlation\", \"Precision\": 1.0, \"Recall\": 0.9833333333333334, \"FScore\": 0.9913793103448276}, {\"nfrac\": 0.6, \"action\": \"Distribution\", \"Precision\": 1.0, \"Recall\": 1.0, \"FScore\": 1.0}, {\"nfrac\": 0.6, \"action\": \"Enhance\", \"Precision\": 1.0, \"Recall\": 1.0, \"FScore\": 1.0}, {\"nfrac\": 0.6, \"action\": \"Filter\", \"Precision\": 1.0, \"Recall\": 0.9666666666666668, \"FScore\": 0.982758620689655}, {\"nfrac\": 0.6, \"action\": \"Occurrence\", \"Precision\": 1.0, \"Recall\": 0.9400000000000001, \"FScore\": 0.968965517241379}, {\"nfrac\": 0.65, \"action\": \"Correlation\", \"Precision\": 1.0, \"Recall\": 0.99, \"FScore\": 0.9948275862068965}, {\"nfrac\": 0.65, \"action\": \"Distribution\", \"Precision\": 1.0, \"Recall\": 1.0, \"FScore\": 1.0}, {\"nfrac\": 0.65, \"action\": \"Enhance\", \"Precision\": 1.0, \"Recall\": 1.0, \"FScore\": 1.0}, {\"nfrac\": 0.65, \"action\": \"Filter\", \"Precision\": 1.0, \"Recall\": 0.9666666666666668, \"FScore\": 0.982758620689655}, {\"nfrac\": 0.65, \"action\": \"Occurrence\", \"Precision\": 1.0, \"Recall\": 0.9400000000000001, \"FScore\": 0.968965517241379}, {\"nfrac\": 0.7, \"action\": \"Correlation\", \"Precision\": 1.0, \"Recall\": 0.9933333333333334, \"FScore\": 0.9965517241379309}, {\"nfrac\": 0.7, \"action\": \"Distribution\", \"Precision\": 1.0, \"Recall\": 1.0, \"FScore\": 1.0}, {\"nfrac\": 0.7, \"action\": \"Enhance\", \"Precision\": 1.0, \"Recall\": 1.0, \"FScore\": 1.0}, {\"nfrac\": 0.7, \"action\": \"Filter\", \"Precision\": 1.0, \"Recall\": 0.9700000000000001, \"FScore\": 0.9844827586206895}, {\"nfrac\": 0.7, \"action\": \"Occurrence\", \"Precision\": 1.0, \"Recall\": 0.9400000000000002, \"FScore\": 0.968965517241379}, {\"nfrac\": 0.75, \"action\": \"Correlation\", \"Precision\": 1.0, \"Recall\": 0.9933333333333334, \"FScore\": 0.9965517241379309}, {\"nfrac\": 0.75, \"action\": \"Distribution\", \"Precision\": 1.0, \"Recall\": 1.0, \"FScore\": 1.0}, {\"nfrac\": 0.75, \"action\": \"Enhance\", \"Precision\": 1.0, \"Recall\": 1.0, \"FScore\": 1.0}, {\"nfrac\": 0.75, \"action\": \"Filter\", \"Precision\": 1.0, \"Recall\": 0.9466666666666667, \"FScore\": 0.972413793103448}, {\"nfrac\": 0.75, \"action\": \"Occurrence\", \"Precision\": 1.0, \"Recall\": 0.9400000000000002, \"FScore\": 0.968965517241379}, {\"nfrac\": 0.8, \"action\": \"Correlation\", \"Precision\": 1.0, \"Recall\": 0.9966666666666667, \"FScore\": 0.9982758620689655}, {\"nfrac\": 0.8, \"action\": \"Distribution\", \"Precision\": 1.0, \"Recall\": 1.0, \"FScore\": 1.0}, {\"nfrac\": 0.8, \"action\": \"Enhance\", \"Precision\": 1.0, \"Recall\": 1.0, \"FScore\": 1.0}, {\"nfrac\": 0.8, \"action\": \"Filter\", \"Precision\": 1.0, \"Recall\": 0.9666666666666666, \"FScore\": 0.982758620689655}, {\"nfrac\": 0.8, \"action\": \"Occurrence\", \"Precision\": 1.0, \"Recall\": 0.9466666666666669, \"FScore\": 0.972413793103448}, {\"nfrac\": 0.85, \"action\": \"Correlation\", \"Precision\": 1.0, \"Recall\": 0.9933333333333334, \"FScore\": 0.9965517241379309}, {\"nfrac\": 0.85, \"action\": \"Distribution\", \"Precision\": 1.0, \"Recall\": 1.0, \"FScore\": 1.0}, {\"nfrac\": 0.85, \"action\": \"Enhance\", \"Precision\": 1.0, \"Recall\": 1.0, \"FScore\": 1.0}, {\"nfrac\": 0.85, \"action\": \"Filter\", \"Precision\": 1.0, \"Recall\": 0.9566666666666668, \"FScore\": 0.9775862068965514}, {\"nfrac\": 0.85, \"action\": \"Occurrence\", \"Precision\": 1.0, \"Recall\": 0.9466666666666667, \"FScore\": 0.972413793103448}, {\"nfrac\": 0.9, \"action\": \"Correlation\", \"Precision\": 1.0, \"Recall\": 0.9966666666666667, \"FScore\": 0.9982758620689655}, {\"nfrac\": 0.9, \"action\": \"Distribution\", \"Precision\": 1.0, \"Recall\": 1.0, \"FScore\": 1.0}, {\"nfrac\": 0.9, \"action\": \"Enhance\", \"Precision\": 1.0, \"Recall\": 1.0, \"FScore\": 1.0}, {\"nfrac\": 0.9, \"action\": \"Filter\", \"Precision\": 1.0, \"Recall\": 0.9766666666666668, \"FScore\": 0.9879310344827585}, {\"nfrac\": 0.9, \"action\": \"Occurrence\", \"Precision\": 1.0, \"Recall\": 0.9533333333333335, \"FScore\": 0.9758620689655171}, {\"nfrac\": 0.95, \"action\": \"Correlation\", \"Precision\": 1.0, \"Recall\": 1.0, \"FScore\": 1.0}, {\"nfrac\": 0.95, \"action\": \"Distribution\", \"Precision\": 1.0, \"Recall\": 1.0, \"FScore\": 1.0}, {\"nfrac\": 0.95, \"action\": \"Enhance\", \"Precision\": 1.0, \"Recall\": 1.0, \"FScore\": 1.0}, {\"nfrac\": 0.95, \"action\": \"Filter\", \"Precision\": 1.0, \"Recall\": 0.9700000000000001, \"FScore\": 0.9844827586206895}, {\"nfrac\": 0.95, \"action\": \"Occurrence\", \"Precision\": 1.0, \"Recall\": 0.95, \"FScore\": 0.9741379310344825}, {\"nfrac\": 1.0, \"action\": \"Correlation\", \"Precision\": 1.0, \"Recall\": 1.0, \"FScore\": 1.0}, {\"nfrac\": 1.0, \"action\": \"Distribution\", \"Precision\": 1.0, \"Recall\": 1.0, \"FScore\": 1.0}, {\"nfrac\": 1.0, \"action\": \"Enhance\", \"Precision\": 1.0, \"Recall\": 1.0, \"FScore\": 1.0}, {\"nfrac\": 1.0, \"action\": \"Filter\", \"Precision\": 1.0, \"Recall\": 1.0, \"FScore\": 1.0}, {\"nfrac\": 1.0, \"action\": \"Occurrence\", \"Precision\": 1.0, \"Recall\": 1.0, \"FScore\": 1.0}]}}, {\"mode\": \"vega-lite\"});\n",
       "</script>"
      ],
      "text/plain": [
       "alt.Chart(...)"
      ]
     },
     "execution_count": 111,
     "metadata": {},
     "output_type": "execute_result"
    }
   ],
   "source": [
    "import altair as alt\n",
    "# df=pd.read_csv(f\"result/sampling_error_communities.csv\")\n",
    "df = trial_df \n",
    "df = df.groupby([\"nfrac\",\"action\"]).mean().reset_index()\n",
    "alt.Chart(df,title=\"Communities (100k rows)\").mark_line().encode(\n",
    "    x = alt.X(\"nfrac\",title=\"Fraction of dataset sampled\"),#scale=alt.Scale(type=\"log\")),\n",
    "    y = alt.Y(\"Recall\",scale=alt.Scale(domain=(0,1.01))),\n",
    "    color = \"action\"\n",
    ").interactive()"
   ]
  },
  {
   "cell_type": "code",
   "execution_count": 112,
   "metadata": {},
   "outputs": [],
   "source": [
    "action_lst = [\"Occurrence\",\"Filter\",\"Correlation\",\"Distribution\",\"Enhance\"]\n",
    "trial = []\n",
    "\n",
    "for action in action_lst :\n",
    "    map1 = pkl.load(open(f\"tmp_communities5000/communities_gt_{action}.pkl\",'rb'))\n",
    "    for file in glob.glob(f\"tmp_communities5000/communities_nfrac*_{action}_*.pkl\"):\n",
    "        map2 = pkl.load(open(file,'rb'))\n",
    "        nfrac = float(file.split(\"/\")[1:][0].split(\"_\")[1][5:])\n",
    "        prf = compute_prf_between_vislists(map1,map2)\n",
    "        trial.append([nfrac, action, prf[0], prf[1], prf[2]])\n",
    "    # Inserting endpoints \n",
    "    trial.append([0,action, 0,0,0])\n",
    "    trial.append([1,action, 1,1,1])\n",
    "trial_df = pd.DataFrame(\n",
    "    trial,\n",
    "    columns=[\"nfrac\", \"action\", \"Precision\",\"Recall\",\"FScore\"],\n",
    ") "
   ]
  },
  {
   "cell_type": "code",
   "execution_count": 113,
   "metadata": {},
   "outputs": [
    {
     "data": {
      "text/html": [
       "\n",
       "<div id=\"altair-viz-106385f9e35a4a1fa2ac13493bbe97e8\"></div>\n",
       "<script type=\"text/javascript\">\n",
       "  (function(spec, embedOpt){\n",
       "    let outputDiv = document.currentScript.previousElementSibling;\n",
       "    if (outputDiv.id !== \"altair-viz-106385f9e35a4a1fa2ac13493bbe97e8\") {\n",
       "      outputDiv = document.getElementById(\"altair-viz-106385f9e35a4a1fa2ac13493bbe97e8\");\n",
       "    }\n",
       "    const paths = {\n",
       "      \"vega\": \"https://cdn.jsdelivr.net/npm//vega@5?noext\",\n",
       "      \"vega-lib\": \"https://cdn.jsdelivr.net/npm//vega-lib?noext\",\n",
       "      \"vega-lite\": \"https://cdn.jsdelivr.net/npm//vega-lite@4.8.1?noext\",\n",
       "      \"vega-embed\": \"https://cdn.jsdelivr.net/npm//vega-embed@6?noext\",\n",
       "    };\n",
       "\n",
       "    function loadScript(lib) {\n",
       "      return new Promise(function(resolve, reject) {\n",
       "        var s = document.createElement('script');\n",
       "        s.src = paths[lib];\n",
       "        s.async = true;\n",
       "        s.onload = () => resolve(paths[lib]);\n",
       "        s.onerror = () => reject(`Error loading script: ${paths[lib]}`);\n",
       "        document.getElementsByTagName(\"head\")[0].appendChild(s);\n",
       "      });\n",
       "    }\n",
       "\n",
       "    function showError(err) {\n",
       "      outputDiv.innerHTML = `<div class=\"error\" style=\"color:red;\">${err}</div>`;\n",
       "      throw err;\n",
       "    }\n",
       "\n",
       "    function displayChart(vegaEmbed) {\n",
       "      vegaEmbed(outputDiv, spec, embedOpt)\n",
       "        .catch(err => showError(`Javascript Error: ${err.message}<br>This usually means there's a typo in your chart specification. See the javascript console for the full traceback.`));\n",
       "    }\n",
       "\n",
       "    if(typeof define === \"function\" && define.amd) {\n",
       "      requirejs.config({paths});\n",
       "      require([\"vega-embed\"], displayChart, err => showError(`Error loading script: ${err.message}`));\n",
       "    } else if (typeof vegaEmbed === \"function\") {\n",
       "      displayChart(vegaEmbed);\n",
       "    } else {\n",
       "      loadScript(\"vega\")\n",
       "        .then(() => loadScript(\"vega-lite\"))\n",
       "        .then(() => loadScript(\"vega-embed\"))\n",
       "        .catch(showError)\n",
       "        .then(() => displayChart(vegaEmbed));\n",
       "    }\n",
       "  })({\"config\": {\"view\": {\"continuousWidth\": 400, \"continuousHeight\": 300}}, \"data\": {\"name\": \"data-5b744ca92db1843394889c660dd1abdf\"}, \"mark\": \"line\", \"encoding\": {\"color\": {\"type\": \"nominal\", \"field\": \"action\"}, \"x\": {\"type\": \"quantitative\", \"field\": \"nfrac\", \"title\": \"Fraction of dataset sampled\"}, \"y\": {\"type\": \"quantitative\", \"field\": \"Recall\", \"scale\": {\"domain\": [0, 1.01]}}}, \"selection\": {\"selector032\": {\"type\": \"interval\", \"bind\": \"scales\", \"encodings\": [\"x\", \"y\"]}}, \"title\": \"Communities (5k rows)\", \"$schema\": \"https://vega.github.io/schema/vega-lite/v4.8.1.json\", \"datasets\": {\"data-5b744ca92db1843394889c660dd1abdf\": [{\"nfrac\": 0.0, \"action\": \"Correlation\", \"Precision\": 0.0, \"Recall\": 0.0, \"FScore\": 0.0}, {\"nfrac\": 0.0, \"action\": \"Distribution\", \"Precision\": 0.0, \"Recall\": 0.0, \"FScore\": 0.0}, {\"nfrac\": 0.0, \"action\": \"Enhance\", \"Precision\": 0.0, \"Recall\": 0.0, \"FScore\": 0.0}, {\"nfrac\": 0.0, \"action\": \"Filter\", \"Precision\": 0.0, \"Recall\": 0.0, \"FScore\": 0.0}, {\"nfrac\": 0.0, \"action\": \"Occurrence\", \"Precision\": 0.0, \"Recall\": 0.0, \"FScore\": 0.0}, {\"nfrac\": 0.05, \"action\": \"Correlation\", \"Precision\": 1.0, \"Recall\": 0.9666666666666667, \"FScore\": 0.9827586206896552}, {\"nfrac\": 0.05, \"action\": \"Distribution\", \"Precision\": 1.0, \"Recall\": 0.9333333333333333, \"FScore\": 0.9642857142857143}, {\"nfrac\": 0.05, \"action\": \"Enhance\", \"Precision\": 1.0, \"Recall\": 0.9666666666666667, \"FScore\": 0.9827586206896552}, {\"nfrac\": 0.05, \"action\": \"Filter\", \"Precision\": 1.0, \"Recall\": 0.13333333333333333, \"FScore\": 0.23529411764705882}, {\"nfrac\": 0.05, \"action\": \"Occurrence\", \"Precision\": 1.0, \"Recall\": 0.9, \"FScore\": 0.9470443349753694}, {\"nfrac\": 0.16, \"action\": \"Correlation\", \"Precision\": 1.0, \"Recall\": 0.9, \"FScore\": 0.9470443349753694}, {\"nfrac\": 0.16, \"action\": \"Distribution\", \"Precision\": 1.0, \"Recall\": 0.9666666666666667, \"FScore\": 0.9827586206896552}, {\"nfrac\": 0.16, \"action\": \"Enhance\", \"Precision\": 1.0, \"Recall\": 1.0, \"FScore\": 1.0}, {\"nfrac\": 0.16, \"action\": \"Filter\", \"Precision\": 1.0, \"Recall\": 0.43333333333333335, \"FScore\": 0.6038961038961039}, {\"nfrac\": 0.16, \"action\": \"Occurrence\", \"Precision\": 1.0, \"Recall\": 0.9666666666666667, \"FScore\": 0.9827586206896552}, {\"nfrac\": 0.27, \"action\": \"Correlation\", \"Precision\": 1.0, \"Recall\": 0.9666666666666667, \"FScore\": 0.9827586206896552}, {\"nfrac\": 0.27, \"action\": \"Distribution\", \"Precision\": 1.0, \"Recall\": 0.9333333333333333, \"FScore\": 0.9642857142857143}, {\"nfrac\": 0.27, \"action\": \"Enhance\", \"Precision\": 1.0, \"Recall\": 1.0, \"FScore\": 1.0}, {\"nfrac\": 0.27, \"action\": \"Filter\", \"Precision\": 1.0, \"Recall\": 0.6, \"FScore\": 0.7499999999999999}, {\"nfrac\": 0.27, \"action\": \"Occurrence\", \"Precision\": 1.0, \"Recall\": 0.9666666666666667, \"FScore\": 0.9827586206896552}, {\"nfrac\": 0.39, \"action\": \"Correlation\", \"Precision\": 1.0, \"Recall\": 1.0, \"FScore\": 1.0}, {\"nfrac\": 0.39, \"action\": \"Distribution\", \"Precision\": 1.0, \"Recall\": 0.9666666666666667, \"FScore\": 0.9827586206896552}, {\"nfrac\": 0.39, \"action\": \"Enhance\", \"Precision\": 1.0, \"Recall\": 1.0, \"FScore\": 1.0}, {\"nfrac\": 0.39, \"action\": \"Filter\", \"Precision\": 1.0, \"Recall\": 0.7, \"FScore\": 0.823076923076923}, {\"nfrac\": 0.39, \"action\": \"Occurrence\", \"Precision\": 1.0, \"Recall\": 0.9666666666666667, \"FScore\": 0.9827586206896552}, {\"nfrac\": 0.5, \"action\": \"Correlation\", \"Precision\": 1.0, \"Recall\": 1.0, \"FScore\": 1.0}, {\"nfrac\": 0.5, \"action\": \"Distribution\", \"Precision\": 1.0, \"Recall\": 0.9666666666666667, \"FScore\": 0.9827586206896552}, {\"nfrac\": 0.5, \"action\": \"Enhance\", \"Precision\": 1.0, \"Recall\": 1.0, \"FScore\": 1.0}, {\"nfrac\": 0.5, \"action\": \"Filter\", \"Precision\": 1.0, \"Recall\": 0.6666666666666666, \"FScore\": 0.8}, {\"nfrac\": 0.5, \"action\": \"Occurrence\", \"Precision\": 1.0, \"Recall\": 1.0, \"FScore\": 1.0}, {\"nfrac\": 0.61, \"action\": \"Correlation\", \"Precision\": 1.0, \"Recall\": 1.0, \"FScore\": 1.0}, {\"nfrac\": 0.61, \"action\": \"Distribution\", \"Precision\": 1.0, \"Recall\": 0.9333333333333333, \"FScore\": 0.9655172413793104}, {\"nfrac\": 0.61, \"action\": \"Enhance\", \"Precision\": 1.0, \"Recall\": 1.0, \"FScore\": 1.0}, {\"nfrac\": 0.61, \"action\": \"Filter\", \"Precision\": 1.0, \"Recall\": 0.8, \"FScore\": 0.8873626373626373}, {\"nfrac\": 0.61, \"action\": \"Occurrence\", \"Precision\": 1.0, \"Recall\": 1.0, \"FScore\": 1.0}, {\"nfrac\": 0.72, \"action\": \"Correlation\", \"Precision\": 1.0, \"Recall\": 1.0, \"FScore\": 1.0}, {\"nfrac\": 0.72, \"action\": \"Distribution\", \"Precision\": 1.0, \"Recall\": 0.9666666666666667, \"FScore\": 0.9827586206896552}, {\"nfrac\": 0.72, \"action\": \"Enhance\", \"Precision\": 1.0, \"Recall\": 1.0, \"FScore\": 1.0}, {\"nfrac\": 0.72, \"action\": \"Filter\", \"Precision\": 1.0, \"Recall\": 0.8, \"FScore\": 0.8827586206896552}, {\"nfrac\": 0.72, \"action\": \"Occurrence\", \"Precision\": 1.0, \"Recall\": 1.0, \"FScore\": 1.0}, {\"nfrac\": 0.84, \"action\": \"Correlation\", \"Precision\": 1.0, \"Recall\": 1.0, \"FScore\": 1.0}, {\"nfrac\": 0.84, \"action\": \"Distribution\", \"Precision\": 1.0, \"Recall\": 1.0, \"FScore\": 1.0}, {\"nfrac\": 0.84, \"action\": \"Enhance\", \"Precision\": 1.0, \"Recall\": 1.0, \"FScore\": 1.0}, {\"nfrac\": 0.84, \"action\": \"Filter\", \"Precision\": 1.0, \"Recall\": 0.9333333333333333, \"FScore\": 0.9655172413793104}, {\"nfrac\": 0.84, \"action\": \"Occurrence\", \"Precision\": 1.0, \"Recall\": 1.0, \"FScore\": 1.0}, {\"nfrac\": 0.95, \"action\": \"Correlation\", \"Precision\": 1.0, \"Recall\": 1.0, \"FScore\": 1.0}, {\"nfrac\": 0.95, \"action\": \"Distribution\", \"Precision\": 1.0, \"Recall\": 1.0, \"FScore\": 1.0}, {\"nfrac\": 0.95, \"action\": \"Enhance\", \"Precision\": 1.0, \"Recall\": 1.0, \"FScore\": 1.0}, {\"nfrac\": 0.95, \"action\": \"Filter\", \"Precision\": 1.0, \"Recall\": 0.9333333333333333, \"FScore\": 0.9655172413793104}, {\"nfrac\": 0.95, \"action\": \"Occurrence\", \"Precision\": 1.0, \"Recall\": 1.0, \"FScore\": 1.0}, {\"nfrac\": 1.0, \"action\": \"Correlation\", \"Precision\": 1.0, \"Recall\": 1.0, \"FScore\": 1.0}, {\"nfrac\": 1.0, \"action\": \"Distribution\", \"Precision\": 1.0, \"Recall\": 1.0, \"FScore\": 1.0}, {\"nfrac\": 1.0, \"action\": \"Enhance\", \"Precision\": 1.0, \"Recall\": 1.0, \"FScore\": 1.0}, {\"nfrac\": 1.0, \"action\": \"Filter\", \"Precision\": 1.0, \"Recall\": 1.0, \"FScore\": 1.0}, {\"nfrac\": 1.0, \"action\": \"Occurrence\", \"Precision\": 1.0, \"Recall\": 1.0, \"FScore\": 1.0}]}}, {\"mode\": \"vega-lite\"});\n",
       "</script>"
      ],
      "text/plain": [
       "alt.Chart(...)"
      ]
     },
     "execution_count": 113,
     "metadata": {},
     "output_type": "execute_result"
    }
   ],
   "source": [
    "df = trial_df \n",
    "df = df.groupby([\"nfrac\",\"action\"]).mean().reset_index()\n",
    "alt.Chart(df,title=\"Communities (5k rows)\").mark_line().encode(\n",
    "    x = alt.X(\"nfrac\",title=\"Fraction of dataset sampled\"),#scale=alt.Scale(type=\"log\")),\n",
    "    y = alt.Y(\"Recall\",scale=alt.Scale(domain=(0,1.01))),\n",
    "    color = \"action\"\n",
    ").interactive()"
   ]
  },
  {
   "cell_type": "code",
   "execution_count": 129,
   "metadata": {},
   "outputs": [],
   "source": [
    "action_lst = [\"Occurrence\",\"Filter\",\"Correlation\",\"Distribution\",\"Enhance\"]\n",
    "trial = []\n",
    "\n",
    "for action in action_lst :\n",
    "    map1 = pkl.load(open(f\"tmp_communities20000/communities_gt_{action}.pkl\",'rb'))\n",
    "    for file in glob.glob(f\"tmp_communities20000/communities_nfrac*_{action}_*.pkl\"):\n",
    "        map2 = pkl.load(open(file,'rb'))\n",
    "        nfrac = float(file.split(\"/\")[1:][0].split(\"_\")[1][5:])\n",
    "        prf = compute_prf_between_vislists(map1,map2)\n",
    "        trial.append([nfrac, action, prf[0], prf[1], prf[2]])\n",
    "    # Inserting endpoints \n",
    "    trial.append([0,action, 0,0,0])\n",
    "    trial.append([1,action, 1,1,1])\n",
    "trial_df = pd.DataFrame(\n",
    "    trial,\n",
    "    columns=[\"nfrac\", \"action\", \"Precision\",\"Recall\",\"FScore\"],\n",
    ") "
   ]
  },
  {
   "cell_type": "code",
   "execution_count": 132,
   "metadata": {},
   "outputs": [
    {
     "data": {
      "text/html": [
       "\n",
       "<div id=\"altair-viz-0409f188697349319d54c4d07a88b35c\"></div>\n",
       "<script type=\"text/javascript\">\n",
       "  (function(spec, embedOpt){\n",
       "    let outputDiv = document.currentScript.previousElementSibling;\n",
       "    if (outputDiv.id !== \"altair-viz-0409f188697349319d54c4d07a88b35c\") {\n",
       "      outputDiv = document.getElementById(\"altair-viz-0409f188697349319d54c4d07a88b35c\");\n",
       "    }\n",
       "    const paths = {\n",
       "      \"vega\": \"https://cdn.jsdelivr.net/npm//vega@5?noext\",\n",
       "      \"vega-lib\": \"https://cdn.jsdelivr.net/npm//vega-lib?noext\",\n",
       "      \"vega-lite\": \"https://cdn.jsdelivr.net/npm//vega-lite@4.8.1?noext\",\n",
       "      \"vega-embed\": \"https://cdn.jsdelivr.net/npm//vega-embed@6?noext\",\n",
       "    };\n",
       "\n",
       "    function loadScript(lib) {\n",
       "      return new Promise(function(resolve, reject) {\n",
       "        var s = document.createElement('script');\n",
       "        s.src = paths[lib];\n",
       "        s.async = true;\n",
       "        s.onload = () => resolve(paths[lib]);\n",
       "        s.onerror = () => reject(`Error loading script: ${paths[lib]}`);\n",
       "        document.getElementsByTagName(\"head\")[0].appendChild(s);\n",
       "      });\n",
       "    }\n",
       "\n",
       "    function showError(err) {\n",
       "      outputDiv.innerHTML = `<div class=\"error\" style=\"color:red;\">${err}</div>`;\n",
       "      throw err;\n",
       "    }\n",
       "\n",
       "    function displayChart(vegaEmbed) {\n",
       "      vegaEmbed(outputDiv, spec, embedOpt)\n",
       "        .catch(err => showError(`Javascript Error: ${err.message}<br>This usually means there's a typo in your chart specification. See the javascript console for the full traceback.`));\n",
       "    }\n",
       "\n",
       "    if(typeof define === \"function\" && define.amd) {\n",
       "      requirejs.config({paths});\n",
       "      require([\"vega-embed\"], displayChart, err => showError(`Error loading script: ${err.message}`));\n",
       "    } else if (typeof vegaEmbed === \"function\") {\n",
       "      displayChart(vegaEmbed);\n",
       "    } else {\n",
       "      loadScript(\"vega\")\n",
       "        .then(() => loadScript(\"vega-lite\"))\n",
       "        .then(() => loadScript(\"vega-embed\"))\n",
       "        .catch(showError)\n",
       "        .then(() => displayChart(vegaEmbed));\n",
       "    }\n",
       "  })({\"config\": {\"view\": {\"continuousWidth\": 400, \"continuousHeight\": 300}}, \"data\": {\"name\": \"data-5f744aa9bc127a5263049104456b2320\"}, \"mark\": \"line\", \"encoding\": {\"color\": {\"type\": \"nominal\", \"field\": \"action\"}, \"x\": {\"type\": \"quantitative\", \"field\": \"nfrac\", \"title\": \"Fraction of dataset sampled\"}, \"y\": {\"type\": \"quantitative\", \"field\": \"Recall\", \"scale\": {\"domain\": [0, 1.01]}}}, \"selection\": {\"selector078\": {\"type\": \"interval\", \"bind\": \"scales\", \"encodings\": [\"x\", \"y\"]}}, \"title\": \"Communities (20k rows)\", \"$schema\": \"https://vega.github.io/schema/vega-lite/v4.8.1.json\", \"datasets\": {\"data-5f744aa9bc127a5263049104456b2320\": [{\"nfrac\": 0.0, \"action\": \"Correlation\", \"Precision\": 0.0, \"Recall\": 0.0, \"FScore\": 0.0}, {\"nfrac\": 0.0, \"action\": \"Distribution\", \"Precision\": 0.0, \"Recall\": 0.0, \"FScore\": 0.0}, {\"nfrac\": 0.0, \"action\": \"Enhance\", \"Precision\": 0.0, \"Recall\": 0.0, \"FScore\": 0.0}, {\"nfrac\": 0.0, \"action\": \"Filter\", \"Precision\": 0.0, \"Recall\": 0.0, \"FScore\": 0.0}, {\"nfrac\": 0.0, \"action\": \"Occurrence\", \"Precision\": 0.0, \"Recall\": 0.0, \"FScore\": 0.0}, {\"nfrac\": 0.01, \"action\": \"Correlation\", \"Precision\": 1.0, \"Recall\": 0.9233333333333335, \"FScore\": 0.9598522167487682}, {\"nfrac\": 0.01, \"action\": \"Distribution\", \"Precision\": 1.0, \"Recall\": 0.9233333333333335, \"FScore\": 0.9590996168582375}, {\"nfrac\": 0.01, \"action\": \"Enhance\", \"Precision\": 1.0, \"Recall\": 0.9400000000000002, \"FScore\": 0.9685960591133002}, {\"nfrac\": 0.01, \"action\": \"Filter\", \"Precision\": 0.75, \"Recall\": 0.09999999999999999, \"FScore\": 0.1752450980392157}, {\"nfrac\": 0.01, \"action\": \"Occurrence\", \"Precision\": 1.0, \"Recall\": 0.9000000000000001, \"FScore\": 0.9469074986316365}, {\"nfrac\": 0.02, \"action\": \"Correlation\", \"Precision\": 1.0, \"Recall\": 0.9100000000000001, \"FScore\": 0.952463054187192}, {\"nfrac\": 0.02, \"action\": \"Distribution\", \"Precision\": 1.0, \"Recall\": 0.93, \"FScore\": 0.9630541871921181}, {\"nfrac\": 0.02, \"action\": \"Enhance\", \"Precision\": 1.0, \"Recall\": 0.9866666666666667, \"FScore\": 0.9931034482758619}, {\"nfrac\": 0.02, \"action\": \"Filter\", \"Precision\": 1.0, \"Recall\": 0.16333333333333333, \"FScore\": 0.27776702786377716}, {\"nfrac\": 0.02, \"action\": \"Occurrence\", \"Precision\": 1.0, \"Recall\": 0.9233333333333335, \"FScore\": 0.9599753694581278}, {\"nfrac\": 0.03, \"action\": \"Correlation\", \"Precision\": 1.0, \"Recall\": 0.9200000000000002, \"FScore\": 0.957758620689655}, {\"nfrac\": 0.03, \"action\": \"Distribution\", \"Precision\": 1.0, \"Recall\": 0.93, \"FScore\": 0.9631773399014778}, {\"nfrac\": 0.03, \"action\": \"Enhance\", \"Precision\": 1.0, \"Recall\": 0.9833333333333334, \"FScore\": 0.9913793103448274}, {\"nfrac\": 0.03, \"action\": \"Filter\", \"Precision\": 1.0, \"Recall\": 0.30666666666666664, \"FScore\": 0.4628175552517658}, {\"nfrac\": 0.03, \"action\": \"Occurrence\", \"Precision\": 1.0, \"Recall\": 0.9266666666666667, \"FScore\": 0.9618226600985219}, {\"nfrac\": 0.04, \"action\": \"Correlation\", \"Precision\": 1.0, \"Recall\": 0.9266666666666667, \"FScore\": 0.9614532019704433}, {\"nfrac\": 0.04, \"action\": \"Distribution\", \"Precision\": 1.0, \"Recall\": 0.9366666666666668, \"FScore\": 0.9667487684729063}, {\"nfrac\": 0.04, \"action\": \"Enhance\", \"Precision\": 1.0, \"Recall\": 0.9966666666666667, \"FScore\": 0.9982758620689655}, {\"nfrac\": 0.04, \"action\": \"Filter\", \"Precision\": 1.0, \"Recall\": 0.38333333333333336, \"FScore\": 0.5504955570745046}, {\"nfrac\": 0.04, \"action\": \"Occurrence\", \"Precision\": 1.0, \"Recall\": 0.9366666666666668, \"FScore\": 0.9672413793103445}, {\"nfrac\": 0.05, \"action\": \"Correlation\", \"Precision\": 1.0, \"Recall\": 0.9400000000000002, \"FScore\": 0.9687192118226597}, {\"nfrac\": 0.05, \"action\": \"Distribution\", \"Precision\": 1.0, \"Recall\": 0.9433333333333336, \"FScore\": 0.9701970443349751}, {\"nfrac\": 0.05, \"action\": \"Enhance\", \"Precision\": 1.0, \"Recall\": 1.0, \"FScore\": 1.0}, {\"nfrac\": 0.05, \"action\": \"Filter\", \"Precision\": 1.0, \"Recall\": 0.42666666666666675, \"FScore\": 0.5959415584415584}, {\"nfrac\": 0.05, \"action\": \"Occurrence\", \"Precision\": 1.0, \"Recall\": 0.9433333333333334, \"FScore\": 0.9706896551724136}, {\"nfrac\": 0.06, \"action\": \"Correlation\", \"Precision\": 1.0, \"Recall\": 0.9366666666666668, \"FScore\": 0.9668719211822656}, {\"nfrac\": 0.06, \"action\": \"Distribution\", \"Precision\": 1.0, \"Recall\": 0.9433333333333334, \"FScore\": 0.9703201970443347}, {\"nfrac\": 0.06, \"action\": \"Enhance\", \"Precision\": 1.0, \"Recall\": 1.0, \"FScore\": 1.0}, {\"nfrac\": 0.06, \"action\": \"Filter\", \"Precision\": 1.0, \"Recall\": 0.4666666666666666, \"FScore\": 0.6316854884246188}, {\"nfrac\": 0.06, \"action\": \"Occurrence\", \"Precision\": 1.0, \"Recall\": 0.9533333333333335, \"FScore\": 0.9758620689655169}, {\"nfrac\": 0.07, \"action\": \"Correlation\", \"Precision\": 1.0, \"Recall\": 0.9433333333333334, \"FScore\": 0.9705665024630539}, {\"nfrac\": 0.07, \"action\": \"Distribution\", \"Precision\": 1.0, \"Recall\": 0.9466666666666669, \"FScore\": 0.9720443349753692}, {\"nfrac\": 0.07, \"action\": \"Enhance\", \"Precision\": 1.0, \"Recall\": 1.0, \"FScore\": 1.0}, {\"nfrac\": 0.07, \"action\": \"Filter\", \"Precision\": 1.0, \"Recall\": 0.53, \"FScore\": 0.6850310317701622}, {\"nfrac\": 0.07, \"action\": \"Occurrence\", \"Precision\": 1.0, \"Recall\": 0.9566666666666667, \"FScore\": 0.9775862068965516}, {\"nfrac\": 0.08, \"action\": \"Correlation\", \"Precision\": 1.0, \"Recall\": 0.95, \"FScore\": 0.9740147783251227}, {\"nfrac\": 0.08, \"action\": \"Distribution\", \"Precision\": 1.0, \"Recall\": 0.9566666666666668, \"FScore\": 0.9773399014778322}, {\"nfrac\": 0.08, \"action\": \"Enhance\", \"Precision\": 1.0, \"Recall\": 1.0, \"FScore\": 1.0}, {\"nfrac\": 0.08, \"action\": \"Filter\", \"Precision\": 1.0, \"Recall\": 0.5733333333333331, \"FScore\": 0.7173736891128196}, {\"nfrac\": 0.08, \"action\": \"Occurrence\", \"Precision\": 1.0, \"Recall\": 0.9733333333333334, \"FScore\": 0.986206896551724}, {\"nfrac\": 0.09, \"action\": \"Correlation\", \"Precision\": 1.0, \"Recall\": 0.9533333333333334, \"FScore\": 0.9756157635467979}, {\"nfrac\": 0.09, \"action\": \"Distribution\", \"Precision\": 1.0, \"Recall\": 0.9600000000000002, \"FScore\": 0.9790640394088669}, {\"nfrac\": 0.09, \"action\": \"Enhance\", \"Precision\": 1.0, \"Recall\": 1.0, \"FScore\": 1.0}, {\"nfrac\": 0.09, \"action\": \"Filter\", \"Precision\": 1.0, \"Recall\": 0.6566666666666667, \"FScore\": 0.7836119752311658}, {\"nfrac\": 0.09, \"action\": \"Occurrence\", \"Precision\": 1.0, \"Recall\": 0.9733333333333334, \"FScore\": 0.986206896551724}, {\"nfrac\": 0.11, \"action\": \"Correlation\", \"Precision\": 1.0, \"Recall\": 0.9566666666666667, \"FScore\": 0.9775862068965516}, {\"nfrac\": 0.11, \"action\": \"Distribution\", \"Precision\": 1.0, \"Recall\": 0.95, \"FScore\": 0.9737684729064038}, {\"nfrac\": 0.11, \"action\": \"Enhance\", \"Precision\": 1.0, \"Recall\": 1.0, \"FScore\": 1.0}, {\"nfrac\": 0.11, \"action\": \"Filter\", \"Precision\": 1.0, \"Recall\": 0.7233333333333333, \"FScore\": 0.8345511447572918}, {\"nfrac\": 0.11, \"action\": \"Occurrence\", \"Precision\": 1.0, \"Recall\": 0.9733333333333334, \"FScore\": 0.986206896551724}, {\"nfrac\": 0.12, \"action\": \"Correlation\", \"Precision\": 1.0, \"Recall\": 0.95, \"FScore\": 0.974014778325123}, {\"nfrac\": 0.12, \"action\": \"Distribution\", \"Precision\": 1.0, \"Recall\": 0.9533333333333335, \"FScore\": 0.9754926108374382}, {\"nfrac\": 0.12, \"action\": \"Enhance\", \"Precision\": 1.0, \"Recall\": 1.0, \"FScore\": 1.0}, {\"nfrac\": 0.12, \"action\": \"Filter\", \"Precision\": 1.0, \"Recall\": 0.7533333333333332, \"FScore\": 0.8542129805060841}, {\"nfrac\": 0.12, \"action\": \"Occurrence\", \"Precision\": 1.0, \"Recall\": 0.9833333333333334, \"FScore\": 0.9913793103448276}, {\"nfrac\": 0.14, \"action\": \"Correlation\", \"Precision\": 1.0, \"Recall\": 0.9566666666666667, \"FScore\": 0.9775862068965516}, {\"nfrac\": 0.14, \"action\": \"Distribution\", \"Precision\": 1.0, \"Recall\": 0.9500000000000002, \"FScore\": 0.9738916256157634}, {\"nfrac\": 0.14, \"action\": \"Enhance\", \"Precision\": 1.0, \"Recall\": 1.0, \"FScore\": 1.0}, {\"nfrac\": 0.14, \"action\": \"Filter\", \"Precision\": 1.0, \"Recall\": 0.76, \"FScore\": 0.8592806618668687}, {\"nfrac\": 0.14, \"action\": \"Occurrence\", \"Precision\": 1.0, \"Recall\": 0.99, \"FScore\": 0.9948275862068966}, {\"nfrac\": 0.17, \"action\": \"Correlation\", \"Precision\": 1.0, \"Recall\": 0.9566666666666668, \"FScore\": 0.9775862068965516}, {\"nfrac\": 0.17, \"action\": \"Distribution\", \"Precision\": 1.0, \"Recall\": 0.9533333333333334, \"FScore\": 0.9754926108374382}, {\"nfrac\": 0.17, \"action\": \"Enhance\", \"Precision\": 1.0, \"Recall\": 1.0, \"FScore\": 1.0}, {\"nfrac\": 0.17, \"action\": \"Filter\", \"Precision\": 1.0, \"Recall\": 0.85, \"FScore\": 0.915060629026146}, {\"nfrac\": 0.17, \"action\": \"Occurrence\", \"Precision\": 1.0, \"Recall\": 0.99, \"FScore\": 0.9948275862068965}, {\"nfrac\": 0.2, \"action\": \"Correlation\", \"Precision\": 1.0, \"Recall\": 0.9533333333333335, \"FScore\": 0.9758620689655171}, {\"nfrac\": 0.2, \"action\": \"Distribution\", \"Precision\": 1.0, \"Recall\": 0.9600000000000002, \"FScore\": 0.9791871921182264}, {\"nfrac\": 0.2, \"action\": \"Enhance\", \"Precision\": 1.0, \"Recall\": 1.0, \"FScore\": 1.0}, {\"nfrac\": 0.2, \"action\": \"Filter\", \"Precision\": 1.0, \"Recall\": 0.8766666666666667, \"FScore\": 0.930754599806324}, {\"nfrac\": 0.2, \"action\": \"Occurrence\", \"Precision\": 1.0, \"Recall\": 0.9866666666666667, \"FScore\": 0.9931034482758619}, {\"nfrac\": 0.23, \"action\": \"Correlation\", \"Precision\": 1.0, \"Recall\": 0.9566666666666668, \"FScore\": 0.9775862068965516}, {\"nfrac\": 0.23, \"action\": \"Distribution\", \"Precision\": 1.0, \"Recall\": 0.9566666666666668, \"FScore\": 0.9773399014778323}, {\"nfrac\": 0.23, \"action\": \"Enhance\", \"Precision\": 1.0, \"Recall\": 1.0, \"FScore\": 1.0}, {\"nfrac\": 0.23, \"action\": \"Filter\", \"Precision\": 1.0, \"Recall\": 0.9033333333333335, \"FScore\": 0.9466597195907539}, {\"nfrac\": 0.23, \"action\": \"Occurrence\", \"Precision\": 1.0, \"Recall\": 0.9966666666666667, \"FScore\": 0.9982758620689655}, {\"nfrac\": 0.27, \"action\": \"Correlation\", \"Precision\": 1.0, \"Recall\": 0.9633333333333335, \"FScore\": 0.9810344827586205}, {\"nfrac\": 0.27, \"action\": \"Distribution\", \"Precision\": 1.0, \"Recall\": 0.9766666666666668, \"FScore\": 0.9879310344827583}, {\"nfrac\": 0.27, \"action\": \"Enhance\", \"Precision\": 1.0, \"Recall\": 1.0, \"FScore\": 1.0}, {\"nfrac\": 0.27, \"action\": \"Filter\", \"Precision\": 1.0, \"Recall\": 0.9266666666666667, \"FScore\": 0.9609037514209927}, {\"nfrac\": 0.27, \"action\": \"Occurrence\", \"Precision\": 1.0, \"Recall\": 1.0, \"FScore\": 1.0}, {\"nfrac\": 0.32, \"action\": \"Correlation\", \"Precision\": 1.0, \"Recall\": 0.9566666666666668, \"FScore\": 0.9775862068965514}, {\"nfrac\": 0.32, \"action\": \"Distribution\", \"Precision\": 1.0, \"Recall\": 0.9833333333333334, \"FScore\": 0.9913793103448274}, {\"nfrac\": 0.32, \"action\": \"Enhance\", \"Precision\": 1.0, \"Recall\": 1.0, \"FScore\": 1.0}, {\"nfrac\": 0.32, \"action\": \"Filter\", \"Precision\": 1.0, \"Recall\": 0.9300000000000003, \"FScore\": 0.9619211822660096}, {\"nfrac\": 0.32, \"action\": \"Occurrence\", \"Precision\": 1.0, \"Recall\": 1.0, \"FScore\": 1.0}, {\"nfrac\": 0.37, \"action\": \"Correlation\", \"Precision\": 1.0, \"Recall\": 0.9700000000000001, \"FScore\": 0.9844827586206895}, {\"nfrac\": 0.37, \"action\": \"Distribution\", \"Precision\": 1.0, \"Recall\": 0.9933333333333334, \"FScore\": 0.9965517241379309}, {\"nfrac\": 0.37, \"action\": \"Enhance\", \"Precision\": 1.0, \"Recall\": 1.0, \"FScore\": 1.0}, {\"nfrac\": 0.37, \"action\": \"Filter\", \"Precision\": 1.0, \"Recall\": 0.9533333333333335, \"FScore\": 0.9756157635467979}, {\"nfrac\": 0.37, \"action\": \"Occurrence\", \"Precision\": 1.0, \"Recall\": 1.0, \"FScore\": 1.0}, {\"nfrac\": 0.43, \"action\": \"Correlation\", \"Precision\": 1.0, \"Recall\": 0.9700000000000001, \"FScore\": 0.9844827586206895}, {\"nfrac\": 0.43, \"action\": \"Distribution\", \"Precision\": 1.0, \"Recall\": 0.9933333333333334, \"FScore\": 0.9965517241379309}, {\"nfrac\": 0.43, \"action\": \"Enhance\", \"Precision\": 1.0, \"Recall\": 1.0, \"FScore\": 1.0}, {\"nfrac\": 0.43, \"action\": \"Filter\", \"Precision\": 1.0, \"Recall\": 0.9533333333333334, \"FScore\": 0.9757389162561575}, {\"nfrac\": 0.43, \"action\": \"Occurrence\", \"Precision\": 1.0, \"Recall\": 1.0, \"FScore\": 1.0}, {\"nfrac\": 0.51, \"action\": \"Correlation\", \"Precision\": 1.0, \"Recall\": 0.9700000000000001, \"FScore\": 0.9844827586206895}, {\"nfrac\": 0.51, \"action\": \"Distribution\", \"Precision\": 1.0, \"Recall\": 0.9833333333333334, \"FScore\": 0.9913793103448276}, {\"nfrac\": 0.51, \"action\": \"Enhance\", \"Precision\": 1.0, \"Recall\": 1.0, \"FScore\": 1.0}, {\"nfrac\": 0.51, \"action\": \"Filter\", \"Precision\": 1.0, \"Recall\": 0.9600000000000002, \"FScore\": 0.9793103448275859}, {\"nfrac\": 0.51, \"action\": \"Occurrence\", \"Precision\": 1.0, \"Recall\": 1.0, \"FScore\": 1.0}, {\"nfrac\": 0.59, \"action\": \"Correlation\", \"Precision\": 1.0, \"Recall\": 0.9766666666666668, \"FScore\": 0.9879310344827585}, {\"nfrac\": 0.59, \"action\": \"Distribution\", \"Precision\": 1.0, \"Recall\": 0.9966666666666667, \"FScore\": 0.9982758620689655}, {\"nfrac\": 0.59, \"action\": \"Enhance\", \"Precision\": 1.0, \"Recall\": 1.0, \"FScore\": 1.0}, {\"nfrac\": 0.59, \"action\": \"Filter\", \"Precision\": 1.0, \"Recall\": 0.9600000000000002, \"FScore\": 0.9793103448275859}, {\"nfrac\": 0.59, \"action\": \"Occurrence\", \"Precision\": 1.0, \"Recall\": 1.0, \"FScore\": 1.0}, {\"nfrac\": 0.69, \"action\": \"Correlation\", \"Precision\": 1.0, \"Recall\": 0.9800000000000001, \"FScore\": 0.9896551724137929}, {\"nfrac\": 0.69, \"action\": \"Distribution\", \"Precision\": 1.0, \"Recall\": 1.0, \"FScore\": 1.0}, {\"nfrac\": 0.69, \"action\": \"Enhance\", \"Precision\": 1.0, \"Recall\": 1.0, \"FScore\": 1.0}, {\"nfrac\": 0.69, \"action\": \"Filter\", \"Precision\": 1.0, \"Recall\": 0.9733333333333334, \"FScore\": 0.9862068965517239}, {\"nfrac\": 0.69, \"action\": \"Occurrence\", \"Precision\": 1.0, \"Recall\": 1.0, \"FScore\": 1.0}, {\"nfrac\": 0.81, \"action\": \"Correlation\", \"Precision\": 1.0, \"Recall\": 0.9866666666666667, \"FScore\": 0.9931034482758619}, {\"nfrac\": 0.81, \"action\": \"Distribution\", \"Precision\": 1.0, \"Recall\": 1.0, \"FScore\": 1.0}, {\"nfrac\": 0.81, \"action\": \"Enhance\", \"Precision\": 1.0, \"Recall\": 1.0, \"FScore\": 1.0}, {\"nfrac\": 0.81, \"action\": \"Filter\", \"Precision\": 1.0, \"Recall\": 0.9633333333333333, \"FScore\": 0.9809113300492609}, {\"nfrac\": 0.81, \"action\": \"Occurrence\", \"Precision\": 1.0, \"Recall\": 1.0, \"FScore\": 1.0}, {\"nfrac\": 0.95, \"action\": \"Correlation\", \"Precision\": 1.0, \"Recall\": 0.9966666666666667, \"FScore\": 0.9982758620689655}, {\"nfrac\": 0.95, \"action\": \"Distribution\", \"Precision\": 1.0, \"Recall\": 1.0, \"FScore\": 1.0}, {\"nfrac\": 0.95, \"action\": \"Enhance\", \"Precision\": 1.0, \"Recall\": 1.0, \"FScore\": 1.0}, {\"nfrac\": 0.95, \"action\": \"Filter\", \"Precision\": 1.0, \"Recall\": 0.9833333333333334, \"FScore\": 0.9913793103448276}, {\"nfrac\": 0.95, \"action\": \"Occurrence\", \"Precision\": 1.0, \"Recall\": 1.0, \"FScore\": 1.0}, {\"nfrac\": 1.0, \"action\": \"Correlation\", \"Precision\": 1.0, \"Recall\": 1.0, \"FScore\": 1.0}, {\"nfrac\": 1.0, \"action\": \"Distribution\", \"Precision\": 1.0, \"Recall\": 1.0, \"FScore\": 1.0}, {\"nfrac\": 1.0, \"action\": \"Enhance\", \"Precision\": 1.0, \"Recall\": 1.0, \"FScore\": 1.0}, {\"nfrac\": 1.0, \"action\": \"Filter\", \"Precision\": 1.0, \"Recall\": 1.0, \"FScore\": 1.0}, {\"nfrac\": 1.0, \"action\": \"Occurrence\", \"Precision\": 1.0, \"Recall\": 1.0, \"FScore\": 1.0}]}}, {\"mode\": \"vega-lite\"});\n",
       "</script>"
      ],
      "text/plain": [
       "alt.Chart(...)"
      ]
     },
     "execution_count": 132,
     "metadata": {},
     "output_type": "execute_result"
    }
   ],
   "source": [
    "df = trial_df \n",
    "df = df.groupby([\"nfrac\",\"action\"]).mean().reset_index()\n",
    "alt.Chart(df,title=\"Communities (20k rows)\").mark_line().encode(\n",
    "    x = alt.X(\"nfrac\",title=\"Fraction of dataset sampled\"),#scale=alt.Scale(type=\"log\")),\n",
    "    y = alt.Y(\"Recall\",scale=alt.Scale(domain=(0,1.01))),\n",
    "    color = \"action\"\n",
    ").interactive()"
   ]
  },
  {
   "cell_type": "code",
   "execution_count": 114,
   "metadata": {},
   "outputs": [],
   "source": [
    "action_lst = [\"Occurrence\",\"Filter\",\"Correlation\",\"Distribution\",\"Enhance\"]\n",
    "trial = []\n",
    "\n",
    "for action in action_lst :\n",
    "    map1 = pkl.load(open(f\"tmp_communities50000/communities_gt_{action}.pkl\",'rb'))\n",
    "    for file in glob.glob(f\"tmp_communities50000/communities_nfrac*_{action}_*.pkl\"):\n",
    "        map2 = pkl.load(open(file,'rb'))\n",
    "        nfrac = float(file.split(\"/\")[1:][0].split(\"_\")[1][5:])\n",
    "        prf = compute_prf_between_vislists(map1,map2)\n",
    "        trial.append([nfrac, action, prf[0], prf[1], prf[2]])\n",
    "    # Inserting endpoints \n",
    "    trial.append([0,action, 0,0,0])\n",
    "    trial.append([1,action, 1,1,1])\n",
    "trial_df = pd.DataFrame(\n",
    "    trial,\n",
    "    columns=[\"nfrac\", \"action\", \"Precision\",\"Recall\",\"FScore\"],\n",
    ") "
   ]
  },
  {
   "cell_type": "code",
   "execution_count": 115,
   "metadata": {},
   "outputs": [
    {
     "data": {
      "text/html": [
       "\n",
       "<div id=\"altair-viz-354f69ff5e574d6ea012ebb03a00d080\"></div>\n",
       "<script type=\"text/javascript\">\n",
       "  (function(spec, embedOpt){\n",
       "    let outputDiv = document.currentScript.previousElementSibling;\n",
       "    if (outputDiv.id !== \"altair-viz-354f69ff5e574d6ea012ebb03a00d080\") {\n",
       "      outputDiv = document.getElementById(\"altair-viz-354f69ff5e574d6ea012ebb03a00d080\");\n",
       "    }\n",
       "    const paths = {\n",
       "      \"vega\": \"https://cdn.jsdelivr.net/npm//vega@5?noext\",\n",
       "      \"vega-lib\": \"https://cdn.jsdelivr.net/npm//vega-lib?noext\",\n",
       "      \"vega-lite\": \"https://cdn.jsdelivr.net/npm//vega-lite@4.8.1?noext\",\n",
       "      \"vega-embed\": \"https://cdn.jsdelivr.net/npm//vega-embed@6?noext\",\n",
       "    };\n",
       "\n",
       "    function loadScript(lib) {\n",
       "      return new Promise(function(resolve, reject) {\n",
       "        var s = document.createElement('script');\n",
       "        s.src = paths[lib];\n",
       "        s.async = true;\n",
       "        s.onload = () => resolve(paths[lib]);\n",
       "        s.onerror = () => reject(`Error loading script: ${paths[lib]}`);\n",
       "        document.getElementsByTagName(\"head\")[0].appendChild(s);\n",
       "      });\n",
       "    }\n",
       "\n",
       "    function showError(err) {\n",
       "      outputDiv.innerHTML = `<div class=\"error\" style=\"color:red;\">${err}</div>`;\n",
       "      throw err;\n",
       "    }\n",
       "\n",
       "    function displayChart(vegaEmbed) {\n",
       "      vegaEmbed(outputDiv, spec, embedOpt)\n",
       "        .catch(err => showError(`Javascript Error: ${err.message}<br>This usually means there's a typo in your chart specification. See the javascript console for the full traceback.`));\n",
       "    }\n",
       "\n",
       "    if(typeof define === \"function\" && define.amd) {\n",
       "      requirejs.config({paths});\n",
       "      require([\"vega-embed\"], displayChart, err => showError(`Error loading script: ${err.message}`));\n",
       "    } else if (typeof vegaEmbed === \"function\") {\n",
       "      displayChart(vegaEmbed);\n",
       "    } else {\n",
       "      loadScript(\"vega\")\n",
       "        .then(() => loadScript(\"vega-lite\"))\n",
       "        .then(() => loadScript(\"vega-embed\"))\n",
       "        .catch(showError)\n",
       "        .then(() => displayChart(vegaEmbed));\n",
       "    }\n",
       "  })({\"config\": {\"view\": {\"continuousWidth\": 400, \"continuousHeight\": 300}}, \"data\": {\"name\": \"data-5ea712e3f8936442463547289ce74d39\"}, \"mark\": \"line\", \"encoding\": {\"color\": {\"type\": \"nominal\", \"field\": \"action\"}, \"x\": {\"type\": \"quantitative\", \"field\": \"nfrac\", \"title\": \"Fraction of dataset sampled\"}, \"y\": {\"type\": \"quantitative\", \"field\": \"Recall\", \"scale\": {\"domain\": [0, 1.01]}}}, \"selection\": {\"selector033\": {\"type\": \"interval\", \"bind\": \"scales\", \"encodings\": [\"x\", \"y\"]}}, \"title\": \"Communities (50k rows)\", \"$schema\": \"https://vega.github.io/schema/vega-lite/v4.8.1.json\", \"datasets\": {\"data-5ea712e3f8936442463547289ce74d39\": [{\"nfrac\": 0.0, \"action\": \"Correlation\", \"Precision\": 0.0, \"Recall\": 0.0, \"FScore\": 0.0}, {\"nfrac\": 0.0, \"action\": \"Distribution\", \"Precision\": 0.0, \"Recall\": 0.0, \"FScore\": 0.0}, {\"nfrac\": 0.0, \"action\": \"Enhance\", \"Precision\": 0.0, \"Recall\": 0.0, \"FScore\": 0.0}, {\"nfrac\": 0.0, \"action\": \"Filter\", \"Precision\": 0.0, \"Recall\": 0.0, \"FScore\": 0.0}, {\"nfrac\": 0.0, \"action\": \"Occurrence\", \"Precision\": 0.0, \"Recall\": 0.0, \"FScore\": 0.0}, {\"nfrac\": 0.05, \"action\": \"Correlation\", \"Precision\": 1.0, \"Recall\": 1.0, \"FScore\": 1.0}, {\"nfrac\": 0.05, \"action\": \"Distribution\", \"Precision\": 1.0, \"Recall\": 0.9666666666666667, \"FScore\": 0.9827586206896552}, {\"nfrac\": 0.05, \"action\": \"Enhance\", \"Precision\": 1.0, \"Recall\": 1.0, \"FScore\": 1.0}, {\"nfrac\": 0.05, \"action\": \"Filter\", \"Precision\": 1.0, \"Recall\": 0.6333333333333333, \"FScore\": 0.7749999999999999}, {\"nfrac\": 0.05, \"action\": \"Occurrence\", \"Precision\": 1.0, \"Recall\": 0.9333333333333333, \"FScore\": 0.9655172413793104}, {\"nfrac\": 0.16, \"action\": \"Correlation\", \"Precision\": 1.0, \"Recall\": 1.0, \"FScore\": 1.0}, {\"nfrac\": 0.16, \"action\": \"Distribution\", \"Precision\": 1.0, \"Recall\": 1.0, \"FScore\": 1.0}, {\"nfrac\": 0.16, \"action\": \"Enhance\", \"Precision\": 1.0, \"Recall\": 1.0, \"FScore\": 1.0}, {\"nfrac\": 0.16, \"action\": \"Filter\", \"Precision\": 1.0, \"Recall\": 0.9333333333333333, \"FScore\": 0.9655172413793104}, {\"nfrac\": 0.16, \"action\": \"Occurrence\", \"Precision\": 1.0, \"Recall\": 0.9333333333333333, \"FScore\": 0.9655172413793104}, {\"nfrac\": 0.27, \"action\": \"Correlation\", \"Precision\": 1.0, \"Recall\": 1.0, \"FScore\": 1.0}, {\"nfrac\": 0.27, \"action\": \"Distribution\", \"Precision\": 1.0, \"Recall\": 1.0, \"FScore\": 1.0}, {\"nfrac\": 0.27, \"action\": \"Enhance\", \"Precision\": 1.0, \"Recall\": 1.0, \"FScore\": 1.0}, {\"nfrac\": 0.27, \"action\": \"Filter\", \"Precision\": 1.0, \"Recall\": 0.9333333333333333, \"FScore\": 0.9655172413793104}, {\"nfrac\": 0.27, \"action\": \"Occurrence\", \"Precision\": 1.0, \"Recall\": 0.9333333333333333, \"FScore\": 0.9655172413793104}, {\"nfrac\": 0.39, \"action\": \"Correlation\", \"Precision\": 1.0, \"Recall\": 1.0, \"FScore\": 1.0}, {\"nfrac\": 0.39, \"action\": \"Distribution\", \"Precision\": 1.0, \"Recall\": 1.0, \"FScore\": 1.0}, {\"nfrac\": 0.39, \"action\": \"Enhance\", \"Precision\": 1.0, \"Recall\": 1.0, \"FScore\": 1.0}, {\"nfrac\": 0.39, \"action\": \"Filter\", \"Precision\": 1.0, \"Recall\": 0.9333333333333333, \"FScore\": 0.9655172413793104}, {\"nfrac\": 0.39, \"action\": \"Occurrence\", \"Precision\": 1.0, \"Recall\": 0.9333333333333333, \"FScore\": 0.9655172413793104}, {\"nfrac\": 0.5, \"action\": \"Correlation\", \"Precision\": 1.0, \"Recall\": 1.0, \"FScore\": 1.0}, {\"nfrac\": 0.5, \"action\": \"Distribution\", \"Precision\": 1.0, \"Recall\": 1.0, \"FScore\": 1.0}, {\"nfrac\": 0.5, \"action\": \"Enhance\", \"Precision\": 1.0, \"Recall\": 1.0, \"FScore\": 1.0}, {\"nfrac\": 0.5, \"action\": \"Filter\", \"Precision\": 1.0, \"Recall\": 0.9333333333333333, \"FScore\": 0.9655172413793104}, {\"nfrac\": 0.5, \"action\": \"Occurrence\", \"Precision\": 1.0, \"Recall\": 0.9333333333333333, \"FScore\": 0.9655172413793104}, {\"nfrac\": 0.61, \"action\": \"Correlation\", \"Precision\": 1.0, \"Recall\": 1.0, \"FScore\": 1.0}, {\"nfrac\": 0.61, \"action\": \"Distribution\", \"Precision\": 1.0, \"Recall\": 1.0, \"FScore\": 1.0}, {\"nfrac\": 0.61, \"action\": \"Enhance\", \"Precision\": 1.0, \"Recall\": 1.0, \"FScore\": 1.0}, {\"nfrac\": 0.61, \"action\": \"Filter\", \"Precision\": 1.0, \"Recall\": 0.9, \"FScore\": 0.9470443349753694}, {\"nfrac\": 0.61, \"action\": \"Occurrence\", \"Precision\": 1.0, \"Recall\": 0.9333333333333333, \"FScore\": 0.9655172413793104}, {\"nfrac\": 0.72, \"action\": \"Correlation\", \"Precision\": 1.0, \"Recall\": 1.0, \"FScore\": 1.0}, {\"nfrac\": 0.72, \"action\": \"Distribution\", \"Precision\": 1.0, \"Recall\": 1.0, \"FScore\": 1.0}, {\"nfrac\": 0.72, \"action\": \"Enhance\", \"Precision\": 1.0, \"Recall\": 1.0, \"FScore\": 1.0}, {\"nfrac\": 0.72, \"action\": \"Filter\", \"Precision\": 1.0, \"Recall\": 0.9333333333333333, \"FScore\": 0.9655172413793104}, {\"nfrac\": 0.72, \"action\": \"Occurrence\", \"Precision\": 1.0, \"Recall\": 0.9333333333333333, \"FScore\": 0.9655172413793104}, {\"nfrac\": 0.84, \"action\": \"Correlation\", \"Precision\": 1.0, \"Recall\": 1.0, \"FScore\": 1.0}, {\"nfrac\": 0.84, \"action\": \"Distribution\", \"Precision\": 1.0, \"Recall\": 1.0, \"FScore\": 1.0}, {\"nfrac\": 0.84, \"action\": \"Enhance\", \"Precision\": 1.0, \"Recall\": 1.0, \"FScore\": 1.0}, {\"nfrac\": 0.84, \"action\": \"Filter\", \"Precision\": 1.0, \"Recall\": 0.9333333333333333, \"FScore\": 0.9655172413793104}, {\"nfrac\": 0.84, \"action\": \"Occurrence\", \"Precision\": 1.0, \"Recall\": 0.9333333333333333, \"FScore\": 0.9655172413793104}, {\"nfrac\": 0.95, \"action\": \"Correlation\", \"Precision\": 1.0, \"Recall\": 1.0, \"FScore\": 1.0}, {\"nfrac\": 0.95, \"action\": \"Distribution\", \"Precision\": 1.0, \"Recall\": 1.0, \"FScore\": 1.0}, {\"nfrac\": 0.95, \"action\": \"Enhance\", \"Precision\": 1.0, \"Recall\": 1.0, \"FScore\": 1.0}, {\"nfrac\": 0.95, \"action\": \"Filter\", \"Precision\": 1.0, \"Recall\": 0.9333333333333333, \"FScore\": 0.9655172413793104}, {\"nfrac\": 0.95, \"action\": \"Occurrence\", \"Precision\": 1.0, \"Recall\": 0.9333333333333333, \"FScore\": 0.9655172413793104}, {\"nfrac\": 1.0, \"action\": \"Correlation\", \"Precision\": 1.0, \"Recall\": 1.0, \"FScore\": 1.0}, {\"nfrac\": 1.0, \"action\": \"Distribution\", \"Precision\": 1.0, \"Recall\": 1.0, \"FScore\": 1.0}, {\"nfrac\": 1.0, \"action\": \"Enhance\", \"Precision\": 1.0, \"Recall\": 1.0, \"FScore\": 1.0}, {\"nfrac\": 1.0, \"action\": \"Filter\", \"Precision\": 1.0, \"Recall\": 1.0, \"FScore\": 1.0}, {\"nfrac\": 1.0, \"action\": \"Occurrence\", \"Precision\": 1.0, \"Recall\": 1.0, \"FScore\": 1.0}]}}, {\"mode\": \"vega-lite\"});\n",
       "</script>"
      ],
      "text/plain": [
       "alt.Chart(...)"
      ]
     },
     "execution_count": 115,
     "metadata": {},
     "output_type": "execute_result"
    }
   ],
   "source": [
    "df = trial_df \n",
    "df = df.groupby([\"nfrac\",\"action\"]).mean().reset_index()\n",
    "alt.Chart(df,title=\"Communities (50k rows)\").mark_line().encode(\n",
    "    x = alt.X(\"nfrac\",title=\"Fraction of dataset sampled\"),#scale=alt.Scale(type=\"log\")),\n",
    "    y = alt.Y(\"Recall\",scale=alt.Scale(domain=(0,1.01))),\n",
    "    color = \"action\"\n",
    ").interactive()"
   ]
  },
  {
   "cell_type": "code",
   "execution_count": 43,
   "metadata": {},
   "outputs": [],
   "source": [
    "action_lst = [\"Occurrence\",\"Filter\",\"Correlation\",\"Distribution\",\"Enhance\"]\n",
    "trial = []\n",
    "\n",
    "for action in action_lst :\n",
    "    map1 = pkl.load(open(f\"tmp_communities30000/communities_gt_{action}.pkl\",'rb'))\n",
    "    for file in glob.glob(f\"tmp_communities30000/communities_nfrac*_{action}_*.pkl\"):\n",
    "        map2 = pkl.load(open(file,'rb'))\n",
    "        nfrac = float(file.split(\"/\")[1:][0].split(\"_\")[1][5:])\n",
    "        prf = compute_prf_between_vislists(map1,map2)\n",
    "        trial.append([nfrac, action, prf[0], prf[1], prf[2]])\n",
    "    # Inserting endpoints \n",
    "    trial.append([0,action, 0,0,0])\n",
    "    trial.append([1,action, 1,1,1])\n",
    "trial_df = pd.DataFrame(\n",
    "    trial,\n",
    "    columns=[\"nfrac\", \"action\", \"Precision\",\"Recall\",\"FScore\"],\n",
    ") "
   ]
  },
  {
   "cell_type": "code",
   "execution_count": 45,
   "metadata": {},
   "outputs": [
    {
     "data": {
      "text/html": [
       "\n",
       "<div id=\"altair-viz-6bb9724251bb45d4890f881340cdff81\"></div>\n",
       "<script type=\"text/javascript\">\n",
       "  (function(spec, embedOpt){\n",
       "    let outputDiv = document.currentScript.previousElementSibling;\n",
       "    if (outputDiv.id !== \"altair-viz-6bb9724251bb45d4890f881340cdff81\") {\n",
       "      outputDiv = document.getElementById(\"altair-viz-6bb9724251bb45d4890f881340cdff81\");\n",
       "    }\n",
       "    const paths = {\n",
       "      \"vega\": \"https://cdn.jsdelivr.net/npm//vega@5?noext\",\n",
       "      \"vega-lib\": \"https://cdn.jsdelivr.net/npm//vega-lib?noext\",\n",
       "      \"vega-lite\": \"https://cdn.jsdelivr.net/npm//vega-lite@4.8.1?noext\",\n",
       "      \"vega-embed\": \"https://cdn.jsdelivr.net/npm//vega-embed@6?noext\",\n",
       "    };\n",
       "\n",
       "    function loadScript(lib) {\n",
       "      return new Promise(function(resolve, reject) {\n",
       "        var s = document.createElement('script');\n",
       "        s.src = paths[lib];\n",
       "        s.async = true;\n",
       "        s.onload = () => resolve(paths[lib]);\n",
       "        s.onerror = () => reject(`Error loading script: ${paths[lib]}`);\n",
       "        document.getElementsByTagName(\"head\")[0].appendChild(s);\n",
       "      });\n",
       "    }\n",
       "\n",
       "    function showError(err) {\n",
       "      outputDiv.innerHTML = `<div class=\"error\" style=\"color:red;\">${err}</div>`;\n",
       "      throw err;\n",
       "    }\n",
       "\n",
       "    function displayChart(vegaEmbed) {\n",
       "      vegaEmbed(outputDiv, spec, embedOpt)\n",
       "        .catch(err => showError(`Javascript Error: ${err.message}<br>This usually means there's a typo in your chart specification. See the javascript console for the full traceback.`));\n",
       "    }\n",
       "\n",
       "    if(typeof define === \"function\" && define.amd) {\n",
       "      requirejs.config({paths});\n",
       "      require([\"vega-embed\"], displayChart, err => showError(`Error loading script: ${err.message}`));\n",
       "    } else if (typeof vegaEmbed === \"function\") {\n",
       "      displayChart(vegaEmbed);\n",
       "    } else {\n",
       "      loadScript(\"vega\")\n",
       "        .then(() => loadScript(\"vega-lite\"))\n",
       "        .then(() => loadScript(\"vega-embed\"))\n",
       "        .catch(showError)\n",
       "        .then(() => displayChart(vegaEmbed));\n",
       "    }\n",
       "  })({\"config\": {\"view\": {\"continuousWidth\": 400, \"continuousHeight\": 300}}, \"data\": {\"name\": \"data-7024627a6fb2acc73caee28cbb4c626d\"}, \"mark\": \"line\", \"encoding\": {\"color\": {\"type\": \"nominal\", \"field\": \"action\"}, \"x\": {\"type\": \"quantitative\", \"field\": \"nfrac\", \"title\": \"Fraction of dataset sampled\"}, \"y\": {\"type\": \"quantitative\", \"field\": \"Recall\", \"scale\": {\"domain\": [0, 1.01]}}}, \"selection\": {\"selector028\": {\"type\": \"interval\", \"bind\": \"scales\", \"encodings\": [\"x\", \"y\"]}}, \"title\": \"Communities (30k rows)\", \"$schema\": \"https://vega.github.io/schema/vega-lite/v4.8.1.json\", \"datasets\": {\"data-7024627a6fb2acc73caee28cbb4c626d\": [{\"nfrac\": 0.0, \"action\": \"Correlation\", \"Precision\": 0.0, \"Recall\": 0.0, \"FScore\": 0.0}, {\"nfrac\": 0.0, \"action\": \"Distribution\", \"Precision\": 0.0, \"Recall\": 0.0, \"FScore\": 0.0}, {\"nfrac\": 0.0, \"action\": \"Enhance\", \"Precision\": 0.0, \"Recall\": 0.0, \"FScore\": 0.0}, {\"nfrac\": 0.0, \"action\": \"Filter\", \"Precision\": 0.0, \"Recall\": 0.0, \"FScore\": 0.0}, {\"nfrac\": 0.0, \"action\": \"Occurrence\", \"Precision\": 0.0, \"Recall\": 0.0, \"FScore\": 0.0}, {\"nfrac\": 0.01, \"action\": \"Correlation\", \"Precision\": 1.0, \"Recall\": 0.9333333333333333, \"FScore\": 0.9655172413793104}, {\"nfrac\": 0.01, \"action\": \"Distribution\", \"Precision\": 1.0, \"Recall\": 0.9333333333333333, \"FScore\": 0.9642857142857143}, {\"nfrac\": 0.01, \"action\": \"Enhance\", \"Precision\": 1.0, \"Recall\": 0.9666666666666667, \"FScore\": 0.9827586206896552}, {\"nfrac\": 0.01, \"action\": \"Filter\", \"Precision\": 1.0, \"Recall\": 0.13333333333333333, \"FScore\": 0.23529411764705882}, {\"nfrac\": 0.01, \"action\": \"Occurrence\", \"Precision\": 1.0, \"Recall\": 0.9666666666666667, \"FScore\": 0.9827586206896552}, {\"nfrac\": 0.02, \"action\": \"Correlation\", \"Precision\": 1.0, \"Recall\": 0.9, \"FScore\": 0.9470443349753694}, {\"nfrac\": 0.02, \"action\": \"Distribution\", \"Precision\": 1.0, \"Recall\": 0.9, \"FScore\": 0.9470443349753694}, {\"nfrac\": 0.02, \"action\": \"Enhance\", \"Precision\": 1.0, \"Recall\": 1.0, \"FScore\": 1.0}, {\"nfrac\": 0.02, \"action\": \"Filter\", \"Precision\": 1.0, \"Recall\": 0.23333333333333334, \"FScore\": 0.36764705882352944}, {\"nfrac\": 0.02, \"action\": \"Occurrence\", \"Precision\": 1.0, \"Recall\": 0.9666666666666667, \"FScore\": 0.9827586206896552}, {\"nfrac\": 0.03, \"action\": \"Correlation\", \"Precision\": 1.0, \"Recall\": 0.9333333333333333, \"FScore\": 0.9655172413793104}, {\"nfrac\": 0.03, \"action\": \"Distribution\", \"Precision\": 1.0, \"Recall\": 0.9333333333333333, \"FScore\": 0.9642857142857143}, {\"nfrac\": 0.03, \"action\": \"Enhance\", \"Precision\": 1.0, \"Recall\": 1.0, \"FScore\": 1.0}, {\"nfrac\": 0.03, \"action\": \"Filter\", \"Precision\": 1.0, \"Recall\": 0.4666666666666667, \"FScore\": 0.6335403726708075}, {\"nfrac\": 0.03, \"action\": \"Occurrence\", \"Precision\": 1.0, \"Recall\": 0.9333333333333333, \"FScore\": 0.9655172413793104}, {\"nfrac\": 0.04, \"action\": \"Correlation\", \"Precision\": 1.0, \"Recall\": 0.9333333333333333, \"FScore\": 0.9655172413793104}, {\"nfrac\": 0.04, \"action\": \"Distribution\", \"Precision\": 1.0, \"Recall\": 0.9, \"FScore\": 0.9470443349753694}, {\"nfrac\": 0.04, \"action\": \"Enhance\", \"Precision\": 1.0, \"Recall\": 1.0, \"FScore\": 1.0}, {\"nfrac\": 0.04, \"action\": \"Filter\", \"Precision\": 1.0, \"Recall\": 0.4666666666666667, \"FScore\": 0.625}, {\"nfrac\": 0.04, \"action\": \"Occurrence\", \"Precision\": 1.0, \"Recall\": 0.9666666666666667, \"FScore\": 0.9827586206896552}, {\"nfrac\": 0.05, \"action\": \"Correlation\", \"Precision\": 1.0, \"Recall\": 0.9333333333333333, \"FScore\": 0.9655172413793104}, {\"nfrac\": 0.05, \"action\": \"Distribution\", \"Precision\": 1.0, \"Recall\": 0.9333333333333333, \"FScore\": 0.9655172413793104}, {\"nfrac\": 0.05, \"action\": \"Enhance\", \"Precision\": 1.0, \"Recall\": 1.0, \"FScore\": 1.0}, {\"nfrac\": 0.05, \"action\": \"Filter\", \"Precision\": 1.0, \"Recall\": 0.6, \"FScore\": 0.7478260869565219}, {\"nfrac\": 0.05, \"action\": \"Occurrence\", \"Precision\": 1.0, \"Recall\": 0.9333333333333333, \"FScore\": 0.9655172413793104}, {\"nfrac\": 0.06, \"action\": \"Correlation\", \"Precision\": 1.0, \"Recall\": 0.9666666666666667, \"FScore\": 0.9827586206896552}, {\"nfrac\": 0.06, \"action\": \"Distribution\", \"Precision\": 1.0, \"Recall\": 0.9333333333333333, \"FScore\": 0.9655172413793104}, {\"nfrac\": 0.06, \"action\": \"Enhance\", \"Precision\": 1.0, \"Recall\": 1.0, \"FScore\": 1.0}, {\"nfrac\": 0.06, \"action\": \"Filter\", \"Precision\": 1.0, \"Recall\": 0.6666666666666666, \"FScore\": 0.8}, {\"nfrac\": 0.06, \"action\": \"Occurrence\", \"Precision\": 1.0, \"Recall\": 0.9333333333333333, \"FScore\": 0.9655172413793104}, {\"nfrac\": 0.07, \"action\": \"Correlation\", \"Precision\": 1.0, \"Recall\": 0.9333333333333333, \"FScore\": 0.9655172413793104}, {\"nfrac\": 0.07, \"action\": \"Distribution\", \"Precision\": 1.0, \"Recall\": 0.9666666666666667, \"FScore\": 0.9827586206896552}, {\"nfrac\": 0.07, \"action\": \"Enhance\", \"Precision\": 1.0, \"Recall\": 1.0, \"FScore\": 1.0}, {\"nfrac\": 0.07, \"action\": \"Filter\", \"Precision\": 1.0, \"Recall\": 0.6666666666666666, \"FScore\": 0.7980769230769229}, {\"nfrac\": 0.07, \"action\": \"Occurrence\", \"Precision\": 1.0, \"Recall\": 0.9333333333333333, \"FScore\": 0.9655172413793104}, {\"nfrac\": 0.08, \"action\": \"Correlation\", \"Precision\": 1.0, \"Recall\": 0.9666666666666667, \"FScore\": 0.9827586206896552}, {\"nfrac\": 0.08, \"action\": \"Distribution\", \"Precision\": 1.0, \"Recall\": 0.9333333333333333, \"FScore\": 0.9655172413793104}, {\"nfrac\": 0.08, \"action\": \"Enhance\", \"Precision\": 1.0, \"Recall\": 1.0, \"FScore\": 1.0}, {\"nfrac\": 0.08, \"action\": \"Filter\", \"Precision\": 1.0, \"Recall\": 0.7333333333333333, \"FScore\": 0.846153846153846}, {\"nfrac\": 0.08, \"action\": \"Occurrence\", \"Precision\": 1.0, \"Recall\": 0.9333333333333333, \"FScore\": 0.9655172413793104}, {\"nfrac\": 0.09, \"action\": \"Correlation\", \"Precision\": 1.0, \"Recall\": 0.9666666666666667, \"FScore\": 0.9827586206896552}, {\"nfrac\": 0.09, \"action\": \"Distribution\", \"Precision\": 1.0, \"Recall\": 0.9666666666666667, \"FScore\": 0.9827586206896552}, {\"nfrac\": 0.09, \"action\": \"Enhance\", \"Precision\": 1.0, \"Recall\": 1.0, \"FScore\": 1.0}, {\"nfrac\": 0.09, \"action\": \"Filter\", \"Precision\": 1.0, \"Recall\": 0.7666666666666666, \"FScore\": 0.8675213675213675}, {\"nfrac\": 0.09, \"action\": \"Occurrence\", \"Precision\": 1.0, \"Recall\": 0.9333333333333333, \"FScore\": 0.9655172413793104}, {\"nfrac\": 0.11, \"action\": \"Correlation\", \"Precision\": 1.0, \"Recall\": 0.9666666666666667, \"FScore\": 0.9827586206896552}, {\"nfrac\": 0.11, \"action\": \"Distribution\", \"Precision\": 1.0, \"Recall\": 0.9666666666666667, \"FScore\": 0.9827586206896552}, {\"nfrac\": 0.11, \"action\": \"Enhance\", \"Precision\": 1.0, \"Recall\": 1.0, \"FScore\": 1.0}, {\"nfrac\": 0.11, \"action\": \"Filter\", \"Precision\": 1.0, \"Recall\": 0.7, \"FScore\": 0.823076923076923}, {\"nfrac\": 0.11, \"action\": \"Occurrence\", \"Precision\": 1.0, \"Recall\": 0.9333333333333333, \"FScore\": 0.9655172413793104}, {\"nfrac\": 0.12, \"action\": \"Correlation\", \"Precision\": 1.0, \"Recall\": 0.9666666666666667, \"FScore\": 0.9827586206896552}, {\"nfrac\": 0.12, \"action\": \"Distribution\", \"Precision\": 1.0, \"Recall\": 0.9666666666666667, \"FScore\": 0.9827586206896552}, {\"nfrac\": 0.12, \"action\": \"Enhance\", \"Precision\": 1.0, \"Recall\": 1.0, \"FScore\": 1.0}, {\"nfrac\": 0.12, \"action\": \"Filter\", \"Precision\": 1.0, \"Recall\": 0.7, \"FScore\": 0.823076923076923}, {\"nfrac\": 0.12, \"action\": \"Occurrence\", \"Precision\": 1.0, \"Recall\": 0.9333333333333333, \"FScore\": 0.9655172413793104}, {\"nfrac\": 0.14, \"action\": \"Correlation\", \"Precision\": 1.0, \"Recall\": 0.9666666666666667, \"FScore\": 0.9827586206896552}, {\"nfrac\": 0.14, \"action\": \"Distribution\", \"Precision\": 1.0, \"Recall\": 0.9666666666666667, \"FScore\": 0.9827586206896552}, {\"nfrac\": 0.14, \"action\": \"Enhance\", \"Precision\": 1.0, \"Recall\": 1.0, \"FScore\": 1.0}, {\"nfrac\": 0.14, \"action\": \"Filter\", \"Precision\": 1.0, \"Recall\": 0.8, \"FScore\": 0.8873626373626373}, {\"nfrac\": 0.14, \"action\": \"Occurrence\", \"Precision\": 1.0, \"Recall\": 0.9333333333333333, \"FScore\": 0.9655172413793104}, {\"nfrac\": 0.17, \"action\": \"Correlation\", \"Precision\": 1.0, \"Recall\": 0.9666666666666667, \"FScore\": 0.9827586206896552}, {\"nfrac\": 0.17, \"action\": \"Distribution\", \"Precision\": 1.0, \"Recall\": 1.0, \"FScore\": 1.0}, {\"nfrac\": 0.17, \"action\": \"Enhance\", \"Precision\": 1.0, \"Recall\": 1.0, \"FScore\": 1.0}, {\"nfrac\": 0.17, \"action\": \"Filter\", \"Precision\": 1.0, \"Recall\": 0.8333333333333333, \"FScore\": 0.9058355437665782}, {\"nfrac\": 0.17, \"action\": \"Occurrence\", \"Precision\": 1.0, \"Recall\": 0.9333333333333333, \"FScore\": 0.9655172413793104}, {\"nfrac\": 0.2, \"action\": \"Correlation\", \"Precision\": 1.0, \"Recall\": 0.9333333333333333, \"FScore\": 0.9655172413793104}, {\"nfrac\": 0.2, \"action\": \"Distribution\", \"Precision\": 1.0, \"Recall\": 1.0, \"FScore\": 1.0}, {\"nfrac\": 0.2, \"action\": \"Enhance\", \"Precision\": 1.0, \"Recall\": 1.0, \"FScore\": 1.0}, {\"nfrac\": 0.2, \"action\": \"Filter\", \"Precision\": 1.0, \"Recall\": 0.9666666666666667, \"FScore\": 0.9827586206896552}, {\"nfrac\": 0.2, \"action\": \"Occurrence\", \"Precision\": 1.0, \"Recall\": 0.9333333333333333, \"FScore\": 0.9655172413793104}, {\"nfrac\": 0.23, \"action\": \"Correlation\", \"Precision\": 1.0, \"Recall\": 0.9666666666666667, \"FScore\": 0.9827586206896552}, {\"nfrac\": 0.23, \"action\": \"Distribution\", \"Precision\": 1.0, \"Recall\": 1.0, \"FScore\": 1.0}, {\"nfrac\": 0.23, \"action\": \"Enhance\", \"Precision\": 1.0, \"Recall\": 1.0, \"FScore\": 1.0}, {\"nfrac\": 0.23, \"action\": \"Filter\", \"Precision\": 1.0, \"Recall\": 0.9666666666666667, \"FScore\": 0.9827586206896552}, {\"nfrac\": 0.23, \"action\": \"Occurrence\", \"Precision\": 1.0, \"Recall\": 0.9333333333333333, \"FScore\": 0.9655172413793104}, {\"nfrac\": 0.27, \"action\": \"Correlation\", \"Precision\": 1.0, \"Recall\": 0.9666666666666667, \"FScore\": 0.9827586206896552}, {\"nfrac\": 0.27, \"action\": \"Distribution\", \"Precision\": 1.0, \"Recall\": 1.0, \"FScore\": 1.0}, {\"nfrac\": 0.27, \"action\": \"Enhance\", \"Precision\": 1.0, \"Recall\": 1.0, \"FScore\": 1.0}, {\"nfrac\": 0.27, \"action\": \"Filter\", \"Precision\": 1.0, \"Recall\": 1.0, \"FScore\": 1.0}, {\"nfrac\": 0.27, \"action\": \"Occurrence\", \"Precision\": 1.0, \"Recall\": 0.9333333333333333, \"FScore\": 0.9655172413793104}, {\"nfrac\": 0.32, \"action\": \"Correlation\", \"Precision\": 1.0, \"Recall\": 1.0, \"FScore\": 1.0}, {\"nfrac\": 0.32, \"action\": \"Distribution\", \"Precision\": 1.0, \"Recall\": 1.0, \"FScore\": 1.0}, {\"nfrac\": 0.32, \"action\": \"Enhance\", \"Precision\": 1.0, \"Recall\": 1.0, \"FScore\": 1.0}, {\"nfrac\": 0.32, \"action\": \"Filter\", \"Precision\": 1.0, \"Recall\": 1.0, \"FScore\": 1.0}, {\"nfrac\": 0.32, \"action\": \"Occurrence\", \"Precision\": 1.0, \"Recall\": 0.9333333333333333, \"FScore\": 0.9655172413793104}, {\"nfrac\": 0.37, \"action\": \"Correlation\", \"Precision\": 1.0, \"Recall\": 0.9666666666666667, \"FScore\": 0.9827586206896552}, {\"nfrac\": 0.37, \"action\": \"Distribution\", \"Precision\": 1.0, \"Recall\": 1.0, \"FScore\": 1.0}, {\"nfrac\": 0.37, \"action\": \"Enhance\", \"Precision\": 1.0, \"Recall\": 1.0, \"FScore\": 1.0}, {\"nfrac\": 0.37, \"action\": \"Filter\", \"Precision\": 1.0, \"Recall\": 0.9666666666666667, \"FScore\": 0.9827586206896552}, {\"nfrac\": 0.37, \"action\": \"Occurrence\", \"Precision\": 1.0, \"Recall\": 0.9333333333333333, \"FScore\": 0.9655172413793104}, {\"nfrac\": 0.43, \"action\": \"Correlation\", \"Precision\": 1.0, \"Recall\": 0.9666666666666667, \"FScore\": 0.9827586206896552}, {\"nfrac\": 0.43, \"action\": \"Distribution\", \"Precision\": 1.0, \"Recall\": 1.0, \"FScore\": 1.0}, {\"nfrac\": 0.43, \"action\": \"Enhance\", \"Precision\": 1.0, \"Recall\": 1.0, \"FScore\": 1.0}, {\"nfrac\": 0.43, \"action\": \"Filter\", \"Precision\": 1.0, \"Recall\": 1.0, \"FScore\": 1.0}, {\"nfrac\": 0.43, \"action\": \"Occurrence\", \"Precision\": 1.0, \"Recall\": 0.9333333333333333, \"FScore\": 0.9655172413793104}, {\"nfrac\": 0.51, \"action\": \"Correlation\", \"Precision\": 1.0, \"Recall\": 1.0, \"FScore\": 1.0}, {\"nfrac\": 0.51, \"action\": \"Distribution\", \"Precision\": 1.0, \"Recall\": 1.0, \"FScore\": 1.0}, {\"nfrac\": 0.51, \"action\": \"Enhance\", \"Precision\": 1.0, \"Recall\": 1.0, \"FScore\": 1.0}, {\"nfrac\": 0.51, \"action\": \"Filter\", \"Precision\": 1.0, \"Recall\": 1.0, \"FScore\": 1.0}, {\"nfrac\": 0.51, \"action\": \"Occurrence\", \"Precision\": 1.0, \"Recall\": 0.9333333333333333, \"FScore\": 0.9655172413793104}, {\"nfrac\": 0.59, \"action\": \"Correlation\", \"Precision\": 1.0, \"Recall\": 1.0, \"FScore\": 1.0}, {\"nfrac\": 0.59, \"action\": \"Distribution\", \"Precision\": 1.0, \"Recall\": 1.0, \"FScore\": 1.0}, {\"nfrac\": 0.59, \"action\": \"Enhance\", \"Precision\": 1.0, \"Recall\": 1.0, \"FScore\": 1.0}, {\"nfrac\": 0.59, \"action\": \"Filter\", \"Precision\": 1.0, \"Recall\": 1.0, \"FScore\": 1.0}, {\"nfrac\": 0.59, \"action\": \"Occurrence\", \"Precision\": 1.0, \"Recall\": 0.9333333333333333, \"FScore\": 0.9655172413793104}, {\"nfrac\": 0.69, \"action\": \"Correlation\", \"Precision\": 1.0, \"Recall\": 1.0, \"FScore\": 1.0}, {\"nfrac\": 0.69, \"action\": \"Distribution\", \"Precision\": 1.0, \"Recall\": 1.0, \"FScore\": 1.0}, {\"nfrac\": 0.69, \"action\": \"Enhance\", \"Precision\": 1.0, \"Recall\": 1.0, \"FScore\": 1.0}, {\"nfrac\": 0.69, \"action\": \"Filter\", \"Precision\": 1.0, \"Recall\": 1.0, \"FScore\": 1.0}, {\"nfrac\": 0.69, \"action\": \"Occurrence\", \"Precision\": 1.0, \"Recall\": 0.9333333333333333, \"FScore\": 0.9655172413793104}, {\"nfrac\": 0.81, \"action\": \"Correlation\", \"Precision\": 1.0, \"Recall\": 1.0, \"FScore\": 1.0}, {\"nfrac\": 0.81, \"action\": \"Distribution\", \"Precision\": 1.0, \"Recall\": 1.0, \"FScore\": 1.0}, {\"nfrac\": 0.81, \"action\": \"Enhance\", \"Precision\": 1.0, \"Recall\": 1.0, \"FScore\": 1.0}, {\"nfrac\": 0.81, \"action\": \"Filter\", \"Precision\": 1.0, \"Recall\": 0.9666666666666667, \"FScore\": 0.9827586206896552}, {\"nfrac\": 0.81, \"action\": \"Occurrence\", \"Precision\": 1.0, \"Recall\": 0.9333333333333333, \"FScore\": 0.9655172413793104}, {\"nfrac\": 0.95, \"action\": \"Correlation\", \"Precision\": 1.0, \"Recall\": 1.0, \"FScore\": 1.0}, {\"nfrac\": 0.95, \"action\": \"Distribution\", \"Precision\": 1.0, \"Recall\": 1.0, \"FScore\": 1.0}, {\"nfrac\": 0.95, \"action\": \"Enhance\", \"Precision\": 1.0, \"Recall\": 1.0, \"FScore\": 1.0}, {\"nfrac\": 0.95, \"action\": \"Filter\", \"Precision\": 1.0, \"Recall\": 0.9666666666666667, \"FScore\": 0.9827586206896552}, {\"nfrac\": 0.95, \"action\": \"Occurrence\", \"Precision\": 1.0, \"Recall\": 0.9666666666666667, \"FScore\": 0.9827586206896552}, {\"nfrac\": 1.0, \"action\": \"Correlation\", \"Precision\": 1.0, \"Recall\": 1.0, \"FScore\": 1.0}, {\"nfrac\": 1.0, \"action\": \"Distribution\", \"Precision\": 1.0, \"Recall\": 1.0, \"FScore\": 1.0}, {\"nfrac\": 1.0, \"action\": \"Enhance\", \"Precision\": 1.0, \"Recall\": 1.0, \"FScore\": 1.0}, {\"nfrac\": 1.0, \"action\": \"Filter\", \"Precision\": 1.0, \"Recall\": 1.0, \"FScore\": 1.0}, {\"nfrac\": 1.0, \"action\": \"Occurrence\", \"Precision\": 1.0, \"Recall\": 1.0, \"FScore\": 1.0}]}}, {\"mode\": \"vega-lite\"});\n",
       "</script>"
      ],
      "text/plain": [
       "alt.Chart(...)"
      ]
     },
     "execution_count": 45,
     "metadata": {},
     "output_type": "execute_result"
    }
   ],
   "source": [
    "df = trial_df \n",
    "df = df.groupby([\"nfrac\",\"action\"]).mean().reset_index()\n",
    "alt.Chart(df,title=\"Communities (30k rows)\").mark_line().encode(\n",
    "    x = alt.X(\"nfrac\",title=\"Fraction of dataset sampled\"),#,scale=alt.Scale(domain=(0.01,1.0),type=\"log\")),\n",
    "    y = alt.Y(\"Recall\",scale=alt.Scale(domain=(0,1.01))),\n",
    "    color = \"action\"\n",
    ").interactive()"
   ]
  },
  {
   "cell_type": "code",
   "execution_count": 8,
   "metadata": {},
   "outputs": [],
   "source": [
    "import glob"
   ]
  },
  {
   "cell_type": "code",
   "execution_count": 76,
   "metadata": {},
   "outputs": [],
   "source": [
    "action_lst = [\"Correlation\",\"Enhance\"]\n",
    "trial = []\n",
    "\n",
    "for action in action_lst :\n",
    "    map1 = pkl.load(open(f\"tmp_airbnb20000/airbnb_gt_{action}.pkl\",'rb'))\n",
    "    for file in glob.glob(f\"tmp_airbnb20000/airbnb_nfrac*_{action}_*.pkl\"):\n",
    "        map2 = pkl.load(open(file,'rb'))\n",
    "        nfrac = float(file.split(\"/\")[1:][0].split(\"_\")[1][5:])\n",
    "        prf = compute_prf_between_vislists(map1,map2)\n",
    "        trial.append([nfrac, action, prf[0], prf[1], prf[2]])\n",
    "    # Inserting endpoints \n",
    "    trial.append([0,action, 0,0,0])\n",
    "    trial.append([1,action, 1,1,1])\n",
    "trial_df = pd.DataFrame(\n",
    "    trial,\n",
    "    columns=[\"nfrac\", \"action\", \"Precision\",\"Recall\",\"FScore\"],\n",
    ") "
   ]
  },
  {
   "cell_type": "code",
   "execution_count": 78,
   "metadata": {},
   "outputs": [
    {
     "data": {
      "text/html": [
       "\n",
       "<div id=\"altair-viz-c06adaa47d7e4bdb931e7de662e3471d\"></div>\n",
       "<script type=\"text/javascript\">\n",
       "  (function(spec, embedOpt){\n",
       "    let outputDiv = document.currentScript.previousElementSibling;\n",
       "    if (outputDiv.id !== \"altair-viz-c06adaa47d7e4bdb931e7de662e3471d\") {\n",
       "      outputDiv = document.getElementById(\"altair-viz-c06adaa47d7e4bdb931e7de662e3471d\");\n",
       "    }\n",
       "    const paths = {\n",
       "      \"vega\": \"https://cdn.jsdelivr.net/npm//vega@5?noext\",\n",
       "      \"vega-lib\": \"https://cdn.jsdelivr.net/npm//vega-lib?noext\",\n",
       "      \"vega-lite\": \"https://cdn.jsdelivr.net/npm//vega-lite@4.8.1?noext\",\n",
       "      \"vega-embed\": \"https://cdn.jsdelivr.net/npm//vega-embed@6?noext\",\n",
       "    };\n",
       "\n",
       "    function loadScript(lib) {\n",
       "      return new Promise(function(resolve, reject) {\n",
       "        var s = document.createElement('script');\n",
       "        s.src = paths[lib];\n",
       "        s.async = true;\n",
       "        s.onload = () => resolve(paths[lib]);\n",
       "        s.onerror = () => reject(`Error loading script: ${paths[lib]}`);\n",
       "        document.getElementsByTagName(\"head\")[0].appendChild(s);\n",
       "      });\n",
       "    }\n",
       "\n",
       "    function showError(err) {\n",
       "      outputDiv.innerHTML = `<div class=\"error\" style=\"color:red;\">${err}</div>`;\n",
       "      throw err;\n",
       "    }\n",
       "\n",
       "    function displayChart(vegaEmbed) {\n",
       "      vegaEmbed(outputDiv, spec, embedOpt)\n",
       "        .catch(err => showError(`Javascript Error: ${err.message}<br>This usually means there's a typo in your chart specification. See the javascript console for the full traceback.`));\n",
       "    }\n",
       "\n",
       "    if(typeof define === \"function\" && define.amd) {\n",
       "      requirejs.config({paths});\n",
       "      require([\"vega-embed\"], displayChart, err => showError(`Error loading script: ${err.message}`));\n",
       "    } else if (typeof vegaEmbed === \"function\") {\n",
       "      displayChart(vegaEmbed);\n",
       "    } else {\n",
       "      loadScript(\"vega\")\n",
       "        .then(() => loadScript(\"vega-lite\"))\n",
       "        .then(() => loadScript(\"vega-embed\"))\n",
       "        .catch(showError)\n",
       "        .then(() => displayChart(vegaEmbed));\n",
       "    }\n",
       "  })({\"config\": {\"view\": {\"continuousWidth\": 400, \"continuousHeight\": 300}}, \"data\": {\"name\": \"data-c587200bba1753bd1bbb3943debe58e9\"}, \"mark\": \"line\", \"encoding\": {\"color\": {\"type\": \"nominal\", \"field\": \"action\"}, \"x\": {\"type\": \"quantitative\", \"field\": \"nfrac\", \"title\": \"Fraction of dataset sampled\"}, \"y\": {\"type\": \"quantitative\", \"field\": \"Recall\", \"scale\": {\"domain\": [0, 1.01]}}}, \"selection\": {\"selector049\": {\"type\": \"interval\", \"bind\": \"scales\", \"encodings\": [\"x\", \"y\"]}}, \"title\": \"Airbnb (20k rows)\", \"$schema\": \"https://vega.github.io/schema/vega-lite/v4.8.1.json\", \"datasets\": {\"data-c587200bba1753bd1bbb3943debe58e9\": [{\"nfrac\": 0.0, \"action\": \"Correlation\", \"Precision\": 0.0, \"Recall\": 0.0, \"FScore\": 0.0}, {\"nfrac\": 0.0, \"action\": \"Enhance\", \"Precision\": 0.0, \"Recall\": 0.0, \"FScore\": 0.0}, {\"nfrac\": 0.01, \"action\": \"Correlation\", \"Precision\": 1.0, \"Recall\": 0.5333333333333333, \"FScore\": 0.6956521739130436}, {\"nfrac\": 0.01, \"action\": \"Enhance\", \"Precision\": 1.0, \"Recall\": 0.8, \"FScore\": 0.888888888888889}, {\"nfrac\": 0.03, \"action\": \"Correlation\", \"Precision\": 1.0, \"Recall\": 0.6666666666666666, \"FScore\": 0.8}, {\"nfrac\": 0.03, \"action\": \"Enhance\", \"Precision\": 1.0, \"Recall\": 0.9333333333333333, \"FScore\": 0.9655172413793104}, {\"nfrac\": 0.05, \"action\": \"Correlation\", \"Precision\": 1.0, \"Recall\": 0.6666666666666666, \"FScore\": 0.8}, {\"nfrac\": 0.05, \"action\": \"Enhance\", \"Precision\": 1.0, \"Recall\": 0.9333333333333333, \"FScore\": 0.9655172413793104}, {\"nfrac\": 0.07, \"action\": \"Correlation\", \"Precision\": 1.0, \"Recall\": 0.6666666666666666, \"FScore\": 0.8}, {\"nfrac\": 0.07, \"action\": \"Enhance\", \"Precision\": 1.0, \"Recall\": 0.9333333333333333, \"FScore\": 0.9655172413793104}, {\"nfrac\": 0.1, \"action\": \"Correlation\", \"Precision\": 1.0, \"Recall\": 0.6666666666666665, \"FScore\": 0.8000000000000002}, {\"nfrac\": 0.1, \"action\": \"Enhance\", \"Precision\": 1.0, \"Recall\": 0.9333333333333335, \"FScore\": 0.96551724137931}, {\"nfrac\": 0.11, \"action\": \"Correlation\", \"Precision\": 1.0, \"Recall\": 0.6666666666666665, \"FScore\": 0.8000000000000002}, {\"nfrac\": 0.11, \"action\": \"Enhance\", \"Precision\": 1.0, \"Recall\": 0.9333333333333335, \"FScore\": 0.96551724137931}, {\"nfrac\": 0.12, \"action\": \"Correlation\", \"Precision\": 1.0, \"Recall\": 0.6666666666666665, \"FScore\": 0.8000000000000002}, {\"nfrac\": 0.12, \"action\": \"Enhance\", \"Precision\": 1.0, \"Recall\": 0.9333333333333335, \"FScore\": 0.96551724137931}, {\"nfrac\": 0.13, \"action\": \"Correlation\", \"Precision\": 1.0, \"Recall\": 0.6666666666666665, \"FScore\": 0.8000000000000002}, {\"nfrac\": 0.13, \"action\": \"Enhance\", \"Precision\": 1.0, \"Recall\": 0.9333333333333335, \"FScore\": 0.96551724137931}, {\"nfrac\": 0.14, \"action\": \"Correlation\", \"Precision\": 1.0, \"Recall\": 0.6666666666666665, \"FScore\": 0.8000000000000002}, {\"nfrac\": 0.14, \"action\": \"Enhance\", \"Precision\": 1.0, \"Recall\": 0.9333333333333335, \"FScore\": 0.96551724137931}, {\"nfrac\": 0.15, \"action\": \"Correlation\", \"Precision\": 1.0, \"Recall\": 0.6666666666666665, \"FScore\": 0.8000000000000002}, {\"nfrac\": 0.15, \"action\": \"Enhance\", \"Precision\": 1.0, \"Recall\": 0.9333333333333335, \"FScore\": 0.96551724137931}, {\"nfrac\": 0.16, \"action\": \"Correlation\", \"Precision\": 1.0, \"Recall\": 0.6666666666666665, \"FScore\": 0.8000000000000002}, {\"nfrac\": 0.16, \"action\": \"Enhance\", \"Precision\": 1.0, \"Recall\": 0.9333333333333335, \"FScore\": 0.96551724137931}, {\"nfrac\": 0.17, \"action\": \"Correlation\", \"Precision\": 1.0, \"Recall\": 0.6666666666666665, \"FScore\": 0.8000000000000002}, {\"nfrac\": 0.17, \"action\": \"Enhance\", \"Precision\": 1.0, \"Recall\": 0.9333333333333335, \"FScore\": 0.96551724137931}, {\"nfrac\": 0.18, \"action\": \"Correlation\", \"Precision\": 1.0, \"Recall\": 0.6666666666666665, \"FScore\": 0.8000000000000002}, {\"nfrac\": 0.18, \"action\": \"Enhance\", \"Precision\": 1.0, \"Recall\": 0.9333333333333335, \"FScore\": 0.96551724137931}, {\"nfrac\": 0.19, \"action\": \"Correlation\", \"Precision\": 1.0, \"Recall\": 0.6666666666666665, \"FScore\": 0.8000000000000002}, {\"nfrac\": 0.19, \"action\": \"Enhance\", \"Precision\": 1.0, \"Recall\": 0.9333333333333335, \"FScore\": 0.96551724137931}, {\"nfrac\": 0.2, \"action\": \"Correlation\", \"Precision\": 1.0, \"Recall\": 0.6666666666666665, \"FScore\": 0.8000000000000002}, {\"nfrac\": 0.2, \"action\": \"Enhance\", \"Precision\": 1.0, \"Recall\": 0.9333333333333335, \"FScore\": 0.96551724137931}, {\"nfrac\": 0.21, \"action\": \"Correlation\", \"Precision\": 1.0, \"Recall\": 0.6666666666666665, \"FScore\": 0.8000000000000002}, {\"nfrac\": 0.21, \"action\": \"Enhance\", \"Precision\": 1.0, \"Recall\": 0.9333333333333335, \"FScore\": 0.96551724137931}, {\"nfrac\": 0.22, \"action\": \"Correlation\", \"Precision\": 1.0, \"Recall\": 0.6666666666666665, \"FScore\": 0.8000000000000002}, {\"nfrac\": 0.22, \"action\": \"Enhance\", \"Precision\": 1.0, \"Recall\": 0.9333333333333335, \"FScore\": 0.96551724137931}, {\"nfrac\": 0.23, \"action\": \"Correlation\", \"Precision\": 1.0, \"Recall\": 0.6666666666666665, \"FScore\": 0.8000000000000002}, {\"nfrac\": 0.23, \"action\": \"Enhance\", \"Precision\": 1.0, \"Recall\": 0.9333333333333335, \"FScore\": 0.96551724137931}, {\"nfrac\": 0.24, \"action\": \"Correlation\", \"Precision\": 1.0, \"Recall\": 0.6666666666666665, \"FScore\": 0.8000000000000002}, {\"nfrac\": 0.24, \"action\": \"Enhance\", \"Precision\": 1.0, \"Recall\": 0.9333333333333335, \"FScore\": 0.96551724137931}, {\"nfrac\": 0.25, \"action\": \"Correlation\", \"Precision\": 1.0, \"Recall\": 0.6666666666666665, \"FScore\": 0.8000000000000002}, {\"nfrac\": 0.25, \"action\": \"Enhance\", \"Precision\": 1.0, \"Recall\": 0.9333333333333335, \"FScore\": 0.96551724137931}, {\"nfrac\": 0.27, \"action\": \"Correlation\", \"Precision\": 1.0, \"Recall\": 0.6666666666666665, \"FScore\": 0.8000000000000002}, {\"nfrac\": 0.27, \"action\": \"Enhance\", \"Precision\": 1.0, \"Recall\": 0.9333333333333335, \"FScore\": 0.96551724137931}, {\"nfrac\": 0.28, \"action\": \"Correlation\", \"Precision\": 1.0, \"Recall\": 0.6666666666666665, \"FScore\": 0.8000000000000002}, {\"nfrac\": 0.28, \"action\": \"Enhance\", \"Precision\": 1.0, \"Recall\": 0.9333333333333335, \"FScore\": 0.96551724137931}, {\"nfrac\": 0.29, \"action\": \"Correlation\", \"Precision\": 1.0, \"Recall\": 0.6666666666666665, \"FScore\": 0.8000000000000002}, {\"nfrac\": 0.29, \"action\": \"Enhance\", \"Precision\": 1.0, \"Recall\": 0.9333333333333335, \"FScore\": 0.96551724137931}, {\"nfrac\": 0.31, \"action\": \"Correlation\", \"Precision\": 1.0, \"Recall\": 0.6666666666666665, \"FScore\": 0.8000000000000002}, {\"nfrac\": 0.31, \"action\": \"Enhance\", \"Precision\": 1.0, \"Recall\": 0.9333333333333335, \"FScore\": 0.96551724137931}, {\"nfrac\": 0.32, \"action\": \"Correlation\", \"Precision\": 1.0, \"Recall\": 0.6666666666666665, \"FScore\": 0.8000000000000002}, {\"nfrac\": 0.32, \"action\": \"Enhance\", \"Precision\": 1.0, \"Recall\": 0.9333333333333335, \"FScore\": 0.96551724137931}, {\"nfrac\": 0.34, \"action\": \"Correlation\", \"Precision\": 1.0, \"Recall\": 0.6666666666666665, \"FScore\": 0.8000000000000002}, {\"nfrac\": 0.34, \"action\": \"Enhance\", \"Precision\": 1.0, \"Recall\": 0.9333333333333335, \"FScore\": 0.96551724137931}, {\"nfrac\": 0.35, \"action\": \"Correlation\", \"Precision\": 1.0, \"Recall\": 0.6666666666666665, \"FScore\": 0.8000000000000002}, {\"nfrac\": 0.35, \"action\": \"Enhance\", \"Precision\": 1.0, \"Recall\": 0.9333333333333335, \"FScore\": 0.96551724137931}, {\"nfrac\": 0.37, \"action\": \"Correlation\", \"Precision\": 1.0, \"Recall\": 0.6666666666666665, \"FScore\": 0.8000000000000002}, {\"nfrac\": 0.37, \"action\": \"Enhance\", \"Precision\": 1.0, \"Recall\": 0.9333333333333335, \"FScore\": 0.96551724137931}, {\"nfrac\": 0.39, \"action\": \"Correlation\", \"Precision\": 1.0, \"Recall\": 0.6666666666666665, \"FScore\": 0.8000000000000002}, {\"nfrac\": 0.39, \"action\": \"Enhance\", \"Precision\": 1.0, \"Recall\": 0.9333333333333335, \"FScore\": 0.96551724137931}, {\"nfrac\": 0.4, \"action\": \"Correlation\", \"Precision\": 1.0, \"Recall\": 0.6666666666666665, \"FScore\": 0.8000000000000002}, {\"nfrac\": 0.4, \"action\": \"Enhance\", \"Precision\": 1.0, \"Recall\": 0.9333333333333335, \"FScore\": 0.96551724137931}, {\"nfrac\": 0.42, \"action\": \"Correlation\", \"Precision\": 1.0, \"Recall\": 0.6666666666666665, \"FScore\": 0.8000000000000002}, {\"nfrac\": 0.42, \"action\": \"Enhance\", \"Precision\": 1.0, \"Recall\": 0.9333333333333335, \"FScore\": 0.96551724137931}, {\"nfrac\": 0.44, \"action\": \"Correlation\", \"Precision\": 1.0, \"Recall\": 0.6666666666666665, \"FScore\": 0.8000000000000002}, {\"nfrac\": 0.44, \"action\": \"Enhance\", \"Precision\": 1.0, \"Recall\": 0.9333333333333335, \"FScore\": 0.96551724137931}, {\"nfrac\": 0.47, \"action\": \"Correlation\", \"Precision\": 1.0, \"Recall\": 0.6666666666666665, \"FScore\": 0.8000000000000002}, {\"nfrac\": 0.47, \"action\": \"Enhance\", \"Precision\": 1.0, \"Recall\": 0.9333333333333335, \"FScore\": 0.96551724137931}, {\"nfrac\": 0.49, \"action\": \"Correlation\", \"Precision\": 1.0, \"Recall\": 0.6666666666666665, \"FScore\": 0.8000000000000002}, {\"nfrac\": 0.49, \"action\": \"Enhance\", \"Precision\": 1.0, \"Recall\": 0.9333333333333335, \"FScore\": 0.96551724137931}, {\"nfrac\": 0.51, \"action\": \"Correlation\", \"Precision\": 1.0, \"Recall\": 0.6666666666666665, \"FScore\": 0.8000000000000002}, {\"nfrac\": 0.51, \"action\": \"Enhance\", \"Precision\": 1.0, \"Recall\": 0.9333333333333335, \"FScore\": 0.96551724137931}, {\"nfrac\": 0.53, \"action\": \"Correlation\", \"Precision\": 1.0, \"Recall\": 0.6666666666666665, \"FScore\": 0.8000000000000002}, {\"nfrac\": 0.53, \"action\": \"Enhance\", \"Precision\": 1.0, \"Recall\": 0.9333333333333335, \"FScore\": 0.96551724137931}, {\"nfrac\": 0.56, \"action\": \"Correlation\", \"Precision\": 1.0, \"Recall\": 0.6666666666666665, \"FScore\": 0.8000000000000002}, {\"nfrac\": 0.56, \"action\": \"Enhance\", \"Precision\": 1.0, \"Recall\": 0.9333333333333335, \"FScore\": 0.96551724137931}, {\"nfrac\": 0.59, \"action\": \"Correlation\", \"Precision\": 1.0, \"Recall\": 0.6666666666666665, \"FScore\": 0.8000000000000002}, {\"nfrac\": 0.59, \"action\": \"Enhance\", \"Precision\": 1.0, \"Recall\": 0.9333333333333335, \"FScore\": 0.96551724137931}, {\"nfrac\": 0.62, \"action\": \"Correlation\", \"Precision\": 1.0, \"Recall\": 0.6666666666666665, \"FScore\": 0.8000000000000002}, {\"nfrac\": 0.62, \"action\": \"Enhance\", \"Precision\": 1.0, \"Recall\": 0.9333333333333335, \"FScore\": 0.96551724137931}, {\"nfrac\": 0.64, \"action\": \"Correlation\", \"Precision\": 1.0, \"Recall\": 0.6666666666666665, \"FScore\": 0.8000000000000002}, {\"nfrac\": 0.64, \"action\": \"Enhance\", \"Precision\": 1.0, \"Recall\": 0.9333333333333335, \"FScore\": 0.96551724137931}, {\"nfrac\": 0.68, \"action\": \"Correlation\", \"Precision\": 1.0, \"Recall\": 0.6666666666666665, \"FScore\": 0.8000000000000002}, {\"nfrac\": 0.68, \"action\": \"Enhance\", \"Precision\": 1.0, \"Recall\": 0.9333333333333335, \"FScore\": 0.96551724137931}, {\"nfrac\": 0.71, \"action\": \"Correlation\", \"Precision\": 1.0, \"Recall\": 0.6666666666666665, \"FScore\": 0.8000000000000002}, {\"nfrac\": 0.71, \"action\": \"Enhance\", \"Precision\": 1.0, \"Recall\": 0.9333333333333335, \"FScore\": 0.96551724137931}, {\"nfrac\": 0.74, \"action\": \"Correlation\", \"Precision\": 1.0, \"Recall\": 0.6666666666666665, \"FScore\": 0.8000000000000002}, {\"nfrac\": 0.74, \"action\": \"Enhance\", \"Precision\": 1.0, \"Recall\": 0.9333333333333335, \"FScore\": 0.96551724137931}, {\"nfrac\": 0.78, \"action\": \"Correlation\", \"Precision\": 1.0, \"Recall\": 0.9111111111111111, \"FScore\": 0.9466666666666667}, {\"nfrac\": 0.78, \"action\": \"Enhance\", \"Precision\": 1.0, \"Recall\": 0.9822222222222223, \"FScore\": 0.9908045977011494}, {\"nfrac\": 0.81, \"action\": \"Correlation\", \"Precision\": 1.0, \"Recall\": 1.0, \"FScore\": 1.0}, {\"nfrac\": 0.81, \"action\": \"Enhance\", \"Precision\": 1.0, \"Recall\": 1.0, \"FScore\": 1.0}, {\"nfrac\": 0.85, \"action\": \"Correlation\", \"Precision\": 1.0, \"Recall\": 1.0, \"FScore\": 1.0}, {\"nfrac\": 0.85, \"action\": \"Enhance\", \"Precision\": 1.0, \"Recall\": 1.0, \"FScore\": 1.0}, {\"nfrac\": 0.89, \"action\": \"Correlation\", \"Precision\": 1.0, \"Recall\": 1.0, \"FScore\": 1.0}, {\"nfrac\": 0.89, \"action\": \"Enhance\", \"Precision\": 1.0, \"Recall\": 1.0, \"FScore\": 1.0}, {\"nfrac\": 0.94, \"action\": \"Correlation\", \"Precision\": 1.0, \"Recall\": 1.0, \"FScore\": 1.0}, {\"nfrac\": 0.94, \"action\": \"Enhance\", \"Precision\": 1.0, \"Recall\": 1.0, \"FScore\": 1.0}, {\"nfrac\": 0.98, \"action\": \"Correlation\", \"Precision\": 1.0, \"Recall\": 1.0, \"FScore\": 1.0}, {\"nfrac\": 0.98, \"action\": \"Enhance\", \"Precision\": 1.0, \"Recall\": 1.0, \"FScore\": 1.0}, {\"nfrac\": 1.0, \"action\": \"Correlation\", \"Precision\": 1.0, \"Recall\": 1.0, \"FScore\": 1.0}, {\"nfrac\": 1.0, \"action\": \"Enhance\", \"Precision\": 1.0, \"Recall\": 1.0, \"FScore\": 1.0}]}}, {\"mode\": \"vega-lite\"});\n",
       "</script>"
      ],
      "text/plain": [
       "alt.Chart(...)"
      ]
     },
     "execution_count": 78,
     "metadata": {},
     "output_type": "execute_result"
    }
   ],
   "source": [
    "df = trial_df \n",
    "df = df.groupby([\"nfrac\",\"action\"]).mean().reset_index()\n",
    "alt.Chart(df,title=\"Airbnb (20k rows)\").mark_line().encode(\n",
    "    x = alt.X(\"nfrac\",title=\"Fraction of dataset sampled\"),#scale=alt.Scale(type=\"log\")),\n",
    "    y = alt.Y(\"Recall\",scale=alt.Scale(domain=(0,1.01))),\n",
    "    color = \"action\"\n",
    ").interactive()"
   ]
  },
  {
   "cell_type": "code",
   "execution_count": 53,
   "metadata": {},
   "outputs": [],
   "source": [
    "action_lst = [\"Correlation\",\"Enhance\"]\n",
    "trial = []\n",
    "\n",
    "for action in action_lst :\n",
    "    map1 = pkl.load(open(f\"tmp_airbnb50000/airbnb_gt_{action}.pkl\",'rb'))\n",
    "    for file in glob.glob(f\"tmp_airbnb50000/airbnb_nfrac*_{action}_*.pkl\"):\n",
    "        map2 = pkl.load(open(file,'rb'))\n",
    "        nfrac = float(file.split(\"/\")[1:][0].split(\"_\")[1][5:])\n",
    "        prf = compute_prf_between_vislists(map1,map2)\n",
    "        trial.append([nfrac, action, prf[0], prf[1], prf[2]])\n",
    "    # Inserting endpoints \n",
    "    trial.append([0,action, 0,0,0])\n",
    "    trial.append([1,action, 1,1,1])\n",
    "trial_df = pd.DataFrame(\n",
    "    trial,\n",
    "    columns=[\"nfrac\", \"action\", \"Precision\",\"Recall\",\"FScore\"],\n",
    ") "
   ]
  },
  {
   "cell_type": "code",
   "execution_count": 80,
   "metadata": {},
   "outputs": [
    {
     "data": {
      "text/plain": [
       "array([0.05      , 0.05309664, 0.05638506, 0.05987714, 0.06358549,\n",
       "       0.06752352, 0.07170544, 0.07614635, 0.0808623 , 0.08587033,\n",
       "       0.09118851, 0.09683607, 0.10283339, 0.10920214, 0.11596533,\n",
       "       0.12314738, 0.13077424, 0.13887345, 0.14747426, 0.15660775,\n",
       "       0.16630689, 0.17660674, 0.18754447, 0.19915962, 0.21149412,\n",
       "       0.22459253, 0.23850216, 0.25327326, 0.26895916, 0.28561654,\n",
       "       0.30330556, 0.32209011, 0.34203803, 0.36322138, 0.38571668,\n",
       "       0.40960517, 0.43497315, 0.46191223, 0.49051972, 0.52089895,\n",
       "       0.55315965, 0.58741835, 0.62379878, 0.66243235, 0.7034586 ,\n",
       "       0.74702572, 0.79329108, 0.84242177, 0.89459526, 0.95      ])"
      ]
     },
     "execution_count": 80,
     "metadata": {},
     "output_type": "execute_result"
    }
   ],
   "source": [
    "np.geomspace(0.05,0.95)"
   ]
  },
  {
   "cell_type": "code",
   "execution_count": 82,
   "metadata": {},
   "outputs": [
    {
     "data": {
      "text/html": [
       "\n",
       "<div id=\"altair-viz-e95c96f22abb46089deff373a656cb17\"></div>\n",
       "<script type=\"text/javascript\">\n",
       "  (function(spec, embedOpt){\n",
       "    let outputDiv = document.currentScript.previousElementSibling;\n",
       "    if (outputDiv.id !== \"altair-viz-e95c96f22abb46089deff373a656cb17\") {\n",
       "      outputDiv = document.getElementById(\"altair-viz-e95c96f22abb46089deff373a656cb17\");\n",
       "    }\n",
       "    const paths = {\n",
       "      \"vega\": \"https://cdn.jsdelivr.net/npm//vega@5?noext\",\n",
       "      \"vega-lib\": \"https://cdn.jsdelivr.net/npm//vega-lib?noext\",\n",
       "      \"vega-lite\": \"https://cdn.jsdelivr.net/npm//vega-lite@4.8.1?noext\",\n",
       "      \"vega-embed\": \"https://cdn.jsdelivr.net/npm//vega-embed@6?noext\",\n",
       "    };\n",
       "\n",
       "    function loadScript(lib) {\n",
       "      return new Promise(function(resolve, reject) {\n",
       "        var s = document.createElement('script');\n",
       "        s.src = paths[lib];\n",
       "        s.async = true;\n",
       "        s.onload = () => resolve(paths[lib]);\n",
       "        s.onerror = () => reject(`Error loading script: ${paths[lib]}`);\n",
       "        document.getElementsByTagName(\"head\")[0].appendChild(s);\n",
       "      });\n",
       "    }\n",
       "\n",
       "    function showError(err) {\n",
       "      outputDiv.innerHTML = `<div class=\"error\" style=\"color:red;\">${err}</div>`;\n",
       "      throw err;\n",
       "    }\n",
       "\n",
       "    function displayChart(vegaEmbed) {\n",
       "      vegaEmbed(outputDiv, spec, embedOpt)\n",
       "        .catch(err => showError(`Javascript Error: ${err.message}<br>This usually means there's a typo in your chart specification. See the javascript console for the full traceback.`));\n",
       "    }\n",
       "\n",
       "    if(typeof define === \"function\" && define.amd) {\n",
       "      requirejs.config({paths});\n",
       "      require([\"vega-embed\"], displayChart, err => showError(`Error loading script: ${err.message}`));\n",
       "    } else if (typeof vegaEmbed === \"function\") {\n",
       "      displayChart(vegaEmbed);\n",
       "    } else {\n",
       "      loadScript(\"vega\")\n",
       "        .then(() => loadScript(\"vega-lite\"))\n",
       "        .then(() => loadScript(\"vega-embed\"))\n",
       "        .catch(showError)\n",
       "        .then(() => displayChart(vegaEmbed));\n",
       "    }\n",
       "  })({\"config\": {\"view\": {\"continuousWidth\": 400, \"continuousHeight\": 300}}, \"data\": {\"name\": \"data-c587200bba1753bd1bbb3943debe58e9\"}, \"mark\": \"line\", \"encoding\": {\"color\": {\"type\": \"nominal\", \"field\": \"action\"}, \"x\": {\"type\": \"quantitative\", \"field\": \"nfrac\", \"title\": \"Fraction of dataset sampled\"}, \"y\": {\"type\": \"quantitative\", \"field\": \"Recall\", \"scale\": {\"domain\": [0, 1.01]}}}, \"selection\": {\"selector051\": {\"type\": \"interval\", \"bind\": \"scales\", \"encodings\": [\"x\", \"y\"]}}, \"title\": \"Airbnb (50k rows)\", \"$schema\": \"https://vega.github.io/schema/vega-lite/v4.8.1.json\", \"datasets\": {\"data-c587200bba1753bd1bbb3943debe58e9\": [{\"nfrac\": 0.0, \"action\": \"Correlation\", \"Precision\": 0.0, \"Recall\": 0.0, \"FScore\": 0.0}, {\"nfrac\": 0.0, \"action\": \"Enhance\", \"Precision\": 0.0, \"Recall\": 0.0, \"FScore\": 0.0}, {\"nfrac\": 0.01, \"action\": \"Correlation\", \"Precision\": 1.0, \"Recall\": 0.5333333333333333, \"FScore\": 0.6956521739130436}, {\"nfrac\": 0.01, \"action\": \"Enhance\", \"Precision\": 1.0, \"Recall\": 0.8, \"FScore\": 0.888888888888889}, {\"nfrac\": 0.03, \"action\": \"Correlation\", \"Precision\": 1.0, \"Recall\": 0.6666666666666666, \"FScore\": 0.8}, {\"nfrac\": 0.03, \"action\": \"Enhance\", \"Precision\": 1.0, \"Recall\": 0.9333333333333333, \"FScore\": 0.9655172413793104}, {\"nfrac\": 0.05, \"action\": \"Correlation\", \"Precision\": 1.0, \"Recall\": 0.6666666666666666, \"FScore\": 0.8}, {\"nfrac\": 0.05, \"action\": \"Enhance\", \"Precision\": 1.0, \"Recall\": 0.9333333333333333, \"FScore\": 0.9655172413793104}, {\"nfrac\": 0.07, \"action\": \"Correlation\", \"Precision\": 1.0, \"Recall\": 0.6666666666666666, \"FScore\": 0.8}, {\"nfrac\": 0.07, \"action\": \"Enhance\", \"Precision\": 1.0, \"Recall\": 0.9333333333333333, \"FScore\": 0.9655172413793104}, {\"nfrac\": 0.1, \"action\": \"Correlation\", \"Precision\": 1.0, \"Recall\": 0.6666666666666665, \"FScore\": 0.8000000000000002}, {\"nfrac\": 0.1, \"action\": \"Enhance\", \"Precision\": 1.0, \"Recall\": 0.9333333333333335, \"FScore\": 0.96551724137931}, {\"nfrac\": 0.11, \"action\": \"Correlation\", \"Precision\": 1.0, \"Recall\": 0.6666666666666665, \"FScore\": 0.8000000000000002}, {\"nfrac\": 0.11, \"action\": \"Enhance\", \"Precision\": 1.0, \"Recall\": 0.9333333333333335, \"FScore\": 0.96551724137931}, {\"nfrac\": 0.12, \"action\": \"Correlation\", \"Precision\": 1.0, \"Recall\": 0.6666666666666665, \"FScore\": 0.8000000000000002}, {\"nfrac\": 0.12, \"action\": \"Enhance\", \"Precision\": 1.0, \"Recall\": 0.9333333333333335, \"FScore\": 0.96551724137931}, {\"nfrac\": 0.13, \"action\": \"Correlation\", \"Precision\": 1.0, \"Recall\": 0.6666666666666665, \"FScore\": 0.8000000000000002}, {\"nfrac\": 0.13, \"action\": \"Enhance\", \"Precision\": 1.0, \"Recall\": 0.9333333333333335, \"FScore\": 0.96551724137931}, {\"nfrac\": 0.14, \"action\": \"Correlation\", \"Precision\": 1.0, \"Recall\": 0.6666666666666665, \"FScore\": 0.8000000000000002}, {\"nfrac\": 0.14, \"action\": \"Enhance\", \"Precision\": 1.0, \"Recall\": 0.9333333333333335, \"FScore\": 0.96551724137931}, {\"nfrac\": 0.15, \"action\": \"Correlation\", \"Precision\": 1.0, \"Recall\": 0.6666666666666665, \"FScore\": 0.8000000000000002}, {\"nfrac\": 0.15, \"action\": \"Enhance\", \"Precision\": 1.0, \"Recall\": 0.9333333333333335, \"FScore\": 0.96551724137931}, {\"nfrac\": 0.16, \"action\": \"Correlation\", \"Precision\": 1.0, \"Recall\": 0.6666666666666665, \"FScore\": 0.8000000000000002}, {\"nfrac\": 0.16, \"action\": \"Enhance\", \"Precision\": 1.0, \"Recall\": 0.9333333333333335, \"FScore\": 0.96551724137931}, {\"nfrac\": 0.17, \"action\": \"Correlation\", \"Precision\": 1.0, \"Recall\": 0.6666666666666665, \"FScore\": 0.8000000000000002}, {\"nfrac\": 0.17, \"action\": \"Enhance\", \"Precision\": 1.0, \"Recall\": 0.9333333333333335, \"FScore\": 0.96551724137931}, {\"nfrac\": 0.18, \"action\": \"Correlation\", \"Precision\": 1.0, \"Recall\": 0.6666666666666665, \"FScore\": 0.8000000000000002}, {\"nfrac\": 0.18, \"action\": \"Enhance\", \"Precision\": 1.0, \"Recall\": 0.9333333333333335, \"FScore\": 0.96551724137931}, {\"nfrac\": 0.19, \"action\": \"Correlation\", \"Precision\": 1.0, \"Recall\": 0.6666666666666665, \"FScore\": 0.8000000000000002}, {\"nfrac\": 0.19, \"action\": \"Enhance\", \"Precision\": 1.0, \"Recall\": 0.9333333333333335, \"FScore\": 0.96551724137931}, {\"nfrac\": 0.2, \"action\": \"Correlation\", \"Precision\": 1.0, \"Recall\": 0.6666666666666665, \"FScore\": 0.8000000000000002}, {\"nfrac\": 0.2, \"action\": \"Enhance\", \"Precision\": 1.0, \"Recall\": 0.9333333333333335, \"FScore\": 0.96551724137931}, {\"nfrac\": 0.21, \"action\": \"Correlation\", \"Precision\": 1.0, \"Recall\": 0.6666666666666665, \"FScore\": 0.8000000000000002}, {\"nfrac\": 0.21, \"action\": \"Enhance\", \"Precision\": 1.0, \"Recall\": 0.9333333333333335, \"FScore\": 0.96551724137931}, {\"nfrac\": 0.22, \"action\": \"Correlation\", \"Precision\": 1.0, \"Recall\": 0.6666666666666665, \"FScore\": 0.8000000000000002}, {\"nfrac\": 0.22, \"action\": \"Enhance\", \"Precision\": 1.0, \"Recall\": 0.9333333333333335, \"FScore\": 0.96551724137931}, {\"nfrac\": 0.23, \"action\": \"Correlation\", \"Precision\": 1.0, \"Recall\": 0.6666666666666665, \"FScore\": 0.8000000000000002}, {\"nfrac\": 0.23, \"action\": \"Enhance\", \"Precision\": 1.0, \"Recall\": 0.9333333333333335, \"FScore\": 0.96551724137931}, {\"nfrac\": 0.24, \"action\": \"Correlation\", \"Precision\": 1.0, \"Recall\": 0.6666666666666665, \"FScore\": 0.8000000000000002}, {\"nfrac\": 0.24, \"action\": \"Enhance\", \"Precision\": 1.0, \"Recall\": 0.9333333333333335, \"FScore\": 0.96551724137931}, {\"nfrac\": 0.25, \"action\": \"Correlation\", \"Precision\": 1.0, \"Recall\": 0.6666666666666665, \"FScore\": 0.8000000000000002}, {\"nfrac\": 0.25, \"action\": \"Enhance\", \"Precision\": 1.0, \"Recall\": 0.9333333333333335, \"FScore\": 0.96551724137931}, {\"nfrac\": 0.27, \"action\": \"Correlation\", \"Precision\": 1.0, \"Recall\": 0.6666666666666665, \"FScore\": 0.8000000000000002}, {\"nfrac\": 0.27, \"action\": \"Enhance\", \"Precision\": 1.0, \"Recall\": 0.9333333333333335, \"FScore\": 0.96551724137931}, {\"nfrac\": 0.28, \"action\": \"Correlation\", \"Precision\": 1.0, \"Recall\": 0.6666666666666665, \"FScore\": 0.8000000000000002}, {\"nfrac\": 0.28, \"action\": \"Enhance\", \"Precision\": 1.0, \"Recall\": 0.9333333333333335, \"FScore\": 0.96551724137931}, {\"nfrac\": 0.29, \"action\": \"Correlation\", \"Precision\": 1.0, \"Recall\": 0.6666666666666665, \"FScore\": 0.8000000000000002}, {\"nfrac\": 0.29, \"action\": \"Enhance\", \"Precision\": 1.0, \"Recall\": 0.9333333333333335, \"FScore\": 0.96551724137931}, {\"nfrac\": 0.31, \"action\": \"Correlation\", \"Precision\": 1.0, \"Recall\": 0.6666666666666665, \"FScore\": 0.8000000000000002}, {\"nfrac\": 0.31, \"action\": \"Enhance\", \"Precision\": 1.0, \"Recall\": 0.9333333333333335, \"FScore\": 0.96551724137931}, {\"nfrac\": 0.32, \"action\": \"Correlation\", \"Precision\": 1.0, \"Recall\": 0.6666666666666665, \"FScore\": 0.8000000000000002}, {\"nfrac\": 0.32, \"action\": \"Enhance\", \"Precision\": 1.0, \"Recall\": 0.9333333333333335, \"FScore\": 0.96551724137931}, {\"nfrac\": 0.34, \"action\": \"Correlation\", \"Precision\": 1.0, \"Recall\": 0.6666666666666665, \"FScore\": 0.8000000000000002}, {\"nfrac\": 0.34, \"action\": \"Enhance\", \"Precision\": 1.0, \"Recall\": 0.9333333333333335, \"FScore\": 0.96551724137931}, {\"nfrac\": 0.35, \"action\": \"Correlation\", \"Precision\": 1.0, \"Recall\": 0.6666666666666665, \"FScore\": 0.8000000000000002}, {\"nfrac\": 0.35, \"action\": \"Enhance\", \"Precision\": 1.0, \"Recall\": 0.9333333333333335, \"FScore\": 0.96551724137931}, {\"nfrac\": 0.37, \"action\": \"Correlation\", \"Precision\": 1.0, \"Recall\": 0.6666666666666665, \"FScore\": 0.8000000000000002}, {\"nfrac\": 0.37, \"action\": \"Enhance\", \"Precision\": 1.0, \"Recall\": 0.9333333333333335, \"FScore\": 0.96551724137931}, {\"nfrac\": 0.39, \"action\": \"Correlation\", \"Precision\": 1.0, \"Recall\": 0.6666666666666665, \"FScore\": 0.8000000000000002}, {\"nfrac\": 0.39, \"action\": \"Enhance\", \"Precision\": 1.0, \"Recall\": 0.9333333333333335, \"FScore\": 0.96551724137931}, {\"nfrac\": 0.4, \"action\": \"Correlation\", \"Precision\": 1.0, \"Recall\": 0.6666666666666665, \"FScore\": 0.8000000000000002}, {\"nfrac\": 0.4, \"action\": \"Enhance\", \"Precision\": 1.0, \"Recall\": 0.9333333333333335, \"FScore\": 0.96551724137931}, {\"nfrac\": 0.42, \"action\": \"Correlation\", \"Precision\": 1.0, \"Recall\": 0.6666666666666665, \"FScore\": 0.8000000000000002}, {\"nfrac\": 0.42, \"action\": \"Enhance\", \"Precision\": 1.0, \"Recall\": 0.9333333333333335, \"FScore\": 0.96551724137931}, {\"nfrac\": 0.44, \"action\": \"Correlation\", \"Precision\": 1.0, \"Recall\": 0.6666666666666665, \"FScore\": 0.8000000000000002}, {\"nfrac\": 0.44, \"action\": \"Enhance\", \"Precision\": 1.0, \"Recall\": 0.9333333333333335, \"FScore\": 0.96551724137931}, {\"nfrac\": 0.47, \"action\": \"Correlation\", \"Precision\": 1.0, \"Recall\": 0.6666666666666665, \"FScore\": 0.8000000000000002}, {\"nfrac\": 0.47, \"action\": \"Enhance\", \"Precision\": 1.0, \"Recall\": 0.9333333333333335, \"FScore\": 0.96551724137931}, {\"nfrac\": 0.49, \"action\": \"Correlation\", \"Precision\": 1.0, \"Recall\": 0.6666666666666665, \"FScore\": 0.8000000000000002}, {\"nfrac\": 0.49, \"action\": \"Enhance\", \"Precision\": 1.0, \"Recall\": 0.9333333333333335, \"FScore\": 0.96551724137931}, {\"nfrac\": 0.51, \"action\": \"Correlation\", \"Precision\": 1.0, \"Recall\": 0.6666666666666665, \"FScore\": 0.8000000000000002}, {\"nfrac\": 0.51, \"action\": \"Enhance\", \"Precision\": 1.0, \"Recall\": 0.9333333333333335, \"FScore\": 0.96551724137931}, {\"nfrac\": 0.53, \"action\": \"Correlation\", \"Precision\": 1.0, \"Recall\": 0.6666666666666665, \"FScore\": 0.8000000000000002}, {\"nfrac\": 0.53, \"action\": \"Enhance\", \"Precision\": 1.0, \"Recall\": 0.9333333333333335, \"FScore\": 0.96551724137931}, {\"nfrac\": 0.56, \"action\": \"Correlation\", \"Precision\": 1.0, \"Recall\": 0.6666666666666665, \"FScore\": 0.8000000000000002}, {\"nfrac\": 0.56, \"action\": \"Enhance\", \"Precision\": 1.0, \"Recall\": 0.9333333333333335, \"FScore\": 0.96551724137931}, {\"nfrac\": 0.59, \"action\": \"Correlation\", \"Precision\": 1.0, \"Recall\": 0.6666666666666665, \"FScore\": 0.8000000000000002}, {\"nfrac\": 0.59, \"action\": \"Enhance\", \"Precision\": 1.0, \"Recall\": 0.9333333333333335, \"FScore\": 0.96551724137931}, {\"nfrac\": 0.62, \"action\": \"Correlation\", \"Precision\": 1.0, \"Recall\": 0.6666666666666665, \"FScore\": 0.8000000000000002}, {\"nfrac\": 0.62, \"action\": \"Enhance\", \"Precision\": 1.0, \"Recall\": 0.9333333333333335, \"FScore\": 0.96551724137931}, {\"nfrac\": 0.64, \"action\": \"Correlation\", \"Precision\": 1.0, \"Recall\": 0.6666666666666665, \"FScore\": 0.8000000000000002}, {\"nfrac\": 0.64, \"action\": \"Enhance\", \"Precision\": 1.0, \"Recall\": 0.9333333333333335, \"FScore\": 0.96551724137931}, {\"nfrac\": 0.68, \"action\": \"Correlation\", \"Precision\": 1.0, \"Recall\": 0.6666666666666665, \"FScore\": 0.8000000000000002}, {\"nfrac\": 0.68, \"action\": \"Enhance\", \"Precision\": 1.0, \"Recall\": 0.9333333333333335, \"FScore\": 0.96551724137931}, {\"nfrac\": 0.71, \"action\": \"Correlation\", \"Precision\": 1.0, \"Recall\": 0.6666666666666665, \"FScore\": 0.8000000000000002}, {\"nfrac\": 0.71, \"action\": \"Enhance\", \"Precision\": 1.0, \"Recall\": 0.9333333333333335, \"FScore\": 0.96551724137931}, {\"nfrac\": 0.74, \"action\": \"Correlation\", \"Precision\": 1.0, \"Recall\": 0.6666666666666665, \"FScore\": 0.8000000000000002}, {\"nfrac\": 0.74, \"action\": \"Enhance\", \"Precision\": 1.0, \"Recall\": 0.9333333333333335, \"FScore\": 0.96551724137931}, {\"nfrac\": 0.78, \"action\": \"Correlation\", \"Precision\": 1.0, \"Recall\": 0.9111111111111111, \"FScore\": 0.9466666666666667}, {\"nfrac\": 0.78, \"action\": \"Enhance\", \"Precision\": 1.0, \"Recall\": 0.9822222222222223, \"FScore\": 0.9908045977011494}, {\"nfrac\": 0.81, \"action\": \"Correlation\", \"Precision\": 1.0, \"Recall\": 1.0, \"FScore\": 1.0}, {\"nfrac\": 0.81, \"action\": \"Enhance\", \"Precision\": 1.0, \"Recall\": 1.0, \"FScore\": 1.0}, {\"nfrac\": 0.85, \"action\": \"Correlation\", \"Precision\": 1.0, \"Recall\": 1.0, \"FScore\": 1.0}, {\"nfrac\": 0.85, \"action\": \"Enhance\", \"Precision\": 1.0, \"Recall\": 1.0, \"FScore\": 1.0}, {\"nfrac\": 0.89, \"action\": \"Correlation\", \"Precision\": 1.0, \"Recall\": 1.0, \"FScore\": 1.0}, {\"nfrac\": 0.89, \"action\": \"Enhance\", \"Precision\": 1.0, \"Recall\": 1.0, \"FScore\": 1.0}, {\"nfrac\": 0.94, \"action\": \"Correlation\", \"Precision\": 1.0, \"Recall\": 1.0, \"FScore\": 1.0}, {\"nfrac\": 0.94, \"action\": \"Enhance\", \"Precision\": 1.0, \"Recall\": 1.0, \"FScore\": 1.0}, {\"nfrac\": 0.98, \"action\": \"Correlation\", \"Precision\": 1.0, \"Recall\": 1.0, \"FScore\": 1.0}, {\"nfrac\": 0.98, \"action\": \"Enhance\", \"Precision\": 1.0, \"Recall\": 1.0, \"FScore\": 1.0}, {\"nfrac\": 1.0, \"action\": \"Correlation\", \"Precision\": 1.0, \"Recall\": 1.0, \"FScore\": 1.0}, {\"nfrac\": 1.0, \"action\": \"Enhance\", \"Precision\": 1.0, \"Recall\": 1.0, \"FScore\": 1.0}]}}, {\"mode\": \"vega-lite\"});\n",
       "</script>"
      ],
      "text/plain": [
       "alt.Chart(...)"
      ]
     },
     "execution_count": 82,
     "metadata": {},
     "output_type": "execute_result"
    }
   ],
   "source": [
    "df = trial_df \n",
    "df = df.groupby([\"nfrac\",\"action\"]).mean().reset_index()\n",
    "alt.Chart(df,title=\"Airbnb (50k rows)\").mark_line().encode(\n",
    "    x = alt.X(\"nfrac\",title=\"Fraction of dataset sampled\"),#scale=alt.Scale(type=\"log\")),\n",
    "    y = alt.Y(\"Recall\",scale=alt.Scale(domain=(0,1.01))),\n",
    "    color = \"action\"\n",
    ").interactive()"
   ]
  },
  {
   "cell_type": "code",
   "execution_count": 107,
   "metadata": {},
   "outputs": [],
   "source": [
    "action_lst = [\"Correlation\",\"Enhance\"]\n",
    "trial = []\n",
    "\n",
    "for action in action_lst :\n",
    "    map1 = pkl.load(open(f\"tmp_airbnb100000/airbnb_gt_{action}.pkl\",'rb'))\n",
    "    for file in glob.glob(f\"tmp_airbnb100000/airbnb_nfrac*_{action}_*.pkl\"):\n",
    "        map2 = pkl.load(open(file,'rb'))\n",
    "        nfrac = float(file.split(\"/\")[1:][0].split(\"_\")[1][5:])\n",
    "        prf = compute_prf_between_vislists(map1,map2)\n",
    "        trial.append([nfrac, action, prf[0], prf[1], prf[2]])\n",
    "    # Inserting endpoints \n",
    "    trial.append([0,action, 0,0,0])\n",
    "    trial.append([1,action, 1,1,1])\n",
    "trial_df = pd.DataFrame(\n",
    "    trial,\n",
    "    columns=[\"nfrac\", \"action\", \"Precision\",\"Recall\",\"FScore\"],\n",
    ") "
   ]
  },
  {
   "cell_type": "code",
   "execution_count": 108,
   "metadata": {},
   "outputs": [
    {
     "data": {
      "text/html": [
       "\n",
       "<div id=\"altair-viz-a90a3bb9c85f425f90c569e63b6e7c59\"></div>\n",
       "<script type=\"text/javascript\">\n",
       "  (function(spec, embedOpt){\n",
       "    let outputDiv = document.currentScript.previousElementSibling;\n",
       "    if (outputDiv.id !== \"altair-viz-a90a3bb9c85f425f90c569e63b6e7c59\") {\n",
       "      outputDiv = document.getElementById(\"altair-viz-a90a3bb9c85f425f90c569e63b6e7c59\");\n",
       "    }\n",
       "    const paths = {\n",
       "      \"vega\": \"https://cdn.jsdelivr.net/npm//vega@5?noext\",\n",
       "      \"vega-lib\": \"https://cdn.jsdelivr.net/npm//vega-lib?noext\",\n",
       "      \"vega-lite\": \"https://cdn.jsdelivr.net/npm//vega-lite@4.8.1?noext\",\n",
       "      \"vega-embed\": \"https://cdn.jsdelivr.net/npm//vega-embed@6?noext\",\n",
       "    };\n",
       "\n",
       "    function loadScript(lib) {\n",
       "      return new Promise(function(resolve, reject) {\n",
       "        var s = document.createElement('script');\n",
       "        s.src = paths[lib];\n",
       "        s.async = true;\n",
       "        s.onload = () => resolve(paths[lib]);\n",
       "        s.onerror = () => reject(`Error loading script: ${paths[lib]}`);\n",
       "        document.getElementsByTagName(\"head\")[0].appendChild(s);\n",
       "      });\n",
       "    }\n",
       "\n",
       "    function showError(err) {\n",
       "      outputDiv.innerHTML = `<div class=\"error\" style=\"color:red;\">${err}</div>`;\n",
       "      throw err;\n",
       "    }\n",
       "\n",
       "    function displayChart(vegaEmbed) {\n",
       "      vegaEmbed(outputDiv, spec, embedOpt)\n",
       "        .catch(err => showError(`Javascript Error: ${err.message}<br>This usually means there's a typo in your chart specification. See the javascript console for the full traceback.`));\n",
       "    }\n",
       "\n",
       "    if(typeof define === \"function\" && define.amd) {\n",
       "      requirejs.config({paths});\n",
       "      require([\"vega-embed\"], displayChart, err => showError(`Error loading script: ${err.message}`));\n",
       "    } else if (typeof vegaEmbed === \"function\") {\n",
       "      displayChart(vegaEmbed);\n",
       "    } else {\n",
       "      loadScript(\"vega\")\n",
       "        .then(() => loadScript(\"vega-lite\"))\n",
       "        .then(() => loadScript(\"vega-embed\"))\n",
       "        .catch(showError)\n",
       "        .then(() => displayChart(vegaEmbed));\n",
       "    }\n",
       "  })({\"config\": {\"view\": {\"continuousWidth\": 400, \"continuousHeight\": 300}}, \"data\": {\"name\": \"data-f432b5d3bebd1c25f981a3ca50f2c813\"}, \"mark\": \"line\", \"encoding\": {\"color\": {\"type\": \"nominal\", \"field\": \"action\"}, \"x\": {\"type\": \"quantitative\", \"field\": \"nfrac\", \"title\": \"Fraction of dataset sampled\"}, \"y\": {\"type\": \"quantitative\", \"field\": \"Recall\", \"scale\": {\"domain\": [0, 1.01]}}}, \"selection\": {\"selector066\": {\"type\": \"interval\", \"bind\": \"scales\", \"encodings\": [\"x\", \"y\"]}}, \"title\": \"Airbnb (100k rows)\", \"$schema\": \"https://vega.github.io/schema/vega-lite/v4.8.1.json\", \"datasets\": {\"data-f432b5d3bebd1c25f981a3ca50f2c813\": [{\"nfrac\": 0.0, \"action\": \"Correlation\", \"Precision\": 0.0, \"Recall\": 0.0, \"FScore\": 0.0}, {\"nfrac\": 0.0, \"action\": \"Enhance\", \"Precision\": 0.0, \"Recall\": 0.0, \"FScore\": 0.0}, {\"nfrac\": 0.01, \"action\": \"Correlation\", \"Precision\": 1.0, \"Recall\": 0.5333333333333333, \"FScore\": 0.6956521739130436}, {\"nfrac\": 0.01, \"action\": \"Enhance\", \"Precision\": 1.0, \"Recall\": 0.8666666666666667, \"FScore\": 0.9285714285714286}, {\"nfrac\": 0.05, \"action\": \"Correlation\", \"Precision\": 1.0, \"Recall\": 0.5333333333333333, \"FScore\": 0.6956521739130435}, {\"nfrac\": 0.05, \"action\": \"Enhance\", \"Precision\": 1.0, \"Recall\": 0.8666666666666669, \"FScore\": 0.9285714285714285}, {\"nfrac\": 0.07, \"action\": \"Correlation\", \"Precision\": 1.0, \"Recall\": 0.5333333333333333, \"FScore\": 0.6956521739130435}, {\"nfrac\": 0.07, \"action\": \"Enhance\", \"Precision\": 1.0, \"Recall\": 0.8666666666666669, \"FScore\": 0.9285714285714285}, {\"nfrac\": 0.09, \"action\": \"Correlation\", \"Precision\": 1.0, \"Recall\": 0.5333333333333333, \"FScore\": 0.6956521739130435}, {\"nfrac\": 0.09, \"action\": \"Enhance\", \"Precision\": 1.0, \"Recall\": 0.8666666666666669, \"FScore\": 0.9285714285714285}, {\"nfrac\": 0.11, \"action\": \"Correlation\", \"Precision\": 1.0, \"Recall\": 0.5333333333333333, \"FScore\": 0.6956521739130435}, {\"nfrac\": 0.11, \"action\": \"Enhance\", \"Precision\": 1.0, \"Recall\": 0.8666666666666669, \"FScore\": 0.9285714285714285}, {\"nfrac\": 0.13, \"action\": \"Correlation\", \"Precision\": 1.0, \"Recall\": 0.5333333333333333, \"FScore\": 0.6956521739130435}, {\"nfrac\": 0.13, \"action\": \"Enhance\", \"Precision\": 1.0, \"Recall\": 0.8666666666666669, \"FScore\": 0.9285714285714285}, {\"nfrac\": 0.14, \"action\": \"Correlation\", \"Precision\": 1.0, \"Recall\": 0.5333333333333333, \"FScore\": 0.6956521739130435}, {\"nfrac\": 0.14, \"action\": \"Enhance\", \"Precision\": 1.0, \"Recall\": 0.8666666666666669, \"FScore\": 0.9285714285714285}, {\"nfrac\": 0.16, \"action\": \"Correlation\", \"Precision\": 1.0, \"Recall\": 0.8000000000000002, \"FScore\": 0.8888888888888891}, {\"nfrac\": 0.16, \"action\": \"Enhance\", \"Precision\": 1.0, \"Recall\": 0.9333333333333333, \"FScore\": 0.9655172413793099}, {\"nfrac\": 0.18, \"action\": \"Correlation\", \"Precision\": 1.0, \"Recall\": 0.8000000000000002, \"FScore\": 0.8888888888888891}, {\"nfrac\": 0.18, \"action\": \"Enhance\", \"Precision\": 1.0, \"Recall\": 0.9333333333333333, \"FScore\": 0.9655172413793099}, {\"nfrac\": 0.2, \"action\": \"Correlation\", \"Precision\": 1.0, \"Recall\": 0.8000000000000002, \"FScore\": 0.8888888888888891}, {\"nfrac\": 0.2, \"action\": \"Enhance\", \"Precision\": 1.0, \"Recall\": 0.9333333333333333, \"FScore\": 0.9655172413793099}, {\"nfrac\": 0.22, \"action\": \"Correlation\", \"Precision\": 1.0, \"Recall\": 0.8000000000000002, \"FScore\": 0.8888888888888891}, {\"nfrac\": 0.22, \"action\": \"Enhance\", \"Precision\": 1.0, \"Recall\": 0.9333333333333333, \"FScore\": 0.9655172413793099}, {\"nfrac\": 0.24, \"action\": \"Correlation\", \"Precision\": 1.0, \"Recall\": 0.8000000000000002, \"FScore\": 0.8888888888888891}, {\"nfrac\": 0.24, \"action\": \"Enhance\", \"Precision\": 1.0, \"Recall\": 0.9333333333333333, \"FScore\": 0.9655172413793099}, {\"nfrac\": 0.26, \"action\": \"Correlation\", \"Precision\": 1.0, \"Recall\": 0.8000000000000002, \"FScore\": 0.8888888888888891}, {\"nfrac\": 0.26, \"action\": \"Enhance\", \"Precision\": 1.0, \"Recall\": 0.9333333333333333, \"FScore\": 0.9655172413793099}, {\"nfrac\": 0.28, \"action\": \"Correlation\", \"Precision\": 1.0, \"Recall\": 0.8000000000000002, \"FScore\": 0.8888888888888891}, {\"nfrac\": 0.28, \"action\": \"Enhance\", \"Precision\": 1.0, \"Recall\": 0.9333333333333333, \"FScore\": 0.9655172413793099}, {\"nfrac\": 0.3, \"action\": \"Correlation\", \"Precision\": 1.0, \"Recall\": 0.8533333333333335, \"FScore\": 0.9191570881226054}, {\"nfrac\": 0.3, \"action\": \"Enhance\", \"Precision\": 1.0, \"Recall\": 0.9566666666666668, \"FScore\": 0.9775862068965514}, {\"nfrac\": 0.32, \"action\": \"Correlation\", \"Precision\": 1.0, \"Recall\": 0.95, \"FScore\": 0.974014778325123}, {\"nfrac\": 0.32, \"action\": \"Enhance\", \"Precision\": 1.0, \"Recall\": 1.0, \"FScore\": 1.0}, {\"nfrac\": 0.33, \"action\": \"Correlation\", \"Precision\": 1.0, \"Recall\": 0.9566666666666668, \"FScore\": 0.9775862068965514}, {\"nfrac\": 0.33, \"action\": \"Enhance\", \"Precision\": 1.0, \"Recall\": 1.0, \"FScore\": 1.0}, {\"nfrac\": 0.35, \"action\": \"Correlation\", \"Precision\": 1.0, \"Recall\": 0.9433333333333334, \"FScore\": 0.9706896551724136}, {\"nfrac\": 0.35, \"action\": \"Enhance\", \"Precision\": 1.0, \"Recall\": 1.0, \"FScore\": 1.0}, {\"nfrac\": 0.37, \"action\": \"Correlation\", \"Precision\": 1.0, \"Recall\": 0.9566666666666668, \"FScore\": 0.9775862068965516}, {\"nfrac\": 0.37, \"action\": \"Enhance\", \"Precision\": 1.0, \"Recall\": 1.0, \"FScore\": 1.0}, {\"nfrac\": 0.39, \"action\": \"Correlation\", \"Precision\": 1.0, \"Recall\": 0.9533333333333335, \"FScore\": 0.9758620689655171}, {\"nfrac\": 0.39, \"action\": \"Enhance\", \"Precision\": 1.0, \"Recall\": 1.0, \"FScore\": 1.0}, {\"nfrac\": 0.41, \"action\": \"Correlation\", \"Precision\": 1.0, \"Recall\": 0.9500000000000002, \"FScore\": 0.974014778325123}, {\"nfrac\": 0.41, \"action\": \"Enhance\", \"Precision\": 1.0, \"Recall\": 1.0, \"FScore\": 1.0}, {\"nfrac\": 0.43, \"action\": \"Correlation\", \"Precision\": 1.0, \"Recall\": 0.95, \"FScore\": 0.974014778325123}, {\"nfrac\": 0.43, \"action\": \"Enhance\", \"Precision\": 1.0, \"Recall\": 1.0, \"FScore\": 1.0}, {\"nfrac\": 0.45, \"action\": \"Correlation\", \"Precision\": 1.0, \"Recall\": 0.9566666666666668, \"FScore\": 0.9775862068965516}, {\"nfrac\": 0.45, \"action\": \"Enhance\", \"Precision\": 1.0, \"Recall\": 1.0, \"FScore\": 1.0}, {\"nfrac\": 0.47, \"action\": \"Correlation\", \"Precision\": 1.0, \"Recall\": 0.9533333333333335, \"FScore\": 0.9758620689655171}, {\"nfrac\": 0.47, \"action\": \"Enhance\", \"Precision\": 1.0, \"Recall\": 1.0, \"FScore\": 1.0}, {\"nfrac\": 0.49, \"action\": \"Correlation\", \"Precision\": 1.0, \"Recall\": 0.9533333333333335, \"FScore\": 0.9758620689655171}, {\"nfrac\": 0.49, \"action\": \"Enhance\", \"Precision\": 1.0, \"Recall\": 1.0, \"FScore\": 1.0}, {\"nfrac\": 0.51, \"action\": \"Correlation\", \"Precision\": 1.0, \"Recall\": 0.96, \"FScore\": 0.9793103448275859}, {\"nfrac\": 0.51, \"action\": \"Enhance\", \"Precision\": 1.0, \"Recall\": 1.0, \"FScore\": 1.0}, {\"nfrac\": 0.52, \"action\": \"Correlation\", \"Precision\": 1.0, \"Recall\": 0.9633333333333335, \"FScore\": 0.9810344827586205}, {\"nfrac\": 0.52, \"action\": \"Enhance\", \"Precision\": 1.0, \"Recall\": 1.0, \"FScore\": 1.0}, {\"nfrac\": 0.54, \"action\": \"Correlation\", \"Precision\": 1.0, \"Recall\": 0.9666666666666668, \"FScore\": 0.982758620689655}, {\"nfrac\": 0.54, \"action\": \"Enhance\", \"Precision\": 1.0, \"Recall\": 1.0, \"FScore\": 1.0}, {\"nfrac\": 0.56, \"action\": \"Correlation\", \"Precision\": 1.0, \"Recall\": 0.9566666666666668, \"FScore\": 0.9775862068965514}, {\"nfrac\": 0.56, \"action\": \"Enhance\", \"Precision\": 1.0, \"Recall\": 1.0, \"FScore\": 1.0}, {\"nfrac\": 0.58, \"action\": \"Correlation\", \"Precision\": 1.0, \"Recall\": 0.9533333333333334, \"FScore\": 0.9758620689655169}, {\"nfrac\": 0.58, \"action\": \"Enhance\", \"Precision\": 1.0, \"Recall\": 1.0, \"FScore\": 1.0}, {\"nfrac\": 0.6, \"action\": \"Correlation\", \"Precision\": 1.0, \"Recall\": 0.9600000000000002, \"FScore\": 0.9793103448275859}, {\"nfrac\": 0.6, \"action\": \"Enhance\", \"Precision\": 1.0, \"Recall\": 1.0, \"FScore\": 1.0}, {\"nfrac\": 0.62, \"action\": \"Correlation\", \"Precision\": 1.0, \"Recall\": 0.9666666666666668, \"FScore\": 0.9827586206896551}, {\"nfrac\": 0.62, \"action\": \"Enhance\", \"Precision\": 1.0, \"Recall\": 1.0, \"FScore\": 1.0}, {\"nfrac\": 0.64, \"action\": \"Correlation\", \"Precision\": 1.0, \"Recall\": 0.9566666666666667, \"FScore\": 0.9775862068965516}, {\"nfrac\": 0.64, \"action\": \"Enhance\", \"Precision\": 1.0, \"Recall\": 1.0, \"FScore\": 1.0}, {\"nfrac\": 0.66, \"action\": \"Correlation\", \"Precision\": 1.0, \"Recall\": 0.9600000000000002, \"FScore\": 0.9793103448275859}, {\"nfrac\": 0.66, \"action\": \"Enhance\", \"Precision\": 1.0, \"Recall\": 1.0, \"FScore\": 1.0}, {\"nfrac\": 0.68, \"action\": \"Correlation\", \"Precision\": 1.0, \"Recall\": 0.9566666666666668, \"FScore\": 0.9775862068965514}, {\"nfrac\": 0.68, \"action\": \"Enhance\", \"Precision\": 1.0, \"Recall\": 1.0, \"FScore\": 1.0}, {\"nfrac\": 0.7, \"action\": \"Correlation\", \"Precision\": 1.0, \"Recall\": 0.9566666666666668, \"FScore\": 0.9775862068965516}, {\"nfrac\": 0.7, \"action\": \"Enhance\", \"Precision\": 1.0, \"Recall\": 1.0, \"FScore\": 1.0}, {\"nfrac\": 0.71, \"action\": \"Correlation\", \"Precision\": 1.0, \"Recall\": 0.96, \"FScore\": 0.9793103448275862}, {\"nfrac\": 0.71, \"action\": \"Enhance\", \"Precision\": 1.0, \"Recall\": 1.0, \"FScore\": 1.0}, {\"nfrac\": 0.73, \"action\": \"Correlation\", \"Precision\": 1.0, \"Recall\": 0.9566666666666668, \"FScore\": 0.9775862068965514}, {\"nfrac\": 0.73, \"action\": \"Enhance\", \"Precision\": 1.0, \"Recall\": 1.0, \"FScore\": 1.0}, {\"nfrac\": 0.75, \"action\": \"Correlation\", \"Precision\": 1.0, \"Recall\": 0.9600000000000002, \"FScore\": 0.9793103448275859}, {\"nfrac\": 0.75, \"action\": \"Enhance\", \"Precision\": 1.0, \"Recall\": 1.0, \"FScore\": 1.0}, {\"nfrac\": 0.77, \"action\": \"Correlation\", \"Precision\": 1.0, \"Recall\": 0.9666666666666668, \"FScore\": 0.9827586206896551}, {\"nfrac\": 0.77, \"action\": \"Enhance\", \"Precision\": 1.0, \"Recall\": 1.0, \"FScore\": 1.0}, {\"nfrac\": 0.79, \"action\": \"Correlation\", \"Precision\": 1.0, \"Recall\": 0.9666666666666666, \"FScore\": 0.982758620689655}, {\"nfrac\": 0.79, \"action\": \"Enhance\", \"Precision\": 1.0, \"Recall\": 1.0, \"FScore\": 1.0}, {\"nfrac\": 0.81, \"action\": \"Correlation\", \"Precision\": 1.0, \"Recall\": 0.9633333333333335, \"FScore\": 0.9810344827586205}, {\"nfrac\": 0.81, \"action\": \"Enhance\", \"Precision\": 1.0, \"Recall\": 1.0, \"FScore\": 1.0}, {\"nfrac\": 0.83, \"action\": \"Correlation\", \"Precision\": 1.0, \"Recall\": 0.9666666666666668, \"FScore\": 0.982758620689655}, {\"nfrac\": 0.83, \"action\": \"Enhance\", \"Precision\": 1.0, \"Recall\": 1.0, \"FScore\": 1.0}, {\"nfrac\": 0.85, \"action\": \"Correlation\", \"Precision\": 1.0, \"Recall\": 0.9733333333333334, \"FScore\": 0.986206896551724}, {\"nfrac\": 0.85, \"action\": \"Enhance\", \"Precision\": 1.0, \"Recall\": 1.0, \"FScore\": 1.0}, {\"nfrac\": 0.87, \"action\": \"Correlation\", \"Precision\": 1.0, \"Recall\": 0.9833333333333334, \"FScore\": 0.9913793103448276}, {\"nfrac\": 0.87, \"action\": \"Enhance\", \"Precision\": 1.0, \"Recall\": 1.0, \"FScore\": 1.0}, {\"nfrac\": 0.89, \"action\": \"Correlation\", \"Precision\": 1.0, \"Recall\": 0.9866666666666667, \"FScore\": 0.9931034482758619}, {\"nfrac\": 0.89, \"action\": \"Enhance\", \"Precision\": 1.0, \"Recall\": 1.0, \"FScore\": 1.0}, {\"nfrac\": 0.9, \"action\": \"Correlation\", \"Precision\": 1.0, \"Recall\": 0.99, \"FScore\": 0.9948275862068965}, {\"nfrac\": 0.9, \"action\": \"Enhance\", \"Precision\": 1.0, \"Recall\": 1.0, \"FScore\": 1.0}, {\"nfrac\": 0.92, \"action\": \"Correlation\", \"Precision\": 1.0, \"Recall\": 0.9866666666666667, \"FScore\": 0.9931034482758619}, {\"nfrac\": 0.92, \"action\": \"Enhance\", \"Precision\": 1.0, \"Recall\": 1.0, \"FScore\": 1.0}, {\"nfrac\": 0.94, \"action\": \"Correlation\", \"Precision\": 1.0, \"Recall\": 0.9933333333333334, \"FScore\": 0.9965517241379309}, {\"nfrac\": 0.94, \"action\": \"Enhance\", \"Precision\": 1.0, \"Recall\": 1.0, \"FScore\": 1.0}, {\"nfrac\": 0.96, \"action\": \"Correlation\", \"Precision\": 1.0, \"Recall\": 0.9966666666666667, \"FScore\": 0.9982758620689655}, {\"nfrac\": 0.96, \"action\": \"Enhance\", \"Precision\": 1.0, \"Recall\": 1.0, \"FScore\": 1.0}, {\"nfrac\": 0.98, \"action\": \"Correlation\", \"Precision\": 1.0, \"Recall\": 1.0, \"FScore\": 1.0}, {\"nfrac\": 0.98, \"action\": \"Enhance\", \"Precision\": 1.0, \"Recall\": 1.0, \"FScore\": 1.0}, {\"nfrac\": 1.0, \"action\": \"Correlation\", \"Precision\": 1.0, \"Recall\": 1.0, \"FScore\": 1.0}, {\"nfrac\": 1.0, \"action\": \"Enhance\", \"Precision\": 1.0, \"Recall\": 1.0, \"FScore\": 1.0}]}}, {\"mode\": \"vega-lite\"});\n",
       "</script>"
      ],
      "text/plain": [
       "alt.Chart(...)"
      ]
     },
     "execution_count": 108,
     "metadata": {},
     "output_type": "execute_result"
    }
   ],
   "source": [
    "df = trial_df \n",
    "df = df.groupby([\"nfrac\",\"action\"]).mean().reset_index()\n",
    "alt.Chart(df,title=\"Airbnb (100k rows)\").mark_line().encode(\n",
    "    x = alt.X(\"nfrac\",title=\"Fraction of dataset sampled\"),#scale=alt.Scale(type=\"log\")),\n",
    "    y = alt.Y(\"Recall\",scale=alt.Scale(domain=(0,1.01))),\n",
    "    color = \"action\"\n",
    ").interactive()"
   ]
  },
  {
   "cell_type": "code",
   "execution_count": 14,
   "metadata": {},
   "outputs": [],
   "source": [
    "action_lst = [\"Correlation\",\"Enhance\"]\n",
    "trial = []\n",
    "\n",
    "for action in action_lst :\n",
    "    map1 = pkl.load(open(f\"tmp_airbnb1000000/airbnb_gt_{action}.pkl\",'rb'))\n",
    "    for file in glob.glob(f\"tmp_airbnb1000000/airbnb_nfrac*_{action}_*.pkl\"):\n",
    "        map2 = pkl.load(open(file,'rb'))\n",
    "        nfrac = float(file.split(\"/\")[1:][0].split(\"_\")[1][5:])\n",
    "        prf = compute_prf_between_vislists(map1,map2)\n",
    "        trial.append([nfrac, action, prf[0], prf[1], prf[2]])\n",
    "    # Inserting endpoints \n",
    "    trial.append([0,action, 0,0,0])\n",
    "    trial.append([1,action, 1,1,1])\n",
    "trial_df = pd.DataFrame(\n",
    "    trial,\n",
    "    columns=[\"nfrac\", \"action\", \"Precision\",\"Recall\",\"FScore\"],\n",
    ") "
   ]
  },
  {
   "cell_type": "code",
   "execution_count": 15,
   "metadata": {
    "scrolled": false
   },
   "outputs": [
    {
     "data": {
      "text/html": [
       "\n",
       "<div id=\"altair-viz-117da17a85914849904aab50d1b8dcce\"></div>\n",
       "<script type=\"text/javascript\">\n",
       "  (function(spec, embedOpt){\n",
       "    let outputDiv = document.currentScript.previousElementSibling;\n",
       "    if (outputDiv.id !== \"altair-viz-117da17a85914849904aab50d1b8dcce\") {\n",
       "      outputDiv = document.getElementById(\"altair-viz-117da17a85914849904aab50d1b8dcce\");\n",
       "    }\n",
       "    const paths = {\n",
       "      \"vega\": \"https://cdn.jsdelivr.net/npm//vega@5?noext\",\n",
       "      \"vega-lib\": \"https://cdn.jsdelivr.net/npm//vega-lib?noext\",\n",
       "      \"vega-lite\": \"https://cdn.jsdelivr.net/npm//vega-lite@4.8.1?noext\",\n",
       "      \"vega-embed\": \"https://cdn.jsdelivr.net/npm//vega-embed@6?noext\",\n",
       "    };\n",
       "\n",
       "    function loadScript(lib) {\n",
       "      return new Promise(function(resolve, reject) {\n",
       "        var s = document.createElement('script');\n",
       "        s.src = paths[lib];\n",
       "        s.async = true;\n",
       "        s.onload = () => resolve(paths[lib]);\n",
       "        s.onerror = () => reject(`Error loading script: ${paths[lib]}`);\n",
       "        document.getElementsByTagName(\"head\")[0].appendChild(s);\n",
       "      });\n",
       "    }\n",
       "\n",
       "    function showError(err) {\n",
       "      outputDiv.innerHTML = `<div class=\"error\" style=\"color:red;\">${err}</div>`;\n",
       "      throw err;\n",
       "    }\n",
       "\n",
       "    function displayChart(vegaEmbed) {\n",
       "      vegaEmbed(outputDiv, spec, embedOpt)\n",
       "        .catch(err => showError(`Javascript Error: ${err.message}<br>This usually means there's a typo in your chart specification. See the javascript console for the full traceback.`));\n",
       "    }\n",
       "\n",
       "    if(typeof define === \"function\" && define.amd) {\n",
       "      requirejs.config({paths});\n",
       "      require([\"vega-embed\"], displayChart, err => showError(`Error loading script: ${err.message}`));\n",
       "    } else if (typeof vegaEmbed === \"function\") {\n",
       "      displayChart(vegaEmbed);\n",
       "    } else {\n",
       "      loadScript(\"vega\")\n",
       "        .then(() => loadScript(\"vega-lite\"))\n",
       "        .then(() => loadScript(\"vega-embed\"))\n",
       "        .catch(showError)\n",
       "        .then(() => displayChart(vegaEmbed));\n",
       "    }\n",
       "  })({\"config\": {\"view\": {\"continuousWidth\": 400, \"continuousHeight\": 300}}, \"data\": {\"name\": \"data-579f6e9f00dd447cd7abf12ecafe78c7\"}, \"mark\": \"line\", \"encoding\": {\"color\": {\"type\": \"nominal\", \"field\": \"action\"}, \"x\": {\"type\": \"quantitative\", \"field\": \"nfrac\", \"title\": \"Fraction of dataset sampled\"}, \"y\": {\"type\": \"quantitative\", \"field\": \"Recall\", \"scale\": {\"domain\": [0, 1.01]}}}, \"selection\": {\"selector003\": {\"type\": \"interval\", \"bind\": \"scales\", \"encodings\": [\"x\", \"y\"]}}, \"title\": \"Airbnb (1M rows)\", \"$schema\": \"https://vega.github.io/schema/vega-lite/v4.8.1.json\", \"datasets\": {\"data-579f6e9f00dd447cd7abf12ecafe78c7\": [{\"nfrac\": 0.0, \"action\": \"Correlation\", \"Precision\": 0.0, \"Recall\": 0.0, \"FScore\": 0.0}, {\"nfrac\": 0.0, \"action\": \"Enhance\", \"Precision\": 0.0, \"Recall\": 0.0, \"FScore\": 0.0}, {\"nfrac\": 0.01, \"action\": \"Correlation\", \"Precision\": 1.0, \"Recall\": 0.4666666666666666, \"FScore\": 0.6363636363636364}, {\"nfrac\": 0.01, \"action\": \"Enhance\", \"Precision\": 1.0, \"Recall\": 0.8666666666666667, \"FScore\": 0.9285714285714285}, {\"nfrac\": 0.06, \"action\": \"Correlation\", \"Precision\": 1.0, \"Recall\": 0.9777777777777779, \"FScore\": 0.9885057471264368}, {\"nfrac\": 0.06, \"action\": \"Enhance\", \"Precision\": 1.0, \"Recall\": 1.0, \"FScore\": 1.0}, {\"nfrac\": 0.11, \"action\": \"Correlation\", \"Precision\": 1.0, \"Recall\": 1.0, \"FScore\": 1.0}, {\"nfrac\": 0.11, \"action\": \"Enhance\", \"Precision\": 1.0, \"Recall\": 1.0, \"FScore\": 1.0}, {\"nfrac\": 0.16, \"action\": \"Correlation\", \"Precision\": 1.0, \"Recall\": 0.9777777777777779, \"FScore\": 0.9885057471264368}, {\"nfrac\": 0.16, \"action\": \"Enhance\", \"Precision\": 1.0, \"Recall\": 1.0, \"FScore\": 1.0}, {\"nfrac\": 0.21, \"action\": \"Correlation\", \"Precision\": 1.0, \"Recall\": 0.9333333333333332, \"FScore\": 0.9655172413793104}, {\"nfrac\": 0.21, \"action\": \"Enhance\", \"Precision\": 1.0, \"Recall\": 1.0, \"FScore\": 1.0}, {\"nfrac\": 0.26, \"action\": \"Correlation\", \"Precision\": 1.0, \"Recall\": 0.9555555555555556, \"FScore\": 0.9770114942528737}, {\"nfrac\": 0.26, \"action\": \"Enhance\", \"Precision\": 1.0, \"Recall\": 1.0, \"FScore\": 1.0}, {\"nfrac\": 0.31, \"action\": \"Correlation\", \"Precision\": 1.0, \"Recall\": 0.9777777777777779, \"FScore\": 0.9885057471264368}, {\"nfrac\": 0.31, \"action\": \"Enhance\", \"Precision\": 1.0, \"Recall\": 1.0, \"FScore\": 1.0}, {\"nfrac\": 0.36, \"action\": \"Correlation\", \"Precision\": 1.0, \"Recall\": 1.0, \"FScore\": 1.0}, {\"nfrac\": 0.36, \"action\": \"Enhance\", \"Precision\": 1.0, \"Recall\": 1.0, \"FScore\": 1.0}, {\"nfrac\": 0.41, \"action\": \"Correlation\", \"Precision\": 1.0, \"Recall\": 1.0, \"FScore\": 1.0}, {\"nfrac\": 0.41, \"action\": \"Enhance\", \"Precision\": 1.0, \"Recall\": 1.0, \"FScore\": 1.0}, {\"nfrac\": 0.46, \"action\": \"Correlation\", \"Precision\": 1.0, \"Recall\": 1.0, \"FScore\": 1.0}, {\"nfrac\": 0.46, \"action\": \"Enhance\", \"Precision\": 1.0, \"Recall\": 1.0, \"FScore\": 1.0}, {\"nfrac\": 0.5, \"action\": \"Correlation\", \"Precision\": 1.0, \"Recall\": 1.0, \"FScore\": 1.0}, {\"nfrac\": 0.5, \"action\": \"Enhance\", \"Precision\": 1.0, \"Recall\": 1.0, \"FScore\": 1.0}, {\"nfrac\": 0.55, \"action\": \"Correlation\", \"Precision\": 1.0, \"Recall\": 1.0, \"FScore\": 1.0}, {\"nfrac\": 0.55, \"action\": \"Enhance\", \"Precision\": 1.0, \"Recall\": 1.0, \"FScore\": 1.0}, {\"nfrac\": 0.6, \"action\": \"Correlation\", \"Precision\": 1.0, \"Recall\": 1.0, \"FScore\": 1.0}, {\"nfrac\": 0.6, \"action\": \"Enhance\", \"Precision\": 1.0, \"Recall\": 1.0, \"FScore\": 1.0}, {\"nfrac\": 0.65, \"action\": \"Correlation\", \"Precision\": 1.0, \"Recall\": 1.0, \"FScore\": 1.0}, {\"nfrac\": 0.65, \"action\": \"Enhance\", \"Precision\": 1.0, \"Recall\": 1.0, \"FScore\": 1.0}, {\"nfrac\": 0.7, \"action\": \"Correlation\", \"Precision\": 1.0, \"Recall\": 1.0, \"FScore\": 1.0}, {\"nfrac\": 0.7, \"action\": \"Enhance\", \"Precision\": 1.0, \"Recall\": 1.0, \"FScore\": 1.0}, {\"nfrac\": 0.75, \"action\": \"Correlation\", \"Precision\": 1.0, \"Recall\": 1.0, \"FScore\": 1.0}, {\"nfrac\": 0.75, \"action\": \"Enhance\", \"Precision\": 1.0, \"Recall\": 1.0, \"FScore\": 1.0}, {\"nfrac\": 0.8, \"action\": \"Correlation\", \"Precision\": 1.0, \"Recall\": 1.0, \"FScore\": 1.0}, {\"nfrac\": 0.8, \"action\": \"Enhance\", \"Precision\": 1.0, \"Recall\": 1.0, \"FScore\": 1.0}, {\"nfrac\": 0.85, \"action\": \"Correlation\", \"Precision\": 1.0, \"Recall\": 1.0, \"FScore\": 1.0}, {\"nfrac\": 0.85, \"action\": \"Enhance\", \"Precision\": 1.0, \"Recall\": 1.0, \"FScore\": 1.0}, {\"nfrac\": 0.9, \"action\": \"Correlation\", \"Precision\": 1.0, \"Recall\": 1.0, \"FScore\": 1.0}, {\"nfrac\": 0.9, \"action\": \"Enhance\", \"Precision\": 1.0, \"Recall\": 1.0, \"FScore\": 1.0}, {\"nfrac\": 0.95, \"action\": \"Correlation\", \"Precision\": 1.0, \"Recall\": 1.0, \"FScore\": 1.0}, {\"nfrac\": 0.95, \"action\": \"Enhance\", \"Precision\": 1.0, \"Recall\": 1.0, \"FScore\": 1.0}, {\"nfrac\": 1.0, \"action\": \"Correlation\", \"Precision\": 1.0, \"Recall\": 1.0, \"FScore\": 1.0}, {\"nfrac\": 1.0, \"action\": \"Enhance\", \"Precision\": 1.0, \"Recall\": 1.0, \"FScore\": 1.0}]}}, {\"mode\": \"vega-lite\"});\n",
       "</script>"
      ],
      "text/plain": [
       "alt.Chart(...)"
      ]
     },
     "execution_count": 15,
     "metadata": {},
     "output_type": "execute_result"
    }
   ],
   "source": [
    "df = trial_df \n",
    "df = df.groupby([\"nfrac\",\"action\"]).mean().reset_index()\n",
    "alt.Chart(df,title=\"Airbnb (1M rows)\").mark_line().encode(\n",
    "    x = alt.X(\"nfrac\",title=\"Fraction of dataset sampled\"),#scale=alt.Scale(type=\"log\")),\n",
    "    y = alt.Y(\"Recall\",scale=alt.Scale(domain=(0,1.01))),\n",
    "    color = \"action\"\n",
    ").interactive()"
   ]
  },
  {
   "cell_type": "raw",
   "metadata": {},
   "source": [
    "To achieve > 90% recall for Airbnb\n",
    "50*0.55 = 27.5k\n",
    "100*0.33 = 33k\n",
    "1000*0.05 = 55k"
   ]
  },
  {
   "cell_type": "raw",
   "metadata": {},
   "source": [
    "To achieve > 90% recall for Communities\n",
    "5000*0.85 = 4250\n",
    "10000*0.45 = 4500\n",
    "50000*0.15 = 7500\n",
    "100000*0.05 = 5000"
   ]
  },
  {
   "cell_type": "raw",
   "metadata": {},
   "source": [
    "If we set sampling cap at around 30k, then we have near perfect (> 90%) recall for Communities"
   ]
  }
 ],
 "metadata": {
  "kernelspec": {
   "display_name": "Python 3",
   "language": "python",
   "name": "python3"
  },
  "language_info": {
   "codemirror_mode": {
    "name": "ipython",
    "version": 3
   },
   "file_extension": ".py",
   "mimetype": "text/x-python",
   "name": "python",
   "nbconvert_exporter": "python",
   "pygments_lexer": "ipython3",
   "version": "3.9.2"
  }
 },
 "nbformat": 4,
 "nbformat_minor": 4
}
