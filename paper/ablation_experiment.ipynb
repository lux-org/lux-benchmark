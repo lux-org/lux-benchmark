{
 "cells": [
  {
   "cell_type": "code",
   "execution_count": 3,
   "metadata": {},
   "outputs": [],
   "source": [
    "from matplotlib.pylab import plt\n",
    "import pandas as pd\n",
    "import altair as alt"
   ]
  },
  {
   "cell_type": "markdown",
   "metadata": {},
   "source": [
    "# Early Pruning"
   ]
  },
  {
   "cell_type": "code",
   "execution_count": 3,
   "metadata": {},
   "outputs": [
    {
     "name": "stdout",
     "output_type": "stream",
     "text": [
      "pct improvement:\n",
      "     t_recs    t_meta\n",
      "1 -0.712649 -0.098283\n",
      "3 -0.533389 -0.037660\n",
      "5 -0.369202 -0.018510\n",
      "7 -0.221670  0.009976\n",
      "9 -0.188511 -0.019757\n"
     ]
    },
    {
     "data": {
      "text/html": [
       "\n",
       "<div id=\"altair-viz-d09f8601ffbe4e24bf10f9a25b296146\"></div>\n",
       "<script type=\"text/javascript\">\n",
       "  (function(spec, embedOpt){\n",
       "    let outputDiv = document.currentScript.previousElementSibling;\n",
       "    if (outputDiv.id !== \"altair-viz-d09f8601ffbe4e24bf10f9a25b296146\") {\n",
       "      outputDiv = document.getElementById(\"altair-viz-d09f8601ffbe4e24bf10f9a25b296146\");\n",
       "    }\n",
       "    const paths = {\n",
       "      \"vega\": \"https://cdn.jsdelivr.net/npm//vega@5?noext\",\n",
       "      \"vega-lib\": \"https://cdn.jsdelivr.net/npm//vega-lib?noext\",\n",
       "      \"vega-lite\": \"https://cdn.jsdelivr.net/npm//vega-lite@4.8.1?noext\",\n",
       "      \"vega-embed\": \"https://cdn.jsdelivr.net/npm//vega-embed@6?noext\",\n",
       "    };\n",
       "\n",
       "    function loadScript(lib) {\n",
       "      return new Promise(function(resolve, reject) {\n",
       "        var s = document.createElement('script');\n",
       "        s.src = paths[lib];\n",
       "        s.async = true;\n",
       "        s.onload = () => resolve(paths[lib]);\n",
       "        s.onerror = () => reject(`Error loading script: ${paths[lib]}`);\n",
       "        document.getElementsByTagName(\"head\")[0].appendChild(s);\n",
       "      });\n",
       "    }\n",
       "\n",
       "    function showError(err) {\n",
       "      outputDiv.innerHTML = `<div class=\"error\" style=\"color:red;\">${err}</div>`;\n",
       "      throw err;\n",
       "    }\n",
       "\n",
       "    function displayChart(vegaEmbed) {\n",
       "      vegaEmbed(outputDiv, spec, embedOpt)\n",
       "        .catch(err => showError(`Javascript Error: ${err.message}<br>This usually means there's a typo in your chart specification. See the javascript console for the full traceback.`));\n",
       "    }\n",
       "\n",
       "    if(typeof define === \"function\" && define.amd) {\n",
       "      requirejs.config({paths});\n",
       "      require([\"vega-embed\"], displayChart, err => showError(`Error loading script: ${err.message}`));\n",
       "    } else if (typeof vegaEmbed === \"function\") {\n",
       "      displayChart(vegaEmbed);\n",
       "    } else {\n",
       "      loadScript(\"vega\")\n",
       "        .then(() => loadScript(\"vega-lite\"))\n",
       "        .then(() => loadScript(\"vega-embed\"))\n",
       "        .catch(showError)\n",
       "        .then(() => displayChart(vegaEmbed));\n",
       "    }\n",
       "  })({\"config\": {\"view\": {\"continuousWidth\": 400, \"continuousHeight\": 300}}, \"data\": {\"name\": \"data-ab1b6fd19927f7936f1cf5df31c5cf00\"}, \"mark\": \"bar\", \"encoding\": {\"color\": {\"type\": \"nominal\", \"field\": \"early_pruning\"}, \"column\": {\"type\": \"nominal\", \"field\": \"nPts\"}, \"x\": {\"type\": \"nominal\", \"field\": \"early_pruning\"}, \"y\": {\"type\": \"quantitative\", \"field\": \"t_recs\"}}, \"resolve\": {\"scale\": {\"x\": \"independent\"}}, \"$schema\": \"https://vega.github.io/schema/vega-lite/v4.8.1.json\", \"datasets\": {\"data-ab1b6fd19927f7936f1cf5df31c5cf00\": [{\"nPts\": 10000, \"early_pruning\": false, \"t_meta\": 0.081572315999999, \"t_recs\": 1.2741025109999988}, {\"nPts\": 10000, \"early_pruning\": true, \"t_meta\": 0.0735551530000009, \"t_recs\": 0.3661145330000011}, {\"nPts\": 58861, \"early_pruning\": false, \"t_meta\": 0.2941805039999963, \"t_recs\": 3.042024952999995}, {\"nPts\": 58861, \"early_pruning\": true, \"t_meta\": 0.2831018020000044, \"t_recs\": 1.4194408170000088}, {\"nPts\": 346427, \"early_pruning\": false, \"t_meta\": 1.699733131000002, \"t_recs\": 10.300928035999988}, {\"nPts\": 346427, \"early_pruning\": true, \"t_meta\": 1.668271433000001, \"t_recs\": 6.497802917999991}, {\"nPts\": 2038904, \"early_pruning\": false, \"t_meta\": 9.141622114, \"t_recs\": 42.33807268999999}, {\"nPts\": 2038904, \"early_pruning\": true, \"t_meta\": 9.23281833500002, \"t_recs\": 32.9529976}, {\"nPts\": 12000000, \"early_pruning\": false, \"t_meta\": 53.40852189200001, \"t_recs\": 228.30256560900008}, {\"nPts\": 12000000, \"early_pruning\": true, \"t_meta\": 52.35333175899996, \"t_recs\": 185.26491012500003}]}}, {\"mode\": \"vega-lite\"});\n",
       "</script>"
      ],
      "text/plain": [
       "alt.Chart(...)"
      ]
     },
     "execution_count": 3,
     "metadata": {},
     "output_type": "execute_result"
    }
   ],
   "source": [
    "dataset = \"airbnb\"\n",
    "control = \"early_pruning\"\n",
    "df = pd.read_csv(f\"../result/{control}_{dataset}_time.csv\")\n",
    "\n",
    "print(\"pct improvement:\")\n",
    "print(df.groupby([\"nPts\"])[[\"t_recs\",\"t_meta\"]].pct_change().dropna())\n",
    "alt.Chart(df).mark_bar().encode(\n",
    "    x = f\"{control}:N\",\n",
    "    y = \"t_recs\",\n",
    "    column= \"nPts:N\",\n",
    "    color = f\"{control}:N\"\n",
    ").resolve_scale(x='independent')\n"
   ]
  },
  {
   "cell_type": "code",
   "execution_count": 4,
   "metadata": {},
   "outputs": [
    {
     "name": "stdout",
     "output_type": "stream",
     "text": [
      "pct improvement:\n",
      "     t_recs    t_meta\n",
      "1 -0.440458 -0.318607\n",
      "3 -0.395999 -0.023931\n",
      "5 -0.549316  0.080599\n",
      "7 -0.732049 -0.018881\n",
      "9 -0.743567 -0.011481\n"
     ]
    },
    {
     "data": {
      "text/html": [
       "\n",
       "<div id=\"altair-viz-1c4cb56bdcc94944b28b87f47fd5a742\"></div>\n",
       "<script type=\"text/javascript\">\n",
       "  (function(spec, embedOpt){\n",
       "    let outputDiv = document.currentScript.previousElementSibling;\n",
       "    if (outputDiv.id !== \"altair-viz-1c4cb56bdcc94944b28b87f47fd5a742\") {\n",
       "      outputDiv = document.getElementById(\"altair-viz-1c4cb56bdcc94944b28b87f47fd5a742\");\n",
       "    }\n",
       "    const paths = {\n",
       "      \"vega\": \"https://cdn.jsdelivr.net/npm//vega@5?noext\",\n",
       "      \"vega-lib\": \"https://cdn.jsdelivr.net/npm//vega-lib?noext\",\n",
       "      \"vega-lite\": \"https://cdn.jsdelivr.net/npm//vega-lite@4.8.1?noext\",\n",
       "      \"vega-embed\": \"https://cdn.jsdelivr.net/npm//vega-embed@6?noext\",\n",
       "    };\n",
       "\n",
       "    function loadScript(lib) {\n",
       "      return new Promise(function(resolve, reject) {\n",
       "        var s = document.createElement('script');\n",
       "        s.src = paths[lib];\n",
       "        s.async = true;\n",
       "        s.onload = () => resolve(paths[lib]);\n",
       "        s.onerror = () => reject(`Error loading script: ${paths[lib]}`);\n",
       "        document.getElementsByTagName(\"head\")[0].appendChild(s);\n",
       "      });\n",
       "    }\n",
       "\n",
       "    function showError(err) {\n",
       "      outputDiv.innerHTML = `<div class=\"error\" style=\"color:red;\">${err}</div>`;\n",
       "      throw err;\n",
       "    }\n",
       "\n",
       "    function displayChart(vegaEmbed) {\n",
       "      vegaEmbed(outputDiv, spec, embedOpt)\n",
       "        .catch(err => showError(`Javascript Error: ${err.message}<br>This usually means there's a typo in your chart specification. See the javascript console for the full traceback.`));\n",
       "    }\n",
       "\n",
       "    if(typeof define === \"function\" && define.amd) {\n",
       "      requirejs.config({paths});\n",
       "      require([\"vega-embed\"], displayChart, err => showError(`Error loading script: ${err.message}`));\n",
       "    } else if (typeof vegaEmbed === \"function\") {\n",
       "      displayChart(vegaEmbed);\n",
       "    } else {\n",
       "      loadScript(\"vega\")\n",
       "        .then(() => loadScript(\"vega-lite\"))\n",
       "        .then(() => loadScript(\"vega-embed\"))\n",
       "        .catch(showError)\n",
       "        .then(() => displayChart(vegaEmbed));\n",
       "    }\n",
       "  })({\"config\": {\"view\": {\"continuousWidth\": 400, \"continuousHeight\": 300}}, \"data\": {\"name\": \"data-58cdbea59458a00a69ffb94c352cb825\"}, \"mark\": \"bar\", \"encoding\": {\"color\": {\"type\": \"nominal\", \"field\": \"lazy_maintain\"}, \"column\": {\"type\": \"nominal\", \"field\": \"nPts\"}, \"x\": {\"type\": \"nominal\", \"field\": \"lazy_maintain\"}, \"y\": {\"type\": \"quantitative\", \"field\": \"t_recs\"}}, \"resolve\": {\"scale\": {\"x\": \"independent\"}}, \"$schema\": \"https://vega.github.io/schema/vega-lite/v4.8.1.json\", \"datasets\": {\"data-58cdbea59458a00a69ffb94c352cb825\": [{\"nPts\": 10000, \"lazy_maintain\": false, \"t_meta\": 0.110219856999997, \"t_recs\": 1.493571945999996}, {\"nPts\": 10000, \"lazy_maintain\": true, \"t_meta\": 0.0751030360000015, \"t_recs\": 0.8357162089999974}, {\"nPts\": 58861, \"lazy_maintain\": false, \"t_meta\": 0.3044334109999909, \"t_recs\": 3.606093344000002}, {\"nPts\": 58861, \"lazy_maintain\": true, \"t_meta\": 0.2971480639999981, \"t_recs\": 2.178084865999992}, {\"nPts\": 346427, \"lazy_maintain\": false, \"t_meta\": 1.630465061999999, \"t_recs\": 10.17676294799999}, {\"nPts\": 346427, \"lazy_maintain\": true, \"t_meta\": 1.761878883999998, \"t_recs\": 4.586504122000008}, {\"nPts\": 2038904, \"lazy_maintain\": false, \"t_meta\": 10.306625851000009, \"t_recs\": 48.54198191099999}, {\"nPts\": 2038904, \"lazy_maintain\": true, \"t_meta\": 10.11202455700004, \"t_recs\": 13.00687155700001}, {\"nPts\": 12000000, \"lazy_maintain\": false, \"t_meta\": 55.45354778199999, \"t_recs\": 239.440655434}, {\"nPts\": 12000000, \"lazy_maintain\": true, \"t_meta\": 54.81690611700003, \"t_recs\": 61.40053907099991}]}}, {\"mode\": \"vega-lite\"});\n",
       "</script>"
      ],
      "text/plain": [
       "alt.Chart(...)"
      ]
     },
     "execution_count": 4,
     "metadata": {},
     "output_type": "execute_result"
    }
   ],
   "source": [
    "dataset = \"airbnb\"\n",
    "control = \"lazy_maintain\"\n",
    "df = pd.read_csv(f\"../result/{control}_{dataset}_time.csv\")\n",
    "print(\"pct improvement:\")\n",
    "print(df.groupby([\"nPts\"])[[\"t_recs\",\"t_meta\"]].pct_change().dropna())\n",
    "\n",
    "alt.Chart(df).mark_bar().encode(\n",
    "    x = f\"{control}:N\",\n",
    "    y = \"t_recs\",\n",
    "    column= \"nPts:N\",\n",
    "    color = f\"{control}:N\"\n",
    ").resolve_scale(x='independent')"
   ]
  },
  {
   "cell_type": "code",
   "execution_count": 8,
   "metadata": {},
   "outputs": [
    {
     "data": {
      "text/html": [
       "\n",
       "<div id=\"altair-viz-8fa8d081f640499d81425ca335fbec73\"></div>\n",
       "<script type=\"text/javascript\">\n",
       "  (function(spec, embedOpt){\n",
       "    let outputDiv = document.currentScript.previousElementSibling;\n",
       "    if (outputDiv.id !== \"altair-viz-8fa8d081f640499d81425ca335fbec73\") {\n",
       "      outputDiv = document.getElementById(\"altair-viz-8fa8d081f640499d81425ca335fbec73\");\n",
       "    }\n",
       "    const paths = {\n",
       "      \"vega\": \"https://cdn.jsdelivr.net/npm//vega@5?noext\",\n",
       "      \"vega-lib\": \"https://cdn.jsdelivr.net/npm//vega-lib?noext\",\n",
       "      \"vega-lite\": \"https://cdn.jsdelivr.net/npm//vega-lite@4.8.1?noext\",\n",
       "      \"vega-embed\": \"https://cdn.jsdelivr.net/npm//vega-embed@6?noext\",\n",
       "    };\n",
       "\n",
       "    function loadScript(lib) {\n",
       "      return new Promise(function(resolve, reject) {\n",
       "        var s = document.createElement('script');\n",
       "        s.src = paths[lib];\n",
       "        s.async = true;\n",
       "        s.onload = () => resolve(paths[lib]);\n",
       "        s.onerror = () => reject(`Error loading script: ${paths[lib]}`);\n",
       "        document.getElementsByTagName(\"head\")[0].appendChild(s);\n",
       "      });\n",
       "    }\n",
       "\n",
       "    function showError(err) {\n",
       "      outputDiv.innerHTML = `<div class=\"error\" style=\"color:red;\">${err}</div>`;\n",
       "      throw err;\n",
       "    }\n",
       "\n",
       "    function displayChart(vegaEmbed) {\n",
       "      vegaEmbed(outputDiv, spec, embedOpt)\n",
       "        .catch(err => showError(`Javascript Error: ${err.message}<br>This usually means there's a typo in your chart specification. See the javascript console for the full traceback.`));\n",
       "    }\n",
       "\n",
       "    if(typeof define === \"function\" && define.amd) {\n",
       "      requirejs.config({paths});\n",
       "      require([\"vega-embed\"], displayChart, err => showError(`Error loading script: ${err.message}`));\n",
       "    } else if (typeof vegaEmbed === \"function\") {\n",
       "      displayChart(vegaEmbed);\n",
       "    } else {\n",
       "      loadScript(\"vega\")\n",
       "        .then(() => loadScript(\"vega-lite\"))\n",
       "        .then(() => loadScript(\"vega-embed\"))\n",
       "        .catch(showError)\n",
       "        .then(() => displayChart(vegaEmbed));\n",
       "    }\n",
       "  })({\"config\": {\"view\": {\"continuousWidth\": 400, \"continuousHeight\": 300}}, \"data\": {\"name\": \"data-d8639e0829143cecf02cbed88ee627e5\"}, \"mark\": \"bar\", \"encoding\": {\"color\": {\"type\": \"nominal\", \"field\": \"streaming\"}, \"column\": {\"type\": \"nominal\", \"field\": \"nPts\"}, \"x\": {\"type\": \"nominal\", \"field\": \"streaming\"}, \"y\": {\"type\": \"quantitative\", \"field\": \"t_recs\"}}, \"resolve\": {\"scale\": {\"x\": \"independent\"}}, \"$schema\": \"https://vega.github.io/schema/vega-lite/v4.8.1.json\", \"datasets\": {\"data-d8639e0829143cecf02cbed88ee627e5\": [{\"nPts\": 10000, \"streaming\": false, \"t_meta\": 0.0716072639999971, \"t_recs\": 1.3003320950000017}, {\"nPts\": 10000, \"streaming\": true, \"t_meta\": 0.0740167789999972, \"t_recs\": 0.3655496410000012}, {\"nPts\": 58861, \"streaming\": false, \"t_meta\": 0.3287809739999972, \"t_recs\": 3.2000713070000018}, {\"nPts\": 58861, \"streaming\": true, \"t_meta\": 0.2555179610000095, \"t_recs\": 1.3066806159999942}, {\"nPts\": 346427, \"streaming\": false, \"t_meta\": 1.759778475999994, \"t_recs\": 10.422919069999992}, {\"nPts\": 346427, \"streaming\": true, \"t_meta\": 1.6560555920000013, \"t_recs\": 7.0069029}, {\"nPts\": 2038904, \"streaming\": false, \"t_meta\": 8.946958946000024, \"t_recs\": 41.30850757900001}, {\"nPts\": 2038904, \"streaming\": true, \"t_meta\": 8.867854812000019, \"t_recs\": 35.70875950100003}, {\"nPts\": 12000000, \"streaming\": false, \"t_meta\": 50.88767680800004, \"t_recs\": 219.528592152}, {\"nPts\": 12000000, \"streaming\": true, \"t_meta\": 50.95307741900001, \"t_recs\": 207.79941675400005}]}}, {\"mode\": \"vega-lite\"});\n",
       "</script>"
      ],
      "text/plain": [
       "alt.Chart(...)"
      ]
     },
     "execution_count": 8,
     "metadata": {},
     "output_type": "execute_result"
    }
   ],
   "source": [
    "dataset = \"airbnb\"\n",
    "control = \"streaming\"\n",
    "df = pd.read_csv(f\"../result/{control}_{dataset}_time.csv\")\n",
    "\n",
    "alt.Chart(df).mark_bar().encode(\n",
    "    x = f\"{control}:N\",\n",
    "    y = \"t_recs\",\n",
    "    column= \"nPts:N\",\n",
    "    color = f\"{control}:N\"\n",
    ").resolve_scale(x='independent')"
   ]
  },
  {
   "cell_type": "code",
   "execution_count": 3,
   "metadata": {},
   "outputs": [
    {
     "name": "stdout",
     "output_type": "stream",
     "text": [
      "/Users/dorislee/Desktop/Research/lux/lux-benchmark\n"
     ]
    }
   ],
   "source": [
    "cd .."
   ]
  },
  {
   "cell_type": "code",
   "execution_count": 13,
   "metadata": {},
   "outputs": [],
   "source": [
    "import sys, os\n",
    "sys.path.append(os.path.abspath(\".\"))\n",
    "from utils.rank_utils import compute_prf_between_vislists"
   ]
  },
  {
   "cell_type": "code",
   "execution_count": 14,
   "metadata": {},
   "outputs": [],
   "source": [
    "from glob import glob"
   ]
  },
  {
   "cell_type": "code",
   "execution_count": 15,
   "metadata": {},
   "outputs": [],
   "source": [
    "import numpy as np\n",
    "import pickle as pkl\n",
    "import pandas as pd"
   ]
  },
  {
   "cell_type": "code",
   "execution_count": 18,
   "metadata": {},
   "outputs": [],
   "source": [
    "action_lst = [\"Occurrence\",\"Filter\",\"Correlation\",\"Distribution\",\"Enhance\"]\n",
    "trial = []\n",
    "trial_range = np.linspace(0.05,0.95,19)\n",
    "N_repeat = 10\n",
    "for action in action_lst :\n",
    "    map1 = pkl.load(open(f\"tmp_communities10k/communities_gt_{action}.pkl\",'rb'))\n",
    "    for nfrac in trial_range:\n",
    "        seed_lst = np.arange(N_repeat)\n",
    "        for seed in seed_lst: \n",
    "            map2 = pkl.load(open(f\"tmp_communities10k/communities_nfrac{nfrac:.2f}_{action}_{seed}.pkl\",'rb'))\n",
    "            prf = compute_prf_between_vislists(map1,map2)\n",
    "            trial.append([nfrac, action, prf[0], prf[1], prf[2]])\n",
    "    # Inserting endpoints \n",
    "    trial.append([0,action, 0,0,0])\n",
    "    trial.append([1,action, 1,1,1])\n",
    "trial_df = pd.DataFrame(\n",
    "    trial,\n",
    "    columns=[\"nfrac\", \"action\", \"Precision\",\"Recall\",\"FScore\"],\n",
    ")\n",
    "# trial_df.to_csv(f\"result/{experiment_name}.csv\", index=None)"
   ]
  },
  {
   "cell_type": "code",
   "execution_count": 19,
   "metadata": {},
   "outputs": [
    {
     "data": {
      "text/html": [
       "\n",
       "<div id=\"altair-viz-c21498f5b4074b958ccb6c15f5892915\"></div>\n",
       "<script type=\"text/javascript\">\n",
       "  (function(spec, embedOpt){\n",
       "    let outputDiv = document.currentScript.previousElementSibling;\n",
       "    if (outputDiv.id !== \"altair-viz-c21498f5b4074b958ccb6c15f5892915\") {\n",
       "      outputDiv = document.getElementById(\"altair-viz-c21498f5b4074b958ccb6c15f5892915\");\n",
       "    }\n",
       "    const paths = {\n",
       "      \"vega\": \"https://cdn.jsdelivr.net/npm//vega@5?noext\",\n",
       "      \"vega-lib\": \"https://cdn.jsdelivr.net/npm//vega-lib?noext\",\n",
       "      \"vega-lite\": \"https://cdn.jsdelivr.net/npm//vega-lite@4.8.1?noext\",\n",
       "      \"vega-embed\": \"https://cdn.jsdelivr.net/npm//vega-embed@6?noext\",\n",
       "    };\n",
       "\n",
       "    function loadScript(lib) {\n",
       "      return new Promise(function(resolve, reject) {\n",
       "        var s = document.createElement('script');\n",
       "        s.src = paths[lib];\n",
       "        s.async = true;\n",
       "        s.onload = () => resolve(paths[lib]);\n",
       "        s.onerror = () => reject(`Error loading script: ${paths[lib]}`);\n",
       "        document.getElementsByTagName(\"head\")[0].appendChild(s);\n",
       "      });\n",
       "    }\n",
       "\n",
       "    function showError(err) {\n",
       "      outputDiv.innerHTML = `<div class=\"error\" style=\"color:red;\">${err}</div>`;\n",
       "      throw err;\n",
       "    }\n",
       "\n",
       "    function displayChart(vegaEmbed) {\n",
       "      vegaEmbed(outputDiv, spec, embedOpt)\n",
       "        .catch(err => showError(`Javascript Error: ${err.message}<br>This usually means there's a typo in your chart specification. See the javascript console for the full traceback.`));\n",
       "    }\n",
       "\n",
       "    if(typeof define === \"function\" && define.amd) {\n",
       "      requirejs.config({paths});\n",
       "      require([\"vega-embed\"], displayChart, err => showError(`Error loading script: ${err.message}`));\n",
       "    } else if (typeof vegaEmbed === \"function\") {\n",
       "      displayChart(vegaEmbed);\n",
       "    } else {\n",
       "      loadScript(\"vega\")\n",
       "        .then(() => loadScript(\"vega-lite\"))\n",
       "        .then(() => loadScript(\"vega-embed\"))\n",
       "        .catch(showError)\n",
       "        .then(() => displayChart(vegaEmbed));\n",
       "    }\n",
       "  })({\"config\": {\"view\": {\"continuousWidth\": 400, \"continuousHeight\": 300}}, \"data\": {\"name\": \"data-7494c18a35534aa5ec6df0f6b33631d5\"}, \"mark\": \"line\", \"encoding\": {\"color\": {\"type\": \"nominal\", \"field\": \"action\"}, \"x\": {\"type\": \"quantitative\", \"field\": \"nfrac\", \"title\": \"Fraction of dataset sampled\"}, \"y\": {\"type\": \"quantitative\", \"field\": \"Recall\", \"scale\": {\"domain\": [0.2, 1.01]}}}, \"selection\": {\"selector004\": {\"type\": \"interval\", \"bind\": \"scales\", \"encodings\": [\"x\", \"y\"]}}, \"title\": \"Communities (10k rows)\", \"$schema\": \"https://vega.github.io/schema/vega-lite/v4.8.1.json\", \"datasets\": {\"data-7494c18a35534aa5ec6df0f6b33631d5\": [{\"nfrac\": 0.0, \"action\": \"Correlation\", \"Precision\": 0.0, \"Recall\": 0.0, \"FScore\": 0.0}, {\"nfrac\": 0.0, \"action\": \"Distribution\", \"Precision\": 0.0, \"Recall\": 0.0, \"FScore\": 0.0}, {\"nfrac\": 0.0, \"action\": \"Enhance\", \"Precision\": 0.0, \"Recall\": 0.0, \"FScore\": 0.0}, {\"nfrac\": 0.0, \"action\": \"Filter\", \"Precision\": 0.0, \"Recall\": 0.0, \"FScore\": 0.0}, {\"nfrac\": 0.0, \"action\": \"Occurrence\", \"Precision\": 0.0, \"Recall\": 0.0, \"FScore\": 0.0}, {\"nfrac\": 0.05, \"action\": \"Correlation\", \"Precision\": 1.0, \"Recall\": 0.9200000000000002, \"FScore\": 0.9578817733990148}, {\"nfrac\": 0.05, \"action\": \"Distribution\", \"Precision\": 1.0, \"Recall\": 0.9333333333333333, \"FScore\": 0.9642583470169678}, {\"nfrac\": 0.05, \"action\": \"Enhance\", \"Precision\": 1.0, \"Recall\": 0.9666666666666668, \"FScore\": 0.9827586206896551}, {\"nfrac\": 0.05, \"action\": \"Filter\", \"Precision\": 1.0, \"Recall\": 0.2533333333333333, \"FScore\": 0.3971841368126198}, {\"nfrac\": 0.05, \"action\": \"Occurrence\", \"Precision\": 1.0, \"Recall\": 0.9200000000000002, \"FScore\": 0.958128078817734}, {\"nfrac\": 0.1, \"action\": \"Correlation\", \"Precision\": 1.0, \"Recall\": 0.9400000000000001, \"FScore\": 0.96871921182266}, {\"nfrac\": 0.1, \"action\": \"Distribution\", \"Precision\": 1.0, \"Recall\": 0.9400000000000001, \"FScore\": 0.9682266009852217}, {\"nfrac\": 0.1, \"action\": \"Enhance\", \"Precision\": 1.0, \"Recall\": 1.0, \"FScore\": 1.0}, {\"nfrac\": 0.1, \"action\": \"Filter\", \"Precision\": 1.0, \"Recall\": 0.4333333333333334, \"FScore\": 0.6026821005081875}, {\"nfrac\": 0.1, \"action\": \"Occurrence\", \"Precision\": 1.0, \"Recall\": 0.9400000000000001, \"FScore\": 0.9689655172413794}, {\"nfrac\": 0.15, \"action\": \"Correlation\", \"Precision\": 1.0, \"Recall\": 0.9533333333333334, \"FScore\": 0.9758620689655173}, {\"nfrac\": 0.15, \"action\": \"Distribution\", \"Precision\": 1.0, \"Recall\": 0.9533333333333334, \"FScore\": 0.975615763546798}, {\"nfrac\": 0.15, \"action\": \"Enhance\", \"Precision\": 1.0, \"Recall\": 1.0, \"FScore\": 1.0}, {\"nfrac\": 0.15, \"action\": \"Filter\", \"Precision\": 1.0, \"Recall\": 0.5333333333333333, \"FScore\": 0.6924217087260567}, {\"nfrac\": 0.15, \"action\": \"Occurrence\", \"Precision\": 1.0, \"Recall\": 0.9533333333333335, \"FScore\": 0.9758620689655173}, {\"nfrac\": 0.2, \"action\": \"Correlation\", \"Precision\": 1.0, \"Recall\": 0.9666666666666668, \"FScore\": 0.9827586206896551}, {\"nfrac\": 0.2, \"action\": \"Distribution\", \"Precision\": 1.0, \"Recall\": 0.9666666666666668, \"FScore\": 0.982512315270936}, {\"nfrac\": 0.2, \"action\": \"Enhance\", \"Precision\": 1.0, \"Recall\": 1.0, \"FScore\": 1.0}, {\"nfrac\": 0.2, \"action\": \"Filter\", \"Precision\": 1.0, \"Recall\": 0.6466666666666666, \"FScore\": 0.7821999256781866}, {\"nfrac\": 0.2, \"action\": \"Occurrence\", \"Precision\": 1.0, \"Recall\": 0.9800000000000001, \"FScore\": 0.9896551724137931}, {\"nfrac\": 0.25, \"action\": \"Correlation\", \"Precision\": 1.0, \"Recall\": 0.9666666666666668, \"FScore\": 0.9827586206896551}, {\"nfrac\": 0.25, \"action\": \"Distribution\", \"Precision\": 1.0, \"Recall\": 0.9666666666666668, \"FScore\": 0.982512315270936}, {\"nfrac\": 0.25, \"action\": \"Enhance\", \"Precision\": 1.0, \"Recall\": 1.0, \"FScore\": 1.0}, {\"nfrac\": 0.25, \"action\": \"Filter\", \"Precision\": 1.0, \"Recall\": 0.7066666666666667, \"FScore\": 0.8201072357594097}, {\"nfrac\": 0.25, \"action\": \"Occurrence\", \"Precision\": 1.0, \"Recall\": 0.9800000000000001, \"FScore\": 0.9896551724137931}, {\"nfrac\": 0.3, \"action\": \"Correlation\", \"Precision\": 1.0, \"Recall\": 0.9733333333333334, \"FScore\": 0.9862068965517242}, {\"nfrac\": 0.3, \"action\": \"Distribution\", \"Precision\": 1.0, \"Recall\": 0.9933333333333334, \"FScore\": 0.9965517241379309}, {\"nfrac\": 0.3, \"action\": \"Enhance\", \"Precision\": 1.0, \"Recall\": 1.0, \"FScore\": 1.0}, {\"nfrac\": 0.3, \"action\": \"Filter\", \"Precision\": 1.0, \"Recall\": 0.7866666666666666, \"FScore\": 0.8747111700559976}, {\"nfrac\": 0.3, \"action\": \"Occurrence\", \"Precision\": 1.0, \"Recall\": 0.9866666666666667, \"FScore\": 0.993103448275862}, {\"nfrac\": 0.35, \"action\": \"Correlation\", \"Precision\": 1.0, \"Recall\": 0.9733333333333334, \"FScore\": 0.9862068965517242}, {\"nfrac\": 0.35, \"action\": \"Distribution\", \"Precision\": 1.0, \"Recall\": 0.9866666666666667, \"FScore\": 0.9931034482758619}, {\"nfrac\": 0.35, \"action\": \"Enhance\", \"Precision\": 1.0, \"Recall\": 1.0, \"FScore\": 1.0}, {\"nfrac\": 0.35, \"action\": \"Filter\", \"Precision\": 1.0, \"Recall\": 0.8133333333333332, \"FScore\": 0.8899848427434633}, {\"nfrac\": 0.35, \"action\": \"Occurrence\", \"Precision\": 1.0, \"Recall\": 0.9866666666666667, \"FScore\": 0.9931034482758619}, {\"nfrac\": 0.39999999999999997, \"action\": \"Correlation\", \"Precision\": 1.0, \"Recall\": 0.9533333333333335, \"FScore\": 0.9758620689655173}, {\"nfrac\": 0.39999999999999997, \"action\": \"Distribution\", \"Precision\": 1.0, \"Recall\": 0.9866666666666667, \"FScore\": 0.9931034482758619}, {\"nfrac\": 0.39999999999999997, \"action\": \"Enhance\", \"Precision\": 1.0, \"Recall\": 1.0, \"FScore\": 1.0}, {\"nfrac\": 0.39999999999999997, \"action\": \"Filter\", \"Precision\": 1.0, \"Recall\": 0.8533333333333333, \"FScore\": 0.9152311481621827}, {\"nfrac\": 0.39999999999999997, \"action\": \"Occurrence\", \"Precision\": 1.0, \"Recall\": 0.9866666666666667, \"FScore\": 0.9931034482758619}, {\"nfrac\": 0.44999999999999996, \"action\": \"Correlation\", \"Precision\": 1.0, \"Recall\": 0.9800000000000001, \"FScore\": 0.9896551724137931}, {\"nfrac\": 0.44999999999999996, \"action\": \"Distribution\", \"Precision\": 1.0, \"Recall\": 1.0, \"FScore\": 1.0}, {\"nfrac\": 0.44999999999999996, \"action\": \"Enhance\", \"Precision\": 1.0, \"Recall\": 1.0, \"FScore\": 1.0}, {\"nfrac\": 0.44999999999999996, \"action\": \"Filter\", \"Precision\": 1.0, \"Recall\": 0.9266666666666667, \"FScore\": 0.9610837438423646}, {\"nfrac\": 0.44999999999999996, \"action\": \"Occurrence\", \"Precision\": 1.0, \"Recall\": 0.9866666666666667, \"FScore\": 0.9931034482758619}, {\"nfrac\": 0.49999999999999994, \"action\": \"Correlation\", \"Precision\": 1.0, \"Recall\": 0.9800000000000001, \"FScore\": 0.9896551724137932}, {\"nfrac\": 0.49999999999999994, \"action\": \"Distribution\", \"Precision\": 1.0, \"Recall\": 1.0, \"FScore\": 1.0}, {\"nfrac\": 0.49999999999999994, \"action\": \"Enhance\", \"Precision\": 1.0, \"Recall\": 1.0, \"FScore\": 1.0}, {\"nfrac\": 0.49999999999999994, \"action\": \"Filter\", \"Precision\": 1.0, \"Recall\": 0.9200000000000002, \"FScore\": 0.9576354679802958}, {\"nfrac\": 0.49999999999999994, \"action\": \"Occurrence\", \"Precision\": 1.0, \"Recall\": 1.0, \"FScore\": 1.0}, {\"nfrac\": 0.5499999999999999, \"action\": \"Correlation\", \"Precision\": 1.0, \"Recall\": 0.9733333333333334, \"FScore\": 0.9862068965517242}, {\"nfrac\": 0.5499999999999999, \"action\": \"Distribution\", \"Precision\": 1.0, \"Recall\": 1.0, \"FScore\": 1.0}, {\"nfrac\": 0.5499999999999999, \"action\": \"Enhance\", \"Precision\": 1.0, \"Recall\": 1.0, \"FScore\": 1.0}, {\"nfrac\": 0.5499999999999999, \"action\": \"Filter\", \"Precision\": 1.0, \"Recall\": 0.9400000000000001, \"FScore\": 0.9684729064039409}, {\"nfrac\": 0.5499999999999999, \"action\": \"Occurrence\", \"Precision\": 1.0, \"Recall\": 1.0, \"FScore\": 1.0}, {\"nfrac\": 0.6, \"action\": \"Correlation\", \"Precision\": 1.0, \"Recall\": 0.9800000000000001, \"FScore\": 0.9896551724137932}, {\"nfrac\": 0.6, \"action\": \"Distribution\", \"Precision\": 1.0, \"Recall\": 1.0, \"FScore\": 1.0}, {\"nfrac\": 0.6, \"action\": \"Enhance\", \"Precision\": 1.0, \"Recall\": 1.0, \"FScore\": 1.0}, {\"nfrac\": 0.6, \"action\": \"Filter\", \"Precision\": 1.0, \"Recall\": 0.9333333333333333, \"FScore\": 0.9652709359605911}, {\"nfrac\": 0.6, \"action\": \"Occurrence\", \"Precision\": 1.0, \"Recall\": 1.0, \"FScore\": 1.0}, {\"nfrac\": 0.65, \"action\": \"Correlation\", \"Precision\": 1.0, \"Recall\": 0.9800000000000001, \"FScore\": 0.9896551724137932}, {\"nfrac\": 0.65, \"action\": \"Distribution\", \"Precision\": 1.0, \"Recall\": 1.0, \"FScore\": 1.0}, {\"nfrac\": 0.65, \"action\": \"Enhance\", \"Precision\": 1.0, \"Recall\": 1.0, \"FScore\": 1.0}, {\"nfrac\": 0.65, \"action\": \"Filter\", \"Precision\": 1.0, \"Recall\": 0.9400000000000001, \"FScore\": 0.9689655172413794}, {\"nfrac\": 0.65, \"action\": \"Occurrence\", \"Precision\": 1.0, \"Recall\": 1.0, \"FScore\": 1.0}, {\"nfrac\": 0.7, \"action\": \"Correlation\", \"Precision\": 1.0, \"Recall\": 0.9733333333333334, \"FScore\": 0.9862068965517242}, {\"nfrac\": 0.7, \"action\": \"Distribution\", \"Precision\": 1.0, \"Recall\": 1.0, \"FScore\": 1.0}, {\"nfrac\": 0.7, \"action\": \"Enhance\", \"Precision\": 1.0, \"Recall\": 1.0, \"FScore\": 1.0}, {\"nfrac\": 0.7, \"action\": \"Filter\", \"Precision\": 1.0, \"Recall\": 0.9400000000000001, \"FScore\": 0.9689655172413794}, {\"nfrac\": 0.7, \"action\": \"Occurrence\", \"Precision\": 1.0, \"Recall\": 1.0, \"FScore\": 1.0}, {\"nfrac\": 0.75, \"action\": \"Correlation\", \"Precision\": 1.0, \"Recall\": 0.9800000000000001, \"FScore\": 0.9896551724137931}, {\"nfrac\": 0.75, \"action\": \"Distribution\", \"Precision\": 1.0, \"Recall\": 1.0, \"FScore\": 1.0}, {\"nfrac\": 0.75, \"action\": \"Enhance\", \"Precision\": 1.0, \"Recall\": 1.0, \"FScore\": 1.0}, {\"nfrac\": 0.75, \"action\": \"Filter\", \"Precision\": 1.0, \"Recall\": 0.9333333333333333, \"FScore\": 0.9655172413793103}, {\"nfrac\": 0.75, \"action\": \"Occurrence\", \"Precision\": 1.0, \"Recall\": 1.0, \"FScore\": 1.0}, {\"nfrac\": 0.7999999999999999, \"action\": \"Correlation\", \"Precision\": 1.0, \"Recall\": 0.9933333333333334, \"FScore\": 0.9965517241379309}, {\"nfrac\": 0.7999999999999999, \"action\": \"Distribution\", \"Precision\": 1.0, \"Recall\": 1.0, \"FScore\": 1.0}, {\"nfrac\": 0.7999999999999999, \"action\": \"Enhance\", \"Precision\": 1.0, \"Recall\": 1.0, \"FScore\": 1.0}, {\"nfrac\": 0.7999999999999999, \"action\": \"Filter\", \"Precision\": 1.0, \"Recall\": 0.9400000000000002, \"FScore\": 0.9684729064039411}, {\"nfrac\": 0.7999999999999999, \"action\": \"Occurrence\", \"Precision\": 1.0, \"Recall\": 1.0, \"FScore\": 1.0}, {\"nfrac\": 0.85, \"action\": \"Correlation\", \"Precision\": 1.0, \"Recall\": 0.9800000000000001, \"FScore\": 0.9896551724137932}, {\"nfrac\": 0.85, \"action\": \"Distribution\", \"Precision\": 1.0, \"Recall\": 1.0, \"FScore\": 1.0}, {\"nfrac\": 0.85, \"action\": \"Enhance\", \"Precision\": 1.0, \"Recall\": 1.0, \"FScore\": 1.0}, {\"nfrac\": 0.85, \"action\": \"Filter\", \"Precision\": 1.0, \"Recall\": 0.9400000000000001, \"FScore\": 0.9689655172413794}, {\"nfrac\": 0.85, \"action\": \"Occurrence\", \"Precision\": 1.0, \"Recall\": 1.0, \"FScore\": 1.0}, {\"nfrac\": 0.9, \"action\": \"Correlation\", \"Precision\": 1.0, \"Recall\": 0.9933333333333334, \"FScore\": 0.9965517241379309}, {\"nfrac\": 0.9, \"action\": \"Distribution\", \"Precision\": 1.0, \"Recall\": 1.0, \"FScore\": 1.0}, {\"nfrac\": 0.9, \"action\": \"Enhance\", \"Precision\": 1.0, \"Recall\": 1.0, \"FScore\": 1.0}, {\"nfrac\": 0.9, \"action\": \"Filter\", \"Precision\": 1.0, \"Recall\": 0.9466666666666667, \"FScore\": 0.9724137931034484}, {\"nfrac\": 0.9, \"action\": \"Occurrence\", \"Precision\": 1.0, \"Recall\": 1.0, \"FScore\": 1.0}, {\"nfrac\": 0.95, \"action\": \"Correlation\", \"Precision\": 1.0, \"Recall\": 1.0, \"FScore\": 1.0}, {\"nfrac\": 0.95, \"action\": \"Distribution\", \"Precision\": 1.0, \"Recall\": 1.0, \"FScore\": 1.0}, {\"nfrac\": 0.95, \"action\": \"Enhance\", \"Precision\": 1.0, \"Recall\": 1.0, \"FScore\": 1.0}, {\"nfrac\": 0.95, \"action\": \"Filter\", \"Precision\": 1.0, \"Recall\": 0.9333333333333333, \"FScore\": 0.9652709359605911}, {\"nfrac\": 0.95, \"action\": \"Occurrence\", \"Precision\": 1.0, \"Recall\": 1.0, \"FScore\": 1.0}, {\"nfrac\": 1.0, \"action\": \"Correlation\", \"Precision\": 1.0, \"Recall\": 1.0, \"FScore\": 1.0}, {\"nfrac\": 1.0, \"action\": \"Distribution\", \"Precision\": 1.0, \"Recall\": 1.0, \"FScore\": 1.0}, {\"nfrac\": 1.0, \"action\": \"Enhance\", \"Precision\": 1.0, \"Recall\": 1.0, \"FScore\": 1.0}, {\"nfrac\": 1.0, \"action\": \"Filter\", \"Precision\": 1.0, \"Recall\": 1.0, \"FScore\": 1.0}, {\"nfrac\": 1.0, \"action\": \"Occurrence\", \"Precision\": 1.0, \"Recall\": 1.0, \"FScore\": 1.0}]}}, {\"mode\": \"vega-lite\"});\n",
       "</script>"
      ],
      "text/plain": [
       "alt.Chart(...)"
      ]
     },
     "execution_count": 19,
     "metadata": {},
     "output_type": "execute_result"
    }
   ],
   "source": [
    "import altair as alt\n",
    "# df=pd.read_csv(f\"result/sampling_error_communities.csv\")\n",
    "df = trial_df \n",
    "df = df.groupby([\"nfrac\",\"action\"]).mean().reset_index()\n",
    "alt.Chart(df,title=\"Communities (10k rows)\").mark_line().encode(\n",
    "    x = alt.X(\"nfrac\",title=\"Fraction of dataset sampled\"),#scale=alt.Scale(type=\"log\")),\n",
    "    y = alt.Y(\"Recall\",scale=alt.Scale(domain=(0.20,1.01))),\n",
    "    color = \"action\"\n",
    ").interactive()"
   ]
  },
  {
   "cell_type": "code",
   "execution_count": null,
   "metadata": {},
   "outputs": [],
   "source": [
    "action_lst = [\"Occurrence\",\"Filter\",\"Correlation\",\"Distribution\",\"Enhance\"]\n",
    "trial = []\n",
    "\n",
    "for action in action_lst :\n",
    "    map1 = pkl.load(open(f\"tmp_communities100k/communities_gt_{action}.pkl\",'rb'))\n",
    "    for file in glob.glob(f\"tmp_communities100k/communities_nfrac*_{action}_*.pkl\"):\n",
    "        map2 = pkl.load(open(file,'rb'))\n",
    "        nfrac = float(file.split(\"/\")[1:][0].split(\"_\")[1][5:])\n",
    "        prf = compute_prf_between_vislists(map1,map2)\n",
    "        trial.append([nfrac, action, prf[0], prf[1], prf[2]])\n",
    "    # Inserting endpoints \n",
    "    trial.append([0,action, 0,0,0])\n",
    "    trial.append([1,action, 1,1,1])\n",
    "trial_df = pd.DataFrame(\n",
    "    trial,\n",
    "    columns=[\"nfrac\", \"action\", \"Precision\",\"Recall\",\"FScore\"],\n",
    ") "
   ]
  },
  {
   "cell_type": "code",
   "execution_count": 21,
   "metadata": {},
   "outputs": [],
   "source": [
    "action_lst = [\"Occurrence\",\"Filter\",\"Correlation\",\"Distribution\",\"Enhance\"]\n",
    "trial = []\n",
    "trial_range = np.linspace(0.05,0.95,19)\n",
    "N_repeat = 10\n",
    "for action in action_lst :\n",
    "    map1 = pkl.load(open(f\"tmp_communities100k/communities_gt_{action}.pkl\",'rb'))\n",
    "    for nfrac in trial_range:\n",
    "        seed_lst = np.arange(N_repeat)\n",
    "        for seed in seed_lst: \n",
    "            map2 = pkl.load(open(f\"tmp_communities100k/communities_nfrac{nfrac:.2f}_{action}_{seed}.pkl\",'rb'))\n",
    "            prf = compute_prf_between_vislists(map1,map2)\n",
    "            trial.append([nfrac, action, prf[0], prf[1], prf[2]])\n",
    "    # Inserting endpoints \n",
    "    trial.append([0,action, 0,0,0])\n",
    "    trial.append([1,action, 1,1,1])\n",
    "trial_df = pd.DataFrame(\n",
    "    trial,\n",
    "    columns=[\"nfrac\", \"action\", \"Precision\",\"Recall\",\"FScore\"],\n",
    ") "
   ]
  },
  {
   "cell_type": "code",
   "execution_count": 22,
   "metadata": {},
   "outputs": [
    {
     "data": {
      "text/html": [
       "\n",
       "<div id=\"altair-viz-28183d1af8d44f05b14e63e4bfca71cc\"></div>\n",
       "<script type=\"text/javascript\">\n",
       "  (function(spec, embedOpt){\n",
       "    let outputDiv = document.currentScript.previousElementSibling;\n",
       "    if (outputDiv.id !== \"altair-viz-28183d1af8d44f05b14e63e4bfca71cc\") {\n",
       "      outputDiv = document.getElementById(\"altair-viz-28183d1af8d44f05b14e63e4bfca71cc\");\n",
       "    }\n",
       "    const paths = {\n",
       "      \"vega\": \"https://cdn.jsdelivr.net/npm//vega@5?noext\",\n",
       "      \"vega-lib\": \"https://cdn.jsdelivr.net/npm//vega-lib?noext\",\n",
       "      \"vega-lite\": \"https://cdn.jsdelivr.net/npm//vega-lite@4.8.1?noext\",\n",
       "      \"vega-embed\": \"https://cdn.jsdelivr.net/npm//vega-embed@6?noext\",\n",
       "    };\n",
       "\n",
       "    function loadScript(lib) {\n",
       "      return new Promise(function(resolve, reject) {\n",
       "        var s = document.createElement('script');\n",
       "        s.src = paths[lib];\n",
       "        s.async = true;\n",
       "        s.onload = () => resolve(paths[lib]);\n",
       "        s.onerror = () => reject(`Error loading script: ${paths[lib]}`);\n",
       "        document.getElementsByTagName(\"head\")[0].appendChild(s);\n",
       "      });\n",
       "    }\n",
       "\n",
       "    function showError(err) {\n",
       "      outputDiv.innerHTML = `<div class=\"error\" style=\"color:red;\">${err}</div>`;\n",
       "      throw err;\n",
       "    }\n",
       "\n",
       "    function displayChart(vegaEmbed) {\n",
       "      vegaEmbed(outputDiv, spec, embedOpt)\n",
       "        .catch(err => showError(`Javascript Error: ${err.message}<br>This usually means there's a typo in your chart specification. See the javascript console for the full traceback.`));\n",
       "    }\n",
       "\n",
       "    if(typeof define === \"function\" && define.amd) {\n",
       "      requirejs.config({paths});\n",
       "      require([\"vega-embed\"], displayChart, err => showError(`Error loading script: ${err.message}`));\n",
       "    } else if (typeof vegaEmbed === \"function\") {\n",
       "      displayChart(vegaEmbed);\n",
       "    } else {\n",
       "      loadScript(\"vega\")\n",
       "        .then(() => loadScript(\"vega-lite\"))\n",
       "        .then(() => loadScript(\"vega-embed\"))\n",
       "        .catch(showError)\n",
       "        .then(() => displayChart(vegaEmbed));\n",
       "    }\n",
       "  })({\"config\": {\"view\": {\"continuousWidth\": 400, \"continuousHeight\": 300}}, \"data\": {\"name\": \"data-7e10775724f1781a36817a1e4377869d\"}, \"mark\": \"line\", \"encoding\": {\"color\": {\"type\": \"nominal\", \"field\": \"action\"}, \"x\": {\"type\": \"quantitative\", \"field\": \"nfrac\", \"title\": \"Fraction of dataset sampled\"}, \"y\": {\"type\": \"quantitative\", \"field\": \"Recall\", \"scale\": {\"domain\": [0, 1.01]}}}, \"selection\": {\"selector005\": {\"type\": \"interval\", \"bind\": \"scales\", \"encodings\": [\"x\", \"y\"]}}, \"title\": \"Communities (100k rows)\", \"$schema\": \"https://vega.github.io/schema/vega-lite/v4.8.1.json\", \"datasets\": {\"data-7e10775724f1781a36817a1e4377869d\": [{\"nfrac\": 0.0, \"action\": \"Correlation\", \"Precision\": 0.0, \"Recall\": 0.0, \"FScore\": 0.0}, {\"nfrac\": 0.0, \"action\": \"Distribution\", \"Precision\": 0.0, \"Recall\": 0.0, \"FScore\": 0.0}, {\"nfrac\": 0.0, \"action\": \"Enhance\", \"Precision\": 0.0, \"Recall\": 0.0, \"FScore\": 0.0}, {\"nfrac\": 0.0, \"action\": \"Filter\", \"Precision\": 0.0, \"Recall\": 0.0, \"FScore\": 0.0}, {\"nfrac\": 0.0, \"action\": \"Occurrence\", \"Precision\": 0.0, \"Recall\": 0.0, \"FScore\": 0.0}, {\"nfrac\": 0.05, \"action\": \"Correlation\", \"Precision\": 1.0, \"Recall\": 0.9600000000000002, \"FScore\": 0.9793103448275863}, {\"nfrac\": 0.05, \"action\": \"Distribution\", \"Precision\": 1.0, \"Recall\": 1.0, \"FScore\": 1.0}, {\"nfrac\": 0.05, \"action\": \"Enhance\", \"Precision\": 1.0, \"Recall\": 1.0, \"FScore\": 1.0}, {\"nfrac\": 0.05, \"action\": \"Filter\", \"Precision\": 1.0, \"Recall\": 0.9, \"FScore\": 0.9436794240242516}, {\"nfrac\": 0.05, \"action\": \"Occurrence\", \"Precision\": 1.0, \"Recall\": 0.9333333333333333, \"FScore\": 0.9655172413793103}, {\"nfrac\": 0.1, \"action\": \"Correlation\", \"Precision\": 1.0, \"Recall\": 0.9666666666666668, \"FScore\": 0.9827586206896551}, {\"nfrac\": 0.1, \"action\": \"Distribution\", \"Precision\": 1.0, \"Recall\": 0.9933333333333334, \"FScore\": 0.9965517241379309}, {\"nfrac\": 0.1, \"action\": \"Enhance\", \"Precision\": 1.0, \"Recall\": 1.0, \"FScore\": 1.0}, {\"nfrac\": 0.1, \"action\": \"Filter\", \"Precision\": 1.0, \"Recall\": 0.9466666666666667, \"FScore\": 0.9719211822660098}, {\"nfrac\": 0.1, \"action\": \"Occurrence\", \"Precision\": 1.0, \"Recall\": 0.9333333333333333, \"FScore\": 0.9655172413793103}, {\"nfrac\": 0.15, \"action\": \"Correlation\", \"Precision\": 1.0, \"Recall\": 0.9666666666666668, \"FScore\": 0.9827586206896551}, {\"nfrac\": 0.15, \"action\": \"Distribution\", \"Precision\": 1.0, \"Recall\": 1.0, \"FScore\": 1.0}, {\"nfrac\": 0.15, \"action\": \"Enhance\", \"Precision\": 1.0, \"Recall\": 1.0, \"FScore\": 1.0}, {\"nfrac\": 0.15, \"action\": \"Filter\", \"Precision\": 1.0, \"Recall\": 0.9600000000000002, \"FScore\": 0.9790640394088671}, {\"nfrac\": 0.15, \"action\": \"Occurrence\", \"Precision\": 1.0, \"Recall\": 0.9333333333333333, \"FScore\": 0.9655172413793103}, {\"nfrac\": 0.2, \"action\": \"Correlation\", \"Precision\": 1.0, \"Recall\": 0.9800000000000001, \"FScore\": 0.9896551724137931}, {\"nfrac\": 0.2, \"action\": \"Distribution\", \"Precision\": 1.0, \"Recall\": 1.0, \"FScore\": 1.0}, {\"nfrac\": 0.2, \"action\": \"Enhance\", \"Precision\": 1.0, \"Recall\": 1.0, \"FScore\": 1.0}, {\"nfrac\": 0.2, \"action\": \"Filter\", \"Precision\": 1.0, \"Recall\": 0.9600000000000002, \"FScore\": 0.9793103448275862}, {\"nfrac\": 0.2, \"action\": \"Occurrence\", \"Precision\": 1.0, \"Recall\": 0.9333333333333333, \"FScore\": 0.9655172413793103}, {\"nfrac\": 0.25, \"action\": \"Correlation\", \"Precision\": 1.0, \"Recall\": 0.9933333333333334, \"FScore\": 0.9965517241379309}, {\"nfrac\": 0.25, \"action\": \"Distribution\", \"Precision\": 1.0, \"Recall\": 1.0, \"FScore\": 1.0}, {\"nfrac\": 0.25, \"action\": \"Enhance\", \"Precision\": 1.0, \"Recall\": 1.0, \"FScore\": 1.0}, {\"nfrac\": 0.25, \"action\": \"Filter\", \"Precision\": 1.0, \"Recall\": 0.9533333333333335, \"FScore\": 0.9758620689655173}, {\"nfrac\": 0.25, \"action\": \"Occurrence\", \"Precision\": 1.0, \"Recall\": 0.9333333333333333, \"FScore\": 0.9655172413793103}, {\"nfrac\": 0.3, \"action\": \"Correlation\", \"Precision\": 1.0, \"Recall\": 0.9800000000000001, \"FScore\": 0.9896551724137932}, {\"nfrac\": 0.3, \"action\": \"Distribution\", \"Precision\": 1.0, \"Recall\": 1.0, \"FScore\": 1.0}, {\"nfrac\": 0.3, \"action\": \"Enhance\", \"Precision\": 1.0, \"Recall\": 1.0, \"FScore\": 1.0}, {\"nfrac\": 0.3, \"action\": \"Filter\", \"Precision\": 1.0, \"Recall\": 0.9733333333333334, \"FScore\": 0.9862068965517242}, {\"nfrac\": 0.3, \"action\": \"Occurrence\", \"Precision\": 1.0, \"Recall\": 0.9333333333333333, \"FScore\": 0.9655172413793103}, {\"nfrac\": 0.35, \"action\": \"Correlation\", \"Precision\": 1.0, \"Recall\": 0.9800000000000001, \"FScore\": 0.9896551724137932}, {\"nfrac\": 0.35, \"action\": \"Distribution\", \"Precision\": 1.0, \"Recall\": 1.0, \"FScore\": 1.0}, {\"nfrac\": 0.35, \"action\": \"Enhance\", \"Precision\": 1.0, \"Recall\": 1.0, \"FScore\": 1.0}, {\"nfrac\": 0.35, \"action\": \"Filter\", \"Precision\": 1.0, \"Recall\": 0.9733333333333334, \"FScore\": 0.9862068965517242}, {\"nfrac\": 0.35, \"action\": \"Occurrence\", \"Precision\": 1.0, \"Recall\": 0.9333333333333333, \"FScore\": 0.9655172413793103}, {\"nfrac\": 0.39999999999999997, \"action\": \"Correlation\", \"Precision\": 1.0, \"Recall\": 0.9866666666666667, \"FScore\": 0.993103448275862}, {\"nfrac\": 0.39999999999999997, \"action\": \"Distribution\", \"Precision\": 1.0, \"Recall\": 1.0, \"FScore\": 1.0}, {\"nfrac\": 0.39999999999999997, \"action\": \"Enhance\", \"Precision\": 1.0, \"Recall\": 1.0, \"FScore\": 1.0}, {\"nfrac\": 0.39999999999999997, \"action\": \"Filter\", \"Precision\": 1.0, \"Recall\": 0.9666666666666668, \"FScore\": 0.9827586206896551}, {\"nfrac\": 0.39999999999999997, \"action\": \"Occurrence\", \"Precision\": 1.0, \"Recall\": 0.9333333333333333, \"FScore\": 0.9655172413793103}, {\"nfrac\": 0.44999999999999996, \"action\": \"Correlation\", \"Precision\": 1.0, \"Recall\": 0.9866666666666667, \"FScore\": 0.993103448275862}, {\"nfrac\": 0.44999999999999996, \"action\": \"Distribution\", \"Precision\": 1.0, \"Recall\": 1.0, \"FScore\": 1.0}, {\"nfrac\": 0.44999999999999996, \"action\": \"Enhance\", \"Precision\": 1.0, \"Recall\": 1.0, \"FScore\": 1.0}, {\"nfrac\": 0.44999999999999996, \"action\": \"Filter\", \"Precision\": 1.0, \"Recall\": 0.9666666666666668, \"FScore\": 0.9827586206896551}, {\"nfrac\": 0.44999999999999996, \"action\": \"Occurrence\", \"Precision\": 1.0, \"Recall\": 0.9400000000000002, \"FScore\": 0.9689655172413794}, {\"nfrac\": 0.49999999999999994, \"action\": \"Correlation\", \"Precision\": 1.0, \"Recall\": 0.9933333333333334, \"FScore\": 0.9965517241379309}, {\"nfrac\": 0.49999999999999994, \"action\": \"Distribution\", \"Precision\": 1.0, \"Recall\": 1.0, \"FScore\": 1.0}, {\"nfrac\": 0.49999999999999994, \"action\": \"Enhance\", \"Precision\": 1.0, \"Recall\": 1.0, \"FScore\": 1.0}, {\"nfrac\": 0.49999999999999994, \"action\": \"Filter\", \"Precision\": 1.0, \"Recall\": 0.9666666666666668, \"FScore\": 0.9827586206896551}, {\"nfrac\": 0.49999999999999994, \"action\": \"Occurrence\", \"Precision\": 1.0, \"Recall\": 0.9333333333333333, \"FScore\": 0.9655172413793103}, {\"nfrac\": 0.5499999999999999, \"action\": \"Correlation\", \"Precision\": 1.0, \"Recall\": 0.9800000000000001, \"FScore\": 0.9896551724137931}, {\"nfrac\": 0.5499999999999999, \"action\": \"Distribution\", \"Precision\": 1.0, \"Recall\": 1.0, \"FScore\": 1.0}, {\"nfrac\": 0.5499999999999999, \"action\": \"Enhance\", \"Precision\": 1.0, \"Recall\": 1.0, \"FScore\": 1.0}, {\"nfrac\": 0.5499999999999999, \"action\": \"Filter\", \"Precision\": 1.0, \"Recall\": 0.9666666666666668, \"FScore\": 0.9827586206896551}, {\"nfrac\": 0.5499999999999999, \"action\": \"Occurrence\", \"Precision\": 1.0, \"Recall\": 0.9400000000000001, \"FScore\": 0.9689655172413791}, {\"nfrac\": 0.6, \"action\": \"Correlation\", \"Precision\": 1.0, \"Recall\": 0.9866666666666667, \"FScore\": 0.993103448275862}, {\"nfrac\": 0.6, \"action\": \"Distribution\", \"Precision\": 1.0, \"Recall\": 1.0, \"FScore\": 1.0}, {\"nfrac\": 0.6, \"action\": \"Enhance\", \"Precision\": 1.0, \"Recall\": 1.0, \"FScore\": 1.0}, {\"nfrac\": 0.6, \"action\": \"Filter\", \"Precision\": 1.0, \"Recall\": 0.9666666666666668, \"FScore\": 0.9827586206896551}, {\"nfrac\": 0.6, \"action\": \"Occurrence\", \"Precision\": 1.0, \"Recall\": 0.9400000000000001, \"FScore\": 0.9689655172413791}, {\"nfrac\": 0.65, \"action\": \"Correlation\", \"Precision\": 1.0, \"Recall\": 0.9933333333333334, \"FScore\": 0.9965517241379309}, {\"nfrac\": 0.65, \"action\": \"Distribution\", \"Precision\": 1.0, \"Recall\": 1.0, \"FScore\": 1.0}, {\"nfrac\": 0.65, \"action\": \"Enhance\", \"Precision\": 1.0, \"Recall\": 1.0, \"FScore\": 1.0}, {\"nfrac\": 0.65, \"action\": \"Filter\", \"Precision\": 1.0, \"Recall\": 0.9533333333333335, \"FScore\": 0.9758620689655173}, {\"nfrac\": 0.65, \"action\": \"Occurrence\", \"Precision\": 1.0, \"Recall\": 0.9400000000000001, \"FScore\": 0.9689655172413791}, {\"nfrac\": 0.7, \"action\": \"Correlation\", \"Precision\": 1.0, \"Recall\": 0.9933333333333334, \"FScore\": 0.9965517241379309}, {\"nfrac\": 0.7, \"action\": \"Distribution\", \"Precision\": 1.0, \"Recall\": 1.0, \"FScore\": 1.0}, {\"nfrac\": 0.7, \"action\": \"Enhance\", \"Precision\": 1.0, \"Recall\": 1.0, \"FScore\": 1.0}, {\"nfrac\": 0.7, \"action\": \"Filter\", \"Precision\": 1.0, \"Recall\": 0.9600000000000002, \"FScore\": 0.9793103448275862}, {\"nfrac\": 0.7, \"action\": \"Occurrence\", \"Precision\": 1.0, \"Recall\": 0.9400000000000001, \"FScore\": 0.9689655172413791}, {\"nfrac\": 0.75, \"action\": \"Correlation\", \"Precision\": 1.0, \"Recall\": 0.9933333333333334, \"FScore\": 0.9965517241379309}, {\"nfrac\": 0.75, \"action\": \"Distribution\", \"Precision\": 1.0, \"Recall\": 1.0, \"FScore\": 1.0}, {\"nfrac\": 0.75, \"action\": \"Enhance\", \"Precision\": 1.0, \"Recall\": 1.0, \"FScore\": 1.0}, {\"nfrac\": 0.75, \"action\": \"Filter\", \"Precision\": 1.0, \"Recall\": 0.9400000000000001, \"FScore\": 0.9689655172413791}, {\"nfrac\": 0.75, \"action\": \"Occurrence\", \"Precision\": 1.0, \"Recall\": 0.9400000000000001, \"FScore\": 0.9689655172413791}, {\"nfrac\": 0.7999999999999999, \"action\": \"Correlation\", \"Precision\": 1.0, \"Recall\": 0.9933333333333334, \"FScore\": 0.9965517241379309}, {\"nfrac\": 0.7999999999999999, \"action\": \"Distribution\", \"Precision\": 1.0, \"Recall\": 1.0, \"FScore\": 1.0}, {\"nfrac\": 0.7999999999999999, \"action\": \"Enhance\", \"Precision\": 1.0, \"Recall\": 1.0, \"FScore\": 1.0}, {\"nfrac\": 0.7999999999999999, \"action\": \"Filter\", \"Precision\": 1.0, \"Recall\": 0.9733333333333334, \"FScore\": 0.9862068965517242}, {\"nfrac\": 0.7999999999999999, \"action\": \"Occurrence\", \"Precision\": 1.0, \"Recall\": 0.9533333333333335, \"FScore\": 0.9758620689655173}, {\"nfrac\": 0.85, \"action\": \"Correlation\", \"Precision\": 1.0, \"Recall\": 0.9866666666666667, \"FScore\": 0.993103448275862}, {\"nfrac\": 0.85, \"action\": \"Distribution\", \"Precision\": 1.0, \"Recall\": 1.0, \"FScore\": 1.0}, {\"nfrac\": 0.85, \"action\": \"Enhance\", \"Precision\": 1.0, \"Recall\": 1.0, \"FScore\": 1.0}, {\"nfrac\": 0.85, \"action\": \"Filter\", \"Precision\": 1.0, \"Recall\": 0.9400000000000001, \"FScore\": 0.9689655172413791}, {\"nfrac\": 0.85, \"action\": \"Occurrence\", \"Precision\": 1.0, \"Recall\": 0.9466666666666669, \"FScore\": 0.9724137931034482}, {\"nfrac\": 0.9, \"action\": \"Correlation\", \"Precision\": 1.0, \"Recall\": 0.9933333333333334, \"FScore\": 0.9965517241379309}, {\"nfrac\": 0.9, \"action\": \"Distribution\", \"Precision\": 1.0, \"Recall\": 1.0, \"FScore\": 1.0}, {\"nfrac\": 0.9, \"action\": \"Enhance\", \"Precision\": 1.0, \"Recall\": 1.0, \"FScore\": 1.0}, {\"nfrac\": 0.9, \"action\": \"Filter\", \"Precision\": 1.0, \"Recall\": 0.9800000000000001, \"FScore\": 0.9896551724137932}, {\"nfrac\": 0.9, \"action\": \"Occurrence\", \"Precision\": 1.0, \"Recall\": 0.9533333333333335, \"FScore\": 0.9758620689655173}, {\"nfrac\": 0.95, \"action\": \"Correlation\", \"Precision\": 1.0, \"Recall\": 1.0, \"FScore\": 1.0}, {\"nfrac\": 0.95, \"action\": \"Distribution\", \"Precision\": 1.0, \"Recall\": 1.0, \"FScore\": 1.0}, {\"nfrac\": 0.95, \"action\": \"Enhance\", \"Precision\": 1.0, \"Recall\": 1.0, \"FScore\": 1.0}, {\"nfrac\": 0.95, \"action\": \"Filter\", \"Precision\": 1.0, \"Recall\": 0.9666666666666668, \"FScore\": 0.9827586206896551}, {\"nfrac\": 0.95, \"action\": \"Occurrence\", \"Precision\": 1.0, \"Recall\": 0.9600000000000002, \"FScore\": 0.9793103448275862}, {\"nfrac\": 1.0, \"action\": \"Correlation\", \"Precision\": 1.0, \"Recall\": 1.0, \"FScore\": 1.0}, {\"nfrac\": 1.0, \"action\": \"Distribution\", \"Precision\": 1.0, \"Recall\": 1.0, \"FScore\": 1.0}, {\"nfrac\": 1.0, \"action\": \"Enhance\", \"Precision\": 1.0, \"Recall\": 1.0, \"FScore\": 1.0}, {\"nfrac\": 1.0, \"action\": \"Filter\", \"Precision\": 1.0, \"Recall\": 1.0, \"FScore\": 1.0}, {\"nfrac\": 1.0, \"action\": \"Occurrence\", \"Precision\": 1.0, \"Recall\": 1.0, \"FScore\": 1.0}]}}, {\"mode\": \"vega-lite\"});\n",
       "</script>"
      ],
      "text/plain": [
       "alt.Chart(...)"
      ]
     },
     "execution_count": 22,
     "metadata": {},
     "output_type": "execute_result"
    }
   ],
   "source": [
    "import altair as alt\n",
    "# df=pd.read_csv(f\"result/sampling_error_communities.csv\")\n",
    "df = trial_df \n",
    "df = df.groupby([\"nfrac\",\"action\"]).mean().reset_index()\n",
    "alt.Chart(df,title=\"Communities (100k rows)\").mark_line().encode(\n",
    "    x = alt.X(\"nfrac\",title=\"Fraction of dataset sampled\"),#scale=alt.Scale(type=\"log\")),\n",
    "    y = alt.Y(\"Recall\",scale=alt.Scale(domain=(0,1.01))),\n",
    "    color = \"action\"\n",
    ").interactive()"
   ]
  },
  {
   "cell_type": "code",
   "execution_count": 34,
   "metadata": {},
   "outputs": [],
   "source": [
    "action_lst = [\"Occurrence\",\"Filter\",\"Correlation\",\"Distribution\",\"Enhance\"]\n",
    "trial = []\n",
    "trial_range = np.linspace(0.05,0.95,9)\n",
    "N_repeat = 2\n",
    "for action in action_lst :\n",
    "    map1 = pkl.load(open(f\"tmp_communities5000/communities_gt_{action}.pkl\",'rb'))\n",
    "    for nfrac in trial_range:\n",
    "        seed_lst = np.arange(N_repeat)\n",
    "        for seed in seed_lst: \n",
    "            map2 = pkl.load(open(f\"tmp_communities5000/communities_nfrac{nfrac:.2f}_{action}_{seed}.pkl\",'rb'))\n",
    "            prf = compute_prf_between_vislists(map1,map2)\n",
    "            trial.append([nfrac, action, prf[0], prf[1], prf[2]])\n",
    "    # Inserting endpoints \n",
    "    trial.append([0,action, 0,0,0])\n",
    "    trial.append([1,action, 1,1,1])\n",
    "trial_df = pd.DataFrame(\n",
    "    trial,\n",
    "    columns=[\"nfrac\", \"action\", \"Precision\",\"Recall\",\"FScore\"],\n",
    ") "
   ]
  },
  {
   "cell_type": "code",
   "execution_count": 35,
   "metadata": {},
   "outputs": [
    {
     "data": {
      "text/html": [
       "\n",
       "<div id=\"altair-viz-7fc07461849a4758b54810a60c8341b3\"></div>\n",
       "<script type=\"text/javascript\">\n",
       "  (function(spec, embedOpt){\n",
       "    let outputDiv = document.currentScript.previousElementSibling;\n",
       "    if (outputDiv.id !== \"altair-viz-7fc07461849a4758b54810a60c8341b3\") {\n",
       "      outputDiv = document.getElementById(\"altair-viz-7fc07461849a4758b54810a60c8341b3\");\n",
       "    }\n",
       "    const paths = {\n",
       "      \"vega\": \"https://cdn.jsdelivr.net/npm//vega@5?noext\",\n",
       "      \"vega-lib\": \"https://cdn.jsdelivr.net/npm//vega-lib?noext\",\n",
       "      \"vega-lite\": \"https://cdn.jsdelivr.net/npm//vega-lite@4.8.1?noext\",\n",
       "      \"vega-embed\": \"https://cdn.jsdelivr.net/npm//vega-embed@6?noext\",\n",
       "    };\n",
       "\n",
       "    function loadScript(lib) {\n",
       "      return new Promise(function(resolve, reject) {\n",
       "        var s = document.createElement('script');\n",
       "        s.src = paths[lib];\n",
       "        s.async = true;\n",
       "        s.onload = () => resolve(paths[lib]);\n",
       "        s.onerror = () => reject(`Error loading script: ${paths[lib]}`);\n",
       "        document.getElementsByTagName(\"head\")[0].appendChild(s);\n",
       "      });\n",
       "    }\n",
       "\n",
       "    function showError(err) {\n",
       "      outputDiv.innerHTML = `<div class=\"error\" style=\"color:red;\">${err}</div>`;\n",
       "      throw err;\n",
       "    }\n",
       "\n",
       "    function displayChart(vegaEmbed) {\n",
       "      vegaEmbed(outputDiv, spec, embedOpt)\n",
       "        .catch(err => showError(`Javascript Error: ${err.message}<br>This usually means there's a typo in your chart specification. See the javascript console for the full traceback.`));\n",
       "    }\n",
       "\n",
       "    if(typeof define === \"function\" && define.amd) {\n",
       "      requirejs.config({paths});\n",
       "      require([\"vega-embed\"], displayChart, err => showError(`Error loading script: ${err.message}`));\n",
       "    } else if (typeof vegaEmbed === \"function\") {\n",
       "      displayChart(vegaEmbed);\n",
       "    } else {\n",
       "      loadScript(\"vega\")\n",
       "        .then(() => loadScript(\"vega-lite\"))\n",
       "        .then(() => loadScript(\"vega-embed\"))\n",
       "        .catch(showError)\n",
       "        .then(() => displayChart(vegaEmbed));\n",
       "    }\n",
       "  })({\"config\": {\"view\": {\"continuousWidth\": 400, \"continuousHeight\": 300}}, \"data\": {\"name\": \"data-9c7943e8c4fca1be0a0115903719dd22\"}, \"mark\": \"line\", \"encoding\": {\"color\": {\"type\": \"nominal\", \"field\": \"action\"}, \"x\": {\"type\": \"quantitative\", \"field\": \"nfrac\", \"title\": \"Fraction of dataset sampled\"}, \"y\": {\"type\": \"quantitative\", \"field\": \"Recall\", \"scale\": {\"domain\": [0, 1.01]}}}, \"selection\": {\"selector009\": {\"type\": \"interval\", \"bind\": \"scales\", \"encodings\": [\"x\", \"y\"]}}, \"title\": \"Communities (5k rows)\", \"$schema\": \"https://vega.github.io/schema/vega-lite/v4.8.1.json\", \"datasets\": {\"data-9c7943e8c4fca1be0a0115903719dd22\": [{\"nfrac\": 0.0, \"action\": \"Correlation\", \"Precision\": 0.0, \"Recall\": 0.0, \"FScore\": 0.0}, {\"nfrac\": 0.0, \"action\": \"Distribution\", \"Precision\": 0.0, \"Recall\": 0.0, \"FScore\": 0.0}, {\"nfrac\": 0.0, \"action\": \"Enhance\", \"Precision\": 0.0, \"Recall\": 0.0, \"FScore\": 0.0}, {\"nfrac\": 0.0, \"action\": \"Filter\", \"Precision\": 0.0, \"Recall\": 0.0, \"FScore\": 0.0}, {\"nfrac\": 0.0, \"action\": \"Occurrence\", \"Precision\": 0.0, \"Recall\": 0.0, \"FScore\": 0.0}, {\"nfrac\": 0.05, \"action\": \"Correlation\", \"Precision\": 1.0, \"Recall\": 0.9666666666666667, \"FScore\": 0.9827586206896552}, {\"nfrac\": 0.05, \"action\": \"Distribution\", \"Precision\": 1.0, \"Recall\": 0.9333333333333333, \"FScore\": 0.9642857142857143}, {\"nfrac\": 0.05, \"action\": \"Enhance\", \"Precision\": 1.0, \"Recall\": 0.9666666666666667, \"FScore\": 0.9827586206896552}, {\"nfrac\": 0.05, \"action\": \"Filter\", \"Precision\": 1.0, \"Recall\": 0.13333333333333333, \"FScore\": 0.23529411764705882}, {\"nfrac\": 0.05, \"action\": \"Occurrence\", \"Precision\": 1.0, \"Recall\": 0.9, \"FScore\": 0.9470443349753694}, {\"nfrac\": 0.16249999999999998, \"action\": \"Correlation\", \"Precision\": 1.0, \"Recall\": 0.9, \"FScore\": 0.9470443349753694}, {\"nfrac\": 0.16249999999999998, \"action\": \"Distribution\", \"Precision\": 1.0, \"Recall\": 0.9666666666666667, \"FScore\": 0.9827586206896552}, {\"nfrac\": 0.16249999999999998, \"action\": \"Enhance\", \"Precision\": 1.0, \"Recall\": 1.0, \"FScore\": 1.0}, {\"nfrac\": 0.16249999999999998, \"action\": \"Filter\", \"Precision\": 1.0, \"Recall\": 0.43333333333333335, \"FScore\": 0.6038961038961039}, {\"nfrac\": 0.16249999999999998, \"action\": \"Occurrence\", \"Precision\": 1.0, \"Recall\": 0.9666666666666667, \"FScore\": 0.9827586206896552}, {\"nfrac\": 0.27499999999999997, \"action\": \"Correlation\", \"Precision\": 1.0, \"Recall\": 0.9666666666666667, \"FScore\": 0.9827586206896552}, {\"nfrac\": 0.27499999999999997, \"action\": \"Distribution\", \"Precision\": 1.0, \"Recall\": 0.9333333333333333, \"FScore\": 0.9642857142857143}, {\"nfrac\": 0.27499999999999997, \"action\": \"Enhance\", \"Precision\": 1.0, \"Recall\": 1.0, \"FScore\": 1.0}, {\"nfrac\": 0.27499999999999997, \"action\": \"Filter\", \"Precision\": 1.0, \"Recall\": 0.6, \"FScore\": 0.7499999999999999}, {\"nfrac\": 0.27499999999999997, \"action\": \"Occurrence\", \"Precision\": 1.0, \"Recall\": 0.9666666666666667, \"FScore\": 0.9827586206896552}, {\"nfrac\": 0.38749999999999996, \"action\": \"Correlation\", \"Precision\": 1.0, \"Recall\": 1.0, \"FScore\": 1.0}, {\"nfrac\": 0.38749999999999996, \"action\": \"Distribution\", \"Precision\": 1.0, \"Recall\": 0.9666666666666667, \"FScore\": 0.9827586206896552}, {\"nfrac\": 0.38749999999999996, \"action\": \"Enhance\", \"Precision\": 1.0, \"Recall\": 1.0, \"FScore\": 1.0}, {\"nfrac\": 0.38749999999999996, \"action\": \"Filter\", \"Precision\": 1.0, \"Recall\": 0.7, \"FScore\": 0.823076923076923}, {\"nfrac\": 0.38749999999999996, \"action\": \"Occurrence\", \"Precision\": 1.0, \"Recall\": 0.9666666666666667, \"FScore\": 0.9827586206896552}, {\"nfrac\": 0.49999999999999994, \"action\": \"Correlation\", \"Precision\": 1.0, \"Recall\": 1.0, \"FScore\": 1.0}, {\"nfrac\": 0.49999999999999994, \"action\": \"Distribution\", \"Precision\": 1.0, \"Recall\": 0.9666666666666667, \"FScore\": 0.9827586206896552}, {\"nfrac\": 0.49999999999999994, \"action\": \"Enhance\", \"Precision\": 1.0, \"Recall\": 1.0, \"FScore\": 1.0}, {\"nfrac\": 0.49999999999999994, \"action\": \"Filter\", \"Precision\": 1.0, \"Recall\": 0.6666666666666666, \"FScore\": 0.8}, {\"nfrac\": 0.49999999999999994, \"action\": \"Occurrence\", \"Precision\": 1.0, \"Recall\": 1.0, \"FScore\": 1.0}, {\"nfrac\": 0.6125, \"action\": \"Correlation\", \"Precision\": 1.0, \"Recall\": 1.0, \"FScore\": 1.0}, {\"nfrac\": 0.6125, \"action\": \"Distribution\", \"Precision\": 1.0, \"Recall\": 0.9333333333333333, \"FScore\": 0.9655172413793104}, {\"nfrac\": 0.6125, \"action\": \"Enhance\", \"Precision\": 1.0, \"Recall\": 1.0, \"FScore\": 1.0}, {\"nfrac\": 0.6125, \"action\": \"Filter\", \"Precision\": 1.0, \"Recall\": 0.8, \"FScore\": 0.8873626373626373}, {\"nfrac\": 0.6125, \"action\": \"Occurrence\", \"Precision\": 1.0, \"Recall\": 1.0, \"FScore\": 1.0}, {\"nfrac\": 0.725, \"action\": \"Correlation\", \"Precision\": 1.0, \"Recall\": 1.0, \"FScore\": 1.0}, {\"nfrac\": 0.725, \"action\": \"Distribution\", \"Precision\": 1.0, \"Recall\": 0.9666666666666667, \"FScore\": 0.9827586206896552}, {\"nfrac\": 0.725, \"action\": \"Enhance\", \"Precision\": 1.0, \"Recall\": 1.0, \"FScore\": 1.0}, {\"nfrac\": 0.725, \"action\": \"Filter\", \"Precision\": 1.0, \"Recall\": 0.8, \"FScore\": 0.8827586206896552}, {\"nfrac\": 0.725, \"action\": \"Occurrence\", \"Precision\": 1.0, \"Recall\": 1.0, \"FScore\": 1.0}, {\"nfrac\": 0.8374999999999999, \"action\": \"Correlation\", \"Precision\": 1.0, \"Recall\": 1.0, \"FScore\": 1.0}, {\"nfrac\": 0.8374999999999999, \"action\": \"Distribution\", \"Precision\": 1.0, \"Recall\": 1.0, \"FScore\": 1.0}, {\"nfrac\": 0.8374999999999999, \"action\": \"Enhance\", \"Precision\": 1.0, \"Recall\": 1.0, \"FScore\": 1.0}, {\"nfrac\": 0.8374999999999999, \"action\": \"Filter\", \"Precision\": 1.0, \"Recall\": 0.9333333333333333, \"FScore\": 0.9655172413793104}, {\"nfrac\": 0.8374999999999999, \"action\": \"Occurrence\", \"Precision\": 1.0, \"Recall\": 1.0, \"FScore\": 1.0}, {\"nfrac\": 0.95, \"action\": \"Correlation\", \"Precision\": 1.0, \"Recall\": 1.0, \"FScore\": 1.0}, {\"nfrac\": 0.95, \"action\": \"Distribution\", \"Precision\": 1.0, \"Recall\": 1.0, \"FScore\": 1.0}, {\"nfrac\": 0.95, \"action\": \"Enhance\", \"Precision\": 1.0, \"Recall\": 1.0, \"FScore\": 1.0}, {\"nfrac\": 0.95, \"action\": \"Filter\", \"Precision\": 1.0, \"Recall\": 0.9333333333333333, \"FScore\": 0.9655172413793104}, {\"nfrac\": 0.95, \"action\": \"Occurrence\", \"Precision\": 1.0, \"Recall\": 1.0, \"FScore\": 1.0}, {\"nfrac\": 1.0, \"action\": \"Correlation\", \"Precision\": 1.0, \"Recall\": 1.0, \"FScore\": 1.0}, {\"nfrac\": 1.0, \"action\": \"Distribution\", \"Precision\": 1.0, \"Recall\": 1.0, \"FScore\": 1.0}, {\"nfrac\": 1.0, \"action\": \"Enhance\", \"Precision\": 1.0, \"Recall\": 1.0, \"FScore\": 1.0}, {\"nfrac\": 1.0, \"action\": \"Filter\", \"Precision\": 1.0, \"Recall\": 1.0, \"FScore\": 1.0}, {\"nfrac\": 1.0, \"action\": \"Occurrence\", \"Precision\": 1.0, \"Recall\": 1.0, \"FScore\": 1.0}]}}, {\"mode\": \"vega-lite\"});\n",
       "</script>"
      ],
      "text/plain": [
       "alt.Chart(...)"
      ]
     },
     "execution_count": 35,
     "metadata": {},
     "output_type": "execute_result"
    }
   ],
   "source": [
    "df = trial_df \n",
    "df = df.groupby([\"nfrac\",\"action\"]).mean().reset_index()\n",
    "alt.Chart(df,title=\"Communities (5k rows)\").mark_line().encode(\n",
    "    x = alt.X(\"nfrac\",title=\"Fraction of dataset sampled\"),#scale=alt.Scale(type=\"log\")),\n",
    "    y = alt.Y(\"Recall\",scale=alt.Scale(domain=(0,1.01))),\n",
    "    color = \"action\"\n",
    ").interactive()"
   ]
  },
  {
   "cell_type": "code",
   "execution_count": 36,
   "metadata": {},
   "outputs": [],
   "source": [
    "action_lst = [\"Occurrence\",\"Filter\",\"Correlation\",\"Distribution\",\"Enhance\"]\n",
    "trial = []\n",
    "trial_range = np.linspace(0.05,0.95,9)\n",
    "N_repeat = 2\n",
    "for action in action_lst :\n",
    "    map1 = pkl.load(open(f\"tmp_communities50000/communities_gt_{action}.pkl\",'rb'))\n",
    "    for nfrac in trial_range:\n",
    "        seed_lst = np.arange(N_repeat)\n",
    "        for seed in seed_lst: \n",
    "            map2 = pkl.load(open(f\"tmp_communities50000/communities_nfrac{nfrac:.2f}_{action}_{seed}.pkl\",'rb'))\n",
    "            prf = compute_prf_between_vislists(map1,map2)\n",
    "            trial.append([nfrac, action, prf[0], prf[1], prf[2]])\n",
    "    # Inserting endpoints \n",
    "    trial.append([0,action, 0,0,0])\n",
    "    trial.append([1,action, 1,1,1])\n",
    "trial_df = pd.DataFrame(\n",
    "    trial,\n",
    "    columns=[\"nfrac\", \"action\", \"Precision\",\"Recall\",\"FScore\"],\n",
    ") "
   ]
  },
  {
   "cell_type": "code",
   "execution_count": 37,
   "metadata": {},
   "outputs": [
    {
     "data": {
      "text/html": [
       "\n",
       "<div id=\"altair-viz-f2b81505d0f946928dbeba38da89a904\"></div>\n",
       "<script type=\"text/javascript\">\n",
       "  (function(spec, embedOpt){\n",
       "    let outputDiv = document.currentScript.previousElementSibling;\n",
       "    if (outputDiv.id !== \"altair-viz-f2b81505d0f946928dbeba38da89a904\") {\n",
       "      outputDiv = document.getElementById(\"altair-viz-f2b81505d0f946928dbeba38da89a904\");\n",
       "    }\n",
       "    const paths = {\n",
       "      \"vega\": \"https://cdn.jsdelivr.net/npm//vega@5?noext\",\n",
       "      \"vega-lib\": \"https://cdn.jsdelivr.net/npm//vega-lib?noext\",\n",
       "      \"vega-lite\": \"https://cdn.jsdelivr.net/npm//vega-lite@4.8.1?noext\",\n",
       "      \"vega-embed\": \"https://cdn.jsdelivr.net/npm//vega-embed@6?noext\",\n",
       "    };\n",
       "\n",
       "    function loadScript(lib) {\n",
       "      return new Promise(function(resolve, reject) {\n",
       "        var s = document.createElement('script');\n",
       "        s.src = paths[lib];\n",
       "        s.async = true;\n",
       "        s.onload = () => resolve(paths[lib]);\n",
       "        s.onerror = () => reject(`Error loading script: ${paths[lib]}`);\n",
       "        document.getElementsByTagName(\"head\")[0].appendChild(s);\n",
       "      });\n",
       "    }\n",
       "\n",
       "    function showError(err) {\n",
       "      outputDiv.innerHTML = `<div class=\"error\" style=\"color:red;\">${err}</div>`;\n",
       "      throw err;\n",
       "    }\n",
       "\n",
       "    function displayChart(vegaEmbed) {\n",
       "      vegaEmbed(outputDiv, spec, embedOpt)\n",
       "        .catch(err => showError(`Javascript Error: ${err.message}<br>This usually means there's a typo in your chart specification. See the javascript console for the full traceback.`));\n",
       "    }\n",
       "\n",
       "    if(typeof define === \"function\" && define.amd) {\n",
       "      requirejs.config({paths});\n",
       "      require([\"vega-embed\"], displayChart, err => showError(`Error loading script: ${err.message}`));\n",
       "    } else if (typeof vegaEmbed === \"function\") {\n",
       "      displayChart(vegaEmbed);\n",
       "    } else {\n",
       "      loadScript(\"vega\")\n",
       "        .then(() => loadScript(\"vega-lite\"))\n",
       "        .then(() => loadScript(\"vega-embed\"))\n",
       "        .catch(showError)\n",
       "        .then(() => displayChart(vegaEmbed));\n",
       "    }\n",
       "  })({\"config\": {\"view\": {\"continuousWidth\": 400, \"continuousHeight\": 300}}, \"data\": {\"name\": \"data-a6e5227f0e281d24aa146bbeeea48a80\"}, \"mark\": \"line\", \"encoding\": {\"color\": {\"type\": \"nominal\", \"field\": \"action\"}, \"x\": {\"type\": \"quantitative\", \"field\": \"nfrac\", \"title\": \"Fraction of dataset sampled\"}, \"y\": {\"type\": \"quantitative\", \"field\": \"Recall\", \"scale\": {\"domain\": [0, 1.01]}}}, \"selection\": {\"selector010\": {\"type\": \"interval\", \"bind\": \"scales\", \"encodings\": [\"x\", \"y\"]}}, \"title\": \"Communities (50k rows)\", \"$schema\": \"https://vega.github.io/schema/vega-lite/v4.8.1.json\", \"datasets\": {\"data-a6e5227f0e281d24aa146bbeeea48a80\": [{\"nfrac\": 0.0, \"action\": \"Correlation\", \"Precision\": 0.0, \"Recall\": 0.0, \"FScore\": 0.0}, {\"nfrac\": 0.0, \"action\": \"Distribution\", \"Precision\": 0.0, \"Recall\": 0.0, \"FScore\": 0.0}, {\"nfrac\": 0.0, \"action\": \"Enhance\", \"Precision\": 0.0, \"Recall\": 0.0, \"FScore\": 0.0}, {\"nfrac\": 0.0, \"action\": \"Filter\", \"Precision\": 0.0, \"Recall\": 0.0, \"FScore\": 0.0}, {\"nfrac\": 0.0, \"action\": \"Occurrence\", \"Precision\": 0.0, \"Recall\": 0.0, \"FScore\": 0.0}, {\"nfrac\": 0.05, \"action\": \"Correlation\", \"Precision\": 1.0, \"Recall\": 1.0, \"FScore\": 1.0}, {\"nfrac\": 0.05, \"action\": \"Distribution\", \"Precision\": 1.0, \"Recall\": 0.9666666666666667, \"FScore\": 0.9827586206896552}, {\"nfrac\": 0.05, \"action\": \"Enhance\", \"Precision\": 1.0, \"Recall\": 1.0, \"FScore\": 1.0}, {\"nfrac\": 0.05, \"action\": \"Filter\", \"Precision\": 1.0, \"Recall\": 0.6333333333333333, \"FScore\": 0.7749999999999999}, {\"nfrac\": 0.05, \"action\": \"Occurrence\", \"Precision\": 1.0, \"Recall\": 0.9333333333333333, \"FScore\": 0.9655172413793104}, {\"nfrac\": 0.16249999999999998, \"action\": \"Correlation\", \"Precision\": 1.0, \"Recall\": 1.0, \"FScore\": 1.0}, {\"nfrac\": 0.16249999999999998, \"action\": \"Distribution\", \"Precision\": 1.0, \"Recall\": 1.0, \"FScore\": 1.0}, {\"nfrac\": 0.16249999999999998, \"action\": \"Enhance\", \"Precision\": 1.0, \"Recall\": 1.0, \"FScore\": 1.0}, {\"nfrac\": 0.16249999999999998, \"action\": \"Filter\", \"Precision\": 1.0, \"Recall\": 0.9333333333333333, \"FScore\": 0.9655172413793104}, {\"nfrac\": 0.16249999999999998, \"action\": \"Occurrence\", \"Precision\": 1.0, \"Recall\": 0.9333333333333333, \"FScore\": 0.9655172413793104}, {\"nfrac\": 0.27499999999999997, \"action\": \"Correlation\", \"Precision\": 1.0, \"Recall\": 1.0, \"FScore\": 1.0}, {\"nfrac\": 0.27499999999999997, \"action\": \"Distribution\", \"Precision\": 1.0, \"Recall\": 1.0, \"FScore\": 1.0}, {\"nfrac\": 0.27499999999999997, \"action\": \"Enhance\", \"Precision\": 1.0, \"Recall\": 1.0, \"FScore\": 1.0}, {\"nfrac\": 0.27499999999999997, \"action\": \"Filter\", \"Precision\": 1.0, \"Recall\": 0.9333333333333333, \"FScore\": 0.9655172413793104}, {\"nfrac\": 0.27499999999999997, \"action\": \"Occurrence\", \"Precision\": 1.0, \"Recall\": 0.9333333333333333, \"FScore\": 0.9655172413793104}, {\"nfrac\": 0.38749999999999996, \"action\": \"Correlation\", \"Precision\": 1.0, \"Recall\": 1.0, \"FScore\": 1.0}, {\"nfrac\": 0.38749999999999996, \"action\": \"Distribution\", \"Precision\": 1.0, \"Recall\": 1.0, \"FScore\": 1.0}, {\"nfrac\": 0.38749999999999996, \"action\": \"Enhance\", \"Precision\": 1.0, \"Recall\": 1.0, \"FScore\": 1.0}, {\"nfrac\": 0.38749999999999996, \"action\": \"Filter\", \"Precision\": 1.0, \"Recall\": 0.9333333333333333, \"FScore\": 0.9655172413793104}, {\"nfrac\": 0.38749999999999996, \"action\": \"Occurrence\", \"Precision\": 1.0, \"Recall\": 0.9333333333333333, \"FScore\": 0.9655172413793104}, {\"nfrac\": 0.49999999999999994, \"action\": \"Correlation\", \"Precision\": 1.0, \"Recall\": 1.0, \"FScore\": 1.0}, {\"nfrac\": 0.49999999999999994, \"action\": \"Distribution\", \"Precision\": 1.0, \"Recall\": 1.0, \"FScore\": 1.0}, {\"nfrac\": 0.49999999999999994, \"action\": \"Enhance\", \"Precision\": 1.0, \"Recall\": 1.0, \"FScore\": 1.0}, {\"nfrac\": 0.49999999999999994, \"action\": \"Filter\", \"Precision\": 1.0, \"Recall\": 0.9333333333333333, \"FScore\": 0.9655172413793104}, {\"nfrac\": 0.49999999999999994, \"action\": \"Occurrence\", \"Precision\": 1.0, \"Recall\": 0.9333333333333333, \"FScore\": 0.9655172413793104}, {\"nfrac\": 0.6125, \"action\": \"Correlation\", \"Precision\": 1.0, \"Recall\": 1.0, \"FScore\": 1.0}, {\"nfrac\": 0.6125, \"action\": \"Distribution\", \"Precision\": 1.0, \"Recall\": 1.0, \"FScore\": 1.0}, {\"nfrac\": 0.6125, \"action\": \"Enhance\", \"Precision\": 1.0, \"Recall\": 1.0, \"FScore\": 1.0}, {\"nfrac\": 0.6125, \"action\": \"Filter\", \"Precision\": 1.0, \"Recall\": 0.9, \"FScore\": 0.9470443349753694}, {\"nfrac\": 0.6125, \"action\": \"Occurrence\", \"Precision\": 1.0, \"Recall\": 0.9333333333333333, \"FScore\": 0.9655172413793104}, {\"nfrac\": 0.725, \"action\": \"Correlation\", \"Precision\": 1.0, \"Recall\": 1.0, \"FScore\": 1.0}, {\"nfrac\": 0.725, \"action\": \"Distribution\", \"Precision\": 1.0, \"Recall\": 1.0, \"FScore\": 1.0}, {\"nfrac\": 0.725, \"action\": \"Enhance\", \"Precision\": 1.0, \"Recall\": 1.0, \"FScore\": 1.0}, {\"nfrac\": 0.725, \"action\": \"Filter\", \"Precision\": 1.0, \"Recall\": 0.9333333333333333, \"FScore\": 0.9655172413793104}, {\"nfrac\": 0.725, \"action\": \"Occurrence\", \"Precision\": 1.0, \"Recall\": 0.9333333333333333, \"FScore\": 0.9655172413793104}, {\"nfrac\": 0.8374999999999999, \"action\": \"Correlation\", \"Precision\": 1.0, \"Recall\": 1.0, \"FScore\": 1.0}, {\"nfrac\": 0.8374999999999999, \"action\": \"Distribution\", \"Precision\": 1.0, \"Recall\": 1.0, \"FScore\": 1.0}, {\"nfrac\": 0.8374999999999999, \"action\": \"Enhance\", \"Precision\": 1.0, \"Recall\": 1.0, \"FScore\": 1.0}, {\"nfrac\": 0.8374999999999999, \"action\": \"Filter\", \"Precision\": 1.0, \"Recall\": 0.9333333333333333, \"FScore\": 0.9655172413793104}, {\"nfrac\": 0.8374999999999999, \"action\": \"Occurrence\", \"Precision\": 1.0, \"Recall\": 0.9333333333333333, \"FScore\": 0.9655172413793104}, {\"nfrac\": 0.95, \"action\": \"Correlation\", \"Precision\": 1.0, \"Recall\": 1.0, \"FScore\": 1.0}, {\"nfrac\": 0.95, \"action\": \"Distribution\", \"Precision\": 1.0, \"Recall\": 1.0, \"FScore\": 1.0}, {\"nfrac\": 0.95, \"action\": \"Enhance\", \"Precision\": 1.0, \"Recall\": 1.0, \"FScore\": 1.0}, {\"nfrac\": 0.95, \"action\": \"Filter\", \"Precision\": 1.0, \"Recall\": 0.9333333333333333, \"FScore\": 0.9655172413793104}, {\"nfrac\": 0.95, \"action\": \"Occurrence\", \"Precision\": 1.0, \"Recall\": 0.9333333333333333, \"FScore\": 0.9655172413793104}, {\"nfrac\": 1.0, \"action\": \"Correlation\", \"Precision\": 1.0, \"Recall\": 1.0, \"FScore\": 1.0}, {\"nfrac\": 1.0, \"action\": \"Distribution\", \"Precision\": 1.0, \"Recall\": 1.0, \"FScore\": 1.0}, {\"nfrac\": 1.0, \"action\": \"Enhance\", \"Precision\": 1.0, \"Recall\": 1.0, \"FScore\": 1.0}, {\"nfrac\": 1.0, \"action\": \"Filter\", \"Precision\": 1.0, \"Recall\": 1.0, \"FScore\": 1.0}, {\"nfrac\": 1.0, \"action\": \"Occurrence\", \"Precision\": 1.0, \"Recall\": 1.0, \"FScore\": 1.0}]}}, {\"mode\": \"vega-lite\"});\n",
       "</script>"
      ],
      "text/plain": [
       "alt.Chart(...)"
      ]
     },
     "execution_count": 37,
     "metadata": {},
     "output_type": "execute_result"
    }
   ],
   "source": [
    "df = trial_df \n",
    "df = df.groupby([\"nfrac\",\"action\"]).mean().reset_index()\n",
    "alt.Chart(df,title=\"Communities (50k rows)\").mark_line().encode(\n",
    "    x = alt.X(\"nfrac\",title=\"Fraction of dataset sampled\"),#scale=alt.Scale(type=\"log\")),\n",
    "    y = alt.Y(\"Recall\",scale=alt.Scale(domain=(0,1.01))),\n",
    "    color = \"action\"\n",
    ").interactive()"
   ]
  },
  {
   "cell_type": "code",
   "execution_count": 68,
   "metadata": {},
   "outputs": [],
   "source": [
    "import glob"
   ]
  },
  {
   "cell_type": "code",
   "execution_count": 102,
   "metadata": {},
   "outputs": [],
   "source": [
    "action_lst = [\"Correlation\",\"Enhance\"]\n",
    "trial = []\n",
    "\n",
    "for action in action_lst :\n",
    "    map1 = pkl.load(open(f\"tmp_airbnb50000/airbnb_gt_{action}.pkl\",'rb'))\n",
    "    for file in glob.glob(f\"tmp_airbnb50000/airbnb_nfrac*_{action}_*.pkl\"):\n",
    "        map2 = pkl.load(open(file,'rb'))\n",
    "        nfrac = float(file.split(\"/\")[1:][0].split(\"_\")[1][5:])\n",
    "        prf = compute_prf_between_vislists(map1,map2)\n",
    "        trial.append([nfrac, action, prf[0], prf[1], prf[2]])\n",
    "    # Inserting endpoints \n",
    "    trial.append([0,action, 0,0,0])\n",
    "    trial.append([1,action, 1,1,1])\n",
    "trial_df = pd.DataFrame(\n",
    "    trial,\n",
    "    columns=[\"nfrac\", \"action\", \"Precision\",\"Recall\",\"FScore\"],\n",
    ") "
   ]
  },
  {
   "cell_type": "code",
   "execution_count": 106,
   "metadata": {},
   "outputs": [
    {
     "data": {
      "text/html": [
       "\n",
       "<div id=\"altair-viz-3385e7f0be304cd69dbf788db01dd56c\"></div>\n",
       "<script type=\"text/javascript\">\n",
       "  (function(spec, embedOpt){\n",
       "    let outputDiv = document.currentScript.previousElementSibling;\n",
       "    if (outputDiv.id !== \"altair-viz-3385e7f0be304cd69dbf788db01dd56c\") {\n",
       "      outputDiv = document.getElementById(\"altair-viz-3385e7f0be304cd69dbf788db01dd56c\");\n",
       "    }\n",
       "    const paths = {\n",
       "      \"vega\": \"https://cdn.jsdelivr.net/npm//vega@5?noext\",\n",
       "      \"vega-lib\": \"https://cdn.jsdelivr.net/npm//vega-lib?noext\",\n",
       "      \"vega-lite\": \"https://cdn.jsdelivr.net/npm//vega-lite@4.8.1?noext\",\n",
       "      \"vega-embed\": \"https://cdn.jsdelivr.net/npm//vega-embed@6?noext\",\n",
       "    };\n",
       "\n",
       "    function loadScript(lib) {\n",
       "      return new Promise(function(resolve, reject) {\n",
       "        var s = document.createElement('script');\n",
       "        s.src = paths[lib];\n",
       "        s.async = true;\n",
       "        s.onload = () => resolve(paths[lib]);\n",
       "        s.onerror = () => reject(`Error loading script: ${paths[lib]}`);\n",
       "        document.getElementsByTagName(\"head\")[0].appendChild(s);\n",
       "      });\n",
       "    }\n",
       "\n",
       "    function showError(err) {\n",
       "      outputDiv.innerHTML = `<div class=\"error\" style=\"color:red;\">${err}</div>`;\n",
       "      throw err;\n",
       "    }\n",
       "\n",
       "    function displayChart(vegaEmbed) {\n",
       "      vegaEmbed(outputDiv, spec, embedOpt)\n",
       "        .catch(err => showError(`Javascript Error: ${err.message}<br>This usually means there's a typo in your chart specification. See the javascript console for the full traceback.`));\n",
       "    }\n",
       "\n",
       "    if(typeof define === \"function\" && define.amd) {\n",
       "      requirejs.config({paths});\n",
       "      require([\"vega-embed\"], displayChart, err => showError(`Error loading script: ${err.message}`));\n",
       "    } else if (typeof vegaEmbed === \"function\") {\n",
       "      displayChart(vegaEmbed);\n",
       "    } else {\n",
       "      loadScript(\"vega\")\n",
       "        .then(() => loadScript(\"vega-lite\"))\n",
       "        .then(() => loadScript(\"vega-embed\"))\n",
       "        .catch(showError)\n",
       "        .then(() => displayChart(vegaEmbed));\n",
       "    }\n",
       "  })({\"config\": {\"view\": {\"continuousWidth\": 400, \"continuousHeight\": 300}}, \"data\": {\"name\": \"data-c4b292076bf1859af9d5abb659bfa0df\"}, \"mark\": \"line\", \"encoding\": {\"color\": {\"type\": \"nominal\", \"field\": \"action\"}, \"x\": {\"type\": \"quantitative\", \"field\": \"nfrac\", \"title\": \"Fraction of dataset sampled\"}, \"y\": {\"type\": \"quantitative\", \"field\": \"Recall\", \"scale\": {\"domain\": [0, 1.01]}}}, \"selection\": {\"selector029\": {\"type\": \"interval\", \"bind\": \"scales\", \"encodings\": [\"x\", \"y\"]}}, \"title\": \"Airbnb (50k rows)\", \"$schema\": \"https://vega.github.io/schema/vega-lite/v4.8.1.json\", \"datasets\": {\"data-c4b292076bf1859af9d5abb659bfa0df\": [{\"nfrac\": 0.0, \"action\": \"Correlation\", \"Precision\": 0.0, \"Recall\": 0.0, \"FScore\": 0.0}, {\"nfrac\": 0.0, \"action\": \"Enhance\", \"Precision\": 0.0, \"Recall\": 0.0, \"FScore\": 0.0}, {\"nfrac\": 0.05, \"action\": \"Correlation\", \"Precision\": 1.0, \"Recall\": 0.5333333333333333, \"FScore\": 0.6956521739130437}, {\"nfrac\": 0.05, \"action\": \"Enhance\", \"Precision\": 1.0, \"Recall\": 0.8666666666666669, \"FScore\": 0.9285714285714286}, {\"nfrac\": 0.06, \"action\": \"Correlation\", \"Precision\": 1.0, \"Recall\": 0.5333333333333333, \"FScore\": 0.6956521739130437}, {\"nfrac\": 0.06, \"action\": \"Enhance\", \"Precision\": 1.0, \"Recall\": 0.8666666666666669, \"FScore\": 0.9285714285714286}, {\"nfrac\": 0.08, \"action\": \"Correlation\", \"Precision\": 1.0, \"Recall\": 0.5333333333333333, \"FScore\": 0.6956521739130437}, {\"nfrac\": 0.08, \"action\": \"Enhance\", \"Precision\": 1.0, \"Recall\": 0.8666666666666669, \"FScore\": 0.9285714285714286}, {\"nfrac\": 0.09, \"action\": \"Correlation\", \"Precision\": 1.0, \"Recall\": 0.5333333333333333, \"FScore\": 0.6956521739130437}, {\"nfrac\": 0.09, \"action\": \"Enhance\", \"Precision\": 1.0, \"Recall\": 0.8666666666666669, \"FScore\": 0.9285714285714286}, {\"nfrac\": 0.1, \"action\": \"Correlation\", \"Precision\": 1.0, \"Recall\": 0.5333333333333333, \"FScore\": 0.6956521739130437}, {\"nfrac\": 0.1, \"action\": \"Enhance\", \"Precision\": 1.0, \"Recall\": 0.8666666666666669, \"FScore\": 0.9285714285714286}, {\"nfrac\": 0.12, \"action\": \"Correlation\", \"Precision\": 1.0, \"Recall\": 0.5333333333333333, \"FScore\": 0.6956521739130437}, {\"nfrac\": 0.12, \"action\": \"Enhance\", \"Precision\": 1.0, \"Recall\": 0.8666666666666669, \"FScore\": 0.9285714285714286}, {\"nfrac\": 0.13, \"action\": \"Correlation\", \"Precision\": 1.0, \"Recall\": 0.5333333333333333, \"FScore\": 0.6956521739130437}, {\"nfrac\": 0.13, \"action\": \"Enhance\", \"Precision\": 1.0, \"Recall\": 0.8666666666666669, \"FScore\": 0.9285714285714286}, {\"nfrac\": 0.14, \"action\": \"Correlation\", \"Precision\": 1.0, \"Recall\": 0.5333333333333333, \"FScore\": 0.6956521739130437}, {\"nfrac\": 0.14, \"action\": \"Enhance\", \"Precision\": 1.0, \"Recall\": 0.8666666666666669, \"FScore\": 0.9285714285714286}, {\"nfrac\": 0.16, \"action\": \"Correlation\", \"Precision\": 1.0, \"Recall\": 0.5333333333333333, \"FScore\": 0.6956521739130437}, {\"nfrac\": 0.16, \"action\": \"Enhance\", \"Precision\": 1.0, \"Recall\": 0.8666666666666669, \"FScore\": 0.9285714285714286}, {\"nfrac\": 0.17, \"action\": \"Correlation\", \"Precision\": 1.0, \"Recall\": 0.5333333333333333, \"FScore\": 0.6956521739130437}, {\"nfrac\": 0.17, \"action\": \"Enhance\", \"Precision\": 1.0, \"Recall\": 0.8666666666666669, \"FScore\": 0.9285714285714286}, {\"nfrac\": 0.18, \"action\": \"Correlation\", \"Precision\": 1.0, \"Recall\": 0.5333333333333333, \"FScore\": 0.6956521739130437}, {\"nfrac\": 0.18, \"action\": \"Enhance\", \"Precision\": 1.0, \"Recall\": 0.8666666666666669, \"FScore\": 0.9285714285714286}, {\"nfrac\": 0.2, \"action\": \"Correlation\", \"Precision\": 1.0, \"Recall\": 0.5333333333333333, \"FScore\": 0.6956521739130437}, {\"nfrac\": 0.2, \"action\": \"Enhance\", \"Precision\": 1.0, \"Recall\": 0.8666666666666669, \"FScore\": 0.9285714285714286}, {\"nfrac\": 0.21, \"action\": \"Correlation\", \"Precision\": 1.0, \"Recall\": 0.5333333333333333, \"FScore\": 0.6956521739130437}, {\"nfrac\": 0.21, \"action\": \"Enhance\", \"Precision\": 1.0, \"Recall\": 0.8666666666666669, \"FScore\": 0.9285714285714286}, {\"nfrac\": 0.22, \"action\": \"Correlation\", \"Precision\": 1.0, \"Recall\": 0.5333333333333333, \"FScore\": 0.6956521739130437}, {\"nfrac\": 0.22, \"action\": \"Enhance\", \"Precision\": 1.0, \"Recall\": 0.8666666666666669, \"FScore\": 0.9285714285714286}, {\"nfrac\": 0.24, \"action\": \"Correlation\", \"Precision\": 1.0, \"Recall\": 0.5333333333333333, \"FScore\": 0.6956521739130437}, {\"nfrac\": 0.24, \"action\": \"Enhance\", \"Precision\": 1.0, \"Recall\": 0.8666666666666669, \"FScore\": 0.9285714285714286}, {\"nfrac\": 0.25, \"action\": \"Correlation\", \"Precision\": 1.0, \"Recall\": 0.5333333333333333, \"FScore\": 0.6956521739130437}, {\"nfrac\": 0.25, \"action\": \"Enhance\", \"Precision\": 1.0, \"Recall\": 0.8666666666666669, \"FScore\": 0.9285714285714286}, {\"nfrac\": 0.26, \"action\": \"Correlation\", \"Precision\": 1.0, \"Recall\": 0.5333333333333333, \"FScore\": 0.6956521739130437}, {\"nfrac\": 0.26, \"action\": \"Enhance\", \"Precision\": 1.0, \"Recall\": 0.8666666666666669, \"FScore\": 0.9285714285714286}, {\"nfrac\": 0.27, \"action\": \"Correlation\", \"Precision\": 1.0, \"Recall\": 0.5333333333333333, \"FScore\": 0.6956521739130437}, {\"nfrac\": 0.27, \"action\": \"Enhance\", \"Precision\": 1.0, \"Recall\": 0.8666666666666669, \"FScore\": 0.9285714285714286}, {\"nfrac\": 0.28, \"action\": \"Correlation\", \"Precision\": 1.0, \"Recall\": 0.5333333333333333, \"FScore\": 0.6956521739130437}, {\"nfrac\": 0.28, \"action\": \"Enhance\", \"Precision\": 1.0, \"Recall\": 0.8666666666666669, \"FScore\": 0.9285714285714286}, {\"nfrac\": 0.29, \"action\": \"Correlation\", \"Precision\": 1.0, \"Recall\": 0.5333333333333333, \"FScore\": 0.6956521739130437}, {\"nfrac\": 0.29, \"action\": \"Enhance\", \"Precision\": 1.0, \"Recall\": 0.8666666666666669, \"FScore\": 0.9285714285714286}, {\"nfrac\": 0.3, \"action\": \"Correlation\", \"Precision\": 1.0, \"Recall\": 0.5599999999999999, \"FScore\": 0.7149758454106283}, {\"nfrac\": 0.3, \"action\": \"Enhance\", \"Precision\": 1.0, \"Recall\": 0.8733333333333336, \"FScore\": 0.9322660098522169}, {\"nfrac\": 0.32, \"action\": \"Correlation\", \"Precision\": 1.0, \"Recall\": 0.7733333333333332, \"FScore\": 0.8695652173913044}, {\"nfrac\": 0.32, \"action\": \"Enhance\", \"Precision\": 1.0, \"Recall\": 0.9266666666666667, \"FScore\": 0.961822660098522}, {\"nfrac\": 0.33, \"action\": \"Correlation\", \"Precision\": 1.0, \"Recall\": 0.7999999999999999, \"FScore\": 0.8888888888888891}, {\"nfrac\": 0.33, \"action\": \"Enhance\", \"Precision\": 1.0, \"Recall\": 0.9333333333333333, \"FScore\": 0.9655172413793103}, {\"nfrac\": 0.34, \"action\": \"Correlation\", \"Precision\": 1.0, \"Recall\": 0.7999999999999999, \"FScore\": 0.8888888888888891}, {\"nfrac\": 0.34, \"action\": \"Enhance\", \"Precision\": 1.0, \"Recall\": 0.9333333333333333, \"FScore\": 0.9655172413793103}, {\"nfrac\": 0.36, \"action\": \"Correlation\", \"Precision\": 1.0, \"Recall\": 0.7999999999999999, \"FScore\": 0.8888888888888891}, {\"nfrac\": 0.36, \"action\": \"Enhance\", \"Precision\": 1.0, \"Recall\": 0.9333333333333333, \"FScore\": 0.9655172413793103}, {\"nfrac\": 0.37, \"action\": \"Correlation\", \"Precision\": 1.0, \"Recall\": 0.7999999999999999, \"FScore\": 0.8888888888888891}, {\"nfrac\": 0.37, \"action\": \"Enhance\", \"Precision\": 1.0, \"Recall\": 0.9333333333333333, \"FScore\": 0.9655172413793103}, {\"nfrac\": 0.38, \"action\": \"Correlation\", \"Precision\": 1.0, \"Recall\": 0.7999999999999999, \"FScore\": 0.8888888888888891}, {\"nfrac\": 0.38, \"action\": \"Enhance\", \"Precision\": 1.0, \"Recall\": 0.9333333333333333, \"FScore\": 0.9655172413793103}, {\"nfrac\": 0.39, \"action\": \"Correlation\", \"Precision\": 1.0, \"Recall\": 0.7999999999999999, \"FScore\": 0.8888888888888891}, {\"nfrac\": 0.39, \"action\": \"Enhance\", \"Precision\": 1.0, \"Recall\": 0.9333333333333333, \"FScore\": 0.9655172413793103}, {\"nfrac\": 0.41, \"action\": \"Correlation\", \"Precision\": 1.0, \"Recall\": 0.7999999999999999, \"FScore\": 0.8888888888888891}, {\"nfrac\": 0.41, \"action\": \"Enhance\", \"Precision\": 1.0, \"Recall\": 0.9333333333333333, \"FScore\": 0.9655172413793103}, {\"nfrac\": 0.42, \"action\": \"Correlation\", \"Precision\": 1.0, \"Recall\": 0.7999999999999999, \"FScore\": 0.8888888888888891}, {\"nfrac\": 0.42, \"action\": \"Enhance\", \"Precision\": 1.0, \"Recall\": 0.9333333333333333, \"FScore\": 0.9655172413793103}, {\"nfrac\": 0.43, \"action\": \"Correlation\", \"Precision\": 1.0, \"Recall\": 0.7999999999999999, \"FScore\": 0.8888888888888891}, {\"nfrac\": 0.43, \"action\": \"Enhance\", \"Precision\": 1.0, \"Recall\": 0.9333333333333333, \"FScore\": 0.9655172413793103}, {\"nfrac\": 0.45, \"action\": \"Correlation\", \"Precision\": 1.0, \"Recall\": 0.7999999999999999, \"FScore\": 0.8888888888888891}, {\"nfrac\": 0.45, \"action\": \"Enhance\", \"Precision\": 1.0, \"Recall\": 0.9333333333333333, \"FScore\": 0.9655172413793103}, {\"nfrac\": 0.46, \"action\": \"Correlation\", \"Precision\": 1.0, \"Recall\": 0.7999999999999999, \"FScore\": 0.8888888888888891}, {\"nfrac\": 0.46, \"action\": \"Enhance\", \"Precision\": 1.0, \"Recall\": 0.9333333333333333, \"FScore\": 0.9655172413793103}, {\"nfrac\": 0.47, \"action\": \"Correlation\", \"Precision\": 1.0, \"Recall\": 0.7999999999999999, \"FScore\": 0.8888888888888891}, {\"nfrac\": 0.47, \"action\": \"Enhance\", \"Precision\": 1.0, \"Recall\": 0.9333333333333333, \"FScore\": 0.9655172413793103}, {\"nfrac\": 0.49, \"action\": \"Correlation\", \"Precision\": 1.0, \"Recall\": 0.7999999999999999, \"FScore\": 0.8888888888888891}, {\"nfrac\": 0.49, \"action\": \"Enhance\", \"Precision\": 1.0, \"Recall\": 0.9333333333333333, \"FScore\": 0.9655172413793103}, {\"nfrac\": 0.5, \"action\": \"Correlation\", \"Precision\": 1.0, \"Recall\": 0.7999999999999999, \"FScore\": 0.8888888888888891}, {\"nfrac\": 0.5, \"action\": \"Enhance\", \"Precision\": 1.0, \"Recall\": 0.9333333333333333, \"FScore\": 0.9655172413793103}, {\"nfrac\": 0.51, \"action\": \"Correlation\", \"Precision\": 1.0, \"Recall\": 0.7999999999999999, \"FScore\": 0.8888888888888891}, {\"nfrac\": 0.51, \"action\": \"Enhance\", \"Precision\": 1.0, \"Recall\": 0.9333333333333333, \"FScore\": 0.9655172413793103}, {\"nfrac\": 0.53, \"action\": \"Correlation\", \"Precision\": 1.0, \"Recall\": 0.7999999999999999, \"FScore\": 0.8888888888888891}, {\"nfrac\": 0.53, \"action\": \"Enhance\", \"Precision\": 1.0, \"Recall\": 0.9333333333333333, \"FScore\": 0.9655172413793103}, {\"nfrac\": 0.54, \"action\": \"Correlation\", \"Precision\": 1.0, \"Recall\": 0.7999999999999999, \"FScore\": 0.8888888888888891}, {\"nfrac\": 0.54, \"action\": \"Enhance\", \"Precision\": 1.0, \"Recall\": 0.9333333333333333, \"FScore\": 0.9655172413793103}, {\"nfrac\": 0.55, \"action\": \"Correlation\", \"Precision\": 1.0, \"Recall\": 0.7999999999999999, \"FScore\": 0.8888888888888891}, {\"nfrac\": 0.55, \"action\": \"Enhance\", \"Precision\": 1.0, \"Recall\": 0.9333333333333333, \"FScore\": 0.9655172413793103}, {\"nfrac\": 0.57, \"action\": \"Correlation\", \"Precision\": 1.0, \"Recall\": 0.7999999999999999, \"FScore\": 0.8888888888888891}, {\"nfrac\": 0.57, \"action\": \"Enhance\", \"Precision\": 1.0, \"Recall\": 0.9333333333333333, \"FScore\": 0.9655172413793103}, {\"nfrac\": 0.58, \"action\": \"Correlation\", \"Precision\": 1.0, \"Recall\": 0.7999999999999999, \"FScore\": 0.8888888888888891}, {\"nfrac\": 0.58, \"action\": \"Enhance\", \"Precision\": 1.0, \"Recall\": 0.9333333333333333, \"FScore\": 0.9655172413793103}, {\"nfrac\": 0.59, \"action\": \"Correlation\", \"Precision\": 1.0, \"Recall\": 0.9600000000000002, \"FScore\": 0.978544061302682}, {\"nfrac\": 0.59, \"action\": \"Enhance\", \"Precision\": 1.0, \"Recall\": 0.9933333333333334, \"FScore\": 0.9965517241379309}, {\"nfrac\": 0.61, \"action\": \"Correlation\", \"Precision\": 1.0, \"Recall\": 0.9733333333333334, \"FScore\": 0.986206896551724}, {\"nfrac\": 0.61, \"action\": \"Enhance\", \"Precision\": 1.0, \"Recall\": 1.0, \"FScore\": 1.0}, {\"nfrac\": 0.62, \"action\": \"Correlation\", \"Precision\": 1.0, \"Recall\": 0.9666666666666668, \"FScore\": 0.9827586206896551}, {\"nfrac\": 0.62, \"action\": \"Enhance\", \"Precision\": 1.0, \"Recall\": 1.0, \"FScore\": 1.0}, {\"nfrac\": 0.63, \"action\": \"Correlation\", \"Precision\": 1.0, \"Recall\": 0.9666666666666668, \"FScore\": 0.9827586206896551}, {\"nfrac\": 0.63, \"action\": \"Enhance\", \"Precision\": 1.0, \"Recall\": 1.0, \"FScore\": 1.0}, {\"nfrac\": 0.65, \"action\": \"Correlation\", \"Precision\": 1.0, \"Recall\": 0.9666666666666668, \"FScore\": 0.9827586206896551}, {\"nfrac\": 0.65, \"action\": \"Enhance\", \"Precision\": 1.0, \"Recall\": 1.0, \"FScore\": 1.0}, {\"nfrac\": 0.66, \"action\": \"Correlation\", \"Precision\": 1.0, \"Recall\": 0.9533333333333334, \"FScore\": 0.9758620689655173}, {\"nfrac\": 0.66, \"action\": \"Enhance\", \"Precision\": 1.0, \"Recall\": 1.0, \"FScore\": 1.0}, {\"nfrac\": 0.67, \"action\": \"Correlation\", \"Precision\": 1.0, \"Recall\": 0.9600000000000002, \"FScore\": 0.9793103448275862}, {\"nfrac\": 0.67, \"action\": \"Enhance\", \"Precision\": 1.0, \"Recall\": 1.0, \"FScore\": 1.0}, {\"nfrac\": 0.69, \"action\": \"Correlation\", \"Precision\": 1.0, \"Recall\": 0.9733333333333334, \"FScore\": 0.9862068965517242}, {\"nfrac\": 0.69, \"action\": \"Enhance\", \"Precision\": 1.0, \"Recall\": 1.0, \"FScore\": 1.0}, {\"nfrac\": 0.7, \"action\": \"Correlation\", \"Precision\": 1.0, \"Recall\": 0.9733333333333334, \"FScore\": 0.9862068965517242}, {\"nfrac\": 0.7, \"action\": \"Enhance\", \"Precision\": 1.0, \"Recall\": 1.0, \"FScore\": 1.0}, {\"nfrac\": 0.72, \"action\": \"Correlation\", \"Precision\": 1.0, \"Recall\": 0.9666666666666668, \"FScore\": 0.9827586206896551}, {\"nfrac\": 0.72, \"action\": \"Enhance\", \"Precision\": 1.0, \"Recall\": 1.0, \"FScore\": 1.0}, {\"nfrac\": 0.84, \"action\": \"Correlation\", \"Precision\": 1.0, \"Recall\": 0.9733333333333334, \"FScore\": 0.9862068965517242}, {\"nfrac\": 0.84, \"action\": \"Enhance\", \"Precision\": 1.0, \"Recall\": 1.0, \"FScore\": 1.0}, {\"nfrac\": 0.95, \"action\": \"Correlation\", \"Precision\": 1.0, \"Recall\": 0.9933333333333334, \"FScore\": 0.9965517241379309}, {\"nfrac\": 0.95, \"action\": \"Enhance\", \"Precision\": 1.0, \"Recall\": 1.0, \"FScore\": 1.0}, {\"nfrac\": 1.0, \"action\": \"Correlation\", \"Precision\": 1.0, \"Recall\": 1.0, \"FScore\": 1.0}, {\"nfrac\": 1.0, \"action\": \"Enhance\", \"Precision\": 1.0, \"Recall\": 1.0, \"FScore\": 1.0}]}}, {\"mode\": \"vega-lite\"});\n",
       "</script>"
      ],
      "text/plain": [
       "alt.Chart(...)"
      ]
     },
     "execution_count": 106,
     "metadata": {},
     "output_type": "execute_result"
    }
   ],
   "source": [
    "df = trial_df \n",
    "df = df.groupby([\"nfrac\",\"action\"]).mean().reset_index()\n",
    "alt.Chart(df,title=\"Airbnb (50k rows)\").mark_line().encode(\n",
    "    x = alt.X(\"nfrac\",title=\"Fraction of dataset sampled\"),#scale=alt.Scale(type=\"log\")),\n",
    "    y = alt.Y(\"Recall\",scale=alt.Scale(domain=(0,1.01))),\n",
    "    color = \"action\"\n",
    ").interactive()"
   ]
  },
  {
   "cell_type": "code",
   "execution_count": 100,
   "metadata": {},
   "outputs": [],
   "source": [
    "action_lst = [\"Correlation\",\"Enhance\"]\n",
    "trial = []\n",
    "\n",
    "for action in action_lst :\n",
    "    map1 = pkl.load(open(f\"tmp_airbnb100000/airbnb_gt_{action}.pkl\",'rb'))\n",
    "    for file in glob.glob(f\"tmp_airbnb100000/airbnb_nfrac*_{action}_*.pkl\"):\n",
    "        map2 = pkl.load(open(file,'rb'))\n",
    "        nfrac = float(file.split(\"/\")[1:][0].split(\"_\")[1][5:])\n",
    "        prf = compute_prf_between_vislists(map1,map2)\n",
    "        trial.append([nfrac, action, prf[0], prf[1], prf[2]])\n",
    "    # Inserting endpoints \n",
    "    trial.append([0,action, 0,0,0])\n",
    "    trial.append([1,action, 1,1,1])\n",
    "trial_df = pd.DataFrame(\n",
    "    trial,\n",
    "    columns=[\"nfrac\", \"action\", \"Precision\",\"Recall\",\"FScore\"],\n",
    ") "
   ]
  },
  {
   "cell_type": "code",
   "execution_count": 101,
   "metadata": {},
   "outputs": [
    {
     "data": {
      "text/html": [
       "\n",
       "<div id=\"altair-viz-26804ee6485c4a95a18d9f26525b6778\"></div>\n",
       "<script type=\"text/javascript\">\n",
       "  (function(spec, embedOpt){\n",
       "    let outputDiv = document.currentScript.previousElementSibling;\n",
       "    if (outputDiv.id !== \"altair-viz-26804ee6485c4a95a18d9f26525b6778\") {\n",
       "      outputDiv = document.getElementById(\"altair-viz-26804ee6485c4a95a18d9f26525b6778\");\n",
       "    }\n",
       "    const paths = {\n",
       "      \"vega\": \"https://cdn.jsdelivr.net/npm//vega@5?noext\",\n",
       "      \"vega-lib\": \"https://cdn.jsdelivr.net/npm//vega-lib?noext\",\n",
       "      \"vega-lite\": \"https://cdn.jsdelivr.net/npm//vega-lite@4.8.1?noext\",\n",
       "      \"vega-embed\": \"https://cdn.jsdelivr.net/npm//vega-embed@6?noext\",\n",
       "    };\n",
       "\n",
       "    function loadScript(lib) {\n",
       "      return new Promise(function(resolve, reject) {\n",
       "        var s = document.createElement('script');\n",
       "        s.src = paths[lib];\n",
       "        s.async = true;\n",
       "        s.onload = () => resolve(paths[lib]);\n",
       "        s.onerror = () => reject(`Error loading script: ${paths[lib]}`);\n",
       "        document.getElementsByTagName(\"head\")[0].appendChild(s);\n",
       "      });\n",
       "    }\n",
       "\n",
       "    function showError(err) {\n",
       "      outputDiv.innerHTML = `<div class=\"error\" style=\"color:red;\">${err}</div>`;\n",
       "      throw err;\n",
       "    }\n",
       "\n",
       "    function displayChart(vegaEmbed) {\n",
       "      vegaEmbed(outputDiv, spec, embedOpt)\n",
       "        .catch(err => showError(`Javascript Error: ${err.message}<br>This usually means there's a typo in your chart specification. See the javascript console for the full traceback.`));\n",
       "    }\n",
       "\n",
       "    if(typeof define === \"function\" && define.amd) {\n",
       "      requirejs.config({paths});\n",
       "      require([\"vega-embed\"], displayChart, err => showError(`Error loading script: ${err.message}`));\n",
       "    } else if (typeof vegaEmbed === \"function\") {\n",
       "      displayChart(vegaEmbed);\n",
       "    } else {\n",
       "      loadScript(\"vega\")\n",
       "        .then(() => loadScript(\"vega-lite\"))\n",
       "        .then(() => loadScript(\"vega-embed\"))\n",
       "        .catch(showError)\n",
       "        .then(() => displayChart(vegaEmbed));\n",
       "    }\n",
       "  })({\"config\": {\"view\": {\"continuousWidth\": 400, \"continuousHeight\": 300}}, \"data\": {\"name\": \"data-82b216f1832fb08909fb9db8974d026f\"}, \"mark\": \"line\", \"encoding\": {\"color\": {\"type\": \"nominal\", \"field\": \"action\"}, \"x\": {\"type\": \"quantitative\", \"field\": \"nfrac\", \"title\": \"Fraction of dataset sampled\"}, \"y\": {\"type\": \"quantitative\", \"field\": \"Recall\", \"scale\": {\"domain\": [0, 1.01]}}}, \"selection\": {\"selector025\": {\"type\": \"interval\", \"bind\": \"scales\", \"encodings\": [\"x\", \"y\"]}}, \"title\": \"Airbnb (100k rows)\", \"$schema\": \"https://vega.github.io/schema/vega-lite/v4.8.1.json\", \"datasets\": {\"data-82b216f1832fb08909fb9db8974d026f\": [{\"nfrac\": 0.0, \"action\": \"Correlation\", \"Precision\": 0.0, \"Recall\": 0.0, \"FScore\": 0.0}, {\"nfrac\": 0.0, \"action\": \"Enhance\", \"Precision\": 0.0, \"Recall\": 0.0, \"FScore\": 0.0}, {\"nfrac\": 0.01, \"action\": \"Correlation\", \"Precision\": 1.0, \"Recall\": 0.5333333333333333, \"FScore\": 0.6956521739130436}, {\"nfrac\": 0.01, \"action\": \"Enhance\", \"Precision\": 1.0, \"Recall\": 0.8666666666666667, \"FScore\": 0.9285714285714286}, {\"nfrac\": 0.08, \"action\": \"Correlation\", \"Precision\": 1.0, \"Recall\": 0.5333333333333333, \"FScore\": 0.6956521739130436}, {\"nfrac\": 0.08, \"action\": \"Enhance\", \"Precision\": 1.0, \"Recall\": 0.8666666666666668, \"FScore\": 0.9285714285714286}, {\"nfrac\": 0.1, \"action\": \"Correlation\", \"Precision\": 1.0, \"Recall\": 0.5333333333333333, \"FScore\": 0.6956521739130436}, {\"nfrac\": 0.1, \"action\": \"Enhance\", \"Precision\": 1.0, \"Recall\": 0.8666666666666668, \"FScore\": 0.9285714285714286}, {\"nfrac\": 0.12, \"action\": \"Correlation\", \"Precision\": 1.0, \"Recall\": 0.5333333333333333, \"FScore\": 0.6956521739130436}, {\"nfrac\": 0.12, \"action\": \"Enhance\", \"Precision\": 1.0, \"Recall\": 0.8666666666666668, \"FScore\": 0.9285714285714286}, {\"nfrac\": 0.13, \"action\": \"Correlation\", \"Precision\": 1.0, \"Recall\": 0.5333333333333333, \"FScore\": 0.6956521739130436}, {\"nfrac\": 0.13, \"action\": \"Enhance\", \"Precision\": 1.0, \"Recall\": 0.8666666666666668, \"FScore\": 0.9285714285714286}, {\"nfrac\": 0.14, \"action\": \"Correlation\", \"Precision\": 1.0, \"Recall\": 0.5333333333333333, \"FScore\": 0.6956521739130436}, {\"nfrac\": 0.14, \"action\": \"Enhance\", \"Precision\": 1.0, \"Recall\": 0.8666666666666667, \"FScore\": 0.9285714285714285}, {\"nfrac\": 0.15, \"action\": \"Correlation\", \"Precision\": 1.0, \"Recall\": 0.5333333333333333, \"FScore\": 0.6956521739130436}, {\"nfrac\": 0.15, \"action\": \"Enhance\", \"Precision\": 1.0, \"Recall\": 0.8666666666666668, \"FScore\": 0.9285714285714286}, {\"nfrac\": 0.17, \"action\": \"Correlation\", \"Precision\": 1.0, \"Recall\": 0.8, \"FScore\": 0.888888888888889}, {\"nfrac\": 0.17, \"action\": \"Enhance\", \"Precision\": 1.0, \"Recall\": 0.9333333333333333, \"FScore\": 0.9655172413793103}, {\"nfrac\": 0.19, \"action\": \"Correlation\", \"Precision\": 1.0, \"Recall\": 0.8, \"FScore\": 0.888888888888889}, {\"nfrac\": 0.19, \"action\": \"Enhance\", \"Precision\": 1.0, \"Recall\": 0.9333333333333333, \"FScore\": 0.9655172413793103}, {\"nfrac\": 0.2, \"action\": \"Correlation\", \"Precision\": 1.0, \"Recall\": 0.8, \"FScore\": 0.888888888888889}, {\"nfrac\": 0.2, \"action\": \"Enhance\", \"Precision\": 1.0, \"Recall\": 0.9333333333333333, \"FScore\": 0.9655172413793103}, {\"nfrac\": 0.22, \"action\": \"Correlation\", \"Precision\": 1.0, \"Recall\": 0.8, \"FScore\": 0.888888888888889}, {\"nfrac\": 0.22, \"action\": \"Enhance\", \"Precision\": 1.0, \"Recall\": 0.9333333333333333, \"FScore\": 0.9655172413793103}, {\"nfrac\": 0.24, \"action\": \"Correlation\", \"Precision\": 1.0, \"Recall\": 0.8, \"FScore\": 0.888888888888889}, {\"nfrac\": 0.24, \"action\": \"Enhance\", \"Precision\": 1.0, \"Recall\": 0.9333333333333333, \"FScore\": 0.9655172413793103}, {\"nfrac\": 0.26, \"action\": \"Correlation\", \"Precision\": 1.0, \"Recall\": 0.8, \"FScore\": 0.888888888888889}, {\"nfrac\": 0.26, \"action\": \"Enhance\", \"Precision\": 1.0, \"Recall\": 0.9333333333333333, \"FScore\": 0.9655172413793103}, {\"nfrac\": 0.28, \"action\": \"Correlation\", \"Precision\": 1.0, \"Recall\": 0.8, \"FScore\": 0.888888888888889}, {\"nfrac\": 0.28, \"action\": \"Enhance\", \"Precision\": 1.0, \"Recall\": 0.9333333333333333, \"FScore\": 0.9655172413793103}, {\"nfrac\": 0.29, \"action\": \"Correlation\", \"Precision\": 1.0, \"Recall\": 0.8, \"FScore\": 0.888888888888889}, {\"nfrac\": 0.29, \"action\": \"Enhance\", \"Precision\": 1.0, \"Recall\": 0.9333333333333333, \"FScore\": 0.9655172413793103}, {\"nfrac\": 0.31, \"action\": \"Correlation\", \"Precision\": 1.0, \"Recall\": 0.9333333333333333, \"FScore\": 0.9650246305418719}, {\"nfrac\": 0.31, \"action\": \"Enhance\", \"Precision\": 1.0, \"Recall\": 1.0, \"FScore\": 1.0}, {\"nfrac\": 0.33, \"action\": \"Correlation\", \"Precision\": 1.0, \"Recall\": 0.9466666666666667, \"FScore\": 0.9724137931034484}, {\"nfrac\": 0.33, \"action\": \"Enhance\", \"Precision\": 1.0, \"Recall\": 1.0, \"FScore\": 1.0}, {\"nfrac\": 0.35, \"action\": \"Correlation\", \"Precision\": 1.0, \"Recall\": 0.9466666666666667, \"FScore\": 0.9724137931034482}, {\"nfrac\": 0.35, \"action\": \"Enhance\", \"Precision\": 1.0, \"Recall\": 1.0, \"FScore\": 1.0}, {\"nfrac\": 0.36, \"action\": \"Correlation\", \"Precision\": 1.0, \"Recall\": 0.9333333333333333, \"FScore\": 0.965024630541872}, {\"nfrac\": 0.36, \"action\": \"Enhance\", \"Precision\": 1.0, \"Recall\": 1.0, \"FScore\": 1.0}, {\"nfrac\": 0.38, \"action\": \"Correlation\", \"Precision\": 1.0, \"Recall\": 0.9466666666666667, \"FScore\": 0.9724137931034482}, {\"nfrac\": 0.38, \"action\": \"Enhance\", \"Precision\": 1.0, \"Recall\": 1.0, \"FScore\": 1.0}, {\"nfrac\": 0.4, \"action\": \"Correlation\", \"Precision\": 1.0, \"Recall\": 0.9333333333333332, \"FScore\": 0.9650246305418719}, {\"nfrac\": 0.4, \"action\": \"Enhance\", \"Precision\": 1.0, \"Recall\": 1.0, \"FScore\": 1.0}, {\"nfrac\": 0.42, \"action\": \"Correlation\", \"Precision\": 1.0, \"Recall\": 0.9466666666666667, \"FScore\": 0.9724137931034484}, {\"nfrac\": 0.42, \"action\": \"Enhance\", \"Precision\": 1.0, \"Recall\": 1.0, \"FScore\": 1.0}, {\"nfrac\": 0.44, \"action\": \"Correlation\", \"Precision\": 1.0, \"Recall\": 0.9466666666666667, \"FScore\": 0.9724137931034484}, {\"nfrac\": 0.44, \"action\": \"Enhance\", \"Precision\": 1.0, \"Recall\": 1.0, \"FScore\": 1.0}, {\"nfrac\": 0.45, \"action\": \"Correlation\", \"Precision\": 1.0, \"Recall\": 0.9466666666666667, \"FScore\": 0.9724137931034484}, {\"nfrac\": 0.45, \"action\": \"Enhance\", \"Precision\": 1.0, \"Recall\": 1.0, \"FScore\": 1.0}, {\"nfrac\": 0.47, \"action\": \"Correlation\", \"Precision\": 1.0, \"Recall\": 0.9466666666666667, \"FScore\": 0.9724137931034484}, {\"nfrac\": 0.47, \"action\": \"Enhance\", \"Precision\": 1.0, \"Recall\": 1.0, \"FScore\": 1.0}, {\"nfrac\": 0.49, \"action\": \"Correlation\", \"Precision\": 1.0, \"Recall\": 0.9466666666666667, \"FScore\": 0.9724137931034484}, {\"nfrac\": 0.49, \"action\": \"Enhance\", \"Precision\": 1.0, \"Recall\": 1.0, \"FScore\": 1.0}, {\"nfrac\": 0.51, \"action\": \"Correlation\", \"Precision\": 1.0, \"Recall\": 0.96, \"FScore\": 0.9793103448275863}, {\"nfrac\": 0.51, \"action\": \"Enhance\", \"Precision\": 1.0, \"Recall\": 1.0, \"FScore\": 1.0}, {\"nfrac\": 0.52, \"action\": \"Correlation\", \"Precision\": 1.0, \"Recall\": 0.9733333333333334, \"FScore\": 0.9862068965517242}, {\"nfrac\": 0.52, \"action\": \"Enhance\", \"Precision\": 1.0, \"Recall\": 1.0, \"FScore\": 1.0}, {\"nfrac\": 0.54, \"action\": \"Correlation\", \"Precision\": 1.0, \"Recall\": 0.9866666666666667, \"FScore\": 0.993103448275862}, {\"nfrac\": 0.54, \"action\": \"Enhance\", \"Precision\": 1.0, \"Recall\": 1.0, \"FScore\": 1.0}, {\"nfrac\": 0.56, \"action\": \"Correlation\", \"Precision\": 1.0, \"Recall\": 0.9733333333333334, \"FScore\": 0.9862068965517242}, {\"nfrac\": 0.56, \"action\": \"Enhance\", \"Precision\": 1.0, \"Recall\": 1.0, \"FScore\": 1.0}, {\"nfrac\": 0.58, \"action\": \"Correlation\", \"Precision\": 1.0, \"Recall\": 0.96, \"FScore\": 0.9793103448275862}, {\"nfrac\": 0.58, \"action\": \"Enhance\", \"Precision\": 1.0, \"Recall\": 1.0, \"FScore\": 1.0}, {\"nfrac\": 0.59, \"action\": \"Correlation\", \"Precision\": 1.0, \"Recall\": 0.96, \"FScore\": 0.9793103448275863}, {\"nfrac\": 0.59, \"action\": \"Enhance\", \"Precision\": 1.0, \"Recall\": 1.0, \"FScore\": 1.0}, {\"nfrac\": 0.61, \"action\": \"Correlation\", \"Precision\": 1.0, \"Recall\": 0.9866666666666667, \"FScore\": 0.993103448275862}, {\"nfrac\": 0.61, \"action\": \"Enhance\", \"Precision\": 1.0, \"Recall\": 1.0, \"FScore\": 1.0}, {\"nfrac\": 0.63, \"action\": \"Correlation\", \"Precision\": 1.0, \"Recall\": 0.9466666666666667, \"FScore\": 0.9724137931034484}, {\"nfrac\": 0.63, \"action\": \"Enhance\", \"Precision\": 1.0, \"Recall\": 1.0, \"FScore\": 1.0}, {\"nfrac\": 0.65, \"action\": \"Correlation\", \"Precision\": 1.0, \"Recall\": 0.9466666666666667, \"FScore\": 0.9724137931034482}, {\"nfrac\": 0.65, \"action\": \"Enhance\", \"Precision\": 1.0, \"Recall\": 1.0, \"FScore\": 1.0}, {\"nfrac\": 0.67, \"action\": \"Correlation\", \"Precision\": 1.0, \"Recall\": 0.9466666666666667, \"FScore\": 0.9724137931034482}, {\"nfrac\": 0.67, \"action\": \"Enhance\", \"Precision\": 1.0, \"Recall\": 1.0, \"FScore\": 1.0}, {\"nfrac\": 0.68, \"action\": \"Correlation\", \"Precision\": 1.0, \"Recall\": 0.9466666666666667, \"FScore\": 0.9724137931034482}, {\"nfrac\": 0.68, \"action\": \"Enhance\", \"Precision\": 1.0, \"Recall\": 1.0, \"FScore\": 1.0}, {\"nfrac\": 0.7, \"action\": \"Correlation\", \"Precision\": 1.0, \"Recall\": 0.9466666666666667, \"FScore\": 0.9724137931034484}, {\"nfrac\": 0.7, \"action\": \"Enhance\", \"Precision\": 1.0, \"Recall\": 1.0, \"FScore\": 1.0}, {\"nfrac\": 0.72, \"action\": \"Correlation\", \"Precision\": 1.0, \"Recall\": 0.9600000000000002, \"FScore\": 0.9793103448275863}, {\"nfrac\": 0.72, \"action\": \"Enhance\", \"Precision\": 1.0, \"Recall\": 1.0, \"FScore\": 1.0}, {\"nfrac\": 0.74, \"action\": \"Correlation\", \"Precision\": 1.0, \"Recall\": 0.96, \"FScore\": 0.9793103448275863}, {\"nfrac\": 0.74, \"action\": \"Enhance\", \"Precision\": 1.0, \"Recall\": 1.0, \"FScore\": 1.0}, {\"nfrac\": 0.75, \"action\": \"Correlation\", \"Precision\": 1.0, \"Recall\": 0.96, \"FScore\": 0.9793103448275863}, {\"nfrac\": 0.75, \"action\": \"Enhance\", \"Precision\": 1.0, \"Recall\": 1.0, \"FScore\": 1.0}, {\"nfrac\": 0.77, \"action\": \"Correlation\", \"Precision\": 1.0, \"Recall\": 0.96, \"FScore\": 0.9793103448275863}, {\"nfrac\": 0.77, \"action\": \"Enhance\", \"Precision\": 1.0, \"Recall\": 1.0, \"FScore\": 1.0}, {\"nfrac\": 0.79, \"action\": \"Correlation\", \"Precision\": 1.0, \"Recall\": 0.9733333333333334, \"FScore\": 0.9862068965517242}, {\"nfrac\": 0.79, \"action\": \"Enhance\", \"Precision\": 1.0, \"Recall\": 1.0, \"FScore\": 1.0}, {\"nfrac\": 0.81, \"action\": \"Correlation\", \"Precision\": 1.0, \"Recall\": 0.96, \"FScore\": 0.9793103448275863}, {\"nfrac\": 0.81, \"action\": \"Enhance\", \"Precision\": 1.0, \"Recall\": 1.0, \"FScore\": 1.0}, {\"nfrac\": 0.83, \"action\": \"Correlation\", \"Precision\": 1.0, \"Recall\": 0.9733333333333334, \"FScore\": 0.9862068965517242}, {\"nfrac\": 0.83, \"action\": \"Enhance\", \"Precision\": 1.0, \"Recall\": 1.0, \"FScore\": 1.0}, {\"nfrac\": 0.84, \"action\": \"Correlation\", \"Precision\": 1.0, \"Recall\": 1.0, \"FScore\": 1.0}, {\"nfrac\": 0.84, \"action\": \"Enhance\", \"Precision\": 1.0, \"Recall\": 1.0, \"FScore\": 1.0}, {\"nfrac\": 0.86, \"action\": \"Correlation\", \"Precision\": 1.0, \"Recall\": 1.0, \"FScore\": 1.0}, {\"nfrac\": 0.86, \"action\": \"Enhance\", \"Precision\": 1.0, \"Recall\": 1.0, \"FScore\": 1.0}, {\"nfrac\": 0.88, \"action\": \"Correlation\", \"Precision\": 1.0, \"Recall\": 1.0, \"FScore\": 1.0}, {\"nfrac\": 0.88, \"action\": \"Enhance\", \"Precision\": 1.0, \"Recall\": 1.0, \"FScore\": 1.0}, {\"nfrac\": 0.9, \"action\": \"Correlation\", \"Precision\": 1.0, \"Recall\": 1.0, \"FScore\": 1.0}, {\"nfrac\": 0.9, \"action\": \"Enhance\", \"Precision\": 1.0, \"Recall\": 1.0, \"FScore\": 1.0}, {\"nfrac\": 0.91, \"action\": \"Correlation\", \"Precision\": 1.0, \"Recall\": 1.0, \"FScore\": 1.0}, {\"nfrac\": 0.91, \"action\": \"Enhance\", \"Precision\": 1.0, \"Recall\": 1.0, \"FScore\": 1.0}, {\"nfrac\": 0.93, \"action\": \"Correlation\", \"Precision\": 1.0, \"Recall\": 1.0, \"FScore\": 1.0}, {\"nfrac\": 0.93, \"action\": \"Enhance\", \"Precision\": 1.0, \"Recall\": 1.0, \"FScore\": 1.0}, {\"nfrac\": 0.95, \"action\": \"Correlation\", \"Precision\": 1.0, \"Recall\": 1.0, \"FScore\": 1.0}, {\"nfrac\": 0.95, \"action\": \"Enhance\", \"Precision\": 1.0, \"Recall\": 1.0, \"FScore\": 1.0}, {\"nfrac\": 1.0, \"action\": \"Correlation\", \"Precision\": 1.0, \"Recall\": 1.0, \"FScore\": 1.0}, {\"nfrac\": 1.0, \"action\": \"Enhance\", \"Precision\": 1.0, \"Recall\": 1.0, \"FScore\": 1.0}]}}, {\"mode\": \"vega-lite\"});\n",
       "</script>"
      ],
      "text/plain": [
       "alt.Chart(...)"
      ]
     },
     "execution_count": 101,
     "metadata": {},
     "output_type": "execute_result"
    }
   ],
   "source": [
    "df = trial_df \n",
    "df = df.groupby([\"nfrac\",\"action\"]).mean().reset_index()\n",
    "alt.Chart(df,title=\"Airbnb (100k rows)\").mark_line().encode(\n",
    "    x = alt.X(\"nfrac\",title=\"Fraction of dataset sampled\"),#scale=alt.Scale(type=\"log\")),\n",
    "    y = alt.Y(\"Recall\",scale=alt.Scale(domain=(0,1.01))),\n",
    "    color = \"action\"\n",
    ").interactive()"
   ]
  },
  {
   "cell_type": "code",
   "execution_count": 98,
   "metadata": {},
   "outputs": [],
   "source": [
    "action_lst = [\"Correlation\",\"Enhance\"]\n",
    "trial = []\n",
    "\n",
    "for action in action_lst :\n",
    "    map1 = pkl.load(open(f\"tmp_airbnb1000000/airbnb_gt_{action}.pkl\",'rb'))\n",
    "    for file in glob.glob(f\"tmp_airbnb1000000/airbnb_nfrac*_{action}_*.pkl\"):\n",
    "        map2 = pkl.load(open(file,'rb'))\n",
    "        nfrac = float(file.split(\"/\")[1:][0].split(\"_\")[1][5:])\n",
    "        prf = compute_prf_between_vislists(map1,map2)\n",
    "        trial.append([nfrac, action, prf[0], prf[1], prf[2]])\n",
    "    # Inserting endpoints \n",
    "    trial.append([0,action, 0,0,0])\n",
    "    trial.append([1,action, 1,1,1])\n",
    "trial_df = pd.DataFrame(\n",
    "    trial,\n",
    "    columns=[\"nfrac\", \"action\", \"Precision\",\"Recall\",\"FScore\"],\n",
    ") "
   ]
  },
  {
   "cell_type": "code",
   "execution_count": 99,
   "metadata": {
    "scrolled": false
   },
   "outputs": [
    {
     "data": {
      "text/html": [
       "\n",
       "<div id=\"altair-viz-24db0b1837d943b19ed99803dbc24104\"></div>\n",
       "<script type=\"text/javascript\">\n",
       "  (function(spec, embedOpt){\n",
       "    let outputDiv = document.currentScript.previousElementSibling;\n",
       "    if (outputDiv.id !== \"altair-viz-24db0b1837d943b19ed99803dbc24104\") {\n",
       "      outputDiv = document.getElementById(\"altair-viz-24db0b1837d943b19ed99803dbc24104\");\n",
       "    }\n",
       "    const paths = {\n",
       "      \"vega\": \"https://cdn.jsdelivr.net/npm//vega@5?noext\",\n",
       "      \"vega-lib\": \"https://cdn.jsdelivr.net/npm//vega-lib?noext\",\n",
       "      \"vega-lite\": \"https://cdn.jsdelivr.net/npm//vega-lite@4.8.1?noext\",\n",
       "      \"vega-embed\": \"https://cdn.jsdelivr.net/npm//vega-embed@6?noext\",\n",
       "    };\n",
       "\n",
       "    function loadScript(lib) {\n",
       "      return new Promise(function(resolve, reject) {\n",
       "        var s = document.createElement('script');\n",
       "        s.src = paths[lib];\n",
       "        s.async = true;\n",
       "        s.onload = () => resolve(paths[lib]);\n",
       "        s.onerror = () => reject(`Error loading script: ${paths[lib]}`);\n",
       "        document.getElementsByTagName(\"head\")[0].appendChild(s);\n",
       "      });\n",
       "    }\n",
       "\n",
       "    function showError(err) {\n",
       "      outputDiv.innerHTML = `<div class=\"error\" style=\"color:red;\">${err}</div>`;\n",
       "      throw err;\n",
       "    }\n",
       "\n",
       "    function displayChart(vegaEmbed) {\n",
       "      vegaEmbed(outputDiv, spec, embedOpt)\n",
       "        .catch(err => showError(`Javascript Error: ${err.message}<br>This usually means there's a typo in your chart specification. See the javascript console for the full traceback.`));\n",
       "    }\n",
       "\n",
       "    if(typeof define === \"function\" && define.amd) {\n",
       "      requirejs.config({paths});\n",
       "      require([\"vega-embed\"], displayChart, err => showError(`Error loading script: ${err.message}`));\n",
       "    } else if (typeof vegaEmbed === \"function\") {\n",
       "      displayChart(vegaEmbed);\n",
       "    } else {\n",
       "      loadScript(\"vega\")\n",
       "        .then(() => loadScript(\"vega-lite\"))\n",
       "        .then(() => loadScript(\"vega-embed\"))\n",
       "        .catch(showError)\n",
       "        .then(() => displayChart(vegaEmbed));\n",
       "    }\n",
       "  })({\"config\": {\"view\": {\"continuousWidth\": 400, \"continuousHeight\": 300}}, \"data\": {\"name\": \"data-579f6e9f00dd447cd7abf12ecafe78c7\"}, \"mark\": \"line\", \"encoding\": {\"color\": {\"type\": \"nominal\", \"field\": \"action\"}, \"x\": {\"type\": \"quantitative\", \"field\": \"nfrac\", \"title\": \"Fraction of dataset sampled\"}, \"y\": {\"type\": \"quantitative\", \"field\": \"Recall\", \"scale\": {\"domain\": [0, 1.01]}}}, \"selection\": {\"selector024\": {\"type\": \"interval\", \"bind\": \"scales\", \"encodings\": [\"x\", \"y\"]}}, \"title\": \"Airbnb (1M rows)\", \"$schema\": \"https://vega.github.io/schema/vega-lite/v4.8.1.json\", \"datasets\": {\"data-579f6e9f00dd447cd7abf12ecafe78c7\": [{\"nfrac\": 0.0, \"action\": \"Correlation\", \"Precision\": 0.0, \"Recall\": 0.0, \"FScore\": 0.0}, {\"nfrac\": 0.0, \"action\": \"Enhance\", \"Precision\": 0.0, \"Recall\": 0.0, \"FScore\": 0.0}, {\"nfrac\": 0.01, \"action\": \"Correlation\", \"Precision\": 1.0, \"Recall\": 0.4666666666666666, \"FScore\": 0.6363636363636364}, {\"nfrac\": 0.01, \"action\": \"Enhance\", \"Precision\": 1.0, \"Recall\": 0.8666666666666667, \"FScore\": 0.9285714285714285}, {\"nfrac\": 0.06, \"action\": \"Correlation\", \"Precision\": 1.0, \"Recall\": 0.9777777777777779, \"FScore\": 0.9885057471264368}, {\"nfrac\": 0.06, \"action\": \"Enhance\", \"Precision\": 1.0, \"Recall\": 1.0, \"FScore\": 1.0}, {\"nfrac\": 0.11, \"action\": \"Correlation\", \"Precision\": 1.0, \"Recall\": 1.0, \"FScore\": 1.0}, {\"nfrac\": 0.11, \"action\": \"Enhance\", \"Precision\": 1.0, \"Recall\": 1.0, \"FScore\": 1.0}, {\"nfrac\": 0.16, \"action\": \"Correlation\", \"Precision\": 1.0, \"Recall\": 0.9777777777777779, \"FScore\": 0.9885057471264368}, {\"nfrac\": 0.16, \"action\": \"Enhance\", \"Precision\": 1.0, \"Recall\": 1.0, \"FScore\": 1.0}, {\"nfrac\": 0.21, \"action\": \"Correlation\", \"Precision\": 1.0, \"Recall\": 0.9333333333333332, \"FScore\": 0.9655172413793104}, {\"nfrac\": 0.21, \"action\": \"Enhance\", \"Precision\": 1.0, \"Recall\": 1.0, \"FScore\": 1.0}, {\"nfrac\": 0.26, \"action\": \"Correlation\", \"Precision\": 1.0, \"Recall\": 0.9555555555555556, \"FScore\": 0.9770114942528737}, {\"nfrac\": 0.26, \"action\": \"Enhance\", \"Precision\": 1.0, \"Recall\": 1.0, \"FScore\": 1.0}, {\"nfrac\": 0.31, \"action\": \"Correlation\", \"Precision\": 1.0, \"Recall\": 0.9777777777777779, \"FScore\": 0.9885057471264368}, {\"nfrac\": 0.31, \"action\": \"Enhance\", \"Precision\": 1.0, \"Recall\": 1.0, \"FScore\": 1.0}, {\"nfrac\": 0.36, \"action\": \"Correlation\", \"Precision\": 1.0, \"Recall\": 1.0, \"FScore\": 1.0}, {\"nfrac\": 0.36, \"action\": \"Enhance\", \"Precision\": 1.0, \"Recall\": 1.0, \"FScore\": 1.0}, {\"nfrac\": 0.41, \"action\": \"Correlation\", \"Precision\": 1.0, \"Recall\": 1.0, \"FScore\": 1.0}, {\"nfrac\": 0.41, \"action\": \"Enhance\", \"Precision\": 1.0, \"Recall\": 1.0, \"FScore\": 1.0}, {\"nfrac\": 0.46, \"action\": \"Correlation\", \"Precision\": 1.0, \"Recall\": 1.0, \"FScore\": 1.0}, {\"nfrac\": 0.46, \"action\": \"Enhance\", \"Precision\": 1.0, \"Recall\": 1.0, \"FScore\": 1.0}, {\"nfrac\": 0.5, \"action\": \"Correlation\", \"Precision\": 1.0, \"Recall\": 1.0, \"FScore\": 1.0}, {\"nfrac\": 0.5, \"action\": \"Enhance\", \"Precision\": 1.0, \"Recall\": 1.0, \"FScore\": 1.0}, {\"nfrac\": 0.55, \"action\": \"Correlation\", \"Precision\": 1.0, \"Recall\": 1.0, \"FScore\": 1.0}, {\"nfrac\": 0.55, \"action\": \"Enhance\", \"Precision\": 1.0, \"Recall\": 1.0, \"FScore\": 1.0}, {\"nfrac\": 0.6, \"action\": \"Correlation\", \"Precision\": 1.0, \"Recall\": 1.0, \"FScore\": 1.0}, {\"nfrac\": 0.6, \"action\": \"Enhance\", \"Precision\": 1.0, \"Recall\": 1.0, \"FScore\": 1.0}, {\"nfrac\": 0.65, \"action\": \"Correlation\", \"Precision\": 1.0, \"Recall\": 1.0, \"FScore\": 1.0}, {\"nfrac\": 0.65, \"action\": \"Enhance\", \"Precision\": 1.0, \"Recall\": 1.0, \"FScore\": 1.0}, {\"nfrac\": 0.7, \"action\": \"Correlation\", \"Precision\": 1.0, \"Recall\": 1.0, \"FScore\": 1.0}, {\"nfrac\": 0.7, \"action\": \"Enhance\", \"Precision\": 1.0, \"Recall\": 1.0, \"FScore\": 1.0}, {\"nfrac\": 0.75, \"action\": \"Correlation\", \"Precision\": 1.0, \"Recall\": 1.0, \"FScore\": 1.0}, {\"nfrac\": 0.75, \"action\": \"Enhance\", \"Precision\": 1.0, \"Recall\": 1.0, \"FScore\": 1.0}, {\"nfrac\": 0.8, \"action\": \"Correlation\", \"Precision\": 1.0, \"Recall\": 1.0, \"FScore\": 1.0}, {\"nfrac\": 0.8, \"action\": \"Enhance\", \"Precision\": 1.0, \"Recall\": 1.0, \"FScore\": 1.0}, {\"nfrac\": 0.85, \"action\": \"Correlation\", \"Precision\": 1.0, \"Recall\": 1.0, \"FScore\": 1.0}, {\"nfrac\": 0.85, \"action\": \"Enhance\", \"Precision\": 1.0, \"Recall\": 1.0, \"FScore\": 1.0}, {\"nfrac\": 0.9, \"action\": \"Correlation\", \"Precision\": 1.0, \"Recall\": 1.0, \"FScore\": 1.0}, {\"nfrac\": 0.9, \"action\": \"Enhance\", \"Precision\": 1.0, \"Recall\": 1.0, \"FScore\": 1.0}, {\"nfrac\": 0.95, \"action\": \"Correlation\", \"Precision\": 1.0, \"Recall\": 1.0, \"FScore\": 1.0}, {\"nfrac\": 0.95, \"action\": \"Enhance\", \"Precision\": 1.0, \"Recall\": 1.0, \"FScore\": 1.0}, {\"nfrac\": 1.0, \"action\": \"Correlation\", \"Precision\": 1.0, \"Recall\": 1.0, \"FScore\": 1.0}, {\"nfrac\": 1.0, \"action\": \"Enhance\", \"Precision\": 1.0, \"Recall\": 1.0, \"FScore\": 1.0}]}}, {\"mode\": \"vega-lite\"});\n",
       "</script>"
      ],
      "text/plain": [
       "alt.Chart(...)"
      ]
     },
     "execution_count": 99,
     "metadata": {},
     "output_type": "execute_result"
    }
   ],
   "source": [
    "df = trial_df \n",
    "df = df.groupby([\"nfrac\",\"action\"]).mean().reset_index()\n",
    "alt.Chart(df,title=\"Airbnb (1M rows)\").mark_line().encode(\n",
    "    x = alt.X(\"nfrac\",title=\"Fraction of dataset sampled\"),#scale=alt.Scale(type=\"log\")),\n",
    "    y = alt.Y(\"Recall\",scale=alt.Scale(domain=(0,1.01))),\n",
    "    color = \"action\"\n",
    ").interactive()"
   ]
  },
  {
   "cell_type": "raw",
   "metadata": {},
   "source": [
    "To achieve > 90% recall\n",
    "50*0.55 = 27.5k\n",
    "100*0.33 = 33k\n",
    "1000*0.05 = 55k"
   ]
  },
  {
   "cell_type": "code",
   "execution_count": null,
   "metadata": {},
   "outputs": [],
   "source": []
  }
 ],
 "metadata": {
  "kernelspec": {
   "display_name": "Python 3",
   "language": "python",
   "name": "python3"
  },
  "language_info": {
   "codemirror_mode": {
    "name": "ipython",
    "version": 3
   },
   "file_extension": ".py",
   "mimetype": "text/x-python",
   "name": "python",
   "nbconvert_exporter": "python",
   "pygments_lexer": "ipython3",
   "version": "3.7.7"
  }
 },
 "nbformat": 4,
 "nbformat_minor": 4
}
