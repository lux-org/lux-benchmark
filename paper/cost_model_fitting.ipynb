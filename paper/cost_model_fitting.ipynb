{
 "cells": [
  {
   "cell_type": "code",
   "execution_count": 1,
   "metadata": {},
   "outputs": [],
   "source": [
    "import pandas as pd\n",
    "import matplotlib.pyplot as plt\n",
    "import numpy as np"
   ]
  },
  {
   "cell_type": "markdown",
   "metadata": {},
   "source": [
    "### Scatterplot Cost Model"
   ]
  },
  {
   "cell_type": "raw",
   "metadata": {},
   "source": [
    "python -i backend/overall/cost_estimation_model.py scatter"
   ]
  },
  {
   "cell_type": "code",
   "execution_count": 2,
   "metadata": {},
   "outputs": [],
   "source": [
    "from numpy import dtype\n",
    "cardinality = {\n",
    " 'dummyfloat1': 1,\n",
    " 'dummyfloat2': 1,\n",
    " 'id': 48895,\n",
    " 'name': 47906,\n",
    " 'host_id': 37457,\n",
    " 'host_name': 11453,\n",
    " 'neighbourhood_group': 5,\n",
    " 'neighbourhood': 221,\n",
    " 'latitude': 19048,\n",
    " 'longitude': 14718,\n",
    " 'room_type': 3,\n",
    " 'price': 674,\n",
    " 'minimum_nights': 109,\n",
    " 'number_of_reviews': 394,\n",
    " 'last_review': 1765,\n",
    " 'reviews_per_month': 938,\n",
    " 'calculated_host_listings_count': 47,\n",
    " 'availability_365': 366}\n",
    "dtype = {'id': dtype('int64'),\n",
    " 'name': dtype('O'),\n",
    " 'host_id': dtype('int64'),\n",
    " 'host_name': dtype('O'),\n",
    " 'neighbourhood_group': dtype('O'),\n",
    " 'neighbourhood': dtype('O'),\n",
    " 'latitude': dtype('float64'),\n",
    " 'longitude': dtype('float64'),\n",
    " 'dummyfloat1': dtype('float64'),\n",
    " 'dummyfloat2': dtype('float64'),\n",
    " 'room_type': dtype('O'),\n",
    " 'price': dtype('int64'),\n",
    " 'minimum_nights': dtype('int64'),\n",
    " 'number_of_reviews': dtype('int64'),\n",
    " 'last_review': dtype('O'),\n",
    " 'reviews_per_month': dtype('float64'),\n",
    " 'calculated_host_listings_count': dtype('int64'),\n",
    " 'availability_365': dtype('int64')}"
   ]
  },
  {
   "cell_type": "code",
   "execution_count": 43,
   "metadata": {},
   "outputs": [],
   "source": [
    "df = pd.read_csv(\"../result/costmodel_scatter.csv\")\n",
    "# df[\"id\"]=df[\"attr1\"]+\";\"+df[\"attr2\"]\n",
    "# df = df[df[\"id\"]!=\"latitude;longitude\"]"
   ]
  },
  {
   "cell_type": "code",
   "execution_count": 44,
   "metadata": {},
   "outputs": [],
   "source": [
    "df[\"G_color1\"] = df[\"attr1\"].apply(lambda x: cardinality[x])\n",
    "df[\"dtype1\"] = df[\"attr1\"].apply(lambda x: str(dtype[x]))\n",
    "df[\"G_color2\"] = df[\"attr2\"].apply(lambda x: cardinality[x])\n",
    "df[\"dtype2\"] = df[\"attr2\"].apply(lambda x: str(dtype[x]))\n",
    "df[\"G_color\"]=df[\"G_color1\"]+df[\"G_color2\"]"
   ]
  },
  {
   "cell_type": "code",
   "execution_count": 92,
   "metadata": {},
   "outputs": [
    {
     "name": "stdout",
     "output_type": "stream",
     "text": [
      "coeff: [ 2.27828870e+00  6.04242891e-06  1.58974871e-10 -1.74858426e-04]\n",
      "error: 2.543494123709982\n"
     ]
    }
   ],
   "source": [
    "y = np.array(df[\"time\"])*1000\n",
    "N = np.array(df[\"nPts\"])\n",
    "G_color = np.array(df[\"G_color\"])\n",
    "X = np.array([N,G_color])\n",
    "\n",
    "from scipy.optimize import curve_fit\n",
    "def func(x, a, b,c,d):\n",
    "    return a + b * x[0] +c*x[0]*x[1] + d*x[1]\n",
    "\n",
    "popt, pcov = curve_fit(func, X,y)\n",
    "\n",
    "y_pred = func(X,*popt)\n",
    "perr = np.sqrt(np.diag(pcov))\n",
    "print (\"coeff:\",popt)\n",
    "print (\"error:\", sum(perr))"
   ]
  },
  {
   "cell_type": "code",
   "execution_count": 91,
   "metadata": {},
   "outputs": [
    {
     "data": {
      "text/plain": [
       "[<matplotlib.lines.Line2D at 0x1397098d0>]"
      ]
     },
     "execution_count": 91,
     "metadata": {},
     "output_type": "execute_result"
    },
    {
     "data": {
      "image/png": "[encoded data removed]",
      "text/plain": [
       "<Figure size 432x288 with 1 Axes>"
      ]
     },
     "metadata": {
      "needs_background": "light"
     },
     "output_type": "display_data"
    }
   ],
   "source": [
    "dim = 0\n",
    "plt.plot(X[dim],y,'o')\n",
    "plt.plot(X[dim],func(X,*popt),'o')"
   ]
  },
  {
   "cell_type": "markdown",
   "metadata": {},
   "source": [
    "When moving float columns around, e.g. longitude/latitude, each scatterplot takes slightly longer"
   ]
  },
  {
   "cell_type": "code",
   "execution_count": 41,
   "metadata": {},
   "outputs": [],
   "source": [
    "# df = pd.read_csv(\"../result/costmodel_scatter.csv\")\n",
    "# df[\"id\"]=df[\"attr1\"]+\";\"+df[\"attr2\"]\n",
    "# df = df[(df[\"id\"]==\"latitude;longitude\")|(df[\"id\"]==\"dummyfloat1;dummyfloat2\")]"
   ]
  },
  {
   "cell_type": "code",
   "execution_count": 47,
   "metadata": {},
   "outputs": [],
   "source": [
    "# import altair as alt\n",
    "\n",
    "# alt.Chart(df).mark_circle().encode(\n",
    "#     y = \"time\",\n",
    "#     x = \"nPts\",\n",
    "#     color = alt.Color(\"id\",type=\"nominal\"),\n",
    "# ).interactive()"
   ]
  },
  {
   "cell_type": "markdown",
   "metadata": {},
   "source": [
    "### Colored Scatterplot Cost Model"
   ]
  },
  {
   "cell_type": "raw",
   "metadata": {},
   "source": [
    "python -i backend/overall/cost_estimation_model.py colorscatter"
   ]
  },
  {
   "cell_type": "code",
   "execution_count": 48,
   "metadata": {},
   "outputs": [],
   "source": [
    "df = pd.read_csv(\"../result/costmodel_colorscatter.csv\")"
   ]
  },
  {
   "cell_type": "code",
   "execution_count": 49,
   "metadata": {},
   "outputs": [],
   "source": [
    "# df = pd.read_csv(\"../../lux-datasets/data/airbnb_nyc.csv\")\n",
    "\n",
    "# lux.config.heatmap = False\n",
    "# from lux.vis.Vis import Vis\n",
    "# for attr in ['host_id', 'host_name', 'neighbourhood_group','neighbourhood', 'room_type', 'number_of_reviews']:\n",
    "#     vis = Vis(['price','minimum_nights',lux.Clause(attr,channel=\"color\")], df)\n",
    "#     vis._repr_html_()"
   ]
  },
  {
   "cell_type": "code",
   "execution_count": 50,
   "metadata": {},
   "outputs": [],
   "source": [
    "airbnb = pd.read_csv(\"../../lux-datasets/data/airbnb_nyc.csv\")"
   ]
  },
  {
   "cell_type": "code",
   "execution_count": 51,
   "metadata": {},
   "outputs": [],
   "source": [
    "# df = pd.read_csv(\"../../lux-datasets/data/airbnb_nyc.csv\")"
   ]
  },
  {
   "cell_type": "code",
   "execution_count": 52,
   "metadata": {},
   "outputs": [],
   "source": [
    "df[\"G_color\"] = df[\"attr\"].apply(lambda x: cardinality[x])\n",
    "df[\"dtype\"] = df[\"attr\"].apply(lambda x: str(dtype[x]))"
   ]
  },
  {
   "cell_type": "code",
   "execution_count": 53,
   "metadata": {},
   "outputs": [
    {
     "data": {
      "text/html": [
       "\n",
       "<div id=\"altair-viz-1cbf15a2a2e14f8680a19dacb1ef1eab\"></div>\n",
       "<script type=\"text/javascript\">\n",
       "  (function(spec, embedOpt){\n",
       "    let outputDiv = document.currentScript.previousElementSibling;\n",
       "    if (outputDiv.id !== \"altair-viz-1cbf15a2a2e14f8680a19dacb1ef1eab\") {\n",
       "      outputDiv = document.getElementById(\"altair-viz-1cbf15a2a2e14f8680a19dacb1ef1eab\");\n",
       "    }\n",
       "    const paths = {\n",
       "      \"vega\": \"https://cdn.jsdelivr.net/npm//vega@5?noext\",\n",
       "      \"vega-lib\": \"https://cdn.jsdelivr.net/npm//vega-lib?noext\",\n",
       "      \"vega-lite\": \"https://cdn.jsdelivr.net/npm//vega-lite@4.8.1?noext\",\n",
       "      \"vega-embed\": \"https://cdn.jsdelivr.net/npm//vega-embed@6?noext\",\n",
       "    };\n",
       "\n",
       "    function loadScript(lib) {\n",
       "      return new Promise(function(resolve, reject) {\n",
       "        var s = document.createElement('script');\n",
       "        s.src = paths[lib];\n",
       "        s.async = true;\n",
       "        s.onload = () => resolve(paths[lib]);\n",
       "        s.onerror = () => reject(`Error loading script: ${paths[lib]}`);\n",
       "        document.getElementsByTagName(\"head\")[0].appendChild(s);\n",
       "      });\n",
       "    }\n",
       "\n",
       "    function showError(err) {\n",
       "      outputDiv.innerHTML = `<div class=\"error\" style=\"color:red;\">${err}</div>`;\n",
       "      throw err;\n",
       "    }\n",
       "\n",
       "    function displayChart(vegaEmbed) {\n",
       "      vegaEmbed(outputDiv, spec, embedOpt)\n",
       "        .catch(err => showError(`Javascript Error: ${err.message}<br>This usually means there's a typo in your chart specification. See the javascript console for the full traceback.`));\n",
       "    }\n",
       "\n",
       "    if(typeof define === \"function\" && define.amd) {\n",
       "      requirejs.config({paths});\n",
       "      require([\"vega-embed\"], displayChart, err => showError(`Error loading script: ${err.message}`));\n",
       "    } else if (typeof vegaEmbed === \"function\") {\n",
       "      displayChart(vegaEmbed);\n",
       "    } else {\n",
       "      loadScript(\"vega\")\n",
       "        .then(() => loadScript(\"vega-lite\"))\n",
       "        .then(() => loadScript(\"vega-embed\"))\n",
       "        .catch(showError)\n",
       "        .then(() => displayChart(vegaEmbed));\n",
       "    }\n",
       "  })({\"config\": {\"view\": {\"continuousWidth\": 400, \"continuousHeight\": 300}}, \"data\": {\"name\": \"data-a4e0d6f51b03c84f240e71c06c6518d3\"}, \"mark\": \"circle\", \"encoding\": {\"color\": {\"type\": \"nominal\", \"field\": \"G_color\"}, \"x\": {\"type\": \"quantitative\", \"field\": \"nPts\"}, \"y\": {\"type\": \"quantitative\", \"field\": \"time\"}}, \"selection\": {\"selector003\": {\"type\": \"interval\", \"bind\": \"scales\", \"encodings\": [\"x\", \"y\"]}}, \"$schema\": \"https://vega.github.io/schema/vega-lite/v4.8.1.json\", \"datasets\": {\"data-a4e0d6f51b03c84f240e71c06c6518d3\": [{\"nPts\": 499999, \"time\": 0.0041623969999982, \"attr\": \"host_id\", \"G_color\": 37457, \"dtype\": \"int64\"}, {\"nPts\": 499999, \"time\": 0.0150346600000013, \"attr\": \"host_name\", \"G_color\": 11453, \"dtype\": \"object\"}, {\"nPts\": 499999, \"time\": 0.0123214280000034, \"attr\": \"neighbourhood_group\", \"G_color\": 5, \"dtype\": \"object\"}, {\"nPts\": 499999, \"time\": 0.0084238339999984, \"attr\": \"neighbourhood\", \"G_color\": 221, \"dtype\": \"object\"}, {\"nPts\": 499999, \"time\": 0.0088946549999988, \"attr\": \"room_type\", \"G_color\": 3, \"dtype\": \"object\"}, {\"nPts\": 499999, \"time\": 0.0042735600000014, \"attr\": \"number_of_reviews\", \"G_color\": 394, \"dtype\": \"int64\"}, {\"nPts\": 711748, \"time\": 0.0081929599999988, \"attr\": \"host_id\", \"G_color\": 37457, \"dtype\": \"int64\"}, {\"nPts\": 711748, \"time\": 0.0168649130000027, \"attr\": \"host_name\", \"G_color\": 11453, \"dtype\": \"object\"}, {\"nPts\": 711748, \"time\": 0.0162176860000009, \"attr\": \"neighbourhood_group\", \"G_color\": 5, \"dtype\": \"object\"}, {\"nPts\": 711748, \"time\": 0.0094803009999999, \"attr\": \"neighbourhood\", \"G_color\": 221, \"dtype\": \"object\"}, {\"nPts\": 711748, \"time\": 0.0090088310000027, \"attr\": \"room_type\", \"G_color\": 3, \"dtype\": \"object\"}, {\"nPts\": 711748, \"time\": 0.0055409660000016, \"attr\": \"number_of_reviews\", \"G_color\": 394, \"dtype\": \"int64\"}, {\"nPts\": 1013173, \"time\": 0.0127126599999982, \"attr\": \"host_id\", \"G_color\": 37457, \"dtype\": \"int64\"}, {\"nPts\": 1013173, \"time\": 0.023943054, \"attr\": \"host_name\", \"G_color\": 11453, \"dtype\": \"object\"}, {\"nPts\": 1013173, \"time\": 0.0233671890000053, \"attr\": \"neighbourhood_group\", \"G_color\": 5, \"dtype\": \"object\"}, {\"nPts\": 1013173, \"time\": 0.013333738, \"attr\": \"neighbourhood\", \"G_color\": 221, \"dtype\": \"object\"}, {\"nPts\": 1013173, \"time\": 0.0122363770000006, \"attr\": \"room_type\", \"G_color\": 3, \"dtype\": \"object\"}, {\"nPts\": 1013173, \"time\": 0.0085083240000045, \"attr\": \"number_of_reviews\", \"G_color\": 394, \"dtype\": \"int64\"}, {\"nPts\": 1442249, \"time\": 0.0178102849999959, \"attr\": \"host_id\", \"G_color\": 37457, \"dtype\": \"int64\"}, {\"nPts\": 1442249, \"time\": 0.0353021990000002, \"attr\": \"host_name\", \"G_color\": 11453, \"dtype\": \"object\"}, {\"nPts\": 1442249, \"time\": 0.0358067640000001, \"attr\": \"neighbourhood_group\", \"G_color\": 5, \"dtype\": \"object\"}, {\"nPts\": 1442249, \"time\": 0.0217283609999938, \"attr\": \"neighbourhood\", \"G_color\": 221, \"dtype\": \"object\"}, {\"nPts\": 1442249, \"time\": 0.0184146409999996, \"attr\": \"room_type\", \"G_color\": 3, \"dtype\": \"object\"}, {\"nPts\": 1442249, \"time\": 0.0111354680000061, \"attr\": \"number_of_reviews\", \"G_color\": 394, \"dtype\": \"int64\"}, {\"nPts\": 2053039, \"time\": 0.0111344799999955, \"attr\": \"host_id\", \"G_color\": 37457, \"dtype\": \"int64\"}, {\"nPts\": 2053039, \"time\": 0.0507888889999961, \"attr\": \"host_name\", \"G_color\": 11453, \"dtype\": \"object\"}, {\"nPts\": 2053039, \"time\": 0.0529209169999944, \"attr\": \"neighbourhood_group\", \"G_color\": 5, \"dtype\": \"object\"}, {\"nPts\": 2053039, \"time\": 0.0311266150000051, \"attr\": \"neighbourhood\", \"G_color\": 221, \"dtype\": \"object\"}, {\"nPts\": 2053039, \"time\": 0.0275340119999967, \"attr\": \"room_type\", \"G_color\": 3, \"dtype\": \"object\"}, {\"nPts\": 2053039, \"time\": 0.0156342880000011, \"attr\": \"number_of_reviews\", \"G_color\": 394, \"dtype\": \"int64\"}, {\"nPts\": 2922496, \"time\": 0.0149135220000005, \"attr\": \"host_id\", \"G_color\": 37457, \"dtype\": \"int64\"}, {\"nPts\": 2922496, \"time\": 0.0721586229999928, \"attr\": \"host_name\", \"G_color\": 11453, \"dtype\": \"object\"}, {\"nPts\": 2922496, \"time\": 0.0892241999999896, \"attr\": \"neighbourhood_group\", \"G_color\": 5, \"dtype\": \"object\"}, {\"nPts\": 2922496, \"time\": 0.0420283229999967, \"attr\": \"neighbourhood\", \"G_color\": 221, \"dtype\": \"object\"}, {\"nPts\": 2922496, \"time\": 0.0357523739999976, \"attr\": \"room_type\", \"G_color\": 3, \"dtype\": \"object\"}, {\"nPts\": 2922496, \"time\": 0.0195050270000081, \"attr\": \"number_of_reviews\", \"G_color\": 394, \"dtype\": \"int64\"}, {\"nPts\": 4160167, \"time\": 0.050725885999995, \"attr\": \"host_id\", \"G_color\": 37457, \"dtype\": \"int64\"}, {\"nPts\": 4160167, \"time\": 0.1046710859999962, \"attr\": \"host_name\", \"G_color\": 11453, \"dtype\": \"object\"}, {\"nPts\": 4160167, \"time\": 0.1074376609999916, \"attr\": \"neighbourhood_group\", \"G_color\": 5, \"dtype\": \"object\"}, {\"nPts\": 4160167, \"time\": 0.0578044829999981, \"attr\": \"neighbourhood\", \"G_color\": 221, \"dtype\": \"object\"}, {\"nPts\": 4160167, \"time\": 0.0518681650000019, \"attr\": \"room_type\", \"G_color\": 3, \"dtype\": \"object\"}, {\"nPts\": 4160167, \"time\": 0.0291077979999982, \"attr\": \"number_of_reviews\", \"G_color\": 394, \"dtype\": \"int64\"}, {\"nPts\": 5921989, \"time\": 0.0693490799999949, \"attr\": \"host_id\", \"G_color\": 37457, \"dtype\": \"int64\"}, {\"nPts\": 5921989, \"time\": 0.151289167999991, \"attr\": \"host_name\", \"G_color\": 11453, \"dtype\": \"object\"}, {\"nPts\": 5921989, \"time\": 0.1501266650000019, \"attr\": \"neighbourhood_group\", \"G_color\": 5, \"dtype\": \"object\"}, {\"nPts\": 5921989, \"time\": 0.0775963960000041, \"attr\": \"neighbourhood\", \"G_color\": 221, \"dtype\": \"object\"}, {\"nPts\": 5921989, \"time\": 0.0654718529999911, \"attr\": \"room_type\", \"G_color\": 3, \"dtype\": \"object\"}, {\"nPts\": 5921989, \"time\": 0.036901721999996, \"attr\": \"number_of_reviews\", \"G_color\": 394, \"dtype\": \"int64\"}, {\"nPts\": 8429939, \"time\": 0.0981334850000053, \"attr\": \"host_id\", \"G_color\": 37457, \"dtype\": \"int64\"}, {\"nPts\": 8429939, \"time\": 0.2109718619999796, \"attr\": \"host_name\", \"G_color\": 11453, \"dtype\": \"object\"}, {\"nPts\": 8429939, \"time\": 0.2120835530000135, \"attr\": \"neighbourhood_group\", \"G_color\": 5, \"dtype\": \"object\"}, {\"nPts\": 8429939, \"time\": 0.1144566220000058, \"attr\": \"neighbourhood\", \"G_color\": 221, \"dtype\": \"object\"}, {\"nPts\": 8429939, \"time\": 0.0960089959999948, \"attr\": \"room_type\", \"G_color\": 3, \"dtype\": \"object\"}, {\"nPts\": 8429939, \"time\": 0.0574575290000041, \"attr\": \"number_of_reviews\", \"G_color\": 394, \"dtype\": \"int64\"}, {\"nPts\": 12000000, \"time\": 0.139897435000023, \"attr\": \"host_id\", \"G_color\": 37457, \"dtype\": \"int64\"}, {\"nPts\": 12000000, \"time\": 0.304322615999979, \"attr\": \"host_name\", \"G_color\": 11453, \"dtype\": \"object\"}, {\"nPts\": 12000000, \"time\": 0.3086996499999941, \"attr\": \"neighbourhood_group\", \"G_color\": 5, \"dtype\": \"object\"}, {\"nPts\": 12000000, \"time\": 0.1374693289999982, \"attr\": \"neighbourhood\", \"G_color\": 221, \"dtype\": \"object\"}, {\"nPts\": 12000000, \"time\": 0.1259044390000099, \"attr\": \"room_type\", \"G_color\": 3, \"dtype\": \"object\"}, {\"nPts\": 12000000, \"time\": 0.0730718570000021, \"attr\": \"number_of_reviews\", \"G_color\": 394, \"dtype\": \"int64\"}]}}, {\"mode\": \"vega-lite\"});\n",
       "</script>"
      ],
      "text/plain": [
       "alt.Chart(...)"
      ]
     },
     "execution_count": 53,
     "metadata": {},
     "output_type": "execute_result"
    }
   ],
   "source": [
    "import altair as alt\n",
    "\n",
    "alt.Chart(df).mark_circle().encode(\n",
    "    y = \"time\",\n",
    "    x = \"nPts\",\n",
    "    color = alt.Color(\"G_color\",type=\"nominal\"),\n",
    ").interactive()"
   ]
  },
  {
   "cell_type": "markdown",
   "metadata": {},
   "source": [
    "### Object dtype"
   ]
  },
  {
   "cell_type": "code",
   "execution_count": 79,
   "metadata": {},
   "outputs": [],
   "source": [
    "df = pd.read_csv(\"../result/costmodel_colorscatter.csv\")\n",
    "df[\"G_color\"] = df[\"attr\"].apply(lambda x: cardinality[x])\n",
    "df[\"dtype\"] = df[\"attr\"].apply(lambda x: str(dtype[x]))\n",
    "df = df[df[\"dtype\"]!=\"int64\"]"
   ]
  },
  {
   "cell_type": "code",
   "execution_count": 80,
   "metadata": {},
   "outputs": [
    {
     "data": {
      "text/plain": [
       "array([ 3.30550323e+00,  1.59183456e-05,  8.15864091e-10, -3.46044528e-04])"
      ]
     },
     "execution_count": 80,
     "metadata": {},
     "output_type": "execute_result"
    }
   ],
   "source": [
    "y = np.array(df[\"time\"])*1000\n",
    "N = np.array(df[\"nPts\"])\n",
    "G_color = np.array(df[\"G_color\"])\n",
    "X = np.array([N,G_color])\n",
    "\n",
    "from scipy.optimize import curve_fit\n",
    "def func(x, a, b,c,d):\n",
    "    return a + b * x[0] +c*x[0]*x[1] + d*x[1]\n",
    "\n",
    "popt, pcov = curve_fit(func, X,y)\n",
    "popt"
   ]
  },
  {
   "cell_type": "code",
   "execution_count": 81,
   "metadata": {},
   "outputs": [
    {
     "name": "stdout",
     "output_type": "stream",
     "text": [
      "error: 8.783206268301111\n"
     ]
    }
   ],
   "source": [
    "y_pred = func(X,*popt)\n",
    "perr = np.sqrt(np.diag(pcov))\n",
    "print (\"error:\", sum(perr))"
   ]
  },
  {
   "cell_type": "code",
   "execution_count": 82,
   "metadata": {},
   "outputs": [
    {
     "data": {
      "text/plain": [
       "[<matplotlib.lines.Line2D at 0x13961d6d0>]"
      ]
     },
     "execution_count": 82,
     "metadata": {},
     "output_type": "execute_result"
    },
    {
     "data": {
      "image/png": "[encoded data removed]",
      "text/plain": [
       "<Figure size 432x288 with 1 Axes>"
      ]
     },
     "metadata": {
      "needs_background": "light"
     },
     "output_type": "display_data"
    }
   ],
   "source": [
    "dim = 0\n",
    "plt.plot(X[dim],y,'o')\n",
    "plt.plot(X[dim],func(X,*popt),'o')"
   ]
  },
  {
   "cell_type": "markdown",
   "metadata": {},
   "source": [
    "### Int dtype"
   ]
  },
  {
   "cell_type": "code",
   "execution_count": 83,
   "metadata": {},
   "outputs": [],
   "source": [
    "df = pd.read_csv(\"../result/costmodel_colorscatter.csv\")\n",
    "df[\"G_color\"] = df[\"attr\"].apply(lambda x: cardinality[x])\n",
    "df[\"dtype\"] = df[\"attr\"].apply(lambda x: str(dtype[x]))\n",
    "df = df[df[\"dtype\"]==\"int64\"]"
   ]
  },
  {
   "cell_type": "code",
   "execution_count": 84,
   "metadata": {},
   "outputs": [
    {
     "data": {
      "text/plain": [
       "array([ 2.27828870e+00,  6.04242891e-06,  1.58974871e-10, -1.74858426e-04])"
      ]
     },
     "execution_count": 84,
     "metadata": {},
     "output_type": "execute_result"
    }
   ],
   "source": [
    "y = np.array(df[\"time\"])*1000\n",
    "N = np.array(df[\"nPts\"])\n",
    "G_color = np.array(df[\"G_color\"])\n",
    "X = np.array([N,G_color])\n",
    "\n",
    "from scipy.optimize import curve_fit\n",
    "def func(x, a, b,c,d):\n",
    "    return a + b * x[0] +c*x[0]*x[1] + d*x[1]\n",
    "\n",
    "popt, pcov = curve_fit(func, X,y)\n",
    "popt"
   ]
  },
  {
   "cell_type": "code",
   "execution_count": 85,
   "metadata": {},
   "outputs": [],
   "source": [
    "y_pred = func(X,*popt)"
   ]
  },
  {
   "cell_type": "code",
   "execution_count": 86,
   "metadata": {},
   "outputs": [
    {
     "name": "stdout",
     "output_type": "stream",
     "text": [
      "error: 2.543494123709982\n"
     ]
    }
   ],
   "source": [
    "perr = np.sqrt(np.diag(pcov))\n",
    "print (\"error:\", sum(perr))"
   ]
  },
  {
   "cell_type": "code",
   "execution_count": 87,
   "metadata": {},
   "outputs": [
    {
     "data": {
      "text/plain": [
       "[<matplotlib.lines.Line2D at 0x13968cd10>]"
      ]
     },
     "execution_count": 87,
     "metadata": {},
     "output_type": "execute_result"
    },
    {
     "data": {
      "image/png": "[encoded data removed]",
      "text/plain": [
       "<Figure size 432x288 with 1 Axes>"
      ]
     },
     "metadata": {
      "needs_background": "light"
     },
     "output_type": "display_data"
    }
   ],
   "source": [
    "dim = 0\n",
    "plt.plot(X[dim],y,'o')\n",
    "plt.plot(X[dim],func(X,*popt),'o')"
   ]
  },
  {
   "cell_type": "markdown",
   "metadata": {},
   "source": [
    "### Selection-based Scatterplot Cost Model"
   ]
  },
  {
   "cell_type": "code",
   "execution_count": 183,
   "metadata": {},
   "outputs": [],
   "source": [
    "df = pd.read_csv(\"../result/costmodel_selection.csv\")"
   ]
  },
  {
   "cell_type": "code",
   "execution_count": 184,
   "metadata": {},
   "outputs": [],
   "source": [
    "df[\"G_color\"] = df[\"attr\"].apply(lambda x: cardinality[x])\n",
    "df[\"dtype\"] = df[\"attr\"].apply(lambda x: str(dtype[x]))"
   ]
  },
  {
   "cell_type": "code",
   "execution_count": 191,
   "metadata": {},
   "outputs": [
    {
     "data": {
      "text/html": [
       "\n",
       "<div id=\"altair-viz-c0ea6c6e0d504f50a86cc910fcac871f\"></div>\n",
       "<script type=\"text/javascript\">\n",
       "  (function(spec, embedOpt){\n",
       "    let outputDiv = document.currentScript.previousElementSibling;\n",
       "    if (outputDiv.id !== \"altair-viz-c0ea6c6e0d504f50a86cc910fcac871f\") {\n",
       "      outputDiv = document.getElementById(\"altair-viz-c0ea6c6e0d504f50a86cc910fcac871f\");\n",
       "    }\n",
       "    const paths = {\n",
       "      \"vega\": \"https://cdn.jsdelivr.net/npm//vega@5?noext\",\n",
       "      \"vega-lib\": \"https://cdn.jsdelivr.net/npm//vega-lib?noext\",\n",
       "      \"vega-lite\": \"https://cdn.jsdelivr.net/npm//vega-lite@4.8.1?noext\",\n",
       "      \"vega-embed\": \"https://cdn.jsdelivr.net/npm//vega-embed@6?noext\",\n",
       "    };\n",
       "\n",
       "    function loadScript(lib) {\n",
       "      return new Promise(function(resolve, reject) {\n",
       "        var s = document.createElement('script');\n",
       "        s.src = paths[lib];\n",
       "        s.async = true;\n",
       "        s.onload = () => resolve(paths[lib]);\n",
       "        s.onerror = () => reject(`Error loading script: ${paths[lib]}`);\n",
       "        document.getElementsByTagName(\"head\")[0].appendChild(s);\n",
       "      });\n",
       "    }\n",
       "\n",
       "    function showError(err) {\n",
       "      outputDiv.innerHTML = `<div class=\"error\" style=\"color:red;\">${err}</div>`;\n",
       "      throw err;\n",
       "    }\n",
       "\n",
       "    function displayChart(vegaEmbed) {\n",
       "      vegaEmbed(outputDiv, spec, embedOpt)\n",
       "        .catch(err => showError(`Javascript Error: ${err.message}<br>This usually means there's a typo in your chart specification. See the javascript console for the full traceback.`));\n",
       "    }\n",
       "\n",
       "    if(typeof define === \"function\" && define.amd) {\n",
       "      requirejs.config({paths});\n",
       "      require([\"vega-embed\"], displayChart, err => showError(`Error loading script: ${err.message}`));\n",
       "    } else if (typeof vegaEmbed === \"function\") {\n",
       "      displayChart(vegaEmbed);\n",
       "    } else {\n",
       "      loadScript(\"vega\")\n",
       "        .then(() => loadScript(\"vega-lite\"))\n",
       "        .then(() => loadScript(\"vega-embed\"))\n",
       "        .catch(showError)\n",
       "        .then(() => displayChart(vegaEmbed));\n",
       "    }\n",
       "  })({\"config\": {\"view\": {\"continuousWidth\": 400, \"continuousHeight\": 300}}, \"data\": {\"name\": \"data-9c56d104519f41ac7cb9a688e9add594\"}, \"mark\": \"circle\", \"encoding\": {\"color\": {\"type\": \"ordinal\", \"field\": \"G_color\"}, \"column\": {\"type\": \"nominal\", \"field\": \"dtype\"}, \"x\": {\"type\": \"quantitative\", \"field\": \"nPts\"}, \"y\": {\"type\": \"quantitative\", \"field\": \"time\"}}, \"selection\": {\"selector032\": {\"type\": \"interval\", \"bind\": \"scales\", \"encodings\": [\"x\", \"y\"]}}, \"$schema\": \"https://vega.github.io/schema/vega-lite/v4.8.1.json\", \"datasets\": {\"data-9c56d104519f41ac7cb9a688e9add594\": [{\"nPts\": 499999, \"time\": 9.483999999559956e-06, \"attr\": \"id\", \"G_color\": 48895, \"dtype\": \"int64\"}, {\"nPts\": 499999, \"time\": 3.328000001801001e-06, \"attr\": \"name\", \"G_color\": 47906, \"dtype\": \"object\"}, {\"nPts\": 499999, \"time\": 2.649999998993735e-06, \"attr\": \"host_id\", \"G_color\": 37457, \"dtype\": \"int64\"}, {\"nPts\": 499999, \"time\": 2.1329999988495274e-06, \"attr\": \"host_name\", \"G_color\": 11453, \"dtype\": \"object\"}, {\"nPts\": 499999, \"time\": 2.0439999985910617e-06, \"attr\": \"neighbourhood_group\", \"G_color\": 5, \"dtype\": \"object\"}, {\"nPts\": 499999, \"time\": 2.044999998673802e-06, \"attr\": \"neighbourhood\", \"G_color\": 221, \"dtype\": \"object\"}, {\"nPts\": 499999, \"time\": 2.181000002821065e-06, \"attr\": \"latitude\", \"G_color\": 19048, \"dtype\": \"float64\"}, {\"nPts\": 499999, \"time\": 2.303000002257249e-06, \"attr\": \"longitude\", \"G_color\": 14718, \"dtype\": \"float64\"}, {\"nPts\": 499999, \"time\": 2.0769999977687803e-06, \"attr\": \"room_type\", \"G_color\": 3, \"dtype\": \"object\"}, {\"nPts\": 499999, \"time\": 2.0670000004940903e-06, \"attr\": \"price\", \"G_color\": 674, \"dtype\": \"int64\"}, {\"nPts\": 499999, \"time\": 2.036999998011879e-06, \"attr\": \"minimum_nights\", \"G_color\": 109, \"dtype\": \"int64\"}, {\"nPts\": 499999, \"time\": 2.348999998957879e-06, \"attr\": \"number_of_reviews\", \"G_color\": 394, \"dtype\": \"int64\"}, {\"nPts\": 499999, \"time\": 2.072000000907792e-06, \"attr\": \"dummyfloat1\", \"G_color\": 1, \"dtype\": \"float64\"}, {\"nPts\": 499999, \"time\": 2.02900000090267e-06, \"attr\": \"dummyfloat2\", \"G_color\": 1, \"dtype\": \"float64\"}, {\"nPts\": 711748, \"time\": 8.227999998666746e-06, \"attr\": \"id\", \"G_color\": 48895, \"dtype\": \"int64\"}, {\"nPts\": 711748, \"time\": 3.014999997219548e-06, \"attr\": \"name\", \"G_color\": 47906, \"dtype\": \"object\"}, {\"nPts\": 711748, \"time\": 2.2739999998577787e-06, \"attr\": \"host_id\", \"G_color\": 37457, \"dtype\": \"int64\"}, {\"nPts\": 711748, \"time\": 2.1680000017454404e-06, \"attr\": \"host_name\", \"G_color\": 11453, \"dtype\": \"object\"}, {\"nPts\": 711748, \"time\": 2.0009999985859395e-06, \"attr\": \"neighbourhood_group\", \"G_color\": 5, \"dtype\": \"object\"}, {\"nPts\": 711748, \"time\": 2.05600000313666e-06, \"attr\": \"neighbourhood\", \"G_color\": 221, \"dtype\": \"object\"}, {\"nPts\": 711748, \"time\": 2.1100000004992125e-06, \"attr\": \"latitude\", \"G_color\": 19048, \"dtype\": \"float64\"}, {\"nPts\": 711748, \"time\": 2.2319999999353968e-06, \"attr\": \"longitude\", \"G_color\": 14718, \"dtype\": \"float64\"}, {\"nPts\": 711748, \"time\": 2.02900000090267e-06, \"attr\": \"room_type\", \"G_color\": 3, \"dtype\": \"object\"}, {\"nPts\": 711748, \"time\": 1.9829999970966128e-06, \"attr\": \"price\", \"G_color\": 674, \"dtype\": \"int64\"}, {\"nPts\": 711748, \"time\": 2.0809999980997418e-06, \"attr\": \"minimum_nights\", \"G_color\": 109, \"dtype\": \"int64\"}, {\"nPts\": 711748, \"time\": 2.136999999180489e-06, \"attr\": \"number_of_reviews\", \"G_color\": 394, \"dtype\": \"int64\"}, {\"nPts\": 711748, \"time\": 2.001000002138653e-06, \"attr\": \"dummyfloat1\", \"G_color\": 1, \"dtype\": \"float64\"}, {\"nPts\": 711748, \"time\": 1.9639999990772594e-06, \"attr\": \"dummyfloat2\", \"G_color\": 1, \"dtype\": \"float64\"}, {\"nPts\": 1013173, \"time\": 7.948000003921152e-06, \"attr\": \"id\", \"G_color\": 48895, \"dtype\": \"int64\"}, {\"nPts\": 1013173, \"time\": 3.096000000368804e-06, \"attr\": \"name\", \"G_color\": 47906, \"dtype\": \"object\"}, {\"nPts\": 1013173, \"time\": 2.2000000043931323e-06, \"attr\": \"host_id\", \"G_color\": 37457, \"dtype\": \"int64\"}, {\"nPts\": 1013173, \"time\": 2.12299999446941e-06, \"attr\": \"host_name\", \"G_color\": 11453, \"dtype\": \"object\"}, {\"nPts\": 1013173, \"time\": 2.170000001910921e-06, \"attr\": \"neighbourhood_group\", \"G_color\": 5, \"dtype\": \"object\"}, {\"nPts\": 1013173, \"time\": 2.070000000742312e-06, \"attr\": \"neighbourhood\", \"G_color\": 221, \"dtype\": \"object\"}, {\"nPts\": 1013173, \"time\": 2.109000000416472e-06, \"attr\": \"latitude\", \"G_color\": 19048, \"dtype\": \"float64\"}, {\"nPts\": 1013173, \"time\": 2.350000002593333e-06, \"attr\": \"longitude\", \"G_color\": 14718, \"dtype\": \"float64\"}, {\"nPts\": 1013173, \"time\": 2.1439999997596715e-06, \"attr\": \"room_type\", \"G_color\": 3, \"dtype\": \"object\"}, {\"nPts\": 1013173, \"time\": 2.049999999087504e-06, \"attr\": \"price\", \"G_color\": 674, \"dtype\": \"int64\"}, {\"nPts\": 1013173, \"time\": 2.0330000012336318e-06, \"attr\": \"minimum_nights\", \"G_color\": 109, \"dtype\": \"int64\"}, {\"nPts\": 1013173, \"time\": 2.12900000207128e-06, \"attr\": \"number_of_reviews\", \"G_color\": 394, \"dtype\": \"int64\"}, {\"nPts\": 1013173, \"time\": 2.0829999982652225e-06, \"attr\": \"dummyfloat1\", \"G_color\": 1, \"dtype\": \"float64\"}, {\"nPts\": 1013173, \"time\": 2.154000000587075e-06, \"attr\": \"dummyfloat2\", \"G_color\": 1, \"dtype\": \"float64\"}, {\"nPts\": 1442249, \"time\": 7.711999998605279e-06, \"attr\": \"id\", \"G_color\": 48895, \"dtype\": \"int64\"}, {\"nPts\": 1442249, \"time\": 2.922000000182834e-06, \"attr\": \"name\", \"G_color\": 47906, \"dtype\": \"object\"}, {\"nPts\": 1442249, \"time\": 2.170999998440948e-06, \"attr\": \"host_id\", \"G_color\": 37457, \"dtype\": \"int64\"}, {\"nPts\": 1442249, \"time\": 2.0399999982601003e-06, \"attr\": \"host_name\", \"G_color\": 11453, \"dtype\": \"object\"}, {\"nPts\": 1442249, \"time\": 2.0680000005768302e-06, \"attr\": \"neighbourhood_group\", \"G_color\": 5, \"dtype\": \"object\"}, {\"nPts\": 1442249, \"time\": 2.0959999957881337e-06, \"attr\": \"neighbourhood\", \"G_color\": 221, \"dtype\": \"object\"}, {\"nPts\": 1442249, \"time\": 2.0889999987616648e-06, \"attr\": \"latitude\", \"G_color\": 19048, \"dtype\": \"float64\"}, {\"nPts\": 1442249, \"time\": 2.260000002252127e-06, \"attr\": \"longitude\", \"G_color\": 14718, \"dtype\": \"float64\"}, {\"nPts\": 1442249, \"time\": 2.15700000438801e-06, \"attr\": \"room_type\", \"G_color\": 3, \"dtype\": \"object\"}, {\"nPts\": 1442249, \"time\": 2.035000001399112e-06, \"attr\": \"price\", \"G_color\": 674, \"dtype\": \"int64\"}, {\"nPts\": 1442249, \"time\": 2.0530000028884388e-06, \"attr\": \"minimum_nights\", \"G_color\": 109, \"dtype\": \"int64\"}, {\"nPts\": 1442249, \"time\": 2.1879999962948204e-06, \"attr\": \"number_of_reviews\", \"G_color\": 394, \"dtype\": \"int64\"}, {\"nPts\": 1442249, \"time\": 2.0550000030539195e-06, \"attr\": \"dummyfloat1\", \"G_color\": 1, \"dtype\": \"float64\"}, {\"nPts\": 1442249, \"time\": 2.056999996113973e-06, \"attr\": \"dummyfloat2\", \"G_color\": 1, \"dtype\": \"float64\"}, {\"nPts\": 2053039, \"time\": 8.504999996716833e-06, \"attr\": \"id\", \"G_color\": 48895, \"dtype\": \"int64\"}, {\"nPts\": 2053039, \"time\": 3.364000001226941e-06, \"attr\": \"name\", \"G_color\": 47906, \"dtype\": \"object\"}, {\"nPts\": 2053039, \"time\": 2.329000004408499e-06, \"attr\": \"host_id\", \"G_color\": 37457, \"dtype\": \"int64\"}, {\"nPts\": 2053039, \"time\": 2.348999998957879e-06, \"attr\": \"host_name\", \"G_color\": 11453, \"dtype\": \"object\"}, {\"nPts\": 2053039, \"time\": 2.127000001905799e-06, \"attr\": \"neighbourhood_group\", \"G_color\": 5, \"dtype\": \"object\"}, {\"nPts\": 2053039, \"time\": 2.086999998596184e-06, \"attr\": \"neighbourhood\", \"G_color\": 221, \"dtype\": \"object\"}, {\"nPts\": 2053039, \"time\": 2.2839999971324687e-06, \"attr\": \"latitude\", \"G_color\": 19048, \"dtype\": \"float64\"}, {\"nPts\": 2053039, \"time\": 2.367000000447206e-06, \"attr\": \"longitude\", \"G_color\": 14718, \"dtype\": \"float64\"}, {\"nPts\": 2053039, \"time\": 2.170000001910921e-06, \"attr\": \"room_type\", \"G_color\": 3, \"dtype\": \"object\"}, {\"nPts\": 2053039, \"time\": 2.0989999995890685e-06, \"attr\": \"price\", \"G_color\": 674, \"dtype\": \"int64\"}, {\"nPts\": 2053039, \"time\": 2.089000005867092e-06, \"attr\": \"minimum_nights\", \"G_color\": 109, \"dtype\": \"int64\"}, {\"nPts\": 2053039, \"time\": 2.17699999893739e-06, \"attr\": \"number_of_reviews\", \"G_color\": 394, \"dtype\": \"int64\"}, {\"nPts\": 2053039, \"time\": 2.0879999951262107e-06, \"attr\": \"dummyfloat1\", \"G_color\": 1, \"dtype\": \"float64\"}, {\"nPts\": 2053039, \"time\": 2.1379999992632293e-06, \"attr\": \"dummyfloat2\", \"G_color\": 1, \"dtype\": \"float64\"}, {\"nPts\": 2922496, \"time\": 8.293000007597584e-06, \"attr\": \"id\", \"G_color\": 48895, \"dtype\": \"int64\"}, {\"nPts\": 2922496, \"time\": 2.8729999996812694e-06, \"attr\": \"name\", \"G_color\": 47906, \"dtype\": \"object\"}, {\"nPts\": 2922496, \"time\": 2.3279999936676177e-06, \"attr\": \"host_id\", \"G_color\": 37457, \"dtype\": \"int64\"}, {\"nPts\": 2922496, \"time\": 2.2389999969618657e-06, \"attr\": \"host_name\", \"G_color\": 11453, \"dtype\": \"object\"}, {\"nPts\": 2922496, \"time\": 2.133999998932268e-06, \"attr\": \"neighbourhood_group\", \"G_color\": 5, \"dtype\": \"object\"}, {\"nPts\": 2922496, \"time\": 2.0819999946297685e-06, \"attr\": \"neighbourhood\", \"G_color\": 221, \"dtype\": \"object\"}, {\"nPts\": 2922496, \"time\": 2.2050000012541204e-06, \"attr\": \"latitude\", \"G_color\": 19048, \"dtype\": \"float64\"}, {\"nPts\": 2922496, \"time\": 2.431999988061761e-06, \"attr\": \"longitude\", \"G_color\": 14718, \"dtype\": \"float64\"}, {\"nPts\": 2922496, \"time\": 2.082000008840623e-06, \"attr\": \"room_type\", \"G_color\": 3, \"dtype\": \"object\"}, {\"nPts\": 2922496, \"time\": 2.012999999578824e-06, \"attr\": \"price\", \"G_color\": 674, \"dtype\": \"int64\"}, {\"nPts\": 2922496, \"time\": 2.0149999926388773e-06, \"attr\": \"minimum_nights\", \"G_color\": 109, \"dtype\": \"int64\"}, {\"nPts\": 2922496, \"time\": 2.071000011483193e-06, \"attr\": \"number_of_reviews\", \"G_color\": 394, \"dtype\": \"int64\"}, {\"nPts\": 2922496, \"time\": 2.1329999952968137e-06, \"attr\": \"dummyfloat1\", \"G_color\": 1, \"dtype\": \"float64\"}, {\"nPts\": 2922496, \"time\": 2.0069999919769543e-06, \"attr\": \"dummyfloat2\", \"G_color\": 1, \"dtype\": \"float64\"}, {\"nPts\": 4160167, \"time\": 1.1055000001647386e-05, \"attr\": \"id\", \"G_color\": 48895, \"dtype\": \"int64\"}, {\"nPts\": 4160167, \"time\": 3.3299999984137685e-06, \"attr\": \"name\", \"G_color\": 47906, \"dtype\": \"object\"}, {\"nPts\": 4160167, \"time\": 2.3209999966411488e-06, \"attr\": \"host_id\", \"G_color\": 37457, \"dtype\": \"int64\"}, {\"nPts\": 4160167, \"time\": 2.040000012470955e-06, \"attr\": \"host_name\", \"G_color\": 11453, \"dtype\": \"object\"}, {\"nPts\": 4160167, \"time\": 2.0309999939627232e-06, \"attr\": \"neighbourhood_group\", \"G_color\": 5, \"dtype\": \"object\"}, {\"nPts\": 4160167, \"time\": 2.172000009181829e-06, \"attr\": \"neighbourhood\", \"G_color\": 221, \"dtype\": \"object\"}, {\"nPts\": 4160167, \"time\": 2.1299999986013063e-06, \"attr\": \"latitude\", \"G_color\": 19048, \"dtype\": \"float64\"}, {\"nPts\": 4160167, \"time\": 2.2709999996095576e-06, \"attr\": \"longitude\", \"G_color\": 14718, \"dtype\": \"float64\"}, {\"nPts\": 4160167, \"time\": 2.0660000075167773e-06, \"attr\": \"room_type\", \"G_color\": 3, \"dtype\": \"object\"}, {\"nPts\": 4160167, \"time\": 1.998000001890432e-06, \"attr\": \"price\", \"G_color\": 674, \"dtype\": \"int64\"}, {\"nPts\": 4160167, \"time\": 2.057999992644e-06, \"attr\": \"minimum_nights\", \"G_color\": 109, \"dtype\": \"int64\"}, {\"nPts\": 4160167, \"time\": 2.08500000553613e-06, \"attr\": \"number_of_reviews\", \"G_color\": 394, \"dtype\": \"int64\"}, {\"nPts\": 4160167, \"time\": 2.01199999594337e-06, \"attr\": \"dummyfloat1\", \"G_color\": 1, \"dtype\": \"float64\"}, {\"nPts\": 4160167, \"time\": 2.054999995948492e-06, \"attr\": \"dummyfloat2\", \"G_color\": 1, \"dtype\": \"float64\"}, {\"nPts\": 5921989, \"time\": 7.876999987388444e-06, \"attr\": \"id\", \"G_color\": 48895, \"dtype\": \"int64\"}, {\"nPts\": 5921989, \"time\": 2.968000003988891e-06, \"attr\": \"name\", \"G_color\": 47906, \"dtype\": \"object\"}, {\"nPts\": 5921989, \"time\": 2.329999986727671e-06, \"attr\": \"host_id\", \"G_color\": 37457, \"dtype\": \"int64\"}, {\"nPts\": 5921989, \"time\": 2.1959999969567434e-06, \"attr\": \"host_name\", \"G_color\": 11453, \"dtype\": \"object\"}, {\"nPts\": 5921989, \"time\": 2.1310000022367603e-06, \"attr\": \"neighbourhood_group\", \"G_color\": 5, \"dtype\": \"object\"}, {\"nPts\": 5921989, \"time\": 2.0680000005768302e-06, \"attr\": \"neighbourhood\", \"G_color\": 221, \"dtype\": \"object\"}, {\"nPts\": 5921989, \"time\": 2.1399999923232822e-06, \"attr\": \"latitude\", \"G_color\": 19048, \"dtype\": \"float64\"}, {\"nPts\": 5921989, \"time\": 2.373999990368248e-06, \"attr\": \"longitude\", \"G_color\": 14718, \"dtype\": \"float64\"}, {\"nPts\": 5921989, \"time\": 2.086999998596184e-06, \"attr\": \"room_type\", \"G_color\": 3, \"dtype\": \"object\"}, {\"nPts\": 5921989, \"time\": 2.156999997282582e-06, \"attr\": \"price\", \"G_color\": 674, \"dtype\": \"int64\"}, {\"nPts\": 5921989, \"time\": 2.076999990663353e-06, \"attr\": \"minimum_nights\", \"G_color\": 109, \"dtype\": \"int64\"}, {\"nPts\": 5921989, \"time\": 2.080000001569715e-06, \"attr\": \"number_of_reviews\", \"G_color\": 394, \"dtype\": \"int64\"}, {\"nPts\": 5921989, \"time\": 2.0349999942936847e-06, \"attr\": \"dummyfloat1\", \"G_color\": 1, \"dtype\": \"float64\"}, {\"nPts\": 5921989, \"time\": 2.0510000098283854e-06, \"attr\": \"dummyfloat2\", \"G_color\": 1, \"dtype\": \"float64\"}, {\"nPts\": 8429939, \"time\": 8.976000003713125e-06, \"attr\": \"id\", \"G_color\": 48895, \"dtype\": \"int64\"}, {\"nPts\": 8429939, \"time\": 2.8190000023187167e-06, \"attr\": \"name\", \"G_color\": 47906, \"dtype\": \"object\"}, {\"nPts\": 8429939, \"time\": 2.2560000161320204e-06, \"attr\": \"host_id\", \"G_color\": 37457, \"dtype\": \"int64\"}, {\"nPts\": 8429939, \"time\": 2.077000004874208e-06, \"attr\": \"host_name\", \"G_color\": 11453, \"dtype\": \"object\"}, {\"nPts\": 8429939, \"time\": 2.0809999909943144e-06, \"attr\": \"neighbourhood_group\", \"G_color\": 5, \"dtype\": \"object\"}, {\"nPts\": 8429939, \"time\": 2.067999986365976e-06, \"attr\": \"neighbourhood\", \"G_color\": 221, \"dtype\": \"object\"}, {\"nPts\": 8429939, \"time\": 2.06300001082127e-06, \"attr\": \"latitude\", \"G_color\": 19048, \"dtype\": \"float64\"}, {\"nPts\": 8429939, \"time\": 2.1430000174404995e-06, \"attr\": \"longitude\", \"G_color\": 14718, \"dtype\": \"float64\"}, {\"nPts\": 8429939, \"time\": 2.047000009497424e-06, \"attr\": \"room_type\", \"G_color\": 3, \"dtype\": \"object\"}, {\"nPts\": 8429939, \"time\": 2.0239999969362543e-06, \"attr\": \"price\", \"G_color\": 674, \"dtype\": \"int64\"}, {\"nPts\": 8429939, \"time\": 2.0749999976033e-06, \"attr\": \"minimum_nights\", \"G_color\": 109, \"dtype\": \"int64\"}, {\"nPts\": 8429939, \"time\": 2.08599999496073e-06, \"attr\": \"number_of_reviews\", \"G_color\": 394, \"dtype\": \"int64\"}, {\"nPts\": 8429939, \"time\": 2.0389999804137915e-06, \"attr\": \"dummyfloat1\", \"G_color\": 1, \"dtype\": \"float64\"}, {\"nPts\": 8429939, \"time\": 1.986000000897548e-06, \"attr\": \"dummyfloat2\", \"G_color\": 1, \"dtype\": \"float64\"}, {\"nPts\": 12000000, \"time\": 1.513799998065224e-05, \"attr\": \"id\", \"G_color\": 48895, \"dtype\": \"int64\"}, {\"nPts\": 12000000, \"time\": 3.783000011026161e-06, \"attr\": \"name\", \"G_color\": 47906, \"dtype\": \"object\"}, {\"nPts\": 12000000, \"time\": 2.4240000016106933e-06, \"attr\": \"host_id\", \"G_color\": 37457, \"dtype\": \"int64\"}, {\"nPts\": 12000000, \"time\": 2.128999994965852e-06, \"attr\": \"host_name\", \"G_color\": 11453, \"dtype\": \"object\"}, {\"nPts\": 12000000, \"time\": 2.155999993647129e-06, \"attr\": \"neighbourhood_group\", \"G_color\": 5, \"dtype\": \"object\"}, {\"nPts\": 12000000, \"time\": 2.098000010164469e-06, \"attr\": \"neighbourhood\", \"G_color\": 221, \"dtype\": \"object\"}, {\"nPts\": 12000000, \"time\": 2.425000019457002e-06, \"attr\": \"latitude\", \"G_color\": 19048, \"dtype\": \"float64\"}, {\"nPts\": 12000000, \"time\": 2.397000002929417e-06, \"attr\": \"longitude\", \"G_color\": 14718, \"dtype\": \"float64\"}, {\"nPts\": 12000000, \"time\": 2.1170000081838225e-06, \"attr\": \"room_type\", \"G_color\": 3, \"dtype\": \"object\"}, {\"nPts\": 12000000, \"time\": 2.0869999843853293e-06, \"attr\": \"price\", \"G_color\": 674, \"dtype\": \"int64\"}, {\"nPts\": 12000000, \"time\": 2.0680000147876854e-06, \"attr\": \"minimum_nights\", \"G_color\": 109, \"dtype\": \"int64\"}, {\"nPts\": 12000000, \"time\": 2.1709999771246657e-06, \"attr\": \"number_of_reviews\", \"G_color\": 394, \"dtype\": \"int64\"}, {\"nPts\": 12000000, \"time\": 2.130000012812161e-06, \"attr\": \"dummyfloat1\", \"G_color\": 1, \"dtype\": \"float64\"}, {\"nPts\": 12000000, \"time\": 2.0840000161115317e-06, \"attr\": \"dummyfloat2\", \"G_color\": 1, \"dtype\": \"float64\"}]}}, {\"mode\": \"vega-lite\"});\n",
       "</script>"
      ],
      "text/plain": [
       "alt.Chart(...)"
      ]
     },
     "execution_count": 191,
     "metadata": {},
     "output_type": "execute_result"
    }
   ],
   "source": [
    "import altair as alt\n",
    "\n",
    "alt.Chart(df).mark_circle().encode(\n",
    "    y = \"time\",\n",
    "    x = \"nPts\",\n",
    "    color = alt.Color(\"G_color\",type=\"ordinal\"),\n",
    "    column = alt.Column(\"dtype\",type=\"nominal\"),\n",
    ").interactive()"
   ]
  },
  {
   "cell_type": "markdown",
   "metadata": {},
   "source": [
    "### The total cost of the scatterplot is the sum of fetching each of the channel columns: "
   ]
  },
  {
   "cell_type": "code",
   "execution_count": 171,
   "metadata": {},
   "outputs": [],
   "source": [
    "df = pd.read_csv(\"../result/costmodel_scatter.csv\")\n",
    "df[\"id\"]=df[\"attr1\"]+\";\"+df[\"attr2\"]\n",
    "df = df[df[\"id\"]==\"price;minimum_nights\"]"
   ]
  },
  {
   "cell_type": "code",
   "execution_count": 172,
   "metadata": {},
   "outputs": [],
   "source": [
    "colordf = pd.read_csv(\"../result/costmodel_colorscatter.csv\")"
   ]
  },
  {
   "cell_type": "code",
   "execution_count": 180,
   "metadata": {},
   "outputs": [
    {
     "data": {
      "text/html": [
       "\n",
       "<div id=\"altair-viz-e675b60d8ff24d20a0ac29061b5c7222\"></div>\n",
       "<script type=\"text/javascript\">\n",
       "  (function(spec, embedOpt){\n",
       "    let outputDiv = document.currentScript.previousElementSibling;\n",
       "    if (outputDiv.id !== \"altair-viz-e675b60d8ff24d20a0ac29061b5c7222\") {\n",
       "      outputDiv = document.getElementById(\"altair-viz-e675b60d8ff24d20a0ac29061b5c7222\");\n",
       "    }\n",
       "    const paths = {\n",
       "      \"vega\": \"https://cdn.jsdelivr.net/npm//vega@5?noext\",\n",
       "      \"vega-lib\": \"https://cdn.jsdelivr.net/npm//vega-lib?noext\",\n",
       "      \"vega-lite\": \"https://cdn.jsdelivr.net/npm//vega-lite@4.8.1?noext\",\n",
       "      \"vega-embed\": \"https://cdn.jsdelivr.net/npm//vega-embed@6?noext\",\n",
       "    };\n",
       "\n",
       "    function loadScript(lib) {\n",
       "      return new Promise(function(resolve, reject) {\n",
       "        var s = document.createElement('script');\n",
       "        s.src = paths[lib];\n",
       "        s.async = true;\n",
       "        s.onload = () => resolve(paths[lib]);\n",
       "        s.onerror = () => reject(`Error loading script: ${paths[lib]}`);\n",
       "        document.getElementsByTagName(\"head\")[0].appendChild(s);\n",
       "      });\n",
       "    }\n",
       "\n",
       "    function showError(err) {\n",
       "      outputDiv.innerHTML = `<div class=\"error\" style=\"color:red;\">${err}</div>`;\n",
       "      throw err;\n",
       "    }\n",
       "\n",
       "    function displayChart(vegaEmbed) {\n",
       "      vegaEmbed(outputDiv, spec, embedOpt)\n",
       "        .catch(err => showError(`Javascript Error: ${err.message}<br>This usually means there's a typo in your chart specification. See the javascript console for the full traceback.`));\n",
       "    }\n",
       "\n",
       "    if(typeof define === \"function\" && define.amd) {\n",
       "      requirejs.config({paths});\n",
       "      require([\"vega-embed\"], displayChart, err => showError(`Error loading script: ${err.message}`));\n",
       "    } else if (typeof vegaEmbed === \"function\") {\n",
       "      displayChart(vegaEmbed);\n",
       "    } else {\n",
       "      loadScript(\"vega\")\n",
       "        .then(() => loadScript(\"vega-lite\"))\n",
       "        .then(() => loadScript(\"vega-embed\"))\n",
       "        .catch(showError)\n",
       "        .then(() => displayChart(vegaEmbed));\n",
       "    }\n",
       "  })({\"config\": {\"view\": {\"continuousWidth\": 400, \"continuousHeight\": 300}}, \"layer\": [{\"data\": {\"name\": \"data-e6661118143d20905a99a17c3c30fdf9\"}, \"mark\": \"circle\", \"encoding\": {\"x\": {\"type\": \"quantitative\", \"field\": \"nPts\"}, \"y\": {\"type\": \"quantitative\", \"field\": \"time\"}}, \"selection\": {\"selector026\": {\"type\": \"interval\", \"bind\": \"scales\", \"encodings\": [\"x\", \"y\"]}}}, {\"data\": {\"name\": \"data-1f07eb143af377df516f1a88b8f48007\"}, \"mark\": {\"type\": \"circle\", \"color\": \"red\"}, \"encoding\": {\"x\": {\"type\": \"quantitative\", \"field\": \"nPts\"}, \"y\": {\"type\": \"quantitative\", \"field\": \"time\"}}, \"selection\": {\"selector027\": {\"type\": \"interval\", \"bind\": \"scales\", \"encodings\": [\"x\", \"y\"]}}}], \"$schema\": \"https://vega.github.io/schema/vega-lite/v4.8.1.json\", \"datasets\": {\"data-e6661118143d20905a99a17c3c30fdf9\": [{\"nPts\": 499999, \"time\": 0.0074337179999979, \"attr1\": \"price\", \"attr2\": \"minimum_nights\", \"id\": \"price;minimum_nights\"}, {\"nPts\": 711748, \"time\": 0.0037207499999993, \"attr1\": \"price\", \"attr2\": \"minimum_nights\", \"id\": \"price;minimum_nights\"}, {\"nPts\": 1013173, \"time\": 0.010153350000003, \"attr1\": \"price\", \"attr2\": \"minimum_nights\", \"id\": \"price;minimum_nights\"}, {\"nPts\": 1442249, \"time\": 0.0083185260000036, \"attr1\": \"price\", \"attr2\": \"minimum_nights\", \"id\": \"price;minimum_nights\"}, {\"nPts\": 2053039, \"time\": 0.0088956459999991, \"attr1\": \"price\", \"attr2\": \"minimum_nights\", \"id\": \"price;minimum_nights\"}, {\"nPts\": 2922496, \"time\": 0.0119453920000012, \"attr1\": \"price\", \"attr2\": \"minimum_nights\", \"id\": \"price;minimum_nights\"}, {\"nPts\": 4160167, \"time\": 0.0171030869999953, \"attr1\": \"price\", \"attr2\": \"minimum_nights\", \"id\": \"price;minimum_nights\"}, {\"nPts\": 5921989, \"time\": 0.0277865079999912, \"attr1\": \"price\", \"attr2\": \"minimum_nights\", \"id\": \"price;minimum_nights\"}, {\"nPts\": 8429939, \"time\": 0.0297395579999886, \"attr1\": \"price\", \"attr2\": \"minimum_nights\", \"id\": \"price;minimum_nights\"}, {\"nPts\": 12000000, \"time\": 0.0419851170000242, \"attr1\": \"price\", \"attr2\": \"minimum_nights\", \"id\": \"price;minimum_nights\"}], \"data-1f07eb143af377df516f1a88b8f48007\": [{\"nPts\": 499999, \"time\": 0.0041623969999982, \"attr\": \"host_id\"}, {\"nPts\": 499999, \"time\": 0.0150346600000013, \"attr\": \"host_name\"}, {\"nPts\": 499999, \"time\": 0.0123214280000034, \"attr\": \"neighbourhood_group\"}, {\"nPts\": 499999, \"time\": 0.0084238339999984, \"attr\": \"neighbourhood\"}, {\"nPts\": 499999, \"time\": 0.0088946549999988, \"attr\": \"room_type\"}, {\"nPts\": 499999, \"time\": 0.0042735600000014, \"attr\": \"number_of_reviews\"}, {\"nPts\": 711748, \"time\": 0.0081929599999988, \"attr\": \"host_id\"}, {\"nPts\": 711748, \"time\": 0.0168649130000027, \"attr\": \"host_name\"}, {\"nPts\": 711748, \"time\": 0.0162176860000009, \"attr\": \"neighbourhood_group\"}, {\"nPts\": 711748, \"time\": 0.0094803009999999, \"attr\": \"neighbourhood\"}, {\"nPts\": 711748, \"time\": 0.0090088310000027, \"attr\": \"room_type\"}, {\"nPts\": 711748, \"time\": 0.0055409660000016, \"attr\": \"number_of_reviews\"}, {\"nPts\": 1013173, \"time\": 0.0127126599999982, \"attr\": \"host_id\"}, {\"nPts\": 1013173, \"time\": 0.023943054, \"attr\": \"host_name\"}, {\"nPts\": 1013173, \"time\": 0.0233671890000053, \"attr\": \"neighbourhood_group\"}, {\"nPts\": 1013173, \"time\": 0.013333738, \"attr\": \"neighbourhood\"}, {\"nPts\": 1013173, \"time\": 0.0122363770000006, \"attr\": \"room_type\"}, {\"nPts\": 1013173, \"time\": 0.0085083240000045, \"attr\": \"number_of_reviews\"}, {\"nPts\": 1442249, \"time\": 0.0178102849999959, \"attr\": \"host_id\"}, {\"nPts\": 1442249, \"time\": 0.0353021990000002, \"attr\": \"host_name\"}, {\"nPts\": 1442249, \"time\": 0.0358067640000001, \"attr\": \"neighbourhood_group\"}, {\"nPts\": 1442249, \"time\": 0.0217283609999938, \"attr\": \"neighbourhood\"}, {\"nPts\": 1442249, \"time\": 0.0184146409999996, \"attr\": \"room_type\"}, {\"nPts\": 1442249, \"time\": 0.0111354680000061, \"attr\": \"number_of_reviews\"}, {\"nPts\": 2053039, \"time\": 0.0111344799999955, \"attr\": \"host_id\"}, {\"nPts\": 2053039, \"time\": 0.0507888889999961, \"attr\": \"host_name\"}, {\"nPts\": 2053039, \"time\": 0.0529209169999944, \"attr\": \"neighbourhood_group\"}, {\"nPts\": 2053039, \"time\": 0.0311266150000051, \"attr\": \"neighbourhood\"}, {\"nPts\": 2053039, \"time\": 0.0275340119999967, \"attr\": \"room_type\"}, {\"nPts\": 2053039, \"time\": 0.0156342880000011, \"attr\": \"number_of_reviews\"}, {\"nPts\": 2922496, \"time\": 0.0149135220000005, \"attr\": \"host_id\"}, {\"nPts\": 2922496, \"time\": 0.0721586229999928, \"attr\": \"host_name\"}, {\"nPts\": 2922496, \"time\": 0.0892241999999896, \"attr\": \"neighbourhood_group\"}, {\"nPts\": 2922496, \"time\": 0.0420283229999967, \"attr\": \"neighbourhood\"}, {\"nPts\": 2922496, \"time\": 0.0357523739999976, \"attr\": \"room_type\"}, {\"nPts\": 2922496, \"time\": 0.0195050270000081, \"attr\": \"number_of_reviews\"}, {\"nPts\": 4160167, \"time\": 0.050725885999995, \"attr\": \"host_id\"}, {\"nPts\": 4160167, \"time\": 0.1046710859999962, \"attr\": \"host_name\"}, {\"nPts\": 4160167, \"time\": 0.1074376609999916, \"attr\": \"neighbourhood_group\"}, {\"nPts\": 4160167, \"time\": 0.0578044829999981, \"attr\": \"neighbourhood\"}, {\"nPts\": 4160167, \"time\": 0.0518681650000019, \"attr\": \"room_type\"}, {\"nPts\": 4160167, \"time\": 0.0291077979999982, \"attr\": \"number_of_reviews\"}, {\"nPts\": 5921989, \"time\": 0.0693490799999949, \"attr\": \"host_id\"}, {\"nPts\": 5921989, \"time\": 0.151289167999991, \"attr\": \"host_name\"}, {\"nPts\": 5921989, \"time\": 0.1501266650000019, \"attr\": \"neighbourhood_group\"}, {\"nPts\": 5921989, \"time\": 0.0775963960000041, \"attr\": \"neighbourhood\"}, {\"nPts\": 5921989, \"time\": 0.0654718529999911, \"attr\": \"room_type\"}, {\"nPts\": 5921989, \"time\": 0.036901721999996, \"attr\": \"number_of_reviews\"}, {\"nPts\": 8429939, \"time\": 0.0981334850000053, \"attr\": \"host_id\"}, {\"nPts\": 8429939, \"time\": 0.2109718619999796, \"attr\": \"host_name\"}, {\"nPts\": 8429939, \"time\": 0.2120835530000135, \"attr\": \"neighbourhood_group\"}, {\"nPts\": 8429939, \"time\": 0.1144566220000058, \"attr\": \"neighbourhood\"}, {\"nPts\": 8429939, \"time\": 0.0960089959999948, \"attr\": \"room_type\"}, {\"nPts\": 8429939, \"time\": 0.0574575290000041, \"attr\": \"number_of_reviews\"}, {\"nPts\": 12000000, \"time\": 0.139897435000023, \"attr\": \"host_id\"}, {\"nPts\": 12000000, \"time\": 0.304322615999979, \"attr\": \"host_name\"}, {\"nPts\": 12000000, \"time\": 0.3086996499999941, \"attr\": \"neighbourhood_group\"}, {\"nPts\": 12000000, \"time\": 0.1374693289999982, \"attr\": \"neighbourhood\"}, {\"nPts\": 12000000, \"time\": 0.1259044390000099, \"attr\": \"room_type\"}, {\"nPts\": 12000000, \"time\": 0.0730718570000021, \"attr\": \"number_of_reviews\"}]}}, {\"mode\": \"vega-lite\"});\n",
       "</script>"
      ],
      "text/plain": [
       "alt.LayerChart(...)"
      ]
     },
     "execution_count": 180,
     "metadata": {},
     "output_type": "execute_result"
    }
   ],
   "source": [
    "import altair as alt\n",
    "\n",
    "a = alt.Chart(df).mark_circle().encode(\n",
    "    y = \"time\",\n",
    "    x = \"nPts\",\n",
    ").interactive()\n",
    "\n",
    "b = alt.Chart(colordf).mark_circle(color=\"red\").encode(\n",
    "    y = \"time\",\n",
    "    x = \"nPts\"\n",
    ").interactive()\n",
    "a+b"
   ]
  },
  {
   "cell_type": "markdown",
   "metadata": {},
   "source": [
    "### Bar Chart Cost model "
   ]
  },
  {
   "cell_type": "code",
   "execution_count": 83,
   "metadata": {},
   "outputs": [],
   "source": [
    "df = pd.read_csv(\"../result/costmodel_bar.csv\")\n",
    "df[\"time\"] = df[\"time\"]*1000\n",
    "bar = df[(df[\"G_color\"]==0)]"
   ]
  },
  {
   "cell_type": "code",
   "execution_count": 84,
   "metadata": {},
   "outputs": [
    {
     "data": {
      "text/html": [
       "\n",
       "<div id=\"altair-viz-b57a089a133940b0aeb671d515695709\"></div>\n",
       "<script type=\"text/javascript\">\n",
       "  (function(spec, embedOpt){\n",
       "    let outputDiv = document.currentScript.previousElementSibling;\n",
       "    if (outputDiv.id !== \"altair-viz-b57a089a133940b0aeb671d515695709\") {\n",
       "      outputDiv = document.getElementById(\"altair-viz-b57a089a133940b0aeb671d515695709\");\n",
       "    }\n",
       "    const paths = {\n",
       "      \"vega\": \"https://cdn.jsdelivr.net/npm//vega@5?noext\",\n",
       "      \"vega-lib\": \"https://cdn.jsdelivr.net/npm//vega-lib?noext\",\n",
       "      \"vega-lite\": \"https://cdn.jsdelivr.net/npm//vega-lite@4.8.1?noext\",\n",
       "      \"vega-embed\": \"https://cdn.jsdelivr.net/npm//vega-embed@6?noext\",\n",
       "    };\n",
       "\n",
       "    function loadScript(lib) {\n",
       "      return new Promise(function(resolve, reject) {\n",
       "        var s = document.createElement('script');\n",
       "        s.src = paths[lib];\n",
       "        s.async = true;\n",
       "        s.onload = () => resolve(paths[lib]);\n",
       "        s.onerror = () => reject(`Error loading script: ${paths[lib]}`);\n",
       "        document.getElementsByTagName(\"head\")[0].appendChild(s);\n",
       "      });\n",
       "    }\n",
       "\n",
       "    function showError(err) {\n",
       "      outputDiv.innerHTML = `<div class=\"error\" style=\"color:red;\">${err}</div>`;\n",
       "      throw err;\n",
       "    }\n",
       "\n",
       "    function displayChart(vegaEmbed) {\n",
       "      vegaEmbed(outputDiv, spec, embedOpt)\n",
       "        .catch(err => showError(`Javascript Error: ${err.message}<br>This usually means there's a typo in your chart specification. See the javascript console for the full traceback.`));\n",
       "    }\n",
       "\n",
       "    if(typeof define === \"function\" && define.amd) {\n",
       "      requirejs.config({paths});\n",
       "      require([\"vega-embed\"], displayChart, err => showError(`Error loading script: ${err.message}`));\n",
       "    } else if (typeof vegaEmbed === \"function\") {\n",
       "      displayChart(vegaEmbed);\n",
       "    } else {\n",
       "      loadScript(\"vega\")\n",
       "        .then(() => loadScript(\"vega-lite\"))\n",
       "        .then(() => loadScript(\"vega-embed\"))\n",
       "        .catch(showError)\n",
       "        .then(() => displayChart(vegaEmbed));\n",
       "    }\n",
       "  })({\"config\": {\"view\": {\"continuousWidth\": 400, \"continuousHeight\": 300}}, \"data\": {\"name\": \"data-29d8a61bef1c5801c508d4f9e5595ab1\"}, \"mark\": \"circle\", \"encoding\": {\"color\": {\"type\": \"nominal\", \"field\": \"G_axes\"}, \"x\": {\"type\": \"quantitative\", \"field\": \"nPts\"}, \"y\": {\"type\": \"quantitative\", \"field\": \"time\"}}, \"$schema\": \"https://vega.github.io/schema/vega-lite/v4.8.1.json\", \"datasets\": {\"data-29d8a61bef1c5801c508d4f9e5595ab1\": [{\"nPts\": 499999, \"time\": 52.4938870000006, \"G_axes\": 3, \"G_color\": 0}, {\"nPts\": 499999, \"time\": 55.9543570000009, \"G_axes\": 5, \"G_color\": 0}, {\"nPts\": 499999, \"time\": 61.8525969999979, \"G_axes\": 221, \"G_color\": 0}, {\"nPts\": 499999, \"time\": 196.4820570000007, \"G_axes\": 11453, \"G_color\": 0}, {\"nPts\": 499999, \"time\": 390.6898250000026, \"G_axes\": 47905, \"G_color\": 0}, {\"nPts\": 711748, \"time\": 76.5695700000002, \"G_axes\": 3, \"G_color\": 0}, {\"nPts\": 711748, \"time\": 72.7699350000001, \"G_axes\": 5, \"G_color\": 0}, {\"nPts\": 711748, \"time\": 94.8967729999985, \"G_axes\": 221, \"G_color\": 0}, {\"nPts\": 711748, \"time\": 288.4752490000011, \"G_axes\": 11453, \"G_color\": 0}, {\"nPts\": 711748, \"time\": 472.0767399999985, \"G_axes\": 47906, \"G_color\": 0}, {\"nPts\": 1013173, \"time\": 84.2703, \"G_axes\": 3, \"G_color\": 0}, {\"nPts\": 1013173, \"time\": 80.4809150000025, \"G_axes\": 5, \"G_color\": 0}, {\"nPts\": 1013173, \"time\": 116.17764799999709, \"G_axes\": 221, \"G_color\": 0}, {\"nPts\": 1013173, \"time\": 389.3287490000006, \"G_axes\": 11453, \"G_color\": 0}, {\"nPts\": 1013173, \"time\": 607.9375340000013, \"G_axes\": 47906, \"G_color\": 0}, {\"nPts\": 1442249, \"time\": 108.0816569999996, \"G_axes\": 3, \"G_color\": 0}, {\"nPts\": 1442249, \"time\": 90.8943160000035, \"G_axes\": 5, \"G_color\": 0}, {\"nPts\": 1442249, \"time\": 122.5358100000022, \"G_axes\": 221, \"G_color\": 0}, {\"nPts\": 1442249, \"time\": 508.5325860000012, \"G_axes\": 11453, \"G_color\": 0}, {\"nPts\": 1442249, \"time\": 793.6505369999977, \"G_axes\": 47906, \"G_color\": 0}, {\"nPts\": 2053039, \"time\": 161.205283000001, \"G_axes\": 3, \"G_color\": 0}, {\"nPts\": 2053039, \"time\": 134.4992779999998, \"G_axes\": 5, \"G_color\": 0}, {\"nPts\": 2053039, \"time\": 182.305847000002, \"G_axes\": 221, \"G_color\": 0}, {\"nPts\": 2053039, \"time\": 725.8488330000006, \"G_axes\": 11453, \"G_color\": 0}, {\"nPts\": 2053039, \"time\": 1076.1924189999943, \"G_axes\": 47906, \"G_color\": 0}, {\"nPts\": 2922496, \"time\": 206.4476310000031, \"G_axes\": 3, \"G_color\": 0}, {\"nPts\": 2922496, \"time\": 181.8414720000021, \"G_axes\": 5, \"G_color\": 0}, {\"nPts\": 2922496, \"time\": 269.1399699999977, \"G_axes\": 221, \"G_color\": 0}, {\"nPts\": 2922496, \"time\": 991.7241819999988, \"G_axes\": 11453, \"G_color\": 0}, {\"nPts\": 2922496, \"time\": 1440.7001659999992, \"G_axes\": 47906, \"G_color\": 0}, {\"nPts\": 4160167, \"time\": 276.7083479999996, \"G_axes\": 3, \"G_color\": 0}, {\"nPts\": 4160167, \"time\": 247.8443000000112, \"G_axes\": 5, \"G_color\": 0}, {\"nPts\": 4160167, \"time\": 338.9914220000065, \"G_axes\": 221, \"G_color\": 0}, {\"nPts\": 4160167, \"time\": 1354.2833280000082, \"G_axes\": 11453, \"G_color\": 0}, {\"nPts\": 4160167, \"time\": 1973.7610070000076, \"G_axes\": 47906, \"G_color\": 0}, {\"nPts\": 5921989, \"time\": 394.9685659999886, \"G_axes\": 3, \"G_color\": 0}, {\"nPts\": 5921989, \"time\": 349.9573910000038, \"G_axes\": 5, \"G_color\": 0}, {\"nPts\": 5921989, \"time\": 466.5727860000004, \"G_axes\": 221, \"G_color\": 0}, {\"nPts\": 5921989, \"time\": 1921.5076739999968, \"G_axes\": 11453, \"G_color\": 0}, {\"nPts\": 5921989, \"time\": 2712.8527929999964, \"G_axes\": 47906, \"G_color\": 0}, {\"nPts\": 8429939, \"time\": 561.1151740000082, \"G_axes\": 3, \"G_color\": 0}, {\"nPts\": 8429939, \"time\": 510.3528850000032, \"G_axes\": 5, \"G_color\": 0}, {\"nPts\": 8429939, \"time\": 666.001671999993, \"G_axes\": 221, \"G_color\": 0}, {\"nPts\": 8429939, \"time\": 2688.137743999988, \"G_axes\": 11453, \"G_color\": 0}, {\"nPts\": 8429939, \"time\": 3831.277542999999, \"G_axes\": 47906, \"G_color\": 0}, {\"nPts\": 12000000, \"time\": 768.0723599999624, \"G_axes\": 3, \"G_color\": 0}, {\"nPts\": 12000000, \"time\": 719.7986799999967, \"G_axes\": 5, \"G_color\": 0}, {\"nPts\": 12000000, \"time\": 965.43411600004, \"G_axes\": 221, \"G_color\": 0}, {\"nPts\": 12000000, \"time\": 3949.161808000042, \"G_axes\": 11453, \"G_color\": 0}, {\"nPts\": 12000000, \"time\": 5450.895027000001, \"G_axes\": 47906, \"G_color\": 0}]}}, {\"mode\": \"vega-lite\"});\n",
       "</script>"
      ],
      "text/plain": [
       "alt.Chart(...)"
      ]
     },
     "execution_count": 84,
     "metadata": {},
     "output_type": "execute_result"
    }
   ],
   "source": [
    "import altair as alt\n",
    "\n",
    "alt.Chart(bar).mark_circle().encode(\n",
    "    y = \"time\",\n",
    "    x = \"nPts\",\n",
    "    color = alt.Color(\"G_axes\",type=\"nominal\"),\n",
    ")"
   ]
  },
  {
   "cell_type": "code",
   "execution_count": 85,
   "metadata": {},
   "outputs": [],
   "source": [
    "N = np.array(bar[\"nPts\"])\n",
    "G_axes = np.array(bar[\"G_axes\"])\n",
    "y = np.array(bar[\"time\"])\n",
    "X = np.array([N,G_axes])"
   ]
  },
  {
   "cell_type": "code",
   "execution_count": 86,
   "metadata": {},
   "outputs": [],
   "source": [
    "from scipy.optimize import curve_fit\n",
    "def func(x, a, b,c,d):\n",
    "    return a + b * x[0] +c*x[0]*x[1] + d*x[1]"
   ]
  },
  {
   "cell_type": "code",
   "execution_count": 87,
   "metadata": {},
   "outputs": [
    {
     "data": {
      "text/plain": [
       "array([2.08279455e+01, 9.89765486e-05, 7.74048323e-09, 2.85891386e-03])"
      ]
     },
     "execution_count": 87,
     "metadata": {},
     "output_type": "execute_result"
    }
   ],
   "source": [
    "popt, pcov = curve_fit(func, X,y)\n",
    "popt"
   ]
  },
  {
   "cell_type": "code",
   "execution_count": 88,
   "metadata": {},
   "outputs": [],
   "source": [
    "y_pred = func(X,*popt)"
   ]
  },
  {
   "cell_type": "code",
   "execution_count": 89,
   "metadata": {},
   "outputs": [
    {
     "name": "stdout",
     "output_type": "stream",
     "text": [
      "error: 91.38983743491983\n"
     ]
    }
   ],
   "source": [
    "perr = np.sqrt(np.diag(pcov))\n",
    "print (\"error:\", sum(perr))"
   ]
  },
  {
   "cell_type": "code",
   "execution_count": 92,
   "metadata": {},
   "outputs": [
    {
     "data": {
      "text/plain": [
       "[<matplotlib.lines.Line2D at 0x13f6103d0>]"
      ]
     },
     "execution_count": 92,
     "metadata": {},
     "output_type": "execute_result"
    },
    {
     "data": {
      "image/png": "[encoded data removed]",
      "text/plain": [
       "<Figure size 432x288 with 1 Axes>"
      ]
     },
     "metadata": {
      "needs_background": "light"
     },
     "output_type": "display_data"
    }
   ],
   "source": [
    "dim = 0\n",
    "plt.plot(X[dim],y,'o')\n",
    "plt.plot(X[dim],func(X,*popt),'o')"
   ]
  },
  {
   "cell_type": "markdown",
   "metadata": {},
   "source": [
    "### Color Bar Chart Cost Model\n"
   ]
  },
  {
   "cell_type": "code",
   "execution_count": 93,
   "metadata": {},
   "outputs": [],
   "source": [
    "df = pd.read_csv(\"../result/costmodel_colorbar.csv\")\n",
    "df[\"time\"] = df[\"time\"]*1000\n",
    "color_bar = df[(df[\"G_color\"]!=0)]"
   ]
  },
  {
   "cell_type": "code",
   "execution_count": 94,
   "metadata": {},
   "outputs": [],
   "source": [
    "color_bar[\"ga*gc\"]=color_bar[\"G_axes\"]*color_bar[\"G_color\"]"
   ]
  },
  {
   "cell_type": "code",
   "execution_count": 95,
   "metadata": {},
   "outputs": [
    {
     "data": {
      "text/html": [
       "\n",
       "<div id=\"altair-viz-ab9262ac6fa04361b30aab1983c24408\"></div>\n",
       "<script type=\"text/javascript\">\n",
       "  (function(spec, embedOpt){\n",
       "    let outputDiv = document.currentScript.previousElementSibling;\n",
       "    if (outputDiv.id !== \"altair-viz-ab9262ac6fa04361b30aab1983c24408\") {\n",
       "      outputDiv = document.getElementById(\"altair-viz-ab9262ac6fa04361b30aab1983c24408\");\n",
       "    }\n",
       "    const paths = {\n",
       "      \"vega\": \"https://cdn.jsdelivr.net/npm//vega@5?noext\",\n",
       "      \"vega-lib\": \"https://cdn.jsdelivr.net/npm//vega-lib?noext\",\n",
       "      \"vega-lite\": \"https://cdn.jsdelivr.net/npm//vega-lite@4.8.1?noext\",\n",
       "      \"vega-embed\": \"https://cdn.jsdelivr.net/npm//vega-embed@6?noext\",\n",
       "    };\n",
       "\n",
       "    function loadScript(lib) {\n",
       "      return new Promise(function(resolve, reject) {\n",
       "        var s = document.createElement('script');\n",
       "        s.src = paths[lib];\n",
       "        s.async = true;\n",
       "        s.onload = () => resolve(paths[lib]);\n",
       "        s.onerror = () => reject(`Error loading script: ${paths[lib]}`);\n",
       "        document.getElementsByTagName(\"head\")[0].appendChild(s);\n",
       "      });\n",
       "    }\n",
       "\n",
       "    function showError(err) {\n",
       "      outputDiv.innerHTML = `<div class=\"error\" style=\"color:red;\">${err}</div>`;\n",
       "      throw err;\n",
       "    }\n",
       "\n",
       "    function displayChart(vegaEmbed) {\n",
       "      vegaEmbed(outputDiv, spec, embedOpt)\n",
       "        .catch(err => showError(`Javascript Error: ${err.message}<br>This usually means there's a typo in your chart specification. See the javascript console for the full traceback.`));\n",
       "    }\n",
       "\n",
       "    if(typeof define === \"function\" && define.amd) {\n",
       "      requirejs.config({paths});\n",
       "      require([\"vega-embed\"], displayChart, err => showError(`Error loading script: ${err.message}`));\n",
       "    } else if (typeof vegaEmbed === \"function\") {\n",
       "      displayChart(vegaEmbed);\n",
       "    } else {\n",
       "      loadScript(\"vega\")\n",
       "        .then(() => loadScript(\"vega-lite\"))\n",
       "        .then(() => loadScript(\"vega-embed\"))\n",
       "        .catch(showError)\n",
       "        .then(() => displayChart(vegaEmbed));\n",
       "    }\n",
       "  })({\"config\": {\"view\": {\"continuousWidth\": 400, \"continuousHeight\": 300}}, \"data\": {\"name\": \"data-76280be294f032a4d2b156bc4e6e33e1\"}, \"mark\": \"circle\", \"encoding\": {\"color\": {\"type\": \"nominal\", \"field\": \"G_axes\"}, \"x\": {\"type\": \"quantitative\", \"field\": \"nPts\"}, \"y\": {\"type\": \"quantitative\", \"field\": \"time\"}}, \"$schema\": \"https://vega.github.io/schema/vega-lite/v4.8.1.json\", \"datasets\": {\"data-76280be294f032a4d2b156bc4e6e33e1\": [{\"nPts\": 499999, \"time\": 78.9438689999997, \"G_axes\": 3, \"G_color\": 5, \"ga*gc\": 15}, {\"nPts\": 499999, \"time\": 119.8955230000002, \"G_axes\": 3, \"G_color\": 221, \"ga*gc\": 663}, {\"nPts\": 499999, \"time\": 274.32963200000063, \"G_axes\": 3, \"G_color\": 11453, \"ga*gc\": 34359}, {\"nPts\": 499999, \"time\": 80.2191020000009, \"G_axes\": 5, \"G_color\": 3, \"ga*gc\": 15}, {\"nPts\": 499999, \"time\": 103.9248080000021, \"G_axes\": 5, \"G_color\": 221, \"ga*gc\": 1105}, {\"nPts\": 499999, \"time\": 313.01130099999955, \"G_axes\": 5, \"G_color\": 11453, \"ga*gc\": 57265}, {\"nPts\": 499999, \"time\": 101.520305000001, \"G_axes\": 221, \"G_color\": 3, \"ga*gc\": 663}, {\"nPts\": 499999, \"time\": 100.7681560000008, \"G_axes\": 221, \"G_color\": 5, \"ga*gc\": 1105}, {\"nPts\": 499999, \"time\": 4464.812295999998, \"G_axes\": 221, \"G_color\": 11453, \"ga*gc\": 2531113}, {\"nPts\": 499999, \"time\": 330.801220999998, \"G_axes\": 11453, \"G_color\": 3, \"ga*gc\": 34359}, {\"nPts\": 499999, \"time\": 346.16578500000014, \"G_axes\": 11453, \"G_color\": 5, \"ga*gc\": 57265}, {\"nPts\": 499999, \"time\": 5560.620498000002, \"G_axes\": 11453, \"G_color\": 221, \"ga*gc\": 2531113}, {\"nPts\": 711748, \"time\": 119.4586029999982, \"G_axes\": 3, \"G_color\": 5, \"ga*gc\": 15}, {\"nPts\": 711748, \"time\": 141.6949310000035, \"G_axes\": 3, \"G_color\": 221, \"ga*gc\": 663}, {\"nPts\": 711748, \"time\": 466.3260760000014, \"G_axes\": 3, \"G_color\": 11453, \"ga*gc\": 34359}, {\"nPts\": 711748, \"time\": 116.9381549999997, \"G_axes\": 5, \"G_color\": 3, \"ga*gc\": 15}, {\"nPts\": 711748, \"time\": 143.4366619999991, \"G_axes\": 5, \"G_color\": 221, \"ga*gc\": 1105}, {\"nPts\": 711748, \"time\": 401.1151690000005, \"G_axes\": 5, \"G_color\": 11453, \"ga*gc\": 57265}, {\"nPts\": 711748, \"time\": 152.1883469999991, \"G_axes\": 221, \"G_color\": 3, \"ga*gc\": 663}, {\"nPts\": 711748, \"time\": 137.2690260000055, \"G_axes\": 221, \"G_color\": 5, \"ga*gc\": 1105}, {\"nPts\": 711748, \"time\": 4459.324405000004, \"G_axes\": 221, \"G_color\": 11453, \"ga*gc\": 2531113}, {\"nPts\": 711748, \"time\": 419.1246030000002, \"G_axes\": 11453, \"G_color\": 3, \"ga*gc\": 34359}, {\"nPts\": 711748, \"time\": 431.4299409999975, \"G_axes\": 11453, \"G_color\": 5, \"ga*gc\": 57265}, {\"nPts\": 711748, \"time\": 5685.873682999997, \"G_axes\": 11453, \"G_color\": 221, \"ga*gc\": 2531113}, {\"nPts\": 1013173, \"time\": 153.5173129999947, \"G_axes\": 3, \"G_color\": 5, \"ga*gc\": 15}, {\"nPts\": 1013173, \"time\": 168.8235129999995, \"G_axes\": 3, \"G_color\": 221, \"ga*gc\": 663}, {\"nPts\": 1013173, \"time\": 500.17381100000335, \"G_axes\": 3, \"G_color\": 11453, \"ga*gc\": 34359}, {\"nPts\": 1013173, \"time\": 144.4978399999996, \"G_axes\": 5, \"G_color\": 3, \"ga*gc\": 15}, {\"nPts\": 1013173, \"time\": 181.4238729999999, \"G_axes\": 5, \"G_color\": 221, \"ga*gc\": 1105}, {\"nPts\": 1013173, \"time\": 520.496695999995, \"G_axes\": 5, \"G_color\": 11453, \"ga*gc\": 57265}, {\"nPts\": 1013173, \"time\": 174.0817860000021, \"G_axes\": 221, \"G_color\": 3, \"ga*gc\": 663}, {\"nPts\": 1013173, \"time\": 178.4778100000039, \"G_axes\": 221, \"G_color\": 5, \"ga*gc\": 1105}, {\"nPts\": 1013173, \"time\": 4502.447075000006, \"G_axes\": 221, \"G_color\": 11453, \"ga*gc\": 2531113}, {\"nPts\": 1013173, \"time\": 617.3692410000058, \"G_axes\": 11453, \"G_color\": 3, \"ga*gc\": 34359}, {\"nPts\": 1013173, \"time\": 529.2992140000052, \"G_axes\": 11453, \"G_color\": 5, \"ga*gc\": 57265}, {\"nPts\": 1013173, \"time\": 5788.244212999999, \"G_axes\": 11453, \"G_color\": 221, \"ga*gc\": 2531113}, {\"nPts\": 1442249, \"time\": 202.8319129999971, \"G_axes\": 3, \"G_color\": 5, \"ga*gc\": 15}, {\"nPts\": 1442249, \"time\": 236.7128169999972, \"G_axes\": 3, \"G_color\": 221, \"ga*gc\": 663}, {\"nPts\": 1442249, \"time\": 650.2218299999925, \"G_axes\": 3, \"G_color\": 11453, \"ga*gc\": 34359}, {\"nPts\": 1442249, \"time\": 194.1973899999993, \"G_axes\": 5, \"G_color\": 3, \"ga*gc\": 15}, {\"nPts\": 1442249, \"time\": 244.3288609999996, \"G_axes\": 5, \"G_color\": 221, \"ga*gc\": 1105}, {\"nPts\": 1442249, \"time\": 675.0407050000007, \"G_axes\": 5, \"G_color\": 11453, \"ga*gc\": 57265}, {\"nPts\": 1442249, \"time\": 228.1396780000051, \"G_axes\": 221, \"G_color\": 3, \"ga*gc\": 663}, {\"nPts\": 1442249, \"time\": 242.5782370000035, \"G_axes\": 221, \"G_color\": 5, \"ga*gc\": 1105}, {\"nPts\": 1442249, \"time\": 4737.244402000002, \"G_axes\": 221, \"G_color\": 11453, \"ga*gc\": 2531113}, {\"nPts\": 1442249, \"time\": 700.4551889999959, \"G_axes\": 11453, \"G_color\": 3, \"ga*gc\": 34359}, {\"nPts\": 1442249, \"time\": 714.1967790000052, \"G_axes\": 11453, \"G_color\": 5, \"ga*gc\": 57265}, {\"nPts\": 1442249, \"time\": 5957.976307999999, \"G_axes\": 11453, \"G_color\": 221, \"ga*gc\": 2531113}, {\"nPts\": 2053039, \"time\": 277.6500899999945, \"G_axes\": 3, \"G_color\": 5, \"ga*gc\": 15}, {\"nPts\": 2053039, \"time\": 322.7029990000005, \"G_axes\": 3, \"G_color\": 221, \"ga*gc\": 663}, {\"nPts\": 2053039, \"time\": 1019.0239020000007, \"G_axes\": 3, \"G_color\": 11453, \"ga*gc\": 34359}, {\"nPts\": 2053039, \"time\": 268.3068289999966, \"G_axes\": 5, \"G_color\": 3, \"ga*gc\": 15}, {\"nPts\": 2053039, \"time\": 320.0181140000069, \"G_axes\": 5, \"G_color\": 221, \"ga*gc\": 1105}, {\"nPts\": 2053039, \"time\": 916.3924309999912, \"G_axes\": 5, \"G_color\": 11453, \"ga*gc\": 57265}, {\"nPts\": 2053039, \"time\": 318.892525999999, \"G_axes\": 221, \"G_color\": 3, \"ga*gc\": 663}, {\"nPts\": 2053039, \"time\": 319.3846510000071, \"G_axes\": 221, \"G_color\": 5, \"ga*gc\": 1105}, {\"nPts\": 2053039, \"time\": 4918.549236000004, \"G_axes\": 221, \"G_color\": 11453, \"ga*gc\": 2531113}, {\"nPts\": 2053039, \"time\": 949.6752279999896, \"G_axes\": 11453, \"G_color\": 3, \"ga*gc\": 34359}, {\"nPts\": 2053039, \"time\": 929.139297000006, \"G_axes\": 11453, \"G_color\": 5, \"ga*gc\": 57265}, {\"nPts\": 2053039, \"time\": 6192.160382000013, \"G_axes\": 11453, \"G_color\": 221, \"ga*gc\": 2531113}, {\"nPts\": 2922496, \"time\": 400.4242419999855, \"G_axes\": 3, \"G_color\": 5, \"ga*gc\": 15}, {\"nPts\": 2922496, \"time\": 459.864997000011, \"G_axes\": 3, \"G_color\": 221, \"ga*gc\": 663}, {\"nPts\": 2922496, \"time\": 1216.487165000018, \"G_axes\": 3, \"G_color\": 11453, \"ga*gc\": 34359}, {\"nPts\": 2922496, \"time\": 371.3832679999882, \"G_axes\": 5, \"G_color\": 3, \"ga*gc\": 15}, {\"nPts\": 2922496, \"time\": 444.3061209999825, \"G_axes\": 5, \"G_color\": 221, \"ga*gc\": 1105}, {\"nPts\": 2922496, \"time\": 1271.3485000000162, \"G_axes\": 5, \"G_color\": 11453, \"ga*gc\": 57265}, {\"nPts\": 2922496, \"time\": 448.408594, \"G_axes\": 221, \"G_color\": 3, \"ga*gc\": 663}, {\"nPts\": 2922496, \"time\": 446.4701440000169, \"G_axes\": 221, \"G_color\": 5, \"ga*gc\": 1105}, {\"nPts\": 2922496, \"time\": 5281.473913000013, \"G_axes\": 221, \"G_color\": 11453, \"ga*gc\": 2531113}, {\"nPts\": 2922496, \"time\": 1426.4035070000034, \"G_axes\": 11453, \"G_color\": 3, \"ga*gc\": 34359}, {\"nPts\": 2922496, \"time\": 1263.5308440000017, \"G_axes\": 11453, \"G_color\": 5, \"ga*gc\": 57265}, {\"nPts\": 2922496, \"time\": 6502.164832999995, \"G_axes\": 11453, \"G_color\": 221, \"ga*gc\": 2531113}, {\"nPts\": 4160167, \"time\": 569.2684890000237, \"G_axes\": 3, \"G_color\": 5, \"ga*gc\": 15}, {\"nPts\": 4160167, \"time\": 609.434551999982, \"G_axes\": 3, \"G_color\": 221, \"ga*gc\": 663}, {\"nPts\": 4160167, \"time\": 1686.3776580000265, \"G_axes\": 3, \"G_color\": 11453, \"ga*gc\": 34359}, {\"nPts\": 4160167, \"time\": 513.7297489999924, \"G_axes\": 5, \"G_color\": 3, \"ga*gc\": 15}, {\"nPts\": 4160167, \"time\": 640.1272640000002, \"G_axes\": 5, \"G_color\": 221, \"ga*gc\": 1105}, {\"nPts\": 4160167, \"time\": 1739.036160000012, \"G_axes\": 5, \"G_color\": 11453, \"ga*gc\": 57265}, {\"nPts\": 4160167, \"time\": 613.6199190000013, \"G_axes\": 221, \"G_color\": 3, \"ga*gc\": 663}, {\"nPts\": 4160167, \"time\": 603.7917129999926, \"G_axes\": 221, \"G_color\": 5, \"ga*gc\": 1105}, {\"nPts\": 4160167, \"time\": 5944.579224999984, \"G_axes\": 221, \"G_color\": 11453, \"ga*gc\": 2531113}, {\"nPts\": 4160167, \"time\": 1763.5237419999896, \"G_axes\": 11453, \"G_color\": 3, \"ga*gc\": 34359}, {\"nPts\": 4160167, \"time\": 1730.8689079999908, \"G_axes\": 11453, \"G_color\": 5, \"ga*gc\": 57265}, {\"nPts\": 4160167, \"time\": 6939.695217000008, \"G_axes\": 11453, \"G_color\": 221, \"ga*gc\": 2531113}, {\"nPts\": 5921989, \"time\": 760.8240550000005, \"G_axes\": 3, \"G_color\": 5, \"ga*gc\": 15}, {\"nPts\": 5921989, \"time\": 851.9444279999959, \"G_axes\": 3, \"G_color\": 221, \"ga*gc\": 663}, {\"nPts\": 5921989, \"time\": 2641.145628000004, \"G_axes\": 3, \"G_color\": 11453, \"ga*gc\": 34359}, {\"nPts\": 5921989, \"time\": 764.7363730000052, \"G_axes\": 5, \"G_color\": 3, \"ga*gc\": 15}, {\"nPts\": 5921989, \"time\": 845.6659039999863, \"G_axes\": 5, \"G_color\": 221, \"ga*gc\": 1105}, {\"nPts\": 5921989, \"time\": 2393.492981999998, \"G_axes\": 5, \"G_color\": 11453, \"ga*gc\": 57265}, {\"nPts\": 5921989, \"time\": 851.1352149999993, \"G_axes\": 221, \"G_color\": 3, \"ga*gc\": 663}, {\"nPts\": 5921989, \"time\": 847.151077999996, \"G_axes\": 221, \"G_color\": 5, \"ga*gc\": 1105}, {\"nPts\": 5921989, \"time\": 6485.015838000009, \"G_axes\": 221, \"G_color\": 11453, \"ga*gc\": 2531113}, {\"nPts\": 5921989, \"time\": 2399.887925000002, \"G_axes\": 11453, \"G_color\": 3, \"ga*gc\": 34359}, {\"nPts\": 5921989, \"time\": 2414.5472049999908, \"G_axes\": 11453, \"G_color\": 5, \"ga*gc\": 57265}, {\"nPts\": 5921989, \"time\": 7701.564063999996, \"G_axes\": 11453, \"G_color\": 221, \"ga*gc\": 2531113}, {\"nPts\": 8429939, \"time\": 1071.1388070000112, \"G_axes\": 3, \"G_color\": 5, \"ga*gc\": 15}, {\"nPts\": 8429939, \"time\": 1211.939383000015, \"G_axes\": 3, \"G_color\": 221, \"ga*gc\": 663}, {\"nPts\": 8429939, \"time\": 3314.934458000039, \"G_axes\": 3, \"G_color\": 11453, \"ga*gc\": 34359}, {\"nPts\": 8429939, \"time\": 1037.866237000003, \"G_axes\": 5, \"G_color\": 3, \"ga*gc\": 15}, {\"nPts\": 8429939, \"time\": 1192.143672000043, \"G_axes\": 5, \"G_color\": 221, \"ga*gc\": 1105}, {\"nPts\": 8429939, \"time\": 3313.659857999994, \"G_axes\": 5, \"G_color\": 11453, \"ga*gc\": 57265}, {\"nPts\": 8429939, \"time\": 1186.8539550000037, \"G_axes\": 221, \"G_color\": 3, \"ga*gc\": 663}, {\"nPts\": 8429939, \"time\": 1194.7970489999875, \"G_axes\": 221, \"G_color\": 5, \"ga*gc\": 1105}, {\"nPts\": 8429939, \"time\": 7474.82517200001, \"G_axes\": 221, \"G_color\": 11453, \"ga*gc\": 2531113}, {\"nPts\": 8429939, \"time\": 3761.15400499998, \"G_axes\": 11453, \"G_color\": 3, \"ga*gc\": 34359}, {\"nPts\": 8429939, \"time\": 3330.1988740000183, \"G_axes\": 11453, \"G_color\": 5, \"ga*gc\": 57265}, {\"nPts\": 8429939, \"time\": 8733.914921000007, \"G_axes\": 11453, \"G_color\": 221, \"ga*gc\": 2531113}, {\"nPts\": 12000000, \"time\": 1528.5343040000043, \"G_axes\": 3, \"G_color\": 5, \"ga*gc\": 15}, {\"nPts\": 12000000, \"time\": 1695.2892509999629, \"G_axes\": 3, \"G_color\": 221, \"ga*gc\": 663}, {\"nPts\": 12000000, \"time\": 4633.822843000018, \"G_axes\": 3, \"G_color\": 11453, \"ga*gc\": 34359}, {\"nPts\": 12000000, \"time\": 1419.6976890000317, \"G_axes\": 5, \"G_color\": 3, \"ga*gc\": 15}, {\"nPts\": 12000000, \"time\": 1682.693540999992, \"G_axes\": 5, \"G_color\": 221, \"ga*gc\": 1105}, {\"nPts\": 12000000, \"time\": 4647.387127999991, \"G_axes\": 5, \"G_color\": 11453, \"ga*gc\": 57265}, {\"nPts\": 12000000, \"time\": 1683.835812999973, \"G_axes\": 221, \"G_color\": 3, \"ga*gc\": 663}, {\"nPts\": 12000000, \"time\": 1644.3104489999882, \"G_axes\": 221, \"G_color\": 5, \"ga*gc\": 1105}, {\"nPts\": 12000000, \"time\": 9323.849017999975, \"G_axes\": 221, \"G_color\": 11453, \"ga*gc\": 2531113}, {\"nPts\": 12000000, \"time\": 4639.411539000037, \"G_axes\": 11453, \"G_color\": 3, \"ga*gc\": 34359}, {\"nPts\": 12000000, \"time\": 4535.178212000005, \"G_axes\": 11453, \"G_color\": 5, \"ga*gc\": 57265}, {\"nPts\": 12000000, \"time\": 10126.151474000038, \"G_axes\": 11453, \"G_color\": 221, \"ga*gc\": 2531113}]}}, {\"mode\": \"vega-lite\"});\n",
       "</script>"
      ],
      "text/plain": [
       "alt.Chart(...)"
      ]
     },
     "execution_count": 95,
     "metadata": {},
     "output_type": "execute_result"
    }
   ],
   "source": [
    "alt.Chart(color_bar).mark_circle().encode(\n",
    "    y = \"time\",\n",
    "    x = \"nPts\",\n",
    "    color = alt.Color(\"G_axes\",type=\"nominal\")\n",
    ")"
   ]
  },
  {
   "cell_type": "code",
   "execution_count": 96,
   "metadata": {},
   "outputs": [
    {
     "data": {
      "text/html": [
       "\n",
       "<div id=\"altair-viz-260a1b3d03894efc91f7998839e3976f\"></div>\n",
       "<script type=\"text/javascript\">\n",
       "  (function(spec, embedOpt){\n",
       "    let outputDiv = document.currentScript.previousElementSibling;\n",
       "    if (outputDiv.id !== \"altair-viz-260a1b3d03894efc91f7998839e3976f\") {\n",
       "      outputDiv = document.getElementById(\"altair-viz-260a1b3d03894efc91f7998839e3976f\");\n",
       "    }\n",
       "    const paths = {\n",
       "      \"vega\": \"https://cdn.jsdelivr.net/npm//vega@5?noext\",\n",
       "      \"vega-lib\": \"https://cdn.jsdelivr.net/npm//vega-lib?noext\",\n",
       "      \"vega-lite\": \"https://cdn.jsdelivr.net/npm//vega-lite@4.8.1?noext\",\n",
       "      \"vega-embed\": \"https://cdn.jsdelivr.net/npm//vega-embed@6?noext\",\n",
       "    };\n",
       "\n",
       "    function loadScript(lib) {\n",
       "      return new Promise(function(resolve, reject) {\n",
       "        var s = document.createElement('script');\n",
       "        s.src = paths[lib];\n",
       "        s.async = true;\n",
       "        s.onload = () => resolve(paths[lib]);\n",
       "        s.onerror = () => reject(`Error loading script: ${paths[lib]}`);\n",
       "        document.getElementsByTagName(\"head\")[0].appendChild(s);\n",
       "      });\n",
       "    }\n",
       "\n",
       "    function showError(err) {\n",
       "      outputDiv.innerHTML = `<div class=\"error\" style=\"color:red;\">${err}</div>`;\n",
       "      throw err;\n",
       "    }\n",
       "\n",
       "    function displayChart(vegaEmbed) {\n",
       "      vegaEmbed(outputDiv, spec, embedOpt)\n",
       "        .catch(err => showError(`Javascript Error: ${err.message}<br>This usually means there's a typo in your chart specification. See the javascript console for the full traceback.`));\n",
       "    }\n",
       "\n",
       "    if(typeof define === \"function\" && define.amd) {\n",
       "      requirejs.config({paths});\n",
       "      require([\"vega-embed\"], displayChart, err => showError(`Error loading script: ${err.message}`));\n",
       "    } else if (typeof vegaEmbed === \"function\") {\n",
       "      displayChart(vegaEmbed);\n",
       "    } else {\n",
       "      loadScript(\"vega\")\n",
       "        .then(() => loadScript(\"vega-lite\"))\n",
       "        .then(() => loadScript(\"vega-embed\"))\n",
       "        .catch(showError)\n",
       "        .then(() => displayChart(vegaEmbed));\n",
       "    }\n",
       "  })({\"config\": {\"view\": {\"continuousWidth\": 400, \"continuousHeight\": 300}}, \"data\": {\"name\": \"data-76280be294f032a4d2b156bc4e6e33e1\"}, \"mark\": \"circle\", \"encoding\": {\"color\": {\"type\": \"nominal\", \"field\": \"G_color\"}, \"x\": {\"type\": \"quantitative\", \"field\": \"nPts\"}, \"y\": {\"type\": \"quantitative\", \"field\": \"time\"}}, \"selection\": {\"selector002\": {\"type\": \"interval\", \"bind\": \"scales\", \"encodings\": [\"x\", \"y\"]}}, \"$schema\": \"https://vega.github.io/schema/vega-lite/v4.8.1.json\", \"datasets\": {\"data-76280be294f032a4d2b156bc4e6e33e1\": [{\"nPts\": 499999, \"time\": 78.9438689999997, \"G_axes\": 3, \"G_color\": 5, \"ga*gc\": 15}, {\"nPts\": 499999, \"time\": 119.8955230000002, \"G_axes\": 3, \"G_color\": 221, \"ga*gc\": 663}, {\"nPts\": 499999, \"time\": 274.32963200000063, \"G_axes\": 3, \"G_color\": 11453, \"ga*gc\": 34359}, {\"nPts\": 499999, \"time\": 80.2191020000009, \"G_axes\": 5, \"G_color\": 3, \"ga*gc\": 15}, {\"nPts\": 499999, \"time\": 103.9248080000021, \"G_axes\": 5, \"G_color\": 221, \"ga*gc\": 1105}, {\"nPts\": 499999, \"time\": 313.01130099999955, \"G_axes\": 5, \"G_color\": 11453, \"ga*gc\": 57265}, {\"nPts\": 499999, \"time\": 101.520305000001, \"G_axes\": 221, \"G_color\": 3, \"ga*gc\": 663}, {\"nPts\": 499999, \"time\": 100.7681560000008, \"G_axes\": 221, \"G_color\": 5, \"ga*gc\": 1105}, {\"nPts\": 499999, \"time\": 4464.812295999998, \"G_axes\": 221, \"G_color\": 11453, \"ga*gc\": 2531113}, {\"nPts\": 499999, \"time\": 330.801220999998, \"G_axes\": 11453, \"G_color\": 3, \"ga*gc\": 34359}, {\"nPts\": 499999, \"time\": 346.16578500000014, \"G_axes\": 11453, \"G_color\": 5, \"ga*gc\": 57265}, {\"nPts\": 499999, \"time\": 5560.620498000002, \"G_axes\": 11453, \"G_color\": 221, \"ga*gc\": 2531113}, {\"nPts\": 711748, \"time\": 119.4586029999982, \"G_axes\": 3, \"G_color\": 5, \"ga*gc\": 15}, {\"nPts\": 711748, \"time\": 141.6949310000035, \"G_axes\": 3, \"G_color\": 221, \"ga*gc\": 663}, {\"nPts\": 711748, \"time\": 466.3260760000014, \"G_axes\": 3, \"G_color\": 11453, \"ga*gc\": 34359}, {\"nPts\": 711748, \"time\": 116.9381549999997, \"G_axes\": 5, \"G_color\": 3, \"ga*gc\": 15}, {\"nPts\": 711748, \"time\": 143.4366619999991, \"G_axes\": 5, \"G_color\": 221, \"ga*gc\": 1105}, {\"nPts\": 711748, \"time\": 401.1151690000005, \"G_axes\": 5, \"G_color\": 11453, \"ga*gc\": 57265}, {\"nPts\": 711748, \"time\": 152.1883469999991, \"G_axes\": 221, \"G_color\": 3, \"ga*gc\": 663}, {\"nPts\": 711748, \"time\": 137.2690260000055, \"G_axes\": 221, \"G_color\": 5, \"ga*gc\": 1105}, {\"nPts\": 711748, \"time\": 4459.324405000004, \"G_axes\": 221, \"G_color\": 11453, \"ga*gc\": 2531113}, {\"nPts\": 711748, \"time\": 419.1246030000002, \"G_axes\": 11453, \"G_color\": 3, \"ga*gc\": 34359}, {\"nPts\": 711748, \"time\": 431.4299409999975, \"G_axes\": 11453, \"G_color\": 5, \"ga*gc\": 57265}, {\"nPts\": 711748, \"time\": 5685.873682999997, \"G_axes\": 11453, \"G_color\": 221, \"ga*gc\": 2531113}, {\"nPts\": 1013173, \"time\": 153.5173129999947, \"G_axes\": 3, \"G_color\": 5, \"ga*gc\": 15}, {\"nPts\": 1013173, \"time\": 168.8235129999995, \"G_axes\": 3, \"G_color\": 221, \"ga*gc\": 663}, {\"nPts\": 1013173, \"time\": 500.17381100000335, \"G_axes\": 3, \"G_color\": 11453, \"ga*gc\": 34359}, {\"nPts\": 1013173, \"time\": 144.4978399999996, \"G_axes\": 5, \"G_color\": 3, \"ga*gc\": 15}, {\"nPts\": 1013173, \"time\": 181.4238729999999, \"G_axes\": 5, \"G_color\": 221, \"ga*gc\": 1105}, {\"nPts\": 1013173, \"time\": 520.496695999995, \"G_axes\": 5, \"G_color\": 11453, \"ga*gc\": 57265}, {\"nPts\": 1013173, \"time\": 174.0817860000021, \"G_axes\": 221, \"G_color\": 3, \"ga*gc\": 663}, {\"nPts\": 1013173, \"time\": 178.4778100000039, \"G_axes\": 221, \"G_color\": 5, \"ga*gc\": 1105}, {\"nPts\": 1013173, \"time\": 4502.447075000006, \"G_axes\": 221, \"G_color\": 11453, \"ga*gc\": 2531113}, {\"nPts\": 1013173, \"time\": 617.3692410000058, \"G_axes\": 11453, \"G_color\": 3, \"ga*gc\": 34359}, {\"nPts\": 1013173, \"time\": 529.2992140000052, \"G_axes\": 11453, \"G_color\": 5, \"ga*gc\": 57265}, {\"nPts\": 1013173, \"time\": 5788.244212999999, \"G_axes\": 11453, \"G_color\": 221, \"ga*gc\": 2531113}, {\"nPts\": 1442249, \"time\": 202.8319129999971, \"G_axes\": 3, \"G_color\": 5, \"ga*gc\": 15}, {\"nPts\": 1442249, \"time\": 236.7128169999972, \"G_axes\": 3, \"G_color\": 221, \"ga*gc\": 663}, {\"nPts\": 1442249, \"time\": 650.2218299999925, \"G_axes\": 3, \"G_color\": 11453, \"ga*gc\": 34359}, {\"nPts\": 1442249, \"time\": 194.1973899999993, \"G_axes\": 5, \"G_color\": 3, \"ga*gc\": 15}, {\"nPts\": 1442249, \"time\": 244.3288609999996, \"G_axes\": 5, \"G_color\": 221, \"ga*gc\": 1105}, {\"nPts\": 1442249, \"time\": 675.0407050000007, \"G_axes\": 5, \"G_color\": 11453, \"ga*gc\": 57265}, {\"nPts\": 1442249, \"time\": 228.1396780000051, \"G_axes\": 221, \"G_color\": 3, \"ga*gc\": 663}, {\"nPts\": 1442249, \"time\": 242.5782370000035, \"G_axes\": 221, \"G_color\": 5, \"ga*gc\": 1105}, {\"nPts\": 1442249, \"time\": 4737.244402000002, \"G_axes\": 221, \"G_color\": 11453, \"ga*gc\": 2531113}, {\"nPts\": 1442249, \"time\": 700.4551889999959, \"G_axes\": 11453, \"G_color\": 3, \"ga*gc\": 34359}, {\"nPts\": 1442249, \"time\": 714.1967790000052, \"G_axes\": 11453, \"G_color\": 5, \"ga*gc\": 57265}, {\"nPts\": 1442249, \"time\": 5957.976307999999, \"G_axes\": 11453, \"G_color\": 221, \"ga*gc\": 2531113}, {\"nPts\": 2053039, \"time\": 277.6500899999945, \"G_axes\": 3, \"G_color\": 5, \"ga*gc\": 15}, {\"nPts\": 2053039, \"time\": 322.7029990000005, \"G_axes\": 3, \"G_color\": 221, \"ga*gc\": 663}, {\"nPts\": 2053039, \"time\": 1019.0239020000007, \"G_axes\": 3, \"G_color\": 11453, \"ga*gc\": 34359}, {\"nPts\": 2053039, \"time\": 268.3068289999966, \"G_axes\": 5, \"G_color\": 3, \"ga*gc\": 15}, {\"nPts\": 2053039, \"time\": 320.0181140000069, \"G_axes\": 5, \"G_color\": 221, \"ga*gc\": 1105}, {\"nPts\": 2053039, \"time\": 916.3924309999912, \"G_axes\": 5, \"G_color\": 11453, \"ga*gc\": 57265}, {\"nPts\": 2053039, \"time\": 318.892525999999, \"G_axes\": 221, \"G_color\": 3, \"ga*gc\": 663}, {\"nPts\": 2053039, \"time\": 319.3846510000071, \"G_axes\": 221, \"G_color\": 5, \"ga*gc\": 1105}, {\"nPts\": 2053039, \"time\": 4918.549236000004, \"G_axes\": 221, \"G_color\": 11453, \"ga*gc\": 2531113}, {\"nPts\": 2053039, \"time\": 949.6752279999896, \"G_axes\": 11453, \"G_color\": 3, \"ga*gc\": 34359}, {\"nPts\": 2053039, \"time\": 929.139297000006, \"G_axes\": 11453, \"G_color\": 5, \"ga*gc\": 57265}, {\"nPts\": 2053039, \"time\": 6192.160382000013, \"G_axes\": 11453, \"G_color\": 221, \"ga*gc\": 2531113}, {\"nPts\": 2922496, \"time\": 400.4242419999855, \"G_axes\": 3, \"G_color\": 5, \"ga*gc\": 15}, {\"nPts\": 2922496, \"time\": 459.864997000011, \"G_axes\": 3, \"G_color\": 221, \"ga*gc\": 663}, {\"nPts\": 2922496, \"time\": 1216.487165000018, \"G_axes\": 3, \"G_color\": 11453, \"ga*gc\": 34359}, {\"nPts\": 2922496, \"time\": 371.3832679999882, \"G_axes\": 5, \"G_color\": 3, \"ga*gc\": 15}, {\"nPts\": 2922496, \"time\": 444.3061209999825, \"G_axes\": 5, \"G_color\": 221, \"ga*gc\": 1105}, {\"nPts\": 2922496, \"time\": 1271.3485000000162, \"G_axes\": 5, \"G_color\": 11453, \"ga*gc\": 57265}, {\"nPts\": 2922496, \"time\": 448.408594, \"G_axes\": 221, \"G_color\": 3, \"ga*gc\": 663}, {\"nPts\": 2922496, \"time\": 446.4701440000169, \"G_axes\": 221, \"G_color\": 5, \"ga*gc\": 1105}, {\"nPts\": 2922496, \"time\": 5281.473913000013, \"G_axes\": 221, \"G_color\": 11453, \"ga*gc\": 2531113}, {\"nPts\": 2922496, \"time\": 1426.4035070000034, \"G_axes\": 11453, \"G_color\": 3, \"ga*gc\": 34359}, {\"nPts\": 2922496, \"time\": 1263.5308440000017, \"G_axes\": 11453, \"G_color\": 5, \"ga*gc\": 57265}, {\"nPts\": 2922496, \"time\": 6502.164832999995, \"G_axes\": 11453, \"G_color\": 221, \"ga*gc\": 2531113}, {\"nPts\": 4160167, \"time\": 569.2684890000237, \"G_axes\": 3, \"G_color\": 5, \"ga*gc\": 15}, {\"nPts\": 4160167, \"time\": 609.434551999982, \"G_axes\": 3, \"G_color\": 221, \"ga*gc\": 663}, {\"nPts\": 4160167, \"time\": 1686.3776580000265, \"G_axes\": 3, \"G_color\": 11453, \"ga*gc\": 34359}, {\"nPts\": 4160167, \"time\": 513.7297489999924, \"G_axes\": 5, \"G_color\": 3, \"ga*gc\": 15}, {\"nPts\": 4160167, \"time\": 640.1272640000002, \"G_axes\": 5, \"G_color\": 221, \"ga*gc\": 1105}, {\"nPts\": 4160167, \"time\": 1739.036160000012, \"G_axes\": 5, \"G_color\": 11453, \"ga*gc\": 57265}, {\"nPts\": 4160167, \"time\": 613.6199190000013, \"G_axes\": 221, \"G_color\": 3, \"ga*gc\": 663}, {\"nPts\": 4160167, \"time\": 603.7917129999926, \"G_axes\": 221, \"G_color\": 5, \"ga*gc\": 1105}, {\"nPts\": 4160167, \"time\": 5944.579224999984, \"G_axes\": 221, \"G_color\": 11453, \"ga*gc\": 2531113}, {\"nPts\": 4160167, \"time\": 1763.5237419999896, \"G_axes\": 11453, \"G_color\": 3, \"ga*gc\": 34359}, {\"nPts\": 4160167, \"time\": 1730.8689079999908, \"G_axes\": 11453, \"G_color\": 5, \"ga*gc\": 57265}, {\"nPts\": 4160167, \"time\": 6939.695217000008, \"G_axes\": 11453, \"G_color\": 221, \"ga*gc\": 2531113}, {\"nPts\": 5921989, \"time\": 760.8240550000005, \"G_axes\": 3, \"G_color\": 5, \"ga*gc\": 15}, {\"nPts\": 5921989, \"time\": 851.9444279999959, \"G_axes\": 3, \"G_color\": 221, \"ga*gc\": 663}, {\"nPts\": 5921989, \"time\": 2641.145628000004, \"G_axes\": 3, \"G_color\": 11453, \"ga*gc\": 34359}, {\"nPts\": 5921989, \"time\": 764.7363730000052, \"G_axes\": 5, \"G_color\": 3, \"ga*gc\": 15}, {\"nPts\": 5921989, \"time\": 845.6659039999863, \"G_axes\": 5, \"G_color\": 221, \"ga*gc\": 1105}, {\"nPts\": 5921989, \"time\": 2393.492981999998, \"G_axes\": 5, \"G_color\": 11453, \"ga*gc\": 57265}, {\"nPts\": 5921989, \"time\": 851.1352149999993, \"G_axes\": 221, \"G_color\": 3, \"ga*gc\": 663}, {\"nPts\": 5921989, \"time\": 847.151077999996, \"G_axes\": 221, \"G_color\": 5, \"ga*gc\": 1105}, {\"nPts\": 5921989, \"time\": 6485.015838000009, \"G_axes\": 221, \"G_color\": 11453, \"ga*gc\": 2531113}, {\"nPts\": 5921989, \"time\": 2399.887925000002, \"G_axes\": 11453, \"G_color\": 3, \"ga*gc\": 34359}, {\"nPts\": 5921989, \"time\": 2414.5472049999908, \"G_axes\": 11453, \"G_color\": 5, \"ga*gc\": 57265}, {\"nPts\": 5921989, \"time\": 7701.564063999996, \"G_axes\": 11453, \"G_color\": 221, \"ga*gc\": 2531113}, {\"nPts\": 8429939, \"time\": 1071.1388070000112, \"G_axes\": 3, \"G_color\": 5, \"ga*gc\": 15}, {\"nPts\": 8429939, \"time\": 1211.939383000015, \"G_axes\": 3, \"G_color\": 221, \"ga*gc\": 663}, {\"nPts\": 8429939, \"time\": 3314.934458000039, \"G_axes\": 3, \"G_color\": 11453, \"ga*gc\": 34359}, {\"nPts\": 8429939, \"time\": 1037.866237000003, \"G_axes\": 5, \"G_color\": 3, \"ga*gc\": 15}, {\"nPts\": 8429939, \"time\": 1192.143672000043, \"G_axes\": 5, \"G_color\": 221, \"ga*gc\": 1105}, {\"nPts\": 8429939, \"time\": 3313.659857999994, \"G_axes\": 5, \"G_color\": 11453, \"ga*gc\": 57265}, {\"nPts\": 8429939, \"time\": 1186.8539550000037, \"G_axes\": 221, \"G_color\": 3, \"ga*gc\": 663}, {\"nPts\": 8429939, \"time\": 1194.7970489999875, \"G_axes\": 221, \"G_color\": 5, \"ga*gc\": 1105}, {\"nPts\": 8429939, \"time\": 7474.82517200001, \"G_axes\": 221, \"G_color\": 11453, \"ga*gc\": 2531113}, {\"nPts\": 8429939, \"time\": 3761.15400499998, \"G_axes\": 11453, \"G_color\": 3, \"ga*gc\": 34359}, {\"nPts\": 8429939, \"time\": 3330.1988740000183, \"G_axes\": 11453, \"G_color\": 5, \"ga*gc\": 57265}, {\"nPts\": 8429939, \"time\": 8733.914921000007, \"G_axes\": 11453, \"G_color\": 221, \"ga*gc\": 2531113}, {\"nPts\": 12000000, \"time\": 1528.5343040000043, \"G_axes\": 3, \"G_color\": 5, \"ga*gc\": 15}, {\"nPts\": 12000000, \"time\": 1695.2892509999629, \"G_axes\": 3, \"G_color\": 221, \"ga*gc\": 663}, {\"nPts\": 12000000, \"time\": 4633.822843000018, \"G_axes\": 3, \"G_color\": 11453, \"ga*gc\": 34359}, {\"nPts\": 12000000, \"time\": 1419.6976890000317, \"G_axes\": 5, \"G_color\": 3, \"ga*gc\": 15}, {\"nPts\": 12000000, \"time\": 1682.693540999992, \"G_axes\": 5, \"G_color\": 221, \"ga*gc\": 1105}, {\"nPts\": 12000000, \"time\": 4647.387127999991, \"G_axes\": 5, \"G_color\": 11453, \"ga*gc\": 57265}, {\"nPts\": 12000000, \"time\": 1683.835812999973, \"G_axes\": 221, \"G_color\": 3, \"ga*gc\": 663}, {\"nPts\": 12000000, \"time\": 1644.3104489999882, \"G_axes\": 221, \"G_color\": 5, \"ga*gc\": 1105}, {\"nPts\": 12000000, \"time\": 9323.849017999975, \"G_axes\": 221, \"G_color\": 11453, \"ga*gc\": 2531113}, {\"nPts\": 12000000, \"time\": 4639.411539000037, \"G_axes\": 11453, \"G_color\": 3, \"ga*gc\": 34359}, {\"nPts\": 12000000, \"time\": 4535.178212000005, \"G_axes\": 11453, \"G_color\": 5, \"ga*gc\": 57265}, {\"nPts\": 12000000, \"time\": 10126.151474000038, \"G_axes\": 11453, \"G_color\": 221, \"ga*gc\": 2531113}]}}, {\"mode\": \"vega-lite\"});\n",
       "</script>"
      ],
      "text/plain": [
       "alt.Chart(...)"
      ]
     },
     "execution_count": 96,
     "metadata": {},
     "output_type": "execute_result"
    }
   ],
   "source": [
    "alt.Chart(color_bar).mark_circle().encode(\n",
    "    y = \"time\",\n",
    "    x = \"nPts\",\n",
    "    color = alt.Color(\"G_color\",type=\"nominal\")\n",
    ").interactive()"
   ]
  },
  {
   "cell_type": "code",
   "execution_count": 97,
   "metadata": {},
   "outputs": [
    {
     "data": {
      "text/html": [
       "\n",
       "<div id=\"altair-viz-76f4283bda9a459ea38491d97c606238\"></div>\n",
       "<script type=\"text/javascript\">\n",
       "  (function(spec, embedOpt){\n",
       "    let outputDiv = document.currentScript.previousElementSibling;\n",
       "    if (outputDiv.id !== \"altair-viz-76f4283bda9a459ea38491d97c606238\") {\n",
       "      outputDiv = document.getElementById(\"altair-viz-76f4283bda9a459ea38491d97c606238\");\n",
       "    }\n",
       "    const paths = {\n",
       "      \"vega\": \"https://cdn.jsdelivr.net/npm//vega@5?noext\",\n",
       "      \"vega-lib\": \"https://cdn.jsdelivr.net/npm//vega-lib?noext\",\n",
       "      \"vega-lite\": \"https://cdn.jsdelivr.net/npm//vega-lite@4.8.1?noext\",\n",
       "      \"vega-embed\": \"https://cdn.jsdelivr.net/npm//vega-embed@6?noext\",\n",
       "    };\n",
       "\n",
       "    function loadScript(lib) {\n",
       "      return new Promise(function(resolve, reject) {\n",
       "        var s = document.createElement('script');\n",
       "        s.src = paths[lib];\n",
       "        s.async = true;\n",
       "        s.onload = () => resolve(paths[lib]);\n",
       "        s.onerror = () => reject(`Error loading script: ${paths[lib]}`);\n",
       "        document.getElementsByTagName(\"head\")[0].appendChild(s);\n",
       "      });\n",
       "    }\n",
       "\n",
       "    function showError(err) {\n",
       "      outputDiv.innerHTML = `<div class=\"error\" style=\"color:red;\">${err}</div>`;\n",
       "      throw err;\n",
       "    }\n",
       "\n",
       "    function displayChart(vegaEmbed) {\n",
       "      vegaEmbed(outputDiv, spec, embedOpt)\n",
       "        .catch(err => showError(`Javascript Error: ${err.message}<br>This usually means there's a typo in your chart specification. See the javascript console for the full traceback.`));\n",
       "    }\n",
       "\n",
       "    if(typeof define === \"function\" && define.amd) {\n",
       "      requirejs.config({paths});\n",
       "      require([\"vega-embed\"], displayChart, err => showError(`Error loading script: ${err.message}`));\n",
       "    } else if (typeof vegaEmbed === \"function\") {\n",
       "      displayChart(vegaEmbed);\n",
       "    } else {\n",
       "      loadScript(\"vega\")\n",
       "        .then(() => loadScript(\"vega-lite\"))\n",
       "        .then(() => loadScript(\"vega-embed\"))\n",
       "        .catch(showError)\n",
       "        .then(() => displayChart(vegaEmbed));\n",
       "    }\n",
       "  })({\"config\": {\"view\": {\"continuousWidth\": 400, \"continuousHeight\": 300}}, \"data\": {\"name\": \"data-76280be294f032a4d2b156bc4e6e33e1\"}, \"mark\": \"circle\", \"encoding\": {\"color\": {\"type\": \"nominal\", \"field\": \"ga*gc\"}, \"x\": {\"type\": \"quantitative\", \"field\": \"nPts\"}, \"y\": {\"type\": \"quantitative\", \"field\": \"time\"}}, \"selection\": {\"selector003\": {\"type\": \"interval\", \"bind\": \"scales\", \"encodings\": [\"x\", \"y\"]}}, \"$schema\": \"https://vega.github.io/schema/vega-lite/v4.8.1.json\", \"datasets\": {\"data-76280be294f032a4d2b156bc4e6e33e1\": [{\"nPts\": 499999, \"time\": 78.9438689999997, \"G_axes\": 3, \"G_color\": 5, \"ga*gc\": 15}, {\"nPts\": 499999, \"time\": 119.8955230000002, \"G_axes\": 3, \"G_color\": 221, \"ga*gc\": 663}, {\"nPts\": 499999, \"time\": 274.32963200000063, \"G_axes\": 3, \"G_color\": 11453, \"ga*gc\": 34359}, {\"nPts\": 499999, \"time\": 80.2191020000009, \"G_axes\": 5, \"G_color\": 3, \"ga*gc\": 15}, {\"nPts\": 499999, \"time\": 103.9248080000021, \"G_axes\": 5, \"G_color\": 221, \"ga*gc\": 1105}, {\"nPts\": 499999, \"time\": 313.01130099999955, \"G_axes\": 5, \"G_color\": 11453, \"ga*gc\": 57265}, {\"nPts\": 499999, \"time\": 101.520305000001, \"G_axes\": 221, \"G_color\": 3, \"ga*gc\": 663}, {\"nPts\": 499999, \"time\": 100.7681560000008, \"G_axes\": 221, \"G_color\": 5, \"ga*gc\": 1105}, {\"nPts\": 499999, \"time\": 4464.812295999998, \"G_axes\": 221, \"G_color\": 11453, \"ga*gc\": 2531113}, {\"nPts\": 499999, \"time\": 330.801220999998, \"G_axes\": 11453, \"G_color\": 3, \"ga*gc\": 34359}, {\"nPts\": 499999, \"time\": 346.16578500000014, \"G_axes\": 11453, \"G_color\": 5, \"ga*gc\": 57265}, {\"nPts\": 499999, \"time\": 5560.620498000002, \"G_axes\": 11453, \"G_color\": 221, \"ga*gc\": 2531113}, {\"nPts\": 711748, \"time\": 119.4586029999982, \"G_axes\": 3, \"G_color\": 5, \"ga*gc\": 15}, {\"nPts\": 711748, \"time\": 141.6949310000035, \"G_axes\": 3, \"G_color\": 221, \"ga*gc\": 663}, {\"nPts\": 711748, \"time\": 466.3260760000014, \"G_axes\": 3, \"G_color\": 11453, \"ga*gc\": 34359}, {\"nPts\": 711748, \"time\": 116.9381549999997, \"G_axes\": 5, \"G_color\": 3, \"ga*gc\": 15}, {\"nPts\": 711748, \"time\": 143.4366619999991, \"G_axes\": 5, \"G_color\": 221, \"ga*gc\": 1105}, {\"nPts\": 711748, \"time\": 401.1151690000005, \"G_axes\": 5, \"G_color\": 11453, \"ga*gc\": 57265}, {\"nPts\": 711748, \"time\": 152.1883469999991, \"G_axes\": 221, \"G_color\": 3, \"ga*gc\": 663}, {\"nPts\": 711748, \"time\": 137.2690260000055, \"G_axes\": 221, \"G_color\": 5, \"ga*gc\": 1105}, {\"nPts\": 711748, \"time\": 4459.324405000004, \"G_axes\": 221, \"G_color\": 11453, \"ga*gc\": 2531113}, {\"nPts\": 711748, \"time\": 419.1246030000002, \"G_axes\": 11453, \"G_color\": 3, \"ga*gc\": 34359}, {\"nPts\": 711748, \"time\": 431.4299409999975, \"G_axes\": 11453, \"G_color\": 5, \"ga*gc\": 57265}, {\"nPts\": 711748, \"time\": 5685.873682999997, \"G_axes\": 11453, \"G_color\": 221, \"ga*gc\": 2531113}, {\"nPts\": 1013173, \"time\": 153.5173129999947, \"G_axes\": 3, \"G_color\": 5, \"ga*gc\": 15}, {\"nPts\": 1013173, \"time\": 168.8235129999995, \"G_axes\": 3, \"G_color\": 221, \"ga*gc\": 663}, {\"nPts\": 1013173, \"time\": 500.17381100000335, \"G_axes\": 3, \"G_color\": 11453, \"ga*gc\": 34359}, {\"nPts\": 1013173, \"time\": 144.4978399999996, \"G_axes\": 5, \"G_color\": 3, \"ga*gc\": 15}, {\"nPts\": 1013173, \"time\": 181.4238729999999, \"G_axes\": 5, \"G_color\": 221, \"ga*gc\": 1105}, {\"nPts\": 1013173, \"time\": 520.496695999995, \"G_axes\": 5, \"G_color\": 11453, \"ga*gc\": 57265}, {\"nPts\": 1013173, \"time\": 174.0817860000021, \"G_axes\": 221, \"G_color\": 3, \"ga*gc\": 663}, {\"nPts\": 1013173, \"time\": 178.4778100000039, \"G_axes\": 221, \"G_color\": 5, \"ga*gc\": 1105}, {\"nPts\": 1013173, \"time\": 4502.447075000006, \"G_axes\": 221, \"G_color\": 11453, \"ga*gc\": 2531113}, {\"nPts\": 1013173, \"time\": 617.3692410000058, \"G_axes\": 11453, \"G_color\": 3, \"ga*gc\": 34359}, {\"nPts\": 1013173, \"time\": 529.2992140000052, \"G_axes\": 11453, \"G_color\": 5, \"ga*gc\": 57265}, {\"nPts\": 1013173, \"time\": 5788.244212999999, \"G_axes\": 11453, \"G_color\": 221, \"ga*gc\": 2531113}, {\"nPts\": 1442249, \"time\": 202.8319129999971, \"G_axes\": 3, \"G_color\": 5, \"ga*gc\": 15}, {\"nPts\": 1442249, \"time\": 236.7128169999972, \"G_axes\": 3, \"G_color\": 221, \"ga*gc\": 663}, {\"nPts\": 1442249, \"time\": 650.2218299999925, \"G_axes\": 3, \"G_color\": 11453, \"ga*gc\": 34359}, {\"nPts\": 1442249, \"time\": 194.1973899999993, \"G_axes\": 5, \"G_color\": 3, \"ga*gc\": 15}, {\"nPts\": 1442249, \"time\": 244.3288609999996, \"G_axes\": 5, \"G_color\": 221, \"ga*gc\": 1105}, {\"nPts\": 1442249, \"time\": 675.0407050000007, \"G_axes\": 5, \"G_color\": 11453, \"ga*gc\": 57265}, {\"nPts\": 1442249, \"time\": 228.1396780000051, \"G_axes\": 221, \"G_color\": 3, \"ga*gc\": 663}, {\"nPts\": 1442249, \"time\": 242.5782370000035, \"G_axes\": 221, \"G_color\": 5, \"ga*gc\": 1105}, {\"nPts\": 1442249, \"time\": 4737.244402000002, \"G_axes\": 221, \"G_color\": 11453, \"ga*gc\": 2531113}, {\"nPts\": 1442249, \"time\": 700.4551889999959, \"G_axes\": 11453, \"G_color\": 3, \"ga*gc\": 34359}, {\"nPts\": 1442249, \"time\": 714.1967790000052, \"G_axes\": 11453, \"G_color\": 5, \"ga*gc\": 57265}, {\"nPts\": 1442249, \"time\": 5957.976307999999, \"G_axes\": 11453, \"G_color\": 221, \"ga*gc\": 2531113}, {\"nPts\": 2053039, \"time\": 277.6500899999945, \"G_axes\": 3, \"G_color\": 5, \"ga*gc\": 15}, {\"nPts\": 2053039, \"time\": 322.7029990000005, \"G_axes\": 3, \"G_color\": 221, \"ga*gc\": 663}, {\"nPts\": 2053039, \"time\": 1019.0239020000007, \"G_axes\": 3, \"G_color\": 11453, \"ga*gc\": 34359}, {\"nPts\": 2053039, \"time\": 268.3068289999966, \"G_axes\": 5, \"G_color\": 3, \"ga*gc\": 15}, {\"nPts\": 2053039, \"time\": 320.0181140000069, \"G_axes\": 5, \"G_color\": 221, \"ga*gc\": 1105}, {\"nPts\": 2053039, \"time\": 916.3924309999912, \"G_axes\": 5, \"G_color\": 11453, \"ga*gc\": 57265}, {\"nPts\": 2053039, \"time\": 318.892525999999, \"G_axes\": 221, \"G_color\": 3, \"ga*gc\": 663}, {\"nPts\": 2053039, \"time\": 319.3846510000071, \"G_axes\": 221, \"G_color\": 5, \"ga*gc\": 1105}, {\"nPts\": 2053039, \"time\": 4918.549236000004, \"G_axes\": 221, \"G_color\": 11453, \"ga*gc\": 2531113}, {\"nPts\": 2053039, \"time\": 949.6752279999896, \"G_axes\": 11453, \"G_color\": 3, \"ga*gc\": 34359}, {\"nPts\": 2053039, \"time\": 929.139297000006, \"G_axes\": 11453, \"G_color\": 5, \"ga*gc\": 57265}, {\"nPts\": 2053039, \"time\": 6192.160382000013, \"G_axes\": 11453, \"G_color\": 221, \"ga*gc\": 2531113}, {\"nPts\": 2922496, \"time\": 400.4242419999855, \"G_axes\": 3, \"G_color\": 5, \"ga*gc\": 15}, {\"nPts\": 2922496, \"time\": 459.864997000011, \"G_axes\": 3, \"G_color\": 221, \"ga*gc\": 663}, {\"nPts\": 2922496, \"time\": 1216.487165000018, \"G_axes\": 3, \"G_color\": 11453, \"ga*gc\": 34359}, {\"nPts\": 2922496, \"time\": 371.3832679999882, \"G_axes\": 5, \"G_color\": 3, \"ga*gc\": 15}, {\"nPts\": 2922496, \"time\": 444.3061209999825, \"G_axes\": 5, \"G_color\": 221, \"ga*gc\": 1105}, {\"nPts\": 2922496, \"time\": 1271.3485000000162, \"G_axes\": 5, \"G_color\": 11453, \"ga*gc\": 57265}, {\"nPts\": 2922496, \"time\": 448.408594, \"G_axes\": 221, \"G_color\": 3, \"ga*gc\": 663}, {\"nPts\": 2922496, \"time\": 446.4701440000169, \"G_axes\": 221, \"G_color\": 5, \"ga*gc\": 1105}, {\"nPts\": 2922496, \"time\": 5281.473913000013, \"G_axes\": 221, \"G_color\": 11453, \"ga*gc\": 2531113}, {\"nPts\": 2922496, \"time\": 1426.4035070000034, \"G_axes\": 11453, \"G_color\": 3, \"ga*gc\": 34359}, {\"nPts\": 2922496, \"time\": 1263.5308440000017, \"G_axes\": 11453, \"G_color\": 5, \"ga*gc\": 57265}, {\"nPts\": 2922496, \"time\": 6502.164832999995, \"G_axes\": 11453, \"G_color\": 221, \"ga*gc\": 2531113}, {\"nPts\": 4160167, \"time\": 569.2684890000237, \"G_axes\": 3, \"G_color\": 5, \"ga*gc\": 15}, {\"nPts\": 4160167, \"time\": 609.434551999982, \"G_axes\": 3, \"G_color\": 221, \"ga*gc\": 663}, {\"nPts\": 4160167, \"time\": 1686.3776580000265, \"G_axes\": 3, \"G_color\": 11453, \"ga*gc\": 34359}, {\"nPts\": 4160167, \"time\": 513.7297489999924, \"G_axes\": 5, \"G_color\": 3, \"ga*gc\": 15}, {\"nPts\": 4160167, \"time\": 640.1272640000002, \"G_axes\": 5, \"G_color\": 221, \"ga*gc\": 1105}, {\"nPts\": 4160167, \"time\": 1739.036160000012, \"G_axes\": 5, \"G_color\": 11453, \"ga*gc\": 57265}, {\"nPts\": 4160167, \"time\": 613.6199190000013, \"G_axes\": 221, \"G_color\": 3, \"ga*gc\": 663}, {\"nPts\": 4160167, \"time\": 603.7917129999926, \"G_axes\": 221, \"G_color\": 5, \"ga*gc\": 1105}, {\"nPts\": 4160167, \"time\": 5944.579224999984, \"G_axes\": 221, \"G_color\": 11453, \"ga*gc\": 2531113}, {\"nPts\": 4160167, \"time\": 1763.5237419999896, \"G_axes\": 11453, \"G_color\": 3, \"ga*gc\": 34359}, {\"nPts\": 4160167, \"time\": 1730.8689079999908, \"G_axes\": 11453, \"G_color\": 5, \"ga*gc\": 57265}, {\"nPts\": 4160167, \"time\": 6939.695217000008, \"G_axes\": 11453, \"G_color\": 221, \"ga*gc\": 2531113}, {\"nPts\": 5921989, \"time\": 760.8240550000005, \"G_axes\": 3, \"G_color\": 5, \"ga*gc\": 15}, {\"nPts\": 5921989, \"time\": 851.9444279999959, \"G_axes\": 3, \"G_color\": 221, \"ga*gc\": 663}, {\"nPts\": 5921989, \"time\": 2641.145628000004, \"G_axes\": 3, \"G_color\": 11453, \"ga*gc\": 34359}, {\"nPts\": 5921989, \"time\": 764.7363730000052, \"G_axes\": 5, \"G_color\": 3, \"ga*gc\": 15}, {\"nPts\": 5921989, \"time\": 845.6659039999863, \"G_axes\": 5, \"G_color\": 221, \"ga*gc\": 1105}, {\"nPts\": 5921989, \"time\": 2393.492981999998, \"G_axes\": 5, \"G_color\": 11453, \"ga*gc\": 57265}, {\"nPts\": 5921989, \"time\": 851.1352149999993, \"G_axes\": 221, \"G_color\": 3, \"ga*gc\": 663}, {\"nPts\": 5921989, \"time\": 847.151077999996, \"G_axes\": 221, \"G_color\": 5, \"ga*gc\": 1105}, {\"nPts\": 5921989, \"time\": 6485.015838000009, \"G_axes\": 221, \"G_color\": 11453, \"ga*gc\": 2531113}, {\"nPts\": 5921989, \"time\": 2399.887925000002, \"G_axes\": 11453, \"G_color\": 3, \"ga*gc\": 34359}, {\"nPts\": 5921989, \"time\": 2414.5472049999908, \"G_axes\": 11453, \"G_color\": 5, \"ga*gc\": 57265}, {\"nPts\": 5921989, \"time\": 7701.564063999996, \"G_axes\": 11453, \"G_color\": 221, \"ga*gc\": 2531113}, {\"nPts\": 8429939, \"time\": 1071.1388070000112, \"G_axes\": 3, \"G_color\": 5, \"ga*gc\": 15}, {\"nPts\": 8429939, \"time\": 1211.939383000015, \"G_axes\": 3, \"G_color\": 221, \"ga*gc\": 663}, {\"nPts\": 8429939, \"time\": 3314.934458000039, \"G_axes\": 3, \"G_color\": 11453, \"ga*gc\": 34359}, {\"nPts\": 8429939, \"time\": 1037.866237000003, \"G_axes\": 5, \"G_color\": 3, \"ga*gc\": 15}, {\"nPts\": 8429939, \"time\": 1192.143672000043, \"G_axes\": 5, \"G_color\": 221, \"ga*gc\": 1105}, {\"nPts\": 8429939, \"time\": 3313.659857999994, \"G_axes\": 5, \"G_color\": 11453, \"ga*gc\": 57265}, {\"nPts\": 8429939, \"time\": 1186.8539550000037, \"G_axes\": 221, \"G_color\": 3, \"ga*gc\": 663}, {\"nPts\": 8429939, \"time\": 1194.7970489999875, \"G_axes\": 221, \"G_color\": 5, \"ga*gc\": 1105}, {\"nPts\": 8429939, \"time\": 7474.82517200001, \"G_axes\": 221, \"G_color\": 11453, \"ga*gc\": 2531113}, {\"nPts\": 8429939, \"time\": 3761.15400499998, \"G_axes\": 11453, \"G_color\": 3, \"ga*gc\": 34359}, {\"nPts\": 8429939, \"time\": 3330.1988740000183, \"G_axes\": 11453, \"G_color\": 5, \"ga*gc\": 57265}, {\"nPts\": 8429939, \"time\": 8733.914921000007, \"G_axes\": 11453, \"G_color\": 221, \"ga*gc\": 2531113}, {\"nPts\": 12000000, \"time\": 1528.5343040000043, \"G_axes\": 3, \"G_color\": 5, \"ga*gc\": 15}, {\"nPts\": 12000000, \"time\": 1695.2892509999629, \"G_axes\": 3, \"G_color\": 221, \"ga*gc\": 663}, {\"nPts\": 12000000, \"time\": 4633.822843000018, \"G_axes\": 3, \"G_color\": 11453, \"ga*gc\": 34359}, {\"nPts\": 12000000, \"time\": 1419.6976890000317, \"G_axes\": 5, \"G_color\": 3, \"ga*gc\": 15}, {\"nPts\": 12000000, \"time\": 1682.693540999992, \"G_axes\": 5, \"G_color\": 221, \"ga*gc\": 1105}, {\"nPts\": 12000000, \"time\": 4647.387127999991, \"G_axes\": 5, \"G_color\": 11453, \"ga*gc\": 57265}, {\"nPts\": 12000000, \"time\": 1683.835812999973, \"G_axes\": 221, \"G_color\": 3, \"ga*gc\": 663}, {\"nPts\": 12000000, \"time\": 1644.3104489999882, \"G_axes\": 221, \"G_color\": 5, \"ga*gc\": 1105}, {\"nPts\": 12000000, \"time\": 9323.849017999975, \"G_axes\": 221, \"G_color\": 11453, \"ga*gc\": 2531113}, {\"nPts\": 12000000, \"time\": 4639.411539000037, \"G_axes\": 11453, \"G_color\": 3, \"ga*gc\": 34359}, {\"nPts\": 12000000, \"time\": 4535.178212000005, \"G_axes\": 11453, \"G_color\": 5, \"ga*gc\": 57265}, {\"nPts\": 12000000, \"time\": 10126.151474000038, \"G_axes\": 11453, \"G_color\": 221, \"ga*gc\": 2531113}]}}, {\"mode\": \"vega-lite\"});\n",
       "</script>"
      ],
      "text/plain": [
       "alt.Chart(...)"
      ]
     },
     "execution_count": 97,
     "metadata": {},
     "output_type": "execute_result"
    }
   ],
   "source": [
    "alt.Chart(color_bar).mark_circle().encode(\n",
    "    y = \"time\",\n",
    "    x = \"nPts\",\n",
    "    color = alt.Color(\"ga*gc\",type=\"nominal\")\n",
    ").interactive()"
   ]
  },
  {
   "cell_type": "code",
   "execution_count": 98,
   "metadata": {},
   "outputs": [],
   "source": [
    "N = np.array(color_bar[\"nPts\"])\n",
    "G_axes = np.array(color_bar[\"G_axes\"])\n",
    "G_color = np.array(color_bar[\"G_color\"])\n",
    "y = np.array(color_bar[\"time\"])\n",
    "X = np.array([N,G_axes,G_color])"
   ]
  },
  {
   "cell_type": "code",
   "execution_count": 99,
   "metadata": {},
   "outputs": [],
   "source": [
    "from scipy.optimize import curve_fit\n",
    "def func(x, a, b,c,d,e,f,g):\n",
    "    return a + b * x[0] + c*x[1]+ d*x[2] +e*x[0]*x[1] + f*x[1]*x[2]  + g*x[0]*x[2]"
   ]
  },
  {
   "cell_type": "code",
   "execution_count": 100,
   "metadata": {},
   "outputs": [
    {
     "data": {
      "text/plain": [
       "array([ 3.71161713e+01,  1.27866029e-04,  2.01123956e-02, -1.81489405e-02,\n",
       "        2.21736120e-08,  1.88026625e-03,  2.29023360e-08])"
      ]
     },
     "execution_count": 100,
     "metadata": {},
     "output_type": "execute_result"
    }
   ],
   "source": [
    "popt, pcov = curve_fit(func, X,y)\n",
    "popt"
   ]
  },
  {
   "cell_type": "code",
   "execution_count": 101,
   "metadata": {},
   "outputs": [],
   "source": [
    "y_pred = func(X,*popt)"
   ]
  },
  {
   "cell_type": "code",
   "execution_count": 102,
   "metadata": {},
   "outputs": [
    {
     "name": "stdout",
     "output_type": "stream",
     "text": [
      "error: 40.59561254465439\n"
     ]
    }
   ],
   "source": [
    "perr = np.sqrt(np.diag(pcov))\n",
    "print (\"error:\", sum(perr))"
   ]
  },
  {
   "cell_type": "code",
   "execution_count": 103,
   "metadata": {},
   "outputs": [
    {
     "data": {
      "text/plain": [
       "[<matplotlib.lines.Line2D at 0x13f68eb90>]"
      ]
     },
     "execution_count": 103,
     "metadata": {},
     "output_type": "execute_result"
    },
    {
     "data": {
      "image/png": "[encoded data removed]",
      "text/plain": [
       "<Figure size 432x288 with 1 Axes>"
      ]
     },
     "metadata": {
      "needs_background": "light"
     },
     "output_type": "display_data"
    }
   ],
   "source": [
    "dim = 0\n",
    "plt.plot(X[dim],y,'o')\n",
    "plt.plot(X[dim],func(X,*popt),'o')"
   ]
  },
  {
   "cell_type": "markdown",
   "metadata": {},
   "source": [
    "### Histogram "
   ]
  },
  {
   "cell_type": "code",
   "execution_count": 241,
   "metadata": {},
   "outputs": [],
   "source": [
    "import altair as alt"
   ]
  },
  {
   "cell_type": "code",
   "execution_count": 242,
   "metadata": {},
   "outputs": [],
   "source": [
    "df = pd.read_csv(\"../result/costmodel_histogram.csv\")\n",
    "df[\"time\"] = df[\"time\"]*1000"
   ]
  },
  {
   "cell_type": "code",
   "execution_count": 256,
   "metadata": {},
   "outputs": [
    {
     "data": {
      "text/html": [
       "\n",
       "<div id=\"altair-viz-3011791a6bd1454bb97aec4778d0e020\"></div>\n",
       "<script type=\"text/javascript\">\n",
       "  (function(spec, embedOpt){\n",
       "    let outputDiv = document.currentScript.previousElementSibling;\n",
       "    if (outputDiv.id !== \"altair-viz-3011791a6bd1454bb97aec4778d0e020\") {\n",
       "      outputDiv = document.getElementById(\"altair-viz-3011791a6bd1454bb97aec4778d0e020\");\n",
       "    }\n",
       "    const paths = {\n",
       "      \"vega\": \"https://cdn.jsdelivr.net/npm//vega@5?noext\",\n",
       "      \"vega-lib\": \"https://cdn.jsdelivr.net/npm//vega-lib?noext\",\n",
       "      \"vega-lite\": \"https://cdn.jsdelivr.net/npm//vega-lite@4.8.1?noext\",\n",
       "      \"vega-embed\": \"https://cdn.jsdelivr.net/npm//vega-embed@6?noext\",\n",
       "    };\n",
       "\n",
       "    function loadScript(lib) {\n",
       "      return new Promise(function(resolve, reject) {\n",
       "        var s = document.createElement('script');\n",
       "        s.src = paths[lib];\n",
       "        s.async = true;\n",
       "        s.onload = () => resolve(paths[lib]);\n",
       "        s.onerror = () => reject(`Error loading script: ${paths[lib]}`);\n",
       "        document.getElementsByTagName(\"head\")[0].appendChild(s);\n",
       "      });\n",
       "    }\n",
       "\n",
       "    function showError(err) {\n",
       "      outputDiv.innerHTML = `<div class=\"error\" style=\"color:red;\">${err}</div>`;\n",
       "      throw err;\n",
       "    }\n",
       "\n",
       "    function displayChart(vegaEmbed) {\n",
       "      vegaEmbed(outputDiv, spec, embedOpt)\n",
       "        .catch(err => showError(`Javascript Error: ${err.message}<br>This usually means there's a typo in your chart specification. See the javascript console for the full traceback.`));\n",
       "    }\n",
       "\n",
       "    if(typeof define === \"function\" && define.amd) {\n",
       "      requirejs.config({paths});\n",
       "      require([\"vega-embed\"], displayChart, err => showError(`Error loading script: ${err.message}`));\n",
       "    } else if (typeof vegaEmbed === \"function\") {\n",
       "      displayChart(vegaEmbed);\n",
       "    } else {\n",
       "      loadScript(\"vega\")\n",
       "        .then(() => loadScript(\"vega-lite\"))\n",
       "        .then(() => loadScript(\"vega-embed\"))\n",
       "        .catch(showError)\n",
       "        .then(() => displayChart(vegaEmbed));\n",
       "    }\n",
       "  })({\"config\": {\"view\": {\"continuousWidth\": 400, \"continuousHeight\": 300}}, \"data\": {\"name\": \"data-da4504ca4e5ea13d0a8b73335f7d493c\"}, \"mark\": \"line\", \"encoding\": {\"color\": {\"type\": \"quantitative\", \"field\": \"nbin\"}, \"x\": {\"type\": \"quantitative\", \"field\": \"nPts\"}, \"y\": {\"type\": \"quantitative\", \"field\": \"time\"}}, \"$schema\": \"https://vega.github.io/schema/vega-lite/v4.8.1.json\", \"datasets\": {\"data-da4504ca4e5ea13d0a8b73335f7d493c\": [{\"nPts\": 499999, \"time\": 17.075372999997203, \"nbin\": 5}, {\"nPts\": 499999, \"time\": 13.6939399999995, \"nbin\": 15}, {\"nPts\": 499999, \"time\": 9.5080209999984, \"nbin\": 25}, {\"nPts\": 499999, \"time\": 9.4510599999999, \"nbin\": 35}, {\"nPts\": 499999, \"time\": 11.580353999999401, \"nbin\": 45}, {\"nPts\": 499999, \"time\": 8.7770210000002, \"nbin\": 55}, {\"nPts\": 499999, \"time\": 14.8854649999989, \"nbin\": 65}, {\"nPts\": 499999, \"time\": 10.9102099999986, \"nbin\": 75}, {\"nPts\": 499999, \"time\": 13.6308199999994, \"nbin\": 85}, {\"nPts\": 499999, \"time\": 9.6646189999987, \"nbin\": 95}, {\"nPts\": 499999, \"time\": 12.402885000000099, \"nbin\": 105}, {\"nPts\": 499999, \"time\": 12.481021999999301, \"nbin\": 115}, {\"nPts\": 499999, \"time\": 9.3282450000025, \"nbin\": 125}, {\"nPts\": 499999, \"time\": 14.997503, \"nbin\": 135}, {\"nPts\": 499999, \"time\": 9.8150289999985, \"nbin\": 145}, {\"nPts\": 499999, \"time\": 11.3557810000024, \"nbin\": 155}, {\"nPts\": 499999, \"time\": 8.7939040000009, \"nbin\": 165}, {\"nPts\": 499999, \"time\": 10.909076000000699, \"nbin\": 175}, {\"nPts\": 499999, \"time\": 8.4447179999997, \"nbin\": 185}, {\"nPts\": 499999, \"time\": 10.9663900000001, \"nbin\": 195}, {\"nPts\": 711748, \"time\": 14.9853150000005, \"nbin\": 5}, {\"nPts\": 711748, \"time\": 20.1136830000017, \"nbin\": 15}, {\"nPts\": 711748, \"time\": 13.0732779999966, \"nbin\": 25}, {\"nPts\": 711748, \"time\": 11.9460209999999, \"nbin\": 35}, {\"nPts\": 711748, \"time\": 11.9298870000008, \"nbin\": 45}, {\"nPts\": 711748, \"time\": 16.1980960000001, \"nbin\": 55}, {\"nPts\": 711748, \"time\": 11.6963250000026, \"nbin\": 65}, {\"nPts\": 711748, \"time\": 13.727425999999, \"nbin\": 75}, {\"nPts\": 711748, \"time\": 15.0810100000029, \"nbin\": 85}, {\"nPts\": 711748, \"time\": 11.918499, \"nbin\": 95}, {\"nPts\": 711748, \"time\": 16.178338000003098, \"nbin\": 105}, {\"nPts\": 711748, \"time\": 12.2744959999998, \"nbin\": 115}, {\"nPts\": 711748, \"time\": 14.4411990000001, \"nbin\": 125}, {\"nPts\": 711748, \"time\": 12.0500529999993, \"nbin\": 135}, {\"nPts\": 711748, \"time\": 11.669214999997699, \"nbin\": 145}, {\"nPts\": 711748, \"time\": 12.7644999999994, \"nbin\": 155}, {\"nPts\": 711748, \"time\": 18.01034, \"nbin\": 165}, {\"nPts\": 711748, \"time\": 11.6147620000006, \"nbin\": 175}, {\"nPts\": 711748, \"time\": 16.020295000000498, \"nbin\": 185}, {\"nPts\": 711748, \"time\": 15.4417759999994, \"nbin\": 195}, {\"nPts\": 1013173, \"time\": 16.6676549999991, \"nbin\": 5}, {\"nPts\": 1013173, \"time\": 16.914098000000802, \"nbin\": 15}, {\"nPts\": 1013173, \"time\": 18.812144000001698, \"nbin\": 25}, {\"nPts\": 1013173, \"time\": 16.195283000001798, \"nbin\": 35}, {\"nPts\": 1013173, \"time\": 18.6445690000027, \"nbin\": 45}, {\"nPts\": 1013173, \"time\": 16.859919999994503, \"nbin\": 55}, {\"nPts\": 1013173, \"time\": 23.5240689999969, \"nbin\": 65}, {\"nPts\": 1013173, \"time\": 23.001100000001802, \"nbin\": 75}, {\"nPts\": 1013173, \"time\": 17.963583000003702, \"nbin\": 85}, {\"nPts\": 1013173, \"time\": 20.0086620000021, \"nbin\": 95}, {\"nPts\": 1013173, \"time\": 16.6697849999977, \"nbin\": 105}, {\"nPts\": 1013173, \"time\": 18.798255, \"nbin\": 115}, {\"nPts\": 1013173, \"time\": 16.1953739999987, \"nbin\": 125}, {\"nPts\": 1013173, \"time\": 19.591859999998398, \"nbin\": 135}, {\"nPts\": 1013173, \"time\": 16.1611899999982, \"nbin\": 145}, {\"nPts\": 1013173, \"time\": 18.9883190000017, \"nbin\": 155}, {\"nPts\": 1013173, \"time\": 16.3482669999979, \"nbin\": 165}, {\"nPts\": 1013173, \"time\": 20.3127640000033, \"nbin\": 175}, {\"nPts\": 1013173, \"time\": 15.796878000003199, \"nbin\": 185}, {\"nPts\": 1013173, \"time\": 15.742199999998201, \"nbin\": 195}, {\"nPts\": 1442249, \"time\": 22.254856999999998, \"nbin\": 5}, {\"nPts\": 1442249, \"time\": 21.302671999997298, \"nbin\": 15}, {\"nPts\": 1442249, \"time\": 21.077660999999598, \"nbin\": 25}, {\"nPts\": 1442249, \"time\": 21.541632000001602, \"nbin\": 35}, {\"nPts\": 1442249, \"time\": 25.0883990000048, \"nbin\": 45}, {\"nPts\": 1442249, \"time\": 21.159969999999298, \"nbin\": 55}, {\"nPts\": 1442249, \"time\": 24.619231999999098, \"nbin\": 65}, {\"nPts\": 1442249, \"time\": 24.5866669999941, \"nbin\": 75}, {\"nPts\": 1442249, \"time\": 21.9406739999996, \"nbin\": 85}, {\"nPts\": 1442249, \"time\": 20.4912919999955, \"nbin\": 95}, {\"nPts\": 1442249, \"time\": 23.934318000002, \"nbin\": 105}, {\"nPts\": 1442249, \"time\": 24.329993000002, \"nbin\": 115}, {\"nPts\": 1442249, \"time\": 22.4214850000024, \"nbin\": 125}, {\"nPts\": 1442249, \"time\": 23.4208609999981, \"nbin\": 135}, {\"nPts\": 1442249, \"time\": 20.970907999995298, \"nbin\": 145}, {\"nPts\": 1442249, \"time\": 24.387294000000203, \"nbin\": 155}, {\"nPts\": 1442249, \"time\": 20.8285400000036, \"nbin\": 165}, {\"nPts\": 1442249, \"time\": 19.717282000002, \"nbin\": 175}, {\"nPts\": 1442249, \"time\": 20.8292149999991, \"nbin\": 185}, {\"nPts\": 1442249, \"time\": 21.281752999996602, \"nbin\": 195}, {\"nPts\": 2053039, \"time\": 42.074289999994996, \"nbin\": 5}, {\"nPts\": 2053039, \"time\": 35.8648459999955, \"nbin\": 15}, {\"nPts\": 2053039, \"time\": 35.382305999995296, \"nbin\": 25}, {\"nPts\": 2053039, \"time\": 35.0086219999994, \"nbin\": 35}, {\"nPts\": 2053039, \"time\": 33.1362900000016, \"nbin\": 45}, {\"nPts\": 2053039, \"time\": 33.1452730000023, \"nbin\": 55}, {\"nPts\": 2053039, \"time\": 34.8203650000016, \"nbin\": 65}, {\"nPts\": 2053039, \"time\": 32.2196289999965, \"nbin\": 75}, {\"nPts\": 2053039, \"time\": 32.4019379999995, \"nbin\": 85}, {\"nPts\": 2053039, \"time\": 34.152406000004, \"nbin\": 95}, {\"nPts\": 2053039, \"time\": 35.4388920000019, \"nbin\": 105}, {\"nPts\": 2053039, \"time\": 34.6477159999949, \"nbin\": 115}, {\"nPts\": 2053039, \"time\": 31.0141999999942, \"nbin\": 125}, {\"nPts\": 2053039, \"time\": 33.9543509999984, \"nbin\": 135}, {\"nPts\": 2053039, \"time\": 41.796319999996, \"nbin\": 145}, {\"nPts\": 2053039, \"time\": 34.7701470000032, \"nbin\": 155}, {\"nPts\": 2053039, \"time\": 34.4288309999996, \"nbin\": 165}, {\"nPts\": 2053039, \"time\": 35.9105130000045, \"nbin\": 175}, {\"nPts\": 2053039, \"time\": 34.5636209999966, \"nbin\": 185}, {\"nPts\": 2053039, \"time\": 35.6634369999966, \"nbin\": 195}, {\"nPts\": 2922496, \"time\": 54.6687339999891, \"nbin\": 5}, {\"nPts\": 2922496, \"time\": 50.2856659999935, \"nbin\": 15}, {\"nPts\": 2922496, \"time\": 47.044654000004, \"nbin\": 25}, {\"nPts\": 2922496, \"time\": 45.1108010000069, \"nbin\": 35}, {\"nPts\": 2922496, \"time\": 48.2871550000112, \"nbin\": 45}, {\"nPts\": 2922496, \"time\": 47.3361340000053, \"nbin\": 55}, {\"nPts\": 2922496, \"time\": 47.1586449999961, \"nbin\": 65}, {\"nPts\": 2922496, \"time\": 49.3899929999912, \"nbin\": 75}, {\"nPts\": 2922496, \"time\": 44.7755149999977, \"nbin\": 85}, {\"nPts\": 2922496, \"time\": 43.226756999999296, \"nbin\": 95}, {\"nPts\": 2922496, \"time\": 44.183689999997, \"nbin\": 105}, {\"nPts\": 2922496, \"time\": 45.2773089999993, \"nbin\": 115}, {\"nPts\": 2922496, \"time\": 47.479027999997896, \"nbin\": 125}, {\"nPts\": 2922496, \"time\": 48.482573000001096, \"nbin\": 135}, {\"nPts\": 2922496, \"time\": 47.4743890000013, \"nbin\": 145}, {\"nPts\": 2922496, \"time\": 44.7778040000059, \"nbin\": 155}, {\"nPts\": 2922496, \"time\": 45.6306770000054, \"nbin\": 165}, {\"nPts\": 2922496, \"time\": 42.1969189999913, \"nbin\": 175}, {\"nPts\": 2922496, \"time\": 44.050734999999, \"nbin\": 185}, {\"nPts\": 2922496, \"time\": 42.4727939999911, \"nbin\": 195}, {\"nPts\": 4160167, \"time\": 77.2445249999975, \"nbin\": 5}, {\"nPts\": 4160167, \"time\": 64.1697410000006, \"nbin\": 15}, {\"nPts\": 4160167, \"time\": 66.165018999996, \"nbin\": 25}, {\"nPts\": 4160167, \"time\": 65.0996060000039, \"nbin\": 35}, {\"nPts\": 4160167, \"time\": 65.4989469999947, \"nbin\": 45}, {\"nPts\": 4160167, \"time\": 65.08435900001069, \"nbin\": 55}, {\"nPts\": 4160167, \"time\": 70.6609969999902, \"nbin\": 65}, {\"nPts\": 4160167, \"time\": 62.427214000010096, \"nbin\": 75}, {\"nPts\": 4160167, \"time\": 63.5045260000026, \"nbin\": 85}, {\"nPts\": 4160167, \"time\": 68.6721960000085, \"nbin\": 95}, {\"nPts\": 4160167, \"time\": 67.2204789999995, \"nbin\": 105}, {\"nPts\": 4160167, \"time\": 64.5518890000005, \"nbin\": 115}, {\"nPts\": 4160167, \"time\": 65.8477180000005, \"nbin\": 125}, {\"nPts\": 4160167, \"time\": 65.2095700000074, \"nbin\": 135}, {\"nPts\": 4160167, \"time\": 60.0901890000074, \"nbin\": 145}, {\"nPts\": 4160167, \"time\": 62.822979999992796, \"nbin\": 155}, {\"nPts\": 4160167, \"time\": 64.7359350000016, \"nbin\": 165}, {\"nPts\": 4160167, \"time\": 63.0875420000052, \"nbin\": 175}, {\"nPts\": 4160167, \"time\": 64.717096999999, \"nbin\": 185}, {\"nPts\": 4160167, \"time\": 63.606962999998004, \"nbin\": 195}, {\"nPts\": 5921989, \"time\": 98.927205999999, \"nbin\": 5}, {\"nPts\": 5921989, \"time\": 90.0782610000021, \"nbin\": 15}, {\"nPts\": 5921989, \"time\": 86.7900220000024, \"nbin\": 25}, {\"nPts\": 5921989, \"time\": 85.6150470000045, \"nbin\": 35}, {\"nPts\": 5921989, \"time\": 88.0592609999979, \"nbin\": 45}, {\"nPts\": 5921989, \"time\": 89.2980189999974, \"nbin\": 55}, {\"nPts\": 5921989, \"time\": 93.2770240000024, \"nbin\": 65}, {\"nPts\": 5921989, \"time\": 84.7383860000121, \"nbin\": 75}, {\"nPts\": 5921989, \"time\": 85.8582239999918, \"nbin\": 85}, {\"nPts\": 5921989, \"time\": 90.4605799999984, \"nbin\": 95}, {\"nPts\": 5921989, \"time\": 91.4885779999963, \"nbin\": 105}, {\"nPts\": 5921989, \"time\": 88.3203209999976, \"nbin\": 115}, {\"nPts\": 5921989, \"time\": 82.7075809999939, \"nbin\": 125}, {\"nPts\": 5921989, \"time\": 88.6882070000041, \"nbin\": 135}, {\"nPts\": 5921989, \"time\": 88.61993600000059, \"nbin\": 145}, {\"nPts\": 5921989, \"time\": 87.3006140000001, \"nbin\": 155}, {\"nPts\": 5921989, \"time\": 90.9444429999979, \"nbin\": 165}, {\"nPts\": 5921989, \"time\": 86.6968560000032, \"nbin\": 175}, {\"nPts\": 5921989, \"time\": 87.6895050000001, \"nbin\": 185}, {\"nPts\": 5921989, \"time\": 88.4490629999987, \"nbin\": 195}, {\"nPts\": 8429939, \"time\": 128.8491260000057, \"nbin\": 5}, {\"nPts\": 8429939, \"time\": 126.8805549999854, \"nbin\": 15}, {\"nPts\": 8429939, \"time\": 125.2521870000009, \"nbin\": 25}, {\"nPts\": 8429939, \"time\": 124.119501999985, \"nbin\": 35}, {\"nPts\": 8429939, \"time\": 133.0054670000038, \"nbin\": 45}, {\"nPts\": 8429939, \"time\": 131.0341020000009, \"nbin\": 55}, {\"nPts\": 8429939, \"time\": 125.82246099998429, \"nbin\": 65}, {\"nPts\": 8429939, \"time\": 122.0788699999957, \"nbin\": 75}, {\"nPts\": 8429939, \"time\": 126.47535899998269, \"nbin\": 85}, {\"nPts\": 8429939, \"time\": 139.3162640000014, \"nbin\": 95}, {\"nPts\": 8429939, \"time\": 124.2486419999977, \"nbin\": 105}, {\"nPts\": 8429939, \"time\": 125.77895399999761, \"nbin\": 115}, {\"nPts\": 8429939, \"time\": 119.04040400000319, \"nbin\": 125}, {\"nPts\": 8429939, \"time\": 126.334331999999, \"nbin\": 135}, {\"nPts\": 8429939, \"time\": 120.76918099998569, \"nbin\": 145}, {\"nPts\": 8429939, \"time\": 121.6726270000094, \"nbin\": 155}, {\"nPts\": 8429939, \"time\": 119.2637229999888, \"nbin\": 165}, {\"nPts\": 8429939, \"time\": 123.4640410000054, \"nbin\": 175}, {\"nPts\": 8429939, \"time\": 122.2445620000201, \"nbin\": 185}, {\"nPts\": 8429939, \"time\": 129.4351489999883, \"nbin\": 195}, {\"nPts\": 12000000, \"time\": 175.0219890000153, \"nbin\": 5}, {\"nPts\": 12000000, \"time\": 167.8219260000162, \"nbin\": 15}, {\"nPts\": 12000000, \"time\": 172.8032190000021, \"nbin\": 25}, {\"nPts\": 12000000, \"time\": 170.2636499999812, \"nbin\": 35}, {\"nPts\": 12000000, \"time\": 170.0698550000083, \"nbin\": 45}, {\"nPts\": 12000000, \"time\": 167.3073469999906, \"nbin\": 55}, {\"nPts\": 12000000, \"time\": 163.6226790000137, \"nbin\": 65}, {\"nPts\": 12000000, \"time\": 162.2141479999754, \"nbin\": 75}, {\"nPts\": 12000000, \"time\": 172.97035400000019, \"nbin\": 85}, {\"nPts\": 12000000, \"time\": 165.6935940000039, \"nbin\": 95}, {\"nPts\": 12000000, \"time\": 171.07101299998808, \"nbin\": 105}, {\"nPts\": 12000000, \"time\": 167.2264869999935, \"nbin\": 115}, {\"nPts\": 12000000, \"time\": 163.7269550000155, \"nbin\": 125}, {\"nPts\": 12000000, \"time\": 163.1591139999955, \"nbin\": 135}, {\"nPts\": 12000000, \"time\": 171.2322250000113, \"nbin\": 145}, {\"nPts\": 12000000, \"time\": 161.8957610000109, \"nbin\": 155}, {\"nPts\": 12000000, \"time\": 163.1703270000173, \"nbin\": 165}, {\"nPts\": 12000000, \"time\": 159.4454580000217, \"nbin\": 175}, {\"nPts\": 12000000, \"time\": 162.3189059999958, \"nbin\": 185}, {\"nPts\": 12000000, \"time\": 164.9644709999904, \"nbin\": 195}]}}, {\"mode\": \"vega-lite\"});\n",
       "</script>"
      ],
      "text/plain": [
       "alt.Chart(...)"
      ]
     },
     "execution_count": 256,
     "metadata": {},
     "output_type": "execute_result"
    }
   ],
   "source": [
    "alt.Chart(df).mark_line().encode(\n",
    "    y = \"time\",\n",
    "    x = \"nPts\",\n",
    "    color = alt.Color(\"nbin\",type=\"quantitative\")\n",
    ")"
   ]
  },
  {
   "cell_type": "code",
   "execution_count": 244,
   "metadata": {},
   "outputs": [],
   "source": [
    "N = np.array(df[\"nPts\"])\n",
    "Nbin = np.array(df[\"nbin\"])\n",
    "y = np.array(df[\"time\"])\n",
    "X = np.array([N,Nbin])"
   ]
  },
  {
   "cell_type": "code",
   "execution_count": 267,
   "metadata": {},
   "outputs": [],
   "source": [
    "from scipy.optimize import curve_fit\n",
    "def func(x, a, b):#,c):\n",
    "    return a + b * x[0]#+ c*x[1] #+ d*x[0]*x[1]"
   ]
  },
  {
   "cell_type": "code",
   "execution_count": 268,
   "metadata": {},
   "outputs": [
    {
     "data": {
      "text/plain": [
       "array([5.31229086e+00, 1.38194325e-05])"
      ]
     },
     "execution_count": 268,
     "metadata": {},
     "output_type": "execute_result"
    }
   ],
   "source": [
    "popt, pcov = curve_fit(func, X,y)\n",
    "popt"
   ]
  },
  {
   "cell_type": "code",
   "execution_count": 269,
   "metadata": {},
   "outputs": [],
   "source": [
    "y_pred = func(X,*popt)"
   ]
  },
  {
   "cell_type": "code",
   "execution_count": 270,
   "metadata": {},
   "outputs": [
    {
     "name": "stdout",
     "output_type": "stream",
     "text": [
      "error: 0.4148482784548995\n"
     ]
    }
   ],
   "source": [
    "perr = np.sqrt(np.diag(pcov))\n",
    "print (\"error:\", sum(perr))"
   ]
  },
  {
   "cell_type": "code",
   "execution_count": 271,
   "metadata": {},
   "outputs": [
    {
     "data": {
      "text/plain": [
       "[<matplotlib.lines.Line2D at 0x13c205b90>]"
      ]
     },
     "execution_count": 271,
     "metadata": {},
     "output_type": "execute_result"
    },
    {
     "data": {
      "image/png": "[encoded data removed]",
      "text/plain": [
       "<Figure size 432x288 with 1 Axes>"
      ]
     },
     "metadata": {
      "needs_background": "light"
     },
     "output_type": "display_data"
    }
   ],
   "source": [
    "dim = 0\n",
    "plt.plot(X[dim],y,'o')\n",
    "plt.plot(X[dim],func(X,*popt),'o')"
   ]
  },
  {
   "cell_type": "code",
   "execution_count": 113,
   "metadata": {},
   "outputs": [
    {
     "name": "stdout",
     "output_type": "stream",
     "text": [
      "Coefficients: [1.53415316e-05 2.39562438e+00]\n",
      "error: 5253.032837455612\n"
     ]
    }
   ],
   "source": [
    "# Verify that coefficient value is the same with linear fitting\n",
    "coeff, residuals, rank, singular_values, rcond = np.polyfit(N,y,1,full=True)\n",
    "print (\"Coefficients:\",coeff)\n",
    "print (\"error:\",residuals[0])"
   ]
  },
  {
   "cell_type": "markdown",
   "metadata": {},
   "source": [
    "Histogram processing speed has no dependence on the number of bins"
   ]
  },
  {
   "cell_type": "markdown",
   "metadata": {},
   "source": [
    "###  Heatmap Cost Model"
   ]
  },
  {
   "cell_type": "code",
   "execution_count": 225,
   "metadata": {},
   "outputs": [],
   "source": [
    "df = pd.read_csv(\"../result/costmodel_heatmap.csv\")\n",
    "df[\"time\"] = df[\"time\"]*1000\n",
    "df.nbin = df.nbin.astype(int)"
   ]
  },
  {
   "cell_type": "code",
   "execution_count": 235,
   "metadata": {},
   "outputs": [
    {
     "data": {
      "text/html": [
       "\n",
       "<div id=\"altair-viz-3e44e06d5c3345a8b074ef4ba3aeb9b5\"></div>\n",
       "<script type=\"text/javascript\">\n",
       "  (function(spec, embedOpt){\n",
       "    let outputDiv = document.currentScript.previousElementSibling;\n",
       "    if (outputDiv.id !== \"altair-viz-3e44e06d5c3345a8b074ef4ba3aeb9b5\") {\n",
       "      outputDiv = document.getElementById(\"altair-viz-3e44e06d5c3345a8b074ef4ba3aeb9b5\");\n",
       "    }\n",
       "    const paths = {\n",
       "      \"vega\": \"https://cdn.jsdelivr.net/npm//vega@5?noext\",\n",
       "      \"vega-lib\": \"https://cdn.jsdelivr.net/npm//vega-lib?noext\",\n",
       "      \"vega-lite\": \"https://cdn.jsdelivr.net/npm//vega-lite@4.8.1?noext\",\n",
       "      \"vega-embed\": \"https://cdn.jsdelivr.net/npm//vega-embed@6?noext\",\n",
       "    };\n",
       "\n",
       "    function loadScript(lib) {\n",
       "      return new Promise(function(resolve, reject) {\n",
       "        var s = document.createElement('script');\n",
       "        s.src = paths[lib];\n",
       "        s.async = true;\n",
       "        s.onload = () => resolve(paths[lib]);\n",
       "        s.onerror = () => reject(`Error loading script: ${paths[lib]}`);\n",
       "        document.getElementsByTagName(\"head\")[0].appendChild(s);\n",
       "      });\n",
       "    }\n",
       "\n",
       "    function showError(err) {\n",
       "      outputDiv.innerHTML = `<div class=\"error\" style=\"color:red;\">${err}</div>`;\n",
       "      throw err;\n",
       "    }\n",
       "\n",
       "    function displayChart(vegaEmbed) {\n",
       "      vegaEmbed(outputDiv, spec, embedOpt)\n",
       "        .catch(err => showError(`Javascript Error: ${err.message}<br>This usually means there's a typo in your chart specification. See the javascript console for the full traceback.`));\n",
       "    }\n",
       "\n",
       "    if(typeof define === \"function\" && define.amd) {\n",
       "      requirejs.config({paths});\n",
       "      require([\"vega-embed\"], displayChart, err => showError(`Error loading script: ${err.message}`));\n",
       "    } else if (typeof vegaEmbed === \"function\") {\n",
       "      displayChart(vegaEmbed);\n",
       "    } else {\n",
       "      loadScript(\"vega\")\n",
       "        .then(() => loadScript(\"vega-lite\"))\n",
       "        .then(() => loadScript(\"vega-embed\"))\n",
       "        .catch(showError)\n",
       "        .then(() => displayChart(vegaEmbed));\n",
       "    }\n",
       "  })({\"config\": {\"view\": {\"continuousWidth\": 400, \"continuousHeight\": 300}}, \"data\": {\"name\": \"data-5b0e4d0fb8cd4c680f70ba32d374ed3c\"}, \"mark\": \"line\", \"encoding\": {\"color\": {\"type\": \"ordinal\", \"field\": \"nbin\"}, \"row\": {\"type\": \"nominal\", \"field\": \"mark\"}, \"x\": {\"type\": \"quantitative\", \"field\": \"nPts\"}, \"y\": {\"type\": \"quantitative\", \"field\": \"time\"}}, \"$schema\": \"https://vega.github.io/schema/vega-lite/v4.8.1.json\", \"datasets\": {\"data-5b0e4d0fb8cd4c680f70ba32d374ed3c\": [{\"nPts\": 499999, \"mark\": \"heatmap\", \"time\": 2.9776210000029, \"nbin\": 5}, {\"nPts\": 499999, \"mark\": \"quantitative color heatmap\", \"time\": 3.3869519999996003, \"nbin\": 5}, {\"nPts\": 499999, \"mark\": \"categorical color heatmap\", \"time\": 5.5864969999994, \"nbin\": 5}, {\"nPts\": 499999, \"mark\": \"heatmap\", \"time\": 3.8257050000005, \"nbin\": 8}, {\"nPts\": 499999, \"mark\": \"quantitative color heatmap\", \"time\": 4.0758279999977, \"nbin\": 8}, {\"nPts\": 499999, \"mark\": \"categorical color heatmap\", \"time\": 8.040011000002, \"nbin\": 8}, {\"nPts\": 499999, \"mark\": \"heatmap\", \"time\": 3.5839650000006, \"nbin\": 13}, {\"nPts\": 499999, \"mark\": \"quantitative color heatmap\", \"time\": 3.0432289999993003, \"nbin\": 13}, {\"nPts\": 499999, \"mark\": \"categorical color heatmap\", \"time\": 5.1020099999981, \"nbin\": 13}, {\"nPts\": 499999, \"mark\": \"heatmap\", \"time\": 3.2678239999981, \"nbin\": 23}, {\"nPts\": 499999, \"mark\": \"quantitative color heatmap\", \"time\": 2.8626289999991, \"nbin\": 23}, {\"nPts\": 499999, \"mark\": \"categorical color heatmap\", \"time\": 5.1501020000017, \"nbin\": 23}, {\"nPts\": 499999, \"mark\": \"heatmap\", \"time\": 3.4832590000029, \"nbin\": 38}, {\"nPts\": 499999, \"mark\": \"quantitative color heatmap\", \"time\": 2.9011610000004002, \"nbin\": 38}, {\"nPts\": 499999, \"mark\": \"categorical color heatmap\", \"time\": 5.0591649999987, \"nbin\": 38}, {\"nPts\": 499999, \"mark\": \"heatmap\", \"time\": 3.5508130000003, \"nbin\": 64}, {\"nPts\": 499999, \"mark\": \"quantitative color heatmap\", \"time\": 3.2688170000021, \"nbin\": 64}, {\"nPts\": 499999, \"mark\": \"categorical color heatmap\", \"time\": 5.3956879999965, \"nbin\": 64}, {\"nPts\": 499999, \"mark\": \"heatmap\", \"time\": 7.2703610000033, \"nbin\": 107}, {\"nPts\": 499999, \"mark\": \"quantitative color heatmap\", \"time\": 3.5312539999985, \"nbin\": 107}, {\"nPts\": 499999, \"mark\": \"categorical color heatmap\", \"time\": 5.5304129999989, \"nbin\": 107}, {\"nPts\": 499999, \"mark\": \"heatmap\", \"time\": 3.7172950000012, \"nbin\": 179}, {\"nPts\": 499999, \"mark\": \"quantitative color heatmap\", \"time\": 3.1821149999977, \"nbin\": 179}, {\"nPts\": 499999, \"mark\": \"categorical color heatmap\", \"time\": 6.303240000001099, \"nbin\": 179}, {\"nPts\": 499999, \"mark\": \"heatmap\", \"time\": 5.8498469999967, \"nbin\": 299}, {\"nPts\": 499999, \"mark\": \"quantitative color heatmap\", \"time\": 3.3641399999986, \"nbin\": 299}, {\"nPts\": 499999, \"mark\": \"categorical color heatmap\", \"time\": 7.4352149999974, \"nbin\": 299}, {\"nPts\": 499999, \"mark\": \"heatmap\", \"time\": 3.7415930000007998, \"nbin\": 499}, {\"nPts\": 499999, \"mark\": \"quantitative color heatmap\", \"time\": 3.1189250000025, \"nbin\": 499}, {\"nPts\": 499999, \"mark\": \"categorical color heatmap\", \"time\": 5.3347899999991, \"nbin\": 499}, {\"nPts\": 711748, \"mark\": \"heatmap\", \"time\": 6.4189679999984, \"nbin\": 5}, {\"nPts\": 711748, \"mark\": \"quantitative color heatmap\", \"time\": 3.3805060000026996, \"nbin\": 5}, {\"nPts\": 711748, \"mark\": \"categorical color heatmap\", \"time\": 6.4087179999994, \"nbin\": 5}, {\"nPts\": 711748, \"mark\": \"heatmap\", \"time\": 3.9069459999971, \"nbin\": 8}, {\"nPts\": 711748, \"mark\": \"quantitative color heatmap\", \"time\": 3.4294400000014003, \"nbin\": 8}, {\"nPts\": 711748, \"mark\": \"categorical color heatmap\", \"time\": 10.8001340000001, \"nbin\": 8}, {\"nPts\": 711748, \"mark\": \"heatmap\", \"time\": 3.9325170000026004, \"nbin\": 13}, {\"nPts\": 711748, \"mark\": \"quantitative color heatmap\", \"time\": 3.526101000002, \"nbin\": 13}, {\"nPts\": 711748, \"mark\": \"categorical color heatmap\", \"time\": 6.7254659999988995, \"nbin\": 13}, {\"nPts\": 711748, \"mark\": \"heatmap\", \"time\": 3.8648059999992, \"nbin\": 23}, {\"nPts\": 711748, \"mark\": \"quantitative color heatmap\", \"time\": 3.4725840000006998, \"nbin\": 23}, {\"nPts\": 711748, \"mark\": \"categorical color heatmap\", \"time\": 6.4382810000012, \"nbin\": 23}, {\"nPts\": 711748, \"mark\": \"heatmap\", \"time\": 5.980405999998999, \"nbin\": 38}, {\"nPts\": 711748, \"mark\": \"quantitative color heatmap\", \"time\": 3.4729149999996003, \"nbin\": 38}, {\"nPts\": 711748, \"mark\": \"categorical color heatmap\", \"time\": 6.0491840000018, \"nbin\": 38}, {\"nPts\": 711748, \"mark\": \"heatmap\", \"time\": 7.882802999997499, \"nbin\": 64}, {\"nPts\": 711748, \"mark\": \"quantitative color heatmap\", \"time\": 3.5710830000005997, \"nbin\": 64}, {\"nPts\": 711748, \"mark\": \"categorical color heatmap\", \"time\": 6.2948410000025, \"nbin\": 64}, {\"nPts\": 711748, \"mark\": \"heatmap\", \"time\": 3.569247999998, \"nbin\": 107}, {\"nPts\": 711748, \"mark\": \"quantitative color heatmap\", \"time\": 3.3859689999999003, \"nbin\": 107}, {\"nPts\": 711748, \"mark\": \"categorical color heatmap\", \"time\": 5.9038180000001, \"nbin\": 107}, {\"nPts\": 711748, \"mark\": \"heatmap\", \"time\": 3.3078300000006, \"nbin\": 179}, {\"nPts\": 711748, \"mark\": \"quantitative color heatmap\", \"time\": 3.0082719999988004, \"nbin\": 179}, {\"nPts\": 711748, \"mark\": \"categorical color heatmap\", \"time\": 6.2101899999973, \"nbin\": 179}, {\"nPts\": 711748, \"mark\": \"heatmap\", \"time\": 4.6544609999976005, \"nbin\": 299}, {\"nPts\": 711748, \"mark\": \"quantitative color heatmap\", \"time\": 3.0610899999992003, \"nbin\": 299}, {\"nPts\": 711748, \"mark\": \"categorical color heatmap\", \"time\": 5.912155000000699, \"nbin\": 299}, {\"nPts\": 711748, \"mark\": \"heatmap\", \"time\": 7.819089999998099, \"nbin\": 499}, {\"nPts\": 711748, \"mark\": \"quantitative color heatmap\", \"time\": 3.1150159999988, \"nbin\": 499}, {\"nPts\": 711748, \"mark\": \"categorical color heatmap\", \"time\": 7.179359999998501, \"nbin\": 499}, {\"nPts\": 1013173, \"mark\": \"heatmap\", \"time\": 10.1380810000009, \"nbin\": 5}, {\"nPts\": 1013173, \"mark\": \"quantitative color heatmap\", \"time\": 6.4514999999971, \"nbin\": 5}, {\"nPts\": 1013173, \"mark\": \"categorical color heatmap\", \"time\": 10.3312190000011, \"nbin\": 5}, {\"nPts\": 1013173, \"mark\": \"heatmap\", \"time\": 6.508254999999901, \"nbin\": 8}, {\"nPts\": 1013173, \"mark\": \"quantitative color heatmap\", \"time\": 5.689887000002599, \"nbin\": 8}, {\"nPts\": 1013173, \"mark\": \"categorical color heatmap\", \"time\": 9.8750729999963, \"nbin\": 8}, {\"nPts\": 1013173, \"mark\": \"heatmap\", \"time\": 6.8748849999948, \"nbin\": 13}, {\"nPts\": 1013173, \"mark\": \"quantitative color heatmap\", \"time\": 5.9459730000028, \"nbin\": 13}, {\"nPts\": 1013173, \"mark\": \"categorical color heatmap\", \"time\": 9.6444710000014, \"nbin\": 13}, {\"nPts\": 1013173, \"mark\": \"heatmap\", \"time\": 6.4040930000004, \"nbin\": 23}, {\"nPts\": 1013173, \"mark\": \"quantitative color heatmap\", \"time\": 5.4997350000007, \"nbin\": 23}, {\"nPts\": 1013173, \"mark\": \"categorical color heatmap\", \"time\": 10.3377699999995, \"nbin\": 23}, {\"nPts\": 1013173, \"mark\": \"heatmap\", \"time\": 6.097744999998101, \"nbin\": 38}, {\"nPts\": 1013173, \"mark\": \"quantitative color heatmap\", \"time\": 5.524211999997401, \"nbin\": 38}, {\"nPts\": 1013173, \"mark\": \"categorical color heatmap\", \"time\": 9.427963999996699, \"nbin\": 38}, {\"nPts\": 1013173, \"mark\": \"heatmap\", \"time\": 6.1764330000002, \"nbin\": 64}, {\"nPts\": 1013173, \"mark\": \"quantitative color heatmap\", \"time\": 5.6923940000004, \"nbin\": 64}, {\"nPts\": 1013173, \"mark\": \"categorical color heatmap\", \"time\": 10.7973710000024, \"nbin\": 64}, {\"nPts\": 1013173, \"mark\": \"heatmap\", \"time\": 5.748706999995, \"nbin\": 107}, {\"nPts\": 1013173, \"mark\": \"quantitative color heatmap\", \"time\": 5.621284, \"nbin\": 107}, {\"nPts\": 1013173, \"mark\": \"categorical color heatmap\", \"time\": 9.3790430000026, \"nbin\": 107}, {\"nPts\": 1013173, \"mark\": \"heatmap\", \"time\": 6.6187010000007005, \"nbin\": 179}, {\"nPts\": 1013173, \"mark\": \"quantitative color heatmap\", \"time\": 5.4567279999986, \"nbin\": 179}, {\"nPts\": 1013173, \"mark\": \"categorical color heatmap\", \"time\": 9.8338630000043, \"nbin\": 179}, {\"nPts\": 1013173, \"mark\": \"heatmap\", \"time\": 5.8749309999939, \"nbin\": 299}, {\"nPts\": 1013173, \"mark\": \"quantitative color heatmap\", \"time\": 5.6366190000005005, \"nbin\": 299}, {\"nPts\": 1013173, \"mark\": \"categorical color heatmap\", \"time\": 9.2061980000011, \"nbin\": 299}, {\"nPts\": 1013173, \"mark\": \"heatmap\", \"time\": 5.6895829999986995, \"nbin\": 499}, {\"nPts\": 1013173, \"mark\": \"quantitative color heatmap\", \"time\": 5.3904880000033, \"nbin\": 499}, {\"nPts\": 1013173, \"mark\": \"categorical color heatmap\", \"time\": 9.004556000000699, \"nbin\": 499}, {\"nPts\": 1442249, \"mark\": \"heatmap\", \"time\": 12.5564710000034, \"nbin\": 5}, {\"nPts\": 1442249, \"mark\": \"quantitative color heatmap\", \"time\": 8.3404980000025, \"nbin\": 5}, {\"nPts\": 1442249, \"mark\": \"categorical color heatmap\", \"time\": 13.322911000003002, \"nbin\": 5}, {\"nPts\": 1442249, \"mark\": \"heatmap\", \"time\": 7.921781000000201, \"nbin\": 8}, {\"nPts\": 1442249, \"mark\": \"quantitative color heatmap\", \"time\": 7.6167889999964995, \"nbin\": 8}, {\"nPts\": 1442249, \"mark\": \"categorical color heatmap\", \"time\": 13.1068199999972, \"nbin\": 8}, {\"nPts\": 1442249, \"mark\": \"heatmap\", \"time\": 7.814716000005699, \"nbin\": 13}, {\"nPts\": 1442249, \"mark\": \"quantitative color heatmap\", \"time\": 7.5638280000021, \"nbin\": 13}, {\"nPts\": 1442249, \"mark\": \"categorical color heatmap\", \"time\": 13.2454910000063, \"nbin\": 13}, {\"nPts\": 1442249, \"mark\": \"heatmap\", \"time\": 8.0767539999939, \"nbin\": 23}, {\"nPts\": 1442249, \"mark\": \"quantitative color heatmap\", \"time\": 7.6097150000009, \"nbin\": 23}, {\"nPts\": 1442249, \"mark\": \"categorical color heatmap\", \"time\": 13.3775160000055, \"nbin\": 23}, {\"nPts\": 1442249, \"mark\": \"heatmap\", \"time\": 8.184657000001001, \"nbin\": 38}, {\"nPts\": 1442249, \"mark\": \"quantitative color heatmap\", \"time\": 7.681304000001799, \"nbin\": 38}, {\"nPts\": 1442249, \"mark\": \"categorical color heatmap\", \"time\": 13.2433980000001, \"nbin\": 38}, {\"nPts\": 1442249, \"mark\": \"heatmap\", \"time\": 8.0998820000033, \"nbin\": 64}, {\"nPts\": 1442249, \"mark\": \"quantitative color heatmap\", \"time\": 7.7939620000009, \"nbin\": 64}, {\"nPts\": 1442249, \"mark\": \"categorical color heatmap\", \"time\": 13.2033140000018, \"nbin\": 64}, {\"nPts\": 1442249, \"mark\": \"heatmap\", \"time\": 7.990585000001699, \"nbin\": 107}, {\"nPts\": 1442249, \"mark\": \"quantitative color heatmap\", \"time\": 7.531141000001099, \"nbin\": 107}, {\"nPts\": 1442249, \"mark\": \"categorical color heatmap\", \"time\": 13.308741999999501, \"nbin\": 107}, {\"nPts\": 1442249, \"mark\": \"heatmap\", \"time\": 7.840125000001299, \"nbin\": 179}, {\"nPts\": 1442249, \"mark\": \"quantitative color heatmap\", \"time\": 7.4431969999935, \"nbin\": 179}, {\"nPts\": 1442249, \"mark\": \"categorical color heatmap\", \"time\": 13.156216000005799, \"nbin\": 179}, {\"nPts\": 1442249, \"mark\": \"heatmap\", \"time\": 7.8427489999981, \"nbin\": 299}, {\"nPts\": 1442249, \"mark\": \"quantitative color heatmap\", \"time\": 7.8263120000059, \"nbin\": 299}, {\"nPts\": 1442249, \"mark\": \"categorical color heatmap\", \"time\": 13.4701260000014, \"nbin\": 299}, {\"nPts\": 1442249, \"mark\": \"heatmap\", \"time\": 8.0894740000019, \"nbin\": 499}, {\"nPts\": 1442249, \"mark\": \"quantitative color heatmap\", \"time\": 7.8263300000003, \"nbin\": 499}, {\"nPts\": 1442249, \"mark\": \"categorical color heatmap\", \"time\": 13.181402000000698, \"nbin\": 499}, {\"nPts\": 2053039, \"mark\": \"heatmap\", \"time\": 8.9551599999992, \"nbin\": 5}, {\"nPts\": 2053039, \"mark\": \"quantitative color heatmap\", \"time\": 11.484167999995499, \"nbin\": 5}, {\"nPts\": 2053039, \"mark\": \"categorical color heatmap\", \"time\": 19.457821999999602, \"nbin\": 5}, {\"nPts\": 2053039, \"mark\": \"heatmap\", \"time\": 11.5651710000008, \"nbin\": 8}, {\"nPts\": 2053039, \"mark\": \"quantitative color heatmap\", \"time\": 10.9411449999967, \"nbin\": 8}, {\"nPts\": 2053039, \"mark\": \"categorical color heatmap\", \"time\": 19.5656670000019, \"nbin\": 8}, {\"nPts\": 2053039, \"mark\": \"heatmap\", \"time\": 11.6642890000022, \"nbin\": 13}, {\"nPts\": 2053039, \"mark\": \"quantitative color heatmap\", \"time\": 10.8356950000043, \"nbin\": 13}, {\"nPts\": 2053039, \"mark\": \"categorical color heatmap\", \"time\": 18.7196230000026, \"nbin\": 13}, {\"nPts\": 2053039, \"mark\": \"heatmap\", \"time\": 11.4772639999998, \"nbin\": 23}, {\"nPts\": 2053039, \"mark\": \"quantitative color heatmap\", \"time\": 10.7807739999969, \"nbin\": 23}, {\"nPts\": 2053039, \"mark\": \"categorical color heatmap\", \"time\": 19.0495139999953, \"nbin\": 23}, {\"nPts\": 2053039, \"mark\": \"heatmap\", \"time\": 11.7386500000051, \"nbin\": 38}, {\"nPts\": 2053039, \"mark\": \"quantitative color heatmap\", \"time\": 10.7992690000031, \"nbin\": 38}, {\"nPts\": 2053039, \"mark\": \"categorical color heatmap\", \"time\": 18.754169999993998, \"nbin\": 38}, {\"nPts\": 2053039, \"mark\": \"heatmap\", \"time\": 11.2627849999995, \"nbin\": 64}, {\"nPts\": 2053039, \"mark\": \"quantitative color heatmap\", \"time\": 10.5288309999949, \"nbin\": 64}, {\"nPts\": 2053039, \"mark\": \"categorical color heatmap\", \"time\": 18.771565000001498, \"nbin\": 64}, {\"nPts\": 2053039, \"mark\": \"heatmap\", \"time\": 11.3241540000004, \"nbin\": 107}, {\"nPts\": 2053039, \"mark\": \"quantitative color heatmap\", \"time\": 10.6628309999976, \"nbin\": 107}, {\"nPts\": 2053039, \"mark\": \"categorical color heatmap\", \"time\": 18.3639890000009, \"nbin\": 107}, {\"nPts\": 2053039, \"mark\": \"heatmap\", \"time\": 11.377050999996602, \"nbin\": 179}, {\"nPts\": 2053039, \"mark\": \"quantitative color heatmap\", \"time\": 10.8194469999958, \"nbin\": 179}, {\"nPts\": 2053039, \"mark\": \"categorical color heatmap\", \"time\": 19.2810699999981, \"nbin\": 179}, {\"nPts\": 2053039, \"mark\": \"heatmap\", \"time\": 11.978296000002299, \"nbin\": 299}, {\"nPts\": 2053039, \"mark\": \"quantitative color heatmap\", \"time\": 11.2697169999975, \"nbin\": 299}, {\"nPts\": 2053039, \"mark\": \"categorical color heatmap\", \"time\": 19.457431999995798, \"nbin\": 299}, {\"nPts\": 2053039, \"mark\": \"heatmap\", \"time\": 12.7599519999961, \"nbin\": 499}, {\"nPts\": 2053039, \"mark\": \"quantitative color heatmap\", \"time\": 11.6830850000013, \"nbin\": 499}, {\"nPts\": 2053039, \"mark\": \"categorical color heatmap\", \"time\": 19.7671869999993, \"nbin\": 499}, {\"nPts\": 2922496, \"mark\": \"heatmap\", \"time\": 24.341166999988598, \"nbin\": 5}, {\"nPts\": 2922496, \"mark\": \"quantitative color heatmap\", \"time\": 14.4922550000075, \"nbin\": 5}, {\"nPts\": 2922496, \"mark\": \"categorical color heatmap\", \"time\": 25.9760550000009, \"nbin\": 5}, {\"nPts\": 2922496, \"mark\": \"heatmap\", \"time\": 14.3256300000018, \"nbin\": 8}, {\"nPts\": 2922496, \"mark\": \"quantitative color heatmap\", \"time\": 14.5382580000017, \"nbin\": 8}, {\"nPts\": 2922496, \"mark\": \"categorical color heatmap\", \"time\": 25.279204000000203, \"nbin\": 8}, {\"nPts\": 2922496, \"mark\": \"heatmap\", \"time\": 14.9668050000002, \"nbin\": 13}, {\"nPts\": 2922496, \"mark\": \"quantitative color heatmap\", \"time\": 13.6850270000081, \"nbin\": 13}, {\"nPts\": 2922496, \"mark\": \"categorical color heatmap\", \"time\": 26.142246999995603, \"nbin\": 13}, {\"nPts\": 2922496, \"mark\": \"heatmap\", \"time\": 14.4147949999933, \"nbin\": 23}, {\"nPts\": 2922496, \"mark\": \"quantitative color heatmap\", \"time\": 14.512995000003999, \"nbin\": 23}, {\"nPts\": 2922496, \"mark\": \"categorical color heatmap\", \"time\": 24.8864729999951, \"nbin\": 23}, {\"nPts\": 2922496, \"mark\": \"heatmap\", \"time\": 14.7609370000054, \"nbin\": 38}, {\"nPts\": 2922496, \"mark\": \"quantitative color heatmap\", \"time\": 13.588423999991, \"nbin\": 38}, {\"nPts\": 2922496, \"mark\": \"categorical color heatmap\", \"time\": 25.6967430000116, \"nbin\": 38}, {\"nPts\": 2922496, \"mark\": \"heatmap\", \"time\": 14.2567350000035, \"nbin\": 64}, {\"nPts\": 2922496, \"mark\": \"quantitative color heatmap\", \"time\": 14.2584600000077, \"nbin\": 64}, {\"nPts\": 2922496, \"mark\": \"categorical color heatmap\", \"time\": 25.4802130000086, \"nbin\": 64}, {\"nPts\": 2922496, \"mark\": \"heatmap\", \"time\": 15.0467179999935, \"nbin\": 107}, {\"nPts\": 2922496, \"mark\": \"quantitative color heatmap\", \"time\": 13.8765619999929, \"nbin\": 107}, {\"nPts\": 2922496, \"mark\": \"categorical color heatmap\", \"time\": 25.6840949999883, \"nbin\": 107}, {\"nPts\": 2922496, \"mark\": \"heatmap\", \"time\": 14.339197999987599, \"nbin\": 179}, {\"nPts\": 2922496, \"mark\": \"quantitative color heatmap\", \"time\": 14.458112999989199, \"nbin\": 179}, {\"nPts\": 2922496, \"mark\": \"categorical color heatmap\", \"time\": 25.5247999999994, \"nbin\": 179}, {\"nPts\": 2922496, \"mark\": \"heatmap\", \"time\": 14.8359610000028, \"nbin\": 299}, {\"nPts\": 2922496, \"mark\": \"quantitative color heatmap\", \"time\": 13.6210760000068, \"nbin\": 299}, {\"nPts\": 2922496, \"mark\": \"categorical color heatmap\", \"time\": 25.8235619999993, \"nbin\": 299}, {\"nPts\": 2922496, \"mark\": \"heatmap\", \"time\": 14.2674829999975, \"nbin\": 499}, {\"nPts\": 2922496, \"mark\": \"quantitative color heatmap\", \"time\": 14.2345019999936, \"nbin\": 499}, {\"nPts\": 2922496, \"mark\": \"categorical color heatmap\", \"time\": 25.2421679999912, \"nbin\": 499}, {\"nPts\": 4160167, \"mark\": \"heatmap\", \"time\": 17.581957999993797, \"nbin\": 5}, {\"nPts\": 4160167, \"mark\": \"quantitative color heatmap\", \"time\": 22.3192369999907, \"nbin\": 5}, {\"nPts\": 4160167, \"mark\": \"categorical color heatmap\", \"time\": 38.5031200000014, \"nbin\": 5}, {\"nPts\": 4160167, \"mark\": \"heatmap\", \"time\": 23.8109470000011, \"nbin\": 8}, {\"nPts\": 4160167, \"mark\": \"quantitative color heatmap\", \"time\": 22.7909820000036, \"nbin\": 8}, {\"nPts\": 4160167, \"mark\": \"categorical color heatmap\", \"time\": 38.3004569999911, \"nbin\": 8}, {\"nPts\": 4160167, \"mark\": \"heatmap\", \"time\": 23.5050339999958, \"nbin\": 13}, {\"nPts\": 4160167, \"mark\": \"quantitative color heatmap\", \"time\": 21.6978249999897, \"nbin\": 13}, {\"nPts\": 4160167, \"mark\": \"categorical color heatmap\", \"time\": 37.941825999993696, \"nbin\": 13}, {\"nPts\": 4160167, \"mark\": \"heatmap\", \"time\": 23.276860999999297, \"nbin\": 23}, {\"nPts\": 4160167, \"mark\": \"quantitative color heatmap\", \"time\": 21.9142610000062, \"nbin\": 23}, {\"nPts\": 4160167, \"mark\": \"categorical color heatmap\", \"time\": 38.3289579999939, \"nbin\": 23}, {\"nPts\": 4160167, \"mark\": \"heatmap\", \"time\": 22.754804999991, \"nbin\": 38}, {\"nPts\": 4160167, \"mark\": \"quantitative color heatmap\", \"time\": 21.5770730000031, \"nbin\": 38}, {\"nPts\": 4160167, \"mark\": \"categorical color heatmap\", \"time\": 37.8755050000023, \"nbin\": 38}, {\"nPts\": 4160167, \"mark\": \"heatmap\", \"time\": 23.4580340000007, \"nbin\": 64}, {\"nPts\": 4160167, \"mark\": \"quantitative color heatmap\", \"time\": 22.348179000005, \"nbin\": 64}, {\"nPts\": 4160167, \"mark\": \"categorical color heatmap\", \"time\": 37.728909000009, \"nbin\": 64}, {\"nPts\": 4160167, \"mark\": \"heatmap\", \"time\": 23.3423999999899, \"nbin\": 107}, {\"nPts\": 4160167, \"mark\": \"quantitative color heatmap\", \"time\": 22.1304070000059, \"nbin\": 107}, {\"nPts\": 4160167, \"mark\": \"categorical color heatmap\", \"time\": 38.1299459999979, \"nbin\": 107}, {\"nPts\": 4160167, \"mark\": \"heatmap\", \"time\": 23.8278549999932, \"nbin\": 179}, {\"nPts\": 4160167, \"mark\": \"quantitative color heatmap\", \"time\": 22.851897000009497, \"nbin\": 179}, {\"nPts\": 4160167, \"mark\": \"categorical color heatmap\", \"time\": 40.115597000010396, \"nbin\": 179}, {\"nPts\": 4160167, \"mark\": \"heatmap\", \"time\": 23.702279999994797, \"nbin\": 299}, {\"nPts\": 4160167, \"mark\": \"quantitative color heatmap\", \"time\": 21.8462059999922, \"nbin\": 299}, {\"nPts\": 4160167, \"mark\": \"categorical color heatmap\", \"time\": 38.2982910000038, \"nbin\": 299}, {\"nPts\": 4160167, \"mark\": \"heatmap\", \"time\": 22.9068399999903, \"nbin\": 499}, {\"nPts\": 4160167, \"mark\": \"quantitative color heatmap\", \"time\": 21.5990789999978, \"nbin\": 499}, {\"nPts\": 4160167, \"mark\": \"categorical color heatmap\", \"time\": 37.4988319999971, \"nbin\": 499}, {\"nPts\": 5921989, \"mark\": \"heatmap\", \"time\": 21.6805419999985, \"nbin\": 5}, {\"nPts\": 5921989, \"mark\": \"quantitative color heatmap\", \"time\": 29.0638099999966, \"nbin\": 5}, {\"nPts\": 5921989, \"mark\": \"categorical color heatmap\", \"time\": 50.2846190000099, \"nbin\": 5}, {\"nPts\": 5921989, \"mark\": \"heatmap\", \"time\": 29.5291380000009, \"nbin\": 8}, {\"nPts\": 5921989, \"mark\": \"quantitative color heatmap\", \"time\": 29.149678000010198, \"nbin\": 8}, {\"nPts\": 5921989, \"mark\": \"categorical color heatmap\", \"time\": 50.7741299999935, \"nbin\": 8}, {\"nPts\": 5921989, \"mark\": \"heatmap\", \"time\": 29.1497660000032, \"nbin\": 13}, {\"nPts\": 5921989, \"mark\": \"quantitative color heatmap\", \"time\": 28.2495419999975, \"nbin\": 13}, {\"nPts\": 5921989, \"mark\": \"categorical color heatmap\", \"time\": 50.4233659999897, \"nbin\": 13}, {\"nPts\": 5921989, \"mark\": \"heatmap\", \"time\": 29.092324000003998, \"nbin\": 23}, {\"nPts\": 5921989, \"mark\": \"quantitative color heatmap\", \"time\": 29.0555349999976, \"nbin\": 23}, {\"nPts\": 5921989, \"mark\": \"categorical color heatmap\", \"time\": 50.9578199999936, \"nbin\": 23}, {\"nPts\": 5921989, \"mark\": \"heatmap\", \"time\": 29.3553169999967, \"nbin\": 38}, {\"nPts\": 5921989, \"mark\": \"quantitative color heatmap\", \"time\": 28.7217840000124, \"nbin\": 38}, {\"nPts\": 5921989, \"mark\": \"categorical color heatmap\", \"time\": 49.7852060000099, \"nbin\": 38}, {\"nPts\": 5921989, \"mark\": \"heatmap\", \"time\": 28.8429709999888, \"nbin\": 64}, {\"nPts\": 5921989, \"mark\": \"quantitative color heatmap\", \"time\": 30.6488119999954, \"nbin\": 64}, {\"nPts\": 5921989, \"mark\": \"categorical color heatmap\", \"time\": 51.2469929999923, \"nbin\": 64}, {\"nPts\": 5921989, \"mark\": \"heatmap\", \"time\": 28.8839999999908, \"nbin\": 107}, {\"nPts\": 5921989, \"mark\": \"quantitative color heatmap\", \"time\": 29.103251999998697, \"nbin\": 107}, {\"nPts\": 5921989, \"mark\": \"categorical color heatmap\", \"time\": 50.7367740000006, \"nbin\": 107}, {\"nPts\": 5921989, \"mark\": \"heatmap\", \"time\": 29.849502000004602, \"nbin\": 179}, {\"nPts\": 5921989, \"mark\": \"quantitative color heatmap\", \"time\": 33.1575909999912, \"nbin\": 179}, {\"nPts\": 5921989, \"mark\": \"categorical color heatmap\", \"time\": 55.2937429999929, \"nbin\": 179}, {\"nPts\": 5921989, \"mark\": \"heatmap\", \"time\": 29.4141120000119, \"nbin\": 299}, {\"nPts\": 5921989, \"mark\": \"quantitative color heatmap\", \"time\": 28.495832999993798, \"nbin\": 299}, {\"nPts\": 5921989, \"mark\": \"categorical color heatmap\", \"time\": 51.242450999993096, \"nbin\": 299}, {\"nPts\": 5921989, \"mark\": \"heatmap\", \"time\": 29.8454109999966, \"nbin\": 499}, {\"nPts\": 5921989, \"mark\": \"quantitative color heatmap\", \"time\": 28.6510039999967, \"nbin\": 499}, {\"nPts\": 5921989, \"mark\": \"categorical color heatmap\", \"time\": 50.4537110000029, \"nbin\": 499}, {\"nPts\": 8429939, \"mark\": \"heatmap\", \"time\": 71.7431260000012, \"nbin\": 5}, {\"nPts\": 8429939, \"mark\": \"quantitative color heatmap\", \"time\": 40.8082429999865, \"nbin\": 5}, {\"nPts\": 8429939, \"mark\": \"categorical color heatmap\", \"time\": 71.9094170000005, \"nbin\": 5}, {\"nPts\": 8429939, \"mark\": \"heatmap\", \"time\": 41.7873480000139, \"nbin\": 8}, {\"nPts\": 8429939, \"mark\": \"quantitative color heatmap\", \"time\": 39.7921740000128, \"nbin\": 8}, {\"nPts\": 8429939, \"mark\": \"categorical color heatmap\", \"time\": 72.9893919999824, \"nbin\": 8}, {\"nPts\": 8429939, \"mark\": \"heatmap\", \"time\": 41.389422999998196, \"nbin\": 13}, {\"nPts\": 8429939, \"mark\": \"quantitative color heatmap\", \"time\": 38.4140390000027, \"nbin\": 13}, {\"nPts\": 8429939, \"mark\": \"categorical color heatmap\", \"time\": 71.0582979999969, \"nbin\": 13}, {\"nPts\": 8429939, \"mark\": \"heatmap\", \"time\": 41.684820999989796, \"nbin\": 23}, {\"nPts\": 8429939, \"mark\": \"quantitative color heatmap\", \"time\": 38.0504540000004, \"nbin\": 23}, {\"nPts\": 8429939, \"mark\": \"categorical color heatmap\", \"time\": 72.1457909999969, \"nbin\": 23}, {\"nPts\": 8429939, \"mark\": \"heatmap\", \"time\": 43.1291810000118, \"nbin\": 38}, {\"nPts\": 8429939, \"mark\": \"quantitative color heatmap\", \"time\": 38.844427000015, \"nbin\": 38}, {\"nPts\": 8429939, \"mark\": \"categorical color heatmap\", \"time\": 70.2163339999799, \"nbin\": 38}, {\"nPts\": 8429939, \"mark\": \"heatmap\", \"time\": 42.864189999988795, \"nbin\": 64}, {\"nPts\": 8429939, \"mark\": \"quantitative color heatmap\", \"time\": 39.5738120000146, \"nbin\": 64}, {\"nPts\": 8429939, \"mark\": \"categorical color heatmap\", \"time\": 72.4078070000189, \"nbin\": 64}, {\"nPts\": 8429939, \"mark\": \"heatmap\", \"time\": 40.7726759999889, \"nbin\": 107}, {\"nPts\": 8429939, \"mark\": \"quantitative color heatmap\", \"time\": 38.9457640000046, \"nbin\": 107}, {\"nPts\": 8429939, \"mark\": \"categorical color heatmap\", \"time\": 71.6212380000058, \"nbin\": 107}, {\"nPts\": 8429939, \"mark\": \"heatmap\", \"time\": 42.499822999985696, \"nbin\": 179}, {\"nPts\": 8429939, \"mark\": \"quantitative color heatmap\", \"time\": 39.5336320000012, \"nbin\": 179}, {\"nPts\": 8429939, \"mark\": \"categorical color heatmap\", \"time\": 71.7793930000141, \"nbin\": 179}, {\"nPts\": 8429939, \"mark\": \"heatmap\", \"time\": 40.659345999984, \"nbin\": 299}, {\"nPts\": 8429939, \"mark\": \"quantitative color heatmap\", \"time\": 38.2820080000101, \"nbin\": 299}, {\"nPts\": 8429939, \"mark\": \"categorical color heatmap\", \"time\": 71.0203489999798, \"nbin\": 299}, {\"nPts\": 8429939, \"mark\": \"heatmap\", \"time\": 42.146395000003096, \"nbin\": 499}, {\"nPts\": 8429939, \"mark\": \"quantitative color heatmap\", \"time\": 38.005939000015495, \"nbin\": 499}, {\"nPts\": 8429939, \"mark\": \"categorical color heatmap\", \"time\": 72.0388739999862, \"nbin\": 499}, {\"nPts\": 12000000, \"mark\": \"heatmap\", \"time\": 88.4608469999932, \"nbin\": 5}, {\"nPts\": 12000000, \"mark\": \"quantitative color heatmap\", \"time\": 62.1890829999927, \"nbin\": 5}, {\"nPts\": 12000000, \"mark\": \"categorical color heatmap\", \"time\": 98.0055990000039, \"nbin\": 5}, {\"nPts\": 12000000, \"mark\": \"heatmap\", \"time\": 54.8766550000152, \"nbin\": 8}, {\"nPts\": 12000000, \"mark\": \"quantitative color heatmap\", \"time\": 52.6158609999924, \"nbin\": 8}, {\"nPts\": 12000000, \"mark\": \"categorical color heatmap\", \"time\": 99.3100920000245, \"nbin\": 8}, {\"nPts\": 12000000, \"mark\": \"heatmap\", \"time\": 55.3774020000048, \"nbin\": 13}, {\"nPts\": 12000000, \"mark\": \"quantitative color heatmap\", \"time\": 52.773860000001996, \"nbin\": 13}, {\"nPts\": 12000000, \"mark\": \"categorical color heatmap\", \"time\": 98.2092000000136, \"nbin\": 13}, {\"nPts\": 12000000, \"mark\": \"heatmap\", \"time\": 55.7791189999932, \"nbin\": 23}, {\"nPts\": 12000000, \"mark\": \"quantitative color heatmap\", \"time\": 53.3713549999959, \"nbin\": 23}, {\"nPts\": 12000000, \"mark\": \"categorical color heatmap\", \"time\": 99.22692599999999, \"nbin\": 23}, {\"nPts\": 12000000, \"mark\": \"heatmap\", \"time\": 54.3416069999977, \"nbin\": 38}, {\"nPts\": 12000000, \"mark\": \"quantitative color heatmap\", \"time\": 53.3627419999902, \"nbin\": 38}, {\"nPts\": 12000000, \"mark\": \"categorical color heatmap\", \"time\": 98.8001309999901, \"nbin\": 38}, {\"nPts\": 12000000, \"mark\": \"heatmap\", \"time\": 54.9540390000231, \"nbin\": 64}, {\"nPts\": 12000000, \"mark\": \"quantitative color heatmap\", \"time\": 52.8140099999916, \"nbin\": 64}, {\"nPts\": 12000000, \"mark\": \"categorical color heatmap\", \"time\": 99.61579500000529, \"nbin\": 64}, {\"nPts\": 12000000, \"mark\": \"heatmap\", \"time\": 54.2877879999821, \"nbin\": 107}, {\"nPts\": 12000000, \"mark\": \"quantitative color heatmap\", \"time\": 52.8583880000042, \"nbin\": 107}, {\"nPts\": 12000000, \"mark\": \"categorical color heatmap\", \"time\": 100.5021789999887, \"nbin\": 107}, {\"nPts\": 12000000, \"mark\": \"heatmap\", \"time\": 54.929708000003, \"nbin\": 179}, {\"nPts\": 12000000, \"mark\": \"quantitative color heatmap\", \"time\": 53.2294639999975, \"nbin\": 179}, {\"nPts\": 12000000, \"mark\": \"categorical color heatmap\", \"time\": 99.3992410000146, \"nbin\": 179}, {\"nPts\": 12000000, \"mark\": \"heatmap\", \"time\": 54.4539109999959, \"nbin\": 299}, {\"nPts\": 12000000, \"mark\": \"quantitative color heatmap\", \"time\": 52.6847499999973, \"nbin\": 299}, {\"nPts\": 12000000, \"mark\": \"categorical color heatmap\", \"time\": 99.946076000009, \"nbin\": 299}, {\"nPts\": 12000000, \"mark\": \"heatmap\", \"time\": 54.4144440000025, \"nbin\": 499}, {\"nPts\": 12000000, \"mark\": \"quantitative color heatmap\", \"time\": 53.6303760000009, \"nbin\": 499}, {\"nPts\": 12000000, \"mark\": \"categorical color heatmap\", \"time\": 98.8794140000095, \"nbin\": 499}]}}, {\"mode\": \"vega-lite\"});\n",
       "</script>"
      ],
      "text/plain": [
       "alt.Chart(...)"
      ]
     },
     "execution_count": 235,
     "metadata": {},
     "output_type": "execute_result"
    }
   ],
   "source": [
    "alt.Chart(df).mark_line().encode(\n",
    "    y = \"time\",\n",
    "    x = \"nPts\",\n",
    "    color = alt.Color(\"nbin\",type=\"ordinal\"),\n",
    "    row=\"mark\"\n",
    ")"
   ]
  },
  {
   "cell_type": "code",
   "execution_count": 236,
   "metadata": {},
   "outputs": [],
   "source": [
    "vdf = df[df[\"mark\"]==\"heatmap\"]"
   ]
  },
  {
   "cell_type": "code",
   "execution_count": 237,
   "metadata": {},
   "outputs": [],
   "source": [
    "N = np.array(vdf[\"nPts\"])\n",
    "# Ncells = np.array(vdf[\"nbin\"]**2)\n",
    "Nbins = np.array(vdf[\"nbin\"])\n",
    "y = np.array(vdf[\"time\"])\n",
    "X = np.array([N,Nbins])"
   ]
  },
  {
   "cell_type": "code",
   "execution_count": 238,
   "metadata": {},
   "outputs": [],
   "source": [
    "from scipy.optimize import curve_fit\n",
    "def func(x, a, b):\n",
    "    return a + b * x[0]#+ c*x[1]"
   ]
  },
  {
   "cell_type": "code",
   "execution_count": 239,
   "metadata": {},
   "outputs": [
    {
     "name": "stdout",
     "output_type": "stream",
     "text": [
      "coefficient: [1.74877169e+00 4.80732118e-06]\n"
     ]
    }
   ],
   "source": [
    "popt, pcov = curve_fit(func, X,y)\n",
    "print (\"coefficient:\", popt)"
   ]
  },
  {
   "cell_type": "code",
   "execution_count": 240,
   "metadata": {},
   "outputs": [],
   "source": [
    "y_pred = func(X,*popt)"
   ]
  },
  {
   "cell_type": "code",
   "execution_count": 216,
   "metadata": {},
   "outputs": [
    {
     "name": "stdout",
     "output_type": "stream",
     "text": [
      "error: 2.139638258118922\n"
     ]
    }
   ],
   "source": [
    "perr = np.sqrt(np.diag(pcov))\n",
    "print (\"error:\", sum(perr))"
   ]
  },
  {
   "cell_type": "code",
   "execution_count": 217,
   "metadata": {},
   "outputs": [
    {
     "data": {
      "text/plain": [
       "[<matplotlib.lines.Line2D at 0x13becaf90>]"
      ]
     },
     "execution_count": 217,
     "metadata": {},
     "output_type": "execute_result"
    },
    {
     "data": {
      "image/png": "[encoded data removed]",
      "text/plain": [
       "<Figure size 432x288 with 1 Axes>"
      ]
     },
     "metadata": {
      "needs_background": "light"
     },
     "output_type": "display_data"
    }
   ],
   "source": [
    "dim = 0\n",
    "plt.plot(X[dim],y,'o')\n",
    "plt.plot(X[dim],func(X,*popt),'o')"
   ]
  },
  {
   "cell_type": "code",
   "execution_count": 136,
   "metadata": {},
   "outputs": [
    {
     "data": {
      "text/plain": [
       "[<matplotlib.lines.Line2D at 0x13ba2f510>]"
      ]
     },
     "execution_count": 136,
     "metadata": {},
     "output_type": "execute_result"
    },
    {
     "data": {
      "image/png": "[encoded data removed]",
      "text/plain": [
       "<Figure size 432x288 with 1 Axes>"
      ]
     },
     "metadata": {
      "needs_background": "light"
     },
     "output_type": "display_data"
    }
   ],
   "source": [
    "dim = 1\n",
    "plt.plot(X[dim],y,'o')\n",
    "plt.plot(X[dim],func(X,*popt),'o')"
   ]
  },
  {
   "cell_type": "markdown",
   "metadata": {},
   "source": [
    "- Heatmap processing time is also not very dependent on number of bins/cells. It is also not strongly dependent on the number of data points since the data has already been binned into fixed number of cells"
   ]
  },
  {
   "cell_type": "code",
   "execution_count": 197,
   "metadata": {},
   "outputs": [],
   "source": [
    "vdf = df[df[\"mark\"]==\"categorical color heatmap\"]"
   ]
  },
  {
   "cell_type": "code",
   "execution_count": 198,
   "metadata": {},
   "outputs": [],
   "source": [
    "N = np.array(vdf[\"nPts\"])\n",
    "# Ncells = np.array(vdf[\"nbin\"]**2)\n",
    "Nbins = np.array(vdf[\"nbin\"])\n",
    "y = np.array(vdf[\"time\"])\n",
    "X = np.array([N,Nbins])\n",
    "def func(x, a, b):\n",
    "    return a + b * x[0]#+ c*x[1]# + d * x[0]*x[1]"
   ]
  },
  {
   "cell_type": "code",
   "execution_count": 199,
   "metadata": {},
   "outputs": [
    {
     "name": "stdout",
     "output_type": "stream",
     "text": [
      "coefficient: [1.26063061e+02 2.63439721e-04]\n"
     ]
    }
   ],
   "source": [
    "popt, pcov = curve_fit(func, X,y)\n",
    "print (\"coefficient:\", popt)"
   ]
  },
  {
   "cell_type": "code",
   "execution_count": 200,
   "metadata": {},
   "outputs": [],
   "source": [
    "y_pred = func(X,*popt)"
   ]
  },
  {
   "cell_type": "code",
   "execution_count": 201,
   "metadata": {},
   "outputs": [
    {
     "name": "stdout",
     "output_type": "stream",
     "text": [
      "error: 7.0415925604036484\n"
     ]
    }
   ],
   "source": [
    "perr = np.sqrt(np.diag(pcov))\n",
    "print (\"error:\", sum(perr))"
   ]
  },
  {
   "cell_type": "code",
   "execution_count": 202,
   "metadata": {},
   "outputs": [
    {
     "data": {
      "text/html": [
       "\n",
       "<div id=\"altair-viz-33be6834b42d4a27a7f098759bfc9d6e\"></div>\n",
       "<script type=\"text/javascript\">\n",
       "  (function(spec, embedOpt){\n",
       "    let outputDiv = document.currentScript.previousElementSibling;\n",
       "    if (outputDiv.id !== \"altair-viz-33be6834b42d4a27a7f098759bfc9d6e\") {\n",
       "      outputDiv = document.getElementById(\"altair-viz-33be6834b42d4a27a7f098759bfc9d6e\");\n",
       "    }\n",
       "    const paths = {\n",
       "      \"vega\": \"https://cdn.jsdelivr.net/npm//vega@5?noext\",\n",
       "      \"vega-lib\": \"https://cdn.jsdelivr.net/npm//vega-lib?noext\",\n",
       "      \"vega-lite\": \"https://cdn.jsdelivr.net/npm//vega-lite@4.8.1?noext\",\n",
       "      \"vega-embed\": \"https://cdn.jsdelivr.net/npm//vega-embed@6?noext\",\n",
       "    };\n",
       "\n",
       "    function loadScript(lib) {\n",
       "      return new Promise(function(resolve, reject) {\n",
       "        var s = document.createElement('script');\n",
       "        s.src = paths[lib];\n",
       "        s.async = true;\n",
       "        s.onload = () => resolve(paths[lib]);\n",
       "        s.onerror = () => reject(`Error loading script: ${paths[lib]}`);\n",
       "        document.getElementsByTagName(\"head\")[0].appendChild(s);\n",
       "      });\n",
       "    }\n",
       "\n",
       "    function showError(err) {\n",
       "      outputDiv.innerHTML = `<div class=\"error\" style=\"color:red;\">${err}</div>`;\n",
       "      throw err;\n",
       "    }\n",
       "\n",
       "    function displayChart(vegaEmbed) {\n",
       "      vegaEmbed(outputDiv, spec, embedOpt)\n",
       "        .catch(err => showError(`Javascript Error: ${err.message}<br>This usually means there's a typo in your chart specification. See the javascript console for the full traceback.`));\n",
       "    }\n",
       "\n",
       "    if(typeof define === \"function\" && define.amd) {\n",
       "      requirejs.config({paths});\n",
       "      require([\"vega-embed\"], displayChart, err => showError(`Error loading script: ${err.message}`));\n",
       "    } else if (typeof vegaEmbed === \"function\") {\n",
       "      displayChart(vegaEmbed);\n",
       "    } else {\n",
       "      loadScript(\"vega\")\n",
       "        .then(() => loadScript(\"vega-lite\"))\n",
       "        .then(() => loadScript(\"vega-embed\"))\n",
       "        .catch(showError)\n",
       "        .then(() => displayChart(vegaEmbed));\n",
       "    }\n",
       "  })({\"config\": {\"view\": {\"continuousWidth\": 400, \"continuousHeight\": 300}}, \"data\": {\"name\": \"data-6fd45e7bad852ca25381ccf2eb56ba65\"}, \"mark\": \"line\", \"encoding\": {\"color\": {\"type\": \"ordinal\", \"field\": \"nbin\"}, \"x\": {\"type\": \"quantitative\", \"field\": \"nPts\"}, \"y\": {\"type\": \"quantitative\", \"field\": \"time\"}}, \"selection\": {\"selector018\": {\"type\": \"interval\", \"bind\": \"scales\", \"encodings\": [\"x\", \"y\"]}}, \"$schema\": \"https://vega.github.io/schema/vega-lite/v4.8.1.json\", \"datasets\": {\"data-6fd45e7bad852ca25381ccf2eb56ba65\": [{\"nPts\": 499999, \"mark\": \"categorical color heatmap\", \"time\": 260.9513119999995, \"nbin\": 5}, {\"nPts\": 499999, \"mark\": \"categorical color heatmap\", \"time\": 291.80124600000215, \"nbin\": 8}, {\"nPts\": 499999, \"mark\": \"categorical color heatmap\", \"time\": 295.2299499999995, \"nbin\": 13}, {\"nPts\": 499999, \"mark\": \"categorical color heatmap\", \"time\": 270.6431920000014, \"nbin\": 23}, {\"nPts\": 499999, \"mark\": \"categorical color heatmap\", \"time\": 257.9368670000015, \"nbin\": 38}, {\"nPts\": 499999, \"mark\": \"categorical color heatmap\", \"time\": 265.6860899999991, \"nbin\": 64}, {\"nPts\": 499999, \"mark\": \"categorical color heatmap\", \"time\": 256.4413419999987, \"nbin\": 107}, {\"nPts\": 499999, \"mark\": \"categorical color heatmap\", \"time\": 268.800885000001, \"nbin\": 179}, {\"nPts\": 499999, \"mark\": \"categorical color heatmap\", \"time\": 296.01629200000093, \"nbin\": 299}, {\"nPts\": 499999, \"mark\": \"categorical color heatmap\", \"time\": 258.9077320000008, \"nbin\": 499}, {\"nPts\": 711748, \"mark\": \"categorical color heatmap\", \"time\": 299.6367759999998, \"nbin\": 5}, {\"nPts\": 711748, \"mark\": \"categorical color heatmap\", \"time\": 307.4178999999972, \"nbin\": 8}, {\"nPts\": 711748, \"mark\": \"categorical color heatmap\", \"time\": 316.1839450000059, \"nbin\": 13}, {\"nPts\": 711748, \"mark\": \"categorical color heatmap\", \"time\": 322.5504239999992, \"nbin\": 23}, {\"nPts\": 711748, \"mark\": \"categorical color heatmap\", \"time\": 312.0614269999961, \"nbin\": 38}, {\"nPts\": 711748, \"mark\": \"categorical color heatmap\", \"time\": 341.7291389999946, \"nbin\": 64}, {\"nPts\": 711748, \"mark\": \"categorical color heatmap\", \"time\": 315.1210930000019, \"nbin\": 107}, {\"nPts\": 711748, \"mark\": \"categorical color heatmap\", \"time\": 310.0647110000025, \"nbin\": 179}, {\"nPts\": 711748, \"mark\": \"categorical color heatmap\", \"time\": 319.1110160000008, \"nbin\": 299}, {\"nPts\": 711748, \"mark\": \"categorical color heatmap\", \"time\": 297.1896729999983, \"nbin\": 499}, {\"nPts\": 1013173, \"mark\": \"categorical color heatmap\", \"time\": 401.0941689999967, \"nbin\": 5}, {\"nPts\": 1013173, \"mark\": \"categorical color heatmap\", \"time\": 389.9780120000002, \"nbin\": 8}, {\"nPts\": 1013173, \"mark\": \"categorical color heatmap\", \"time\": 379.1968809999986, \"nbin\": 13}, {\"nPts\": 1013173, \"mark\": \"categorical color heatmap\", \"time\": 364.2859270000045, \"nbin\": 23}, {\"nPts\": 1013173, \"mark\": \"categorical color heatmap\", \"time\": 377.0016819999995, \"nbin\": 38}, {\"nPts\": 1013173, \"mark\": \"categorical color heatmap\", \"time\": 372.1778749999984, \"nbin\": 64}, {\"nPts\": 1013173, \"mark\": \"categorical color heatmap\", \"time\": 389.5053480000001, \"nbin\": 107}, {\"nPts\": 1013173, \"mark\": \"categorical color heatmap\", \"time\": 367.7761060000009, \"nbin\": 179}, {\"nPts\": 1013173, \"mark\": \"categorical color heatmap\", \"time\": 376.159475999998, \"nbin\": 299}, {\"nPts\": 1013173, \"mark\": \"categorical color heatmap\", \"time\": 446.8210850000034, \"nbin\": 499}, {\"nPts\": 1442249, \"mark\": \"categorical color heatmap\", \"time\": 503.89670399999886, \"nbin\": 5}, {\"nPts\": 1442249, \"mark\": \"categorical color heatmap\", \"time\": 479.1925359999993, \"nbin\": 8}, {\"nPts\": 1442249, \"mark\": \"categorical color heatmap\", \"time\": 595.3342450000036, \"nbin\": 13}, {\"nPts\": 1442249, \"mark\": \"categorical color heatmap\", \"time\": 472.2005039999999, \"nbin\": 23}, {\"nPts\": 1442249, \"mark\": \"categorical color heatmap\", \"time\": 493.8573459999986, \"nbin\": 38}, {\"nPts\": 1442249, \"mark\": \"categorical color heatmap\", \"time\": 494.998026999994, \"nbin\": 64}, {\"nPts\": 1442249, \"mark\": \"categorical color heatmap\", \"time\": 469.2264470000111, \"nbin\": 107}, {\"nPts\": 1442249, \"mark\": \"categorical color heatmap\", \"time\": 477.4267640000005, \"nbin\": 179}, {\"nPts\": 1442249, \"mark\": \"categorical color heatmap\", \"time\": 483.7804600000055, \"nbin\": 299}, {\"nPts\": 1442249, \"mark\": \"categorical color heatmap\", \"time\": 487.1776939999961, \"nbin\": 499}, {\"nPts\": 2053039, \"mark\": \"categorical color heatmap\", \"time\": 654.7069410000006, \"nbin\": 5}, {\"nPts\": 2053039, \"mark\": \"categorical color heatmap\", \"time\": 634.8758729999986, \"nbin\": 8}, {\"nPts\": 2053039, \"mark\": \"categorical color heatmap\", \"time\": 646.3853679999971, \"nbin\": 13}, {\"nPts\": 2053039, \"mark\": \"categorical color heatmap\", \"time\": 695.8360090000042, \"nbin\": 23}, {\"nPts\": 2053039, \"mark\": \"categorical color heatmap\", \"time\": 632.0016739999943, \"nbin\": 38}, {\"nPts\": 2053039, \"mark\": \"categorical color heatmap\", \"time\": 681.4601069999924, \"nbin\": 64}, {\"nPts\": 2053039, \"mark\": \"categorical color heatmap\", \"time\": 652.7288010000092, \"nbin\": 107}, {\"nPts\": 2053039, \"mark\": \"categorical color heatmap\", \"time\": 673.4047449999991, \"nbin\": 179}, {\"nPts\": 2053039, \"mark\": \"categorical color heatmap\", \"time\": 647.3140020000017, \"nbin\": 299}, {\"nPts\": 2053039, \"mark\": \"categorical color heatmap\", \"time\": 670.8847949999921, \"nbin\": 499}, {\"nPts\": 2922496, \"mark\": \"categorical color heatmap\", \"time\": 883.9586379999957, \"nbin\": 5}, {\"nPts\": 2922496, \"mark\": \"categorical color heatmap\", \"time\": 888.721314999998, \"nbin\": 8}, {\"nPts\": 2922496, \"mark\": \"categorical color heatmap\", \"time\": 890.6409070000052, \"nbin\": 13}, {\"nPts\": 2922496, \"mark\": \"categorical color heatmap\", \"time\": 920.1567970000042, \"nbin\": 23}, {\"nPts\": 2922496, \"mark\": \"categorical color heatmap\", \"time\": 863.5953560000047, \"nbin\": 38}, {\"nPts\": 2922496, \"mark\": \"categorical color heatmap\", \"time\": 892.9487239999929, \"nbin\": 64}, {\"nPts\": 2922496, \"mark\": \"categorical color heatmap\", \"time\": 881.1553339999989, \"nbin\": 107}, {\"nPts\": 2922496, \"mark\": \"categorical color heatmap\", \"time\": 890.6779609999944, \"nbin\": 179}, {\"nPts\": 2922496, \"mark\": \"categorical color heatmap\", \"time\": 891.7986410000083, \"nbin\": 299}, {\"nPts\": 2922496, \"mark\": \"categorical color heatmap\", \"time\": 926.2276280000066, \"nbin\": 499}, {\"nPts\": 4160167, \"mark\": \"categorical color heatmap\", \"time\": 1427.7330669999913, \"nbin\": 5}, {\"nPts\": 4160167, \"mark\": \"categorical color heatmap\", \"time\": 1199.130996000008, \"nbin\": 8}, {\"nPts\": 4160167, \"mark\": \"categorical color heatmap\", \"time\": 1221.7601829999865, \"nbin\": 13}, {\"nPts\": 4160167, \"mark\": \"categorical color heatmap\", \"time\": 1192.6580030000196, \"nbin\": 23}, {\"nPts\": 4160167, \"mark\": \"categorical color heatmap\", \"time\": 1225.6625130000032, \"nbin\": 38}, {\"nPts\": 4160167, \"mark\": \"categorical color heatmap\", \"time\": 1194.0994979999855, \"nbin\": 64}, {\"nPts\": 4160167, \"mark\": \"categorical color heatmap\", \"time\": 1219.2886920000203, \"nbin\": 107}, {\"nPts\": 4160167, \"mark\": \"categorical color heatmap\", \"time\": 1232.7874810000026, \"nbin\": 179}, {\"nPts\": 4160167, \"mark\": \"categorical color heatmap\", \"time\": 1207.023018000001, \"nbin\": 299}, {\"nPts\": 4160167, \"mark\": \"categorical color heatmap\", \"time\": 1219.0035140000075, \"nbin\": 499}, {\"nPts\": 5921989, \"mark\": \"categorical color heatmap\", \"time\": 1680.8838259999843, \"nbin\": 5}, {\"nPts\": 5921989, \"mark\": \"categorical color heatmap\", \"time\": 1678.468065000004, \"nbin\": 8}, {\"nPts\": 5921989, \"mark\": \"categorical color heatmap\", \"time\": 1668.7501709999992, \"nbin\": 13}, {\"nPts\": 5921989, \"mark\": \"categorical color heatmap\", \"time\": 1647.4213609999993, \"nbin\": 23}, {\"nPts\": 5921989, \"mark\": \"categorical color heatmap\", \"time\": 1701.0109059999934, \"nbin\": 38}, {\"nPts\": 5921989, \"mark\": \"categorical color heatmap\", \"time\": 1666.051624000005, \"nbin\": 64}, {\"nPts\": 5921989, \"mark\": \"categorical color heatmap\", \"time\": 1684.0406009999924, \"nbin\": 107}, {\"nPts\": 5921989, \"mark\": \"categorical color heatmap\", \"time\": 1673.5553019999827, \"nbin\": 179}, {\"nPts\": 5921989, \"mark\": \"categorical color heatmap\", \"time\": 1651.7272739999953, \"nbin\": 299}, {\"nPts\": 5921989, \"mark\": \"categorical color heatmap\", \"time\": 1658.282601000025, \"nbin\": 499}, {\"nPts\": 8429939, \"mark\": \"categorical color heatmap\", \"time\": 2328.503789000024, \"nbin\": 5}, {\"nPts\": 8429939, \"mark\": \"categorical color heatmap\", \"time\": 2711.446158000001, \"nbin\": 8}, {\"nPts\": 8429939, \"mark\": \"categorical color heatmap\", \"time\": 2333.182020000038, \"nbin\": 13}, {\"nPts\": 8429939, \"mark\": \"categorical color heatmap\", \"time\": 2335.3044409999484, \"nbin\": 23}, {\"nPts\": 8429939, \"mark\": \"categorical color heatmap\", \"time\": 2332.699004000005, \"nbin\": 38}, {\"nPts\": 8429939, \"mark\": \"categorical color heatmap\", \"time\": 2366.3705790000336, \"nbin\": 64}, {\"nPts\": 8429939, \"mark\": \"categorical color heatmap\", \"time\": 2369.7088870000016, \"nbin\": 107}, {\"nPts\": 8429939, \"mark\": \"categorical color heatmap\", \"time\": 2323.9260660000127, \"nbin\": 179}, {\"nPts\": 8429939, \"mark\": \"categorical color heatmap\", \"time\": 2331.4858800000025, \"nbin\": 299}, {\"nPts\": 8429939, \"mark\": \"categorical color heatmap\", \"time\": 2353.494742999999, \"nbin\": 499}, {\"nPts\": 12000000, \"mark\": \"categorical color heatmap\", \"time\": 3271.1672539999768, \"nbin\": 5}, {\"nPts\": 12000000, \"mark\": \"categorical color heatmap\", \"time\": 3267.8710369999635, \"nbin\": 8}, {\"nPts\": 12000000, \"mark\": \"categorical color heatmap\", \"time\": 3257.021173999988, \"nbin\": 13}, {\"nPts\": 12000000, \"mark\": \"categorical color heatmap\", \"time\": 3250.0380170000085, \"nbin\": 23}, {\"nPts\": 12000000, \"mark\": \"categorical color heatmap\", \"time\": 3309.4677760000195, \"nbin\": 38}, {\"nPts\": 12000000, \"mark\": \"categorical color heatmap\", \"time\": 3268.4742079999864, \"nbin\": 64}, {\"nPts\": 12000000, \"mark\": \"categorical color heatmap\", \"time\": 3240.886304999947, \"nbin\": 107}, {\"nPts\": 12000000, \"mark\": \"categorical color heatmap\", \"time\": 3276.9078320000062, \"nbin\": 179}, {\"nPts\": 12000000, \"mark\": \"categorical color heatmap\", \"time\": 3271.2642729999857, \"nbin\": 299}, {\"nPts\": 12000000, \"mark\": \"categorical color heatmap\", \"time\": 3302.993366999999, \"nbin\": 499}]}}, {\"mode\": \"vega-lite\"});\n",
       "</script>"
      ],
      "text/plain": [
       "alt.Chart(...)"
      ]
     },
     "execution_count": 202,
     "metadata": {},
     "output_type": "execute_result"
    }
   ],
   "source": [
    "alt.Chart(vdf).mark_line().encode(\n",
    "    y = \"time\",\n",
    "    x = \"nPts\",\n",
    "    color = alt.Color(\"nbin\",type=\"ordinal\")\n",
    ").interactive()"
   ]
  },
  {
   "cell_type": "code",
   "execution_count": 222,
   "metadata": {},
   "outputs": [
    {
     "data": {
      "text/plain": [
       "[<matplotlib.lines.Line2D at 0x13c03aa90>]"
      ]
     },
     "execution_count": 222,
     "metadata": {},
     "output_type": "execute_result"
    },
    {
     "data": {
      "image/png": "[encoded data removed]",
      "text/plain": [
       "<Figure size 432x288 with 1 Axes>"
      ]
     },
     "metadata": {
      "needs_background": "light"
     },
     "output_type": "display_data"
    }
   ],
   "source": [
    "plt.plot(X[dim],y,'o')\n",
    "plt.plot(X[dim],func(X,*popt),'o')"
   ]
  },
  {
   "cell_type": "code",
   "execution_count": 204,
   "metadata": {},
   "outputs": [],
   "source": [
    "vdf = df[df[\"mark\"]==\"quantitative color heatmap\"]"
   ]
  },
  {
   "cell_type": "code",
   "execution_count": 205,
   "metadata": {},
   "outputs": [
    {
     "name": "stdout",
     "output_type": "stream",
     "text": [
      "coefficient: [9.23846973e+01 1.11369290e-04]\n"
     ]
    }
   ],
   "source": [
    "N = np.array(vdf[\"nPts\"])\n",
    "Ncells = np.array(vdf[\"nbin\"]**2)\n",
    "Nbins = np.array(vdf[\"nbin\"])\n",
    "y = np.array(vdf[\"time\"])\n",
    "X = np.array([N,Nbins])\n",
    "def func(x, a, b):\n",
    "    return a + b * x[0]#+ c*x[1]# + d * x[0]*x[1]\n",
    "\n",
    "popt, pcov = curve_fit(func, X,y)\n",
    "print (\"coefficient:\", popt)"
   ]
  },
  {
   "cell_type": "code",
   "execution_count": 207,
   "metadata": {},
   "outputs": [
    {
     "data": {
      "text/html": [
       "\n",
       "<div id=\"altair-viz-8cca230afc604d58b97b654c961488a8\"></div>\n",
       "<script type=\"text/javascript\">\n",
       "  (function(spec, embedOpt){\n",
       "    let outputDiv = document.currentScript.previousElementSibling;\n",
       "    if (outputDiv.id !== \"altair-viz-8cca230afc604d58b97b654c961488a8\") {\n",
       "      outputDiv = document.getElementById(\"altair-viz-8cca230afc604d58b97b654c961488a8\");\n",
       "    }\n",
       "    const paths = {\n",
       "      \"vega\": \"https://cdn.jsdelivr.net/npm//vega@5?noext\",\n",
       "      \"vega-lib\": \"https://cdn.jsdelivr.net/npm//vega-lib?noext\",\n",
       "      \"vega-lite\": \"https://cdn.jsdelivr.net/npm//vega-lite@4.8.1?noext\",\n",
       "      \"vega-embed\": \"https://cdn.jsdelivr.net/npm//vega-embed@6?noext\",\n",
       "    };\n",
       "\n",
       "    function loadScript(lib) {\n",
       "      return new Promise(function(resolve, reject) {\n",
       "        var s = document.createElement('script');\n",
       "        s.src = paths[lib];\n",
       "        s.async = true;\n",
       "        s.onload = () => resolve(paths[lib]);\n",
       "        s.onerror = () => reject(`Error loading script: ${paths[lib]}`);\n",
       "        document.getElementsByTagName(\"head\")[0].appendChild(s);\n",
       "      });\n",
       "    }\n",
       "\n",
       "    function showError(err) {\n",
       "      outputDiv.innerHTML = `<div class=\"error\" style=\"color:red;\">${err}</div>`;\n",
       "      throw err;\n",
       "    }\n",
       "\n",
       "    function displayChart(vegaEmbed) {\n",
       "      vegaEmbed(outputDiv, spec, embedOpt)\n",
       "        .catch(err => showError(`Javascript Error: ${err.message}<br>This usually means there's a typo in your chart specification. See the javascript console for the full traceback.`));\n",
       "    }\n",
       "\n",
       "    if(typeof define === \"function\" && define.amd) {\n",
       "      requirejs.config({paths});\n",
       "      require([\"vega-embed\"], displayChart, err => showError(`Error loading script: ${err.message}`));\n",
       "    } else if (typeof vegaEmbed === \"function\") {\n",
       "      displayChart(vegaEmbed);\n",
       "    } else {\n",
       "      loadScript(\"vega\")\n",
       "        .then(() => loadScript(\"vega-lite\"))\n",
       "        .then(() => loadScript(\"vega-embed\"))\n",
       "        .catch(showError)\n",
       "        .then(() => displayChart(vegaEmbed));\n",
       "    }\n",
       "  })({\"config\": {\"view\": {\"continuousWidth\": 400, \"continuousHeight\": 300}}, \"data\": {\"name\": \"data-133a8cfbbacd7efe07540b6beb4365b5\"}, \"mark\": \"line\", \"encoding\": {\"color\": {\"type\": \"ordinal\", \"field\": \"nbin\"}, \"x\": {\"type\": \"quantitative\", \"field\": \"nPts\"}, \"y\": {\"type\": \"quantitative\", \"field\": \"time\"}}, \"selection\": {\"selector020\": {\"type\": \"interval\", \"bind\": \"scales\", \"encodings\": [\"x\", \"y\"]}}, \"$schema\": \"https://vega.github.io/schema/vega-lite/v4.8.1.json\", \"datasets\": {\"data-133a8cfbbacd7efe07540b6beb4365b5\": [{\"nPts\": 499999, \"mark\": \"quantitative color heatmap\", \"time\": 155.8602170000007, \"nbin\": 5}, {\"nPts\": 499999, \"mark\": \"quantitative color heatmap\", \"time\": 152.26789799999798, \"nbin\": 8}, {\"nPts\": 499999, \"mark\": \"quantitative color heatmap\", \"time\": 134.8156679999981, \"nbin\": 13}, {\"nPts\": 499999, \"mark\": \"quantitative color heatmap\", \"time\": 137.7055509999998, \"nbin\": 23}, {\"nPts\": 499999, \"mark\": \"quantitative color heatmap\", \"time\": 142.5585620000014, \"nbin\": 38}, {\"nPts\": 499999, \"mark\": \"quantitative color heatmap\", \"time\": 146.0335130000025, \"nbin\": 64}, {\"nPts\": 499999, \"mark\": \"quantitative color heatmap\", \"time\": 140.476550999999, \"nbin\": 107}, {\"nPts\": 499999, \"mark\": \"quantitative color heatmap\", \"time\": 128.5821699999978, \"nbin\": 179}, {\"nPts\": 499999, \"mark\": \"quantitative color heatmap\", \"time\": 132.3295839999971, \"nbin\": 299}, {\"nPts\": 499999, \"mark\": \"quantitative color heatmap\", \"time\": 157.1866400000026, \"nbin\": 499}, {\"nPts\": 711748, \"mark\": \"quantitative color heatmap\", \"time\": 163.6718990000005, \"nbin\": 5}, {\"nPts\": 711748, \"mark\": \"quantitative color heatmap\", \"time\": 164.9711889999991, \"nbin\": 8}, {\"nPts\": 711748, \"mark\": \"quantitative color heatmap\", \"time\": 160.9099289999989, \"nbin\": 13}, {\"nPts\": 711748, \"mark\": \"quantitative color heatmap\", \"time\": 154.5468569999997, \"nbin\": 23}, {\"nPts\": 711748, \"mark\": \"quantitative color heatmap\", \"time\": 162.1627230000015, \"nbin\": 38}, {\"nPts\": 711748, \"mark\": \"quantitative color heatmap\", \"time\": 168.0426909999965, \"nbin\": 64}, {\"nPts\": 711748, \"mark\": \"quantitative color heatmap\", \"time\": 153.1075600000022, \"nbin\": 107}, {\"nPts\": 711748, \"mark\": \"quantitative color heatmap\", \"time\": 152.3549670000008, \"nbin\": 179}, {\"nPts\": 711748, \"mark\": \"quantitative color heatmap\", \"time\": 163.2943919999974, \"nbin\": 299}, {\"nPts\": 711748, \"mark\": \"quantitative color heatmap\", \"time\": 151.0864279999992, \"nbin\": 499}, {\"nPts\": 1013173, \"mark\": \"quantitative color heatmap\", \"time\": 260.9773380000035, \"nbin\": 5}, {\"nPts\": 1013173, \"mark\": \"quantitative color heatmap\", \"time\": 198.8871020000004, \"nbin\": 8}, {\"nPts\": 1013173, \"mark\": \"quantitative color heatmap\", \"time\": 276.3244969999974, \"nbin\": 13}, {\"nPts\": 1013173, \"mark\": \"quantitative color heatmap\", \"time\": 191.7598590000011, \"nbin\": 23}, {\"nPts\": 1013173, \"mark\": \"quantitative color heatmap\", \"time\": 201.2680280000012, \"nbin\": 38}, {\"nPts\": 1013173, \"mark\": \"quantitative color heatmap\", \"time\": 190.4230569999967, \"nbin\": 64}, {\"nPts\": 1013173, \"mark\": \"quantitative color heatmap\", \"time\": 188.2824999999997, \"nbin\": 107}, {\"nPts\": 1013173, \"mark\": \"quantitative color heatmap\", \"time\": 195.2801540000024, \"nbin\": 179}, {\"nPts\": 1013173, \"mark\": \"quantitative color heatmap\", \"time\": 192.8420780000053, \"nbin\": 299}, {\"nPts\": 1013173, \"mark\": \"quantitative color heatmap\", \"time\": 196.5659610000045, \"nbin\": 499}, {\"nPts\": 1442249, \"mark\": \"quantitative color heatmap\", \"time\": 286.1046189999996, \"nbin\": 5}, {\"nPts\": 1442249, \"mark\": \"quantitative color heatmap\", \"time\": 224.3423219999982, \"nbin\": 8}, {\"nPts\": 1442249, \"mark\": \"quantitative color heatmap\", \"time\": 221.4573319999999, \"nbin\": 13}, {\"nPts\": 1442249, \"mark\": \"quantitative color heatmap\", \"time\": 230.0884649999943, \"nbin\": 23}, {\"nPts\": 1442249, \"mark\": \"quantitative color heatmap\", \"time\": 228.51185300000049, \"nbin\": 38}, {\"nPts\": 1442249, \"mark\": \"quantitative color heatmap\", \"time\": 229.5249149999989, \"nbin\": 64}, {\"nPts\": 1442249, \"mark\": \"quantitative color heatmap\", \"time\": 246.5900199999993, \"nbin\": 107}, {\"nPts\": 1442249, \"mark\": \"quantitative color heatmap\", \"time\": 224.3325599999934, \"nbin\": 179}, {\"nPts\": 1442249, \"mark\": \"quantitative color heatmap\", \"time\": 220.5364229999986, \"nbin\": 299}, {\"nPts\": 1442249, \"mark\": \"quantitative color heatmap\", \"time\": 209.6350979999925, \"nbin\": 499}, {\"nPts\": 2053039, \"mark\": \"quantitative color heatmap\", \"time\": 497.4146590000003, \"nbin\": 5}, {\"nPts\": 2053039, \"mark\": \"quantitative color heatmap\", \"time\": 301.3791430000054, \"nbin\": 8}, {\"nPts\": 2053039, \"mark\": \"quantitative color heatmap\", \"time\": 298.4384720000008, \"nbin\": 13}, {\"nPts\": 2053039, \"mark\": \"quantitative color heatmap\", \"time\": 432.9625970000137, \"nbin\": 23}, {\"nPts\": 2053039, \"mark\": \"quantitative color heatmap\", \"time\": 309.1033400000071, \"nbin\": 38}, {\"nPts\": 2053039, \"mark\": \"quantitative color heatmap\", \"time\": 307.674987999988, \"nbin\": 64}, {\"nPts\": 2053039, \"mark\": \"quantitative color heatmap\", \"time\": 303.7582849999864, \"nbin\": 107}, {\"nPts\": 2053039, \"mark\": \"quantitative color heatmap\", \"time\": 310.885765000009, \"nbin\": 179}, {\"nPts\": 2053039, \"mark\": \"quantitative color heatmap\", \"time\": 309.3508849999864, \"nbin\": 299}, {\"nPts\": 2053039, \"mark\": \"quantitative color heatmap\", \"time\": 305.7763989999955, \"nbin\": 499}, {\"nPts\": 2922496, \"mark\": \"quantitative color heatmap\", \"time\": 788.1666490000043, \"nbin\": 5}, {\"nPts\": 2922496, \"mark\": \"quantitative color heatmap\", \"time\": 383.0019739999954, \"nbin\": 8}, {\"nPts\": 2922496, \"mark\": \"quantitative color heatmap\", \"time\": 384.6817210000068, \"nbin\": 13}, {\"nPts\": 2922496, \"mark\": \"quantitative color heatmap\", \"time\": 396.3808909999926, \"nbin\": 23}, {\"nPts\": 2922496, \"mark\": \"quantitative color heatmap\", \"time\": 381.6577179999996, \"nbin\": 38}, {\"nPts\": 2922496, \"mark\": \"quantitative color heatmap\", \"time\": 405.5100610000011, \"nbin\": 64}, {\"nPts\": 2922496, \"mark\": \"quantitative color heatmap\", \"time\": 403.6770519999919, \"nbin\": 107}, {\"nPts\": 2922496, \"mark\": \"quantitative color heatmap\", \"time\": 418.4807519999935, \"nbin\": 179}, {\"nPts\": 2922496, \"mark\": \"quantitative color heatmap\", \"time\": 372.5733450000064, \"nbin\": 299}, {\"nPts\": 2922496, \"mark\": \"quantitative color heatmap\", \"time\": 386.8584809999902, \"nbin\": 499}, {\"nPts\": 4160167, \"mark\": \"quantitative color heatmap\", \"time\": 986.0523290000174, \"nbin\": 5}, {\"nPts\": 4160167, \"mark\": \"quantitative color heatmap\", \"time\": 500.3792820000115, \"nbin\": 8}, {\"nPts\": 4160167, \"mark\": \"quantitative color heatmap\", \"time\": 495.7322740000052, \"nbin\": 13}, {\"nPts\": 4160167, \"mark\": \"quantitative color heatmap\", \"time\": 498.7896339999906, \"nbin\": 23}, {\"nPts\": 4160167, \"mark\": \"quantitative color heatmap\", \"time\": 526.3495030000058, \"nbin\": 38}, {\"nPts\": 4160167, \"mark\": \"quantitative color heatmap\", \"time\": 524.9835360000077, \"nbin\": 64}, {\"nPts\": 4160167, \"mark\": \"quantitative color heatmap\", \"time\": 508.21145200001183, \"nbin\": 107}, {\"nPts\": 4160167, \"mark\": \"quantitative color heatmap\", \"time\": 515.058678999992, \"nbin\": 179}, {\"nPts\": 4160167, \"mark\": \"quantitative color heatmap\", \"time\": 501.17856800000027, \"nbin\": 299}, {\"nPts\": 4160167, \"mark\": \"quantitative color heatmap\", \"time\": 497.4740649999774, \"nbin\": 499}, {\"nPts\": 5921989, \"mark\": \"quantitative color heatmap\", \"time\": 1220.184918000001, \"nbin\": 5}, {\"nPts\": 5921989, \"mark\": \"quantitative color heatmap\", \"time\": 960.0988629999848, \"nbin\": 8}, {\"nPts\": 5921989, \"mark\": \"quantitative color heatmap\", \"time\": 660.6029840000076, \"nbin\": 13}, {\"nPts\": 5921989, \"mark\": \"quantitative color heatmap\", \"time\": 675.509720000008, \"nbin\": 23}, {\"nPts\": 5921989, \"mark\": \"quantitative color heatmap\", \"time\": 693.1999399999995, \"nbin\": 38}, {\"nPts\": 5921989, \"mark\": \"quantitative color heatmap\", \"time\": 670.8850840000196, \"nbin\": 64}, {\"nPts\": 5921989, \"mark\": \"quantitative color heatmap\", \"time\": 670.9978629999966, \"nbin\": 107}, {\"nPts\": 5921989, \"mark\": \"quantitative color heatmap\", \"time\": 702.034187999999, \"nbin\": 179}, {\"nPts\": 5921989, \"mark\": \"quantitative color heatmap\", \"time\": 711.7506209999931, \"nbin\": 299}, {\"nPts\": 5921989, \"mark\": \"quantitative color heatmap\", \"time\": 691.4196150000009, \"nbin\": 499}, {\"nPts\": 8429939, \"mark\": \"quantitative color heatmap\", \"time\": 1931.317319000016, \"nbin\": 5}, {\"nPts\": 8429939, \"mark\": \"quantitative color heatmap\", \"time\": 909.8122650000278, \"nbin\": 8}, {\"nPts\": 8429939, \"mark\": \"quantitative color heatmap\", \"time\": 918.3625860000006, \"nbin\": 13}, {\"nPts\": 8429939, \"mark\": \"quantitative color heatmap\", \"time\": 946.9665510000028, \"nbin\": 23}, {\"nPts\": 8429939, \"mark\": \"quantitative color heatmap\", \"time\": 908.7119839999788, \"nbin\": 38}, {\"nPts\": 8429939, \"mark\": \"quantitative color heatmap\", \"time\": 966.676218000032, \"nbin\": 64}, {\"nPts\": 8429939, \"mark\": \"quantitative color heatmap\", \"time\": 920.3164030000152, \"nbin\": 107}, {\"nPts\": 8429939, \"mark\": \"quantitative color heatmap\", \"time\": 934.0136190000408, \"nbin\": 179}, {\"nPts\": 8429939, \"mark\": \"quantitative color heatmap\", \"time\": 920.0157970000192, \"nbin\": 299}, {\"nPts\": 8429939, \"mark\": \"quantitative color heatmap\", \"time\": 952.9995230000168, \"nbin\": 499}, {\"nPts\": 12000000, \"mark\": \"quantitative color heatmap\", \"time\": 2314.080117000003, \"nbin\": 5}, {\"nPts\": 12000000, \"mark\": \"quantitative color heatmap\", \"time\": 1293.3805340000504, \"nbin\": 8}, {\"nPts\": 12000000, \"mark\": \"quantitative color heatmap\", \"time\": 1716.063541999972, \"nbin\": 13}, {\"nPts\": 12000000, \"mark\": \"quantitative color heatmap\", \"time\": 1279.9124199999596, \"nbin\": 23}, {\"nPts\": 12000000, \"mark\": \"quantitative color heatmap\", \"time\": 1275.9348690000252, \"nbin\": 38}, {\"nPts\": 12000000, \"mark\": \"quantitative color heatmap\", \"time\": 1252.615804999948, \"nbin\": 64}, {\"nPts\": 12000000, \"mark\": \"quantitative color heatmap\", \"time\": 1278.9761150000345, \"nbin\": 107}, {\"nPts\": 12000000, \"mark\": \"quantitative color heatmap\", \"time\": 1264.985070000023, \"nbin\": 179}, {\"nPts\": 12000000, \"mark\": \"quantitative color heatmap\", \"time\": 1256.5169260000175, \"nbin\": 299}, {\"nPts\": 12000000, \"mark\": \"quantitative color heatmap\", \"time\": 1258.9082380000036, \"nbin\": 499}]}}, {\"mode\": \"vega-lite\"});\n",
       "</script>"
      ],
      "text/plain": [
       "alt.Chart(...)"
      ]
     },
     "execution_count": 207,
     "metadata": {},
     "output_type": "execute_result"
    }
   ],
   "source": [
    "alt.Chart(vdf).mark_line().encode(\n",
    "    y = \"time\",\n",
    "    x = \"nPts\",\n",
    "    color = alt.Color(\"nbin\",type=\"ordinal\")\n",
    ").interactive()"
   ]
  },
  {
   "cell_type": "code",
   "execution_count": 208,
   "metadata": {},
   "outputs": [],
   "source": [
    "y_pred = func(X,*popt)"
   ]
  },
  {
   "cell_type": "code",
   "execution_count": 209,
   "metadata": {},
   "outputs": [
    {
     "name": "stdout",
     "output_type": "stream",
     "text": [
      "error: 24.430320466486958\n"
     ]
    }
   ],
   "source": [
    "perr = np.sqrt(np.diag(pcov))\n",
    "print (\"error:\", sum(perr))"
   ]
  },
  {
   "cell_type": "code",
   "execution_count": 210,
   "metadata": {},
   "outputs": [
    {
     "data": {
      "text/plain": [
       "[<matplotlib.lines.Line2D at 0x13be68d10>]"
      ]
     },
     "execution_count": 210,
     "metadata": {},
     "output_type": "execute_result"
    },
    {
     "data": {
      "image/png": "[encoded data removed]",
      "text/plain": [
       "<Figure size 432x288 with 1 Axes>"
      ]
     },
     "metadata": {
      "needs_background": "light"
     },
     "output_type": "display_data"
    }
   ],
   "source": [
    "dim = 0\n",
    "plt.plot(X[dim],y,'o')\n",
    "plt.plot(X[dim],func(X,*popt),'o')"
   ]
  },
  {
   "cell_type": "code",
   "execution_count": null,
   "metadata": {},
   "outputs": [],
   "source": []
  },
  {
   "cell_type": "code",
   "execution_count": null,
   "metadata": {},
   "outputs": [],
   "source": []
  }
 ],
 "metadata": {
  "kernelspec": {
   "display_name": "Python 3",
   "language": "python",
   "name": "python3"
  },
  "language_info": {
   "codemirror_mode": {
    "name": "ipython",
    "version": 3
   },
   "file_extension": ".py",
   "mimetype": "text/x-python",
   "name": "python",
   "nbconvert_exporter": "python",
   "pygments_lexer": "ipython3",
   "version": "3.7.7"
  }
 },
 "nbformat": 4,
 "nbformat_minor": 4
}
