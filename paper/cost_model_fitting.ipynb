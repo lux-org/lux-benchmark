{
 "cells": [
  {
   "cell_type": "code",
   "execution_count": 1,
   "metadata": {},
   "outputs": [],
   "source": [
    "import pandas as pd\n",
    "import matplotlib.pyplot as plt\n",
    "import numpy as np"
   ]
  },
  {
   "cell_type": "markdown",
   "metadata": {},
   "source": [
    "### Scatterplot Cost Model"
   ]
  },
  {
   "cell_type": "raw",
   "metadata": {},
   "source": [
    "python -i backend/overall/cost_estimation_model.py scatter"
   ]
  },
  {
   "cell_type": "code",
   "execution_count": 135,
   "metadata": {},
   "outputs": [],
   "source": [
    "from numpy import dtype\n",
    "cardinality = {\n",
    " 'dummyfloat1': 1,\n",
    " 'dummyfloat2': 1,\n",
    " 'id': 48895,\n",
    " 'name': 47906,\n",
    " 'host_id': 37457,\n",
    " 'host_name': 11453,\n",
    " 'neighbourhood_group': 5,\n",
    " 'neighbourhood': 221,\n",
    " 'latitude': 19048,\n",
    " 'longitude': 14718,\n",
    " 'room_type': 3,\n",
    " 'price': 674,\n",
    " 'minimum_nights': 109,\n",
    " 'number_of_reviews': 394,\n",
    " 'last_review': 1765,\n",
    " 'reviews_per_month': 938,\n",
    " 'calculated_host_listings_count': 47,\n",
    " 'availability_365': 366}\n",
    "dtype = {'id': dtype('int64'),\n",
    " 'name': dtype('O'),\n",
    " 'host_id': dtype('int64'),\n",
    " 'host_name': dtype('O'),\n",
    " 'neighbourhood_group': dtype('O'),\n",
    " 'neighbourhood': dtype('O'),\n",
    " 'latitude': dtype('float64'),\n",
    " 'longitude': dtype('float64'),\n",
    " 'dummyfloat1': dtype('float64'),\n",
    " 'dummyfloat2': dtype('float64'),\n",
    " 'room_type': dtype('O'),\n",
    " 'price': dtype('int64'),\n",
    " 'minimum_nights': dtype('int64'),\n",
    " 'number_of_reviews': dtype('int64'),\n",
    " 'last_review': dtype('O'),\n",
    " 'reviews_per_month': dtype('float64'),\n",
    " 'calculated_host_listings_count': dtype('int64'),\n",
    " 'availability_365': dtype('int64')}"
   ]
  },
  {
   "cell_type": "code",
   "execution_count": 143,
   "metadata": {},
   "outputs": [],
   "source": [
    "df = pd.read_csv(\"../result/costmodel_scatter.csv\")\n",
    "# df[\"id\"]=df[\"attr1\"]+\";\"+df[\"attr2\"]\n",
    "# df = df[df[\"id\"]!=\"latitude;longitude\"]"
   ]
  },
  {
   "cell_type": "code",
   "execution_count": 144,
   "metadata": {},
   "outputs": [],
   "source": [
    "df[\"G_color1\"] = df[\"attr1\"].apply(lambda x: cardinality[x])\n",
    "df[\"dtype1\"] = df[\"attr1\"].apply(lambda x: str(dtype[x]))\n",
    "df[\"G_color2\"] = df[\"attr2\"].apply(lambda x: cardinality[x])\n",
    "df[\"dtype2\"] = df[\"attr2\"].apply(lambda x: str(dtype[x]))"
   ]
  },
  {
   "cell_type": "code",
   "execution_count": 145,
   "metadata": {},
   "outputs": [],
   "source": [
    "x = np.array(df[\"nPts\"])\n",
    "y = np.array(df[\"time\"])*1000\n",
    "coeff, residuals, rank, singular_values, rcond = np.polyfit(x,y,1,full=True)"
   ]
  },
  {
   "cell_type": "code",
   "execution_count": 146,
   "metadata": {},
   "outputs": [
    {
     "name": "stdout",
     "output_type": "stream",
     "text": [
      "Coefficients: [4.21957543e-06 2.04814359e+00]\n",
      "error: 4818.2329839486465\n"
     ]
    }
   ],
   "source": [
    "print (\"Coefficients:\",coeff)\n",
    "print (\"error:\",residuals[0])"
   ]
  },
  {
   "cell_type": "code",
   "execution_count": 147,
   "metadata": {},
   "outputs": [],
   "source": [
    "# import altair as alt\n",
    "\n",
    "# alt.Chart(df).mark_circle().encode(\n",
    "#     y = \"time\",\n",
    "#     x = \"nPts\",\n",
    "#     color = alt.Color(\"id\",type=\"nominal\"),\n",
    "# ).interactive()"
   ]
  },
  {
   "cell_type": "code",
   "execution_count": 148,
   "metadata": {},
   "outputs": [
    {
     "data": {
      "text/plain": [
       "[<matplotlib.lines.Line2D at 0x137d52150>]"
      ]
     },
     "execution_count": 148,
     "metadata": {},
     "output_type": "execute_result"
    },
    {
     "data": {
      "image/png": "[encoded data removed]",
      "text/plain": [
       "<Figure size 432x288 with 1 Axes>"
      ]
     },
     "metadata": {
      "needs_background": "light"
     },
     "output_type": "display_data"
    }
   ],
   "source": [
    "a = coeff[0]\n",
    "b = coeff[1]\n",
    "y_pred = a*x+b\n",
    "plt.plot(x,y,'.')\n",
    "plt.plot(x,y_pred,'-')"
   ]
  },
  {
   "cell_type": "markdown",
   "metadata": {},
   "source": [
    "When moving float columns around, e.g. longitude/latitude, each scatterplot takes slightly longer"
   ]
  },
  {
   "cell_type": "code",
   "execution_count": 165,
   "metadata": {},
   "outputs": [],
   "source": [
    "df = pd.read_csv(\"../result/costmodel_scatter.csv\")\n",
    "df[\"id\"]=df[\"attr1\"]+\";\"+df[\"attr2\"]\n",
    "df = df[(df[\"id\"]==\"latitude;longitude\")|(df[\"id\"]==\"dummyfloat1;dummyfloat2\")]"
   ]
  },
  {
   "cell_type": "code",
   "execution_count": 166,
   "metadata": {},
   "outputs": [],
   "source": [
    "x = np.array(df[\"nPts\"])\n",
    "y = np.array(df[\"time\"])*1000\n",
    "coeff, residuals, rank, singular_values, rcond = np.polyfit(x,y,1,full=True)"
   ]
  },
  {
   "cell_type": "code",
   "execution_count": 167,
   "metadata": {},
   "outputs": [
    {
     "name": "stdout",
     "output_type": "stream",
     "text": [
      "Coefficients: [5.78831507e-06 1.01752574e+00]\n",
      "error: 2811.4378326142005\n"
     ]
    }
   ],
   "source": [
    "print (\"Coefficients:\",coeff)\n",
    "print (\"error:\",residuals[0])"
   ]
  },
  {
   "cell_type": "code",
   "execution_count": 168,
   "metadata": {},
   "outputs": [
    {
     "data": {
      "text/html": [
       "\n",
       "<div id=\"altair-viz-2c3fd354b44d4d58a9b00f2a343d382d\"></div>\n",
       "<script type=\"text/javascript\">\n",
       "  (function(spec, embedOpt){\n",
       "    let outputDiv = document.currentScript.previousElementSibling;\n",
       "    if (outputDiv.id !== \"altair-viz-2c3fd354b44d4d58a9b00f2a343d382d\") {\n",
       "      outputDiv = document.getElementById(\"altair-viz-2c3fd354b44d4d58a9b00f2a343d382d\");\n",
       "    }\n",
       "    const paths = {\n",
       "      \"vega\": \"https://cdn.jsdelivr.net/npm//vega@5?noext\",\n",
       "      \"vega-lib\": \"https://cdn.jsdelivr.net/npm//vega-lib?noext\",\n",
       "      \"vega-lite\": \"https://cdn.jsdelivr.net/npm//vega-lite@4.8.1?noext\",\n",
       "      \"vega-embed\": \"https://cdn.jsdelivr.net/npm//vega-embed@6?noext\",\n",
       "    };\n",
       "\n",
       "    function loadScript(lib) {\n",
       "      return new Promise(function(resolve, reject) {\n",
       "        var s = document.createElement('script');\n",
       "        s.src = paths[lib];\n",
       "        s.async = true;\n",
       "        s.onload = () => resolve(paths[lib]);\n",
       "        s.onerror = () => reject(`Error loading script: ${paths[lib]}`);\n",
       "        document.getElementsByTagName(\"head\")[0].appendChild(s);\n",
       "      });\n",
       "    }\n",
       "\n",
       "    function showError(err) {\n",
       "      outputDiv.innerHTML = `<div class=\"error\" style=\"color:red;\">${err}</div>`;\n",
       "      throw err;\n",
       "    }\n",
       "\n",
       "    function displayChart(vegaEmbed) {\n",
       "      vegaEmbed(outputDiv, spec, embedOpt)\n",
       "        .catch(err => showError(`Javascript Error: ${err.message}<br>This usually means there's a typo in your chart specification. See the javascript console for the full traceback.`));\n",
       "    }\n",
       "\n",
       "    if(typeof define === \"function\" && define.amd) {\n",
       "      requirejs.config({paths});\n",
       "      require([\"vega-embed\"], displayChart, err => showError(`Error loading script: ${err.message}`));\n",
       "    } else if (typeof vegaEmbed === \"function\") {\n",
       "      displayChart(vegaEmbed);\n",
       "    } else {\n",
       "      loadScript(\"vega\")\n",
       "        .then(() => loadScript(\"vega-lite\"))\n",
       "        .then(() => loadScript(\"vega-embed\"))\n",
       "        .catch(showError)\n",
       "        .then(() => displayChart(vegaEmbed));\n",
       "    }\n",
       "  })({\"config\": {\"view\": {\"continuousWidth\": 400, \"continuousHeight\": 300}}, \"data\": {\"name\": \"data-5dc3576c33b82482241548c2e1beda2c\"}, \"mark\": \"circle\", \"encoding\": {\"color\": {\"type\": \"nominal\", \"field\": \"id\"}, \"x\": {\"type\": \"quantitative\", \"field\": \"nPts\"}, \"y\": {\"type\": \"quantitative\", \"field\": \"time\"}}, \"selection\": {\"selector014\": {\"type\": \"interval\", \"bind\": \"scales\", \"encodings\": [\"x\", \"y\"]}}, \"$schema\": \"https://vega.github.io/schema/vega-lite/v4.8.1.json\", \"datasets\": {\"data-5dc3576c33b82482241548c2e1beda2c\": [{\"nPts\": 499999, \"time\": 0.0019830439999992, \"attr1\": \"latitude\", \"attr2\": \"longitude\", \"id\": \"latitude;longitude\"}, {\"nPts\": 499999, \"time\": 0.0040690080000018, \"attr1\": \"dummyfloat1\", \"attr2\": \"dummyfloat2\", \"id\": \"dummyfloat1;dummyfloat2\"}, {\"nPts\": 711748, \"time\": 0.0045922390000008, \"attr1\": \"latitude\", \"attr2\": \"longitude\", \"id\": \"latitude;longitude\"}, {\"nPts\": 711748, \"time\": 0.0023990909999973, \"attr1\": \"dummyfloat1\", \"attr2\": \"dummyfloat2\", \"id\": \"dummyfloat1;dummyfloat2\"}, {\"nPts\": 1013173, \"time\": 0.0108450480000001, \"attr1\": \"latitude\", \"attr2\": \"longitude\", \"id\": \"latitude;longitude\"}, {\"nPts\": 1013173, \"time\": 0.005092513000001, \"attr1\": \"dummyfloat1\", \"attr2\": \"dummyfloat2\", \"id\": \"dummyfloat1;dummyfloat2\"}, {\"nPts\": 1442249, \"time\": 0.0076851050000001, \"attr1\": \"latitude\", \"attr2\": \"longitude\", \"id\": \"latitude;longitude\"}, {\"nPts\": 1442249, \"time\": 0.0105882379999968, \"attr1\": \"dummyfloat1\", \"attr2\": \"dummyfloat2\", \"id\": \"dummyfloat1;dummyfloat2\"}, {\"nPts\": 2053039, \"time\": 0.0198822189999958, \"attr1\": \"latitude\", \"attr2\": \"longitude\", \"id\": \"latitude;longitude\"}, {\"nPts\": 2053039, \"time\": 0.0090699900000004, \"attr1\": \"dummyfloat1\", \"attr2\": \"dummyfloat2\", \"id\": \"dummyfloat1;dummyfloat2\"}, {\"nPts\": 2922496, \"time\": 0.0266420500000066, \"attr1\": \"latitude\", \"attr2\": \"longitude\", \"id\": \"latitude;longitude\"}, {\"nPts\": 2922496, \"time\": 0.0125105619999885, \"attr1\": \"dummyfloat1\", \"attr2\": \"dummyfloat2\", \"id\": \"dummyfloat1;dummyfloat2\"}, {\"nPts\": 4160167, \"time\": 0.0382614210000014, \"attr1\": \"latitude\", \"attr2\": \"longitude\", \"id\": \"latitude;longitude\"}, {\"nPts\": 4160167, \"time\": 0.0175944740000062, \"attr1\": \"dummyfloat1\", \"attr2\": \"dummyfloat2\", \"id\": \"dummyfloat1;dummyfloat2\"}, {\"nPts\": 5921989, \"time\": 0.0366629179999904, \"attr1\": \"latitude\", \"attr2\": \"longitude\", \"id\": \"latitude;longitude\"}, {\"nPts\": 5921989, \"time\": 0.0259020199999895, \"attr1\": \"dummyfloat1\", \"attr2\": \"dummyfloat2\", \"id\": \"dummyfloat1;dummyfloat2\"}, {\"nPts\": 8429939, \"time\": 0.0649309740000205, \"attr1\": \"latitude\", \"attr2\": \"longitude\", \"id\": \"latitude;longitude\"}, {\"nPts\": 8429939, \"time\": 0.0295553009999878, \"attr1\": \"dummyfloat1\", \"attr2\": \"dummyfloat2\", \"id\": \"dummyfloat1;dummyfloat2\"}, {\"nPts\": 12000000, \"time\": 0.101315234999987, \"attr1\": \"latitude\", \"attr2\": \"longitude\", \"id\": \"latitude;longitude\"}, {\"nPts\": 12000000, \"time\": 0.0440496909999978, \"attr1\": \"dummyfloat1\", \"attr2\": \"dummyfloat2\", \"id\": \"dummyfloat1;dummyfloat2\"}]}}, {\"mode\": \"vega-lite\"});\n",
       "</script>"
      ],
      "text/plain": [
       "alt.Chart(...)"
      ]
     },
     "execution_count": 168,
     "metadata": {},
     "output_type": "execute_result"
    }
   ],
   "source": [
    "import altair as alt\n",
    "\n",
    "alt.Chart(df).mark_circle().encode(\n",
    "    y = \"time\",\n",
    "    x = \"nPts\",\n",
    "    color = alt.Color(\"id\",type=\"nominal\"),\n",
    ").interactive()"
   ]
  },
  {
   "cell_type": "code",
   "execution_count": 152,
   "metadata": {},
   "outputs": [
    {
     "data": {
      "text/plain": [
       "[<matplotlib.lines.Line2D at 0x137e56b90>]"
      ]
     },
     "execution_count": 152,
     "metadata": {},
     "output_type": "execute_result"
    },
    {
     "data": {
      "image/png": "[encoded data removed]",
      "text/plain": [
       "<Figure size 432x288 with 1 Axes>"
      ]
     },
     "metadata": {
      "needs_background": "light"
     },
     "output_type": "display_data"
    }
   ],
   "source": [
    "a = coeff[0]\n",
    "b = coeff[1]\n",
    "y_pred = a*x+b\n",
    "plt.plot(x,y,'.')\n",
    "plt.plot(x,y_pred,'-')"
   ]
  },
  {
   "cell_type": "markdown",
   "metadata": {},
   "source": [
    "### Only look at \"price;minimum_number_of_nights\""
   ]
  },
  {
   "cell_type": "code",
   "execution_count": 156,
   "metadata": {},
   "outputs": [],
   "source": [
    "df = pd.read_csv(\"../result/costmodel_scatter.csv\")\n",
    "df[\"id\"]=df[\"attr1\"]+\";\"+df[\"attr2\"]"
   ]
  },
  {
   "cell_type": "code",
   "execution_count": 158,
   "metadata": {},
   "outputs": [],
   "source": [
    "df = df[df[\"id\"]==\"price;minimum_nights\"]"
   ]
  },
  {
   "cell_type": "code",
   "execution_count": 161,
   "metadata": {},
   "outputs": [],
   "source": [
    "x = np.array(df[\"nPts\"])\n",
    "y = np.array(df[\"time\"])*1000\n",
    "coeff, residuals, rank, singular_values, rcond = np.polyfit(x,y,1,full=True)"
   ]
  },
  {
   "cell_type": "code",
   "execution_count": 163,
   "metadata": {},
   "outputs": [
    {
     "name": "stdout",
     "output_type": "stream",
     "text": [
      "Coefficients: [3.19575489e-06 4.19525116e+00]\n",
      "error: 48.05525258598962\n"
     ]
    }
   ],
   "source": [
    "print (\"Coefficients:\",coeff)\n",
    "print (\"error:\",residuals[0])"
   ]
  },
  {
   "cell_type": "code",
   "execution_count": 162,
   "metadata": {},
   "outputs": [
    {
     "data": {
      "text/plain": [
       "[<matplotlib.lines.Line2D at 0x137f39d10>]"
      ]
     },
     "execution_count": 162,
     "metadata": {},
     "output_type": "execute_result"
    },
    {
     "data": {
      "image/png": "[encoded data removed]",
      "text/plain": [
       "<Figure size 432x288 with 1 Axes>"
      ]
     },
     "metadata": {
      "needs_background": "light"
     },
     "output_type": "display_data"
    }
   ],
   "source": [
    "a = coeff[0]\n",
    "b = coeff[1]\n",
    "y_pred = a*x+b\n",
    "plt.plot(x,y,'.')\n",
    "plt.plot(x,y_pred,'-')"
   ]
  },
  {
   "cell_type": "markdown",
   "metadata": {},
   "source": [
    "### Colored Scatterplot Cost Model"
   ]
  },
  {
   "cell_type": "raw",
   "metadata": {},
   "source": [
    "python -i backend/overall/cost_estimation_model.py colorscatter"
   ]
  },
  {
   "cell_type": "code",
   "execution_count": 12,
   "metadata": {},
   "outputs": [],
   "source": [
    "df = pd.read_csv(\"../result/costmodel_colorscatter.csv\")"
   ]
  },
  {
   "cell_type": "code",
   "execution_count": 15,
   "metadata": {},
   "outputs": [],
   "source": [
    "# df = pd.read_csv(\"../../lux-datasets/data/airbnb_nyc.csv\")\n",
    "\n",
    "# lux.config.heatmap = False\n",
    "# from lux.vis.Vis import Vis\n",
    "# for attr in ['host_id', 'host_name', 'neighbourhood_group','neighbourhood', 'room_type', 'number_of_reviews']:\n",
    "#     vis = Vis(['price','minimum_nights',lux.Clause(attr,channel=\"color\")], df)\n",
    "#     vis._repr_html_()"
   ]
  },
  {
   "cell_type": "code",
   "execution_count": 16,
   "metadata": {},
   "outputs": [],
   "source": [
    "airbnb = pd.read_csv(\"../../lux-datasets/data/airbnb_nyc.csv\")"
   ]
  },
  {
   "cell_type": "code",
   "execution_count": 21,
   "metadata": {},
   "outputs": [],
   "source": [
    "# df = pd.read_csv(\"../../lux-datasets/data/airbnb_nyc.csv\")"
   ]
  },
  {
   "cell_type": "code",
   "execution_count": 22,
   "metadata": {},
   "outputs": [],
   "source": [
    "df[\"G_color\"] = df[\"attr\"].apply(lambda x: cardinality[x])\n",
    "df[\"dtype\"] = df[\"attr\"].apply(lambda x: str(dtype[x]))"
   ]
  },
  {
   "cell_type": "code",
   "execution_count": 50,
   "metadata": {},
   "outputs": [
    {
     "data": {
      "text/html": [
       "\n",
       "<div id=\"altair-viz-d8b5723d2b2041b09c372b9cb86baab5\"></div>\n",
       "<script type=\"text/javascript\">\n",
       "  (function(spec, embedOpt){\n",
       "    let outputDiv = document.currentScript.previousElementSibling;\n",
       "    if (outputDiv.id !== \"altair-viz-d8b5723d2b2041b09c372b9cb86baab5\") {\n",
       "      outputDiv = document.getElementById(\"altair-viz-d8b5723d2b2041b09c372b9cb86baab5\");\n",
       "    }\n",
       "    const paths = {\n",
       "      \"vega\": \"https://cdn.jsdelivr.net/npm//vega@5?noext\",\n",
       "      \"vega-lib\": \"https://cdn.jsdelivr.net/npm//vega-lib?noext\",\n",
       "      \"vega-lite\": \"https://cdn.jsdelivr.net/npm//vega-lite@4.8.1?noext\",\n",
       "      \"vega-embed\": \"https://cdn.jsdelivr.net/npm//vega-embed@6?noext\",\n",
       "    };\n",
       "\n",
       "    function loadScript(lib) {\n",
       "      return new Promise(function(resolve, reject) {\n",
       "        var s = document.createElement('script');\n",
       "        s.src = paths[lib];\n",
       "        s.async = true;\n",
       "        s.onload = () => resolve(paths[lib]);\n",
       "        s.onerror = () => reject(`Error loading script: ${paths[lib]}`);\n",
       "        document.getElementsByTagName(\"head\")[0].appendChild(s);\n",
       "      });\n",
       "    }\n",
       "\n",
       "    function showError(err) {\n",
       "      outputDiv.innerHTML = `<div class=\"error\" style=\"color:red;\">${err}</div>`;\n",
       "      throw err;\n",
       "    }\n",
       "\n",
       "    function displayChart(vegaEmbed) {\n",
       "      vegaEmbed(outputDiv, spec, embedOpt)\n",
       "        .catch(err => showError(`Javascript Error: ${err.message}<br>This usually means there's a typo in your chart specification. See the javascript console for the full traceback.`));\n",
       "    }\n",
       "\n",
       "    if(typeof define === \"function\" && define.amd) {\n",
       "      requirejs.config({paths});\n",
       "      require([\"vega-embed\"], displayChart, err => showError(`Error loading script: ${err.message}`));\n",
       "    } else if (typeof vegaEmbed === \"function\") {\n",
       "      displayChart(vegaEmbed);\n",
       "    } else {\n",
       "      loadScript(\"vega\")\n",
       "        .then(() => loadScript(\"vega-lite\"))\n",
       "        .then(() => loadScript(\"vega-embed\"))\n",
       "        .catch(showError)\n",
       "        .then(() => displayChart(vegaEmbed));\n",
       "    }\n",
       "  })({\"config\": {\"view\": {\"continuousWidth\": 400, \"continuousHeight\": 300}}, \"data\": {\"name\": \"data-5323c5480aaa19e1a126a349b27c3f09\"}, \"mark\": \"circle\", \"encoding\": {\"color\": {\"type\": \"nominal\", \"field\": \"G_color\"}, \"x\": {\"type\": \"quantitative\", \"field\": \"nPts\"}, \"y\": {\"type\": \"quantitative\", \"field\": \"time\"}}, \"selection\": {\"selector012\": {\"type\": \"interval\", \"bind\": \"scales\", \"encodings\": [\"x\", \"y\"]}}, \"$schema\": \"https://vega.github.io/schema/vega-lite/v4.8.1.json\", \"datasets\": {\"data-5323c5480aaa19e1a126a349b27c3f09\": [{\"nPts\": 499999, \"time\": 0.0041623969999982, \"attr\": \"host_id\", \"G_color\": 37457, \"dtype\": \"int64\"}, {\"nPts\": 499999, \"time\": 0.0042735600000014, \"attr\": \"number_of_reviews\", \"G_color\": 394, \"dtype\": \"int64\"}, {\"nPts\": 711748, \"time\": 0.0081929599999988, \"attr\": \"host_id\", \"G_color\": 37457, \"dtype\": \"int64\"}, {\"nPts\": 711748, \"time\": 0.0055409660000016, \"attr\": \"number_of_reviews\", \"G_color\": 394, \"dtype\": \"int64\"}, {\"nPts\": 1013173, \"time\": 0.0127126599999982, \"attr\": \"host_id\", \"G_color\": 37457, \"dtype\": \"int64\"}, {\"nPts\": 1013173, \"time\": 0.0085083240000045, \"attr\": \"number_of_reviews\", \"G_color\": 394, \"dtype\": \"int64\"}, {\"nPts\": 1442249, \"time\": 0.0178102849999959, \"attr\": \"host_id\", \"G_color\": 37457, \"dtype\": \"int64\"}, {\"nPts\": 1442249, \"time\": 0.0111354680000061, \"attr\": \"number_of_reviews\", \"G_color\": 394, \"dtype\": \"int64\"}, {\"nPts\": 2053039, \"time\": 0.0111344799999955, \"attr\": \"host_id\", \"G_color\": 37457, \"dtype\": \"int64\"}, {\"nPts\": 2053039, \"time\": 0.0156342880000011, \"attr\": \"number_of_reviews\", \"G_color\": 394, \"dtype\": \"int64\"}, {\"nPts\": 2922496, \"time\": 0.0149135220000005, \"attr\": \"host_id\", \"G_color\": 37457, \"dtype\": \"int64\"}, {\"nPts\": 2922496, \"time\": 0.0195050270000081, \"attr\": \"number_of_reviews\", \"G_color\": 394, \"dtype\": \"int64\"}, {\"nPts\": 4160167, \"time\": 0.050725885999995, \"attr\": \"host_id\", \"G_color\": 37457, \"dtype\": \"int64\"}, {\"nPts\": 4160167, \"time\": 0.0291077979999982, \"attr\": \"number_of_reviews\", \"G_color\": 394, \"dtype\": \"int64\"}, {\"nPts\": 5921989, \"time\": 0.0693490799999949, \"attr\": \"host_id\", \"G_color\": 37457, \"dtype\": \"int64\"}, {\"nPts\": 5921989, \"time\": 0.036901721999996, \"attr\": \"number_of_reviews\", \"G_color\": 394, \"dtype\": \"int64\"}, {\"nPts\": 8429939, \"time\": 0.0981334850000053, \"attr\": \"host_id\", \"G_color\": 37457, \"dtype\": \"int64\"}, {\"nPts\": 8429939, \"time\": 0.0574575290000041, \"attr\": \"number_of_reviews\", \"G_color\": 394, \"dtype\": \"int64\"}, {\"nPts\": 12000000, \"time\": 0.139897435000023, \"attr\": \"host_id\", \"G_color\": 37457, \"dtype\": \"int64\"}, {\"nPts\": 12000000, \"time\": 0.0730718570000021, \"attr\": \"number_of_reviews\", \"G_color\": 394, \"dtype\": \"int64\"}]}}, {\"mode\": \"vega-lite\"});\n",
       "</script>"
      ],
      "text/plain": [
       "alt.Chart(...)"
      ]
     },
     "execution_count": 50,
     "metadata": {},
     "output_type": "execute_result"
    }
   ],
   "source": [
    "import altair as alt\n",
    "\n",
    "alt.Chart(df).mark_circle().encode(\n",
    "    y = \"time\",\n",
    "    x = \"nPts\",\n",
    "    color = alt.Color(\"G_color\",type=\"nominal\"),\n",
    ").interactive()"
   ]
  },
  {
   "cell_type": "markdown",
   "metadata": {},
   "source": [
    "### Object dtype"
   ]
  },
  {
   "cell_type": "code",
   "execution_count": 91,
   "metadata": {},
   "outputs": [],
   "source": [
    "df = pd.read_csv(\"../result/costmodel_colorscatter.csv\")\n",
    "df[\"G_color\"] = df[\"attr\"].apply(lambda x: cardinality[x])\n",
    "df[\"dtype\"] = df[\"attr\"].apply(lambda x: str(dtype[x]))\n",
    "df = df[df[\"dtype\"]!=\"int64\"]"
   ]
  },
  {
   "cell_type": "code",
   "execution_count": 92,
   "metadata": {},
   "outputs": [
    {
     "data": {
      "text/plain": [
       "array([ 3.30550323e+00,  1.59183456e-05,  8.15864091e-10, -3.46044528e-04])"
      ]
     },
     "execution_count": 92,
     "metadata": {},
     "output_type": "execute_result"
    }
   ],
   "source": [
    "y = np.array(df[\"time\"])*1000\n",
    "N = np.array(df[\"nPts\"])\n",
    "G_color = np.array(df[\"G_color\"])\n",
    "X = np.array([N,G_color])\n",
    "\n",
    "from scipy.optimize import curve_fit\n",
    "def func(x, a, b,c,d):\n",
    "    return a + b * x[0] +c*x[0]*x[1] + d*x[1]\n",
    "\n",
    "popt, pcov = curve_fit(func, X,y)\n",
    "popt"
   ]
  },
  {
   "cell_type": "code",
   "execution_count": 93,
   "metadata": {},
   "outputs": [],
   "source": [
    "y_pred = func(X,*popt)"
   ]
  },
  {
   "cell_type": "code",
   "execution_count": 94,
   "metadata": {},
   "outputs": [
    {
     "name": "stdout",
     "output_type": "stream",
     "text": [
      "error: 8.783206268301111\n"
     ]
    }
   ],
   "source": [
    "perr = np.sqrt(np.diag(pcov))\n",
    "print (\"error:\", sum(perr))"
   ]
  },
  {
   "cell_type": "code",
   "execution_count": 95,
   "metadata": {},
   "outputs": [
    {
     "data": {
      "text/plain": [
       "[<matplotlib.lines.Line2D at 0x13799ed50>]"
      ]
     },
     "execution_count": 95,
     "metadata": {},
     "output_type": "execute_result"
    },
    {
     "data": {
      "image/png": "[encoded data removed]",
      "text/plain": [
       "<Figure size 432x288 with 1 Axes>"
      ]
     },
     "metadata": {
      "needs_background": "light"
     },
     "output_type": "display_data"
    }
   ],
   "source": [
    "dim = 0\n",
    "plt.plot(X[dim],y,'o')\n",
    "plt.plot(X[dim],func(X,*popt),'o')"
   ]
  },
  {
   "cell_type": "markdown",
   "metadata": {},
   "source": [
    "### Int dtype"
   ]
  },
  {
   "cell_type": "code",
   "execution_count": 96,
   "metadata": {},
   "outputs": [],
   "source": [
    "df = pd.read_csv(\"../result/costmodel_colorscatter.csv\")\n",
    "df[\"G_color\"] = df[\"attr\"].apply(lambda x: cardinality[x])\n",
    "df[\"dtype\"] = df[\"attr\"].apply(lambda x: str(dtype[x]))\n",
    "df = df[df[\"dtype\"]==\"int64\"]"
   ]
  },
  {
   "cell_type": "code",
   "execution_count": 99,
   "metadata": {},
   "outputs": [
    {
     "data": {
      "text/plain": [
       "array([ 2.27828870e+00,  6.04242891e-06,  1.58974871e-10, -1.74858426e-04])"
      ]
     },
     "execution_count": 99,
     "metadata": {},
     "output_type": "execute_result"
    }
   ],
   "source": [
    "y = np.array(df[\"time\"])*1000\n",
    "N = np.array(df[\"nPts\"])\n",
    "G_color = np.array(df[\"G_color\"])\n",
    "X = np.array([N,G_color])\n",
    "\n",
    "from scipy.optimize import curve_fit\n",
    "def func(x, a, b,c,d):\n",
    "    return a + b * x[0] +c*x[0]*x[1] + d*x[1]\n",
    "\n",
    "popt, pcov = curve_fit(func, X,y)\n",
    "popt"
   ]
  },
  {
   "cell_type": "code",
   "execution_count": 100,
   "metadata": {},
   "outputs": [],
   "source": [
    "y_pred = func(X,*popt)"
   ]
  },
  {
   "cell_type": "code",
   "execution_count": 101,
   "metadata": {},
   "outputs": [
    {
     "name": "stdout",
     "output_type": "stream",
     "text": [
      "error: 2.543494123709982\n"
     ]
    }
   ],
   "source": [
    "perr = np.sqrt(np.diag(pcov))\n",
    "print (\"error:\", sum(perr))"
   ]
  },
  {
   "cell_type": "code",
   "execution_count": 103,
   "metadata": {},
   "outputs": [
    {
     "data": {
      "text/plain": [
       "[<matplotlib.lines.Line2D at 0x137a9c190>]"
      ]
     },
     "execution_count": 103,
     "metadata": {},
     "output_type": "execute_result"
    },
    {
     "data": {
      "image/png": "[encoded data removed]",
      "text/plain": [
       "<Figure size 432x288 with 1 Axes>"
      ]
     },
     "metadata": {
      "needs_background": "light"
     },
     "output_type": "display_data"
    }
   ],
   "source": [
    "dim = 0\n",
    "plt.plot(X[dim],y,'o')\n",
    "plt.plot(X[dim],func(X,*popt),'o')"
   ]
  },
  {
   "cell_type": "markdown",
   "metadata": {},
   "source": [
    "### Bar Chart Cost model "
   ]
  },
  {
   "cell_type": "code",
   "execution_count": 83,
   "metadata": {},
   "outputs": [],
   "source": [
    "df = pd.read_csv(\"../result/costmodel_bar.csv\")\n",
    "df[\"time\"] = df[\"time\"]*1000\n",
    "bar = df[(df[\"G_color\"]==0)]"
   ]
  },
  {
   "cell_type": "code",
   "execution_count": 84,
   "metadata": {},
   "outputs": [
    {
     "data": {
      "text/html": [
       "\n",
       "<div id=\"altair-viz-b57a089a133940b0aeb671d515695709\"></div>\n",
       "<script type=\"text/javascript\">\n",
       "  (function(spec, embedOpt){\n",
       "    let outputDiv = document.currentScript.previousElementSibling;\n",
       "    if (outputDiv.id !== \"altair-viz-b57a089a133940b0aeb671d515695709\") {\n",
       "      outputDiv = document.getElementById(\"altair-viz-b57a089a133940b0aeb671d515695709\");\n",
       "    }\n",
       "    const paths = {\n",
       "      \"vega\": \"https://cdn.jsdelivr.net/npm//vega@5?noext\",\n",
       "      \"vega-lib\": \"https://cdn.jsdelivr.net/npm//vega-lib?noext\",\n",
       "      \"vega-lite\": \"https://cdn.jsdelivr.net/npm//vega-lite@4.8.1?noext\",\n",
       "      \"vega-embed\": \"https://cdn.jsdelivr.net/npm//vega-embed@6?noext\",\n",
       "    };\n",
       "\n",
       "    function loadScript(lib) {\n",
       "      return new Promise(function(resolve, reject) {\n",
       "        var s = document.createElement('script');\n",
       "        s.src = paths[lib];\n",
       "        s.async = true;\n",
       "        s.onload = () => resolve(paths[lib]);\n",
       "        s.onerror = () => reject(`Error loading script: ${paths[lib]}`);\n",
       "        document.getElementsByTagName(\"head\")[0].appendChild(s);\n",
       "      });\n",
       "    }\n",
       "\n",
       "    function showError(err) {\n",
       "      outputDiv.innerHTML = `<div class=\"error\" style=\"color:red;\">${err}</div>`;\n",
       "      throw err;\n",
       "    }\n",
       "\n",
       "    function displayChart(vegaEmbed) {\n",
       "      vegaEmbed(outputDiv, spec, embedOpt)\n",
       "        .catch(err => showError(`Javascript Error: ${err.message}<br>This usually means there's a typo in your chart specification. See the javascript console for the full traceback.`));\n",
       "    }\n",
       "\n",
       "    if(typeof define === \"function\" && define.amd) {\n",
       "      requirejs.config({paths});\n",
       "      require([\"vega-embed\"], displayChart, err => showError(`Error loading script: ${err.message}`));\n",
       "    } else if (typeof vegaEmbed === \"function\") {\n",
       "      displayChart(vegaEmbed);\n",
       "    } else {\n",
       "      loadScript(\"vega\")\n",
       "        .then(() => loadScript(\"vega-lite\"))\n",
       "        .then(() => loadScript(\"vega-embed\"))\n",
       "        .catch(showError)\n",
       "        .then(() => displayChart(vegaEmbed));\n",
       "    }\n",
       "  })({\"config\": {\"view\": {\"continuousWidth\": 400, \"continuousHeight\": 300}}, \"data\": {\"name\": \"data-29d8a61bef1c5801c508d4f9e5595ab1\"}, \"mark\": \"circle\", \"encoding\": {\"color\": {\"type\": \"nominal\", \"field\": \"G_axes\"}, \"x\": {\"type\": \"quantitative\", \"field\": \"nPts\"}, \"y\": {\"type\": \"quantitative\", \"field\": \"time\"}}, \"$schema\": \"https://vega.github.io/schema/vega-lite/v4.8.1.json\", \"datasets\": {\"data-29d8a61bef1c5801c508d4f9e5595ab1\": [{\"nPts\": 499999, \"time\": 52.4938870000006, \"G_axes\": 3, \"G_color\": 0}, {\"nPts\": 499999, \"time\": 55.9543570000009, \"G_axes\": 5, \"G_color\": 0}, {\"nPts\": 499999, \"time\": 61.8525969999979, \"G_axes\": 221, \"G_color\": 0}, {\"nPts\": 499999, \"time\": 196.4820570000007, \"G_axes\": 11453, \"G_color\": 0}, {\"nPts\": 499999, \"time\": 390.6898250000026, \"G_axes\": 47905, \"G_color\": 0}, {\"nPts\": 711748, \"time\": 76.5695700000002, \"G_axes\": 3, \"G_color\": 0}, {\"nPts\": 711748, \"time\": 72.7699350000001, \"G_axes\": 5, \"G_color\": 0}, {\"nPts\": 711748, \"time\": 94.8967729999985, \"G_axes\": 221, \"G_color\": 0}, {\"nPts\": 711748, \"time\": 288.4752490000011, \"G_axes\": 11453, \"G_color\": 0}, {\"nPts\": 711748, \"time\": 472.0767399999985, \"G_axes\": 47906, \"G_color\": 0}, {\"nPts\": 1013173, \"time\": 84.2703, \"G_axes\": 3, \"G_color\": 0}, {\"nPts\": 1013173, \"time\": 80.4809150000025, \"G_axes\": 5, \"G_color\": 0}, {\"nPts\": 1013173, \"time\": 116.17764799999709, \"G_axes\": 221, \"G_color\": 0}, {\"nPts\": 1013173, \"time\": 389.3287490000006, \"G_axes\": 11453, \"G_color\": 0}, {\"nPts\": 1013173, \"time\": 607.9375340000013, \"G_axes\": 47906, \"G_color\": 0}, {\"nPts\": 1442249, \"time\": 108.0816569999996, \"G_axes\": 3, \"G_color\": 0}, {\"nPts\": 1442249, \"time\": 90.8943160000035, \"G_axes\": 5, \"G_color\": 0}, {\"nPts\": 1442249, \"time\": 122.5358100000022, \"G_axes\": 221, \"G_color\": 0}, {\"nPts\": 1442249, \"time\": 508.5325860000012, \"G_axes\": 11453, \"G_color\": 0}, {\"nPts\": 1442249, \"time\": 793.6505369999977, \"G_axes\": 47906, \"G_color\": 0}, {\"nPts\": 2053039, \"time\": 161.205283000001, \"G_axes\": 3, \"G_color\": 0}, {\"nPts\": 2053039, \"time\": 134.4992779999998, \"G_axes\": 5, \"G_color\": 0}, {\"nPts\": 2053039, \"time\": 182.305847000002, \"G_axes\": 221, \"G_color\": 0}, {\"nPts\": 2053039, \"time\": 725.8488330000006, \"G_axes\": 11453, \"G_color\": 0}, {\"nPts\": 2053039, \"time\": 1076.1924189999943, \"G_axes\": 47906, \"G_color\": 0}, {\"nPts\": 2922496, \"time\": 206.4476310000031, \"G_axes\": 3, \"G_color\": 0}, {\"nPts\": 2922496, \"time\": 181.8414720000021, \"G_axes\": 5, \"G_color\": 0}, {\"nPts\": 2922496, \"time\": 269.1399699999977, \"G_axes\": 221, \"G_color\": 0}, {\"nPts\": 2922496, \"time\": 991.7241819999988, \"G_axes\": 11453, \"G_color\": 0}, {\"nPts\": 2922496, \"time\": 1440.7001659999992, \"G_axes\": 47906, \"G_color\": 0}, {\"nPts\": 4160167, \"time\": 276.7083479999996, \"G_axes\": 3, \"G_color\": 0}, {\"nPts\": 4160167, \"time\": 247.8443000000112, \"G_axes\": 5, \"G_color\": 0}, {\"nPts\": 4160167, \"time\": 338.9914220000065, \"G_axes\": 221, \"G_color\": 0}, {\"nPts\": 4160167, \"time\": 1354.2833280000082, \"G_axes\": 11453, \"G_color\": 0}, {\"nPts\": 4160167, \"time\": 1973.7610070000076, \"G_axes\": 47906, \"G_color\": 0}, {\"nPts\": 5921989, \"time\": 394.9685659999886, \"G_axes\": 3, \"G_color\": 0}, {\"nPts\": 5921989, \"time\": 349.9573910000038, \"G_axes\": 5, \"G_color\": 0}, {\"nPts\": 5921989, \"time\": 466.5727860000004, \"G_axes\": 221, \"G_color\": 0}, {\"nPts\": 5921989, \"time\": 1921.5076739999968, \"G_axes\": 11453, \"G_color\": 0}, {\"nPts\": 5921989, \"time\": 2712.8527929999964, \"G_axes\": 47906, \"G_color\": 0}, {\"nPts\": 8429939, \"time\": 561.1151740000082, \"G_axes\": 3, \"G_color\": 0}, {\"nPts\": 8429939, \"time\": 510.3528850000032, \"G_axes\": 5, \"G_color\": 0}, {\"nPts\": 8429939, \"time\": 666.001671999993, \"G_axes\": 221, \"G_color\": 0}, {\"nPts\": 8429939, \"time\": 2688.137743999988, \"G_axes\": 11453, \"G_color\": 0}, {\"nPts\": 8429939, \"time\": 3831.277542999999, \"G_axes\": 47906, \"G_color\": 0}, {\"nPts\": 12000000, \"time\": 768.0723599999624, \"G_axes\": 3, \"G_color\": 0}, {\"nPts\": 12000000, \"time\": 719.7986799999967, \"G_axes\": 5, \"G_color\": 0}, {\"nPts\": 12000000, \"time\": 965.43411600004, \"G_axes\": 221, \"G_color\": 0}, {\"nPts\": 12000000, \"time\": 3949.161808000042, \"G_axes\": 11453, \"G_color\": 0}, {\"nPts\": 12000000, \"time\": 5450.895027000001, \"G_axes\": 47906, \"G_color\": 0}]}}, {\"mode\": \"vega-lite\"});\n",
       "</script>"
      ],
      "text/plain": [
       "alt.Chart(...)"
      ]
     },
     "execution_count": 84,
     "metadata": {},
     "output_type": "execute_result"
    }
   ],
   "source": [
    "import altair as alt\n",
    "\n",
    "alt.Chart(bar).mark_circle().encode(\n",
    "    y = \"time\",\n",
    "    x = \"nPts\",\n",
    "    color = alt.Color(\"G_axes\",type=\"nominal\"),\n",
    ")"
   ]
  },
  {
   "cell_type": "code",
   "execution_count": 85,
   "metadata": {},
   "outputs": [],
   "source": [
    "N = np.array(bar[\"nPts\"])\n",
    "G_axes = np.array(bar[\"G_axes\"])\n",
    "y = np.array(bar[\"time\"])\n",
    "X = np.array([N,G_axes])"
   ]
  },
  {
   "cell_type": "code",
   "execution_count": 86,
   "metadata": {},
   "outputs": [],
   "source": [
    "from scipy.optimize import curve_fit\n",
    "def func(x, a, b,c,d):\n",
    "    return a + b * x[0] +c*x[0]*x[1] + d*x[1]"
   ]
  },
  {
   "cell_type": "code",
   "execution_count": 87,
   "metadata": {},
   "outputs": [
    {
     "data": {
      "text/plain": [
       "array([2.08279455e+01, 9.89765486e-05, 7.74048323e-09, 2.85891386e-03])"
      ]
     },
     "execution_count": 87,
     "metadata": {},
     "output_type": "execute_result"
    }
   ],
   "source": [
    "popt, pcov = curve_fit(func, X,y)\n",
    "popt"
   ]
  },
  {
   "cell_type": "code",
   "execution_count": 88,
   "metadata": {},
   "outputs": [],
   "source": [
    "y_pred = func(X,*popt)"
   ]
  },
  {
   "cell_type": "code",
   "execution_count": 89,
   "metadata": {},
   "outputs": [
    {
     "name": "stdout",
     "output_type": "stream",
     "text": [
      "error: 91.38983743491983\n"
     ]
    }
   ],
   "source": [
    "perr = np.sqrt(np.diag(pcov))\n",
    "print (\"error:\", sum(perr))"
   ]
  },
  {
   "cell_type": "code",
   "execution_count": 92,
   "metadata": {},
   "outputs": [
    {
     "data": {
      "text/plain": [
       "[<matplotlib.lines.Line2D at 0x13f6103d0>]"
      ]
     },
     "execution_count": 92,
     "metadata": {},
     "output_type": "execute_result"
    },
    {
     "data": {
      "image/png": "[encoded data removed]",
      "text/plain": [
       "<Figure size 432x288 with 1 Axes>"
      ]
     },
     "metadata": {
      "needs_background": "light"
     },
     "output_type": "display_data"
    }
   ],
   "source": [
    "dim = 0\n",
    "plt.plot(X[dim],y,'o')\n",
    "plt.plot(X[dim],func(X,*popt),'o')"
   ]
  },
  {
   "cell_type": "markdown",
   "metadata": {},
   "source": [
    "### Color Bar Chart Cost Model\n"
   ]
  },
  {
   "cell_type": "code",
   "execution_count": 93,
   "metadata": {},
   "outputs": [],
   "source": [
    "df = pd.read_csv(\"../result/costmodel_colorbar.csv\")\n",
    "df[\"time\"] = df[\"time\"]*1000\n",
    "color_bar = df[(df[\"G_color\"]!=0)]"
   ]
  },
  {
   "cell_type": "code",
   "execution_count": 94,
   "metadata": {},
   "outputs": [],
   "source": [
    "color_bar[\"ga*gc\"]=color_bar[\"G_axes\"]*color_bar[\"G_color\"]"
   ]
  },
  {
   "cell_type": "code",
   "execution_count": 95,
   "metadata": {},
   "outputs": [
    {
     "data": {
      "text/html": [
       "\n",
       "<div id=\"altair-viz-ab9262ac6fa04361b30aab1983c24408\"></div>\n",
       "<script type=\"text/javascript\">\n",
       "  (function(spec, embedOpt){\n",
       "    let outputDiv = document.currentScript.previousElementSibling;\n",
       "    if (outputDiv.id !== \"altair-viz-ab9262ac6fa04361b30aab1983c24408\") {\n",
       "      outputDiv = document.getElementById(\"altair-viz-ab9262ac6fa04361b30aab1983c24408\");\n",
       "    }\n",
       "    const paths = {\n",
       "      \"vega\": \"https://cdn.jsdelivr.net/npm//vega@5?noext\",\n",
       "      \"vega-lib\": \"https://cdn.jsdelivr.net/npm//vega-lib?noext\",\n",
       "      \"vega-lite\": \"https://cdn.jsdelivr.net/npm//vega-lite@4.8.1?noext\",\n",
       "      \"vega-embed\": \"https://cdn.jsdelivr.net/npm//vega-embed@6?noext\",\n",
       "    };\n",
       "\n",
       "    function loadScript(lib) {\n",
       "      return new Promise(function(resolve, reject) {\n",
       "        var s = document.createElement('script');\n",
       "        s.src = paths[lib];\n",
       "        s.async = true;\n",
       "        s.onload = () => resolve(paths[lib]);\n",
       "        s.onerror = () => reject(`Error loading script: ${paths[lib]}`);\n",
       "        document.getElementsByTagName(\"head\")[0].appendChild(s);\n",
       "      });\n",
       "    }\n",
       "\n",
       "    function showError(err) {\n",
       "      outputDiv.innerHTML = `<div class=\"error\" style=\"color:red;\">${err}</div>`;\n",
       "      throw err;\n",
       "    }\n",
       "\n",
       "    function displayChart(vegaEmbed) {\n",
       "      vegaEmbed(outputDiv, spec, embedOpt)\n",
       "        .catch(err => showError(`Javascript Error: ${err.message}<br>This usually means there's a typo in your chart specification. See the javascript console for the full traceback.`));\n",
       "    }\n",
       "\n",
       "    if(typeof define === \"function\" && define.amd) {\n",
       "      requirejs.config({paths});\n",
       "      require([\"vega-embed\"], displayChart, err => showError(`Error loading script: ${err.message}`));\n",
       "    } else if (typeof vegaEmbed === \"function\") {\n",
       "      displayChart(vegaEmbed);\n",
       "    } else {\n",
       "      loadScript(\"vega\")\n",
       "        .then(() => loadScript(\"vega-lite\"))\n",
       "        .then(() => loadScript(\"vega-embed\"))\n",
       "        .catch(showError)\n",
       "        .then(() => displayChart(vegaEmbed));\n",
       "    }\n",
       "  })({\"config\": {\"view\": {\"continuousWidth\": 400, \"continuousHeight\": 300}}, \"data\": {\"name\": \"data-76280be294f032a4d2b156bc4e6e33e1\"}, \"mark\": \"circle\", \"encoding\": {\"color\": {\"type\": \"nominal\", \"field\": \"G_axes\"}, \"x\": {\"type\": \"quantitative\", \"field\": \"nPts\"}, \"y\": {\"type\": \"quantitative\", \"field\": \"time\"}}, \"$schema\": \"https://vega.github.io/schema/vega-lite/v4.8.1.json\", \"datasets\": {\"data-76280be294f032a4d2b156bc4e6e33e1\": [{\"nPts\": 499999, \"time\": 78.9438689999997, \"G_axes\": 3, \"G_color\": 5, \"ga*gc\": 15}, {\"nPts\": 499999, \"time\": 119.8955230000002, \"G_axes\": 3, \"G_color\": 221, \"ga*gc\": 663}, {\"nPts\": 499999, \"time\": 274.32963200000063, \"G_axes\": 3, \"G_color\": 11453, \"ga*gc\": 34359}, {\"nPts\": 499999, \"time\": 80.2191020000009, \"G_axes\": 5, \"G_color\": 3, \"ga*gc\": 15}, {\"nPts\": 499999, \"time\": 103.9248080000021, \"G_axes\": 5, \"G_color\": 221, \"ga*gc\": 1105}, {\"nPts\": 499999, \"time\": 313.01130099999955, \"G_axes\": 5, \"G_color\": 11453, \"ga*gc\": 57265}, {\"nPts\": 499999, \"time\": 101.520305000001, \"G_axes\": 221, \"G_color\": 3, \"ga*gc\": 663}, {\"nPts\": 499999, \"time\": 100.7681560000008, \"G_axes\": 221, \"G_color\": 5, \"ga*gc\": 1105}, {\"nPts\": 499999, \"time\": 4464.812295999998, \"G_axes\": 221, \"G_color\": 11453, \"ga*gc\": 2531113}, {\"nPts\": 499999, \"time\": 330.801220999998, \"G_axes\": 11453, \"G_color\": 3, \"ga*gc\": 34359}, {\"nPts\": 499999, \"time\": 346.16578500000014, \"G_axes\": 11453, \"G_color\": 5, \"ga*gc\": 57265}, {\"nPts\": 499999, \"time\": 5560.620498000002, \"G_axes\": 11453, \"G_color\": 221, \"ga*gc\": 2531113}, {\"nPts\": 711748, \"time\": 119.4586029999982, \"G_axes\": 3, \"G_color\": 5, \"ga*gc\": 15}, {\"nPts\": 711748, \"time\": 141.6949310000035, \"G_axes\": 3, \"G_color\": 221, \"ga*gc\": 663}, {\"nPts\": 711748, \"time\": 466.3260760000014, \"G_axes\": 3, \"G_color\": 11453, \"ga*gc\": 34359}, {\"nPts\": 711748, \"time\": 116.9381549999997, \"G_axes\": 5, \"G_color\": 3, \"ga*gc\": 15}, {\"nPts\": 711748, \"time\": 143.4366619999991, \"G_axes\": 5, \"G_color\": 221, \"ga*gc\": 1105}, {\"nPts\": 711748, \"time\": 401.1151690000005, \"G_axes\": 5, \"G_color\": 11453, \"ga*gc\": 57265}, {\"nPts\": 711748, \"time\": 152.1883469999991, \"G_axes\": 221, \"G_color\": 3, \"ga*gc\": 663}, {\"nPts\": 711748, \"time\": 137.2690260000055, \"G_axes\": 221, \"G_color\": 5, \"ga*gc\": 1105}, {\"nPts\": 711748, \"time\": 4459.324405000004, \"G_axes\": 221, \"G_color\": 11453, \"ga*gc\": 2531113}, {\"nPts\": 711748, \"time\": 419.1246030000002, \"G_axes\": 11453, \"G_color\": 3, \"ga*gc\": 34359}, {\"nPts\": 711748, \"time\": 431.4299409999975, \"G_axes\": 11453, \"G_color\": 5, \"ga*gc\": 57265}, {\"nPts\": 711748, \"time\": 5685.873682999997, \"G_axes\": 11453, \"G_color\": 221, \"ga*gc\": 2531113}, {\"nPts\": 1013173, \"time\": 153.5173129999947, \"G_axes\": 3, \"G_color\": 5, \"ga*gc\": 15}, {\"nPts\": 1013173, \"time\": 168.8235129999995, \"G_axes\": 3, \"G_color\": 221, \"ga*gc\": 663}, {\"nPts\": 1013173, \"time\": 500.17381100000335, \"G_axes\": 3, \"G_color\": 11453, \"ga*gc\": 34359}, {\"nPts\": 1013173, \"time\": 144.4978399999996, \"G_axes\": 5, \"G_color\": 3, \"ga*gc\": 15}, {\"nPts\": 1013173, \"time\": 181.4238729999999, \"G_axes\": 5, \"G_color\": 221, \"ga*gc\": 1105}, {\"nPts\": 1013173, \"time\": 520.496695999995, \"G_axes\": 5, \"G_color\": 11453, \"ga*gc\": 57265}, {\"nPts\": 1013173, \"time\": 174.0817860000021, \"G_axes\": 221, \"G_color\": 3, \"ga*gc\": 663}, {\"nPts\": 1013173, \"time\": 178.4778100000039, \"G_axes\": 221, \"G_color\": 5, \"ga*gc\": 1105}, {\"nPts\": 1013173, \"time\": 4502.447075000006, \"G_axes\": 221, \"G_color\": 11453, \"ga*gc\": 2531113}, {\"nPts\": 1013173, \"time\": 617.3692410000058, \"G_axes\": 11453, \"G_color\": 3, \"ga*gc\": 34359}, {\"nPts\": 1013173, \"time\": 529.2992140000052, \"G_axes\": 11453, \"G_color\": 5, \"ga*gc\": 57265}, {\"nPts\": 1013173, \"time\": 5788.244212999999, \"G_axes\": 11453, \"G_color\": 221, \"ga*gc\": 2531113}, {\"nPts\": 1442249, \"time\": 202.8319129999971, \"G_axes\": 3, \"G_color\": 5, \"ga*gc\": 15}, {\"nPts\": 1442249, \"time\": 236.7128169999972, \"G_axes\": 3, \"G_color\": 221, \"ga*gc\": 663}, {\"nPts\": 1442249, \"time\": 650.2218299999925, \"G_axes\": 3, \"G_color\": 11453, \"ga*gc\": 34359}, {\"nPts\": 1442249, \"time\": 194.1973899999993, \"G_axes\": 5, \"G_color\": 3, \"ga*gc\": 15}, {\"nPts\": 1442249, \"time\": 244.3288609999996, \"G_axes\": 5, \"G_color\": 221, \"ga*gc\": 1105}, {\"nPts\": 1442249, \"time\": 675.0407050000007, \"G_axes\": 5, \"G_color\": 11453, \"ga*gc\": 57265}, {\"nPts\": 1442249, \"time\": 228.1396780000051, \"G_axes\": 221, \"G_color\": 3, \"ga*gc\": 663}, {\"nPts\": 1442249, \"time\": 242.5782370000035, \"G_axes\": 221, \"G_color\": 5, \"ga*gc\": 1105}, {\"nPts\": 1442249, \"time\": 4737.244402000002, \"G_axes\": 221, \"G_color\": 11453, \"ga*gc\": 2531113}, {\"nPts\": 1442249, \"time\": 700.4551889999959, \"G_axes\": 11453, \"G_color\": 3, \"ga*gc\": 34359}, {\"nPts\": 1442249, \"time\": 714.1967790000052, \"G_axes\": 11453, \"G_color\": 5, \"ga*gc\": 57265}, {\"nPts\": 1442249, \"time\": 5957.976307999999, \"G_axes\": 11453, \"G_color\": 221, \"ga*gc\": 2531113}, {\"nPts\": 2053039, \"time\": 277.6500899999945, \"G_axes\": 3, \"G_color\": 5, \"ga*gc\": 15}, {\"nPts\": 2053039, \"time\": 322.7029990000005, \"G_axes\": 3, \"G_color\": 221, \"ga*gc\": 663}, {\"nPts\": 2053039, \"time\": 1019.0239020000007, \"G_axes\": 3, \"G_color\": 11453, \"ga*gc\": 34359}, {\"nPts\": 2053039, \"time\": 268.3068289999966, \"G_axes\": 5, \"G_color\": 3, \"ga*gc\": 15}, {\"nPts\": 2053039, \"time\": 320.0181140000069, \"G_axes\": 5, \"G_color\": 221, \"ga*gc\": 1105}, {\"nPts\": 2053039, \"time\": 916.3924309999912, \"G_axes\": 5, \"G_color\": 11453, \"ga*gc\": 57265}, {\"nPts\": 2053039, \"time\": 318.892525999999, \"G_axes\": 221, \"G_color\": 3, \"ga*gc\": 663}, {\"nPts\": 2053039, \"time\": 319.3846510000071, \"G_axes\": 221, \"G_color\": 5, \"ga*gc\": 1105}, {\"nPts\": 2053039, \"time\": 4918.549236000004, \"G_axes\": 221, \"G_color\": 11453, \"ga*gc\": 2531113}, {\"nPts\": 2053039, \"time\": 949.6752279999896, \"G_axes\": 11453, \"G_color\": 3, \"ga*gc\": 34359}, {\"nPts\": 2053039, \"time\": 929.139297000006, \"G_axes\": 11453, \"G_color\": 5, \"ga*gc\": 57265}, {\"nPts\": 2053039, \"time\": 6192.160382000013, \"G_axes\": 11453, \"G_color\": 221, \"ga*gc\": 2531113}, {\"nPts\": 2922496, \"time\": 400.4242419999855, \"G_axes\": 3, \"G_color\": 5, \"ga*gc\": 15}, {\"nPts\": 2922496, \"time\": 459.864997000011, \"G_axes\": 3, \"G_color\": 221, \"ga*gc\": 663}, {\"nPts\": 2922496, \"time\": 1216.487165000018, \"G_axes\": 3, \"G_color\": 11453, \"ga*gc\": 34359}, {\"nPts\": 2922496, \"time\": 371.3832679999882, \"G_axes\": 5, \"G_color\": 3, \"ga*gc\": 15}, {\"nPts\": 2922496, \"time\": 444.3061209999825, \"G_axes\": 5, \"G_color\": 221, \"ga*gc\": 1105}, {\"nPts\": 2922496, \"time\": 1271.3485000000162, \"G_axes\": 5, \"G_color\": 11453, \"ga*gc\": 57265}, {\"nPts\": 2922496, \"time\": 448.408594, \"G_axes\": 221, \"G_color\": 3, \"ga*gc\": 663}, {\"nPts\": 2922496, \"time\": 446.4701440000169, \"G_axes\": 221, \"G_color\": 5, \"ga*gc\": 1105}, {\"nPts\": 2922496, \"time\": 5281.473913000013, \"G_axes\": 221, \"G_color\": 11453, \"ga*gc\": 2531113}, {\"nPts\": 2922496, \"time\": 1426.4035070000034, \"G_axes\": 11453, \"G_color\": 3, \"ga*gc\": 34359}, {\"nPts\": 2922496, \"time\": 1263.5308440000017, \"G_axes\": 11453, \"G_color\": 5, \"ga*gc\": 57265}, {\"nPts\": 2922496, \"time\": 6502.164832999995, \"G_axes\": 11453, \"G_color\": 221, \"ga*gc\": 2531113}, {\"nPts\": 4160167, \"time\": 569.2684890000237, \"G_axes\": 3, \"G_color\": 5, \"ga*gc\": 15}, {\"nPts\": 4160167, \"time\": 609.434551999982, \"G_axes\": 3, \"G_color\": 221, \"ga*gc\": 663}, {\"nPts\": 4160167, \"time\": 1686.3776580000265, \"G_axes\": 3, \"G_color\": 11453, \"ga*gc\": 34359}, {\"nPts\": 4160167, \"time\": 513.7297489999924, \"G_axes\": 5, \"G_color\": 3, \"ga*gc\": 15}, {\"nPts\": 4160167, \"time\": 640.1272640000002, \"G_axes\": 5, \"G_color\": 221, \"ga*gc\": 1105}, {\"nPts\": 4160167, \"time\": 1739.036160000012, \"G_axes\": 5, \"G_color\": 11453, \"ga*gc\": 57265}, {\"nPts\": 4160167, \"time\": 613.6199190000013, \"G_axes\": 221, \"G_color\": 3, \"ga*gc\": 663}, {\"nPts\": 4160167, \"time\": 603.7917129999926, \"G_axes\": 221, \"G_color\": 5, \"ga*gc\": 1105}, {\"nPts\": 4160167, \"time\": 5944.579224999984, \"G_axes\": 221, \"G_color\": 11453, \"ga*gc\": 2531113}, {\"nPts\": 4160167, \"time\": 1763.5237419999896, \"G_axes\": 11453, \"G_color\": 3, \"ga*gc\": 34359}, {\"nPts\": 4160167, \"time\": 1730.8689079999908, \"G_axes\": 11453, \"G_color\": 5, \"ga*gc\": 57265}, {\"nPts\": 4160167, \"time\": 6939.695217000008, \"G_axes\": 11453, \"G_color\": 221, \"ga*gc\": 2531113}, {\"nPts\": 5921989, \"time\": 760.8240550000005, \"G_axes\": 3, \"G_color\": 5, \"ga*gc\": 15}, {\"nPts\": 5921989, \"time\": 851.9444279999959, \"G_axes\": 3, \"G_color\": 221, \"ga*gc\": 663}, {\"nPts\": 5921989, \"time\": 2641.145628000004, \"G_axes\": 3, \"G_color\": 11453, \"ga*gc\": 34359}, {\"nPts\": 5921989, \"time\": 764.7363730000052, \"G_axes\": 5, \"G_color\": 3, \"ga*gc\": 15}, {\"nPts\": 5921989, \"time\": 845.6659039999863, \"G_axes\": 5, \"G_color\": 221, \"ga*gc\": 1105}, {\"nPts\": 5921989, \"time\": 2393.492981999998, \"G_axes\": 5, \"G_color\": 11453, \"ga*gc\": 57265}, {\"nPts\": 5921989, \"time\": 851.1352149999993, \"G_axes\": 221, \"G_color\": 3, \"ga*gc\": 663}, {\"nPts\": 5921989, \"time\": 847.151077999996, \"G_axes\": 221, \"G_color\": 5, \"ga*gc\": 1105}, {\"nPts\": 5921989, \"time\": 6485.015838000009, \"G_axes\": 221, \"G_color\": 11453, \"ga*gc\": 2531113}, {\"nPts\": 5921989, \"time\": 2399.887925000002, \"G_axes\": 11453, \"G_color\": 3, \"ga*gc\": 34359}, {\"nPts\": 5921989, \"time\": 2414.5472049999908, \"G_axes\": 11453, \"G_color\": 5, \"ga*gc\": 57265}, {\"nPts\": 5921989, \"time\": 7701.564063999996, \"G_axes\": 11453, \"G_color\": 221, \"ga*gc\": 2531113}, {\"nPts\": 8429939, \"time\": 1071.1388070000112, \"G_axes\": 3, \"G_color\": 5, \"ga*gc\": 15}, {\"nPts\": 8429939, \"time\": 1211.939383000015, \"G_axes\": 3, \"G_color\": 221, \"ga*gc\": 663}, {\"nPts\": 8429939, \"time\": 3314.934458000039, \"G_axes\": 3, \"G_color\": 11453, \"ga*gc\": 34359}, {\"nPts\": 8429939, \"time\": 1037.866237000003, \"G_axes\": 5, \"G_color\": 3, \"ga*gc\": 15}, {\"nPts\": 8429939, \"time\": 1192.143672000043, \"G_axes\": 5, \"G_color\": 221, \"ga*gc\": 1105}, {\"nPts\": 8429939, \"time\": 3313.659857999994, \"G_axes\": 5, \"G_color\": 11453, \"ga*gc\": 57265}, {\"nPts\": 8429939, \"time\": 1186.8539550000037, \"G_axes\": 221, \"G_color\": 3, \"ga*gc\": 663}, {\"nPts\": 8429939, \"time\": 1194.7970489999875, \"G_axes\": 221, \"G_color\": 5, \"ga*gc\": 1105}, {\"nPts\": 8429939, \"time\": 7474.82517200001, \"G_axes\": 221, \"G_color\": 11453, \"ga*gc\": 2531113}, {\"nPts\": 8429939, \"time\": 3761.15400499998, \"G_axes\": 11453, \"G_color\": 3, \"ga*gc\": 34359}, {\"nPts\": 8429939, \"time\": 3330.1988740000183, \"G_axes\": 11453, \"G_color\": 5, \"ga*gc\": 57265}, {\"nPts\": 8429939, \"time\": 8733.914921000007, \"G_axes\": 11453, \"G_color\": 221, \"ga*gc\": 2531113}, {\"nPts\": 12000000, \"time\": 1528.5343040000043, \"G_axes\": 3, \"G_color\": 5, \"ga*gc\": 15}, {\"nPts\": 12000000, \"time\": 1695.2892509999629, \"G_axes\": 3, \"G_color\": 221, \"ga*gc\": 663}, {\"nPts\": 12000000, \"time\": 4633.822843000018, \"G_axes\": 3, \"G_color\": 11453, \"ga*gc\": 34359}, {\"nPts\": 12000000, \"time\": 1419.6976890000317, \"G_axes\": 5, \"G_color\": 3, \"ga*gc\": 15}, {\"nPts\": 12000000, \"time\": 1682.693540999992, \"G_axes\": 5, \"G_color\": 221, \"ga*gc\": 1105}, {\"nPts\": 12000000, \"time\": 4647.387127999991, \"G_axes\": 5, \"G_color\": 11453, \"ga*gc\": 57265}, {\"nPts\": 12000000, \"time\": 1683.835812999973, \"G_axes\": 221, \"G_color\": 3, \"ga*gc\": 663}, {\"nPts\": 12000000, \"time\": 1644.3104489999882, \"G_axes\": 221, \"G_color\": 5, \"ga*gc\": 1105}, {\"nPts\": 12000000, \"time\": 9323.849017999975, \"G_axes\": 221, \"G_color\": 11453, \"ga*gc\": 2531113}, {\"nPts\": 12000000, \"time\": 4639.411539000037, \"G_axes\": 11453, \"G_color\": 3, \"ga*gc\": 34359}, {\"nPts\": 12000000, \"time\": 4535.178212000005, \"G_axes\": 11453, \"G_color\": 5, \"ga*gc\": 57265}, {\"nPts\": 12000000, \"time\": 10126.151474000038, \"G_axes\": 11453, \"G_color\": 221, \"ga*gc\": 2531113}]}}, {\"mode\": \"vega-lite\"});\n",
       "</script>"
      ],
      "text/plain": [
       "alt.Chart(...)"
      ]
     },
     "execution_count": 95,
     "metadata": {},
     "output_type": "execute_result"
    }
   ],
   "source": [
    "alt.Chart(color_bar).mark_circle().encode(\n",
    "    y = \"time\",\n",
    "    x = \"nPts\",\n",
    "    color = alt.Color(\"G_axes\",type=\"nominal\")\n",
    ")"
   ]
  },
  {
   "cell_type": "code",
   "execution_count": 96,
   "metadata": {},
   "outputs": [
    {
     "data": {
      "text/html": [
       "\n",
       "<div id=\"altair-viz-260a1b3d03894efc91f7998839e3976f\"></div>\n",
       "<script type=\"text/javascript\">\n",
       "  (function(spec, embedOpt){\n",
       "    let outputDiv = document.currentScript.previousElementSibling;\n",
       "    if (outputDiv.id !== \"altair-viz-260a1b3d03894efc91f7998839e3976f\") {\n",
       "      outputDiv = document.getElementById(\"altair-viz-260a1b3d03894efc91f7998839e3976f\");\n",
       "    }\n",
       "    const paths = {\n",
       "      \"vega\": \"https://cdn.jsdelivr.net/npm//vega@5?noext\",\n",
       "      \"vega-lib\": \"https://cdn.jsdelivr.net/npm//vega-lib?noext\",\n",
       "      \"vega-lite\": \"https://cdn.jsdelivr.net/npm//vega-lite@4.8.1?noext\",\n",
       "      \"vega-embed\": \"https://cdn.jsdelivr.net/npm//vega-embed@6?noext\",\n",
       "    };\n",
       "\n",
       "    function loadScript(lib) {\n",
       "      return new Promise(function(resolve, reject) {\n",
       "        var s = document.createElement('script');\n",
       "        s.src = paths[lib];\n",
       "        s.async = true;\n",
       "        s.onload = () => resolve(paths[lib]);\n",
       "        s.onerror = () => reject(`Error loading script: ${paths[lib]}`);\n",
       "        document.getElementsByTagName(\"head\")[0].appendChild(s);\n",
       "      });\n",
       "    }\n",
       "\n",
       "    function showError(err) {\n",
       "      outputDiv.innerHTML = `<div class=\"error\" style=\"color:red;\">${err}</div>`;\n",
       "      throw err;\n",
       "    }\n",
       "\n",
       "    function displayChart(vegaEmbed) {\n",
       "      vegaEmbed(outputDiv, spec, embedOpt)\n",
       "        .catch(err => showError(`Javascript Error: ${err.message}<br>This usually means there's a typo in your chart specification. See the javascript console for the full traceback.`));\n",
       "    }\n",
       "\n",
       "    if(typeof define === \"function\" && define.amd) {\n",
       "      requirejs.config({paths});\n",
       "      require([\"vega-embed\"], displayChart, err => showError(`Error loading script: ${err.message}`));\n",
       "    } else if (typeof vegaEmbed === \"function\") {\n",
       "      displayChart(vegaEmbed);\n",
       "    } else {\n",
       "      loadScript(\"vega\")\n",
       "        .then(() => loadScript(\"vega-lite\"))\n",
       "        .then(() => loadScript(\"vega-embed\"))\n",
       "        .catch(showError)\n",
       "        .then(() => displayChart(vegaEmbed));\n",
       "    }\n",
       "  })({\"config\": {\"view\": {\"continuousWidth\": 400, \"continuousHeight\": 300}}, \"data\": {\"name\": \"data-76280be294f032a4d2b156bc4e6e33e1\"}, \"mark\": \"circle\", \"encoding\": {\"color\": {\"type\": \"nominal\", \"field\": \"G_color\"}, \"x\": {\"type\": \"quantitative\", \"field\": \"nPts\"}, \"y\": {\"type\": \"quantitative\", \"field\": \"time\"}}, \"selection\": {\"selector002\": {\"type\": \"interval\", \"bind\": \"scales\", \"encodings\": [\"x\", \"y\"]}}, \"$schema\": \"https://vega.github.io/schema/vega-lite/v4.8.1.json\", \"datasets\": {\"data-76280be294f032a4d2b156bc4e6e33e1\": [{\"nPts\": 499999, \"time\": 78.9438689999997, \"G_axes\": 3, \"G_color\": 5, \"ga*gc\": 15}, {\"nPts\": 499999, \"time\": 119.8955230000002, \"G_axes\": 3, \"G_color\": 221, \"ga*gc\": 663}, {\"nPts\": 499999, \"time\": 274.32963200000063, \"G_axes\": 3, \"G_color\": 11453, \"ga*gc\": 34359}, {\"nPts\": 499999, \"time\": 80.2191020000009, \"G_axes\": 5, \"G_color\": 3, \"ga*gc\": 15}, {\"nPts\": 499999, \"time\": 103.9248080000021, \"G_axes\": 5, \"G_color\": 221, \"ga*gc\": 1105}, {\"nPts\": 499999, \"time\": 313.01130099999955, \"G_axes\": 5, \"G_color\": 11453, \"ga*gc\": 57265}, {\"nPts\": 499999, \"time\": 101.520305000001, \"G_axes\": 221, \"G_color\": 3, \"ga*gc\": 663}, {\"nPts\": 499999, \"time\": 100.7681560000008, \"G_axes\": 221, \"G_color\": 5, \"ga*gc\": 1105}, {\"nPts\": 499999, \"time\": 4464.812295999998, \"G_axes\": 221, \"G_color\": 11453, \"ga*gc\": 2531113}, {\"nPts\": 499999, \"time\": 330.801220999998, \"G_axes\": 11453, \"G_color\": 3, \"ga*gc\": 34359}, {\"nPts\": 499999, \"time\": 346.16578500000014, \"G_axes\": 11453, \"G_color\": 5, \"ga*gc\": 57265}, {\"nPts\": 499999, \"time\": 5560.620498000002, \"G_axes\": 11453, \"G_color\": 221, \"ga*gc\": 2531113}, {\"nPts\": 711748, \"time\": 119.4586029999982, \"G_axes\": 3, \"G_color\": 5, \"ga*gc\": 15}, {\"nPts\": 711748, \"time\": 141.6949310000035, \"G_axes\": 3, \"G_color\": 221, \"ga*gc\": 663}, {\"nPts\": 711748, \"time\": 466.3260760000014, \"G_axes\": 3, \"G_color\": 11453, \"ga*gc\": 34359}, {\"nPts\": 711748, \"time\": 116.9381549999997, \"G_axes\": 5, \"G_color\": 3, \"ga*gc\": 15}, {\"nPts\": 711748, \"time\": 143.4366619999991, \"G_axes\": 5, \"G_color\": 221, \"ga*gc\": 1105}, {\"nPts\": 711748, \"time\": 401.1151690000005, \"G_axes\": 5, \"G_color\": 11453, \"ga*gc\": 57265}, {\"nPts\": 711748, \"time\": 152.1883469999991, \"G_axes\": 221, \"G_color\": 3, \"ga*gc\": 663}, {\"nPts\": 711748, \"time\": 137.2690260000055, \"G_axes\": 221, \"G_color\": 5, \"ga*gc\": 1105}, {\"nPts\": 711748, \"time\": 4459.324405000004, \"G_axes\": 221, \"G_color\": 11453, \"ga*gc\": 2531113}, {\"nPts\": 711748, \"time\": 419.1246030000002, \"G_axes\": 11453, \"G_color\": 3, \"ga*gc\": 34359}, {\"nPts\": 711748, \"time\": 431.4299409999975, \"G_axes\": 11453, \"G_color\": 5, \"ga*gc\": 57265}, {\"nPts\": 711748, \"time\": 5685.873682999997, \"G_axes\": 11453, \"G_color\": 221, \"ga*gc\": 2531113}, {\"nPts\": 1013173, \"time\": 153.5173129999947, \"G_axes\": 3, \"G_color\": 5, \"ga*gc\": 15}, {\"nPts\": 1013173, \"time\": 168.8235129999995, \"G_axes\": 3, \"G_color\": 221, \"ga*gc\": 663}, {\"nPts\": 1013173, \"time\": 500.17381100000335, \"G_axes\": 3, \"G_color\": 11453, \"ga*gc\": 34359}, {\"nPts\": 1013173, \"time\": 144.4978399999996, \"G_axes\": 5, \"G_color\": 3, \"ga*gc\": 15}, {\"nPts\": 1013173, \"time\": 181.4238729999999, \"G_axes\": 5, \"G_color\": 221, \"ga*gc\": 1105}, {\"nPts\": 1013173, \"time\": 520.496695999995, \"G_axes\": 5, \"G_color\": 11453, \"ga*gc\": 57265}, {\"nPts\": 1013173, \"time\": 174.0817860000021, \"G_axes\": 221, \"G_color\": 3, \"ga*gc\": 663}, {\"nPts\": 1013173, \"time\": 178.4778100000039, \"G_axes\": 221, \"G_color\": 5, \"ga*gc\": 1105}, {\"nPts\": 1013173, \"time\": 4502.447075000006, \"G_axes\": 221, \"G_color\": 11453, \"ga*gc\": 2531113}, {\"nPts\": 1013173, \"time\": 617.3692410000058, \"G_axes\": 11453, \"G_color\": 3, \"ga*gc\": 34359}, {\"nPts\": 1013173, \"time\": 529.2992140000052, \"G_axes\": 11453, \"G_color\": 5, \"ga*gc\": 57265}, {\"nPts\": 1013173, \"time\": 5788.244212999999, \"G_axes\": 11453, \"G_color\": 221, \"ga*gc\": 2531113}, {\"nPts\": 1442249, \"time\": 202.8319129999971, \"G_axes\": 3, \"G_color\": 5, \"ga*gc\": 15}, {\"nPts\": 1442249, \"time\": 236.7128169999972, \"G_axes\": 3, \"G_color\": 221, \"ga*gc\": 663}, {\"nPts\": 1442249, \"time\": 650.2218299999925, \"G_axes\": 3, \"G_color\": 11453, \"ga*gc\": 34359}, {\"nPts\": 1442249, \"time\": 194.1973899999993, \"G_axes\": 5, \"G_color\": 3, \"ga*gc\": 15}, {\"nPts\": 1442249, \"time\": 244.3288609999996, \"G_axes\": 5, \"G_color\": 221, \"ga*gc\": 1105}, {\"nPts\": 1442249, \"time\": 675.0407050000007, \"G_axes\": 5, \"G_color\": 11453, \"ga*gc\": 57265}, {\"nPts\": 1442249, \"time\": 228.1396780000051, \"G_axes\": 221, \"G_color\": 3, \"ga*gc\": 663}, {\"nPts\": 1442249, \"time\": 242.5782370000035, \"G_axes\": 221, \"G_color\": 5, \"ga*gc\": 1105}, {\"nPts\": 1442249, \"time\": 4737.244402000002, \"G_axes\": 221, \"G_color\": 11453, \"ga*gc\": 2531113}, {\"nPts\": 1442249, \"time\": 700.4551889999959, \"G_axes\": 11453, \"G_color\": 3, \"ga*gc\": 34359}, {\"nPts\": 1442249, \"time\": 714.1967790000052, \"G_axes\": 11453, \"G_color\": 5, \"ga*gc\": 57265}, {\"nPts\": 1442249, \"time\": 5957.976307999999, \"G_axes\": 11453, \"G_color\": 221, \"ga*gc\": 2531113}, {\"nPts\": 2053039, \"time\": 277.6500899999945, \"G_axes\": 3, \"G_color\": 5, \"ga*gc\": 15}, {\"nPts\": 2053039, \"time\": 322.7029990000005, \"G_axes\": 3, \"G_color\": 221, \"ga*gc\": 663}, {\"nPts\": 2053039, \"time\": 1019.0239020000007, \"G_axes\": 3, \"G_color\": 11453, \"ga*gc\": 34359}, {\"nPts\": 2053039, \"time\": 268.3068289999966, \"G_axes\": 5, \"G_color\": 3, \"ga*gc\": 15}, {\"nPts\": 2053039, \"time\": 320.0181140000069, \"G_axes\": 5, \"G_color\": 221, \"ga*gc\": 1105}, {\"nPts\": 2053039, \"time\": 916.3924309999912, \"G_axes\": 5, \"G_color\": 11453, \"ga*gc\": 57265}, {\"nPts\": 2053039, \"time\": 318.892525999999, \"G_axes\": 221, \"G_color\": 3, \"ga*gc\": 663}, {\"nPts\": 2053039, \"time\": 319.3846510000071, \"G_axes\": 221, \"G_color\": 5, \"ga*gc\": 1105}, {\"nPts\": 2053039, \"time\": 4918.549236000004, \"G_axes\": 221, \"G_color\": 11453, \"ga*gc\": 2531113}, {\"nPts\": 2053039, \"time\": 949.6752279999896, \"G_axes\": 11453, \"G_color\": 3, \"ga*gc\": 34359}, {\"nPts\": 2053039, \"time\": 929.139297000006, \"G_axes\": 11453, \"G_color\": 5, \"ga*gc\": 57265}, {\"nPts\": 2053039, \"time\": 6192.160382000013, \"G_axes\": 11453, \"G_color\": 221, \"ga*gc\": 2531113}, {\"nPts\": 2922496, \"time\": 400.4242419999855, \"G_axes\": 3, \"G_color\": 5, \"ga*gc\": 15}, {\"nPts\": 2922496, \"time\": 459.864997000011, \"G_axes\": 3, \"G_color\": 221, \"ga*gc\": 663}, {\"nPts\": 2922496, \"time\": 1216.487165000018, \"G_axes\": 3, \"G_color\": 11453, \"ga*gc\": 34359}, {\"nPts\": 2922496, \"time\": 371.3832679999882, \"G_axes\": 5, \"G_color\": 3, \"ga*gc\": 15}, {\"nPts\": 2922496, \"time\": 444.3061209999825, \"G_axes\": 5, \"G_color\": 221, \"ga*gc\": 1105}, {\"nPts\": 2922496, \"time\": 1271.3485000000162, \"G_axes\": 5, \"G_color\": 11453, \"ga*gc\": 57265}, {\"nPts\": 2922496, \"time\": 448.408594, \"G_axes\": 221, \"G_color\": 3, \"ga*gc\": 663}, {\"nPts\": 2922496, \"time\": 446.4701440000169, \"G_axes\": 221, \"G_color\": 5, \"ga*gc\": 1105}, {\"nPts\": 2922496, \"time\": 5281.473913000013, \"G_axes\": 221, \"G_color\": 11453, \"ga*gc\": 2531113}, {\"nPts\": 2922496, \"time\": 1426.4035070000034, \"G_axes\": 11453, \"G_color\": 3, \"ga*gc\": 34359}, {\"nPts\": 2922496, \"time\": 1263.5308440000017, \"G_axes\": 11453, \"G_color\": 5, \"ga*gc\": 57265}, {\"nPts\": 2922496, \"time\": 6502.164832999995, \"G_axes\": 11453, \"G_color\": 221, \"ga*gc\": 2531113}, {\"nPts\": 4160167, \"time\": 569.2684890000237, \"G_axes\": 3, \"G_color\": 5, \"ga*gc\": 15}, {\"nPts\": 4160167, \"time\": 609.434551999982, \"G_axes\": 3, \"G_color\": 221, \"ga*gc\": 663}, {\"nPts\": 4160167, \"time\": 1686.3776580000265, \"G_axes\": 3, \"G_color\": 11453, \"ga*gc\": 34359}, {\"nPts\": 4160167, \"time\": 513.7297489999924, \"G_axes\": 5, \"G_color\": 3, \"ga*gc\": 15}, {\"nPts\": 4160167, \"time\": 640.1272640000002, \"G_axes\": 5, \"G_color\": 221, \"ga*gc\": 1105}, {\"nPts\": 4160167, \"time\": 1739.036160000012, \"G_axes\": 5, \"G_color\": 11453, \"ga*gc\": 57265}, {\"nPts\": 4160167, \"time\": 613.6199190000013, \"G_axes\": 221, \"G_color\": 3, \"ga*gc\": 663}, {\"nPts\": 4160167, \"time\": 603.7917129999926, \"G_axes\": 221, \"G_color\": 5, \"ga*gc\": 1105}, {\"nPts\": 4160167, \"time\": 5944.579224999984, \"G_axes\": 221, \"G_color\": 11453, \"ga*gc\": 2531113}, {\"nPts\": 4160167, \"time\": 1763.5237419999896, \"G_axes\": 11453, \"G_color\": 3, \"ga*gc\": 34359}, {\"nPts\": 4160167, \"time\": 1730.8689079999908, \"G_axes\": 11453, \"G_color\": 5, \"ga*gc\": 57265}, {\"nPts\": 4160167, \"time\": 6939.695217000008, \"G_axes\": 11453, \"G_color\": 221, \"ga*gc\": 2531113}, {\"nPts\": 5921989, \"time\": 760.8240550000005, \"G_axes\": 3, \"G_color\": 5, \"ga*gc\": 15}, {\"nPts\": 5921989, \"time\": 851.9444279999959, \"G_axes\": 3, \"G_color\": 221, \"ga*gc\": 663}, {\"nPts\": 5921989, \"time\": 2641.145628000004, \"G_axes\": 3, \"G_color\": 11453, \"ga*gc\": 34359}, {\"nPts\": 5921989, \"time\": 764.7363730000052, \"G_axes\": 5, \"G_color\": 3, \"ga*gc\": 15}, {\"nPts\": 5921989, \"time\": 845.6659039999863, \"G_axes\": 5, \"G_color\": 221, \"ga*gc\": 1105}, {\"nPts\": 5921989, \"time\": 2393.492981999998, \"G_axes\": 5, \"G_color\": 11453, \"ga*gc\": 57265}, {\"nPts\": 5921989, \"time\": 851.1352149999993, \"G_axes\": 221, \"G_color\": 3, \"ga*gc\": 663}, {\"nPts\": 5921989, \"time\": 847.151077999996, \"G_axes\": 221, \"G_color\": 5, \"ga*gc\": 1105}, {\"nPts\": 5921989, \"time\": 6485.015838000009, \"G_axes\": 221, \"G_color\": 11453, \"ga*gc\": 2531113}, {\"nPts\": 5921989, \"time\": 2399.887925000002, \"G_axes\": 11453, \"G_color\": 3, \"ga*gc\": 34359}, {\"nPts\": 5921989, \"time\": 2414.5472049999908, \"G_axes\": 11453, \"G_color\": 5, \"ga*gc\": 57265}, {\"nPts\": 5921989, \"time\": 7701.564063999996, \"G_axes\": 11453, \"G_color\": 221, \"ga*gc\": 2531113}, {\"nPts\": 8429939, \"time\": 1071.1388070000112, \"G_axes\": 3, \"G_color\": 5, \"ga*gc\": 15}, {\"nPts\": 8429939, \"time\": 1211.939383000015, \"G_axes\": 3, \"G_color\": 221, \"ga*gc\": 663}, {\"nPts\": 8429939, \"time\": 3314.934458000039, \"G_axes\": 3, \"G_color\": 11453, \"ga*gc\": 34359}, {\"nPts\": 8429939, \"time\": 1037.866237000003, \"G_axes\": 5, \"G_color\": 3, \"ga*gc\": 15}, {\"nPts\": 8429939, \"time\": 1192.143672000043, \"G_axes\": 5, \"G_color\": 221, \"ga*gc\": 1105}, {\"nPts\": 8429939, \"time\": 3313.659857999994, \"G_axes\": 5, \"G_color\": 11453, \"ga*gc\": 57265}, {\"nPts\": 8429939, \"time\": 1186.8539550000037, \"G_axes\": 221, \"G_color\": 3, \"ga*gc\": 663}, {\"nPts\": 8429939, \"time\": 1194.7970489999875, \"G_axes\": 221, \"G_color\": 5, \"ga*gc\": 1105}, {\"nPts\": 8429939, \"time\": 7474.82517200001, \"G_axes\": 221, \"G_color\": 11453, \"ga*gc\": 2531113}, {\"nPts\": 8429939, \"time\": 3761.15400499998, \"G_axes\": 11453, \"G_color\": 3, \"ga*gc\": 34359}, {\"nPts\": 8429939, \"time\": 3330.1988740000183, \"G_axes\": 11453, \"G_color\": 5, \"ga*gc\": 57265}, {\"nPts\": 8429939, \"time\": 8733.914921000007, \"G_axes\": 11453, \"G_color\": 221, \"ga*gc\": 2531113}, {\"nPts\": 12000000, \"time\": 1528.5343040000043, \"G_axes\": 3, \"G_color\": 5, \"ga*gc\": 15}, {\"nPts\": 12000000, \"time\": 1695.2892509999629, \"G_axes\": 3, \"G_color\": 221, \"ga*gc\": 663}, {\"nPts\": 12000000, \"time\": 4633.822843000018, \"G_axes\": 3, \"G_color\": 11453, \"ga*gc\": 34359}, {\"nPts\": 12000000, \"time\": 1419.6976890000317, \"G_axes\": 5, \"G_color\": 3, \"ga*gc\": 15}, {\"nPts\": 12000000, \"time\": 1682.693540999992, \"G_axes\": 5, \"G_color\": 221, \"ga*gc\": 1105}, {\"nPts\": 12000000, \"time\": 4647.387127999991, \"G_axes\": 5, \"G_color\": 11453, \"ga*gc\": 57265}, {\"nPts\": 12000000, \"time\": 1683.835812999973, \"G_axes\": 221, \"G_color\": 3, \"ga*gc\": 663}, {\"nPts\": 12000000, \"time\": 1644.3104489999882, \"G_axes\": 221, \"G_color\": 5, \"ga*gc\": 1105}, {\"nPts\": 12000000, \"time\": 9323.849017999975, \"G_axes\": 221, \"G_color\": 11453, \"ga*gc\": 2531113}, {\"nPts\": 12000000, \"time\": 4639.411539000037, \"G_axes\": 11453, \"G_color\": 3, \"ga*gc\": 34359}, {\"nPts\": 12000000, \"time\": 4535.178212000005, \"G_axes\": 11453, \"G_color\": 5, \"ga*gc\": 57265}, {\"nPts\": 12000000, \"time\": 10126.151474000038, \"G_axes\": 11453, \"G_color\": 221, \"ga*gc\": 2531113}]}}, {\"mode\": \"vega-lite\"});\n",
       "</script>"
      ],
      "text/plain": [
       "alt.Chart(...)"
      ]
     },
     "execution_count": 96,
     "metadata": {},
     "output_type": "execute_result"
    }
   ],
   "source": [
    "alt.Chart(color_bar).mark_circle().encode(\n",
    "    y = \"time\",\n",
    "    x = \"nPts\",\n",
    "    color = alt.Color(\"G_color\",type=\"nominal\")\n",
    ").interactive()"
   ]
  },
  {
   "cell_type": "code",
   "execution_count": 97,
   "metadata": {},
   "outputs": [
    {
     "data": {
      "text/html": [
       "\n",
       "<div id=\"altair-viz-76f4283bda9a459ea38491d97c606238\"></div>\n",
       "<script type=\"text/javascript\">\n",
       "  (function(spec, embedOpt){\n",
       "    let outputDiv = document.currentScript.previousElementSibling;\n",
       "    if (outputDiv.id !== \"altair-viz-76f4283bda9a459ea38491d97c606238\") {\n",
       "      outputDiv = document.getElementById(\"altair-viz-76f4283bda9a459ea38491d97c606238\");\n",
       "    }\n",
       "    const paths = {\n",
       "      \"vega\": \"https://cdn.jsdelivr.net/npm//vega@5?noext\",\n",
       "      \"vega-lib\": \"https://cdn.jsdelivr.net/npm//vega-lib?noext\",\n",
       "      \"vega-lite\": \"https://cdn.jsdelivr.net/npm//vega-lite@4.8.1?noext\",\n",
       "      \"vega-embed\": \"https://cdn.jsdelivr.net/npm//vega-embed@6?noext\",\n",
       "    };\n",
       "\n",
       "    function loadScript(lib) {\n",
       "      return new Promise(function(resolve, reject) {\n",
       "        var s = document.createElement('script');\n",
       "        s.src = paths[lib];\n",
       "        s.async = true;\n",
       "        s.onload = () => resolve(paths[lib]);\n",
       "        s.onerror = () => reject(`Error loading script: ${paths[lib]}`);\n",
       "        document.getElementsByTagName(\"head\")[0].appendChild(s);\n",
       "      });\n",
       "    }\n",
       "\n",
       "    function showError(err) {\n",
       "      outputDiv.innerHTML = `<div class=\"error\" style=\"color:red;\">${err}</div>`;\n",
       "      throw err;\n",
       "    }\n",
       "\n",
       "    function displayChart(vegaEmbed) {\n",
       "      vegaEmbed(outputDiv, spec, embedOpt)\n",
       "        .catch(err => showError(`Javascript Error: ${err.message}<br>This usually means there's a typo in your chart specification. See the javascript console for the full traceback.`));\n",
       "    }\n",
       "\n",
       "    if(typeof define === \"function\" && define.amd) {\n",
       "      requirejs.config({paths});\n",
       "      require([\"vega-embed\"], displayChart, err => showError(`Error loading script: ${err.message}`));\n",
       "    } else if (typeof vegaEmbed === \"function\") {\n",
       "      displayChart(vegaEmbed);\n",
       "    } else {\n",
       "      loadScript(\"vega\")\n",
       "        .then(() => loadScript(\"vega-lite\"))\n",
       "        .then(() => loadScript(\"vega-embed\"))\n",
       "        .catch(showError)\n",
       "        .then(() => displayChart(vegaEmbed));\n",
       "    }\n",
       "  })({\"config\": {\"view\": {\"continuousWidth\": 400, \"continuousHeight\": 300}}, \"data\": {\"name\": \"data-76280be294f032a4d2b156bc4e6e33e1\"}, \"mark\": \"circle\", \"encoding\": {\"color\": {\"type\": \"nominal\", \"field\": \"ga*gc\"}, \"x\": {\"type\": \"quantitative\", \"field\": \"nPts\"}, \"y\": {\"type\": \"quantitative\", \"field\": \"time\"}}, \"selection\": {\"selector003\": {\"type\": \"interval\", \"bind\": \"scales\", \"encodings\": [\"x\", \"y\"]}}, \"$schema\": \"https://vega.github.io/schema/vega-lite/v4.8.1.json\", \"datasets\": {\"data-76280be294f032a4d2b156bc4e6e33e1\": [{\"nPts\": 499999, \"time\": 78.9438689999997, \"G_axes\": 3, \"G_color\": 5, \"ga*gc\": 15}, {\"nPts\": 499999, \"time\": 119.8955230000002, \"G_axes\": 3, \"G_color\": 221, \"ga*gc\": 663}, {\"nPts\": 499999, \"time\": 274.32963200000063, \"G_axes\": 3, \"G_color\": 11453, \"ga*gc\": 34359}, {\"nPts\": 499999, \"time\": 80.2191020000009, \"G_axes\": 5, \"G_color\": 3, \"ga*gc\": 15}, {\"nPts\": 499999, \"time\": 103.9248080000021, \"G_axes\": 5, \"G_color\": 221, \"ga*gc\": 1105}, {\"nPts\": 499999, \"time\": 313.01130099999955, \"G_axes\": 5, \"G_color\": 11453, \"ga*gc\": 57265}, {\"nPts\": 499999, \"time\": 101.520305000001, \"G_axes\": 221, \"G_color\": 3, \"ga*gc\": 663}, {\"nPts\": 499999, \"time\": 100.7681560000008, \"G_axes\": 221, \"G_color\": 5, \"ga*gc\": 1105}, {\"nPts\": 499999, \"time\": 4464.812295999998, \"G_axes\": 221, \"G_color\": 11453, \"ga*gc\": 2531113}, {\"nPts\": 499999, \"time\": 330.801220999998, \"G_axes\": 11453, \"G_color\": 3, \"ga*gc\": 34359}, {\"nPts\": 499999, \"time\": 346.16578500000014, \"G_axes\": 11453, \"G_color\": 5, \"ga*gc\": 57265}, {\"nPts\": 499999, \"time\": 5560.620498000002, \"G_axes\": 11453, \"G_color\": 221, \"ga*gc\": 2531113}, {\"nPts\": 711748, \"time\": 119.4586029999982, \"G_axes\": 3, \"G_color\": 5, \"ga*gc\": 15}, {\"nPts\": 711748, \"time\": 141.6949310000035, \"G_axes\": 3, \"G_color\": 221, \"ga*gc\": 663}, {\"nPts\": 711748, \"time\": 466.3260760000014, \"G_axes\": 3, \"G_color\": 11453, \"ga*gc\": 34359}, {\"nPts\": 711748, \"time\": 116.9381549999997, \"G_axes\": 5, \"G_color\": 3, \"ga*gc\": 15}, {\"nPts\": 711748, \"time\": 143.4366619999991, \"G_axes\": 5, \"G_color\": 221, \"ga*gc\": 1105}, {\"nPts\": 711748, \"time\": 401.1151690000005, \"G_axes\": 5, \"G_color\": 11453, \"ga*gc\": 57265}, {\"nPts\": 711748, \"time\": 152.1883469999991, \"G_axes\": 221, \"G_color\": 3, \"ga*gc\": 663}, {\"nPts\": 711748, \"time\": 137.2690260000055, \"G_axes\": 221, \"G_color\": 5, \"ga*gc\": 1105}, {\"nPts\": 711748, \"time\": 4459.324405000004, \"G_axes\": 221, \"G_color\": 11453, \"ga*gc\": 2531113}, {\"nPts\": 711748, \"time\": 419.1246030000002, \"G_axes\": 11453, \"G_color\": 3, \"ga*gc\": 34359}, {\"nPts\": 711748, \"time\": 431.4299409999975, \"G_axes\": 11453, \"G_color\": 5, \"ga*gc\": 57265}, {\"nPts\": 711748, \"time\": 5685.873682999997, \"G_axes\": 11453, \"G_color\": 221, \"ga*gc\": 2531113}, {\"nPts\": 1013173, \"time\": 153.5173129999947, \"G_axes\": 3, \"G_color\": 5, \"ga*gc\": 15}, {\"nPts\": 1013173, \"time\": 168.8235129999995, \"G_axes\": 3, \"G_color\": 221, \"ga*gc\": 663}, {\"nPts\": 1013173, \"time\": 500.17381100000335, \"G_axes\": 3, \"G_color\": 11453, \"ga*gc\": 34359}, {\"nPts\": 1013173, \"time\": 144.4978399999996, \"G_axes\": 5, \"G_color\": 3, \"ga*gc\": 15}, {\"nPts\": 1013173, \"time\": 181.4238729999999, \"G_axes\": 5, \"G_color\": 221, \"ga*gc\": 1105}, {\"nPts\": 1013173, \"time\": 520.496695999995, \"G_axes\": 5, \"G_color\": 11453, \"ga*gc\": 57265}, {\"nPts\": 1013173, \"time\": 174.0817860000021, \"G_axes\": 221, \"G_color\": 3, \"ga*gc\": 663}, {\"nPts\": 1013173, \"time\": 178.4778100000039, \"G_axes\": 221, \"G_color\": 5, \"ga*gc\": 1105}, {\"nPts\": 1013173, \"time\": 4502.447075000006, \"G_axes\": 221, \"G_color\": 11453, \"ga*gc\": 2531113}, {\"nPts\": 1013173, \"time\": 617.3692410000058, \"G_axes\": 11453, \"G_color\": 3, \"ga*gc\": 34359}, {\"nPts\": 1013173, \"time\": 529.2992140000052, \"G_axes\": 11453, \"G_color\": 5, \"ga*gc\": 57265}, {\"nPts\": 1013173, \"time\": 5788.244212999999, \"G_axes\": 11453, \"G_color\": 221, \"ga*gc\": 2531113}, {\"nPts\": 1442249, \"time\": 202.8319129999971, \"G_axes\": 3, \"G_color\": 5, \"ga*gc\": 15}, {\"nPts\": 1442249, \"time\": 236.7128169999972, \"G_axes\": 3, \"G_color\": 221, \"ga*gc\": 663}, {\"nPts\": 1442249, \"time\": 650.2218299999925, \"G_axes\": 3, \"G_color\": 11453, \"ga*gc\": 34359}, {\"nPts\": 1442249, \"time\": 194.1973899999993, \"G_axes\": 5, \"G_color\": 3, \"ga*gc\": 15}, {\"nPts\": 1442249, \"time\": 244.3288609999996, \"G_axes\": 5, \"G_color\": 221, \"ga*gc\": 1105}, {\"nPts\": 1442249, \"time\": 675.0407050000007, \"G_axes\": 5, \"G_color\": 11453, \"ga*gc\": 57265}, {\"nPts\": 1442249, \"time\": 228.1396780000051, \"G_axes\": 221, \"G_color\": 3, \"ga*gc\": 663}, {\"nPts\": 1442249, \"time\": 242.5782370000035, \"G_axes\": 221, \"G_color\": 5, \"ga*gc\": 1105}, {\"nPts\": 1442249, \"time\": 4737.244402000002, \"G_axes\": 221, \"G_color\": 11453, \"ga*gc\": 2531113}, {\"nPts\": 1442249, \"time\": 700.4551889999959, \"G_axes\": 11453, \"G_color\": 3, \"ga*gc\": 34359}, {\"nPts\": 1442249, \"time\": 714.1967790000052, \"G_axes\": 11453, \"G_color\": 5, \"ga*gc\": 57265}, {\"nPts\": 1442249, \"time\": 5957.976307999999, \"G_axes\": 11453, \"G_color\": 221, \"ga*gc\": 2531113}, {\"nPts\": 2053039, \"time\": 277.6500899999945, \"G_axes\": 3, \"G_color\": 5, \"ga*gc\": 15}, {\"nPts\": 2053039, \"time\": 322.7029990000005, \"G_axes\": 3, \"G_color\": 221, \"ga*gc\": 663}, {\"nPts\": 2053039, \"time\": 1019.0239020000007, \"G_axes\": 3, \"G_color\": 11453, \"ga*gc\": 34359}, {\"nPts\": 2053039, \"time\": 268.3068289999966, \"G_axes\": 5, \"G_color\": 3, \"ga*gc\": 15}, {\"nPts\": 2053039, \"time\": 320.0181140000069, \"G_axes\": 5, \"G_color\": 221, \"ga*gc\": 1105}, {\"nPts\": 2053039, \"time\": 916.3924309999912, \"G_axes\": 5, \"G_color\": 11453, \"ga*gc\": 57265}, {\"nPts\": 2053039, \"time\": 318.892525999999, \"G_axes\": 221, \"G_color\": 3, \"ga*gc\": 663}, {\"nPts\": 2053039, \"time\": 319.3846510000071, \"G_axes\": 221, \"G_color\": 5, \"ga*gc\": 1105}, {\"nPts\": 2053039, \"time\": 4918.549236000004, \"G_axes\": 221, \"G_color\": 11453, \"ga*gc\": 2531113}, {\"nPts\": 2053039, \"time\": 949.6752279999896, \"G_axes\": 11453, \"G_color\": 3, \"ga*gc\": 34359}, {\"nPts\": 2053039, \"time\": 929.139297000006, \"G_axes\": 11453, \"G_color\": 5, \"ga*gc\": 57265}, {\"nPts\": 2053039, \"time\": 6192.160382000013, \"G_axes\": 11453, \"G_color\": 221, \"ga*gc\": 2531113}, {\"nPts\": 2922496, \"time\": 400.4242419999855, \"G_axes\": 3, \"G_color\": 5, \"ga*gc\": 15}, {\"nPts\": 2922496, \"time\": 459.864997000011, \"G_axes\": 3, \"G_color\": 221, \"ga*gc\": 663}, {\"nPts\": 2922496, \"time\": 1216.487165000018, \"G_axes\": 3, \"G_color\": 11453, \"ga*gc\": 34359}, {\"nPts\": 2922496, \"time\": 371.3832679999882, \"G_axes\": 5, \"G_color\": 3, \"ga*gc\": 15}, {\"nPts\": 2922496, \"time\": 444.3061209999825, \"G_axes\": 5, \"G_color\": 221, \"ga*gc\": 1105}, {\"nPts\": 2922496, \"time\": 1271.3485000000162, \"G_axes\": 5, \"G_color\": 11453, \"ga*gc\": 57265}, {\"nPts\": 2922496, \"time\": 448.408594, \"G_axes\": 221, \"G_color\": 3, \"ga*gc\": 663}, {\"nPts\": 2922496, \"time\": 446.4701440000169, \"G_axes\": 221, \"G_color\": 5, \"ga*gc\": 1105}, {\"nPts\": 2922496, \"time\": 5281.473913000013, \"G_axes\": 221, \"G_color\": 11453, \"ga*gc\": 2531113}, {\"nPts\": 2922496, \"time\": 1426.4035070000034, \"G_axes\": 11453, \"G_color\": 3, \"ga*gc\": 34359}, {\"nPts\": 2922496, \"time\": 1263.5308440000017, \"G_axes\": 11453, \"G_color\": 5, \"ga*gc\": 57265}, {\"nPts\": 2922496, \"time\": 6502.164832999995, \"G_axes\": 11453, \"G_color\": 221, \"ga*gc\": 2531113}, {\"nPts\": 4160167, \"time\": 569.2684890000237, \"G_axes\": 3, \"G_color\": 5, \"ga*gc\": 15}, {\"nPts\": 4160167, \"time\": 609.434551999982, \"G_axes\": 3, \"G_color\": 221, \"ga*gc\": 663}, {\"nPts\": 4160167, \"time\": 1686.3776580000265, \"G_axes\": 3, \"G_color\": 11453, \"ga*gc\": 34359}, {\"nPts\": 4160167, \"time\": 513.7297489999924, \"G_axes\": 5, \"G_color\": 3, \"ga*gc\": 15}, {\"nPts\": 4160167, \"time\": 640.1272640000002, \"G_axes\": 5, \"G_color\": 221, \"ga*gc\": 1105}, {\"nPts\": 4160167, \"time\": 1739.036160000012, \"G_axes\": 5, \"G_color\": 11453, \"ga*gc\": 57265}, {\"nPts\": 4160167, \"time\": 613.6199190000013, \"G_axes\": 221, \"G_color\": 3, \"ga*gc\": 663}, {\"nPts\": 4160167, \"time\": 603.7917129999926, \"G_axes\": 221, \"G_color\": 5, \"ga*gc\": 1105}, {\"nPts\": 4160167, \"time\": 5944.579224999984, \"G_axes\": 221, \"G_color\": 11453, \"ga*gc\": 2531113}, {\"nPts\": 4160167, \"time\": 1763.5237419999896, \"G_axes\": 11453, \"G_color\": 3, \"ga*gc\": 34359}, {\"nPts\": 4160167, \"time\": 1730.8689079999908, \"G_axes\": 11453, \"G_color\": 5, \"ga*gc\": 57265}, {\"nPts\": 4160167, \"time\": 6939.695217000008, \"G_axes\": 11453, \"G_color\": 221, \"ga*gc\": 2531113}, {\"nPts\": 5921989, \"time\": 760.8240550000005, \"G_axes\": 3, \"G_color\": 5, \"ga*gc\": 15}, {\"nPts\": 5921989, \"time\": 851.9444279999959, \"G_axes\": 3, \"G_color\": 221, \"ga*gc\": 663}, {\"nPts\": 5921989, \"time\": 2641.145628000004, \"G_axes\": 3, \"G_color\": 11453, \"ga*gc\": 34359}, {\"nPts\": 5921989, \"time\": 764.7363730000052, \"G_axes\": 5, \"G_color\": 3, \"ga*gc\": 15}, {\"nPts\": 5921989, \"time\": 845.6659039999863, \"G_axes\": 5, \"G_color\": 221, \"ga*gc\": 1105}, {\"nPts\": 5921989, \"time\": 2393.492981999998, \"G_axes\": 5, \"G_color\": 11453, \"ga*gc\": 57265}, {\"nPts\": 5921989, \"time\": 851.1352149999993, \"G_axes\": 221, \"G_color\": 3, \"ga*gc\": 663}, {\"nPts\": 5921989, \"time\": 847.151077999996, \"G_axes\": 221, \"G_color\": 5, \"ga*gc\": 1105}, {\"nPts\": 5921989, \"time\": 6485.015838000009, \"G_axes\": 221, \"G_color\": 11453, \"ga*gc\": 2531113}, {\"nPts\": 5921989, \"time\": 2399.887925000002, \"G_axes\": 11453, \"G_color\": 3, \"ga*gc\": 34359}, {\"nPts\": 5921989, \"time\": 2414.5472049999908, \"G_axes\": 11453, \"G_color\": 5, \"ga*gc\": 57265}, {\"nPts\": 5921989, \"time\": 7701.564063999996, \"G_axes\": 11453, \"G_color\": 221, \"ga*gc\": 2531113}, {\"nPts\": 8429939, \"time\": 1071.1388070000112, \"G_axes\": 3, \"G_color\": 5, \"ga*gc\": 15}, {\"nPts\": 8429939, \"time\": 1211.939383000015, \"G_axes\": 3, \"G_color\": 221, \"ga*gc\": 663}, {\"nPts\": 8429939, \"time\": 3314.934458000039, \"G_axes\": 3, \"G_color\": 11453, \"ga*gc\": 34359}, {\"nPts\": 8429939, \"time\": 1037.866237000003, \"G_axes\": 5, \"G_color\": 3, \"ga*gc\": 15}, {\"nPts\": 8429939, \"time\": 1192.143672000043, \"G_axes\": 5, \"G_color\": 221, \"ga*gc\": 1105}, {\"nPts\": 8429939, \"time\": 3313.659857999994, \"G_axes\": 5, \"G_color\": 11453, \"ga*gc\": 57265}, {\"nPts\": 8429939, \"time\": 1186.8539550000037, \"G_axes\": 221, \"G_color\": 3, \"ga*gc\": 663}, {\"nPts\": 8429939, \"time\": 1194.7970489999875, \"G_axes\": 221, \"G_color\": 5, \"ga*gc\": 1105}, {\"nPts\": 8429939, \"time\": 7474.82517200001, \"G_axes\": 221, \"G_color\": 11453, \"ga*gc\": 2531113}, {\"nPts\": 8429939, \"time\": 3761.15400499998, \"G_axes\": 11453, \"G_color\": 3, \"ga*gc\": 34359}, {\"nPts\": 8429939, \"time\": 3330.1988740000183, \"G_axes\": 11453, \"G_color\": 5, \"ga*gc\": 57265}, {\"nPts\": 8429939, \"time\": 8733.914921000007, \"G_axes\": 11453, \"G_color\": 221, \"ga*gc\": 2531113}, {\"nPts\": 12000000, \"time\": 1528.5343040000043, \"G_axes\": 3, \"G_color\": 5, \"ga*gc\": 15}, {\"nPts\": 12000000, \"time\": 1695.2892509999629, \"G_axes\": 3, \"G_color\": 221, \"ga*gc\": 663}, {\"nPts\": 12000000, \"time\": 4633.822843000018, \"G_axes\": 3, \"G_color\": 11453, \"ga*gc\": 34359}, {\"nPts\": 12000000, \"time\": 1419.6976890000317, \"G_axes\": 5, \"G_color\": 3, \"ga*gc\": 15}, {\"nPts\": 12000000, \"time\": 1682.693540999992, \"G_axes\": 5, \"G_color\": 221, \"ga*gc\": 1105}, {\"nPts\": 12000000, \"time\": 4647.387127999991, \"G_axes\": 5, \"G_color\": 11453, \"ga*gc\": 57265}, {\"nPts\": 12000000, \"time\": 1683.835812999973, \"G_axes\": 221, \"G_color\": 3, \"ga*gc\": 663}, {\"nPts\": 12000000, \"time\": 1644.3104489999882, \"G_axes\": 221, \"G_color\": 5, \"ga*gc\": 1105}, {\"nPts\": 12000000, \"time\": 9323.849017999975, \"G_axes\": 221, \"G_color\": 11453, \"ga*gc\": 2531113}, {\"nPts\": 12000000, \"time\": 4639.411539000037, \"G_axes\": 11453, \"G_color\": 3, \"ga*gc\": 34359}, {\"nPts\": 12000000, \"time\": 4535.178212000005, \"G_axes\": 11453, \"G_color\": 5, \"ga*gc\": 57265}, {\"nPts\": 12000000, \"time\": 10126.151474000038, \"G_axes\": 11453, \"G_color\": 221, \"ga*gc\": 2531113}]}}, {\"mode\": \"vega-lite\"});\n",
       "</script>"
      ],
      "text/plain": [
       "alt.Chart(...)"
      ]
     },
     "execution_count": 97,
     "metadata": {},
     "output_type": "execute_result"
    }
   ],
   "source": [
    "alt.Chart(color_bar).mark_circle().encode(\n",
    "    y = \"time\",\n",
    "    x = \"nPts\",\n",
    "    color = alt.Color(\"ga*gc\",type=\"nominal\")\n",
    ").interactive()"
   ]
  },
  {
   "cell_type": "code",
   "execution_count": 98,
   "metadata": {},
   "outputs": [],
   "source": [
    "N = np.array(color_bar[\"nPts\"])\n",
    "G_axes = np.array(color_bar[\"G_axes\"])\n",
    "G_color = np.array(color_bar[\"G_color\"])\n",
    "y = np.array(color_bar[\"time\"])\n",
    "X = np.array([N,G_axes,G_color])"
   ]
  },
  {
   "cell_type": "code",
   "execution_count": 99,
   "metadata": {},
   "outputs": [],
   "source": [
    "from scipy.optimize import curve_fit\n",
    "def func(x, a, b,c,d,e,f,g):\n",
    "    return a + b * x[0] + c*x[1]+ d*x[2] +e*x[0]*x[1] + f*x[1]*x[2]  + g*x[0]*x[2]"
   ]
  },
  {
   "cell_type": "code",
   "execution_count": 100,
   "metadata": {},
   "outputs": [
    {
     "data": {
      "text/plain": [
       "array([ 3.71161713e+01,  1.27866029e-04,  2.01123956e-02, -1.81489405e-02,\n",
       "        2.21736120e-08,  1.88026625e-03,  2.29023360e-08])"
      ]
     },
     "execution_count": 100,
     "metadata": {},
     "output_type": "execute_result"
    }
   ],
   "source": [
    "popt, pcov = curve_fit(func, X,y)\n",
    "popt"
   ]
  },
  {
   "cell_type": "code",
   "execution_count": 101,
   "metadata": {},
   "outputs": [],
   "source": [
    "y_pred = func(X,*popt)"
   ]
  },
  {
   "cell_type": "code",
   "execution_count": 102,
   "metadata": {},
   "outputs": [
    {
     "name": "stdout",
     "output_type": "stream",
     "text": [
      "error: 40.59561254465439\n"
     ]
    }
   ],
   "source": [
    "perr = np.sqrt(np.diag(pcov))\n",
    "print (\"error:\", sum(perr))"
   ]
  },
  {
   "cell_type": "code",
   "execution_count": 103,
   "metadata": {},
   "outputs": [
    {
     "data": {
      "text/plain": [
       "[<matplotlib.lines.Line2D at 0x13f68eb90>]"
      ]
     },
     "execution_count": 103,
     "metadata": {},
     "output_type": "execute_result"
    },
    {
     "data": {
      "image/png": "[encoded data removed]",
      "text/plain": [
       "<Figure size 432x288 with 1 Axes>"
      ]
     },
     "metadata": {
      "needs_background": "light"
     },
     "output_type": "display_data"
    }
   ],
   "source": [
    "dim = 0\n",
    "plt.plot(X[dim],y,'o')\n",
    "plt.plot(X[dim],func(X,*popt),'o')"
   ]
  },
  {
   "cell_type": "markdown",
   "metadata": {},
   "source": [
    "### Histogram "
   ]
  },
  {
   "cell_type": "code",
   "execution_count": 104,
   "metadata": {},
   "outputs": [],
   "source": [
    "import altair as alt"
   ]
  },
  {
   "cell_type": "code",
   "execution_count": 105,
   "metadata": {},
   "outputs": [],
   "source": [
    "df = pd.read_csv(\"../result/costmodel_histogram.csv\")\n",
    "df[\"time\"] = df[\"time\"]*1000"
   ]
  },
  {
   "cell_type": "code",
   "execution_count": 106,
   "metadata": {},
   "outputs": [
    {
     "data": {
      "text/html": [
       "\n",
       "<div id=\"altair-viz-6c647d415d2744ac910159d40869e3e9\"></div>\n",
       "<script type=\"text/javascript\">\n",
       "  (function(spec, embedOpt){\n",
       "    let outputDiv = document.currentScript.previousElementSibling;\n",
       "    if (outputDiv.id !== \"altair-viz-6c647d415d2744ac910159d40869e3e9\") {\n",
       "      outputDiv = document.getElementById(\"altair-viz-6c647d415d2744ac910159d40869e3e9\");\n",
       "    }\n",
       "    const paths = {\n",
       "      \"vega\": \"https://cdn.jsdelivr.net/npm//vega@5?noext\",\n",
       "      \"vega-lib\": \"https://cdn.jsdelivr.net/npm//vega-lib?noext\",\n",
       "      \"vega-lite\": \"https://cdn.jsdelivr.net/npm//vega-lite@4.8.1?noext\",\n",
       "      \"vega-embed\": \"https://cdn.jsdelivr.net/npm//vega-embed@6?noext\",\n",
       "    };\n",
       "\n",
       "    function loadScript(lib) {\n",
       "      return new Promise(function(resolve, reject) {\n",
       "        var s = document.createElement('script');\n",
       "        s.src = paths[lib];\n",
       "        s.async = true;\n",
       "        s.onload = () => resolve(paths[lib]);\n",
       "        s.onerror = () => reject(`Error loading script: ${paths[lib]}`);\n",
       "        document.getElementsByTagName(\"head\")[0].appendChild(s);\n",
       "      });\n",
       "    }\n",
       "\n",
       "    function showError(err) {\n",
       "      outputDiv.innerHTML = `<div class=\"error\" style=\"color:red;\">${err}</div>`;\n",
       "      throw err;\n",
       "    }\n",
       "\n",
       "    function displayChart(vegaEmbed) {\n",
       "      vegaEmbed(outputDiv, spec, embedOpt)\n",
       "        .catch(err => showError(`Javascript Error: ${err.message}<br>This usually means there's a typo in your chart specification. See the javascript console for the full traceback.`));\n",
       "    }\n",
       "\n",
       "    if(typeof define === \"function\" && define.amd) {\n",
       "      requirejs.config({paths});\n",
       "      require([\"vega-embed\"], displayChart, err => showError(`Error loading script: ${err.message}`));\n",
       "    } else if (typeof vegaEmbed === \"function\") {\n",
       "      displayChart(vegaEmbed);\n",
       "    } else {\n",
       "      loadScript(\"vega\")\n",
       "        .then(() => loadScript(\"vega-lite\"))\n",
       "        .then(() => loadScript(\"vega-embed\"))\n",
       "        .catch(showError)\n",
       "        .then(() => displayChart(vegaEmbed));\n",
       "    }\n",
       "  })({\"config\": {\"view\": {\"continuousWidth\": 400, \"continuousHeight\": 300}}, \"data\": {\"name\": \"data-f137d66550ec9fbd731e3a2b70d77d92\"}, \"mark\": \"line\", \"encoding\": {\"color\": {\"type\": \"ordinal\", \"field\": \"nbin\"}, \"x\": {\"type\": \"quantitative\", \"field\": \"nPts\"}, \"y\": {\"type\": \"quantitative\", \"field\": \"time\"}}, \"$schema\": \"https://vega.github.io/schema/vega-lite/v4.8.1.json\", \"datasets\": {\"data-f137d66550ec9fbd731e3a2b70d77d92\": [{\"nPts\": 499999, \"time\": 10.4931390000011, \"nbin\": 5}, {\"nPts\": 499999, \"time\": 8.940153000001, \"nbin\": 15}, {\"nPts\": 499999, \"time\": 12.9954330000003, \"nbin\": 25}, {\"nPts\": 499999, \"time\": 9.3062910000014, \"nbin\": 35}, {\"nPts\": 499999, \"time\": 8.9517499999978, \"nbin\": 45}, {\"nPts\": 499999, \"time\": 12.8386520000027, \"nbin\": 55}, {\"nPts\": 499999, \"time\": 9.2600019999977, \"nbin\": 65}, {\"nPts\": 499999, \"time\": 11.1534800000008, \"nbin\": 75}, {\"nPts\": 499999, \"time\": 9.074346000002, \"nbin\": 85}, {\"nPts\": 499999, \"time\": 11.0321750000004, \"nbin\": 95}, {\"nPts\": 499999, \"time\": 10.3120079999996, \"nbin\": 105}, {\"nPts\": 499999, \"time\": 9.6660120000002, \"nbin\": 115}, {\"nPts\": 499999, \"time\": 8.718759000000599, \"nbin\": 125}, {\"nPts\": 499999, \"time\": 15.441153000001101, \"nbin\": 135}, {\"nPts\": 499999, \"time\": 10.9363479999977, \"nbin\": 145}, {\"nPts\": 499999, \"time\": 8.460645999999599, \"nbin\": 155}, {\"nPts\": 499999, \"time\": 9.234031000001801, \"nbin\": 165}, {\"nPts\": 499999, \"time\": 8.2293640000017, \"nbin\": 175}, {\"nPts\": 499999, \"time\": 9.0146440000005, \"nbin\": 185}, {\"nPts\": 499999, \"time\": 8.2603909999967, \"nbin\": 195}, {\"nPts\": 1106681, \"time\": 20.4241519999968, \"nbin\": 5}, {\"nPts\": 1106681, \"time\": 17.623456000002502, \"nbin\": 15}, {\"nPts\": 1106681, \"time\": 17.347342999997203, \"nbin\": 25}, {\"nPts\": 1106681, \"time\": 17.2536480000005, \"nbin\": 35}, {\"nPts\": 1106681, \"time\": 17.115988999997, \"nbin\": 45}, {\"nPts\": 1106681, \"time\": 23.083469999995902, \"nbin\": 55}, {\"nPts\": 1106681, \"time\": 16.696484999997, \"nbin\": 65}, {\"nPts\": 1106681, \"time\": 16.762897999996003, \"nbin\": 75}, {\"nPts\": 1106681, \"time\": 17.096088999998898, \"nbin\": 85}, {\"nPts\": 1106681, \"time\": 16.333729000002897, \"nbin\": 95}, {\"nPts\": 1106681, \"time\": 16.3804419999991, \"nbin\": 105}, {\"nPts\": 1106681, \"time\": 16.5647910000004, \"nbin\": 115}, {\"nPts\": 1106681, \"time\": 16.5788999999989, \"nbin\": 125}, {\"nPts\": 1106681, \"time\": 16.333172000003, \"nbin\": 135}, {\"nPts\": 1106681, \"time\": 17.1906839999991, \"nbin\": 145}, {\"nPts\": 1106681, \"time\": 16.809425999994602, \"nbin\": 155}, {\"nPts\": 1106681, \"time\": 16.4470639999976, \"nbin\": 165}, {\"nPts\": 1106681, \"time\": 16.2371600000028, \"nbin\": 175}, {\"nPts\": 1106681, \"time\": 16.3549080000038, \"nbin\": 185}, {\"nPts\": 1106681, \"time\": 16.4312160000008, \"nbin\": 195}, {\"nPts\": 2449489, \"time\": 40.2253560000005, \"nbin\": 5}, {\"nPts\": 2449489, \"time\": 39.848660000003996, \"nbin\": 15}, {\"nPts\": 2449489, \"time\": 47.6195330000024, \"nbin\": 25}, {\"nPts\": 2449489, \"time\": 43.1794759999988, \"nbin\": 35}, {\"nPts\": 2449489, \"time\": 37.459820000002196, \"nbin\": 45}, {\"nPts\": 2449489, \"time\": 37.8375660000003, \"nbin\": 55}, {\"nPts\": 2449489, \"time\": 38.3601839999983, \"nbin\": 65}, {\"nPts\": 2449489, \"time\": 40.6626279999997, \"nbin\": 75}, {\"nPts\": 2449489, \"time\": 39.5313300000026, \"nbin\": 85}, {\"nPts\": 2449489, \"time\": 39.132912999995895, \"nbin\": 95}, {\"nPts\": 2449489, \"time\": 42.6456300000026, \"nbin\": 105}, {\"nPts\": 2449489, \"time\": 38.0375849999978, \"nbin\": 115}, {\"nPts\": 2449489, \"time\": 38.9930799999973, \"nbin\": 125}, {\"nPts\": 2449489, \"time\": 38.4060929999989, \"nbin\": 135}, {\"nPts\": 2449489, \"time\": 36.7803199999983, \"nbin\": 145}, {\"nPts\": 2449489, \"time\": 38.0335669999993, \"nbin\": 155}, {\"nPts\": 2449489, \"time\": 37.6217230000008, \"nbin\": 165}, {\"nPts\": 2449489, \"time\": 36.7786979999991, \"nbin\": 175}, {\"nPts\": 2449489, \"time\": 38.885092000001, \"nbin\": 185}, {\"nPts\": 2449489, \"time\": 37.7558790000023, \"nbin\": 195}, {\"nPts\": 5421612, \"time\": 97.4828480000127, \"nbin\": 5}, {\"nPts\": 5421612, \"time\": 94.8163630000067, \"nbin\": 15}, {\"nPts\": 5421612, \"time\": 94.0839269999997, \"nbin\": 25}, {\"nPts\": 5421612, \"time\": 85.9526560000034, \"nbin\": 35}, {\"nPts\": 5421612, \"time\": 84.6531210000023, \"nbin\": 45}, {\"nPts\": 5421612, \"time\": 82.3810839999907, \"nbin\": 55}, {\"nPts\": 5421612, \"time\": 86.731327999999, \"nbin\": 65}, {\"nPts\": 5421612, \"time\": 82.6243380000022, \"nbin\": 75}, {\"nPts\": 5421612, \"time\": 89.8851159999907, \"nbin\": 85}, {\"nPts\": 5421612, \"time\": 81.2820379999976, \"nbin\": 95}, {\"nPts\": 5421612, \"time\": 86.5127299999954, \"nbin\": 105}, {\"nPts\": 5421612, \"time\": 112.1233410000002, \"nbin\": 115}, {\"nPts\": 5421612, \"time\": 113.264934, \"nbin\": 125}, {\"nPts\": 5421612, \"time\": 83.8534570000035, \"nbin\": 135}, {\"nPts\": 5421612, \"time\": 85.4248530000063, \"nbin\": 145}, {\"nPts\": 5421612, \"time\": 89.6165350000046, \"nbin\": 155}, {\"nPts\": 5421612, \"time\": 93.7817080000087, \"nbin\": 165}, {\"nPts\": 5421612, \"time\": 86.5906930000051, \"nbin\": 175}, {\"nPts\": 5421612, \"time\": 83.99656800000339, \"nbin\": 185}, {\"nPts\": 5421612, \"time\": 81.8478980000065, \"nbin\": 195}, {\"nPts\": 12000000, \"time\": 194.5196009999961, \"nbin\": 5}, {\"nPts\": 12000000, \"time\": 182.3424419999924, \"nbin\": 15}, {\"nPts\": 12000000, \"time\": 179.2102710000165, \"nbin\": 25}, {\"nPts\": 12000000, \"time\": 181.8445490000044, \"nbin\": 35}, {\"nPts\": 12000000, \"time\": 183.4027479999918, \"nbin\": 45}, {\"nPts\": 12000000, \"time\": 176.2142320000066, \"nbin\": 55}, {\"nPts\": 12000000, \"time\": 184.3806260000065, \"nbin\": 65}, {\"nPts\": 12000000, \"time\": 194.2049729999837, \"nbin\": 75}, {\"nPts\": 12000000, \"time\": 187.4404370000206, \"nbin\": 85}, {\"nPts\": 12000000, \"time\": 185.5101880000234, \"nbin\": 95}, {\"nPts\": 12000000, \"time\": 230.6649569999876, \"nbin\": 105}, {\"nPts\": 12000000, \"time\": 182.2122299999762, \"nbin\": 115}, {\"nPts\": 12000000, \"time\": 187.2540809999918, \"nbin\": 125}, {\"nPts\": 12000000, \"time\": 173.8678279999987, \"nbin\": 135}, {\"nPts\": 12000000, \"time\": 183.4083500000076, \"nbin\": 145}, {\"nPts\": 12000000, \"time\": 181.44535600001169, \"nbin\": 155}, {\"nPts\": 12000000, \"time\": 178.2054450000032, \"nbin\": 165}, {\"nPts\": 12000000, \"time\": 167.3553889999937, \"nbin\": 175}, {\"nPts\": 12000000, \"time\": 182.043880000009, \"nbin\": 185}, {\"nPts\": 12000000, \"time\": 181.9915190000074, \"nbin\": 195}]}}, {\"mode\": \"vega-lite\"});\n",
       "</script>"
      ],
      "text/plain": [
       "alt.Chart(...)"
      ]
     },
     "execution_count": 106,
     "metadata": {},
     "output_type": "execute_result"
    }
   ],
   "source": [
    "alt.Chart(df).mark_line().encode(\n",
    "    y = \"time\",\n",
    "    x = \"nPts\",\n",
    "    color = alt.Color(\"nbin\",type=\"ordinal\")\n",
    ")"
   ]
  },
  {
   "cell_type": "code",
   "execution_count": 107,
   "metadata": {},
   "outputs": [],
   "source": [
    "N = np.array(df[\"nPts\"])\n",
    "Nbin = np.array(df[\"nbin\"])\n",
    "y = np.array(df[\"time\"])\n",
    "X = np.array([N,Nbin])"
   ]
  },
  {
   "cell_type": "code",
   "execution_count": 108,
   "metadata": {},
   "outputs": [],
   "source": [
    "from scipy.optimize import curve_fit\n",
    "def func(x, a, b,c):\n",
    "    return a + b * x[0]+ c*x[1] #+ d*x[0]*x[1]"
   ]
  },
  {
   "cell_type": "code",
   "execution_count": 109,
   "metadata": {},
   "outputs": [
    {
     "data": {
      "text/plain": [
       "array([ 4.36379731e+00,  1.53415317e-05, -1.96817326e-02])"
      ]
     },
     "execution_count": 109,
     "metadata": {},
     "output_type": "execute_result"
    }
   ],
   "source": [
    "popt, pcov = curve_fit(func, X,y)\n",
    "popt"
   ]
  },
  {
   "cell_type": "code",
   "execution_count": 110,
   "metadata": {},
   "outputs": [],
   "source": [
    "y_pred = func(X,*popt)"
   ]
  },
  {
   "cell_type": "code",
   "execution_count": 111,
   "metadata": {},
   "outputs": [
    {
     "name": "stdout",
     "output_type": "stream",
     "text": [
      "error: 1.645726335000626\n"
     ]
    }
   ],
   "source": [
    "perr = np.sqrt(np.diag(pcov))\n",
    "print (\"error:\", sum(perr))"
   ]
  },
  {
   "cell_type": "code",
   "execution_count": 112,
   "metadata": {},
   "outputs": [
    {
     "data": {
      "text/plain": [
       "[<matplotlib.lines.Line2D at 0x13f6f5bd0>]"
      ]
     },
     "execution_count": 112,
     "metadata": {},
     "output_type": "execute_result"
    },
    {
     "data": {
      "image/png": "[encoded data removed]",
      "text/plain": [
       "<Figure size 432x288 with 1 Axes>"
      ]
     },
     "metadata": {
      "needs_background": "light"
     },
     "output_type": "display_data"
    }
   ],
   "source": [
    "dim = 0\n",
    "plt.plot(X[dim],y,'o')\n",
    "plt.plot(X[dim],func(X,*popt),'o')"
   ]
  },
  {
   "cell_type": "code",
   "execution_count": 113,
   "metadata": {},
   "outputs": [
    {
     "name": "stdout",
     "output_type": "stream",
     "text": [
      "Coefficients: [1.53415316e-05 2.39562438e+00]\n",
      "error: 5253.032837455612\n"
     ]
    }
   ],
   "source": [
    "# Verify that coefficient value is the same with linear fitting\n",
    "coeff, residuals, rank, singular_values, rcond = np.polyfit(N,y,1,full=True)\n",
    "print (\"Coefficients:\",coeff)\n",
    "print (\"error:\",residuals[0])"
   ]
  },
  {
   "cell_type": "markdown",
   "metadata": {},
   "source": [
    "Histogram processing speed has no dependence on the number of bins"
   ]
  },
  {
   "cell_type": "markdown",
   "metadata": {},
   "source": [
    "###  Heatmap Cost Model"
   ]
  },
  {
   "cell_type": "code",
   "execution_count": 114,
   "metadata": {},
   "outputs": [],
   "source": [
    "df = pd.read_csv(\"../result/costmodel_heatmap.csv\")\n",
    "df[\"time\"] = df[\"time\"]*1000\n",
    "df.nbin = df.nbin.astype(int)"
   ]
  },
  {
   "cell_type": "code",
   "execution_count": 115,
   "metadata": {},
   "outputs": [
    {
     "data": {
      "text/html": [
       "\n",
       "<div id=\"altair-viz-1bef6e0fdec34494be7cb4e79d79c80f\"></div>\n",
       "<script type=\"text/javascript\">\n",
       "  (function(spec, embedOpt){\n",
       "    let outputDiv = document.currentScript.previousElementSibling;\n",
       "    if (outputDiv.id !== \"altair-viz-1bef6e0fdec34494be7cb4e79d79c80f\") {\n",
       "      outputDiv = document.getElementById(\"altair-viz-1bef6e0fdec34494be7cb4e79d79c80f\");\n",
       "    }\n",
       "    const paths = {\n",
       "      \"vega\": \"https://cdn.jsdelivr.net/npm//vega@5?noext\",\n",
       "      \"vega-lib\": \"https://cdn.jsdelivr.net/npm//vega-lib?noext\",\n",
       "      \"vega-lite\": \"https://cdn.jsdelivr.net/npm//vega-lite@4.8.1?noext\",\n",
       "      \"vega-embed\": \"https://cdn.jsdelivr.net/npm//vega-embed@6?noext\",\n",
       "    };\n",
       "\n",
       "    function loadScript(lib) {\n",
       "      return new Promise(function(resolve, reject) {\n",
       "        var s = document.createElement('script');\n",
       "        s.src = paths[lib];\n",
       "        s.async = true;\n",
       "        s.onload = () => resolve(paths[lib]);\n",
       "        s.onerror = () => reject(`Error loading script: ${paths[lib]}`);\n",
       "        document.getElementsByTagName(\"head\")[0].appendChild(s);\n",
       "      });\n",
       "    }\n",
       "\n",
       "    function showError(err) {\n",
       "      outputDiv.innerHTML = `<div class=\"error\" style=\"color:red;\">${err}</div>`;\n",
       "      throw err;\n",
       "    }\n",
       "\n",
       "    function displayChart(vegaEmbed) {\n",
       "      vegaEmbed(outputDiv, spec, embedOpt)\n",
       "        .catch(err => showError(`Javascript Error: ${err.message}<br>This usually means there's a typo in your chart specification. See the javascript console for the full traceback.`));\n",
       "    }\n",
       "\n",
       "    if(typeof define === \"function\" && define.amd) {\n",
       "      requirejs.config({paths});\n",
       "      require([\"vega-embed\"], displayChart, err => showError(`Error loading script: ${err.message}`));\n",
       "    } else if (typeof vegaEmbed === \"function\") {\n",
       "      displayChart(vegaEmbed);\n",
       "    } else {\n",
       "      loadScript(\"vega\")\n",
       "        .then(() => loadScript(\"vega-lite\"))\n",
       "        .then(() => loadScript(\"vega-embed\"))\n",
       "        .catch(showError)\n",
       "        .then(() => displayChart(vegaEmbed));\n",
       "    }\n",
       "  })({\"config\": {\"view\": {\"continuousWidth\": 400, \"continuousHeight\": 300}}, \"data\": {\"name\": \"data-7aa38137e958c0343909898b8b7252d9\"}, \"mark\": \"line\", \"encoding\": {\"color\": {\"type\": \"ordinal\", \"field\": \"nbin\"}, \"row\": {\"type\": \"nominal\", \"field\": \"mark\"}, \"x\": {\"type\": \"quantitative\", \"field\": \"nPts\"}, \"y\": {\"type\": \"quantitative\", \"field\": \"time\"}}, \"$schema\": \"https://vega.github.io/schema/vega-lite/v4.8.1.json\", \"datasets\": {\"data-7aa38137e958c0343909898b8b7252d9\": [{\"nPts\": 499999, \"mark\": \"heatmap\", \"time\": 99.4758919999974, \"nbin\": 5}, {\"nPts\": 499999, \"mark\": \"quantitative color heatmap\", \"time\": 164.9379149999994, \"nbin\": 5}, {\"nPts\": 499999, \"mark\": \"categorical color heatmap\", \"time\": 254.1149510000018, \"nbin\": 5}, {\"nPts\": 499999, \"mark\": \"heatmap\", \"time\": 83.8853880000023, \"nbin\": 8}, {\"nPts\": 499999, \"mark\": \"quantitative color heatmap\", \"time\": 134.4608749999984, \"nbin\": 8}, {\"nPts\": 499999, \"mark\": \"categorical color heatmap\", \"time\": 314.1598039999991, \"nbin\": 8}, {\"nPts\": 499999, \"mark\": \"heatmap\", \"time\": 98.0867160000009, \"nbin\": 13}, {\"nPts\": 499999, \"mark\": \"quantitative color heatmap\", \"time\": 136.1399030000001, \"nbin\": 13}, {\"nPts\": 499999, \"mark\": \"categorical color heatmap\", \"time\": 262.3172499999988, \"nbin\": 13}, {\"nPts\": 499999, \"mark\": \"heatmap\", \"time\": 100.8211019999976, \"nbin\": 23}, {\"nPts\": 499999, \"mark\": \"quantitative color heatmap\", \"time\": 122.7030069999983, \"nbin\": 23}, {\"nPts\": 499999, \"mark\": \"categorical color heatmap\", \"time\": 286.5997620000016, \"nbin\": 23}, {\"nPts\": 499999, \"mark\": \"heatmap\", \"time\": 88.0658019999991, \"nbin\": 38}, {\"nPts\": 499999, \"mark\": \"quantitative color heatmap\", \"time\": 139.180851999999, \"nbin\": 38}, {\"nPts\": 499999, \"mark\": \"categorical color heatmap\", \"time\": 291.6028510000004, \"nbin\": 38}, {\"nPts\": 499999, \"mark\": \"heatmap\", \"time\": 122.4890900000019, \"nbin\": 64}, {\"nPts\": 499999, \"mark\": \"quantitative color heatmap\", \"time\": 135.3066789999992, \"nbin\": 64}, {\"nPts\": 499999, \"mark\": \"categorical color heatmap\", \"time\": 262.97384700000134, \"nbin\": 64}, {\"nPts\": 499999, \"mark\": \"heatmap\", \"time\": 79.7872909999988, \"nbin\": 107}, {\"nPts\": 499999, \"mark\": \"quantitative color heatmap\", \"time\": 125.45302999999919, \"nbin\": 107}, {\"nPts\": 499999, \"mark\": \"categorical color heatmap\", \"time\": 259.9425539999984, \"nbin\": 107}, {\"nPts\": 499999, \"mark\": \"heatmap\", \"time\": 99.2838489999989, \"nbin\": 179}, {\"nPts\": 499999, \"mark\": \"quantitative color heatmap\", \"time\": 148.8744240000024, \"nbin\": 179}, {\"nPts\": 499999, \"mark\": \"categorical color heatmap\", \"time\": 267.13091699999933, \"nbin\": 179}, {\"nPts\": 499999, \"mark\": \"heatmap\", \"time\": 91.9581450000031, \"nbin\": 299}, {\"nPts\": 499999, \"mark\": \"quantitative color heatmap\", \"time\": 133.59914000000109, \"nbin\": 299}, {\"nPts\": 499999, \"mark\": \"categorical color heatmap\", \"time\": 293.7659549999978, \"nbin\": 299}, {\"nPts\": 499999, \"mark\": \"heatmap\", \"time\": 91.7796760000015, \"nbin\": 499}, {\"nPts\": 499999, \"mark\": \"quantitative color heatmap\", \"time\": 124.9104299999999, \"nbin\": 499}, {\"nPts\": 499999, \"mark\": \"categorical color heatmap\", \"time\": 292.7491910000057, \"nbin\": 499}, {\"nPts\": 711748, \"mark\": \"heatmap\", \"time\": 126.37373799999799, \"nbin\": 5}, {\"nPts\": 711748, \"mark\": \"quantitative color heatmap\", \"time\": 174.0145719999972, \"nbin\": 5}, {\"nPts\": 711748, \"mark\": \"categorical color heatmap\", \"time\": 314.6665900000016, \"nbin\": 5}, {\"nPts\": 711748, \"mark\": \"heatmap\", \"time\": 115.5572509999984, \"nbin\": 8}, {\"nPts\": 711748, \"mark\": \"quantitative color heatmap\", \"time\": 163.3055280000022, \"nbin\": 8}, {\"nPts\": 711748, \"mark\": \"categorical color heatmap\", \"time\": 301.3652910000033, \"nbin\": 8}, {\"nPts\": 711748, \"mark\": \"heatmap\", \"time\": 178.3342259999969, \"nbin\": 13}, {\"nPts\": 711748, \"mark\": \"quantitative color heatmap\", \"time\": 161.1958000000015, \"nbin\": 13}, {\"nPts\": 711748, \"mark\": \"categorical color heatmap\", \"time\": 304.0645500000067, \"nbin\": 13}, {\"nPts\": 711748, \"mark\": \"heatmap\", \"time\": 117.6874629999957, \"nbin\": 23}, {\"nPts\": 711748, \"mark\": \"quantitative color heatmap\", \"time\": 155.3870000000046, \"nbin\": 23}, {\"nPts\": 711748, \"mark\": \"categorical color heatmap\", \"time\": 300.1987199999973, \"nbin\": 23}, {\"nPts\": 711748, \"mark\": \"heatmap\", \"time\": 117.258525000004, \"nbin\": 38}, {\"nPts\": 711748, \"mark\": \"quantitative color heatmap\", \"time\": 172.3915399999995, \"nbin\": 38}, {\"nPts\": 711748, \"mark\": \"categorical color heatmap\", \"time\": 312.1768110000005, \"nbin\": 38}, {\"nPts\": 711748, \"mark\": \"heatmap\", \"time\": 111.5183739999992, \"nbin\": 64}, {\"nPts\": 711748, \"mark\": \"quantitative color heatmap\", \"time\": 158.4191930000003, \"nbin\": 64}, {\"nPts\": 711748, \"mark\": \"categorical color heatmap\", \"time\": 335.2301130000015, \"nbin\": 64}, {\"nPts\": 711748, \"mark\": \"heatmap\", \"time\": 118.139296999999, \"nbin\": 107}, {\"nPts\": 711748, \"mark\": \"quantitative color heatmap\", \"time\": 165.130793000003, \"nbin\": 107}, {\"nPts\": 711748, \"mark\": \"categorical color heatmap\", \"time\": 322.1460950000008, \"nbin\": 107}, {\"nPts\": 711748, \"mark\": \"heatmap\", \"time\": 124.3171779999983, \"nbin\": 179}, {\"nPts\": 711748, \"mark\": \"quantitative color heatmap\", \"time\": 160.6589430000014, \"nbin\": 179}, {\"nPts\": 711748, \"mark\": \"categorical color heatmap\", \"time\": 320.5697540000045, \"nbin\": 179}, {\"nPts\": 711748, \"mark\": \"heatmap\", \"time\": 119.979844999996, \"nbin\": 299}, {\"nPts\": 711748, \"mark\": \"quantitative color heatmap\", \"time\": 154.1033789999986, \"nbin\": 299}, {\"nPts\": 711748, \"mark\": \"categorical color heatmap\", \"time\": 343.6169860000007, \"nbin\": 299}, {\"nPts\": 711748, \"mark\": \"heatmap\", \"time\": 147.9813989999954, \"nbin\": 499}, {\"nPts\": 711748, \"mark\": \"quantitative color heatmap\", \"time\": 161.18372700000089, \"nbin\": 499}, {\"nPts\": 711748, \"mark\": \"categorical color heatmap\", \"time\": 334.9131450000016, \"nbin\": 499}, {\"nPts\": 1013173, \"mark\": \"heatmap\", \"time\": 144.7884299999984, \"nbin\": 5}, {\"nPts\": 1013173, \"mark\": \"quantitative color heatmap\", \"time\": 254.623028999994, \"nbin\": 5}, {\"nPts\": 1013173, \"mark\": \"categorical color heatmap\", \"time\": 374.9605949999974, \"nbin\": 5}, {\"nPts\": 1013173, \"mark\": \"heatmap\", \"time\": 142.5672820000016, \"nbin\": 8}, {\"nPts\": 1013173, \"mark\": \"quantitative color heatmap\", \"time\": 185.6399230000036, \"nbin\": 8}, {\"nPts\": 1013173, \"mark\": \"categorical color heatmap\", \"time\": 376.7617920000035, \"nbin\": 8}, {\"nPts\": 1013173, \"mark\": \"heatmap\", \"time\": 141.1310229999998, \"nbin\": 13}, {\"nPts\": 1013173, \"mark\": \"quantitative color heatmap\", \"time\": 281.9275920000024, \"nbin\": 13}, {\"nPts\": 1013173, \"mark\": \"categorical color heatmap\", \"time\": 377.3379779999999, \"nbin\": 13}, {\"nPts\": 1013173, \"mark\": \"heatmap\", \"time\": 148.5769180000034, \"nbin\": 23}, {\"nPts\": 1013173, \"mark\": \"quantitative color heatmap\", \"time\": 192.7605389999982, \"nbin\": 23}, {\"nPts\": 1013173, \"mark\": \"categorical color heatmap\", \"time\": 398.8212669999953, \"nbin\": 23}, {\"nPts\": 1013173, \"mark\": \"heatmap\", \"time\": 147.8992799999972, \"nbin\": 38}, {\"nPts\": 1013173, \"mark\": \"quantitative color heatmap\", \"time\": 206.7920630000017, \"nbin\": 38}, {\"nPts\": 1013173, \"mark\": \"categorical color heatmap\", \"time\": 390.740375, \"nbin\": 38}, {\"nPts\": 1013173, \"mark\": \"heatmap\", \"time\": 153.5227780000028, \"nbin\": 64}, {\"nPts\": 1013173, \"mark\": \"quantitative color heatmap\", \"time\": 190.940734999998, \"nbin\": 64}, {\"nPts\": 1013173, \"mark\": \"categorical color heatmap\", \"time\": 379.9574329999942, \"nbin\": 64}, {\"nPts\": 1013173, \"mark\": \"heatmap\", \"time\": 171.5785700000012, \"nbin\": 107}, {\"nPts\": 1013173, \"mark\": \"quantitative color heatmap\", \"time\": 198.7643570000017, \"nbin\": 107}, {\"nPts\": 1013173, \"mark\": \"categorical color heatmap\", \"time\": 383.1434609999959, \"nbin\": 107}, {\"nPts\": 1013173, \"mark\": \"heatmap\", \"time\": 154.0348079999987, \"nbin\": 179}, {\"nPts\": 1013173, \"mark\": \"quantitative color heatmap\", \"time\": 190.752609999997, \"nbin\": 179}, {\"nPts\": 1013173, \"mark\": \"categorical color heatmap\", \"time\": 374.0540590000023, \"nbin\": 179}, {\"nPts\": 1013173, \"mark\": \"heatmap\", \"time\": 141.7423400000004, \"nbin\": 299}, {\"nPts\": 1013173, \"mark\": \"quantitative color heatmap\", \"time\": 194.4226669999977, \"nbin\": 299}, {\"nPts\": 1013173, \"mark\": \"categorical color heatmap\", \"time\": 368.9646759999974, \"nbin\": 299}, {\"nPts\": 1013173, \"mark\": \"heatmap\", \"time\": 141.5409760000017, \"nbin\": 499}, {\"nPts\": 1013173, \"mark\": \"quantitative color heatmap\", \"time\": 189.1891579999978, \"nbin\": 499}, {\"nPts\": 1013173, \"mark\": \"categorical color heatmap\", \"time\": 411.8214319999964, \"nbin\": 499}, {\"nPts\": 1442249, \"mark\": \"heatmap\", \"time\": 180.8314330000087, \"nbin\": 5}, {\"nPts\": 1442249, \"mark\": \"quantitative color heatmap\", \"time\": 284.5735609999877, \"nbin\": 5}, {\"nPts\": 1442249, \"mark\": \"categorical color heatmap\", \"time\": 484.6444119999944, \"nbin\": 5}, {\"nPts\": 1442249, \"mark\": \"heatmap\", \"time\": 167.4311209999928, \"nbin\": 8}, {\"nPts\": 1442249, \"mark\": \"quantitative color heatmap\", \"time\": 222.0136969999941, \"nbin\": 8}, {\"nPts\": 1442249, \"mark\": \"categorical color heatmap\", \"time\": 485.9249879999936, \"nbin\": 8}, {\"nPts\": 1442249, \"mark\": \"heatmap\", \"time\": 181.0735680000021, \"nbin\": 13}, {\"nPts\": 1442249, \"mark\": \"quantitative color heatmap\", \"time\": 225.953239000006, \"nbin\": 13}, {\"nPts\": 1442249, \"mark\": \"categorical color heatmap\", \"time\": 587.3319960000032, \"nbin\": 13}, {\"nPts\": 1442249, \"mark\": \"heatmap\", \"time\": 182.5378070000027, \"nbin\": 23}, {\"nPts\": 1442249, \"mark\": \"quantitative color heatmap\", \"time\": 213.8129889999902, \"nbin\": 23}, {\"nPts\": 1442249, \"mark\": \"categorical color heatmap\", \"time\": 483.5387219999916, \"nbin\": 23}, {\"nPts\": 1442249, \"mark\": \"heatmap\", \"time\": 180.6898019999891, \"nbin\": 38}, {\"nPts\": 1442249, \"mark\": \"quantitative color heatmap\", \"time\": 215.7023799999962, \"nbin\": 38}, {\"nPts\": 1442249, \"mark\": \"categorical color heatmap\", \"time\": 482.0481300000097, \"nbin\": 38}, {\"nPts\": 1442249, \"mark\": \"heatmap\", \"time\": 179.216113999999, \"nbin\": 64}, {\"nPts\": 1442249, \"mark\": \"quantitative color heatmap\", \"time\": 227.7534899999977, \"nbin\": 64}, {\"nPts\": 1442249, \"mark\": \"categorical color heatmap\", \"time\": 489.0764510000025, \"nbin\": 64}, {\"nPts\": 1442249, \"mark\": \"heatmap\", \"time\": 182.8772470000075, \"nbin\": 107}, {\"nPts\": 1442249, \"mark\": \"quantitative color heatmap\", \"time\": 251.6481920000046, \"nbin\": 107}, {\"nPts\": 1442249, \"mark\": \"categorical color heatmap\", \"time\": 472.3659329999918, \"nbin\": 107}, {\"nPts\": 1442249, \"mark\": \"heatmap\", \"time\": 180.4519239999962, \"nbin\": 179}, {\"nPts\": 1442249, \"mark\": \"quantitative color heatmap\", \"time\": 228.2979539999985, \"nbin\": 179}, {\"nPts\": 1442249, \"mark\": \"categorical color heatmap\", \"time\": 485.8408239999932, \"nbin\": 179}, {\"nPts\": 1442249, \"mark\": \"heatmap\", \"time\": 182.9077480000052, \"nbin\": 299}, {\"nPts\": 1442249, \"mark\": \"quantitative color heatmap\", \"time\": 236.2549080000064, \"nbin\": 299}, {\"nPts\": 1442249, \"mark\": \"categorical color heatmap\", \"time\": 481.6407510000005, \"nbin\": 299}, {\"nPts\": 1442249, \"mark\": \"heatmap\", \"time\": 181.8135179999984, \"nbin\": 499}, {\"nPts\": 1442249, \"mark\": \"quantitative color heatmap\", \"time\": 228.2184810000131, \"nbin\": 499}, {\"nPts\": 1442249, \"mark\": \"categorical color heatmap\", \"time\": 519.2661769999916, \"nbin\": 499}, {\"nPts\": 2053039, \"mark\": \"heatmap\", \"time\": 259.7335260000051, \"nbin\": 5}, {\"nPts\": 2053039, \"mark\": \"quantitative color heatmap\", \"time\": 524.6204880000107, \"nbin\": 5}, {\"nPts\": 2053039, \"mark\": \"categorical color heatmap\", \"time\": 702.8433520000021, \"nbin\": 5}, {\"nPts\": 2053039, \"mark\": \"heatmap\", \"time\": 267.4944600000088, \"nbin\": 8}, {\"nPts\": 2053039, \"mark\": \"quantitative color heatmap\", \"time\": 324.8241920000083, \"nbin\": 8}, {\"nPts\": 2053039, \"mark\": \"categorical color heatmap\", \"time\": 676.8161159999977, \"nbin\": 8}, {\"nPts\": 2053039, \"mark\": \"heatmap\", \"time\": 242.8813580000053, \"nbin\": 13}, {\"nPts\": 2053039, \"mark\": \"quantitative color heatmap\", \"time\": 303.980542000005, \"nbin\": 13}, {\"nPts\": 2053039, \"mark\": \"categorical color heatmap\", \"time\": 633.7462340000002, \"nbin\": 13}, {\"nPts\": 2053039, \"mark\": \"heatmap\", \"time\": 253.4323579999977, \"nbin\": 23}, {\"nPts\": 2053039, \"mark\": \"quantitative color heatmap\", \"time\": 424.0008539999991, \"nbin\": 23}, {\"nPts\": 2053039, \"mark\": \"categorical color heatmap\", \"time\": 639.6581870000091, \"nbin\": 23}, {\"nPts\": 2053039, \"mark\": \"heatmap\", \"time\": 246.6742149999987, \"nbin\": 38}, {\"nPts\": 2053039, \"mark\": \"quantitative color heatmap\", \"time\": 300.7955220000013, \"nbin\": 38}, {\"nPts\": 2053039, \"mark\": \"categorical color heatmap\", \"time\": 636.415748999994, \"nbin\": 38}, {\"nPts\": 2053039, \"mark\": \"heatmap\", \"time\": 238.1621540000082, \"nbin\": 64}, {\"nPts\": 2053039, \"mark\": \"quantitative color heatmap\", \"time\": 306.5402330000069, \"nbin\": 64}, {\"nPts\": 2053039, \"mark\": \"categorical color heatmap\", \"time\": 671.4329329999913, \"nbin\": 64}, {\"nPts\": 2053039, \"mark\": \"heatmap\", \"time\": 247.4016160000047, \"nbin\": 107}, {\"nPts\": 2053039, \"mark\": \"quantitative color heatmap\", \"time\": 301.7807290000007, \"nbin\": 107}, {\"nPts\": 2053039, \"mark\": \"categorical color heatmap\", \"time\": 629.1874409999991, \"nbin\": 107}, {\"nPts\": 2053039, \"mark\": \"heatmap\", \"time\": 273.6999770000068, \"nbin\": 179}, {\"nPts\": 2053039, \"mark\": \"quantitative color heatmap\", \"time\": 306.6180349999996, \"nbin\": 179}, {\"nPts\": 2053039, \"mark\": \"categorical color heatmap\", \"time\": 668.8219189999955, \"nbin\": 179}, {\"nPts\": 2053039, \"mark\": \"heatmap\", \"time\": 237.7151860000026, \"nbin\": 299}, {\"nPts\": 2053039, \"mark\": \"quantitative color heatmap\", \"time\": 308.034020000008, \"nbin\": 299}, {\"nPts\": 2053039, \"mark\": \"categorical color heatmap\", \"time\": 653.9197849999994, \"nbin\": 299}, {\"nPts\": 2053039, \"mark\": \"heatmap\", \"time\": 249.0573630000057, \"nbin\": 499}, {\"nPts\": 2053039, \"mark\": \"quantitative color heatmap\", \"time\": 303.3687880000002, \"nbin\": 499}, {\"nPts\": 2053039, \"mark\": \"categorical color heatmap\", \"time\": 638.3293789999982, \"nbin\": 499}, {\"nPts\": 2922496, \"mark\": \"heatmap\", \"time\": 320.4968659999991, \"nbin\": 5}, {\"nPts\": 2922496, \"mark\": \"quantitative color heatmap\", \"time\": 776.8610430000109, \"nbin\": 5}, {\"nPts\": 2922496, \"mark\": \"categorical color heatmap\", \"time\": 872.7243569999956, \"nbin\": 5}, {\"nPts\": 2922496, \"mark\": \"heatmap\", \"time\": 323.6782719999951, \"nbin\": 8}, {\"nPts\": 2922496, \"mark\": \"quantitative color heatmap\", \"time\": 390.8542100000005, \"nbin\": 8}, {\"nPts\": 2922496, \"mark\": \"categorical color heatmap\", \"time\": 892.0642770000029, \"nbin\": 8}, {\"nPts\": 2922496, \"mark\": \"heatmap\", \"time\": 324.0948389999971, \"nbin\": 13}, {\"nPts\": 2922496, \"mark\": \"quantitative color heatmap\", \"time\": 376.1770750000011, \"nbin\": 13}, {\"nPts\": 2922496, \"mark\": \"categorical color heatmap\", \"time\": 867.9699450000129, \"nbin\": 13}, {\"nPts\": 2922496, \"mark\": \"heatmap\", \"time\": 328.0504899999954, \"nbin\": 23}, {\"nPts\": 2922496, \"mark\": \"quantitative color heatmap\", \"time\": 388.855417000002, \"nbin\": 23}, {\"nPts\": 2922496, \"mark\": \"categorical color heatmap\", \"time\": 911.2704260000016, \"nbin\": 23}, {\"nPts\": 2922496, \"mark\": \"heatmap\", \"time\": 332.7229500000044, \"nbin\": 38}, {\"nPts\": 2922496, \"mark\": \"quantitative color heatmap\", \"time\": 388.4549939999999, \"nbin\": 38}, {\"nPts\": 2922496, \"mark\": \"categorical color heatmap\", \"time\": 873.0019160000069, \"nbin\": 38}, {\"nPts\": 2922496, \"mark\": \"heatmap\", \"time\": 334.3223279999989, \"nbin\": 64}, {\"nPts\": 2922496, \"mark\": \"quantitative color heatmap\", \"time\": 387.3688839999971, \"nbin\": 64}, {\"nPts\": 2922496, \"mark\": \"categorical color heatmap\", \"time\": 896.3362670000095, \"nbin\": 64}, {\"nPts\": 2922496, \"mark\": \"heatmap\", \"time\": 325.3548739999985, \"nbin\": 107}, {\"nPts\": 2922496, \"mark\": \"quantitative color heatmap\", \"time\": 378.1878029999888, \"nbin\": 107}, {\"nPts\": 2922496, \"mark\": \"categorical color heatmap\", \"time\": 900.0731320000028, \"nbin\": 107}, {\"nPts\": 2922496, \"mark\": \"heatmap\", \"time\": 342.0496429999957, \"nbin\": 179}, {\"nPts\": 2922496, \"mark\": \"quantitative color heatmap\", \"time\": 432.950689000009, \"nbin\": 179}, {\"nPts\": 2922496, \"mark\": \"categorical color heatmap\", \"time\": 938.1699230000038, \"nbin\": 179}, {\"nPts\": 2922496, \"mark\": \"heatmap\", \"time\": 346.9822059999927, \"nbin\": 299}, {\"nPts\": 2922496, \"mark\": \"quantitative color heatmap\", \"time\": 410.1599489999898, \"nbin\": 299}, {\"nPts\": 2922496, \"mark\": \"categorical color heatmap\", \"time\": 906.7534080000144, \"nbin\": 299}, {\"nPts\": 2922496, \"mark\": \"heatmap\", \"time\": 334.7742090000167, \"nbin\": 499}, {\"nPts\": 2922496, \"mark\": \"quantitative color heatmap\", \"time\": 382.7137469999968, \"nbin\": 499}, {\"nPts\": 2922496, \"mark\": \"categorical color heatmap\", \"time\": 917.6756489999888, \"nbin\": 499}, {\"nPts\": 4160167, \"mark\": \"heatmap\", \"time\": 471.9670419999886, \"nbin\": 5}, {\"nPts\": 4160167, \"mark\": \"quantitative color heatmap\", \"time\": 1035.1450489999934, \"nbin\": 5}, {\"nPts\": 4160167, \"mark\": \"categorical color heatmap\", \"time\": 1523.524320000007, \"nbin\": 5}, {\"nPts\": 4160167, \"mark\": \"heatmap\", \"time\": 467.927713999984, \"nbin\": 8}, {\"nPts\": 4160167, \"mark\": \"quantitative color heatmap\", \"time\": 545.0600119999933, \"nbin\": 8}, {\"nPts\": 4160167, \"mark\": \"categorical color heatmap\", \"time\": 1295.6695720000084, \"nbin\": 8}, {\"nPts\": 4160167, \"mark\": \"heatmap\", \"time\": 456.8296190000183, \"nbin\": 13}, {\"nPts\": 4160167, \"mark\": \"quantitative color heatmap\", \"time\": 527.433531999975, \"nbin\": 13}, {\"nPts\": 4160167, \"mark\": \"categorical color heatmap\", \"time\": 1257.6927449999855, \"nbin\": 13}, {\"nPts\": 4160167, \"mark\": \"heatmap\", \"time\": 455.8541189999801, \"nbin\": 23}, {\"nPts\": 4160167, \"mark\": \"quantitative color heatmap\", \"time\": 526.0238930000014, \"nbin\": 23}, {\"nPts\": 4160167, \"mark\": \"categorical color heatmap\", \"time\": 1305.9901459999992, \"nbin\": 23}, {\"nPts\": 4160167, \"mark\": \"heatmap\", \"time\": 468.6212750000038, \"nbin\": 38}, {\"nPts\": 4160167, \"mark\": \"quantitative color heatmap\", \"time\": 568.6662179999757, \"nbin\": 38}, {\"nPts\": 4160167, \"mark\": \"categorical color heatmap\", \"time\": 1309.9890120000168, \"nbin\": 38}, {\"nPts\": 4160167, \"mark\": \"heatmap\", \"time\": 451.257838999993, \"nbin\": 64}, {\"nPts\": 4160167, \"mark\": \"quantitative color heatmap\", \"time\": 544.3206190000183, \"nbin\": 64}, {\"nPts\": 4160167, \"mark\": \"categorical color heatmap\", \"time\": 1232.3673489999862, \"nbin\": 64}, {\"nPts\": 4160167, \"mark\": \"heatmap\", \"time\": 443.5968319999972, \"nbin\": 107}, {\"nPts\": 4160167, \"mark\": \"quantitative color heatmap\", \"time\": 518.0096009999886, \"nbin\": 107}, {\"nPts\": 4160167, \"mark\": \"categorical color heatmap\", \"time\": 1279.030812000002, \"nbin\": 107}, {\"nPts\": 4160167, \"mark\": \"heatmap\", \"time\": 479.2808710000145, \"nbin\": 179}, {\"nPts\": 4160167, \"mark\": \"quantitative color heatmap\", \"time\": 521.2801209999895, \"nbin\": 179}, {\"nPts\": 4160167, \"mark\": \"categorical color heatmap\", \"time\": 1263.7610639999934, \"nbin\": 179}, {\"nPts\": 4160167, \"mark\": \"heatmap\", \"time\": 514.7882040000127, \"nbin\": 299}, {\"nPts\": 4160167, \"mark\": \"quantitative color heatmap\", \"time\": 539.4588119999923, \"nbin\": 299}, {\"nPts\": 4160167, \"mark\": \"categorical color heatmap\", \"time\": 1226.1603419999858, \"nbin\": 299}, {\"nPts\": 4160167, \"mark\": \"heatmap\", \"time\": 454.4007249999993, \"nbin\": 499}, {\"nPts\": 4160167, \"mark\": \"quantitative color heatmap\", \"time\": 515.0229900000056, \"nbin\": 499}, {\"nPts\": 4160167, \"mark\": \"categorical color heatmap\", \"time\": 1264.3470719999923, \"nbin\": 499}, {\"nPts\": 5921989, \"mark\": \"heatmap\", \"time\": 627.42948799999, \"nbin\": 5}, {\"nPts\": 5921989, \"mark\": \"quantitative color heatmap\", \"time\": 1255.2002749999929, \"nbin\": 5}, {\"nPts\": 5921989, \"mark\": \"categorical color heatmap\", \"time\": 1766.2538969999844, \"nbin\": 5}, {\"nPts\": 5921989, \"mark\": \"heatmap\", \"time\": 629.4261130000223, \"nbin\": 8}, {\"nPts\": 5921989, \"mark\": \"quantitative color heatmap\", \"time\": 1008.4674639999776, \"nbin\": 8}, {\"nPts\": 5921989, \"mark\": \"categorical color heatmap\", \"time\": 1692.5985820000164, \"nbin\": 8}, {\"nPts\": 5921989, \"mark\": \"heatmap\", \"time\": 602.1681169999908, \"nbin\": 13}, {\"nPts\": 5921989, \"mark\": \"quantitative color heatmap\", \"time\": 693.613374999984, \"nbin\": 13}, {\"nPts\": 5921989, \"mark\": \"categorical color heatmap\", \"time\": 1727.9547250000178, \"nbin\": 13}, {\"nPts\": 5921989, \"mark\": \"heatmap\", \"time\": 626.658735999996, \"nbin\": 23}, {\"nPts\": 5921989, \"mark\": \"quantitative color heatmap\", \"time\": 690.001202000019, \"nbin\": 23}, {\"nPts\": 5921989, \"mark\": \"categorical color heatmap\", \"time\": 1689.316630999997, \"nbin\": 23}, {\"nPts\": 5921989, \"mark\": \"heatmap\", \"time\": 609.169167999994, \"nbin\": 38}, {\"nPts\": 5921989, \"mark\": \"quantitative color heatmap\", \"time\": 697.3148179999953, \"nbin\": 38}, {\"nPts\": 5921989, \"mark\": \"categorical color heatmap\", \"time\": 1727.4143310000056, \"nbin\": 38}, {\"nPts\": 5921989, \"mark\": \"heatmap\", \"time\": 603.9958900000215, \"nbin\": 64}, {\"nPts\": 5921989, \"mark\": \"quantitative color heatmap\", \"time\": 680.1213009999856, \"nbin\": 64}, {\"nPts\": 5921989, \"mark\": \"categorical color heatmap\", \"time\": 1658.862720999991, \"nbin\": 64}, {\"nPts\": 5921989, \"mark\": \"heatmap\", \"time\": 610.4406389999895, \"nbin\": 107}, {\"nPts\": 5921989, \"mark\": \"quantitative color heatmap\", \"time\": 677.8294369999855, \"nbin\": 107}, {\"nPts\": 5921989, \"mark\": \"categorical color heatmap\", \"time\": 1670.4108369999917, \"nbin\": 107}, {\"nPts\": 5921989, \"mark\": \"heatmap\", \"time\": 596.9018209999888, \"nbin\": 179}, {\"nPts\": 5921989, \"mark\": \"quantitative color heatmap\", \"time\": 679.9957229999904, \"nbin\": 179}, {\"nPts\": 5921989, \"mark\": \"categorical color heatmap\", \"time\": 1671.6966160000195, \"nbin\": 179}, {\"nPts\": 5921989, \"mark\": \"heatmap\", \"time\": 608.5334710000154, \"nbin\": 299}, {\"nPts\": 5921989, \"mark\": \"quantitative color heatmap\", \"time\": 710.3612690000034, \"nbin\": 299}, {\"nPts\": 5921989, \"mark\": \"categorical color heatmap\", \"time\": 1683.5190669999918, \"nbin\": 299}, {\"nPts\": 5921989, \"mark\": \"heatmap\", \"time\": 600.7101890000115, \"nbin\": 499}, {\"nPts\": 5921989, \"mark\": \"quantitative color heatmap\", \"time\": 674.121638999992, \"nbin\": 499}, {\"nPts\": 5921989, \"mark\": \"categorical color heatmap\", \"time\": 1685.0057210000102, \"nbin\": 499}, {\"nPts\": 8429939, \"mark\": \"heatmap\", \"time\": 840.2431480000132, \"nbin\": 5}, {\"nPts\": 8429939, \"mark\": \"quantitative color heatmap\", \"time\": 1880.5489979999948, \"nbin\": 5}, {\"nPts\": 8429939, \"mark\": \"categorical color heatmap\", \"time\": 2367.772717999969, \"nbin\": 5}, {\"nPts\": 8429939, \"mark\": \"heatmap\", \"time\": 841.550165000001, \"nbin\": 8}, {\"nPts\": 8429939, \"mark\": \"quantitative color heatmap\", \"time\": 927.5493749999556, \"nbin\": 8}, {\"nPts\": 8429939, \"mark\": \"categorical color heatmap\", \"time\": 2688.450353999997, \"nbin\": 8}, {\"nPts\": 8429939, \"mark\": \"heatmap\", \"time\": 843.8862269999845, \"nbin\": 13}, {\"nPts\": 8429939, \"mark\": \"quantitative color heatmap\", \"time\": 962.7679750000198, \"nbin\": 13}, {\"nPts\": 8429939, \"mark\": \"categorical color heatmap\", \"time\": 2386.740817000032, \"nbin\": 13}, {\"nPts\": 8429939, \"mark\": \"heatmap\", \"time\": 842.9901709999967, \"nbin\": 23}, {\"nPts\": 8429939, \"mark\": \"quantitative color heatmap\", \"time\": 977.1629569999618, \"nbin\": 23}, {\"nPts\": 8429939, \"mark\": \"categorical color heatmap\", \"time\": 2328.0907960000263, \"nbin\": 23}, {\"nPts\": 8429939, \"mark\": \"heatmap\", \"time\": 842.8059799999801, \"nbin\": 38}, {\"nPts\": 8429939, \"mark\": \"quantitative color heatmap\", \"time\": 950.4711630000317, \"nbin\": 38}, {\"nPts\": 8429939, \"mark\": \"categorical color heatmap\", \"time\": 2389.129306999962, \"nbin\": 38}, {\"nPts\": 8429939, \"mark\": \"heatmap\", \"time\": 873.9105200000381, \"nbin\": 64}, {\"nPts\": 8429939, \"mark\": \"quantitative color heatmap\", \"time\": 965.716274999977, \"nbin\": 64}, {\"nPts\": 8429939, \"mark\": \"categorical color heatmap\", \"time\": 2335.9765540000126, \"nbin\": 64}, {\"nPts\": 8429939, \"mark\": \"heatmap\", \"time\": 839.757947999999, \"nbin\": 107}, {\"nPts\": 8429939, \"mark\": \"quantitative color heatmap\", \"time\": 939.7410450000052, \"nbin\": 107}, {\"nPts\": 8429939, \"mark\": \"categorical color heatmap\", \"time\": 2407.522698999969, \"nbin\": 107}, {\"nPts\": 8429939, \"mark\": \"heatmap\", \"time\": 844.0575199999785, \"nbin\": 179}, {\"nPts\": 8429939, \"mark\": \"quantitative color heatmap\", \"time\": 930.439932000013, \"nbin\": 179}, {\"nPts\": 8429939, \"mark\": \"categorical color heatmap\", \"time\": 2399.663490000023, \"nbin\": 179}, {\"nPts\": 8429939, \"mark\": \"heatmap\", \"time\": 842.4898019999887, \"nbin\": 299}, {\"nPts\": 8429939, \"mark\": \"quantitative color heatmap\", \"time\": 970.0588929999868, \"nbin\": 299}, {\"nPts\": 8429939, \"mark\": \"categorical color heatmap\", \"time\": 2408.9798059999907, \"nbin\": 299}, {\"nPts\": 8429939, \"mark\": \"heatmap\", \"time\": 882.2391260000018, \"nbin\": 499}, {\"nPts\": 8429939, \"mark\": \"quantitative color heatmap\", \"time\": 946.4231540000014, \"nbin\": 499}, {\"nPts\": 8429939, \"mark\": \"categorical color heatmap\", \"time\": 2364.631760000009, \"nbin\": 499}, {\"nPts\": 12000000, \"mark\": \"heatmap\", \"time\": 1163.0054980000182, \"nbin\": 5}, {\"nPts\": 12000000, \"mark\": \"quantitative color heatmap\", \"time\": 2347.332681000012, \"nbin\": 5}, {\"nPts\": 12000000, \"mark\": \"categorical color heatmap\", \"time\": 3346.797745999993, \"nbin\": 5}, {\"nPts\": 12000000, \"mark\": \"heatmap\", \"time\": 1286.727496000026, \"nbin\": 8}, {\"nPts\": 12000000, \"mark\": \"quantitative color heatmap\", \"time\": 1264.042269000015, \"nbin\": 8}, {\"nPts\": 12000000, \"mark\": \"categorical color heatmap\", \"time\": 3311.388942999997, \"nbin\": 8}, {\"nPts\": 12000000, \"mark\": \"heatmap\", \"time\": 1190.6286180000052, \"nbin\": 13}, {\"nPts\": 12000000, \"mark\": \"quantitative color heatmap\", \"time\": 1698.657738999998, \"nbin\": 13}, {\"nPts\": 12000000, \"mark\": \"categorical color heatmap\", \"time\": 3287.666852999962, \"nbin\": 13}, {\"nPts\": 12000000, \"mark\": \"heatmap\", \"time\": 1170.9443650000253, \"nbin\": 23}, {\"nPts\": 12000000, \"mark\": \"quantitative color heatmap\", \"time\": 1286.4362120000123, \"nbin\": 23}, {\"nPts\": 12000000, \"mark\": \"categorical color heatmap\", \"time\": 3331.294168999989, \"nbin\": 23}, {\"nPts\": 12000000, \"mark\": \"heatmap\", \"time\": 1196.260332999998, \"nbin\": 38}, {\"nPts\": 12000000, \"mark\": \"quantitative color heatmap\", \"time\": 1304.8706010000046, \"nbin\": 38}, {\"nPts\": 12000000, \"mark\": \"categorical color heatmap\", \"time\": 3340.2956779999613, \"nbin\": 38}, {\"nPts\": 12000000, \"mark\": \"heatmap\", \"time\": 1165.7468210000277, \"nbin\": 64}, {\"nPts\": 12000000, \"mark\": \"quantitative color heatmap\", \"time\": 1299.9818000000118, \"nbin\": 64}, {\"nPts\": 12000000, \"mark\": \"categorical color heatmap\", \"time\": 3379.2833130000304, \"nbin\": 64}, {\"nPts\": 12000000, \"mark\": \"heatmap\", \"time\": 1241.2978219999786, \"nbin\": 107}, {\"nPts\": 12000000, \"mark\": \"quantitative color heatmap\", \"time\": 1320.5526590000431, \"nbin\": 107}, {\"nPts\": 12000000, \"mark\": \"categorical color heatmap\", \"time\": 3317.0164140000225, \"nbin\": 107}, {\"nPts\": 12000000, \"mark\": \"heatmap\", \"time\": 1192.0310969999832, \"nbin\": 179}, {\"nPts\": 12000000, \"mark\": \"quantitative color heatmap\", \"time\": 1329.3629959999862, \"nbin\": 179}, {\"nPts\": 12000000, \"mark\": \"categorical color heatmap\", \"time\": 3352.729540999974, \"nbin\": 179}, {\"nPts\": 12000000, \"mark\": \"heatmap\", \"time\": 1175.3718920000438, \"nbin\": 299}, {\"nPts\": 12000000, \"mark\": \"quantitative color heatmap\", \"time\": 1310.0072750000322, \"nbin\": 299}, {\"nPts\": 12000000, \"mark\": \"categorical color heatmap\", \"time\": 3353.149789999975, \"nbin\": 299}, {\"nPts\": 12000000, \"mark\": \"heatmap\", \"time\": 1249.074635999989, \"nbin\": 499}, {\"nPts\": 12000000, \"mark\": \"quantitative color heatmap\", \"time\": 1300.0559170000088, \"nbin\": 499}, {\"nPts\": 12000000, \"mark\": \"categorical color heatmap\", \"time\": 3467.8327470000454, \"nbin\": 499}]}}, {\"mode\": \"vega-lite\"});\n",
       "</script>"
      ],
      "text/plain": [
       "alt.Chart(...)"
      ]
     },
     "execution_count": 115,
     "metadata": {},
     "output_type": "execute_result"
    }
   ],
   "source": [
    "alt.Chart(df).mark_line().encode(\n",
    "    y = \"time\",\n",
    "    x = \"nPts\",\n",
    "    color = alt.Color(\"nbin\",type=\"ordinal\"),\n",
    "    row=\"mark\"\n",
    ")"
   ]
  },
  {
   "cell_type": "code",
   "execution_count": 116,
   "metadata": {},
   "outputs": [],
   "source": [
    "vdf = df[df[\"mark\"]==\"heatmap\"]"
   ]
  },
  {
   "cell_type": "code",
   "execution_count": 117,
   "metadata": {},
   "outputs": [],
   "source": [
    "N = np.array(vdf[\"nPts\"])\n",
    "# Ncells = np.array(vdf[\"nbin\"]**2)\n",
    "Nbins = np.array(vdf[\"nbin\"])\n",
    "y = np.array(vdf[\"time\"])\n",
    "X = np.array([N,Nbins])"
   ]
  },
  {
   "cell_type": "code",
   "execution_count": 118,
   "metadata": {},
   "outputs": [],
   "source": [
    "from scipy.optimize import curve_fit\n",
    "def func(x, a, b,c):\n",
    "    return a + b * x[0]+ c*x[1]"
   ]
  },
  {
   "cell_type": "code",
   "execution_count": 119,
   "metadata": {},
   "outputs": [
    {
     "name": "stdout",
     "output_type": "stream",
     "text": [
      "coefficient: [5.07470064e+01 9.55437912e-05 1.36897843e-02]\n"
     ]
    }
   ],
   "source": [
    "popt, pcov = curve_fit(func, X,y)\n",
    "print (\"coefficient:\", popt)"
   ]
  },
  {
   "cell_type": "code",
   "execution_count": 120,
   "metadata": {},
   "outputs": [],
   "source": [
    "y_pred = func(X,*popt)"
   ]
  },
  {
   "cell_type": "code",
   "execution_count": 121,
   "metadata": {},
   "outputs": [
    {
     "name": "stdout",
     "output_type": "stream",
     "text": [
      "error: 3.2573058382160025\n"
     ]
    }
   ],
   "source": [
    "perr = np.sqrt(np.diag(pcov))\n",
    "print (\"error:\", sum(perr))"
   ]
  },
  {
   "cell_type": "code",
   "execution_count": 123,
   "metadata": {},
   "outputs": [
    {
     "data": {
      "text/plain": [
       "[<matplotlib.lines.Line2D at 0x13f73af50>]"
      ]
     },
     "execution_count": 123,
     "metadata": {},
     "output_type": "execute_result"
    },
    {
     "data": {
      "image/png": "[encoded data removed]",
      "text/plain": [
       "<Figure size 432x288 with 1 Axes>"
      ]
     },
     "metadata": {
      "needs_background": "light"
     },
     "output_type": "display_data"
    }
   ],
   "source": [
    "dim = 0\n",
    "plt.plot(X[dim],y,'o')\n",
    "plt.plot(X[dim],func(X,*popt),'o')"
   ]
  },
  {
   "cell_type": "code",
   "execution_count": 124,
   "metadata": {},
   "outputs": [
    {
     "data": {
      "text/plain": [
       "[<matplotlib.lines.Line2D at 0x13f818450>]"
      ]
     },
     "execution_count": 124,
     "metadata": {},
     "output_type": "execute_result"
    },
    {
     "data": {
      "image/png": "[encoded data removed]",
      "text/plain": [
       "<Figure size 432x288 with 1 Axes>"
      ]
     },
     "metadata": {
      "needs_background": "light"
     },
     "output_type": "display_data"
    }
   ],
   "source": [
    "dim = 1\n",
    "plt.plot(X[dim],y,'o')\n",
    "plt.plot(X[dim],func(X,*popt),'o')"
   ]
  },
  {
   "cell_type": "markdown",
   "metadata": {},
   "source": [
    "- Heatmap processing time is also not very dependent on number of bins/cells. It is also not strongly dependent on the number of data points since the data has already been binned into fixed number of cells"
   ]
  },
  {
   "cell_type": "code",
   "execution_count": 125,
   "metadata": {},
   "outputs": [],
   "source": [
    "vdf = df[df[\"mark\"]==\"categorical color heatmap\"]"
   ]
  },
  {
   "cell_type": "code",
   "execution_count": 126,
   "metadata": {},
   "outputs": [],
   "source": [
    "N = np.array(vdf[\"nPts\"])\n",
    "# Ncells = np.array(vdf[\"nbin\"]**2)\n",
    "Nbins = np.array(vdf[\"nbin\"])\n",
    "y = np.array(vdf[\"time\"])\n",
    "X = np.array([N,Nbins])\n",
    "def func(x, a, b,c):\n",
    "    return a + b * x[0]+ c*x[1]# + d * x[0]*x[1]"
   ]
  },
  {
   "cell_type": "code",
   "execution_count": 127,
   "metadata": {},
   "outputs": [
    {
     "name": "stdout",
     "output_type": "stream",
     "text": [
      "coefficient: [1.22412562e+02 2.69503900e-04 3.30109590e-03]\n"
     ]
    }
   ],
   "source": [
    "popt, pcov = curve_fit(func, X,y)\n",
    "print (\"coefficient:\", popt)"
   ]
  },
  {
   "cell_type": "code",
   "execution_count": 128,
   "metadata": {},
   "outputs": [],
   "source": [
    "y_pred = func(X,*popt)"
   ]
  },
  {
   "cell_type": "code",
   "execution_count": 129,
   "metadata": {},
   "outputs": [
    {
     "name": "stdout",
     "output_type": "stream",
     "text": [
      "error: 8.829847880069996\n"
     ]
    }
   ],
   "source": [
    "perr = np.sqrt(np.diag(pcov))\n",
    "print (\"error:\", sum(perr))"
   ]
  },
  {
   "cell_type": "code",
   "execution_count": 130,
   "metadata": {},
   "outputs": [
    {
     "data": {
      "text/plain": [
       "[<matplotlib.lines.Line2D at 0x13f8859d0>]"
      ]
     },
     "execution_count": 130,
     "metadata": {},
     "output_type": "execute_result"
    },
    {
     "data": {
      "image/png": "[encoded data removed]",
      "text/plain": [
       "<Figure size 432x288 with 1 Axes>"
      ]
     },
     "metadata": {
      "needs_background": "light"
     },
     "output_type": "display_data"
    }
   ],
   "source": [
    "plt.plot(X[dim],y,'o')\n",
    "plt.plot(X[dim],func(X,*popt),'o')"
   ]
  },
  {
   "cell_type": "code",
   "execution_count": 131,
   "metadata": {},
   "outputs": [],
   "source": [
    "vdf = df[df[\"mark\"]==\"quantitative color heatmap\"]"
   ]
  },
  {
   "cell_type": "code",
   "execution_count": 132,
   "metadata": {},
   "outputs": [
    {
     "name": "stdout",
     "output_type": "stream",
     "text": [
      "coefficient: [ 1.20181577e+02  1.13792537e-04 -2.36860258e-01]\n"
     ]
    }
   ],
   "source": [
    "N = np.array(vdf[\"nPts\"])\n",
    "# Ncells = np.array(vdf[\"nbin\"]**2)\n",
    "Nbins = np.array(vdf[\"nbin\"])\n",
    "y = np.array(vdf[\"time\"])\n",
    "X = np.array([N,Nbins])\n",
    "def func(x, a, b,c):\n",
    "    return a + b * x[0]+ c*x[1]# + d * x[0]*x[1]\n",
    "\n",
    "popt, pcov = curve_fit(func, X,y)\n",
    "print (\"coefficient:\", popt)"
   ]
  },
  {
   "cell_type": "code",
   "execution_count": 133,
   "metadata": {},
   "outputs": [],
   "source": [
    "y_pred = func(X,*popt)"
   ]
  },
  {
   "cell_type": "code",
   "execution_count": 134,
   "metadata": {},
   "outputs": [
    {
     "name": "stdout",
     "output_type": "stream",
     "text": [
      "error: 26.97405146276705\n"
     ]
    }
   ],
   "source": [
    "perr = np.sqrt(np.diag(pcov))\n",
    "print (\"error:\", sum(perr))"
   ]
  },
  {
   "cell_type": "code",
   "execution_count": 135,
   "metadata": {},
   "outputs": [
    {
     "data": {
      "text/plain": [
       "[<matplotlib.lines.Line2D at 0x13f8fb4d0>]"
      ]
     },
     "execution_count": 135,
     "metadata": {},
     "output_type": "execute_result"
    },
    {
     "data": {
      "image/png": "[encoded data removed]",
      "text/plain": [
       "<Figure size 432x288 with 1 Axes>"
      ]
     },
     "metadata": {
      "needs_background": "light"
     },
     "output_type": "display_data"
    }
   ],
   "source": [
    "dim = 0\n",
    "plt.plot(X[dim],y,'o')\n",
    "plt.plot(X[dim],func(X,*popt),'o')"
   ]
  }
 ],
 "metadata": {
  "kernelspec": {
   "display_name": "Python 3",
   "language": "python",
   "name": "python3"
  },
  "language_info": {
   "codemirror_mode": {
    "name": "ipython",
    "version": 3
   },
   "file_extension": ".py",
   "mimetype": "text/x-python",
   "name": "python",
   "nbconvert_exporter": "python",
   "pygments_lexer": "ipython3",
   "version": "3.7.7"
  }
 },
 "nbformat": 4,
 "nbformat_minor": 4
}
