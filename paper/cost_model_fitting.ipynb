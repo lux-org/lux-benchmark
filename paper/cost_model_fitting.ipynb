{
 "cells": [
  {
   "cell_type": "code",
   "execution_count": 1,
   "metadata": {},
   "outputs": [],
   "source": [
    "import pandas as pd\n",
    "import matplotlib.pyplot as plt\n",
    "import numpy as np"
   ]
  },
  {
   "cell_type": "markdown",
   "metadata": {},
   "source": [
    "### Scatterplot Cost Model"
   ]
  },
  {
   "cell_type": "code",
   "execution_count": 3,
   "metadata": {},
   "outputs": [],
   "source": [
    "df = pd.read_csv(\"../result/old_results/vis_lookup.csv\")"
   ]
  },
  {
   "cell_type": "code",
   "execution_count": 4,
   "metadata": {},
   "outputs": [],
   "source": [
    "x = np.array(df[\"nPts\"])\n",
    "y = np.array(df[\"scatter\"])*1000\n",
    "coeff, residuals, rank, singular_values, rcond = np.polyfit(x,y,1,full=True)"
   ]
  },
  {
   "cell_type": "code",
   "execution_count": 5,
   "metadata": {},
   "outputs": [
    {
     "name": "stdout",
     "output_type": "stream",
     "text": [
      "Coefficients: [3.64040264e-06 1.62985618e+00]\n",
      "error: 37.346860494897136\n"
     ]
    }
   ],
   "source": [
    "print (\"Coefficients:\",coeff)\n",
    "print (\"error:\",residuals[0])"
   ]
  },
  {
   "cell_type": "code",
   "execution_count": 6,
   "metadata": {},
   "outputs": [
    {
     "data": {
      "text/plain": [
       "[<matplotlib.lines.Line2D at 0x129950510>]"
      ]
     },
     "execution_count": 6,
     "metadata": {},
     "output_type": "execute_result"
    },
    {
     "data": {
      "image/png": "[encoded data removed]",
      "text/plain": [
       "<Figure size 432x288 with 1 Axes>"
      ]
     },
     "metadata": {
      "needs_background": "light"
     },
     "output_type": "display_data"
    }
   ],
   "source": [
    "a = coeff[0]\n",
    "b = coeff[1]\n",
    "y_pred = a*x+b\n",
    "plt.plot(x,y,'.')\n",
    "plt.plot(x,y_pred,'-')"
   ]
  },
  {
   "cell_type": "markdown",
   "metadata": {},
   "source": [
    "### Colored Scatterplot Cost Model"
   ]
  },
  {
   "cell_type": "code",
   "execution_count": 12,
   "metadata": {},
   "outputs": [],
   "source": [
    "x = np.array(df[\"nPts\"])\n",
    "y = np.array(df[\"color_scatter\"])*1000\n",
    "coeff, residuals, rank, singular_values, rcond = np.polyfit(x,y,1,full=True)"
   ]
  },
  {
   "cell_type": "code",
   "execution_count": 13,
   "metadata": {},
   "outputs": [
    {
     "name": "stdout",
     "output_type": "stream",
     "text": [
      "Coefficients: [7.80722797e-05 4.63295120e+01]\n",
      "error: 15069.071758295197\n"
     ]
    }
   ],
   "source": [
    "print (\"Coefficients:\",coeff)\n",
    "print (\"error:\",residuals[0])"
   ]
  },
  {
   "cell_type": "code",
   "execution_count": 14,
   "metadata": {},
   "outputs": [
    {
     "data": {
      "text/plain": [
       "[<matplotlib.lines.Line2D at 0x129b3a790>]"
      ]
     },
     "execution_count": 14,
     "metadata": {},
     "output_type": "execute_result"
    },
    {
     "data": {
      "image/png": "[encoded data removed]",
      "text/plain": [
       "<Figure size 432x288 with 1 Axes>"
      ]
     },
     "metadata": {
      "needs_background": "light"
     },
     "output_type": "display_data"
    }
   ],
   "source": [
    "a = coeff[0]\n",
    "b = coeff[1]\n",
    "y_pred = a*x+b\n",
    "plt.plot(x,y,'.')\n",
    "plt.plot(x,y_pred,'-')"
   ]
  },
  {
   "cell_type": "markdown",
   "metadata": {},
   "source": [
    "### Bar Chart Cost model "
   ]
  },
  {
   "cell_type": "code",
   "execution_count": 318,
   "metadata": {},
   "outputs": [],
   "source": [
    "df = pd.read_csv(\"../result/bar_processing.csv\")\n",
    "df[\"time\"] = df[\"time\"]*1000\n",
    "bar = df[(df[\"G_color\"]==0)]"
   ]
  },
  {
   "cell_type": "code",
   "execution_count": 319,
   "metadata": {},
   "outputs": [
    {
     "data": {
      "text/html": [
       "\n",
       "<div id=\"altair-viz-848167ac9c17428aa34239c1ed6edf12\"></div>\n",
       "<script type=\"text/javascript\">\n",
       "  (function(spec, embedOpt){\n",
       "    let outputDiv = document.currentScript.previousElementSibling;\n",
       "    if (outputDiv.id !== \"altair-viz-848167ac9c17428aa34239c1ed6edf12\") {\n",
       "      outputDiv = document.getElementById(\"altair-viz-848167ac9c17428aa34239c1ed6edf12\");\n",
       "    }\n",
       "    const paths = {\n",
       "      \"vega\": \"https://cdn.jsdelivr.net/npm//vega@5?noext\",\n",
       "      \"vega-lib\": \"https://cdn.jsdelivr.net/npm//vega-lib?noext\",\n",
       "      \"vega-lite\": \"https://cdn.jsdelivr.net/npm//vega-lite@4.8.1?noext\",\n",
       "      \"vega-embed\": \"https://cdn.jsdelivr.net/npm//vega-embed@6?noext\",\n",
       "    };\n",
       "\n",
       "    function loadScript(lib) {\n",
       "      return new Promise(function(resolve, reject) {\n",
       "        var s = document.createElement('script');\n",
       "        s.src = paths[lib];\n",
       "        s.async = true;\n",
       "        s.onload = () => resolve(paths[lib]);\n",
       "        s.onerror = () => reject(`Error loading script: ${paths[lib]}`);\n",
       "        document.getElementsByTagName(\"head\")[0].appendChild(s);\n",
       "      });\n",
       "    }\n",
       "\n",
       "    function showError(err) {\n",
       "      outputDiv.innerHTML = `<div class=\"error\" style=\"color:red;\">${err}</div>`;\n",
       "      throw err;\n",
       "    }\n",
       "\n",
       "    function displayChart(vegaEmbed) {\n",
       "      vegaEmbed(outputDiv, spec, embedOpt)\n",
       "        .catch(err => showError(`Javascript Error: ${err.message}<br>This usually means there's a typo in your chart specification. See the javascript console for the full traceback.`));\n",
       "    }\n",
       "\n",
       "    if(typeof define === \"function\" && define.amd) {\n",
       "      requirejs.config({paths});\n",
       "      require([\"vega-embed\"], displayChart, err => showError(`Error loading script: ${err.message}`));\n",
       "    } else if (typeof vegaEmbed === \"function\") {\n",
       "      displayChart(vegaEmbed);\n",
       "    } else {\n",
       "      loadScript(\"vega\")\n",
       "        .then(() => loadScript(\"vega-lite\"))\n",
       "        .then(() => loadScript(\"vega-embed\"))\n",
       "        .catch(showError)\n",
       "        .then(() => displayChart(vegaEmbed));\n",
       "    }\n",
       "  })({\"config\": {\"view\": {\"continuousWidth\": 400, \"continuousHeight\": 300}}, \"data\": {\"name\": \"data-c02c96af36ca051aa0ad8357b97dc8b3\"}, \"mark\": \"circle\", \"encoding\": {\"color\": {\"type\": \"nominal\", \"field\": \"G_axes\"}, \"x\": {\"type\": \"quantitative\", \"field\": \"nPts\"}, \"y\": {\"type\": \"quantitative\", \"field\": \"time\"}}, \"$schema\": \"https://vega.github.io/schema/vega-lite/v4.8.1.json\", \"datasets\": {\"data-c02c96af36ca051aa0ad8357b97dc8b3\": [{\"nPts\": 499999, \"mark\": \"bar\", \"time\": 49.880386999998095, \"G_axes\": 3, \"G_color\": 0}, {\"nPts\": 499999, \"mark\": \"bar\", \"time\": 55.3202879999972, \"G_axes\": 5, \"G_color\": 0}, {\"nPts\": 499999, \"mark\": \"bar\", \"time\": 64.5216889999993, \"G_axes\": 221, \"G_color\": 0}, {\"nPts\": 499999, \"mark\": \"bar\", \"time\": 206.5616299999995, \"G_axes\": 11453, \"G_color\": 0}, {\"nPts\": 499999, \"mark\": \"bar\", \"time\": 391.1960900000011, \"G_axes\": 47904, \"G_color\": 0}, {\"nPts\": 787305, \"mark\": \"bar\", \"time\": 112.8650009999887, \"G_axes\": 3, \"G_color\": 0}, {\"nPts\": 787305, \"mark\": \"bar\", \"time\": 105.9499760000051, \"G_axes\": 5, \"G_color\": 0}, {\"nPts\": 787305, \"mark\": \"bar\", \"time\": 120.5186140000051, \"G_axes\": 221, \"G_color\": 0}, {\"nPts\": 787305, \"mark\": \"bar\", \"time\": 351.0457539999976, \"G_axes\": 11453, \"G_color\": 0}, {\"nPts\": 787305, \"mark\": \"bar\", \"time\": 545.9573239999997, \"G_axes\": 47906, \"G_color\": 0}, {\"nPts\": 1239698, \"mark\": \"bar\", \"time\": 121.9490360000037, \"G_axes\": 3, \"G_color\": 0}, {\"nPts\": 1239698, \"mark\": \"bar\", \"time\": 98.8818170000058, \"G_axes\": 5, \"G_color\": 0}, {\"nPts\": 1239698, \"mark\": \"bar\", \"time\": 136.6481409999949, \"G_axes\": 221, \"G_color\": 0}, {\"nPts\": 1239698, \"mark\": \"bar\", \"time\": 473.7815849999975, \"G_axes\": 11453, \"G_color\": 0}, {\"nPts\": 1239698, \"mark\": \"bar\", \"time\": 785.2468669999979, \"G_axes\": 47906, \"G_color\": 0}, {\"nPts\": 1952041, \"mark\": \"bar\", \"time\": 152.2053669999934, \"G_axes\": 3, \"G_color\": 0}, {\"nPts\": 1952041, \"mark\": \"bar\", \"time\": 156.2928179999971, \"G_axes\": 5, \"G_color\": 0}, {\"nPts\": 1952041, \"mark\": \"bar\", \"time\": 187.1693660000062, \"G_axes\": 221, \"G_color\": 0}, {\"nPts\": 1952041, \"mark\": \"bar\", \"time\": 723.2160060000012, \"G_axes\": 11453, \"G_color\": 0}, {\"nPts\": 1952041, \"mark\": \"bar\", \"time\": 1152.8178559999844, \"G_axes\": 47906, \"G_color\": 0}, {\"nPts\": 3073704, \"mark\": \"bar\", \"time\": 228.6632900000142, \"G_axes\": 3, \"G_color\": 0}, {\"nPts\": 3073704, \"mark\": \"bar\", \"time\": 200.4157819999932, \"G_axes\": 5, \"G_color\": 0}, {\"nPts\": 3073704, \"mark\": \"bar\", \"time\": 289.5142019999923, \"G_axes\": 221, \"G_color\": 0}, {\"nPts\": 3073704, \"mark\": \"bar\", \"time\": 1052.6181439999789, \"G_axes\": 11453, \"G_color\": 0}, {\"nPts\": 3073704, \"mark\": \"bar\", \"time\": 1730.1457029999767, \"G_axes\": 47906, \"G_color\": 0}, {\"nPts\": 4839886, \"mark\": \"bar\", \"time\": 352.5004669999703, \"G_axes\": 3, \"G_color\": 0}, {\"nPts\": 4839886, \"mark\": \"bar\", \"time\": 305.7196489999683, \"G_axes\": 5, \"G_color\": 0}, {\"nPts\": 4839886, \"mark\": \"bar\", \"time\": 420.3541709999854, \"G_axes\": 221, \"G_color\": 0}, {\"nPts\": 4839886, \"mark\": \"bar\", \"time\": 1719.720800999994, \"G_axes\": 11453, \"G_color\": 0}, {\"nPts\": 4839886, \"mark\": \"bar\", \"time\": 2660.8999799999538, \"G_axes\": 47906, \"G_color\": 0}, {\"nPts\": 7620934, \"mark\": \"bar\", \"time\": 473.4257570000295, \"G_axes\": 3, \"G_color\": 0}, {\"nPts\": 7620934, \"mark\": \"bar\", \"time\": 467.0473289999677, \"G_axes\": 5, \"G_color\": 0}, {\"nPts\": 7620934, \"mark\": \"bar\", \"time\": 657.0984239999689, \"G_axes\": 221, \"G_color\": 0}, {\"nPts\": 7620934, \"mark\": \"bar\", \"time\": 2599.1196119999813, \"G_axes\": 11453, \"G_color\": 0}, {\"nPts\": 7620934, \"mark\": \"bar\", \"time\": 4079.2067950000046, \"G_axes\": 47906, \"G_color\": 0}, {\"nPts\": 12000000, \"mark\": \"bar\", \"time\": 810.2936559999989, \"G_axes\": 3, \"G_color\": 0}, {\"nPts\": 12000000, \"mark\": \"bar\", \"time\": 765.6988840000167, \"G_axes\": 5, \"G_color\": 0}, {\"nPts\": 12000000, \"mark\": \"bar\", \"time\": 1097.2370100000717, \"G_axes\": 221, \"G_color\": 0}, {\"nPts\": 12000000, \"mark\": \"bar\", \"time\": 4314.728445000014, \"G_axes\": 11453, \"G_color\": 0}, {\"nPts\": 12000000, \"mark\": \"bar\", \"time\": 6211.64540399991, \"G_axes\": 47906, \"G_color\": 0}]}}, {\"mode\": \"vega-lite\"});\n",
       "</script>"
      ],
      "text/plain": [
       "alt.Chart(...)"
      ]
     },
     "execution_count": 319,
     "metadata": {},
     "output_type": "execute_result"
    }
   ],
   "source": [
    "import altair as alt\n",
    "\n",
    "alt.Chart(bar).mark_circle().encode(\n",
    "    y = \"time\",\n",
    "    x = \"nPts\",\n",
    "    color = alt.Color(\"G_axes\",type=\"nominal\"),\n",
    ")"
   ]
  },
  {
   "cell_type": "code",
   "execution_count": 370,
   "metadata": {},
   "outputs": [],
   "source": [
    "N = np.array(bar[\"nPts\"])\n",
    "G_axes = np.array(bar[\"G_axes\"])\n",
    "y = np.array(bar[\"time\"])\n",
    "X = np.array([N,G_axes])"
   ]
  },
  {
   "cell_type": "code",
   "execution_count": 378,
   "metadata": {},
   "outputs": [],
   "source": [
    "from scipy.optimize import curve_fit\n",
    "def func(x, a, b,c,d):\n",
    "    return a + b * x[0] +c*x[0]*x[1] + d*x[1]"
   ]
  },
  {
   "cell_type": "code",
   "execution_count": 379,
   "metadata": {},
   "outputs": [
    {
     "data": {
      "text/plain": [
       "array([2.19393501e+01, 1.05243718e-04, 9.10971279e-09, 2.78259770e-03])"
      ]
     },
     "execution_count": 379,
     "metadata": {},
     "output_type": "execute_result"
    }
   ],
   "source": [
    "popt, pcov = curve_fit(func, X,y)\n",
    "popt"
   ]
  },
  {
   "cell_type": "code",
   "execution_count": 380,
   "metadata": {},
   "outputs": [],
   "source": [
    "y_pred = func(X,*popt)"
   ]
  },
  {
   "cell_type": "code",
   "execution_count": 381,
   "metadata": {},
   "outputs": [
    {
     "name": "stdout",
     "output_type": "stream",
     "text": [
      "error: 110.76966046959961\n"
     ]
    }
   ],
   "source": [
    "perr = np.sqrt(np.diag(pcov))\n",
    "print (\"error:\", sum(perr))"
   ]
  },
  {
   "cell_type": "code",
   "execution_count": 382,
   "metadata": {},
   "outputs": [
    {
     "data": {
      "text/plain": [
       "[<matplotlib.lines.Line2D at 0x13fbaba90>]"
      ]
     },
     "execution_count": 382,
     "metadata": {},
     "output_type": "execute_result"
    },
    {
     "data": {
      "image/png": "[encoded data removed]",
      "text/plain": [
       "<Figure size 432x288 with 1 Axes>"
      ]
     },
     "metadata": {
      "needs_background": "light"
     },
     "output_type": "display_data"
    }
   ],
   "source": [
    "dim = 0\n",
    "plt.plot(X[dim],y,'o')\n",
    "plt.plot(X[dim],func(X,*popt),'o')"
   ]
  },
  {
   "cell_type": "markdown",
   "metadata": {},
   "source": [
    "### Color Bar Chart Cost Model\n"
   ]
  },
  {
   "cell_type": "code",
   "execution_count": 326,
   "metadata": {},
   "outputs": [],
   "source": [
    "df = pd.read_csv(\"../result/bar_processing.csv\")\n",
    "df[\"time\"] = df[\"time\"]*1000\n",
    "color_bar = df[(df[\"G_color\"]!=0)]"
   ]
  },
  {
   "cell_type": "code",
   "execution_count": 327,
   "metadata": {},
   "outputs": [
    {
     "name": "stderr",
     "output_type": "stream",
     "text": [
      "/Users/dorislee/.virtualenvs/lux/lib/python3.7/site-packages/ipykernel_launcher.py:1: SettingWithCopyWarning: \n",
      "A value is trying to be set on a copy of a slice from a DataFrame.\n",
      "Try using .loc[row_indexer,col_indexer] = value instead\n",
      "\n",
      "See the caveats in the documentation: https://pandas.pydata.org/pandas-docs/stable/user_guide/indexing.html#returning-a-view-versus-a-copy\n",
      "  \"\"\"Entry point for launching an IPython kernel.\n"
     ]
    }
   ],
   "source": [
    "color_bar[\"ga*gc\"]=color_bar[\"G_axes\"]*color_bar[\"G_color\"]"
   ]
  },
  {
   "cell_type": "code",
   "execution_count": 328,
   "metadata": {},
   "outputs": [
    {
     "data": {
      "text/html": [
       "\n",
       "<div id=\"altair-viz-e038841645b741dc85fd594054ab2756\"></div>\n",
       "<script type=\"text/javascript\">\n",
       "  (function(spec, embedOpt){\n",
       "    let outputDiv = document.currentScript.previousElementSibling;\n",
       "    if (outputDiv.id !== \"altair-viz-e038841645b741dc85fd594054ab2756\") {\n",
       "      outputDiv = document.getElementById(\"altair-viz-e038841645b741dc85fd594054ab2756\");\n",
       "    }\n",
       "    const paths = {\n",
       "      \"vega\": \"https://cdn.jsdelivr.net/npm//vega@5?noext\",\n",
       "      \"vega-lib\": \"https://cdn.jsdelivr.net/npm//vega-lib?noext\",\n",
       "      \"vega-lite\": \"https://cdn.jsdelivr.net/npm//vega-lite@4.8.1?noext\",\n",
       "      \"vega-embed\": \"https://cdn.jsdelivr.net/npm//vega-embed@6?noext\",\n",
       "    };\n",
       "\n",
       "    function loadScript(lib) {\n",
       "      return new Promise(function(resolve, reject) {\n",
       "        var s = document.createElement('script');\n",
       "        s.src = paths[lib];\n",
       "        s.async = true;\n",
       "        s.onload = () => resolve(paths[lib]);\n",
       "        s.onerror = () => reject(`Error loading script: ${paths[lib]}`);\n",
       "        document.getElementsByTagName(\"head\")[0].appendChild(s);\n",
       "      });\n",
       "    }\n",
       "\n",
       "    function showError(err) {\n",
       "      outputDiv.innerHTML = `<div class=\"error\" style=\"color:red;\">${err}</div>`;\n",
       "      throw err;\n",
       "    }\n",
       "\n",
       "    function displayChart(vegaEmbed) {\n",
       "      vegaEmbed(outputDiv, spec, embedOpt)\n",
       "        .catch(err => showError(`Javascript Error: ${err.message}<br>This usually means there's a typo in your chart specification. See the javascript console for the full traceback.`));\n",
       "    }\n",
       "\n",
       "    if(typeof define === \"function\" && define.amd) {\n",
       "      requirejs.config({paths});\n",
       "      require([\"vega-embed\"], displayChart, err => showError(`Error loading script: ${err.message}`));\n",
       "    } else if (typeof vegaEmbed === \"function\") {\n",
       "      displayChart(vegaEmbed);\n",
       "    } else {\n",
       "      loadScript(\"vega\")\n",
       "        .then(() => loadScript(\"vega-lite\"))\n",
       "        .then(() => loadScript(\"vega-embed\"))\n",
       "        .catch(showError)\n",
       "        .then(() => displayChart(vegaEmbed));\n",
       "    }\n",
       "  })({\"config\": {\"view\": {\"continuousWidth\": 400, \"continuousHeight\": 300}}, \"data\": {\"name\": \"data-1de8e422b7aa33b30b91995d06241639\"}, \"mark\": \"circle\", \"encoding\": {\"color\": {\"type\": \"nominal\", \"field\": \"G_axes\"}, \"x\": {\"type\": \"quantitative\", \"field\": \"nPts\"}, \"y\": {\"type\": \"quantitative\", \"field\": \"time\"}}, \"$schema\": \"https://vega.github.io/schema/vega-lite/v4.8.1.json\", \"datasets\": {\"data-1de8e422b7aa33b30b91995d06241639\": [{\"nPts\": 499999, \"mark\": \"bar\", \"time\": 95.471401000001, \"G_axes\": 3, \"G_color\": 5, \"ga*gc\": 15}, {\"nPts\": 499999, \"mark\": \"bar\", \"time\": 112.6732500000002, \"G_axes\": 3, \"G_color\": 221, \"ga*gc\": 663}, {\"nPts\": 499999, \"mark\": \"bar\", \"time\": 332.72235699999794, \"G_axes\": 3, \"G_color\": 11453, \"ga*gc\": 34359}, {\"nPts\": 499999, \"mark\": \"bar\", \"time\": 93.3039350000015, \"G_axes\": 5, \"G_color\": 3, \"ga*gc\": 15}, {\"nPts\": 499999, \"mark\": \"bar\", \"time\": 114.8229809999996, \"G_axes\": 5, \"G_color\": 221, \"ga*gc\": 1105}, {\"nPts\": 499999, \"mark\": \"bar\", \"time\": 341.8167029999992, \"G_axes\": 5, \"G_color\": 11453, \"ga*gc\": 57265}, {\"nPts\": 499999, \"mark\": \"bar\", \"time\": 109.6230959999999, \"G_axes\": 221, \"G_color\": 3, \"ga*gc\": 663}, {\"nPts\": 499999, \"mark\": \"bar\", \"time\": 109.7047390000014, \"G_axes\": 221, \"G_color\": 5, \"ga*gc\": 1105}, {\"nPts\": 499999, \"mark\": \"bar\", \"time\": 4877.254888000003, \"G_axes\": 221, \"G_color\": 11453, \"ga*gc\": 2531113}, {\"nPts\": 499999, \"mark\": \"bar\", \"time\": 343.3289999999971, \"G_axes\": 11453, \"G_color\": 3, \"ga*gc\": 34359}, {\"nPts\": 499999, \"mark\": \"bar\", \"time\": 348.2195700000048, \"G_axes\": 11453, \"G_color\": 5, \"ga*gc\": 57265}, {\"nPts\": 499999, \"mark\": \"bar\", \"time\": 6017.855553000004, \"G_axes\": 11453, \"G_color\": 221, \"ga*gc\": 2531113}, {\"nPts\": 787305, \"mark\": \"bar\", \"time\": 174.0082649999976, \"G_axes\": 3, \"G_color\": 5, \"ga*gc\": 15}, {\"nPts\": 787305, \"mark\": \"bar\", \"time\": 198.58591899999558, \"G_axes\": 3, \"G_color\": 221, \"ga*gc\": 663}, {\"nPts\": 787305, \"mark\": \"bar\", \"time\": 468.2439819999899, \"G_axes\": 3, \"G_color\": 11453, \"ga*gc\": 34359}, {\"nPts\": 787305, \"mark\": \"bar\", \"time\": 158.5762100000067, \"G_axes\": 5, \"G_color\": 3, \"ga*gc\": 15}, {\"nPts\": 787305, \"mark\": \"bar\", \"time\": 176.8642159999984, \"G_axes\": 5, \"G_color\": 221, \"ga*gc\": 1105}, {\"nPts\": 787305, \"mark\": \"bar\", \"time\": 642.1027549999963, \"G_axes\": 5, \"G_color\": 11453, \"ga*gc\": 57265}, {\"nPts\": 787305, \"mark\": \"bar\", \"time\": 201.0504449999928, \"G_axes\": 221, \"G_color\": 3, \"ga*gc\": 663}, {\"nPts\": 787305, \"mark\": \"bar\", \"time\": 185.6440330000026, \"G_axes\": 221, \"G_color\": 5, \"ga*gc\": 1105}, {\"nPts\": 787305, \"mark\": \"bar\", \"time\": 4834.609626999992, \"G_axes\": 221, \"G_color\": 11453, \"ga*gc\": 2531113}, {\"nPts\": 787305, \"mark\": \"bar\", \"time\": 530.0172719999949, \"G_axes\": 11453, \"G_color\": 3, \"ga*gc\": 34359}, {\"nPts\": 787305, \"mark\": \"bar\", \"time\": 520.1488140000095, \"G_axes\": 11453, \"G_color\": 5, \"ga*gc\": 57265}, {\"nPts\": 787305, \"mark\": \"bar\", \"time\": 6154.245292999988, \"G_axes\": 11453, \"G_color\": 221, \"ga*gc\": 2531113}, {\"nPts\": 1239698, \"mark\": \"bar\", \"time\": 183.1586960000066, \"G_axes\": 3, \"G_color\": 5, \"ga*gc\": 15}, {\"nPts\": 1239698, \"mark\": \"bar\", \"time\": 219.446187999992, \"G_axes\": 3, \"G_color\": 221, \"ga*gc\": 663}, {\"nPts\": 1239698, \"mark\": \"bar\", \"time\": 592.1755110000078, \"G_axes\": 3, \"G_color\": 11453, \"ga*gc\": 34359}, {\"nPts\": 1239698, \"mark\": \"bar\", \"time\": 184.5331530000038, \"G_axes\": 5, \"G_color\": 3, \"ga*gc\": 15}, {\"nPts\": 1239698, \"mark\": \"bar\", \"time\": 204.7023960000018, \"G_axes\": 5, \"G_color\": 221, \"ga*gc\": 1105}, {\"nPts\": 1239698, \"mark\": \"bar\", \"time\": 634.5651860000032, \"G_axes\": 5, \"G_color\": 11453, \"ga*gc\": 57265}, {\"nPts\": 1239698, \"mark\": \"bar\", \"time\": 207.9121649999962, \"G_axes\": 221, \"G_color\": 3, \"ga*gc\": 663}, {\"nPts\": 1239698, \"mark\": \"bar\", \"time\": 204.9047370000067, \"G_axes\": 221, \"G_color\": 5, \"ga*gc\": 1105}, {\"nPts\": 1239698, \"mark\": \"bar\", \"time\": 4931.0846500000025, \"G_axes\": 221, \"G_color\": 11453, \"ga*gc\": 2531113}, {\"nPts\": 1239698, \"mark\": \"bar\", \"time\": 673.7443420000062, \"G_axes\": 11453, \"G_color\": 3, \"ga*gc\": 34359}, {\"nPts\": 1239698, \"mark\": \"bar\", \"time\": 835.2332739999895, \"G_axes\": 11453, \"G_color\": 5, \"ga*gc\": 57265}, {\"nPts\": 1239698, \"mark\": \"bar\", \"time\": 6529.083211999989, \"G_axes\": 11453, \"G_color\": 221, \"ga*gc\": 2531113}, {\"nPts\": 1952041, \"mark\": \"bar\", \"time\": 280.3183680000245, \"G_axes\": 3, \"G_color\": 5, \"ga*gc\": 15}, {\"nPts\": 1952041, \"mark\": \"bar\", \"time\": 369.3151669999963, \"G_axes\": 3, \"G_color\": 221, \"ga*gc\": 663}, {\"nPts\": 1952041, \"mark\": \"bar\", \"time\": 962.9562289999852, \"G_axes\": 3, \"G_color\": 11453, \"ga*gc\": 34359}, {\"nPts\": 1952041, \"mark\": \"bar\", \"time\": 287.0940550000114, \"G_axes\": 5, \"G_color\": 3, \"ga*gc\": 15}, {\"nPts\": 1952041, \"mark\": \"bar\", \"time\": 338.6216419999925, \"G_axes\": 5, \"G_color\": 221, \"ga*gc\": 1105}, {\"nPts\": 1952041, \"mark\": \"bar\", \"time\": 984.7049800000036, \"G_axes\": 5, \"G_color\": 11453, \"ga*gc\": 57265}, {\"nPts\": 1952041, \"mark\": \"bar\", \"time\": 348.721941000008, \"G_axes\": 221, \"G_color\": 3, \"ga*gc\": 663}, {\"nPts\": 1952041, \"mark\": \"bar\", \"time\": 340.9615699999904, \"G_axes\": 221, \"G_color\": 5, \"ga*gc\": 1105}, {\"nPts\": 1952041, \"mark\": \"bar\", \"time\": 5308.931368999993, \"G_axes\": 221, \"G_color\": 11453, \"ga*gc\": 2531113}, {\"nPts\": 1952041, \"mark\": \"bar\", \"time\": 1126.7722649999996, \"G_axes\": 11453, \"G_color\": 3, \"ga*gc\": 34359}, {\"nPts\": 1952041, \"mark\": \"bar\", \"time\": 957.7226640000164, \"G_axes\": 11453, \"G_color\": 5, \"ga*gc\": 57265}, {\"nPts\": 1952041, \"mark\": \"bar\", \"time\": 6531.512982000009, \"G_axes\": 11453, \"G_color\": 221, \"ga*gc\": 2531113}, {\"nPts\": 3073704, \"mark\": \"bar\", \"time\": 461.9981079999888, \"G_axes\": 3, \"G_color\": 5, \"ga*gc\": 15}, {\"nPts\": 3073704, \"mark\": \"bar\", \"time\": 528.9486629999942, \"G_axes\": 3, \"G_color\": 221, \"ga*gc\": 663}, {\"nPts\": 3073704, \"mark\": \"bar\", \"time\": 1474.2540059999951, \"G_axes\": 3, \"G_color\": 11453, \"ga*gc\": 34359}, {\"nPts\": 3073704, \"mark\": \"bar\", \"time\": 434.9657809999883, \"G_axes\": 5, \"G_color\": 3, \"ga*gc\": 15}, {\"nPts\": 3073704, \"mark\": \"bar\", \"time\": 579.0976110000088, \"G_axes\": 5, \"G_color\": 221, \"ga*gc\": 1105}, {\"nPts\": 3073704, \"mark\": \"bar\", \"time\": 1519.3741040000075, \"G_axes\": 5, \"G_color\": 11453, \"ga*gc\": 57265}, {\"nPts\": 3073704, \"mark\": \"bar\", \"time\": 517.3866860000089, \"G_axes\": 221, \"G_color\": 3, \"ga*gc\": 663}, {\"nPts\": 3073704, \"mark\": \"bar\", \"time\": 542.2609150000142, \"G_axes\": 221, \"G_color\": 5, \"ga*gc\": 1105}, {\"nPts\": 3073704, \"mark\": \"bar\", \"time\": 6072.682108000009, \"G_axes\": 221, \"G_color\": 11453, \"ga*gc\": 2531113}, {\"nPts\": 3073704, \"mark\": \"bar\", \"time\": 1465.8709290000047, \"G_axes\": 11453, \"G_color\": 3, \"ga*gc\": 34359}, {\"nPts\": 3073704, \"mark\": \"bar\", \"time\": 1474.667313999987, \"G_axes\": 11453, \"G_color\": 5, \"ga*gc\": 57265}, {\"nPts\": 3073704, \"mark\": \"bar\", \"time\": 7154.439365999991, \"G_axes\": 11453, \"G_color\": 221, \"ga*gc\": 2531113}, {\"nPts\": 4839886, \"mark\": \"bar\", \"time\": 652.3142799999846, \"G_axes\": 3, \"G_color\": 5, \"ga*gc\": 15}, {\"nPts\": 4839886, \"mark\": \"bar\", \"time\": 783.0350739999972, \"G_axes\": 3, \"G_color\": 221, \"ga*gc\": 663}, {\"nPts\": 4839886, \"mark\": \"bar\", \"time\": 2549.302452999996, \"G_axes\": 3, \"G_color\": 11453, \"ga*gc\": 34359}, {\"nPts\": 4839886, \"mark\": \"bar\", \"time\": 642.543097999976, \"G_axes\": 5, \"G_color\": 3, \"ga*gc\": 15}, {\"nPts\": 4839886, \"mark\": \"bar\", \"time\": 728.3464949999825, \"G_axes\": 5, \"G_color\": 221, \"ga*gc\": 1105}, {\"nPts\": 4839886, \"mark\": \"bar\", \"time\": 2227.474530000052, \"G_axes\": 5, \"G_color\": 11453, \"ga*gc\": 57265}, {\"nPts\": 4839886, \"mark\": \"bar\", \"time\": 773.7122330000261, \"G_axes\": 221, \"G_color\": 3, \"ga*gc\": 663}, {\"nPts\": 4839886, \"mark\": \"bar\", \"time\": 780.8799580000141, \"G_axes\": 221, \"G_color\": 5, \"ga*gc\": 1105}, {\"nPts\": 4839886, \"mark\": \"bar\", \"time\": 6744.71575299998, \"G_axes\": 221, \"G_color\": 11453, \"ga*gc\": 2531113}, {\"nPts\": 4839886, \"mark\": \"bar\", \"time\": 2341.479228999958, \"G_axes\": 11453, \"G_color\": 3, \"ga*gc\": 34359}, {\"nPts\": 4839886, \"mark\": \"bar\", \"time\": 2168.4069959999874, \"G_axes\": 11453, \"G_color\": 5, \"ga*gc\": 57265}, {\"nPts\": 4839886, \"mark\": \"bar\", \"time\": 7929.54114600002, \"G_axes\": 11453, \"G_color\": 221, \"ga*gc\": 2531113}, {\"nPts\": 7620934, \"mark\": \"bar\", \"time\": 971.62973799999, \"G_axes\": 3, \"G_color\": 5, \"ga*gc\": 15}, {\"nPts\": 7620934, \"mark\": \"bar\", \"time\": 1196.2809480000374, \"G_axes\": 3, \"G_color\": 221, \"ga*gc\": 663}, {\"nPts\": 7620934, \"mark\": \"bar\", \"time\": 3217.381777000014, \"G_axes\": 3, \"G_color\": 11453, \"ga*gc\": 34359}, {\"nPts\": 7620934, \"mark\": \"bar\", \"time\": 996.6646630000467, \"G_axes\": 5, \"G_color\": 3, \"ga*gc\": 15}, {\"nPts\": 7620934, \"mark\": \"bar\", \"time\": 1172.959082000034, \"G_axes\": 5, \"G_color\": 221, \"ga*gc\": 1105}, {\"nPts\": 7620934, \"mark\": \"bar\", \"time\": 3221.3478300000133, \"G_axes\": 5, \"G_color\": 11453, \"ga*gc\": 57265}, {\"nPts\": 7620934, \"mark\": \"bar\", \"time\": 1193.752442999994, \"G_axes\": 221, \"G_color\": 3, \"ga*gc\": 663}, {\"nPts\": 7620934, \"mark\": \"bar\", \"time\": 1131.2043979999655, \"G_axes\": 221, \"G_color\": 5, \"ga*gc\": 1105}, {\"nPts\": 7620934, \"mark\": \"bar\", \"time\": 7442.920134000019, \"G_axes\": 221, \"G_color\": 11453, \"ga*gc\": 2531113}, {\"nPts\": 7620934, \"mark\": \"bar\", \"time\": 3323.672113999976, \"G_axes\": 11453, \"G_color\": 3, \"ga*gc\": 34359}, {\"nPts\": 7620934, \"mark\": \"bar\", \"time\": 3834.6455870000113, \"G_axes\": 11453, \"G_color\": 5, \"ga*gc\": 57265}, {\"nPts\": 7620934, \"mark\": \"bar\", \"time\": 8872.652803999983, \"G_axes\": 11453, \"G_color\": 221, \"ga*gc\": 2531113}, {\"nPts\": 12000000, \"mark\": \"bar\", \"time\": 1444.3397459999687, \"G_axes\": 3, \"G_color\": 5, \"ga*gc\": 15}, {\"nPts\": 12000000, \"mark\": \"bar\", \"time\": 1765.8419959999492, \"G_axes\": 3, \"G_color\": 221, \"ga*gc\": 663}, {\"nPts\": 12000000, \"mark\": \"bar\", \"time\": 4969.252388999962, \"G_axes\": 3, \"G_color\": 11453, \"ga*gc\": 34359}, {\"nPts\": 12000000, \"mark\": \"bar\", \"time\": 1484.3263500000603, \"G_axes\": 5, \"G_color\": 3, \"ga*gc\": 15}, {\"nPts\": 12000000, \"mark\": \"bar\", \"time\": 1708.5049459999482, \"G_axes\": 5, \"G_color\": 221, \"ga*gc\": 1105}, {\"nPts\": 12000000, \"mark\": \"bar\", \"time\": 5027.283615999977, \"G_axes\": 5, \"G_color\": 11453, \"ga*gc\": 57265}, {\"nPts\": 12000000, \"mark\": \"bar\", \"time\": 1840.248175000056, \"G_axes\": 221, \"G_color\": 3, \"ga*gc\": 663}, {\"nPts\": 12000000, \"mark\": \"bar\", \"time\": 1744.0351489999557, \"G_axes\": 221, \"G_color\": 5, \"ga*gc\": 1105}, {\"nPts\": 12000000, \"mark\": \"bar\", \"time\": 10252.79112999999, \"G_axes\": 221, \"G_color\": 11453, \"ga*gc\": 2531113}, {\"nPts\": 12000000, \"mark\": \"bar\", \"time\": 4989.021028000025, \"G_axes\": 11453, \"G_color\": 3, \"ga*gc\": 34359}, {\"nPts\": 12000000, \"mark\": \"bar\", \"time\": 5146.476328000063, \"G_axes\": 11453, \"G_color\": 5, \"ga*gc\": 57265}, {\"nPts\": 12000000, \"mark\": \"bar\", \"time\": 11475.992226000017, \"G_axes\": 11453, \"G_color\": 221, \"ga*gc\": 2531113}]}}, {\"mode\": \"vega-lite\"});\n",
       "</script>"
      ],
      "text/plain": [
       "alt.Chart(...)"
      ]
     },
     "execution_count": 328,
     "metadata": {},
     "output_type": "execute_result"
    }
   ],
   "source": [
    "alt.Chart(color_bar).mark_circle().encode(\n",
    "    y = \"time\",\n",
    "    x = \"nPts\",\n",
    "    color = alt.Color(\"G_axes\",type=\"nominal\")\n",
    ")"
   ]
  },
  {
   "cell_type": "code",
   "execution_count": 329,
   "metadata": {},
   "outputs": [
    {
     "data": {
      "text/html": [
       "\n",
       "<div id=\"altair-viz-0a2f11b7d66d4cb1825ca2d2f261ffb9\"></div>\n",
       "<script type=\"text/javascript\">\n",
       "  (function(spec, embedOpt){\n",
       "    let outputDiv = document.currentScript.previousElementSibling;\n",
       "    if (outputDiv.id !== \"altair-viz-0a2f11b7d66d4cb1825ca2d2f261ffb9\") {\n",
       "      outputDiv = document.getElementById(\"altair-viz-0a2f11b7d66d4cb1825ca2d2f261ffb9\");\n",
       "    }\n",
       "    const paths = {\n",
       "      \"vega\": \"https://cdn.jsdelivr.net/npm//vega@5?noext\",\n",
       "      \"vega-lib\": \"https://cdn.jsdelivr.net/npm//vega-lib?noext\",\n",
       "      \"vega-lite\": \"https://cdn.jsdelivr.net/npm//vega-lite@4.8.1?noext\",\n",
       "      \"vega-embed\": \"https://cdn.jsdelivr.net/npm//vega-embed@6?noext\",\n",
       "    };\n",
       "\n",
       "    function loadScript(lib) {\n",
       "      return new Promise(function(resolve, reject) {\n",
       "        var s = document.createElement('script');\n",
       "        s.src = paths[lib];\n",
       "        s.async = true;\n",
       "        s.onload = () => resolve(paths[lib]);\n",
       "        s.onerror = () => reject(`Error loading script: ${paths[lib]}`);\n",
       "        document.getElementsByTagName(\"head\")[0].appendChild(s);\n",
       "      });\n",
       "    }\n",
       "\n",
       "    function showError(err) {\n",
       "      outputDiv.innerHTML = `<div class=\"error\" style=\"color:red;\">${err}</div>`;\n",
       "      throw err;\n",
       "    }\n",
       "\n",
       "    function displayChart(vegaEmbed) {\n",
       "      vegaEmbed(outputDiv, spec, embedOpt)\n",
       "        .catch(err => showError(`Javascript Error: ${err.message}<br>This usually means there's a typo in your chart specification. See the javascript console for the full traceback.`));\n",
       "    }\n",
       "\n",
       "    if(typeof define === \"function\" && define.amd) {\n",
       "      requirejs.config({paths});\n",
       "      require([\"vega-embed\"], displayChart, err => showError(`Error loading script: ${err.message}`));\n",
       "    } else if (typeof vegaEmbed === \"function\") {\n",
       "      displayChart(vegaEmbed);\n",
       "    } else {\n",
       "      loadScript(\"vega\")\n",
       "        .then(() => loadScript(\"vega-lite\"))\n",
       "        .then(() => loadScript(\"vega-embed\"))\n",
       "        .catch(showError)\n",
       "        .then(() => displayChart(vegaEmbed));\n",
       "    }\n",
       "  })({\"config\": {\"view\": {\"continuousWidth\": 400, \"continuousHeight\": 300}}, \"data\": {\"name\": \"data-1de8e422b7aa33b30b91995d06241639\"}, \"mark\": \"circle\", \"encoding\": {\"color\": {\"type\": \"nominal\", \"field\": \"G_color\"}, \"x\": {\"type\": \"quantitative\", \"field\": \"nPts\"}, \"y\": {\"type\": \"quantitative\", \"field\": \"time\"}}, \"selection\": {\"selector010\": {\"type\": \"interval\", \"bind\": \"scales\", \"encodings\": [\"x\", \"y\"]}}, \"$schema\": \"https://vega.github.io/schema/vega-lite/v4.8.1.json\", \"datasets\": {\"data-1de8e422b7aa33b30b91995d06241639\": [{\"nPts\": 499999, \"mark\": \"bar\", \"time\": 95.471401000001, \"G_axes\": 3, \"G_color\": 5, \"ga*gc\": 15}, {\"nPts\": 499999, \"mark\": \"bar\", \"time\": 112.6732500000002, \"G_axes\": 3, \"G_color\": 221, \"ga*gc\": 663}, {\"nPts\": 499999, \"mark\": \"bar\", \"time\": 332.72235699999794, \"G_axes\": 3, \"G_color\": 11453, \"ga*gc\": 34359}, {\"nPts\": 499999, \"mark\": \"bar\", \"time\": 93.3039350000015, \"G_axes\": 5, \"G_color\": 3, \"ga*gc\": 15}, {\"nPts\": 499999, \"mark\": \"bar\", \"time\": 114.8229809999996, \"G_axes\": 5, \"G_color\": 221, \"ga*gc\": 1105}, {\"nPts\": 499999, \"mark\": \"bar\", \"time\": 341.8167029999992, \"G_axes\": 5, \"G_color\": 11453, \"ga*gc\": 57265}, {\"nPts\": 499999, \"mark\": \"bar\", \"time\": 109.6230959999999, \"G_axes\": 221, \"G_color\": 3, \"ga*gc\": 663}, {\"nPts\": 499999, \"mark\": \"bar\", \"time\": 109.7047390000014, \"G_axes\": 221, \"G_color\": 5, \"ga*gc\": 1105}, {\"nPts\": 499999, \"mark\": \"bar\", \"time\": 4877.254888000003, \"G_axes\": 221, \"G_color\": 11453, \"ga*gc\": 2531113}, {\"nPts\": 499999, \"mark\": \"bar\", \"time\": 343.3289999999971, \"G_axes\": 11453, \"G_color\": 3, \"ga*gc\": 34359}, {\"nPts\": 499999, \"mark\": \"bar\", \"time\": 348.2195700000048, \"G_axes\": 11453, \"G_color\": 5, \"ga*gc\": 57265}, {\"nPts\": 499999, \"mark\": \"bar\", \"time\": 6017.855553000004, \"G_axes\": 11453, \"G_color\": 221, \"ga*gc\": 2531113}, {\"nPts\": 787305, \"mark\": \"bar\", \"time\": 174.0082649999976, \"G_axes\": 3, \"G_color\": 5, \"ga*gc\": 15}, {\"nPts\": 787305, \"mark\": \"bar\", \"time\": 198.58591899999558, \"G_axes\": 3, \"G_color\": 221, \"ga*gc\": 663}, {\"nPts\": 787305, \"mark\": \"bar\", \"time\": 468.2439819999899, \"G_axes\": 3, \"G_color\": 11453, \"ga*gc\": 34359}, {\"nPts\": 787305, \"mark\": \"bar\", \"time\": 158.5762100000067, \"G_axes\": 5, \"G_color\": 3, \"ga*gc\": 15}, {\"nPts\": 787305, \"mark\": \"bar\", \"time\": 176.8642159999984, \"G_axes\": 5, \"G_color\": 221, \"ga*gc\": 1105}, {\"nPts\": 787305, \"mark\": \"bar\", \"time\": 642.1027549999963, \"G_axes\": 5, \"G_color\": 11453, \"ga*gc\": 57265}, {\"nPts\": 787305, \"mark\": \"bar\", \"time\": 201.0504449999928, \"G_axes\": 221, \"G_color\": 3, \"ga*gc\": 663}, {\"nPts\": 787305, \"mark\": \"bar\", \"time\": 185.6440330000026, \"G_axes\": 221, \"G_color\": 5, \"ga*gc\": 1105}, {\"nPts\": 787305, \"mark\": \"bar\", \"time\": 4834.609626999992, \"G_axes\": 221, \"G_color\": 11453, \"ga*gc\": 2531113}, {\"nPts\": 787305, \"mark\": \"bar\", \"time\": 530.0172719999949, \"G_axes\": 11453, \"G_color\": 3, \"ga*gc\": 34359}, {\"nPts\": 787305, \"mark\": \"bar\", \"time\": 520.1488140000095, \"G_axes\": 11453, \"G_color\": 5, \"ga*gc\": 57265}, {\"nPts\": 787305, \"mark\": \"bar\", \"time\": 6154.245292999988, \"G_axes\": 11453, \"G_color\": 221, \"ga*gc\": 2531113}, {\"nPts\": 1239698, \"mark\": \"bar\", \"time\": 183.1586960000066, \"G_axes\": 3, \"G_color\": 5, \"ga*gc\": 15}, {\"nPts\": 1239698, \"mark\": \"bar\", \"time\": 219.446187999992, \"G_axes\": 3, \"G_color\": 221, \"ga*gc\": 663}, {\"nPts\": 1239698, \"mark\": \"bar\", \"time\": 592.1755110000078, \"G_axes\": 3, \"G_color\": 11453, \"ga*gc\": 34359}, {\"nPts\": 1239698, \"mark\": \"bar\", \"time\": 184.5331530000038, \"G_axes\": 5, \"G_color\": 3, \"ga*gc\": 15}, {\"nPts\": 1239698, \"mark\": \"bar\", \"time\": 204.7023960000018, \"G_axes\": 5, \"G_color\": 221, \"ga*gc\": 1105}, {\"nPts\": 1239698, \"mark\": \"bar\", \"time\": 634.5651860000032, \"G_axes\": 5, \"G_color\": 11453, \"ga*gc\": 57265}, {\"nPts\": 1239698, \"mark\": \"bar\", \"time\": 207.9121649999962, \"G_axes\": 221, \"G_color\": 3, \"ga*gc\": 663}, {\"nPts\": 1239698, \"mark\": \"bar\", \"time\": 204.9047370000067, \"G_axes\": 221, \"G_color\": 5, \"ga*gc\": 1105}, {\"nPts\": 1239698, \"mark\": \"bar\", \"time\": 4931.0846500000025, \"G_axes\": 221, \"G_color\": 11453, \"ga*gc\": 2531113}, {\"nPts\": 1239698, \"mark\": \"bar\", \"time\": 673.7443420000062, \"G_axes\": 11453, \"G_color\": 3, \"ga*gc\": 34359}, {\"nPts\": 1239698, \"mark\": \"bar\", \"time\": 835.2332739999895, \"G_axes\": 11453, \"G_color\": 5, \"ga*gc\": 57265}, {\"nPts\": 1239698, \"mark\": \"bar\", \"time\": 6529.083211999989, \"G_axes\": 11453, \"G_color\": 221, \"ga*gc\": 2531113}, {\"nPts\": 1952041, \"mark\": \"bar\", \"time\": 280.3183680000245, \"G_axes\": 3, \"G_color\": 5, \"ga*gc\": 15}, {\"nPts\": 1952041, \"mark\": \"bar\", \"time\": 369.3151669999963, \"G_axes\": 3, \"G_color\": 221, \"ga*gc\": 663}, {\"nPts\": 1952041, \"mark\": \"bar\", \"time\": 962.9562289999852, \"G_axes\": 3, \"G_color\": 11453, \"ga*gc\": 34359}, {\"nPts\": 1952041, \"mark\": \"bar\", \"time\": 287.0940550000114, \"G_axes\": 5, \"G_color\": 3, \"ga*gc\": 15}, {\"nPts\": 1952041, \"mark\": \"bar\", \"time\": 338.6216419999925, \"G_axes\": 5, \"G_color\": 221, \"ga*gc\": 1105}, {\"nPts\": 1952041, \"mark\": \"bar\", \"time\": 984.7049800000036, \"G_axes\": 5, \"G_color\": 11453, \"ga*gc\": 57265}, {\"nPts\": 1952041, \"mark\": \"bar\", \"time\": 348.721941000008, \"G_axes\": 221, \"G_color\": 3, \"ga*gc\": 663}, {\"nPts\": 1952041, \"mark\": \"bar\", \"time\": 340.9615699999904, \"G_axes\": 221, \"G_color\": 5, \"ga*gc\": 1105}, {\"nPts\": 1952041, \"mark\": \"bar\", \"time\": 5308.931368999993, \"G_axes\": 221, \"G_color\": 11453, \"ga*gc\": 2531113}, {\"nPts\": 1952041, \"mark\": \"bar\", \"time\": 1126.7722649999996, \"G_axes\": 11453, \"G_color\": 3, \"ga*gc\": 34359}, {\"nPts\": 1952041, \"mark\": \"bar\", \"time\": 957.7226640000164, \"G_axes\": 11453, \"G_color\": 5, \"ga*gc\": 57265}, {\"nPts\": 1952041, \"mark\": \"bar\", \"time\": 6531.512982000009, \"G_axes\": 11453, \"G_color\": 221, \"ga*gc\": 2531113}, {\"nPts\": 3073704, \"mark\": \"bar\", \"time\": 461.9981079999888, \"G_axes\": 3, \"G_color\": 5, \"ga*gc\": 15}, {\"nPts\": 3073704, \"mark\": \"bar\", \"time\": 528.9486629999942, \"G_axes\": 3, \"G_color\": 221, \"ga*gc\": 663}, {\"nPts\": 3073704, \"mark\": \"bar\", \"time\": 1474.2540059999951, \"G_axes\": 3, \"G_color\": 11453, \"ga*gc\": 34359}, {\"nPts\": 3073704, \"mark\": \"bar\", \"time\": 434.9657809999883, \"G_axes\": 5, \"G_color\": 3, \"ga*gc\": 15}, {\"nPts\": 3073704, \"mark\": \"bar\", \"time\": 579.0976110000088, \"G_axes\": 5, \"G_color\": 221, \"ga*gc\": 1105}, {\"nPts\": 3073704, \"mark\": \"bar\", \"time\": 1519.3741040000075, \"G_axes\": 5, \"G_color\": 11453, \"ga*gc\": 57265}, {\"nPts\": 3073704, \"mark\": \"bar\", \"time\": 517.3866860000089, \"G_axes\": 221, \"G_color\": 3, \"ga*gc\": 663}, {\"nPts\": 3073704, \"mark\": \"bar\", \"time\": 542.2609150000142, \"G_axes\": 221, \"G_color\": 5, \"ga*gc\": 1105}, {\"nPts\": 3073704, \"mark\": \"bar\", \"time\": 6072.682108000009, \"G_axes\": 221, \"G_color\": 11453, \"ga*gc\": 2531113}, {\"nPts\": 3073704, \"mark\": \"bar\", \"time\": 1465.8709290000047, \"G_axes\": 11453, \"G_color\": 3, \"ga*gc\": 34359}, {\"nPts\": 3073704, \"mark\": \"bar\", \"time\": 1474.667313999987, \"G_axes\": 11453, \"G_color\": 5, \"ga*gc\": 57265}, {\"nPts\": 3073704, \"mark\": \"bar\", \"time\": 7154.439365999991, \"G_axes\": 11453, \"G_color\": 221, \"ga*gc\": 2531113}, {\"nPts\": 4839886, \"mark\": \"bar\", \"time\": 652.3142799999846, \"G_axes\": 3, \"G_color\": 5, \"ga*gc\": 15}, {\"nPts\": 4839886, \"mark\": \"bar\", \"time\": 783.0350739999972, \"G_axes\": 3, \"G_color\": 221, \"ga*gc\": 663}, {\"nPts\": 4839886, \"mark\": \"bar\", \"time\": 2549.302452999996, \"G_axes\": 3, \"G_color\": 11453, \"ga*gc\": 34359}, {\"nPts\": 4839886, \"mark\": \"bar\", \"time\": 642.543097999976, \"G_axes\": 5, \"G_color\": 3, \"ga*gc\": 15}, {\"nPts\": 4839886, \"mark\": \"bar\", \"time\": 728.3464949999825, \"G_axes\": 5, \"G_color\": 221, \"ga*gc\": 1105}, {\"nPts\": 4839886, \"mark\": \"bar\", \"time\": 2227.474530000052, \"G_axes\": 5, \"G_color\": 11453, \"ga*gc\": 57265}, {\"nPts\": 4839886, \"mark\": \"bar\", \"time\": 773.7122330000261, \"G_axes\": 221, \"G_color\": 3, \"ga*gc\": 663}, {\"nPts\": 4839886, \"mark\": \"bar\", \"time\": 780.8799580000141, \"G_axes\": 221, \"G_color\": 5, \"ga*gc\": 1105}, {\"nPts\": 4839886, \"mark\": \"bar\", \"time\": 6744.71575299998, \"G_axes\": 221, \"G_color\": 11453, \"ga*gc\": 2531113}, {\"nPts\": 4839886, \"mark\": \"bar\", \"time\": 2341.479228999958, \"G_axes\": 11453, \"G_color\": 3, \"ga*gc\": 34359}, {\"nPts\": 4839886, \"mark\": \"bar\", \"time\": 2168.4069959999874, \"G_axes\": 11453, \"G_color\": 5, \"ga*gc\": 57265}, {\"nPts\": 4839886, \"mark\": \"bar\", \"time\": 7929.54114600002, \"G_axes\": 11453, \"G_color\": 221, \"ga*gc\": 2531113}, {\"nPts\": 7620934, \"mark\": \"bar\", \"time\": 971.62973799999, \"G_axes\": 3, \"G_color\": 5, \"ga*gc\": 15}, {\"nPts\": 7620934, \"mark\": \"bar\", \"time\": 1196.2809480000374, \"G_axes\": 3, \"G_color\": 221, \"ga*gc\": 663}, {\"nPts\": 7620934, \"mark\": \"bar\", \"time\": 3217.381777000014, \"G_axes\": 3, \"G_color\": 11453, \"ga*gc\": 34359}, {\"nPts\": 7620934, \"mark\": \"bar\", \"time\": 996.6646630000467, \"G_axes\": 5, \"G_color\": 3, \"ga*gc\": 15}, {\"nPts\": 7620934, \"mark\": \"bar\", \"time\": 1172.959082000034, \"G_axes\": 5, \"G_color\": 221, \"ga*gc\": 1105}, {\"nPts\": 7620934, \"mark\": \"bar\", \"time\": 3221.3478300000133, \"G_axes\": 5, \"G_color\": 11453, \"ga*gc\": 57265}, {\"nPts\": 7620934, \"mark\": \"bar\", \"time\": 1193.752442999994, \"G_axes\": 221, \"G_color\": 3, \"ga*gc\": 663}, {\"nPts\": 7620934, \"mark\": \"bar\", \"time\": 1131.2043979999655, \"G_axes\": 221, \"G_color\": 5, \"ga*gc\": 1105}, {\"nPts\": 7620934, \"mark\": \"bar\", \"time\": 7442.920134000019, \"G_axes\": 221, \"G_color\": 11453, \"ga*gc\": 2531113}, {\"nPts\": 7620934, \"mark\": \"bar\", \"time\": 3323.672113999976, \"G_axes\": 11453, \"G_color\": 3, \"ga*gc\": 34359}, {\"nPts\": 7620934, \"mark\": \"bar\", \"time\": 3834.6455870000113, \"G_axes\": 11453, \"G_color\": 5, \"ga*gc\": 57265}, {\"nPts\": 7620934, \"mark\": \"bar\", \"time\": 8872.652803999983, \"G_axes\": 11453, \"G_color\": 221, \"ga*gc\": 2531113}, {\"nPts\": 12000000, \"mark\": \"bar\", \"time\": 1444.3397459999687, \"G_axes\": 3, \"G_color\": 5, \"ga*gc\": 15}, {\"nPts\": 12000000, \"mark\": \"bar\", \"time\": 1765.8419959999492, \"G_axes\": 3, \"G_color\": 221, \"ga*gc\": 663}, {\"nPts\": 12000000, \"mark\": \"bar\", \"time\": 4969.252388999962, \"G_axes\": 3, \"G_color\": 11453, \"ga*gc\": 34359}, {\"nPts\": 12000000, \"mark\": \"bar\", \"time\": 1484.3263500000603, \"G_axes\": 5, \"G_color\": 3, \"ga*gc\": 15}, {\"nPts\": 12000000, \"mark\": \"bar\", \"time\": 1708.5049459999482, \"G_axes\": 5, \"G_color\": 221, \"ga*gc\": 1105}, {\"nPts\": 12000000, \"mark\": \"bar\", \"time\": 5027.283615999977, \"G_axes\": 5, \"G_color\": 11453, \"ga*gc\": 57265}, {\"nPts\": 12000000, \"mark\": \"bar\", \"time\": 1840.248175000056, \"G_axes\": 221, \"G_color\": 3, \"ga*gc\": 663}, {\"nPts\": 12000000, \"mark\": \"bar\", \"time\": 1744.0351489999557, \"G_axes\": 221, \"G_color\": 5, \"ga*gc\": 1105}, {\"nPts\": 12000000, \"mark\": \"bar\", \"time\": 10252.79112999999, \"G_axes\": 221, \"G_color\": 11453, \"ga*gc\": 2531113}, {\"nPts\": 12000000, \"mark\": \"bar\", \"time\": 4989.021028000025, \"G_axes\": 11453, \"G_color\": 3, \"ga*gc\": 34359}, {\"nPts\": 12000000, \"mark\": \"bar\", \"time\": 5146.476328000063, \"G_axes\": 11453, \"G_color\": 5, \"ga*gc\": 57265}, {\"nPts\": 12000000, \"mark\": \"bar\", \"time\": 11475.992226000017, \"G_axes\": 11453, \"G_color\": 221, \"ga*gc\": 2531113}]}}, {\"mode\": \"vega-lite\"});\n",
       "</script>"
      ],
      "text/plain": [
       "alt.Chart(...)"
      ]
     },
     "execution_count": 329,
     "metadata": {},
     "output_type": "execute_result"
    }
   ],
   "source": [
    "alt.Chart(color_bar).mark_circle().encode(\n",
    "    y = \"time\",\n",
    "    x = \"nPts\",\n",
    "    color = alt.Color(\"G_color\",type=\"nominal\")\n",
    ").interactive()"
   ]
  },
  {
   "cell_type": "code",
   "execution_count": 330,
   "metadata": {},
   "outputs": [
    {
     "data": {
      "text/html": [
       "\n",
       "<div id=\"altair-viz-4d676696a97c4f029c45d1d791494bd5\"></div>\n",
       "<script type=\"text/javascript\">\n",
       "  (function(spec, embedOpt){\n",
       "    let outputDiv = document.currentScript.previousElementSibling;\n",
       "    if (outputDiv.id !== \"altair-viz-4d676696a97c4f029c45d1d791494bd5\") {\n",
       "      outputDiv = document.getElementById(\"altair-viz-4d676696a97c4f029c45d1d791494bd5\");\n",
       "    }\n",
       "    const paths = {\n",
       "      \"vega\": \"https://cdn.jsdelivr.net/npm//vega@5?noext\",\n",
       "      \"vega-lib\": \"https://cdn.jsdelivr.net/npm//vega-lib?noext\",\n",
       "      \"vega-lite\": \"https://cdn.jsdelivr.net/npm//vega-lite@4.8.1?noext\",\n",
       "      \"vega-embed\": \"https://cdn.jsdelivr.net/npm//vega-embed@6?noext\",\n",
       "    };\n",
       "\n",
       "    function loadScript(lib) {\n",
       "      return new Promise(function(resolve, reject) {\n",
       "        var s = document.createElement('script');\n",
       "        s.src = paths[lib];\n",
       "        s.async = true;\n",
       "        s.onload = () => resolve(paths[lib]);\n",
       "        s.onerror = () => reject(`Error loading script: ${paths[lib]}`);\n",
       "        document.getElementsByTagName(\"head\")[0].appendChild(s);\n",
       "      });\n",
       "    }\n",
       "\n",
       "    function showError(err) {\n",
       "      outputDiv.innerHTML = `<div class=\"error\" style=\"color:red;\">${err}</div>`;\n",
       "      throw err;\n",
       "    }\n",
       "\n",
       "    function displayChart(vegaEmbed) {\n",
       "      vegaEmbed(outputDiv, spec, embedOpt)\n",
       "        .catch(err => showError(`Javascript Error: ${err.message}<br>This usually means there's a typo in your chart specification. See the javascript console for the full traceback.`));\n",
       "    }\n",
       "\n",
       "    if(typeof define === \"function\" && define.amd) {\n",
       "      requirejs.config({paths});\n",
       "      require([\"vega-embed\"], displayChart, err => showError(`Error loading script: ${err.message}`));\n",
       "    } else if (typeof vegaEmbed === \"function\") {\n",
       "      displayChart(vegaEmbed);\n",
       "    } else {\n",
       "      loadScript(\"vega\")\n",
       "        .then(() => loadScript(\"vega-lite\"))\n",
       "        .then(() => loadScript(\"vega-embed\"))\n",
       "        .catch(showError)\n",
       "        .then(() => displayChart(vegaEmbed));\n",
       "    }\n",
       "  })({\"config\": {\"view\": {\"continuousWidth\": 400, \"continuousHeight\": 300}}, \"data\": {\"name\": \"data-1de8e422b7aa33b30b91995d06241639\"}, \"mark\": \"circle\", \"encoding\": {\"color\": {\"type\": \"nominal\", \"field\": \"ga*gc\"}, \"x\": {\"type\": \"quantitative\", \"field\": \"nPts\"}, \"y\": {\"type\": \"quantitative\", \"field\": \"time\"}}, \"selection\": {\"selector011\": {\"type\": \"interval\", \"bind\": \"scales\", \"encodings\": [\"x\", \"y\"]}}, \"$schema\": \"https://vega.github.io/schema/vega-lite/v4.8.1.json\", \"datasets\": {\"data-1de8e422b7aa33b30b91995d06241639\": [{\"nPts\": 499999, \"mark\": \"bar\", \"time\": 95.471401000001, \"G_axes\": 3, \"G_color\": 5, \"ga*gc\": 15}, {\"nPts\": 499999, \"mark\": \"bar\", \"time\": 112.6732500000002, \"G_axes\": 3, \"G_color\": 221, \"ga*gc\": 663}, {\"nPts\": 499999, \"mark\": \"bar\", \"time\": 332.72235699999794, \"G_axes\": 3, \"G_color\": 11453, \"ga*gc\": 34359}, {\"nPts\": 499999, \"mark\": \"bar\", \"time\": 93.3039350000015, \"G_axes\": 5, \"G_color\": 3, \"ga*gc\": 15}, {\"nPts\": 499999, \"mark\": \"bar\", \"time\": 114.8229809999996, \"G_axes\": 5, \"G_color\": 221, \"ga*gc\": 1105}, {\"nPts\": 499999, \"mark\": \"bar\", \"time\": 341.8167029999992, \"G_axes\": 5, \"G_color\": 11453, \"ga*gc\": 57265}, {\"nPts\": 499999, \"mark\": \"bar\", \"time\": 109.6230959999999, \"G_axes\": 221, \"G_color\": 3, \"ga*gc\": 663}, {\"nPts\": 499999, \"mark\": \"bar\", \"time\": 109.7047390000014, \"G_axes\": 221, \"G_color\": 5, \"ga*gc\": 1105}, {\"nPts\": 499999, \"mark\": \"bar\", \"time\": 4877.254888000003, \"G_axes\": 221, \"G_color\": 11453, \"ga*gc\": 2531113}, {\"nPts\": 499999, \"mark\": \"bar\", \"time\": 343.3289999999971, \"G_axes\": 11453, \"G_color\": 3, \"ga*gc\": 34359}, {\"nPts\": 499999, \"mark\": \"bar\", \"time\": 348.2195700000048, \"G_axes\": 11453, \"G_color\": 5, \"ga*gc\": 57265}, {\"nPts\": 499999, \"mark\": \"bar\", \"time\": 6017.855553000004, \"G_axes\": 11453, \"G_color\": 221, \"ga*gc\": 2531113}, {\"nPts\": 787305, \"mark\": \"bar\", \"time\": 174.0082649999976, \"G_axes\": 3, \"G_color\": 5, \"ga*gc\": 15}, {\"nPts\": 787305, \"mark\": \"bar\", \"time\": 198.58591899999558, \"G_axes\": 3, \"G_color\": 221, \"ga*gc\": 663}, {\"nPts\": 787305, \"mark\": \"bar\", \"time\": 468.2439819999899, \"G_axes\": 3, \"G_color\": 11453, \"ga*gc\": 34359}, {\"nPts\": 787305, \"mark\": \"bar\", \"time\": 158.5762100000067, \"G_axes\": 5, \"G_color\": 3, \"ga*gc\": 15}, {\"nPts\": 787305, \"mark\": \"bar\", \"time\": 176.8642159999984, \"G_axes\": 5, \"G_color\": 221, \"ga*gc\": 1105}, {\"nPts\": 787305, \"mark\": \"bar\", \"time\": 642.1027549999963, \"G_axes\": 5, \"G_color\": 11453, \"ga*gc\": 57265}, {\"nPts\": 787305, \"mark\": \"bar\", \"time\": 201.0504449999928, \"G_axes\": 221, \"G_color\": 3, \"ga*gc\": 663}, {\"nPts\": 787305, \"mark\": \"bar\", \"time\": 185.6440330000026, \"G_axes\": 221, \"G_color\": 5, \"ga*gc\": 1105}, {\"nPts\": 787305, \"mark\": \"bar\", \"time\": 4834.609626999992, \"G_axes\": 221, \"G_color\": 11453, \"ga*gc\": 2531113}, {\"nPts\": 787305, \"mark\": \"bar\", \"time\": 530.0172719999949, \"G_axes\": 11453, \"G_color\": 3, \"ga*gc\": 34359}, {\"nPts\": 787305, \"mark\": \"bar\", \"time\": 520.1488140000095, \"G_axes\": 11453, \"G_color\": 5, \"ga*gc\": 57265}, {\"nPts\": 787305, \"mark\": \"bar\", \"time\": 6154.245292999988, \"G_axes\": 11453, \"G_color\": 221, \"ga*gc\": 2531113}, {\"nPts\": 1239698, \"mark\": \"bar\", \"time\": 183.1586960000066, \"G_axes\": 3, \"G_color\": 5, \"ga*gc\": 15}, {\"nPts\": 1239698, \"mark\": \"bar\", \"time\": 219.446187999992, \"G_axes\": 3, \"G_color\": 221, \"ga*gc\": 663}, {\"nPts\": 1239698, \"mark\": \"bar\", \"time\": 592.1755110000078, \"G_axes\": 3, \"G_color\": 11453, \"ga*gc\": 34359}, {\"nPts\": 1239698, \"mark\": \"bar\", \"time\": 184.5331530000038, \"G_axes\": 5, \"G_color\": 3, \"ga*gc\": 15}, {\"nPts\": 1239698, \"mark\": \"bar\", \"time\": 204.7023960000018, \"G_axes\": 5, \"G_color\": 221, \"ga*gc\": 1105}, {\"nPts\": 1239698, \"mark\": \"bar\", \"time\": 634.5651860000032, \"G_axes\": 5, \"G_color\": 11453, \"ga*gc\": 57265}, {\"nPts\": 1239698, \"mark\": \"bar\", \"time\": 207.9121649999962, \"G_axes\": 221, \"G_color\": 3, \"ga*gc\": 663}, {\"nPts\": 1239698, \"mark\": \"bar\", \"time\": 204.9047370000067, \"G_axes\": 221, \"G_color\": 5, \"ga*gc\": 1105}, {\"nPts\": 1239698, \"mark\": \"bar\", \"time\": 4931.0846500000025, \"G_axes\": 221, \"G_color\": 11453, \"ga*gc\": 2531113}, {\"nPts\": 1239698, \"mark\": \"bar\", \"time\": 673.7443420000062, \"G_axes\": 11453, \"G_color\": 3, \"ga*gc\": 34359}, {\"nPts\": 1239698, \"mark\": \"bar\", \"time\": 835.2332739999895, \"G_axes\": 11453, \"G_color\": 5, \"ga*gc\": 57265}, {\"nPts\": 1239698, \"mark\": \"bar\", \"time\": 6529.083211999989, \"G_axes\": 11453, \"G_color\": 221, \"ga*gc\": 2531113}, {\"nPts\": 1952041, \"mark\": \"bar\", \"time\": 280.3183680000245, \"G_axes\": 3, \"G_color\": 5, \"ga*gc\": 15}, {\"nPts\": 1952041, \"mark\": \"bar\", \"time\": 369.3151669999963, \"G_axes\": 3, \"G_color\": 221, \"ga*gc\": 663}, {\"nPts\": 1952041, \"mark\": \"bar\", \"time\": 962.9562289999852, \"G_axes\": 3, \"G_color\": 11453, \"ga*gc\": 34359}, {\"nPts\": 1952041, \"mark\": \"bar\", \"time\": 287.0940550000114, \"G_axes\": 5, \"G_color\": 3, \"ga*gc\": 15}, {\"nPts\": 1952041, \"mark\": \"bar\", \"time\": 338.6216419999925, \"G_axes\": 5, \"G_color\": 221, \"ga*gc\": 1105}, {\"nPts\": 1952041, \"mark\": \"bar\", \"time\": 984.7049800000036, \"G_axes\": 5, \"G_color\": 11453, \"ga*gc\": 57265}, {\"nPts\": 1952041, \"mark\": \"bar\", \"time\": 348.721941000008, \"G_axes\": 221, \"G_color\": 3, \"ga*gc\": 663}, {\"nPts\": 1952041, \"mark\": \"bar\", \"time\": 340.9615699999904, \"G_axes\": 221, \"G_color\": 5, \"ga*gc\": 1105}, {\"nPts\": 1952041, \"mark\": \"bar\", \"time\": 5308.931368999993, \"G_axes\": 221, \"G_color\": 11453, \"ga*gc\": 2531113}, {\"nPts\": 1952041, \"mark\": \"bar\", \"time\": 1126.7722649999996, \"G_axes\": 11453, \"G_color\": 3, \"ga*gc\": 34359}, {\"nPts\": 1952041, \"mark\": \"bar\", \"time\": 957.7226640000164, \"G_axes\": 11453, \"G_color\": 5, \"ga*gc\": 57265}, {\"nPts\": 1952041, \"mark\": \"bar\", \"time\": 6531.512982000009, \"G_axes\": 11453, \"G_color\": 221, \"ga*gc\": 2531113}, {\"nPts\": 3073704, \"mark\": \"bar\", \"time\": 461.9981079999888, \"G_axes\": 3, \"G_color\": 5, \"ga*gc\": 15}, {\"nPts\": 3073704, \"mark\": \"bar\", \"time\": 528.9486629999942, \"G_axes\": 3, \"G_color\": 221, \"ga*gc\": 663}, {\"nPts\": 3073704, \"mark\": \"bar\", \"time\": 1474.2540059999951, \"G_axes\": 3, \"G_color\": 11453, \"ga*gc\": 34359}, {\"nPts\": 3073704, \"mark\": \"bar\", \"time\": 434.9657809999883, \"G_axes\": 5, \"G_color\": 3, \"ga*gc\": 15}, {\"nPts\": 3073704, \"mark\": \"bar\", \"time\": 579.0976110000088, \"G_axes\": 5, \"G_color\": 221, \"ga*gc\": 1105}, {\"nPts\": 3073704, \"mark\": \"bar\", \"time\": 1519.3741040000075, \"G_axes\": 5, \"G_color\": 11453, \"ga*gc\": 57265}, {\"nPts\": 3073704, \"mark\": \"bar\", \"time\": 517.3866860000089, \"G_axes\": 221, \"G_color\": 3, \"ga*gc\": 663}, {\"nPts\": 3073704, \"mark\": \"bar\", \"time\": 542.2609150000142, \"G_axes\": 221, \"G_color\": 5, \"ga*gc\": 1105}, {\"nPts\": 3073704, \"mark\": \"bar\", \"time\": 6072.682108000009, \"G_axes\": 221, \"G_color\": 11453, \"ga*gc\": 2531113}, {\"nPts\": 3073704, \"mark\": \"bar\", \"time\": 1465.8709290000047, \"G_axes\": 11453, \"G_color\": 3, \"ga*gc\": 34359}, {\"nPts\": 3073704, \"mark\": \"bar\", \"time\": 1474.667313999987, \"G_axes\": 11453, \"G_color\": 5, \"ga*gc\": 57265}, {\"nPts\": 3073704, \"mark\": \"bar\", \"time\": 7154.439365999991, \"G_axes\": 11453, \"G_color\": 221, \"ga*gc\": 2531113}, {\"nPts\": 4839886, \"mark\": \"bar\", \"time\": 652.3142799999846, \"G_axes\": 3, \"G_color\": 5, \"ga*gc\": 15}, {\"nPts\": 4839886, \"mark\": \"bar\", \"time\": 783.0350739999972, \"G_axes\": 3, \"G_color\": 221, \"ga*gc\": 663}, {\"nPts\": 4839886, \"mark\": \"bar\", \"time\": 2549.302452999996, \"G_axes\": 3, \"G_color\": 11453, \"ga*gc\": 34359}, {\"nPts\": 4839886, \"mark\": \"bar\", \"time\": 642.543097999976, \"G_axes\": 5, \"G_color\": 3, \"ga*gc\": 15}, {\"nPts\": 4839886, \"mark\": \"bar\", \"time\": 728.3464949999825, \"G_axes\": 5, \"G_color\": 221, \"ga*gc\": 1105}, {\"nPts\": 4839886, \"mark\": \"bar\", \"time\": 2227.474530000052, \"G_axes\": 5, \"G_color\": 11453, \"ga*gc\": 57265}, {\"nPts\": 4839886, \"mark\": \"bar\", \"time\": 773.7122330000261, \"G_axes\": 221, \"G_color\": 3, \"ga*gc\": 663}, {\"nPts\": 4839886, \"mark\": \"bar\", \"time\": 780.8799580000141, \"G_axes\": 221, \"G_color\": 5, \"ga*gc\": 1105}, {\"nPts\": 4839886, \"mark\": \"bar\", \"time\": 6744.71575299998, \"G_axes\": 221, \"G_color\": 11453, \"ga*gc\": 2531113}, {\"nPts\": 4839886, \"mark\": \"bar\", \"time\": 2341.479228999958, \"G_axes\": 11453, \"G_color\": 3, \"ga*gc\": 34359}, {\"nPts\": 4839886, \"mark\": \"bar\", \"time\": 2168.4069959999874, \"G_axes\": 11453, \"G_color\": 5, \"ga*gc\": 57265}, {\"nPts\": 4839886, \"mark\": \"bar\", \"time\": 7929.54114600002, \"G_axes\": 11453, \"G_color\": 221, \"ga*gc\": 2531113}, {\"nPts\": 7620934, \"mark\": \"bar\", \"time\": 971.62973799999, \"G_axes\": 3, \"G_color\": 5, \"ga*gc\": 15}, {\"nPts\": 7620934, \"mark\": \"bar\", \"time\": 1196.2809480000374, \"G_axes\": 3, \"G_color\": 221, \"ga*gc\": 663}, {\"nPts\": 7620934, \"mark\": \"bar\", \"time\": 3217.381777000014, \"G_axes\": 3, \"G_color\": 11453, \"ga*gc\": 34359}, {\"nPts\": 7620934, \"mark\": \"bar\", \"time\": 996.6646630000467, \"G_axes\": 5, \"G_color\": 3, \"ga*gc\": 15}, {\"nPts\": 7620934, \"mark\": \"bar\", \"time\": 1172.959082000034, \"G_axes\": 5, \"G_color\": 221, \"ga*gc\": 1105}, {\"nPts\": 7620934, \"mark\": \"bar\", \"time\": 3221.3478300000133, \"G_axes\": 5, \"G_color\": 11453, \"ga*gc\": 57265}, {\"nPts\": 7620934, \"mark\": \"bar\", \"time\": 1193.752442999994, \"G_axes\": 221, \"G_color\": 3, \"ga*gc\": 663}, {\"nPts\": 7620934, \"mark\": \"bar\", \"time\": 1131.2043979999655, \"G_axes\": 221, \"G_color\": 5, \"ga*gc\": 1105}, {\"nPts\": 7620934, \"mark\": \"bar\", \"time\": 7442.920134000019, \"G_axes\": 221, \"G_color\": 11453, \"ga*gc\": 2531113}, {\"nPts\": 7620934, \"mark\": \"bar\", \"time\": 3323.672113999976, \"G_axes\": 11453, \"G_color\": 3, \"ga*gc\": 34359}, {\"nPts\": 7620934, \"mark\": \"bar\", \"time\": 3834.6455870000113, \"G_axes\": 11453, \"G_color\": 5, \"ga*gc\": 57265}, {\"nPts\": 7620934, \"mark\": \"bar\", \"time\": 8872.652803999983, \"G_axes\": 11453, \"G_color\": 221, \"ga*gc\": 2531113}, {\"nPts\": 12000000, \"mark\": \"bar\", \"time\": 1444.3397459999687, \"G_axes\": 3, \"G_color\": 5, \"ga*gc\": 15}, {\"nPts\": 12000000, \"mark\": \"bar\", \"time\": 1765.8419959999492, \"G_axes\": 3, \"G_color\": 221, \"ga*gc\": 663}, {\"nPts\": 12000000, \"mark\": \"bar\", \"time\": 4969.252388999962, \"G_axes\": 3, \"G_color\": 11453, \"ga*gc\": 34359}, {\"nPts\": 12000000, \"mark\": \"bar\", \"time\": 1484.3263500000603, \"G_axes\": 5, \"G_color\": 3, \"ga*gc\": 15}, {\"nPts\": 12000000, \"mark\": \"bar\", \"time\": 1708.5049459999482, \"G_axes\": 5, \"G_color\": 221, \"ga*gc\": 1105}, {\"nPts\": 12000000, \"mark\": \"bar\", \"time\": 5027.283615999977, \"G_axes\": 5, \"G_color\": 11453, \"ga*gc\": 57265}, {\"nPts\": 12000000, \"mark\": \"bar\", \"time\": 1840.248175000056, \"G_axes\": 221, \"G_color\": 3, \"ga*gc\": 663}, {\"nPts\": 12000000, \"mark\": \"bar\", \"time\": 1744.0351489999557, \"G_axes\": 221, \"G_color\": 5, \"ga*gc\": 1105}, {\"nPts\": 12000000, \"mark\": \"bar\", \"time\": 10252.79112999999, \"G_axes\": 221, \"G_color\": 11453, \"ga*gc\": 2531113}, {\"nPts\": 12000000, \"mark\": \"bar\", \"time\": 4989.021028000025, \"G_axes\": 11453, \"G_color\": 3, \"ga*gc\": 34359}, {\"nPts\": 12000000, \"mark\": \"bar\", \"time\": 5146.476328000063, \"G_axes\": 11453, \"G_color\": 5, \"ga*gc\": 57265}, {\"nPts\": 12000000, \"mark\": \"bar\", \"time\": 11475.992226000017, \"G_axes\": 11453, \"G_color\": 221, \"ga*gc\": 2531113}]}}, {\"mode\": \"vega-lite\"});\n",
       "</script>"
      ],
      "text/plain": [
       "alt.Chart(...)"
      ]
     },
     "execution_count": 330,
     "metadata": {},
     "output_type": "execute_result"
    }
   ],
   "source": [
    "alt.Chart(color_bar).mark_circle().encode(\n",
    "    y = \"time\",\n",
    "    x = \"nPts\",\n",
    "    color = alt.Color(\"ga*gc\",type=\"nominal\")\n",
    ").interactive()"
   ]
  },
  {
   "cell_type": "code",
   "execution_count": 383,
   "metadata": {},
   "outputs": [],
   "source": [
    "N = np.array(color_bar[\"nPts\"])\n",
    "G_axes = np.array(color_bar[\"G_axes\"])\n",
    "G_color = np.array(color_bar[\"G_color\"])\n",
    "y = np.array(color_bar[\"time\"])\n",
    "X = np.array([N,G_axes,G_color])"
   ]
  },
  {
   "cell_type": "code",
   "execution_count": 424,
   "metadata": {},
   "outputs": [],
   "source": [
    "from scipy.optimize import curve_fit\n",
    "def func(x, a, b,c,d,e,f,g):\n",
    "    return a + b * x[0] + c*x[1]+ d*x[2] +e*x[0]*x[1] + f*x[1]*x[2]  + g*x[0]*x[2]"
   ]
  },
  {
   "cell_type": "code",
   "execution_count": 425,
   "metadata": {},
   "outputs": [
    {
     "data": {
      "text/plain": [
       "array([ 6.21469091e+01,  1.31027750e-04,  1.89550172e-02, -1.87556507e-02,\n",
       "        2.58539228e-08,  2.04057602e-03,  2.52210929e-08])"
      ]
     },
     "execution_count": 425,
     "metadata": {},
     "output_type": "execute_result"
    }
   ],
   "source": [
    "popt, pcov = curve_fit(func, X,y)\n",
    "popt"
   ]
  },
  {
   "cell_type": "code",
   "execution_count": 421,
   "metadata": {},
   "outputs": [],
   "source": [
    "y_pred = func(X,*popt)"
   ]
  },
  {
   "cell_type": "code",
   "execution_count": 422,
   "metadata": {},
   "outputs": [
    {
     "name": "stdout",
     "output_type": "stream",
     "text": [
      "error: 54.00270882792882\n"
     ]
    }
   ],
   "source": [
    "perr = np.sqrt(np.diag(pcov))\n",
    "print (\"error:\", sum(perr))"
   ]
  },
  {
   "cell_type": "code",
   "execution_count": 423,
   "metadata": {},
   "outputs": [
    {
     "data": {
      "text/plain": [
       "[<matplotlib.lines.Line2D at 0x13fdb28d0>]"
      ]
     },
     "execution_count": 423,
     "metadata": {},
     "output_type": "execute_result"
    },
    {
     "data": {
      "image/png": "[encoded data removed]",
      "text/plain": [
       "<Figure size 432x288 with 1 Axes>"
      ]
     },
     "metadata": {
      "needs_background": "light"
     },
     "output_type": "display_data"
    }
   ],
   "source": [
    "dim = 0\n",
    "plt.plot(X[dim],y,'o')\n",
    "plt.plot(X[dim],func(X,*popt),'o')"
   ]
  },
  {
   "cell_type": "markdown",
   "metadata": {},
   "source": [
    "### Histogram "
   ]
  },
  {
   "cell_type": "code",
   "execution_count": 524,
   "metadata": {},
   "outputs": [],
   "source": [
    "df = pd.read_csv(\"../result/histogram_processing.csv\")\n",
    "df[\"time\"] = df[\"time\"]*1000"
   ]
  },
  {
   "cell_type": "code",
   "execution_count": 525,
   "metadata": {},
   "outputs": [
    {
     "data": {
      "text/html": [
       "\n",
       "<div id=\"altair-viz-2705b01e46e54b109a0d1789724ae19b\"></div>\n",
       "<script type=\"text/javascript\">\n",
       "  (function(spec, embedOpt){\n",
       "    let outputDiv = document.currentScript.previousElementSibling;\n",
       "    if (outputDiv.id !== \"altair-viz-2705b01e46e54b109a0d1789724ae19b\") {\n",
       "      outputDiv = document.getElementById(\"altair-viz-2705b01e46e54b109a0d1789724ae19b\");\n",
       "    }\n",
       "    const paths = {\n",
       "      \"vega\": \"https://cdn.jsdelivr.net/npm//vega@5?noext\",\n",
       "      \"vega-lib\": \"https://cdn.jsdelivr.net/npm//vega-lib?noext\",\n",
       "      \"vega-lite\": \"https://cdn.jsdelivr.net/npm//vega-lite@4.8.1?noext\",\n",
       "      \"vega-embed\": \"https://cdn.jsdelivr.net/npm//vega-embed@6?noext\",\n",
       "    };\n",
       "\n",
       "    function loadScript(lib) {\n",
       "      return new Promise(function(resolve, reject) {\n",
       "        var s = document.createElement('script');\n",
       "        s.src = paths[lib];\n",
       "        s.async = true;\n",
       "        s.onload = () => resolve(paths[lib]);\n",
       "        s.onerror = () => reject(`Error loading script: ${paths[lib]}`);\n",
       "        document.getElementsByTagName(\"head\")[0].appendChild(s);\n",
       "      });\n",
       "    }\n",
       "\n",
       "    function showError(err) {\n",
       "      outputDiv.innerHTML = `<div class=\"error\" style=\"color:red;\">${err}</div>`;\n",
       "      throw err;\n",
       "    }\n",
       "\n",
       "    function displayChart(vegaEmbed) {\n",
       "      vegaEmbed(outputDiv, spec, embedOpt)\n",
       "        .catch(err => showError(`Javascript Error: ${err.message}<br>This usually means there's a typo in your chart specification. See the javascript console for the full traceback.`));\n",
       "    }\n",
       "\n",
       "    if(typeof define === \"function\" && define.amd) {\n",
       "      requirejs.config({paths});\n",
       "      require([\"vega-embed\"], displayChart, err => showError(`Error loading script: ${err.message}`));\n",
       "    } else if (typeof vegaEmbed === \"function\") {\n",
       "      displayChart(vegaEmbed);\n",
       "    } else {\n",
       "      loadScript(\"vega\")\n",
       "        .then(() => loadScript(\"vega-lite\"))\n",
       "        .then(() => loadScript(\"vega-embed\"))\n",
       "        .catch(showError)\n",
       "        .then(() => displayChart(vegaEmbed));\n",
       "    }\n",
       "  })({\"config\": {\"view\": {\"continuousWidth\": 400, \"continuousHeight\": 300}}, \"data\": {\"name\": \"data-d80dc1df7e925e887dc3bea857bde398\"}, \"mark\": \"line\", \"encoding\": {\"color\": {\"type\": \"ordinal\", \"field\": \"nbins\"}, \"x\": {\"type\": \"quantitative\", \"field\": \"nPts\"}, \"y\": {\"type\": \"quantitative\", \"field\": \"time\"}}, \"$schema\": \"https://vega.github.io/schema/vega-lite/v4.8.1.json\", \"datasets\": {\"data-d80dc1df7e925e887dc3bea857bde398\": [{\"nPts\": 499999, \"mark\": \"histogram\", \"time\": 11.1621559999974, \"nbins\": 5}, {\"nPts\": 499999, \"mark\": \"histogram\", \"time\": 10.6613489999958, \"nbins\": 25}, {\"nPts\": 499999, \"mark\": \"histogram\", \"time\": 15.3543880000057, \"nbins\": 45}, {\"nPts\": 499999, \"mark\": \"histogram\", \"time\": 10.4765669999977, \"nbins\": 65}, {\"nPts\": 499999, \"mark\": \"histogram\", \"time\": 9.3098110000013, \"nbins\": 85}, {\"nPts\": 499999, \"mark\": \"histogram\", \"time\": 20.4745260000009, \"nbins\": 105}, {\"nPts\": 499999, \"mark\": \"histogram\", \"time\": 16.6568530000006, \"nbins\": 125}, {\"nPts\": 499999, \"mark\": \"histogram\", \"time\": 10.2984339999991, \"nbins\": 145}, {\"nPts\": 499999, \"mark\": \"histogram\", \"time\": 9.3619860000018, \"nbins\": 165}, {\"nPts\": 499999, \"mark\": \"histogram\", \"time\": 9.347750999999901, \"nbins\": 185}, {\"nPts\": 787305, \"mark\": \"histogram\", \"time\": 15.8904660000018, \"nbins\": 5}, {\"nPts\": 787305, \"mark\": \"histogram\", \"time\": 18.9922019999926, \"nbins\": 25}, {\"nPts\": 787305, \"mark\": \"histogram\", \"time\": 22.1832480000045, \"nbins\": 45}, {\"nPts\": 787305, \"mark\": \"histogram\", \"time\": 21.133140999992797, \"nbins\": 65}, {\"nPts\": 787305, \"mark\": \"histogram\", \"time\": 19.6969280000018, \"nbins\": 85}, {\"nPts\": 787305, \"mark\": \"histogram\", \"time\": 18.038666000009503, \"nbins\": 105}, {\"nPts\": 787305, \"mark\": \"histogram\", \"time\": 19.914604999996698, \"nbins\": 125}, {\"nPts\": 787305, \"mark\": \"histogram\", \"time\": 15.2212939999998, \"nbins\": 145}, {\"nPts\": 787305, \"mark\": \"histogram\", \"time\": 18.5313100000001, \"nbins\": 165}, {\"nPts\": 787305, \"mark\": \"histogram\", \"time\": 14.9702730000029, \"nbins\": 185}, {\"nPts\": 1239698, \"mark\": \"histogram\", \"time\": 22.5156109999886, \"nbins\": 5}, {\"nPts\": 1239698, \"mark\": \"histogram\", \"time\": 19.7628600000001, \"nbins\": 25}, {\"nPts\": 1239698, \"mark\": \"histogram\", \"time\": 19.0033980000094, \"nbins\": 45}, {\"nPts\": 1239698, \"mark\": \"histogram\", \"time\": 18.206964000000802, \"nbins\": 65}, {\"nPts\": 1239698, \"mark\": \"histogram\", \"time\": 17.9221369999993, \"nbins\": 85}, {\"nPts\": 1239698, \"mark\": \"histogram\", \"time\": 17.734500000003003, \"nbins\": 105}, {\"nPts\": 1239698, \"mark\": \"histogram\", \"time\": 18.0958109999949, \"nbins\": 125}, {\"nPts\": 1239698, \"mark\": \"histogram\", \"time\": 23.4420000000028, \"nbins\": 145}, {\"nPts\": 1239698, \"mark\": \"histogram\", \"time\": 18.9829010000011, \"nbins\": 165}, {\"nPts\": 1239698, \"mark\": \"histogram\", \"time\": 17.9297889999929, \"nbins\": 185}, {\"nPts\": 1952041, \"mark\": \"histogram\", \"time\": 42.4877210000147, \"nbins\": 5}, {\"nPts\": 1952041, \"mark\": \"histogram\", \"time\": 37.813615000004496, \"nbins\": 25}, {\"nPts\": 1952041, \"mark\": \"histogram\", \"time\": 29.8739299999795, \"nbins\": 45}, {\"nPts\": 1952041, \"mark\": \"histogram\", \"time\": 43.141569999988796, \"nbins\": 65}, {\"nPts\": 1952041, \"mark\": \"histogram\", \"time\": 37.2670000000141, \"nbins\": 85}, {\"nPts\": 1952041, \"mark\": \"histogram\", \"time\": 38.4134159999973, \"nbins\": 105}, {\"nPts\": 1952041, \"mark\": \"histogram\", \"time\": 30.0742819999868, \"nbins\": 125}, {\"nPts\": 1952041, \"mark\": \"histogram\", \"time\": 35.4332539999973, \"nbins\": 145}, {\"nPts\": 1952041, \"mark\": \"histogram\", \"time\": 40.1775560000032, \"nbins\": 165}, {\"nPts\": 1952041, \"mark\": \"histogram\", \"time\": 31.254083000021602, \"nbins\": 185}, {\"nPts\": 3073704, \"mark\": \"histogram\", \"time\": 65.1435169999956, \"nbins\": 5}, {\"nPts\": 3073704, \"mark\": \"histogram\", \"time\": 57.3142249999989, \"nbins\": 25}, {\"nPts\": 3073704, \"mark\": \"histogram\", \"time\": 52.9798809999988, \"nbins\": 45}, {\"nPts\": 3073704, \"mark\": \"histogram\", \"time\": 45.8510240000009, \"nbins\": 65}, {\"nPts\": 3073704, \"mark\": \"histogram\", \"time\": 47.9147339999883, \"nbins\": 85}, {\"nPts\": 3073704, \"mark\": \"histogram\", \"time\": 64.61198799999569, \"nbins\": 105}, {\"nPts\": 3073704, \"mark\": \"histogram\", \"time\": 45.4147940000098, \"nbins\": 125}, {\"nPts\": 3073704, \"mark\": \"histogram\", \"time\": 53.1548810000117, \"nbins\": 145}, {\"nPts\": 3073704, \"mark\": \"histogram\", \"time\": 45.7080740000037, \"nbins\": 165}, {\"nPts\": 3073704, \"mark\": \"histogram\", \"time\": 55.534325999985796, \"nbins\": 185}, {\"nPts\": 4839886, \"mark\": \"histogram\", \"time\": 78.1465839999953, \"nbins\": 5}, {\"nPts\": 4839886, \"mark\": \"histogram\", \"time\": 78.8639890000126, \"nbins\": 25}, {\"nPts\": 4839886, \"mark\": \"histogram\", \"time\": 79.3500369999833, \"nbins\": 45}, {\"nPts\": 4839886, \"mark\": \"histogram\", \"time\": 73.4481199999947, \"nbins\": 65}, {\"nPts\": 4839886, \"mark\": \"histogram\", \"time\": 82.5548599999876, \"nbins\": 85}, {\"nPts\": 4839886, \"mark\": \"histogram\", \"time\": 76.7068840000035, \"nbins\": 105}, {\"nPts\": 4839886, \"mark\": \"histogram\", \"time\": 82.0725399999844, \"nbins\": 125}, {\"nPts\": 4839886, \"mark\": \"histogram\", \"time\": 79.071257999999, \"nbins\": 145}, {\"nPts\": 4839886, \"mark\": \"histogram\", \"time\": 70.8640769999817, \"nbins\": 165}, {\"nPts\": 4839886, \"mark\": \"histogram\", \"time\": 72.2613309999928, \"nbins\": 185}, {\"nPts\": 7620934, \"mark\": \"histogram\", \"time\": 140.3748500000006, \"nbins\": 5}, {\"nPts\": 7620934, \"mark\": \"histogram\", \"time\": 131.7647820000047, \"nbins\": 25}, {\"nPts\": 7620934, \"mark\": \"histogram\", \"time\": 119.83778699999439, \"nbins\": 45}, {\"nPts\": 7620934, \"mark\": \"histogram\", \"time\": 113.9477349999538, \"nbins\": 65}, {\"nPts\": 7620934, \"mark\": \"histogram\", \"time\": 131.9545139999718, \"nbins\": 85}, {\"nPts\": 7620934, \"mark\": \"histogram\", \"time\": 124.1344160000039, \"nbins\": 105}, {\"nPts\": 7620934, \"mark\": \"histogram\", \"time\": 121.8678429999613, \"nbins\": 125}, {\"nPts\": 7620934, \"mark\": \"histogram\", \"time\": 120.5193729999791, \"nbins\": 145}, {\"nPts\": 7620934, \"mark\": \"histogram\", \"time\": 129.2117720000192, \"nbins\": 165}, {\"nPts\": 7620934, \"mark\": \"histogram\", \"time\": 119.5818049999957, \"nbins\": 185}, {\"nPts\": 12000000, \"mark\": \"histogram\", \"time\": 209.0291150000212, \"nbins\": 5}, {\"nPts\": 12000000, \"mark\": \"histogram\", \"time\": 178.0987739999773, \"nbins\": 25}, {\"nPts\": 12000000, \"mark\": \"histogram\", \"time\": 170.4602909999835, \"nbins\": 45}, {\"nPts\": 12000000, \"mark\": \"histogram\", \"time\": 170.9315879999735, \"nbins\": 65}, {\"nPts\": 12000000, \"mark\": \"histogram\", \"time\": 167.9979310000021, \"nbins\": 85}, {\"nPts\": 12000000, \"mark\": \"histogram\", \"time\": 172.49653900000789, \"nbins\": 105}, {\"nPts\": 12000000, \"mark\": \"histogram\", \"time\": 175.4204070000469, \"nbins\": 125}, {\"nPts\": 12000000, \"mark\": \"histogram\", \"time\": 178.7373790000401, \"nbins\": 145}, {\"nPts\": 12000000, \"mark\": \"histogram\", \"time\": 167.0220739999877, \"nbins\": 165}, {\"nPts\": 12000000, \"mark\": \"histogram\", \"time\": 175.7079509999926, \"nbins\": 185}]}}, {\"mode\": \"vega-lite\"});\n",
       "</script>"
      ],
      "text/plain": [
       "alt.Chart(...)"
      ]
     },
     "execution_count": 525,
     "metadata": {},
     "output_type": "execute_result"
    }
   ],
   "source": [
    "alt.Chart(df).mark_line().encode(\n",
    "    y = \"time\",\n",
    "    x = \"nPts\",\n",
    "    color = alt.Color(\"nbins\",type=\"ordinal\")\n",
    ")"
   ]
  },
  {
   "cell_type": "code",
   "execution_count": 526,
   "metadata": {},
   "outputs": [],
   "source": [
    "N = np.array(df[\"nPts\"])\n",
    "Nbin = np.array(df[\"nbins\"])\n",
    "y = np.array(df[\"time\"])\n",
    "X = np.array([N,Nbin])"
   ]
  },
  {
   "cell_type": "code",
   "execution_count": 527,
   "metadata": {},
   "outputs": [],
   "source": [
    "from scipy.optimize import curve_fit\n",
    "def func(x, a, b,c):\n",
    "    return a + b * x[0]+ c*x[1] #+ d*x[0]*x[1]"
   ]
  },
  {
   "cell_type": "code",
   "execution_count": 528,
   "metadata": {},
   "outputs": [
    {
     "data": {
      "text/plain": [
       "array([ 9.87710714e+00,  1.45973912e-05, -3.55318152e-02])"
      ]
     },
     "execution_count": 528,
     "metadata": {},
     "output_type": "execute_result"
    }
   ],
   "source": [
    "popt, pcov = curve_fit(func, X,y)\n",
    "popt"
   ]
  },
  {
   "cell_type": "code",
   "execution_count": 529,
   "metadata": {},
   "outputs": [],
   "source": [
    "y_pred = func(X,*popt)"
   ]
  },
  {
   "cell_type": "code",
   "execution_count": 530,
   "metadata": {},
   "outputs": [
    {
     "name": "stdout",
     "output_type": "stream",
     "text": [
      "error: 1.7477770161289075\n"
     ]
    }
   ],
   "source": [
    "perr = np.sqrt(np.diag(pcov))\n",
    "print (\"error:\", sum(perr))"
   ]
  },
  {
   "cell_type": "code",
   "execution_count": 531,
   "metadata": {},
   "outputs": [
    {
     "data": {
      "text/plain": [
       "[<matplotlib.lines.Line2D at 0x140387b90>]"
      ]
     },
     "execution_count": 531,
     "metadata": {},
     "output_type": "execute_result"
    },
    {
     "data": {
      "image/png": "[encoded data removed]",
      "text/plain": [
       "<Figure size 432x288 with 1 Axes>"
      ]
     },
     "metadata": {
      "needs_background": "light"
     },
     "output_type": "display_data"
    }
   ],
   "source": [
    "dim = 0\n",
    "plt.plot(X[dim],y,'o')\n",
    "plt.plot(X[dim],func(X,*popt),'o')"
   ]
  },
  {
   "cell_type": "code",
   "execution_count": 439,
   "metadata": {},
   "outputs": [
    {
     "name": "stdout",
     "output_type": "stream",
     "text": [
      "Coefficients: [1.45973912e-05 6.50158480e+00]\n",
      "error: 4138.522597218866\n"
     ]
    }
   ],
   "source": [
    "# Verify that coefficient value is the same with linear fitting\n",
    "coeff, residuals, rank, singular_values, rcond = np.polyfit(N,y,1,full=True)\n",
    "print (\"Coefficients:\",coeff)\n",
    "print (\"error:\",residuals[0])"
   ]
  },
  {
   "cell_type": "markdown",
   "metadata": {},
   "source": [
    "Histogram processing speed has no dependence on the number of bins"
   ]
  },
  {
   "cell_type": "markdown",
   "metadata": {},
   "source": [
    "###  Heatmap Cost Model"
   ]
  },
  {
   "cell_type": "code",
   "execution_count": 532,
   "metadata": {},
   "outputs": [],
   "source": [
    "df = pd.read_csv(\"../result/heatmap_processing.csv\")\n",
    "df[\"time\"] = df[\"time\"]*1000\n",
    "df.nbin = df.nbin.astype(int)"
   ]
  },
  {
   "cell_type": "code",
   "execution_count": 533,
   "metadata": {},
   "outputs": [
    {
     "data": {
      "text/html": [
       "\n",
       "<div id=\"altair-viz-74d1cd246812473b9081714660106553\"></div>\n",
       "<script type=\"text/javascript\">\n",
       "  (function(spec, embedOpt){\n",
       "    let outputDiv = document.currentScript.previousElementSibling;\n",
       "    if (outputDiv.id !== \"altair-viz-74d1cd246812473b9081714660106553\") {\n",
       "      outputDiv = document.getElementById(\"altair-viz-74d1cd246812473b9081714660106553\");\n",
       "    }\n",
       "    const paths = {\n",
       "      \"vega\": \"https://cdn.jsdelivr.net/npm//vega@5?noext\",\n",
       "      \"vega-lib\": \"https://cdn.jsdelivr.net/npm//vega-lib?noext\",\n",
       "      \"vega-lite\": \"https://cdn.jsdelivr.net/npm//vega-lite@4.8.1?noext\",\n",
       "      \"vega-embed\": \"https://cdn.jsdelivr.net/npm//vega-embed@6?noext\",\n",
       "    };\n",
       "\n",
       "    function loadScript(lib) {\n",
       "      return new Promise(function(resolve, reject) {\n",
       "        var s = document.createElement('script');\n",
       "        s.src = paths[lib];\n",
       "        s.async = true;\n",
       "        s.onload = () => resolve(paths[lib]);\n",
       "        s.onerror = () => reject(`Error loading script: ${paths[lib]}`);\n",
       "        document.getElementsByTagName(\"head\")[0].appendChild(s);\n",
       "      });\n",
       "    }\n",
       "\n",
       "    function showError(err) {\n",
       "      outputDiv.innerHTML = `<div class=\"error\" style=\"color:red;\">${err}</div>`;\n",
       "      throw err;\n",
       "    }\n",
       "\n",
       "    function displayChart(vegaEmbed) {\n",
       "      vegaEmbed(outputDiv, spec, embedOpt)\n",
       "        .catch(err => showError(`Javascript Error: ${err.message}<br>This usually means there's a typo in your chart specification. See the javascript console for the full traceback.`));\n",
       "    }\n",
       "\n",
       "    if(typeof define === \"function\" && define.amd) {\n",
       "      requirejs.config({paths});\n",
       "      require([\"vega-embed\"], displayChart, err => showError(`Error loading script: ${err.message}`));\n",
       "    } else if (typeof vegaEmbed === \"function\") {\n",
       "      displayChart(vegaEmbed);\n",
       "    } else {\n",
       "      loadScript(\"vega\")\n",
       "        .then(() => loadScript(\"vega-lite\"))\n",
       "        .then(() => loadScript(\"vega-embed\"))\n",
       "        .catch(showError)\n",
       "        .then(() => displayChart(vegaEmbed));\n",
       "    }\n",
       "  })({\"config\": {\"view\": {\"continuousWidth\": 400, \"continuousHeight\": 300}}, \"data\": {\"name\": \"data-8982c99b659554eadf4a660acd9918cb\"}, \"mark\": \"line\", \"encoding\": {\"color\": {\"type\": \"ordinal\", \"field\": \"nbin\"}, \"row\": {\"type\": \"nominal\", \"field\": \"mark\"}, \"x\": {\"type\": \"quantitative\", \"field\": \"nPts\"}, \"y\": {\"type\": \"quantitative\", \"field\": \"time\"}}, \"$schema\": \"https://vega.github.io/schema/vega-lite/v4.8.1.json\", \"datasets\": {\"data-8982c99b659554eadf4a660acd9918cb\": [{\"nPts\": 499999, \"mark\": \"heatmap\", \"time\": 4.348513, \"nbin\": 5}, {\"nPts\": 499999, \"mark\": \"quantitative color heatmap\", \"time\": 4.294887999996799, \"nbin\": 5}, {\"nPts\": 499999, \"mark\": \"categorical color heatmap\", \"time\": 9.6122869999994, \"nbin\": 5}, {\"nPts\": 499999, \"mark\": \"heatmap\", \"time\": 4.038358999999, \"nbin\": 8}, {\"nPts\": 499999, \"mark\": \"quantitative color heatmap\", \"time\": 4.603939999999, \"nbin\": 8}, {\"nPts\": 499999, \"mark\": \"categorical color heatmap\", \"time\": 5.9515250000004, \"nbin\": 8}, {\"nPts\": 499999, \"mark\": \"heatmap\", \"time\": 3.8547899999983, \"nbin\": 13}, {\"nPts\": 499999, \"mark\": \"quantitative color heatmap\", \"time\": 3.5296199999983, \"nbin\": 13}, {\"nPts\": 499999, \"mark\": \"categorical color heatmap\", \"time\": 7.044791000001901, \"nbin\": 13}, {\"nPts\": 499999, \"mark\": \"heatmap\", \"time\": 3.7146729999975, \"nbin\": 23}, {\"nPts\": 499999, \"mark\": \"quantitative color heatmap\", \"time\": 3.3397459999982, \"nbin\": 23}, {\"nPts\": 499999, \"mark\": \"categorical color heatmap\", \"time\": 5.940641000002199, \"nbin\": 23}, {\"nPts\": 499999, \"mark\": \"heatmap\", \"time\": 7.2742519999984, \"nbin\": 38}, {\"nPts\": 499999, \"mark\": \"quantitative color heatmap\", \"time\": 3.6699240000004, \"nbin\": 38}, {\"nPts\": 499999, \"mark\": \"categorical color heatmap\", \"time\": 6.1313409999996, \"nbin\": 38}, {\"nPts\": 499999, \"mark\": \"heatmap\", \"time\": 4.1454999999999, \"nbin\": 64}, {\"nPts\": 499999, \"mark\": \"quantitative color heatmap\", \"time\": 3.3218569999995, \"nbin\": 64}, {\"nPts\": 499999, \"mark\": \"categorical color heatmap\", \"time\": 5.388011000000801, \"nbin\": 64}, {\"nPts\": 499999, \"mark\": \"heatmap\", \"time\": 3.8551869999991997, \"nbin\": 107}, {\"nPts\": 499999, \"mark\": \"quantitative color heatmap\", \"time\": 3.2617990000005, \"nbin\": 107}, {\"nPts\": 499999, \"mark\": \"categorical color heatmap\", \"time\": 6.3069389999981, \"nbin\": 107}, {\"nPts\": 499999, \"mark\": \"heatmap\", \"time\": 3.4693479999994, \"nbin\": 179}, {\"nPts\": 499999, \"mark\": \"quantitative color heatmap\", \"time\": 4.1705140000019, \"nbin\": 179}, {\"nPts\": 499999, \"mark\": \"categorical color heatmap\", \"time\": 5.4639290000011, \"nbin\": 179}, {\"nPts\": 499999, \"mark\": \"heatmap\", \"time\": 3.8263389999997, \"nbin\": 299}, {\"nPts\": 499999, \"mark\": \"quantitative color heatmap\", \"time\": 3.1361429999988997, \"nbin\": 299}, {\"nPts\": 499999, \"mark\": \"categorical color heatmap\", \"time\": 6.213060000000301, \"nbin\": 299}, {\"nPts\": 499999, \"mark\": \"heatmap\", \"time\": 3.3214860000008, \"nbin\": 499}, {\"nPts\": 499999, \"mark\": \"quantitative color heatmap\", \"time\": 3.1057819999986003, \"nbin\": 499}, {\"nPts\": 499999, \"mark\": \"categorical color heatmap\", \"time\": 5.4058400000016, \"nbin\": 499}, {\"nPts\": 787305, \"mark\": \"heatmap\", \"time\": 13.8055139999977, \"nbin\": 5}, {\"nPts\": 787305, \"mark\": \"quantitative color heatmap\", \"time\": 9.6698480000014, \"nbin\": 5}, {\"nPts\": 787305, \"mark\": \"categorical color heatmap\", \"time\": 8.9517949999944, \"nbin\": 5}, {\"nPts\": 787305, \"mark\": \"heatmap\", \"time\": 9.9567070000006, \"nbin\": 8}, {\"nPts\": 787305, \"mark\": \"quantitative color heatmap\", \"time\": 5.1774600000058, \"nbin\": 8}, {\"nPts\": 787305, \"mark\": \"categorical color heatmap\", \"time\": 8.6434310000029, \"nbin\": 8}, {\"nPts\": 787305, \"mark\": \"heatmap\", \"time\": 5.899759999998301, \"nbin\": 13}, {\"nPts\": 787305, \"mark\": \"quantitative color heatmap\", \"time\": 4.8310609999973, \"nbin\": 13}, {\"nPts\": 787305, \"mark\": \"categorical color heatmap\", \"time\": 7.978086999997899, \"nbin\": 13}, {\"nPts\": 787305, \"mark\": \"heatmap\", \"time\": 5.1981699999997995, \"nbin\": 23}, {\"nPts\": 787305, \"mark\": \"quantitative color heatmap\", \"time\": 4.7722919999984, \"nbin\": 23}, {\"nPts\": 787305, \"mark\": \"categorical color heatmap\", \"time\": 7.656672000003, \"nbin\": 23}, {\"nPts\": 787305, \"mark\": \"heatmap\", \"time\": 4.7376430000056, \"nbin\": 38}, {\"nPts\": 787305, \"mark\": \"quantitative color heatmap\", \"time\": 4.4129359999942, \"nbin\": 38}, {\"nPts\": 787305, \"mark\": \"categorical color heatmap\", \"time\": 7.7477339999987, \"nbin\": 38}, {\"nPts\": 787305, \"mark\": \"heatmap\", \"time\": 5.1955899999995, \"nbin\": 64}, {\"nPts\": 787305, \"mark\": \"quantitative color heatmap\", \"time\": 4.5719670000039, \"nbin\": 64}, {\"nPts\": 787305, \"mark\": \"categorical color heatmap\", \"time\": 7.5848350000029, \"nbin\": 64}, {\"nPts\": 787305, \"mark\": \"heatmap\", \"time\": 8.5446630000021, \"nbin\": 107}, {\"nPts\": 787305, \"mark\": \"quantitative color heatmap\", \"time\": 4.8127330000014, \"nbin\": 107}, {\"nPts\": 787305, \"mark\": \"categorical color heatmap\", \"time\": 7.911677999999201, \"nbin\": 107}, {\"nPts\": 787305, \"mark\": \"heatmap\", \"time\": 4.9901049999974, \"nbin\": 179}, {\"nPts\": 787305, \"mark\": \"quantitative color heatmap\", \"time\": 4.6025200000059, \"nbin\": 179}, {\"nPts\": 787305, \"mark\": \"categorical color heatmap\", \"time\": 7.7212499999959, \"nbin\": 179}, {\"nPts\": 787305, \"mark\": \"heatmap\", \"time\": 9.0165619999993, \"nbin\": 299}, {\"nPts\": 787305, \"mark\": \"quantitative color heatmap\", \"time\": 5.1817299999967, \"nbin\": 299}, {\"nPts\": 787305, \"mark\": \"categorical color heatmap\", \"time\": 8.1899469999981, \"nbin\": 299}, {\"nPts\": 787305, \"mark\": \"heatmap\", \"time\": 4.8290309999998, \"nbin\": 499}, {\"nPts\": 787305, \"mark\": \"quantitative color heatmap\", \"time\": 4.546292999997, \"nbin\": 499}, {\"nPts\": 787305, \"mark\": \"categorical color heatmap\", \"time\": 7.6050730000005, \"nbin\": 499}, {\"nPts\": 1239698, \"mark\": \"heatmap\", \"time\": 13.795904999994901, \"nbin\": 5}, {\"nPts\": 1239698, \"mark\": \"quantitative color heatmap\", \"time\": 14.137834999999601, \"nbin\": 5}, {\"nPts\": 1239698, \"mark\": \"categorical color heatmap\", \"time\": 11.697010000006, \"nbin\": 5}, {\"nPts\": 1239698, \"mark\": \"heatmap\", \"time\": 6.0467869999882, \"nbin\": 8}, {\"nPts\": 1239698, \"mark\": \"quantitative color heatmap\", \"time\": 7.459851999996601, \"nbin\": 8}, {\"nPts\": 1239698, \"mark\": \"categorical color heatmap\", \"time\": 11.1225290000049, \"nbin\": 8}, {\"nPts\": 1239698, \"mark\": \"heatmap\", \"time\": 5.6548390000017, \"nbin\": 13}, {\"nPts\": 1239698, \"mark\": \"quantitative color heatmap\", \"time\": 6.7286910000063, \"nbin\": 13}, {\"nPts\": 1239698, \"mark\": \"categorical color heatmap\", \"time\": 9.894333999994801, \"nbin\": 13}, {\"nPts\": 1239698, \"mark\": \"heatmap\", \"time\": 5.2013969999933, \"nbin\": 23}, {\"nPts\": 1239698, \"mark\": \"quantitative color heatmap\", \"time\": 6.696977000004201, \"nbin\": 23}, {\"nPts\": 1239698, \"mark\": \"categorical color heatmap\", \"time\": 10.8538810000027, \"nbin\": 23}, {\"nPts\": 1239698, \"mark\": \"heatmap\", \"time\": 6.7300899999906, \"nbin\": 38}, {\"nPts\": 1239698, \"mark\": \"quantitative color heatmap\", \"time\": 7.2603459999953, \"nbin\": 38}, {\"nPts\": 1239698, \"mark\": \"categorical color heatmap\", \"time\": 10.6498399999992, \"nbin\": 38}, {\"nPts\": 1239698, \"mark\": \"heatmap\", \"time\": 5.58014100001, \"nbin\": 64}, {\"nPts\": 1239698, \"mark\": \"quantitative color heatmap\", \"time\": 7.1298520000055, \"nbin\": 64}, {\"nPts\": 1239698, \"mark\": \"categorical color heatmap\", \"time\": 10.1312339999992, \"nbin\": 64}, {\"nPts\": 1239698, \"mark\": \"heatmap\", \"time\": 6.1860570000078, \"nbin\": 107}, {\"nPts\": 1239698, \"mark\": \"quantitative color heatmap\", \"time\": 6.9795579999976, \"nbin\": 107}, {\"nPts\": 1239698, \"mark\": \"categorical color heatmap\", \"time\": 10.477965999996199, \"nbin\": 107}, {\"nPts\": 1239698, \"mark\": \"heatmap\", \"time\": 6.856141, \"nbin\": 179}, {\"nPts\": 1239698, \"mark\": \"quantitative color heatmap\", \"time\": 7.4967360000073, \"nbin\": 179}, {\"nPts\": 1239698, \"mark\": \"categorical color heatmap\", \"time\": 10.0419660000028, \"nbin\": 179}, {\"nPts\": 1239698, \"mark\": \"heatmap\", \"time\": 6.0592720000016005, \"nbin\": 299}, {\"nPts\": 1239698, \"mark\": \"quantitative color heatmap\", \"time\": 6.636843999999, \"nbin\": 299}, {\"nPts\": 1239698, \"mark\": \"categorical color heatmap\", \"time\": 9.995727999992699, \"nbin\": 299}, {\"nPts\": 1239698, \"mark\": \"heatmap\", \"time\": 5.3813480000002, \"nbin\": 499}, {\"nPts\": 1239698, \"mark\": \"quantitative color heatmap\", \"time\": 6.6297130000094, \"nbin\": 499}, {\"nPts\": 1239698, \"mark\": \"categorical color heatmap\", \"time\": 10.074459000009, \"nbin\": 499}, {\"nPts\": 1952041, \"mark\": \"heatmap\", \"time\": 20.302105999988303, \"nbin\": 5}, {\"nPts\": 1952041, \"mark\": \"quantitative color heatmap\", \"time\": 22.4547930000085, \"nbin\": 5}, {\"nPts\": 1952041, \"mark\": \"categorical color heatmap\", \"time\": 18.3285399999988, \"nbin\": 5}, {\"nPts\": 1952041, \"mark\": \"heatmap\", \"time\": 10.4125750000036, \"nbin\": 8}, {\"nPts\": 1952041, \"mark\": \"quantitative color heatmap\", \"time\": 9.902776999993499, \"nbin\": 8}, {\"nPts\": 1952041, \"mark\": \"categorical color heatmap\", \"time\": 17.482464000011003, \"nbin\": 8}, {\"nPts\": 1952041, \"mark\": \"heatmap\", \"time\": 10.674176000009, \"nbin\": 13}, {\"nPts\": 1952041, \"mark\": \"quantitative color heatmap\", \"time\": 9.8717880000123, \"nbin\": 13}, {\"nPts\": 1952041, \"mark\": \"categorical color heatmap\", \"time\": 18.174310999995598, \"nbin\": 13}, {\"nPts\": 1952041, \"mark\": \"heatmap\", \"time\": 10.5202729999973, \"nbin\": 23}, {\"nPts\": 1952041, \"mark\": \"quantitative color heatmap\", \"time\": 10.2472049999988, \"nbin\": 23}, {\"nPts\": 1952041, \"mark\": \"categorical color heatmap\", \"time\": 17.5907129999899, \"nbin\": 23}, {\"nPts\": 1952041, \"mark\": \"heatmap\", \"time\": 10.853351999998, \"nbin\": 38}, {\"nPts\": 1952041, \"mark\": \"quantitative color heatmap\", \"time\": 9.724325999997001, \"nbin\": 38}, {\"nPts\": 1952041, \"mark\": \"categorical color heatmap\", \"time\": 17.9609569999996, \"nbin\": 38}, {\"nPts\": 1952041, \"mark\": \"heatmap\", \"time\": 10.6141990000026, \"nbin\": 64}, {\"nPts\": 1952041, \"mark\": \"quantitative color heatmap\", \"time\": 10.0127210000096, \"nbin\": 64}, {\"nPts\": 1952041, \"mark\": \"categorical color heatmap\", \"time\": 17.4051050000088, \"nbin\": 64}, {\"nPts\": 1952041, \"mark\": \"heatmap\", \"time\": 10.3145740000059, \"nbin\": 107}, {\"nPts\": 1952041, \"mark\": \"quantitative color heatmap\", \"time\": 9.9822460000069, \"nbin\": 107}, {\"nPts\": 1952041, \"mark\": \"categorical color heatmap\", \"time\": 17.6809780000013, \"nbin\": 107}, {\"nPts\": 1952041, \"mark\": \"heatmap\", \"time\": 10.483030000003101, \"nbin\": 179}, {\"nPts\": 1952041, \"mark\": \"quantitative color heatmap\", \"time\": 9.6280189999902, \"nbin\": 179}, {\"nPts\": 1952041, \"mark\": \"categorical color heatmap\", \"time\": 17.198696999997697, \"nbin\": 179}, {\"nPts\": 1952041, \"mark\": \"heatmap\", \"time\": 10.6176199999907, \"nbin\": 299}, {\"nPts\": 1952041, \"mark\": \"quantitative color heatmap\", \"time\": 10.624507000002799, \"nbin\": 299}, {\"nPts\": 1952041, \"mark\": \"categorical color heatmap\", \"time\": 18.0942699999917, \"nbin\": 299}, {\"nPts\": 1952041, \"mark\": \"heatmap\", \"time\": 10.1693539999985, \"nbin\": 499}, {\"nPts\": 1952041, \"mark\": \"quantitative color heatmap\", \"time\": 10.517270999997601, \"nbin\": 499}, {\"nPts\": 1952041, \"mark\": \"categorical color heatmap\", \"time\": 17.892874000011698, \"nbin\": 499}, {\"nPts\": 3073704, \"mark\": \"heatmap\", \"time\": 15.4410650000045, \"nbin\": 5}, {\"nPts\": 3073704, \"mark\": \"quantitative color heatmap\", \"time\": 18.7854579999964, \"nbin\": 5}, {\"nPts\": 3073704, \"mark\": \"categorical color heatmap\", \"time\": 30.3866440000035, \"nbin\": 5}, {\"nPts\": 3073704, \"mark\": \"heatmap\", \"time\": 18.1377929999939, \"nbin\": 8}, {\"nPts\": 3073704, \"mark\": \"quantitative color heatmap\", \"time\": 18.6381480000079, \"nbin\": 8}, {\"nPts\": 3073704, \"mark\": \"categorical color heatmap\", \"time\": 31.519142000007598, \"nbin\": 8}, {\"nPts\": 3073704, \"mark\": \"heatmap\", \"time\": 18.037420000012997, \"nbin\": 13}, {\"nPts\": 3073704, \"mark\": \"quantitative color heatmap\", \"time\": 20.9370919999969, \"nbin\": 13}, {\"nPts\": 3073704, \"mark\": \"categorical color heatmap\", \"time\": 30.104930000021497, \"nbin\": 13}, {\"nPts\": 3073704, \"mark\": \"heatmap\", \"time\": 17.7676499999961, \"nbin\": 23}, {\"nPts\": 3073704, \"mark\": \"quantitative color heatmap\", \"time\": 17.6727040000059, \"nbin\": 23}, {\"nPts\": 3073704, \"mark\": \"categorical color heatmap\", \"time\": 31.0357470000042, \"nbin\": 23}, {\"nPts\": 3073704, \"mark\": \"heatmap\", \"time\": 19.067634999998898, \"nbin\": 38}, {\"nPts\": 3073704, \"mark\": \"quantitative color heatmap\", \"time\": 18.4678100000041, \"nbin\": 38}, {\"nPts\": 3073704, \"mark\": \"categorical color heatmap\", \"time\": 30.259827000008897, \"nbin\": 38}, {\"nPts\": 3073704, \"mark\": \"heatmap\", \"time\": 18.862299999995, \"nbin\": 64}, {\"nPts\": 3073704, \"mark\": \"quantitative color heatmap\", \"time\": 18.008045999977103, \"nbin\": 64}, {\"nPts\": 3073704, \"mark\": \"categorical color heatmap\", \"time\": 30.4479060000062, \"nbin\": 64}, {\"nPts\": 3073704, \"mark\": \"heatmap\", \"time\": 18.765793, \"nbin\": 107}, {\"nPts\": 3073704, \"mark\": \"quantitative color heatmap\", \"time\": 18.217962000022602, \"nbin\": 107}, {\"nPts\": 3073704, \"mark\": \"categorical color heatmap\", \"time\": 30.234500999995298, \"nbin\": 107}, {\"nPts\": 3073704, \"mark\": \"heatmap\", \"time\": 17.7193320000128, \"nbin\": 179}, {\"nPts\": 3073704, \"mark\": \"quantitative color heatmap\", \"time\": 17.7540480000004, \"nbin\": 179}, {\"nPts\": 3073704, \"mark\": \"categorical color heatmap\", \"time\": 30.1446519999899, \"nbin\": 179}, {\"nPts\": 3073704, \"mark\": \"heatmap\", \"time\": 19.236749999976098, \"nbin\": 299}, {\"nPts\": 3073704, \"mark\": \"quantitative color heatmap\", \"time\": 18.954014000001898, \"nbin\": 299}, {\"nPts\": 3073704, \"mark\": \"categorical color heatmap\", \"time\": 32.8056390000028, \"nbin\": 299}, {\"nPts\": 3073704, \"mark\": \"heatmap\", \"time\": 19.7252720000165, \"nbin\": 499}, {\"nPts\": 3073704, \"mark\": \"quantitative color heatmap\", \"time\": 19.6573919999991, \"nbin\": 499}, {\"nPts\": 3073704, \"mark\": \"categorical color heatmap\", \"time\": 31.848550000006497, \"nbin\": 499}, {\"nPts\": 4839886, \"mark\": \"heatmap\", \"time\": 21.692525999981097, \"nbin\": 5}, {\"nPts\": 4839886, \"mark\": \"quantitative color heatmap\", \"time\": 24.353743000006, \"nbin\": 5}, {\"nPts\": 4839886, \"mark\": \"categorical color heatmap\", \"time\": 42.1851039999978, \"nbin\": 5}, {\"nPts\": 4839886, \"mark\": \"heatmap\", \"time\": 25.091451999997997, \"nbin\": 8}, {\"nPts\": 4839886, \"mark\": \"quantitative color heatmap\", \"time\": 25.135134000009803, \"nbin\": 8}, {\"nPts\": 4839886, \"mark\": \"categorical color heatmap\", \"time\": 43.2476530000087, \"nbin\": 8}, {\"nPts\": 4839886, \"mark\": \"heatmap\", \"time\": 25.3647790000002, \"nbin\": 13}, {\"nPts\": 4839886, \"mark\": \"quantitative color heatmap\", \"time\": 24.8915169999861, \"nbin\": 13}, {\"nPts\": 4839886, \"mark\": \"categorical color heatmap\", \"time\": 42.6441070000009, \"nbin\": 13}, {\"nPts\": 4839886, \"mark\": \"heatmap\", \"time\": 25.1821559999996, \"nbin\": 23}, {\"nPts\": 4839886, \"mark\": \"quantitative color heatmap\", \"time\": 24.446562999997898, \"nbin\": 23}, {\"nPts\": 4839886, \"mark\": \"categorical color heatmap\", \"time\": 42.854272999989, \"nbin\": 23}, {\"nPts\": 4839886, \"mark\": \"heatmap\", \"time\": 28.262046999998297, \"nbin\": 38}, {\"nPts\": 4839886, \"mark\": \"quantitative color heatmap\", \"time\": 26.5867530000036, \"nbin\": 38}, {\"nPts\": 4839886, \"mark\": \"categorical color heatmap\", \"time\": 43.1812690000015, \"nbin\": 38}, {\"nPts\": 4839886, \"mark\": \"heatmap\", \"time\": 25.222369000005, \"nbin\": 64}, {\"nPts\": 4839886, \"mark\": \"quantitative color heatmap\", \"time\": 24.3439310000042, \"nbin\": 64}, {\"nPts\": 4839886, \"mark\": \"categorical color heatmap\", \"time\": 43.1774789999792, \"nbin\": 64}, {\"nPts\": 4839886, \"mark\": \"heatmap\", \"time\": 24.7418989999914, \"nbin\": 107}, {\"nPts\": 4839886, \"mark\": \"quantitative color heatmap\", \"time\": 24.944707999992403, \"nbin\": 107}, {\"nPts\": 4839886, \"mark\": \"categorical color heatmap\", \"time\": 42.503019999997996, \"nbin\": 107}, {\"nPts\": 4839886, \"mark\": \"heatmap\", \"time\": 25.3656520000049, \"nbin\": 179}, {\"nPts\": 4839886, \"mark\": \"quantitative color heatmap\", \"time\": 24.181191999986098, \"nbin\": 179}, {\"nPts\": 4839886, \"mark\": \"categorical color heatmap\", \"time\": 42.480616000005895, \"nbin\": 179}, {\"nPts\": 4839886, \"mark\": \"heatmap\", \"time\": 24.3636610000237, \"nbin\": 299}, {\"nPts\": 4839886, \"mark\": \"quantitative color heatmap\", \"time\": 24.542074000009897, \"nbin\": 299}, {\"nPts\": 4839886, \"mark\": \"categorical color heatmap\", \"time\": 42.4478670000212, \"nbin\": 299}, {\"nPts\": 4839886, \"mark\": \"heatmap\", \"time\": 25.6557670000177, \"nbin\": 499}, {\"nPts\": 4839886, \"mark\": \"quantitative color heatmap\", \"time\": 24.449072000010098, \"nbin\": 499}, {\"nPts\": 4839886, \"mark\": \"categorical color heatmap\", \"time\": 43.2771840000043, \"nbin\": 499}, {\"nPts\": 7620934, \"mark\": \"heatmap\", \"time\": 37.195901000018196, \"nbin\": 5}, {\"nPts\": 7620934, \"mark\": \"quantitative color heatmap\", \"time\": 67.9758809999953, \"nbin\": 5}, {\"nPts\": 7620934, \"mark\": \"categorical color heatmap\", \"time\": 66.6758889999528, \"nbin\": 5}, {\"nPts\": 7620934, \"mark\": \"heatmap\", \"time\": 43.495565000000596, \"nbin\": 8}, {\"nPts\": 7620934, \"mark\": \"quantitative color heatmap\", \"time\": 36.3289310000141, \"nbin\": 8}, {\"nPts\": 7620934, \"mark\": \"categorical color heatmap\", \"time\": 67.3603300000422, \"nbin\": 8}, {\"nPts\": 7620934, \"mark\": \"heatmap\", \"time\": 39.4876469999871, \"nbin\": 13}, {\"nPts\": 7620934, \"mark\": \"quantitative color heatmap\", \"time\": 40.0920139999811, \"nbin\": 13}, {\"nPts\": 7620934, \"mark\": \"categorical color heatmap\", \"time\": 67.4308950000295, \"nbin\": 13}, {\"nPts\": 7620934, \"mark\": \"heatmap\", \"time\": 38.492227000006, \"nbin\": 23}, {\"nPts\": 7620934, \"mark\": \"quantitative color heatmap\", \"time\": 35.275371000011496, \"nbin\": 23}, {\"nPts\": 7620934, \"mark\": \"categorical color heatmap\", \"time\": 66.0423470000068, \"nbin\": 23}, {\"nPts\": 7620934, \"mark\": \"heatmap\", \"time\": 37.0881129999816, \"nbin\": 38}, {\"nPts\": 7620934, \"mark\": \"quantitative color heatmap\", \"time\": 38.125911999998095, \"nbin\": 38}, {\"nPts\": 7620934, \"mark\": \"categorical color heatmap\", \"time\": 64.8556720000215, \"nbin\": 38}, {\"nPts\": 7620934, \"mark\": \"heatmap\", \"time\": 38.6203999999565, \"nbin\": 64}, {\"nPts\": 7620934, \"mark\": \"quantitative color heatmap\", \"time\": 35.1291519999676, \"nbin\": 64}, {\"nPts\": 7620934, \"mark\": \"categorical color heatmap\", \"time\": 67.292650000013, \"nbin\": 64}, {\"nPts\": 7620934, \"mark\": \"heatmap\", \"time\": 37.4988109999776, \"nbin\": 107}, {\"nPts\": 7620934, \"mark\": \"quantitative color heatmap\", \"time\": 39.1960780000317, \"nbin\": 107}, {\"nPts\": 7620934, \"mark\": \"categorical color heatmap\", \"time\": 65.9864870000319, \"nbin\": 107}, {\"nPts\": 7620934, \"mark\": \"heatmap\", \"time\": 38.9781409999727, \"nbin\": 179}, {\"nPts\": 7620934, \"mark\": \"quantitative color heatmap\", \"time\": 35.8754370000156, \"nbin\": 179}, {\"nPts\": 7620934, \"mark\": \"categorical color heatmap\", \"time\": 67.1731720000252, \"nbin\": 179}, {\"nPts\": 7620934, \"mark\": \"heatmap\", \"time\": 39.4245740000087, \"nbin\": 299}, {\"nPts\": 7620934, \"mark\": \"quantitative color heatmap\", \"time\": 39.571173000013, \"nbin\": 299}, {\"nPts\": 7620934, \"mark\": \"categorical color heatmap\", \"time\": 65.2681210000309, \"nbin\": 299}, {\"nPts\": 7620934, \"mark\": \"heatmap\", \"time\": 39.0879470000413, \"nbin\": 499}, {\"nPts\": 7620934, \"mark\": \"quantitative color heatmap\", \"time\": 37.1661919999724, \"nbin\": 499}, {\"nPts\": 7620934, \"mark\": \"categorical color heatmap\", \"time\": 66.46039100002089, \"nbin\": 499}, {\"nPts\": 12000000, \"mark\": \"heatmap\", \"time\": 50.3466000000116, \"nbin\": 5}, {\"nPts\": 12000000, \"mark\": \"quantitative color heatmap\", \"time\": 111.7679079999902, \"nbin\": 5}, {\"nPts\": 12000000, \"mark\": \"categorical color heatmap\", \"time\": 103.3333980000179, \"nbin\": 5}, {\"nPts\": 12000000, \"mark\": \"heatmap\", \"time\": 59.5378450000225, \"nbin\": 8}, {\"nPts\": 12000000, \"mark\": \"quantitative color heatmap\", \"time\": 56.0851239999919, \"nbin\": 8}, {\"nPts\": 12000000, \"mark\": \"categorical color heatmap\", \"time\": 103.1820449999827, \"nbin\": 8}, {\"nPts\": 12000000, \"mark\": \"heatmap\", \"time\": 56.115085000044395, \"nbin\": 13}, {\"nPts\": 12000000, \"mark\": \"quantitative color heatmap\", \"time\": 57.256537999989995, \"nbin\": 13}, {\"nPts\": 12000000, \"mark\": \"categorical color heatmap\", \"time\": 101.8870800000399, \"nbin\": 13}, {\"nPts\": 12000000, \"mark\": \"heatmap\", \"time\": 60.8394590000216, \"nbin\": 23}, {\"nPts\": 12000000, \"mark\": \"quantitative color heatmap\", \"time\": 56.1206890000107, \"nbin\": 23}, {\"nPts\": 12000000, \"mark\": \"categorical color heatmap\", \"time\": 103.4092470000018, \"nbin\": 23}, {\"nPts\": 12000000, \"mark\": \"heatmap\", \"time\": 58.191860000022096, \"nbin\": 38}, {\"nPts\": 12000000, \"mark\": \"quantitative color heatmap\", \"time\": 57.300940999994, \"nbin\": 38}, {\"nPts\": 12000000, \"mark\": \"categorical color heatmap\", \"time\": 100.9890649999647, \"nbin\": 38}, {\"nPts\": 12000000, \"mark\": \"heatmap\", \"time\": 58.303126999987796, \"nbin\": 64}, {\"nPts\": 12000000, \"mark\": \"quantitative color heatmap\", \"time\": 56.023160000052, \"nbin\": 64}, {\"nPts\": 12000000, \"mark\": \"categorical color heatmap\", \"time\": 105.0956540000243, \"nbin\": 64}, {\"nPts\": 12000000, \"mark\": \"heatmap\", \"time\": 58.4937969999828, \"nbin\": 107}, {\"nPts\": 12000000, \"mark\": \"quantitative color heatmap\", \"time\": 60.0044889999935, \"nbin\": 107}, {\"nPts\": 12000000, \"mark\": \"categorical color heatmap\", \"time\": 101.7926099999613, \"nbin\": 107}, {\"nPts\": 12000000, \"mark\": \"heatmap\", \"time\": 58.3137800000486, \"nbin\": 179}, {\"nPts\": 12000000, \"mark\": \"quantitative color heatmap\", \"time\": 57.5328489999833, \"nbin\": 179}, {\"nPts\": 12000000, \"mark\": \"categorical color heatmap\", \"time\": 103.2368349999615, \"nbin\": 179}, {\"nPts\": 12000000, \"mark\": \"heatmap\", \"time\": 58.0327079999847, \"nbin\": 299}, {\"nPts\": 12000000, \"mark\": \"quantitative color heatmap\", \"time\": 57.5906369999756, \"nbin\": 299}, {\"nPts\": 12000000, \"mark\": \"categorical color heatmap\", \"time\": 99.5782629999553, \"nbin\": 299}, {\"nPts\": 12000000, \"mark\": \"heatmap\", \"time\": 58.8564059999612, \"nbin\": 499}, {\"nPts\": 12000000, \"mark\": \"quantitative color heatmap\", \"time\": 56.3776440000083, \"nbin\": 499}, {\"nPts\": 12000000, \"mark\": \"categorical color heatmap\", \"time\": 103.72165799998349, \"nbin\": 499}]}}, {\"mode\": \"vega-lite\"});\n",
       "</script>"
      ],
      "text/plain": [
       "alt.Chart(...)"
      ]
     },
     "execution_count": 533,
     "metadata": {},
     "output_type": "execute_result"
    }
   ],
   "source": [
    "alt.Chart(df).mark_line().encode(\n",
    "    y = \"time\",\n",
    "    x = \"nPts\",\n",
    "    color = alt.Color(\"nbin\",type=\"ordinal\"),\n",
    "    row=\"mark\"\n",
    ")"
   ]
  },
  {
   "cell_type": "code",
   "execution_count": 534,
   "metadata": {},
   "outputs": [],
   "source": [
    "vdf = df[df[\"mark\"]==\"heatmap\"]"
   ]
  },
  {
   "cell_type": "code",
   "execution_count": 537,
   "metadata": {},
   "outputs": [],
   "source": [
    "N = np.array(vdf[\"nPts\"])\n",
    "# Ncells = np.array(vdf[\"nbin\"]**2)\n",
    "Nbins = np.array(vdf[\"nbin\"])\n",
    "y = np.array(vdf[\"time\"])\n",
    "X = np.array([N,Nbins])"
   ]
  },
  {
   "cell_type": "code",
   "execution_count": 541,
   "metadata": {},
   "outputs": [],
   "source": [
    "from scipy.optimize import curve_fit\n",
    "def func(x, a, b,c):\n",
    "    return a + b * x[0]+ c*x[1]"
   ]
  },
  {
   "cell_type": "code",
   "execution_count": 542,
   "metadata": {},
   "outputs": [
    {
     "name": "stdout",
     "output_type": "stream",
     "text": [
      "coefficient: [ 2.69949773e+00  4.65653034e-06 -1.02252404e-03]\n"
     ]
    }
   ],
   "source": [
    "popt, pcov = curve_fit(func, X,y)\n",
    "print (\"coefficient:\", popt)"
   ]
  },
  {
   "cell_type": "code",
   "execution_count": 546,
   "metadata": {},
   "outputs": [],
   "source": [
    "y_pred = func(X,*popt)"
   ]
  },
  {
   "cell_type": "code",
   "execution_count": 547,
   "metadata": {},
   "outputs": [
    {
     "name": "stdout",
     "output_type": "stream",
     "text": [
      "error: 0.45149202892896506\n"
     ]
    }
   ],
   "source": [
    "perr = np.sqrt(np.diag(pcov))\n",
    "print (\"error:\", sum(perr))"
   ]
  },
  {
   "cell_type": "code",
   "execution_count": 548,
   "metadata": {},
   "outputs": [
    {
     "data": {
      "text/plain": [
       "[<matplotlib.lines.Line2D at 0x140470d10>]"
      ]
     },
     "execution_count": 548,
     "metadata": {},
     "output_type": "execute_result"
    },
    {
     "data": {
      "image/png": "[encoded data removed]",
      "text/plain": [
       "<Figure size 432x288 with 1 Axes>"
      ]
     },
     "metadata": {
      "needs_background": "light"
     },
     "output_type": "display_data"
    }
   ],
   "source": [
    "dim = 0\n",
    "plt.plot(X[dim],y,'o')\n",
    "plt.plot(X[dim],func(X,*popt),'o')"
   ]
  },
  {
   "cell_type": "code",
   "execution_count": 549,
   "metadata": {},
   "outputs": [
    {
     "data": {
      "text/plain": [
       "[<matplotlib.lines.Line2D at 0x1404e0950>]"
      ]
     },
     "execution_count": 549,
     "metadata": {},
     "output_type": "execute_result"
    },
    {
     "data": {
      "image/png": "[encoded data removed]",
      "text/plain": [
       "<Figure size 432x288 with 1 Axes>"
      ]
     },
     "metadata": {
      "needs_background": "light"
     },
     "output_type": "display_data"
    }
   ],
   "source": [
    "dim = 1\n",
    "plt.plot(X[dim],y,'o')\n",
    "plt.plot(X[dim],func(X,*popt),'o')"
   ]
  },
  {
   "cell_type": "markdown",
   "metadata": {},
   "source": [
    "- Heatmap processing time is also not very dependent on number of bins/cells. It is also not strongly dependent on the number of data points since the data has already been binned into fixed number of cells"
   ]
  },
  {
   "cell_type": "code",
   "execution_count": 550,
   "metadata": {},
   "outputs": [],
   "source": [
    "vdf = df[df[\"mark\"]==\"categorical color heatmap\"]"
   ]
  },
  {
   "cell_type": "code",
   "execution_count": 551,
   "metadata": {},
   "outputs": [],
   "source": [
    "N = np.array(vdf[\"nPts\"])\n",
    "# Ncells = np.array(vdf[\"nbin\"]**2)\n",
    "Nbins = np.array(vdf[\"nbin\"])\n",
    "y = np.array(vdf[\"time\"])\n",
    "X = np.array([N,Nbins])\n",
    "def func(x, a, b,c):\n",
    "    return a + b * x[0]+ c*x[1]# + d * x[0]*x[1]"
   ]
  },
  {
   "cell_type": "code",
   "execution_count": 552,
   "metadata": {},
   "outputs": [
    {
     "name": "stdout",
     "output_type": "stream",
     "text": [
      "coefficient: [ 1.92907861e+00  8.44846896e-06 -5.29141747e-04]\n"
     ]
    }
   ],
   "source": [
    "popt, pcov = curve_fit(func, X,y)\n",
    "print (\"coefficient:\", popt)"
   ]
  },
  {
   "cell_type": "code",
   "execution_count": 553,
   "metadata": {},
   "outputs": [],
   "source": [
    "y_pred = func(X,*popt)"
   ]
  },
  {
   "cell_type": "code",
   "execution_count": 554,
   "metadata": {},
   "outputs": [
    {
     "name": "stdout",
     "output_type": "stream",
     "text": [
      "error: 0.29876532228179226\n"
     ]
    }
   ],
   "source": [
    "perr = np.sqrt(np.diag(pcov))\n",
    "print (\"error:\", sum(perr))"
   ]
  },
  {
   "cell_type": "code",
   "execution_count": 555,
   "metadata": {},
   "outputs": [
    {
     "data": {
      "text/plain": [
       "[<matplotlib.lines.Line2D at 0x140549bd0>]"
      ]
     },
     "execution_count": 555,
     "metadata": {},
     "output_type": "execute_result"
    },
    {
     "data": {
      "image/png": "[encoded data removed]",
      "text/plain": [
       "<Figure size 432x288 with 1 Axes>"
      ]
     },
     "metadata": {
      "needs_background": "light"
     },
     "output_type": "display_data"
    }
   ],
   "source": [
    "plt.plot(X[dim],y,'o')\n",
    "plt.plot(X[dim],func(X,*popt),'o')"
   ]
  },
  {
   "cell_type": "code",
   "execution_count": 556,
   "metadata": {},
   "outputs": [],
   "source": [
    "vdf = df[df[\"mark\"]==\"quantitative color heatmap\"]"
   ]
  },
  {
   "cell_type": "code",
   "execution_count": 562,
   "metadata": {},
   "outputs": [
    {
     "name": "stdout",
     "output_type": "stream",
     "text": [
      "coefficient: [ 2.25774416e+00  5.09923429e-06 -6.89956779e-03]\n"
     ]
    }
   ],
   "source": [
    "N = np.array(vdf[\"nPts\"])\n",
    "# Ncells = np.array(vdf[\"nbin\"]**2)\n",
    "Nbins = np.array(vdf[\"nbin\"])\n",
    "y = np.array(vdf[\"time\"])\n",
    "X = np.array([N,Nbins])\n",
    "def func(x, a, b,c):\n",
    "    return a + b * x[0]+ c*x[1]# + d * x[0]*x[1]\n",
    "\n",
    "popt, pcov = curve_fit(func, X,y)\n",
    "print (\"coefficient:\", popt)"
   ]
  },
  {
   "cell_type": "code",
   "execution_count": 563,
   "metadata": {},
   "outputs": [],
   "source": [
    "y_pred = func(X,*popt)"
   ]
  },
  {
   "cell_type": "code",
   "execution_count": 564,
   "metadata": {},
   "outputs": [
    {
     "name": "stdout",
     "output_type": "stream",
     "text": [
      "error: 1.3054657748257796\n"
     ]
    }
   ],
   "source": [
    "perr = np.sqrt(np.diag(pcov))\n",
    "print (\"error:\", sum(perr))"
   ]
  },
  {
   "cell_type": "code",
   "execution_count": 565,
   "metadata": {},
   "outputs": [
    {
     "data": {
      "text/plain": [
       "[<matplotlib.lines.Line2D at 0x1406287d0>]"
      ]
     },
     "execution_count": 565,
     "metadata": {},
     "output_type": "execute_result"
    },
    {
     "data": {
      "image/png": "[encoded data removed]",
      "text/plain": [
       "<Figure size 432x288 with 1 Axes>"
      ]
     },
     "metadata": {
      "needs_background": "light"
     },
     "output_type": "display_data"
    }
   ],
   "source": [
    "dim = 0\n",
    "plt.plot(X[dim],y,'o')\n",
    "plt.plot(X[dim],func(X,*popt),'o')"
   ]
  },
  {
   "cell_type": "code",
   "execution_count": null,
   "metadata": {},
   "outputs": [],
   "source": []
  },
  {
   "cell_type": "code",
   "execution_count": null,
   "metadata": {},
   "outputs": [],
   "source": []
  }
 ],
 "metadata": {
  "kernelspec": {
   "display_name": "Python 3",
   "language": "python",
   "name": "python3"
  },
  "language_info": {
   "codemirror_mode": {
    "name": "ipython",
    "version": 3
   },
   "file_extension": ".py",
   "mimetype": "text/x-python",
   "name": "python",
   "nbconvert_exporter": "python",
   "pygments_lexer": "ipython3",
   "version": "3.7.7"
  }
 },
 "nbformat": 4,
 "nbformat_minor": 4
}
