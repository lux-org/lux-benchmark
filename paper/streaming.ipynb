{
 "cells": [
  {
   "cell_type": "code",
   "execution_count": 1,
   "metadata": {},
   "outputs": [],
   "source": [
    "import pandas as pd\n",
    "import altair as alt\n",
    "import matplotlib.pyplot as plt"
   ]
  },
  {
   "cell_type": "code",
   "execution_count": 2,
   "metadata": {},
   "outputs": [],
   "source": [
    "df=pd.read_csv(f\"../result/action_benchmark_communities.csv\")\n",
    "df = df.set_index(\"nPts\").unstack().reset_index()\n",
    "df.columns = [\"action\",\"nPts\",\"time\"]"
   ]
  },
  {
   "cell_type": "code",
   "execution_count": 3,
   "metadata": {},
   "outputs": [],
   "source": [
    "# df = df[df[\"nPts\"]==100000]"
   ]
  },
  {
   "cell_type": "code",
   "execution_count": 4,
   "metadata": {},
   "outputs": [
    {
     "data": {
      "text/html": [
       "\n",
       "<div id=\"altair-viz-3890ceb6dc2d490ca938b3b6bd19a271\"></div>\n",
       "<script type=\"text/javascript\">\n",
       "  (function(spec, embedOpt){\n",
       "    let outputDiv = document.currentScript.previousElementSibling;\n",
       "    if (outputDiv.id !== \"altair-viz-3890ceb6dc2d490ca938b3b6bd19a271\") {\n",
       "      outputDiv = document.getElementById(\"altair-viz-3890ceb6dc2d490ca938b3b6bd19a271\");\n",
       "    }\n",
       "    const paths = {\n",
       "      \"vega\": \"https://cdn.jsdelivr.net/npm//vega@5?noext\",\n",
       "      \"vega-lib\": \"https://cdn.jsdelivr.net/npm//vega-lib?noext\",\n",
       "      \"vega-lite\": \"https://cdn.jsdelivr.net/npm//vega-lite@4.8.1?noext\",\n",
       "      \"vega-embed\": \"https://cdn.jsdelivr.net/npm//vega-embed@6?noext\",\n",
       "    };\n",
       "\n",
       "    function loadScript(lib) {\n",
       "      return new Promise(function(resolve, reject) {\n",
       "        var s = document.createElement('script');\n",
       "        s.src = paths[lib];\n",
       "        s.async = true;\n",
       "        s.onload = () => resolve(paths[lib]);\n",
       "        s.onerror = () => reject(`Error loading script: ${paths[lib]}`);\n",
       "        document.getElementsByTagName(\"head\")[0].appendChild(s);\n",
       "      });\n",
       "    }\n",
       "\n",
       "    function showError(err) {\n",
       "      outputDiv.innerHTML = `<div class=\"error\" style=\"color:red;\">${err}</div>`;\n",
       "      throw err;\n",
       "    }\n",
       "\n",
       "    function displayChart(vegaEmbed) {\n",
       "      vegaEmbed(outputDiv, spec, embedOpt)\n",
       "        .catch(err => showError(`Javascript Error: ${err.message}<br>This usually means there's a typo in your chart specification. See the javascript console for the full traceback.`));\n",
       "    }\n",
       "\n",
       "    if(typeof define === \"function\" && define.amd) {\n",
       "      requirejs.config({paths});\n",
       "      require([\"vega-embed\"], displayChart, err => showError(`Error loading script: ${err.message}`));\n",
       "    } else if (typeof vegaEmbed === \"function\") {\n",
       "      displayChart(vegaEmbed);\n",
       "    } else {\n",
       "      loadScript(\"vega\")\n",
       "        .then(() => loadScript(\"vega-lite\"))\n",
       "        .then(() => loadScript(\"vega-embed\"))\n",
       "        .catch(showError)\n",
       "        .then(() => displayChart(vegaEmbed));\n",
       "    }\n",
       "  })({\"config\": {\"view\": {\"continuousWidth\": 400, \"continuousHeight\": 300}}, \"data\": {\"name\": \"data-3d854f0a17a8a31b14114455928599f2\"}, \"mark\": \"bar\", \"encoding\": {\"color\": {\"type\": \"nominal\", \"field\": \"action\"}, \"x\": {\"type\": \"quantitative\", \"aggregate\": \"sum\", \"field\": \"time\"}, \"y\": {\"type\": \"ordinal\", \"field\": \"nPts\"}}, \"$schema\": \"https://vega.github.io/schema/vega-lite/v4.8.1.json\", \"datasets\": {\"data-3d854f0a17a8a31b14114455928599f2\": [{\"action\": \"Correlation\", \"nPts\": 1000, \"time\": 60.0988204}, {\"action\": \"Correlation\", \"nPts\": 10000, \"time\": 506.731976423}, {\"action\": \"Correlation\", \"nPts\": 100000, \"time\": 635.5959245630002}, {\"action\": \"Distribution\", \"nPts\": 1000, \"time\": 0.3085705820000015}, {\"action\": \"Distribution\", \"nPts\": 10000, \"time\": 0.1942169569999947}, {\"action\": \"Distribution\", \"nPts\": 100000, \"time\": 0.392936265000003}, {\"action\": \"Occurrence\", \"nPts\": 1000, \"time\": 0.1941817570000008}, {\"action\": \"Occurrence\", \"nPts\": 10000, \"time\": 0.2355053769999955}, {\"action\": \"Occurrence\", \"nPts\": 100000, \"time\": 0.4022776709999789}, {\"action\": \"Temporal\", \"nPts\": 1000, \"time\": 0.0002831469999993}, {\"action\": \"Temporal\", \"nPts\": 10000, \"time\": 0.0003494560000092}, {\"action\": \"Temporal\", \"nPts\": 100000, \"time\": 0.0003089109999336}, {\"action\": \"Enhance\", \"nPts\": 1000, \"time\": 1.1855171429999984}, {\"action\": \"Enhance\", \"nPts\": 10000, \"time\": 1.3207579850000002}, {\"action\": \"Enhance\", \"nPts\": 100000, \"time\": 2.1576358120000805}, {\"action\": \"Filter\", \"nPts\": 1000, \"time\": 2.951698113999996}, {\"action\": \"Filter\", \"nPts\": 10000, \"time\": 0.5996398009999666}, {\"action\": \"Filter\", \"nPts\": 100000, \"time\": 1.4092374360000122}, {\"action\": \"Generalize\", \"nPts\": 1000, \"time\": 2.597400001036476e-05}, {\"action\": \"Generalize\", \"nPts\": 10000, \"time\": 3.264100007527304e-05}, {\"action\": \"Generalize\", \"nPts\": 100000, \"time\": 3.2808000014483696e-05}]}}, {\"mode\": \"vega-lite\"});\n",
       "</script>"
      ],
      "text/plain": [
       "alt.Chart(...)"
      ]
     },
     "execution_count": 4,
     "metadata": {},
     "output_type": "execute_result"
    }
   ],
   "source": [
    "alt.Chart(df).mark_bar().encode(\n",
    "    y = alt.Y(\"nPts\",type=\"ordinal\"),\n",
    "    x = \"sum(time)\",\n",
    "    color=\"action\"\n",
    ")"
   ]
  },
  {
   "cell_type": "code",
   "execution_count": 5,
   "metadata": {},
   "outputs": [],
   "source": [
    "df=pd.read_csv(f\"../result/action_benchmark_airbnb.csv\")\n",
    "df = df.set_index(\"nPts\").unstack().reset_index()\n",
    "df.columns = [\"action\",\"nPts\",\"time\"]"
   ]
  },
  {
   "cell_type": "code",
   "execution_count": 8,
   "metadata": {},
   "outputs": [
    {
     "data": {
      "text/html": [
       "\n",
       "<div id=\"altair-viz-b8a4713347f44e02be286a7617aac9b7\"></div>\n",
       "<script type=\"text/javascript\">\n",
       "  (function(spec, embedOpt){\n",
       "    let outputDiv = document.currentScript.previousElementSibling;\n",
       "    if (outputDiv.id !== \"altair-viz-b8a4713347f44e02be286a7617aac9b7\") {\n",
       "      outputDiv = document.getElementById(\"altair-viz-b8a4713347f44e02be286a7617aac9b7\");\n",
       "    }\n",
       "    const paths = {\n",
       "      \"vega\": \"https://cdn.jsdelivr.net/npm//vega@5?noext\",\n",
       "      \"vega-lib\": \"https://cdn.jsdelivr.net/npm//vega-lib?noext\",\n",
       "      \"vega-lite\": \"https://cdn.jsdelivr.net/npm//vega-lite@4.8.1?noext\",\n",
       "      \"vega-embed\": \"https://cdn.jsdelivr.net/npm//vega-embed@6?noext\",\n",
       "    };\n",
       "\n",
       "    function loadScript(lib) {\n",
       "      return new Promise(function(resolve, reject) {\n",
       "        var s = document.createElement('script');\n",
       "        s.src = paths[lib];\n",
       "        s.async = true;\n",
       "        s.onload = () => resolve(paths[lib]);\n",
       "        s.onerror = () => reject(`Error loading script: ${paths[lib]}`);\n",
       "        document.getElementsByTagName(\"head\")[0].appendChild(s);\n",
       "      });\n",
       "    }\n",
       "\n",
       "    function showError(err) {\n",
       "      outputDiv.innerHTML = `<div class=\"error\" style=\"color:red;\">${err}</div>`;\n",
       "      throw err;\n",
       "    }\n",
       "\n",
       "    function displayChart(vegaEmbed) {\n",
       "      vegaEmbed(outputDiv, spec, embedOpt)\n",
       "        .catch(err => showError(`Javascript Error: ${err.message}<br>This usually means there's a typo in your chart specification. See the javascript console for the full traceback.`));\n",
       "    }\n",
       "\n",
       "    if(typeof define === \"function\" && define.amd) {\n",
       "      requirejs.config({paths});\n",
       "      require([\"vega-embed\"], displayChart, err => showError(`Error loading script: ${err.message}`));\n",
       "    } else if (typeof vegaEmbed === \"function\") {\n",
       "      displayChart(vegaEmbed);\n",
       "    } else {\n",
       "      loadScript(\"vega\")\n",
       "        .then(() => loadScript(\"vega-lite\"))\n",
       "        .then(() => loadScript(\"vega-embed\"))\n",
       "        .catch(showError)\n",
       "        .then(() => displayChart(vegaEmbed));\n",
       "    }\n",
       "  })({\"config\": {\"view\": {\"continuousWidth\": 400, \"continuousHeight\": 300}}, \"data\": {\"name\": \"data-e2f4956e853a1e1b2376403947ae644e\"}, \"mark\": \"bar\", \"encoding\": {\"color\": {\"type\": \"nominal\", \"field\": \"action\"}, \"x\": {\"type\": \"quantitative\", \"aggregate\": \"sum\", \"field\": \"time\"}, \"y\": {\"type\": \"ordinal\", \"field\": \"nPts\"}}, \"$schema\": \"https://vega.github.io/schema/vega-lite/v4.8.1.json\", \"datasets\": {\"data-e2f4956e853a1e1b2376403947ae644e\": [{\"action\": \"Correlation\", \"nPts\": 1000, \"time\": 0.0976833699999986}, {\"action\": \"Correlation\", \"nPts\": 10000, \"time\": 2.3448384140000016}, {\"action\": \"Correlation\", \"nPts\": 100000, \"time\": 4.8753013460000005}, {\"action\": \"Correlation\", \"nPts\": 1000000, \"time\": 13.953458862999994}, {\"action\": \"Correlation\", \"nPts\": 10000000, \"time\": 81.34080475299999}, {\"action\": \"Distribution\", \"nPts\": 1000, \"time\": 0.1736069869999994}, {\"action\": \"Distribution\", \"nPts\": 10000, \"time\": 0.0157952090000037}, {\"action\": \"Distribution\", \"nPts\": 100000, \"time\": 0.0487023209999932}, {\"action\": \"Distribution\", \"nPts\": 1000000, \"time\": 0.2304755279999994}, {\"action\": \"Distribution\", \"nPts\": 10000000, \"time\": 1.8281936080000207}, {\"action\": \"Occurrence\", \"nPts\": 1000, \"time\": 0.0474799409999988}, {\"action\": \"Occurrence\", \"nPts\": 10000, \"time\": 0.0918385290000003}, {\"action\": \"Occurrence\", \"nPts\": 100000, \"time\": 0.2889634599999908}, {\"action\": \"Occurrence\", \"nPts\": 1000000, \"time\": 1.5330926210000086}, {\"action\": \"Occurrence\", \"nPts\": 10000000, \"time\": 11.847268294000004}, {\"action\": \"Temporal\", \"nPts\": 1000, \"time\": 0.0094951770000015}, {\"action\": \"Temporal\", \"nPts\": 10000, \"time\": 0.0117314449999952}, {\"action\": \"Temporal\", \"nPts\": 100000, \"time\": 0.0262376619999997}, {\"action\": \"Temporal\", \"nPts\": 1000000, \"time\": 0.2389588489999994}, {\"action\": \"Temporal\", \"nPts\": 10000000, \"time\": 1.916774638999982}, {\"action\": \"Enhance\", \"nPts\": 1000, \"time\": 0.0861670420000031}, {\"action\": \"Enhance\", \"nPts\": 10000, \"time\": 0.4312375880000019}, {\"action\": \"Enhance\", \"nPts\": 100000, \"time\": 0.8232061690000023}, {\"action\": \"Enhance\", \"nPts\": 1000000, \"time\": 2.9047570719999958}, {\"action\": \"Enhance\", \"nPts\": 10000000, \"time\": 20.30636242400004}, {\"action\": \"Filter\", \"nPts\": 1000, \"time\": 0.0640335680000028}, {\"action\": \"Filter\", \"nPts\": 10000, \"time\": 0.0799671160000059}, {\"action\": \"Filter\", \"nPts\": 100000, \"time\": 0.3019848709999877}, {\"action\": \"Filter\", \"nPts\": 1000000, \"time\": 2.138645870000005}, {\"action\": \"Filter\", \"nPts\": 10000000, \"time\": 18.66499903800002}, {\"action\": \"Generalize\", \"nPts\": 1000, \"time\": 2.912500000107343e-05}, {\"action\": \"Generalize\", \"nPts\": 10000, \"time\": 2.941200000350364e-05}, {\"action\": \"Generalize\", \"nPts\": 100000, \"time\": 3.013100000259783e-05}, {\"action\": \"Generalize\", \"nPts\": 1000000, \"time\": 3.0258999998977743e-05}, {\"action\": \"Generalize\", \"nPts\": 10000000, \"time\": 2.618299998857765e-05}]}}, {\"mode\": \"vega-lite\"});\n",
       "</script>"
      ],
      "text/plain": [
       "alt.Chart(...)"
      ]
     },
     "execution_count": 8,
     "metadata": {},
     "output_type": "execute_result"
    }
   ],
   "source": [
    "alt.Chart(df).mark_bar().encode(\n",
    "    y = alt.Y(\"nPts\",type=\"ordinal\"),\n",
    "    x = alt.X(\"sum(time)\"),#,scale=alt.Scale(type='log'),title=\"log(total time)\"),\n",
    "    color=\"action\"\n",
    ")"
   ]
  },
  {
   "cell_type": "code",
   "execution_count": 131,
   "metadata": {},
   "outputs": [
    {
     "name": "stderr",
     "output_type": "stream",
     "text": [
      "/Users/dorislee/.virtualenvs/lux/lib/python3.7/site-packages/pandas/core/indexing.py:1597: SettingWithCopyWarning: \n",
      "A value is trying to be set on a copy of a slice from a DataFrame.\n",
      "Try using .loc[row_indexer,col_indexer] = value instead\n",
      "\n",
      "See the caveats in the documentation: https://pandas.pydata.org/pandas-docs/stable/user_guide/indexing.html#returning-a-view-versus-a-copy\n",
      "  self.obj[key] = value\n",
      "/Users/dorislee/.virtualenvs/lux/lib/python3.7/site-packages/pandas/core/indexing.py:1720: SettingWithCopyWarning: \n",
      "A value is trying to be set on a copy of a slice from a DataFrame.\n",
      "Try using .loc[row_indexer,col_indexer] = value instead\n",
      "\n",
      "See the caveats in the documentation: https://pandas.pydata.org/pandas-docs/stable/user_guide/indexing.html#returning-a-view-versus-a-copy\n",
      "  self._setitem_single_column(loc, value, pi)\n"
     ]
    },
    {
     "data": {
      "text/plain": [
       "<matplotlib.lines.Line2D at 0x12c269ad0>"
      ]
     },
     "execution_count": 131,
     "metadata": {},
     "output_type": "execute_result"
    },
    {
     "data": {
      "image/png": "[encoded data removed]",
      "text/plain": [
       "<Figure size 432x288 with 1 Axes>"
      ]
     },
     "metadata": {
      "needs_background": "light"
     },
     "output_type": "display_data"
    }
   ],
   "source": [
    "import numpy as np\n",
    "ndf = df[['Correlation', 'Distribution', 'Occurrence', 'Temporal']]\n",
    "ndf.loc[:,\"init\"]=0\n",
    "y = np.linspace(0,1,len(ndf.columns))\n",
    "plt.title(\"Communities (10k rows)\")\n",
    "plt.step(sorted(ndf.loc[1].values),y)\n",
    "plt.ylabel(\"% of actions completed\",fontsize=12)\n",
    "plt.xlabel(\"time elapsed (s)\",fontsize=12)\n",
    "plt.axvline(x=avg,linestyle='--',color='orange')"
   ]
  },
  {
   "cell_type": "code",
   "execution_count": 134,
   "metadata": {},
   "outputs": [
    {
     "data": {
      "text/html": [
       "<div>\n",
       "<style scoped>\n",
       "    .dataframe tbody tr th:only-of-type {\n",
       "        vertical-align: middle;\n",
       "    }\n",
       "\n",
       "    .dataframe tbody tr th {\n",
       "        vertical-align: top;\n",
       "    }\n",
       "\n",
       "    .dataframe thead th {\n",
       "        text-align: right;\n",
       "    }\n",
       "</style>\n",
       "<table border=\"1\" class=\"dataframe\">\n",
       "  <thead>\n",
       "    <tr style=\"text-align: right;\">\n",
       "      <th></th>\n",
       "      <th>nPts</th>\n",
       "      <th>Correlation</th>\n",
       "      <th>Distribution</th>\n",
       "      <th>Occurrence</th>\n",
       "      <th>Temporal</th>\n",
       "      <th>Enhance</th>\n",
       "      <th>Filter</th>\n",
       "      <th>Generalize</th>\n",
       "    </tr>\n",
       "  </thead>\n",
       "  <tbody>\n",
       "    <tr>\n",
       "      <th>0</th>\n",
       "      <td>10000</td>\n",
       "      <td>0.229433</td>\n",
       "      <td>0.010980</td>\n",
       "      <td>0.073654</td>\n",
       "      <td>0.000118</td>\n",
       "      <td>0.322010</td>\n",
       "      <td>0.073452</td>\n",
       "      <td>0.000029</td>\n",
       "    </tr>\n",
       "    <tr>\n",
       "      <th>1</th>\n",
       "      <td>100000</td>\n",
       "      <td>0.074951</td>\n",
       "      <td>0.023895</td>\n",
       "      <td>0.276956</td>\n",
       "      <td>0.000128</td>\n",
       "      <td>0.566263</td>\n",
       "      <td>0.287049</td>\n",
       "      <td>0.000033</td>\n",
       "    </tr>\n",
       "    <tr>\n",
       "      <th>2</th>\n",
       "      <td>1000000</td>\n",
       "      <td>0.241073</td>\n",
       "      <td>0.132966</td>\n",
       "      <td>1.347882</td>\n",
       "      <td>0.000133</td>\n",
       "      <td>2.204101</td>\n",
       "      <td>2.009065</td>\n",
       "      <td>0.000035</td>\n",
       "    </tr>\n",
       "    <tr>\n",
       "      <th>3</th>\n",
       "      <td>10000000</td>\n",
       "      <td>2.764152</td>\n",
       "      <td>1.276072</td>\n",
       "      <td>11.564312</td>\n",
       "      <td>0.000128</td>\n",
       "      <td>16.024633</td>\n",
       "      <td>17.378103</td>\n",
       "      <td>0.000034</td>\n",
       "    </tr>\n",
       "  </tbody>\n",
       "</table>\n",
       "</div>"
      ],
      "text/plain": [
       "       nPts  Correlation  Distribution  Occurrence  Temporal    Enhance  \\\n",
       "0     10000     0.229433      0.010980    0.073654  0.000118   0.322010   \n",
       "1    100000     0.074951      0.023895    0.276956  0.000128   0.566263   \n",
       "2   1000000     0.241073      0.132966    1.347882  0.000133   2.204101   \n",
       "3  10000000     2.764152      1.276072   11.564312  0.000128  16.024633   \n",
       "\n",
       "      Filter  Generalize  \n",
       "0   0.073452    0.000029  \n",
       "1   0.287049    0.000033  \n",
       "2   2.009065    0.000035  \n",
       "3  17.378103    0.000034  "
      ]
     },
     "execution_count": 134,
     "metadata": {},
     "output_type": "execute_result"
    }
   ],
   "source": [
    "df"
   ]
  },
  {
   "cell_type": "code",
   "execution_count": 137,
   "metadata": {},
   "outputs": [
    {
     "name": "stderr",
     "output_type": "stream",
     "text": [
      "/Users/dorislee/.virtualenvs/lux/lib/python3.7/site-packages/pandas/core/indexing.py:1597: SettingWithCopyWarning: \n",
      "A value is trying to be set on a copy of a slice from a DataFrame.\n",
      "Try using .loc[row_indexer,col_indexer] = value instead\n",
      "\n",
      "See the caveats in the documentation: https://pandas.pydata.org/pandas-docs/stable/user_guide/indexing.html#returning-a-view-versus-a-copy\n",
      "  self.obj[key] = value\n",
      "/Users/dorislee/.virtualenvs/lux/lib/python3.7/site-packages/pandas/core/indexing.py:1720: SettingWithCopyWarning: \n",
      "A value is trying to be set on a copy of a slice from a DataFrame.\n",
      "Try using .loc[row_indexer,col_indexer] = value instead\n",
      "\n",
      "See the caveats in the documentation: https://pandas.pydata.org/pandas-docs/stable/user_guide/indexing.html#returning-a-view-versus-a-copy\n",
      "  self._setitem_single_column(loc, value, pi)\n"
     ]
    },
    {
     "data": {
      "text/plain": [
       "<matplotlib.lines.Line2D at 0x12e3e4890>"
      ]
     },
     "execution_count": 137,
     "metadata": {},
     "output_type": "execute_result"
    },
    {
     "data": {
      "image/png": "[encoded data removed]",
      "text/plain": [
       "<Figure size 432x288 with 1 Axes>"
      ]
     },
     "metadata": {
      "needs_background": "light"
     },
     "output_type": "display_data"
    }
   ],
   "source": [
    "df=pd.read_csv(f\"../result/action_benchmark_airbnb.csv\")\n",
    "import numpy as np\n",
    "ndf = df[['Correlation', 'Distribution', 'Occurrence', 'Temporal']]\n",
    "ndf.loc[:,\"init\"]=0\n",
    "y = np.linspace(0,1,len(ndf.columns))\n",
    "plt.title(\"Airbnb (10M rows)\")\n",
    "plt.step(sorted(ndf.loc[3].values),y)\n",
    "plt.ylabel(\"% of actions completed\",fontsize=12)\n",
    "plt.xlabel(\"time elapsed (s)\",fontsize=12)\n",
    "plt.axvline(x=avg,linestyle='--',color='orange')"
   ]
  },
  {
   "cell_type": "code",
   "execution_count": 117,
   "metadata": {},
   "outputs": [],
   "source": []
  },
  {
   "cell_type": "code",
   "execution_count": 89,
   "metadata": {},
   "outputs": [],
   "source": [
    "clickdf= pd.read_csv(\"/Users/dorislee/Downloads/ToggleAndSwitchTimesCorrected.csv\",index_col=0)"
   ]
  },
  {
   "cell_type": "code",
   "execution_count": 92,
   "metadata": {},
   "outputs": [],
   "source": [
    "clickdf =clickdf.drop(columns=\"history\")"
   ]
  },
  {
   "cell_type": "code",
   "execution_count": 93,
   "metadata": {},
   "outputs": [
    {
     "data": {
      "text/html": [
       "<div>\n",
       "<style scoped>\n",
       "    .dataframe tbody tr th:only-of-type {\n",
       "        vertical-align: middle;\n",
       "    }\n",
       "\n",
       "    .dataframe tbody tr th {\n",
       "        vertical-align: top;\n",
       "    }\n",
       "\n",
       "    .dataframe thead th {\n",
       "        text-align: right;\n",
       "    }\n",
       "</style>\n",
       "<table border=\"1\" class=\"dataframe\">\n",
       "  <thead>\n",
       "    <tr style=\"text-align: right;\">\n",
       "      <th></th>\n",
       "      <th>nbName</th>\n",
       "      <th>userGroup</th>\n",
       "      <th>initWidgetCount</th>\n",
       "      <th>timeUntilWidgitInit</th>\n",
       "      <th>timeUntilFirstSwitchTab</th>\n",
       "    </tr>\n",
       "  </thead>\n",
       "  <tbody>\n",
       "    <tr>\n",
       "      <th>9ixn8fst1</th>\n",
       "      <td>0-overview.ipynb</td>\n",
       "      <td>RiseCamp</td>\n",
       "      <td>4</td>\n",
       "      <td>[11.329, 15.343, 30.185, 153.001]</td>\n",
       "      <td>[25.172, 21.158, 6.316]</td>\n",
       "    </tr>\n",
       "    <tr>\n",
       "      <th>czs122fic</th>\n",
       "      <td>1-Specify-Intent.ipynb</td>\n",
       "      <td>RiseCamp</td>\n",
       "      <td>8</td>\n",
       "      <td>[]</td>\n",
       "      <td>[18.688, 149.649, 144.711, 25.378, 56.075, 32....</td>\n",
       "    </tr>\n",
       "    <tr>\n",
       "      <th>sg8cq2mmb</th>\n",
       "      <td>2-Quick-Vis.ipynb</td>\n",
       "      <td>RiseCamp</td>\n",
       "      <td>11</td>\n",
       "      <td>[1.907, 2.536]</td>\n",
       "      <td>[]</td>\n",
       "    </tr>\n",
       "    <tr>\n",
       "      <th>0qocq99zz</th>\n",
       "      <td>cars_demo.ipynb</td>\n",
       "      <td>RiseCamp</td>\n",
       "      <td>12</td>\n",
       "      <td>[3.743, 5.973, 1.928, 8.235, 10.525, 13.778, 1...</td>\n",
       "      <td>[8.652, 9.394, 13.909, 3.6, 1.31]</td>\n",
       "    </tr>\n",
       "    <tr>\n",
       "      <th>txodzcfin</th>\n",
       "      <td>0-Lux-Overview.ipynb</td>\n",
       "      <td>RiseCamp</td>\n",
       "      <td>3</td>\n",
       "      <td>[2.099, 2.875, 4.029]</td>\n",
       "      <td>[459.798, 239.331, 14.536]</td>\n",
       "    </tr>\n",
       "    <tr>\n",
       "      <th>...</th>\n",
       "      <td>...</td>\n",
       "      <td>...</td>\n",
       "      <td>...</td>\n",
       "      <td>...</td>\n",
       "      <td>...</td>\n",
       "    </tr>\n",
       "    <tr>\n",
       "      <th>8q8ohu1o0</th>\n",
       "      <td>employee_demo.ipynb</td>\n",
       "      <td>Other</td>\n",
       "      <td>1</td>\n",
       "      <td>[]</td>\n",
       "      <td>[]</td>\n",
       "    </tr>\n",
       "    <tr>\n",
       "      <th>xyvxlzdlc</th>\n",
       "      <td>employee_demo.ipynb</td>\n",
       "      <td>Other</td>\n",
       "      <td>3</td>\n",
       "      <td>[37.6, 52.361, 61.124]</td>\n",
       "      <td>[]</td>\n",
       "    </tr>\n",
       "    <tr>\n",
       "      <th>kgcp5p4gr</th>\n",
       "      <td>employee_demo.ipynb</td>\n",
       "      <td>Other</td>\n",
       "      <td>2</td>\n",
       "      <td>[38.385, 41.265]</td>\n",
       "      <td>[13.907, 11.027]</td>\n",
       "    </tr>\n",
       "    <tr>\n",
       "      <th>yzcb56im4</th>\n",
       "      <td>cars_demo.ipynb</td>\n",
       "      <td>Other</td>\n",
       "      <td>7</td>\n",
       "      <td>[42.267, 63.762, 128.48, 144.077, 2.049]</td>\n",
       "      <td>[113.052, 91.557, 26.839, 11.242]</td>\n",
       "    </tr>\n",
       "    <tr>\n",
       "      <th>upk8v5eo2</th>\n",
       "      <td>5-datetime.ipynb</td>\n",
       "      <td>Other</td>\n",
       "      <td>2</td>\n",
       "      <td>[]</td>\n",
       "      <td>[]</td>\n",
       "    </tr>\n",
       "  </tbody>\n",
       "</table>\n",
       "<p>477 rows × 5 columns</p>\n",
       "</div>"
      ],
      "text/plain": [
       "                           nbName userGroup  initWidgetCount  \\\n",
       "9ixn8fst1        0-overview.ipynb  RiseCamp                4   \n",
       "czs122fic  1-Specify-Intent.ipynb  RiseCamp                8   \n",
       "sg8cq2mmb       2-Quick-Vis.ipynb  RiseCamp               11   \n",
       "0qocq99zz         cars_demo.ipynb  RiseCamp               12   \n",
       "txodzcfin    0-Lux-Overview.ipynb  RiseCamp                3   \n",
       "...                           ...       ...              ...   \n",
       "8q8ohu1o0     employee_demo.ipynb     Other                1   \n",
       "xyvxlzdlc     employee_demo.ipynb     Other                3   \n",
       "kgcp5p4gr     employee_demo.ipynb     Other                2   \n",
       "yzcb56im4         cars_demo.ipynb     Other                7   \n",
       "upk8v5eo2        5-datetime.ipynb     Other                2   \n",
       "\n",
       "                                         timeUntilWidgitInit  \\\n",
       "9ixn8fst1                  [11.329, 15.343, 30.185, 153.001]   \n",
       "czs122fic                                                 []   \n",
       "sg8cq2mmb                                     [1.907, 2.536]   \n",
       "0qocq99zz  [3.743, 5.973, 1.928, 8.235, 10.525, 13.778, 1...   \n",
       "txodzcfin                              [2.099, 2.875, 4.029]   \n",
       "...                                                      ...   \n",
       "8q8ohu1o0                                                 []   \n",
       "xyvxlzdlc                             [37.6, 52.361, 61.124]   \n",
       "kgcp5p4gr                                   [38.385, 41.265]   \n",
       "yzcb56im4           [42.267, 63.762, 128.48, 144.077, 2.049]   \n",
       "upk8v5eo2                                                 []   \n",
       "\n",
       "                                     timeUntilFirstSwitchTab  \n",
       "9ixn8fst1                            [25.172, 21.158, 6.316]  \n",
       "czs122fic  [18.688, 149.649, 144.711, 25.378, 56.075, 32....  \n",
       "sg8cq2mmb                                                 []  \n",
       "0qocq99zz                  [8.652, 9.394, 13.909, 3.6, 1.31]  \n",
       "txodzcfin                         [459.798, 239.331, 14.536]  \n",
       "...                                                      ...  \n",
       "8q8ohu1o0                                                 []  \n",
       "xyvxlzdlc                                                 []  \n",
       "kgcp5p4gr                                   [13.907, 11.027]  \n",
       "yzcb56im4                  [113.052, 91.557, 26.839, 11.242]  \n",
       "upk8v5eo2                                                 []  \n",
       "\n",
       "[477 rows x 5 columns]"
      ]
     },
     "execution_count": 93,
     "metadata": {},
     "output_type": "execute_result"
    }
   ],
   "source": [
    "clickdf"
   ]
  },
  {
   "cell_type": "code",
   "execution_count": 94,
   "metadata": {},
   "outputs": [
    {
     "data": {
      "text/plain": [
       "9ixn8fst1                    [11.329, 15.343, 30.185, 153.001]\n",
       "czs122fic                                                   []\n",
       "sg8cq2mmb                                       [1.907, 2.536]\n",
       "0qocq99zz    [3.743, 5.973, 1.928, 8.235, 10.525, 13.778, 1...\n",
       "txodzcfin                                [2.099, 2.875, 4.029]\n",
       "                                   ...                        \n",
       "8q8ohu1o0                                                   []\n",
       "xyvxlzdlc                               [37.6, 52.361, 61.124]\n",
       "kgcp5p4gr                                     [38.385, 41.265]\n",
       "yzcb56im4             [42.267, 63.762, 128.48, 144.077, 2.049]\n",
       "upk8v5eo2                                                   []\n",
       "Name: timeUntilWidgitInit, Length: 477, dtype: object"
      ]
     },
     "execution_count": 94,
     "metadata": {},
     "output_type": "execute_result"
    }
   ],
   "source": [
    "clickdf[\"timeUntilWidgitInit\"]"
   ]
  },
  {
   "cell_type": "code",
   "execution_count": 98,
   "metadata": {},
   "outputs": [],
   "source": [
    "clickdf.loc[:, 'firstClick'] = clickdf.timeUntilWidgitInit.str[0]"
   ]
  },
  {
   "cell_type": "code",
   "execution_count": 111,
   "metadata": {},
   "outputs": [],
   "source": [
    "avg = 28.87755\n",
    "pct90 = 55.595\n",
    "pct95 = 108.582\n",
    "pct99 = 441.410 "
   ]
  },
  {
   "cell_type": "code",
   "execution_count": 130,
   "metadata": {},
   "outputs": [
    {
     "data": {
      "text/plain": [
       "<matplotlib.lines.Line2D at 0x12e2cf710>"
      ]
     },
     "execution_count": 130,
     "metadata": {},
     "output_type": "execute_result"
    },
    {
     "data": {
      "image/png": "[encoded data removed]",
      "text/plain": [
       "<Figure size 432x288 with 1 Axes>"
      ]
     },
     "metadata": {
      "needs_background": "light"
     },
     "output_type": "display_data"
    }
   ],
   "source": [
    "plt.axvline(x=avg,linestyle='--',color='orange')"
   ]
  },
  {
   "cell_type": "code",
   "execution_count": null,
   "metadata": {},
   "outputs": [],
   "source": []
  }
 ],
 "metadata": {
  "kernelspec": {
   "display_name": "Python 3",
   "language": "python",
   "name": "python3"
  },
  "language_info": {
   "codemirror_mode": {
    "name": "ipython",
    "version": 3
   },
   "file_extension": ".py",
   "mimetype": "text/x-python",
   "name": "python",
   "nbconvert_exporter": "python",
   "pygments_lexer": "ipython3",
   "version": "3.7.7"
  }
 },
 "nbformat": 4,
 "nbformat_minor": 4
}
