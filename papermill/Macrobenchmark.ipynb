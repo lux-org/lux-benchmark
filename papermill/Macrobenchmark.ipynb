{
 "cells": [
  {
   "cell_type": "code",
   "execution_count": 38,
   "metadata": {},
   "outputs": [],
   "source": [
    "import nbformat as nbf"
   ]
  },
  {
   "cell_type": "code",
   "execution_count": 43,
   "metadata": {},
   "outputs": [],
   "source": [
    "nb_id = \"toy\"\n",
    "nb = nbf.read(f\"{nb_id}.ipynb\",as_version=4) #the toy original is the pandas-only control\n",
    "code = \"import lux\"\n",
    "nb[\"cells\"].insert(0,nbf.v4.new_code_cell(code))\n",
    "nbf.write(nb, f'{nb_id}_baseline.ipynb')"
   ]
  },
  {
   "cell_type": "code",
   "execution_count": 44,
   "metadata": {},
   "outputs": [],
   "source": [
    "nb = nbf.read(f\"{nb_id}.ipynb\",as_version=4) \n",
    "code = \"import lux\\nlux.config.lazy_maintain = True\"\n",
    "nb[\"cells\"].insert(0,nbf.v4.new_code_cell(code))\n",
    "nbf.write(nb, f'{nb_id}_o1.ipynb')"
   ]
  },
  {
   "cell_type": "code",
   "execution_count": 45,
   "metadata": {},
   "outputs": [],
   "source": [
    "nb = nbf.read(f\"{nb_id}.ipynb\",as_version=4) \n",
    "code = \"import lux\\nlux.config.lazy_maintain = True\\nlux.config.early_pruning = True\"\n",
    "nb[\"cells\"].insert(0,nbf.v4.new_code_cell(code))\n",
    "nbf.write(nb, f'{nb_id}_o1o2.ipynb')"
   ]
  },
  {
   "cell_type": "code",
   "execution_count": 46,
   "metadata": {},
   "outputs": [],
   "source": [
    "nb = nbf.read(f\"{nb_id}.ipynb\",as_version=4) \n",
    "code = \"import lux\\nlux.config.lazy_maintain = True\\nlux.config.early_pruning = True\\nlux.config.streaming = True\"\n",
    "nb[\"cells\"].insert(0,nbf.v4.new_code_cell(code))\n",
    "nbf.write(nb, f'{nb_id}_o1o2o3.ipynb')"
   ]
  },
  {
   "cell_type": "code",
   "execution_count": null,
   "metadata": {},
   "outputs": [],
   "source": []
  },
  {
   "cell_type": "code",
   "execution_count": 6,
   "metadata": {},
   "outputs": [
    {
     "data": {
      "application/vnd.jupyter.widget-view+json": {
       "model_id": "0477fe137572413789d0b660ed7f2e4e",
       "version_major": 2,
       "version_minor": 0
      },
      "text/plain": [
       "HBox(children=(FloatProgress(value=0.0, description='Executing', max=43.0, style=ProgressStyle(description_wid…"
      ]
     },
     "metadata": {},
     "output_type": "display_data"
    },
    {
     "name": "stdout",
     "output_type": "stream",
     "text": [
      "\n",
      "toy_o1o2.ipynb 27.39405893\n"
     ]
    },
    {
     "data": {
      "application/vnd.jupyter.widget-view+json": {
       "model_id": "1b5cfb66400f4b0b814b8570fd4a47c7",
       "version_major": 2,
       "version_minor": 0
      },
      "text/plain": [
       "HBox(children=(FloatProgress(value=0.0, description='Executing', max=42.0, style=ProgressStyle(description_wid…"
      ]
     },
     "metadata": {},
     "output_type": "display_data"
    },
    {
     "name": "stdout",
     "output_type": "stream",
     "text": [
      "\n",
      "toy.ipynb 8.979917790999998\n"
     ]
    },
    {
     "data": {
      "application/vnd.jupyter.widget-view+json": {
       "model_id": "2070d9e2472d48b38e9acb34489de1e5",
       "version_major": 2,
       "version_minor": 0
      },
      "text/plain": [
       "HBox(children=(FloatProgress(value=0.0, description='Executing', max=43.0, style=ProgressStyle(description_wid…"
      ]
     },
     "metadata": {},
     "output_type": "display_data"
    },
    {
     "name": "stdout",
     "output_type": "stream",
     "text": [
      "\n",
      "toy_o1.ipynb 36.383189906\n"
     ]
    },
    {
     "data": {
      "application/vnd.jupyter.widget-view+json": {
       "model_id": "2271412a96184c1383a6bd042cc524ea",
       "version_major": 2,
       "version_minor": 0
      },
      "text/plain": [
       "HBox(children=(FloatProgress(value=0.0, description='Executing', max=43.0, style=ProgressStyle(description_wid…"
      ]
     },
     "metadata": {},
     "output_type": "display_data"
    },
    {
     "name": "stdout",
     "output_type": "stream",
     "text": [
      "\n",
      "toy_o1o2o3.ipynb 12.123425564999991\n"
     ]
    },
    {
     "data": {
      "application/vnd.jupyter.widget-view+json": {
       "model_id": "a2041e02e8a04fa9b3d7da915414005a",
       "version_major": 2,
       "version_minor": 0
      },
      "text/plain": [
       "HBox(children=(FloatProgress(value=0.0, description='Executing', max=43.0, style=ProgressStyle(description_wid…"
      ]
     },
     "metadata": {},
     "output_type": "display_data"
    },
    {
     "name": "stdout",
     "output_type": "stream",
     "text": [
      "\n",
      "toy_baseline.ipynb 39.192437846000004\n"
     ]
    }
   ],
   "source": [
    "import glob\n",
    "import time\n",
    "import papermill as pm\n",
    "import pandas as pd\n",
    "import numpy as np\n",
    "import json\n",
    "trial = []\n",
    "for nb_name in glob.glob(\"toy*\"):\n",
    "    output_filename = \"output.ipynb\"\n",
    "    # papermill basic_scatter.ipynb output.ipynb -p numPoints 1000000 --execute-timeout 1000\n",
    "    # TODO: High variance in overall time, might have to repeat experiment or measure using papermill nb info\n",
    "    start = time.perf_counter()\n",
    "    pm.execute_notebook(\n",
    "        f\"{nb_name}\", output_filename, \n",
    "    )\n",
    "    end = time.perf_counter()\n",
    "    duration = end-start\n",
    "    print(nb_name, duration)\n",
    "    trial.append([nb_name, duration])"
   ]
  },
  {
   "cell_type": "code",
   "execution_count": 9,
   "metadata": {},
   "outputs": [],
   "source": [
    "trial = pd.DataFrame(trial,columns=[\"nb_name\",\"time\"])"
   ]
  },
  {
   "cell_type": "code",
   "execution_count": 13,
   "metadata": {},
   "outputs": [],
   "source": [
    "trial.to_csv(\"macrobenchmark_1e5.csv\",index=None)"
   ]
  },
  {
   "cell_type": "code",
   "execution_count": 12,
   "metadata": {},
   "outputs": [],
   "source": [
    "import altair as alt"
   ]
  },
  {
   "cell_type": "code",
   "execution_count": 25,
   "metadata": {},
   "outputs": [],
   "source": [
    "trial = pd.read_csv(\"macrobenchmark_1e5.csv\")"
   ]
  },
  {
   "cell_type": "code",
   "execution_count": 26,
   "metadata": {},
   "outputs": [
    {
     "data": {
      "text/html": [
       "\n",
       "<div id=\"altair-viz-e6eeeac41b4d4ab9a11bc92ae999cd87\"></div>\n",
       "<script type=\"text/javascript\">\n",
       "  (function(spec, embedOpt){\n",
       "    let outputDiv = document.currentScript.previousElementSibling;\n",
       "    if (outputDiv.id !== \"altair-viz-e6eeeac41b4d4ab9a11bc92ae999cd87\") {\n",
       "      outputDiv = document.getElementById(\"altair-viz-e6eeeac41b4d4ab9a11bc92ae999cd87\");\n",
       "    }\n",
       "    const paths = {\n",
       "      \"vega\": \"https://cdn.jsdelivr.net/npm//vega@5?noext\",\n",
       "      \"vega-lib\": \"https://cdn.jsdelivr.net/npm//vega-lib?noext\",\n",
       "      \"vega-lite\": \"https://cdn.jsdelivr.net/npm//vega-lite@4.8.1?noext\",\n",
       "      \"vega-embed\": \"https://cdn.jsdelivr.net/npm//vega-embed@6?noext\",\n",
       "    };\n",
       "\n",
       "    function loadScript(lib) {\n",
       "      return new Promise(function(resolve, reject) {\n",
       "        var s = document.createElement('script');\n",
       "        s.src = paths[lib];\n",
       "        s.async = true;\n",
       "        s.onload = () => resolve(paths[lib]);\n",
       "        s.onerror = () => reject(`Error loading script: ${paths[lib]}`);\n",
       "        document.getElementsByTagName(\"head\")[0].appendChild(s);\n",
       "      });\n",
       "    }\n",
       "\n",
       "    function showError(err) {\n",
       "      outputDiv.innerHTML = `<div class=\"error\" style=\"color:red;\">${err}</div>`;\n",
       "      throw err;\n",
       "    }\n",
       "\n",
       "    function displayChart(vegaEmbed) {\n",
       "      vegaEmbed(outputDiv, spec, embedOpt)\n",
       "        .catch(err => showError(`Javascript Error: ${err.message}<br>This usually means there's a typo in your chart specification. See the javascript console for the full traceback.`));\n",
       "    }\n",
       "\n",
       "    if(typeof define === \"function\" && define.amd) {\n",
       "      requirejs.config({paths});\n",
       "      require([\"vega-embed\"], displayChart, err => showError(`Error loading script: ${err.message}`));\n",
       "    } else if (typeof vegaEmbed === \"function\") {\n",
       "      displayChart(vegaEmbed);\n",
       "    } else {\n",
       "      loadScript(\"vega\")\n",
       "        .then(() => loadScript(\"vega-lite\"))\n",
       "        .then(() => loadScript(\"vega-embed\"))\n",
       "        .catch(showError)\n",
       "        .then(() => displayChart(vegaEmbed));\n",
       "    }\n",
       "  })({\"config\": {\"view\": {\"continuousWidth\": 400, \"continuousHeight\": 300}}, \"data\": {\"name\": \"data-0b8e6dc56e14023eb8090cab3e9d6006\"}, \"mark\": \"bar\", \"encoding\": {\"x\": {\"type\": \"nominal\", \"field\": \"nb_name\"}, \"y\": {\"type\": \"quantitative\", \"field\": \"time\"}}, \"$schema\": \"https://vega.github.io/schema/vega-lite/v4.8.1.json\", \"datasets\": {\"data-0b8e6dc56e14023eb8090cab3e9d6006\": [{\"nb_name\": \"toy_o1o2.ipynb\", \"time\": 27.39405893}, {\"nb_name\": \"toy.ipynb\", \"time\": 8.979917790999998}, {\"nb_name\": \"toy_o1.ipynb\", \"time\": 36.383189906}, {\"nb_name\": \"toy_o1o2o3.ipynb\", \"time\": 12.123425564999993}, {\"nb_name\": \"toy_baseline.ipynb\", \"time\": 39.192437846}]}}, {\"mode\": \"vega-lite\"});\n",
       "</script>"
      ],
      "text/plain": [
       "alt.Chart(...)"
      ]
     },
     "execution_count": 26,
     "metadata": {},
     "output_type": "execute_result"
    }
   ],
   "source": [
    "alt.Chart(trial).mark_bar().encode(\n",
    "    x = \"nb_name\",\n",
    "    y = \"time\"\n",
    ")"
   ]
  },
  {
   "cell_type": "code",
   "execution_count": 36,
   "metadata": {},
   "outputs": [],
   "source": [
    "trial = pd.read_csv(\"macrobenchmark_1e6.csv\")"
   ]
  },
  {
   "cell_type": "code",
   "execution_count": 37,
   "metadata": {},
   "outputs": [
    {
     "data": {
      "text/html": [
       "\n",
       "<div id=\"altair-viz-8734988dcf684987b99a0bebae376985\"></div>\n",
       "<script type=\"text/javascript\">\n",
       "  (function(spec, embedOpt){\n",
       "    let outputDiv = document.currentScript.previousElementSibling;\n",
       "    if (outputDiv.id !== \"altair-viz-8734988dcf684987b99a0bebae376985\") {\n",
       "      outputDiv = document.getElementById(\"altair-viz-8734988dcf684987b99a0bebae376985\");\n",
       "    }\n",
       "    const paths = {\n",
       "      \"vega\": \"https://cdn.jsdelivr.net/npm//vega@5?noext\",\n",
       "      \"vega-lib\": \"https://cdn.jsdelivr.net/npm//vega-lib?noext\",\n",
       "      \"vega-lite\": \"https://cdn.jsdelivr.net/npm//vega-lite@4.8.1?noext\",\n",
       "      \"vega-embed\": \"https://cdn.jsdelivr.net/npm//vega-embed@6?noext\",\n",
       "    };\n",
       "\n",
       "    function loadScript(lib) {\n",
       "      return new Promise(function(resolve, reject) {\n",
       "        var s = document.createElement('script');\n",
       "        s.src = paths[lib];\n",
       "        s.async = true;\n",
       "        s.onload = () => resolve(paths[lib]);\n",
       "        s.onerror = () => reject(`Error loading script: ${paths[lib]}`);\n",
       "        document.getElementsByTagName(\"head\")[0].appendChild(s);\n",
       "      });\n",
       "    }\n",
       "\n",
       "    function showError(err) {\n",
       "      outputDiv.innerHTML = `<div class=\"error\" style=\"color:red;\">${err}</div>`;\n",
       "      throw err;\n",
       "    }\n",
       "\n",
       "    function displayChart(vegaEmbed) {\n",
       "      vegaEmbed(outputDiv, spec, embedOpt)\n",
       "        .catch(err => showError(`Javascript Error: ${err.message}<br>This usually means there's a typo in your chart specification. See the javascript console for the full traceback.`));\n",
       "    }\n",
       "\n",
       "    if(typeof define === \"function\" && define.amd) {\n",
       "      requirejs.config({paths});\n",
       "      require([\"vega-embed\"], displayChart, err => showError(`Error loading script: ${err.message}`));\n",
       "    } else if (typeof vegaEmbed === \"function\") {\n",
       "      displayChart(vegaEmbed);\n",
       "    } else {\n",
       "      loadScript(\"vega\")\n",
       "        .then(() => loadScript(\"vega-lite\"))\n",
       "        .then(() => loadScript(\"vega-embed\"))\n",
       "        .catch(showError)\n",
       "        .then(() => displayChart(vegaEmbed));\n",
       "    }\n",
       "  })({\"config\": {\"view\": {\"continuousWidth\": 400, \"continuousHeight\": 300}}, \"data\": {\"name\": \"data-8680bd93eb4475c75e2279a17b734c1c\"}, \"mark\": \"bar\", \"encoding\": {\"x\": {\"type\": \"nominal\", \"field\": \"nb_name\"}, \"y\": {\"type\": \"quantitative\", \"field\": \"time\"}}, \"$schema\": \"https://vega.github.io/schema/vega-lite/v4.8.1.json\", \"datasets\": {\"data-8680bd93eb4475c75e2279a17b734c1c\": [{\"nb_name\": \"toy_o1o2.ipynb\", \"time\": 45.36387113399999}, {\"nb_name\": \"toy.ipynb\", \"time\": 6.979947033999999}, {\"nb_name\": \"toy_o1.ipynb\", \"time\": 82.493078596}, {\"nb_name\": \"toy_o1o2o3.ipynb\", \"time\": 21.77600514400001}, {\"nb_name\": \"toy_baseline.ipynb\", \"time\": 90.64906166200001}]}}, {\"mode\": \"vega-lite\"});\n",
       "</script>"
      ],
      "text/plain": [
       "alt.Chart(...)"
      ]
     },
     "execution_count": 37,
     "metadata": {},
     "output_type": "execute_result"
    }
   ],
   "source": [
    "alt.Chart(trial).mark_bar().encode(\n",
    "    x = \"nb_name\",\n",
    "    y = \"time\",\n",
    "    \n",
    ")"
   ]
  },
  {
   "cell_type": "code",
   "execution_count": 57,
   "metadata": {},
   "outputs": [],
   "source": [
    "df = pd.read_csv(\"macrobenchmark.csv\")"
   ]
  },
  {
   "cell_type": "code",
   "execution_count": 60,
   "metadata": {},
   "outputs": [
    {
     "data": {
      "text/html": [
       "<div>\n",
       "<style scoped>\n",
       "    .dataframe tbody tr th:only-of-type {\n",
       "        vertical-align: middle;\n",
       "    }\n",
       "\n",
       "    .dataframe tbody tr th {\n",
       "        vertical-align: top;\n",
       "    }\n",
       "\n",
       "    .dataframe thead th {\n",
       "        text-align: right;\n",
       "    }\n",
       "</style>\n",
       "<table border=\"1\" class=\"dataframe\">\n",
       "  <thead>\n",
       "    <tr style=\"text-align: right;\">\n",
       "      <th></th>\n",
       "      <th>nb_name</th>\n",
       "      <th>time</th>\n",
       "      <th>nPts</th>\n",
       "    </tr>\n",
       "  </thead>\n",
       "  <tbody>\n",
       "    <tr>\n",
       "      <th>0</th>\n",
       "      <td>toy_o1o2.ipynb</td>\n",
       "      <td>48.199455</td>\n",
       "      <td>1.000000e+04</td>\n",
       "    </tr>\n",
       "    <tr>\n",
       "      <th>1</th>\n",
       "      <td>toy.ipynb</td>\n",
       "      <td>18.858952</td>\n",
       "      <td>1.000000e+04</td>\n",
       "    </tr>\n",
       "    <tr>\n",
       "      <th>2</th>\n",
       "      <td>toy_o1.ipynb</td>\n",
       "      <td>50.412318</td>\n",
       "      <td>1.000000e+04</td>\n",
       "    </tr>\n",
       "    <tr>\n",
       "      <th>3</th>\n",
       "      <td>toy_o1o2o3.ipynb</td>\n",
       "      <td>30.620001</td>\n",
       "      <td>1.000000e+04</td>\n",
       "    </tr>\n",
       "    <tr>\n",
       "      <th>4</th>\n",
       "      <td>toy_baseline.ipynb</td>\n",
       "      <td>51.942860</td>\n",
       "      <td>1.000000e+04</td>\n",
       "    </tr>\n",
       "    <tr>\n",
       "      <th>5</th>\n",
       "      <td>toy_o1o2.ipynb</td>\n",
       "      <td>41.527803</td>\n",
       "      <td>2.154435e+04</td>\n",
       "    </tr>\n",
       "    <tr>\n",
       "      <th>6</th>\n",
       "      <td>toy.ipynb</td>\n",
       "      <td>18.854052</td>\n",
       "      <td>2.154435e+04</td>\n",
       "    </tr>\n",
       "    <tr>\n",
       "      <th>7</th>\n",
       "      <td>toy_o1.ipynb</td>\n",
       "      <td>48.230865</td>\n",
       "      <td>2.154435e+04</td>\n",
       "    </tr>\n",
       "    <tr>\n",
       "      <th>8</th>\n",
       "      <td>toy_o1o2o3.ipynb</td>\n",
       "      <td>25.426498</td>\n",
       "      <td>2.154435e+04</td>\n",
       "    </tr>\n",
       "    <tr>\n",
       "      <th>9</th>\n",
       "      <td>toy_baseline.ipynb</td>\n",
       "      <td>52.100592</td>\n",
       "      <td>2.154435e+04</td>\n",
       "    </tr>\n",
       "    <tr>\n",
       "      <th>10</th>\n",
       "      <td>toy_o1o2.ipynb</td>\n",
       "      <td>39.935535</td>\n",
       "      <td>4.641589e+04</td>\n",
       "    </tr>\n",
       "    <tr>\n",
       "      <th>11</th>\n",
       "      <td>toy.ipynb</td>\n",
       "      <td>20.297053</td>\n",
       "      <td>4.641589e+04</td>\n",
       "    </tr>\n",
       "    <tr>\n",
       "      <th>12</th>\n",
       "      <td>toy_o1.ipynb</td>\n",
       "      <td>48.149831</td>\n",
       "      <td>4.641589e+04</td>\n",
       "    </tr>\n",
       "    <tr>\n",
       "      <th>13</th>\n",
       "      <td>toy_o1o2o3.ipynb</td>\n",
       "      <td>22.416086</td>\n",
       "      <td>4.641589e+04</td>\n",
       "    </tr>\n",
       "    <tr>\n",
       "      <th>14</th>\n",
       "      <td>toy_baseline.ipynb</td>\n",
       "      <td>49.677263</td>\n",
       "      <td>4.641589e+04</td>\n",
       "    </tr>\n",
       "    <tr>\n",
       "      <th>15</th>\n",
       "      <td>toy_o1o2.ipynb</td>\n",
       "      <td>40.852744</td>\n",
       "      <td>1.000000e+05</td>\n",
       "    </tr>\n",
       "    <tr>\n",
       "      <th>16</th>\n",
       "      <td>toy.ipynb</td>\n",
       "      <td>20.224160</td>\n",
       "      <td>1.000000e+05</td>\n",
       "    </tr>\n",
       "    <tr>\n",
       "      <th>17</th>\n",
       "      <td>toy_o1.ipynb</td>\n",
       "      <td>51.428951</td>\n",
       "      <td>1.000000e+05</td>\n",
       "    </tr>\n",
       "    <tr>\n",
       "      <th>18</th>\n",
       "      <td>toy_o1o2o3.ipynb</td>\n",
       "      <td>23.393300</td>\n",
       "      <td>1.000000e+05</td>\n",
       "    </tr>\n",
       "    <tr>\n",
       "      <th>19</th>\n",
       "      <td>toy_baseline.ipynb</td>\n",
       "      <td>54.104422</td>\n",
       "      <td>1.000000e+05</td>\n",
       "    </tr>\n",
       "    <tr>\n",
       "      <th>20</th>\n",
       "      <td>toy_o1o2.ipynb</td>\n",
       "      <td>42.329942</td>\n",
       "      <td>2.154435e+05</td>\n",
       "    </tr>\n",
       "    <tr>\n",
       "      <th>21</th>\n",
       "      <td>toy.ipynb</td>\n",
       "      <td>20.278446</td>\n",
       "      <td>2.154435e+05</td>\n",
       "    </tr>\n",
       "    <tr>\n",
       "      <th>22</th>\n",
       "      <td>toy_o1.ipynb</td>\n",
       "      <td>64.042343</td>\n",
       "      <td>2.154435e+05</td>\n",
       "    </tr>\n",
       "    <tr>\n",
       "      <th>23</th>\n",
       "      <td>toy_o1o2o3.ipynb</td>\n",
       "      <td>26.410211</td>\n",
       "      <td>2.154435e+05</td>\n",
       "    </tr>\n",
       "    <tr>\n",
       "      <th>24</th>\n",
       "      <td>toy_baseline.ipynb</td>\n",
       "      <td>64.436181</td>\n",
       "      <td>2.154435e+05</td>\n",
       "    </tr>\n",
       "    <tr>\n",
       "      <th>25</th>\n",
       "      <td>toy_o1o2.ipynb</td>\n",
       "      <td>53.195752</td>\n",
       "      <td>4.641589e+05</td>\n",
       "    </tr>\n",
       "    <tr>\n",
       "      <th>26</th>\n",
       "      <td>toy.ipynb</td>\n",
       "      <td>22.736099</td>\n",
       "      <td>4.641589e+05</td>\n",
       "    </tr>\n",
       "    <tr>\n",
       "      <th>27</th>\n",
       "      <td>toy_o1.ipynb</td>\n",
       "      <td>76.542342</td>\n",
       "      <td>4.641589e+05</td>\n",
       "    </tr>\n",
       "    <tr>\n",
       "      <th>28</th>\n",
       "      <td>toy_o1o2o3.ipynb</td>\n",
       "      <td>30.348662</td>\n",
       "      <td>4.641589e+05</td>\n",
       "    </tr>\n",
       "    <tr>\n",
       "      <th>29</th>\n",
       "      <td>toy_baseline.ipynb</td>\n",
       "      <td>84.241668</td>\n",
       "      <td>4.641589e+05</td>\n",
       "    </tr>\n",
       "    <tr>\n",
       "      <th>30</th>\n",
       "      <td>toy_o1o2.ipynb</td>\n",
       "      <td>61.958587</td>\n",
       "      <td>1.000000e+06</td>\n",
       "    </tr>\n",
       "    <tr>\n",
       "      <th>31</th>\n",
       "      <td>toy.ipynb</td>\n",
       "      <td>22.219432</td>\n",
       "      <td>1.000000e+06</td>\n",
       "    </tr>\n",
       "    <tr>\n",
       "      <th>32</th>\n",
       "      <td>toy_o1.ipynb</td>\n",
       "      <td>110.014489</td>\n",
       "      <td>1.000000e+06</td>\n",
       "    </tr>\n",
       "    <tr>\n",
       "      <th>33</th>\n",
       "      <td>toy_o1o2o3.ipynb</td>\n",
       "      <td>38.301605</td>\n",
       "      <td>1.000000e+06</td>\n",
       "    </tr>\n",
       "    <tr>\n",
       "      <th>34</th>\n",
       "      <td>toy_baseline.ipynb</td>\n",
       "      <td>119.660312</td>\n",
       "      <td>1.000000e+06</td>\n",
       "    </tr>\n",
       "    <tr>\n",
       "      <th>35</th>\n",
       "      <td>toy_o1o2.ipynb</td>\n",
       "      <td>88.275457</td>\n",
       "      <td>2.154435e+06</td>\n",
       "    </tr>\n",
       "    <tr>\n",
       "      <th>36</th>\n",
       "      <td>toy.ipynb</td>\n",
       "      <td>26.030268</td>\n",
       "      <td>2.154435e+06</td>\n",
       "    </tr>\n",
       "    <tr>\n",
       "      <th>37</th>\n",
       "      <td>toy_o1.ipynb</td>\n",
       "      <td>163.976803</td>\n",
       "      <td>2.154435e+06</td>\n",
       "    </tr>\n",
       "    <tr>\n",
       "      <th>38</th>\n",
       "      <td>toy_o1o2o3.ipynb</td>\n",
       "      <td>57.455928</td>\n",
       "      <td>2.154435e+06</td>\n",
       "    </tr>\n",
       "    <tr>\n",
       "      <th>39</th>\n",
       "      <td>toy_baseline.ipynb</td>\n",
       "      <td>179.529238</td>\n",
       "      <td>2.154435e+06</td>\n",
       "    </tr>\n",
       "    <tr>\n",
       "      <th>40</th>\n",
       "      <td>toy_o1o2.ipynb</td>\n",
       "      <td>156.568694</td>\n",
       "      <td>4.641589e+06</td>\n",
       "    </tr>\n",
       "    <tr>\n",
       "      <th>41</th>\n",
       "      <td>toy.ipynb</td>\n",
       "      <td>36.249842</td>\n",
       "      <td>4.641589e+06</td>\n",
       "    </tr>\n",
       "    <tr>\n",
       "      <th>42</th>\n",
       "      <td>toy_o1.ipynb</td>\n",
       "      <td>303.914576</td>\n",
       "      <td>4.641589e+06</td>\n",
       "    </tr>\n",
       "    <tr>\n",
       "      <th>43</th>\n",
       "      <td>toy_o1o2o3.ipynb</td>\n",
       "      <td>101.522188</td>\n",
       "      <td>4.641589e+06</td>\n",
       "    </tr>\n",
       "    <tr>\n",
       "      <th>44</th>\n",
       "      <td>toy_baseline.ipynb</td>\n",
       "      <td>333.525968</td>\n",
       "      <td>4.641589e+06</td>\n",
       "    </tr>\n",
       "    <tr>\n",
       "      <th>45</th>\n",
       "      <td>toy_o1o2.ipynb</td>\n",
       "      <td>292.907499</td>\n",
       "      <td>1.000000e+07</td>\n",
       "    </tr>\n",
       "    <tr>\n",
       "      <th>46</th>\n",
       "      <td>toy.ipynb</td>\n",
       "      <td>51.862829</td>\n",
       "      <td>1.000000e+07</td>\n",
       "    </tr>\n",
       "    <tr>\n",
       "      <th>47</th>\n",
       "      <td>toy_o1.ipynb</td>\n",
       "      <td>582.305952</td>\n",
       "      <td>1.000000e+07</td>\n",
       "    </tr>\n",
       "    <tr>\n",
       "      <th>48</th>\n",
       "      <td>toy_o1o2o3.ipynb</td>\n",
       "      <td>188.776917</td>\n",
       "      <td>1.000000e+07</td>\n",
       "    </tr>\n",
       "    <tr>\n",
       "      <th>49</th>\n",
       "      <td>toy_baseline.ipynb</td>\n",
       "      <td>626.755874</td>\n",
       "      <td>1.000000e+07</td>\n",
       "    </tr>\n",
       "  </tbody>\n",
       "</table>\n",
       "</div>"
      ],
      "text/plain": [
       "               nb_name        time          nPts\n",
       "0       toy_o1o2.ipynb   48.199455  1.000000e+04\n",
       "1            toy.ipynb   18.858952  1.000000e+04\n",
       "2         toy_o1.ipynb   50.412318  1.000000e+04\n",
       "3     toy_o1o2o3.ipynb   30.620001  1.000000e+04\n",
       "4   toy_baseline.ipynb   51.942860  1.000000e+04\n",
       "5       toy_o1o2.ipynb   41.527803  2.154435e+04\n",
       "6            toy.ipynb   18.854052  2.154435e+04\n",
       "7         toy_o1.ipynb   48.230865  2.154435e+04\n",
       "8     toy_o1o2o3.ipynb   25.426498  2.154435e+04\n",
       "9   toy_baseline.ipynb   52.100592  2.154435e+04\n",
       "10      toy_o1o2.ipynb   39.935535  4.641589e+04\n",
       "11           toy.ipynb   20.297053  4.641589e+04\n",
       "12        toy_o1.ipynb   48.149831  4.641589e+04\n",
       "13    toy_o1o2o3.ipynb   22.416086  4.641589e+04\n",
       "14  toy_baseline.ipynb   49.677263  4.641589e+04\n",
       "15      toy_o1o2.ipynb   40.852744  1.000000e+05\n",
       "16           toy.ipynb   20.224160  1.000000e+05\n",
       "17        toy_o1.ipynb   51.428951  1.000000e+05\n",
       "18    toy_o1o2o3.ipynb   23.393300  1.000000e+05\n",
       "19  toy_baseline.ipynb   54.104422  1.000000e+05\n",
       "20      toy_o1o2.ipynb   42.329942  2.154435e+05\n",
       "21           toy.ipynb   20.278446  2.154435e+05\n",
       "22        toy_o1.ipynb   64.042343  2.154435e+05\n",
       "23    toy_o1o2o3.ipynb   26.410211  2.154435e+05\n",
       "24  toy_baseline.ipynb   64.436181  2.154435e+05\n",
       "25      toy_o1o2.ipynb   53.195752  4.641589e+05\n",
       "26           toy.ipynb   22.736099  4.641589e+05\n",
       "27        toy_o1.ipynb   76.542342  4.641589e+05\n",
       "28    toy_o1o2o3.ipynb   30.348662  4.641589e+05\n",
       "29  toy_baseline.ipynb   84.241668  4.641589e+05\n",
       "30      toy_o1o2.ipynb   61.958587  1.000000e+06\n",
       "31           toy.ipynb   22.219432  1.000000e+06\n",
       "32        toy_o1.ipynb  110.014489  1.000000e+06\n",
       "33    toy_o1o2o3.ipynb   38.301605  1.000000e+06\n",
       "34  toy_baseline.ipynb  119.660312  1.000000e+06\n",
       "35      toy_o1o2.ipynb   88.275457  2.154435e+06\n",
       "36           toy.ipynb   26.030268  2.154435e+06\n",
       "37        toy_o1.ipynb  163.976803  2.154435e+06\n",
       "38    toy_o1o2o3.ipynb   57.455928  2.154435e+06\n",
       "39  toy_baseline.ipynb  179.529238  2.154435e+06\n",
       "40      toy_o1o2.ipynb  156.568694  4.641589e+06\n",
       "41           toy.ipynb   36.249842  4.641589e+06\n",
       "42        toy_o1.ipynb  303.914576  4.641589e+06\n",
       "43    toy_o1o2o3.ipynb  101.522188  4.641589e+06\n",
       "44  toy_baseline.ipynb  333.525968  4.641589e+06\n",
       "45      toy_o1o2.ipynb  292.907499  1.000000e+07\n",
       "46           toy.ipynb   51.862829  1.000000e+07\n",
       "47        toy_o1.ipynb  582.305952  1.000000e+07\n",
       "48    toy_o1o2o3.ipynb  188.776917  1.000000e+07\n",
       "49  toy_baseline.ipynb  626.755874  1.000000e+07"
      ]
     },
     "execution_count": 60,
     "metadata": {},
     "output_type": "execute_result"
    }
   ],
   "source": [
    "df"
   ]
  },
  {
   "cell_type": "code",
   "execution_count": 59,
   "metadata": {},
   "outputs": [
    {
     "data": {
      "text/html": [
       "\n",
       "<div id=\"altair-viz-47eec005637148c9bb2d5dddf585e415\"></div>\n",
       "<script type=\"text/javascript\">\n",
       "  (function(spec, embedOpt){\n",
       "    let outputDiv = document.currentScript.previousElementSibling;\n",
       "    if (outputDiv.id !== \"altair-viz-47eec005637148c9bb2d5dddf585e415\") {\n",
       "      outputDiv = document.getElementById(\"altair-viz-47eec005637148c9bb2d5dddf585e415\");\n",
       "    }\n",
       "    const paths = {\n",
       "      \"vega\": \"https://cdn.jsdelivr.net/npm//vega@5?noext\",\n",
       "      \"vega-lib\": \"https://cdn.jsdelivr.net/npm//vega-lib?noext\",\n",
       "      \"vega-lite\": \"https://cdn.jsdelivr.net/npm//vega-lite@4.8.1?noext\",\n",
       "      \"vega-embed\": \"https://cdn.jsdelivr.net/npm//vega-embed@6?noext\",\n",
       "    };\n",
       "\n",
       "    function loadScript(lib) {\n",
       "      return new Promise(function(resolve, reject) {\n",
       "        var s = document.createElement('script');\n",
       "        s.src = paths[lib];\n",
       "        s.async = true;\n",
       "        s.onload = () => resolve(paths[lib]);\n",
       "        s.onerror = () => reject(`Error loading script: ${paths[lib]}`);\n",
       "        document.getElementsByTagName(\"head\")[0].appendChild(s);\n",
       "      });\n",
       "    }\n",
       "\n",
       "    function showError(err) {\n",
       "      outputDiv.innerHTML = `<div class=\"error\" style=\"color:red;\">${err}</div>`;\n",
       "      throw err;\n",
       "    }\n",
       "\n",
       "    function displayChart(vegaEmbed) {\n",
       "      vegaEmbed(outputDiv, spec, embedOpt)\n",
       "        .catch(err => showError(`Javascript Error: ${err.message}<br>This usually means there's a typo in your chart specification. See the javascript console for the full traceback.`));\n",
       "    }\n",
       "\n",
       "    if(typeof define === \"function\" && define.amd) {\n",
       "      requirejs.config({paths});\n",
       "      require([\"vega-embed\"], displayChart, err => showError(`Error loading script: ${err.message}`));\n",
       "    } else if (typeof vegaEmbed === \"function\") {\n",
       "      displayChart(vegaEmbed);\n",
       "    } else {\n",
       "      loadScript(\"vega\")\n",
       "        .then(() => loadScript(\"vega-lite\"))\n",
       "        .then(() => loadScript(\"vega-embed\"))\n",
       "        .catch(showError)\n",
       "        .then(() => displayChart(vegaEmbed));\n",
       "    }\n",
       "  })({\"config\": {\"view\": {\"continuousWidth\": 400, \"continuousHeight\": 300}}, \"data\": {\"name\": \"data-380da96e4394cad6c82905646cd6a997\"}, \"mark\": \"bar\", \"encoding\": {\"column\": {\"type\": \"quantitative\", \"field\": \"nPts\"}, \"x\": {\"type\": \"nominal\", \"field\": \"nb_name\"}, \"y\": {\"type\": \"quantitative\", \"field\": \"time\"}}, \"$schema\": \"https://vega.github.io/schema/vega-lite/v4.8.1.json\", \"datasets\": {\"data-380da96e4394cad6c82905646cd6a997\": [{\"nb_name\": \"toy_o1o2.ipynb\", \"time\": 48.199455215, \"nPts\": 10000.0}, {\"nb_name\": \"toy.ipynb\", \"time\": 18.858951562000012, \"nPts\": 10000.0}, {\"nb_name\": \"toy_o1.ipynb\", \"time\": 50.412318358000014, \"nPts\": 10000.0}, {\"nb_name\": \"toy_o1o2o3.ipynb\", \"time\": 30.620000757, \"nPts\": 10000.0}, {\"nb_name\": \"toy_baseline.ipynb\", \"time\": 51.942859868, \"nPts\": 10000.0}, {\"nb_name\": \"toy_o1o2.ipynb\", \"time\": 41.527802949000005, \"nPts\": 21544.346900318822}, {\"nb_name\": \"toy.ipynb\", \"time\": 18.854051809999987, \"nPts\": 21544.346900318822}, {\"nb_name\": \"toy_o1.ipynb\", \"time\": 48.23086451800003, \"nPts\": 21544.346900318822}, {\"nb_name\": \"toy_o1o2o3.ipynb\", \"time\": 25.426498213999988, \"nPts\": 21544.346900318822}, {\"nb_name\": \"toy_baseline.ipynb\", \"time\": 52.10059204099996, \"nPts\": 21544.346900318822}, {\"nb_name\": \"toy_o1o2.ipynb\", \"time\": 39.93553473599997, \"nPts\": 46415.88833612782}, {\"nb_name\": \"toy.ipynb\", \"time\": 20.29705255800002, \"nPts\": 46415.88833612782}, {\"nb_name\": \"toy_o1.ipynb\", \"time\": 48.149830779000006, \"nPts\": 46415.88833612782}, {\"nb_name\": \"toy_o1o2o3.ipynb\", \"time\": 22.416086238000045, \"nPts\": 46415.88833612782}, {\"nb_name\": \"toy_baseline.ipynb\", \"time\": 49.67726301300002, \"nPts\": 46415.88833612782}, {\"nb_name\": \"toy_o1o2.ipynb\", \"time\": 40.852744281000014, \"nPts\": 100000.0}, {\"nb_name\": \"toy.ipynb\", \"time\": 20.224160102000038, \"nPts\": 100000.0}, {\"nb_name\": \"toy_o1.ipynb\", \"time\": 51.42895089400008, \"nPts\": 100000.0}, {\"nb_name\": \"toy_o1o2o3.ipynb\", \"time\": 23.393300071, \"nPts\": 100000.0}, {\"nb_name\": \"toy_baseline.ipynb\", \"time\": 54.10442242300008, \"nPts\": 100000.0}, {\"nb_name\": \"toy_o1o2.ipynb\", \"time\": 42.32994188599992, \"nPts\": 215443.46900318825}, {\"nb_name\": \"toy.ipynb\", \"time\": 20.278445774000033, \"nPts\": 215443.46900318825}, {\"nb_name\": \"toy_o1.ipynb\", \"time\": 64.04234328400004, \"nPts\": 215443.46900318825}, {\"nb_name\": \"toy_o1o2o3.ipynb\", \"time\": 26.410211258999997, \"nPts\": 215443.46900318825}, {\"nb_name\": \"toy_baseline.ipynb\", \"time\": 64.43618129499998, \"nPts\": 215443.46900318825}, {\"nb_name\": \"toy_o1o2.ipynb\", \"time\": 53.195752032000094, \"nPts\": 464158.88336127717}, {\"nb_name\": \"toy.ipynb\", \"time\": 22.736098516000084, \"nPts\": 464158.88336127717}, {\"nb_name\": \"toy_o1.ipynb\", \"time\": 76.54234171899999, \"nPts\": 464158.88336127717}, {\"nb_name\": \"toy_o1o2o3.ipynb\", \"time\": 30.348661566000146, \"nPts\": 464158.88336127717}, {\"nb_name\": \"toy_baseline.ipynb\", \"time\": 84.24166810500014, \"nPts\": 464158.88336127717}, {\"nb_name\": \"toy_o1o2.ipynb\", \"time\": 61.958586840999935, \"nPts\": 1000000.0}, {\"nb_name\": \"toy.ipynb\", \"time\": 22.219431514000007, \"nPts\": 1000000.0}, {\"nb_name\": \"toy_o1.ipynb\", \"time\": 110.01448929799993, \"nPts\": 1000000.0}, {\"nb_name\": \"toy_o1o2o3.ipynb\", \"time\": 38.30160549199991, \"nPts\": 1000000.0}, {\"nb_name\": \"toy_baseline.ipynb\", \"time\": 119.66031211899984, \"nPts\": 1000000.0}, {\"nb_name\": \"toy_o1o2.ipynb\", \"time\": 88.27545685700011, \"nPts\": 2154434.6900318824}, {\"nb_name\": \"toy.ipynb\", \"time\": 26.03026782400002, \"nPts\": 2154434.6900318824}, {\"nb_name\": \"toy_o1.ipynb\", \"time\": 163.97680327599986, \"nPts\": 2154434.6900318824}, {\"nb_name\": \"toy_o1o2o3.ipynb\", \"time\": 57.45592755899997, \"nPts\": 2154434.6900318824}, {\"nb_name\": \"toy_baseline.ipynb\", \"time\": 179.52923767799984, \"nPts\": 2154434.6900318824}, {\"nb_name\": \"toy_o1o2.ipynb\", \"time\": 156.56869389299982, \"nPts\": 4641588.833612774}, {\"nb_name\": \"toy.ipynb\", \"time\": 36.24984160299982, \"nPts\": 4641588.833612774}, {\"nb_name\": \"toy_o1.ipynb\", \"time\": 303.9145764230002, \"nPts\": 4641588.833612774}, {\"nb_name\": \"toy_o1o2o3.ipynb\", \"time\": 101.52218809899979, \"nPts\": 4641588.833612774}, {\"nb_name\": \"toy_baseline.ipynb\", \"time\": 333.5259682390001, \"nPts\": 4641588.833612774}, {\"nb_name\": \"toy_o1o2.ipynb\", \"time\": 292.907498607, \"nPts\": 10000000.0}, {\"nb_name\": \"toy.ipynb\", \"time\": 51.86282894199986, \"nPts\": 10000000.0}, {\"nb_name\": \"toy_o1.ipynb\", \"time\": 582.3059519139998, \"nPts\": 10000000.0}, {\"nb_name\": \"toy_o1o2o3.ipynb\", \"time\": 188.7769171240002, \"nPts\": 10000000.0}, {\"nb_name\": \"toy_baseline.ipynb\", \"time\": 626.755873995, \"nPts\": 10000000.0}]}}, {\"mode\": \"vega-lite\"});\n",
       "</script>"
      ],
      "text/plain": [
       "alt.Chart(...)"
      ]
     },
     "execution_count": 59,
     "metadata": {},
     "output_type": "execute_result"
    }
   ],
   "source": [
    "alt.Chart(df).mark_bar().encode(\n",
    "    x = \"nb_name\",\n",
    "    y = \"time\",\n",
    "    column=\"nPts\"\n",
    "    \n",
    ")"
   ]
  },
  {
   "cell_type": "code",
   "execution_count": null,
   "metadata": {},
   "outputs": [],
   "source": []
  }
 ],
 "metadata": {
  "kernelspec": {
   "display_name": "Python 3",
   "language": "python",
   "name": "python3"
  },
  "language_info": {
   "codemirror_mode": {
    "name": "ipython",
    "version": 3
   },
   "file_extension": ".py",
   "mimetype": "text/x-python",
   "name": "python",
   "nbconvert_exporter": "python",
   "pygments_lexer": "ipython3",
   "version": "3.7.7"
  }
 },
 "nbformat": 4,
 "nbformat_minor": 4
}
